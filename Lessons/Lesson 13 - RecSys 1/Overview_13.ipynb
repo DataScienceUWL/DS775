{
 "cells": [
  {
   "cell_type": "code",
   "execution_count": 1,
   "metadata": {
    "code_folding": [
     0
    ],
    "collapsed": false
   },
   "outputs": [
   ],
   "source": [
    "# execute to import notebook styling for tables and width etc.\n",
    "from IPython.core.display import HTML\n",
    "import urllib.request\n",
    "response = urllib.request.urlopen('https://raw.githubusercontent.com/DataScienceUWL/DS775v2/master/ds755.css')\n",
    "HTML(response.read().decode(\"utf-8\"));"
   ]
  },
  {
   "cell_type": "markdown",
   "metadata": {
    "collapsed": false
   },
   "source": [
    "<font size=18>Overview 13: Recommender Systems 1</font>"
   ]
  },
  {
   "cell_type": "markdown",
   "metadata": {
    "collapsed": false
   },
   "source": [
    "# Topics"
   ]
  },
  {
   "cell_type": "markdown",
   "metadata": {
    "collapsed": false
   },
   "source": [
    "* Ratings matrix\n",
    "* Types of recommender systems\n",
    "* Simple recommender systems \n",
    "* Knowledge-based recommender systems \n",
    "* Content-based recommender systems"
   ]
  },
  {
   "cell_type": "markdown",
   "metadata": {
    "collapsed": false
   },
   "source": [
    "# Learning Outcomes"
   ]
  },
  {
   "cell_type": "markdown",
   "metadata": {
    "collapsed": false
   },
   "source": [
    "The student will be able to:\n",
    "\n",
    "* identify the differences between user-based collaborative filters, item-based collaborative filters, simple recommenders, knowledge-based recommenders, content-based recommenders, and hybrid recommenders.\n",
    "* import, examine, and manipulate data using the Pandas library in Python.\n",
    "* build simple recommender systems.\n",
    "* build knowledge-based recommender systems.\n",
    "* build content-based recommender systems. "
   ]
  },
  {
   "cell_type": "markdown",
   "metadata": {
    "collapsed": false
   },
   "source": [
    "# Student \"To-Do\" Checklist"
   ]
  },
  {
   "cell_type": "markdown",
   "metadata": {
    "collapsed": false
   },
   "source": [
    "* Reading\n",
    "    - Read the Preface and Chapters 1-4 from the pdf book *Hands-on Recommendation Systems with Python* by Rounak Banik:\n",
    "        - Preface (pp. 24-34)\n",
    "        - Getting Started with Recommender Systems (Ch. 1, pp. 35-50)\n",
    "        - Manipulating Data with the Pandas Library (Ch. 2, pp. 51-66)\n",
    "        - Building an IMDB Top 250 Clone with Pandas (Ch. 3, pp. 67-84)\n",
    "        - Building Content-Based Recommenders (Ch. 4, pp. 85-112)\n",
    "    - Follow along with the Jupyter notebooks for each chapter (in Chapter_Notebooks folder)\n",
    "        - Chapter2.ipynb (Chapter 2)\n",
    "        - Simple Recommender.ipynb (Chapter 3)\n",
    "        - Knowledge Recommender.ipynb (Chapter 3)\n",
    "        - Content Based Recommenders.ipynb (Chapter 4)\n",
    "    \n",
    "* Work your way through the self assessments in the Jupyter notebook called Lesson_13.ipynb. Use the self-assessments to measure your understanding.\n",
    "\n",
    "\n",
    "* Complete the homework notebook in CoCalc and transfer your answers to the Canvas Quiz by the due date which is shown both in Canvas and CoCalc.\n",
    "\n",
    "Use Piazza to ask questions when you have them and be sure to check Piazza regularly so you don't miss out on any good Q & A or other discussions."
   ]
  },
  {
   "cell_type": "code",
   "execution_count": 0,
   "metadata": {
    "collapsed": false
   },
   "outputs": [
   ],
   "source": [
   ]
  }
 ],
 "metadata": {
  "kernelspec": {
   "display_name": "Python 3 (system-wide)",
   "language": "python",
   "metadata": {
    "cocalc": {
     "description": "Python 3 programming language",
     "priority": 100,
     "url": "https://www.python.org/"
    }
   },
   "name": "python3",
   "resource_dir": "/ext/jupyter/kernels/python3"
  },
  "language_info": {
   "codemirror_mode": {
    "name": "ipython",
    "version": 3
   },
   "file_extension": ".py",
   "mimetype": "text/x-python",
   "name": "python",
   "nbconvert_exporter": "python",
   "pygments_lexer": "ipython3",
   "version": "3.8.2"
  },
  "toc": {
   "base_numbering": 1,
   "nav_menu": {
   },
   "number_sections": true,
   "sideBar": true,
   "skip_h1_title": false,
   "title_cell": "Table of Contents",
   "title_sidebar": "Contents",
   "toc_cell": false,
   "toc_position": {
    "height": "calc(100% - 180px)",
    "left": "10px",
    "top": "150px",
    "width": "260.517px"
   },
   "toc_section_display": true,
   "toc_window_display": true
  }
 },
 "nbformat": 4,
 "nbformat_minor": 4
}