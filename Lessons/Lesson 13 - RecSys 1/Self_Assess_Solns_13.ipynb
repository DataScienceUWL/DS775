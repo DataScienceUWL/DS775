{
 "cells": [
  {
   "cell_type": "code",
   "execution_count": 1,
   "metadata": {
    "code_folding": [
     0
    ],
    "collapsed": false
   },
   "outputs": [
    {
     "name": "stderr",
     "output_type": "stream",
     "text": [
      "[nltk_data] Downloading package averaged_perceptron_tagger to\n",
      "[nltk_data]     /home/user/nltk_data...\n",
      "[nltk_data]   Package averaged_perceptron_tagger is already up-to-\n",
      "[nltk_data]       date!\n"
     ]
    }
   ],
   "source": [
    "# EXECUTE FIRST\n",
    "\n",
    "# computational imports\n",
    "import numpy as np\n",
    "import pandas as pd\n",
    "from ast import literal_eval\n",
    "from sklearn.feature_extraction.text import CountVectorizer\n",
    "from sklearn.metrics.pairwise import cosine_similarity\n",
    "from sklearn.feature_extraction.text import TfidfVectorizer\n",
    "from sklearn.metrics.pairwise import linear_kernel\n",
    "import nltk\n",
    "from nltk.tokenize import sent_tokenize\n",
    "from nltk import word_tokenize    \n",
    "nltk.download('averaged_perceptron_tagger')\n",
    "from sklearn.feature_extraction import text\n",
    "from nltk.stem import WordNetLemmatizer \n",
    "from nltk.corpus import wordnet as wn\n",
    "import string\n",
    "\n",
    "# plotting imports\n",
    "import matplotlib.pyplot as plt\n",
    "import seaborn as sns\n",
    "sns.set_style(\"darkgrid\")\n",
    "from scipy.spatial import distance\n",
    "# for reading files from urls\n",
    "import urllib.request\n",
    "# display imports\n",
    "from IPython.display import display, IFrame\n",
    "from IPython.core.display import HTML\n"
   ]
  },
  {
   "cell_type": "markdown",
   "metadata": {
    "collapsed": false
   },
   "source": [
    "# Lesson 13 - Self-Assessment Solutions\n",
    "\n",
    "# *Self-Assessment: Modularize Fetching Unique Items*"
   ]
  },
  {
   "cell_type": "code",
   "execution_count": 2,
   "metadata": {
    "collapsed": false
   },
   "outputs": [
    {
     "data": {
      "text/html": [
       "<div>\n",
       "<style scoped>\n",
       "    .dataframe tbody tr th:only-of-type {\n",
       "        vertical-align: middle;\n",
       "    }\n",
       "\n",
       "    .dataframe tbody tr th {\n",
       "        vertical-align: top;\n",
       "    }\n",
       "\n",
       "    .dataframe thead th {\n",
       "        text-align: right;\n",
       "    }\n",
       "</style>\n",
       "<table border=\"1\" class=\"dataframe\">\n",
       "  <thead>\n",
       "    <tr style=\"text-align: right;\">\n",
       "      <th></th>\n",
       "      <th>Food</th>\n",
       "      <th>Flavors</th>\n",
       "    </tr>\n",
       "  </thead>\n",
       "  <tbody>\n",
       "    <tr>\n",
       "      <th>0</th>\n",
       "      <td>Cake</td>\n",
       "      <td>[Chocolate, Vanilla, Marble]</td>\n",
       "    </tr>\n",
       "    <tr>\n",
       "      <th>1</th>\n",
       "      <td>Pie</td>\n",
       "      <td>[Apple, Chocolate, Cherry]</td>\n",
       "    </tr>\n",
       "    <tr>\n",
       "      <th>2</th>\n",
       "      <td>Ice Cream</td>\n",
       "      <td>[Vanilla, Cherry, Mint]</td>\n",
       "    </tr>\n",
       "  </tbody>\n",
       "</table>\n",
       "</div>"
      ],
      "text/plain": [
       "        Food                       Flavors\n",
       "0       Cake  [Chocolate, Vanilla, Marble]\n",
       "1        Pie    [Apple, Chocolate, Cherry]\n",
       "2  Ice Cream       [Vanilla, Cherry, Mint]"
      ]
     },
     "execution_count": 2,
     "metadata": {
     },
     "output_type": "execute_result"
    },
    {
     "name": "stdout",
     "output_type": "stream",
     "text": [
      "The sorted string list is: Apple, Cherry, Chocolate, Marble, Mint, Vanilla\n",
      "The unsorted array is: ['Chocolate' 'Vanilla' 'Marble' 'Apple' 'Cherry' 'Mint']\n"
     ]
    }
   ],
   "source": [
    "\n",
    "#this is a test dataframe to use\n",
    "sa1_df = pd.DataFrame({\n",
    "        'Food': ['Cake', 'Pie', 'Ice Cream'],\n",
    "        'Flavors': [['Chocolate','Vanilla', 'Marble'], ['Apple', 'Chocolate', 'Cherry'], ['Vanilla', 'Cherry', 'Mint']]\n",
    "    })\n",
    "display(sa1_df)\n",
    "\n",
    "def getUniqueListFromColumn(df, col, returntype = 'string', sort=True):\n",
    "      \n",
    "    #stack everything and get the unique values\n",
    "    stacked = df.apply(lambda x:pd.Series(x[col], dtype='object'),axis=1).stack().unique()\n",
    "    \n",
    "    #if the user wants it sorted, sort it\n",
    "    if sort:\n",
    "        stacked = np.sort(stacked)\n",
    "    \n",
    "    #if the user wants a string back, join to give a string\n",
    "    if returntype == 'string':\n",
    "         stacked = ', '.join(stacked)\n",
    "    \n",
    "    return stacked\n",
    "\n",
    "print(f\"The sorted string list is: {getUniqueListFromColumn(sa1_df, 'Flavors', 'string', True)}\")\n",
    "print(f\"The unsorted array is: {getUniqueListFromColumn(sa1_df, 'Flavors', 'array', False)}\")\n"
   ]
  },
  {
   "cell_type": "markdown",
   "metadata": {
    "collapsed": false
   },
   "source": [
    "# *Self-Assessment: Load and Display - Solution*\n",
    "\n",
    "There's nothing too new here. You've done this kind of work before. What's more important here than the code is making sure you take a minute or two to understand the data you're pulling in. What columns do you have available to you? Which columns contain simple values and which columns contain lists. Think about how you could or couldn't use this data to make recommendations."
   ]
  },
  {
   "cell_type": "code",
   "execution_count": 3,
   "metadata": {
    "collapsed": false
   },
   "outputs": [
    {
     "data": {
      "text/html": [
       "<div>\n",
       "<style scoped>\n",
       "    .dataframe tbody tr th:only-of-type {\n",
       "        vertical-align: middle;\n",
       "    }\n",
       "\n",
       "    .dataframe tbody tr th {\n",
       "        vertical-align: top;\n",
       "    }\n",
       "\n",
       "    .dataframe thead th {\n",
       "        text-align: right;\n",
       "    }\n",
       "</style>\n",
       "<table border=\"1\" class=\"dataframe\">\n",
       "  <thead>\n",
       "    <tr style=\"text-align: right;\">\n",
       "      <th></th>\n",
       "      <th>comments</th>\n",
       "      <th>description</th>\n",
       "      <th>duration</th>\n",
       "      <th>event</th>\n",
       "      <th>film_date</th>\n",
       "      <th>languages</th>\n",
       "      <th>main_speaker</th>\n",
       "      <th>name</th>\n",
       "      <th>num_speaker</th>\n",
       "      <th>published_date</th>\n",
       "      <th>ratings</th>\n",
       "      <th>related_talks</th>\n",
       "      <th>speaker_occupation</th>\n",
       "      <th>tags</th>\n",
       "      <th>title</th>\n",
       "      <th>url</th>\n",
       "      <th>views</th>\n",
       "      <th>published_year</th>\n",
       "    </tr>\n",
       "  </thead>\n",
       "  <tbody>\n",
       "    <tr>\n",
       "      <th>0</th>\n",
       "      <td>4553</td>\n",
       "      <td>Sir Ken Robinson makes an entertaining and pro...</td>\n",
       "      <td>1164</td>\n",
       "      <td>TED2006</td>\n",
       "      <td>1140825600</td>\n",
       "      <td>60</td>\n",
       "      <td>Ken Robinson</td>\n",
       "      <td>Ken Robinson: Do schools kill creativity?</td>\n",
       "      <td>1</td>\n",
       "      <td>2006-06-27 00:11:00</td>\n",
       "      <td>[funny, beautiful, ingenious, courageous, long...</td>\n",
       "      <td>[{'id': 865, 'hero': 'https://pe.tedcdn.com/im...</td>\n",
       "      <td>Author/educator</td>\n",
       "      <td>['children', 'creativity', 'culture', 'dance',...</td>\n",
       "      <td>Do schools kill creativity?</td>\n",
       "      <td>https://www.ted.com/talks/ken_robinson_says_sc...</td>\n",
       "      <td>47227110</td>\n",
       "      <td>2006</td>\n",
       "    </tr>\n",
       "    <tr>\n",
       "      <th>1</th>\n",
       "      <td>265</td>\n",
       "      <td>With the same humor and humanity he exuded in ...</td>\n",
       "      <td>977</td>\n",
       "      <td>TED2006</td>\n",
       "      <td>1140825600</td>\n",
       "      <td>43</td>\n",
       "      <td>Al Gore</td>\n",
       "      <td>Al Gore: Averting the climate crisis</td>\n",
       "      <td>1</td>\n",
       "      <td>2006-06-27 00:11:00</td>\n",
       "      <td>[funny, courageous, confusing, beautiful, unco...</td>\n",
       "      <td>[{'id': 243, 'hero': 'https://pe.tedcdn.com/im...</td>\n",
       "      <td>Climate advocate</td>\n",
       "      <td>['alternative energy', 'cars', 'climate change...</td>\n",
       "      <td>Averting the climate crisis</td>\n",
       "      <td>https://www.ted.com/talks/al_gore_on_averting_...</td>\n",
       "      <td>3200520</td>\n",
       "      <td>2006</td>\n",
       "    </tr>\n",
       "    <tr>\n",
       "      <th>2</th>\n",
       "      <td>124</td>\n",
       "      <td>New York Times columnist David Pogue takes aim...</td>\n",
       "      <td>1286</td>\n",
       "      <td>TED2006</td>\n",
       "      <td>1140739200</td>\n",
       "      <td>26</td>\n",
       "      <td>David Pogue</td>\n",
       "      <td>David Pogue: Simplicity sells</td>\n",
       "      <td>1</td>\n",
       "      <td>2006-06-27 00:11:00</td>\n",
       "      <td>[funny, courageous, ingenious, beautiful, unco...</td>\n",
       "      <td>[{'id': 1725, 'hero': 'https://pe.tedcdn.com/i...</td>\n",
       "      <td>Technology columnist</td>\n",
       "      <td>['computers', 'entertainment', 'interface desi...</td>\n",
       "      <td>Simplicity sells</td>\n",
       "      <td>https://www.ted.com/talks/david_pogue_says_sim...</td>\n",
       "      <td>1636292</td>\n",
       "      <td>2006</td>\n",
       "    </tr>\n",
       "    <tr>\n",
       "      <th>3</th>\n",
       "      <td>200</td>\n",
       "      <td>In an emotionally charged talk, MacArthur-winn...</td>\n",
       "      <td>1116</td>\n",
       "      <td>TED2006</td>\n",
       "      <td>1140912000</td>\n",
       "      <td>35</td>\n",
       "      <td>Majora Carter</td>\n",
       "      <td>Majora Carter: Greening the ghetto</td>\n",
       "      <td>1</td>\n",
       "      <td>2006-06-27 00:11:00</td>\n",
       "      <td>[courageous, beautiful, confusing, funny, inge...</td>\n",
       "      <td>[{'id': 1041, 'hero': 'https://pe.tedcdn.com/i...</td>\n",
       "      <td>Activist for environmental justice</td>\n",
       "      <td>['MacArthur grant', 'activism', 'business', 'c...</td>\n",
       "      <td>Greening the ghetto</td>\n",
       "      <td>https://www.ted.com/talks/majora_carter_s_tale...</td>\n",
       "      <td>1697550</td>\n",
       "      <td>2006</td>\n",
       "    </tr>\n",
       "    <tr>\n",
       "      <th>4</th>\n",
       "      <td>593</td>\n",
       "      <td>You've never seen data presented like this. Wi...</td>\n",
       "      <td>1190</td>\n",
       "      <td>TED2006</td>\n",
       "      <td>1140566400</td>\n",
       "      <td>48</td>\n",
       "      <td>Hans Rosling</td>\n",
       "      <td>Hans Rosling: The best stats you've ever seen</td>\n",
       "      <td>1</td>\n",
       "      <td>2006-06-27 20:38:00</td>\n",
       "      <td>[ingenious, funny, beautiful, courageous, long...</td>\n",
       "      <td>[{'id': 2056, 'hero': 'https://pe.tedcdn.com/i...</td>\n",
       "      <td>Global health expert; data visionary</td>\n",
       "      <td>['Africa', 'Asia', 'Google', 'demo', 'economic...</td>\n",
       "      <td>The best stats you've ever seen</td>\n",
       "      <td>https://www.ted.com/talks/hans_rosling_shows_t...</td>\n",
       "      <td>12005869</td>\n",
       "      <td>2006</td>\n",
       "    </tr>\n",
       "  </tbody>\n",
       "</table>\n",
       "</div>"
      ],
      "text/plain": [
       "   comments                                        description  duration  \\\n",
       "0      4553  Sir Ken Robinson makes an entertaining and pro...      1164   \n",
       "1       265  With the same humor and humanity he exuded in ...       977   \n",
       "2       124  New York Times columnist David Pogue takes aim...      1286   \n",
       "3       200  In an emotionally charged talk, MacArthur-winn...      1116   \n",
       "4       593  You've never seen data presented like this. Wi...      1190   \n",
       "\n",
       "     event   film_date  languages   main_speaker  \\\n",
       "0  TED2006  1140825600         60   Ken Robinson   \n",
       "1  TED2006  1140825600         43        Al Gore   \n",
       "2  TED2006  1140739200         26    David Pogue   \n",
       "3  TED2006  1140912000         35  Majora Carter   \n",
       "4  TED2006  1140566400         48   Hans Rosling   \n",
       "\n",
       "                                            name  num_speaker  \\\n",
       "0      Ken Robinson: Do schools kill creativity?            1   \n",
       "1           Al Gore: Averting the climate crisis            1   \n",
       "2                  David Pogue: Simplicity sells            1   \n",
       "3             Majora Carter: Greening the ghetto            1   \n",
       "4  Hans Rosling: The best stats you've ever seen            1   \n",
       "\n",
       "        published_date                                            ratings  \\\n",
       "0  2006-06-27 00:11:00  [funny, beautiful, ingenious, courageous, long...   \n",
       "1  2006-06-27 00:11:00  [funny, courageous, confusing, beautiful, unco...   \n",
       "2  2006-06-27 00:11:00  [funny, courageous, ingenious, beautiful, unco...   \n",
       "3  2006-06-27 00:11:00  [courageous, beautiful, confusing, funny, inge...   \n",
       "4  2006-06-27 20:38:00  [ingenious, funny, beautiful, courageous, long...   \n",
       "\n",
       "                                       related_talks  \\\n",
       "0  [{'id': 865, 'hero': 'https://pe.tedcdn.com/im...   \n",
       "1  [{'id': 243, 'hero': 'https://pe.tedcdn.com/im...   \n",
       "2  [{'id': 1725, 'hero': 'https://pe.tedcdn.com/i...   \n",
       "3  [{'id': 1041, 'hero': 'https://pe.tedcdn.com/i...   \n",
       "4  [{'id': 2056, 'hero': 'https://pe.tedcdn.com/i...   \n",
       "\n",
       "                     speaker_occupation  \\\n",
       "0                       Author/educator   \n",
       "1                      Climate advocate   \n",
       "2                  Technology columnist   \n",
       "3    Activist for environmental justice   \n",
       "4  Global health expert; data visionary   \n",
       "\n",
       "                                                tags  \\\n",
       "0  ['children', 'creativity', 'culture', 'dance',...   \n",
       "1  ['alternative energy', 'cars', 'climate change...   \n",
       "2  ['computers', 'entertainment', 'interface desi...   \n",
       "3  ['MacArthur grant', 'activism', 'business', 'c...   \n",
       "4  ['Africa', 'Asia', 'Google', 'demo', 'economic...   \n",
       "\n",
       "                             title  \\\n",
       "0      Do schools kill creativity?   \n",
       "1      Averting the climate crisis   \n",
       "2                 Simplicity sells   \n",
       "3              Greening the ghetto   \n",
       "4  The best stats you've ever seen   \n",
       "\n",
       "                                                 url     views  published_year  \n",
       "0  https://www.ted.com/talks/ken_robinson_says_sc...  47227110            2006  \n",
       "1  https://www.ted.com/talks/al_gore_on_averting_...   3200520            2006  \n",
       "2  https://www.ted.com/talks/david_pogue_says_sim...   1636292            2006  \n",
       "3  https://www.ted.com/talks/majora_carter_s_tale...   1697550            2006  \n",
       "4  https://www.ted.com/talks/hans_rosling_shows_t...  12005869            2006  "
      ]
     },
     "execution_count": 3,
     "metadata": {
     },
     "output_type": "execute_result"
    }
   ],
   "source": [
    "import pandas as pd\n",
    "import numpy as np\n",
    "from ast import literal_eval\n",
    "\n",
    "ted = pd.read_csv('./data/ted_clean.csv')\n",
    "#we need ratings to be literally evaluated before using it\n",
    "ted['ratings'] = ted['ratings'].apply(literal_eval)\n",
    "ted.head()"
   ]
  },
  {
   "cell_type": "markdown",
   "metadata": {
    "collapsed": false
   },
   "source": [
    "# *Self-Assessment: Pandas - Solution*\n",
    "Remember that shape gives you the number of rows first, followed by the number of columns."
   ]
  },
  {
   "cell_type": "code",
   "execution_count": 4,
   "metadata": {
    "collapsed": false
   },
   "outputs": [
    {
     "data": {
      "text/plain": [
       "(2550, 18)"
      ]
     },
     "execution_count": 4,
     "metadata": {
     },
     "output_type": "execute_result"
    }
   ],
   "source": [
    "ted.shape"
   ]
  },
  {
   "cell_type": "markdown",
   "metadata": {
    "collapsed": false
   },
   "source": [
    "There are 2550 TED talks in this data frame."
   ]
  },
  {
   "cell_type": "markdown",
   "metadata": {
    "collapsed": false
   },
   "source": [
    "# *Self-Assessment: Prerequisites - Solution*\n",
    "\n",
    "Remember that when you're calculating the quantile for some piece of data, you'll get different results if you calculate it before or after you do your other subsetting. First, let's calculate the views quantile before we figure the rest of our prerequisites."
   ]
  },
  {
   "cell_type": "code",
   "execution_count": 5,
   "metadata": {
    "collapsed": false
   },
   "outputs": [
    {
     "data": {
      "text/plain": [
       "2107"
      ]
     },
     "execution_count": 5,
     "metadata": {
     },
     "output_type": "execute_result"
    }
   ],
   "source": [
    "#Calculate the number of views for the 10th percentile - calculated from the whole dataframe\n",
    "m = ted['views'].quantile(0.10)\n",
    "\n",
    "#Only consider talks of at least 5 minutes\n",
    "q_talks = ted[(ted['duration'] >= 300)]\n",
    "\n",
    "#Only consider talks with one speaker\n",
    "q_talks = q_talks[q_talks['num_speaker']==1]\n",
    "\n",
    "#Only consider talks in the top 90%\n",
    "q_talks = q_talks[q_talks['views'] >= m]\n",
    "\n",
    "#Inspect the number of talks that made the cut\n",
    "q_talks.shape[0]"
   ]
  },
  {
   "cell_type": "markdown",
   "metadata": {
    "collapsed": false
   },
   "source": [
    "Let's compare that with calculating the quantile after we subset."
   ]
  },
  {
   "cell_type": "code",
   "execution_count": 6,
   "metadata": {
    "collapsed": false
   },
   "outputs": [
    {
     "data": {
      "text/plain": [
       "2093"
      ]
     },
     "execution_count": 6,
     "metadata": {
     },
     "output_type": "execute_result"
    }
   ],
   "source": [
    "#Only consider talks of at least 5 minutes\n",
    "q_talks2 = ted[(ted['duration'] >= 300)]\n",
    "\n",
    "#Only consider talks with one speaker\n",
    "q_talks2 = q_talks2[q_talks2['num_speaker']==1]\n",
    "\n",
    "#Calculate the number of views for the 10th percentile - calculated from the whole dataframe\n",
    "m2 = q_talks2['views'].quantile(0.10)\n",
    "\n",
    "#Only consider talks in the top 90%\n",
    "q_talks2 = q_talks2[q_talks2['views'] >= m2]\n",
    "\n",
    "#Inspect the number of talks that made the cut\n",
    "q_talks2.shape[0]"
   ]
  },
  {
   "cell_type": "markdown",
   "metadata": {
    "collapsed": false
   },
   "source": [
    "There is no universally \"right\" answer as to whether you should calculate the quantile before or after you've narrowed the initial dataset. It depends on what you're trying to accomplish. If you want the most viewed talks *that meet your criteria* you'd calculate it after you've subsetted. If you want the most viewed talks *overall* you'd calculate it before you've subsetted.\n",
    "\n",
    "For our homework, we'll either tell you when to subset a dataframe or ask you to make the decision and give a justification for your decision."
   ]
  },
  {
   "cell_type": "markdown",
   "metadata": {
    "collapsed": false
   },
   "source": [
    "# *Self-Assessment: Compute a Metric, Sort and Print - Solution*\n",
    "\n",
    "Note that here we are computing our metric on our narrowed data set. We could have created the metric on the entire dataset. But, if we know that we're only interested in a portion of the talks, we should narrow our dataset before computing the metric."
   ]
  },
  {
   "cell_type": "code",
   "execution_count": 7,
   "metadata": {
    "collapsed": false
   },
   "outputs": [
    {
     "data": {
      "text/html": [
       "<div>\n",
       "<style scoped>\n",
       "    .dataframe tbody tr th:only-of-type {\n",
       "        vertical-align: middle;\n",
       "    }\n",
       "\n",
       "    .dataframe tbody tr th {\n",
       "        vertical-align: top;\n",
       "    }\n",
       "\n",
       "    .dataframe thead th {\n",
       "        text-align: right;\n",
       "    }\n",
       "</style>\n",
       "<table border=\"1\" class=\"dataframe\">\n",
       "  <thead>\n",
       "    <tr style=\"text-align: right;\">\n",
       "      <th></th>\n",
       "      <th>description</th>\n",
       "      <th>main_speaker</th>\n",
       "      <th>comments_per_1000views</th>\n",
       "    </tr>\n",
       "  </thead>\n",
       "  <tbody>\n",
       "    <tr>\n",
       "      <th>803</th>\n",
       "      <td>David Bismark demos a new system for voting th...</td>\n",
       "      <td>David Bismark</td>\n",
       "      <td>1.534355</td>\n",
       "    </tr>\n",
       "    <tr>\n",
       "      <th>96</th>\n",
       "      <td>Richard Dawkins urges all atheists to openly s...</td>\n",
       "      <td>Richard Dawkins</td>\n",
       "      <td>1.463841</td>\n",
       "    </tr>\n",
       "    <tr>\n",
       "      <th>694</th>\n",
       "      <td>Filmmaker Sharmeen Obaid-Chinoy takes on a ter...</td>\n",
       "      <td>Sharmeen Obaid-Chinoy</td>\n",
       "      <td>1.420683</td>\n",
       "    </tr>\n",
       "    <tr>\n",
       "      <th>954</th>\n",
       "      <td>Janet Echelman found her true voice as an arti...</td>\n",
       "      <td>Janet Echelman</td>\n",
       "      <td>1.359572</td>\n",
       "    </tr>\n",
       "    <tr>\n",
       "      <th>840</th>\n",
       "      <td>Lesley Hazleton sat down one day to read the K...</td>\n",
       "      <td>Lesley Hazleton</td>\n",
       "      <td>1.285149</td>\n",
       "    </tr>\n",
       "    <tr>\n",
       "      <th>1787</th>\n",
       "      <td>Our consciousness is a fundamental aspect of o...</td>\n",
       "      <td>David Chalmers</td>\n",
       "      <td>1.235918</td>\n",
       "    </tr>\n",
       "    <tr>\n",
       "      <th>661</th>\n",
       "      <td>Vaccine-autism claims, \"Frankenfood\" bans, the...</td>\n",
       "      <td>Michael Specter</td>\n",
       "      <td>1.235704</td>\n",
       "    </tr>\n",
       "    <tr>\n",
       "      <th>443</th>\n",
       "      <td>At TED2009, Al Gore presents updated slides fr...</td>\n",
       "      <td>Al Gore</td>\n",
       "      <td>1.091008</td>\n",
       "    </tr>\n",
       "    <tr>\n",
       "      <th>732</th>\n",
       "      <td>In \"THE 99,\" Naif Al-Mutawa's new generation o...</td>\n",
       "      <td>Naif Al-Mutawa</td>\n",
       "      <td>0.981252</td>\n",
       "    </tr>\n",
       "    <tr>\n",
       "      <th>1148</th>\n",
       "      <td>What does environmental devastation actually l...</td>\n",
       "      <td>Garth Lenz</td>\n",
       "      <td>0.977574</td>\n",
       "    </tr>\n",
       "  </tbody>\n",
       "</table>\n",
       "</div>"
      ],
      "text/plain": [
       "                                            description  \\\n",
       "803   David Bismark demos a new system for voting th...   \n",
       "96    Richard Dawkins urges all atheists to openly s...   \n",
       "694   Filmmaker Sharmeen Obaid-Chinoy takes on a ter...   \n",
       "954   Janet Echelman found her true voice as an arti...   \n",
       "840   Lesley Hazleton sat down one day to read the K...   \n",
       "1787  Our consciousness is a fundamental aspect of o...   \n",
       "661   Vaccine-autism claims, \"Frankenfood\" bans, the...   \n",
       "443   At TED2009, Al Gore presents updated slides fr...   \n",
       "732   In \"THE 99,\" Naif Al-Mutawa's new generation o...   \n",
       "1148  What does environmental devastation actually l...   \n",
       "\n",
       "               main_speaker  comments_per_1000views  \n",
       "803           David Bismark                1.534355  \n",
       "96          Richard Dawkins                1.463841  \n",
       "694   Sharmeen Obaid-Chinoy                1.420683  \n",
       "954          Janet Echelman                1.359572  \n",
       "840         Lesley Hazleton                1.285149  \n",
       "1787         David Chalmers                1.235918  \n",
       "661         Michael Specter                1.235704  \n",
       "443                 Al Gore                1.091008  \n",
       "732          Naif Al-Mutawa                0.981252  \n",
       "1148             Garth Lenz                0.977574  "
      ]
     },
     "execution_count": 7,
     "metadata": {
     },
     "output_type": "execute_result"
    }
   ],
   "source": [
    "#create the metric of the comments to views ratio\n",
    "q_talks['comments_per_1000views']=1000*q_talks['comments']/q_talks['views']\n",
    "\n",
    "#Sort talks in descending order of the ratio of views to comments\n",
    "q_talks = q_talks.sort_values('comments_per_1000views', ascending=False)\n",
    "\n",
    "#Print the top 10 talks\n",
    "q_talks[['description', 'main_speaker', 'comments_per_1000views']].head(10)\n"
   ]
  },
  {
   "cell_type": "markdown",
   "metadata": {
    "collapsed": false
   },
   "source": [
    "# *Self-Assessment: Create the Knowledge-Based Recommender - Solution*\n",
    "\n",
    "We're creating this as a function that takes in the dataframe and the percentile of views that we want to return. \n",
    "We'll first generate our list of unique words to present to users. We'll also stringify our list of ratings so we can use str.contains to filter."
   ]
  },
  {
   "cell_type": "code",
   "execution_count": 8,
   "metadata": {
    "collapsed": false
   },
   "outputs": [
   ],
   "source": [
    "def build_chart(gen_ted, percentile=0.1):\n",
    "   \n",
    "    #Ask for preferred word rating\n",
    "    print(\"Select a descriptive word from the list above for the 'word rating'\")\n",
    "    rating = input()\n",
    "    \n",
    "    #Ask for lower limit of film year\n",
    "    print(\"Input earliest year published (2006 to 2017)\")\n",
    "    low_year = int(input())\n",
    "    \n",
    "    #Ask for upper limit of film year\n",
    "    print(\"Input latest year published(2006 to 2017)\")\n",
    "    high_year = int(input())\n",
    "    \n",
    "    \n",
    "    #Define a new talks variable to store the preferred talks. \n",
    "    #Copy the contents of gen_ted to talks\n",
    "    talks = gen_ted.copy()\n",
    "    \n",
    "    #Filter based on the condition\n",
    "    talks = talks[(talks['ratings'].apply(lambda x: rating in x)) & \n",
    "                    (talks['published_year'] >= low_year) & \n",
    "                    (talks['published_year'] <= high_year)]\n",
    "    \n",
    "    #Calculate the number of views for the  percentile \n",
    "    m = talks['views'].quantile(percentile)\n",
    "\n",
    "    #Only consider movies that have higher than m votes. Save this in a new dataframe q_movies (note using .loc here prevents a warning)\n",
    "    q_talks = talks.copy().loc[talks['views'] >= m]\n",
    "    \n",
    "    #create the metric of the comments to views ratio\n",
    "    q_talks['comments_per_1000views']=1000*q_talks['comments']/q_talks['views']\n",
    "\n",
    "    #Sort talks in descending order of the ratio of views to comments\n",
    "    q_talks = q_talks.sort_values('comments_per_1000views', ascending=False)\n",
    "    \n",
    "    return q_talks"
   ]
  },
  {
   "cell_type": "code",
   "execution_count": 9,
   "metadata": {
    "cocalc": {
     "outputs": {
      "1": {
       "name": "input",
       "opts": {
        "password": false,
        "prompt": ""
       },
       "output_type": "stream",
       "value": "confusing"
      },
      "2": {
       "name": "input",
       "opts": {
        "password": false,
        "prompt": ""
       },
       "output_type": "stream"
      },
      "3": {
       "name": "input",
       "opts": {
        "password": false,
        "prompt": ""
       },
       "output_type": "stream",
       "value": "2010"
      },
      "5": {
       "name": "input",
       "opts": {
        "password": false,
        "prompt": ""
       },
       "output_type": "stream",
       "value": "2016"
      }
     }
    },
    "collapsed": false,
    "scrolled": true
   },
   "outputs": [
    {
     "name": "stdout",
     "output_type": "stream",
     "text": [
      "Please select a rating from the following: beautiful, confusing, courageous, fascinating, funny, informative, ingenious, inspiring, jaw-dropping, longwinded, obnoxious, ok, persuasive, unconvincing\n",
      "Select a descriptive word from the list above for the 'word rating'\n"
     ]
    },
    {
     "name": "stdout",
     "output_type": "stream",
     "text": " confusing"
    },
    {
     "name": "stdout",
     "output_type": "stream",
     "text": [
      "Input earliest year published (2006 to 2017)\n"
     ]
    },
    {
     "name": "stdout",
     "output_type": "stream",
     "text": " 2010"
    },
    {
     "name": "stdout",
     "output_type": "stream",
     "text": [
      "Input latest year published(2006 to 2017)\n"
     ]
    },
    {
     "name": "stdout",
     "output_type": "stream",
     "text": " 2016"
    },
    {
     "data": {
      "text/html": [
       "<div>\n",
       "<style scoped>\n",
       "    .dataframe tbody tr th:only-of-type {\n",
       "        vertical-align: middle;\n",
       "    }\n",
       "\n",
       "    .dataframe tbody tr th {\n",
       "        vertical-align: top;\n",
       "    }\n",
       "\n",
       "    .dataframe thead th {\n",
       "        text-align: right;\n",
       "    }\n",
       "</style>\n",
       "<table border=\"1\" class=\"dataframe\">\n",
       "  <thead>\n",
       "    <tr style=\"text-align: right;\">\n",
       "      <th></th>\n",
       "      <th>main_speaker</th>\n",
       "      <th>name</th>\n",
       "      <th>published_year</th>\n",
       "      <th>comments_per_1000views</th>\n",
       "    </tr>\n",
       "  </thead>\n",
       "  <tbody>\n",
       "    <tr>\n",
       "      <th>694</th>\n",
       "      <td>Sharmeen Obaid-Chinoy</td>\n",
       "      <td>Sharmeen Obaid-Chinoy: Inside a school for sui...</td>\n",
       "      <td>2010</td>\n",
       "      <td>1.420683</td>\n",
       "    </tr>\n",
       "    <tr>\n",
       "      <th>954</th>\n",
       "      <td>Janet Echelman</td>\n",
       "      <td>Janet Echelman: Taking imagination seriously</td>\n",
       "      <td>2011</td>\n",
       "      <td>1.359572</td>\n",
       "    </tr>\n",
       "    <tr>\n",
       "      <th>840</th>\n",
       "      <td>Lesley Hazleton</td>\n",
       "      <td>Lesley Hazleton: On reading the Koran</td>\n",
       "      <td>2011</td>\n",
       "      <td>1.285149</td>\n",
       "    </tr>\n",
       "    <tr>\n",
       "      <th>1787</th>\n",
       "      <td>David Chalmers</td>\n",
       "      <td>David Chalmers: How do you explain consciousness?</td>\n",
       "      <td>2014</td>\n",
       "      <td>1.235918</td>\n",
       "    </tr>\n",
       "    <tr>\n",
       "      <th>661</th>\n",
       "      <td>Michael Specter</td>\n",
       "      <td>Michael Specter: The danger of science denial</td>\n",
       "      <td>2010</td>\n",
       "      <td>1.235704</td>\n",
       "    </tr>\n",
       "  </tbody>\n",
       "</table>\n",
       "</div>"
      ],
      "text/plain": [
       "               main_speaker  \\\n",
       "694   Sharmeen Obaid-Chinoy   \n",
       "954          Janet Echelman   \n",
       "840         Lesley Hazleton   \n",
       "1787         David Chalmers   \n",
       "661         Michael Specter   \n",
       "\n",
       "                                                   name  published_year  \\\n",
       "694   Sharmeen Obaid-Chinoy: Inside a school for sui...            2010   \n",
       "954        Janet Echelman: Taking imagination seriously            2011   \n",
       "840               Lesley Hazleton: On reading the Koran            2011   \n",
       "1787  David Chalmers: How do you explain consciousness?            2014   \n",
       "661       Michael Specter: The danger of science denial            2010   \n",
       "\n",
       "      comments_per_1000views  \n",
       "694                 1.420683  \n",
       "954                 1.359572  \n",
       "840                 1.285149  \n",
       "1787                1.235918  \n",
       "661                 1.235704  "
      ]
     },
     "execution_count": 9,
     "metadata": {
     },
     "output_type": "execute_result"
    }
   ],
   "source": [
    "#First we'll print a list of possible ratings\n",
    "r = getUniqueListFromColumn(ted, 'ratings', 'string', True)\n",
    "print(f'Please select a rating from the following: {r}')\n",
    "\n",
    "#Generate the chart for top talks for these user preferences and display top 5.\n",
    "#Show the results for the word rating \"obnoxious\" and published years between 2009 and 2014.\n",
    "gen_ted_final = build_chart(ted).head(5)\n",
    "\n",
    "gen_ted_final[['main_speaker','name','published_year','comments_per_1000views']]"
   ]
  },
  {
   "cell_type": "markdown",
   "metadata": {
    "collapsed": false
   },
   "source": [
    "# *Self-Assessment: TF-IDF Vectors - Solution*\n",
    "This is all straight from the book. More information about the TfidfVectorizer is available online here: https://scikit-learn.org/stable/modules/generated/sklearn.feature_extraction.text.TfidfVectorizer.html"
   ]
  },
  {
   "cell_type": "code",
   "execution_count": 10,
   "metadata": {
    "collapsed": false
   },
   "outputs": [
    {
     "data": {
      "text/plain": [
       "(2550, 63416)"
      ]
     },
     "execution_count": 10,
     "metadata": {
     },
     "output_type": "execute_result"
    }
   ],
   "source": [
    "#Define a TF-IDF Vectorizer Object. Remove all english stopwords\n",
    "tfidf = TfidfVectorizer(stop_words='english', lowercase=True, ngram_range=(2,2))\n",
    "\n",
    "#Replace NaN with an empty string\n",
    "ted['description'] = ted['description'].fillna('')\n",
    "\n",
    "#Construct the required TF-IDF matrix by applying the fit_transform method on the description feature\n",
    "tfidf_matrix = tfidf.fit_transform(ted['description'])\n",
    "\n",
    "#Output the shape of tfidf_matrix (rows first, then columns)\n",
    "tfidf_matrix.shape"
   ]
  },
  {
   "cell_type": "code",
   "execution_count": 11,
   "metadata": {
    "collapsed": false
   },
   "outputs": [
    {
     "name": "stderr",
     "output_type": "stream",
     "text": [
      "/home/user/.local/lib/python3.8/site-packages/sklearn/utils/deprecation.py:87: FutureWarning: Function get_feature_names is deprecated; get_feature_names is deprecated in 1.0 and will be removed in 1.2. Please use get_feature_names_out instead.\n",
      "  warnings.warn(msg, category=FutureWarning)\n"
     ]
    },
    {
     "data": {
      "text/plain": [
       "['40 video',\n",
       " '40 years',\n",
       " '400 metric',\n",
       " '400 pounds',\n",
       " '400 years',\n",
       " '4000 year',\n",
       " '404 page',\n",
       " '404 pages',\n",
       " '413 billion',\n",
       " '45 story']"
      ]
     },
     "execution_count": 11,
     "metadata": {
     },
     "output_type": "execute_result"
    }
   ],
   "source": [
    "#bonus - take a look some of the individual words in the description\n",
    "feature_names = tfidf.get_feature_names()\n",
    "feature_names[500:510]"
   ]
  },
  {
   "cell_type": "code",
   "execution_count": 12,
   "metadata": {
    "collapsed": false
   },
   "outputs": [
    {
     "data": {
      "text/plain": [
       "array([0., 0., 0., 0., 0., 0., 0., 0., 0., 0.])"
      ]
     },
     "execution_count": 12,
     "metadata": {
     },
     "output_type": "execute_result"
    }
   ],
   "source": [
    "#bonus - this is saying that for the first document, none of the 500th to 510th words shown above show up in that document\n",
    "tfidf_list = tfidf_matrix.toarray()\n",
    "tfidf_list[0, 500:510]"
   ]
  },
  {
   "cell_type": "markdown",
   "metadata": {
    "collapsed": false
   },
   "source": [
    "# *Self-Assessment: Create the Content-Based Recommender Based on Dot Product - Solution*\n",
    "This is also straight from the book. We don't expect you to understand everything to do with linear kernels. But if you're interested, the documentation is here:\n",
    "https://scikit-learn.org/stable/modules/generated/sklearn.metrics.pairwise.linear_kernel.html\n",
    "\n"
   ]
  },
  {
   "cell_type": "code",
   "execution_count": 13,
   "metadata": {
    "collapsed": false
   },
   "outputs": [
   ],
   "source": [
    "# Compute the dot product similarity matrix\n",
    "sim_matrix = linear_kernel(tfidf_matrix, tfidf_matrix)\n",
    "\n"
   ]
  },
  {
   "cell_type": "code",
   "execution_count": 14,
   "metadata": {
    "collapsed": false
   },
   "outputs": [
   ],
   "source": [
    "def content_recommender(df, seed, seedCol, sim_matrix,  topN=2): \n",
    "    #get the indices based off the seedCol\n",
    "    indices = pd.Series(df.index, index=df[seedCol]).drop_duplicates()\n",
    "    \n",
    "    # Obtain the index of the item that matches our seed\n",
    "    idx = indices[seed]\n",
    "    \n",
    "    # Get the pairwsie similarity scores of all items and convert to tuples\n",
    "    sim_scores = list(enumerate(sim_matrix[idx]))\n",
    "    \n",
    "    #delete the item that was passed in\n",
    "    del sim_scores[idx]\n",
    "    \n",
    "    # Sort the items based on the similarity scores\n",
    "    sim_scores = sorted(sim_scores, key=lambda x: x[1], reverse=True)\n",
    "    \n",
    "    # Get the scores of the top-n most similar items.\n",
    "    sim_scores = sim_scores[:topN]\n",
    "    \n",
    "    # Get the item indices\n",
    "    movie_indices = [i[0] for i in sim_scores]\n",
    "    \n",
    "    # Return the topN most similar items\n",
    "    return df.iloc[movie_indices]\n"
   ]
  },
  {
   "cell_type": "code",
   "execution_count": 15,
   "metadata": {
    "collapsed": false
   },
   "outputs": [
    {
     "data": {
      "text/html": [
       "<div>\n",
       "<style scoped>\n",
       "    .dataframe tbody tr th:only-of-type {\n",
       "        vertical-align: middle;\n",
       "    }\n",
       "\n",
       "    .dataframe tbody tr th {\n",
       "        vertical-align: top;\n",
       "    }\n",
       "\n",
       "    .dataframe thead th {\n",
       "        text-align: right;\n",
       "    }\n",
       "</style>\n",
       "<table border=\"1\" class=\"dataframe\">\n",
       "  <thead>\n",
       "    <tr style=\"text-align: right;\">\n",
       "      <th></th>\n",
       "      <th>comments</th>\n",
       "      <th>description</th>\n",
       "      <th>duration</th>\n",
       "      <th>event</th>\n",
       "      <th>film_date</th>\n",
       "      <th>languages</th>\n",
       "      <th>main_speaker</th>\n",
       "      <th>name</th>\n",
       "      <th>num_speaker</th>\n",
       "      <th>published_date</th>\n",
       "      <th>ratings</th>\n",
       "      <th>related_talks</th>\n",
       "      <th>speaker_occupation</th>\n",
       "      <th>tags</th>\n",
       "      <th>title</th>\n",
       "      <th>url</th>\n",
       "      <th>views</th>\n",
       "      <th>published_year</th>\n",
       "    </tr>\n",
       "  </thead>\n",
       "  <tbody>\n",
       "    <tr>\n",
       "      <th>107</th>\n",
       "      <td>87</td>\n",
       "      <td>Marine biologist Tierney Thys asks us to step ...</td>\n",
       "      <td>1001</td>\n",
       "      <td>TED2003</td>\n",
       "      <td>1044144000</td>\n",
       "      <td>22</td>\n",
       "      <td>Tierney Thys</td>\n",
       "      <td>Tierney Thys: Swim with the giant sunfish</td>\n",
       "      <td>1</td>\n",
       "      <td>2007-05-21 15:59:00</td>\n",
       "      <td>[funny, beautiful, longwinded, unconvincing, i...</td>\n",
       "      <td>[{'id': 206, 'hero': 'https://pe.tedcdn.com/im...</td>\n",
       "      <td>Marine biologist</td>\n",
       "      <td>['animals', 'biodiversity', 'climate change', ...</td>\n",
       "      <td>Swim with the giant sunfish</td>\n",
       "      <td>https://www.ted.com/talks/tierney_thys_swims_w...</td>\n",
       "      <td>870412</td>\n",
       "      <td>2007</td>\n",
       "    </tr>\n",
       "    <tr>\n",
       "      <th>1542</th>\n",
       "      <td>308</td>\n",
       "      <td>Building a skyscraper? Forget about steel and ...</td>\n",
       "      <td>742</td>\n",
       "      <td>TED2013</td>\n",
       "      <td>1361923200</td>\n",
       "      <td>31</td>\n",
       "      <td>Michael Green</td>\n",
       "      <td>Michael Green: Why we should build wooden skys...</td>\n",
       "      <td>1</td>\n",
       "      <td>2013-07-09 15:01:10</td>\n",
       "      <td>[inspiring, ingenious, jaw-dropping, informati...</td>\n",
       "      <td>[{'id': 1598, 'hero': 'https://pe.tedcdn.com/i...</td>\n",
       "      <td>Architect</td>\n",
       "      <td>['architecture', 'design', 'materials']</td>\n",
       "      <td>Why we should build wooden skyscrapers</td>\n",
       "      <td>https://www.ted.com/talks/michael_green_why_we...</td>\n",
       "      <td>1207550</td>\n",
       "      <td>2013</td>\n",
       "    </tr>\n",
       "    <tr>\n",
       "      <th>2361</th>\n",
       "      <td>31</td>\n",
       "      <td>Stories are necessary, but they're not as magi...</td>\n",
       "      <td>766</td>\n",
       "      <td>TEDWomen 2016</td>\n",
       "      <td>1477526400</td>\n",
       "      <td>20</td>\n",
       "      <td>Sisonke Msimang</td>\n",
       "      <td>Sisonke Msimang: If a story moves you, act on it</td>\n",
       "      <td>1</td>\n",
       "      <td>2017-01-13 16:19:34</td>\n",
       "      <td>[ingenious, inspiring, fascinating, informativ...</td>\n",
       "      <td>[{'id': 462, 'hero': 'https://pe.tedcdn.com/im...</td>\n",
       "      <td>Writer, activist</td>\n",
       "      <td>['Africa', 'Internet', 'activism', 'collaborat...</td>\n",
       "      <td>If a story moves you, act on it</td>\n",
       "      <td>https://www.ted.com/talks/sisonke_msimang_if_a...</td>\n",
       "      <td>1147037</td>\n",
       "      <td>2017</td>\n",
       "    </tr>\n",
       "    <tr>\n",
       "      <th>1631</th>\n",
       "      <td>182</td>\n",
       "      <td>There's an irony behind the latest efforts to ...</td>\n",
       "      <td>1091</td>\n",
       "      <td>TED2013</td>\n",
       "      <td>1363219200</td>\n",
       "      <td>31</td>\n",
       "      <td>Jared Diamond</td>\n",
       "      <td>Jared Diamond: How societies can grow old better</td>\n",
       "      <td>1</td>\n",
       "      <td>2013-11-25 16:16:55</td>\n",
       "      <td>[informative, longwinded, unconvincing, obnoxi...</td>\n",
       "      <td>[{'id': 1313, 'hero': 'https://pe.tedcdn.com/i...</td>\n",
       "      <td>Civilization scholar</td>\n",
       "      <td>['aging', 'culture', 'social change']</td>\n",
       "      <td>How societies can grow old better</td>\n",
       "      <td>https://www.ted.com/talks/jared_diamond_how_so...</td>\n",
       "      <td>923663</td>\n",
       "      <td>2013</td>\n",
       "    </tr>\n",
       "    <tr>\n",
       "      <th>1856</th>\n",
       "      <td>28</td>\n",
       "      <td>In this intriguing talk, biologist Ameenah Gur...</td>\n",
       "      <td>852</td>\n",
       "      <td>TEDGlobal 2014</td>\n",
       "      <td>1414368000</td>\n",
       "      <td>23</td>\n",
       "      <td>Ameenah Gurib-Fakim</td>\n",
       "      <td>Ameenah Gurib-Fakim: Humble plants that hide s...</td>\n",
       "      <td>1</td>\n",
       "      <td>2014-11-04 16:03:07</td>\n",
       "      <td>[longwinded, obnoxious, persuasive, ok, inform...</td>\n",
       "      <td>[{'id': 83, 'hero': 'https://pe.tedcdn.com/ima...</td>\n",
       "      <td>President of Mauritius</td>\n",
       "      <td>['biodiversity', 'biology', 'nature', 'plants'...</td>\n",
       "      <td>Humble plants that hide surprising secrets</td>\n",
       "      <td>https://www.ted.com/talks/ameenah_gurib_fakim_...</td>\n",
       "      <td>952385</td>\n",
       "      <td>2014</td>\n",
       "    </tr>\n",
       "    <tr>\n",
       "      <th>968</th>\n",
       "      <td>235</td>\n",
       "      <td>At TED's Full Spectrum Auditions, comedian Jos...</td>\n",
       "      <td>351</td>\n",
       "      <td>Full Spectrum Auditions</td>\n",
       "      <td>1306195200</td>\n",
       "      <td>39</td>\n",
       "      <td>Joshua Walters</td>\n",
       "      <td>Joshua Walters: On being just crazy enough</td>\n",
       "      <td>1</td>\n",
       "      <td>2011-06-24 15:50:15</td>\n",
       "      <td>[unconvincing, longwinded, obnoxious, inspirin...</td>\n",
       "      <td>[{'id': 669, 'hero': 'https://pe.tedcdn.com/im...</td>\n",
       "      <td>Comedian, activist</td>\n",
       "      <td>['brain', 'depression', 'entertainment', 'ment...</td>\n",
       "      <td>On being just crazy enough</td>\n",
       "      <td>https://www.ted.com/talks/joshua_walters_on_be...</td>\n",
       "      <td>1637656</td>\n",
       "      <td>2011</td>\n",
       "    </tr>\n",
       "    <tr>\n",
       "      <th>2042</th>\n",
       "      <td>244</td>\n",
       "      <td>At the end of our lives, what do we most wish ...</td>\n",
       "      <td>1147</td>\n",
       "      <td>TED2015</td>\n",
       "      <td>1426809600</td>\n",
       "      <td>31</td>\n",
       "      <td>BJ Miller</td>\n",
       "      <td>BJ Miller: What really matters at the end of life</td>\n",
       "      <td>1</td>\n",
       "      <td>2015-09-10 14:59:01</td>\n",
       "      <td>[beautiful, informative, inspiring, confusing,...</td>\n",
       "      <td>[{'id': 1847, 'hero': 'https://pe.tedcdn.com/i...</td>\n",
       "      <td>Palliative care physician</td>\n",
       "      <td>['death', 'global issues', 'health', 'health c...</td>\n",
       "      <td>What really matters at the end of life</td>\n",
       "      <td>https://www.ted.com/talks/bj_miller_what_reall...</td>\n",
       "      <td>6214152</td>\n",
       "      <td>2015</td>\n",
       "    </tr>\n",
       "    <tr>\n",
       "      <th>1537</th>\n",
       "      <td>1640</td>\n",
       "      <td>It's a standard assumption in the West: As a s...</td>\n",
       "      <td>1237</td>\n",
       "      <td>TEDGlobal 2013</td>\n",
       "      <td>1370995200</td>\n",
       "      <td>30</td>\n",
       "      <td>Eric X. Li</td>\n",
       "      <td>Eric X. Li: A tale of two political systems</td>\n",
       "      <td>1</td>\n",
       "      <td>2013-07-01 15:36:10</td>\n",
       "      <td>[fascinating, informative, courageous, persuas...</td>\n",
       "      <td>[{'id': 1554, 'hero': 'https://pe.tedcdn.com/i...</td>\n",
       "      <td>Investor and political scientist</td>\n",
       "      <td>['Asia', 'business', 'china', 'democracy', 'gl...</td>\n",
       "      <td>A tale of two political systems</td>\n",
       "      <td>https://www.ted.com/talks/eric_x_li_a_tale_of_...</td>\n",
       "      <td>2449736</td>\n",
       "      <td>2013</td>\n",
       "    </tr>\n",
       "    <tr>\n",
       "      <th>1275</th>\n",
       "      <td>254</td>\n",
       "      <td>\"Is it okay if I totally trash your office?\" I...</td>\n",
       "      <td>892</td>\n",
       "      <td>TEDGlobal 2012</td>\n",
       "      <td>1340755200</td>\n",
       "      <td>29</td>\n",
       "      <td>Elyn Saks</td>\n",
       "      <td>Elyn Saks: A tale of mental illness -- from th...</td>\n",
       "      <td>1</td>\n",
       "      <td>2012-06-29 13:36:36</td>\n",
       "      <td>[courageous, inspiring, jaw-dropping, persuasi...</td>\n",
       "      <td>[{'id': 189, 'hero': 'https://pe.tedcdn.com/im...</td>\n",
       "      <td>Mental health law scholar</td>\n",
       "      <td>['brain', 'depression', 'health care', 'mental...</td>\n",
       "      <td>A tale of mental illness -- from the inside</td>\n",
       "      <td>https://www.ted.com/talks/elyn_saks_seeing_men...</td>\n",
       "      <td>3247799</td>\n",
       "      <td>2012</td>\n",
       "    </tr>\n",
       "    <tr>\n",
       "      <th>2001</th>\n",
       "      <td>165</td>\n",
       "      <td>When writer Roxane Gay dubbed herself a \"bad f...</td>\n",
       "      <td>688</td>\n",
       "      <td>TEDWomen 2015</td>\n",
       "      <td>1432771200</td>\n",
       "      <td>29</td>\n",
       "      <td>Roxane Gay</td>\n",
       "      <td>Roxane Gay: Confessions of a bad feminist</td>\n",
       "      <td>1</td>\n",
       "      <td>2015-06-22 15:22:48</td>\n",
       "      <td>[informative, inspiring, fascinating, beautifu...</td>\n",
       "      <td>[{'id': 1089, 'hero': 'https://pe.tedcdn.com/i...</td>\n",
       "      <td>Writer</td>\n",
       "      <td>['Gender equality', 'feminism', 'identity', 'w...</td>\n",
       "      <td>Confessions of a bad feminist</td>\n",
       "      <td>https://www.ted.com/talks/roxane_gay_confessio...</td>\n",
       "      <td>1453205</td>\n",
       "      <td>2015</td>\n",
       "    </tr>\n",
       "  </tbody>\n",
       "</table>\n",
       "</div>"
      ],
      "text/plain": [
       "      comments                                        description  duration  \\\n",
       "107         87  Marine biologist Tierney Thys asks us to step ...      1001   \n",
       "1542       308  Building a skyscraper? Forget about steel and ...       742   \n",
       "2361        31  Stories are necessary, but they're not as magi...       766   \n",
       "1631       182  There's an irony behind the latest efforts to ...      1091   \n",
       "1856        28  In this intriguing talk, biologist Ameenah Gur...       852   \n",
       "968        235  At TED's Full Spectrum Auditions, comedian Jos...       351   \n",
       "2042       244  At the end of our lives, what do we most wish ...      1147   \n",
       "1537      1640  It's a standard assumption in the West: As a s...      1237   \n",
       "1275       254  \"Is it okay if I totally trash your office?\" I...       892   \n",
       "2001       165  When writer Roxane Gay dubbed herself a \"bad f...       688   \n",
       "\n",
       "                        event   film_date  languages         main_speaker  \\\n",
       "107                   TED2003  1044144000         22         Tierney Thys   \n",
       "1542                  TED2013  1361923200         31        Michael Green   \n",
       "2361            TEDWomen 2016  1477526400         20      Sisonke Msimang   \n",
       "1631                  TED2013  1363219200         31        Jared Diamond   \n",
       "1856           TEDGlobal 2014  1414368000         23  Ameenah Gurib-Fakim   \n",
       "968   Full Spectrum Auditions  1306195200         39       Joshua Walters   \n",
       "2042                  TED2015  1426809600         31            BJ Miller   \n",
       "1537           TEDGlobal 2013  1370995200         30           Eric X. Li   \n",
       "1275           TEDGlobal 2012  1340755200         29            Elyn Saks   \n",
       "2001            TEDWomen 2015  1432771200         29           Roxane Gay   \n",
       "\n",
       "                                                   name  num_speaker  \\\n",
       "107           Tierney Thys: Swim with the giant sunfish            1   \n",
       "1542  Michael Green: Why we should build wooden skys...            1   \n",
       "2361   Sisonke Msimang: If a story moves you, act on it            1   \n",
       "1631   Jared Diamond: How societies can grow old better            1   \n",
       "1856  Ameenah Gurib-Fakim: Humble plants that hide s...            1   \n",
       "968          Joshua Walters: On being just crazy enough            1   \n",
       "2042  BJ Miller: What really matters at the end of life            1   \n",
       "1537        Eric X. Li: A tale of two political systems            1   \n",
       "1275  Elyn Saks: A tale of mental illness -- from th...            1   \n",
       "2001          Roxane Gay: Confessions of a bad feminist            1   \n",
       "\n",
       "           published_date                                            ratings  \\\n",
       "107   2007-05-21 15:59:00  [funny, beautiful, longwinded, unconvincing, i...   \n",
       "1542  2013-07-09 15:01:10  [inspiring, ingenious, jaw-dropping, informati...   \n",
       "2361  2017-01-13 16:19:34  [ingenious, inspiring, fascinating, informativ...   \n",
       "1631  2013-11-25 16:16:55  [informative, longwinded, unconvincing, obnoxi...   \n",
       "1856  2014-11-04 16:03:07  [longwinded, obnoxious, persuasive, ok, inform...   \n",
       "968   2011-06-24 15:50:15  [unconvincing, longwinded, obnoxious, inspirin...   \n",
       "2042  2015-09-10 14:59:01  [beautiful, informative, inspiring, confusing,...   \n",
       "1537  2013-07-01 15:36:10  [fascinating, informative, courageous, persuas...   \n",
       "1275  2012-06-29 13:36:36  [courageous, inspiring, jaw-dropping, persuasi...   \n",
       "2001  2015-06-22 15:22:48  [informative, inspiring, fascinating, beautifu...   \n",
       "\n",
       "                                          related_talks  \\\n",
       "107   [{'id': 206, 'hero': 'https://pe.tedcdn.com/im...   \n",
       "1542  [{'id': 1598, 'hero': 'https://pe.tedcdn.com/i...   \n",
       "2361  [{'id': 462, 'hero': 'https://pe.tedcdn.com/im...   \n",
       "1631  [{'id': 1313, 'hero': 'https://pe.tedcdn.com/i...   \n",
       "1856  [{'id': 83, 'hero': 'https://pe.tedcdn.com/ima...   \n",
       "968   [{'id': 669, 'hero': 'https://pe.tedcdn.com/im...   \n",
       "2042  [{'id': 1847, 'hero': 'https://pe.tedcdn.com/i...   \n",
       "1537  [{'id': 1554, 'hero': 'https://pe.tedcdn.com/i...   \n",
       "1275  [{'id': 189, 'hero': 'https://pe.tedcdn.com/im...   \n",
       "2001  [{'id': 1089, 'hero': 'https://pe.tedcdn.com/i...   \n",
       "\n",
       "                    speaker_occupation  \\\n",
       "107                   Marine biologist   \n",
       "1542                         Architect   \n",
       "2361                  Writer, activist   \n",
       "1631              Civilization scholar   \n",
       "1856            President of Mauritius   \n",
       "968                 Comedian, activist   \n",
       "2042         Palliative care physician   \n",
       "1537  Investor and political scientist   \n",
       "1275         Mental health law scholar   \n",
       "2001                            Writer   \n",
       "\n",
       "                                                   tags  \\\n",
       "107   ['animals', 'biodiversity', 'climate change', ...   \n",
       "1542            ['architecture', 'design', 'materials']   \n",
       "2361  ['Africa', 'Internet', 'activism', 'collaborat...   \n",
       "1631              ['aging', 'culture', 'social change']   \n",
       "1856  ['biodiversity', 'biology', 'nature', 'plants'...   \n",
       "968   ['brain', 'depression', 'entertainment', 'ment...   \n",
       "2042  ['death', 'global issues', 'health', 'health c...   \n",
       "1537  ['Asia', 'business', 'china', 'democracy', 'gl...   \n",
       "1275  ['brain', 'depression', 'health care', 'mental...   \n",
       "2001  ['Gender equality', 'feminism', 'identity', 'w...   \n",
       "\n",
       "                                            title  \\\n",
       "107                   Swim with the giant sunfish   \n",
       "1542       Why we should build wooden skyscrapers   \n",
       "2361              If a story moves you, act on it   \n",
       "1631            How societies can grow old better   \n",
       "1856   Humble plants that hide surprising secrets   \n",
       "968                    On being just crazy enough   \n",
       "2042       What really matters at the end of life   \n",
       "1537              A tale of two political systems   \n",
       "1275  A tale of mental illness -- from the inside   \n",
       "2001                Confessions of a bad feminist   \n",
       "\n",
       "                                                    url    views  \\\n",
       "107   https://www.ted.com/talks/tierney_thys_swims_w...   870412   \n",
       "1542  https://www.ted.com/talks/michael_green_why_we...  1207550   \n",
       "2361  https://www.ted.com/talks/sisonke_msimang_if_a...  1147037   \n",
       "1631  https://www.ted.com/talks/jared_diamond_how_so...   923663   \n",
       "1856  https://www.ted.com/talks/ameenah_gurib_fakim_...   952385   \n",
       "968   https://www.ted.com/talks/joshua_walters_on_be...  1637656   \n",
       "2042  https://www.ted.com/talks/bj_miller_what_reall...  6214152   \n",
       "1537  https://www.ted.com/talks/eric_x_li_a_tale_of_...  2449736   \n",
       "1275  https://www.ted.com/talks/elyn_saks_seeing_men...  3247799   \n",
       "2001  https://www.ted.com/talks/roxane_gay_confessio...  1453205   \n",
       "\n",
       "      published_year  \n",
       "107             2007  \n",
       "1542            2013  \n",
       "2361            2017  \n",
       "1631            2013  \n",
       "1856            2014  \n",
       "968             2011  \n",
       "2042            2015  \n",
       "1537            2013  \n",
       "1275            2012  \n",
       "2001            2015  "
      ]
     },
     "execution_count": 15,
     "metadata": {
     },
     "output_type": "execute_result"
    }
   ],
   "source": [
    "#Get recommendations for Tyler Cowen: Be suspicious of simple stories\n",
    "content_recommender(ted, 'Tyler Cowen: Be suspicious of simple stories', 'name', sim_matrix, 10)"
   ]
  },
  {
   "cell_type": "markdown",
   "metadata": {
    "collapsed": false
   },
   "source": [
    "## *Self-Assessment: Metadata Recommender*\n",
    "\n",
    "Reminder: You are using the ratings and the tags. Sanitize both first. Use all the words from each to make the soup."
   ]
  },
  {
   "cell_type": "code",
   "execution_count": 16,
   "metadata": {
    "collapsed": false
   },
   "outputs": [
    {
     "name": "stdout",
     "output_type": "stream",
     "text": [
      "The soup for Do schools kill creativity? is: \n",
      "funny beautiful ingenious courageous longwinded confusing informative fascinating unconvincing persuasive jaw-dropping ok obnoxious inspiring children creativity culture dance education parenting teaching\n"
     ]
    }
   ],
   "source": [
    "# Function to sanitize data to prevent ambiguity. It removes spaces and converts to lowercase\n",
    "def sanitize(x):\n",
    "    if isinstance(x, list):\n",
    "        #Strip spaces and convert to lowercase\n",
    "        return [str.lower(i.replace(\" \", \"\")) for i in x]\n",
    "    else:\n",
    "        #Check if director exists. If not, return empty string\n",
    "        if isinstance(x, str):\n",
    "            return str.lower(x.replace(\" \", \"\"))\n",
    "        else:\n",
    "            return ''\n",
    "\n",
    "ted = pd.read_csv('./data/ted_clean.csv')\n",
    "\n",
    "#literal_eval and sanitize both columns\n",
    "ted['ratings'] = ted['ratings'].apply(literal_eval).apply(sanitize)\n",
    "ted['tags'] = ted['tags'].apply(literal_eval).apply(sanitize)\n",
    "\n",
    "#Function that creates a soup out of the desired metadata\n",
    "def create_soup(x):\n",
    "    return ' '.join(x['ratings']) + ' ' + ' '.join(x['tags'])\n",
    "\n",
    "#create a column with the soup in it    \n",
    "ted['soup'] = ted.apply(create_soup, axis=1)   \n",
    "\n",
    "\n",
    "print(f'The soup for {ted[\"title\"][0]} is: \\n{ted[\"soup\"][0]}')\n"
   ]
  },
  {
   "cell_type": "code",
   "execution_count": 17,
   "metadata": {
    "collapsed": false
   },
   "outputs": [
    {
     "data": {
      "text/html": [
       "<div>\n",
       "<style scoped>\n",
       "    .dataframe tbody tr th:only-of-type {\n",
       "        vertical-align: middle;\n",
       "    }\n",
       "\n",
       "    .dataframe tbody tr th {\n",
       "        vertical-align: top;\n",
       "    }\n",
       "\n",
       "    .dataframe thead th {\n",
       "        text-align: right;\n",
       "    }\n",
       "</style>\n",
       "<table border=\"1\" class=\"dataframe\">\n",
       "  <thead>\n",
       "    <tr style=\"text-align: right;\">\n",
       "      <th></th>\n",
       "      <th>comments</th>\n",
       "      <th>description</th>\n",
       "      <th>duration</th>\n",
       "      <th>event</th>\n",
       "      <th>film_date</th>\n",
       "      <th>languages</th>\n",
       "      <th>main_speaker</th>\n",
       "      <th>name</th>\n",
       "      <th>num_speaker</th>\n",
       "      <th>published_date</th>\n",
       "      <th>ratings</th>\n",
       "      <th>related_talks</th>\n",
       "      <th>speaker_occupation</th>\n",
       "      <th>tags</th>\n",
       "      <th>title</th>\n",
       "      <th>url</th>\n",
       "      <th>views</th>\n",
       "      <th>published_year</th>\n",
       "      <th>soup</th>\n",
       "    </tr>\n",
       "  </thead>\n",
       "  <tbody>\n",
       "    <tr>\n",
       "      <th>786</th>\n",
       "      <td>954</td>\n",
       "      <td>Plants behave in some oddly intelligent ways: ...</td>\n",
       "      <td>830</td>\n",
       "      <td>TEDGlobal 2010</td>\n",
       "      <td>1279152000</td>\n",
       "      <td>30</td>\n",
       "      <td>Stefano Mancuso</td>\n",
       "      <td>Stefano Mancuso: The roots of plant intelligence</td>\n",
       "      <td>1</td>\n",
       "      <td>2010-10-11 08:55:00</td>\n",
       "      <td>[persuasive, inspiring, informative, fascinati...</td>\n",
       "      <td>[{'id': 509, 'hero': 'https://pe.tedcdn.com/im...</td>\n",
       "      <td>Plant neurobiologist</td>\n",
       "      <td>[biology, botany, collaboration, plants, science]</td>\n",
       "      <td>The roots of plant intelligence</td>\n",
       "      <td>https://www.ted.com/talks/stefano_mancuso_the_...</td>\n",
       "      <td>1075196</td>\n",
       "      <td>2010</td>\n",
       "      <td>persuasive inspiring informative fascinating l...</td>\n",
       "    </tr>\n",
       "    <tr>\n",
       "      <th>575</th>\n",
       "      <td>56</td>\n",
       "      <td>While living and working as a marine biologist...</td>\n",
       "      <td>998</td>\n",
       "      <td>TEDIndia 2009</td>\n",
       "      <td>1257379200</td>\n",
       "      <td>25</td>\n",
       "      <td>Charles Anderson</td>\n",
       "      <td>Charles Anderson: Dragonflies that fly across ...</td>\n",
       "      <td>1</td>\n",
       "      <td>2009-12-17 09:06:00</td>\n",
       "      <td>[courageous, fascinating, informative, ingenio...</td>\n",
       "      <td>[{'id': 416, 'hero': 'https://pe.tedcdn.com/im...</td>\n",
       "      <td>Marine biologist</td>\n",
       "      <td>[biodiversity, biology, birds, ecology, insect...</td>\n",
       "      <td>Dragonflies that fly across oceans</td>\n",
       "      <td>https://www.ted.com/talks/charles_anderson_dis...</td>\n",
       "      <td>553253</td>\n",
       "      <td>2009</td>\n",
       "      <td>courageous fascinating informative ingenious b...</td>\n",
       "    </tr>\n",
       "    <tr>\n",
       "      <th>584</th>\n",
       "      <td>58</td>\n",
       "      <td>Nick Veasey shows outsized X-ray images that r...</td>\n",
       "      <td>798</td>\n",
       "      <td>TEDGlobal 2009</td>\n",
       "      <td>1248393600</td>\n",
       "      <td>20</td>\n",
       "      <td>Nick Veasey</td>\n",
       "      <td>Nick Veasey: Exposing the invisible</td>\n",
       "      <td>1</td>\n",
       "      <td>2010-01-05 09:13:00</td>\n",
       "      <td>[fascinating, beautiful, funny, jaw-dropping, ...</td>\n",
       "      <td>[{'id': 643, 'hero': 'https://pe.tedcdn.com/im...</td>\n",
       "      <td>X-ray visionary</td>\n",
       "      <td>[art, nature, photography, science]</td>\n",
       "      <td>Exposing the invisible</td>\n",
       "      <td>https://www.ted.com/talks/nick_veasey_exposing...</td>\n",
       "      <td>1780196</td>\n",
       "      <td>2010</td>\n",
       "      <td>fascinating beautiful funny jaw-dropping confu...</td>\n",
       "    </tr>\n",
       "    <tr>\n",
       "      <th>793</th>\n",
       "      <td>266</td>\n",
       "      <td>Did you know you have functioning neurons in y...</td>\n",
       "      <td>914</td>\n",
       "      <td>TEDGlobal 2010</td>\n",
       "      <td>1279238400</td>\n",
       "      <td>29</td>\n",
       "      <td>Heribert Watzke</td>\n",
       "      <td>Heribert Watzke: The brain in your gut</td>\n",
       "      <td>1</td>\n",
       "      <td>2010-10-19 08:09:00</td>\n",
       "      <td>[inspiring, informative, fascinating, unconvin...</td>\n",
       "      <td>[{'id': 976, 'hero': 'https://pe.tedcdn.com/im...</td>\n",
       "      <td>Food scientist</td>\n",
       "      <td>[biology, food, science, technology]</td>\n",
       "      <td>The brain in your gut</td>\n",
       "      <td>https://www.ted.com/talks/heribert_watzke_the_...</td>\n",
       "      <td>1342475</td>\n",
       "      <td>2010</td>\n",
       "      <td>inspiring informative fascinating unconvincing...</td>\n",
       "    </tr>\n",
       "    <tr>\n",
       "      <th>805</th>\n",
       "      <td>124</td>\n",
       "      <td>In the quest to map the brain, many scientists...</td>\n",
       "      <td>1054</td>\n",
       "      <td>TEDGlobal 2010</td>\n",
       "      <td>1279238400</td>\n",
       "      <td>28</td>\n",
       "      <td>Gero Miesenboeck</td>\n",
       "      <td>Gero Miesenboeck: Re-engineering the brain</td>\n",
       "      <td>1</td>\n",
       "      <td>2010-11-03 22:44:00</td>\n",
       "      <td>[informative, jaw-dropping, fascinating, ingen...</td>\n",
       "      <td>[{'id': 967, 'hero': 'https://pe.tedcdn.com/im...</td>\n",
       "      <td>Optogeneticist</td>\n",
       "      <td>[biology, brain, neuroscience, science]</td>\n",
       "      <td>Re-engineering the brain</td>\n",
       "      <td>https://www.ted.com/talks/gero_miesenboeck\\n</td>\n",
       "      <td>611081</td>\n",
       "      <td>2010</td>\n",
       "      <td>informative jaw-dropping fascinating ingenious...</td>\n",
       "    </tr>\n",
       "  </tbody>\n",
       "</table>\n",
       "</div>"
      ],
      "text/plain": [
       "     comments                                        description  duration  \\\n",
       "786       954  Plants behave in some oddly intelligent ways: ...       830   \n",
       "575        56  While living and working as a marine biologist...       998   \n",
       "584        58  Nick Veasey shows outsized X-ray images that r...       798   \n",
       "793       266  Did you know you have functioning neurons in y...       914   \n",
       "805       124  In the quest to map the brain, many scientists...      1054   \n",
       "\n",
       "              event   film_date  languages      main_speaker  \\\n",
       "786  TEDGlobal 2010  1279152000         30   Stefano Mancuso   \n",
       "575   TEDIndia 2009  1257379200         25  Charles Anderson   \n",
       "584  TEDGlobal 2009  1248393600         20       Nick Veasey   \n",
       "793  TEDGlobal 2010  1279238400         29   Heribert Watzke   \n",
       "805  TEDGlobal 2010  1279238400         28  Gero Miesenboeck   \n",
       "\n",
       "                                                  name  num_speaker  \\\n",
       "786   Stefano Mancuso: The roots of plant intelligence            1   \n",
       "575  Charles Anderson: Dragonflies that fly across ...            1   \n",
       "584                Nick Veasey: Exposing the invisible            1   \n",
       "793             Heribert Watzke: The brain in your gut            1   \n",
       "805         Gero Miesenboeck: Re-engineering the brain            1   \n",
       "\n",
       "          published_date                                            ratings  \\\n",
       "786  2010-10-11 08:55:00  [persuasive, inspiring, informative, fascinati...   \n",
       "575  2009-12-17 09:06:00  [courageous, fascinating, informative, ingenio...   \n",
       "584  2010-01-05 09:13:00  [fascinating, beautiful, funny, jaw-dropping, ...   \n",
       "793  2010-10-19 08:09:00  [inspiring, informative, fascinating, unconvin...   \n",
       "805  2010-11-03 22:44:00  [informative, jaw-dropping, fascinating, ingen...   \n",
       "\n",
       "                                         related_talks    speaker_occupation  \\\n",
       "786  [{'id': 509, 'hero': 'https://pe.tedcdn.com/im...  Plant neurobiologist   \n",
       "575  [{'id': 416, 'hero': 'https://pe.tedcdn.com/im...      Marine biologist   \n",
       "584  [{'id': 643, 'hero': 'https://pe.tedcdn.com/im...       X-ray visionary   \n",
       "793  [{'id': 976, 'hero': 'https://pe.tedcdn.com/im...        Food scientist   \n",
       "805  [{'id': 967, 'hero': 'https://pe.tedcdn.com/im...        Optogeneticist   \n",
       "\n",
       "                                                  tags  \\\n",
       "786  [biology, botany, collaboration, plants, science]   \n",
       "575  [biodiversity, biology, birds, ecology, insect...   \n",
       "584                [art, nature, photography, science]   \n",
       "793               [biology, food, science, technology]   \n",
       "805            [biology, brain, neuroscience, science]   \n",
       "\n",
       "                                  title  \\\n",
       "786     The roots of plant intelligence   \n",
       "575  Dragonflies that fly across oceans   \n",
       "584              Exposing the invisible   \n",
       "793               The brain in your gut   \n",
       "805            Re-engineering the brain   \n",
       "\n",
       "                                                   url    views  \\\n",
       "786  https://www.ted.com/talks/stefano_mancuso_the_...  1075196   \n",
       "575  https://www.ted.com/talks/charles_anderson_dis...   553253   \n",
       "584  https://www.ted.com/talks/nick_veasey_exposing...  1780196   \n",
       "793  https://www.ted.com/talks/heribert_watzke_the_...  1342475   \n",
       "805       https://www.ted.com/talks/gero_miesenboeck\\n   611081   \n",
       "\n",
       "     published_year                                               soup  \n",
       "786            2010  persuasive inspiring informative fascinating l...  \n",
       "575            2009  courageous fascinating informative ingenious b...  \n",
       "584            2010  fascinating beautiful funny jaw-dropping confu...  \n",
       "793            2010  inspiring informative fascinating unconvincing...  \n",
       "805            2010  informative jaw-dropping fascinating ingenious...  "
      ]
     },
     "execution_count": 17,
     "metadata": {
     },
     "output_type": "execute_result"
    }
   ],
   "source": [
    "count = CountVectorizer(stop_words='english', lowercase=True)\n",
    "count_matrix = count.fit_transform(ted['soup'])\n",
    "\n",
    "#Compute the cosine similarity score \n",
    "cosine_sim = cosine_similarity(count_matrix, count_matrix)\n",
    "\n",
    "#call our same function, using the same movie. \n",
    "content_recommender(ted, 'Humble plants that hide surprising secrets', 'title', cosine_sim, topN=5)"
   ]
  }
 ],
 "metadata": {
  "kernelspec": {
   "display_name": "Python 3 (system-wide)",
   "language": "python",
   "metadata": {
    "cocalc": {
     "description": "Python 3 programming language",
     "priority": 100,
     "url": "https://www.python.org/"
    }
   },
   "name": "python3",
   "resource_dir": "/ext/jupyter/kernels/python3"
  },
  "language_info": {
   "codemirror_mode": {
    "name": "ipython",
    "version": 3
   },
   "file_extension": ".py",
   "mimetype": "text/x-python",
   "name": "python",
   "nbconvert_exporter": "python",
   "pygments_lexer": "ipython3",
   "version": "3.8.5"
  },
  "toc": {
   "base_numbering": 1,
   "nav_menu": {
   },
   "number_sections": true,
   "sideBar": true,
   "skip_h1_title": false,
   "title_cell": "Table of Contents",
   "title_sidebar": "Contents",
   "toc_cell": false,
   "toc_position": {
    "height": "calc(100% - 180px)",
    "left": "10px",
    "top": "150px",
    "width": "260.517px"
   },
   "toc_section_display": true,
   "toc_window_display": true
  },
  "varInspector": {
   "cols": {
    "lenName": 16,
    "lenType": 16,
    "lenVar": 40
   },
   "kernels_config": {
    "python": {
     "delete_cmd_postfix": "",
     "delete_cmd_prefix": "del ",
     "library": "var_list.py",
     "varRefreshCmd": "print(var_dic_list())"
    },
    "r": {
     "delete_cmd_postfix": ") ",
     "delete_cmd_prefix": "rm(",
     "library": "var_list.r",
     "varRefreshCmd": "cat(var_dic_list()) "
    }
   },
   "types_to_exclude": [
    "module",
    "function",
    "builtin_function_or_method",
    "instance",
    "_Feature"
   ],
   "window_display": false
  }
 },
 "nbformat": 4,
 "nbformat_minor": 4
}