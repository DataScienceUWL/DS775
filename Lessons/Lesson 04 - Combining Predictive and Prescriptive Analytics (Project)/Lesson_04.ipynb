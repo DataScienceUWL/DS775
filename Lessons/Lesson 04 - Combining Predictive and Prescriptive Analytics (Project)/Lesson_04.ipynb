{
 "cells": [
  {
   "cell_type": "code",
   "execution_count": 1,
   "metadata": {
    "code_folding": [
     0
    ],
    "collapsed": false,
    "scrolled": true
   },
   "outputs": [
   ],
   "source": [
    "# EXECUTE FIRST\n",
    "\n",
    "# computational imports\n",
    "import statsmodels.api as sm\n",
    "import pandas as pd\n",
    "import numpy as np\n",
    "from sklearn.linear_model import LinearRegression\n",
    "import plotly.express as px\n",
    "import plotly.io as pio\n",
    "\n",
    "# display imports\n",
    "\n",
    "from IPython.core.display import HTML\n",
    "\n",
    "# suppress warnings\n",
    "import warnings\n",
    "warnings.filterwarnings('ignore')\n"
   ]
  },
  {
   "cell_type": "markdown",
   "metadata": {
    "collapsed": false
   },
   "source": [
    "# Lesson 4: Combining Predictive and Prescriptive Analytics (Project)"
   ]
  },
  {
   "cell_type": "markdown",
   "metadata": {
    "collapsed": false
   },
   "source": [
    "This course has three lessons that are project lessons. Typically, projects combine skills and knowledge from multiple weeks (and sometimes multiple courses). Project weeks generally do not involve textbook readings and have presentations that only cover the project scenario and any additional information you might need to complete the project.\n",
    "\n",
    "This week's project involves combining predictive and prescriptive analytics. We're using the simplest of predictive analytics, linear regression. Everyone should have learned linear regression in DS705 (which is a prerequisite for this course). However, in 705, you used R, whereas in 775, we're using Python. We'll walk you through using the `statsmodel` package in Python to do linear regression, describe how it could be used in predictive analytics, and introduce you to the scenario for your project.\n",
    "\n",
    "# The Sample Problem - Wyndor Revisited\n",
    "Once again, let's go back to the Wyndor problem. When Wyndor decided to build new products, they needed to enlist the help of key personnel in various units of the company. After discussing production hours with plant managers and engineers, they felt they had solid estimates for the number of hours of production time they'd need and the number of hours available. But, they still weren't sure about how to estimate the profit for each batch of windows and doors.\n",
    "\n",
    "<img src=\"images/WyndorProfitUnknown.jpg\" alt=\"Problem set up for Wyndor - includes table of data with production time needed and available for 2 products over 3 plants.\"/>\n",
    "\n",
    "To set their estimated profit, they worked with the engineers, marketing division, and the accountants. We don't know what data they used to make their decisions. But, if they'd previously introduced other new products, it's feasible that they may have used some predictive analytics to model the estimated profit for each new product and fill in the question marks in the image above. \n",
    "\n",
    "## The Sample Data\n",
    "Let's assume that Wyndor had introduced new, similar, doors and windows previously, as a paired product launch, and they've done some market research of competitors.  Wyndor has gathered the following data, showing profit of batches of doors and windows and overall profit."
   ]
  },
  {
   "cell_type": "code",
   "execution_count": 2,
   "metadata": {
    "collapsed": false
   },
   "outputs": [
    {
     "data": {
      "text/html": [
       "<div>\n",
       "<style scoped>\n",
       "    .dataframe tbody tr th:only-of-type {\n",
       "        vertical-align: middle;\n",
       "    }\n",
       "\n",
       "    .dataframe tbody tr th {\n",
       "        vertical-align: top;\n",
       "    }\n",
       "\n",
       "    .dataframe thead th {\n",
       "        text-align: right;\n",
       "    }\n",
       "</style>\n",
       "<table border=\"1\" class=\"dataframe\">\n",
       "  <thead>\n",
       "    <tr style=\"text-align: right;\">\n",
       "      <th></th>\n",
       "      <th>doors</th>\n",
       "      <th>windows</th>\n",
       "      <th>profit</th>\n",
       "    </tr>\n",
       "  </thead>\n",
       "  <tbody>\n",
       "    <tr>\n",
       "      <th>0</th>\n",
       "      <td>2</td>\n",
       "      <td>3</td>\n",
       "      <td>25</td>\n",
       "    </tr>\n",
       "    <tr>\n",
       "      <th>1</th>\n",
       "      <td>3</td>\n",
       "      <td>3</td>\n",
       "      <td>30</td>\n",
       "    </tr>\n",
       "    <tr>\n",
       "      <th>2</th>\n",
       "      <td>4</td>\n",
       "      <td>3</td>\n",
       "      <td>35</td>\n",
       "    </tr>\n",
       "    <tr>\n",
       "      <th>3</th>\n",
       "      <td>6</td>\n",
       "      <td>4</td>\n",
       "      <td>43</td>\n",
       "    </tr>\n",
       "    <tr>\n",
       "      <th>4</th>\n",
       "      <td>7</td>\n",
       "      <td>4</td>\n",
       "      <td>50</td>\n",
       "    </tr>\n",
       "    <tr>\n",
       "      <th>5</th>\n",
       "      <td>8</td>\n",
       "      <td>5</td>\n",
       "      <td>55</td>\n",
       "    </tr>\n",
       "    <tr>\n",
       "      <th>6</th>\n",
       "      <td>8</td>\n",
       "      <td>5</td>\n",
       "      <td>63</td>\n",
       "    </tr>\n",
       "    <tr>\n",
       "      <th>7</th>\n",
       "      <td>10</td>\n",
       "      <td>5</td>\n",
       "      <td>70</td>\n",
       "    </tr>\n",
       "  </tbody>\n",
       "</table>\n",
       "</div>"
      ],
      "text/plain": [
       "   doors  windows  profit\n",
       "0      2        3      25\n",
       "1      3        3      30\n",
       "2      4        3      35\n",
       "3      6        4      43\n",
       "4      7        4      50\n",
       "5      8        5      55\n",
       "6      8        5      63\n",
       "7     10        5      70"
      ]
     },
     "execution_count": 2,
     "metadata": {
     },
     "output_type": "execute_result"
    }
   ],
   "source": [
    "df = pd.DataFrame({\n",
    "    'doors': [2, 3, 4, 6, 7, 8, 8, 10],\n",
    "    'windows': [3, 3, 3, 4, 4, 5, 5, 5],\n",
    "    'profit': [25, 30, 35, 43, 50, 55, 63, 70]\n",
    "})\n",
    "df\n"
   ]
  },
  {
   "cell_type": "markdown",
   "metadata": {
    "collapsed": false
   },
   "source": [
    "We can plot the data and note that it appears that both door and window batch profits share a linear relationship with overall profit, based on this historical data."
   ]
  },
  {
   "cell_type": "code",
   "execution_count": 3,
   "metadata": {
    "collapsed": false
   },
   "outputs": [
    {
     "data": {
      "text/html": "<html>\n<head><meta charset=\"utf-8\" /></head>\n<body>\n    <div>            <script src=\"https://cdnjs.cloudflare.com/ajax/libs/mathjax/2.7.5/MathJax.js?config=TeX-AMS-MML_SVG\"></script><script type=\"text/javascript\">if (window.MathJax && window.MathJax.Hub && window.MathJax.Hub.Config) {window.MathJax.Hub.Config({SVG: {font: \"STIX-Web\"}});}</script>                <script type=\"text/javascript\">window.PlotlyConfig = {MathJaxConfig: 'local'};</script>\n        <script src=\"https://cdn.plot.ly/plotly-2.12.1.min.js\"></script>                <div id=\"ab8959e8-1656-4a07-a9f8-4579ecc0fe87\" class=\"plotly-graph-div\" style=\"height:525px; width:100%;\"></div>            <script type=\"text/javascript\">                                    window.PLOTLYENV=window.PLOTLYENV || {};                                    if (document.getElementById(\"ab8959e8-1656-4a07-a9f8-4579ecc0fe87\")) {                    Plotly.newPlot(                        \"ab8959e8-1656-4a07-a9f8-4579ecc0fe87\",                        [{\"hovertemplate\":\"variable=doors<br>profit=%{x}<br>value=%{y}<extra></extra>\",\"legendgroup\":\"doors\",\"line\":{\"color\":\"#636efa\",\"dash\":\"solid\"},\"marker\":{\"symbol\":\"circle\"},\"mode\":\"lines\",\"name\":\"doors\",\"orientation\":\"v\",\"showlegend\":true,\"x\":[25,30,35,43,50,55,63,70],\"xaxis\":\"x\",\"y\":[2,3,4,6,7,8,8,10],\"yaxis\":\"y\",\"type\":\"scatter\"},{\"hovertemplate\":\"variable=windows<br>profit=%{x}<br>value=%{y}<extra></extra>\",\"legendgroup\":\"windows\",\"line\":{\"color\":\"#EF553B\",\"dash\":\"solid\"},\"marker\":{\"symbol\":\"circle\"},\"mode\":\"lines\",\"name\":\"windows\",\"orientation\":\"v\",\"showlegend\":true,\"x\":[25,30,35,43,50,55,63,70],\"xaxis\":\"x\",\"y\":[3,3,3,4,4,5,5,5],\"yaxis\":\"y\",\"type\":\"scatter\"}],                        {\"template\":{\"data\":{\"histogram2dcontour\":[{\"type\":\"histogram2dcontour\",\"colorbar\":{\"outlinewidth\":0,\"ticks\":\"\"},\"colorscale\":[[0.0,\"#0d0887\"],[0.1111111111111111,\"#46039f\"],[0.2222222222222222,\"#7201a8\"],[0.3333333333333333,\"#9c179e\"],[0.4444444444444444,\"#bd3786\"],[0.5555555555555556,\"#d8576b\"],[0.6666666666666666,\"#ed7953\"],[0.7777777777777778,\"#fb9f3a\"],[0.8888888888888888,\"#fdca26\"],[1.0,\"#f0f921\"]]}],\"choropleth\":[{\"type\":\"choropleth\",\"colorbar\":{\"outlinewidth\":0,\"ticks\":\"\"}}],\"histogram2d\":[{\"type\":\"histogram2d\",\"colorbar\":{\"outlinewidth\":0,\"ticks\":\"\"},\"colorscale\":[[0.0,\"#0d0887\"],[0.1111111111111111,\"#46039f\"],[0.2222222222222222,\"#7201a8\"],[0.3333333333333333,\"#9c179e\"],[0.4444444444444444,\"#bd3786\"],[0.5555555555555556,\"#d8576b\"],[0.6666666666666666,\"#ed7953\"],[0.7777777777777778,\"#fb9f3a\"],[0.8888888888888888,\"#fdca26\"],[1.0,\"#f0f921\"]]}],\"heatmap\":[{\"type\":\"heatmap\",\"colorbar\":{\"outlinewidth\":0,\"ticks\":\"\"},\"colorscale\":[[0.0,\"#0d0887\"],[0.1111111111111111,\"#46039f\"],[0.2222222222222222,\"#7201a8\"],[0.3333333333333333,\"#9c179e\"],[0.4444444444444444,\"#bd3786\"],[0.5555555555555556,\"#d8576b\"],[0.6666666666666666,\"#ed7953\"],[0.7777777777777778,\"#fb9f3a\"],[0.8888888888888888,\"#fdca26\"],[1.0,\"#f0f921\"]]}],\"heatmapgl\":[{\"type\":\"heatmapgl\",\"colorbar\":{\"outlinewidth\":0,\"ticks\":\"\"},\"colorscale\":[[0.0,\"#0d0887\"],[0.1111111111111111,\"#46039f\"],[0.2222222222222222,\"#7201a8\"],[0.3333333333333333,\"#9c179e\"],[0.4444444444444444,\"#bd3786\"],[0.5555555555555556,\"#d8576b\"],[0.6666666666666666,\"#ed7953\"],[0.7777777777777778,\"#fb9f3a\"],[0.8888888888888888,\"#fdca26\"],[1.0,\"#f0f921\"]]}],\"contourcarpet\":[{\"type\":\"contourcarpet\",\"colorbar\":{\"outlinewidth\":0,\"ticks\":\"\"}}],\"contour\":[{\"type\":\"contour\",\"colorbar\":{\"outlinewidth\":0,\"ticks\":\"\"},\"colorscale\":[[0.0,\"#0d0887\"],[0.1111111111111111,\"#46039f\"],[0.2222222222222222,\"#7201a8\"],[0.3333333333333333,\"#9c179e\"],[0.4444444444444444,\"#bd3786\"],[0.5555555555555556,\"#d8576b\"],[0.6666666666666666,\"#ed7953\"],[0.7777777777777778,\"#fb9f3a\"],[0.8888888888888888,\"#fdca26\"],[1.0,\"#f0f921\"]]}],\"surface\":[{\"type\":\"surface\",\"colorbar\":{\"outlinewidth\":0,\"ticks\":\"\"},\"colorscale\":[[0.0,\"#0d0887\"],[0.1111111111111111,\"#46039f\"],[0.2222222222222222,\"#7201a8\"],[0.3333333333333333,\"#9c179e\"],[0.4444444444444444,\"#bd3786\"],[0.5555555555555556,\"#d8576b\"],[0.6666666666666666,\"#ed7953\"],[0.7777777777777778,\"#fb9f3a\"],[0.8888888888888888,\"#fdca26\"],[1.0,\"#f0f921\"]]}],\"mesh3d\":[{\"type\":\"mesh3d\",\"colorbar\":{\"outlinewidth\":0,\"ticks\":\"\"}}],\"scatter\":[{\"fillpattern\":{\"fillmode\":\"overlay\",\"size\":10,\"solidity\":0.2},\"type\":\"scatter\"}],\"parcoords\":[{\"type\":\"parcoords\",\"line\":{\"colorbar\":{\"outlinewidth\":0,\"ticks\":\"\"}}}],\"scatterpolargl\":[{\"type\":\"scatterpolargl\",\"marker\":{\"colorbar\":{\"outlinewidth\":0,\"ticks\":\"\"}}}],\"bar\":[{\"error_x\":{\"color\":\"#2a3f5f\"},\"error_y\":{\"color\":\"#2a3f5f\"},\"marker\":{\"line\":{\"color\":\"#E5ECF6\",\"width\":0.5},\"pattern\":{\"fillmode\":\"overlay\",\"size\":10,\"solidity\":0.2}},\"type\":\"bar\"}],\"scattergeo\":[{\"type\":\"scattergeo\",\"marker\":{\"colorbar\":{\"outlinewidth\":0,\"ticks\":\"\"}}}],\"scatterpolar\":[{\"type\":\"scatterpolar\",\"marker\":{\"colorbar\":{\"outlinewidth\":0,\"ticks\":\"\"}}}],\"histogram\":[{\"marker\":{\"pattern\":{\"fillmode\":\"overlay\",\"size\":10,\"solidity\":0.2}},\"type\":\"histogram\"}],\"scattergl\":[{\"type\":\"scattergl\",\"marker\":{\"colorbar\":{\"outlinewidth\":0,\"ticks\":\"\"}}}],\"scatter3d\":[{\"type\":\"scatter3d\",\"line\":{\"colorbar\":{\"outlinewidth\":0,\"ticks\":\"\"}},\"marker\":{\"colorbar\":{\"outlinewidth\":0,\"ticks\":\"\"}}}],\"scattermapbox\":[{\"type\":\"scattermapbox\",\"marker\":{\"colorbar\":{\"outlinewidth\":0,\"ticks\":\"\"}}}],\"scatterternary\":[{\"type\":\"scatterternary\",\"marker\":{\"colorbar\":{\"outlinewidth\":0,\"ticks\":\"\"}}}],\"scattercarpet\":[{\"type\":\"scattercarpet\",\"marker\":{\"colorbar\":{\"outlinewidth\":0,\"ticks\":\"\"}}}],\"carpet\":[{\"aaxis\":{\"endlinecolor\":\"#2a3f5f\",\"gridcolor\":\"white\",\"linecolor\":\"white\",\"minorgridcolor\":\"white\",\"startlinecolor\":\"#2a3f5f\"},\"baxis\":{\"endlinecolor\":\"#2a3f5f\",\"gridcolor\":\"white\",\"linecolor\":\"white\",\"minorgridcolor\":\"white\",\"startlinecolor\":\"#2a3f5f\"},\"type\":\"carpet\"}],\"table\":[{\"cells\":{\"fill\":{\"color\":\"#EBF0F8\"},\"line\":{\"color\":\"white\"}},\"header\":{\"fill\":{\"color\":\"#C8D4E3\"},\"line\":{\"color\":\"white\"}},\"type\":\"table\"}],\"barpolar\":[{\"marker\":{\"line\":{\"color\":\"#E5ECF6\",\"width\":0.5},\"pattern\":{\"fillmode\":\"overlay\",\"size\":10,\"solidity\":0.2}},\"type\":\"barpolar\"}],\"pie\":[{\"automargin\":true,\"type\":\"pie\"}]},\"layout\":{\"autotypenumbers\":\"strict\",\"colorway\":[\"#636efa\",\"#EF553B\",\"#00cc96\",\"#ab63fa\",\"#FFA15A\",\"#19d3f3\",\"#FF6692\",\"#B6E880\",\"#FF97FF\",\"#FECB52\"],\"font\":{\"color\":\"#2a3f5f\"},\"hovermode\":\"closest\",\"hoverlabel\":{\"align\":\"left\"},\"paper_bgcolor\":\"white\",\"plot_bgcolor\":\"#E5ECF6\",\"polar\":{\"bgcolor\":\"#E5ECF6\",\"angularaxis\":{\"gridcolor\":\"white\",\"linecolor\":\"white\",\"ticks\":\"\"},\"radialaxis\":{\"gridcolor\":\"white\",\"linecolor\":\"white\",\"ticks\":\"\"}},\"ternary\":{\"bgcolor\":\"#E5ECF6\",\"aaxis\":{\"gridcolor\":\"white\",\"linecolor\":\"white\",\"ticks\":\"\"},\"baxis\":{\"gridcolor\":\"white\",\"linecolor\":\"white\",\"ticks\":\"\"},\"caxis\":{\"gridcolor\":\"white\",\"linecolor\":\"white\",\"ticks\":\"\"}},\"coloraxis\":{\"colorbar\":{\"outlinewidth\":0,\"ticks\":\"\"}},\"colorscale\":{\"sequential\":[[0.0,\"#0d0887\"],[0.1111111111111111,\"#46039f\"],[0.2222222222222222,\"#7201a8\"],[0.3333333333333333,\"#9c179e\"],[0.4444444444444444,\"#bd3786\"],[0.5555555555555556,\"#d8576b\"],[0.6666666666666666,\"#ed7953\"],[0.7777777777777778,\"#fb9f3a\"],[0.8888888888888888,\"#fdca26\"],[1.0,\"#f0f921\"]],\"sequentialminus\":[[0.0,\"#0d0887\"],[0.1111111111111111,\"#46039f\"],[0.2222222222222222,\"#7201a8\"],[0.3333333333333333,\"#9c179e\"],[0.4444444444444444,\"#bd3786\"],[0.5555555555555556,\"#d8576b\"],[0.6666666666666666,\"#ed7953\"],[0.7777777777777778,\"#fb9f3a\"],[0.8888888888888888,\"#fdca26\"],[1.0,\"#f0f921\"]],\"diverging\":[[0,\"#8e0152\"],[0.1,\"#c51b7d\"],[0.2,\"#de77ae\"],[0.3,\"#f1b6da\"],[0.4,\"#fde0ef\"],[0.5,\"#f7f7f7\"],[0.6,\"#e6f5d0\"],[0.7,\"#b8e186\"],[0.8,\"#7fbc41\"],[0.9,\"#4d9221\"],[1,\"#276419\"]]},\"xaxis\":{\"gridcolor\":\"white\",\"linecolor\":\"white\",\"ticks\":\"\",\"title\":{\"standoff\":15},\"zerolinecolor\":\"white\",\"automargin\":true,\"zerolinewidth\":2},\"yaxis\":{\"gridcolor\":\"white\",\"linecolor\":\"white\",\"ticks\":\"\",\"title\":{\"standoff\":15},\"zerolinecolor\":\"white\",\"automargin\":true,\"zerolinewidth\":2},\"scene\":{\"xaxis\":{\"backgroundcolor\":\"#E5ECF6\",\"gridcolor\":\"white\",\"linecolor\":\"white\",\"showbackground\":true,\"ticks\":\"\",\"zerolinecolor\":\"white\",\"gridwidth\":2},\"yaxis\":{\"backgroundcolor\":\"#E5ECF6\",\"gridcolor\":\"white\",\"linecolor\":\"white\",\"showbackground\":true,\"ticks\":\"\",\"zerolinecolor\":\"white\",\"gridwidth\":2},\"zaxis\":{\"backgroundcolor\":\"#E5ECF6\",\"gridcolor\":\"white\",\"linecolor\":\"white\",\"showbackground\":true,\"ticks\":\"\",\"zerolinecolor\":\"white\",\"gridwidth\":2}},\"shapedefaults\":{\"line\":{\"color\":\"#2a3f5f\"}},\"annotationdefaults\":{\"arrowcolor\":\"#2a3f5f\",\"arrowhead\":0,\"arrowwidth\":1},\"geo\":{\"bgcolor\":\"white\",\"landcolor\":\"#E5ECF6\",\"subunitcolor\":\"white\",\"showland\":true,\"showlakes\":true,\"lakecolor\":\"white\"},\"title\":{\"x\":0.05},\"mapbox\":{\"style\":\"light\"}}},\"xaxis\":{\"anchor\":\"y\",\"domain\":[0.0,1.0],\"title\":{\"text\":\"Overall Profit\"}},\"yaxis\":{\"anchor\":\"x\",\"domain\":[0.0,1.0],\"title\":{\"text\":\"Profit per Batch\"}},\"legend\":{\"title\":{\"text\":\"variable\"},\"tracegroupgap\":0},\"margin\":{\"t\":60},\"title\":{\"text\":\"Relationship of Door and Window Batch Profit to Overall Profit\"}},                        {\"responsive\": true}                    ).then(function(){\n                            \nvar gd = document.getElementById('ab8959e8-1656-4a07-a9f8-4579ecc0fe87');\nvar x = new MutationObserver(function (mutations, observer) {{\n        var display = window.getComputedStyle(gd).display;\n        if (!display || display === 'none') {{\n            console.log([gd, 'removed!']);\n            Plotly.purge(gd);\n            observer.disconnect();\n        }}\n}});\n\n// Listen for the removal of the full notebook cells\nvar notebookContainer = gd.closest('#notebook-container');\nif (notebookContainer) {{\n    x.observe(notebookContainer, {childList: true});\n}}\n\n// Listen for the clearing of the current output cell\nvar outputEl = gd.closest('.output');\nif (outputEl) {{\n    x.observe(outputEl, {childList: true});\n}}\n\n                        })                };                            </script>        </div>\n</body>\n</html>"
     },
     "execution_count": 3,
     "metadata": {
     },
     "output_type": "execute_result"
    }
   ],
   "source": [
    "# uncomment the next line to see plot in vs code jupyter notebook\n",
    "#pio.renderers.default = \"plotly_mimetype+notebook\"\n",
    "\n",
    "#fig = go.Figure()\n",
    "fig = px.line(df, x='profit', y = ['doors','windows'])\n",
    "\n",
    "# Edit the layout\n",
    "fig.update_layout(title='Relationship of Door and Window Batch Profit to Overall Profit',\n",
    "                  xaxis_title='Overall Profit',\n",
    "                  yaxis_title='Profit per Batch')\n",
    "fig.show()\n"
   ]
  },
  {
   "cell_type": "markdown",
   "metadata": {
    "collapsed": false
   },
   "source": [
    "## Running Linear Regression with Statsmodel\n",
    "Remember that the objective function of a linear program is really nothing more than a linear regression equation, fitted through the origin. We can use this historical data to estimate our coefficients for our linear program. In Python, we'll use `statsmodel` to run our linear regression."
   ]
  },
  {
   "cell_type": "code",
   "execution_count": 4,
   "metadata": {
    "collapsed": false
   },
   "outputs": [
    {
     "name": "stdout",
     "output_type": "stream",
     "text": [
      "                                 OLS Regression Results                                \n",
      "=======================================================================================\n",
      "Dep. Variable:                 profit   R-squared (uncentered):                   0.997\n",
      "Model:                            OLS   Adj. R-squared (uncentered):              0.996\n",
      "Method:                 Least Squares   F-statistic:                              1017.\n",
      "Date:                Fri, 26 Aug 2022   Prob (F-statistic):                    2.55e-08\n",
      "Time:                        18:08:43   Log-Likelihood:                         -19.127\n",
      "No. Observations:                   8   AIC:                                      42.25\n",
      "Df Residuals:                       6   BIC:                                      42.41\n",
      "Df Model:                           2                                                  \n",
      "Covariance Type:            nonrobust                                                  \n",
      "==============================================================================\n",
      "                 coef    std err          t      P>|t|      [0.025      0.975]\n",
      "------------------------------------------------------------------------------\n",
      "doors          4.0289      0.762      5.284      0.002       2.163       5.894\n",
      "windows        5.5221      1.218      4.534      0.004       2.542       8.503\n",
      "==============================================================================\n",
      "Omnibus:                        1.599   Durbin-Watson:                   2.285\n",
      "Prob(Omnibus):                  0.450   Jarque-Bera (JB):                0.971\n",
      "Skew:                          -0.757   Prob(JB):                        0.615\n",
      "Kurtosis:                       2.211   Cond. No.                         10.2\n",
      "==============================================================================\n",
      "\n",
      "Notes:\n",
      "[1] R² is computed without centering (uncentered) since the model does not contain a constant.\n",
      "[2] Standard Errors assume that the covariance matrix of the errors is correctly specified.\n",
      "\n",
      "The coefficients are:\n",
      " doors      4.028878\n",
      "windows    5.522124\n",
      "dtype: float64\n"
     ]
    }
   ],
   "source": [
    "# this is the response variable - what we're trying to predict\n",
    "Y = df['profit']\n",
    "\n",
    "# these are the predictor variables - note that we're using 2 predictor variables, so this is multiple linear regression\n",
    "X = df[['doors', 'windows']]\n",
    "\n",
    "# fitting the regression through the origin is as simple as calling the OLS (ordinary least squares) function, passing in the Y and X (in that order) and fitting the data with the fit function\n",
    "model_obj = sm.OLS(Y, X).fit()\n",
    "\n",
    "# we can extract just the coefficients from the model_obj.params\n",
    "coefs = model_obj.params\n",
    "\n",
    "# we can print the whole model summary to review our model by calling the summary function\n",
    "print(model_obj.summary())\n",
    "\n",
    "print(f'\\nThe coefficients are:\\n {coefs}')\n"
   ]
  },
  {
   "cell_type": "markdown",
   "metadata": {
    "collapsed": false
   },
   "source": [
    "Here we can see that our model accounts for 99.7% of the variability in the overall profit, which is quite good, and both of our predictors are significant with p-values less than .05. (Of course, this data is fairly contrived, and we probably have some issues with multi-collinearity that we're not addressing. But we're just trying to give you a general idea of how this might be used here.)\n",
    "\n",
    "## Utilizing Linear Regression Results in Optimization\n",
    "So how do we use this in optimization? Remember that multiple linear regression with 2 variables and no intercept results in an equation of the form:\n",
    "\n",
    "$y = \\beta_1 * x_1 + \\beta_2 * x_2$\n",
    "\n",
    "Where $\\beta_1$ corresponds to the coefficient for the first variable (in this case doors) and $\\beta_2$ corresponds to the coefficient for the second variable (in this case windows).\n",
    "\n",
    "Doesn't that look exactly like what our optimization objective function looked like when we hard-coded the coefficients for windows and doors?\n",
    "\n",
    "Maximize $Z = 3 * d + 5 * w$\n",
    "\n",
    "In fact, we can just substitute the coefficients from our linear regression to generate an objective function which uses the predicted coefficients. Like so:\n",
    "\n",
    "Maximize $Z = \\beta_1 * d + \\beta_2 * w$\n",
    "\n",
    "Let's see what that looks like in code.\n"
   ]
  },
  {
   "cell_type": "code",
   "execution_count": 5,
   "metadata": {
    "collapsed": false
   },
   "outputs": [
    {
     "name": "stdout",
     "output_type": "stream",
     "text": [
      "Maximum Profit = $41,190.50\n",
      "Batches of Doors = 2.0\n",
      "Batches of Windows = 6.0\n"
     ]
    }
   ],
   "source": [
    "from pyomo.environ import *\n",
    "# abstract Wyndor model, using the predictions from linear regression to replace objective coefficients\n",
    "products = ['Doors', 'Windows']\n",
    "plants = ['Plant1', 'Plant2', 'Plant3']\n",
    "\n",
    "# we simply replace the formally static profit rate for windows and doors with the values returned from the linear regression model.\n",
    "profit_rate = {'Doors': coefs['doors'], 'Windows': coefs['windows']}\n",
    "hours_available = {'Plant1': 4, 'Plant2': 12, 'Plant3': 18}\n",
    "hours_per_batch = {\n",
    "    'Plant1': {\n",
    "        'Doors': 1,\n",
    "        'Windows': 0\n",
    "    },\n",
    "    'Plant2': {\n",
    "        'Doors': 0,\n",
    "        'Windows': 2\n",
    "    },\n",
    "    'Plant3': {\n",
    "        'Doors': 3,\n",
    "        'Windows': 2\n",
    "    }\n",
    "}\n",
    "\n",
    "\n",
    "# Concrete Model\n",
    "model = ConcreteModel(name=\"WyndorWithPredictions\")\n",
    "\n",
    "# Decision Variables\n",
    "model.weekly_prod = Var(products, domain=NonNegativeReals)\n",
    "\n",
    "# Objective\n",
    "model.profit = Objective(expr=sum(profit_rate[pr] * model.weekly_prod[pr]\n",
    "                                  for pr in products),\n",
    "                         sense=maximize)\n",
    "\n",
    "model.capacity = ConstraintList()\n",
    "for pl in plants:\n",
    "    model.capacity.add(\n",
    "        sum(hours_per_batch[pl][pr] * model.weekly_prod[pr]\n",
    "            for pr in products) <= hours_available[pl])\n",
    "\n",
    "# Solve\n",
    "solver = SolverFactory('glpk')\n",
    "solver.solve(model)\n",
    "\n",
    "# display solution (again, we've changed to f-strings)\n",
    "print(f\"Maximum Profit = ${1000*model.profit():,.2f}\")\n",
    "for j in products:\n",
    "    print(f\"Batches of {j} = {model.weekly_prod[j]():.1f}\")\n"
   ]
  },
  {
   "cell_type": "markdown",
   "metadata": {
    "collapsed": false
   },
   "source": [
    "Now that you've seen the basic concepts, we'd like to introduce you to a more complicated scenario that you'll be using for your homework. Don't panic, though. It all works the same way. You'll use predictive analytics to generate estimated coefficients. Once your regression models are built, you'll set the historical data aside, and proceed with linear programming, using those modeled coefficients.\n",
    "\n",
    "# The Scenario"
   ]
  },
  {
   "cell_type": "markdown",
   "metadata": {
    "collapsed": false
   },
   "source": [
    "The following problem takes place in the United States in the late 1990s, when many major US cities were facing issues with airport congestion, partly as a result of the 1978 deregulation of airlines. Both fares and routes were freed from regulation, and low-fare carriers such as Southwest (SW) began competing on existing routes and starting non-stop service on routes that previously lacked it.  Building new airports is not generally feasible, but sometimes decommissioned military bases or smaller municipal airports can be reconfigured as regional or larger commercial airports.  There are numerous players and interests involved in the issue (airlines, city, state, and federal authorities, civic groups, the military, airport operators), and an aviation consulting firm is seeking advisory contracts with these players.  \n",
    "\n",
    "A consulting firm wishes to determine the maximum average fare (FARE) as a function of three variables: COUPON, HI, and DISTANCE.  Moreover, they need to impose constraints on \n",
    "- the number of passengers on that route (PAX) $\\leq 20000$\n",
    "- the starting city’s average personal income (S_INCOME) $\\leq 30000$\n",
    "- the ending city’s average personal income (E_INCOME) $\\geq 30000$\n",
    "\n",
    "However, the variables PAX, S_INCOME, and E_INCOME are not decision variables so the firm first model these variables using COUPON, HI, and DISTANCE as predictors using linear regression (predictive analytics).  They'll also use linear regression to model a linear relation between FARE and COUPON, HI, and DISTANCE.  Armed with these predictive models, the firm will build a linear program (prescriptive analytics) to maximize the average fare.\n",
    "\n",
    "Suppose you are in the aviation consulting firm and you want to maximize airfares for the particular set circumstances described below. The file *Airfares.xlsx* contains real data that were collected between Q3-1996 and Q2-1997. The first sheet contains variable descriptions while the second sheet contains the data.  A csv file of the data is also provided (called *Airfares.csv*).\n",
    "\n",
    "*NOTE: This problem scenario is developed from pp. 170-171 in Data Mining for Business Analytics: Concepts, Techniques, and Applications in R, by Shmueli, Bruce, Yahav, Patel, and Lichtendahl, Wiley, 2017)*"
   ]
  },
  {
   "cell_type": "markdown",
   "metadata": {
    "collapsed": false
   },
   "source": [
    "# Predictive Analytics"
   ]
  },
  {
   "cell_type": "markdown",
   "metadata": {
    "collapsed": false
   },
   "source": [
    "You will use multiple linear regression **through the origin** to fit airfare (FARE) as a linear function of the average number of coupons (COUPON) for that route, the Herfindel Index (HI), and the distance between the two endpoint airports in miles (DISTANCE).  \n",
    "\n",
    "You will build three more linear regression models with COUPON, HI, and DISTANCE as predictors to fit separate regression equations through the origin for response variables:\n",
    "\n",
    "- the number of passengers on that route (PAX)\n",
    "- the starting city’s average personal income (S_INCOME)\n",
    "- the ending city’s average personal income (E_INCOME)\n",
    "\n",
    "Since each of these models uses the same predictors and the only thing that varies is the response variable, you'll write a function that takes in the predictors and response variables which:\n",
    "* runs the linear regression\n",
    "* returns the model\n",
    "* prints the regression equation."
   ]
  },
  {
   "cell_type": "markdown",
   "metadata": {
    "collapsed": false
   },
   "source": [
    "# Prescriptive Analytics"
   ]
  },
  {
   "cell_type": "markdown",
   "metadata": {
    "collapsed": false
   },
   "source": [
    "## Linear Programming"
   ]
  },
  {
   "cell_type": "markdown",
   "metadata": {
    "collapsed": false
   },
   "source": [
    "Use the fitted regression equation for airfare (FARE) as a linear function of the average number of coupons (COUPON) for that route, the Herfindel Index (HI), and the distance between the two endpoint airports in miles (DISTANCE) as the objective function.\n",
    "\n",
    "The three linear regression equations for the number of passengers on that route (PAX), the starting city’s average personal income (S_INCOME), the ending city’s average personal income (E_INCOME) as functions of the average number of coupons (COUPON) for that route, the Herfindel Index (HI), and the distance between the two endpoint airports in miles (DISTANCE) are to be used as three of the constraint equations.\n",
    "\n",
    "- the number of passengers on that route (PAX) $\\leq 20000$\n",
    "- the starting city’s average personal income (S_INCOME) $\\leq 30000$\n",
    "- the ending city’s average personal income (E_INCOME) $\\geq 30000$\n",
    "\n",
    "For additional constraints:\n",
    "* restrict COUPON to no more than 1.5\n",
    "* limit HI to between 4000 and 8000, inclusive\n",
    "* consider only routes with DISTANCE between 500 and 1000 miles, inclusive."
   ]
  },
  {
   "cell_type": "markdown",
   "metadata": {
    "collapsed": false,
    "heading_collapsed": true
   },
   "source": [
    "# Complete the Homework Quiz"
   ]
  },
  {
   "cell_type": "markdown",
   "metadata": {
    "collapsed": false,
    "hidden": true
   },
   "source": [
    "We've provided a Jupyter notebook that walks you through each of the questions in the homework quiz. Use the notebook to run your code. Transfer your answers to the Canvas quiz when complete.\n"
   ]
  }
 ],
 "metadata": {
  "kernelspec": {
   "display_name": "Python 3 (system-wide)",
   "language": "python",
   "metadata": {
    "cocalc": {
     "description": "Python 3 programming language",
     "priority": 100,
     "url": "https://www.python.org/"
    }
   },
   "name": "python3",
   "resource_dir": "/ext/jupyter/kernels/python3"
  },
  "language_info": {
   "codemirror_mode": {
    "name": "ipython",
    "version": 3
   },
   "file_extension": ".py",
   "mimetype": "text/x-python",
   "name": "python",
   "nbconvert_exporter": "python",
   "pygments_lexer": "ipython3",
   "version": "3.8.10"
  },
  "toc": {
   "base_numbering": 1,
   "nav_menu": {
   },
   "number_sections": true,
   "sideBar": true,
   "skip_h1_title": false,
   "title_cell": "Table of Contents",
   "title_sidebar": "Contents",
   "toc_cell": false,
   "toc_position": {
    "height": "calc(100% - 180px)",
    "left": "10px",
    "top": "150px",
    "width": "262.712px"
   },
   "toc_section_display": true,
   "toc_window_display": true
  }
 },
 "nbformat": 4,
 "nbformat_minor": 4
}