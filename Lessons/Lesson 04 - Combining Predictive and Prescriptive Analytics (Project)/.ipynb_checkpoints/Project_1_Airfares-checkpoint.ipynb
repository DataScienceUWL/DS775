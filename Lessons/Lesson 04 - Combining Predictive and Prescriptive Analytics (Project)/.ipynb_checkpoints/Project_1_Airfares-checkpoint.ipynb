{
 "cells": [
  {
   "cell_type": "code",
   "execution_count": null,
   "metadata": {
    "code_folding": [
     0
    ],
    "scrolled": true
   },
   "outputs": [],
   "source": [
    "# execute to import notebook styling for tables and width etc.\n",
    "from IPython.core.display import HTML\n",
    "import urllib.request\n",
    "response = urllib.request.urlopen('https://raw.githubusercontent.com/DataScienceUWL/DS775v2/master/ds755.css')\n",
    "HTML(response.read().decode(\"utf-8\"));"
   ]
  },
  {
   "cell_type": "markdown",
   "metadata": {},
   "source": [
    "<font size=18>Project 1: Airfares</font>"
   ]
  },
  {
   "cell_type": "markdown",
   "metadata": {},
   "source": [
    "This notebook will give you an idea about the background and scope of this project in addition to instructions."
   ]
  },
  {
   "cell_type": "markdown",
   "metadata": {},
   "source": [
    "# The Scenario"
   ]
  },
  {
   "cell_type": "markdown",
   "metadata": {},
   "source": [
    "The following problem takes place in the United States in the late 1990s, when many major US cities were facing issues with airport congestion, partly as a result of the 1978 deregulation of airlines. Both fares and routes were freed from regulation, and low-fare carriers such as Southwest (SW) began competing on existing routes and starting non-stop service on routes that previously lacked it.  Building new airports is not generally feasible, but sometimes decommissioned military bases or smaller municipal airports can be reconfigured as regional or larger commercial airports.  There are numerous players and interests involved in the issue (airlines, city, state, and federal authorities, civic groups, the military, airport operators), and an aviation consulting firm is seeking advisory contracts with these players.  \n",
    "\n",
    "A consulting firm wishes to determine the maximum average fare (FARE) as a function of three variables: COUPON, HI, and DISTANCE.  Moreover, they need to impose constraints on \n",
    "- the number of passengers on that route (PAX) $\\leq 20000$\n",
    "- the starting city’s average personal income (S_INCOME) $\\leq 30000$\n",
    "- the ending city’s average personal income (E_INCOME) $\\geq 30000$\n",
    "\n",
    "However, the variables PAX, S_INCOME, and E_INCOME are not decision variables so the firm first model these variables using COUPON, HI, and DISTANCE as predictors using linear regression (predictive analytics).  They'll also use linear regression to model a linear relation between FARE and COUPON, HI, and DISTANCE.  Armed with these predictive models the firm will build a linear program (prescriptive analytics) to maximize the average fare.\n",
    "\n",
    "Suppose you are in the aviation consulting firm and you want to maximize airfares for the particular set circumstances described below. The file *Airfares.xlsx* contains real data that were collected between Q3-1996 and Q2-1997. The first sheet contains variable descriptions while the second sheet contains the data.  A csv file of the data is also provided (called *Airfares.csv*).\n",
    "\n",
    "*NOTE: This problem scenario is developed from pp. 170-171 in Data Mining for Business Analytics: Concepts, Techniques, and Applications in R, by Shmueli, Bruce, Yahav, Patel, and Lichtendahl, Wiley, 2017)*"
   ]
  },
  {
   "cell_type": "markdown",
   "metadata": {},
   "source": [
    "# Predictive Analytics"
   ]
  },
  {
   "cell_type": "markdown",
   "metadata": {},
   "source": [
    "Use multiple linear regression **through the origin** to fit airfare (FARE) as a linear function of the average number of coupons (COUPON) for that route, the Herfindel Index (HI), and the distance between the two endpoint airports in miles (DISTANCE).  \n",
    "\n",
    "Build three more linear regression models with COUPON, HI, and DISTANCE as predictors to fit separate regression equations through the origin for response variables:\n",
    "\n",
    "- the number of passengers on that route (PAX)\n",
    "- the starting city’s average personal income (S_INCOME)\n",
    "- the ending city’s average personal income (E_INCOME)"
   ]
  },
  {
   "cell_type": "markdown",
   "metadata": {},
   "source": [
    "## Linear Regression Example in Python"
   ]
  },
  {
   "cell_type": "markdown",
   "metadata": {},
   "source": [
    "In DS705 you saw how to do linear regression in R.  Here is a Python example to get you started.  We'll show you how to do it both with `statsmodels` and with `sklearn`.  The `statsmodel` approach is probably best since you also get the statistical information.  `sklearn` is included since it's a popular machine learning package that is worth learning.\n",
    "\n",
    "The file age_height.csv contains ages (years) and heights (inches) for 7 children.  Here we show how to get the linear regression model for predicting height from age.  We'll start with the \"through the origin\" model which means initially we are fitting a model of the form height = c * age with no intercept term (or intercept = 0)."
   ]
  },
  {
   "cell_type": "markdown",
   "metadata": {},
   "source": [
    "### With `statsmodels` package "
   ]
  },
  {
   "cell_type": "code",
   "execution_count": 7,
   "metadata": {},
   "outputs": [
    {
     "name": "stdout",
     "output_type": "stream",
     "text": [
      "                                 OLS Regression Results                                \n",
      "=======================================================================================\n",
      "Dep. Variable:                 height   R-squared (uncentered):                   0.948\n",
      "Model:                            OLS   Adj. R-squared (uncentered):              0.939\n",
      "Method:                 Least Squares   F-statistic:                              109.4\n",
      "Date:                Sun, 08 Sep 2019   Prob (F-statistic):                    4.49e-05\n",
      "Time:                        13:22:13   Log-Likelihood:                         -25.770\n",
      "No. Observations:                   7   AIC:                                      53.54\n",
      "Df Residuals:                       6   BIC:                                      53.49\n",
      "Df Model:                           1                                                  \n",
      "Covariance Type:            nonrobust                                                  \n",
      "==============================================================================\n",
      "                 coef    std err          t      P>|t|      [0.025      0.975]\n",
      "------------------------------------------------------------------------------\n",
      "age            7.0636      0.675     10.457      0.000       5.411       8.716\n",
      "==============================================================================\n",
      "Omnibus:                          nan   Durbin-Watson:                   0.537\n",
      "Prob(Omnibus):                    nan   Jarque-Bera (JB):                0.305\n",
      "Skew:                          -0.302   Prob(JB):                        0.859\n",
      "Kurtosis:                       2.176   Cond. No.                         1.00\n",
      "==============================================================================\n",
      "\n",
      "Warnings:\n",
      "[1] Standard Errors assume that the covariance matrix of the errors is correctly specified.\n",
      "age    7.063559\n",
      "dtype: float64\n"
     ]
    },
    {
     "name": "stderr",
     "output_type": "stream",
     "text": [
      "/Users/jbaggett/anaconda3/envs/ds775/lib/python3.7/site-packages/statsmodels/stats/stattools.py:71: ValueWarning: omni_normtest is not valid with less than 8 observations; 7 samples were given.\n",
      "  \"samples were given.\" % int(n), ValueWarning)\n"
     ]
    }
   ],
   "source": [
    "import statsmodels.api as sm\n",
    "import pandas as pd\n",
    "\n",
    "age_height = pd.read_csv(\"data/age_height.csv\")\n",
    "\n",
    "# define predictor variables\n",
    "X = age_height['age'] \n",
    "\n",
    "# for multiple predictors example: X = age_height[['age','gender']]\n",
    "\n",
    "# define response variables\n",
    "Y = age_height['height']\n",
    "\n",
    "# add a constant to the model (uncomment if you want to add an intercept term)\n",
    "# X = sm.add_constant(X) \n",
    "\n",
    "# fit the objective function and pull out coefficients\n",
    "model_obj = sm.OLS(Y, X).fit()\n",
    "coefs_obj = model_obj.params\n",
    "\n",
    "print(model_obj.summary())\n",
    "print(coefs_obj)"
   ]
  },
  {
   "cell_type": "markdown",
   "metadata": {
    "heading_collapsed": true
   },
   "source": [
    "### With `sklearn` machine learning package"
   ]
  },
  {
   "cell_type": "code",
   "execution_count": 35,
   "metadata": {
    "hidden": true
   },
   "outputs": [
    {
     "name": "stdout",
     "output_type": "stream",
     "text": [
      "No intercept (through the origin)\n",
      "Slope is: 7.0636\n",
      "Model is: Y = 7.0636 X\n",
      "\n",
      "Intercept included: \n",
      "Slope is: 2.9375\n",
      "Intercept is: 25.6250\n",
      "Model is: Y = 2.9375 X + 25.6250\n"
     ]
    }
   ],
   "source": [
    "from sklearn.linear_model import LinearRegression    \n",
    "import pandas as pd\n",
    "import numpy as np\n",
    "\n",
    "age_height = pd.read_csv(\"data/age_height.csv\")\n",
    "\n",
    "# define predictor variables\n",
    "X = np.array(age_height['age'])\n",
    "\n",
    "# for multiple predictors example: X = age_height[['age','gender']]\n",
    "\n",
    "# define response variables\n",
    "Y = np.array(age_height['height'])\n",
    "\n",
    "model = LinearRegression(fit_intercept = False)\n",
    "model.fit(X.reshape(-1,1), Y)\n",
    "print('No intercept (through the origin)')\n",
    "print('Slope is: {:2.4f}'.format(model.coef_[0]) )\n",
    "print('Model is: Y = {:2.4f} X'.format(model.coef_[0]) )\n",
    "\n",
    "# if you want to include the usual intercept term\n",
    "model2 = LinearRegression(fit_intercept = True)\n",
    "model2.fit(X.reshape(-1,1), Y)\n",
    "print('\\nIntercept included: ')\n",
    "print('Slope is: {:2.4f}'.format(model2.coef_[0]) )\n",
    "print('Intercept is: {:2.4f}'.format(model2.intercept_) )\n",
    "print('Model is: Y = {:2.4f} X + {:2.4f}'.format(model2.coef_[0],model2.intercept_))"
   ]
  },
  {
   "cell_type": "markdown",
   "metadata": {},
   "source": [
    "# Prescriptive Analytics"
   ]
  },
  {
   "cell_type": "markdown",
   "metadata": {},
   "source": [
    "## Linear Programming"
   ]
  },
  {
   "cell_type": "markdown",
   "metadata": {},
   "source": [
    "Use the fitted regression equation for airfare (FARE) as a linear function of the average number of coupons (COUPON) for that route, the Herfindel Index (HI), and the distance between the two endpoint airports in miles (DISTANCE) as the objective function.\n",
    "\n",
    "The three linear regression equations for the number of passengers on that route (PAX), the starting city’s average personal income (S_INCOME), the ending city’s average personal income (E_INCOME) as functions of the average number of coupons (COUPON) for that route, the Herfindel Index (HI), and the distance between the two endpoint airports in miles (DISTANCE) are to be used as three of the constraint equations.\n",
    "\n",
    "- the number of passengers on that route (PAX) $\\leq 20000$\n",
    "- the starting city’s average personal income (S_INCOME) $\\leq 30000$\n",
    "- the ending city’s average personal income (E_INCOME) $\\geq 30000$\n",
    "\n",
    "For additional constraints, restrict COUPON to no more than 1.5, limit HI to between 4000 and 8000, inclusive, and consider only routes with DISTANCE between 500 and 1000 miles, inclusive."
   ]
  },
  {
   "cell_type": "markdown",
   "metadata": {},
   "source": [
    "## Sensitivity Analysis"
   ]
  },
  {
   "cell_type": "markdown",
   "metadata": {},
   "source": [
    "Produce the sensitivity analysis report."
   ]
  },
  {
   "cell_type": "markdown",
   "metadata": {
    "heading_collapsed": true
   },
   "source": [
    "# Write the Report"
   ]
  },
  {
   "cell_type": "markdown",
   "metadata": {
    "hidden": true
   },
   "source": [
    "Write a report in the Jupyter notebook provided that summarizes the details of this project organized in sections as defined here.\n",
    "\n",
    "**Section 1 - Introduction**: Summarize the problem statement, establishing the context and methods used in this project.\n",
    "\n",
    "**Section 2**: Provide a brief summary of the liner regression models used to estimate coefficients that will be used in the linear programming problem.  Explain why the multiple regression equations had to be fitted through the origin (consider the assumptions of linear programming).\n",
    "\n",
    "**Section 3**: The optimal value of the airfare and for which values of COUPON, HI, and DISTANCE it occurs. \n",
    "\n",
    "**Section 4**: From the sensitivity report, explain which constraints are binding for the number of passengers on that route (PAX), the starting city’s average personal income (S_INCOME), and the ending city’s average personal income (E_INCOME). If the constraint is binding, interpret the shadow price in the context of the problem.  If the constraint is not binding, interpret the slack in the context of the problem.\n",
    "\n",
    "**Section 5**: Interpret the activity ranges for COUPON, HI, and DISTANCE in the context of the problem.\n",
    "\n",
    "**Section 6 - Conclusion**: Briefly summarize the main conclusion of this project, state what you see as any limitations of the methods used here, and suggest other possible methods of addressing the maximizing of airfare in this problem scenario.\n",
    "\n",
    "**Section 7**: Include an appendix showing the mathematical formulation for the linear programming problem used in this project.\n"
   ]
  },
  {
   "cell_type": "code",
   "execution_count": null,
   "metadata": {
    "hidden": true
   },
   "outputs": [],
   "source": []
  }
 ],
 "metadata": {
  "kernelspec": {
   "display_name": "Python 3",
   "language": "python",
   "name": "python3"
  },
  "language_info": {
   "codemirror_mode": {
    "name": "ipython",
    "version": 3
   },
   "file_extension": ".py",
   "mimetype": "text/x-python",
   "name": "python",
   "nbconvert_exporter": "python",
   "pygments_lexer": "ipython3",
   "version": "3.7.4"
  },
  "toc": {
   "base_numbering": 1,
   "nav_menu": {},
   "number_sections": true,
   "sideBar": true,
   "skip_h1_title": false,
   "title_cell": "Table of Contents",
   "title_sidebar": "Contents",
   "toc_cell": false,
   "toc_position": {
    "height": "calc(100% - 180px)",
    "left": "10px",
    "top": "150px",
    "width": "262.712px"
   },
   "toc_section_display": true,
   "toc_window_display": true
  }
 },
 "nbformat": 4,
 "nbformat_minor": 2
}
