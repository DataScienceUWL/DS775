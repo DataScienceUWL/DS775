{
 "cells": [
  {
   "cell_type": "code",
   "execution_count": 1,
   "metadata": {
    "collapsed": false
   },
   "outputs": [
   ],
   "source": [
    "# Execute this cell first\n",
    "\n",
    "# plotting imports\n",
    "import matplotlib.pyplot as plt\n",
    "import seaborn as sns\n",
    "sns.set_style(\"darkgrid\")\n",
    "\n",
    "# display imports\n",
    "from IPython.display import display, IFrame\n",
    "from IPython.core.display import HTML\n",
    "\n",
    "# for playing videos, customize height and width if desired\n",
    "# keep a 16:9 ratio, e.g. 960 by 540, or 1280 by 720\n",
    "def play_video(vid_name, w=640, h=360):\n",
    "    vid_path = \"https://media.uwex.edu/content/ds/ds775_r19/\"\n",
    "    return IFrame(vid_path + vid_name + \"/index.html\", width=w, height=h)\n",
    "\n",
    "from scipy.stats import norm\n",
    "from sklearn.gaussian_process import GaussianProcessRegressor\n",
    "from sklearn.model_selection import cross_val_score\n",
    "from sklearn.linear_model import Ridge, LogisticRegression\n",
    "from sklearn.datasets import load_iris\n",
    "from sklearn.metrics import confusion_matrix\n",
    "\n",
    "from skopt.plots import plot_convergence\n",
    "from skopt import gp_minimize\n",
    "from scipy.optimize import minimize_scalar, dual_annealing\n",
    "\n",
    "from warnings import catch_warnings, simplefilter, filterwarnings\n",
    "import numpy as np\n",
    "import pandas as pd\n",
    "import json\n",
    "from simanneal import Annealer"
   ]
  },
  {
   "cell_type": "markdown",
   "metadata": {
    "collapsed": false
   },
   "source": [
    "<font size=18>Lesson 06: Global Optimization 1</font>"
   ]
  },
  {
   "cell_type": "markdown",
   "metadata": {
    "collapsed": false
   },
   "source": [
    "This week we're going to continue our exploration of global optimization by looking at two global optimization algorithms:  Simulated Annealing and Bayesian Optimization."
   ]
  },
  {
   "cell_type": "markdown",
   "metadata": {
    "collapsed": false,
    "hidden": true
   },
   "source": [
    "# Global Optimization\n",
    "\n",
    "The goal of global optimization is to find the global optimal value which means we want to identify the best possible solution in the entire search space.  However, for many problems the search space is too large and/or the function landscape is too complicated to guarantee that the best solution can be found.\n",
    "\n",
    "A metaheuristic algorithm attempts to find a good solution without any guarantee of being able to find the best solution.  Often metaheuristics are stochastic in nature, that is they incorporate randomness as an element of the search, but they aren't generally completely random in nature.  They incorporate search patterns which are known to work well for the problem at hand.\n",
    "\n",
    "Metaheuristic algorithms try to find a compromise somewhere between randomly searching the search space and local search.  People speak of the **exploration and exploitation tradeoff**.  Exploration ensures the algorithm reaches different promising regions of the search space, whereas exploitation ensures the searching of optimal solutions within the given region.  The trick is in finding the right balance. Go too far into exploitation and the algorithm gets stuck in local extrema, go too far to exploration and the algorithm will waste time on solutions that are less likely to be good and ignore the information already gathered.\n",
    "\n",
    "Unfortunately, there is no single algorithm which works best for all classes of problems.  This is often referred to as a \"no free lunch theorem\" in optimization.  In this lesson, we focus on Simulated Annealing and Bayesian Optimization."
   ]
  },
  {
   "cell_type": "markdown",
   "metadata": {
    "collapsed": false,
    "heading_collapsed": true
   },
   "source": [
    "# Simulated Annealing"
   ]
  },
  {
   "cell_type": "markdown",
   "metadata": {
    "collapsed": false,
    "hidden": true
   },
   "source": [
    "Think of simulated annealing as an enhanced local search that allows some moves that don't improve the best function value to try to climb\n",
    "\n",
    "In a hill-climbing local search we only allow moves that increase the objective function value.\n",
    "\n",
    "Here is our pseudo-code from the previous lesson for **Local Search:**\n",
    "```\n",
    " set starting state \n",
    " while local_condition \n",
    "     select a move \n",
    "     if acceptable \n",
    "         do the move \n",
    "         if new optimum \n",
    "             remember it \n",
    " endwhile \n",
    " ```\n",
    "\n",
    "Simulated annealing is a trajectory based method for generating a sequence of solutions and is similar our basic \"hill-climbing\" local search algorithm.  In a strict hill-climbing algorithm we only allow uphill moves, but in simulated move we sometimes allow downhill moves and are more likely to allow downhill moves in the early part of the search.  The idea is that to find the tallest peak in a mountain range we have to first descend from a lower peak.\n",
    "\n",
    "The probability of a downhill move is determined by a temperature parameter that decreases throughout the search.  The probability of a downhill move depends on the size of the downhill move compared to the temperature.  At high temperatures large and small downhill moves are probable, but as the temperature decreases only small downhill moves are probable so that the search performs similarly to a local search at low temperatures\n",
    "\n",
    "In simulated annealing algorithm high temperature promotes exploration (global search) while low temperature promote exploitation (local search).  As the algorithm proceeds, the temperature decreases and transitions from exploration to exploitation.\n",
    "\n",
    "Here is pseudocode for **Simulated Annealing:**\n",
    "```\n",
    " set starting state and initial temperature\n",
    " while local_condition \n",
    "     select a move \n",
    "     if acceptable \n",
    "         do the move \n",
    "         if new optimum or random # < probability determined by temperature\n",
    "             remember it\n",
    "     decrease temperature\n",
    " endwhile \n",
    " ```\n",
    " \n",
    "Choosing the initial temperature and the manner in which the temperature decreases are critical to the performance of simulated annealing.  We'll start with a temperature schedule that looks like this:\n",
    "$$ T = T_0 \\alpha^n.$$\n",
    "Where $T_0$ is the initial temperature, $0 < \\alpha < 1,$ and $n$ is the number of iterations.   This is called geometric temperature decay, but many other choices are possible.  However, there aren't really rules for how to choose $T_0$ and $\\alpha$.  Usually we'll choose $T_0$ to be similar to the size of the function to be optimized when it is evaluated at random points and $\\alpha$ should be close to $1$ like $\\alpha = 0.99$.  You may have to experiment with the values of these parameters to achieve good results.  The simanneal package introduced below includes some automatic tuning of the temperature schedule that seems to work well for many problems, but it can be much slower than setting a fixed schedule for some problems.\n",
    "\n",
    "In the next section we'll demonstrate simulated annealing using our own code for the traveling salesman problem, but in general we'll use the `simanneal` package that will be introduced further below."
   ]
  },
  {
   "cell_type": "markdown",
   "metadata": {
    "collapsed": false,
    "hidden": true
   },
   "source": [
    "# Simulated Annealing with TSP (video)"
   ]
  },
  {
   "cell_type": "markdown",
   "metadata": {
    "collapsed": false,
    "hidden": true
   },
   "source": [
    "We'll use the seven city example TSP from the textbook. Find the shortest tour (or cheapest cost) to visit all 7 cities and return to the starting city in the following graph:\n",
    "\n",
    "<img src=\"./images/HillierTSP.png\" width=400>\n",
    "\n",
    "We'll store all the intercity distances in a two-dimensional list that we call distance_matrix. For cities that aren't connected we'll use the \"bigM\" method and introduce a distance of 100 between those pairs of cities so that those routes won't be included in the tour. Note that the picture labels the cities 1 through 7, but in Python we'll use 0 through 6.  The data is stored in the included json file.\n",
    "\n",
    "If you want to really understand how simulated annealing works, the following video includes a walkthrough of the code below."
   ]
  },
  {
   "cell_type": "code",
   "execution_count": 2,
   "metadata": {
    "code_folding": [
    ],
    "collapsed": false,
    "hidden": true
   },
   "outputs": [
    {
     "data": {
      "text/html": [
       "\n",
       "        <iframe\n",
       "            width=\"640\"\n",
       "            height=\"360\"\n",
       "            src=\"https://media.uwex.edu/content/ds/ds775_r19/ds775_lesson5_simulated-anneal-tsp/index.html\"\n",
       "            frameborder=\"0\"\n",
       "            allowfullscreen\n",
       "            \n",
       "        ></iframe>\n",
       "        "
      ],
      "text/plain": [
       "<IPython.lib.display.IFrame at 0x7f57148c35b0>"
      ]
     },
     "execution_count": 2,
     "metadata": {
     },
     "output_type": "execute_result"
    }
   ],
   "source": [
    "# execute this cell for video\n",
    "play_video(\"ds775_lesson5_simulated-anneal-tsp\")"
   ]
  },
  {
   "cell_type": "code",
   "execution_count": 3,
   "metadata": {
    "collapsed": false,
    "hidden": true,
    "scrolled": true
   },
   "outputs": [
    {
     "name": "stdout",
     "output_type": "stream",
     "text": [
      "testing caching\n"
     ]
    },
    {
     "data": {
      "text/plain": [
       "63"
      ]
     },
     "execution_count": 3,
     "metadata": {
     },
     "output_type": "execute_result"
    }
   ],
   "source": [
    "# load data (this may have to be adapted for different problems)\n",
    "with open(\"data/HillierTSP.json\", \"r\") as tsp_data:\n",
    "    tsp = json.load(tsp_data)\n",
    "distance_matrix = tsp[\"DistanceMatrix\"]\n",
    "individual_size = tsp[\"TourSize\"]\n",
    "\n",
    "# define objective function\n",
    "def tour_distance(individual, dist_mat):\n",
    "    distance = dist_mat[individual[-1]][individual[0]]\n",
    "    for gene1, gene2 in zip(individual[0:-1], individual[1:]):\n",
    "        distance += dist_mat[gene1][gene2]\n",
    "    return distance\n",
    "\n",
    "def sub_tour_reversal(tour):\n",
    "    # reverse a random tour segment\n",
    "    num_cities = len(tour)\n",
    "    i, j = np.sort(np.random.choice(num_cities, 2, replace=False))\n",
    "    return np.concatenate((tour[0:i], tour[j:-num_cities + i - 1:-1],\n",
    "                              tour[j + 1:num_cities]))\n",
    "\n",
    "# Random Number Seed\n",
    "# if you want reproducible results, then uncomment the following line\n",
    "# and play with the seed value until you get a result you like. If you run \n",
    "# it again with the same value, then you'll get the same result.\n",
    "# np.random.seed(123)\n",
    "\n",
    "def simanneal_tsp(init_state, dist_mat, max_no_improve, init_temp, alpha): ###\n",
    "    '''\n",
    "    We use state to refer to the values of the input variable(s) for the objective function.\n",
    "    For the TSP problem, the state is a tour of the cities.\n",
    "    We use obj to refer to the objective function value.\n",
    "    For the TSP problem, obj is the total distance of the tour.\n",
    "    \n",
    "    To adapt this for another minimization problem, \n",
    "    only the lines with tour_distance and sub_tour_reversal need to change \n",
    "    to give a different objective function and a different move function.\n",
    "    Additional arguments to the objective function should be passed into the search function\n",
    "    similar to how we passed in dist_mat abov\n",
    "    '''\n",
    "\n",
    "    curr_state = init_state\n",
    "    curr_obj = tour_distance(curr_state, dist_mat)\n",
    "    best_state = curr_state  ###\n",
    "    best_obj = curr_obj  ###\n",
    "\n",
    "    # stop search if no better state is found within max_no_improve iterations\n",
    "    num_moves_no_improve = 0\n",
    "    iterations = 0\n",
    "    temp = init_temp\n",
    "\n",
    "    # save history for plotting after optimization\n",
    "    history = np.array([[iterations, curr_obj, best_obj]])  ###\n",
    "\n",
    "    while (num_moves_no_improve < max_no_improve):\n",
    "        num_moves_no_improve += 1\n",
    "        iterations += 1  # just for tracking\n",
    "        new_state = sub_tour_reversal(curr_state) # make a move\n",
    "        new_obj = tour_distance(new_state, dist_mat)\n",
    "        delta = curr_obj - new_obj ###\n",
    "        prob = np.exp(min(delta, 0) / temp) ### # compute prob accept uphill move\n",
    "\n",
    "        if new_obj < curr_obj or np.random.uniform() < prob : ### # accept if decrease or rand < prob\n",
    "            curr_state = new_state\n",
    "            curr_obj = new_obj\n",
    "            if curr_obj < best_obj: ### # keep track of best ever\n",
    "                best_state = curr_state ###\n",
    "                best_obj = curr_obj ###\n",
    "                num_moves_no_improve = 0 ###\n",
    "\n",
    "        temp *= alpha ###\n",
    "\n",
    "        history = np.vstack( (history, np.array([[iterations,curr_obj,best_obj]]) ) ) ###\n",
    "\n",
    "    return best_state, best_obj, iterations, history\n",
    "\n",
    "# apply the simanneal_tsp() function to our seven city problem\n",
    "num_cities = len(distance_matrix)\n",
    "init_tour = np.random.permutation(np.arange(num_cities))\n",
    "\n",
    "print('testing caching')\n",
    "\n",
    "best_tour, best_dist, iterations, history = simanneal_tsp(init_tour, distance_matrix, 200, 100, .995)\n",
    "best_dist"
   ]
  },
  {
   "cell_type": "code",
   "execution_count": 4,
   "metadata": {
    "collapsed": false,
    "hidden": true
   },
   "outputs": [
    {
     "data": {
      "image/png": "[encoded data removed]",
      "text/plain": [
       "<Figure size 576x432 with 1 Axes>"
      ]
     },
     "execution_count": 4,
     "metadata": {
      "image/png": {
       "height": 386,
       "width": 503
      }
     },
     "output_type": "execute_result"
    }
   ],
   "source": [
    "# plot the progress of the search for visualization\n",
    "# it isn't necessary to do this in the homework, but you're welcome to do so\n",
    "\n",
    "fig = plt.figure(figsize=(8, 6))\n",
    "line_min, = plt.plot(history[:,0], history[:,1], label='Curr. Dist.',color='red')\n",
    "line_curr, = plt.plot(history[:,0],history[:,2], label='Best. Dist.')\n",
    "plt.xlabel('Generation')\n",
    "plt.ylabel('Distance')\n",
    "plt.legend(handles=[line_curr, line_min])\n",
    "plt.title('Smallest Dist. Found: {:d}'.format(int(best_dist)));"
   ]
  },
  {
   "cell_type": "markdown",
   "metadata": {
    "collapsed": false,
    "heading_collapsed": true,
    "hidden": true
   },
   "source": [
    "### *Self Assessment: Simulated Annealing for Value Balancing*"
   ]
  },
  {
   "cell_type": "markdown",
   "metadata": {
    "collapsed": false,
    "hidden": true
   },
   "source": [
    "Revisit the Value Balancing Problem introduced in Lesson 5 (it's the next-to-last section in the lesson).  Start with the local search code that is included in the self-assessment solutions and adapt it to do simulated annealing for the Value Balancing problem.  First try it on the four item problem and then see how it performs on the 1000 item problem.  Do you get good solutions?"
   ]
  },
  {
   "cell_type": "markdown",
   "metadata": {
    "collapsed": false,
    "heading_collapsed": true,
    "hidden": true
   },
   "source": [
    "## Using the `simanneal` package (video)"
   ]
  },
  {
   "cell_type": "markdown",
   "metadata": {
    "collapsed": false,
    "hidden": true
   },
   "source": [
    "The `simanneal` package is pretty straightforward to use. Using the `simanneal` package has a couple of advantages over our version of simulated annealing above.  First, we don't have to worry about the algorithm framework.  Second, we don't have to worry about figuring out a temperature schedule.  While it's possible to specify a temperature schedule, it is far easier to use the `auto` scheduler and specify the approximate amount of time we'd like to wait for a solution\n",
    "\n",
    "The package works by making an object of the `Annealer` class and then calling the anneal method on that object. To set up a problem we have to set three things in our instance of the `Annealer` class.\n",
    "\n",
    "1.  the state initializer \n",
    "2.  the move function that tells the annealing algorithm how to generate new moves\n",
    "3.  the fitness function (fitness is called energy in this package, and it was called objective in the `locsearch` package in Lesson 4).\n",
    "\n",
    "The anneal method appears to always find minima, so you may have to negate your function if you want to find a maximum. The <a href=\"https://github.com/perrygeo/simanneal\">Github page</a> has some short documentation about the `simanneal` package.\n",
    "\n",
    "The next cell is walkthrough of the code below."
   ]
  },
  {
   "cell_type": "code",
   "execution_count": 5,
   "metadata": {
    "collapsed": false,
    "hidden": true
   },
   "outputs": [
    {
     "data": {
      "text/html": [
       "\n",
       "        <iframe\n",
       "            width=\"640\"\n",
       "            height=\"360\"\n",
       "            src=\"https://media.uwex.edu/content/ds/ds775_r19/ds775_lesson5_simanneal-package-on-tsp/index.html\"\n",
       "            frameborder=\"0\"\n",
       "            allowfullscreen\n",
       "            \n",
       "        ></iframe>\n",
       "        "
      ],
      "text/plain": [
       "<IPython.lib.display.IFrame at 0x7f56f78b05b0>"
      ]
     },
     "execution_count": 5,
     "metadata": {
     },
     "output_type": "execute_result"
    }
   ],
   "source": [
    "# execute this cell for video\n",
    "play_video(\"ds775_lesson5_simanneal-package-on-tsp\")"
   ]
  },
  {
   "cell_type": "code",
   "execution_count": 6,
   "metadata": {
    "collapsed": false
   },
   "outputs": [
    {
     "name": "stderr",
     "output_type": "stream",
     "text": [
      " Temperature        Energy    Accept   Improve     Elapsed   Remaining\n",
      "\r     0.00000        340.00                         0:00:00            \r"
     ]
    },
    {
     "name": "stderr",
     "output_type": "stream",
     "text": [
      "\r   140.00000        156.00    76.75%    30.90%     0:00:00     0:00:02\r\r"
     ]
    },
    {
     "name": "stderr",
     "output_type": "stream",
     "text": [
      "\r   210.00000        244.00    84.45%    35.15%     0:00:00     0:00:02\r\r"
     ]
    },
    {
     "name": "stderr",
     "output_type": "stream",
     "text": [
      "\r   320.00000        156.00    88.95%    36.35%     0:00:00     0:00:02\r\r"
     ]
    },
    {
     "name": "stderr",
     "output_type": "stream",
     "text": [
      "\r   480.00000        251.00    92.00%    38.00%     0:00:00     0:00:02\r\r"
     ]
    },
    {
     "name": "stderr",
     "output_type": "stream",
     "text": [
      "\r   720.00000        242.00    95.05%    40.25%     0:00:00     0:00:01\r\r"
     ]
    },
    {
     "name": "stderr",
     "output_type": "stream",
     "text": [
      "\r  1100.00000        158.00    96.85%    40.20%     0:00:01     0:00:01\r\r"
     ]
    },
    {
     "name": "stderr",
     "output_type": "stream",
     "text": [
      "\r  1600.00000        160.00    97.90%    41.45%     0:00:01     0:00:01\r\r"
     ]
    },
    {
     "name": "stderr",
     "output_type": "stream",
     "text": [
      "\r  2400.00000        251.00    98.65%    41.70%     0:00:01     0:00:01\r\r"
     ]
    },
    {
     "name": "stderr",
     "output_type": "stream",
     "text": [
      "\r  1600.00000        424.00    97.45%    41.50%     0:00:01     0:00:01\r\r"
     ]
    },
    {
     "name": "stderr",
     "output_type": "stream",
     "text": [
      "\r  1100.00000        247.00    96.85%    40.50%     0:00:01     0:00:01\r\r"
     ]
    },
    {
     "name": "stderr",
     "output_type": "stream",
     "text": [
      "\r   730.00000        244.00    95.65%    39.75%     0:00:01     0:00:01\r\r"
     ]
    },
    {
     "name": "stderr",
     "output_type": "stream",
     "text": [
      "\r   490.00000        245.00    92.40%    38.25%     0:00:01     0:00:01\r\r"
     ]
    },
    {
     "name": "stderr",
     "output_type": "stream",
     "text": [
      "\r   330.00000        246.00    89.80%    37.65%     0:00:01     0:00:01\r\r"
     ]
    },
    {
     "name": "stderr",
     "output_type": "stream",
     "text": [
      "\r   220.00000        426.00    83.20%    34.10%     0:00:01     0:00:01\r\r"
     ]
    },
    {
     "name": "stderr",
     "output_type": "stream",
     "text": [
      "\r   150.00000        156.00    76.75%    31.25%     0:00:01     0:00:01\r\r"
     ]
    },
    {
     "name": "stderr",
     "output_type": "stream",
     "text": [
      "\r   100.00000         65.00    68.70%    26.35%     0:00:01     0:00:01\r\r"
     ]
    },
    {
     "name": "stderr",
     "output_type": "stream",
     "text": [
      "\r    67.00000        158.00    55.80%    20.55%     0:00:02     0:00:01\r\r"
     ]
    },
    {
     "name": "stderr",
     "output_type": "stream",
     "text": [
      "\r    45.00000        157.00    43.95%    15.05%     0:00:02     0:00:01\r\r"
     ]
    },
    {
     "name": "stderr",
     "output_type": "stream",
     "text": [
      "\r    30.00000         69.00    35.30%    10.65%     0:00:02     0:00:00\r\r"
     ]
    },
    {
     "name": "stderr",
     "output_type": "stream",
     "text": [
      "\r    20.00000         65.00    28.90%     7.65%     0:00:02     0:00:00\r\r"
     ]
    },
    {
     "name": "stderr",
     "output_type": "stream",
     "text": [
      "\r    13.00000         63.00    26.30%     6.45%     0:00:02     0:00:00\r\r"
     ]
    },
    {
     "name": "stderr",
     "output_type": "stream",
     "text": [
      "\r     8.70000         63.00    24.35%     5.75%     0:00:02     0:00:00\r\r"
     ]
    },
    {
     "name": "stderr",
     "output_type": "stream",
     "text": [
      "\r     5.80000         65.00    27.35%     5.50%     0:00:02     0:00:00\r\r"
     ]
    },
    {
     "name": "stderr",
     "output_type": "stream",
     "text": [
      "\r     3.90000         68.00    24.00%     4.35%     0:00:02     0:00:00\r\r"
     ]
    },
    {
     "name": "stderr",
     "output_type": "stream",
     "text": [
      "\r     2.60000         64.00    22.80%     4.05%     0:00:02     0:00:00\r\r"
     ]
    },
    {
     "name": "stderr",
     "output_type": "stream",
     "text": [
      "\r     1.70000         66.00    19.30%     2.25%     0:00:02     0:00:00\r\r"
     ]
    },
    {
     "name": "stderr",
     "output_type": "stream",
     "text": [
      "\r     1.10000         63.00    15.70%     1.05%     0:00:03     0:00:00\r\r"
     ]
    },
    {
     "name": "stderr",
     "output_type": "stream",
     "text": [
      "\r     0.73000         63.00    13.95%     0.05%     0:00:03     0:00:00\r\r"
     ]
    },
    {
     "name": "stderr",
     "output_type": "stream",
     "text": [
      "\r     0.49000         63.00    14.85%     0.00%     0:00:03     0:00:00\r\r"
     ]
    },
    {
     "name": "stderr",
     "output_type": "stream",
     "text": [
      " Temperature        Energy    Accept   Improve     Elapsed   Remaining\n",
      "\r  2400.00000         63.00                         0:00:00            \r"
     ]
    },
    {
     "name": "stderr",
     "output_type": "stream",
     "text": [
      "\r  2204.50501        427.00    98.50%    43.12%     0:00:00     0:00:13\r\r"
     ]
    },
    {
     "name": "stderr",
     "output_type": "stream",
     "text": [
      "\r  2024.93431        243.00    97.58%    40.73%     0:00:00     0:00:11\r\r"
     ]
    },
    {
     "name": "stderr",
     "output_type": "stream",
     "text": [
      "\r  1859.99076        157.00    98.27%    41.73%     0:00:00     0:00:11\r\r"
     ]
    },
    {
     "name": "stderr",
     "output_type": "stream",
     "text": [
      "\r  1708.48290        336.00    98.46%    41.92%     0:00:00     0:00:11\r\r"
     ]
    },
    {
     "name": "stderr",
     "output_type": "stream",
     "text": [
      "\r  1569.31629        422.00    98.42%    41.73%     0:00:01     0:00:10\r\r"
     ]
    },
    {
     "name": "stderr",
     "output_type": "stream",
     "text": [
      "\r  1441.48568        332.00    97.42%    40.69%     0:00:01     0:00:10\r\r"
     ]
    },
    {
     "name": "stderr",
     "output_type": "stream",
     "text": [
      "\r  1324.06767        337.00    97.23%    40.85%     0:00:01     0:00:10\r\r"
     ]
    },
    {
     "name": "stderr",
     "output_type": "stream",
     "text": [
      "\r  1216.21409        245.00    97.50%    42.12%     0:00:01     0:00:10\r\r"
     ]
    },
    {
     "name": "stderr",
     "output_type": "stream",
     "text": [
      "\r  1117.14585        245.00    97.12%    41.73%     0:00:01     0:00:12\r\r"
     ]
    },
    {
     "name": "stderr",
     "output_type": "stream",
     "text": [
      "\r  1026.14734        340.00    96.92%    40.62%     0:00:01     0:00:12\r\r"
     ]
    },
    {
     "name": "stderr",
     "output_type": "stream",
     "text": [
      "\r   942.56123        334.00    96.08%    40.46%     0:00:01     0:00:12\r\r"
     ]
    },
    {
     "name": "stderr",
     "output_type": "stream",
     "text": [
      "\r   865.78373        430.00    96.50%    40.04%     0:00:02     0:00:12\r\r"
     ]
    },
    {
     "name": "stderr",
     "output_type": "stream",
     "text": [
      "\r   795.26024        245.00    96.12%    39.81%     0:00:02     0:00:11\r\r"
     ]
    },
    {
     "name": "stderr",
     "output_type": "stream",
     "text": [
      "\r   730.48133        430.00    95.77%    40.58%     0:00:02     0:00:11\r\r"
     ]
    },
    {
     "name": "stderr",
     "output_type": "stream",
     "text": [
      "\r   670.97906        424.00    94.85%    39.50%     0:00:02     0:00:11\r\r"
     ]
    },
    {
     "name": "stderr",
     "output_type": "stream",
     "text": [
      "\r   616.32363        252.00    93.58%    39.96%     0:00:02     0:00:11\r\r"
     ]
    },
    {
     "name": "stderr",
     "output_type": "stream",
     "text": [
      "\r   566.12022        249.00    94.58%    39.62%     0:00:02     0:00:10\r\r"
     ]
    },
    {
     "name": "stderr",
     "output_type": "stream",
     "text": [
      "\r   520.00619        159.00    93.69%    40.08%     0:00:02     0:00:10\r\r"
     ]
    },
    {
     "name": "stderr",
     "output_type": "stream",
     "text": [
      "\r   477.64844        161.00    92.08%    37.58%     0:00:02     0:00:10\r\r"
     ]
    },
    {
     "name": "stderr",
     "output_type": "stream",
     "text": [
      "\r   438.74099        422.00    93.15%    38.81%     0:00:02     0:00:10\r\r"
     ]
    },
    {
     "name": "stderr",
     "output_type": "stream",
     "text": [
      "\r   403.00279        341.00    92.19%    37.77%     0:00:03     0:00:10\r\r"
     ]
    },
    {
     "name": "stderr",
     "output_type": "stream",
     "text": [
      "\r   370.17570        335.00    90.19%    37.85%     0:00:03     0:00:09\r\r"
     ]
    },
    {
     "name": "stderr",
     "output_type": "stream",
     "text": [
      "\r   340.02258        246.00    90.42%    37.88%     0:00:03     0:00:09\r\r"
     ]
    },
    {
     "name": "stderr",
     "output_type": "stream",
     "text": [
      "\r   312.32561        250.00    89.81%    37.69%     0:00:03     0:00:09\r\r"
     ]
    },
    {
     "name": "stderr",
     "output_type": "stream",
     "text": [
      "\r   286.88474        332.00    88.54%    36.50%     0:00:03     0:00:09\r\r"
     ]
    },
    {
     "name": "stderr",
     "output_type": "stream",
     "text": [
      "\r   263.51619        515.00    87.85%    36.38%     0:00:03     0:00:09\r\r"
     ]
    },
    {
     "name": "stderr",
     "output_type": "stream",
     "text": [
      "\r   242.05115        158.00    86.35%    36.88%     0:00:03     0:00:09\r\r"
     ]
    },
    {
     "name": "stderr",
     "output_type": "stream",
     "text": [
      "\r   222.33457        157.00    85.35%    35.69%     0:00:03     0:00:09\r\r"
     ]
    },
    {
     "name": "stderr",
     "output_type": "stream",
     "text": [
      "\r   204.22403        239.00    83.88%    34.65%     0:00:04     0:00:09\r\r"
     ]
    },
    {
     "name": "stderr",
     "output_type": "stream",
     "text": [
      "\r   187.58871        239.00    83.15%    34.46%     0:00:04     0:00:09\r\r"
     ]
    },
    {
     "name": "stderr",
     "output_type": "stream",
     "text": [
      "\r   172.30844        241.00    80.88%    33.08%     0:00:04     0:00:09\r\r"
     ]
    },
    {
     "name": "stderr",
     "output_type": "stream",
     "text": [
      "\r   158.27284         63.00    77.85%    31.04%     0:00:04     0:00:09\r\r"
     ]
    },
    {
     "name": "stderr",
     "output_type": "stream",
     "text": [
      "\r   145.38053        246.00    78.42%    31.85%     0:00:04     0:00:09\r\r"
     ]
    },
    {
     "name": "stderr",
     "output_type": "stream",
     "text": [
      "\r   133.53837        250.00    76.88%    31.00%     0:00:04     0:00:08\r\r"
     ]
    },
    {
     "name": "stderr",
     "output_type": "stream",
     "text": [
      "\r   122.66084        246.00    74.54%    30.92%     0:00:04     0:00:08\r\r"
     ]
    },
    {
     "name": "stderr",
     "output_type": "stream",
     "text": [
      "\r   112.66935         65.00    72.42%    29.12%     0:00:05     0:00:08\r\r"
     ]
    },
    {
     "name": "stderr",
     "output_type": "stream",
     "text": [
      "\r   103.49173         64.00    70.00%    27.92%     0:00:05     0:00:08\r\r"
     ]
    },
    {
     "name": "stderr",
     "output_type": "stream",
     "text": [
      "\r    95.06168        246.00    66.73%    25.54%     0:00:05     0:00:08\r\r"
     ]
    },
    {
     "name": "stderr",
     "output_type": "stream",
     "text": [
      "\r    87.31831        337.00    66.31%    25.42%     0:00:05     0:00:08\r\r"
     ]
    },
    {
     "name": "stderr",
     "output_type": "stream",
     "text": [
      "\r    80.20569        155.00    64.54%    24.35%     0:00:05     0:00:08\r\r"
     ]
    },
    {
     "name": "stderr",
     "output_type": "stream",
     "text": [
      "\r    73.67244        337.00    61.19%    23.31%     0:00:05     0:00:07\r\r"
     ]
    },
    {
     "name": "stderr",
     "output_type": "stream",
     "text": [
      "\r    67.67136        154.00    57.54%    21.54%     0:00:05     0:00:07\r\r"
     ]
    },
    {
     "name": "stderr",
     "output_type": "stream",
     "text": [
      "\r    62.15910        160.00    56.69%    20.81%     0:00:05     0:00:07\r\r"
     ]
    },
    {
     "name": "stderr",
     "output_type": "stream",
     "text": [
      "\r    57.09585        159.00    53.08%    19.35%     0:00:06     0:00:07\r\r"
     ]
    },
    {
     "name": "stderr",
     "output_type": "stream",
     "text": [
      "\r    52.44504        158.00    49.85%    17.38%     0:00:06     0:00:07\r\r"
     ]
    },
    {
     "name": "stderr",
     "output_type": "stream",
     "text": [
      "\r    48.17306         65.00    48.50%    17.65%     0:00:06     0:00:07\r\r"
     ]
    },
    {
     "name": "stderr",
     "output_type": "stream",
     "text": [
      "\r    44.24907         63.00    43.46%    15.08%     0:00:06     0:00:07\r\r"
     ]
    },
    {
     "name": "stderr",
     "output_type": "stream",
     "text": [
      "\r    40.64470         69.00    41.04%    13.38%     0:00:06     0:00:07\r\r"
     ]
    },
    {
     "name": "stderr",
     "output_type": "stream",
     "text": [
      "\r    37.33394         69.00    39.62%    13.23%     0:00:06     0:00:07\r\r"
     ]
    },
    {
     "name": "stderr",
     "output_type": "stream",
     "text": [
      "\r    34.29286         69.00    36.77%    11.54%     0:00:06     0:00:06\r\r"
     ]
    },
    {
     "name": "stderr",
     "output_type": "stream",
     "text": [
      "\r    31.49949         64.00    33.85%    10.96%     0:00:07     0:00:06\r\r"
     ]
    },
    {
     "name": "stderr",
     "output_type": "stream",
     "text": [
      "\r    28.93366         65.00    35.85%    10.65%     0:00:07     0:00:06\r\r"
     ]
    },
    {
     "name": "stderr",
     "output_type": "stream",
     "text": [
      "\r    26.57683         63.00    32.69%     9.00%     0:00:07     0:00:06\r\r"
     ]
    },
    {
     "name": "stderr",
     "output_type": "stream",
     "text": [
      "\r    24.41198         69.00    33.35%     9.23%     0:00:07     0:00:06\r\r"
     ]
    },
    {
     "name": "stderr",
     "output_type": "stream",
     "text": [
      "\r    22.42347         66.00    29.65%     8.00%     0:00:07     0:00:06\r\r"
     ]
    },
    {
     "name": "stderr",
     "output_type": "stream",
     "text": [
      "\r    20.59694         68.00    29.58%     7.62%     0:00:07     0:00:06\r\r"
     ]
    },
    {
     "name": "stderr",
     "output_type": "stream",
     "text": [
      "\r    18.91919         69.00    28.92%     6.92%     0:00:07     0:00:05\r\r"
     ]
    },
    {
     "name": "stderr",
     "output_type": "stream",
     "text": [
      "\r    17.37811         65.00    29.69%     7.62%     0:00:07     0:00:05\r\r"
     ]
    },
    {
     "name": "stderr",
     "output_type": "stream",
     "text": [
      "\r    15.96255         69.00    27.23%     6.46%     0:00:07     0:00:05\r\r"
     ]
    },
    {
     "name": "stderr",
     "output_type": "stream",
     "text": [
      "\r    14.66230         65.00    27.42%     7.04%     0:00:08     0:00:05\r\r"
     ]
    },
    {
     "name": "stderr",
     "output_type": "stream",
     "text": [
      "\r    13.46797         64.00    25.73%     6.35%     0:00:08     0:00:05\r\r"
     ]
    },
    {
     "name": "stderr",
     "output_type": "stream",
     "text": [
      "\r    12.37092         69.00    26.81%     6.38%     0:00:08     0:00:05\r\r"
     ]
    },
    {
     "name": "stderr",
     "output_type": "stream",
     "text": [
      "\r    11.36323         65.00    26.19%     6.35%     0:00:08     0:00:05\r\r"
     ]
    },
    {
     "name": "stderr",
     "output_type": "stream",
     "text": [
      "\r    10.43762         69.00    24.96%     5.46%     0:00:08     0:00:05\r\r"
     ]
    },
    {
     "name": "stderr",
     "output_type": "stream",
     "text": [
      "\r     9.58741         68.00    25.12%     5.62%     0:00:08     0:00:05\r\r"
     ]
    },
    {
     "name": "stderr",
     "output_type": "stream",
     "text": [
      "\r     8.80646         68.00    26.04%     5.73%     0:00:09     0:00:04\r\r"
     ]
    },
    {
     "name": "stderr",
     "output_type": "stream",
     "text": [
      "\r     8.08912         65.00    25.62%     5.88%     0:00:09     0:00:04\r\r"
     ]
    },
    {
     "name": "stderr",
     "output_type": "stream",
     "text": [
      "\r     7.43021         69.00    25.73%     5.88%     0:00:09     0:00:04\r\r"
     ]
    },
    {
     "name": "stderr",
     "output_type": "stream",
     "text": [
      "\r     6.82497         68.00    25.27%     5.85%     0:00:09     0:00:04\r\r"
     ]
    },
    {
     "name": "stderr",
     "output_type": "stream",
     "text": [
      "\r     6.26903         63.00    27.19%     6.81%     0:00:09     0:00:04\r\r"
     ]
    },
    {
     "name": "stderr",
     "output_type": "stream",
     "text": [
      "\r     5.75838         63.00    25.77%     5.62%     0:00:09     0:00:04\r\r"
     ]
    },
    {
     "name": "stderr",
     "output_type": "stream",
     "text": [
      "\r     5.28933         69.00    25.54%     5.62%     0:00:09     0:00:04\r\r"
     ]
    },
    {
     "name": "stderr",
     "output_type": "stream",
     "text": [
      "\r     4.85848         66.00    23.31%     4.62%     0:00:09     0:00:03\r\r"
     ]
    },
    {
     "name": "stderr",
     "output_type": "stream",
     "text": [
      "\r     4.46272         66.00    25.92%     6.23%     0:00:10     0:00:03\r\r"
     ]
    },
    {
     "name": "stderr",
     "output_type": "stream",
     "text": [
      "\r     4.09921         64.00    24.50%     4.85%     0:00:10     0:00:03\r\r"
     ]
    },
    {
     "name": "stderr",
     "output_type": "stream",
     "text": [
      "\r     3.76530         63.00    23.58%     5.19%     0:00:10     0:00:03\r\r"
     ]
    },
    {
     "name": "stderr",
     "output_type": "stream",
     "text": [
      "\r     3.45859         65.00    24.50%     5.19%     0:00:10     0:00:03\r\r"
     ]
    },
    {
     "name": "stderr",
     "output_type": "stream",
     "text": [
      "\r     3.17687         64.00    22.38%     4.50%     0:00:10     0:00:03\r\r"
     ]
    },
    {
     "name": "stderr",
     "output_type": "stream",
     "text": [
      "\r     2.91809         64.00    22.77%     3.65%     0:00:10     0:00:03\r\r"
     ]
    },
    {
     "name": "stderr",
     "output_type": "stream",
     "text": [
      "\r     2.68040         63.00    21.12%     3.46%     0:00:10     0:00:03\r\r"
     ]
    },
    {
     "name": "stderr",
     "output_type": "stream",
     "text": [
      "\r     2.46206         63.00    21.96%     4.15%     0:00:10     0:00:02\r\r"
     ]
    },
    {
     "name": "stderr",
     "output_type": "stream",
     "text": [
      "\r     2.26151         66.00    20.38%     3.23%     0:00:10     0:00:02\r\r"
     ]
    },
    {
     "name": "stderr",
     "output_type": "stream",
     "text": [
      "\r     2.07730         65.00    20.77%     2.92%     0:00:11     0:00:02\r\r"
     ]
    },
    {
     "name": "stderr",
     "output_type": "stream",
     "text": [
      "\r     1.90809         64.00    18.88%     2.31%     0:00:11     0:00:02\r\r"
     ]
    },
    {
     "name": "stderr",
     "output_type": "stream",
     "text": [
      "\r     1.75266         63.00    20.42%     3.08%     0:00:11     0:00:02\r\r"
     ]
    },
    {
     "name": "stderr",
     "output_type": "stream",
     "text": [
      "\r     1.60990         63.00    19.19%     2.62%     0:00:11     0:00:02\r\r"
     ]
    },
    {
     "name": "stderr",
     "output_type": "stream",
     "text": [
      "\r     1.47876         64.00    19.88%     2.19%     0:00:11     0:00:02\r\r"
     ]
    },
    {
     "name": "stderr",
     "output_type": "stream",
     "text": [
      "\r     1.35831         64.00    19.85%     2.42%     0:00:11     0:00:02\r\r"
     ]
    },
    {
     "name": "stderr",
     "output_type": "stream",
     "text": [
      "\r     1.24766         65.00    19.27%     2.23%     0:00:12     0:00:01\r\r"
     ]
    },
    {
     "name": "stderr",
     "output_type": "stream",
     "text": [
      "\r     1.14603         63.00    16.77%     1.12%     0:00:12     0:00:01\r\r"
     ]
    },
    {
     "name": "stderr",
     "output_type": "stream",
     "text": [
      "\r     1.05268         65.00    17.15%     1.62%     0:00:12     0:00:01\r\r"
     ]
    },
    {
     "name": "stderr",
     "output_type": "stream",
     "text": [
      "\r     0.96694         64.00    16.27%     1.19%     0:00:12     0:00:01\r\r"
     ]
    },
    {
     "name": "stderr",
     "output_type": "stream",
     "text": [
      "\r     0.88817         63.00    16.58%     1.00%     0:00:12     0:00:01\r\r"
     ]
    },
    {
     "name": "stderr",
     "output_type": "stream",
     "text": [
      "\r     0.81582         63.00    15.85%     0.65%     0:00:12     0:00:01\r\r"
     ]
    },
    {
     "name": "stderr",
     "output_type": "stream",
     "text": [
      "\r     0.74937         64.00    17.31%     1.85%     0:00:12     0:00:01\r\r"
     ]
    },
    {
     "name": "stderr",
     "output_type": "stream",
     "text": [
      "\r     0.68833         63.00    16.54%     0.62%     0:00:12     0:00:01\r\r"
     ]
    },
    {
     "name": "stderr",
     "output_type": "stream",
     "text": [
      "\r     0.63226         64.00    14.08%     0.46%     0:00:13     0:00:00\r\r"
     ]
    },
    {
     "name": "stderr",
     "output_type": "stream",
     "text": [
      "\r     0.58076         64.00    15.92%     1.38%     0:00:13     0:00:00\r\r"
     ]
    },
    {
     "name": "stderr",
     "output_type": "stream",
     "text": [
      "\r     0.53345         63.00    15.50%     0.81%     0:00:13     0:00:00\r\r"
     ]
    },
    {
     "name": "stderr",
     "output_type": "stream",
     "text": [
      "\r     0.49000         63.00    14.46%     0.19%     0:00:13     0:00:00\r\r"
     ]
    },
    {
     "data": {
      "text/plain": [
       "63"
      ]
     },
     "execution_count": 6,
     "metadata": {
     },
     "output_type": "execute_result"
    }
   ],
   "source": [
    "# relies on data loaded in previous section\n",
    "\n",
    "# import numpy as np\n",
    "# from simanneal import Annealer\n",
    "\n",
    "def tour_distance(tour, dist_mat):\n",
    "    tour = [int(t) for t in tour] # tour must be integers for indexing to work, this is just to be sure\n",
    "    distance = dist_mat[tour[-1]][tour[0]]\n",
    "    for gene1, gene2 in zip(tour[0:-1], tour[1:]):\n",
    "        distance += dist_mat[gene1][gene2]\n",
    "    return distance\n",
    "\n",
    "def sub_tour_reversal(tour):\n",
    "    # reverse a random tour segment\n",
    "    num_cities = len(tour)\n",
    "    i, j = np.sort(np.random.choice(num_cities, 2, replace=False))\n",
    "    return np.concatenate((tour[0:i], tour[j:-num_cities + i - 1:-1],\n",
    "                              tour[j + 1:num_cities]))\n",
    "class TravellingSalesmanProblem(Annealer):\n",
    "\n",
    "    # pass extra data (the distance matrix) into the constructor\n",
    "    def __init__(self, state, distance_matrix):\n",
    "        self.distance_matrix = distance_matrix\n",
    "        super(TravellingSalesmanProblem, self).__init__(state)  # important!\n",
    "\n",
    "    def move(self):\n",
    "        self.state = sub_tour_reversal(self.state)\n",
    "\n",
    "    def energy(self):\n",
    "        return tour_distance(self.state, self.distance_matrix)\n",
    "\n",
    "# load data (this may have to be adapted for different problems)\n",
    "with open(\"data/HillierTSP.json\", \"r\") as tsp_data:\n",
    "    tsp = json.load(tsp_data)\n",
    "distance_matrix = tsp[\"DistanceMatrix\"]\n",
    "init_tour = np.random.permutation(np.arange(len(distance_matrix))).astype(int).tolist()\n",
    "\n",
    "tsp = TravellingSalesmanProblem(init_tour, distance_matrix)\n",
    "tsp.set_schedule(tsp.auto(minutes=.2)) #set approximate time to find results\n",
    "\n",
    "best_tour, best_dist = tsp.anneal()\n",
    "\n",
    "best_dist"
   ]
  },
  {
   "cell_type": "markdown",
   "metadata": {
    "collapsed": false,
    "hidden": true
   },
   "source": [
    "### *Self Assessment: Simulated Annealing for Value Balancing with `simanneal`*"
   ]
  },
  {
   "cell_type": "markdown",
   "metadata": {
    "collapsed": false,
    "hidden": true
   },
   "source": [
    "Revisit the Value Balancing example from Lesson 5 and solve it using `simanneal`.\n",
    "\n",
    "See if your code can find the correct answer to our 4-item/2 group problem first, using just 10 for the number of loops without improvement. Even if you don't use the debug flag, use plenty of print statements to help you follow the action at first.\n",
    "\n",
    "When you have that working, using the following code to generate a larger list of item values. Break it into 4 groups. You will need to up the maximum moves without improvement for the second problem, but we were able to do it with the maximum moves with no improvement set to 200.\n",
    "\n",
    "Which works better - our implementation or the `simanneal` package?"
   ]
  },
  {
   "cell_type": "code",
   "execution_count": 0,
   "metadata": {
    "collapsed": false
   },
   "outputs": [
   ],
   "source": [
   ]
  },
  {
   "cell_type": "markdown",
   "metadata": {
    "collapsed": false,
    "heading_collapsed": true,
    "hidden": true
   },
   "source": [
    "## Simulated Annealing for Continuous Optimization"
   ]
  },
  {
   "cell_type": "markdown",
   "metadata": {
    "collapsed": false,
    "hidden": true
   },
   "source": [
    "Simulated annealing was designed for combinatorial (discrete) optimization problems, but has been adapted to continuous optimization problems.  The main issue is how to generate a new move at each iteration.  There are many variations, but often the move is selected at random from a suitable probability distribution such as a normal or uniform distribution.\n",
    "\n",
    "The objective functions we consider here aren't from real applications, instead they're chosen to give you an idea how the algorithm works for difficult optimization problems with many local optima.  It's good to have this sort of thing in mind when, for instance, you're trying to train a complicated neural network and have to optimize the weights in the network to find the best fit to your data."
   ]
  },
  {
   "cell_type": "markdown",
   "metadata": {
    "collapsed": false,
    "heading_collapsed": true,
    "hidden": true
   },
   "source": [
    "### A non-convex 2D example"
   ]
  },
  {
   "cell_type": "markdown",
   "metadata": {
    "collapsed": false,
    "hidden": true
   },
   "source": [
    "We found this two-dimensional example in <a href=\"http://apmonitor.com/me575/index.php/Main/SimulatedAnnealing\">this tutorial</a> on simulated annealing.\n",
    "\n",
    "Find the minimum value of \n",
    "$$f(x,y) = 0.2 + x^2 + y^2 - 0.1 \\cos(6 \\pi x) - 0.1 \\cos(6 \\pi y)$$ \n",
    "\n",
    "for $-1 \\leq x,y \\leq 1$.  This function is similar to the Rastrigin function and the global minimum value is $f(0,0) = 0$.  A contour plot, shown below, illustrates that there are many local minima (in the center of many of the small loops, some correspond to local maxima).  The <a href = \"http://apmonitor.com/me575/index.php/Main/SimulatedAnnealing\">tutorial</a> itself is worthy of a look and has a nice flow chart outlining how simulated annealing works."
   ]
  },
  {
   "cell_type": "code",
   "execution_count": 0,
   "metadata": {
    "collapsed": false
   },
   "outputs": [
   ],
   "source": [
    "# define objective function and show a contour plot\n",
    "\n",
    "# note that xy here represents a numpy array with two elements (scalars x and y)\n",
    "def bumpy(xy):\n",
    "    obj = 0.2 + sum(xy**2 - 0.1*np.cos(6*np.pi*xy))\n",
    "    return obj\n",
    "\n",
    "# we could have written the objective function like this for transparency:\n",
    "# if the argument is a list with [ numpy array of x's, numpy array of y's]\n",
    "# def bumpy(xy):\n",
    "#     x = xy[0]\n",
    "#     y = xy[1]\n",
    "#     obj = 0.2 + x**2 + y**2 - 0.1*np.cos(6*np.pi*x) - 0.1*np.cos(6*np.pi*y)\n",
    "#     return obj\n",
    "# see script for details of plot\n",
    "%run scripts/bumpy_contours.py"
   ]
  },
  {
   "cell_type": "markdown",
   "metadata": {
    "collapsed": false
   },
   "source": [
    "Here is a 3D plot that makes it easier to see the local minima in the search space.  A local search will easily get stuck in the wrong minimum if the initial search point isn't very close to the origin."
   ]
  },
  {
   "cell_type": "code",
   "execution_count": 0,
   "metadata": {
    "collapsed": false
   },
   "outputs": [
   ],
   "source": [
    "%run scripts/bumpy_2d.py"
   ]
  },
  {
   "cell_type": "markdown",
   "metadata": {
    "collapsed": false,
    "hidden": true
   },
   "source": [
    "To use simulated annealing to optimize a function with continuous variables isn't all that different than how we used it to find a good, or even optimal, tour in the traveling salesman problem.  \n",
    "\n",
    "We're going to rely on the `simanneal` package in the rest of this lesson because it's much more robust than our \"home-brewed\" code in the `simanneal_tsp()` function above. \n",
    "To use the package we'll have to generate an initial state, define the `energy()` method for returning the objective function value, and define the `move()` method for making a move from a current state to a new state.\n",
    "\n",
    "To generate an initial state you could select uniformly distributed random numbers between -1 and 1:\n",
    "```\n",
    "init_state = np.random.uniform(low=-1, high=1, size=2)\n",
    "```\n",
    "\n",
    "We like to write functions for computing the objective function value and for making moves and then call those functions from the `move()` and `energy()` methods in the class definition for our problem as we did in the simanneal package TSP example above.\n",
    "\n",
    "We already have the objective function from where we made the contour plot:\n",
    "```\n",
    "def f(xy):\n",
    "    obj = 0.2 + sum(xy**2 - 0.1*np.cos(6*np.pi*xy))\n",
    "    return obj\n",
    "```\n",
    "\n",
    "Making a move will consist of applying two functions successively.  The first function adds normally distributed random numbers to each variable while the second function clips values that are out of the $[-1,1]$ bounds.  The scale of the move will need to be passed to the first function, while the values of the lower and upper bounds need to be passed to the clipping function.  These values will need to be initialized in the `__init__` constructor similar to how we worked with the distance matrix in the TSP example.  Here are the functions:\n",
    "```\n",
    "def gauss_move(xy,sigma):\n",
    "    # xy is a 1 by dim numpy array\n",
    "    # sigma is the standard deviation for the normal distribution\n",
    "    dim = len(xy)\n",
    "    return xy + np.random.normal(loc = 0, scale = sigma, size=dim)\n",
    "\n",
    "def clip_to_bounds(xy,low,high):\n",
    "    # xy is a 1 by dim numpy array\n",
    "    # low is the lower bound for clipping variables\n",
    "    # high is the upper bound for clipping variables\n",
    "    return np.array( [min(high,max(low,v)) for v in xy])\n",
    "```"
   ]
  },
  {
   "cell_type": "markdown",
   "metadata": {
    "collapsed": false
   },
   "source": [
    "#### *Self-Assessment for Simulated Annealing with Continuous Variables*\n",
    "\n",
    "Use the objective and move functions from above to create a class using the `simanneal` package.  Use it to approximate the location of the global minimum for the \"Bumpy\" function above.  You'll notice that you will usually get close to the location of the global minimum at the origin, but it won't be exact because it is very difficult to randomly move exactly to the minimum location.  Typically, for continuous functions, simulated annealing is combined with local search in an iterative procedure (we'll see an example of this in the homework with the `dual_annealing` optimizer from the `scipy.optimize` package.  For this example you could take the best state found by simulated annealing and use it to start a local search using `minimize` from `scipy.optimize` package.\n",
    "\n",
    "The code from the TSP example above is a good starting point.  Instead of the distance matrix you'll need to pass the scale parameter sigma to determine the size of the moves.  A good starting point for sigma is range/6 where range = upper bound - lower bound.  This value for sigma is because a normal distribution is about 6 * sigma wide.  You may want to experiment with the value of sigma to see how it affects the result of simulated annealing.  You could also play with the time allowed when you set the schedule for the annealing.\n",
    "\n",
    "### Dual_Annealing from scipy.optimize\n",
    "\n",
    "Simulated annealing works with both continuous and discrete variables.  For the case of continuous variables the dual_annealing algorithm in the scipy.optimize package tends to work rather well.  It combines simulated annealing for exploration of the search space along with local search to enhance the convergence once a good minimum is found.  It's pretty easy to use and <a href=\"https://docs.scipy.org/doc/scipy/reference/generated/scipy.optimize.dual_annealing.html\">documentation can be found here.</a>. You can also execute the cell below to see the documentation:"
   ]
  },
  {
   "cell_type": "code",
   "execution_count": 0,
   "metadata": {
    "collapsed": false,
    "scrolled": true
   },
   "outputs": [
   ],
   "source": [
    "# execute for dual_annealing documentation\n",
    "?dual_annealing"
   ]
  },
  {
   "cell_type": "markdown",
   "metadata": {
    "collapsed": false
   },
   "source": [
    "#### Dual_Annealing Applied to \"Bumpy\"\n",
    "\n",
    "Try executing the cell below.  Note that you won't get exactly the same answer if you execute the cell repeatedly because of the random nature of simulated annealing.  In any case, the global minimum function value is 0 and occurs at x = 0, y = 0.  Dual_annealing finds this minimum approximately to within its default convergence settings:"
   ]
  },
  {
   "cell_type": "code",
   "execution_count": 0,
   "metadata": {
    "collapsed": false
   },
   "outputs": [
   ],
   "source": [
    "def bumpy(xy):\n",
    "    obj = 0.2 + sum(xy**2 - 0.1*np.cos(6*np.pi*xy))\n",
    "    return obj\n",
    "\n",
    "bounds = [(-1,1),(-1,1)] # one tuple for each dimension\n",
    "res = dual_annealing(bumpy, bounds)\n",
    "\n",
    "print(f'The minimum value is {res.fun} and occurs at x = {res.x[0]}, y = {res.x[1]}')\n",
    "\n",
    "print(f'\\n{res.nfev} evaluations of the bumpy function were needed.')"
   ]
  },
  {
   "cell_type": "markdown",
   "metadata": {
    "collapsed": false
   },
   "source": [
    "Notice that the Dual_Annealing algorithm requires many fewer function evaluations than either of the simulated annealing implementations we studied above.  This is because the combination of global and local search is especially efficient."
   ]
  },
  {
   "cell_type": "markdown",
   "metadata": {
    "collapsed": false
   },
   "source": [
    "## Bayesian Optimization\n",
    "\n",
    "Bayesian Optimization is becoming quite popular in the machine learning world. The big advantage of Bayesian Optimization is that it learns as it goes, and does so more efficiently than just repeatedly solving whatever your objective function is. It does this by using a surrogate function that's generally much less expensive to evaluate than the objective function is, and using the results of that surrogate function to update the sample data and zero in on the optimal solution.  Bayesian Optimization is useful when:\n",
    "* the objective function is very expensive to evaluate\n",
    "* the dimensionality of the problem (the number of input variables) is not too large, e.g. $\\leq 20$\n",
    "* the derivative of the objective function is unknown or unavailable (the derivate is a function which reveals the slope of the function)\n",
    "* you are seeking a global minimum instead of a local minimum.\n",
    "* the objective function may include noise so that the function does not return the same value every time it is evaluated\n",
    "\n",
    "We will see that Bayesian Optimization gets used for Hyperparameter Optimization of machine learning models.  Machine learning models can be expensive to evaluate and because they often work with random subsets of the training data they may not produce the same results on every evaluation.\n",
    "\n",
    "### Bayesian Walkthrough Video 1\n",
    "\n",
    "In this video we talk through the main ideas in Bayesian Optimization and we go through the notebook sections below \"Steps in Bayesian Optimization\" through \"Putting it Together by Iterating\".   There will be two more videos on Bayesian Optimization further below."
   ]
  },
  {
   "cell_type": "code",
   "execution_count": 0,
   "metadata": {
    "collapsed": false
   },
   "outputs": [
   ],
   "source": [
    "# Execute for Video\n",
    "play_video(\"ds775_lesson6_bayesian-optimization-overview\")"
   ]
  },
  {
   "cell_type": "markdown",
   "metadata": {
    "collapsed": false
   },
   "source": [
    "### Steps in Bayesian Optimization\n",
    "\n",
    "We are going to walk through the steps in Bayesian Optimization below.  We'll implement each step in Python.  Don't worry too much about the exact coding details since we'll ultimately use packages to automate Bayesian Optimization.  Instead, just focus on developing a high-level picture of how Bayesian optimization works.  If you want more details, there are **many** tutorials available with a bit of googling.  <a href=\"https://towardsdatascience.com/the-beauty-of-bayesian-optimization-explained-in-simple-terms-81f3ee13b10f\">This article</a> gives a high-level view and talks a bit about what makes this optimization approach \"Bayesian\".  The image below illustrates the steps.  It's called \"Bayesian\" because a Bayesian probability framework is used to show how to update the surrogate model to reflect the knowledge gained from the additional sample point.\n",
    "\n",
    "<img src=\"images/BayesianOptimizationFlowChart.png\" width = \"400\" align=\"center\"/>\n",
    "\n",
    "<br><br>\n",
    "\n",
    "#### Define your Objective Function and Evaluate on Initial Sampling Set\n",
    "\n",
    "The first step in any optimization problem is determining your objective function. Bayesian optimization requires an objective function in which your variables have bounds (a finite limit on each real or integer number or a defined set of values for categorical variables). \n",
    "\n",
    "For illustration we'll work with an objective function that has one input variable.  Suppose we want to minimize\n",
    "$$f(\\mathbf{x})=x \\sin(x) + \\epsilon, \\mbox{ for } x \\in [0,10].$$\n",
    "\n",
    "$\\epsilon$ is a normally distributed random variable with mean 0 and standard deviation $\\sigma$ that represents the theoretical noise level.  Setting $\\sigma = 0$ gives an ordinary function without added noise.\n",
    "\n",
    "Here is a graph of the objective function (without noise) to help you visualize:"
   ]
  },
  {
   "cell_type": "code",
   "execution_count": 0,
   "metadata": {
    "collapsed": false
   },
   "outputs": [
   ],
   "source": [
    "def objective(x, noise_level = 0):\n",
    "    y = x * np.sin(x) + np.random.normal(loc=0,scale=noise_level)\n",
    "    return(float(y))\n",
    "\n",
    "noise = 0\n",
    "X_plot = np.arange(0,10.05,.05).reshape(-1,1)\n",
    "y_plot = np.asarray([objective(x, noise) for x in X_plot])\n",
    "plt.plot(X_plot,y_plot,'g--',label='Actual Function')\n",
    "plt.plot(4.91,-4.81,'r.',markersize=20,label='Local Min.')\n",
    "plt.plot(10,-5.44,'b.',markersize=20,label='Global Min.')\n",
    "plt.legend()"
   ]
  },
  {
   "cell_type": "markdown",
   "metadata": {
    "collapsed": false
   },
   "source": [
    "In practice, we don't know the actual function and since it's very expensive to evaluate we only know it at a limited sample of points.  Let's say that we've evaluated the objective function at x = 0,2,4,7,9 to obtain our initial sample of points:"
   ]
  },
  {
   "cell_type": "code",
   "execution_count": 0,
   "metadata": {
    "collapsed": false
   },
   "outputs": [
   ],
   "source": [
    "noise = 0\n",
    "X_plot = np.arange(0,10.05,.05).reshape(-1,1)\n",
    "y_plot = np.asarray([objective(x, noise) for x in X_plot])\n",
    "plt.plot(X_plot,y_plot,'g--',label='Actual Function')\n",
    "\n",
    "noise = 0.1\n",
    "X_sample = np.asarray([0,2,4,7,9]).reshape(-1,1)\n",
    "y_sample = np.asarray([objective(x,noise) for x in X_sample]).reshape(-1,1)\n",
    "plt.plot(X_sample[:-1],y_sample[:-1],'m.',markersize=20,linestyle='',label='Sampled Points')\n",
    "plt.plot(X_sample[-1],y_sample[-1],'mX',markersize=15,linestyle='')\n",
    "plt.plot(4.91,-4.81,'r.',markersize=20,label='Local Min.')\n",
    "plt.plot(10,-5.44,'b.',markersize=20,label='Global Min.')\n",
    "plt.legend();"
   ]
  },
  {
   "cell_type": "markdown",
   "metadata": {
    "collapsed": false
   },
   "source": [
    "The five magenta points are all the information we currently know about the objective function. Note that they don't lie exactly on the graph of the objective function because we've included a bit of noise. We want to use the information from the sampled points to smartly choose another point that will, hopefully, be closer to the global minimum.  We build a model of the function called a surrogate function to help choose that next point.\n",
    "\n",
    "### Building the Surrogate Function\n",
    "\n",
    "The idea behind the surrogate is that it will be cheap to evaluate compared to the objective function so that we can use it to select an optimal next point to add to our sample points.  For Bayesian Optimization the surrogate function is usually a Gaussian Process Regressor.  We won't discuss the details of the model here, but it's important to know that in addition to estimating the function values, a Gaussian Process Regressor model also estimates the uncertainty of the function.\n",
    "\n",
    "We'll use the default parameters for the <a href=\"https://scikit-learn.org/stable/modules/generated/sklearn.gaussian_process.GaussianProcessRegressor.html\">GaussianProcessRegressor</a> for our surrogate function. This function can issue warnings if we don't have a lot of data at a particular part of the distribution we're sampling, so we'll write a wrapper function to supress the warnings, and we'll return the standard deviation, which we'll use in the next step.\n",
    "\n",
    "Like all predictive models, this model needs to be trained. We'll get to that shortly. For now, let's just define our surrogate function."
   ]
  },
  {
   "cell_type": "code",
   "execution_count": 0,
   "metadata": {
    "collapsed": false
   },
   "outputs": [
   ],
   "source": [
    "# surrogate or approximation for the objective function\n",
    "def surrogate(X, model):\n",
    "    # catch any warning generated when making a prediction\n",
    "    with catch_warnings():\n",
    "\n",
    "        # ignore generated warnings\n",
    "        simplefilter(\"ignore\")\n",
    "        return model.predict(X, return_std=True)"
   ]
  },
  {
   "cell_type": "markdown",
   "metadata": {
    "collapsed": false
   },
   "source": [
    "To complete the surrogate function we still need to declare a Gaussian Process Regressor object and fit it to the sample points:"
   ]
  },
  {
   "cell_type": "code",
   "execution_count": 0,
   "metadata": {
    "collapsed": false
   },
   "outputs": [
   ],
   "source": [
    "# define the model\n",
    "model = GaussianProcessRegressor()\n",
    "# fit the model\n",
    "model.fit(X_sample, y_sample)"
   ]
  },
  {
   "cell_type": "markdown",
   "metadata": {
    "collapsed": false
   },
   "source": [
    "To visualize we plot the actual function, the surrogate function, the sample points, and an envelope around the surrogate function that extends vertically by one (estimated) standard deviation in each direction.  Notice that the uncertainty is largest when we are far from the sampled points and smallest near the sampled points."
   ]
  },
  {
   "cell_type": "code",
   "execution_count": 0,
   "metadata": {
    "collapsed": false
   },
   "outputs": [
   ],
   "source": [
    "y_surrogate, sd = surrogate(X_plot, model)\n",
    "y_surrogate = y_surrogate.reshape(-1,1)\n",
    "sd = sd.reshape(-1,1)\n",
    "\n",
    "plt.plot(X_sample[:-1],y_sample[:-1],'m.',markersize=20,linestyle='',label='Sampled Points')\n",
    "plt.plot(X_sample[-1],y_sample[-1],'mX',markersize=15,linestyle='')\n",
    "plt.plot(X_plot, y_plot,'g--',label='Actual Function')\n",
    "plt.plot(X_plot, y_surrogate,'b',label='Surrogate Function')\n",
    "plt.fill_between(X_plot.flatten(),(y_surrogate+sd+noise).flatten(),(y_surrogate-sd-noise).flatten(),color='blue',alpha=0.1,label='Uncertainty')\n",
    "plt.legend();"
   ]
  },
  {
   "cell_type": "markdown",
   "metadata": {
    "collapsed": false
   },
   "source": [
    "### Building the Acquisition Function\n",
    "\n",
    "From the surrogate model we'd like to identify another point to add to our sample (another magenta point) where we'll evaluate the actual objective function.  To do this we will first construct an acquisition function from the surrogate and then use the acquisition to \"acquire\" the next point.\n",
    "\n",
    "Next we need what's called an acquisition function. Remember we said that Bayes Optimization learns as it goes. It does that by \"acquiring\" new data points. Each iteration of the algorithm will run the surrogate model and then \"acquire\" the sample point or points that are most likely to improve the overall results. Again, there are many ways to do approach determining what the best new points are. Three common approaches are:\n",
    "\n",
    "* Probability of Improvement (PI).\n",
    "* Expected Improvement (EI).\n",
    "* Lower Confidence Bound (LCB).\n",
    "\n",
    "We'll demonstrate by building the LCB acquisition function.  The surrogate model returns both the approximate function value as $\\mu(x)$ and the expected variability, the standard deviation, as $\\sigma(x)$.  The formula for the LCB is\n",
    "$$a(x) = \\mu(x) - \\kappa \\sigma(x).$$ Essentially, the LCB is found by looking $\\kappa$ standard deviations below the surrogate function values.  We won't discuss the other acquisition functions here, but there are many articles that can help <a href=\"https://distill.pub/2020/bayesian-optimization/\">like this one.</a>\n",
    "\n",
    "Here are two examples.  (We've also defined a helper function for plotting here.)"
   ]
  },
  {
   "cell_type": "code",
   "execution_count": 0,
   "metadata": {
    "collapsed": false
   },
   "outputs": [
   ],
   "source": [
    "def plot_bayesian_opt(X,y,model,objective,axis,noise = 0, kappa = 1):\n",
    "    X_plot = np.arange(0,10,.05).reshape(-1,1)\n",
    "    y_obj = np.asarray([objective(x, noise_level = 0) for x in X_plot]) # no noise for exact eval\n",
    "    y_surrogate, sd = surrogate(X_plot, model)\n",
    "    y_surrogate = y_surrogate.reshape(-1,1)\n",
    "    sd = sd.reshape(-1,1)\n",
    "    axis.plot(X_sample[:-1],y_sample[:-1],'m.',markersize=20,linestyle='',label='Sampled Points')\n",
    "    axis.plot(X_sample[-1],y_sample[-1],'mX',markersize=15,linestyle='')\n",
    "    axis.plot(X_plot, y_obj,'g--',label='Actual Function')\n",
    "    axis.plot(X_plot, y_surrogate,'b',label='Surrogate Function')\n",
    "    axis.plot(X_plot, y_surrogate-kappa*sd-noise,'r',label='Acquisition Function')\n",
    "    axis.fill_between(X_plot.flatten(),(y_surrogate+kappa*sd+noise).flatten(),(y_surrogate-kappa*sd-noise).flatten(),color='blue',alpha=0.1,label='Uncertainty')\n",
    "    axis.legend()\n",
    "    \n",
    "fig, (ax1, ax2) = plt.subplots(1,2,figsize=(20,8))\n",
    "\n",
    "ax1.set_title('kappa = 1, small kappa for exploitation (local search)')\n",
    "plot_bayesian_opt(X_sample,y_sample,model,objective,ax1,noise=0.1,kappa = 1)\n",
    "ax1.plot([4.32,4.32],[-5,8.5],'k--',label='Next x')\n",
    "ax1.set_ylim([-5,8.5])\n",
    "ax1.legend();\n",
    "\n",
    "ax2.set_title('kappa = 10, large kappa for exploration (global search)')\n",
    "plot_bayesian_opt(X_sample,y_sample,model,objective,ax2,noise = 0.1,kappa = 10)\n",
    "ax2.plot([5.12,5.12],[-11,11],'k--',label='Next x')\n",
    "ax2.set_ylim([-10,10.5])\n",
    "ax2.legend();"
   ]
  },
  {
   "cell_type": "markdown",
   "metadata": {
    "collapsed": false
   },
   "source": [
    "The LCB acquisition function is the red curve at the bottom of the uncertainty envelope.  To acquire the next search point we seek the global minimum of the acquisition function.  Note that when $\\kappa = 1$ the acquisition (red) and surrogate function graphs are pretty similar so that when we minimize the acquisition function we get about $x = 4.3$ which is close to the current minimum value at $x = 4.3$. When $\\kappa = 10$ the new minimum occurs around $x = 5.1$ because $\\kappa = 10$ places more emphasis on the uncertainty in the surrogate model.  The vertical dashed black lines show the location of the next point identified by minimizing the acquisition function.\n",
    "\n",
    "*Small values of $\\kappa$ emphasize local search (exploitation) while large values of $\\kappa$ emphasize global search (exploration).*\n",
    "\n",
    "The next step is to acquire the new point by finding or approximating the minimum of the acquisition function.  Normally we'd let a Bayesian Optimization package handle the details, but we'll show one way to do it for a one-dimensional function here."
   ]
  },
  {
   "cell_type": "code",
   "execution_count": 0,
   "metadata": {
    "collapsed": false
   },
   "outputs": [
   ],
   "source": [
    "def acquisition_fun_lcb(X, model, kappa):\n",
    "    x2 = np.array(X).reshape(-1,1)\n",
    "    y,sd = surrogate(x2, model)\n",
    "    y = y.reshape(-1,1)\n",
    "    sd = sd.reshape(-1,1)\n",
    "    out = (y-kappa*sd).flatten()\n",
    "    return( out )\n",
    "\n",
    "def acquire_next_point(model, kappa):\n",
    "    x_grid = np.arange(0,10.01,.01) # check points spaced every 0.01\n",
    "    y_grid = np.asarray([acquisition_fun_lcb(x,model,kappa) for x in x_grid]).reshape(-1,1)\n",
    "    min_y_idx = np.argmin(y_grid)\n",
    "    return x_grid[min_y_idx]\n",
    "\n",
    "# get next point when kappa = 1\n",
    "x1 = acquire_next_point(model,1)\n",
    "print(f'Next sample point with kappa = 1 is {x1:.2f}')\n",
    "\n",
    "# get next point when kappa = 10\n",
    "x2 = acquire_next_point(model,10)\n",
    "print(f'Next sample point with kappa = 10 is {x2:.2f}')"
   ]
  },
  {
   "cell_type": "markdown",
   "metadata": {
    "collapsed": false
   },
   "source": [
    "The next step would be to find evaluate the actual objective function to get $y$ values for the new sample point and then append the point, $x$ and $y$, to the sample.  Now go back to the model building step and repeat the process until happy.  We'll show what that looks like for a couple of iterations with $\\kappa =10.$. The first cell below initializes the sample data and loads the helper functions.  The second cell can be executed repeatedly to perform multiple iterations of Bayesian Optimization."
   ]
  },
  {
   "cell_type": "code",
   "execution_count": 0,
   "metadata": {
    "collapsed": false
   },
   "outputs": [
   ],
   "source": [
    "# reinitialize the sample data to start fresh\n",
    "\n",
    "noise = 0.1\n",
    "kappa = 2\n",
    "X_sample = np.asarray([0,2,4,7,9]).reshape(-1,1)\n",
    "y_sample = np.asarray([objective(x,noise) for x in X_sample]).reshape(-1,1)\n",
    "\n",
    "# define and fit the model\n",
    "model = GaussianProcessRegressor()\n",
    "model.fit(X_sample, y_sample)"
   ]
  },
  {
   "cell_type": "markdown",
   "metadata": {
    "collapsed": false
   },
   "source": [
    "At this point we've initialized the Gaussian Process regression model using the first five sample points.  \n",
    "\n",
    "### Putting it Together by Iterating\n",
    "\n",
    "Each time you execute the next cell you'll complete one iteration of Bayesian optimization that results in new value of $x$ that will be added to the sample (the vertical black dashed line is the location of the next $x$ based on the current data."
   ]
  },
  {
   "cell_type": "code",
   "execution_count": 0,
   "metadata": {
    "collapsed": false
   },
   "outputs": [
   ],
   "source": [
    "# each time this cell is executed on iteration of Bayesian Optimization occurs up to the point where the new point is selected, \n",
    "# on the next iteration it will be plotted\n",
    "kappa = 10\n",
    "\n",
    "# get next x coordinate\n",
    "x = acquire_next_point(model,kappa)\n",
    "\n",
    "# evaluate objective function to get new y coordinate (includes .1 noise)\n",
    "y = objective(x, noise_level = noise)\n",
    "\n",
    "print(f'New point for sample: ({x:0.2f},{y:0.2f})')\n",
    "\n",
    "# plot to see where next point will be added\n",
    "fig = plt.figure(figsize = [10,6])\n",
    "ax = plt.gca()\n",
    "plot_bayesian_opt(X_sample,y_sample,model,objective,ax,kappa = kappa)\n",
    "ylim = ax.get_ylim()\n",
    "ax.plot([x,x],ylim,'k--',label='Next x')\n",
    "ax.legend()\n",
    "\n",
    "# now add the point to our sample\n",
    "X_sample = np.vstack((X_sample, [[x]]))\n",
    "y_sample = np.vstack((y_sample, [[y]]))\n",
    "\n",
    "print(f'Smallest function value so far {np.min(y_sample):0.2f}')\n",
    "\n",
    "# refit the model\n",
    "model.fit(X_sample,y_sample)"
   ]
  },
  {
   "cell_type": "markdown",
   "metadata": {
    "collapsed": false
   },
   "source": [
    "Our from-scratch solution is not the best implementation of this algorithm. But we wanted to include it so that you could really step through each of the pieces.  Instead of continuing forward and writing our own Bayesian Optimization function we'll rely on packages.\n",
    "\n",
    "There are several packages that implement Bayes Optimization in a much more efficient way. We'll focus on `Scikit-Optimize` since it's designed to work in conjunction `Scikit-Learn` package for machine learning that we'll meet in Lesson 8.\n",
    "\n",
    "\n",
    "## Bayesian Optimization with `Scikit-Optimize`\n",
    "\n",
    "The video below describes the material in this section and the next."
   ]
  },
  {
   "cell_type": "code",
   "execution_count": 0,
   "metadata": {
    "collapsed": false
   },
   "outputs": [
   ],
   "source": [
    "# execute for video\n",
    "play_video(\"ds775_lesson6_bayesian-optimization-scikit-optimize\")"
   ]
  },
  {
   "cell_type": "markdown",
   "metadata": {
    "collapsed": false
   },
   "source": [
    "Scikit-Optimize expects that you are minimizing an objective function. "
   ]
  },
  {
   "cell_type": "code",
   "execution_count": 0,
   "metadata": {
    "collapsed": false
   },
   "outputs": [
   ],
   "source": [
    "noise = .1\n",
    "\n",
    "def objective(x, noise_level = noise):\n",
    "    y = x * np.sin(x) + np.random.normal(loc=0,scale=noise_level)\n",
    "    return(float(y))"
   ]
  },
  {
   "cell_type": "markdown",
   "metadata": {
    "collapsed": false
   },
   "source": [
    "The function we need to use to run our Bayesian Optimization is <a href=\"https://scikit-optimize.github.io/stable/modules/generated/skopt.gp_minimize.html\">gp_minimize</a>. There are many parameters you can set on this function, so I encourage you to read the documentation to understand all of them. We are only going to set a few:\n",
    "\n",
    "* the function to minimize (which should return a scalar (single number) value)\n",
    "* the dimensions that will be searched\n",
    "* the acquisition function\n",
    "    * We can also choose from LCB for lower confidence bound, EI for expected improvement, PI for probability of improvement or gp_hedge, which probabilistically chooses from one of the first three options at every iteration. This is the default option. But, we'll switch to LCB, since that's what we were using above.\n",
    "* the number of evaluations of the objective function (n_calls)\n",
    "\n",
    "The function returns an \"Optimization Result\" object that contains the location of the minimum, the function value at the minimum, and several other values. (Don't worry if you see warnings, they seem to be harmless.  We've attempted to suppress the warnings in this section.)"
   ]
  },
  {
   "cell_type": "code",
   "execution_count": 0,
   "metadata": {
    "collapsed": false
   },
   "outputs": [
   ],
   "source": [
    "filterwarnings('ignore')\n",
    "\n",
    "np.random.seed(42) #adding random seed here, too, for the noise factor\n",
    "#call the optimization.\n",
    "res = gp_minimize(objective,                  # the function to minimize\n",
    "                  [(0.0,10.0)],      # the bounds on each dimension of x\n",
    "                  acq_func=\"LCB\",      # the acquisition function\n",
    "                  kappa = 10,\n",
    "                  n_calls=20,         # the number of evaluations of the objective function\n",
    "                  n_random_starts=5,  # the number of random initialization points\n",
    "                  random_state=42)   # the random seed\n",
    "\n",
    "print(f'The minimum value of f(x) is {res.fun:0.4f} and occurs at x={res.x[0]:0.4f}')\n",
    "print(f'Recall that the objective function may include noise, so the optimized function value may not be exact.')"
   ]
  },
  {
   "cell_type": "markdown",
   "metadata": {
    "collapsed": false
   },
   "source": [
    "This package also contains some handy plots. Let's plot convergence. This will tell us how quickly the best value was achieved. In this case, we achieved our best result by the 15th iteration."
   ]
  },
  {
   "cell_type": "code",
   "execution_count": 0,
   "metadata": {
    "collapsed": false
   },
   "outputs": [
   ],
   "source": [
    "fig = plt.figure(figsize=(10,6)) # we initialize the plot so we can control dimensions\n",
    "ax = fig.add_axes\n",
    "plot_convergence(res,ax);"
   ]
  },
  {
   "cell_type": "markdown",
   "metadata": {
    "collapsed": false
   },
   "source": [
    "### Bayesian Optimization for Multi-Dimensional Functions\n",
    "\n",
    "The `gp_minimize` algorithm can handle multi-dimensional functions, as long as what's returned from your objective function is a scalar value. Let's consider the \"bumpy\" function from our simulated annealing section above.\n",
    "\n",
    "Find the minimum value of \n",
    "$$f(x,y) = 0.2 + x^2 + y^2 - 0.1 \\cos(6 \\pi x) - 0.1 \\cos(6 \\pi y)$$ \n",
    "\n",
    "for $-1 \\leq x,y \\leq 1$. \n",
    "\n",
    "The bounds for this function are [-1,1] for both x and y, and the global minimum of 0 is at f(0,0). For plots of the \"bumpy\" function scroll up to the Simulated Annealing section.\n"
   ]
  },
  {
   "cell_type": "code",
   "execution_count": 0,
   "metadata": {
    "collapsed": false
   },
   "outputs": [
   ],
   "source": [
    "filterwarnings('ignore') # suppress some of the warnings from B.O.\n",
    "\n",
    "np.random.seed(42)\n",
    "\n",
    "# same \"bumpy\" function as in simulated annealing, just written differently\n",
    "# assumes xy is a list or array-like with xy = [x, y]\n",
    "def bumpy(xy):\n",
    "    x = xy[0]\n",
    "    y = xy[1]\n",
    "    obj = 0.2 + x**2 + y**2 - 0.1 * np.cos(6*np.pi*x) - 0.1 * np.cos(6*np.pi*y)\n",
    "    return obj\n",
    "\n",
    "#call the optimization.\n",
    "res = gp_minimize(bumpy,                  # the function to minimize\n",
    "                  [(-1, 1), (-1, 1)],      # the bounds on each dimension of x\n",
    "                 acq_func=\"EI\",      # the acquisition function \n",
    "                  n_calls=20,         # the number of evaluations of the objective function\n",
    "                  n_random_starts=5,  # the number of random initialization points\n",
    "                  random_state=42)   # the random seed\n",
    "\n",
    "print(f'The minimum value of f(x) is {res.fun:0.4f} and occurs at x={res.x[0]:0.4f}, y={res.x[1]:0.4f}')\n",
    "print(f'Recall that the objective function may include noise, so the optimized function value may not be exact.')\n",
    "\n",
    "fig = plt.figure(figsize=(10,6)) # we initialize the plot so we can control dimensions\n",
    "ax = fig.add_axes\n",
    "plot_convergence(res,ax);"
   ]
  },
  {
   "cell_type": "markdown",
   "metadata": {
    "collapsed": false
   },
   "source": [
    "We find it pretty amazing that Bayesian Optimization finds the global optimum so quickly for a function with so many local optima."
   ]
  },
  {
   "cell_type": "markdown",
   "metadata": {
    "collapsed": false
   },
   "source": [
    "#### Self-Assessment - Bayesian Optimization of the Booth function\n",
    "\n",
    "Use Bayesian Optimization (`gp_minimize`) to estimate the global minimum value of the Booth function, a common optimization test problem:\n",
    "\n",
    "$f(x,y)=(x+2y-7)^2+(2x+y-5)^2$\n",
    "\n",
    "for $x$ and $y$ both in [-10,10]."
   ]
  },
  {
   "cell_type": "markdown",
   "metadata": {
    "collapsed": false
   },
   "source": [
    "### Tuning Hyperparameters using Bayesian Optimization\n",
    "\n",
    "**<font color=\"red\">The material in this section is optional but will provide you some background for the Lesson 8 Project on tuning hyperparameters for machine learning models.  There won't be any homework problems for the material in this section.</font>. You may still wish to read the final section below for a summary of Bayesian Optimization.**\n",
    "\n",
    "This video summarizes the material in this section:"
   ]
  },
  {
   "cell_type": "code",
   "execution_count": 0,
   "metadata": {
    "collapsed": false
   },
   "outputs": [
   ],
   "source": [
    "# execute for video\n",
    "play_video(\"ds775_lesson6_hyperparameter-tuning\")"
   ]
  },
  {
   "cell_type": "markdown",
   "metadata": {
    "collapsed": false
   },
   "source": [
    "\n",
    "In machine learning the predictive models must be trained to give predictions that match the data as well as possible.  Each model has both parameters and hyperparameters.  Parameters are coefficients in the model that are determined directly from the data.  Hyperparameters are values that affect the model but aren't determined directly from the data.  Normally they are supplied by the scientist and sometimes tuned to produce a better fit.\n",
    "\n",
    "Regression models often include regularization terms that help prevent the model from overfitting (memorizing) the data instead of capturing the underlying trend.  We won't talk about the details of regularization here, but it's discussed in the DS740 class (<a href=\"https://towardsdatascience.com/the-basics-logistic-regression-and-regularization-828b0d2d206c\">here's an article if you really want to explore more</a>).  The strength of the regularization is inversely proportional to a constant $C$ (regularization $\\sim 1/C$).  So when C is large there is very little regularization, but when $C$ is small the regularization is large which forces the logistic regression model to depend mostly on only the important predictor variables.  We're going to consider $C = 10^p$ so positive $p$ corresponds to large $C$ and negative $p$ corresponds to small values of $C$.  The value of $C$ (or $p$) is not determined by the data but must be specified.  Below, we'll show an example of using Bayesian Optimization to determine an optimal value of $C$ to maximize model accuracy.  You'll be doing much more of this in Lesson 8 so don't worry too much about the details here.\n",
    "\n",
    "#### Predicting Iris Species\n",
    "\n",
    "In the classic Iris dataset we have a four predictor variables corresponding to physical measurements of the iris and a single categorical variable that is species of the iris.  Three species are possible.  If you've never seen this data before or want to review some logistic regression then <a href=\"https://randerson112358.medium.com/python-logistic-regression-program-5e1b32f964db\">here is a short article that may help.</a>\n",
    "\n",
    "To get an idea how logistic regression works here we'll load the data, train a model using the default hyperparameter values, and display the confusion matrix.  We've increased the maximum iterations for the Logisitic Regression model fit to help with convergence."
   ]
  },
  {
   "cell_type": "code",
   "execution_count": 0,
   "metadata": {
    "collapsed": false
   },
   "outputs": [
   ],
   "source": [
    "X = np.array([i for i in range(30)]).reshape(-1,1)\n",
    "\n",
    "X, y = load_iris(return_X_y=True)\n",
    "\n",
    "logreg=LogisticRegression(max_iter=500)\n",
    "\n",
    "logreg.fit(X,y)\n",
    "y_pred = logreg.predict(X)\n",
    "\n",
    "confusion_matrix(y,y_pred)"
   ]
  },
  {
   "cell_type": "markdown",
   "metadata": {
    "collapsed": false
   },
   "source": [
    "If the classification were perfect there would be 50's along the diagonal and zeros elsewhere.  This confusion matrix indicates that four of the 150 irises were misclassified.  The accuracy is $146/150 = 97.3\\%.$. Now we'll see if we can maximize the accuracy by using Bayesian Optimization to optimize the value of the regularization parameter $C$.  Instead of optimizing $C$ directly, we'll actually optimize $p$ and set $C = 10^p$.  This is because for many small parameters it makes sense to try values like $10^{-4}, 10^{-3}, 10^{-2}, \\ldots$ instead of $0.1, 0.2, 0.3, \\ldots$ (this <a href=\"https://stats.stackexchange.com/questions/291552/why-do-we-sample-from-log-space-when-optimizing-learning-rate-regularization-p\">Stackexchange post</a> explains it nicely). The accuracy is estimated by finding the average accuracy after 10-fold cross validation.  Note, we've defined our function to return the negative average accuracy for the purpose of maximization a bit later."
   ]
  },
  {
   "cell_type": "code",
   "execution_count": 0,
   "metadata": {
    "collapsed": false
   },
   "outputs": [
   ],
   "source": [
    "def estimated_accuracy(p,X,y):\n",
    "    logreg = LogisticRegression(C=10.0**p, max_iter = 500 )\n",
    "    means = cross_val_score( logreg, X, y, cv = 10, scoring = 'accuracy')\n",
    "    return -np.mean(means)"
   ]
  },
  {
   "cell_type": "markdown",
   "metadata": {
    "collapsed": false
   },
   "source": [
    "The estimated accuracy when $C=1$ (this is $p=0$ and is the default value) is:"
   ]
  },
  {
   "cell_type": "code",
   "execution_count": 0,
   "metadata": {
    "collapsed": false
   },
   "outputs": [
   ],
   "source": [
    "-estimated_accuracy(0, X, y)"
   ]
  },
  {
   "cell_type": "markdown",
   "metadata": {
    "collapsed": false
   },
   "source": [
    "Let's see how the estimated accuracy varies as $p$ changes.  We'll consider $ -2 \\leq p \\leq 2$ corresponding to $ 0.01 \\leq C \\leq 100.$. "
   ]
  },
  {
   "cell_type": "code",
   "execution_count": 0,
   "metadata": {
    "collapsed": false
   },
   "outputs": [
   ],
   "source": [
    "# this takes a second since 50*10 = 500 models are being trained\n",
    "num_plot_points = 50\n",
    "p_exp = np.linspace(-2,2,num=num_plot_points,endpoint=True)\n",
    "est_acc = np.array([-estimated_accuracy(p,X,y) for p in p_exp])"
   ]
  },
  {
   "cell_type": "code",
   "execution_count": 0,
   "metadata": {
    "collapsed": false
   },
   "outputs": [
   ],
   "source": [
    "# make the plot\n",
    "plt.plot(p_exp,est_acc,'.-')\n",
    "plt.xlabel('p')\n",
    "plt.ylabel('estimated accuracy')\n",
    "plt.title('Estimated Accuracy of Logistic Regression with C = 10^p');"
   ]
  },
  {
   "cell_type": "markdown",
   "metadata": {
    "collapsed": false
   },
   "source": [
    "It appears that the maximum estimated accuracy occurs around $p \\approx 1$ or $C \\approx 10^p = 10^1 =10$. We'll minimize the negative accuracy, using `gp_minimize` to find the maximum estimated accuracy and the value of $p$ for which it occurs.  If you haven't studied machine learning yet all you really need to understand is that to tune the hyperparameters we need to optimize a function (`estimated_accuracy`) of the hyperparameters."
   ]
  },
  {
   "cell_type": "code",
   "execution_count": 0,
   "metadata": {
    "collapsed": false
   },
   "outputs": [
   ],
   "source": [
    "# define a lambda function that includes X,y to be passed to gp_minimize\n",
    "est_acc = lambda p:estimated_accuracy(float(p[0]),X,y)\n",
    "\n",
    "res = gp_minimize(est_acc,      # the function to minimize\n",
    "                  [(-2,2)],                # the bounds on each dimension of x\n",
    "                  acq_func=\"EI\",            # the acquisition function - using Expected Improvement\n",
    "                  n_calls=20,         # the number of evaluations of the objective function\n",
    "                  n_random_starts=5,  # the number of random initialization points\n",
    "                  random_state=38) # the random seed\n",
    "\n",
    "print(f'The maximum accuracy is about {-100*res.fun:0.2f}%')\n",
    "print(f'Max accuracy occurs when p = {res.x[0]:0.2f} or C = 10^p = {10**res.x[0]:0.2f}')\n",
    "      \n",
    "fig = plt.figure(figsize=(10,6)) # we initialize the plot so we can control dimensions\n",
    "ax = fig.add_axes\n",
    "plot_convergence(res,ax);"
   ]
  },
  {
   "cell_type": "markdown",
   "metadata": {
    "collapsed": false
   },
   "source": [
    "In the plot above we're showing negative accuracy, so more negative is good.  Let's look at the confusion matrix with the optimized parameter."
   ]
  },
  {
   "cell_type": "code",
   "execution_count": 0,
   "metadata": {
    "collapsed": false
   },
   "outputs": [
   ],
   "source": [
    "logreg=LogisticRegression(max_iter=500, C = 10.0)\n",
    "\n",
    "logreg.fit(X,y)\n",
    "y_pred = logreg.predict(X)\n",
    "\n",
    "confusion_matrix(y,y_pred)"
   ]
  },
  {
   "cell_type": "markdown",
   "metadata": {
    "collapsed": false
   },
   "source": [
    "While there is not a dramatic difference we can see from the confusion matrix that one more observation was classified correctly than before, so optimizing the hyperparameter produced a small benefit here.  Sometimes hyperparameter optimization can make the difference between a good model and a bad one.  There is one homework problem where we'll have you optimize a parameter for a Ridge Regression (Linear Regression with overfitting penalty), but we'll explore hyperparameter optimization further in Lesson 8."
   ]
  },
  {
   "cell_type": "markdown",
   "metadata": {
    "collapsed": false
   },
   "source": [
    "## Some Final Notes on Bayesian Optimization\n",
    "\n",
    "Bayesian Optimization is expensive and should only be used if \n",
    "\n",
    "* the objective function is very expensive to evaluate\n",
    "* the dimensionality of the problem (the number of input variables) is not too large, e.g. $\\leq 20$\n",
    "* the derivative of the objective function is unknown or unavailable (the derivate is a function which reveals the slope of the function)\n",
    "* you are seeking a global minimum instead of a local minimum.\n",
    "* the objective function may include noise so that the function does not return the same value every time it is evaluated\n",
    "\n",
    "If your objective function doesn't meet those conditions, then there are probably better optimization methods available like simulated annealing or genetic algorithms (next lesson).\n",
    "\n",
    "Bayesian Optimization can also be extended to accommodate discrete (integer) and categorical decision variables.  We won't study those extensions here, but we'll seem then in Lesson 8 where we'll see how Bayesian Optimization is used to optimize the hyperparameters of machine learning models.  We'll see a lot more about this in the Lesson 8 Project.\n",
    "\n",
    "The animated gif below is kind of fun and illustrates Bayesian Optimization for a maximization problem with two decision variables.  Notice how the surrogate function (the Gaussian Process mean) becomes more and more like the actual function as sampling points are added.\n",
    "<br>\n",
    "\n",
    "<img src=\"./images/bayesian_optimization.gif\" width = \"1000\">\n",
    "\n",
    "This animated gif is from this <a href=\"https://github.com/fmfn/BayesianOptimization\">Bayesian Optimization repository on Github</a>. We haven't tried the Bayesian Optimizer in that repository, but it looks like it could be pretty good."
   ]
  },
  {
   "cell_type": "markdown",
   "metadata": {
    "collapsed": false
   },
   "source": [
    "Interestingly, the best model fit occurs when $\\alpha = 0.1$, but the default value of $\\alpha$ is 1.0."
   ]
  }
 ],
 "metadata": {
  "kernelspec": {
   "display_name": "Python 3 (system-wide)",
   "language": "python",
   "metadata": {
    "cocalc": {
     "description": "Python 3 programming language",
     "priority": 100,
     "url": "https://www.python.org/"
    }
   },
   "name": "python3",
   "resource_dir": "/ext/jupyter/kernels/python3"
  },
  "language_info": {
   "codemirror_mode": {
    "name": "ipython",
    "version": 3
   },
   "file_extension": ".py",
   "mimetype": "text/x-python",
   "name": "python",
   "nbconvert_exporter": "python",
   "pygments_lexer": "ipython3",
   "version": "3.8.10"
  }
 },
 "nbformat": 4,
 "nbformat_minor": 4
}