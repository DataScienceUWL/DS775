{
 "cells": [
  {
   "cell_type": "code",
   "execution_count": 1,
   "metadata": {
    "code_folding": [
     0
    ]
   },
   "outputs": [],
   "source": [
    "# execute to import notebook styling for tables and width etc.\n",
    "from IPython.core.display import HTML\n",
    "import urllib.request\n",
    "response = urllib.request.urlopen('https://raw.githubusercontent.com/DataScienceUWL/DS775v2/master/ds755.css')\n",
    "HTML(response.read().decode(\"utf-8\"));"
   ]
  },
  {
   "cell_type": "markdown",
   "metadata": {},
   "source": [
    "<font size=18>Lesson 06: Integer Programming</font>"
   ]
  },
  {
   "cell_type": "markdown",
   "metadata": {
    "heading_collapsed": true,
    "toc-hr-collapsed": true,
    "toc-nb-collapsed": true
   },
   "source": [
    "# Key Integer Programming Concepts"
   ]
  },
  {
   "cell_type": "markdown",
   "metadata": {
    "hidden": true
   },
   "source": [
    "* Decision variables constrained to integer values\n",
    "    * Can produce 5 or 6 cars, but not 5.72 cars\n",
    "* For pure integer programming (IP) problems, solutions can be obtained simply by changing the domain for the LP from **NonNegativeReals** to **PositiveIntegers** in the Pyomo coding (as seen in textbook problem 3.4-10 as a Self-Assessment back in Lesson 01)\n",
    "* Binary Integer Programming (BIP) \n",
    "    * contain binary (boolean) variables  \n",
    "    * *i.e.* 0 for no, 1 for yes\n",
    "* Mixed Integer Programming (MIP)\n",
    "    * some variables are constrained to be integers while other are not\n",
    "* Computationally, integer programming can be much more difficult than linear programming (this <a href = https://www.quora.com/What-is-the-difference-between-integer-programming-and-linear-programming > post </a> can help you visualize why this is so)\n",
    "* Binary variables are considerably easier to deal with than general integer variables, so they generally can be used to solve substantially larger problems"
   ]
  },
  {
   "cell_type": "markdown",
   "metadata": {
    "heading_collapsed": true,
    "toc-hr-collapsed": true,
    "toc-nb-collapsed": true
   },
   "source": [
    "# Instructions for this Lesson"
   ]
  },
  {
   "cell_type": "markdown",
   "metadata": {
    "hidden": true
   },
   "source": [
    "The material in this lesson is organized a bit differently than the other lessons.  There are 10 slides this week that have been organized into a \"Storybook\".  You'll be familiar with this format from previous courses.  \n",
    "1. Study through slide 3 and then complete the first self-assessment problem at the bottom of this notebook.\n",
    "2. Study the rest of the slides and work through the material in the section \"Making Choices Using Continuous Decision Variables\".\n",
    "3. Complete the other self-assessements at the bottom of this notebook.\n",
    "4. Complete and submit your homework."
   ]
  },
  {
   "cell_type": "markdown",
   "metadata": {
    "heading_collapsed": true,
    "toc-hr-collapsed": true,
    "toc-nb-collapsed": true
   },
   "source": [
    "# Storybook Presentation"
   ]
  },
  {
   "cell_type": "code",
   "execution_count": 1,
   "metadata": {
    "code_folding": [
     0
    ],
    "hidden": true
   },
   "outputs": [
    {
     "data": {
      "text/html": [
       "\n",
       "        <iframe\n",
       "            width=\"900\"\n",
       "            height=\"600\"\n",
       "            src=\"https://media.uwex.edu/content/ds/ds775_r19/ds775_lesson6/index.html\"\n",
       "            frameborder=\"0\"\n",
       "            allowfullscreen\n",
       "        ></iframe>\n",
       "        "
      ],
      "text/plain": [
       "<IPython.lib.display.IFrame at 0x103c1d8d0>"
      ]
     },
     "execution_count": 1,
     "metadata": {},
     "output_type": "execute_result"
    }
   ],
   "source": [
    "# execute this cell to display storybook\n",
    "from IPython.display import IFrame\n",
    "IFrame(\n",
    "    \"https://media.uwex.edu/content/ds/ds775_r19/ds775_lesson6/index.html\",\n",
    "    width=900,\n",
    "    height=600)"
   ]
  },
  {
   "cell_type": "markdown",
   "metadata": {
    "toc-hr-collapsed": true,
    "toc-nb-collapsed": true
   },
   "source": [
    "# Making Choices with Continuous Decision Variables"
   ]
  },
  {
   "cell_type": "markdown",
   "metadata": {},
   "source": [
    "This is the Good Products example (textbook page 489), similar to the Wyndor problem, in which we have to choose which products to produce and which factories to use.\n",
    "The problem description is reproduced here for convenience."
   ]
  },
  {
   "cell_type": "markdown",
   "metadata": {
    "heading_collapsed": true
   },
   "source": [
    "## Problem Description"
   ]
  },
  {
   "cell_type": "markdown",
   "metadata": {
    "hidden": true
   },
   "source": [
    "The Research and Development Division of the GOOD PRODUCTS COMPANY has developed three possible new products. However, to avoid undue diversification of the company’s product line, management has imposed the following restriction:\n",
    "\n",
    "- **Restriction 1:** From the three possible new products, at most two should be chosen to be produced.\n",
    "\n",
    "Each of these products can be produced in either of two plants. For administrative reasons, management has imposed a second restriction in this regard.\n",
    "\n",
    "- **Restriction 2:** Just one of the two plants should be chosen to be the sole producer of the new products.\n",
    "\n",
    "The production cost per unit of each product would be essentially the same in the two plants. However, because of differences in their production facilities, the number of hours of production time needed per unit of each product might differ between the two plants. These data are given in the table below, along with other relevant information, including marketing estimates of the number of units of each product that could be sold per week if it is produced. The objective is to choose the products, the plant, and the production rates of the chosen products so as to maximize total profit.\n",
    "\n",
    "<img src=\"images/good_products_table.png\" width=\"600\">"
   ]
  },
  {
   "cell_type": "markdown",
   "metadata": {
    "heading_collapsed": true
   },
   "source": [
    "## Mathematical Formulation"
   ]
  },
  {
   "cell_type": "markdown",
   "metadata": {
    "hidden": true
   },
   "source": [
    "Maximize $Z = 5x_1 + 7x_2 + 3x_3$\n",
    "\n",
    "Subject to:\n",
    "\n",
    "$\n",
    "\\begin{array}{l}\n",
    "x_1 \\leq 7 \\\\\n",
    "x_2 \\leq 5 \\\\\n",
    "x_3 \\leq 9 \\\\\n",
    " y_1 + y_2 + y_3 = 2 \\\\\n",
    "3x_1 + 4x_2 + 2x_3 \\leq 30 + My_4 \\\\\n",
    "4x_1 + 6x_2 + 2x_3 \\leq 40 + M(1-y_4) \\\\\n",
    "0 \\leq x_i \\leq My_i, \\text{ for } i=1,2,3 \\\\\n",
    "x_i \\geq 0, \\text{ for } i=1, 2, 3  \\\\\n",
    "y_i \\text{ binary, for } i=1, 2, 3, 4 \\\\\n",
    "\\end{array}\n",
    "$\n",
    "\n",
    "Note that if $y_4 = 0$ we are using Plant 1 and if $y_4 = 1$ we are using Plant 2.\n",
    "\n",
    "The complete formulation of this problem is discussed on pages 490-491 of the textbook. "
   ]
  },
  {
   "cell_type": "markdown",
   "metadata": {},
   "source": [
    "## Pyomo Concrete Formulation Solution"
   ]
  },
  {
   "cell_type": "markdown",
   "metadata": {},
   "source": [
    "Here we'll just use individual variables $x_1, x_2,$ etc. for maximum transparency.  In the homework you'll need to include abstract formulations, but we include a concrete formulation here to help you understand how binary variables work in Pyomo.  The next section has the abstract formulation."
   ]
  },
  {
   "cell_type": "code",
   "execution_count": 12,
   "metadata": {},
   "outputs": [
    {
     "name": "stdout",
     "output_type": "stream",
     "text": [
      "Maximum Profit =  $54,500.00\n",
      "Use Plant 2.\n",
      "Produce 5.5 of product 1 per week\n",
      "Produce 9.0 of product 3 per week\n"
     ]
    }
   ],
   "source": [
    "# unfold for code\n",
    "from pyomo.environ import *\n",
    "\n",
    "m = ConcreteModel(name=\"Example_1\")\n",
    "\n",
    "m.x1 = Var(bounds=(0,7))\n",
    "m.x2 = Var(bounds=(0,5))\n",
    "m.x3 = Var(bounds=(0,9))\n",
    "\n",
    "m.y1 = Var(domain=Boolean)\n",
    "m.y2 = Var(domain=Boolean)\n",
    "m.y3 = Var(domain=Boolean)\n",
    "m.y4 = Var(domain=Boolean) # 0 to use Plant 1, 1 to use Plant 2\n",
    "\n",
    "m.profit = Objective( expr = 5*m.x1 + 7*m.x2 + 3*m.x3, sense = maximize)\n",
    "\n",
    "bigM = 10000\n",
    "\n",
    "# Constraints:\n",
    "m.cts = ConstraintList()\n",
    "m.cts.add( m.y1 + m.y2 + m.y3 == 2)\n",
    "m.cts.add( 3 * m.x1 + 4 * m.x2 + 2 * m.x3 <= 30 + bigM * m.y4 )\n",
    "m.cts.add( 4 * m.x1 + 6 * m.x2 + 2 * m.x3 <= 40 + bigM * (1 - m.y4))\n",
    "m.cts.add( m.x1 <= bigM * m.y1)\n",
    "m.cts.add( m.x2 <= bigM * m.y2)\n",
    "m.cts.add( m.x3 <= bigM * m.y3)\n",
    "\n",
    "\n",
    "# Solve\n",
    "solver = SolverFactory('glpk')\n",
    "solver.solve(m)\n",
    "\n",
    "import babel.numbers as numbers  # needed to display as currency\n",
    "print(\"Maximum Profit = \",\n",
    "      numbers.format_currency(1000 * m.profit(), 'USD', locale='en_US'))\n",
    "\n",
    "print(\"Use \"+ \"Plant 2.\" if m.y4() else \"Plant 1.\" )\n",
    "\n",
    "if m.y1():\n",
    "    print('Produce {:0.1f} of product 1 per week'.format(m.x1()))\n",
    "    \n",
    "if m.y2():\n",
    "    print('Produce {:0.1f} of product 2 per week'.format(m.x2()))\n",
    "    \n",
    "if m.y3():\n",
    "    print('Produce {:0.1f} of product 3 per week'.format(m.x3()))"
   ]
  },
  {
   "cell_type": "markdown",
   "metadata": {},
   "source": [
    "## Pyomo Abstract Formulation Solution"
   ]
  },
  {
   "cell_type": "markdown",
   "metadata": {},
   "source": [
    "To make the abstract formulation we add an extra binary variable, $y_5$, so that we have one for each plant to make the plant constraints have the same format.  The math formulation then replaces:\n",
    "\n",
    "$\n",
    "\\begin{array}{l}\n",
    "3x_1 + 4x_2 + 2x_3 \\leq 30 + My_4 \\\\\n",
    "4x_1 + 6x_2 + 2x_3 \\leq 40 + M(1-y_4) \\\\\n",
    "\\end{array}\n",
    "$\n",
    "\n",
    "with:\n",
    "\n",
    "$\n",
    "\\begin{array}{l}\n",
    "3x_1 + 4x_2 + 2x_3 \\leq 30 + M(1-y_4)\\\\\n",
    "4x_1 + 6x_2 + 2x_3 \\leq 40 + M(1-y_5)\\\\\n",
    "y_4 + y_5 = 1\n",
    "\\end{array}\n",
    "$\n",
    "\n",
    "so if $y_4 = 1$ we are using Plant 1 and if $y_5 = 1$ we are using Plant 2."
   ]
  },
  {
   "cell_type": "code",
   "execution_count": 13,
   "metadata": {},
   "outputs": [
    {
     "name": "stdout",
     "output_type": "stream",
     "text": [
      "Maximum Profit =  $54,500.00\n",
      "\n",
      "Which plant to use:\n",
      "Produce at Plant1? No\n",
      "Produce at Plant2? Yes\n",
      "\n",
      "Which products and how many:\n",
      "Produce Product1 at a rate of 5.50 per week\n",
      "Do not produce Product2\n",
      "Produce Product3 at a rate of 9.00 per week\n"
     ]
    }
   ],
   "source": [
    "# unfold for code\n",
    "from pyomo.environ import *\n",
    "\n",
    "# Problem data\n",
    "products = ['Product1', 'Product2', 'Product3']\n",
    "unit_profit = dict(zip(products, [5, 7, 3]))\n",
    "\n",
    "sales_potential = dict(zip(products, [7, 5, 9]))\n",
    "def bounds_rule(model, product):\n",
    "    return ((0, sales_potential[product]))\n",
    "\n",
    "plants = ['Plant1', 'Plant2']\n",
    "production_avail = dict(zip(plants, [30, 40]))\n",
    "\n",
    "tpu = [[3, 4, 2], [4, 6, 2]]\n",
    "time_per_unit = {\n",
    "    plants[p]: dict(zip(products, tpu[p][:]))\n",
    "    for p in range(len(plants))\n",
    "}\n",
    "bigM = 10000\n",
    "\n",
    "num_products_to_choose = 2\n",
    "num_plants_to_use = 1\n",
    "\n",
    "# Instantiate concrete model\n",
    "M = ConcreteModel(name=\"Example_1\")\n",
    "\n",
    "# Decision Variables\n",
    "M.x = Var(products, domain=Reals, bounds=bounds_rule)\n",
    "M.y = Var(products, domain=Boolean)\n",
    "M.plant_choice = Var(plants, domain=Boolean)\n",
    "\n",
    "# Objective:  Maximize Profit\n",
    "M.profit = Objective(expr=sum(unit_profit[pr] * M.x[pr] for pr in products),\n",
    "                     sense=maximize)\n",
    "\n",
    "# Constraints:\n",
    "M.constraints = ConstraintList()\n",
    "\n",
    "for pr in products:  # produce product only if product is chosen\n",
    "    M.constraints.add(M.x[pr] <= bigM * M.y[pr])\n",
    "\n",
    "# choose 2 products\n",
    "M.constraints.add(sum(M.y[pr] for pr in products) == num_products_to_choose)\n",
    "\n",
    "for pl in plants:  # production capacities\n",
    "    M.constraints.add(\n",
    "        sum(time_per_unit[pl][pr] * M.x[pr]\n",
    "            for pr in products) <= production_avail[pl] +\n",
    "        bigM * (1-M.plant_choice[pl]) )\n",
    "\n",
    "# choose 1 plant\n",
    "M.constraints.add(sum(M.plant_choice[pl] for pl in plants) == num_plants_to_use)\n",
    "\n",
    "# Solve\n",
    "solver = SolverFactory('glpk')\n",
    "solver.solve(M)\n",
    "\n",
    "import babel.numbers as numbers  # needed to display as currency\n",
    "print(\"Maximum Profit = \",\n",
    "      numbers.format_currency(1000 * M.profit(), 'USD', locale='en_US'))\n",
    "\n",
    "print(\"\\nWhich plant to use:\")\n",
    "for pl in plants:\n",
    "    print(\"Produce at {}? \".format(pl) + [\"No\",\"Yes\"][int(M.plant_choice[pl]())] )\n",
    "\n",
    "print(\"\\nWhich products and how many:\")\n",
    "for pr in products:\n",
    "    if bool(M.y[pr]()):\n",
    "        print(\"Produce {} \".format(pr) + \"at a rate of {:1.2f} per week\".format(M.x[pr]() ) )\n",
    "    else:\n",
    "        print(\"Do not produce {}\".format(pr) )"
   ]
  },
  {
   "cell_type": "markdown",
   "metadata": {
    "toc-hr-collapsed": true,
    "toc-nb-collapsed": true
   },
   "source": [
    "# Self-Assessments"
   ]
  },
  {
   "cell_type": "markdown",
   "metadata": {
    "heading_collapsed": true
   },
   "source": [
    "## <font color = \"blue\"> Self Assessment: Solving the California Manufacturing BIP </font>"
   ]
  },
  {
   "cell_type": "markdown",
   "metadata": {
    "hidden": true
   },
   "source": [
    "You should have read the textbook and watched the first two videos in the storybook before doing this self-assessment.\n",
    "\n",
    "Use Pyomo in Python to find the solution to the BIP model for the California Manufacturing Company problem in section 12.1 of the Hillier textbook."
   ]
  },
  {
   "cell_type": "markdown",
   "metadata": {
    "hidden": true
   },
   "source": [
    "Complete the other videos and the remainder of this notebook before attempting the self-assessments below."
   ]
  },
  {
   "cell_type": "markdown",
   "metadata": {
    "heading_collapsed": true
   },
   "source": [
    "## <font color = \"blue\"> Self-Assessment: Integer Programming </font>"
   ]
  },
  {
   "cell_type": "markdown",
   "metadata": {
    "hidden": true
   },
   "source": [
    "True or False: Integer programs are generally more computationally difficult than linear programs with continuous variables. "
   ]
  },
  {
   "cell_type": "markdown",
   "metadata": {
    "heading_collapsed": true
   },
   "source": [
    "## <font color = \"blue\"> Self-Assessment: Type of Programming </font>"
   ]
  },
  {
   "cell_type": "markdown",
   "metadata": {
    "hidden": true
   },
   "source": [
    "The problem \n",
    "\n",
    "Maximize $Z = 7 x_1 + 3 x_2$\n",
    "\n",
    "Subject to:\n",
    "\n",
    "$\n",
    "\\begin{array}{ccccc}\n",
    " 5 x_1 & +  & 7 x_2   & \\leq & 27 \\\\\n",
    " 4 x_1 & +  &   x_2 & \\leq & 14 \\\\\n",
    "3x_1 & - & 2x_2 & \\leq & 19\n",
    "\\end{array}\n",
    "$\n",
    "\n",
    "$x_1 \\geq 0$, $x_2 \\geq 0$, $x_1$ integer\n",
    "\n",
    "is an example of a(n)\n",
    "\n",
    "a. nonlinear program.\n",
    "\n",
    "b. integer program.\n",
    "\n",
    "c. mixed integer program.\n",
    "\n",
    "d. none of the above.\n"
   ]
  },
  {
   "cell_type": "markdown",
   "metadata": {
    "heading_collapsed": true
   },
   "source": [
    "## <font color = \"blue\"> Self-Assessment: Rounding Solutions to Integers </font>"
   ]
  },
  {
   "cell_type": "markdown",
   "metadata": {
    "hidden": true
   },
   "source": [
    "Solving an integer programming problem by rounding off answers obtained by solving it as a linear programming problem, we find that\n",
    "\n",
    "a. The values of the decision variables obtained by rounding are always very close to the optimal values.\n",
    "\n",
    "b. The true value of the objective function for a maximization problem will likely be less than that found by solving the linear programming problem.\n",
    "\n",
    "c. The true value of the objective function for a minimization problem will likely be more than that found by solving the linear programming problem.\n",
    "\n",
    "d. The lower bound reaches zero.\n",
    "\n",
    "e. None of the above.\n"
   ]
  },
  {
   "cell_type": "markdown",
   "metadata": {
    "heading_collapsed": true
   },
   "source": [
    "## <font color = \"blue\"> Self-Assessment: Either/Or Constraints </font>"
   ]
  },
  {
   "cell_type": "markdown",
   "metadata": {
    "hidden": true
   },
   "source": [
    "True or False: To implement an either/or constraint where one or both of two constraints must be satisfied it is necessary add two binary variables.  "
   ]
  },
  {
   "cell_type": "markdown",
   "metadata": {
    "heading_collapsed": true
   },
   "source": [
    "## <font color = \"blue\"> Self-Assessment: Number of Solutions in BIP </font>"
   ]
  },
  {
   "cell_type": "markdown",
   "metadata": {
    "hidden": true
   },
   "source": [
    "True or False:  There are $n^2$ solutions to consider when there are $n$ binary decision variables to be considered in an integer programming problem.  "
   ]
  }
 ],
 "metadata": {
  "kernelspec": {
   "display_name": "Python 3",
   "language": "python",
   "name": "python3"
  },
  "language_info": {
   "codemirror_mode": {
    "name": "ipython",
    "version": 3
   },
   "file_extension": ".py",
   "mimetype": "text/x-python",
   "name": "python",
   "nbconvert_exporter": "python",
   "pygments_lexer": "ipython3",
   "version": "3.7.4"
  },
  "toc": {
   "base_numbering": 1,
   "nav_menu": {},
   "number_sections": true,
   "sideBar": true,
   "skip_h1_title": false,
   "title_cell": "Table of Contents",
   "title_sidebar": "Contents",
   "toc_cell": false,
   "toc_position": {
    "height": "calc(100% - 180px)",
    "left": "10px",
    "top": "150px",
    "width": "263.082px"
   },
   "toc_section_display": true,
   "toc_window_display": true
  },
  "toc-showcode": false,
  "toc-showmarkdowntxt": false,
  "toc-showtags": false,
  "varInspector": {
   "cols": {
    "lenName": 16,
    "lenType": 16,
    "lenVar": 40
   },
   "kernels_config": {
    "python": {
     "delete_cmd_postfix": "",
     "delete_cmd_prefix": "del ",
     "library": "var_list.py",
     "varRefreshCmd": "print(var_dic_list())"
    },
    "r": {
     "delete_cmd_postfix": ") ",
     "delete_cmd_prefix": "rm(",
     "library": "var_list.r",
     "varRefreshCmd": "cat(var_dic_list()) "
    }
   },
   "types_to_exclude": [
    "module",
    "function",
    "builtin_function_or_method",
    "instance",
    "_Feature"
   ],
   "window_display": false
  }
 },
 "nbformat": 4,
 "nbformat_minor": 4
}
