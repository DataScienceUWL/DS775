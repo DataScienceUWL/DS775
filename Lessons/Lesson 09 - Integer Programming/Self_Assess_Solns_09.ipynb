{
 "cells": [
  {
   "cell_type": "markdown",
   "id": "63232c",
   "metadata": {
    "collapsed": false
   },
   "source": [
    "# Lesson 09- Self-Assessment Solutions"
   ]
  },
  {
   "cell_type": "markdown",
   "id": "705950",
   "metadata": {
    "collapsed": false,
    "toc-hr-collapsed": true,
    "toc-nb-collapsed": true
   },
   "source": [
    "## *Self Assessment: Solving the California Manufacturing BIP - Solution*"
   ]
  },
  {
   "cell_type": "markdown",
   "id": "c343c6",
   "metadata": {
    "collapsed": false
   },
   "source": [
    "#### Concrete Formulation"
   ]
  },
  {
   "cell_type": "code",
   "execution_count": 3,
   "id": "4eaf5b",
   "metadata": {
    "collapsed": false
   },
   "outputs": [
    {
     "name": "stdout",
     "output_type": "stream",
     "text": [
      "The total net present value is $14.00 million.\n",
      "Build factory in LA? Yes\n",
      "Build factory in SF? Yes\n",
      "Build warehouse in LA? No\n",
      "Build warehouse in SF? No\n"
     ]
    }
   ],
   "source": [
    "# Unfold for code\n",
    "from pyomo.environ import *\n",
    "\n",
    "# Concrete Model\n",
    "model = ConcreteModel(name = \"CalMan\")\n",
    "\n",
    "# Decision Variables\n",
    "model.x = Var( ['factoryLA','factorySF','warehouseLA','warehouseSF'], domain = Boolean)\n",
    "\n",
    "# Objective \n",
    "model.obj = Objective( expr = 9*model.x['factoryLA'] + 5*model.x['factorySF'] + \n",
    "                      6*model.x['warehouseLA'] + 4*model.x['warehouseSF'], \n",
    "                      sense = maximize)\n",
    "\n",
    "# Constraints\n",
    "model.Constraint1 = Constraint( expr = 6*model.x['factoryLA'] + 3*model.x['factorySF'] + \n",
    "                      5*model.x['warehouseLA'] + 2*model.x['warehouseSF'] <= 10 )\n",
    "model.Constraint2 = Constraint( expr = model.x['warehouseLA'] + model.x['warehouseSF'] <= 1 )\n",
    "model.Constraint3 = Constraint( expr = - model.x['factoryLA'] + model.x['warehouseLA'] <= 0 )\n",
    "model.Constraint4 = Constraint( expr = - model.x['factorySF'] + model.x['warehouseSF'] <= 0 )\n",
    "\n",
    "# Solve\n",
    "solver = SolverFactory('glpk')\n",
    "solver.solve(model)\n",
    "\n",
    "# display solution\n",
    "print(f\"The total net present value is ${model.obj():,.2f} million.\")\n",
    "print(f\"Build factory in LA? {['No','Yes'][int(model.x['factoryLA']())]}\" )\n",
    "print(f\"Build factory in SF? {['No','Yes'][int(model.x['factorySF']())]}\" )\n",
    "print(f\"Build warehouse in LA? {['No','Yes'][int(model.x['warehouseLA']())]}\" )\n",
    "print(f\"Build warehouse in SF? {['No','Yes'][int(model.x['warehouseLA']())]}\" )"
   ]
  },
  {
   "cell_type": "markdown",
   "id": "5d454f",
   "metadata": {
    "collapsed": false,
    "toc-hr-collapsed": true,
    "toc-nb-collapsed": true
   },
   "source": [
    "#### Abstract Formulation"
   ]
  },
  {
   "cell_type": "code",
   "execution_count": 4,
   "id": "c1c524",
   "metadata": {
    "collapsed": false,
    "scrolled": true
   },
   "outputs": [
    {
     "name": "stdout",
     "output_type": "stream",
     "text": [
      "The total net present value is $14.00 million.\n",
      "Build factoryLA? Yes\n",
      "Build factorySF? Yes\n",
      "Build warehouseLA? No\n",
      "Build warehouseSF? No\n"
     ]
    }
   ],
   "source": [
    "# Unfold for code\n",
    "from pyomo.environ import *\n",
    "decisions = ['factoryLA', 'factorySF', 'warehouseLA', 'warehouseSF']\n",
    "npv = dict(zip(decisions, [9, 5, 6, 4]))\n",
    "cap = dict(zip(decisions, [6, 3, 5, 2]))\n",
    "\n",
    "total_capital = 10\n",
    "\n",
    "#Concrete Model\n",
    "model = ConcreteModel()\n",
    "\n",
    "#Decision Variables\n",
    "model.build = Var(decisions, domain=Boolean)\n",
    "\n",
    "#Objective\n",
    "model.npv = Objective(expr=sum(npv[d] * model.build[d]\n",
    "                                  for d in decisions),\n",
    "                         sense=maximize)\n",
    "\n",
    "cts = ['ct1','ct2','ct3']\n",
    "coefs = {'ct1':dict(zip(decisions,[ 0,0,1,1])),\n",
    "         'ct2':dict(zip(decisions,[-1,0,1,0])),\n",
    "         'ct3':dict(zip(decisions,[0,-1,0,1]))}\n",
    "rhs = dict(zip(cts,[1,0,0]))\n",
    "\n",
    "model.constraints = ConstraintList()\n",
    "model.constraints.add(sum(cap[d] * model.build[d] for d in decisions) <= total_capital)\n",
    "for c in cts:\n",
    "    model.constraints.add( expr = sum(coefs[c][d]*model.build[d] for d in decisions) <= rhs[c])\n",
    "\n",
    "# Solve\n",
    "solver = SolverFactory('glpk')\n",
    "solver.solve(model)\n",
    "\n",
    "# display solution\n",
    "print(f\"The total net present value is ${model.npv():,.2f} million.\")\n",
    "for d in decisions:\n",
    "    print(f\"Build {d}? {['No','Yes'][int(model.build[d]())]}\" )\n"
   ]
  },
  {
   "cell_type": "markdown",
   "id": "218331",
   "metadata": {
    "collapsed": false,
    "heading_collapsed": true,
    "toc-hr-collapsed": true,
    "toc-nb-collapsed": true
   },
   "source": [
    "## *Self-Assessment: Integer Programming - Solution*"
   ]
  },
  {
   "cell_type": "markdown",
   "id": "2afe1e",
   "metadata": {
    "collapsed": false,
    "hidden": true
   },
   "source": [
    "Answer:  True"
   ]
  },
  {
   "cell_type": "markdown",
   "id": "24fc1b",
   "metadata": {
    "collapsed": false,
    "toc-hr-collapsed": true,
    "toc-nb-collapsed": true
   },
   "source": [
    "## *Self-Assessment: Type of Programming - Solution*"
   ]
  },
  {
   "cell_type": "markdown",
   "id": "f9ebd4",
   "metadata": {
    "collapsed": false
   },
   "source": [
    "Answer:  c"
   ]
  },
  {
   "cell_type": "markdown",
   "id": "536794",
   "metadata": {
    "collapsed": false,
    "toc-hr-collapsed": true,
    "toc-nb-collapsed": true
   },
   "source": [
    "## *Self-Assessment: Rounding Solutions to Integers - Solution*"
   ]
  },
  {
   "cell_type": "markdown",
   "id": "ffc322",
   "metadata": {
    "collapsed": false
   },
   "source": [
    "Answer: e (read section 12.5 again if you missed this)"
   ]
  },
  {
   "cell_type": "markdown",
   "id": "0f22aa",
   "metadata": {
    "collapsed": false,
    "toc-hr-collapsed": true,
    "toc-nb-collapsed": true
   },
   "source": [
    "## *Self-Assessment: Either/Or Constraints - Solution*"
   ]
  },
  {
   "cell_type": "markdown",
   "id": "2fc434",
   "metadata": {
    "collapsed": false
   },
   "source": [
    "Answer: False (only one binary variable is needed)"
   ]
  },
  {
   "cell_type": "markdown",
   "id": "9e5653",
   "metadata": {
    "collapsed": false,
    "toc-hr-collapsed": true,
    "toc-nb-collapsed": true
   },
   "source": [
    "## *Self-Assessment: Number of Solutions in BIP - Solution*"
   ]
  },
  {
   "cell_type": "markdown",
   "id": "686817",
   "metadata": {
    "collapsed": false
   },
   "source": [
    "Answer: False (there are $2^n$ solutions, the number of solutions grows exponentially with the number of variables, see 12.5)"
   ]
  }
 ],
 "metadata": {
  "kernelspec": {
   "argv": [
    "/usr/bin/python3",
    "-m",
    "ipykernel",
    "--HistoryManager.enabled=False",
    "--matplotlib=inline",
    "-c",
    "%config InlineBackend.figure_formats = set(['retina'])\nimport matplotlib; matplotlib.rcParams['figure.figsize'] = (12, 7)",
    "-f",
    "{connection_file}"
   ],
   "display_name": "Python 3 (system-wide)",
   "env": {
   },
   "language": "python",
   "metadata": {
    "cocalc": {
     "description": "Python 3 programming language",
     "priority": 100,
     "url": "https://www.python.org/"
    }
   },
   "name": "python3",
   "resource_dir": "/ext/jupyter/kernels/python3"
  },
  "language_info": {
   "codemirror_mode": {
    "name": "ipython",
    "version": 3
   },
   "file_extension": ".py",
   "mimetype": "text/x-python",
   "name": "python",
   "nbconvert_exporter": "python",
   "pygments_lexer": "ipython3",
   "version": "3.10.12"
  },
  "toc": {
   "base_numbering": 1,
   "nav_menu": {
   },
   "number_sections": true,
   "sideBar": true,
   "skip_h1_title": false,
   "title_cell": "Table of Contents",
   "title_sidebar": "Contents",
   "toc_cell": false,
   "toc_position": {
    "height": "calc(100% - 180px)",
    "left": "10px",
    "top": "150px",
    "width": "263.083px"
   },
   "toc_section_display": true,
   "toc_window_display": true
  },
  "varInspector": {
   "cols": {
    "lenName": 16,
    "lenType": 16,
    "lenVar": 40
   },
   "kernels_config": {
    "python": {
     "delete_cmd_postfix": "",
     "delete_cmd_prefix": "del ",
     "library": "var_list.py",
     "varRefreshCmd": "print(var_dic_list())"
    },
    "r": {
     "delete_cmd_postfix": ") ",
     "delete_cmd_prefix": "rm(",
     "library": "var_list.r",
     "varRefreshCmd": "cat(var_dic_list()) "
    }
   },
   "types_to_exclude": [
    "module",
    "function",
    "builtin_function_or_method",
    "instance",
    "_Feature"
   ],
   "window_display": false
  }
 },
 "nbformat": 4,
 "nbformat_minor": 4
}