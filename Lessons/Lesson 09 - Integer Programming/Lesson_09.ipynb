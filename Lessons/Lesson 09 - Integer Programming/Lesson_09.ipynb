{
 "cells": [
  {
   "cell_type": "code",
   "execution_count": 2,
   "metadata": {
    "code_folding": [
     0
    ],
    "collapsed": false
   },
   "outputs": [
   ],
   "source": [
    "# EXECUTE FIRST\n",
    "\n",
    "# computational imports\n",
    "from pyomo.environ import *\n",
    "\n",
    "# display imports\n",
    "from IPython.display import display, IFrame\n",
    "from IPython.core.display import HTML\n",
    "\n",
    "# for playing videos, customize height and width if desired\n",
    "def play_video(vid_name, w = 640, h = 360):\n",
    "    vid_path = \"https://media.uwex.edu/content/ds/ds775_r19/\"\n",
    "    return IFrame( vid_path + vid_name + \"/index.html\", width = w, height = h )"
   ]
  },
  {
   "cell_type": "markdown",
   "metadata": {
    "collapsed": false
   },
   "source": [
    "# Lesson 09: Integer Programming"
   ]
  },
  {
   "cell_type": "markdown",
   "metadata": {
    "collapsed": false
   },
   "source": [
    "# General Integer Programming\n",
    "\n",
    "Watch the following video for a general introduction to integer programming."
   ]
  },
  {
   "cell_type": "code",
   "execution_count": 2,
   "metadata": {
    "collapsed": false
   },
   "outputs": [
    {
     "data": {
      "text/html": "\n        <iframe\n            width=\"640\"\n            height=\"360\"\n            src=\"https://media.uwex.edu/content/ds/ds775_r19/ds775_lesson9_general-integer-programming-intro/index.html\"\n            frameborder=\"0\"\n            allowfullscreen\n            \n        ></iframe>\n        ",
      "text/plain": [
       "<IPython.lib.display.IFrame at 0x7f4b132f8580>"
      ]
     },
     "execution_count": 2,
     "metadata": {
     },
     "output_type": "execute_result"
    }
   ],
   "source": [
    "# execute for video\n",
    "play_video(\"ds775_lesson9_general-integer-programming-intro\")"
   ]
  },
  {
   "cell_type": "markdown",
   "metadata": {
    "collapsed": false,
    "heading_collapsed": true,
    "toc-hr-collapsed": true,
    "toc-nb-collapsed": true
   },
   "source": [
    "## Key Concepts\n",
    "* Decision variables constrained to integer values\n",
    "    * Can produce 5 or 6 cars, but not 5.72 cars\n",
    "* For pure integer programming (IP) problems, solutions can be obtained simply by changing the domain for the LP from **NonNegativeReals** to **PositiveIntegers** in the Pyomo coding (as seen in textbook problem 3.4-10 as a Self-Assessment back in Lesson 01)\n",
    "* Computationally, integer programming can be much more difficult than linear programming (this <a href = https://www.quora.com/What-is-the-difference-between-integer-programming-and-linear-programming > post </a> can help you visualize why this is so)\n"
   ]
  },
  {
   "cell_type": "markdown",
   "metadata": {
    "collapsed": false
   },
   "source": [
    "# Binary Integer Programming\n",
    "\n",
    "Watch the following video for an introduction to binary integer programming.  \n",
    "\n",
    "**11/5/2021 - I've just learned that the video gives backward instructions .... it should be that you can only invest in 3 after investing in 4, and can only invest in 1 after investing in 2.  With those changes the equations will make sense.**"
   ]
  },
  {
   "cell_type": "code",
   "execution_count": 3,
   "metadata": {
    "collapsed": false
   },
   "outputs": [
    {
     "data": {
      "text/html": "\n        <iframe\n            width=\"640\"\n            height=\"360\"\n            src=\"https://media.uwex.edu/content/ds/ds775_r19/ds775_lesson9_binary-integer-programming/index.html\"\n            frameborder=\"0\"\n            allowfullscreen\n            \n        ></iframe>\n        ",
      "text/plain": [
       "<IPython.lib.display.IFrame at 0x7f4b132f86d0>"
      ]
     },
     "execution_count": 3,
     "metadata": {
     },
     "output_type": "execute_result"
    }
   ],
   "source": [
    "# execute for video\n",
    "play_video(\"ds775_lesson9_binary-integer-programming\")"
   ]
  },
  {
   "cell_type": "markdown",
   "metadata": {
    "collapsed": false
   },
   "source": [
    "## Key Concepts \n",
    "* contain binary (boolean) variables  \n",
    "* *i.e.* 0 for no, 1 for yes\n",
    "* effectively turns off or on each decision variable\n",
    "* Binary variables are considerably easier to deal with than general integer variables, so they generally can be used to solve substantially larger problems\n",
    "    \n",
    "\n",
    "## Prototype Problem\n",
    "\n",
    "Maximize $Z=8 x_{1}+4 x_{2}+6 x_{3}+16 x_{4}$ \n",
    "\n",
    "subject to\n",
    "\n",
    "\n",
    "$5 x_{1}+3 x_{2}+2 x_{3}+8 x_{4} \\leq 10$\n",
    "\n",
    "$ x_{2}+x_{3}  \\leq 1$\n",
    "\n",
    "$-x_{4} + x_{3}  \\leq 0$\n",
    "\n",
    "$-x_{2} + x_{1}  \\leq 0$\n",
    "\n",
    "\n",
    "and each $x_{i}$ has to be 0 or 1"
   ]
  },
  {
   "cell_type": "code",
   "execution_count": 4,
   "metadata": {
    "collapsed": false
   },
   "outputs": [
    {
     "name": "stdout",
     "output_type": "stream",
     "text": [
      "The future profit is $22.00 million.\n",
      "Invest i1? No\n",
      "Invest i2? No\n",
      "Invest i3? Yes\n",
      "Invest i4? Yes\n"
     ]
    }
   ],
   "source": [
    "#Abstract Code for the Prototype Problem\n",
    "\n",
    "decisions = ['i1', 'i2', 'i3', 'i4']\n",
    "vals = [8,4,6,16]\n",
    "costs = [5,3,2,8]\n",
    "\n",
    "total_capital = 10\n",
    "\n",
    "\n",
    "cts = ['ct2','ct3','ct4']\n",
    "#create a matric of 1s and zeros that would match our constraints\n",
    "coefs = {'ct2':dict(zip(decisions,[ 0,1,1,0])), #model.x['i2'] + model.x['i3'] <= 1\n",
    "         'ct3':dict(zip(decisions,[0,0,1,-1])), #- model.x['i4'] + model.x['i3'] <= 0\n",
    "         'ct4':dict(zip(decisions,[1,-1,0,0]))} #- model.x['i2'] + model.x['i1'] <= 0\n",
    "rhs = dict(zip(cts,[1,0,0]))\n",
    "\n",
    "\n",
    "# Concrete Model\n",
    "model = ConcreteModel(name = \"BiInvest2\")\n",
    "\n",
    "#Decision Variables\n",
    "model.investments = Var(decisions, domain=Boolean)\n",
    "\n",
    "#Objective\n",
    "model.profit = Objective(expr=sum(vals[decisions.index(d)] * model.investments[d] for d in decisions),\n",
    "                         sense=maximize)\n",
    "\n",
    "model.constraints = ConstraintList()\n",
    "model.constraints.add(sum(costs[decisions.index(d)] * model.investments[d] for d in decisions) <= total_capital)\n",
    "for c in cts:\n",
    "    model.constraints.add( expr = sum(coefs[c][d]*model.investments[d] for d in decisions) <= rhs[c])\n",
    "\n",
    "# Solve\n",
    "solver = SolverFactory('glpk')\n",
    "solver.solve(model)\n",
    "\n",
    "\n",
    "# display solution\n",
    "print(f\"The future profit is ${model.profit():,.2f} million.\")\n",
    "for d in decisions:\n",
    "    print(f\"Invest {d}? {['No','Yes'][int(model.investments[d]())]}\" )"
   ]
  },
  {
   "cell_type": "markdown",
   "metadata": {
    "collapsed": false,
    "heading_collapsed": true
   },
   "source": [
    "## *Self Assessment: Solving the California Manufacturing BIP*\n",
    "The textbook presents a prototype Binary Integer Programming Problem - the California Manufacturing Problem. (Chapter 12.1, page 476)\n",
    "\n",
    "The mathematical formulation for this problem is:\n",
    "\n",
    "Maximize $Z=6 x_{1}+5 x_{2}+6 x_{3}+4 x_{4}$ \n",
    "\n",
    "subject to\n",
    "\n",
    "\n",
    "$6 x_{1}+3 x_{2}+5 x_{3}+2 x_{4} \\leq 10$\n",
    "\n",
    "$ x_{3}+x_{4}  \\leq 1$\n",
    "\n",
    "$-x_{1} + x_{3}  \\leq 0$\n",
    "\n",
    "$-x_{2} + x_{4}  \\leq 0$\n",
    "\n",
    "\n",
    "and each $x_{i}$ has to be 0 or 1\n",
    "\n",
    "Use Pyomo in Python to find the solution to the BIP model for the California Manufacturing Company problem."
   ]
  },
  {
   "cell_type": "markdown",
   "metadata": {
    "collapsed": false
   },
   "source": [
    "# Mixed Integer Programming\n",
    "\n",
    "Watch the following video for an introduction to mixed integer programming."
   ]
  },
  {
   "cell_type": "code",
   "execution_count": 5,
   "metadata": {
    "collapsed": false
   },
   "outputs": [
    {
     "data": {
      "text/html": "\n        <iframe\n            width=\"640\"\n            height=\"360\"\n            src=\"https://media.uwex.edu/content/ds/ds775_r19/ds775_lesson9_mixed-integer-programming/index.html\"\n            frameborder=\"0\"\n            allowfullscreen\n            \n        ></iframe>\n        ",
      "text/plain": [
       "<IPython.lib.display.IFrame at 0x7f4b13343be0>"
      ]
     },
     "execution_count": 5,
     "metadata": {
     },
     "output_type": "execute_result"
    }
   ],
   "source": [
    "# execute for video\n",
    "play_video(\"ds775_lesson9_mixed-integer-programming\")"
   ]
  },
  {
   "cell_type": "markdown",
   "metadata": {
    "collapsed": false
   },
   "source": [
    "## Key Concepts\n",
    "* some variables are constrained to be integers while other are not\n",
    "* very common approach to many problems\n",
    "* mixed integer programming often uses one of two BigM approaches to enforce constraints\n",
    "    * Either-Or Constraints\n",
    "    * Fixed Cost"
   ]
  },
  {
   "cell_type": "markdown",
   "metadata": {
    "collapsed": false,
    "toc-hr-collapsed": true,
    "toc-nb-collapsed": true
   },
   "source": [
    "## Good Products Example Problem"
   ]
  },
  {
   "cell_type": "markdown",
   "metadata": {
    "collapsed": false
   },
   "source": [
    "This is the Good Products example (textbook page 489), similar to the Wyndor problem, in which we have to choose which products to produce and which factories to use.\n",
    "The problem description is reproduced here for convenience. This is an example of a problem that implements the either-or constraint."
   ]
  },
  {
   "cell_type": "markdown",
   "metadata": {
    "collapsed": false,
    "heading_collapsed": true
   },
   "source": [
    "### Problem Description"
   ]
  },
  {
   "cell_type": "markdown",
   "metadata": {
    "collapsed": false,
    "hidden": true
   },
   "source": [
    "The Research and Development Division of the GOOD PRODUCTS COMPANY has developed three possible new products. However, to avoid undue diversification of the company’s product line, management has imposed the following restriction:\n",
    "\n",
    "- **Restriction 1:** From the three possible new products, at most two should be chosen to be produced.\n",
    "\n",
    "Each of these products can be produced in either of two plants. For administrative reasons, management has imposed a second restriction in this regard.\n",
    "\n",
    "- **Restriction 2:** Just one of the two plants should be chosen to be the sole producer of the new products.\n",
    "\n",
    "The production cost per unit of each product would be essentially the same in the two plants. However, because of differences in their production facilities, the number of hours of production time needed per unit of each product might differ between the two plants. These data are given in the table below, along with other relevant information, including marketing estimates of the number of units of each product that could be sold per week if it is produced. The objective is to choose the products, the plant, and the production rates of the chosen products so as to maximize total profit.\n",
    "\n",
    "<img src=\"images/good_products_table.png\" width=\"600\">"
   ]
  },
  {
   "cell_type": "markdown",
   "metadata": {
    "collapsed": false,
    "heading_collapsed": true
   },
   "source": [
    "## Mathematical Formulation"
   ]
  },
  {
   "cell_type": "markdown",
   "metadata": {
    "collapsed": false,
    "hidden": true
   },
   "source": [
    "Maximize $Z = 5x_1 + 7x_2 + 3x_3$\n",
    "\n",
    "Subject to:\n",
    "\n",
    "$\n",
    "\\begin{array}{l}\n",
    "3x_1 + 4x_2 + 2x_3 \\leq 30 + My_4\\\\\n",
    "4x_1 + 6x_2 + 2x_3 \\leq 40 + M(1-y_4) \\\\ \\\\\n",
    "0 \\leq x_1 \\leq 7 \\\\\n",
    "0 \\leq x_2 \\leq 5 \\\\\n",
    "0 \\leq x_3 \\leq 9 \\\\ \\\\\n",
    " y_1 + y_2 + y_3 \\leq 2 \\\\\n",
    "0 \\leq x_i \\leq My_i, \\text{ for } i=1,2,3 \\\\\n",
    "y_i \\text{ binary, for } i=1, 2, 3, 4\n",
    "\\end{array}\n",
    "$\n",
    "\n",
    "Note that if $y_4 = 0$ we are using Plant 1 and if $y_4 = 1$ we are using Plant 2.\n",
    "\n",
    "The complete formulation of this problem is discussed on pages 490-491 of the textbook. "
   ]
  },
  {
   "cell_type": "markdown",
   "metadata": {
    "collapsed": false
   },
   "source": [
    "## Pyomo Concrete Formulation Solution"
   ]
  },
  {
   "cell_type": "markdown",
   "metadata": {
    "collapsed": false
   },
   "source": [
    "Here we'll just use individual variables $x_1, x_2,$ etc. for maximum transparency.  In the homework you'll need to include abstract formulations, but we include a concrete formulation here to help you understand how binary variables work in Pyomo.  The next section has the abstract formulation."
   ]
  },
  {
   "cell_type": "code",
   "execution_count": 6,
   "metadata": {
    "collapsed": false
   },
   "outputs": [
    {
     "name": "stdout",
     "output_type": "stream",
     "text": [
      "Maximum Profit = $54,500.00\n",
      "Use Plant 2.\n",
      "Produce 5.5 of product 1 per week\n",
      "Produce 9.0 of product 3 per week\n"
     ]
    }
   ],
   "source": [
    "# concrete Good Products\n",
    "m = ConcreteModel(name=\"Example_1\")\n",
    "\n",
    "m.x1 = Var(bounds=(0,7))\n",
    "m.x2 = Var(bounds=(0,5))\n",
    "m.x3 = Var(bounds=(0,9))\n",
    "\n",
    "m.y1 = Var(domain=Boolean)\n",
    "m.y2 = Var(domain=Boolean)\n",
    "m.y3 = Var(domain=Boolean)\n",
    "m.y4 = Var(domain=Boolean) # 0 to use Plant 1, 1 to use Plant 2\n",
    "\n",
    "m.profit = Objective( expr = 5*m.x1 + 7*m.x2 + 3*m.x3, sense = maximize)\n",
    "\n",
    "bigM = 10000\n",
    "\n",
    "# Constraints:\n",
    "m.cts = ConstraintList()\n",
    "m.cts.add( m.y1 + m.y2 + m.y3 <= 2)\n",
    "m.cts.add( 3 * m.x1 + 4 * m.x2 + 2 * m.x3 <= 30 + bigM * m.y4 )\n",
    "m.cts.add( 4 * m.x1 + 6 * m.x2 + 2 * m.x3 <= 40 + bigM * (1 - m.y4))\n",
    "m.cts.add( m.x1 <= bigM * m.y1)\n",
    "m.cts.add( m.x2 <= bigM * m.y2)\n",
    "m.cts.add( m.x3 <= bigM * m.y3)\n",
    "\n",
    "# Solve\n",
    "solver = SolverFactory('glpk')\n",
    "solver.solve(m)\n",
    "\n",
    "print(f\"Maximum Profit = ${1000*m.profit():,.2f}\")\n",
    "\n",
    "print(\"Use \"+ \"Plant 2.\" if m.y4() else \"Plant 1.\" )\n",
    "\n",
    "for i,amount in enumerate([m.x1(),m.x2(),m.x3()]):\n",
    "    if amount > 0:\n",
    "        print(f\"Produce {amount:0.1f} of product {i+1} per week\")"
   ]
  },
  {
   "cell_type": "markdown",
   "metadata": {
    "collapsed": false
   },
   "source": [
    "## Pyomo Abstract Formulation Solution"
   ]
  },
  {
   "cell_type": "markdown",
   "metadata": {
    "collapsed": false
   },
   "source": [
    "To make the abstract formulation we add an extra binary variable, $y_5$, so that we have one for each plant to make the plant constraints have the same format.  The math formulation then replaces:\n",
    "\n",
    "$\n",
    "\\begin{array}{l}\n",
    "3x_1 + 4x_2 + 2x_3 \\leq 30 + My_4 \\\\\n",
    "4x_1 + 6x_2 + 2x_3 \\leq 40 + M(1-y_4) \\\\\n",
    "\\end{array}\n",
    "$\n",
    "\n",
    "with:\n",
    "\n",
    "$\n",
    "\\begin{array}{l}\n",
    "3x_1 + 4x_2 + 2x_3 \\leq 30 + M(1-y_4)\\\\\n",
    "4x_1 + 6x_2 + 2x_3 \\leq 40 + M(1-y_5)\\\\\n",
    "y_4 + y_5 = 1\n",
    "\\end{array}\n",
    "$\n",
    "\n",
    "so if $y_4 = 1$ we are using Plant 1 and if $y_5 = 1$ we are using Plant 2."
   ]
  },
  {
   "cell_type": "code",
   "execution_count": 3,
   "metadata": {
    "collapsed": false
   },
   "outputs": [
    {
     "name": "stdout",
     "output_type": "stream",
     "text": [
      "4 Set Declarations\n",
      "    constraints_index : Size=1, Index=None, Ordered=Insertion\n",
      "        Key  : Dimen : Domain : Size : Members\n",
      "        None :     1 :    Any :    7 : {1, 2, 3, 4, 5, 6, 7}\n",
      "    plant_choice_index : Size=1, Index=None, Ordered=Insertion\n",
      "        Key  : Dimen : Domain : Size : Members\n",
      "        None :     1 :    Any :    2 : {'Plant1', 'Plant2'}\n",
      "    x_index : Size=1, Index=None, Ordered=Insertion\n",
      "        Key  : Dimen : Domain : Size : Members\n",
      "        None :     1 :    Any :    3 : {'Product1', 'Product2', 'Product3'}\n",
      "    y_index : Size=1, Index=None, Ordered=Insertion\n",
      "        Key  : Dimen : Domain : Size : Members\n",
      "        None :     1 :    Any :    3 : {'Product1', 'Product2', 'Product3'}\n",
      "\n",
      "3 Var Declarations\n",
      "    plant_choice : Size=2, Index=plant_choice_index\n",
      "        Key    : Lower : Value : Upper : Fixed : Stale : Domain\n",
      "        Plant1 :     0 :  None :     1 : False :  True : Boolean\n",
      "        Plant2 :     0 :  None :     1 : False :  True : Boolean\n",
      "    x : Size=3, Index=x_index\n",
      "        Key      : Lower : Value : Upper : Fixed : Stale : Domain\n",
      "        Product1 :     0 :  None :     7 : False :  True :  Reals\n",
      "        Product2 :     0 :  None :     5 : False :  True :  Reals\n",
      "        Product3 :     0 :  None :     9 : False :  True :  Reals\n",
      "    y : Size=3, Index=y_index\n",
      "        Key      : Lower : Value : Upper : Fixed : Stale : Domain\n",
      "        Product1 :     0 :  None :     1 : False :  True : Boolean\n",
      "        Product2 :     0 :  None :     1 : False :  True : Boolean\n",
      "        Product3 :     0 :  None :     1 : False :  True : Boolean\n",
      "\n",
      "1 Objective Declarations\n",
      "    profit : Size=1, Index=None, Active=True\n",
      "        Key  : Active : Sense    : Expression\n",
      "        None :   True : maximize : 5*x[Product1] + 7*x[Product2] + 3*x[Product3]\n",
      "\n",
      "1 Constraint Declarations\n",
      "    constraints : Size=7, Index=constraints_index, Active=True\n",
      "        Key : Lower : Body                                                                                    : Upper : Active\n",
      "          1 :  -Inf :                                                         x[Product1] - 10000*y[Product1] :   0.0 :   True\n",
      "          2 :  -Inf :                                                         x[Product2] - 10000*y[Product2] :   0.0 :   True\n",
      "          3 :  -Inf :                                                         x[Product3] - 10000*y[Product3] :   0.0 :   True\n",
      "          4 :  -Inf :                                                 y[Product1] + y[Product2] + y[Product3] :   2.0 :   True\n",
      "          5 :  -Inf : 3*x[Product1] + 4*x[Product2] + 2*x[Product3] - (30 + 10000*(1 - plant_choice[Plant1])) :   0.0 :   True\n",
      "          6 :  -Inf : 4*x[Product1] + 6*x[Product2] + 2*x[Product3] - (40 + 10000*(1 - plant_choice[Plant2])) :   0.0 :   True\n",
      "          7 :   1.0 :                                             plant_choice[Plant1] + plant_choice[Plant2] :   1.0 :   True\n",
      "\n",
      "9 Declarations: x_index x y_index y plant_choice_index plant_choice profit constraints_index constraints\n"
     ]
    },
    {
     "name": "stdout",
     "output_type": "stream",
     "text": [
      "Maximum Profit = $54,500.00\n",
      "\n",
      "Which plant to use:\n",
      "Produce at Plant1? No\n",
      "Produce at Plant2? Yes\n",
      "\n",
      "Which products and how many:\n",
      "Produce Product1 at a rate of 5.50 per week\n",
      "Do not produce Product2\n",
      "Produce Product3 at a rate of 9.00 per week\n"
     ]
    }
   ],
   "source": [
    "# abstract Good Products\n",
    "\n",
    "# Problem data\n",
    "products = ['Product1', 'Product2', 'Product3']\n",
    "unit_profit = dict(zip(products, [5, 7, 3]))\n",
    "\n",
    "sales_potential = dict(zip(products, [7, 5, 9]))\n",
    "def bounds_rule(model, product):\n",
    "    return ((0, sales_potential[product]))\n",
    "\n",
    "plants = ['Plant1', 'Plant2']\n",
    "production_avail = dict(zip(plants, [30, 40]))\n",
    "\n",
    "tpu = [[3, 4, 2], [4, 6, 2]]\n",
    "time_per_unit = {\n",
    "    plants[p]: dict(zip(products, tpu[p][:]))\n",
    "    for p in range(len(plants))\n",
    "}\n",
    "bigM = 10000\n",
    "\n",
    "max_num_products_to_choose = 2\n",
    "num_plants_to_use = 1\n",
    "\n",
    "# Instantiate concrete model\n",
    "M = ConcreteModel(name=\"Example_1\")\n",
    "\n",
    "# Decision Variables\n",
    "M.x = Var(products, domain=Reals, bounds=bounds_rule)\n",
    "M.y = Var(products, domain=Boolean)\n",
    "M.plant_choice = Var(plants, domain=Boolean)\n",
    "\n",
    "# Objective:  Maximize Profit\n",
    "M.profit = Objective(expr=sum(unit_profit[pr] * M.x[pr] for pr in products),\n",
    "                     sense=maximize)\n",
    "\n",
    "# Constraints:\n",
    "M.constraints = ConstraintList()\n",
    "\n",
    "for pr in products:  # produce product only if product is chosen\n",
    "    M.constraints.add(M.x[pr] <= bigM * M.y[pr])\n",
    "\n",
    "# choose 2 products\n",
    "M.constraints.add(sum(M.y[pr] for pr in products) <= max_num_products_to_choose)\n",
    "\n",
    "for pl in plants:  # production capacities\n",
    "    M.constraints.add(\n",
    "        sum(time_per_unit[pl][pr] * M.x[pr]\n",
    "            for pr in products) <= production_avail[pl] +\n",
    "        bigM * (1-M.plant_choice[pl]) )\n",
    "\n",
    "# choose 1 plant\n",
    "M.constraints.add(sum(M.plant_choice[pl] for pl in plants) == num_plants_to_use)\n",
    "\n",
    "M.pprint()\n",
    "\n",
    "# Solve\n",
    "solver = SolverFactory('glpk')\n",
    "solver.solve(M)\n",
    "\n",
    "print(f\"Maximum Profit = ${1000 * M.profit():,.2f}\")\n",
    "\n",
    "print(\"\\nWhich plant to use:\")\n",
    "for pl in plants:\n",
    "    print(f\"Produce at {pl}? {['No','Yes'][int(M.plant_choice[pl]())]}\")\n",
    "\n",
    "print(\"\\nWhich products and how many:\")\n",
    "for pr in products:\n",
    "    if bool(M.y[pr]()):\n",
    "        print(f\"Produce {pr} at a rate of {M.x[pr]():.2f} per week\")\n",
    "    else:\n",
    "        print(f\"Do not produce {pr}\" )"
   ]
  },
  {
   "cell_type": "markdown",
   "metadata": {
    "collapsed": false,
    "heading_collapsed": true
   },
   "source": [
    "## *Self-Assessment: Integer Programming*"
   ]
  },
  {
   "cell_type": "markdown",
   "metadata": {
    "collapsed": false,
    "hidden": true
   },
   "source": [
    "**True or False:** Integer programs are generally more computationally difficult than linear programs with continuous variables. "
   ]
  },
  {
   "cell_type": "markdown",
   "metadata": {
    "collapsed": false,
    "heading_collapsed": true
   },
   "source": [
    "## *Self-Assessment: Type of Programming*"
   ]
  },
  {
   "cell_type": "markdown",
   "metadata": {
    "collapsed": false,
    "hidden": true
   },
   "source": [
    "The problem \n",
    "\n",
    "Maximize $Z = 7 x_1 + 3 x_2$\n",
    "\n",
    "Subject to:\n",
    "\n",
    "$\n",
    "\\begin{array}{ccccc}\n",
    " 5 x_1 & +  & 7 x_2   & \\leq & 27 \\\\\n",
    " 4 x_1 & +  &   x_2 & \\leq & 14 \\\\\n",
    "3x_1 & - & 2x_2 & \\leq & 19\n",
    "\\end{array}\n",
    "$\n",
    "\n",
    "$x_1 \\geq 0$, $x_2 \\geq 0$, $x_1$ integer\n",
    "\n",
    "is an example of a(n)\n",
    "\n",
    "a. nonlinear program.\n",
    "\n",
    "b. integer program.\n",
    "\n",
    "c. mixed integer program.\n",
    "\n",
    "d. none of the above.\n"
   ]
  },
  {
   "cell_type": "markdown",
   "metadata": {
    "collapsed": false,
    "heading_collapsed": true
   },
   "source": [
    "## *Self-Assessment: Rounding Solutions to Integers*"
   ]
  },
  {
   "cell_type": "markdown",
   "metadata": {
    "collapsed": false,
    "hidden": true
   },
   "source": [
    "Solving an integer programming problem by rounding off answers obtained by solving it as a linear programming problem, we find that\n",
    "\n",
    "a. The values of the decision variables obtained by rounding are always very close to the optimal values.\n",
    "\n",
    "b. The true value of the objective function for a maximization problem will likely be less than that found by solving the linear programming problem.\n",
    "\n",
    "c. The true value of the objective function for a minimization problem will likely be more than that found by solving the linear programming problem.\n",
    "\n",
    "d. The lower bound reaches zero.\n",
    "\n",
    "e. None of the above.\n"
   ]
  },
  {
   "cell_type": "markdown",
   "metadata": {
    "collapsed": false,
    "heading_collapsed": true
   },
   "source": [
    "## *Self-Assessment: Either/Or Constraints*"
   ]
  },
  {
   "cell_type": "markdown",
   "metadata": {
    "collapsed": false,
    "hidden": true
   },
   "source": [
    "**True or False:** To implement an either/or constraint where one or both of two constraints must be satisfied it is necessary add two binary variables.  "
   ]
  },
  {
   "cell_type": "markdown",
   "metadata": {
    "collapsed": false,
    "heading_collapsed": true
   },
   "source": [
    "## *Self-Assessment: Number of Solutions in BIP*"
   ]
  },
  {
   "cell_type": "markdown",
   "metadata": {
    "collapsed": false,
    "hidden": true
   },
   "source": [
    "**True or False:**  There are $n^2$ solutions to consider when there are $n$ binary decision variables to be considered in an integer programming problem."
   ]
  }
 ],
 "metadata": {
  "kernelspec": {
   "display_name": "Python 3 (system-wide)",
   "language": "python",
   "metadata": {
    "cocalc": {
     "description": "Python 3 programming language",
     "priority": 100,
     "url": "https://www.python.org/"
    }
   },
   "name": "python3",
   "resource_dir": "/ext/jupyter/kernels/python3"
  },
  "language_info": {
   "codemirror_mode": {
    "name": "ipython",
    "version": 3
   },
   "file_extension": ".py",
   "mimetype": "text/x-python",
   "name": "python",
   "nbconvert_exporter": "python",
   "pygments_lexer": "ipython3",
   "version": "3.8.10"
  },
  "toc": {
   "base_numbering": 1,
   "nav_menu": {
   },
   "number_sections": true,
   "sideBar": true,
   "skip_h1_title": false,
   "title_cell": "Table of Contents",
   "title_sidebar": "Contents",
   "toc_cell": false,
   "toc_position": {
    "height": "calc(100% - 180px)",
    "left": "10px",
    "top": "150px",
    "width": "263.082px"
   },
   "toc_section_display": true,
   "toc_window_display": true
  },
  "toc-showcode": false,
  "toc-showmarkdowntxt": false,
  "toc-showtags": false,
  "varInspector": {
   "cols": {
    "lenName": 16,
    "lenType": 16,
    "lenVar": 40
   },
   "kernels_config": {
    "python": {
     "delete_cmd_postfix": "",
     "delete_cmd_prefix": "del ",
     "library": "var_list.py",
     "varRefreshCmd": "print(var_dic_list())"
    },
    "r": {
     "delete_cmd_postfix": ") ",
     "delete_cmd_prefix": "rm(",
     "library": "var_list.r",
     "varRefreshCmd": "cat(var_dic_list()) "
    }
   },
   "types_to_exclude": [
    "module",
    "function",
    "builtin_function_or_method",
    "instance",
    "_Feature"
   ],
   "window_display": false
  }
 },
 "nbformat": 4,
 "nbformat_minor": 4
}