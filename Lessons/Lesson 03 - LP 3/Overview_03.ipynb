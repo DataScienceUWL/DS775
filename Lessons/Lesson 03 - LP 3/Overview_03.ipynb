{
 "cells": [
  {
   "cell_type": "code",
   "execution_count": 2,
   "metadata": {
    "code_folding": [
     0
    ],
    "collapsed": false
   },
   "outputs": [
   ],
   "source": [
    "# execute to import notebook styling for tables and width etc.\n",
    "from IPython.core.display import HTML\n",
    "import urllib.request\n",
    "response = urllib.request.urlopen('https://raw.githubusercontent.com/DataScienceUWL/DS775v2/master/ds755.css')\n",
    "HTML(response.read().decode(\"utf-8\"));"
   ]
  },
  {
   "cell_type": "markdown",
   "metadata": {
    "collapsed": false
   },
   "source": [
    "# Overview"
   ]
  },
  {
   "cell_type": "markdown",
   "metadata": {
    "collapsed": false
   },
   "source": [
    "## Topics"
   ]
  },
  {
   "cell_type": "markdown",
   "metadata": {
    "collapsed": false
   },
   "source": [
    "* Transportation, Assignment, and Scheduling Problems\n",
    "* More practice with abstract modeling for setting up larger LP problems"
   ]
  },
  {
   "cell_type": "markdown",
   "metadata": {
    "collapsed": false
   },
   "source": [
    "## Learning Outcomes"
   ]
  },
  {
   "cell_type": "markdown",
   "metadata": {
    "collapsed": false
   },
   "source": [
    "The student will be able to:\n",
    "\n",
    "* recognize transportation, assignment, and scheduling problems.\n",
    "* use Python to solve the associated linear programs\n"
   ]
  },
  {
   "cell_type": "markdown",
   "metadata": {
    "collapsed": false
   },
   "source": [
    "## Student \"To Do\" Checklist\n",
    "\n",
    "\n"
   ]
  },
  {
   "cell_type": "markdown",
   "metadata": {
    "collapsed": false
   },
   "source": [
    "* Read sections 9.1 and 9.3 of Hillier.  The details of the special algorithms in 9.2 and 9.4 aren't important for our applied approach.\n",
    "* Work your way through the Jupyter notebook called Lesson_03.ipynb.  This is the main presentation and replaces the Storybook presentations used in our other courses.  Use the self-assessments to measure your understanding.  There is a separate Jupyter notebook file with self-assessment solutions in the lesson folder.  *Self-assessments are not collected and do not count toward your grade.*\n",
    "* Complete the homework notebook in CoCalc and transfer your answers to the Canvas Quiz by the due date which is shown both in Canvas and CoCalc.\n",
    "\n",
    "Use Piazza to ask questions when you have them and be sure to check Piazza regularly so you don't miss out on any good Q & A or other discussions.\n",
    "\n",
    "This may be one of the more challenging weeks from a programming perspective.  Start early and ask plenty of questions!"
   ]
  },
  {
   "cell_type": "code",
   "execution_count": 0,
   "metadata": {
    "collapsed": false
   },
   "outputs": [
   ],
   "source": [
   ]
  }
 ],
 "metadata": {
  "kernelspec": {
   "display_name": "Python 3 (system-wide)",
   "language": "python",
   "metadata": {
    "cocalc": {
     "description": "Python 3 programming language",
     "priority": 100,
     "url": "https://www.python.org/"
    }
   },
   "name": "python3",
   "resource_dir": "/ext/jupyter/kernels/python3"
  },
  "language_info": {
   "codemirror_mode": {
    "name": "ipython",
    "version": 3
   },
   "file_extension": ".py",
   "mimetype": "text/x-python",
   "name": "python",
   "nbconvert_exporter": "python",
   "pygments_lexer": "ipython3",
   "version": "3.7.3"
  },
  "toc": {
   "base_numbering": 1,
   "nav_menu": {
   },
   "number_sections": true,
   "sideBar": true,
   "skip_h1_title": false,
   "title_cell": "Table of Contents",
   "title_sidebar": "Contents",
   "toc_cell": false,
   "toc_position": {
   },
   "toc_section_display": true,
   "toc_window_display": false
  }
 },
 "nbformat": 4,
 "nbformat_minor": 4
}