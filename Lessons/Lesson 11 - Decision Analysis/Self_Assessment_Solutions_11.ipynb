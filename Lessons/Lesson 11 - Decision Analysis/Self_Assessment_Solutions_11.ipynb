{
 "cells": [
  {
   "cell_type": "markdown",
   "metadata": {
    "collapsed": false
   },
   "source": [
    "# Self Assessment Solutions for Lesson 11 - Decision Analysis"
   ]
  },
  {
   "cell_type": "markdown",
   "metadata": {
    "collapsed": false
   },
   "source": [
    "## Self Assessment Solution 1\n",
    "\n",
    "<img src=\"images/q1_sa_solution.png\" width=\"900\">"
   ]
  },
  {
   "cell_type": "markdown",
   "metadata": {
    "collapsed": false
   },
   "source": [
    "## Self Assessment Solution 2\n",
    "\n",
    "\n",
    "<img src=\"images/q2_sa_solution.png\" width=\"900\">"
   ]
  },
  {
   "cell_type": "markdown",
   "metadata": {
    "collapsed": false
   },
   "source": [
    "## Self Assessment Solution 3\n",
    "\n",
    "\n",
    "<img src=\"images/q3_sa_solution.png\" width=\"900\">"
   ]
  },
  {
   "cell_type": "markdown",
   "metadata": {
    "collapsed": false
   },
   "source": [
    "## Self Assessment Solution 4\n",
    "\n",
    "\n",
    "<img src=\"images/q4_sa_solution.png\" width=\"900\">"
   ]
  },
  {
   "cell_type": "markdown",
   "metadata": {
    "collapsed": false
   },
   "source": [
    "## Self Assessment Solution 5\n",
    "\n",
    "\n",
    "<img src=\"images/q5_sa_solution.png\" width=\"900\">"
   ]
  },
  {
   "cell_type": "markdown",
   "metadata": {
    "collapsed": false
   },
   "source": [
    "## Self Assessment Answer 6\n",
    "\n",
    "Here is the <a href = \"https://www.desmos.com/calculator/irjbbosn6n\">Desmos graph</a> we used below.\n",
    "\n",
    "<font color=\"red\">Note:  the table should have $190p + 30$ instead of $180p + 30$\n",
    "\n",
    "\n",
    "<img src=\"images/q6_sa_solution.png\" width=\"900\">"
   ]
  },
  {
   "cell_type": "markdown",
   "metadata": {
    "collapsed": false
   },
   "source": [
    "## Self Assessment Answer 7\n",
    "\n",
    "<img src=\"images/q7_sa_solution.png\" width=\"300\">"
   ]
  },
  {
   "cell_type": "markdown",
   "metadata": {
    "collapsed": false
   },
   "source": [
    "## Self Assessment Answer 8\n",
    "\n",
    "<img src=\"images/q8_sa_solution.png\" width=\"900\">"
   ]
  },
  {
   "cell_type": "markdown",
   "metadata": {
    "collapsed": false
   },
   "source": [
    "## Self Assessment Answer 9\n",
    "\n",
    "<img src=\"images/q9_sa_solution.png\" width=\"900\">"
   ]
  },
  {
   "cell_type": "markdown",
   "metadata": {
    "collapsed": false
   },
   "source": [
    "## Self Assessment Solution 10\n",
    "\n",
    "<img src=\"images/q10_sa_solution.png\" width=\"900\">"
   ]
  },
  {
   "cell_type": "markdown",
   "metadata": {
    "collapsed": false
   },
   "source": [
    "## Self Assessment Solution 11\n",
    "\n",
    "<img src=\"images/q11_sa_solution.png\" width=\"900\">"
   ]
  },
  {
   "cell_type": "markdown",
   "metadata": {
    "collapsed": false
   },
   "source": [
    "## Self Assessment Solution 12\n",
    "\n",
    "The Silver Decisions json file for this question is in the Silver Decisions subdirectory with this notebook.\n",
    "\n",
    "<img src=\"images/q12_sa_solution.png\" width=\"900\">"
   ]
  },
  {
   "cell_type": "markdown",
   "metadata": {
    "collapsed": false
   },
   "source": [
    "## Self Assessment Solution 13\n",
    "\n",
    "The Silver Decisions json file for this question is in the Silver Decisions subdirectory with this notebook.\n",
    "\n",
    "<img src=\"images/q13_sa_solution.png\" width=\"900\">"
   ]
  },
  {
   "cell_type": "markdown",
   "metadata": {
    "collapsed": false
   },
   "source": [
    "## Self Assessment Solution 14\n",
    "\n",
    "<img src=\"images/q14_sa_solution.png\" width=\"900\">"
   ]
  }
 ],
 "metadata": {
  "kernelspec": {
   "argv": [
    "/usr/bin/python3",
    "-m",
    "ipykernel",
    "--HistoryManager.enabled=False",
    "--matplotlib=inline",
    "-c",
    "%config InlineBackend.figure_formats = set(['retina'])\nimport matplotlib; matplotlib.rcParams['figure.figsize'] = (12, 7)",
    "-f",
    "{connection_file}"
   ],
   "display_name": "Python 3 (system-wide)",
   "env": {
   },
   "language": "python",
   "metadata": {
    "cocalc": {
     "description": "Python 3 programming language",
     "priority": 100,
     "url": "https://www.python.org/"
    }
   },
   "name": "python3",
   "resource_dir": "/ext/jupyter/kernels/python3"
  },
  "language_info": {
   "codemirror_mode": {
    "name": "ipython",
    "version": 3
   },
   "file_extension": ".py",
   "mimetype": "text/x-python",
   "name": "python",
   "nbconvert_exporter": "python",
   "pygments_lexer": "ipython3",
   "version": "3.8.10"
  }
 },
 "nbformat": 4,
 "nbformat_minor": 4
}