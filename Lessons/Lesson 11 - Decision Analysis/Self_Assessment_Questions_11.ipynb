{
 "cells": [
  {
   "cell_type": "markdown",
   "metadata": {
    "collapsed": false
   },
   "source": [
    "# Self Assessment Questions for Lesson 11 - Decision Analysis\n",
    "\n",
    "For this lesson we're putting the self-assessment questions in a separate notebook for, we hope, simpler navigation.\n",
    "\n",
    "Throughout this notebook we'll use one scenario:\n",
    "\n",
    "You are the author of what may be a successful book and are trying to decide if you should publish it yourself or have a publisher do it.  \n",
    "\n",
    "The publisher will pay you \\$20,000 up front and \\$1 per copy sold.  If you publish yourself it will cost \\$90,000 and you will earn \\$2 per copy sold.\n",
    "\n",
    "A market survey suggests there is a 70\\% chance the book will be successful.  If it is successful it will sell 200,000 copies, otherwise it will sell 10,000 copies.\n",
    "\n",
    "You want to maximize your profit.  "
   ]
  },
  {
   "cell_type": "markdown",
   "metadata": {
    "collapsed": false
   },
   "source": [
    "## Self Assessment Question 1\n",
    "\n",
    "Make the payoff table and a corresponding decision tree."
   ]
  },
  {
   "cell_type": "markdown",
   "metadata": {
    "collapsed": false
   },
   "source": [
    "## Self Assessment Question 2\n",
    "\n",
    "Apply the pessimistic decision strategy to to decide if you should publish yourself or use the publisher."
   ]
  },
  {
   "cell_type": "markdown",
   "metadata": {
    "collapsed": false
   },
   "source": [
    "## Self Assessment Question 3\n",
    "\n",
    "Apply the optimistic decision strategy to to decide if you should publish yourself or use the publisher."
   ]
  },
  {
   "cell_type": "markdown",
   "metadata": {
    "collapsed": false
   },
   "source": [
    "## Self Assessment Question 4\n",
    "\n",
    "Apply the maximum likelihood strategy to to decide if you should publish yourself or use the publisher."
   ]
  },
  {
   "cell_type": "markdown",
   "metadata": {
    "collapsed": false
   },
   "source": [
    "## Self Assessment Question 5\n",
    "\n",
    "Apply Bayes' decision rule to to decide if you should publish yourself or use the publisher."
   ]
  },
  {
   "cell_type": "markdown",
   "metadata": {
    "collapsed": false
   },
   "source": [
    "## Self Assessment Question 6\n",
    "\n",
    "Let the probability that the book will be successful be $p.$. Find the expected values of profit for choosing the publisher and the publishing yourself.  For low values of $p$ what is the best strategy?  For high values of $p$ what is the best strategy?  Use Desmos to plot the expected values for $ 0 \\leq p \\leq 1$.  For what range of $p$ is the best strategy to use the publisher?"
   ]
  },
  {
   "cell_type": "markdown",
   "metadata": {
    "collapsed": false
   },
   "source": [
    "## Self Assessment Question 7\n",
    "\n",
    "For a cost of \\$10,000 you can contract a literary agent to conduct a better survey for determining the potential success of the novel.  Draw the full decision tree that includes both the decision to contract the literary agent and the decision whether to use the publisher and all of the potential outcomes.  You don't need to include probabilities in the tree at this stage.  "
   ]
  },
  {
   "cell_type": "markdown",
   "metadata": {
    "collapsed": false
   },
   "source": [
    "## Self Assessment Question 8\n",
    "\n",
    "Find the Expected Value of Perfect Information, EVPI, for hiring a literary agent to conduct a better survey."
   ]
  },
  {
   "cell_type": "markdown",
   "metadata": {
    "collapsed": false
   },
   "source": [
    "## Self Assessment Question 9\n",
    "\n",
    "This problem is separate from the publishing problem.\n",
    "\n",
    "Suppose you have a cloth bag with 60 marbles.  40 of the marbles are blue and the rest are red.  25 of the 60 marbles are large and the rest are small.  15 of the large marbles are blue and the rest are red.  Let $B$ be the event that a randomly selected marble from the bag is blue and let $L$ be the event that a randomly selected marble is large.  Explain what $P(B|L)$ and $P(L|B)$ represent in words and compute both of them to show that conditional probabilities can differ when the roles of the events are reversed (that is, show that $P(B|L) \\neq P(L|B)$).\n",
    "\n",
    "The other self assessment questions that follow all refer to the publishing question.  If you find this example too hard, perhaps try watching the next two videos and returning to this problem after you have watched the video about the contingency table approach for posterior probabilities."
   ]
  },
  {
   "cell_type": "markdown",
   "metadata": {
    "collapsed": false
   },
   "source": [
    "## Self Assessment Question 10\n",
    "\n",
    "In the publishing problem let the states of nature be\n",
    "\n",
    "* $S_1$ = book is successful\n",
    "* $S_2$ = book is not successful\n",
    "\n",
    "and the findings are \n",
    "\n",
    "* $F_1$ = literary agent predicts the book will be successful\n",
    "* $F_2$ = literary agent predicts the book will not be successful.\n",
    "\n",
    "From past experience, when a book is successful the literary agent makes the wrong prediction 20\\% of the time and when the book is not sucessful the literary agent gives the correct prediction 85\\% of the time.\n",
    "\n",
    "Use a contingency table approach to find the posterior probabilities of the findings and of the states of nature given the findings."
   ]
  },
  {
   "cell_type": "markdown",
   "metadata": {
    "collapsed": false
   },
   "source": [
    "## Self Assessment Question 11\n",
    "\n",
    "Use Baye's Theorem (the formulas) to find the posterior probabilities for this problem."
   ]
  },
  {
   "cell_type": "markdown",
   "metadata": {
    "collapsed": false
   },
   "source": [
    "## Self Assessment Question 12\n",
    "\n",
    "Set up the probability tree in <a href=\"http://silverdecisions.pl/\">Silver Decisions</a> and use \"flip subtree\" to get the posterior probabilities.  (Or flip the tree by hand if you'd rather.)"
   ]
  },
  {
   "cell_type": "markdown",
   "metadata": {
    "collapsed": false
   },
   "source": [
    "## Self Assessment Question 13\n",
    "\n",
    "Set up the complete decision tree in <a href=\"http://silverdecisions.pl/\">Silver Decisions</a>.  What is the optimal strategy for maximizing profit?  What is EVE for this problem?  "
   ]
  },
  {
   "cell_type": "markdown",
   "metadata": {
    "collapsed": false
   },
   "source": [
    "## Self Assessment Question 14\n",
    "\n",
    "Let $p$ be the prior probability that the book is successful.  Derive the posterior probabilities in terms of $p$ (get formulas that involve $p$).  Note that if you plug $p = 0.7$ into the formulas your results should agree with the posterior probabilities you saw in Questions 10-12.  Now setup the sensitivity analysis in <a href=\"http://silverdecisions.pl/\">Silver Decisions</a> using $p=0, 0.1, 0.2, \\ldots, 0.9, 1.0$. Describe how the optimal strategy changes as $p$ increases from 0 to 1."
   ]
  }
 ],
 "metadata": {
  "kernelspec": {
   "display_name": "Python 3 (system-wide)",
   "language": "python",
   "metadata": {
    "cocalc": {
     "description": "Python 3 programming language",
     "priority": 100,
     "url": "https://www.python.org/"
    }
   },
   "name": "python3",
   "resource_dir": "/ext/jupyter/kernels/python3"
  },
  "language_info": {
   "codemirror_mode": {
    "name": "ipython",
    "version": 3
   },
   "file_extension": ".py",
   "mimetype": "text/x-python",
   "name": "python",
   "nbconvert_exporter": "python",
   "pygments_lexer": "ipython3",
   "version": "3.8.10"
  }
 },
 "nbformat": 4,
 "nbformat_minor": 4
}