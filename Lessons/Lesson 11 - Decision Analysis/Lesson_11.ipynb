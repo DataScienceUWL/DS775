{
 "cells": [
  {
   "cell_type": "code",
   "execution_count": 3,
   "metadata": {
    "collapsed": false
   },
   "outputs": [
   ],
   "source": [
    "# Execute First\n",
    "\n",
    "# display imports\n",
    "from IPython.display import display, IFrame\n",
    "from IPython.core.display import HTML\n",
    "\n",
    "# for playing videos, customize height and width if desired\n",
    "# keep a 16:9 ratio, e.g. 960 by 540, or 1280 by 720\n",
    "def play_video(vid_name, w=640, h=360):\n",
    "    vid_path = \"https://media.uwex.edu/content/ds/ds775_r19/\"\n",
    "    return IFrame(vid_path + vid_name + \"/index.html\", width=w, height=h)"
   ]
  },
  {
   "cell_type": "markdown",
   "metadata": {
    "collapsed": false
   },
   "source": [
    "## Navigating this Notebook\n",
    "\n",
    "We present a series of short videos below.  Because there are many videos we elected to put the Self Assessment Questions and Solutions in two separate notebooks in the same folder as this lesson notebook.  We refer to the self assessment questions by number in this notebook.  We suggest you work through this notebook and the Self Assessment Questions in parallel pausing after each video to attempt the corresponding self assessment question.  The Silver Decision json files for GoFerBroke and for the example in the self-assessments are in the Silver Decisions Files subdirectory.\n",
    "\n",
    "# Decision Analysis\n",
    "\n",
    "Decision analysis is a framework for rational decision making when the outcomes are uncertain.  We'll introduce all of the ideas in the context of a prototype example explained below.  This is the same example used in the textbook, but we'll add some different perspectives.  Read through the example to get an idea of the problem before we start discussing it.\n",
    "\n",
    "### Prototype Problem - GOFERBROKE\n",
    "\n",
    "The GOFERBROKE COMPANY owns a tract of land that may contain oil. A consulting geologist has reported to management that she believes there is one chance in four of oil. Because of this prospect, another oil company has offered to purchase the land for \\$90,000. However, Goferbroke is considering holding the land in order to drill for oil itself. The cost of drilling is \\$100,000. If oil is found, the resulting expected revenue will be $800,000, so the company’s expected profit (after deducting the cost of drilling) will be \\$700,000. A loss of \\$100,000 (the drilling cost) will be incurred if the land is dry (no oil).\n",
    "\n",
    "### With or without experimentation?\n",
    "\n",
    "Often some **testing** is done to reduce the level of uncertainty about the outcome.  For example, a new product might be introduced in a test market to gain insight into whether it is likely to be successful.  The testing is referred to as **experimentation** and we will talk about decisions **with experimentation** and **without experimentation**.\n",
    "\n",
    "# Decision Analysis without Experimentation"
   ]
  },
  {
   "cell_type": "markdown",
   "metadata": {
    "collapsed": false
   },
   "source": [
    "Before we try to choose an optimal decision it helps to summarize the problem information in a payoff table or a decision tree to prepare for analysis.  We show how to do this in the video below."
   ]
  },
  {
   "cell_type": "code",
   "execution_count": 4,
   "metadata": {
    "collapsed": false
   },
   "outputs": [
    {
     "data": {
      "text/html": [
       "\n",
       "        <iframe\n",
       "            width=\"640\"\n",
       "            height=\"360\"\n",
       "            src=\"https://media.uwex.edu/content/ds/ds775_r19/ds775_lesson11_prototype-problem-goferbroke/index.html\"\n",
       "            frameborder=\"0\"\n",
       "            allowfullscreen\n",
       "        ></iframe>\n",
       "        "
      ],
      "text/plain": [
       "<IPython.lib.display.IFrame at 0x7f1935a57a30>"
      ]
     },
     "execution_count": 4,
     "metadata": {
     },
     "output_type": "execute_result"
    }
   ],
   "source": [
    "# execute for video\n",
    "play_video(\"ds775_lesson11_prototype-problem-goferbroke\")"
   ]
  },
  {
   "cell_type": "markdown",
   "metadata": {
    "collapsed": false
   },
   "source": [
    "**<font color=\"magenta\">Try Self Assessment Question 1</font>**"
   ]
  },
  {
   "cell_type": "markdown",
   "metadata": {
    "collapsed": false
   },
   "source": [
    "# Decision Strategies\n",
    "\n",
    "In this section we present four different strategies for decision making in this context.\n",
    "\n",
    "## Pessimistic Decision Strategy (Maximin)\n",
    "\n",
    "**At each chance node assume that the worst case outcome occurs and then choose the alternative that optimizes among these worst case outcomes.  Think \"best of the worst.\"**\n",
    "\n",
    "For maximizing a payoff this is called a maximin strategy.  At each chance node choose the outcome with the smallest payoff then maximize these minimum payoffs."
   ]
  },
  {
   "cell_type": "code",
   "execution_count": 5,
   "metadata": {
    "collapsed": false
   },
   "outputs": [
    {
     "data": {
      "text/html": [
       "\n",
       "        <iframe\n",
       "            width=\"640\"\n",
       "            height=\"360\"\n",
       "            src=\"https://media.uwex.edu/content/ds/ds775_r19/ds775_lesson11_pessimistic-strategy/index.html\"\n",
       "            frameborder=\"0\"\n",
       "            allowfullscreen\n",
       "        ></iframe>\n",
       "        "
      ],
      "text/plain": [
       "<IPython.lib.display.IFrame at 0x7f1935a57700>"
      ]
     },
     "execution_count": 5,
     "metadata": {
     },
     "output_type": "execute_result"
    }
   ],
   "source": [
    "# execute for video\n",
    "play_video(\"ds775_lesson11_pessimistic-strategy\")"
   ]
  },
  {
   "cell_type": "markdown",
   "metadata": {
    "collapsed": false
   },
   "source": [
    "**<font color=\"magenta\">Try Self Assessment Question 2</font>**"
   ]
  },
  {
   "cell_type": "markdown",
   "metadata": {
    "collapsed": false
   },
   "source": [
    "## Optimistic Decision Strategy (Maximax)\n",
    "\n",
    "This one isn't discussed in the textbook.\n",
    "\n",
    "**At each chance node assume that the best case outcome occurs and then choose the alternative that optimizes among these best case outcomes. Think \"best of the best.\"**\n",
    "\n",
    "For maximizing a payoff this is called a maximax strategy.  At each chance node choose the outcome with the largest payoff then maximize these maximum payoffs."
   ]
  },
  {
   "cell_type": "code",
   "execution_count": 6,
   "metadata": {
    "collapsed": false,
    "scrolled": true
   },
   "outputs": [
    {
     "data": {
      "text/html": [
       "\n",
       "        <iframe\n",
       "            width=\"640\"\n",
       "            height=\"360\"\n",
       "            src=\"https://media.uwex.edu/content/ds/ds775_r19/ds775_lesson11_optimistic-strategy/index.html\"\n",
       "            frameborder=\"0\"\n",
       "            allowfullscreen\n",
       "        ></iframe>\n",
       "        "
      ],
      "text/plain": [
       "<IPython.lib.display.IFrame at 0x7fea0958d0a0>"
      ]
     },
     "execution_count": 6,
     "metadata": {
     },
     "output_type": "execute_result"
    }
   ],
   "source": [
    "# execute for video\n",
    "play_video(\"ds775_lesson11_optimistic-strategy\")"
   ]
  },
  {
   "cell_type": "markdown",
   "metadata": {
    "collapsed": false
   },
   "source": [
    "**<font color=\"magenta\">Try Self Assessment Question 3</font>**"
   ]
  },
  {
   "cell_type": "markdown",
   "metadata": {
    "collapsed": false
   },
   "source": [
    "## Maximum Likelihood Strategy\n",
    "\n",
    "**At each chance node assume the most probable outcome occurs then choose the alternative that optimizes among these most probable outcomes. Think \"best of the most likely.\"**"
   ]
  },
  {
   "cell_type": "code",
   "execution_count": 6,
   "metadata": {
    "collapsed": false
   },
   "outputs": [
    {
     "data": {
      "text/html": [
       "\n",
       "        <iframe\n",
       "            width=\"640\"\n",
       "            height=\"360\"\n",
       "            src=\"https://media.uwex.edu/content/ds/ds775_r19/ds775_lesson11_maximum-likelihood/index.html\"\n",
       "            frameborder=\"0\"\n",
       "            allowfullscreen\n",
       "        ></iframe>\n",
       "        "
      ],
      "text/plain": [
       "<IPython.lib.display.IFrame at 0x7f1935a57370>"
      ]
     },
     "execution_count": 6,
     "metadata": {
     },
     "output_type": "execute_result"
    }
   ],
   "source": [
    "# execute for video\n",
    "play_video(\"ds775_lesson11_maximum-likelihood\")"
   ]
  },
  {
   "cell_type": "markdown",
   "metadata": {
    "collapsed": false
   },
   "source": [
    "**<font color=\"magenta\">Try Self Assessment Question 4</font>**"
   ]
  },
  {
   "cell_type": "markdown",
   "metadata": {
    "collapsed": false
   },
   "source": [
    "## Bayes' Decision Rule\n",
    "\n",
    "**At each chance node compute the expected (average) payoff then choose the alternative that optimizes among these expected payoffs.  Think \"best of the averages.\"**\n",
    "\n",
    "If you're unfamiliar with the idea of the expected value of a discrete random variable you can watch the video below otherwise skip the video and watch the next one which shows the strategy applied to the Goferbroke problem.  Bayes decision rule is the most commonly used strategy and we'll focus on it for the remainder of this unit."
   ]
  },
  {
   "cell_type": "code",
   "execution_count": 9,
   "metadata": {
    "collapsed": false
   },
   "outputs": [
    {
     "data": {
      "text/html": [
       "\n",
       "        <iframe\n",
       "            width=\"640\"\n",
       "            height=\"360\"\n",
       "            src=\"https://media.uwex.edu/content/ds/ds775_r19/ds775_lesson11_random-variable/index.html\"\n",
       "            frameborder=\"0\"\n",
       "            allowfullscreen\n",
       "        ></iframe>\n",
       "        "
      ],
      "text/plain": [
       "<IPython.lib.display.IFrame at 0x7fea0958d130>"
      ]
     },
     "execution_count": 9,
     "metadata": {
     },
     "output_type": "execute_result"
    }
   ],
   "source": [
    "# execute for video\n",
    "play_video(\"ds775_lesson11_random-variable\")"
   ]
  },
  {
   "cell_type": "code",
   "execution_count": 8,
   "metadata": {
    "collapsed": false,
    "scrolled": true
   },
   "outputs": [
    {
     "data": {
      "text/html": [
       "\n",
       "        <iframe\n",
       "            width=\"640\"\n",
       "            height=\"360\"\n",
       "            src=\"https://media.uwex.edu/content/ds/ds775_r19/ds775_lesson11_bayes-decision-rule/index.html\"\n",
       "            frameborder=\"0\"\n",
       "            allowfullscreen\n",
       "        ></iframe>\n",
       "        "
      ],
      "text/plain": [
       "<IPython.lib.display.IFrame at 0x7fea0958dbe0>"
      ]
     },
     "execution_count": 8,
     "metadata": {
     },
     "output_type": "execute_result"
    }
   ],
   "source": [
    "# execute for video\n",
    "play_video(\"ds775_lesson11_bayes-decision-rule\")"
   ]
  },
  {
   "cell_type": "markdown",
   "metadata": {
    "collapsed": false
   },
   "source": [
    "**<font color=\"magenta\">Try Self Assessment Question 5</font>**"
   ]
  },
  {
   "cell_type": "markdown",
   "metadata": {
    "collapsed": false
   },
   "source": [
    "## What if you're minimizing instead?\n",
    "\n",
    "Suppose you're trying to minimize cost instead of maximizing payoff.  You've got two possible options:\n",
    "\n",
    "* Option 1:  Negate all of the costs and maximize the negative cost.  This will yield the decision strategy that minimizes cost.\n",
    "* Option 2:  Adjust the decision strategy to minimize.  \n",
    "\n",
    "For example, if you want to use the Pessimistic Decision Strategy to minimize cost then at each chance node choose the outcome with the largest cost then minmize these maximum costs.  This would be a Minimax strategy.\n",
    "\n",
    "### Minimization Example\n",
    "\n",
    "A nuclear power company is deciding whether to build a nuclear plant at site A or site B.  The cost of building the plant at site A is \\$10 million but there is a 20\\% chance of an earthquake at site A.  If an earthquake occurs, then construction will be halted and the plant will be built (for additional cost) at site B.  The cost of building the plant at site B is \\$20 million."
   ]
  },
  {
   "cell_type": "code",
   "execution_count": 10,
   "metadata": {
    "collapsed": false
   },
   "outputs": [
    {
     "data": {
      "text/html": [
       "\n",
       "        <iframe\n",
       "            width=\"640\"\n",
       "            height=\"360\"\n",
       "            src=\"https://media.uwex.edu/content/ds/ds775_r19/ds775_lesson11_minimize-cost-example/index.html\"\n",
       "            frameborder=\"0\"\n",
       "            allowfullscreen\n",
       "        ></iframe>\n",
       "        "
      ],
      "text/plain": [
       "<IPython.lib.display.IFrame at 0x7fea0950a040>"
      ]
     },
     "execution_count": 10,
     "metadata": {
     },
     "output_type": "execute_result"
    }
   ],
   "source": [
    "# execute for video\n",
    "play_video(\"ds775_lesson11_minimize-cost-example\")"
   ]
  },
  {
   "cell_type": "markdown",
   "metadata": {
    "collapsed": false
   },
   "source": [
    "# Sensitivity Analysis\n",
    "\n",
    "How does the optimal strategy change if a payoff amount changes or if the prior probabilities of the states of nature change?  Is the optimal strategy robust or is it sensitive to a small change in one of the parameters?\n",
    "\n",
    "In the Goferbroke problem if the probability of oil is larger then we should be more likely to drill and the probability of oil is smaller we should be more likely to sell the land, but at what point should we change strategies.\n",
    "\n",
    "In the example shown in the next video we'll vary the prior probability of oil, $p$, to see how the optimal strategy depends on this parameter.  The Desmos graph we use in the video can be found here: <a href=\"https://www.desmos.com/calculator/djej05rakk\" target=\"_blank\">Desmos Goferbroke Sensitivity.</a>"
   ]
  },
  {
   "cell_type": "code",
   "execution_count": 11,
   "metadata": {
    "collapsed": false,
    "scrolled": true
   },
   "outputs": [
    {
     "data": {
      "text/html": [
       "\n",
       "        <iframe\n",
       "            width=\"640\"\n",
       "            height=\"360\"\n",
       "            src=\"https://media.uwex.edu/content/ds/ds775_r19/ds775_lesson11_sensitivity-analysis/index.html\"\n",
       "            frameborder=\"0\"\n",
       "            allowfullscreen\n",
       "        ></iframe>\n",
       "        "
      ],
      "text/plain": [
       "<IPython.lib.display.IFrame at 0x7fea0950a2b0>"
      ]
     },
     "execution_count": 11,
     "metadata": {
     },
     "output_type": "execute_result"
    }
   ],
   "source": [
    "# execute for video\n",
    "play_video(\"ds775_lesson11_sensitivity-analysis\")"
   ]
  },
  {
   "cell_type": "markdown",
   "metadata": {
    "collapsed": false
   },
   "source": [
    "**<font color=\"magenta\">Try Self Assessment Question 6</font>**"
   ]
  },
  {
   "cell_type": "markdown",
   "metadata": {
    "collapsed": false
   },
   "source": [
    "# Decision Analysis with Experimentation\n",
    "\n",
    "If possible, we'd like to do some testing to reduce the level of uncertainty about the outcomes.  Conducting a test is called experimentation in this context (this language comes from statistics).  For example we might pay a geological consultant to collect additional information and predict whether or not there is oil.  Ultimately we want to use these new probabilities to analyze a larger decision tree like the one below:\n",
    "\n",
    "<img src=\"./images/goferbroke_full_raw.png\" width=\"600\">"
   ]
  },
  {
   "cell_type": "code",
   "execution_count": 23,
   "metadata": {
    "collapsed": false
   },
   "outputs": [
    {
     "data": {
      "text/html": [
       "\n",
       "        <iframe\n",
       "            width=\"640\"\n",
       "            height=\"360\"\n",
       "            src=\"https://media.uwex.edu/content/ds/ds775_r19/ds775_lesson11_decision-analysis-w-experiment/index.html\"\n",
       "            frameborder=\"0\"\n",
       "            allowfullscreen\n",
       "        ></iframe>\n",
       "        "
      ],
      "text/plain": [
       "<IPython.lib.display.IFrame at 0x7fea0951b100>"
      ]
     },
     "execution_count": 23,
     "metadata": {
     },
     "output_type": "execute_result"
    }
   ],
   "source": [
    "# execute for video\n",
    "play_video(\"ds775_lesson11_decision-analysis-w-experiment\")"
   ]
  },
  {
   "cell_type": "markdown",
   "metadata": {
    "collapsed": false
   },
   "source": [
    "**<font color=\"magenta\">Try Self Assessment Question 7</font>**"
   ]
  },
  {
   "cell_type": "markdown",
   "metadata": {
    "collapsed": false
   },
   "source": [
    "# Decision Analysis with Experimentation\n",
    "\n",
    "If possible, we'd like to do some testing to reduce the level of uncertainty about the outcomes.  Conducting a test is called experimentation in this context (this language comes from statistics).  For example we might pay a geological consultant to collect additional information and predict whether or not there is oil.  To get an idea if it is worth doing the testing/experimentation we can compute the **Expected Value of Perfect Information**.\n",
    "\n",
    "## Expected Value of Perfect Information (EVPI)\n",
    "\n",
    "EVPI answers the question:  \"How much larger is the expected (average) payoff if we have a perfect diagnostic test?\"  \n",
    "\n",
    "EVPI = expected payoff with perfect information - expected payoff without experimentation\n",
    "\n",
    "The video below shows how to find EVPI for the Goferbroke problem:"
   ]
  },
  {
   "cell_type": "code",
   "execution_count": 19,
   "metadata": {
    "collapsed": false
   },
   "outputs": [
    {
     "data": {
      "text/html": [
       "\n",
       "        <iframe\n",
       "            width=\"640\"\n",
       "            height=\"360\"\n",
       "            src=\"https://media.uwex.edu/content/ds/ds775_r19/ds775_lesson11_expected-value-perfect-info/index.html\"\n",
       "            frameborder=\"0\"\n",
       "            allowfullscreen\n",
       "        ></iframe>\n",
       "        "
      ],
      "text/plain": [
       "<IPython.lib.display.IFrame at 0x7fea0951b0a0>"
      ]
     },
     "execution_count": 19,
     "metadata": {
     },
     "output_type": "execute_result"
    }
   ],
   "source": [
    "# execute for video\n",
    "play_video(\"ds775_lesson11_expected-value-perfect-info\")"
   ]
  },
  {
   "cell_type": "markdown",
   "metadata": {
    "collapsed": false
   },
   "source": [
    "Given the results of the experiment we can adjust the probabilities of the outcomes to reflect the experimental findings.  For example, if the geological consultant predicts that there is oil at the current site then we may adjust the probability of finding oil upward.  These post-experiment probabilities are called **posterior probabilities**.  The original probabilities we have from before the experiment are called **prior probabilities**.  Bayes' Theorem can be used to go between prior and posterior probabilities, but before we introduce that let's review a bit about conditional probability first."
   ]
  },
  {
   "cell_type": "markdown",
   "metadata": {
    "collapsed": false
   },
   "source": [
    "**<font color=\"magenta\">Try Self Assessment Question 8</font>**"
   ]
  },
  {
   "cell_type": "markdown",
   "metadata": {
    "collapsed": false
   },
   "source": [
    "\n",
    "## Conditional Probability\n",
    "\n",
    "**Conditional probability** is a measure of the probability of an event occurring, given that another event has already occurred.  We give a simple example using dice in the example below but if you want additional background we suggest you study Chapter 3 in the free textbook <a href=\"https://openintro.org/\">OpenIntro Statistics</a>.\n",
    "\n",
    "###  Dice Example\n",
    "\n",
    "In the next video we'll compute the conditional probabilities intuitively and with formulas."
   ]
  },
  {
   "cell_type": "code",
   "execution_count": 7,
   "metadata": {
    "collapsed": false
   },
   "outputs": [
    {
     "data": {
      "text/html": [
       "\n",
       "        <iframe\n",
       "            width=\"640\"\n",
       "            height=\"360\"\n",
       "            src=\"https://media.uwex.edu/content/ds/ds775_r19/ds775_lesson11_probability-basics/index.html\"\n",
       "            frameborder=\"0\"\n",
       "            allowfullscreen\n",
       "        ></iframe>\n",
       "        "
      ],
      "text/plain": [
       "<IPython.lib.display.IFrame at 0x7f1935a577f0>"
      ]
     },
     "execution_count": 7,
     "metadata": {
     },
     "output_type": "execute_result"
    }
   ],
   "source": [
    "# execute for video\n",
    "play_video(\"ds775_lesson11_probability-basics\")"
   ]
  },
  {
   "cell_type": "markdown",
   "metadata": {
    "collapsed": false
   },
   "source": [
    "Our review will consist of working through just a couple of examples but if you want additional background we suggest you study Chapter 3 in the free textbook <a href=\"https://openintro.org/\">OpenIntro Statistics</a>."
   ]
  },
  {
   "cell_type": "markdown",
   "metadata": {
    "collapsed": false
   },
   "source": [
    "**<font color=\"magenta\">Try Self Assessment Question 9</font>**"
   ]
  },
  {
   "cell_type": "markdown",
   "metadata": {
    "collapsed": false
   },
   "source": [
    "### Understanding Posterior Probabilities\n",
    "\n",
    "In the context of decision analysis the conditional probabilities of interest are called posterior probabilities.  We discuss these a bit in the next video"
   ]
  },
  {
   "cell_type": "code",
   "execution_count": 14,
   "metadata": {
    "collapsed": false
   },
   "outputs": [
    {
     "data": {
      "text/html": [
       "\n",
       "        <iframe\n",
       "            width=\"640\"\n",
       "            height=\"360\"\n",
       "            src=\"https://media.uwex.edu/content/ds/ds775_r19/ds775_lesson11_posterior-probabilities/index.html\"\n",
       "            frameborder=\"0\"\n",
       "            allowfullscreen\n",
       "        ></iframe>\n",
       "        "
      ],
      "text/plain": [
       "<IPython.lib.display.IFrame at 0x7fea0950a130>"
      ]
     },
     "execution_count": 14,
     "metadata": {
     },
     "output_type": "execute_result"
    }
   ],
   "source": [
    "# execute for video\n",
    "play_video(\"ds775_lesson11_posterior-probabilities\")"
   ]
  },
  {
   "cell_type": "markdown",
   "metadata": {
    "collapsed": false
   },
   "source": [
    "### Goferbroke Example with Contingency Table\n",
    "\n",
    "Contingency tables, also known as classification matrices, are a great way to work with and understand conditional probabilities and Bayes' Theorem.  In the video below we derive the posterior probabilities for the Goferbroke problem using a contingency table."
   ]
  },
  {
   "cell_type": "code",
   "execution_count": 15,
   "metadata": {
    "collapsed": false
   },
   "outputs": [
    {
     "data": {
      "text/html": [
       "\n",
       "        <iframe\n",
       "            width=\"640\"\n",
       "            height=\"360\"\n",
       "            src=\"https://media.uwex.edu/content/ds/ds775_r19/ds775_lesson11_posterior-probabilities-from-table/index.html\"\n",
       "            frameborder=\"0\"\n",
       "            allowfullscreen\n",
       "        ></iframe>\n",
       "        "
      ],
      "text/plain": [
       "<IPython.lib.display.IFrame at 0x7fea0950a520>"
      ]
     },
     "execution_count": 15,
     "metadata": {
     },
     "output_type": "execute_result"
    }
   ],
   "source": [
    "# execute for video\n",
    "play_video(\"ds775_lesson11_posterior-probabilities-from-table\")"
   ]
  },
  {
   "cell_type": "markdown",
   "metadata": {
    "collapsed": false
   },
   "source": [
    "**<font color=\"magenta\">Try Self Assessment Question 10</font>**"
   ]
  },
  {
   "cell_type": "markdown",
   "metadata": {
    "collapsed": false
   },
   "source": [
    "The contingency table approach implicitly uses Bayes' Theorem to compute the posterior probabilities.  The posterior probabilities are the conditional probabilities of states of nature given the experimental findings.  The formula version of Bayes' Theorem shows how to compute the posterior probability of the state of nature $S_j$ given the experimental finding $F_i$.  The entries on the right side of the formula are all prior probabilities.\n",
    "\n",
    "$$ P(S_j | F_i) = \\frac{P(S_j \\cap F_i)}{P(F_i)} = \\frac{P(S_j \\cap F_i)}{P(F_i \\cap S_1) + P(F_i \\cap S_2) + \\ldots} = \\frac{P(F_i | S_j) P(S_j)}{P(F_i | S_1) P(S_1) + P(F_i | S_2) P(S_2) + \\ldots}$$\n",
    "\n",
    "In the next video we'll use the contingency table approach to motivate Bayes' Theorem."
   ]
  },
  {
   "cell_type": "code",
   "execution_count": 17,
   "metadata": {
    "collapsed": false
   },
   "outputs": [
    {
     "data": {
      "text/html": [
       "\n",
       "        <iframe\n",
       "            width=\"640\"\n",
       "            height=\"360\"\n",
       "            src=\"https://media.uwex.edu/content/ds/ds775_r19/ds775_lesson11_from-contingency-table-to-bayes/index.html\"\n",
       "            frameborder=\"0\"\n",
       "            allowfullscreen\n",
       "        ></iframe>\n",
       "        "
      ],
      "text/plain": [
       "<IPython.lib.display.IFrame at 0x7fea0950a2e0>"
      ]
     },
     "execution_count": 17,
     "metadata": {
     },
     "output_type": "execute_result"
    }
   ],
   "source": [
    "# execute for video\n",
    "play_video(\"ds775_lesson11_from-contingency-table-to-bayes\")"
   ]
  },
  {
   "cell_type": "markdown",
   "metadata": {
    "collapsed": false
   },
   "source": [
    "**<font color=\"magenta\">Try Self Assessment Question 11</font>**"
   ]
  },
  {
   "cell_type": "markdown",
   "metadata": {
    "collapsed": false
   },
   "source": [
    "### Goferbroke Example with Probability Trees\n",
    "\n",
    "An alternative way to understand and derive posterior probabilities is to exploit the natural tree structure of conditional probabilities:"
   ]
  },
  {
   "cell_type": "code",
   "execution_count": 16,
   "metadata": {
    "collapsed": false
   },
   "outputs": [
    {
     "data": {
      "text/html": [
       "\n",
       "        <iframe\n",
       "            width=\"640\"\n",
       "            height=\"360\"\n",
       "            src=\"https://media.uwex.edu/content/ds/ds775_r19/ds775_lesson11_posterior-probabilities-flipping-trees/index.html\"\n",
       "            frameborder=\"0\"\n",
       "            allowfullscreen\n",
       "        ></iframe>\n",
       "        "
      ],
      "text/plain": [
       "<IPython.lib.display.IFrame at 0x7fea0950aca0>"
      ]
     },
     "execution_count": 16,
     "metadata": {
     },
     "output_type": "execute_result"
    }
   ],
   "source": [
    "# execute for video\n",
    "play_video(\"ds775_lesson11_posterior-probabilities-flipping-trees\")"
   ]
  },
  {
   "cell_type": "markdown",
   "metadata": {
    "collapsed": false
   },
   "source": [
    "### Flipping a probability tree in Silver Decisions\n",
    "\n",
    "Silver Decisions can also be used to compute the posterior probabilities by flipping a probability tree.  This is shown in the video below:"
   ]
  },
  {
   "cell_type": "code",
   "execution_count": 18,
   "metadata": {
    "collapsed": false
   },
   "outputs": [
    {
     "data": {
      "text/html": [
       "\n",
       "        <iframe\n",
       "            width=\"640\"\n",
       "            height=\"360\"\n",
       "            src=\"https://media.uwex.edu/content/ds/ds775_r19/ds775_lesson11_flipping-probability-trees-silver/index.html\"\n",
       "            frameborder=\"0\"\n",
       "            allowfullscreen\n",
       "        ></iframe>\n",
       "        "
      ],
      "text/plain": [
       "<IPython.lib.display.IFrame at 0x7fea0950afa0>"
      ]
     },
     "execution_count": 18,
     "metadata": {
     },
     "output_type": "execute_result"
    }
   ],
   "source": [
    "# execute for video\n",
    "play_video(\"ds775_lesson11_flipping-probability-trees-silver\")"
   ]
  },
  {
   "cell_type": "markdown",
   "metadata": {
    "collapsed": false
   },
   "source": [
    "**<font color=\"magenta\">Try Self Assessment Question 12</font>**"
   ]
  },
  {
   "cell_type": "markdown",
   "metadata": {
    "collapsed": false
   },
   "source": [
    "## Another Example for Practice \n",
    "\n",
    "The video below walks through a posterior probability example that comes from diagnostic testing."
   ]
  },
  {
   "cell_type": "code",
   "execution_count": 24,
   "metadata": {
    "collapsed": false
   },
   "outputs": [
    {
     "data": {
      "text/html": [
       "\n",
       "        <iframe\n",
       "            width=\"640\"\n",
       "            height=\"360\"\n",
       "            src=\"https://media.uwex.edu/content/ds/ds775_r19/ds775_lesson11_posterior-probabilities-final-example/index.html\"\n",
       "            frameborder=\"0\"\n",
       "            allowfullscreen\n",
       "        ></iframe>\n",
       "        "
      ],
      "text/plain": [
       "<IPython.lib.display.IFrame at 0x7fea0951ba90>"
      ]
     },
     "execution_count": 24,
     "metadata": {
     },
     "output_type": "execute_result"
    }
   ],
   "source": [
    "# execute for video\n",
    "play_video(\"ds775_lesson11_posterior-probabilities-final-example\")"
   ]
  },
  {
   "cell_type": "markdown",
   "metadata": {
    "collapsed": false
   },
   "source": [
    "## Putting it together in Silver Decisions\n",
    "\n",
    "Now we are going to switch gears and analyze both decisions together.  Should the Goferbroke company hire the consultant and should they drill for oil?  In the video below we'll show how to enter and analyze a complete decision tree in Silver Decisions for the Goferbroke problem.  We'll also demonstrate how to find the **Expected Value of the Experiment (EVE)**:\n",
    "\n",
    "EVE answers the question:  \"How much larger is the expected (average) payoff if we gather information by performing an experiment?\"  \n",
    "\n",
    "EVE = expected payoff with experimentation - expected payoff without experimentation"
   ]
  },
  {
   "cell_type": "code",
   "execution_count": 21,
   "metadata": {
    "collapsed": false
   },
   "outputs": [
    {
     "data": {
      "text/html": [
       "\n",
       "        <iframe\n",
       "            width=\"640\"\n",
       "            height=\"360\"\n",
       "            src=\"https://media.uwex.edu/content/ds/ds775_r19/ds775_lesson11_full-goforbroke-in-silver-decisions/index.html\"\n",
       "            frameborder=\"0\"\n",
       "            allowfullscreen\n",
       "        ></iframe>\n",
       "        "
      ],
      "text/plain": [
       "<IPython.lib.display.IFrame at 0x7fea0951b4f0>"
      ]
     },
     "execution_count": 21,
     "metadata": {
     },
     "output_type": "execute_result"
    }
   ],
   "source": [
    "# execute for video\n",
    "play_video(\"ds775_lesson11_full-goforbroke-in-silver-decisions\")"
   ]
  },
  {
   "cell_type": "markdown",
   "metadata": {
    "collapsed": false
   },
   "source": [
    "## Sensitivity Analysis Including Experimentation\n",
    "\n",
    "Thus far we haven't encountered any computations which aren't simple enough to do by hand.  However it's often important to gain understanding of how the optimal strategy changes as the numbers changed.  For example if one of the payoffs increases or if the probabilities of the states of nature change.  To provide an example we'll analyze how the optimal strategy depends on the prior probability of finding oil in the Goferbroke problem.  This kind of sensitivity analysis is complex enough that it makes it worthwhile to use decision analysis software such as Silver Decisions.\n",
    "\n",
    "Before we demonstrate Silver Decisions we'll show you how to derive posterior probabilities when you have an unspecified parameter such as the prior probability of finding oil, $p$."
   ]
  },
  {
   "cell_type": "code",
   "execution_count": 22,
   "metadata": {
    "collapsed": false
   },
   "outputs": [
    {
     "data": {
      "text/html": [
       "\n",
       "        <iframe\n",
       "            width=\"640\"\n",
       "            height=\"360\"\n",
       "            src=\"https://media.uwex.edu/content/ds/ds775_r19/ds775_lesson11_posterior-probabilities-sensitivity-analysis/index.html\"\n",
       "            frameborder=\"0\"\n",
       "            allowfullscreen\n",
       "        ></iframe>\n",
       "        "
      ],
      "text/plain": [
       "<IPython.lib.display.IFrame at 0x7fea0951b5e0>"
      ]
     },
     "execution_count": 22,
     "metadata": {
     },
     "output_type": "execute_result"
    }
   ],
   "source": [
    "# execute for video\n",
    "play_video(\"ds775_lesson11_posterior-probabilities-sensitivity-analysis\")"
   ]
  },
  {
   "cell_type": "markdown",
   "metadata": {
    "collapsed": false
   },
   "source": [
    "In the next video we show how to complete a sensitivity analysis using Silver Decisions."
   ]
  },
  {
   "cell_type": "code",
   "execution_count": 25,
   "metadata": {
    "collapsed": false
   },
   "outputs": [
    {
     "data": {
      "text/html": [
       "\n",
       "        <iframe\n",
       "            width=\"640\"\n",
       "            height=\"360\"\n",
       "            src=\"https://media.uwex.edu/content/ds/ds775_r19/ds775_lesson11_silver-decisions-sensitivity-analysis/index.html\"\n",
       "            frameborder=\"0\"\n",
       "            allowfullscreen\n",
       "        ></iframe>\n",
       "        "
      ],
      "text/plain": [
       "<IPython.lib.display.IFrame at 0x7fea0951bc70>"
      ]
     },
     "execution_count": 25,
     "metadata": {
     },
     "output_type": "execute_result"
    }
   ],
   "source": [
    "# execute for video\n",
    "play_video(\"ds775_lesson11_silver-decisions-sensitivity-analysis\")"
   ]
  },
  {
   "cell_type": "code",
   "execution_count": 0,
   "metadata": {
    "collapsed": false
   },
   "outputs": [
   ],
   "source": [
   ]
  }
 ],
 "metadata": {
  "kernelspec": {
   "display_name": "Python 3 (system-wide)",
   "language": "python",
   "metadata": {
    "cocalc": {
     "description": "Python 3 programming language",
     "priority": 100,
     "url": "https://www.python.org/"
    }
   },
   "name": "python3",
   "resource_dir": "/ext/jupyter/kernels/python3"
  },
  "language_info": {
   "codemirror_mode": {
    "name": "ipython",
    "version": 3
   },
   "file_extension": ".py",
   "mimetype": "text/x-python",
   "name": "python",
   "nbconvert_exporter": "python",
   "pygments_lexer": "ipython3",
   "version": "3.8.10"
  }
 },
 "nbformat": 4,
 "nbformat_minor": 4
}