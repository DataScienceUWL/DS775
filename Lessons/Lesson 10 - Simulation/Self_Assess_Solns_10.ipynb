{
 "cells": [
  {
   "cell_type": "markdown",
   "metadata": {
    "collapsed": false
   },
   "source": [
    "# Lesson 10 - Self-Assessment Solutions"
   ]
  },
  {
   "cell_type": "markdown",
   "metadata": {
    "collapsed": false,
    "heading_collapsed": true
   },
   "source": [
    "### *Self-Assessment: Simulation - Solution*"
   ]
  },
  {
   "cell_type": "markdown",
   "metadata": {
    "collapsed": false,
    "hidden": true
   },
   "source": [
    "Answer: True"
   ]
  },
  {
   "cell_type": "markdown",
   "metadata": {
    "collapsed": false,
    "heading_collapsed": true
   },
   "source": [
    "### *Self-Assessment: Simulating a System - Solution*"
   ]
  },
  {
   "cell_type": "markdown",
   "metadata": {
    "collapsed": false,
    "hidden": true
   },
   "source": [
    "Answer: True"
   ]
  },
  {
   "cell_type": "markdown",
   "metadata": {
    "collapsed": false,
    "heading_collapsed": true
   },
   "source": [
    "### *Self Assessment: Simulation and Time - Solution*"
   ]
  },
  {
   "cell_type": "markdown",
   "metadata": {
    "collapsed": false,
    "hidden": true
   },
   "source": [
    "Answer:  True"
   ]
  },
  {
   "cell_type": "markdown",
   "metadata": {
    "collapsed": false,
    "heading_collapsed": true
   },
   "source": [
    "### *Self-Assessment: Generalizing Simulation Results - Solution*"
   ]
  },
  {
   "cell_type": "markdown",
   "metadata": {
    "collapsed": false,
    "hidden": true
   },
   "source": [
    "Answer: False. Generalizing beyond he conditions of the simulation could lead to erroneous results."
   ]
  },
  {
   "cell_type": "markdown",
   "metadata": {
    "collapsed": false,
    "heading_collapsed": true
   },
   "source": [
    "### *Self-Assessment: Type of Simulation - Solution*"
   ]
  },
  {
   "cell_type": "markdown",
   "metadata": {
    "collapsed": false,
    "hidden": true
   },
   "source": [
    "Answer: \n",
    "\n",
    "a. The number of products sold over time. (yes)\n",
    "\n",
    "b. The air pressure in submarine during its time under the water. (no)\n",
    "\n",
    "c. The arrival of customers to a queue.  (yes)\n",
    "\n",
    "d. Whether is rains or not in a day over a 10-year period. (yes)\n",
    "\n",
    "e. The temperature of an engine over a period of operation. (no)\n"
   ]
  },
  {
   "cell_type": "markdown",
   "metadata": {
    "collapsed": false,
    "heading_collapsed": true
   },
   "source": [
    "### *Self-Assessment: Discrete-Event Simulation - Solution*"
   ]
  },
  {
   "cell_type": "markdown",
   "metadata": {
    "collapsed": false,
    "hidden": true
   },
   "source": [
    "(b) A baseball pitcher who throws a strike 60 percent of the time and a ball 40 percent of the time.\n",
    "\n",
    "Let 0 <= rand <= 0.6 correspond to strikes and 0.6 < rand <= 1 correspond to balls.\n",
    "\n",
    "Random observations: \n",
    "\n",
    "0.3039 = strike\n",
    "\n",
    "0.7914 = ball\n",
    "\n",
    "0.8543 = ball \n",
    "\n",
    "0.6902 = ball\n",
    "\n",
    "0.3004 = strike \n",
    "\n",
    "0.0383 = strike\n",
    "\n",
    "*Note that the results would be different if you make the arbitrary choice that 0 to 0.4 corresponds to balls and 0.4 to 1 correspond to strikes.*\n",
    "\n",
    "(c) The color of a traffic light found by a randomly arriving car when it is green 40 percent of the time, yellow 10 percent of the time, and red 50 percent of the time.\n",
    "\n",
    "One way is to let 0 <= rand <= 0.4 correspond to green lights, 0.4 < rand <= 0.5 correspond to yellow lights, and 0.5 < rand <=1 correspond to red lights.\n",
    "\n",
    "Random observations: \n",
    "\n",
    "0.3039 = green \n",
    "\n",
    "0.7914 = red \n",
    "\n",
    "0.8543 = red \n",
    "\n",
    "0.6902 = red\n",
    "\n",
    "0.3004 = green \n",
    "\n",
    "0.0383 = green"
   ]
  },
  {
   "cell_type": "markdown",
   "metadata": {
    "collapsed": false
   },
   "source": [
    "### *Self-Assessment: Discrete-Event Simulation 2 - Solution*"
   ]
  },
  {
   "cell_type": "markdown",
   "metadata": {
    "collapsed": false
   },
   "source": [
    "(a) Since the data for sales covers 25 days, the number of days for each number of sales can be used to estimate the probability of selling that number of stoves on any given day as \n",
    "\n",
    "$P(2)=\\frac{4}{25}$, $P(3)=\\frac{7}{25}$, $P(4)=\\frac{8}{25}$, $P(5)=\\frac{5}{25}$, $P(6)=\\frac{1}{25}$.\n",
    "\n",
    "(b) For a discrete random variable like this, the mean is computed analytically as\n",
    "\n",
    "$\\mu = 2 \\cdot \\frac{4}{25} + 3 \\cdot \\frac{7}{25} + 4 \\cdot \\frac{8}{25} + 5 \\cdot \\frac{5}{25} + 6 \\cdot \\frac{1}{25} = 3.68$.\n",
    "\n",
    "(e) See the following cell for the simulation.  How close is the simulated answer to the exact answer given in part (b)?"
   ]
  },
  {
   "cell_type": "code",
   "execution_count": 1,
   "metadata": {
    "collapsed": false
   },
   "outputs": [
    {
     "name": "stdout",
     "output_type": "stream",
     "text": [
      "The average of daily sales over 300 days is 3.72.\n"
     ]
    }
   ],
   "source": [
    "# Simulation for Textbook Problem 20.3 (e)\n",
    "\n",
    "import numpy as np\n",
    "\n",
    "np.random.seed(seed=222) # for reproducible results\n",
    "\n",
    "SimSize = 300\n",
    "dailySales = np.zeros(SimSize)\n",
    "\n",
    "for i in range(SimSize):\n",
    "    salesResult = np.random.uniform(low=0.0, high=1.0, size=1)\n",
    "    \n",
    "    if salesResult <= 0.16: \n",
    "        dailySales[i] = 2\n",
    "    elif  (salesResult > 0.16 and salesResult <= 0.44):\n",
    "        dailySales[i] = 3\n",
    "    elif  (salesResult > 0.44 and salesResult <=0.76):\n",
    "        dailySales[i] = 4    \n",
    "    elif  (salesResult > 0.76 and salesResult <=0.96):\n",
    "        dailySales[i] = 5  \n",
    "    else:\n",
    "        dailySales[i] = 6\n",
    "\n",
    "print(f\"The average of daily sales over 300 days is {np.mean(dailySales):.2f}.\")"
   ]
  },
  {
   "cell_type": "markdown",
   "metadata": {
    "collapsed": false
   },
   "source": [
    "Alternately you can use `numpy.random.choice` as follows:"
   ]
  },
  {
   "cell_type": "code",
   "execution_count": 2,
   "metadata": {
    "collapsed": false
   },
   "outputs": [
    {
     "name": "stdout",
     "output_type": "stream",
     "text": [
      "The average of daily sales over 300 days is 3.72.\n"
     ]
    }
   ],
   "source": [
    "import numpy as np\n",
    "\n",
    "np.random.seed(seed=222) # for reproducible results\n",
    "\n",
    "SimSize = 300\n",
    "\n",
    "dailySales = np.random.choice([2,3,4,5,6],size=SimSize,p=[.16,.28,.32,.20,.04])\n",
    "\n",
    "print(f\"The average of daily sales over 300 days is {np.mean(dailySales):.2f}.\")"
   ]
  },
  {
   "cell_type": "markdown",
   "metadata": {
    "collapsed": false,
    "heading_collapsed": true
   },
   "source": [
    "### *Self-Assessment: Simulation Results - Solution*"
   ]
  },
  {
   "cell_type": "markdown",
   "metadata": {
    "collapsed": false,
    "hidden": true
   },
   "source": [
    "Answer: False.  Simulations have inherent variability, so they provides only statistical estimates rather than exact results.\n"
   ]
  },
  {
   "cell_type": "markdown",
   "metadata": {
    "collapsed": false,
    "heading_collapsed": true
   },
   "source": [
    "### *Self-Assessment: Simulating Outcomes - Solution*"
   ]
  },
  {
   "cell_type": "markdown",
   "metadata": {
    "collapsed": false,
    "hidden": true
   },
   "source": [
    "Answer: random number generator."
   ]
  },
  {
   "cell_type": "markdown",
   "metadata": {
    "collapsed": false,
    "heading_collapsed": true
   },
   "source": [
    "### *Self-Assessment: Random Variables in Simulation - Solution </font>"
   ]
  },
  {
   "cell_type": "markdown",
   "metadata": {
    "collapsed": false,
    "hidden": true
   },
   "source": [
    "Answer: False.  An effort should be made to determine a distribution that most closely models the physical process."
   ]
  },
  {
   "cell_type": "markdown",
   "metadata": {
    "collapsed": false,
    "heading_collapsed": true
   },
   "source": [
    "### <font color = \"blue\"> Self-Assessment: Simulation Reproducibility - Solution </font>"
   ]
  },
  {
   "cell_type": "markdown",
   "metadata": {
    "collapsed": false,
    "hidden": true
   },
   "source": [
    "Answer: seed."
   ]
  },
  {
   "cell_type": "code",
   "execution_count": 0,
   "metadata": {
    "collapsed": false,
    "hidden": true
   },
   "outputs": [
   ],
   "source": [
   ]
  }
 ],
 "metadata": {
  "kernelspec": {
   "argv": [
    "/usr/bin/python3",
    "-m",
    "ipykernel",
    "--matplotlib=inline",
    "-c",
    "%config InlineBackend.figure_formats = set(['retina'])\nimport matplotlib; matplotlib.rcParams['figure.figsize'] = (12, 7)",
    "-f",
    "{connection_file}"
   ],
   "display_name": "Python 3 (system-wide)",
   "env": {
   },
   "language": "python",
   "metadata": {
    "cocalc": {
     "description": "Python 3 programming language",
     "priority": 100,
     "url": "https://www.python.org/"
    }
   },
   "name": "python3",
   "resource_dir": "/ext/jupyter/kernels/python3"
  },
  "language_info": {
   "codemirror_mode": {
    "name": "ipython",
    "version": 3
   },
   "file_extension": ".py",
   "mimetype": "text/x-python",
   "name": "python",
   "nbconvert_exporter": "python",
   "pygments_lexer": "ipython3",
   "version": "3.7.4"
  },
  "toc": {
   "base_numbering": 1,
   "nav_menu": {
   },
   "number_sections": true,
   "sideBar": true,
   "skip_h1_title": false,
   "title_cell": "Table of Contents",
   "title_sidebar": "Contents",
   "toc_cell": false,
   "toc_position": {
   },
   "toc_section_display": true,
   "toc_window_display": true
  }
 },
 "nbformat": 4,
 "nbformat_minor": 4
}