{
 "cells": [
  {
   "cell_type": "markdown",
   "metadata": {
    "collapsed": false
   },
   "source": [
    "# A note on lognormal distributions"
   ]
  },
  {
   "cell_type": "markdown",
   "metadata": {
    "collapsed": false
   },
   "source": [
    "When we use the lognormal normal distribution to generate random values like\n",
    "\n",
    "```\n",
    "np.random.lognormal( mu, sigma)\n",
    "```\n",
    "\n",
    "We're actually specifying the mean and standard deviation for the underlying normal distribution and then taking the exponential of of those random numbers.  So the logarithm of our random numbers will have mean `mu` and standard deviation `sigma`.  To see how this works lets compute a sample of 10 random numbers two different ways. We're going to specify $\\mu = 8$ and $\\sigma =3$.  We'll reset a random number seed each time to see how the results compare.  First we'll generate 10 normally distributed random numbers and apply the exponential function."
   ]
  },
  {
   "cell_type": "code",
   "execution_count": 10,
   "metadata": {
    "collapsed": false
   },
   "outputs": [
    {
     "name": "stdout",
     "output_type": "stream",
     "text": [
      "[1.14790438e+02 5.93992180e+04 6.96696864e+03 3.24959627e+01\n",
      " 5.25420684e+02 4.22654192e+05 2.05435570e+00 8.23251805e+02\n",
      " 1.32960687e+05 2.21357445e+02]\n"
     ]
    }
   ],
   "source": [
    "import numpy as np\n",
    "np.random.seed(123)\n",
    "x1 = np.random.normal(loc = 8, scale = 3, size = 10)\n",
    "exp_x1 = np.exp(x1)\n",
    "print(exp_x1)"
   ]
  },
  {
   "cell_type": "markdown",
   "metadata": {
    "collapsed": false
   },
   "source": [
    "Notice those numbers can't possibly come from a distribution whose mean is 8, but if we were to take the log of those numbers:"
   ]
  },
  {
   "cell_type": "code",
   "execution_count": 5,
   "metadata": {
    "collapsed": false
   },
   "outputs": [
    {
     "name": "stdout",
     "output_type": "stream",
     "text": [
      "[ 4.74310819 10.99203634  8.84893549  3.48111586  6.26419924 12.95430961\n",
      "  0.71996227  6.71326211 11.79780878  5.39977879]\n"
     ]
    }
   ],
   "source": [
    "print(np.log(exp_x1))"
   ]
  },
  {
   "cell_type": "markdown",
   "metadata": {
    "collapsed": false
   },
   "source": [
    "Those numbers could come from a distribution with mean 8.  When we specify a random variable is lognormal distributed with mean $\\mu$ and standard deviation $\\sigma$ it means that the logarithm of the random variable follows a normal distribution with the specified parameters.  \n",
    "\n",
    "The second method for generating the lognormal random numbers is to just use the lognormal distribution from numpy:"
   ]
  },
  {
   "cell_type": "code",
   "execution_count": 13,
   "metadata": {
    "collapsed": false
   },
   "outputs": [
    {
     "name": "stdout",
     "output_type": "stream",
     "text": [
      "[1.14790438e+02 5.93992180e+04 6.96696864e+03 3.24959627e+01\n",
      " 5.25420684e+02 4.22654192e+05 2.05435570e+00 8.23251805e+02\n",
      " 1.32960687e+05 2.21357445e+02]\n",
      "[ 4.74310819 10.99203634  8.84893549  3.48111586  6.26419924 12.95430961\n",
      "  0.71996227  6.71326211 11.79780878  5.39977879]\n"
     ]
    }
   ],
   "source": [
    "np.random.seed(123)\n",
    "x2 = np.random.lognormal( mean = 8, sigma = 3, size = 10)\n",
    "print(x2)\n",
    "print(np.log(x2))"
   ]
  },
  {
   "cell_type": "markdown",
   "metadata": {
    "collapsed": false
   },
   "source": [
    "Notice that these are exactly the same random numbers as we generated using the first approach.  Suppose we want the lognormal distribution to have mean $m$ and standard deviation $s$ then we need to reverse engineer the parameters $\\mu$ and $\\sigma$ for the underlying normal distribution:\n",
    "\n",
    "$$ \\mu = \\log\\left( \\frac{m^2}{\\sqrt{s^2 + m^2}} \\right)$$\n",
    "$$ \\sigma = \\ \\sqrt{ \\log\\left( 1 + \\frac{s^2}{m^2} \\right)}$$\n",
    "\n",
    "You can find these formulas in a variety of places, including <a href=\"https://en.wikipedia.org/wiki/Log-normal_distribution\">Wikipedia</a>.\n",
    "\n",
    "To generate a sample of 1000 observations from a lognormal distribution with mean 8 and standard deviation 3 we could do this:"
   ]
  },
  {
   "cell_type": "code",
   "execution_count": 9,
   "metadata": {
    "collapsed": false
   },
   "outputs": [
    {
     "name": "stdout",
     "output_type": "stream",
     "text": [
      "7.976618073692172\n",
      "2.761749387482237\n"
     ]
    },
    {
     "data": {
      "image/png": "[encoded data removed]",
      "text/plain": [
       "<Figure size 432x288 with 1 Axes>"
      ]
     },
     "execution_count": 9,
     "metadata": {
      "needs_background": "light"
     },
     "output_type": "execute_result"
    }
   ],
   "source": [
    "m = 8 \n",
    "s = 3\n",
    "mu = np.log( m**2 / np.sqrt(s**2 + m**2)); \n",
    "sig = np.sqrt( np.log( 1 + s**2/m**2) );\n",
    "x = np.random.lognormal( mean = mu, sigma = sig, size = 1000)\n",
    "\n",
    "%matplotlib inline\n",
    "import matplotlib.pyplot as plt\n",
    "import seaborn as sns\n",
    "\n",
    "sns.distplot(x)\n",
    "print(np.mean(x))\n",
    "print(np.std(x))"
   ]
  },
  {
   "cell_type": "markdown",
   "metadata": {
    "collapsed": false
   },
   "source": [
    "Of course the mean and standard deviation of the **sample** aren't exactly 8 and 3, respectively but that is just the usual sampling variability."
   ]
  },
  {
   "cell_type": "code",
   "execution_count": 0,
   "metadata": {
    "collapsed": false
   },
   "outputs": [
   ],
   "source": [
   ]
  }
 ],
 "metadata": {
  "kernelspec": {
   "display_name": "Python 3 (system-wide)",
   "language": "python",
   "metadata": {
    "cocalc": {
     "description": "Python 3 programming language",
     "priority": 100,
     "url": "https://www.python.org/"
    }
   },
   "name": "python3"
  },
  "language_info": {
   "codemirror_mode": {
    "name": "ipython",
    "version": 3
   },
   "file_extension": ".py",
   "mimetype": "text/x-python",
   "name": "python",
   "nbconvert_exporter": "python",
   "pygments_lexer": "ipython3",
   "version": "3.6.9"
  },
  "toc": {
   "base_numbering": 1,
   "nav_menu": {
   },
   "number_sections": true,
   "sideBar": true,
   "skip_h1_title": false,
   "title_cell": "Table of Contents",
   "title_sidebar": "Contents",
   "toc_cell": false,
   "toc_position": {
   },
   "toc_section_display": true,
   "toc_window_display": false
  }
 },
 "nbformat": 4,
 "nbformat_minor": 4
}