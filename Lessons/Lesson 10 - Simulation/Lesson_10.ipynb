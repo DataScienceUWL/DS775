{
 "cells": [
  {
   "cell_type": "code",
   "execution_count": 1,
   "metadata": {
    "collapsed": false
   },
   "outputs": [
   ],
   "source": [
    "# EXECUTE FIRST\n",
    "\n",
    "# computational imports\n",
    "import numpy as np\n",
    "import pandas as pd\n",
    "from scipy.optimize import minimize_scalar\n",
    "import time\n",
    "\n",
    "# plotting imports\n",
    "import matplotlib.pyplot as plt\n",
    "import seaborn as sns\n",
    "sns.set_style(\"darkgrid\")\n",
    "\n",
    "# display imports\n",
    "from IPython.display import display, IFrame\n",
    "from IPython.core.display import HTML\n",
    "\n",
    "# for playing videos, customize height and width if desired\n",
    "def play_video(vid_name):\n",
    "    vid_path = \"https://media.uwex.edu/content/ds/ds775_r19/\"\n",
    "    return IFrame( vid_path + vid_name + \"/index.html\", width = 640, height = 360 )\n",
    "\n",
    "# helper function for nicely printing dollar amounts\n",
    "def dollar_print(x):\n",
    "    if x < 0:\n",
    "        return(f\"-${-x:,.2f}\")\n",
    "    else:\n",
    "        return(f\"${x:,.2f}\")"
   ]
  },
  {
   "cell_type": "markdown",
   "metadata": {
    "collapsed": false
   },
   "source": [
    "# Lesson 10: Simulation"
   ]
  },
  {
   "cell_type": "markdown",
   "metadata": {
    "collapsed": false,
    "heading_collapsed": true
   },
   "source": [
    "# Simulation Basics"
   ]
  },
  {
   "cell_type": "markdown",
   "metadata": {
    "collapsed": false,
    "hidden": true
   },
   "source": [
    "## Simulation Basics (video)"
   ]
  },
  {
   "cell_type": "markdown",
   "metadata": {
    "collapsed": false,
    "hidden": true
   },
   "source": [
    "There is just one video for this lesson that gives an overview of the topic:"
   ]
  },
  {
   "cell_type": "code",
   "execution_count": 2,
   "metadata": {
    "code_folding": [
     0
    ],
    "collapsed": false,
    "hidden": true
   },
   "outputs": [
    {
     "data": {
      "text/html": "\n        <iframe\n            width=\"640\"\n            height=\"360\"\n            src=\"https://media.uwex.edu/content/ds/ds775_r19/ds775_lesson8-simulation-highlights/index.html\"\n            frameborder=\"0\"\n            allowfullscreen\n            \n        ></iframe>\n        ",
      "text/plain": [
       "<IPython.lib.display.IFrame at 0x7f9f2f6a49d0>"
      ]
     },
     "execution_count": 2,
     "metadata": {
     },
     "output_type": "execute_result"
    }
   ],
   "source": [
    "# execute this cell for video\n",
    "play_video(\"ds775_lesson8-simulation-highlights\")"
   ]
  },
  {
   "cell_type": "markdown",
   "metadata": {
    "collapsed": false,
    "hidden": true
   },
   "source": [
    "## Simulation:  What is it?"
   ]
  },
  {
   "cell_type": "markdown",
   "metadata": {
    "collapsed": false,
    "hidden": true
   },
   "source": [
    "Simulation is using a computer to imitate the operation of a process or system in order to estimate its actual performance.\n",
    "\n",
    "Components of a simulation model:\n",
    "\n",
    "* a definition of the state of the system\n",
    "* identification of the possible states of the system\n",
    "* identification of possible events that could change the value of the system\n",
    "* methods for randomly generating events\n",
    "* a way to relate the state transitions to the events that brought them about"
   ]
  },
  {
   "cell_type": "markdown",
   "metadata": {
    "collapsed": false,
    "hidden": true
   },
   "source": [
    "## Motivation for Simulation"
   ]
  },
  {
   "cell_type": "markdown",
   "metadata": {
    "collapsed": false,
    "hidden": true
   },
   "source": [
    "Simulation is used for \n",
    "\n",
    "* mathematical models that are not <a href=\"https://www.britannica.com/technology/tractable-problem\">tractable</a>\n",
    "* analyzing stochastic (random/probabilistic) systems that operate indefinitely to gain insight into the behavior of the system over time\n",
    "* analyzing and designing systems that would otherwise be very time consuming and/or expensive\n",
    "* experimenting with a system without actually implementing it"
   ]
  },
  {
   "cell_type": "markdown",
   "metadata": {
    "collapsed": false,
    "heading_collapsed": true,
    "hidden": true
   },
   "source": [
    "## Limitations of Simulation"
   ]
  },
  {
   "cell_type": "markdown",
   "metadata": {
    "collapsed": false,
    "hidden": true
   },
   "source": [
    "* Simulations have inherent variability, so they provide only statistical estimates rather than exact results (analytical methods provide exact results when tractable)\n",
    "* Simulations compare various alternative without necessarily finding the optimal one\n",
    "* Even with today's computers, some complex simulations still require large amounts of computing time and expense in programming and analysis\n",
    "* Simulations provide only numerical measures about the performance of a system and cause-and-effect relationships are not always evident\n",
    "* Simulations results apply only to the conditions that were simulated\n",
    "* Sensitivity analysis can be unwieldy in large simulations\n"
   ]
  },
  {
   "cell_type": "markdown",
   "metadata": {
    "collapsed": false,
    "hidden": true
   },
   "source": [
    "### *Self-Assessment: Simulation*"
   ]
  },
  {
   "cell_type": "markdown",
   "metadata": {
    "collapsed": false,
    "hidden": true
   },
   "source": [
    "True or False:  Simulation is using a computer to imitate the operation of a process or system in order to estimate its actual performance. "
   ]
  },
  {
   "cell_type": "markdown",
   "metadata": {
    "collapsed": false,
    "hidden": true
   },
   "source": [
    "### *Self-Assessment: Simulating a System*"
   ]
  },
  {
   "cell_type": "markdown",
   "metadata": {
    "collapsed": false,
    "hidden": true
   },
   "source": [
    "True or False:  Simulation provides a way of experimenting with proposed systems or policies without actually implementing them. "
   ]
  },
  {
   "cell_type": "markdown",
   "metadata": {
    "collapsed": false,
    "hidden": true
   },
   "source": [
    "### *Self Assessment: Simulation and Time*"
   ]
  },
  {
   "cell_type": "markdown",
   "metadata": {
    "collapsed": false,
    "hidden": true
   },
   "source": [
    "True or False:  Simulation is used for analyzing stochastic systems that operate indefinitely to gain insight into the behavior of the system over time. "
   ]
  },
  {
   "cell_type": "markdown",
   "metadata": {
    "collapsed": false,
    "hidden": true
   },
   "source": [
    "### *Self-Assessment: Generalizing Simulation Results*"
   ]
  },
  {
   "cell_type": "markdown",
   "metadata": {
    "collapsed": false,
    "hidden": true
   },
   "source": [
    "True or False:  Simulations results should be generalized beyond the conditions that were simulated."
   ]
  },
  {
   "cell_type": "markdown",
   "metadata": {
    "collapsed": false,
    "hidden": true
   },
   "source": [
    "### *Self-Assessment: Type of Simulation*"
   ]
  },
  {
   "cell_type": "markdown",
   "metadata": {
    "collapsed": false,
    "hidden": true
   },
   "source": [
    "(*Hint: Review the subsection titled \"Discrete-Event versus Continuous Simulation\" in Section 20.1 before answering this one.*)\n",
    "\n",
    "Which of the following would be modeled by discrete-even simulation?  Select all that apply. \n",
    "\n",
    "a. The number of products sold over time. \n",
    "\n",
    "b. The air pressure in submarine during its time under the water.\n",
    "\n",
    "c. The arrival of customers to a queue.  \n",
    "\n",
    "d. Whether is rains or not in a day over a 10-year period. \n",
    "\n",
    "e. The temperature of an engine over a period of operation. \n"
   ]
  },
  {
   "cell_type": "markdown",
   "metadata": {
    "collapsed": false,
    "heading_collapsed": true
   },
   "source": [
    "# Formulating a Simulation Process"
   ]
  },
  {
   "cell_type": "markdown",
   "metadata": {
    "collapsed": false,
    "hidden": true
   },
   "source": [
    "In order to construct a simulation, the following questions may help guide the formulation of the process that is being simulated.\n",
    "\n",
    "* What variables are involved?  \n",
    "* Which variables are discrete and which are ones are continuous?\n",
    "* How do variables relate to each other? \n",
    "* What formulas or relationships are needed? \n",
    "* Are some variables dependent on the outcomes of others?\n",
    "* How do the various events and outcomes relate chronologically?  \n",
    "* How will the passage of time be marked?\n",
    "* How will the outcome variables be captured and summarized?\n",
    "* How will the simulation performance be evaluated?  Numerical summaries?  Probabilities? \n",
    "\n",
    "Simulations come in all shapes and sizes.  It takes a lot of creativity, programming skills, and ability to model processes with random variables and functions and equations and put it all together so that the important statistics can be captured on each simulation run  and summarize those in some way so that yo can gain insight into the process or system that you are simulating."
   ]
  },
  {
   "cell_type": "markdown",
   "metadata": {
    "collapsed": false,
    "heading_collapsed": true
   },
   "source": [
    "# Basic Simulation Tools"
   ]
  },
  {
   "cell_type": "markdown",
   "metadata": {
    "collapsed": false,
    "heading_collapsed": true,
    "hidden": true
   },
   "source": [
    "## Generating Discrete Events"
   ]
  },
  {
   "cell_type": "markdown",
   "metadata": {
    "collapsed": false,
    "hidden": true
   },
   "source": [
    "### Categorical Outcomes"
   ]
  },
  {
   "cell_type": "markdown",
   "metadata": {
    "collapsed": false,
    "hidden": true
   },
   "source": [
    "Suppose there is a very large bowl of Skittles where 20\\% are purple, 16\\% yellow, 21\\% green, 18\\% orange, 13\\% red, and 12\\% blue. Also suppose we are to select one Skittle randomly from the bowl and make note of the color.\n",
    "\n",
    "The cell below contains code to simulate this random outcome.  You can re-run the cell as many times as you like to see different outcomes.  In a later cell we will address how to capture a series of outputs."
   ]
  },
  {
   "cell_type": "code",
   "execution_count": 3,
   "metadata": {
    "collapsed": false,
    "hidden": true
   },
   "outputs": [
    {
     "name": "stdout",
     "output_type": "stream",
     "text": [
      "The uniform random number is 0.6017\n",
      "The color of this randomly selected Skittle is orange.\n"
     ]
    }
   ],
   "source": [
    "rand = np.random.uniform(low=0.0, high=1.0, size=1)\n",
    "\n",
    "if rand <= 0.20: \n",
    "    color = \"purple\"\n",
    "elif  (rand > 0.20 and rand <= .36):\n",
    "    color = \"yellow\"\n",
    "elif  (rand > 0.36 and rand <=.57):\n",
    "    color = \"green\"    \n",
    "elif  (rand > 0.57 and rand <=.75):\n",
    "    color = \"orange\"  \n",
    "elif  (rand > 0.75 and rand <=.88):\n",
    "    color = \"red\"\n",
    "else:\n",
    "    color = \"blue\"\n",
    "\n",
    "print(f\"The uniform random number is {rand[0]:0.4f}\")  # this isn't necessary to print, but I'm displaying it so you can see how it works\n",
    "print(f\"The color of this randomly selected Skittle is {color}.\") # this is a randomly generated discrete event"
   ]
  },
  {
   "cell_type": "markdown",
   "metadata": {
    "collapsed": false
   },
   "source": [
    "That entire `if_else` structure can be replaced by one command using `numpy.random.choice`.  The code to do this is below:"
   ]
  },
  {
   "cell_type": "code",
   "execution_count": 4,
   "metadata": {
    "collapsed": false
   },
   "outputs": [
    {
     "name": "stdout",
     "output_type": "stream",
     "text": [
      "The color of this randomly selected Skittle is orange.\n"
     ]
    }
   ],
   "source": [
    "# 20% are purple, 16% yellow, 21% green, 18% orange, 13% red, and 12% blue\n",
    "\n",
    "colors = np.array([\"purple\", \"yellow\", \"green\", \"orange\", \"red\", \"blue\"])\n",
    "prob = np.array([.20, .16, .21, .18, .13, .12])\n",
    "\n",
    "color = np.random.choice(colors, size = 1, p = prob)\n",
    "\n",
    "print(f\"The color of this randomly selected Skittle is {color[0]}.\") # this is a randomly generated discrete event"
   ]
  },
  {
   "cell_type": "markdown",
   "metadata": {
    "collapsed": false,
    "hidden": true
   },
   "source": [
    "### Random Integers"
   ]
  },
  {
   "cell_type": "markdown",
   "metadata": {
    "collapsed": false,
    "hidden": true
   },
   "source": [
    "Suppose uniformly distributed random integers are needed, such as the order quantity or demand in the Freddie the Newsboy simulation (see Hillier p. 923). \n",
    "\n",
    "The following code will generate a uniformly distributed random integer in the specified range.  Again, the cell can be executed as many times as you like to see different outcomes, but they are not being stored.  In a later cell we will address how to capture a series of outputs."
   ]
  },
  {
   "cell_type": "code",
   "execution_count": 5,
   "metadata": {
    "collapsed": false,
    "hidden": true
   },
   "outputs": [
    {
     "name": "stdout",
     "output_type": "stream",
     "text": [
      "55\n"
     ]
    }
   ],
   "source": [
    "demand = np.random.randint(low=40.0, high=70.0, size=1)\n",
    "\n",
    "print(demand[0])"
   ]
  },
  {
   "cell_type": "markdown",
   "metadata": {
    "collapsed": false,
    "hidden": true
   },
   "source": [
    "## Generating Continuous Outcomes"
   ]
  },
  {
   "cell_type": "markdown",
   "metadata": {
    "collapsed": false,
    "hidden": true
   },
   "source": [
    "There are many continuous distributions to choose from.  The Hillier textbook sections 20.3-20.4 discuss some of what is going on \"behind the scenes\" when you use computer code to generate random numbers (also called pseudo-random numbers because of their reproducibility with random number *seeds* - more on that below).\n",
    "\n",
    "Look under **Distributions** on the \n",
    "<a href = https://docs.scipy.org/doc/numpy-1.14.1/reference/routines.random.html#distributions > Numpy Manual </a> for a list of options.\n",
    "\n",
    "In this course, the focus will be on implementation rather than the mathematics behind random number generation.  A few common options are in the cell that follows."
   ]
  },
  {
   "cell_type": "code",
   "execution_count": 6,
   "metadata": {
    "collapsed": false,
    "hidden": true
   },
   "outputs": [
    {
     "name": "stdout",
     "output_type": "stream",
     "text": [
      "Normal rv:       24.68\n",
      "Exponential rv:   6.00\n",
      "Weibull rv:       5.67\n",
      "Lognormal rv:    21.85\n",
      "Triangular rv:    29.81\n"
     ]
    }
   ],
   "source": [
    "# 1 observation from a normal distribution with mean 20 and std dev 4\n",
    "a = np.random.normal(loc=20,scale=4,size=1)\n",
    "print(f\"Normal rv:{a[0]:12.2f}\")\n",
    "\n",
    "# 1 observation from an exponential distribution with mean 3\n",
    "b = np.random.exponential(scale=3,size=1)\n",
    "print(f\"Exponential rv: {b[0]:6.2f}\")\n",
    "\n",
    "# 1 observation from a 2-parameter Weibull distribution with shape 2 and scale 10\n",
    "c = 10*np.random.weibull(a=2,size=1)\n",
    "print(f\"Weibull rv: {c[0]:10.2f}\")\n",
    "\n",
    "# 1 observation from a lognormal distribution with mean 100 and std dev 15\n",
    "d = np.random.lognormal(mean=3,sigma=0.5,size=1)\n",
    "print(f\"Lognormal rv: {d[0]:8.2f}\")\n",
    "\n",
    "# 1 observation from a triangular distribution with min = 10, peak = 20, max = 50\n",
    "e = np.random.triangular(left=10,mode=20,right=50,size=1)\n",
    "print(f\"Triangular rv: {e[0]:8.2f}\")"
   ]
  },
  {
   "cell_type": "markdown",
   "metadata": {
    "collapsed": false,
    "hidden": true
   },
   "source": [
    "You may not have heard of some of these probability distributions and that's OK.  If you find yourself in the situtation where you need to \n",
    "\n",
    "*Note: Be aware that many distributions, including the exponential, Weibull, and lognormal, can have different parameterizations so be sure to consult the documentation of the software you are using to be sure of what you are generating.*\n",
    "\n",
    "*We've included a separate notebook called **lognormal.ipynb** that you can use to understand how to set parameters for the lognormal distribution.*"
   ]
  },
  {
   "cell_type": "markdown",
   "metadata": {
    "collapsed": false,
    "heading_collapsed": true,
    "hidden": true
   },
   "source": [
    "## Generating Replications"
   ]
  },
  {
   "cell_type": "markdown",
   "metadata": {
    "collapsed": false,
    "hidden": true
   },
   "source": [
    "### Using Conditions (for, while, if, elif, else) vs. Using Numpy Arrays"
   ]
  },
  {
   "cell_type": "markdown",
   "metadata": {
    "collapsed": false,
    "hidden": true
   },
   "source": [
    "Let's generate 1000 replicates of the Skittle selection. We'll do this two ways - with a for loop and with a Numpy array. We've written a function that takes in the simulation size and a boolean (defaulted to true) to choose whether to run looping code or generate the data using Numpy arrays. We've added some timer code to demonstrate the difference between using loops and arrays in terms of speed. \n",
    "\n",
    "Run the code in the next cell several times. Which method is faster?\n"
   ]
  },
  {
   "cell_type": "code",
   "execution_count": 7,
   "metadata": {
    "collapsed": false
   },
   "outputs": [
    {
     "name": "stdout",
     "output_type": "stream",
     "text": [
      "The loop ran in 0.0630 seconds"
     ]
    },
    {
     "name": "stdout",
     "output_type": "stream",
     "text": [
      "\n",
      "The array ran in 0.0203 seconds\n"
     ]
    }
   ],
   "source": [
    "#create a function that uses either a loop or an array to generate skittles data\n",
    "def getSkittles(simSize, loop=True):\n",
    "    # initialize the array to the desired size and data type (string in this case)\n",
    "    color = np.full(shape=simSize, fill_value=\"colors\") \n",
    "\n",
    "    if loop:\n",
    "        # capture each simulation run using an index (i in this case)\n",
    "        for i in range(simSize):\n",
    "            rand = np.random.uniform(low=0.0, high=1.0, size=1)\n",
    "\n",
    "            if rand <= 0.20: \n",
    "                color[i] = \"purple\"\n",
    "            elif  (rand > 0.20 and rand <= .36):  \n",
    "                color[i] = \"yellow\"\n",
    "            elif  (rand > 0.36 and rand <=.57):\n",
    "                color[i] = \"green\"    \n",
    "            elif  (rand > 0.57 and rand <=.75):\n",
    "                color[i] = \"orange\"  \n",
    "            elif  (rand > 0.75 and rand <=.88):\n",
    "                color[i] = \"red\"\n",
    "            else:\n",
    "                color[i] = \"blue\"\n",
    "    else:\n",
    "        # alternately you could replace the whole loop with this:\n",
    "        colors = np.array([\"purple\", \"yellow\", \"green\", \"orange\", \"red\", \"blue\"])\n",
    "        prob = np.array([.20, .16, .21, .18, .13, .12])\n",
    "        color = np.random.choice( colors, size = simSize, p=prob)\n",
    "\n",
    "    return color\n",
    "\n",
    "tic = time.perf_counter()\n",
    "skittles_loop = getSkittles(1000, 'loop')\n",
    "toc = time.perf_counter()\n",
    "print(f\"The loop ran in {toc - tic:0.4f} seconds\")\n",
    "\n",
    "tic = time.perf_counter()\n",
    "skittles_array = getSkittles(1000, 'array')\n",
    "toc = time.perf_counter()\n",
    "print(f\"The array ran in {toc - tic:0.4f} seconds\")"
   ]
  },
  {
   "cell_type": "markdown",
   "metadata": {
    "collapsed": false
   },
   "source": [
    "In interpreted languages like Python and R it is generally faster to avoid loops when possible.\n",
    "\n",
    "In the next cell, we generate 10000 skittles and summarize the result with a frequency table and bar graph. Are the frequencies about what you'd expect, given our original probabilities (20\\% purple, 16\\% yellow, 21\\% green, 18\\% orange, 13\\% red, and 12\\% blue)?"
   ]
  },
  {
   "cell_type": "code",
   "execution_count": 8,
   "metadata": {
    "collapsed": false,
    "hidden": true
   },
   "outputs": [
    {
     "name": "stdout",
     "output_type": "stream",
     "text": [
      "\n",
      "Frequency of each color:\n",
      "  blue: 1169 (12%) \n",
      "  green: 2089 (21%) \n",
      "  orange: 1861 (19%) \n",
      "  purple: 2034 (20%) \n",
      "  red: 1247 (12%) \n",
      "  yellow: 1600 (16%) \n"
     ]
    },
    {
     "data": {
      "image/png": "[encoded data removed]",
      "text/plain": [
       "<Figure size 576x288 with 1 Axes>"
      ]
     },
     "execution_count": 8,
     "metadata": {
      "image/png": {
       "height": 278,
       "width": 506
      }
     },
     "output_type": "execute_result"
    }
   ],
   "source": [
    "#get the skittles\n",
    "size = 10000\n",
    "skittles = getSkittles(size, 'array')\n",
    "\n",
    "# summarize the counts in a frequency table\n",
    "unique_elements, counts_elements = np.unique(skittles, return_counts=True)\n",
    "print(\"\\nFrequency of each color:\")\n",
    "for color,freq in zip(unique_elements,counts_elements):\n",
    "    print(f\"  {color}: {freq} ({round((freq/size) * 100)}%) \")\n",
    "\n",
    "# summarize the results in a par graph\n",
    "plt.figure(figsize=[8,4])\n",
    "plt.bar(unique_elements, counts_elements)\n",
    "plt.xlabel('Skittles Color')\n",
    "plt.ylabel('Frequency')\n",
    "plt.xticks(unique_elements, unique_elements, rotation=30)\n",
    "plt.show()\n"
   ]
  },
  {
   "cell_type": "markdown",
   "metadata": {
    "collapsed": false,
    "hidden": true
   },
   "source": [
    "### Using Arrays for Continuous Distributions"
   ]
  },
  {
   "cell_type": "markdown",
   "metadata": {
    "collapsed": false,
    "hidden": true
   },
   "source": [
    "Using arrays when generating data from continuous distributions is even easier, as most of them are built-in to Numpy. In the next cell, we generate 40 observations from a normal distribution with mean of 20 and standard deviation of 4.\n",
    "\n",
    "You can change the simulation size to something larger - say 1000, and you should get a graph that shows a normal distribution (peaked at the mean, trailing off at both ends).\n"
   ]
  },
  {
   "cell_type": "code",
   "execution_count": 9,
   "metadata": {
    "collapsed": false,
    "hidden": true
   },
   "outputs": [
    {
     "name": "stdout",
     "output_type": "stream",
     "text": [
      "First 20 observations:\n",
      "20.8, 11.9, 21.7, 19.4, 23.5, 19.7, 17.6, 22.4, 10.1, 26.8, 22.5, 23.3, 21.1, 17.3, 22.3, 12.3, 17.1, 16.7, 29.1, 16.3\n",
      "\n",
      "The average is 20.4\n",
      "The standard deviation is 4.2\n"
     ]
    },
    {
     "data": {
      "text/plain": [
       "Text(0.5, 0, 'Normal(20,4) Variable')"
      ]
     },
     "execution_count": 9,
     "metadata": {
     },
     "output_type": "execute_result"
    },
    {
     "data": {
      "image/png": "[encoded data removed]",
      "text/plain": [
       "<Figure size 576x360 with 1 Axes>"
      ]
     },
     "execution_count": 9,
     "metadata": {
      "image/png": {
       "height": 316,
       "width": 496
      }
     },
     "output_type": "execute_result"
    }
   ],
   "source": [
    "# set the size of the simulation\n",
    "SimSize = 40\n",
    "\n",
    "# generate multiple observations from a normal distribution with mean 20 and std dev 4\n",
    "a = np.random.normal(loc=20,scale=4,size=SimSize)\n",
    "\n",
    "# show beginning of observations\n",
    "\n",
    "print(f\"First 20 observations:\")\n",
    "print(', '.join(f'{x:.1f}' for x in a[:20]) )\n",
    "\n",
    "# summarize with some descriptive statistics\n",
    "print(f\"\\nThe average is {np.mean(a):2.1f}\")\n",
    "print(f\"The standard deviation is {np.std(a):2.1f}\")\n",
    "\n",
    "plt.figure(figsize = (8,5))\n",
    "# display Winnings in a histogram\n",
    "plt.hist(a,color=\"olive\")\n",
    "plt.ylabel('Frequency')\n",
    "plt.xlabel('Normal(20,4) Variable')"
   ]
  },
  {
   "cell_type": "markdown",
   "metadata": {
    "collapsed": false,
    "heading_collapsed": true,
    "hidden": true
   },
   "source": [
    "## Random Number Seeds"
   ]
  },
  {
   "cell_type": "markdown",
   "metadata": {
    "collapsed": false,
    "hidden": true
   },
   "source": [
    "You should have noticed when running the cells above multiple times that the results vary each time the random numbers are generated.  A simulation can be reproduced exactly by specifying a random number seed so that the (pseudo-)random numbers generated will have the same initial value to start the process of random number generation.\n",
    "\n",
    "Run the following cell a few times to see if the results vary.  Change the random number seed to a different value and run the cell again.  Just pick any number you want for the seed.  Did the results change when the random number seed changed?\n",
    "\n",
    "Go back to the original seed of 5 and run the cell again.  What happens?  Do you recognize the result? "
   ]
  },
  {
   "cell_type": "code",
   "execution_count": 10,
   "metadata": {
    "collapsed": false,
    "hidden": true
   },
   "outputs": [
    {
     "name": "stdout",
     "output_type": "stream",
     "text": [
      "First 20 observations:\n",
      "21.8, 18.7, 29.7, 19.0, 20.4, 26.3, 16.4, 17.6, 20.8, 18.7, 15.2, 19.2, 18.6, 22.4, 13.3, 17.2, 24.6, 27.4, 14.0, 22.6\n",
      "\n",
      "The average is 20.2\n",
      "The standard deviation is 3.6\n"
     ]
    },
    {
     "data": {
      "text/plain": [
       "Text(0.5, 0, 'Normal(20,4) Variable')"
      ]
     },
     "execution_count": 10,
     "metadata": {
     },
     "output_type": "execute_result"
    },
    {
     "data": {
      "image/png": "[encoded data removed]",
      "text/plain": [
       "<Figure size 576x360 with 1 Axes>"
      ]
     },
     "execution_count": 10,
     "metadata": {
      "image/png": {
       "height": 316,
       "width": 494
      }
     },
     "output_type": "execute_result"
    }
   ],
   "source": [
    "np.random.seed(seed=5)\n",
    "\n",
    "# set the size of the simulation\n",
    "SimSize = 40\n",
    "\n",
    "# generate multiple observations from a normal distribution with mean 20 and std dev 4\n",
    "a = np.random.normal(loc=20,scale=4,size=SimSize)\n",
    "\n",
    "# comment this out for large simulation sizes\n",
    "print(\"First 20 observations:\")\n",
    "print(', '.join(f'{x:.1f}' for x in a[:20]))\n",
    "\n",
    "# summarize with some descriptive statistics\n",
    "print(\"\\nThe average is {:2.1f}\".format(np.mean(a)))\n",
    "print(\"The standard deviation is {:2.1f}\".format(np.std(a)))\n",
    "\n",
    "plt.figure(figsize=(8,5))\n",
    "# display Winnings in a histogram\n",
    "plt.hist(a,color=\"orange\")\n",
    "plt.ylabel('Frequency')\n",
    "plt.xlabel('Normal(20,4) Variable')"
   ]
  },
  {
   "cell_type": "markdown",
   "metadata": {
    "collapsed": false,
    "heading_collapsed": true,
    "hidden": true
   },
   "source": [
    "## *Self-Assessment: Discrete-Event Simulation*"
   ]
  },
  {
   "cell_type": "markdown",
   "metadata": {
    "collapsed": false,
    "hidden": true
   },
   "source": [
    "**Textbook Problem 20.1**\n",
    "\n",
    "20.1-1. Use the uniform random numbers in cells C13:C18 of Fig. 20.1 to generate six random observations for each of the following situations. (hint: **don't** use the computer for this one, *just use the random numbers printed in cells C13:C18 of Fig. 20.1 on p. 896*)\n",
    "\n",
    "(a) Throwing an unbiased coin.\n",
    "\n",
    "(b) A baseball pitcher who throws a strike 60 percent of the time and a ball 40 percent of the time.\n",
    "\n",
    "(c) The color of a traffic light found by a randomly arriving car when it is green 40 percent of the time, yellow 10 percent of the time, and red 50 percent of the time."
   ]
  },
  {
   "cell_type": "markdown",
   "metadata": {
    "collapsed": false,
    "hidden": true
   },
   "source": [
    "## *Self-Assessment: Discrete-Event Simulation 2*"
   ]
  },
  {
   "cell_type": "markdown",
   "metadata": {
    "collapsed": false,
    "hidden": true
   },
   "source": [
    "**Textbook Problem 20.3 (a,b,e)**\n",
    "\n",
    "Jessica Williams, manager of Kitchen Appliances for the Midtown Department Store, feels that her inventory levels of stoves have been running higher than necessary. Before revising the inventory policy for stoves, she records the number sold each day over a period of 25 days, as summarized below.\n",
    "\n",
    "$\n",
    "\\begin{array}{l|ccccc}\n",
    "  \\hline\n",
    "\\text{Number sold}    & 2 & 3 & 4 & 5 & 6  \\\\  \n",
    "\\hline\n",
    "\\text{Number of days} & 4 & 7 & 8 & 5 & 1   \\\\\n",
    "\\hline\n",
    "\\end{array}\n",
    "$\n",
    "\n",
    "(a) Use these data to estimate the probability distribution of daily sales.\n",
    "\n",
    "(b) Calculate the mean of the distribution obtained in part (a).\n",
    "\n",
    "(e) Formulate a model in Python for performing a simulation of the daily sales. Perform 300 replications and obtain the average of the sales over the 300 simulated days.  This can be done with a loop or with `numpy.random.choice`. (Use **np.random.seed(seed=222)** and let's see if we all get the same answer.)\n",
    "\n",
    "*Note: this example shows a simulation for a situation where the outcome of interest, the mean sales in this case, can be computed analytically and so there is really no need to simulate it.  The analytical solution is a constant, whereas the simulation has inherent variability.  Simulation is best employed in situation where the analytical solution is intractable or at least so difficult that simulation is worthwhile.*"
   ]
  },
  {
   "cell_type": "markdown",
   "metadata": {
    "collapsed": false,
    "heading_collapsed": true
   },
   "source": [
    "# Examples"
   ]
  },
  {
   "cell_type": "markdown",
   "metadata": {
    "collapsed": false,
    "hidden": true
   },
   "source": [
    "## Coin Flip Simulation (from Textbook)"
   ]
  },
  {
   "cell_type": "markdown",
   "metadata": {
    "collapsed": false,
    "hidden": true
   },
   "source": [
    "In the Coin-Flipping Game simulation example on pp. 894-899 in the Hillier textbook each play of the game involves repeatedly flipping an unbiased coin until the difference between the number of heads tossed and the number of tails is 3.  If you decide to play the game, you are required to pay \\$1 for each flip of the coin. You are not allowed to quit during a play of the game.  You receive \\$8 at the end of each play of the game.\n",
    "\n",
    "This situation may have an analytical solution, but it would take considerable work to get through it.  In this case, good insight into the behavior of this game can be gleaned from a fairly simple simulation. The textbook authors discuss the Excel implementation of this simulation in detail. The same simulation is constructed in Python in the cell below.\n",
    "\n",
    "Run the simulation a few times to see the variability in the results. Notice the types of summaries that can be made of the simulation results: descriptive statistics like mean, standard deviation, minimum, and maximum, as well as graphical summaries like histograms or boxlots.\n",
    "\n",
    "In this textbook, they commonly ask for 1000 replications in a given simulation, but with today's computing power you could easily increase that number to 10,000 or 100,000 or more depending on what you have to work with.  In simulation, a bigger the simulation size means more precise simulation results (*i.e.* the results are closer to the actual underlying values)."
   ]
  },
  {
   "cell_type": "code",
   "execution_count": 11,
   "metadata": {
    "collapsed": false,
    "hidden": true
   },
   "outputs": [
    {
     "name": "stdout",
     "output_type": "stream",
     "text": [
      "The average amount won is -$0.51\n",
      "The standard deviation of the winnings is $6.23\n",
      "The minimum amount won is -$31.00\n",
      "The maximum amount won is $5.00\n",
      "\n",
      "The probability of winning money is 0.598.\n",
      "\n",
      "The average number of flips is 8.5\n",
      "The minimum number of flips is 3\n",
      "The maximum number of flips is 39\n"
     ]
    },
    {
     "data": {
      "text/plain": [
       "Text(0.5, 0, 'Winnings')"
      ]
     },
     "execution_count": 11,
     "metadata": {
     },
     "output_type": "execute_result"
    },
    {
     "data": {
      "image/png": "[encoded data removed]",
      "text/plain": [
       "<Figure size 720x576 with 2 Axes>"
      ]
     },
     "execution_count": 11,
     "metadata": {
      "image/png": {
       "height": 479,
       "width": 612
      }
     },
     "output_type": "execute_result"
    }
   ],
   "source": [
    "# Coin-Flipping Game Simulation\n",
    "# 1. Each play of the game involves repeatedly flipping an\n",
    "#    unbiased coin until the difference between the number of\n",
    "#    heads tossed and the number of tails is 3.\n",
    "# 2. If you decide to play the game, you are required to pay\n",
    "#    $1 for each flip of the coin. You are not allowed to quit\n",
    "#    during a play of the game.\n",
    "# 3. You receive $8 at the end of each play of the game.\n",
    "\n",
    "# np.random.seed(seed=123) # optional - specify a seed to reproduce the simulation exactly\n",
    "SimSize = 1000  # set number of trials in the simulation\n",
    "\n",
    "RequiredDifference = 3\n",
    "CashAtEnd = 8\n",
    "\n",
    "nn = 1  # set simulation clock to 1 to begin simulation\n",
    "Winnings = np.zeros(SimSize)\n",
    "FlipTotal = np.zeros(SimSize)\n",
    "\n",
    "for nn in range(SimSize):\n",
    "\n",
    "    # Simulate one round of the coin-flipping game\n",
    "    heads = 0  # number of heads observed\n",
    "    tails = 0  # number of tails\n",
    "    Difference = 0\n",
    "    Flips = 0\n",
    "    while Difference < RequiredDifference:\n",
    "        if np.random.uniform(low=0, high=1, size=1) < 0.5:\n",
    "            heads += 1  # add one to the total heads\n",
    "        else:\n",
    "            tails += 1  # add one to the total tails\n",
    "\n",
    "        Difference = abs(heads - tails)\n",
    "        Flips = heads + tails\n",
    "\n",
    "    # Summarize results for each round of the coin flipping game\n",
    "    Winnings[nn] = CashAtEnd - Flips\n",
    "\n",
    "    # capture the number of flips\n",
    "    FlipTotal[nn] = Flips\n",
    "\n",
    "# Summarize results for the simulation\n",
    "print(\"The average amount won is \" + dollar_print(np.mean(Winnings)))\n",
    "print(\"The standard deviation of the winnings is \" + dollar_print(np.std(Winnings)))\n",
    "print(\"The minimum amount won is \" + dollar_print(np.min(Winnings)))\n",
    "print(\"The maximum amount won is \" + dollar_print(np.max(Winnings)))\n",
    "\n",
    "p = np.sum(Winnings > 0) / SimSize\n",
    "print(f\"\\nThe probability of winning money is {p:.3f}.\")\n",
    "\n",
    "print(f\"\\nThe average number of flips is {np.mean(FlipTotal):.1f}\")\n",
    "print(f\"The minimum number of flips is {np.min(FlipTotal):.0f}\")\n",
    "print(f\"The maximum number of flips is {np.max(FlipTotal):.0f}\")\n",
    "\n",
    "plt.figure(figsize=(10,8))\n",
    "\n",
    "# display Winnings in a histogram\n",
    "plt.subplot(211)\n",
    "plt.hist(Winnings, color=\"g\")\n",
    "plt.ylabel('Frequency')\n",
    "\n",
    "# display Winnings in a boxplot\n",
    "plt.subplot(212)\n",
    "plt.boxplot(Winnings, vert=False)\n",
    "plt.xlabel('Winnings')"
   ]
  },
  {
   "cell_type": "markdown",
   "metadata": {
    "collapsed": false,
    "hidden": true
   },
   "source": [
    "## Textbook Problem 20.6-3"
   ]
  },
  {
   "cell_type": "markdown",
   "metadata": {
    "collapsed": false,
    "hidden": true
   },
   "source": [
    "The Avery Co. factory has been having a maintenance problem with the control panel for one of its production processes. This control panel contains four identical electromechanical relays that have been the cause of the trouble. The problem is that the relays fail fairly frequently, thereby forcing the control panel (and the production process it controls) to be shut down while a replacement is made. The current practice is to replace the relays only when they fail. \n",
    "\n",
    "The average total cost of doing this has been \\$3.19 per hour. To attempt to reduce this cost, a proposal has been made to replace all four relays whenever any one of them fails to reduce the frequency with which the control panel must be shut down. Would this actually reduce the cost?\n",
    "\n",
    "The pertinent data are the following. For each relay, the operating time until failure has approximately a uniform distribution from 1,000 to 2,000 hours. The control panel must be shut down for one hour to replace one relay or for two hours to replace all four relays. The total cost associated with shutting down the control panel and replacing relays is \\$1,000 per hour plus \\$200 for each new relay.\n",
    "\n",
    "Use simulation on a spreadsheet to evaluate the cost of the proposal and compare it to the current practice. Perform 1,000 trials (where the end of each trial coincides with the end of a shutdown of the control panel) and determine the average cost per hour."
   ]
  },
  {
   "cell_type": "code",
   "execution_count": 12,
   "metadata": {
    "collapsed": false,
    "hidden": true
   },
   "outputs": [
    {
     "name": "stdout",
     "output_type": "stream",
     "text": [
      "The average cost is $2.35\n",
      "The standard deviation of the cost is $0.30\n"
     ]
    },
    {
     "data": {
      "text/plain": [
       "Text(0.5, 0, 'Cost Per Hour')"
      ]
     },
     "execution_count": 12,
     "metadata": {
     },
     "output_type": "execute_result"
    },
    {
     "data": {
      "image/png": "[encoded data removed]",
      "text/plain": [
       "<Figure size 576x360 with 1 Axes>"
      ]
     },
     "execution_count": 12,
     "metadata": {
      "image/png": {
       "height": 316,
       "width": 500
      }
     },
     "output_type": "execute_result"
    }
   ],
   "source": [
    "# Simulation for Problem 20.6-3\n",
    "\n",
    "# set.seed(8) # optional - specify a seed to reproduce the simulation exactly\n",
    "SimSize=1000 # set number of trials in the simulation\n",
    "\n",
    "# Generate rondom observations for the 4 relays for the entire simultion\n",
    "relay1 = np.random.uniform(low=1000, high=2000, size=SimSize)\n",
    "relay2 = np.random.uniform(low=1000, high=2000, size=SimSize)\n",
    "relay3 = np.random.uniform(low=1000, high=2000, size=SimSize)\n",
    "relay4 = np.random.uniform(low=1000, high=2000, size=SimSize)\n",
    "\n",
    "# create an array of failure times\n",
    "failures = np.array([relay1,relay2,relay3,relay4])\n",
    "\n",
    "# find the min of each column, which is the time to first failure (TTFF)\n",
    "TTFF = np.amin(failures,axis=0) \n",
    "\n",
    "# time to replace all 4 relays is 2 hours, a constant here\n",
    "RepairTime = 2\n",
    "\n",
    "# compure total time, time to failure plus the repair time\n",
    "TotalTime = TTFF + RepairTime\n",
    "\n",
    "# compute the total cost $1000/hr for 2 hours, $200/relay for 4 relays, constant\n",
    "TotalCost = 1000*2+200*4\n",
    "\n",
    "# compute the cost per hour\n",
    "CostPerHour = TotalCost/TotalTime\n",
    "\n",
    "# Summarize results for the simulation\n",
    "# we're using dollar_print() defined in the previous cel\n",
    "\n",
    "print(f\"The average cost is \" + dollar_print(np.mean(CostPerHour)))\n",
    "print(f\"The standard deviation of the cost is \" + dollar_print(np.std(CostPerHour)))\n",
    "\n",
    "# compare CostPerHour to the current cost of $3.19\n",
    "plt.figure(figsize=(8,5))\n",
    "\n",
    "# display Winnings in a histogram\n",
    "plt.hist(CostPerHour, color=\"sienna\")\n",
    "plt.ylabel('Frequency')\n",
    "plt.xlabel('Cost Per Hour')"
   ]
  },
  {
   "cell_type": "markdown",
   "metadata": {
    "collapsed": false,
    "hidden": true
   },
   "source": [
    "The average cost per hour is near \\$2.37 per hour, which is well below the current average of \\$3.19 per hour.  In fact, even the maximum cost per hour of the 1000 replications in the simulation is less than the \\$3.19 per hour, so clearly the policy of replacing all four relays when the any one of them fails is more cost-effective.  "
   ]
  },
  {
   "cell_type": "markdown",
   "metadata": {
    "collapsed": false
   },
   "source": [
    "# Further Analysis of Simulation Results"
   ]
  },
  {
   "cell_type": "markdown",
   "metadata": {
    "collapsed": false
   },
   "source": [
    "## Parameter Analysis and Trend Charts "
   ]
  },
  {
   "cell_type": "markdown",
   "metadata": {
    "collapsed": false
   },
   "source": [
    "The **Freddy the Newsboy** simulation on pp. 923-939 of the Hillier textbook is constructed below in the next Python code cell."
   ]
  },
  {
   "cell_type": "markdown",
   "metadata": {
    "collapsed": false
   },
   "source": [
    "### Freddie the Newsboy Simulation"
   ]
  },
  {
   "cell_type": "code",
   "execution_count": 13,
   "metadata": {
    "collapsed": false
   },
   "outputs": [
    {
     "name": "stdout",
     "output_type": "stream",
     "text": [
      "The average profit is $45.80\n",
      "The standard deviation of the profit is $13.67\n"
     ]
    },
    {
     "data": {
      "image/png": "[encoded data removed]",
      "text/plain": [
       "<Figure size 576x360 with 1 Axes>"
      ]
     },
     "execution_count": 13,
     "metadata": {
      "image/png": {
       "height": 316,
       "width": 506
      }
     },
     "output_type": "execute_result"
    }
   ],
   "source": [
    "# Freddie the Newsboy Simulation\n",
    "\n",
    "# np.random.seed(seed=123) # optional - specify a seed to reproduce the simulation exactly\n",
    "sim_size = 10000  # set number of trials in the simulation\n",
    "\n",
    "# establish the constants in the simulation\n",
    "unit_sale_price = 2.50\n",
    "unit_purchase_cost = 1.50\n",
    "unit_salvage_value = 0.50\n",
    "\n",
    "def profit_simulator(qty):\n",
    "    order_quantity = np.full(sim_size, qty)\n",
    "    demand = np.random.randint(low=40, high=70, size=sim_size)\n",
    "    sales_revenue = unit_sale_price * np.minimum(order_quantity, demand)\n",
    "    purchasing_cost = unit_purchase_cost * order_quantity\n",
    "    salvage_value = unit_salvage_value * np.maximum(order_quantity - demand,\n",
    "                                                    np.zeros(sim_size))\n",
    "    profit_sim = sales_revenue - purchasing_cost + salvage_value\n",
    "    return (profit_sim)\n",
    "\n",
    "profit = profit_simulator(60)\n",
    "\n",
    "# summarize results (using dollar_print defined two cells ago)\n",
    "print(f\"The average profit is \" + dollar_print(np.mean(profit)) )\n",
    "print(f\"The standard deviation of the profit is \" + dollar_print(np.std(profit)))\n",
    "\n",
    "# display Winnings in a histogram\n",
    "fig, ax = plt.subplots(figsize=(8, 5));\n",
    "ax.hist(profit);\n",
    "plt.ylabel('Frequency');\n",
    "plt.xlabel('Profit');"
   ]
  },
  {
   "cell_type": "markdown",
   "metadata": {
    "collapsed": false
   },
   "source": [
    "### Freddie the Newsboy Simulation with Parameter Analysis for Order Quantity"
   ]
  },
  {
   "cell_type": "code",
   "execution_count": 14,
   "metadata": {
    "collapsed": false
   },
   "outputs": [
    {
     "data": {
      "text/html": [
       "<div>\n",
       "<style scoped>\n",
       "    .dataframe tbody tr th:only-of-type {\n",
       "        vertical-align: middle;\n",
       "    }\n",
       "\n",
       "    .dataframe tbody tr th {\n",
       "        vertical-align: top;\n",
       "    }\n",
       "\n",
       "    .dataframe thead th {\n",
       "        text-align: right;\n",
       "    }\n",
       "</style>\n",
       "<table border=\"1\" class=\"dataframe\">\n",
       "  <thead>\n",
       "    <tr style=\"text-align: right;\">\n",
       "      <th></th>\n",
       "      <th>OrderQuantity</th>\n",
       "      <th>MeanProfit</th>\n",
       "      <th>Pctl_05</th>\n",
       "      <th>Pctl_95</th>\n",
       "    </tr>\n",
       "  </thead>\n",
       "  <tbody>\n",
       "    <tr>\n",
       "      <th>0</th>\n",
       "      <td>40</td>\n",
       "      <td>40.0000</td>\n",
       "      <td>40.0</td>\n",
       "      <td>40.0</td>\n",
       "    </tr>\n",
       "    <tr>\n",
       "      <th>1</th>\n",
       "      <td>45</td>\n",
       "      <td>44.0274</td>\n",
       "      <td>37.0</td>\n",
       "      <td>45.0</td>\n",
       "    </tr>\n",
       "    <tr>\n",
       "      <th>2</th>\n",
       "      <td>50</td>\n",
       "      <td>46.3506</td>\n",
       "      <td>32.0</td>\n",
       "      <td>50.0</td>\n",
       "    </tr>\n",
       "    <tr>\n",
       "      <th>3</th>\n",
       "      <td>55</td>\n",
       "      <td>46.9310</td>\n",
       "      <td>27.0</td>\n",
       "      <td>55.0</td>\n",
       "    </tr>\n",
       "    <tr>\n",
       "      <th>4</th>\n",
       "      <td>60</td>\n",
       "      <td>45.9950</td>\n",
       "      <td>22.0</td>\n",
       "      <td>60.0</td>\n",
       "    </tr>\n",
       "    <tr>\n",
       "      <th>5</th>\n",
       "      <td>65</td>\n",
       "      <td>43.0356</td>\n",
       "      <td>17.0</td>\n",
       "      <td>65.0</td>\n",
       "    </tr>\n",
       "    <tr>\n",
       "      <th>6</th>\n",
       "      <td>70</td>\n",
       "      <td>39.0022</td>\n",
       "      <td>12.0</td>\n",
       "      <td>66.0</td>\n",
       "    </tr>\n",
       "  </tbody>\n",
       "</table>\n",
       "</div>"
      ],
      "text/plain": [
       "   OrderQuantity  MeanProfit  Pctl_05  Pctl_95\n",
       "0             40     40.0000     40.0     40.0\n",
       "1             45     44.0274     37.0     45.0\n",
       "2             50     46.3506     32.0     50.0\n",
       "3             55     46.9310     27.0     55.0\n",
       "4             60     45.9950     22.0     60.0\n",
       "5             65     43.0356     17.0     65.0\n",
       "6             70     39.0022     12.0     66.0"
      ]
     },
     "execution_count": 14,
     "metadata": {
     },
     "output_type": "execute_result"
    }
   ],
   "source": [
    "# Freddie the Newsboy Simulation with Parameter Analysis for Order Quantity\n",
    "# simulation constants and sim_size defined in previous cell\n",
    "\n",
    "def profit_stats(qty):\n",
    "    # input: qty = order quantity\n",
    "    # output: [mean profit, 5th percentile, 95th percentile]\n",
    "    profit = profit_simulator(qty)\n",
    "    mean_profit = np.mean(profit)\n",
    "    [lower, upper] = np.quantile(profit, [.05, .95])\n",
    "    return ((mean_profit, lower, upper))\n",
    "\n",
    "order_quantity = np.arange(40, 71, 5)  # need to go over 70 to include 70\n",
    "num_quantities = len(order_quantity)\n",
    "mean_profit = np.zeros(num_quantities)\n",
    "pctl_05 = np.zeros(num_quantities)\n",
    "pctl_95 = np.zeros(num_quantities)\n",
    "\n",
    "# collect simulation results for all order quantites\n",
    "for i in range(num_quantities):\n",
    "    mean_profit[i], pctl_05[i], pctl_95[i] = profit_stats(order_quantity[i])\n",
    "\n",
    "# put results in dataframe for nice display and plotting in next cell\n",
    "df = pd.DataFrame({\n",
    "    'OrderQuantity': order_quantity,\n",
    "    'MeanProfit': mean_profit,\n",
    "    'Pctl_05': pctl_05,\n",
    "    'Pctl_95': pctl_95\n",
    "})\n",
    "display(df)"
   ]
  },
  {
   "cell_type": "code",
   "execution_count": 15,
   "metadata": {
    "collapsed": false
   },
   "outputs": [
    {
     "data": {
      "image/png": "[encoded data removed]",
      "text/plain": [
       "<Figure size 432x360 with 1 Axes>"
      ]
     },
     "execution_count": 15,
     "metadata": {
      "image/png": {
       "height": 334,
       "width": 385
      }
     },
     "output_type": "execute_result"
    }
   ],
   "source": [
    "# plot results and trend chart showing middle 90% of simulated profits for each order quantity\n",
    "fig, ax = plt.subplots(figsize=(6, 5))\n",
    "ax.plot('OrderQuantity','MeanProfit',data=df, linestyle='-', marker='o');\n",
    "plt.xlabel('Order Quantity', fontsize=12);\n",
    "plt.ylabel('Mean Profit', fontsize=12);\n",
    "plt.title(\"Trend Chart\");\n",
    "ax.fill_between('OrderQuantity','Pctl_05','Pctl_95',data=df,color=\"#b9cfe7\", edgecolor=\"#b9cfe7\");"
   ]
  },
  {
   "cell_type": "markdown",
   "metadata": {
    "collapsed": false
   },
   "source": [
    "## Optimization Within a Simulation"
   ]
  },
  {
   "cell_type": "markdown",
   "metadata": {
    "collapsed": false
   },
   "source": [
    "### Freddie the Newsboy: find maximum average profit"
   ]
  },
  {
   "cell_type": "code",
   "execution_count": 16,
   "metadata": {
    "collapsed": false
   },
   "outputs": [
    {
     "name": "stdout",
     "output_type": "stream",
     "text": [
      "The maximum average profit is approximately $47.16\n",
      "The optimal order quantity is approximately 54\n"
     ]
    }
   ],
   "source": [
    "# find maximum average profit\n",
    "# results will vary slightly on each run\n",
    "\n",
    "# to maximize we minimize the negative profit\n",
    "def neg_mean_profit( qty ):\n",
    "    return( -profit_stats(qty)[0] ) # simulate stats and return just mean\n",
    "\n",
    "result = minimize_scalar(neg_mean_profit,bounds=[40,70],method='bounded')\n",
    "\n",
    "# summarize results\n",
    "print(\"The maximum average profit is approximately \" + dollar_print(-result['fun']))\n",
    "print(f\"The optimal order quantity is approximately {result['x']:.0f}\")"
   ]
  },
  {
   "cell_type": "markdown",
   "metadata": {
    "collapsed": false,
    "heading_collapsed": true
   },
   "source": [
    "# More Self-Assessment"
   ]
  },
  {
   "cell_type": "markdown",
   "metadata": {
    "collapsed": false,
    "hidden": true
   },
   "source": [
    "## *Self-Assessment: Simulation Results*"
   ]
  },
  {
   "cell_type": "markdown",
   "metadata": {
    "collapsed": false,
    "hidden": true
   },
   "source": [
    "True or False: Simulations provide exact results just like analytical methods."
   ]
  },
  {
   "cell_type": "markdown",
   "metadata": {
    "collapsed": false,
    "hidden": true
   },
   "source": [
    "## *Self-Assessment: Simulating Outcomes*"
   ]
  },
  {
   "cell_type": "markdown",
   "metadata": {
    "collapsed": false,
    "hidden": true
   },
   "source": [
    "An algorithm that produces sequences of numbers that follow a specified probability distribution and possess the appearance of randomness is a\n",
    " \n",
    "a. warm-up period.\n",
    "\n",
    "b. simulation clock.\n",
    "\n",
    "c. financial risk analysis.\n",
    "\n",
    "d. random number generator. \n",
    "\n",
    "e. continuous simulation.\n"
   ]
  },
  {
   "cell_type": "code",
   "execution_count": 0,
   "metadata": {
    "collapsed": false
   },
   "outputs": [
   ],
   "source": [
   ]
  },
  {
   "cell_type": "markdown",
   "metadata": {
    "collapsed": false,
    "hidden": true
   },
   "source": [
    "## *Self-Assessment: Random Variables in Simulation*"
   ]
  },
  {
   "cell_type": "markdown",
   "metadata": {
    "collapsed": false,
    "hidden": true
   },
   "source": [
    "True or False: If the distribution of a random variable in a simulation is unknown, then a normal distribution should always be used. "
   ]
  },
  {
   "cell_type": "markdown",
   "metadata": {
    "collapsed": false,
    "hidden": true
   },
   "source": [
    "## *Self-Assessment: Simulation Reproducibility*"
   ]
  },
  {
   "cell_type": "markdown",
   "metadata": {
    "collapsed": false,
    "hidden": true
   },
   "source": [
    "Simulation results can be reproduced exactly by running the simulation again using the same\n",
    "\n",
    "a. seed.\n",
    "\n",
    "b. computer.\n",
    "\n",
    "c. plant.\n",
    "\n",
    "d. method of random number generation.\n",
    "\n",
    "e. simulation clock."
   ]
  }
 ],
 "metadata": {
  "kernelspec": {
   "display_name": "Python 3 (system-wide)",
   "language": "python",
   "metadata": {
    "cocalc": {
     "description": "Python 3 programming language",
     "priority": 100,
     "url": "https://www.python.org/"
    }
   },
   "name": "python3",
   "resource_dir": "/ext/jupyter/kernels/python3"
  },
  "language_info": {
   "codemirror_mode": {
    "name": "ipython",
    "version": 3
   },
   "file_extension": ".py",
   "mimetype": "text/x-python",
   "name": "python",
   "nbconvert_exporter": "python",
   "pygments_lexer": "ipython3",
   "version": "3.8.10"
  },
  "toc": {
   "base_numbering": 1,
   "nav_menu": {
   },
   "number_sections": true,
   "sideBar": true,
   "skip_h1_title": false,
   "title_cell": "Table of Contents",
   "title_sidebar": "Contents",
   "toc_cell": false,
   "toc_position": {
    "height": "calc(100% - 180px)",
    "left": "10px",
    "top": "150px",
    "width": "222.358px"
   },
   "toc_section_display": true,
   "toc_window_display": true
  }
 },
 "nbformat": 4,
 "nbformat_minor": 4
}