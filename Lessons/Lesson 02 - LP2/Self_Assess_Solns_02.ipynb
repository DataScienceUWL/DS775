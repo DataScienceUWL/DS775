{
 "cells": [
  {
   "cell_type": "markdown",
   "metadata": {
    "collapsed": false
   },
   "source": [
    "<font size=18>Lesson 02 - Self-Assessment Solutions</font>"
   ]
  },
  {
   "cell_type": "markdown",
   "metadata": {
    "collapsed": false,
    "heading_collapsed": true
   },
   "source": [
    "# *Self Assessment: Investment Allocation*"
   ]
  },
  {
   "cell_type": "code",
   "execution_count": 1,
   "metadata": {
    "collapsed": false,
    "hidden": true
   },
   "outputs": [
    {
     "name": "stdout",
     "output_type": "stream",
     "text": [
      "Maximum Profit = $12,000.00\n",
      "Batches of Friend1 = 0.67\n",
      "Batches of Friend2 = 0.67\n"
     ]
    }
   ],
   "source": [
    "from pyomo.environ import *\n",
    "\n",
    "### PROBLEM DATA ###\n",
    "\n",
    "# Load Data\n",
    "friends = ['Friend1', 'Friend2']\n",
    "constraints = ['Fraction1','Fraction2','Money','Work_Hours']\n",
    "profits = [9000, 9000]\n",
    "rhs = [1,1,12000,600]\n",
    "coef = [ [1,0], [0,1], [10000,8000], [400,500]]\n",
    "\n",
    "# parse into dictionaries\n",
    "profit_rate = dict( zip( friends, profits) )\n",
    "constraint_rhs = dict( zip( constraints, rhs) )\n",
    "constraint_coef = { c: {f: coef[i][j] for j,f in enumerate(friends)} for i,c in enumerate(constraints)}\n",
    "\n",
    "### MODEL CONSTRUCTION ###\n",
    "\n",
    "# Declaration\n",
    "model = ConcreteModel()\n",
    "\n",
    "# Decision Variables\n",
    "model.invest_frac = Var(friends, domain=NonNegativeReals)\n",
    "\n",
    "# Objective\n",
    "model.profit = Objective(expr=sum(profit_rate[f] * model.invest_frac[f]\n",
    "                               for f in friends),\n",
    "                      sense=maximize)\n",
    "\n",
    "# Constraints\n",
    "model.constraints = ConstraintList()\n",
    "for c in constraints:\n",
    "    model.constraints.add(\n",
    "        sum(constraint_coef[c][f] * model.invest_frac[f]\n",
    "            for f in friends) <= constraint_rhs[c])\n",
    "\n",
    "### SOLUTION ###\n",
    "solver = SolverFactory('glpk')\n",
    "solver.solve(model)\n",
    "\n",
    "### OUTPUT ###\n",
    "print(f\"Maximum Profit = ${model.profit():,.2f}\")\n",
    "\n",
    "for f in friends:\n",
    "    print(f\"Batches of {f} = {model.invest_frac[f]():.2f}\")"
   ]
  },
  {
   "cell_type": "markdown",
   "metadata": {
    "collapsed": false,
    "heading_collapsed": true
   },
   "source": [
    "# *Self Assessment: A Holiday Factory*"
   ]
  },
  {
   "cell_type": "code",
   "execution_count": 2,
   "metadata": {
    "collapsed": false,
    "hidden": true
   },
   "outputs": [
    {
     "name": "stdout",
     "output_type": "stream",
     "text": [
      "Total Cost = $1,125,000.00\n",
      "\n",
      "Here are the amounts to lease by month and duration:\n",
      "Lease 2000 sq ft in month 1 for 11 months\n",
      "Lease 1000 sq ft in month 3 for 9 months\n",
      "Lease 1000 sq ft in month 4 for 8 months\n",
      "Lease 1000 sq ft in month 5 for 6 months\n",
      "Lease 1000 sq ft in month 5 for 7 months\n",
      "Lease 1000 sq ft in month 6 for 3 months\n",
      "Lease 2000 sq ft in month 6 for 4 months\n",
      "Lease 1000 sq ft in month 6 for 5 months\n"
     ]
    }
   ],
   "source": [
    "from pyomo.environ import *\n",
    "import pandas as pd\n",
    "\n",
    "### PROBLEM DATA ###\n",
    "\n",
    "# Load Data\n",
    "num_months = 11\n",
    "max_duration = 11\n",
    "months = range(1, num_months + 1)\n",
    "durations = range(1, max_duration + 1)\n",
    "rate = [ sum( 20 - i for i in range(month) ) for month in range(1, 12) ]\n",
    "space_req =  [2000, 2000, 3000, 4000, 6000, 10000, 10000, 10000, 9000, 7000, 5000]\n",
    "\n",
    "# Parse Dictionaries\n",
    "rent = dict( zip( durations, rate))\n",
    "space = dict( zip( months, space_req))\n",
    "\n",
    "### MODEL CONSTRUCTION ###\n",
    "\n",
    "# Declaration\n",
    "model = ConcreteModel(name=\"HolidayFactory\")\n",
    "\n",
    "# Decision Variables\n",
    "model.x_sqft = Var(months, durations, domain=NonNegativeReals)\n",
    "\n",
    "# Objective\n",
    "model.obj = Objective(expr=sum(rent[d] * model.x_sqft[m, d] for m in months\n",
    "                               for d in durations))\n",
    "\n",
    "# Constraints\n",
    "model.space_ct = ConstraintList()\n",
    "for month in months:\n",
    "    model.space_ct.add(\n",
    "        sum(model.x_sqft[m, d] for m in months for d in durations\n",
    "            if m <= month and m + d > month) >= space[month])\n",
    "\n",
    "model.time_rule_ct = ConstraintList()\n",
    "for m in months:\n",
    "    for d in durations:\n",
    "        if m + d > num_months + 1:\n",
    "            model.time_rule_ct.add(model.x_sqft[m, d] == 0)\n",
    "\n",
    "### SOLUTION ###\n",
    "solver = SolverFactory('glpk')\n",
    "solver.solve(model)\n",
    "\n",
    "### OUTPUT ###\n",
    "print(f\"Total Cost = ${model.obj():,.2f}\")\n",
    "\n",
    "print(\"\\nHere are the amounts to lease by month and duration:\")\n",
    "for m in months:\n",
    "    for d in durations:\n",
    "        if model.x_sqft[m, d]() > 0:\n",
    "            print(f\"Lease {model.x_sqft[m, d]():.0f} sq ft in month {m:d} for {d:d} months\")"
   ]
  },
  {
   "cell_type": "markdown",
   "metadata": {
    "collapsed": false
   },
   "source": [
    "# *Self Assessment: Supply and Demand Problem*"
   ]
  },
  {
   "cell_type": "markdown",
   "metadata": {
    "collapsed": false
   },
   "source": [
    "Let $F$ be the set of factories and let $C$ be the set of customers.\n",
    "\n",
    "Decision Variables:  let $x_{f,c}$ be the number of units shipped from factory $f \\in F$ to customer $c \\in C$\n",
    "\n",
    "Constants:  \n",
    "- $q_{f,c}$ is the shipping cost per unit between factory $f \\in F$ and customer $c \\in C$\n",
    "- $d_c$ is the number of units demanded by customer $c \\in C$\n",
    "- $s_f$ is the number of units supplied by factory $f \\in F$\n",
    "\n",
    "Objective Function:  minimize $ Cost = \\displaystyle \\sum_{f \\in F} \\sum_{c \\in C} q_{f,c} x_{f,c}$\n",
    "\n",
    "Constraints:\n",
    "- Supply: $ \\displaystyle \\sum_{c \\in C} x_{f,c} = s_f, \\mbox{ for each } f \\in F$\n",
    "- Demand: $ \\displaystyle \\sum_{f \\in F} x_{f,c} = d_c, \\mbox{ for each } c \\in C$\n",
    "- Nonnegativity: $x_{f,c} \\geq 0$ for each $f \\in F, c \\in C$"
   ]
  },
  {
   "cell_type": "code",
   "execution_count": 3,
   "metadata": {
    "collapsed": false,
    "scrolled": true
   },
   "outputs": [
    {
     "name": "stdout",
     "output_type": "stream",
     "text": [
      "Minimum Total Cost = $540,000.00\n",
      "Number to ship from each factory to each customer:\n"
     ]
    },
    {
     "data": {
      "text/html": [
       "<div>\n",
       "<style scoped>\n",
       "    .dataframe tbody tr th:only-of-type {\n",
       "        vertical-align: middle;\n",
       "    }\n",
       "\n",
       "    .dataframe tbody tr th {\n",
       "        vertical-align: top;\n",
       "    }\n",
       "\n",
       "    .dataframe thead th {\n",
       "        text-align: right;\n",
       "    }\n",
       "</style>\n",
       "<table border=\"1\" class=\"dataframe\">\n",
       "  <thead>\n",
       "    <tr style=\"text-align: right;\">\n",
       "      <th></th>\n",
       "      <th>cust1</th>\n",
       "      <th>cust2</th>\n",
       "      <th>cust3</th>\n",
       "    </tr>\n",
       "  </thead>\n",
       "  <tbody>\n",
       "    <tr>\n",
       "      <th>factory1</th>\n",
       "      <td>0.0</td>\n",
       "      <td>200.0</td>\n",
       "      <td>200.0</td>\n",
       "    </tr>\n",
       "    <tr>\n",
       "      <th>factory2</th>\n",
       "      <td>300.0</td>\n",
       "      <td>0.0</td>\n",
       "      <td>200.0</td>\n",
       "    </tr>\n",
       "  </tbody>\n",
       "</table>\n",
       "</div>"
      ],
      "text/plain": [
       "          cust1  cust2  cust3\n",
       "factory1    0.0  200.0  200.0\n",
       "factory2  300.0    0.0  200.0"
      ]
     },
     "execution_count": 3,
     "metadata": {
     },
     "output_type": "execute_result"
    }
   ],
   "source": [
    "from pyomo.environ import *\n",
    "import pandas as pd\n",
    "\n",
    "### PROBLEM DATA\n",
    "\n",
    "# Load Data\n",
    "factories = ['factory1', 'factory2']\n",
    "customers = ['cust1', 'cust2', 'cust3']\n",
    "usc = [[600, 800, 700], [400, 900, 600]]\n",
    "sup = [400, 500]\n",
    "dem = [300, 200, 400]\n",
    "\n",
    "# Parse into Dictionaries\n",
    "supply = dict(zip(factories, sup))\n",
    "demand = dict(zip(customers, dem))\n",
    "unit_ship_cost = { f:{ c:usc[i][j] for j,c in enumerate(customers)} for i,f in enumerate(factories)}\n",
    "\n",
    "### MODEL CONSTRUCTION ###\n",
    "\n",
    "# Declaration\n",
    "model = ConcreteModel()\n",
    "\n",
    "# Decision Variables\n",
    "model.transp = Var(factories, customers, domain=NonNegativeReals)\n",
    "\n",
    "# Objective\n",
    "model.total_cost = Objective(expr=sum(unit_ship_cost[f][c] * model.transp[f, c]\n",
    "                                      for f in factories for c in customers),\n",
    "                             sense=minimize)\n",
    "\n",
    "# Constraints\n",
    "model.supply_ct = ConstraintList()\n",
    "for f in factories:\n",
    "    model.supply_ct.add(\n",
    "        sum(model.transp[f, c] for c in customers) == supply[f])\n",
    "\n",
    "model.demand_ct = ConstraintList()\n",
    "for c in customers:\n",
    "    model.demand_ct.add(\n",
    "        sum(model.transp[f, c] for f in factories) == demand[c])\n",
    "\n",
    "### SOLUTION ###\n",
    "solver = SolverFactory('glpk')\n",
    "solver.solve(model)\n",
    "\n",
    "### OUTPUT ###\n",
    "print(f\"Minimum Total Cost = ${model.total_cost():,.2f}\")\n",
    "\n",
    "# dataframes are displayed nicely in Jupyter\n",
    "dvars = pd.DataFrame([[model.transp[f, c]() for c in customers]\n",
    "                      for f in factories],\n",
    "                     index=factories,\n",
    "                     columns=customers)\n",
    "print(\"Number to ship from each factory to each customer:\")\n",
    "dvars"
   ]
  },
  {
   "cell_type": "markdown",
   "metadata": {
    "collapsed": false,
    "heading_collapsed": true
   },
   "source": [
    "# *Self Assessment: Positive Shadow Price*"
   ]
  },
  {
   "cell_type": "markdown",
   "metadata": {
    "collapsed": false,
    "hidden": true
   },
   "source": [
    "Answer: True"
   ]
  },
  {
   "cell_type": "markdown",
   "metadata": {
    "collapsed": false,
    "heading_collapsed": true
   },
   "source": [
    "# *Self Assessment: Allowable Range (Objective Coef)*"
   ]
  },
  {
   "cell_type": "markdown",
   "metadata": {
    "collapsed": false,
    "hidden": true
   },
   "source": [
    "Answer: True"
   ]
  },
  {
   "cell_type": "markdown",
   "metadata": {
    "collapsed": false,
    "heading_collapsed": true
   },
   "source": [
    "# *Self Assessment: Changing Parameters*"
   ]
  },
  {
   "cell_type": "markdown",
   "metadata": {
    "collapsed": false,
    "hidden": true
   },
   "source": [
    "Answer: False"
   ]
  },
  {
   "cell_type": "markdown",
   "metadata": {
    "collapsed": false,
    "heading_collapsed": true
   },
   "source": [
    "# *Self Assessment: Graphical Exploration of Sensitivity*"
   ]
  },
  {
   "cell_type": "markdown",
   "metadata": {
    "collapsed": false,
    "hidden": true
   },
   "source": [
    "(a) Optimal $Z=22$ occurs when $x=6$ and $y=2$.\n",
    "\n",
    "<img src=\"images/HW_exploration_a.png\" width=\"640\"> \n",
    "\n",
    "(b) Shadow price $=23-22=1$. The new optimal is $Z=23$ with coordinates $x=4$ and $y=3$.\n",
    "\n",
    "<img src=\"images/HW_exploration_b.png\" width=\"640\"> \n",
    "\n",
    "(c) The allowable range for resource 2 is $10 \\leq b_2 \\leq 15$. \n",
    "\n",
    "The lower bound is 10, as shown here.\n",
    "\n",
    "<img src=\"images/HW_exploration_c2.png\" width=\"640\"> \n",
    "\n",
    "The upper bound is 15, as shown here.\n",
    "\n",
    "<img src=\"images/HW_exploration_c1.png\" width=\"640\"> \n",
    "\n",
    "(d) The allowable range for the unit profit of activity 2 is $4 \\leq c_2 \\leq 6$. \n",
    "\n",
    "The lower bound is 4, as shown here.\n",
    "\n",
    "<img src=\"images/HW_exploration_d2.png\" width=\"640\"> \n",
    "\n",
    "The upper bound is 6, as shown here.\n",
    "\n",
    "<img src=\"images/HW_exploration_d1.png\" width=\"640\"> "
   ]
  },
  {
   "cell_type": "markdown",
   "metadata": {
    "collapsed": false,
    "heading_collapsed": true
   },
   "source": [
    "# *Self-Assessment: Solve and Perform Sensitivity*"
   ]
  },
  {
   "cell_type": "markdown",
   "metadata": {
    "collapsed": false,
    "hidden": true
   },
   "source": [
    "(c) See the code in the following cells and the associated output.\n",
    "\n",
    "(b) From the column labeled \"Marginal\" in the top table of the GLPK sensitivity report below, the shadow prices are 0.667 for resource 1 and 1 for resource 2."
   ]
  },
  {
   "cell_type": "code",
   "execution_count": 4,
   "metadata": {
    "collapsed": false,
    "hidden": true
   },
   "outputs": [
    {
     "name": "stdout",
     "output_type": "stream",
     "text": [
      "Maximum Z = 52.0\n",
      "x1 = 11.0\n",
      "x2 = 0.0\n",
      "x3 = 3.0\n",
      "x4 = 0.0\n"
     ]
    }
   ],
   "source": [
    "from pyomo.environ import *\n",
    "\n",
    "### PROBLEM DATA ###\n",
    "\n",
    "# load data\n",
    "var_names = ['x1', 'x2', 'x3', 'x4']\n",
    "con_names = ['con1', 'con2']\n",
    "obj_coef = [5, 4, -1, 3]\n",
    "con_coef = [ [3, 2, -3, 1], [3, 3, 1, 3] ]\n",
    "con_rhs = [24, 36]\n",
    "\n",
    "# parse into dictionaries\n",
    "obj_coef_dict = dict( zip( var_names, obj_coef) )\n",
    "con_coef_dict = { c: {v: con_coef[i][j] for j,v in enumerate(var_names) } for i,c in enumerate(con_names)}\n",
    "con_rhs_dict = dict( zip( con_names, con_rhs))\n",
    "\n",
    "### MODEL CONSTRUCTION ###\n",
    "\n",
    "# declaration\n",
    "model = ConcreteModel(name = \"Generic\")\n",
    "\n",
    "# Decision Variables\n",
    "model.x = Var( var_names, domain = NonNegativeReals)\n",
    "\n",
    "# Objective\n",
    "model.obj = Objective( expr = sum( obj_coef_dict[v] * model.x[v] for v in var_names), sense = maximize)\n",
    "\n",
    "# Constraints\n",
    "model.cts = ConstraintList()\n",
    "for c in con_names:\n",
    "    model.cts.add( sum( con_coef_dict[c][v] * model.x[v] for v in var_names) <= con_rhs_dict[c] )\n",
    "\n",
    "\n",
    "### SOLUTION ###\n",
    "solver = SolverFactory('glpk')\n",
    "solver.solve(model)\n",
    "\n",
    "### OUTPUT ###\n",
    "print(f\"Maximum Z = {model.obj()}\")\n",
    "for v in var_names:\n",
    "    print(f\"{v} = {model.x[v]()}\")"
   ]
  },
  {
   "cell_type": "code",
   "execution_count": 5,
   "metadata": {
    "collapsed": false,
    "hidden": true
   },
   "outputs": [
    {
     "name": "stdout",
     "output_type": "stream",
     "text": [
      "GLPSOL: GLPK LP/MIP Solver, v4.65\r\n",
      "Parameter(s) specified in the command line:\r\n",
      " -m model.lp --lp --ranges sensit.sen\r\n",
      "Reading problem data from 'model.lp'...\r\n",
      "3 rows, 5 columns, 9 non-zeros\r\n",
      "34 lines were read\r\n",
      "GLPK Simplex Optimizer, v4.65\r\n",
      "3 rows, 5 columns, 9 non-zeros\r\n",
      "Preprocessing...\r\n",
      "2 rows, 4 columns, 8 non-zeros\r\n",
      "Scaling...\r\n",
      " A: min|aij| =  1.000e+00  max|aij| =  3.000e+00  ratio =  3.000e+00\r\n",
      "Problem data seem to be well scaled\r\n",
      "Constructing initial basis...\r\n",
      "Size of triangular part is 2\r\n",
      "*     0: obj =  -0.000000000e+00 inf =   0.000e+00 (3)\r\n",
      "*     2: obj =   5.200000000e+01 inf =   0.000e+00 (0)\r\n",
      "OPTIMAL LP SOLUTION FOUND\r\n",
      "Time used:   0.0 secs\r\n",
      "Memory used: 0.0 Mb (40412 bytes)\r\n",
      "Write sensitivity analysis report to 'sensit.sen'...\r\n"
     ]
    }
   ],
   "source": [
    "# write the model to a sensitivity report\n",
    "model.write('model.lp', io_options={'symbolic_solver_labels': True})\n",
    "!glpsol -m model.lp --lp --ranges sensit.sen"
   ]
  },
  {
   "cell_type": "code",
   "execution_count": 6,
   "metadata": {
    "collapsed": false,
    "hidden": true
   },
   "outputs": [
    {
     "name": "stdout",
     "output_type": "stream",
     "text": [
      "GLPK 4.65 - SENSITIVITY ANALYSIS REPORT                                                                         Page   1\n",
      "\n",
      "Problem:    \n",
      "Objective:  obj = 52 (MAXimum)\n",
      "\n",
      "   No. Row name     St      Activity         Slack   Lower bound       Activity      Obj coef  Obj value at Limiting\n",
      "                                          Marginal   Upper bound          range         range   break point variable\n",
      "------ ------------ -- ------------- ------------- -------------  ------------- ------------- ------------- ------------\n",
      "     1 c_u_cts(1)_  NU      24.00000        .               -Inf     -108.00000       -.66667     -36.00000 x(x1)\n",
      "                                            .66667      24.00000       36.00000          +Inf      60.00000 x(x3)\n",
      "\n",
      "     2 c_u_cts(2)_  NU      36.00000        .               -Inf       24.00000      -1.00000      40.00000 x(x3)\n",
      "                                           1.00000      36.00000           +Inf          +Inf          +Inf\n",
      "\n",
      "     3 c_e_ONE_VAR_CONSTANT\n",
      "                    NS       1.00000        .            1.00000         .               -Inf      52.00000 ONE_VAR_CONSTANT\n",
      "                                            .            1.00000           +Inf          +Inf      52.00000\n",
      "\n",
      "GLPK 4.65 - SENSITIVITY ANALYSIS REPORT                                                                         Page   2\n",
      "\n",
      "Problem:    \n",
      "Objective:  obj = 52 (MAXimum)\n",
      "\n",
      "   No. Column name  St      Activity      Obj coef   Lower bound       Activity      Obj coef  Obj value at Limiting\n",
      "                                          Marginal   Upper bound          range         range   break point variable\n",
      "------ ------------ -- ------------- ------------- -------------  ------------- ------------- ------------- ------------\n",
      "     1 x(x1)        BS      11.00000       5.00000        .              .            4.63636      48.00000 x(x2)\n",
      "                                            .               +Inf       11.00000          +Inf          +Inf\n",
      "\n",
      "     2 x(x2)        NL        .            4.00000        .                -Inf          -Inf          +Inf\n",
      "                                           -.33333          +Inf       12.00000       4.33333      48.00000 x(x1)\n",
      "\n",
      "     3 x(x3)        BS       3.00000      -1.00000        .            -3.60000      -2.33333      48.00000 x(x4)\n",
      "                                            .               +Inf       36.00000       1.66667      60.00000 c_u_cts(1)_\n",
      "\n",
      "     4 x(x4)        NL        .            3.00000        .                -Inf          -Inf          +Inf\n",
      "                                           -.66667          +Inf        6.00000       3.66667      48.00000 x(x3)\n",
      "\n",
      "     5 ONE_VAR_CONSTANT\n",
      "                    BS       1.00000        .             .             1.00000          -Inf          -Inf\n",
      "                                            .               +Inf        1.00000          +Inf          +Inf\n",
      "\n",
      "End of report\n",
      "\n"
     ]
    }
   ],
   "source": [
    "# widen browser and/or close TOC to see sensitivity report\n",
    "import numpy as np\n",
    "np.set_printoptions(linewidth=110)\n",
    "f = open('sensit.sen', 'r')\n",
    "file_contents = f.read()\n",
    "print(file_contents)\n",
    "f.close()"
   ]
  },
  {
   "cell_type": "markdown",
   "metadata": {
    "collapsed": false,
    "hidden": true
   },
   "source": [
    "Shadow Prices\n",
    "* Resource 1: 0.66667\n",
    "* Resource 2: 1.00000\n",
    "\n",
    "Allowable Range for Right Hand Side of Constraints\n",
    "* Resource 1: -108 to 36\n",
    "* Resource 2: 24 to $\\infty$\n",
    "\n",
    "\n",
    "Allowable Range Objective Function Coefficients\n",
    "* Coefficient 1: 4.63636 to $\\infty$\n",
    "* Coefficient 2: $-\\infty$ to 4.3333\n",
    "* Coefficient 3: -2.33333 to 1.66667\n",
    "* Coefficient 4: $-\\infty$ to 3.66667"
   ]
  },
  {
   "cell_type": "markdown",
   "metadata": {
    "collapsed": false,
    "heading_collapsed": true
   },
   "source": [
    "# *Self-Assessment: Formulate, Solve, and Perform Sensitivity #1*"
   ]
  },
  {
   "cell_type": "markdown",
   "metadata": {
    "collapsed": false,
    "hidden": true
   },
   "source": [
    "(a) See the code and output for the cell below.  The maximum profit is \\$3500, obtained when 2000 toys and 1000 subassemlies are produced per day.\n",
    "\n",
    "(f) From the \"Obj coef range\" in the bottom table of the GLPK sensitivty report, the allowable range of the unit profit for toys is \\$2.50 to \\$5 whereas that for subassemblies is -\\$3 to -\\$1.50."
   ]
  },
  {
   "cell_type": "code",
   "execution_count": 7,
   "metadata": {
    "collapsed": false,
    "hidden": true
   },
   "outputs": [
    {
     "name": "stdout",
     "output_type": "stream",
     "text": [
      "Maximum Profit = $3,500.00\n",
      "Daily product rate of toys = 2000\n",
      "Daily product rate of subs = 1000\n"
     ]
    }
   ],
   "source": [
    "from pyomo.environ import *\n",
    "\n",
    "### PROBLEM DATA ###\n",
    "\n",
    "# load data\n",
    "parts = ['toys','subs']\n",
    "unit_profit = [3,-2.5]\n",
    "con_names = ['subA','subB']\n",
    "con_rhs = [3000, 1000]\n",
    "con_coef = [ [2,-1], [1,-1] ]\n",
    "\n",
    "# parse dictionaries\n",
    "unit_profit_dict = dict( zip( parts, unit_profit))\n",
    "con_rhs_dict = dict( zip( con_names, con_rhs) )\n",
    "con_coef_dict = { c: {p:con_coef[i][j] for j,p in enumerate(parts)} for i,c in enumerate(con_names) }\n",
    "\n",
    "### MODEL CONSTRUCTION ###\n",
    "\n",
    "# Declaration\n",
    "model = ConcreteModel(name = \"TannerCo\")\n",
    "\n",
    "# Decision Variables\n",
    "model.x = Var( parts, domain = NonNegativeReals)\n",
    "\n",
    "# Objective\n",
    "model.obj = Objective( expr = sum( unit_profit_dict[p] * model.x[p] for p in parts), sense = maximize )\n",
    "\n",
    "# Constraints\n",
    "model.cts = ConstraintList()\n",
    "for c in con_names:\n",
    "    model.cts.add( sum( con_coef_dict[c][p] * model.x[p] for p in parts) <= con_rhs_dict[c] )\n",
    "\n",
    "### SOLUTION ###\n",
    "solver = SolverFactory('glpk')\n",
    "solver.solve(model)\n",
    "\n",
    "### OUTPUT ###\n",
    "print(f\"Maximum Profit = ${model.obj():,.2f}\")\n",
    "for p in parts:\n",
    "    print(f\"Daily product rate of {p} = {model.x[p]():.0f}\")"
   ]
  },
  {
   "cell_type": "code",
   "execution_count": 8,
   "metadata": {
    "collapsed": false,
    "hidden": true
   },
   "outputs": [
    {
     "name": "stdout",
     "output_type": "stream",
     "text": [
      "GLPSOL: GLPK LP/MIP Solver, v4.65\r\n",
      "Parameter(s) specified in the command line:\r\n",
      " -m model.lp --lp --ranges sensit.sen\r\n",
      "Reading problem data from 'model.lp'...\r\n",
      "3 rows, 3 columns, 5 non-zeros\r\n",
      "26 lines were read\r\n",
      "GLPK Simplex Optimizer, v4.65\r\n",
      "3 rows, 3 columns, 5 non-zeros\r\n",
      "Preprocessing...\r\n",
      "2 rows, 2 columns, 4 non-zeros\r\n",
      "Scaling...\r\n",
      " A: min|aij| =  1.000e+00  max|aij| =  2.000e+00  ratio =  2.000e+00\r\n",
      "Problem data seem to be well scaled\r\n",
      "Constructing initial basis...\r\n",
      "Size of triangular part is 2\r\n",
      "*     0: obj =  -0.000000000e+00 inf =   0.000e+00 (1)\r\n",
      "*     2: obj =   3.500000000e+03 inf =   0.000e+00 (0)\r\n",
      "OPTIMAL LP SOLUTION FOUND\r\n",
      "Time used:   0.0 secs\r\n",
      "Memory used: 0.0 Mb (40412 bytes)\r\n",
      "Write sensitivity analysis report to 'sensit.sen'...\r\n"
     ]
    }
   ],
   "source": [
    "# write the model to a sensitivity report\n",
    "model.write('model.lp', io_options={'symbolic_solver_labels': True})\n",
    "!glpsol -m model.lp --lp --ranges sensit.sen"
   ]
  },
  {
   "cell_type": "code",
   "execution_count": 9,
   "metadata": {
    "collapsed": false,
    "hidden": true
   },
   "outputs": [
    {
     "name": "stdout",
     "output_type": "stream",
     "text": [
      "GLPK 4.65 - SENSITIVITY ANALYSIS REPORT                                                                         Page   1\n",
      "\n",
      "Problem:    \n",
      "Objective:  obj = 3500 (MAXimum)\n",
      "\n",
      "   No. Row name     St      Activity         Slack   Lower bound       Activity      Obj coef  Obj value at Limiting\n",
      "                                          Marginal   Upper bound          range         range   break point variable\n",
      "------ ------------ -- ------------- ------------- -------------  ------------- ------------- ------------- ------------\n",
      "     1 c_u_cts(1)_  NU    3000.00000        .               -Inf     2000.00000       -.50000    3000.00000 x(subs)\n",
      "                                            .50000    3000.00000           +Inf          +Inf          +Inf\n",
      "\n",
      "     2 c_u_cts(2)_  NU    1000.00000        .               -Inf           -Inf      -2.00000          -Inf\n",
      "                                           2.00000    1000.00000     1500.00000          +Inf    4500.00000 x(subs)\n",
      "\n",
      "     3 c_e_ONE_VAR_CONSTANT\n",
      "                    NS       1.00000        .            1.00000         .               -Inf    3500.00000 ONE_VAR_CONSTANT\n",
      "                                            .            1.00000           +Inf          +Inf    3500.00000\n",
      "\n",
      "GLPK 4.65 - SENSITIVITY ANALYSIS REPORT                                                                         Page   2\n",
      "\n",
      "Problem:    \n",
      "Objective:  obj = 3500 (MAXimum)\n",
      "\n",
      "   No. Column name  St      Activity      Obj coef   Lower bound       Activity      Obj coef  Obj value at Limiting\n",
      "                                          Marginal   Upper bound          range         range   break point variable\n",
      "------ ------------ -- ------------- ------------- -------------  ------------- ------------- ------------- ------------\n",
      "     1 x(subs)      BS    1000.00000      -2.50000        .         -1000.00000      -3.00000    3000.00000 c_u_cts(1)_\n",
      "                                            .               +Inf           +Inf      -1.50000    4500.00000 c_u_cts(2)_\n",
      "\n",
      "     2 x(toys)      BS    2000.00000       3.00000        .          1000.00000       2.50000    2500.00000 c_u_cts(1)_\n",
      "                                            .               +Inf           +Inf       5.00000    7500.00000 c_u_cts(2)_\n",
      "\n",
      "     3 ONE_VAR_CONSTANT\n",
      "                    BS       1.00000        .             .             1.00000          -Inf          -Inf\n",
      "                                            .               +Inf        1.00000          +Inf          +Inf\n",
      "\n",
      "End of report\n",
      "\n"
     ]
    }
   ],
   "source": [
    "# widen browser and/or close TOC to see sensitivity report\n",
    "import numpy as np\n",
    "np.set_printoptions(linewidth=110)\n",
    "f = open('sensit.sen', 'r')\n",
    "file_contents = f.read()\n",
    "print(file_contents)\n",
    "f.close()"
   ]
  },
  {
   "cell_type": "markdown",
   "metadata": {
    "collapsed": false,
    "heading_collapsed": true
   },
   "source": [
    "# *Self-Assessment: Formulate, Solve, and Perform Sensitivity #2*"
   ]
  },
  {
   "cell_type": "markdown",
   "metadata": {
    "collapsed": false,
    "hidden": true
   },
   "source": [
    "(a) This is pretty simple.  Add an extra constraint that $x_1 \\leq 2500$.  The maximum profit is still \\$3500, obtained when 2000 toys and 1000 subassemlies are produced per day.  See the code cell below.\n",
    "\n",
    "See cells befow for parts b and f."
   ]
  },
  {
   "cell_type": "code",
   "execution_count": 10,
   "metadata": {
    "collapsed": false,
    "hidden": true
   },
   "outputs": [
    {
     "name": "stdout",
     "output_type": "stream",
     "text": [
      "Maximum Profit = $3,500.00\n",
      "Daily product rate of toys = 2000\n",
      "Daily product rate of subs = 1000\n"
     ]
    }
   ],
   "source": [
    "from pyomo.environ import *\n",
    "\n",
    "### PROBLEM DATA ###\n",
    "\n",
    "# load data\n",
    "parts = ['toys','subs']\n",
    "unit_profit = [3,-2.5]\n",
    "con_names = ['subA','subB','max_toys']\n",
    "con_rhs = [3000, 1000, 2500]\n",
    "con_coef = [ [2,-1], [1,-1], [1,0] ]\n",
    "\n",
    "# parse dictionaries\n",
    "unit_profit_dict = dict( zip( parts, unit_profit))\n",
    "con_rhs_dict = dict( zip( con_names, con_rhs) )\n",
    "con_coef_dict = { c: {p:con_coef[i][j] for j,p in enumerate(parts)} for i,c in enumerate(con_names) }\n",
    "\n",
    "### MODEL CONSTRUCTION ###\n",
    "\n",
    "# Declaration\n",
    "model = ConcreteModel(name = \"TannerCo\")\n",
    "\n",
    "# Decision Variables\n",
    "model.x = Var( parts, domain = NonNegativeReals)\n",
    "\n",
    "# Objective\n",
    "model.obj = Objective( expr = sum( unit_profit_dict[p] * model.x[p] for p in parts), sense = maximize )\n",
    "\n",
    "# Constraints\n",
    "model.cts = ConstraintList()\n",
    "for c in con_names:\n",
    "    model.cts.add( sum( con_coef_dict[c][p] * model.x[p] for p in parts) <= con_rhs_dict[c] )\n",
    "\n",
    "### SOLUTION ###\n",
    "solver = SolverFactory('glpk')\n",
    "solver.solve(model)\n",
    "\n",
    "### OUTPUT ###\n",
    "print(f\"Maximum Profit = ${model.obj():,.2f}\")\n",
    "for p in parts:\n",
    "    print(f\"Daily product rate of {p} = {model.x[p]():.0f}\")"
   ]
  },
  {
   "cell_type": "markdown",
   "metadata": {
    "collapsed": false,
    "hidden": true
   },
   "source": [
    "(b) Run the model with RHS of coefficient 1 at 3001 rather than 3000. The shadow price for subassembly A is \\$0.50, which is the maximum premium that the company should be willing to pay.  See the code in the next cell."
   ]
  },
  {
   "cell_type": "code",
   "execution_count": 11,
   "metadata": {
    "collapsed": false,
    "hidden": true
   },
   "outputs": [
    {
     "name": "stdout",
     "output_type": "stream",
     "text": [
      "Maximum Profit = $3,500.50\n",
      "Daily product rate of toys = 2001\n",
      "Daily product rate of subs = 1001\n"
     ]
    }
   ],
   "source": [
    "from pyomo.environ import *\n",
    "\n",
    "### PROBLEM DATA ###\n",
    "\n",
    "# load data\n",
    "parts = ['toys','subs']\n",
    "unit_profit = [3,-2.5]\n",
    "con_names = ['subA','subB','max_toys']\n",
    "con_rhs = [3001, 1000, 2500]\n",
    "con_coef = [ [2,-1], [1,-1], [1,0] ]\n",
    "\n",
    "# parse dictionaries\n",
    "unit_profit_dict = dict( zip( parts, unit_profit))\n",
    "con_rhs_dict = dict( zip( con_names, con_rhs) )\n",
    "con_coef_dict = { c: {p:con_coef[i][j] for j,p in enumerate(parts)} for i,c in enumerate(con_names) }\n",
    "\n",
    "### MODEL CONSTRUCTION ###\n",
    "\n",
    "# Declaration\n",
    "model = ConcreteModel(name = \"TannerCo\")\n",
    "\n",
    "# Decision Variables\n",
    "model.x = Var( parts, domain = NonNegativeReals)\n",
    "\n",
    "# Objective\n",
    "model.obj = Objective( expr = sum( unit_profit_dict[p] * model.x[p] for p in parts), sense = maximize )\n",
    "\n",
    "# Constraints\n",
    "model.cts = ConstraintList()\n",
    "for c in con_names:\n",
    "    model.cts.add( sum( con_coef_dict[c][p] * model.x[p] for p in parts) <= con_rhs_dict[c] )\n",
    "\n",
    "### SOLUTION ###\n",
    "solver = SolverFactory('glpk')\n",
    "solver.solve(model)\n",
    "\n",
    "### OUTPUT ###\n",
    "print(f\"Maximum Profit = ${model.obj():,.2f}\")\n",
    "for p in parts:\n",
    "    print(f\"Daily product rate of {p} = {model.x[p]():.0f}\")"
   ]
  },
  {
   "cell_type": "markdown",
   "metadata": {
    "collapsed": false,
    "hidden": true
   },
   "source": [
    "(f) As shown in the sensitivity report, the shadow price is \\$0.50 for subassembly A and \\$2 for subassembly B. According to the activity range, the allowable range for the right-hand side of the subassembly A constraint is 2,000 to 3,500. The allowable range for the right-hand side of the subassembly B constraint is 500 to 1,500."
   ]
  },
  {
   "cell_type": "code",
   "execution_count": 12,
   "metadata": {
    "collapsed": false,
    "hidden": true
   },
   "outputs": [
    {
     "name": "stdout",
     "output_type": "stream",
     "text": [
      "GLPSOL: GLPK LP/MIP Solver, v4.65\r\n",
      "Parameter(s) specified in the command line:\r\n",
      " -m model.lp --lp --ranges sensit.sen\r\n",
      "Reading problem data from 'model.lp'...\r\n",
      "4 rows, 3 columns, 6 non-zeros\r\n",
      "30 lines were read\r\n",
      "GLPK Simplex Optimizer, v4.65\r\n",
      "4 rows, 3 columns, 6 non-zeros\r\n",
      "Preprocessing...\r\n",
      "2 rows, 2 columns, 4 non-zeros\r\n",
      "Scaling...\r\n",
      " A: min|aij| =  1.000e+00  max|aij| =  2.000e+00  ratio =  2.000e+00\r\n",
      "Problem data seem to be well scaled\r\n",
      "Constructing initial basis...\r\n",
      "Size of triangular part is 2\r\n",
      "*     0: obj =  -0.000000000e+00 inf =   0.000e+00 (1)\r\n",
      "*     2: obj =   3.500500000e+03 inf =   0.000e+00 (0)\r\n",
      "OPTIMAL LP SOLUTION FOUND\r\n",
      "Time used:   0.0 secs\r\n",
      "Memory used: 0.0 Mb (40412 bytes)\r\n",
      "Write sensitivity analysis report to 'sensit.sen'...\r\n"
     ]
    },
    {
     "name": "stdout",
     "output_type": "stream",
     "text": [
      "GLPK 4.65 - SENSITIVITY ANALYSIS REPORT                                                                         Page   1\n",
      "\n",
      "Problem:    \n",
      "Objective:  obj = 3500.5 (MAXimum)\n",
      "\n",
      "   No. Row name     St      Activity         Slack   Lower bound       Activity      Obj coef  Obj value at Limiting\n",
      "                                          Marginal   Upper bound          range         range   break point variable\n",
      "------ ------------ -- ------------- ------------- -------------  ------------- ------------- ------------- ------------\n",
      "     1 c_u_cts(1)_  NU    3001.00000        .               -Inf     2000.00000       -.50000    3000.00000 x(subs)\n",
      "                                            .50000    3001.00000     3500.00000          +Inf    3750.00000 c_u_cts(3)_\n",
      "\n",
      "     2 c_u_cts(2)_  NU    1000.00000        .               -Inf      501.00000      -2.00000    2502.50000 c_u_cts(3)_\n",
      "                                           2.00000    1000.00000     1500.50000          +Inf    4501.50000 x(subs)\n",
      "\n",
      "     3 c_u_cts(3)_  BS    2001.00000     499.00000          -Inf     1000.00000       -.50000    2500.00000 c_u_cts(1)_\n",
      "                                            .         2500.00000           +Inf       2.00000    7502.50000 c_u_cts(2)_\n",
      "\n",
      "     4 c_e_ONE_VAR_CONSTANT\n",
      "                    NS       1.00000        .            1.00000         .               -Inf    3500.50000 ONE_VAR_CONSTANT\n",
      "                                            .            1.00000           +Inf          +Inf    3500.50000\n",
      "\n",
      "GLPK 4.65 - SENSITIVITY ANALYSIS REPORT                                                                         Page   2\n",
      "\n",
      "Problem:    \n",
      "Objective:  obj = 3500.5 (MAXimum)\n",
      "\n",
      "   No. Column name  St      Activity      Obj coef   Lower bound       Activity      Obj coef  Obj value at Limiting\n",
      "                                          Marginal   Upper bound          range         range   break point variable\n",
      "------ ------------ -- ------------- ------------- -------------  ------------- ------------- ------------- ------------\n",
      "     1 x(subs)      BS    1001.00000      -2.50000        .         -1000.00000      -3.00000    3000.00000 c_u_cts(1)_\n",
      "                                            .               +Inf     1999.00000      -1.50000    4501.50000 c_u_cts(2)_\n",
      "\n",
      "     2 x(toys)      BS    2001.00000       3.00000        .          1000.00000       2.50000    2500.00000 c_u_cts(1)_\n",
      "                                            .               +Inf     2500.00000       5.00000    7502.50000 c_u_cts(2)_\n",
      "\n",
      "     3 ONE_VAR_CONSTANT\n",
      "                    BS       1.00000        .             .             1.00000          -Inf          -Inf\n",
      "                                            .               +Inf        1.00000          +Inf          +Inf\n",
      "\n",
      "End of report\n",
      "\n"
     ]
    }
   ],
   "source": [
    "# write the model to a sensitivity report\n",
    "model.write('model.lp', io_options={'symbolic_solver_labels': True})\n",
    "!glpsol -m model.lp --lp --ranges sensit.sen\n",
    "\n",
    "# widen browser and/or close TOC to see sensitivity report\n",
    "import numpy as np\n",
    "np.set_printoptions(linewidth=110)\n",
    "f = open('sensit.sen', 'r')\n",
    "file_contents = f.read()\n",
    "print(file_contents)\n",
    "f.close()"
   ]
  },
  {
   "cell_type": "code",
   "execution_count": 0,
   "metadata": {
    "collapsed": false
   },
   "outputs": [
   ],
   "source": [
   ]
  },
  {
   "cell_type": "code",
   "execution_count": 0,
   "metadata": {
    "collapsed": false
   },
   "outputs": [
   ],
   "source": [
   ]
  },
  {
   "cell_type": "code",
   "execution_count": 0,
   "metadata": {
    "collapsed": false
   },
   "outputs": [
   ],
   "source": [
   ]
  },
  {
   "cell_type": "code",
   "execution_count": 0,
   "metadata": {
    "collapsed": false
   },
   "outputs": [
   ],
   "source": [
   ]
  }
 ],
 "metadata": {
  "kernelspec": {
   "display_name": "Python 3 (system-wide)",
   "language": "python",
   "metadata": {
    "cocalc": {
     "description": "Python 3 programming language",
     "priority": 100,
     "url": "https://www.python.org/"
    }
   },
   "name": "python3",
   "resource_dir": "/ext/jupyter/kernels/python3"
  },
  "language_info": {
   "codemirror_mode": {
    "name": "ipython",
    "version": 3
   },
   "file_extension": ".py",
   "mimetype": "text/x-python",
   "name": "python",
   "nbconvert_exporter": "python",
   "pygments_lexer": "ipython3",
   "version": "3.8.5"
  },
  "toc": {
   "base_numbering": 1,
   "nav_menu": {
   },
   "number_sections": true,
   "sideBar": true,
   "skip_h1_title": false,
   "title_cell": "Table of Contents",
   "title_sidebar": "Contents",
   "toc_cell": false,
   "toc_position": {
    "height": "calc(100% - 180px)",
    "left": "10px",
    "top": "150px",
    "width": "226.792px"
   },
   "toc_section_display": true,
   "toc_window_display": false
  },
  "varInspector": {
   "cols": {
    "lenName": 16,
    "lenType": 16,
    "lenVar": 40
   },
   "kernels_config": {
    "python": {
     "delete_cmd_postfix": "",
     "delete_cmd_prefix": "del ",
     "library": "var_list.py",
     "varRefreshCmd": "print(var_dic_list())"
    },
    "r": {
     "delete_cmd_postfix": ") ",
     "delete_cmd_prefix": "rm(",
     "library": "var_list.r",
     "varRefreshCmd": "cat(var_dic_list()) "
    }
   },
   "types_to_exclude": [
    "module",
    "function",
    "builtin_function_or_method",
    "instance",
    "_Feature"
   ],
   "window_display": false
  }
 },
 "nbformat": 4,
 "nbformat_minor": 4
}