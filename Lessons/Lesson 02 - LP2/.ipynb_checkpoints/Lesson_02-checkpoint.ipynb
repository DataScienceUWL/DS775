{
 "cells": [
  {
   "cell_type": "markdown",
   "metadata": {},
   "source": [
    "<font size=18>Lesson 02: Sensitivity Analysis and Abstract Modeling</font>"
   ]
  },
  {
   "cell_type": "code",
   "execution_count": 1,
   "metadata": {
    "code_folding": [
     0
    ]
   },
   "outputs": [],
   "source": [
    "# execute to import notebook styling for tables and width etc.\n",
    "from IPython.core.display import HTML\n",
    "import urllib.request\n",
    "response = urllib.request.urlopen('https://raw.githubusercontent.com/DataScienceUWL/DS775v2/master/ds755.css')\n",
    "HTML(response.read().decode(\"utf-8\"));"
   ]
  },
  {
   "cell_type": "markdown",
   "metadata": {
    "heading_collapsed": true
   },
   "source": [
    "# Sensitivity Analysis"
   ]
  },
  {
   "cell_type": "markdown",
   "metadata": {
    "heading_collapsed": true,
    "hidden": true
   },
   "source": [
    "## The Need for Sensitivity Analysis (video)"
   ]
  },
  {
   "cell_type": "markdown",
   "metadata": {
    "hidden": true
   },
   "source": [
    "This video provides a little motivation for this topic."
   ]
  },
  {
   "cell_type": "code",
   "execution_count": 2,
   "metadata": {
    "code_folding": [
     0
    ],
    "hidden": true
   },
   "outputs": [
    {
     "data": {
      "text/html": [
       "\n",
       "        <iframe\n",
       "            width=\"640\"\n",
       "            height=\"360\"\n",
       "            src=\"https://media.uwex.edu/content/ds/ds775_r19/ds775_lesson2-need-sensitivity-analysis/index.html\"\n",
       "            frameborder=\"0\"\n",
       "            allowfullscreen\n",
       "        ></iframe>\n",
       "        "
      ],
      "text/plain": [
       "<IPython.lib.display.IFrame at 0x11159ca90>"
      ]
     },
     "execution_count": 2,
     "metadata": {},
     "output_type": "execute_result"
    }
   ],
   "source": [
    "# execute this cell for video\n",
    "from IPython.display import IFrame\n",
    "IFrame(\n",
    "    \"https://media.uwex.edu/content/ds/ds775_r19/ds775_lesson2-need-sensitivity-analysis/index.html\",\n",
    "    width=640,\n",
    "    height=360)"
   ]
  },
  {
   "cell_type": "markdown",
   "metadata": {
    "heading_collapsed": true,
    "hidden": true
   },
   "source": [
    "## Sensitivity for Each Type of Parameter (video)"
   ]
  },
  {
   "cell_type": "markdown",
   "metadata": {
    "hidden": true
   },
   "source": [
    "This video shows the relation of sensitivity to the model formulation."
   ]
  },
  {
   "cell_type": "code",
   "execution_count": 3,
   "metadata": {
    "code_folding": [
     0
    ],
    "hidden": true
   },
   "outputs": [
    {
     "data": {
      "text/html": [
       "\n",
       "        <iframe\n",
       "            width=\"640\"\n",
       "            height=\"360\"\n",
       "            src=\"https://media.uwex.edu/content/ds/ds775_r19/ds775_lesson2-sensitivity-each-type-v2/index.html\"\n",
       "            frameborder=\"0\"\n",
       "            allowfullscreen\n",
       "        ></iframe>\n",
       "        "
      ],
      "text/plain": [
       "<IPython.lib.display.IFrame at 0x110ac1ef0>"
      ]
     },
     "execution_count": 3,
     "metadata": {},
     "output_type": "execute_result"
    }
   ],
   "source": [
    "# execute this cell for video\n",
    "from IPython.display import IFrame\n",
    "IFrame(\n",
    "    \"https://media.uwex.edu/content/ds/ds775_r19/ds775_lesson2-sensitivity-each-type-v2/index.html\",\n",
    "    width=640,\n",
    "    height=360)"
   ]
  },
  {
   "cell_type": "markdown",
   "metadata": {
    "heading_collapsed": true,
    "hidden": true
   },
   "source": [
    "## Shadow Prices (video)"
   ]
  },
  {
   "cell_type": "markdown",
   "metadata": {
    "hidden": true
   },
   "source": [
    "Here are a few comments about shadow prices."
   ]
  },
  {
   "cell_type": "code",
   "execution_count": 4,
   "metadata": {
    "code_folding": [
     0
    ],
    "hidden": true
   },
   "outputs": [
    {
     "data": {
      "text/html": [
       "\n",
       "        <iframe\n",
       "            width=\"640\"\n",
       "            height=\"360\"\n",
       "            src=\"https://media.uwex.edu/content/ds/ds775_r19/ds775_lesson2-shadow-prices/index.html\"\n",
       "            frameborder=\"0\"\n",
       "            allowfullscreen\n",
       "        ></iframe>\n",
       "        "
      ],
      "text/plain": [
       "<IPython.lib.display.IFrame at 0x110b023c8>"
      ]
     },
     "execution_count": 4,
     "metadata": {},
     "output_type": "execute_result"
    }
   ],
   "source": [
    "# execute this cell for video\n",
    "from IPython.display import IFrame\n",
    "IFrame(\n",
    "    \"https://media.uwex.edu/content/ds/ds775_r19/ds775_lesson2-shadow-prices/index.html\",\n",
    "    width=640,\n",
    "    height=360)"
   ]
  },
  {
   "cell_type": "markdown",
   "metadata": {
    "hidden": true
   },
   "source": [
    "## <font color = \"blue\"> Self Assessment: Positive Shadow Price </font>"
   ]
  },
  {
   "cell_type": "markdown",
   "metadata": {
    "hidden": true
   },
   "source": [
    "True or False:  A positive shadow price indicates that the right-hand side of that constraint is a sensitive parameter."
   ]
  },
  {
   "cell_type": "markdown",
   "metadata": {
    "heading_collapsed": true,
    "hidden": true
   },
   "source": [
    "## Shadow Prices with the Widget (video)"
   ]
  },
  {
   "cell_type": "markdown",
   "metadata": {
    "hidden": true
   },
   "source": [
    "This is a demonstration of shadow prices as well as allowable ranges for constraint bounds using the WyndorInteractive graph widget."
   ]
  },
  {
   "cell_type": "code",
   "execution_count": 5,
   "metadata": {
    "code_folding": [
     0
    ],
    "hidden": true
   },
   "outputs": [
    {
     "data": {
      "text/html": [
       "\n",
       "        <iframe\n",
       "            width=\"640\"\n",
       "            height=\"360\"\n",
       "            src=\"https://media.uwex.edu/content/ds/ds775_r19/ds775_lesson2-wyndor-widget-shadow-prices/index.html\"\n",
       "            frameborder=\"0\"\n",
       "            allowfullscreen\n",
       "        ></iframe>\n",
       "        "
      ],
      "text/plain": [
       "<IPython.lib.display.IFrame at 0x110be0e10>"
      ]
     },
     "execution_count": 5,
     "metadata": {},
     "output_type": "execute_result"
    }
   ],
   "source": [
    "# execute this cell for video\n",
    "from IPython.display import IFrame\n",
    "IFrame(\n",
    "    \"https://media.uwex.edu/content/ds/ds775_r19/ds775_lesson2-wyndor-widget-shadow-prices/index.html\",\n",
    "    width=640,\n",
    "    height=360)"
   ]
  },
  {
   "cell_type": "markdown",
   "metadata": {
    "heading_collapsed": true,
    "hidden": true
   },
   "source": [
    "## Allowable Ranges for Objective Coefficients with the Widget (video)"
   ]
  },
  {
   "cell_type": "markdown",
   "metadata": {
    "hidden": true
   },
   "source": [
    "The WyndorInteractive graph widget comes in handy again in this short video."
   ]
  },
  {
   "cell_type": "code",
   "execution_count": 6,
   "metadata": {
    "code_folding": [
     0
    ],
    "hidden": true
   },
   "outputs": [
    {
     "data": {
      "text/html": [
       "\n",
       "        <iframe\n",
       "            width=\"640\"\n",
       "            height=\"360\"\n",
       "            src=\"https://media.uwex.edu/content/ds/ds775_r19/ds775_lesson2-objective-allowable-ranges/index.html\"\n",
       "            frameborder=\"0\"\n",
       "            allowfullscreen\n",
       "        ></iframe>\n",
       "        "
      ],
      "text/plain": [
       "<IPython.lib.display.IFrame at 0x110a4c390>"
      ]
     },
     "execution_count": 6,
     "metadata": {},
     "output_type": "execute_result"
    }
   ],
   "source": [
    "# execute this cell for video\n",
    "from IPython.display import IFrame\n",
    "IFrame(\n",
    "    \"https://media.uwex.edu/content/ds/ds775_r19/ds775_lesson2-objective-allowable-ranges/index.html\",\n",
    "    width=640,\n",
    "    height=360)"
   ]
  },
  {
   "cell_type": "markdown",
   "metadata": {
    "hidden": true
   },
   "source": [
    "## <font color = \"blue\"> Self Assessment: Allowable Range (Objective Coef) </font>"
   ]
  },
  {
   "cell_type": "markdown",
   "metadata": {
    "hidden": true
   },
   "source": [
    "True or False:  For the objective coefficients, the allowable range is the range of values over which the current optimal solution remains optimal, assuming no change in the other coefficients. "
   ]
  },
  {
   "cell_type": "markdown",
   "metadata": {
    "heading_collapsed": true,
    "hidden": true
   },
   "source": [
    "## <font color = \"blue\"> Self Assessment: Changing Parameters </font>"
   ]
  },
  {
   "cell_type": "markdown",
   "metadata": {
    "hidden": true
   },
   "source": [
    "True or False: Any change in any parameter will necessarily change the optimal solution."
   ]
  },
  {
   "cell_type": "markdown",
   "metadata": {
    "heading_collapsed": true,
    "hidden": true
   },
   "source": [
    "## Shadow Price Demo in DESMOS (video)"
   ]
  },
  {
   "cell_type": "markdown",
   "metadata": {
    "hidden": true
   },
   "source": [
    "A demonstration of shadow prices at www.desmos.com."
   ]
  },
  {
   "cell_type": "code",
   "execution_count": 7,
   "metadata": {
    "code_folding": [
     0
    ],
    "hidden": true
   },
   "outputs": [
    {
     "data": {
      "text/html": [
       "\n",
       "        <iframe\n",
       "            width=\"640\"\n",
       "            height=\"360\"\n",
       "            src=\"https://media.uwex.edu/content/ds/ds775_r19/ds775_lesson2-shadow-price-desmos/index.html\"\n",
       "            frameborder=\"0\"\n",
       "            allowfullscreen\n",
       "        ></iframe>\n",
       "        "
      ],
      "text/plain": [
       "<IPython.lib.display.IFrame at 0x110a55da0>"
      ]
     },
     "execution_count": 7,
     "metadata": {},
     "output_type": "execute_result"
    }
   ],
   "source": [
    "# execute this cell for video\n",
    "from IPython.display import IFrame\n",
    "IFrame(\n",
    "    \"https://media.uwex.edu/content/ds/ds775_r19/ds775_lesson2-shadow-price-desmos/index.html\",\n",
    "    width=640,\n",
    "    height=360)"
   ]
  },
  {
   "cell_type": "markdown",
   "metadata": {
    "heading_collapsed": true,
    "hidden": true
   },
   "source": [
    "## <font color = \"blue\"> Self Assessment: Graphical Exploration of Sensitivity </font>"
   ]
  },
  {
   "cell_type": "markdown",
   "metadata": {
    "hidden": true
   },
   "source": [
    "Use DESMOS to answer the following questions about this model formulation:\n",
    "\n",
    "Maximize $Z = c_1 x + c_2 y = 2 x + 5 y$ \n",
    "\n",
    "subject to \n",
    "\n",
    "$x + 2y \\leq 10$ (resource 1, $b_1$) \n",
    "\n",
    "$x + 3y \\leq 12$ (resource 2, $b_2$)\n",
    "\n",
    "$ x_1, x_2 \\geq 0$ \n",
    "\n",
    "(a) Set up this model in DESMOS and show the optimal value of $Z$ and the coordinates of $x$ and $y$ where the optimal solution occurs.  Provide a screen shot of the graph you used to find this answer with the optimal $Z$ and coordinates of $x$ and $y$ displayed.\n",
    "\n",
    "(b) With a slider for $Z$ (and $b_2$ if you like), find the shadow price for resource 2 ($b_2$).   Provide a screen shot of the graph with the new optimal $Z$ and coordinates of $x$ and $y$ at this point displayed.\n",
    "\n",
    "(c) With a slider for $b_2$, find the allowable range for resource 2 ($b_2$). Provide screen shots of the graphs you used to find this answer, one for the lower bound and one for the upper bound of $b_2$.\n",
    "\n",
    "(d) With sliders for $Z$ and $c_2$, find the allowable range for the unit profit of activity 2 ($c_2$). Provide screen shots of the graphs you used to find this answer, one for the lower bound and one for the upper bound of $c_2$."
   ]
  },
  {
   "cell_type": "markdown",
   "metadata": {
    "heading_collapsed": true,
    "hidden": true
   },
   "source": [
    "## Generating a Sensitivity Report in Python"
   ]
  },
  {
   "cell_type": "markdown",
   "metadata": {
    "hidden": true
   },
   "source": [
    "Pyomo doesn't automatically generate a sensitivity analysis, but it's possible to write the model to a standardized file (called an LP file) and then run a solver to produce a sensitivity report.  \n",
    "\n",
    "**First, run the following cell to load up a Wyndor model from lesson 1.**"
   ]
  },
  {
   "cell_type": "code",
   "execution_count": 1,
   "metadata": {
    "code_folding": [],
    "hidden": true
   },
   "outputs": [
    {
     "name": "stdout",
     "output_type": "stream",
     "text": [
      "Profit =  $36,000.00\n",
      "Batches of Doors =  2.0\n",
      "Batches of Windows =  6.0\n"
     ]
    }
   ],
   "source": [
    "# unfold to see Pyomo solution with a vector of decision variables\n",
    "from pyomo.environ import *\n",
    "\n",
    "# Concrete Model\n",
    "model = ConcreteModel(name=\"Wyndor\")\n",
    "\n",
    "products = ['drs', 'wdw']\n",
    "\n",
    "bounds_dict = {'drs': (0, 4), 'wdw': (0, 6)}\n",
    "def bounds_rule(model, product):\n",
    "    return (bounds_dict[product])\n",
    "model.x = Var(products, domain=Reals, bounds=bounds_rule)\n",
    "\n",
    "# Objective\n",
    "model.profit = Objective(expr=3.0 * model.x['drs'] + 5.0 * model.x['wdw'],\n",
    "                         sense=maximize)\n",
    "\n",
    "# Constraints\n",
    "model.Constraint3 = Constraint(\n",
    "    expr=3.0 * model.x['drs'] + 2.0 * model.x['wdw'] <= 18)\n",
    "\n",
    "# Solve\n",
    "solver = SolverFactory('glpk')\n",
    "solver.solve(model)\n",
    "\n",
    "# display(model)\n",
    "\n",
    "# display solution\n",
    "import babel.numbers as numbers  # needed to display as currency\n",
    "print(\"Profit = \",\n",
    "      numbers.format_currency(1000 * model.profit(), 'USD', locale='en_US'))\n",
    "print(\"Batches of Doors = \", model.x['drs']())\n",
    "print(\"Batches of Windows = \", model.x['wdw']())"
   ]
  },
  {
   "cell_type": "markdown",
   "metadata": {
    "hidden": true
   },
   "source": [
    "**Now run the cell belw to write the model to an LP file to create a sensitivity report.**"
   ]
  },
  {
   "cell_type": "code",
   "execution_count": 5,
   "metadata": {
    "hidden": true
   },
   "outputs": [
    {
     "name": "stdout",
     "output_type": "stream",
     "text": [
      "GLPSOL: GLPK LP/MIP Solver, v4.65\r\n",
      "Parameter(s) specified in the command line:\r\n",
      " -m model.lp --lp --ranges sensit.sen\r\n",
      "Reading problem data from 'model.lp'...\r\n",
      "2 rows, 3 columns, 3 non-zeros\r\n",
      "21 lines were read\r\n",
      "GLPK Simplex Optimizer, v4.65\r\n",
      "2 rows, 3 columns, 3 non-zeros\r\n",
      "Preprocessing...\r\n",
      "1 row, 2 columns, 2 non-zeros\r\n",
      "Scaling...\r\n",
      " A: min|aij| =  2.000e+00  max|aij| =  3.000e+00  ratio =  1.500e+00\r\n",
      "Problem data seem to be well scaled\r\n",
      "Constructing initial basis...\r\n",
      "Size of triangular part is 1\r\n",
      "*     0: obj =  -0.000000000e+00 inf =   0.000e+00 (2)\r\n",
      "*     2: obj =   3.600000000e+01 inf =   0.000e+00 (0)\r\n",
      "OPTIMAL LP SOLUTION FOUND\r\n",
      "Time used:   0.0 secs\r\n",
      "Memory used: 0.0 Mb (40400 bytes)\r\n",
      "Write sensitivity analysis report to 'sensit.sen'...\r\n"
     ]
    }
   ],
   "source": [
    "model.write('model.lp', io_options={'symbolic_solver_labels': True})\n",
    "!glpsol -m model.lp --lp --ranges sensit.sen"
   ]
  },
  {
   "cell_type": "markdown",
   "metadata": {
    "hidden": true
   },
   "source": [
    "**Run the following cell to print the report.**"
   ]
  },
  {
   "cell_type": "code",
   "execution_count": 3,
   "metadata": {
    "code_folding": [],
    "hidden": true
   },
   "outputs": [
    {
     "name": "stdout",
     "output_type": "stream",
     "text": [
      "GLPK 4.65 - SENSITIVITY ANALYSIS REPORT                                                                         Page   1\n",
      "\n",
      "Problem:    \n",
      "Objective:  profit = 36 (MAXimum)\n",
      "\n",
      "   No. Row name     St      Activity         Slack   Lower bound       Activity      Obj coef  Obj value at Limiting\n",
      "                                          Marginal   Upper bound          range         range   break point variable\n",
      "------ ------------ -- ------------- ------------- -------------  ------------- ------------- ------------- ------------\n",
      "     1 c_u_Constraint3_\n",
      "                    NU      18.00000        .               -Inf       12.00000      -1.00000      30.00000 x(drs)\n",
      "                                           1.00000      18.00000       24.00000          +Inf      42.00000 x(drs)\n",
      "\n",
      "     2 c_e_ONE_VAR_CONSTANT\n",
      "                    NS       1.00000        .            1.00000         .               -Inf      36.00000 ONE_VAR_CONSTANT\n",
      "                                            .            1.00000           +Inf          +Inf      36.00000\n",
      "\n",
      "GLPK 4.65 - SENSITIVITY ANALYSIS REPORT                                                                         Page   2\n",
      "\n",
      "Problem:    \n",
      "Objective:  profit = 36 (MAXimum)\n",
      "\n",
      "   No. Column name  St      Activity      Obj coef   Lower bound       Activity      Obj coef  Obj value at Limiting\n",
      "                                          Marginal   Upper bound          range         range   break point variable\n",
      "------ ------------ -- ------------- ------------- -------------  ------------- ------------- ------------- ------------\n",
      "     1 x(drs)       BS       2.00000       3.00000        .                -Inf        .           30.00000 c_u_Constraint3_\n",
      "                                            .            4.00000           +Inf       7.50000      45.00000 x(wdw)\n",
      "\n",
      "     2 x(wdw)       NU       6.00000       5.00000        .             3.00000       2.00000      27.00000 x(drs)\n",
      "                                           3.00000       6.00000        9.00000          +Inf      45.00000 x(drs)\n",
      "\n",
      "     3 ONE_VAR_CONSTANT\n",
      "                    BS       1.00000        .             .             1.00000          -Inf          -Inf\n",
      "                                            .               +Inf        1.00000          +Inf          +Inf\n",
      "\n",
      "End of report\n",
      "\n"
     ]
    }
   ],
   "source": [
    "# unfold for code, widen browser and/or close TOC to see sensitivity report\n",
    "import numpy as np\n",
    "np.set_printoptions(linewidth=110)\n",
    "f = open('sensit.sen', 'r')\n",
    "file_contents = f.read()\n",
    "print(file_contents)\n",
    "f.close()"
   ]
  },
  {
   "cell_type": "markdown",
   "metadata": {
    "hidden": true
   },
   "source": [
    "**Run the following cell to make the notebook full width to get a better view of the sensitivity report.  You should also toggle off the Table of Contents in order to best display the sensitivity report.**"
   ]
  },
  {
   "cell_type": "code",
   "execution_count": 4,
   "metadata": {
    "code_folding": [
     0
    ],
    "hidden": true
   },
   "outputs": [
    {
     "data": {
      "text/html": [
       "\n",
       "<style>\n",
       "    div#notebook-container    { width: 95%; }\n",
       "    div#menubar-container     { width: 65%; }\n",
       "    div#maintoolbar-container { width: 99%; }\n",
       "</style>\n"
      ],
      "text/plain": [
       "<IPython.core.display.HTML object>"
      ]
     },
     "metadata": {},
     "output_type": "display_data"
    }
   ],
   "source": [
    "#hack to make this notebook full width to view sensitivity reports\n",
    "from IPython.display import display, HTML\n",
    "\n",
    "display(HTML(data=\"\"\"\n",
    "<style>\n",
    "    div#notebook-container    { width: 95%; }\n",
    "    div#menubar-container     { width: 65%; }\n",
    "    div#maintoolbar-container { width: 99%; }\n",
    "</style>\n",
    "\"\"\"))"
   ]
  },
  {
   "cell_type": "markdown",
   "metadata": {
    "heading_collapsed": true,
    "hidden": true
   },
   "source": [
    "## Discussion of Excel and GLPK Sensitivity Reports (video)"
   ]
  },
  {
   "cell_type": "markdown",
   "metadata": {
    "hidden": true
   },
   "source": [
    "This video discussed the similarities and differences of the sensitivity reports produced by Excel (as discussed in the textbook) and Python.  Our focus will be the report produced in Python in this course.\n",
    "\n",
    "**<font color=\"red\">Near the very end of the video when discussing the objective function coefficients, the video incorrectly refers to the Activity Range when it should refer to the Objective Coeffcient Range in the GLPK report.  The ideas are correct but the numbers should come from the Objective Coefficient Range column. For constraints the allowable range in the text is the same as the Activity Range in the GLPK report.</font>**"
   ]
  },
  {
   "cell_type": "code",
   "execution_count": 2,
   "metadata": {
    "code_folding": [],
    "hidden": true
   },
   "outputs": [
    {
     "data": {
      "text/html": [
       "\n",
       "        <iframe\n",
       "            width=\"640\"\n",
       "            height=\"360\"\n",
       "            src=\"https://media.uwex.edu/content/ds/ds775_r19/ds775_lesson2-sensitivity-reports/index.html\"\n",
       "            frameborder=\"0\"\n",
       "            allowfullscreen\n",
       "        ></iframe>\n",
       "        "
      ],
      "text/plain": [
       "<IPython.lib.display.IFrame at 0x10fe63910>"
      ]
     },
     "execution_count": 2,
     "metadata": {},
     "output_type": "execute_result"
    }
   ],
   "source": [
    "# execute this cell for video\n",
    "from IPython.display import IFrame\n",
    "IFrame(\n",
    "    \"https://media.uwex.edu/content/ds/ds775_r19/ds775_lesson2-sensitivity-reports/index.html\",\n",
    "    width=640,\n",
    "    height=360)"
   ]
  },
  {
   "cell_type": "markdown",
   "metadata": {
    "heading_collapsed": true,
    "hidden": true
   },
   "source": [
    "## <font color=\"blue\"> Self-Assessment: Solve and Perform Sensitivity </font>\n"
   ]
  },
  {
   "cell_type": "markdown",
   "metadata": {
    "hidden": true
   },
   "source": [
    "**Textbook Problem 4.7-6 (c, b)**\n",
    "\n",
    "Consider the following problem: \n",
    "\n",
    "Maximize $Z = 5 x_1 + 4x_2 - x_3 + 3 x_4$ \n",
    "\n",
    "subject to \n",
    "\n",
    "$ 3x_1 + 2x_2 - 3x_3 + x_4 \\leq 24 \\mbox{ (resource 1) } $\n",
    "\n",
    "$ 3x_1 + 3x_2 + x_3 + 3x_4 \\leq 36 \\mbox{ (resource 2) }$\n",
    "\n",
    "and $x_1 \\geq 0, x_2 \\geq 0, x_3 \\geq 0, x_4 \\geq 0.$ \n",
    "\n",
    "Use a Pyomo in Python to solve the\n",
    "problem with the simplex method \n",
    "and then to generate sensitivity information. Use this\n",
    "information to identify the shadow price for each resource, the\n",
    "allowable range for each objective function coefficient, and the\n",
    "allowable range for each right-hand side.\n"
   ]
  },
  {
   "cell_type": "markdown",
   "metadata": {
    "heading_collapsed": true,
    "hidden": true
   },
   "source": [
    "## <font color=\"blue\"> Self-Assessment: Formulate, Solve, and Perform Sensitivity #1 </font>"
   ]
  },
  {
   "cell_type": "markdown",
   "metadata": {
    "hidden": true
   },
   "source": [
    "**Textbook Problem 7.3-4 (a & f with Pyomo)**\n",
    "\n",
    "One of the products of the G.A. Tanner Company is a special\n",
    "  kind of toy that provides an estimated unit profit of \\\\$3. Because\n",
    "  of a large demand for this toy, management would like to increase\n",
    "  its production rate from the current level of 1,000 per\n",
    "  day. However, a limited supply of two subassemblies (A and B) from\n",
    "  vendors makes this difficult. Each toy requires two subassemblies of\n",
    "  type A, but the vendor providing these subassemblies would only be\n",
    "  able to increase its supply rate from the current 2,000 per day to a\n",
    "  maximum of 3,000 per day. Each toy requires only one subassembly of\n",
    "  type B, but the vendor providing these subassemblies would be unable\n",
    "  to increase its supply rate above the current level of 1,000 per\n",
    "  day. Because no other vendors currently are available to provide\n",
    "  these subassemblies, management is considering initiating a new\n",
    "  production process internally that would simultaneously produce an\n",
    "  equal number of subassemblies of the two types to supplement the\n",
    "  supply from the two vendors. It is estimated that the company’s cost\n",
    "  for producing one subassembly of each type would be \\\\$2.50 more than\n",
    "  the cost of purchasing these subassemblies from the two\n",
    "  vendors. Management wants to determine both the production rate of\n",
    "  the toy and the production rate of each pair of subassemblies (one A\n",
    "  and one B) that would maximize the total profit.  The following\n",
    "  table summarizes the data for the problem.\n",
    "  \n",
    "  \n",
    "<img src=\"images/problem5p3.png\" width=\"440\" height=\"250\">  \n",
    "\n",
    "(a) Formulate the mathematical model for this problem and solve it using Pyomo in Python.\n",
    "  \n",
    "(f) Generate a sensitivity report to find the allowable range for\n",
    "  the unit profit of each activity (toys and subassemblies)."
   ]
  },
  {
   "cell_type": "markdown",
   "metadata": {
    "heading_collapsed": true,
    "hidden": true
   },
   "source": [
    "## <font color=\"blue\"> Self-Assessment: Formulate, Solve, and Perform Sensitivity #2 </font>"
   ]
  },
  {
   "cell_type": "markdown",
   "metadata": {
    "hidden": true
   },
   "source": [
    "**Textbook Problem 7.3-5 (a, b, f)**\n",
    "\n",
    "Reconsider Problem 7.3-4. After further negotiations with\n",
    "  each vendor, management of the G.A. Tanner Co. has learned that\n",
    "  either of them would be willing to consider increasing their supply\n",
    "  of their respective subassemblies over the previously stated maxima\n",
    "  (3,000 subassemblies of type A per day and 1,000 of type B per day)\n",
    "  if the company would pay a small premium over the regular price for\n",
    "  the extra subassemblies. The size of the premium for each type of\n",
    "  subassembly remains to be negotiated. The demand for the toy being\n",
    "  produced is sufficiently high so that 2,500 per day could be sold if\n",
    "  the supply of subassemblies could be increased enough to support\n",
    "  this production rate. Assume that the original estimates of unit\n",
    "  profits given in 7.3-4 are accurate.\n",
    "  \n",
    "(a) Formulate the mathematical model for this problem and with\n",
    "  the original maximum supply levels and the additional constraint\n",
    "  that no more than 2,500 toys should be produced per day.  Solve it using Pyomo in Python.\n",
    "  \n",
    "(b) Without considering the premium, use Pyomo\n",
    "  to determine the shadow price for the subassembly A constraint by\n",
    "  solving the model again after increasing the maximum supply by 1. Use this \n",
    "  shadow price to determine the maximum premium that the\n",
    "  company should be willing to pay for each subassembly of this type.\n",
    "\n",
    "(f) Use the sensitivity report to determine the shadow price\n",
    "  for each of the subassembly constraints and the allowable range for\n",
    "  the right-hand side of each of these constraints."
   ]
  },
  {
   "cell_type": "markdown",
   "metadata": {},
   "source": [
    "# Abstract Modeling for LP"
   ]
  },
  {
   "cell_type": "markdown",
   "metadata": {},
   "source": [
    "To tackle larger linear programs it isn't practical to type out all of the variables, the terms in the objective function, or the individual constraints.  We need to move from a concrete model like this:\n",
    "<img src=\"images/concrete_model.png\" width=\"220\">\n",
    "to something more abstract like this:\n",
    "<img src=\"images/abstract_model.png\" width=\"320\">\n",
    "\n",
    "We'll still use the ```ConcreteModel``` object in Pyomo, but we'll start each problem by first laying out the data and then adding indexed variables to the model object.\n",
    "\n",
    "Below we present several examples of generalizing models so that the model can be easily adapted to different problems.  Study these examples and use them to guide you in the homework.  Rather than give detailed videos for these examples we've tried to carefully write the necessary information.  Brief videos are provided to highlight a point or two.  We use Python dictionaries throughout the course, particularly in abstract formulations like those below.  To review Python dictionaries find a tutorial: <a href=\"https://realpython.com/python-dicts/\">this one looks pretty good</a>, but there are many others.  Feel free to share any resources you find on Piazza."
   ]
  },
  {
   "cell_type": "markdown",
   "metadata": {},
   "source": [
    "## Wyndor - Abstract Formulation"
   ]
  },
  {
   "cell_type": "markdown",
   "metadata": {
    "heading_collapsed": true
   },
   "source": [
    "### Problem Description"
   ]
  },
  {
   "cell_type": "markdown",
   "metadata": {
    "hidden": true
   },
   "source": [
    "Again, here is the Wyndor model from the textbook.  $Z$ is the profit in thousands of dollars.  $d$ and $w$ are the batches of doors and windows, respectively.  The constraints, in order, represent the production capacities of Plants 1, 2, and 3.\n",
    "\n",
    "Maximize $Z = 3 d + 5 w$\n",
    "\n",
    "Subject to:\n",
    "\n",
    "$\n",
    "\\begin{array}{ccccc}\n",
    " d &   &    & \\leq & 4 \\\\\n",
    "   &   & 2w & \\leq & 12 \\\\\n",
    "3d & + & 2w & \\leq & 18\n",
    "\\end{array}\n",
    "$\n",
    "\n",
    "$d \\geq 0$, $w \\geq 0$"
   ]
  },
  {
   "cell_type": "markdown",
   "metadata": {
    "heading_collapsed": true
   },
   "source": [
    "### Mathematical Formulation"
   ]
  },
  {
   "cell_type": "markdown",
   "metadata": {
    "hidden": true
   },
   "source": [
    "We want to move from the above, very concrete, implementation to a more abstract representation which can be generalized to larger problems.\n",
    "\n",
    "**The index sets:**\n",
    "\n",
    "Let $Pr$ represent the set of products.  Symbolically we write $Pr = \\{ \\mbox{doors}, \\mbox{windows} \\}$.  \n",
    "\n",
    "Let $Pl$ be set of plants so $Pl = \\{ \\mbox{Plant1}, \\mbox{Plant2}, \\mbox{Plant3} \\}.$\n",
    "\n",
    "In Python we can represent these index sets as any iterable object.  While it is possible to use Python sets here, we usually use Python lists because those are both iterable and subscriptable.  In Python the index sets look like this:\n",
    "\n",
    "```\n",
    "products = ['Doors', 'Windows']\n",
    "plants = ['Plant1', 'Plant2', 'Plant3']\n",
    "```\n",
    "\n",
    "**The objective function:**\n",
    "\n",
    "For each product $pr$ let $x_{pr}$ be the number of batches of that product to produce and let $c_{pr}$ be the profit rate per batch of $pr$ that is produced.  The objective function could be written as \n",
    "$$ Z = c_{\\mbox{doors}} x_{\\mbox{doors}} + c_{\\mbox{windows}} x_{\\mbox{windows}}.$$\n",
    "\n",
    "More generally we can write: \n",
    "$$ Z = \\sum_{pr \\in Pr} c_{pr} x_{pr}.$$\n",
    "\n",
    "In Python this will look like:\n",
    "```sum(profit_rate[pr] * model.weekly_prod[pr] for pr in products)```\n",
    "\n",
    "**The constraints:**\n",
    "\n",
    "To start we can make all of the constraints look the same:\n",
    "$$\n",
    "\\begin{array}{ccccc}\n",
    "1 x_{\\mbox{doors}} & + & 0 x_{\\mbox{windows}} & \\leq & 4 \\\\\n",
    "0 x_{\\mbox{doors}} & + & 2 x_{\\mbox{windows}} & \\leq & 12 \\\\\n",
    "3 x_{\\mbox{doors}} & + & 2 x_{\\mbox{windows}} & \\leq & 18\n",
    "\\end{array}\n",
    "$$\n",
    "\n",
    "Now we have three constraints, one for each plant, that has the form:\n",
    "$$ (\\mbox{hours per batch of doors}) * x_{\\mbox{doors}} +\n",
    "(\\mbox{hours per batch of windows}) * x_{\\mbox{windows}} \\leq \\mbox{hourly capacity}.$$\n",
    "\n",
    "If we let $h_{pl,pr}$ represent the hours needed for a batch of product $pr$ at plant $pl$ and let $a_{pl}$ be the number of hours available at plant $pl$, then we can express the constraints as:\n",
    "\n",
    "for each plant $pl \\in Pl$ \n",
    "$$ \\sum_{pr \\in Pr} h_{pl,pr} x_{pr} \\leq a_{pl}.$$\n",
    "\n",
    "In Python this will look like:\n",
    "```sum(hours_per_batch[pl][pr] * model.weekly_prod[pr] for pr in products)\n",
    "    <= hours_available[pl]```\n",
    "    \n",
    "For comparison the concrete and abstract models are shown side-by-side:\n",
    "\n",
    "<table class=\"tleft\">\n",
    "    <tr>\n",
    "        <td><p style=\"padding-right: 120px;\"> <b>Concrete Model</b></p></td>\n",
    "        <td><p style=\"padding-right: 150px;\"> <b>Abstract Model</b></p></td>\n",
    "    </tr>\n",
    "<tr>\n",
    "<td>\n",
    "Maximize $Z = 3 d + 5 w$\n",
    "</td>\n",
    "<td>\n",
    "Maximize $ Z = \\displaystyle \\sum_{pr \\in Pr} c_{pr} x_{pr}$\n",
    "<td>\n",
    "</tr>\n",
    "<tr>\n",
    "<td>\n",
    "Subject to:\n",
    "\n",
    "$\n",
    "\\begin{array}{ccccc}\n",
    " d &   &    & \\leq & 4 \\\\\n",
    "   &   & 2w & \\leq & 12 \\\\\n",
    "3d & + & 2w & \\leq & 18\n",
    "\\end{array}\n",
    "$\n",
    "</td>\n",
    "<td>\n",
    "Subject to:\n",
    "\n",
    "$ \\displaystyle \\sum_{pr \\in Pr} h_{pl,pr} x_{pr} \\leq a_{pl}, \\mbox{ for each } pl \\in Pl$\n",
    "<td>\n",
    "</tr>\n",
    "<tr>\n",
    "<td>\n",
    "$d \\geq 0$, $w \\geq 0$\n",
    "</td>\n",
    "<td>\n",
    "$ x_{pr} \\geq 0, \\mbox{ for each } pr \\in Pr$ \n",
    "<td>\n",
    "</tr>   \n",
    "</table>"
   ]
  },
  {
   "cell_type": "markdown",
   "metadata": {
    "heading_collapsed": true
   },
   "source": [
    "### Explanation of Pyomo Soution (video)"
   ]
  },
  {
   "cell_type": "markdown",
   "metadata": {
    "hidden": true
   },
   "source": [
    "The video below explains some parts of the solution code.  If you're content to study the code on you own, then you don't need to watch it.  There is a bit in the middle that shows you how to view the abstractly constructed constraints that is generally useful."
   ]
  },
  {
   "cell_type": "code",
   "execution_count": 9,
   "metadata": {
    "code_folding": [
     0
    ],
    "hidden": true
   },
   "outputs": [
    {
     "data": {
      "text/html": [
       "\n",
       "        <iframe\n",
       "            width=\"640\"\n",
       "            height=\"360\"\n",
       "            src=\"https://media.uwex.edu/content/ds/ds775_r19/ds775_lesson2-wyndor-abstract/index.html\"\n",
       "            frameborder=\"0\"\n",
       "            allowfullscreen\n",
       "        ></iframe>\n",
       "        "
      ],
      "text/plain": [
       "<IPython.lib.display.IFrame at 0x110c284a8>"
      ]
     },
     "execution_count": 9,
     "metadata": {},
     "output_type": "execute_result"
    }
   ],
   "source": [
    "# execute this cell for video\n",
    "from IPython.display import IFrame\n",
    "IFrame(\n",
    "    \"https://media.uwex.edu/content/ds/ds775_r19/ds775_lesson2-wyndor-abstract/index.html\",\n",
    "    width=640,\n",
    "    height=360)"
   ]
  },
  {
   "cell_type": "markdown",
   "metadata": {},
   "source": [
    "### Pyomo Solution"
   ]
  },
  {
   "cell_type": "code",
   "execution_count": 2,
   "metadata": {
    "code_folding": []
   },
   "outputs": [
    {
     "name": "stdout",
     "output_type": "stream",
     "text": [
      "Maximum Profit =  $36,000.00\n",
      "Batches of Doors = 2.0\n",
      "Batches of Windows = 6.0\n"
     ]
    }
   ],
   "source": [
    "# Unfold for code\n",
    "from pyomo.environ import *\n",
    "products = ['Doors', 'Windows']\n",
    "plants = ['Plant1', 'Plant2', 'Plant3']\n",
    "profit_rate = {'Doors': 3, 'Windows': 5}\n",
    "hours_available = {'Plant1': 4, 'Plant2': 12, 'Plant3': 18}\n",
    "hours_per_batch = {\n",
    "    'Plant1': {\n",
    "        'Doors': 1,\n",
    "        'Windows': 0\n",
    "    },\n",
    "    'Plant2': {\n",
    "        'Doors': 0,\n",
    "        'Windows': 2\n",
    "    },\n",
    "    'Plant3': {\n",
    "        'Doors': 3,\n",
    "        'Windows': 2\n",
    "    }\n",
    "}\n",
    "\n",
    "#Concrete Model\n",
    "model = ConcreteModel()\n",
    "\n",
    "#Decision Variables\n",
    "model.weekly_prod = Var(products, domain=NonNegativeReals)\n",
    "\n",
    "#Objective\n",
    "model.profit = Objective(expr=sum(profit_rate[pr] * model.weekly_prod[pr]\n",
    "                               for pr in products),\n",
    "                      sense=maximize)\n",
    "\n",
    "model.capacity = ConstraintList()\n",
    "for pl in plants:\n",
    "    model.capacity.add(\n",
    "        sum(hours_per_batch[pl][pr] * model.weekly_prod[pr]\n",
    "            for pr in products) <= hours_available[pl])\n",
    "\n",
    "# Solve\n",
    "solver = SolverFactory('glpk')\n",
    "solver.solve(model)\n",
    "\n",
    "# display solution\n",
    "import babel.numbers as numbers  # needed to display as currency\n",
    "print(\"Maximum Profit = \",\n",
    "      numbers.format_currency(1000 * model.profit(), 'USD', locale='en_US'))\n",
    "\n",
    "for j in products:\n",
    "    print(\"Batches of \" + j + \" = {}\".format(model.weekly_prod[j]()))"
   ]
  },
  {
   "cell_type": "markdown",
   "metadata": {},
   "source": [
    "### <font color=\"blue\">Self Assessment: Investment Allocation </font>"
   ]
  },
  {
   "cell_type": "markdown",
   "metadata": {},
   "source": [
    "**Textbook Problem 3.2-3.** This is your lucky day. You have just won a \\\\$20,000\n",
    "  prize. You are setting aside \\\\$8,000 for taxes and partying\n",
    "  expenses, but you have decided to invest the other \\\\$12,000. Upon\n",
    "  hearing this news, two different friends have offered you an\n",
    "  opportunity to become a partner in two different entrepreneurial\n",
    "  ventures, one planned by each friend. In both cases, this investment\n",
    "  would involve expending some of your time next summer as well as\n",
    "  putting up cash. Becoming a full partner in the first friend’s\n",
    "  venture would require an investment of \\\\$10,000 and 400 hours, and\n",
    "  your estimated profit (ignoring the value of your time) would be\n",
    "  \\\\$9,000. The corresponding figures for the second friend’s venture\n",
    "  are \\\\$8,000 and 500 hours, with an estimated profit to you of\n",
    "  \\\\$9,000. However, both friends are flexible and would allow you to\n",
    "  come in at any fraction of a full partnership you would like. If you\n",
    "  choose a fraction of a full partnership, all the above figures given\n",
    "  for a full partnership (money investment, time investment, and your\n",
    "  profit) would be multiplied by this same fraction.  Because you were\n",
    "  looking for an interesting summer job anyway (maximum of 600 hours),\n",
    "  you have decided to participate in one or both friends’ ventures in\n",
    "  whichever combination would maximize your total estimated\n",
    "  profit. You now need to solve the problem of finding the best\n",
    "  combination.\n",
    "  \n",
    "This self-assessment problem was also in Lesson 1 where you formulated and solved a linear model using the graphical method. Now copy and paste the code from the Wyndor problem above into a new cell and adapt it to solve this problem."
   ]
  },
  {
   "cell_type": "code",
   "execution_count": null,
   "metadata": {},
   "outputs": [],
   "source": []
  },
  {
   "cell_type": "markdown",
   "metadata": {},
   "source": [
    "## Web Mercantile - Abstract Formulation"
   ]
  },
  {
   "cell_type": "markdown",
   "metadata": {},
   "source": [
    "We first saw this problem in Lesson 1 where it was solved by introducing individual variables for each possible month and lease duration combination.  Such an approach was possible over a five month span, but imagine typing all of the variables and constraints for a 24 month, or longer, time period.  In the solution below, using indexed variables, the code can be easily adapted to any time period.  \n",
    "\n",
    "The primary difference between this and the Wyndor example above is that the decision variables depend on both the month and the duration so they form an array.  Study this example to see "
   ]
  },
  {
   "cell_type": "markdown",
   "metadata": {},
   "source": [
    "### Problem Description"
   ]
  },
  {
   "cell_type": "markdown",
   "metadata": {},
   "source": [
    "This is problem 3.4-9, page 85, from the textbook.  \n",
    "\n",
    "Web Mercantile sells many household products through an online catalog. The company needs substantial warehouse space for storing its goods. Plans now are being made for leasing warehouse storage space over the next 5 months. Just how much space will be required in each of these months is known. However, since these space requirements are quite different, it may be most economical to lease only the amount needed each month on a month-by-month basis. On the other hand, the additional cost for leasing space for additional months is much less than for the first month, so it may be less expensive to lease the maximum amount needed for the entire 5 months. Another option is the intermediate approach of changing the total amount of space leased (by adding a new lease and/or having an old lease expire) at least once but not every month.\n",
    "\n",
    "The space requirement and the leasing costs for the various leasing periods are as follows:\n",
    "\n",
    "<img src=\"images/problem3p4-9.png\" width=\"440\" height=\"250\">  "
   ]
  },
  {
   "cell_type": "markdown",
   "metadata": {},
   "source": [
    "### Mathematical Formulation ###"
   ]
  },
  {
   "cell_type": "markdown",
   "metadata": {},
   "source": [
    "Let $x_{m,d}$ represent the number of square feet to lease for $d$ months at the beginning of month $m$.\n",
    "\n",
    "Let $r_d$ be the cost per square foot of leasing for a duration of $d$ months.\n",
    "\n",
    "Let $s_m$ be the number of square feet required in month $m$.\n",
    "\n",
    "Let $M$ be the set of months, e.g. $M = \\{1,2,3,4,5\\}.$\n",
    "\n",
    "Let $D$ be the set of possible durations, e.g. $\\{1,2,3,4,5\\}.$\n",
    "\n",
    "The total cost of leasing, to be minimized is:\n",
    "\n",
    "$$ Z = \\sum_{m \\in M} \\sum_{d \\in D} r_d x_{m,d}.$$\n",
    "\n",
    "Note, that $x_{m,d}$ will be 0 for some combinations of $m$ and $d$.  For instance, we'll have a constraint that $x_{5,2} = 0$ since in month 5 we cannot lease office space for 2 months.  In fact, if $m+d > 6$ we must have $x_{m,d} = 0$.  If we let $n_{mon}$ be the total number of months (e.g. $n_{mon} = 5$), then the constraint is \n",
    "$$ x_{m,d} = 0 \\mbox{ if } m + d > n_{mon} $$\n",
    "\n",
    "For the final constraint we need to make sure we have adequate space leased in each month.  We'll have to take into consideration that, for example, a lease made for 2 months at the beginning of month 1 will be available in the second month, but not in the third month. For each month we'll have add up all of the square feet that are leased in both the current month and previous months that are still available.  Mathematically, we can add conditions to our sum like this:\n",
    "\n",
    "for month $m$\n",
    "\n",
    "$$ \\sum_{i \\in M \\mbox{ if } i \\leq m} \\sum_{\\mbox{  }d \\in D \\mbox{ if } i + d > m} x_{i,d} \\geq s_m. $$\n",
    "\n",
    "That sum looks pretty complicated, but the first sum says to add up the leased square feet for all months up to and including the current month.  The second sum says to add only the leased square feet for unexpired leases.  If we treat the indices as integers we could also write it this way, for each month $m$:\n",
    "\n",
    "$$ \\sum_{i = 1}^m \\sum_{d = m - i + 1}^{m} x_{m,d} \\geq s_m.$$\n",
    "\n",
    "Still confused? Look at the data frame below where we have months as rows and durations as columns:"
   ]
  },
  {
   "cell_type": "code",
   "execution_count": 13,
   "metadata": {
    "code_folding": []
   },
   "outputs": [
    {
     "data": {
      "text/html": [
       "<div>\n",
       "<style scoped>\n",
       "    .dataframe tbody tr th:only-of-type {\n",
       "        vertical-align: middle;\n",
       "    }\n",
       "\n",
       "    .dataframe tbody tr th {\n",
       "        vertical-align: top;\n",
       "    }\n",
       "\n",
       "    .dataframe thead th {\n",
       "        text-align: right;\n",
       "    }\n",
       "</style>\n",
       "<table border=\"1\" class=\"dataframe\">\n",
       "  <thead>\n",
       "    <tr style=\"text-align: right;\">\n",
       "      <th></th>\n",
       "      <th>1</th>\n",
       "      <th>2</th>\n",
       "      <th>3</th>\n",
       "      <th>4</th>\n",
       "      <th>5</th>\n",
       "    </tr>\n",
       "  </thead>\n",
       "  <tbody>\n",
       "    <tr>\n",
       "      <th>1</th>\n",
       "      <td>10</td>\n",
       "      <td>11</td>\n",
       "      <td>12</td>\n",
       "      <td>13</td>\n",
       "      <td>14</td>\n",
       "    </tr>\n",
       "    <tr>\n",
       "      <th>2</th>\n",
       "      <td>15</td>\n",
       "      <td>16</td>\n",
       "      <td>17</td>\n",
       "      <td>18</td>\n",
       "      <td>0</td>\n",
       "    </tr>\n",
       "    <tr>\n",
       "      <th>3</th>\n",
       "      <td>19</td>\n",
       "      <td>20</td>\n",
       "      <td>21</td>\n",
       "      <td>0</td>\n",
       "      <td>0</td>\n",
       "    </tr>\n",
       "    <tr>\n",
       "      <th>4</th>\n",
       "      <td>22</td>\n",
       "      <td>23</td>\n",
       "      <td>0</td>\n",
       "      <td>0</td>\n",
       "      <td>0</td>\n",
       "    </tr>\n",
       "    <tr>\n",
       "      <th>5</th>\n",
       "      <td>24</td>\n",
       "      <td>0</td>\n",
       "      <td>0</td>\n",
       "      <td>0</td>\n",
       "      <td>0</td>\n",
       "    </tr>\n",
       "  </tbody>\n",
       "</table>\n",
       "</div>"
      ],
      "text/plain": [
       "    1   2   3   4   5\n",
       "1  10  11  12  13  14\n",
       "2  15  16  17  18   0\n",
       "3  19  20  21   0   0\n",
       "4  22  23   0   0   0\n",
       "5  24   0   0   0   0"
      ]
     },
     "execution_count": 13,
     "metadata": {},
     "output_type": "execute_result"
    }
   ],
   "source": [
    "# details not important, dataframe for example\n",
    "import pandas as pd\n",
    "df = pd.DataFrame([[10, 11, 12, 13, 14],[15,16,17,18,0],[19,20,21,0,0],[22,23,0,0,0],[24,0,0,0,0]], \n",
    "                  index = [1,2,3,4,5], columns = [1,2,3,4,5] )\n",
    "df"
   ]
  },
  {
   "cell_type": "markdown",
   "metadata": {},
   "source": [
    "In month 1 the number of square feet leased is $ 10 + 11 + 12 + 13 + 14 = 60$.\n",
    "\n",
    "In month 2 the number of square feet leased is $ 11 + 12 + 13 + 14 + 15 + 16 + 17 + 18 = 116.$  Notice that the sum includes all the rentals from months 1 and 2 except for the 10 square feet rented at the beginning of month 1 for a duration of 1 month.  That term is not included in the sum because i + d = 1 + 1 = 2$ is not greater than 2 indicating that the 10 square feet is not available in month 2.\n",
    "\n",
    "How many square feet are available in month 3?  In month 4?  In month 5?  (answers are 150, 148, and 100 respectively)"
   ]
  },
  {
   "cell_type": "markdown",
   "metadata": {
    "heading_collapsed": true
   },
   "source": [
    "### Explanation of Pyomo Solution (video)"
   ]
  },
  {
   "cell_type": "markdown",
   "metadata": {
    "hidden": true
   },
   "source": [
    "The video below explains some parts of the solution code.  If you're content to study the code on you own, then you don't need to watch it. "
   ]
  },
  {
   "cell_type": "code",
   "execution_count": 10,
   "metadata": {
    "code_folding": [
     0
    ],
    "hidden": true
   },
   "outputs": [
    {
     "data": {
      "text/html": [
       "\n",
       "        <iframe\n",
       "            width=\"640\"\n",
       "            height=\"360\"\n",
       "            src=\"https://media.uwex.edu/content/ds/ds775_r19/ds775_lesson2-webmercantile-abstract/index.html\"\n",
       "            frameborder=\"0\"\n",
       "            allowfullscreen\n",
       "        ></iframe>\n",
       "        "
      ],
      "text/plain": [
       "<IPython.lib.display.IFrame at 0x110cfa4a8>"
      ]
     },
     "execution_count": 10,
     "metadata": {},
     "output_type": "execute_result"
    }
   ],
   "source": [
    "# execute this cell for video\n",
    "from IPython.display import IFrame\n",
    "IFrame(\n",
    "    \"https://media.uwex.edu/content/ds/ds775_r19/ds775_lesson2-webmercantile-abstract/index.html\",\n",
    "    width=640,\n",
    "    height=360)"
   ]
  },
  {
   "cell_type": "markdown",
   "metadata": {},
   "source": [
    "### Pyomo Solution"
   ]
  },
  {
   "cell_type": "code",
   "execution_count": null,
   "metadata": {
    "code_folding": [
     0
    ]
   },
   "outputs": [],
   "source": [
    "# unfold to see Pyomo solution\n",
    "\n",
    "### Imports ###\n",
    "\n",
    "from pyomo.environ import *\n",
    "\n",
    "### Problem Data ###\n",
    "\n",
    "num_months = 5\n",
    "max_duration = 5\n",
    "\n",
    "months = range(1, num_months + 1) # generates 1, 2, ..., num_months\n",
    "durations = range(1, max_duration + 1) # generates 1, 2, ..., max_duration\n",
    "\n",
    "rent = dict(zip(durations, [65, 100, 135, 160, 190]))\n",
    "space = dict(zip(months, [30000, 20000, 40000, 10000, 50000]))\n",
    "\n",
    "### Pyomo Model ###\n",
    "\n",
    "# Concrete Model\n",
    "model = ConcreteModel(name=\"WebMerc2\")\n",
    "\n",
    "# Decision Variables\n",
    "model.x_sqft = Var(months, durations, domain=NonNegativeReals)\n",
    "\n",
    "# Objective\n",
    "model.obj = Objective(expr=sum(rent[d] * model.x_sqft[m, d] for m in months\n",
    "                               for d in durations))\n",
    "\n",
    "# Constraints\n",
    "model.space_ct = ConstraintList()\n",
    "for month in months:\n",
    "    model.space_ct.add(\n",
    "        sum(model.x_sqft[m, d] for m in months for d in durations\n",
    "            if m <= month and m + d > month) >= space[month])\n",
    "\n",
    "model.time_rule_ct = ConstraintList()\n",
    "for m in months:\n",
    "    for d in durations:\n",
    "        if m + d > num_months + 1:\n",
    "            model.time_rule_ct.add(model.x_sqft[m, d] == 0)\n",
    "\n",
    "### Solution ###\n",
    "\n",
    "solver = SolverFactory('glpk')\n",
    "solver.solve(model)\n",
    "\n",
    "### Display ###\n",
    "\n",
    "import babel.numbers as numbers  # needed to display as currency\n",
    "print(\"Total Cost = \",\n",
    "      numbers.format_currency(model.obj(), 'USD', locale='en_US'))\n",
    "\n",
    "print(\"\\nHere are the amounts to lease by month and duration:\")\n",
    "for m in months:\n",
    "    for d in durations:\n",
    "        if model.x_sqft[m, d]() > 0:\n",
    "            print(\"Lease {:.0f}\".format(model.x_sqft[m, d]()) +\n",
    "                  \" sq ft in month {:d}\".format(m) +\n",
    "                  \" for {:d} months\".format(d))\n",
    "\n",
    "print(\"\\nHere are the amounts needed and the total amount needed in each month:\")\n",
    "for m in months:\n",
    "    print(\"In month {:d}\".format(m) +\n",
    "          \", {:d} square feet are needed\".format(space[m]) +\n",
    "          \" and {} square feet are leased\".format(\n",
    "              sum(model.x_sqft[i, d]() for d in durations\n",
    "                  for i in months if i <= m and i + d > m)))"
   ]
  },
  {
   "cell_type": "markdown",
   "metadata": {
    "heading_collapsed": true
   },
   "source": [
    "### <font color=\"blue\">Self Assessment: A Holiday Factory </font>"
   ]
  },
  {
   "cell_type": "markdown",
   "metadata": {
    "hidden": true
   },
   "source": [
    "A company is planning to design and manufacture children's toys over an 11 month span prior to a major holiday.  In the beginning the company won't need much space to design and plan the toy, but the square footage required will grow as they stockpile parts for the toys and start manufacturing.  Toward the end of the 11 month span the square feet required will start to diminish as toys are shipped to stores and distribution centers.  The square feet needed in each month is as follows:\n",
    "\n",
    "Month | Square Feet | Month | Square Feet\n",
    "--- | --- | --- | ---\n",
    "1 | 2000 | 7 | 10000\n",
    "2 | 2000 | 8 | 10000\n",
    "3 | 3000 | 9 | 9000\n",
    "4 | 4000 | 10 | 7000\n",
    "5 | 6000 | 11 | 5000\n",
    "6 | 10000\n",
    "\n",
    "\n",
    "The rent per square foot starts at $20 per month, but decreases for leases of longer duration as follows. \n",
    "\n",
    "Duration (months) | Rent (\\$ per square foot)\n",
    "--- | --- \n",
    "1 | 20 \n",
    "2 | 20 + 19 = 39 \n",
    "3 | 20 + 19 + 18 = 57\n",
    "$\\vdots$ | $\\vdots$\n",
    "11 | 165\n",
    "\n",
    "Learn how easy it is to reuse models by figuring out the pattern for durations and then adapting the example code above to find the minimum cost for the leasing the required square footage.  Try to find a way to compute the rent for each duration using a sum or a formula instead of just computing each by \"hand\"."
   ]
  },
  {
   "cell_type": "markdown",
   "metadata": {},
   "source": [
    "## Sausages Blending - Abstract Formulation"
   ]
  },
  {
   "cell_type": "markdown",
   "metadata": {},
   "source": [
    "This example, first presented in Lesson 1, is adapted from here: http://benalexkeen.com/linear-programming-with-python-and-pulp-part-4/.  \n",
    "        \n",
    "In Lesson 1 this problem was formulated and solved by introducing individual variables for each ingredient and sausage type.  Here we'll use an array of variables and configure the objective function and constraints in a way that can be more easily generalized.\n",
    "The second will be to write the model in a way that can be easily extended."
   ]
  },
  {
   "cell_type": "markdown",
   "metadata": {},
   "source": [
    "### Problem Description"
   ]
  },
  {
   "cell_type": "markdown",
   "metadata": {},
   "source": [
    "We're going to make sausages by blending pork, wheat, and starch.  Our objective is to minimize the cost of making the sausages.  The table below shows the ingredients available, the cost, and the amount of each ingredient available from our supplier:\n",
    "\n",
    "Ingredient | Cost ($/kg) | Amount (kg)\n",
    "-----------|------|--------------\n",
    "Pork       | 4.32 | 7\n",
    "Wheat      | 2.46 | 20.0\n",
    "Starch     | 1.86 | 17\n",
    "\n",
    "Additionally, we have 23 kg of pork on hand that we must use in the sausages.\n",
    "\n",
    "We want to make 2 types of sausage:\n",
    "* Economy ( > 40\\% pork)\n",
    "* Premium ( > 60\\% pork)\n",
    "\n",
    "Each sausage is 50 grams (0.05 kg).  \n",
    "\n",
    "According to government regulations, the most starch we can use in our sausages is 25\\% by weight.\n",
    "\n",
    "We have a demand for 350 economy sausages and 500 premium sausages."
   ]
  },
  {
   "cell_type": "markdown",
   "metadata": {
    "heading_collapsed": true
   },
   "source": [
    "### Mathematical formulation"
   ]
  },
  {
   "cell_type": "markdown",
   "metadata": {
    "hidden": true
   },
   "source": [
    "We'll write things generically so that the model can be used for any numbers of ingredients and types.\n",
    "\n",
    "Let $I$ represent the set of ingredients and let $T$ represent the set of types of sausage.\n",
    "\n",
    "For each $i \\in I$ and $t \\in T$ \n",
    "\n",
    "<table class=\"tleft\">\n",
    "    <tr>\n",
    "        <td><p style=\"padding-right: 20px;\"> <b>Quantity</b></p></td>\n",
    "        <td><p style=\"padding-right: 100px;\"> <b>Description</b></p></td>\n",
    "    <tr>\n",
    "    <tr><td>$x_{i,t}$</td><td>kg of ingredient $i$ to use in sausage of type $t$ (decision variable)</td></tr>\n",
    "    <tr><td>$c_i$</td><td>cost per kg of ingredient $i$ in dollars</td></tr>\n",
    "    <tr><td>$pmin_{i,t}$</td><td>minimum proportion of ingredient $i$ in sausage of type $t$, use 0 for no minimum</td></tr>\n",
    "    <tr><td>$pmax_{i,t}$</td><td>maximum proportion of ingredient $i$ in sausage of type $t$, use 1 for no maximum</td></tr>\n",
    "    <tr><td>$imax_{i}$</td><td>maximum kilograms of ingredient $i$ that are available</td></tr>\n",
    "    <tr><td>$imin_{i}$</td><td>minimum kilograms of ingredient $i$ that must be used</td></tr>\n",
    "    <tr><td>$d_{t}$</td><td>total kg of sausage of type $t$ that are demanded</td></tr>\n",
    "</table>\n",
    "\n",
    "To write the cost function we need to add up the quantity of each ingredient used across all the sausage types, so for each ingredient $i$ this is $$\\sum_{t \\in T} x_{i,t}.$$\n",
    "Now the cost of ingredient $i$ will be\n",
    "$$ c_i \\left( \\sum_{t \\in T} x_{i,t} \\right).$$\n",
    "Finally, the objective function is the total cost for all ingredients and types:\n",
    "$$ \\mbox{Cost} = \\sum_{i \\in I}  c_i \\left( \\sum_{t \\in T} x_{i,t} \\right).$$\n",
    "\n",
    "Now let's turn to the constraints.  First we need the total kg of each type of sausage made to equal the demand for that type. \n",
    "\n",
    "$$ \\sum_{i \\in I} x_{i,t} = d_t \\mbox{ for each } t \\in T.$$\n",
    "\n",
    "The sum on the left represents the total kg of ingredients used in sausage $j$.\n",
    "\n",
    "Now we need the minimum proportion constraints:\n",
    "$$x_{i,t} \\geq pmin_{i,t} \\sum_{k \\in I} x_{k,t}.$$\n",
    "\n",
    "That sum on the right now uses the index $k$ which serves as a dummy variable to add up the total kg of each type of sausage.\n",
    "\n",
    "The maximum proportion constraints are similar:\n",
    "$$x_{i,t} \\leq pmax_{i,t} \\sum_{k \\in I} x_{k,t}.$$\n",
    "\n",
    "The availability constraints enforce the maximum amount of ingredient $i$ that is available:\n",
    "$$\\sum_{t \\in T} x_{i,t} \\leq imax_i.$$\n",
    "The sum on the left here is the total kg of ingredient $i$ used over all types of sausages.\n",
    "\n",
    "The \"must use\" constraints are similar:\n",
    "$$\\sum_{t \\in T} x_{i,t} \\geq imin_i.$$\n",
    "\n",
    "\n",
    "Here are the concrete and abstract model comparisons side-by-side for comparison:\n",
    "<table class=\"tleft\">\n",
    "    <tr>\n",
    "        <td><p style=\"padding-right: 40px;\"> <b>Description</b></p></td>\n",
    "        <td><p style=\"padding-right: 120px;\"> <b>Concrete Model</b></p></td>\n",
    "        <td><p style=\"padding-right: 120px;\"> <b>Abstract Model</b></p></td>\n",
    "    </tr>\n",
    "<tr>\n",
    "    <td> Minimize Cost = </td>\n",
    "    <td>\n",
    "        $4.32 ( p_e + p_p) + 2.46( w_e + w_p) + 1.86 (s_e + s_p) $\n",
    "    </td>\n",
    "    <td>\n",
    "        $\\displaystyle \\sum_{i \\in I}  c_i \\left(\\sum_{t \\in T} x_{i,t} \\right)$\n",
    "    <td>\n",
    "</tr>\n",
    "<tr>\n",
    "    <td> Demand Constraints </td>\n",
    "    <td> $p_e + w_e + s_e = 350 \\times 0.05$<br>$p_p + w_p + s_p = 500 \\times 0.05$ </td>\n",
    "    <td> $\\displaystyle \\sum_{i \\in I} x_{i,t} = d_t \\mbox{ for each } t \\in T$ </td>\n",
    "</tr>\n",
    "<tr>\n",
    "    <td> Minimimum Proportion<br>Constraints </td>\n",
    "    <td> $p_e \\geq 0.4 (p_e + w_e + s_e)$<br>$p_p \\geq 0.6 (p_p + w_p + s_p)$</td>\n",
    "    <td> $\\displaystyle x_{i,t} \\geq pmin_{i,t} \\sum_{k \\in I} x_{k,t}$</td>\n",
    "</tr>\n",
    "<tr>\n",
    "    <td> Maximum Proportion<br>Constraints </td>\n",
    "    <td> $s_e \\leq 0.25 (p_e + w_e + s_e)$<br>$s_p \\leq 0.25 (p_p + w_p + s_p)$ </td>\n",
    "    <td> $\\displaystyle x_{i,t} \\leq pmax_{i,t} \\sum_{k \\in I} x_{k,t}$ </td>\n",
    "<tr>\n",
    "    <td> Maximum Ingredient<br>Constraints </td>\n",
    "    <td> $p_e + p_p \\leq 30$<br>$w_e + w_p \\leq 20$<br>$s_e + s_p \\leq 17$ </td>\n",
    "    <td> $\\displaystyle \\sum_{t \\in T} x_{i,t} \\leq imax_i$</td>\n",
    "</tr>\n",
    "<tr>\n",
    "    <td> Minimum Ingredient<br>Constraints </td>\n",
    "    <td> $p_e + p_p \\geq 23$</td>\n",
    "    <td> $\\displaystyle \\sum_{t \\in T} x_{i,t} \\geq imin_i$</td>\n",
    "</tr>\n",
    "</table>"
   ]
  },
  {
   "cell_type": "markdown",
   "metadata": {},
   "source": [
    "### Explanation of Pyomo Solution (video)"
   ]
  },
  {
   "cell_type": "markdown",
   "metadata": {},
   "source": [
    "The video below explains some parts of the solution code.  If you're content to study the code on you own, then you don't need to watch it.  "
   ]
  },
  {
   "cell_type": "code",
   "execution_count": 1,
   "metadata": {
    "code_folding": [
     0
    ]
   },
   "outputs": [
    {
     "data": {
      "text/html": [
       "\n",
       "        <iframe\n",
       "            width=\"640\"\n",
       "            height=\"360\"\n",
       "            src=\"https://media.uwex.edu/content/ds/ds775_r19/ds775_lesson2-blending-abstract/index.html\"\n",
       "            frameborder=\"0\"\n",
       "            allowfullscreen\n",
       "        ></iframe>\n",
       "        "
      ],
      "text/plain": [
       "<IPython.lib.display.IFrame at 0x1115a0f60>"
      ]
     },
     "execution_count": 1,
     "metadata": {},
     "output_type": "execute_result"
    }
   ],
   "source": [
    "# execute this cell for video\n",
    "from IPython.display import IFrame\n",
    "IFrame(\n",
    "    \"https://media.uwex.edu/content/ds/ds775_r19/ds775_lesson2-blending-abstract/index.html\",\n",
    "    width=640,\n",
    "    height=360)"
   ]
  },
  {
   "cell_type": "markdown",
   "metadata": {},
   "source": [
    "### Pyomo Solution"
   ]
  },
  {
   "cell_type": "code",
   "execution_count": 2,
   "metadata": {
    "code_folding": []
   },
   "outputs": [
    {
     "data": {
      "text/plain": [
       "{'pork': {'economy': 0.4, 'premium': 0.6},\n",
       " 'wheat': {'economy': 0, 'premium': 0},\n",
       " 'starch': {'economy': 0, 'premium': 0}}"
      ]
     },
     "execution_count": 2,
     "metadata": {},
     "output_type": "execute_result"
    }
   ],
   "source": [
    "# Unfold to see the Pyomo solution with arrays of decision variables\n",
    "\n",
    "### Imports ###\n",
    "\n",
    "from pyomo.environ import *\n",
    "import pandas as pd # used for results display\n",
    "\n",
    "### Problem Data ###\n",
    "\n",
    "types = ['economy','premium']\n",
    "ingredients = ['pork', 'wheat', 'starch']\n",
    "\n",
    "cost = dict( zip( ingredients, [4.32, 2.46, 1.86] ) )\n",
    "\n",
    "kg_per_sausage = 0.05\n",
    "number_each_type = dict( zip( types, [350, 500] ) )\n",
    "\n",
    "mnpi = [[.4,.6],[0,0],[0,0]]\n",
    "min_prop_ing = { ingredients[i]:{ types[j]:mnpi[i][j] for j in range(len(types)) } for i in range(len(ingredients)) }\n",
    "mxpi = [[1,1],[1,1],[.25,.25]]\n",
    "max_prop_ing = { ingredients[i]:{ types[j]:mxpi[i][j] for j in range(len(types)) } for i in range(len(ingredients)) }\n",
    "\n",
    "max_ingredient = dict( zip( ingredients, [30, 20, 17] ) )\n",
    "min_ingredient = dict( zip( ingredients, [23,  0,  0] ) )\n",
    "\n",
    "min_prop_ing"
   ]
  },
  {
   "cell_type": "code",
   "execution_count": 66,
   "metadata": {
    "code_folding": []
   },
   "outputs": [
    {
     "name": "stdout",
     "output_type": "stream",
     "text": [
      "Total Cost =  $140.96\n",
      "Kilograms of each ingredient in each type of sausage:\n"
     ]
    },
    {
     "data": {
      "text/html": [
       "<div>\n",
       "<style scoped>\n",
       "    .dataframe tbody tr th:only-of-type {\n",
       "        vertical-align: middle;\n",
       "    }\n",
       "\n",
       "    .dataframe tbody tr th {\n",
       "        vertical-align: top;\n",
       "    }\n",
       "\n",
       "    .dataframe thead th {\n",
       "        text-align: right;\n",
       "    }\n",
       "</style>\n",
       "<table border=\"1\" class=\"dataframe\">\n",
       "  <thead>\n",
       "    <tr style=\"text-align: right;\">\n",
       "      <th></th>\n",
       "      <th>Economy</th>\n",
       "      <th>Premium</th>\n",
       "    </tr>\n",
       "  </thead>\n",
       "  <tbody>\n",
       "    <tr>\n",
       "      <th>Pork</th>\n",
       "      <td>8.000</td>\n",
       "      <td>15.00</td>\n",
       "    </tr>\n",
       "    <tr>\n",
       "      <th>Wheat</th>\n",
       "      <td>5.125</td>\n",
       "      <td>3.75</td>\n",
       "    </tr>\n",
       "    <tr>\n",
       "      <th>Starch</th>\n",
       "      <td>4.375</td>\n",
       "      <td>6.25</td>\n",
       "    </tr>\n",
       "  </tbody>\n",
       "</table>\n",
       "</div>"
      ],
      "text/plain": [
       "        Economy  Premium\n",
       "Pork      8.000    15.00\n",
       "Wheat     5.125     3.75\n",
       "Starch    4.375     6.25"
      ]
     },
     "execution_count": 66,
     "metadata": {},
     "output_type": "execute_result"
    }
   ],
   "source": [
    "### Pyomo Model ###\n",
    "\n",
    "# Concrete Model\n",
    "M = ConcreteModel(name = \"Sausages\")\n",
    "\n",
    "# Decision Variables\n",
    "M.amount = Var(ingredients, types, domain = NonNegativeReals)\n",
    "\n",
    "# Objective\n",
    "M.cost = Objective( expr = sum( cost[i] * sum(M.amount[i,t] for t in types) \n",
    "                               for i in ingredients), sense = minimize )\n",
    "\n",
    "M.tot_sausages_ct = ConstraintList()\n",
    "for t in types:\n",
    "    M.tot_sausages_ct.add( sum( M.amount[i,t] for i in ingredients ) \n",
    "                         == kg_per_sausage * number_each_type[t] )\n",
    "\n",
    "M.min_prop_ct = ConstraintList()\n",
    "for i in ingredients:\n",
    "    for t in types:\n",
    "        M.min_prop_ct.add( M.amount[i,t] >= min_prop_ing[i][t] *\n",
    "                         sum( M.amount[k,t] for k in ingredients ) )\n",
    "\n",
    "M.max_prop_ct = ConstraintList()\n",
    "for i in ingredients:\n",
    "    for t in types:\n",
    "        M.max_prop_ct.add( M.amount[i,t] <= max_prop_ing[i][t] * \n",
    "                         sum( M.amount[k, t] for k in ingredients ) )\n",
    "        \n",
    "M.max_ingredient_ct = ConstraintList()\n",
    "for i in ingredients:\n",
    "    M.max_ingredient_ct.add( sum( M.amount[ i, t] for t in types ) <= \n",
    "                           max_ingredient[i] )\n",
    "    \n",
    "M.min_ingredient_ct = ConstraintList()\n",
    "for i in ingredients:\n",
    "    M.min_ingredient_ct.add( sum( M.amount[ i, t] for t in types ) >=\n",
    "                           min_ingredient[i] )\n",
    "\n",
    "### Solution ###\n",
    "solver = SolverFactory('glpk')\n",
    "solver.solve(M)\n",
    "\n",
    "### Display ###\n",
    "\n",
    "import babel.numbers as numbers  # needed to display as currency\n",
    "print(\"Total Cost = \",\n",
    "      numbers.format_currency(M.cost(), 'USD', locale='en_US'))\n",
    "\n",
    "# put amounts in dataframe for nicer display\n",
    "import pandas as pd\n",
    "dvars = pd.DataFrame( [ [M.amount[i,t]() for t in types] for i in ingredients ],\n",
    "                    index = ['Pork','Wheat','Starch'],\n",
    "                    columns = ['Economy','Premium'])\n",
    "print(\"Kilograms of each ingredient in each type of sausage:\")\n",
    "dvars"
   ]
  },
  {
   "cell_type": "markdown",
   "metadata": {},
   "source": [
    "### <font color=\"blue\">Self Assessment: Supply and Demand Problem </font>"
   ]
  },
  {
   "cell_type": "markdown",
   "metadata": {},
   "source": [
    "Use what you've learned in the examples above to formulate and solve a linear programmming model for textbook problem 3.4-11.\n",
    "\n",
    "The Medequip Company produces precision medical diagnostic equipment at two factories. Three medical centers have placed orders for this month’s production output. The table below shows what the cost would be for shipping each unit from each factory to each of these customers. Also shown are the number of units that will be produced at each factory and the number of units ordered by each customer.\n",
    "\n",
    "<table>\n",
    "    <tr>\n",
    "        <th style=\"border-right:thin solid;border-bottom:thin solid;\"> &nbsp; </th>\n",
    "        <th style=\"border-bottom:thin solid;\"> Customer 1</th>\n",
    "        <th style=\"border-bottom:thin solid;\"> Customer 2</th>\n",
    "        <th style=\"border-bottom:thin solid;\"> Customer 3</th>\n",
    "        <th style=\"border-left: thin solid;border-bottom:thin solid;\"> Output</th>\n",
    "    </tr>\n",
    "    <tr>\n",
    "        <td style=\"border-right:thin solid;\"> <b>Factory 1</b> </td>\n",
    "        <td> \\$600 </td>\n",
    "        <td> \\$800 </td>\n",
    "        <td> \\$700 </td>\n",
    "        <td style=\"border-left:thin solid;\"> 400 units </td>\n",
    "    </tr>\n",
    "    <tr>\n",
    "        <td style=\"border-right:thin solid;\"> <b>Factory 2</b> </td>\n",
    "        <td> \\$400 </td>\n",
    "        <td> \\$900 </td>\n",
    "        <td> \\$600 </td>\n",
    "        <td style=\"border-left:thin solid;\"> 500 units </td>\n",
    "    </tr>       \n",
    "    <tr>\n",
    "        <td style=\"border-top:thin solid;border-right:thin solid\"> <b>Order size</b> </td>\n",
    "        <td style=\"border-top:thin solid;\"> 300 units </td>\n",
    "        <td style=\"border-top:thin solid;\"> 200 units </td>\n",
    "        <td style=\"border-top:thin solid;\"> 400 units </td>\n",
    "        <td style=\"border-left:thin solid; border-top:thin solid;\"> &nbsp; </td>\n",
    "    </tr>\n",
    "</table>\n",
    "\n",
    "A decision now needs to be made about the shipping plan for how many units to ship from each factory to each customer.\n",
    "\n",
    "(a) Formulate a linear programming model for this problem.\n",
    "\n",
    "(b) Solve this model using Pyomo."
   ]
  },
  {
   "cell_type": "code",
   "execution_count": null,
   "metadata": {},
   "outputs": [],
   "source": []
  }
 ],
 "metadata": {
  "kernelspec": {
   "display_name": "Python 3",
   "language": "python",
   "name": "python3"
  },
  "language_info": {
   "codemirror_mode": {
    "name": "ipython",
    "version": 3
   },
   "file_extension": ".py",
   "mimetype": "text/x-python",
   "name": "python",
   "nbconvert_exporter": "python",
   "pygments_lexer": "ipython3",
   "version": "3.6.7"
  },
  "toc": {
   "base_numbering": 1,
   "nav_menu": {},
   "number_sections": true,
   "sideBar": true,
   "skip_h1_title": false,
   "title_cell": "Table of Contents",
   "title_sidebar": "Contents",
   "toc_cell": false,
   "toc_position": {
    "height": "calc(100% - 180px)",
    "left": "10px",
    "top": "150px",
    "width": "313.789px"
   },
   "toc_section_display": true,
   "toc_window_display": true
  },
  "varInspector": {
   "cols": {
    "lenName": 16,
    "lenType": 16,
    "lenVar": 40
   },
   "kernels_config": {
    "python": {
     "delete_cmd_postfix": "",
     "delete_cmd_prefix": "del ",
     "library": "var_list.py",
     "varRefreshCmd": "print(var_dic_list())"
    },
    "r": {
     "delete_cmd_postfix": ") ",
     "delete_cmd_prefix": "rm(",
     "library": "var_list.r",
     "varRefreshCmd": "cat(var_dic_list()) "
    }
   },
   "types_to_exclude": [
    "module",
    "function",
    "builtin_function_or_method",
    "instance",
    "_Feature"
   ],
   "window_display": false
  }
 },
 "nbformat": 4,
 "nbformat_minor": 2
}
