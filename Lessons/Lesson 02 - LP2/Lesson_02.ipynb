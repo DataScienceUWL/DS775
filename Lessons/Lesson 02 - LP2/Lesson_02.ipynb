{
 "cells": [
  {
   "cell_type": "code",
   "execution_count": 1,
   "metadata": {
    "code_folding": [
     0
    ],
    "collapsed": false
   },
   "outputs": [
   ],
   "source": [
    "# EXECUTE FIRST\n",
    "\n",
    "# computational imports\n",
    "from pyomo.environ import *\n",
    "import numpy as np\n",
    "import pandas as pd\n",
    "\n",
    "# display imports\n",
    "from IPython.display import display, IFrame\n",
    "from IPython.core.display import HTML\n",
    "\n",
    "# plotting imports\n",
    "import matplotlib.pyplot as plt\n",
    "import seaborn as sns\n",
    "sns.set_style(\"darkgrid\")\n",
    "\n",
    "# for playing videos, customize height and width if desired\n",
    "def play_video(vid_name, w = 640, h = 360):\n",
    "    vid_path = \"https://media.uwex.edu/content/ds/ds775_r19/\"\n",
    "    return IFrame( vid_path + vid_name + \"/index.html\", width = w, height = h )"
   ]
  },
  {
   "cell_type": "markdown",
   "metadata": {
    "collapsed": false
   },
   "source": [
    "<font size=18>Lesson 02: Sensitivity Analysis and Abstract Modeling</font>"
   ]
  },
  {
   "cell_type": "markdown",
   "metadata": {
    "collapsed": false
   },
   "source": [
    "# Abstract Modeling for LP"
   ]
  },
  {
   "cell_type": "markdown",
   "metadata": {
    "collapsed": false
   },
   "source": [
    "To tackle larger linear programs it isn't practical to type out all of the variables, the terms in the objective function, or the individual constraints.  We need to move from a concrete model like this:\n",
    "\n",
    "<img src=\"images/concrete_model.png\" width=\"220\">\n",
    "\n",
    "to something more abstract like this:\n",
    "\n",
    "<img src=\"images/abstract_model.png\" width=\"320\">\n",
    "\n",
    "We'll still use the ```ConcreteModel``` object in Pyomo, but we'll start each problem by first laying out the data and then adding indexed variables to the model object.  The big idea in writing models that are generalizable or \"abstract\" is to **separate the data from the model** so that swapping in different or larger data is simple.\n",
    "\n",
    "Below we present several examples of generalizing models so that the model can be easily adapted to different problems.  Study these examples and use them to guide you in the homework.  Rather than give detailed videos for these examples we've tried to carefully write the necessary information.  Brief videos are provided to highlight a point or two.\n",
    "\n",
    "To make the code easier to read and debug we use lists of meaningful variable names instead of simply using integers to index our variables.  We use those variable names as keys in dictionaries to look up values of model coefficients.  At the very bottom of this notebook you'll find a bit of material about Python dictionaries.  However, if you want additional help you should seek out a tutorial.   <a href=\"https://realpython.com/python-dicts/\">Here is an example tutorial</a>, but there are many others.  Feel free to share any resources you find on Piazza."
   ]
  },
  {
   "cell_type": "markdown",
   "metadata": {
    "collapsed": false
   },
   "source": [
    "## Wyndor - Abstract Formulation"
   ]
  },
  {
   "cell_type": "markdown",
   "metadata": {
    "collapsed": false,
    "heading_collapsed": true
   },
   "source": [
    "### Problem Description"
   ]
  },
  {
   "cell_type": "markdown",
   "metadata": {
    "collapsed": false,
    "hidden": true
   },
   "source": [
    "Again, here is the Wyndor model from the textbook.  $Z$ is the profit in thousands of dollars.  $d$ and $w$ are the batches of doors and windows, respectively.  The constraints, in order, represent the production capacities of Plants 1, 2, and 3.\n",
    "\n",
    "Maximize $Z = 3 d + 5 w$\n",
    "\n",
    "Subject to:\n",
    "\n",
    "$\n",
    "\\begin{array}{ccccc}\n",
    " d &   &    & \\leq & 4 \\\\\n",
    "   &   & 2w & \\leq & 12 \\\\\n",
    "3d & + & 2w & \\leq & 18\n",
    "\\end{array}\n",
    "$\n",
    "\n",
    "$d \\geq 0$, $w \\geq 0$"
   ]
  },
  {
   "cell_type": "markdown",
   "metadata": {
    "collapsed": false,
    "heading_collapsed": true
   },
   "source": [
    "### Mathematical Formulation"
   ]
  },
  {
   "cell_type": "markdown",
   "metadata": {
    "collapsed": false,
    "hidden": true
   },
   "source": [
    "We want to move from the above, very concrete, implementation to a more abstract representation which can be generalized to larger problems.\n",
    "\n",
    "**The index sets:**\n",
    "\n",
    "Let $Pr$ represent the set of products.  Symbolically we write $Pr = \\{ \\mbox{doors}, \\mbox{windows} \\}$.  \n",
    "\n",
    "Let $Pl$ be set of plants so $Pl = \\{ \\mbox{Plant1}, \\mbox{Plant2}, \\mbox{Plant3} \\}.$\n",
    "\n",
    "In Python we can represent these index sets as any iterable object.  While it is possible to use Python sets here, we usually use Python lists because those are both iterable and subscriptable.  In Python the index sets look like this:\n",
    "\n",
    "```python\n",
    "products = ['Doors', 'Windows']\n",
    "plants = ['Plant1', 'Plant2', 'Plant3']\n",
    "```\n",
    "\n",
    "**The objective function:**\n",
    "\n",
    "For each product $pr$ let $x_{pr}$ be the number of batches of that product to produce and let $c_{pr}$ be the profit rate per batch of $pr$ that is produced.  The objective function could be written as \n",
    "$$ Z = c_{\\mbox{doors}} x_{\\mbox{doors}} + c_{\\mbox{windows}} x_{\\mbox{windows}}.$$\n",
    "\n",
    "More generally we can write: \n",
    "$$ Z = \\sum_{pr \\in Pr} c_{pr} x_{pr}.$$\n",
    "\n",
    "In Python this will look like:\n",
    "```python \n",
    "sum(profit_rate[pr] * model.weekly_prod[pr] for pr in products)\n",
    "```\n",
    "\n",
    "**The constraints:**\n",
    "\n",
    "To start, we can make all the constraints look the same:\n",
    "$$\n",
    "\\begin{array}{ccccc}\n",
    "1 x_{\\mbox{doors}} & + & 0 x_{\\mbox{windows}} & \\leq & 4 \\\\\n",
    "0 x_{\\mbox{doors}} & + & 2 x_{\\mbox{windows}} & \\leq & 12 \\\\\n",
    "3 x_{\\mbox{doors}} & + & 2 x_{\\mbox{windows}} & \\leq & 18\n",
    "\\end{array}\n",
    "$$\n",
    "\n",
    "Now we have three constraints, one for each plant, that has the form:\n",
    "$$ (\\mbox{hours per batch of doors}) * x_{\\mbox{doors}} +\n",
    "(\\mbox{hours per batch of windows}) * x_{\\mbox{windows}} \\leq \\mbox{hourly capacity}.$$\n",
    "\n",
    "If we let $h_{pl,pr}$ represent the hours needed for a batch of product $pr$ at plant $pl$ and let $a_{pl}$ be the number of hours available at plant $pl$, then we can express the constraints as:\n",
    "\n",
    "for each plant $pl \\in Pl$ \n",
    "$$ \\sum_{pr \\in Pr} h_{pl,pr} x_{pr} \\leq a_{pl}.$$\n",
    "\n",
    "In Python this will look like:\n",
    "\n",
    "```python \n",
    "sum(hours_per_batch[pl][pr] * model.weekly_prod[pr] for pr in products) <= hours_available[pl]\n",
    "```\n",
    "    \n",
    "For comparison, the concrete and abstract models are shown side-by-side:\n",
    "\n",
    "<table class=\"tleft\">\n",
    "    <tr>\n",
    "        <td><p style=\"padding-right: 120px;\"> <b>Concrete Model</b></p></td>\n",
    "        <td><p style=\"padding-right: 150px;\"> <b>Abstract Model</b></p></td>\n",
    "    </tr>\n",
    "<tr>\n",
    "<td>\n",
    "Maximize $Z = 3 d + 5 w$\n",
    "</td>\n",
    "<td>\n",
    "Maximize $ Z = \\displaystyle \\sum_{pr \\in Pr} c_{pr} x_{pr}$\n",
    "<td>\n",
    "</tr>\n",
    "<tr>\n",
    "<td>\n",
    "Subject to:\n",
    "\n",
    "$\n",
    "\\begin{array}{ccccc}\n",
    " d &   &    & \\leq & 4 \\\\\n",
    "   &   & 2w & \\leq & 12 \\\\\n",
    "3d & + & 2w & \\leq & 18\n",
    "\\end{array}\n",
    "$\n",
    "</td>\n",
    "<td>\n",
    "Subject to:\n",
    "\n",
    "$ \\displaystyle \\sum_{pr \\in Pr} h_{pl,pr} x_{pr} \\leq a_{pl}, \\mbox{ for each } pl \\in Pl$\n",
    "<td>\n",
    "</tr>\n",
    "<tr>\n",
    "<td>\n",
    "$d \\geq 0$, $w \\geq 0$\n",
    "</td>\n",
    "<td>\n",
    "$ x_{pr} \\geq 0, \\mbox{ for each } pr \\in Pr$ \n",
    "<td>\n",
    "</tr>   \n",
    "</table>"
   ]
  },
  {
   "cell_type": "markdown",
   "metadata": {
    "collapsed": false
   },
   "source": [
    "In the Pyomo solutions below we'll share a few different approaches for the data structures used to both store the problem data and to construct the model.  In each case we share some pluses and minuses to each approach.  We offer a video for the first solution and code for all the approaches.  After the four solution approaches we discuss some advantages and disadvantages to each approach. *If four approaches is too many, then just focus on the second as it will work for all the problems we encounter.*"
   ]
  },
  {
   "cell_type": "markdown",
   "metadata": {
    "collapsed": false,
    "heading_collapsed": true
   },
   "source": [
    "### Explanation of Pyomo Solution 1 (video)"
   ]
  },
  {
   "cell_type": "markdown",
   "metadata": {
    "collapsed": false,
    "hidden": true
   },
   "source": [
    "The video below explains some parts of the solution code.  If you're content to study the code on your own, then you don't need to watch it.  There is a bit in the middle that shows you how to view the abstractly constructed constraints that is generally useful."
   ]
  },
  {
   "cell_type": "code",
   "execution_count": 2,
   "metadata": {
    "code_folding": [
     0
    ],
    "collapsed": false,
    "hidden": true
   },
   "outputs": [
    {
     "data": {
      "text/html": [
       "\n",
       "        <iframe\n",
       "            width=\"640\"\n",
       "            height=\"360\"\n",
       "            src=\"https://media.uwex.edu/content/ds/ds775_r19/ds775_lesson2-wyndor-abstract/index.html\"\n",
       "            frameborder=\"0\"\n",
       "            allowfullscreen\n",
       "        ></iframe>\n",
       "        "
      ],
      "text/plain": [
       "<IPython.lib.display.IFrame at 0x7f3149eaeac0>"
      ]
     },
     "execution_count": 2,
     "metadata": {
     },
     "output_type": "execute_result"
    }
   ],
   "source": [
    "# execute this cell for video\n",
    "play_video(\"ds775_lesson2-wyndor-abstract\")"
   ]
  },
  {
   "cell_type": "markdown",
   "metadata": {
    "collapsed": false
   },
   "source": [
    "### Pyomo Solution 1\n",
    "\n",
    "This solution is the one referenced in the video.  Here the data and the model are separated quite well, but the dictionaries for the model data are fully typed out which isn't practical except for tiny models.   For larger models the data would be loaded into lists or arrays from a file or database then the data would be parsed into dictionaries or Pandas series and dataframes.  The advantage to those data structures is that they allow us to reference the data using strings that label the variables and constraints which makes the models easier to read and debug.\n",
    "\n",
    "Further below we present 3 other solution approaches that illustrate different approaches to storing the problem data and using it in the model construction.  After each solution we'll both print out the model and also note some pluses and minuses for that approach."
   ]
  },
  {
   "cell_type": "code",
   "execution_count": 3,
   "metadata": {
    "code_folding": [
    ],
    "collapsed": false
   },
   "outputs": [
    {
     "name": "stdout",
     "output_type": "stream",
     "text": [
      "Maximum Profit = $36,000.00\n",
      "Batches of Doors = 2.0\n",
      "Batches of Windows = 6.0\n"
     ]
    }
   ],
   "source": [
    "# abstract Wyndor\n",
    "\n",
    "### PROBLEM DATA ###\n",
    "products = ['Doors', 'Windows']\n",
    "plants = ['Plant1', 'Plant2', 'Plant3']\n",
    "profit_rate = {'Doors': 3, 'Windows': 5}\n",
    "hours_available = {'Plant1': 4, 'Plant2': 12, 'Plant3': 18}\n",
    "hours_per_batch = {\n",
    "    'Plant1': {\n",
    "        'Doors': 1,\n",
    "        'Windows': 0\n",
    "    },\n",
    "    'Plant2': {\n",
    "        'Doors': 0,\n",
    "        'Windows': 2\n",
    "    },\n",
    "    'Plant3': {\n",
    "        'Doors': 3,\n",
    "        'Windows': 2\n",
    "    }\n",
    "}\n",
    "\n",
    "### MODEL CONSTRUCTION ###\n",
    "#Declaration\n",
    "model = ConcreteModel()\n",
    "\n",
    "#Decision Variables\n",
    "model.weekly_prod = Var(products, domain=NonNegativeReals)\n",
    "\n",
    "#Objective\n",
    "model.profit = Objective(expr=sum(profit_rate[pr] * model.weekly_prod[pr]\n",
    "                               for pr in products),\n",
    "                      sense=maximize)\n",
    "\n",
    "#Constraints\n",
    "model.capacity = ConstraintList()\n",
    "for pl in plants:\n",
    "    model.capacity.add(\n",
    "        sum(hours_per_batch[pl][pr] * model.weekly_prod[pr]\n",
    "            for pr in products) <= hours_available[pl])\n",
    "\n",
    "### SOLUTION ###\n",
    "solver = SolverFactory('glpk')\n",
    "solver.solve(model)\n",
    "\n",
    "### OUTPUT ###\n",
    "\n",
    "# note that we're using f-strings for output here which is a little different and cleaner than in the video\n",
    "print(f\"Maximum Profit = ${1000*model.profit():,.2f}\")\n",
    "for j in products:\n",
    "    print(f\"Batches of {j} = {model.weekly_prod[j]():.1f}\")"
   ]
  },
  {
   "cell_type": "markdown",
   "metadata": {
    "collapsed": false
   },
   "source": [
    "Here is what the constraints and objective function look like with the labeled variables:"
   ]
  },
  {
   "cell_type": "code",
   "execution_count": 4,
   "metadata": {
    "collapsed": false
   },
   "outputs": [
    {
     "name": "stdout",
     "output_type": "stream",
     "text": [
      "profit : Size=1, Index=None, Active=True\n",
      "    Key  : Active : Sense    : Expression\n",
      "    None :   True : maximize : 3*weekly_prod[Doors] + 5*weekly_prod[Windows]\n",
      "capacity : Size=3, Index=capacity_index, Active=True\n",
      "    Key : Lower : Body                                          : Upper : Active\n",
      "      1 :  -Inf :                            weekly_prod[Doors] :   4.0 :   True\n",
      "      2 :  -Inf :                        2*weekly_prod[Windows] :  12.0 :   True\n",
      "      3 :  -Inf : 3*weekly_prod[Doors] + 2*weekly_prod[Windows] :  18.0 :   True\n"
     ]
    }
   ],
   "source": [
    "# the objective function:\n",
    "model.profit.pprint()\n",
    "\n",
    "# the constraints:\n",
    "model.capacity.pprint()"
   ]
  },
  {
   "cell_type": "markdown",
   "metadata": {
    "collapsed": false
   },
   "source": [
    "Notice that using meaningful labels for the variables and the indices make it easier to read and debug the model which is a big plus.  The downside to the data approach above is that we had to type out the dictionaries that store all the model parameters.  That wouldn't be feasible to larger models.  We explore a better approach in the next solution.\n",
    "\n",
    "### Pyomo Solution 2 (Solutions 2 and 3 are the preferred approaches for homework)\n",
    "\n",
    "The only difference here is that we have the data loaded into lists that might be similar to how the data would appear after it is loaded from an external source. The data is parsed from the lists into dictionaries to facilitate the model construction. The model construction and solution are identical to those in Solution 1.  At the end of this notebook you'll find several examples of constructing dictionaries from lists.  We also use this approach throughout our examples and homework solutions.  You could use a similar approach for constructing dictionaries from any array-like data type."
   ]
  },
  {
   "cell_type": "code",
   "execution_count": 5,
   "metadata": {
    "collapsed": false
   },
   "outputs": [
    {
     "name": "stdout",
     "output_type": "stream",
     "text": [
      "Maximum Profit = $36,000.00\n",
      "Batches of Doors = 2.0\n",
      "Batches of Windows = 6.0\n"
     ]
    }
   ],
   "source": [
    "### PROBLEM DATA ###\n",
    "\n",
    "# load data\n",
    "products = ['Doors', 'Windows']\n",
    "plants = ['Plant1', 'Plant2', 'Plant3']\n",
    "profit_rate_list = [3,5]\n",
    "hours_avail_list = [4,12,18]\n",
    "hours_per_batch_list = [ [1,0], [0,2], [3,2] ]\n",
    "\n",
    "# parse lists into dictionaries\n",
    "profit_rate = dict( zip( products, profit_rate_list) )\n",
    "hours_available = dict( zip( plants, hours_avail_list) )\n",
    "hours_per_batch = { pl: { pr: hours_per_batch_list[i][j] for j,pr in enumerate(products)} for i,pl in enumerate(plants)}\n",
    "\n",
    "### MODEL CONSTRUCTION ###\n",
    "#Declaration\n",
    "model = ConcreteModel()\n",
    "\n",
    "#Decision Variables\n",
    "model.weekly_prod = Var(products, domain=NonNegativeReals)\n",
    "\n",
    "#Objective\n",
    "model.profit = Objective(expr=sum(profit_rate[pr] * model.weekly_prod[pr]\n",
    "                               for pr in products),\n",
    "                      sense=maximize)\n",
    "\n",
    "#Constraints\n",
    "model.capacity = ConstraintList()\n",
    "for pl in plants:\n",
    "    model.capacity.add(\n",
    "        sum(hours_per_batch[pl][pr] * model.weekly_prod[pr]\n",
    "            for pr in products) <= hours_available[pl])\n",
    "\n",
    "### SOLUTION ###\n",
    "solver = SolverFactory('glpk')\n",
    "solver.solve(model)\n",
    "\n",
    "### OUTPUT ###\n",
    "\n",
    "# note that we're using f-strings for output here which is a little different and cleaner than in the video\n",
    "print(f\"Maximum Profit = ${1000*model.profit():,.2f}\")\n",
    "for j in products:\n",
    "    print(f\"Batches of {j} = {model.weekly_prod[j]():.1f}\")"
   ]
  },
  {
   "cell_type": "markdown",
   "metadata": {
    "collapsed": false
   },
   "source": [
    "### Pyomo Solution 3\n",
    "\n",
    "**Solution approaches 2 and 3 are what you should use in the homework.  We almost always use approach 2 in the lessons and solutions.**\n",
    "\n",
    "This is similar to Solution 2 except the data is parsed from the lists into Pandas dataframes and series to facilitate the model construction.  The advantage to Pandas objects is that we can use our lists of labels as indices.  In the model construction we only had to change how the values in `hours_per_batch` are referenced.  This approach will work on most problems, but we'll encounter a problem in the next lesson with three index variables for which you'll need to use dictionaries."
   ]
  },
  {
   "cell_type": "code",
   "execution_count": 6,
   "metadata": {
    "collapsed": false
   },
   "outputs": [
    {
     "name": "stdout",
     "output_type": "stream",
     "text": [
      "Maximum Profit = $36,000.00\n",
      "Batches of Doors = 2.0\n",
      "Batches of Windows = 6.0\n"
     ]
    }
   ],
   "source": [
    "### PROBLEM DATA ###\n",
    "\n",
    "# load data\n",
    "products = ['Doors', 'Windows']\n",
    "plants = ['Plant1', 'Plant2', 'Plant3']\n",
    "profit_rate_list = [3,5]\n",
    "hours_avail_list = [4,12,18]\n",
    "hours_per_batch_list = [ [1,0], [0,2], [3,2] ]\n",
    "\n",
    "# parse lists into Pandas\n",
    "profit_rate = pd.Series( profit_rate_list, index = products)\n",
    "hours_available = pd.Series( hours_avail_list, index = plants)\n",
    "hours_per_batch = pd.DataFrame( hours_per_batch_list, index = plants, columns = products)\n",
    "\n",
    "### MODEL CONSTRUCTION ###\n",
    "#Declaration\n",
    "model = ConcreteModel()\n",
    "\n",
    "#Decision Variables\n",
    "model.weekly_prod = Var(products, domain=NonNegativeReals)\n",
    "\n",
    "#Objective\n",
    "model.profit = Objective(expr=sum(profit_rate[pr] * model.weekly_prod[pr]\n",
    "                               for pr in products),\n",
    "                      sense=maximize)\n",
    "\n",
    "#Constraints\n",
    "model.capacity = ConstraintList()\n",
    "for pl in plants:\n",
    "    model.capacity.add(\n",
    "        sum(hours_per_batch.loc[pl,pr] * model.weekly_prod[pr]\n",
    "            for pr in products) <= hours_available[pl])\n",
    "\n",
    "### SOLUTION ###\n",
    "solver = SolverFactory('glpk')\n",
    "solver.solve(model)\n",
    "\n",
    "### OUTPUT ###\n",
    "\n",
    "# note that we're using f-strings for output here which is a little different and cleaner than in the video\n",
    "print(f\"Maximum Profit = ${1000*model.profit():,.2f}\")\n",
    "for j in products:\n",
    "    print(f\"Batches of {j} = {model.weekly_prod[j]():.1f}\")"
   ]
  },
  {
   "cell_type": "markdown",
   "metadata": {
    "collapsed": false
   },
   "source": [
    "### Pyomo Solution 4\n",
    "\n",
    "In this solution we loop over the lists directly in the model construction.  This approach is fine for quick and dirty solutions, but when possible the model and code should be written using meaningful index variables as in Solutions 2 and 3."
   ]
  },
  {
   "cell_type": "code",
   "execution_count": 7,
   "metadata": {
    "collapsed": false
   },
   "outputs": [
    {
     "name": "stdout",
     "output_type": "stream",
     "text": [
      "Maximum Profit = $36,000.00\n",
      "Batches of 0 = 2\n",
      "Batches of 1 = 6\n"
     ]
    }
   ],
   "source": [
    "### PROBLEM DATA ###\n",
    "\n",
    "# load data\n",
    "num_products = 2\n",
    "num_plants = 3\n",
    "profit_rate = [3,5]\n",
    "hours_available = [4,12,18]\n",
    "hours_per_batch = [[1,0],[0,2],[3,2]]\n",
    "\n",
    "### MODEL CONSTRUCTION ###\n",
    "#Declaration\n",
    "model = ConcreteModel()\n",
    "\n",
    "#Decision Variables\n",
    "model.weekly_prod = Var(range(num_products), domain=NonNegativeReals)\n",
    "\n",
    "#Objective\n",
    "model.profit = Objective(expr=sum(profit_rate[pr] * model.weekly_prod[pr]\n",
    "                               for pr in range(num_products)),\n",
    "                      sense=maximize)\n",
    "\n",
    "# Constraints\n",
    "model.capacity = ConstraintList()\n",
    "for pl in range(num_plants):\n",
    "    model.capacity.add(\n",
    "        sum(hours_per_batch[pl][pr] * model.weekly_prod[pr]\n",
    "            for pr in range(num_products)) <= hours_available[pl])\n",
    "\n",
    "### SOLUTION ###\n",
    "solver = SolverFactory('glpk')\n",
    "solver.solve(model)\n",
    "\n",
    "### OUTPUT ###\n",
    "print(f\"Maximum Profit = ${1000*model.profit():,.2f}\")\n",
    "for pr in range(num_products):\n",
    "    print(f\"Batches of {pr} = {model.weekly_prod[pr]():.0f}\")"
   ]
  },
  {
   "cell_type": "markdown",
   "metadata": {
    "collapsed": false
   },
   "source": [
    "The model code really hasn't changed much other than our loops are indexed by integers instead of lists of labels.  This makes the model output a little harder to read and debug because we don't know which index values correspond to Windows or Doors:"
   ]
  },
  {
   "cell_type": "code",
   "execution_count": 8,
   "metadata": {
    "collapsed": false
   },
   "outputs": [
    {
     "name": "stdout",
     "output_type": "stream",
     "text": [
      "profit : Size=1, Index=None, Active=True\n",
      "    Key  : Active : Sense    : Expression\n",
      "    None :   True : maximize : 3*weekly_prod[0] + 5*weekly_prod[1]\n",
      "capacity : Size=3, Index=capacity_index, Active=True\n",
      "    Key : Lower : Body                                : Upper : Active\n",
      "      1 :  -Inf :                      weekly_prod[0] :   4.0 :   True\n",
      "      2 :  -Inf :                    2*weekly_prod[1] :  12.0 :   True\n",
      "      3 :  -Inf : 3*weekly_prod[0] + 2*weekly_prod[1] :  18.0 :   True\n"
     ]
    }
   ],
   "source": [
    "# the objective function:\n",
    "model.profit.pprint()\n",
    "\n",
    "# the constraints:\n",
    "model.capacity.pprint()"
   ]
  },
  {
   "cell_type": "markdown",
   "metadata": {
    "collapsed": false
   },
   "source": [
    "For a small model such as this one it's still pretty easy to read the output and sort out the decision variables, but using meaningful labels can be really helpful for larger problems so we ask you not to use this approach in your homework.\n",
    "\n",
    "#### Advantages and Disadvantages for the Four Approaches\n",
    "\n",
    "The models are essentially the same in all four approaches, but the data preparation and labeling is different.  \n",
    "\n",
    "* Solution 1 - Typing the dictionaries directly\n",
    "    * Advantage:  it's easy to type out the dictionaries for small problems\n",
    "    * Disadvantage: typing out the dictionaries for large problems isn't feasible\n",
    "* Solution 2 - Building dictionaries from lists (Preferred)\n",
    "    * Advantage:  if the data is loaded in to lists (arrays or numpy arrays would also work well) then dictionaries of any size can be built;  more levels of nesting can be used to accommodate variables with more than two indices (we'll meet an example in Lesson 3)\n",
    "    * Disadvantage:  The code is harder to write and requires some mastery of dictionaries.\n",
    "*  Solution 3 - Building Pandas data frames and series from lists or other array types (Preferred)\n",
    "    * Advantage - accommodates large problems easily; data frames and series are easier to construct than dictionaries\n",
    "    * Disadvantage - limited to problems in which the variables have one or two indices.\n",
    "*  Solution 4 - Using integers to loop directly over lists or arrays\n",
    "    * Advantage - requires very little effort to prepare the data other than loading into lists or arrays\n",
    "    * Disadvantages - code may be less readable and model output is more difficult to interpret\n",
    "\n",
    "#### Goals and Guidelines for Abstract Modeling\n",
    "\n",
    "* Separate the data from the model.  You can type out lists or arrays with the raw data, but you should parse the coefficients into dictionaries or Pandas objects to be used in the model.  In general you should pretend that the data is being loaded into lists, dataframes, or arrays and then processed before model construction.\n",
    "* Suppose you want to write all of your constraints as \"$\\leq$\" but you have some that go the wrong direction.  For example\n",
    "$$ 3x - 2y \\geq 5.$$  If you multiply both sides by $(-1)$ it reverses the inequality to yield $$ -3x + 2y \\leq -5.$$\n",
    "* Getting all the inequality constraints in the same direction helps because the coefficients can be stored and used to construct the inequalities via a loop as we did with the Wyndor model above.\n",
    "* Going forward, you'll lose points on your homework if you type out coefficients instead of using the abstract approach introduced here.  It's more difficult, but it's essential for working with large problems.  It's also great practice toward writing reusable code.\n",
    "* If you want additional practice, many of the self-assessment problems below include abstract formulations.\n"
   ]
  },
  {
   "cell_type": "markdown",
   "metadata": {
    "collapsed": false
   },
   "source": [
    "### *Self Assessment: Investment Allocation*"
   ]
  },
  {
   "cell_type": "markdown",
   "metadata": {
    "collapsed": false
   },
   "source": [
    "**Textbook Problem 3.2-3.** This is your lucky day. You have just won a \\$20,000\n",
    "  prize. You are setting aside \\$8,000 for taxes and partying\n",
    "  expenses, but you have decided to invest the other \\$12,000. Upon\n",
    "  hearing this news, two different friends have offered you an\n",
    "  opportunity to become a partner in two different entrepreneurial\n",
    "  ventures, one planned by each friend. In both cases, this investment\n",
    "  would involve expending some of your time next summer as well as\n",
    "  putting up cash. Becoming a full partner in the first friend’s\n",
    "  venture would require an investment of \\$10,000 and 400 hours, and\n",
    "  your estimated profit (ignoring the value of your time) would be\n",
    "  \\$9,000. The corresponding figures for the second friend’s venture\n",
    "  are \\$8,000 and 500 hours, with an estimated profit to you of\n",
    "  \\$9,000. However, both friends are flexible and would allow you to\n",
    "  come in at any fraction of a full partnership you would like. If you\n",
    "  choose a fraction of a full partnership, all the above figures given\n",
    "  for a full partnership (money investment, time investment, and your\n",
    "  profit) would be multiplied by this same fraction.  Because you were\n",
    "  looking for an interesting summer job anyway (maximum of 600 hours),\n",
    "  you have decided to participate in one or both friends’ ventures in\n",
    "  whichever combination would maximize your total estimated\n",
    "  profit. You now need to solve the problem of finding the best\n",
    "  combination.\n",
    "\n",
    "This self-assessment problem was also in Lesson 1 where you formulated and solved a linear model using the graphical method. Now copy and paste the code from the Wyndor problem above into a new cell and adapt it to solve this problem."
   ]
  },
  {
   "cell_type": "code",
   "execution_count": 0,
   "metadata": {
    "collapsed": false
   },
   "outputs": [
   ],
   "source": [
   ]
  },
  {
   "cell_type": "markdown",
   "metadata": {
    "collapsed": false
   },
   "source": [
    "## Web Mercantile - Abstract Formulation"
   ]
  },
  {
   "cell_type": "markdown",
   "metadata": {
    "collapsed": false
   },
   "source": [
    "We first saw this problem in Lesson 1 where it was solved by introducing individual variables for each possible month and lease duration combination.  Such an approach was possible over a five month span, but imagine typing all of the variables and constraints for a 24 month, or longer, time period.  In the solution below, using indexed variables, the code can be easily adapted to any time period.  \n",
    "\n",
    "The primary difference between this and the Wyndor example above is that the decision variables depend on both the month and the duration so they form an array.  Study this example to see "
   ]
  },
  {
   "cell_type": "markdown",
   "metadata": {
    "collapsed": false
   },
   "source": [
    "### Problem Description"
   ]
  },
  {
   "cell_type": "markdown",
   "metadata": {
    "collapsed": false
   },
   "source": [
    "This is problem 3.4-9, page 85, from the textbook.\n",
    "\n",
    "Web Mercantile sells many household products through an online catalog. The company needs substantial warehouse space for storing its goods. Plans now are being made for leasing warehouse storage space over the next 5 months. Just how much space will be required in each of these months is known. However, since these space requirements are quite different, it may be most economical to lease only the amount needed each month on a month-by-month basis. On the other hand, the additional cost for leasing space for additional months is much less than for the first month, so it may be less expensive to lease the maximum amount required for the entire 5 months. Another option is the intermediate approach of changing the total amount of space leased (by adding a new lease and/or having an old lease expire) at least once but not every month.\n",
    "\n",
    "The space requirement and the leasing costs for the various leasing periods are as follows:\n",
    "\n",
    "<img src=\"images/problem3p4-9.png\" width=\"440\">  "
   ]
  },
  {
   "cell_type": "markdown",
   "metadata": {
    "collapsed": false
   },
   "source": [
    "### Mathematical Formulation ###"
   ]
  },
  {
   "cell_type": "markdown",
   "metadata": {
    "collapsed": false
   },
   "source": [
    "Let $x_{m,d}$ represent the number of square feet to lease for $d$ months at the beginning of month $m$.\n",
    "\n",
    "Let $r_d$ be the cost per square foot of leasing for a duration of $d$ months.\n",
    "\n",
    "Let $s_m$ be the number of square feet required in month $m$.\n",
    "\n",
    "Let $M$ be the set of months, e.g. $M = \\{1,2,3,4,5\\}.$\n",
    "\n",
    "Let $D$ be the set of possible durations, e.g. $\\{1,2,3,4,5\\}.$\n",
    "\n",
    "The total cost of leasing, to be minimized is:\n",
    "\n",
    "$$ Z = \\sum_{m \\in M} \\sum_{d \\in D} r_d x_{m,d}.$$\n",
    "\n",
    "Note, that $x_{m,d}$ will be 0 for some combinations of $m$ and $d$.  For instance, we'll have a constraint that $x_{5,2} = 0$ since in month 5 we cannot lease office space for 2 months.  In fact, if $m+d > 6$ we must have $x_{m,d} = 0$.  If we let $n_{mon}$ be the total number of months (e.g. $n_{mon} = 5$), then the constraint is \n",
    "$$ x_{m,d} = 0 \\mbox{ if } m + d > n_{mon} $$\n",
    "\n",
    "For the final constraint we need to make sure we have adequate space leased in each month.  We'll have to take into consideration that, for example, a lease made for 2 months at the beginning of month 1 will be available in the second month, but not in the third month. For each month we'll have add up all of the square feet that are leased in both the current month and previous months that are still available.  Mathematically, we can add conditions to our sum like this:\n",
    "\n",
    "for month $m$\n",
    "\n",
    "$$ \\sum_{i \\in M \\mbox{ if } i \\leq m} \\sum_{\\mbox{  }d \\in D \\mbox{ if } i + d > m} x_{i,d} \\geq s_m. $$\n",
    "\n",
    "That sum looks pretty complicated, but the first sum says to add up the leased square feet for all months up to and including the current month.  The second sum says to add only the leased square feet for unexpired leases.  If we treat the indices as integers we could also write it this way, for each month $m$:\n",
    "\n",
    "$$ \\sum_{i = 1}^m \\sum_{d = m - i + 1}^{m} x_{m,d} \\geq s_m.$$\n",
    "\n",
    "Still confused? Look at the data frame below where we have months as rows and durations as columns:"
   ]
  },
  {
   "cell_type": "code",
   "execution_count": 9,
   "metadata": {
    "code_folding": [
    ],
    "collapsed": false
   },
   "outputs": [
    {
     "data": {
      "text/html": [
       "<div>\n",
       "<style scoped>\n",
       "    .dataframe tbody tr th:only-of-type {\n",
       "        vertical-align: middle;\n",
       "    }\n",
       "\n",
       "    .dataframe tbody tr th {\n",
       "        vertical-align: top;\n",
       "    }\n",
       "\n",
       "    .dataframe thead th {\n",
       "        text-align: right;\n",
       "    }\n",
       "</style>\n",
       "<table border=\"1\" class=\"dataframe\">\n",
       "  <thead>\n",
       "    <tr style=\"text-align: right;\">\n",
       "      <th></th>\n",
       "      <th>1</th>\n",
       "      <th>2</th>\n",
       "      <th>3</th>\n",
       "      <th>4</th>\n",
       "      <th>5</th>\n",
       "    </tr>\n",
       "  </thead>\n",
       "  <tbody>\n",
       "    <tr>\n",
       "      <th>1</th>\n",
       "      <td>10</td>\n",
       "      <td>11</td>\n",
       "      <td>12</td>\n",
       "      <td>13</td>\n",
       "      <td>14</td>\n",
       "    </tr>\n",
       "    <tr>\n",
       "      <th>2</th>\n",
       "      <td>15</td>\n",
       "      <td>16</td>\n",
       "      <td>17</td>\n",
       "      <td>18</td>\n",
       "      <td>0</td>\n",
       "    </tr>\n",
       "    <tr>\n",
       "      <th>3</th>\n",
       "      <td>19</td>\n",
       "      <td>20</td>\n",
       "      <td>21</td>\n",
       "      <td>0</td>\n",
       "      <td>0</td>\n",
       "    </tr>\n",
       "    <tr>\n",
       "      <th>4</th>\n",
       "      <td>22</td>\n",
       "      <td>23</td>\n",
       "      <td>0</td>\n",
       "      <td>0</td>\n",
       "      <td>0</td>\n",
       "    </tr>\n",
       "    <tr>\n",
       "      <th>5</th>\n",
       "      <td>24</td>\n",
       "      <td>0</td>\n",
       "      <td>0</td>\n",
       "      <td>0</td>\n",
       "      <td>0</td>\n",
       "    </tr>\n",
       "  </tbody>\n",
       "</table>\n",
       "</div>"
      ],
      "text/plain": [
       "    1   2   3   4   5\n",
       "1  10  11  12  13  14\n",
       "2  15  16  17  18   0\n",
       "3  19  20  21   0   0\n",
       "4  22  23   0   0   0\n",
       "5  24   0   0   0   0"
      ]
     },
     "execution_count": 9,
     "metadata": {
     },
     "output_type": "execute_result"
    }
   ],
   "source": [
    "# details not important, dataframe for example\n",
    "df = pd.DataFrame([[10, 11, 12, 13, 14],[15,16,17,18,0],[19,20,21,0,0],[22,23,0,0,0],[24,0,0,0,0]], \n",
    "                  index = [1,2,3,4,5], columns = [1,2,3,4,5] )\n",
    "df"
   ]
  },
  {
   "cell_type": "markdown",
   "metadata": {
    "collapsed": false
   },
   "source": [
    "In month 1 the number of square feet leased is $10 + 11 + 12 + 13 + 14 = 60$.\n",
    "\n",
    "In month 2 the number of square feet leased is $11 + 12 + 13 + 14 + 15 + 16 + 17 + 18 = 116.$  Notice that the sum includes all the rentals from months 1 and 2 except for the 10 square feet rented at the beginning of month 1 for a duration of 1 month.  That term is not included in the sum because $i + d = 1 + 1 = 2$ is not greater than 2 indicating that the 10 square feet is not available in month 2.\n",
    "\n",
    "How many square feet are available in month 3?  In month 4?  In month 5?  (answers are 150, 148, and 100 respectively)"
   ]
  },
  {
   "cell_type": "markdown",
   "metadata": {
    "collapsed": false,
    "heading_collapsed": true
   },
   "source": [
    "### Explanation of Pyomo Solution (video)"
   ]
  },
  {
   "cell_type": "markdown",
   "metadata": {
    "collapsed": false,
    "hidden": true
   },
   "source": [
    "The video below explains some parts of the solution code.  If you're content to study the code on you own, then you don't need to watch it. "
   ]
  },
  {
   "cell_type": "code",
   "execution_count": 10,
   "metadata": {
    "code_folding": [
     0
    ],
    "collapsed": false,
    "hidden": true
   },
   "outputs": [
    {
     "data": {
      "text/html": [
       "\n",
       "        <iframe\n",
       "            width=\"640\"\n",
       "            height=\"360\"\n",
       "            src=\"https://media.uwex.edu/content/ds/ds775_r19/ds775_lesson2-webmercantile-abstract/index.html\"\n",
       "            frameborder=\"0\"\n",
       "            allowfullscreen\n",
       "        ></iframe>\n",
       "        "
      ],
      "text/plain": [
       "<IPython.lib.display.IFrame at 0x7f312b0b8a60>"
      ]
     },
     "execution_count": 10,
     "metadata": {
     },
     "output_type": "execute_result"
    }
   ],
   "source": [
    "# execute this cell for video\n",
    "play_video(\"ds775_lesson2-webmercantile-abstract\")"
   ]
  },
  {
   "cell_type": "markdown",
   "metadata": {
    "collapsed": false
   },
   "source": [
    "### Pyomo Solution"
   ]
  },
  {
   "cell_type": "code",
   "execution_count": 11,
   "metadata": {
    "code_folding": [
     0
    ],
    "collapsed": false
   },
   "outputs": [
    {
     "name": "stdout",
     "output_type": "stream",
     "text": [
      "Total Cost = $7,650,000.00\n",
      "\n",
      "Here are the amounts to lease by month and duration:\n",
      "Lease 30000 sq ft in month 1 for 5 months\n",
      "Lease 10000 sq ft in month 3 for 1 months\n",
      "Lease 20000 sq ft in month 5 for 1 months\n",
      "\n",
      "Here are the amounts needed and the total amount needed in each month:\n",
      "In month 1, 30000 square feet are needed and 30000 square feet are leased\n",
      "In month 2, 20000 square feet are needed and 30000 square feet are leased\n",
      "In month 3, 40000 square feet are needed and 40000 square feet are leased\n",
      "In month 4, 10000 square feet are needed and 30000 square feet are leased\n",
      "In month 5, 50000 square feet are needed and 50000 square feet are leased\n"
     ]
    }
   ],
   "source": [
    "# abstract Web Mercantile\n",
    "\n",
    "### Problem Data ###\n",
    "num_months = 5\n",
    "max_duration = 5\n",
    "\n",
    "months = range(1, num_months + 1) # generates 1, 2, ..., num_months\n",
    "durations = range(1, max_duration + 1) # generates 1, 2, ..., max_duration\n",
    "\n",
    "rent = dict(zip(durations, [65, 100, 135, 160, 190]))\n",
    "space = dict(zip(months, [30000, 20000, 40000, 10000, 50000]))\n",
    "\n",
    "### Pyomo Model ###\n",
    "\n",
    "# Concrete Model\n",
    "model = ConcreteModel(name=\"WebMerc2\")\n",
    "\n",
    "# Decision Variables\n",
    "model.x_sqft = Var(months, durations, domain=NonNegativeReals)\n",
    "\n",
    "# Objective (minimize is the default so it's not stated explicitly here)\n",
    "model.obj = Objective(expr=sum(rent[d] * model.x_sqft[m, d] for m in months\n",
    "                               for d in durations))\n",
    "\n",
    "# Constraints\n",
    "model.space_ct = ConstraintList()\n",
    "for month in months:\n",
    "    model.space_ct.add(\n",
    "        sum(model.x_sqft[m, d] for m in months for d in durations\n",
    "            if m <= month and m + d > month) >= space[month])\n",
    "\n",
    "model.time_rule_ct = ConstraintList()\n",
    "for m in months:\n",
    "    for d in durations:\n",
    "        if m + d > num_months + 1:\n",
    "            model.time_rule_ct.add(model.x_sqft[m, d] == 0)\n",
    "\n",
    "### Solution ###\n",
    "\n",
    "solver = SolverFactory('glpk')\n",
    "solver.solve(model)\n",
    "\n",
    "### Display ###\n",
    "# note that output is formatted with f-strings unlike the video\n",
    "\n",
    "print(f\"Total Cost = ${model.obj():,.2f}\")\n",
    "\n",
    "print(\"\\nHere are the amounts to lease by month and duration:\")\n",
    "for m in months:\n",
    "    for d in durations:\n",
    "        if model.x_sqft[m, d]() > 0:\n",
    "            print(f\"Lease {model.x_sqft[m, d]():.0f} sq ft in month {m:d} for {d:d} months\")\n",
    "\n",
    "print(\"\\nHere are the amounts needed and the total amount needed in each month:\")\n",
    "for m in months:\n",
    "    amount_leased = sum(model.x_sqft[i, d]() for d in durations for i in months if i <= m and i + d > m)\n",
    "    print(f\"In month {m:d}, {space[m]:.0f} square feet are needed and {amount_leased:.0f} square feet are leased\")"
   ]
  },
  {
   "cell_type": "markdown",
   "metadata": {
    "collapsed": false,
    "heading_collapsed": true
   },
   "source": [
    "### *Self Assessment: A Holiday Factory*"
   ]
  },
  {
   "cell_type": "markdown",
   "metadata": {
    "collapsed": false,
    "hidden": true
   },
   "source": [
    "A company is planning to design and manufacture children's toys over an 11-month span prior to a major holiday.  In the beginning, the company won't need much space to design and plan the toy, but the square footage required will grow as they stockpile parts for the toys and start manufacturing.  Toward the end of the 11-month span the square feet required will start to diminish as toys are shipped to stores and distribution centers.  The square feet needed in each month is as follows:\n",
    "\n",
    "Month | Square Feet | Month | Square Feet\n",
    "--- | --- | --- | ---\n",
    "1 | 2000 | 7 | 10000\n",
    "2 | 2000 | 8 | 10000\n",
    "3 | 3000 | 9 | 9000\n",
    "4 | 4000 | 10 | 7000\n",
    "5 | 6000 | 11 | 5000\n",
    "6 | 10000\n",
    "\n",
    "\n",
    "The rent per square foot starts at $20 per month, but decreases for leases of longer duration as follows. \n",
    "\n",
    "Duration (months) | Rent (\\$ per square foot)\n",
    "--- | --- \n",
    "1 | 20 \n",
    "2 | 20 + 19 = 39 \n",
    "3 | 20 + 19 + 18 = 57\n",
    "$\\vdots$ | $\\vdots$\n",
    "11 | 165\n",
    "\n",
    "Learn how easy it is to reuse models by figuring out the pattern for durations and then adapting the example code above to find the minimum cost for the leasing the required square footage.  Try to find a way to compute the rent for each duration using a sum or a formula instead of just computing each by \"hand\"."
   ]
  },
  {
   "cell_type": "markdown",
   "metadata": {
    "collapsed": false
   },
   "source": [
    "## Sausages Blending - Abstract Formulation"
   ]
  },
  {
   "cell_type": "markdown",
   "metadata": {
    "collapsed": false
   },
   "source": [
    "This example, first presented in Lesson 1, is adapted from here: http://benalexkeen.com/linear-programming-with-python-and-pulp-part-4/.  \n",
    "        \n",
    "In Lesson 1 this problem was formulated and solved by introducing individual variables for each ingredient and sausage type.  Here, we'll use an array of variables and configure the objective function and constraints in a way that can be more easily generalized.\n",
    "The second will be to write the model in a way that can be easily extended."
   ]
  },
  {
   "cell_type": "markdown",
   "metadata": {
    "collapsed": false
   },
   "source": [
    "### Problem Description"
   ]
  },
  {
   "cell_type": "markdown",
   "metadata": {
    "collapsed": false
   },
   "source": [
    "We're going to make sausages by blending pork, wheat, and starch.  Our objective is to minimize the cost of making the sausages.  The table below shows the ingredients available, the cost, and the amount of each ingredient available from our supplier:\n",
    "\n",
    "Ingredient | Cost ($/kg) | Amount (kg)\n",
    "-----------|------|--------------\n",
    "Pork       | 4.32 | 7\n",
    "Wheat      | 2.46 | 20.0\n",
    "Starch     | 1.86 | 17\n",
    "\n",
    "Additionally, we have 23 kg of pork on hand that we must use in the sausages.\n",
    "\n",
    "We want to make 2 types of sausage:\n",
    "* Economy ( > 40\\% pork)\n",
    "* Premium ( > 60\\% pork)\n",
    "\n",
    "Each sausage is 50 grams (0.05 kg).\n",
    "\n",
    "According to government regulations, the most starch we can use in our sausages is 25\\% by weight.\n",
    "\n",
    "We have a demand for 350 economy sausages and 500 premium sausages."
   ]
  },
  {
   "cell_type": "markdown",
   "metadata": {
    "collapsed": false,
    "heading_collapsed": true
   },
   "source": [
    "### Mathematical formulation"
   ]
  },
  {
   "cell_type": "markdown",
   "metadata": {
    "collapsed": false,
    "hidden": true
   },
   "source": [
    "We'll write things generically so that the model can be used for any numbers of ingredients and types.\n",
    "\n",
    "Let $I$ represent the set of ingredients and let $T$ represent the set of types of sausage.\n",
    "\n",
    "For each $i \\in I$ and $t \\in T$ \n",
    "\n",
    "<table class=\"tleft\">\n",
    "    <tr>\n",
    "        <td><p style=\"padding-right: 20px;\"> <b>Quantity</b></p></td>\n",
    "        <td><p style=\"padding-right: 100px;\"> <b>Description</b></p></td>\n",
    "    <tr>\n",
    "    <tr><td>$x_{i,t}$</td><td>kg of ingredient $i$ to use in sausage of type $t$ (decision variable)</td></tr>\n",
    "    <tr><td>$c_i$</td><td>cost per kg of ingredient $i$ in dollars</td></tr>\n",
    "    <tr><td>$pmin_{i,t}$</td><td>minimum proportion of ingredient $i$ in sausage of type $t$, use 0 for no minimum</td></tr>\n",
    "    <tr><td>$pmax_{i,t}$</td><td>maximum proportion of ingredient $i$ in sausage of type $t$, use 1 for no maximum</td></tr>\n",
    "    <tr><td>$imax_{i}$</td><td>maximum kilograms of ingredient $i$ that are available</td></tr>\n",
    "    <tr><td>$imin_{i}$</td><td>minimum kilograms of ingredient $i$ that must be used</td></tr>\n",
    "    <tr><td>$d_{t}$</td><td>total kg of sausage of type $t$ that are demanded</td></tr>\n",
    "</table>\n",
    "\n",
    "To write the cost function we need to add up the quantity of each ingredient used across all the sausage types, so for each ingredient $i$ this is $$\\sum_{t \\in T} x_{i,t}.$$\n",
    "Now the cost of ingredient $i$ will be\n",
    "$$ c_i \\left( \\sum_{t \\in T} x_{i,t} \\right).$$\n",
    "Finally, the objective function is the total cost for all ingredients and types:\n",
    "$$ \\mbox{Cost} = \\sum_{i \\in I}  c_i \\left( \\sum_{t \\in T} x_{i,t} \\right).$$\n",
    "\n",
    "Now let's turn to the constraints.  First we need the total kg of each type of sausage made to equal the demand for that type. \n",
    "\n",
    "$$ \\sum_{i \\in I} x_{i,t} = d_t \\mbox{ for each } t \\in T.$$\n",
    "\n",
    "The sum on the left represents the total kg of ingredients used in sausage $j$.\n",
    "\n",
    "Now we need the minimum proportion constraints:\n",
    "$$x_{i,t} \\geq pmin_{i,t} \\sum_{k \\in I} x_{k,t}.$$\n",
    "\n",
    "That sum on the right now uses the index $k$ which serves as a dummy variable to add up the total kg of each type of sausage.\n",
    "\n",
    "The maximum proportion constraints are similar:\n",
    "$$x_{i,t} \\leq pmax_{i,t} \\sum_{k \\in I} x_{k,t}.$$\n",
    "\n",
    "The availability constraints enforce the maximum amount of ingredient $i$ that is available:\n",
    "$$\\sum_{t \\in T} x_{i,t} \\leq imax_i.$$\n",
    "The sum on the left here is the total kg of ingredient $i$ used over all types of sausages.\n",
    "\n",
    "The \"must use\" constraints are similar:\n",
    "$$\\sum_{t \\in T} x_{i,t} \\geq imin_i.$$\n",
    "\n",
    "\n",
    "Here are the concrete and abstract model comparisons side-by-side for comparison:\n",
    "<table class=\"tleft\">\n",
    "    <tr>\n",
    "        <td><p style=\"padding-right: 40px;\"> <b>Description</b></p></td>\n",
    "        <td><p style=\"padding-right: 120px;\"> <b>Concrete Model</b></p></td>\n",
    "        <td><p style=\"padding-right: 120px;\"> <b>Abstract Model</b></p></td>\n",
    "    </tr>\n",
    "<tr>\n",
    "    <td> Minimize Cost = </td>\n",
    "    <td>\n",
    "        $4.32 ( p_e + p_p) + 2.46( w_e + w_p) + 1.86 (s_e + s_p) $\n",
    "    </td>\n",
    "    <td>\n",
    "        $\\displaystyle \\sum_{i \\in I}  c_i \\left(\\sum_{t \\in T} x_{i,t} \\right)$\n",
    "    <td>\n",
    "</tr>\n",
    "<tr>\n",
    "    <td> Demand Constraints </td>\n",
    "    <td> $p_e + w_e + s_e = 350 \\times 0.05$<br>$p_p + w_p + s_p = 500 \\times 0.05$ </td>\n",
    "    <td> $\\displaystyle \\sum_{i \\in I} x_{i,t} = d_t \\mbox{ for each } t \\in T$ </td>\n",
    "</tr>\n",
    "<tr>\n",
    "    <td> Minimimum Proportion<br>Constraints </td>\n",
    "    <td> $p_e \\geq 0.4 (p_e + w_e + s_e)$<br>$p_p \\geq 0.6 (p_p + w_p + s_p)$</td>\n",
    "    <td> $\\displaystyle x_{i,t} \\geq pmin_{i,t} \\sum_{k \\in I} x_{k,t}$</td>\n",
    "</tr>\n",
    "<tr>\n",
    "    <td> Maximum Proportion<br>Constraints </td>\n",
    "    <td> $s_e \\leq 0.25 (p_e + w_e + s_e)$<br>$s_p \\leq 0.25 (p_p + w_p + s_p)$ </td>\n",
    "    <td> $\\displaystyle x_{i,t} \\leq pmax_{i,t} \\sum_{k \\in I} x_{k,t}$ </td>\n",
    "<tr>\n",
    "    <td> Maximum Ingredient<br>Constraints </td>\n",
    "    <td> $p_e + p_p \\leq 30$<br>$w_e + w_p \\leq 20$<br>$s_e + s_p \\leq 17$ </td>\n",
    "    <td> $\\displaystyle \\sum_{t \\in T} x_{i,t} \\leq imax_i$</td>\n",
    "</tr>\n",
    "<tr>\n",
    "    <td> Minimum Ingredient<br>Constraints </td>\n",
    "    <td> $p_e + p_p \\geq 23$</td>\n",
    "    <td> $\\displaystyle \\sum_{t \\in T} x_{i,t} \\geq imin_i$</td>\n",
    "</tr>\n",
    "</table>"
   ]
  },
  {
   "cell_type": "markdown",
   "metadata": {
    "collapsed": false
   },
   "source": [
    "### Explanation of Pyomo Solution (video)"
   ]
  },
  {
   "cell_type": "markdown",
   "metadata": {
    "collapsed": false
   },
   "source": [
    "The video below explains some parts of the solution code.  If you're content to study the code on you own, then you don't need to watch it."
   ]
  },
  {
   "cell_type": "code",
   "execution_count": 12,
   "metadata": {
    "code_folding": [
     0
    ],
    "collapsed": false
   },
   "outputs": [
    {
     "data": {
      "text/html": [
       "\n",
       "        <iframe\n",
       "            width=\"640\"\n",
       "            height=\"360\"\n",
       "            src=\"https://media.uwex.edu/content/ds/ds775_r19/ds775_lesson2-blending-abstract/index.html\"\n",
       "            frameborder=\"0\"\n",
       "            allowfullscreen\n",
       "        ></iframe>\n",
       "        "
      ],
      "text/plain": [
       "<IPython.lib.display.IFrame at 0x7f312b09a430>"
      ]
     },
     "execution_count": 12,
     "metadata": {
     },
     "output_type": "execute_result"
    }
   ],
   "source": [
    "# execute this cell for video\n",
    "play_video(\"ds775_lesson2-blending-abstract\")"
   ]
  },
  {
   "cell_type": "markdown",
   "metadata": {
    "collapsed": false
   },
   "source": [
    "### Pyomo Solution"
   ]
  },
  {
   "cell_type": "code",
   "execution_count": 13,
   "metadata": {
    "code_folding": [
    ],
    "collapsed": false
   },
   "outputs": [
    {
     "name": "stdout",
     "output_type": "stream",
     "text": [
      "Total Cost = $140.96\n",
      "Kilograms of each ingredient in each type of sausage:\n"
     ]
    },
    {
     "data": {
      "text/html": [
       "<div>\n",
       "<style scoped>\n",
       "    .dataframe tbody tr th:only-of-type {\n",
       "        vertical-align: middle;\n",
       "    }\n",
       "\n",
       "    .dataframe tbody tr th {\n",
       "        vertical-align: top;\n",
       "    }\n",
       "\n",
       "    .dataframe thead th {\n",
       "        text-align: right;\n",
       "    }\n",
       "</style>\n",
       "<table border=\"1\" class=\"dataframe\">\n",
       "  <thead>\n",
       "    <tr style=\"text-align: right;\">\n",
       "      <th></th>\n",
       "      <th>Economy</th>\n",
       "      <th>Premium</th>\n",
       "    </tr>\n",
       "  </thead>\n",
       "  <tbody>\n",
       "    <tr>\n",
       "      <th>Pork</th>\n",
       "      <td>8.000</td>\n",
       "      <td>15.00</td>\n",
       "    </tr>\n",
       "    <tr>\n",
       "      <th>Wheat</th>\n",
       "      <td>5.125</td>\n",
       "      <td>3.75</td>\n",
       "    </tr>\n",
       "    <tr>\n",
       "      <th>Starch</th>\n",
       "      <td>4.375</td>\n",
       "      <td>6.25</td>\n",
       "    </tr>\n",
       "  </tbody>\n",
       "</table>\n",
       "</div>"
      ],
      "text/plain": [
       "        Economy  Premium\n",
       "Pork      8.000    15.00\n",
       "Wheat     5.125     3.75\n",
       "Starch    4.375     6.25"
      ]
     },
     "execution_count": 13,
     "metadata": {
     },
     "output_type": "execute_result"
    }
   ],
   "source": [
    "# abstract Sausage Factory\n",
    "\n",
    "### Problem Data ###\n",
    "\n",
    "types = ['economy','premium']\n",
    "ingredients = ['pork', 'wheat', 'starch']\n",
    "\n",
    "cost = dict( zip( ingredients, [4.32, 2.46, 1.86] ) )\n",
    "\n",
    "kg_per_sausage = 0.05\n",
    "number_each_type = dict( zip( types, [350, 500] ) )\n",
    "\n",
    "mnpi = [[.4,.6],[0,0],[0,0]] # min proportions\n",
    "min_prop_ing = { ingredients[i]:{ types[j]:mnpi[i][j] for j in range(len(types)) } for i in range(len(ingredients)) }\n",
    "mxpi = [[1,1],[1,1],[.25,.25]] # max proportions\n",
    "max_prop_ing = { ingredients[i]:{ types[j]:mxpi[i][j] for j in range(len(types)) } for i in range(len(ingredients)) }\n",
    "\n",
    "max_ingredient = dict( zip( ingredients, [30, 20, 17] ) )\n",
    "min_ingredient = dict( zip( ingredients, [23,  0,  0] ) )\n",
    "\n",
    "### Pyomo Model ###\n",
    "\n",
    "# Concrete Model\n",
    "M = ConcreteModel(name = \"Sausages\")\n",
    "\n",
    "# Decision Variables\n",
    "M.amount = Var(ingredients, types, domain = NonNegativeReals)\n",
    "\n",
    "# Objective\n",
    "M.cost = Objective( expr = sum( cost[i] * sum(M.amount[i,t] for t in types) \n",
    "                               for i in ingredients), sense = minimize )\n",
    "\n",
    "M.tot_sausages_ct = ConstraintList()\n",
    "for t in types:\n",
    "    M.tot_sausages_ct.add( sum( M.amount[i,t] for i in ingredients ) \n",
    "                         == kg_per_sausage * number_each_type[t] )\n",
    "\n",
    "M.min_prop_ct = ConstraintList()\n",
    "for i in ingredients:\n",
    "    for t in types:\n",
    "        M.min_prop_ct.add( M.amount[i,t] >= min_prop_ing[i][t] *\n",
    "                         sum( M.amount[k,t] for k in ingredients ) )\n",
    "\n",
    "M.max_prop_ct = ConstraintList()\n",
    "for i in ingredients:\n",
    "    for t in types:\n",
    "        M.max_prop_ct.add( M.amount[i,t] <= max_prop_ing[i][t] * \n",
    "                         sum( M.amount[k, t] for k in ingredients ) )\n",
    "        \n",
    "M.max_ingredient_ct = ConstraintList()\n",
    "for i in ingredients:\n",
    "    M.max_ingredient_ct.add( sum( M.amount[ i, t] for t in types ) <= \n",
    "                           max_ingredient[i] )\n",
    "    \n",
    "M.min_ingredient_ct = ConstraintList()\n",
    "for i in ingredients:\n",
    "    M.min_ingredient_ct.add( sum( M.amount[ i, t] for t in types ) >=\n",
    "                           min_ingredient[i] )\n",
    "\n",
    "### Solution ###\n",
    "solver = SolverFactory('glpk')\n",
    "solver.solve(M)\n",
    "\n",
    "### Output ###\n",
    "print(f\"Total Cost = ${M.cost():,.2f}\")\n",
    "\n",
    "# put amounts in dataframe for nicer display\n",
    "import pandas as pd\n",
    "dvars = pd.DataFrame( [ [M.amount[i,t]() for t in types] for i in ingredients ],\n",
    "                    index = ['Pork','Wheat','Starch'],\n",
    "                    columns = ['Economy','Premium'])\n",
    "print(\"Kilograms of each ingredient in each type of sausage:\")\n",
    "dvars"
   ]
  },
  {
   "cell_type": "markdown",
   "metadata": {
    "collapsed": false
   },
   "source": [
    "### *Self Assessment: Supply and Demand Problem*"
   ]
  },
  {
   "cell_type": "markdown",
   "metadata": {
    "collapsed": false
   },
   "source": [
    "Use what you've learned in the examples above to formulate and solve a linear programming model for textbook problem 3.4-11.\n",
    "\n",
    "The Medequip Company produces precision medical diagnostic equipment at two factories. Three medical centers have placed orders for this month’s production output. The table below shows what the cost would be for shipping each unit from each factory to each of these customers. Also shown are the number of units that will be produced at each factory and the number of units ordered by each customer.\n",
    "\n",
    "<table>\n",
    "    <tr>\n",
    "        <th style=\"border-right:thin solid;border-bottom:thin solid;\"> &nbsp; </th>\n",
    "        <th style=\"border-bottom:thin solid;\"> Customer 1</th>\n",
    "        <th style=\"border-bottom:thin solid;\"> Customer 2</th>\n",
    "        <th style=\"border-bottom:thin solid;\"> Customer 3</th>\n",
    "        <th style=\"border-left: thin solid;border-bottom:thin solid;\"> Output</th>\n",
    "    </tr>\n",
    "    <tr>\n",
    "        <td style=\"border-right:thin solid;\"> <b>Factory 1</b> </td>\n",
    "        <td> \\$600 </td>\n",
    "        <td> \\$800 </td>\n",
    "        <td> \\$700 </td>\n",
    "        <td style=\"border-left:thin solid;\"> 400 units </td>\n",
    "    </tr>\n",
    "    <tr>\n",
    "        <td style=\"border-right:thin solid;\"> <b>Factory 2</b> </td>\n",
    "        <td> \\$400 </td>\n",
    "        <td> \\$900 </td>\n",
    "        <td> \\$600 </td>\n",
    "        <td style=\"border-left:thin solid;\"> 500 units </td>\n",
    "    </tr>       \n",
    "    <tr>\n",
    "        <td style=\"border-top:thin solid;border-right:thin solid\"> <b>Order size</b> </td>\n",
    "        <td style=\"border-top:thin solid;\"> 300 units </td>\n",
    "        <td style=\"border-top:thin solid;\"> 200 units </td>\n",
    "        <td style=\"border-top:thin solid;\"> 400 units </td>\n",
    "        <td style=\"border-left:thin solid; border-top:thin solid;\"> &nbsp; </td>\n",
    "    </tr>\n",
    "</table>\n",
    "\n",
    "A decision now needs to be made about the shipping plan for how many units to ship from each factory to each customer.\n",
    "\n",
    "(a) Formulate a linear programming model for this problem.\n",
    "\n",
    "(b) Solve this model using Pyomo."
   ]
  },
  {
   "cell_type": "markdown",
   "metadata": {
    "collapsed": false
   },
   "source": [
    "# Sensitivity Analysis\n",
    "\n",
    "## What is Sensitivity Analysis?\n",
    "\n",
    "We want to know what happens when the model coefficients change.  What effect do changes have on the optimal solution?\n",
    "We say a bit more about the need for Sensitivity Analysis in the next video:"
   ]
  },
  {
   "cell_type": "code",
   "execution_count": 14,
   "metadata": {
    "collapsed": false
   },
   "outputs": [
    {
     "data": {
      "text/html": [
       "\n",
       "        <iframe\n",
       "            width=\"640\"\n",
       "            height=\"360\"\n",
       "            src=\"https://media.uwex.edu/content/ds/ds775_r19/ds775_lesson2_what-is-sensitivity-analysis/index.html\"\n",
       "            frameborder=\"0\"\n",
       "            allowfullscreen\n",
       "        ></iframe>\n",
       "        "
      ],
      "text/plain": [
       "<IPython.lib.display.IFrame at 0x7f3149eae610>"
      ]
     },
     "execution_count": 14,
     "metadata": {
     },
     "output_type": "execute_result"
    }
   ],
   "source": [
    "# execute cell for video\n",
    "play_video(\"ds775_lesson2_what-is-sensitivity-analysis\")"
   ]
  },
  {
   "cell_type": "markdown",
   "metadata": {
    "collapsed": false
   },
   "source": [
    "## Common Types of Sensitivity Analysis for Linear Programs\n",
    "\n",
    "Below are four videos.  Each video will motivate one common sensitivity analysis question, using Desmos, and will also show you where to find that information in a sensitivity report.  We'll show you how to produce a sensitivity report using Pyomo and the GLPK solver further below.  Here is <a href=\"https://www.desmos.com/calculator/x3gob1ihnz\">the Desmos we used in the videos.</a>\n",
    "\n",
    "### Video 1 - Active Constraints\n",
    "\n",
    "* An **active** or **binding** constraint is one for which equality holds at the optimal values of the decision variables.  Changes to the coefficients in an active constraint can change the optimal solution."
   ]
  },
  {
   "cell_type": "code",
   "execution_count": 15,
   "metadata": {
    "collapsed": false
   },
   "outputs": [
    {
     "data": {
      "text/html": [
       "\n",
       "        <iframe\n",
       "            width=\"640\"\n",
       "            height=\"360\"\n",
       "            src=\"https://media.uwex.edu/content/ds/ds775_r19/ds775_lesson2_active-vs-inactive-constraints/index.html\"\n",
       "            frameborder=\"0\"\n",
       "            allowfullscreen\n",
       "        ></iframe>\n",
       "        "
      ],
      "text/plain": [
       "<IPython.lib.display.IFrame at 0x7f3149eae5e0>"
      ]
     },
     "execution_count": 15,
     "metadata": {
     },
     "output_type": "execute_result"
    }
   ],
   "source": [
    "# execute cell for video\n",
    "play_video(\"ds775_lesson2_active-vs-inactive-constraints\")"
   ]
  },
  {
   "cell_type": "markdown",
   "metadata": {
    "collapsed": false
   },
   "source": [
    "### Video 2 - Shadow Prices\n",
    "\n",
    "* A **shadow price** is the rate at which $Z$ changes for each unit increase in the amount of resource $b_i$ (when $b_i$ remains in its allowable range and none of the other parameters are allowed to change)."
   ]
  },
  {
   "cell_type": "code",
   "execution_count": 16,
   "metadata": {
    "collapsed": false
   },
   "outputs": [
    {
     "data": {
      "text/html": [
       "\n",
       "        <iframe\n",
       "            width=\"640\"\n",
       "            height=\"360\"\n",
       "            src=\"https://media.uwex.edu/content/ds/ds775_r19/ds775_lesson2_shadow-prices/index.html\"\n",
       "            frameborder=\"0\"\n",
       "            allowfullscreen\n",
       "        ></iframe>\n",
       "        "
      ],
      "text/plain": [
       "<IPython.lib.display.IFrame at 0x7f312b09a7c0>"
      ]
     },
     "execution_count": 16,
     "metadata": {
     },
     "output_type": "execute_result"
    }
   ],
   "source": [
    "# execute cell for video\n",
    "play_video(\"ds775_lesson2_shadow-prices\")"
   ]
  },
  {
   "cell_type": "markdown",
   "metadata": {
    "collapsed": false
   },
   "source": [
    "### Video 3 - Allowable Range of Constraint Right Side\n",
    "\n",
    "* The allowable range of constraint right side, $b_i$ is the range values over which the corresponding constraint remains active when no other parameters are allowed to change.  Outside this range the constraint is no longer active and is not involved in the optimal solution.  Note, as $b_i$ changes within its allowable range the optimal objective function value and decision variables values will change, but will be determined by the same set of active constraints"
   ]
  },
  {
   "cell_type": "code",
   "execution_count": 17,
   "metadata": {
    "collapsed": false
   },
   "outputs": [
    {
     "data": {
      "text/html": [
       "\n",
       "        <iframe\n",
       "            width=\"640\"\n",
       "            height=\"360\"\n",
       "            src=\"https://media.uwex.edu/content/ds/ds775_r19/ds775_lesson2_allowable-range-constraint-bounds/index.html\"\n",
       "            frameborder=\"0\"\n",
       "            allowfullscreen\n",
       "        ></iframe>\n",
       "        "
      ],
      "text/plain": [
       "<IPython.lib.display.IFrame at 0x7f312b09af40>"
      ]
     },
     "execution_count": 17,
     "metadata": {
     },
     "output_type": "execute_result"
    }
   ],
   "source": [
    "# new video for allowable range of constraint right side\n",
    "play_video(\"ds775_lesson2_allowable-range-constraint-bounds\")"
   ]
  },
  {
   "cell_type": "markdown",
   "metadata": {
    "collapsed": false
   },
   "source": [
    "### Video 4 - Allowable Range of Objective Function Coefficients\n",
    "\n",
    "* Over what range of values can we change a single objective coefficient without changing the location of the optimal corner point feasible solution?  Note that the optimal objective function value will change but not the optimal decision variable values."
   ]
  },
  {
   "cell_type": "code",
   "execution_count": 18,
   "metadata": {
    "code_folding": [
     0
    ],
    "collapsed": false
   },
   "outputs": [
    {
     "data": {
      "text/html": [
       "\n",
       "        <iframe\n",
       "            width=\"640\"\n",
       "            height=\"360\"\n",
       "            src=\"https://media.uwex.edu/content/ds/ds775_r19/ds775_lesson2_allowable-range-obj-function-coefficients/index.html\"\n",
       "            frameborder=\"0\"\n",
       "            allowfullscreen\n",
       "        ></iframe>\n",
       "        "
      ],
      "text/plain": [
       "<IPython.lib.display.IFrame at 0x7f312b09aac0>"
      ]
     },
     "execution_count": 18,
     "metadata": {
     },
     "output_type": "execute_result"
    }
   ],
   "source": [
    "# new video for obj function coef allowable range\n",
    "play_video(\"ds775_lesson2_allowable-range-obj-function-coefficients\")"
   ]
  },
  {
   "cell_type": "markdown",
   "metadata": {
    "collapsed": false,
    "heading_collapsed": true
   },
   "source": [
    "## *Self Assessment: Positive Shadow Price*"
   ]
  },
  {
   "cell_type": "markdown",
   "metadata": {
    "collapsed": false,
    "hidden": true
   },
   "source": [
    "True or False:  A positive shadow price indicates that the right-hand side of that constraint is a sensitive parameter."
   ]
  },
  {
   "cell_type": "markdown",
   "metadata": {
    "collapsed": false,
    "heading_collapsed": true
   },
   "source": [
    "## *Self Assessment: Allowable Range (Objective Coef)*"
   ]
  },
  {
   "cell_type": "markdown",
   "metadata": {
    "collapsed": false,
    "hidden": true
   },
   "source": [
    "True or False:  For the objective coefficients, the allowable range is the range of values over which the current optimal solution remains optimal, assuming no change in the other coefficients. "
   ]
  },
  {
   "cell_type": "markdown",
   "metadata": {
    "collapsed": false
   },
   "source": [
    "## *Self Assessment: Changing Parameters*"
   ]
  },
  {
   "cell_type": "markdown",
   "metadata": {
    "collapsed": false
   },
   "source": [
    "True or False: Any change in any parameter will necessarily change the optimal solution."
   ]
  },
  {
   "cell_type": "markdown",
   "metadata": {
    "collapsed": false
   },
   "source": [
    "## *Self Assessment: Graphical Exploration of Sensitivity*"
   ]
  },
  {
   "cell_type": "markdown",
   "metadata": {
    "collapsed": false
   },
   "source": [
    "Use DESMOS to answer the following questions about this model formulation:\n",
    "\n",
    "Maximize $Z = c_1 x + c_2 y = 2 x + 5 y$ \n",
    "\n",
    "subject to \n",
    "\n",
    "$x + 2y \\leq 10$ (resource 1, $b_1$) \n",
    "\n",
    "$x + 3y \\leq 12$ (resource 2, $b_2$)\n",
    "\n",
    "$ x_1, x_2 \\geq 0$ \n",
    "\n",
    "(a) Set up this model in DESMOS and show the optimal value of $Z$ and the coordinates of $x$ and $y$ where the optimal solution occurs.  Provide a screenshot of the graph you used to find this answer with the optimal $Z$ and coordinates of $x$ and $y$ displayed.\n",
    "\n",
    "(b) With a slider for $Z$ (and $b_2$ if you like), find the shadow price for resource 2 ($b_2$).   Provide a screenshot of the graph with the new optimal $Z$ and coordinates of $x$ and $y$ at this point displayed.\n",
    "\n",
    "(c) With a slider for $b_2$, find the allowable range for resource 2 ($b_2$). Provide screenshots of the graphs you used to find this answer, one for the lower bound and one for the upper bound of $b_2$.\n",
    "\n",
    "(d) With sliders for $Z$ and $c_2$, find the allowable range for the unit profit of activity 2 ($c_2$). Provide screenshots of the graphs you used to find this answer, one for the lower bound and one for the upper bound of $c_2$."
   ]
  },
  {
   "cell_type": "markdown",
   "metadata": {
    "collapsed": false,
    "heading_collapsed": true
   },
   "source": [
    "## Generating a Sensitivity Report in Python"
   ]
  },
  {
   "cell_type": "markdown",
   "metadata": {
    "collapsed": false,
    "hidden": true
   },
   "source": [
    "Pyomo doesn't automatically generate a sensitivity analysis, but it's possible to write the model to a standardized file (called an LP file) and then run a solver to produce a sensitivity report.  For directions about interpreting the sensitivity report refer to the last few videos or look at the annotated image provided further below.\n",
    "\n",
    "**First, run the following cell to load up the abstract Wyndor model from above.**"
   ]
  },
  {
   "cell_type": "code",
   "execution_count": 19,
   "metadata": {
    "collapsed": false
   },
   "outputs": [
    {
     "name": "stdout",
     "output_type": "stream",
     "text": [
      "Maximum Profit = $36,000.00\n",
      "Batches of Doors = 2.0\n",
      "Batches of Windows = 6.0\n"
     ]
    }
   ],
   "source": [
    "### PROBLEM DATA ###\n",
    "\n",
    "# load data\n",
    "products = ['Doors', 'Windows']\n",
    "plants = ['Plant1', 'Plant2', 'Plant3']\n",
    "profit_rate_list = [3,5]\n",
    "hours_avail_list = [4,12,18]\n",
    "hours_per_batch_list = [ [1,0], [0,2], [3,2] ]\n",
    "\n",
    "# parse lists into dictionaries\n",
    "profit_rate = dict( zip( products, profit_rate_list) )\n",
    "hours_available = dict( zip( plants, hours_avail_list) )\n",
    "hours_per_batch = { pl: { pr: hours_per_batch_list[i][j] for j,pr in enumerate(products)} for i,pl in enumerate(plants)}\n",
    "\n",
    "### MODEL CONSTRUCTION ###\n",
    "#Declaration\n",
    "model = ConcreteModel()\n",
    "\n",
    "#Decision Variables\n",
    "model.weekly_prod = Var(products, domain=NonNegativeReals)\n",
    "\n",
    "#Objective\n",
    "model.profit = Objective(expr=sum(profit_rate[pr] * model.weekly_prod[pr]\n",
    "                               for pr in products),\n",
    "                      sense=maximize)\n",
    "\n",
    "#Constraints\n",
    "model.capacity = ConstraintList()\n",
    "for pl in plants:\n",
    "    model.capacity.add(\n",
    "        sum(hours_per_batch[pl][pr] * model.weekly_prod[pr]\n",
    "            for pr in products) <= hours_available[pl])\n",
    "\n",
    "### SOLUTION ###\n",
    "solver = SolverFactory('glpk')\n",
    "solver.solve(model)\n",
    "\n",
    "### OUTPUT ###\n",
    "\n",
    "# note that we're using f-strings for output here which is a little different and cleaner than in the video\n",
    "print(f\"Maximum Profit = ${1000*model.profit():,.2f}\")\n",
    "for j in products:\n",
    "    print(f\"Batches of {j} = {model.weekly_prod[j]():.1f}\")"
   ]
  },
  {
   "cell_type": "markdown",
   "metadata": {
    "collapsed": false,
    "hidden": true
   },
   "source": [
    "**Now run the cell below to write the model to an LP file to create a sensitivity report.**  Note:  the solver produces some output that we do not need.  You can just ignore the output here."
   ]
  },
  {
   "cell_type": "code",
   "execution_count": 20,
   "metadata": {
    "collapsed": false,
    "hidden": true,
    "scrolled": true
   },
   "outputs": [
    {
     "name": "stdout",
     "output_type": "stream",
     "text": [
      "GLPSOL: GLPK LP/MIP Solver, v4.65\r\n",
      "Parameter(s) specified in the command line:\r\n",
      " -m model.lp --lp --ranges sensit.sen\r\n",
      "Reading problem data from 'model.lp'...\r\n",
      "4 rows, 3 columns, 5 non-zeros\r\n",
      "29 lines were read\r\n",
      "GLPK Simplex Optimizer, v4.65\r\n",
      "4 rows, 3 columns, 5 non-zeros\r\n",
      "Preprocessing...\r\n",
      "1 row, 2 columns, 2 non-zeros\r\n",
      "Scaling...\r\n",
      " A: min|aij| =  2.000e+00  max|aij| =  3.000e+00  ratio =  1.500e+00\r\n",
      "Problem data seem to be well scaled\r\n",
      "Constructing initial basis...\r\n",
      "Size of triangular part is 1\r\n",
      "*     0: obj =  -0.000000000e+00 inf =   0.000e+00 (2)\r\n",
      "*     2: obj =   3.600000000e+01 inf =   0.000e+00 (0)\r\n",
      "OPTIMAL LP SOLUTION FOUND\r\n",
      "Time used:   0.0 secs\r\n",
      "Memory used: 0.0 Mb (40400 bytes)\r\n",
      "Write sensitivity analysis report to 'sensit.sen'...\r\n"
     ]
    }
   ],
   "source": [
    "model.write('model.lp', io_options={'symbolic_solver_labels': True})\n",
    "!glpsol -m model.lp --lp --ranges sensit.sen"
   ]
  },
  {
   "cell_type": "markdown",
   "metadata": {
    "collapsed": false,
    "hidden": true
   },
   "source": [
    "**Run the following cell to print the report.  Alternately, you can open the report separately using anything that will display plain text.  We've found that using \"Print\" in CoCalc to print to a pdf file in landscape produces a readable document.**"
   ]
  },
  {
   "cell_type": "code",
   "execution_count": 21,
   "metadata": {
    "code_folding": [
    ],
    "collapsed": false,
    "hidden": true,
    "scrolled": true
   },
   "outputs": [
    {
     "name": "stdout",
     "output_type": "stream",
     "text": [
      "GLPK 4.65 - SENSITIVITY ANALYSIS REPORT                                                                         Page   1\n",
      "\n",
      "Problem:    \n",
      "Objective:  profit = 36 (MAXimum)\n",
      "\n",
      "   No. Row name     St      Activity         Slack   Lower bound       Activity      Obj coef  Obj value at Limiting\n",
      "                                          Marginal   Upper bound          range         range   break point variable\n",
      "------ ------------ -- ------------- ------------- -------------  ------------- ------------- ------------- ------------\n",
      "     1 c_u_capacity(1)_\n",
      "                    BS       2.00000       2.00000          -Inf         .           -3.00000      30.00000 c_u_capacity(3)_\n",
      "                                            .            4.00000        6.00000       4.50000      45.00000 c_u_capacity(2)_\n",
      "\n",
      "     2 c_u_capacity(2)_\n",
      "                    NU      12.00000        .               -Inf        6.00000      -1.50000      27.00000 c_u_capacity(1)_\n",
      "                                           1.50000      12.00000       18.00000          +Inf      45.00000 weekly_prod(Doors)\n",
      "\n",
      "     3 c_u_capacity(3)_\n",
      "                    NU      18.00000        .               -Inf       12.00000      -1.00000      30.00000 weekly_prod(Doors)\n",
      "                                           1.00000      18.00000       24.00000          +Inf      42.00000 c_u_capacity(1)_\n",
      "\n",
      "     4 c_e_ONE_VAR_CONSTANT\n",
      "                    NS       1.00000        .            1.00000         .               -Inf      36.00000 ONE_VAR_CONSTANT\n",
      "                                            .            1.00000           +Inf          +Inf      36.00000\n",
      "\n",
      "GLPK 4.65 - SENSITIVITY ANALYSIS REPORT                                                                         Page   2\n",
      "\n",
      "Problem:    \n",
      "Objective:  profit = 36 (MAXimum)\n",
      "\n",
      "   No. Column name  St      Activity      Obj coef   Lower bound       Activity      Obj coef  Obj value at Limiting\n",
      "                                          Marginal   Upper bound          range         range   break point variable\n",
      "------ ------------ -- ------------- ------------- -------------  ------------- ------------- ------------- ------------\n",
      "     1 weekly_prod(Doors)\n",
      "                    BS       2.00000       3.00000        .                -Inf        .           30.00000 c_u_capacity(3)_\n",
      "                                            .               +Inf        4.00000       7.50000      45.00000 c_u_capacity(2)_\n",
      "\n",
      "     2 weekly_prod(Windows)\n",
      "                    BS       6.00000       5.00000        .             3.00000       2.00000      18.00000 c_u_capacity(2)_\n",
      "                                            .               +Inf        6.00000          +Inf          +Inf\n",
      "\n",
      "     3 ONE_VAR_CONSTANT\n",
      "                    BS       1.00000        .             .             1.00000          -Inf          -Inf\n",
      "                                            .               +Inf        1.00000          +Inf          +Inf\n",
      "\n",
      "End of report\n",
      "\n"
     ]
    }
   ],
   "source": [
    "# print sensitivity report\n",
    "np.set_printoptions(linewidth=110)\n",
    "f = open('sensit.sen', 'r')\n",
    "file_contents = f.read()\n",
    "print(file_contents)\n",
    "f.close()"
   ]
  },
  {
   "cell_type": "markdown",
   "metadata": {
    "collapsed": false,
    "heading_collapsed": true
   },
   "source": [
    "## *Self-Assessment: Solve and Perform Sensitivity*\n"
   ]
  },
  {
   "cell_type": "markdown",
   "metadata": {
    "collapsed": false,
    "hidden": true
   },
   "source": [
    "**Textbook Problem 4.7-6 (c, b)**\n",
    "\n",
    "Consider the following problem: \n",
    "\n",
    "Maximize $Z = 5 x_1 + 4x_2 - x_3 + 3 x_4$ \n",
    "\n",
    "subject to \n",
    "\n",
    "$ 3x_1 + 2x_2 - 3x_3 + x_4 \\leq 24 \\mbox{ (resource 1) } $\n",
    "\n",
    "$ 3x_1 + 3x_2 + x_3 + 3x_4 \\leq 36 \\mbox{ (resource 2) }$\n",
    "\n",
    "and $x_1 \\geq 0, x_2 \\geq 0, x_3 \\geq 0, x_4 \\geq 0.$ \n",
    "\n",
    "Use Pyomo to solve the problem and then generate sensitivity information. Use this information to identify the shadow price for each resource, the allowable range for each objective function coefficient, and the allowable range for each right-hand side.  You should practice writing abstract code with the model and data separated."
   ]
  },
  {
   "cell_type": "markdown",
   "metadata": {
    "collapsed": false,
    "heading_collapsed": true
   },
   "source": [
    "## *Self-Assessment: Formulate, Solve, and Perform Sensitivity #1*"
   ]
  },
  {
   "cell_type": "markdown",
   "metadata": {
    "collapsed": false,
    "hidden": true
   },
   "source": [
    "**Textbook Problem 7.3-4 (a & f with Pyomo)**\n",
    "\n",
    "One of the products of the G.A. Tanner Company is a special\n",
    "  kind of toy that provides an estimated unit profit of \\$3. Because\n",
    "  of a large demand for this toy, management would like to increase\n",
    "  its production rate from the current level of 1,000 per\n",
    "  day. However, a limited supply of two subassemblies (A and B) from\n",
    "  vendors make this difficult. Each toy requires two subassemblies of\n",
    "  type A, but the vendor providing these subassemblies would only be\n",
    "  able to increase its supply rate from the current 2,000 per day to a\n",
    "  maximum of 3,000 per day. Each toy requires only one subassembly of\n",
    "  type B, but the vendor providing these subassemblies would be unable\n",
    "  to increase its supply rate above the current level of 1,000 per\n",
    "  day. Because no other vendors currently are available to provide\n",
    "  these subassemblies, management is considering initiating a new\n",
    "  production process internally that would simultaneously produce an\n",
    "  equal number of subassemblies of the two types to supplement the\n",
    "  supply from the two vendors. It is estimated that the company’s cost\n",
    "  for producing one subassembly of each type would be \\$2.50 more than\n",
    "  the cost of purchasing these subassemblies from the two\n",
    "  vendors. Management wants to determine both the production rate of\n",
    "  the toy and the production rate of each pair of subassemblies (one A\n",
    "  and one B) that would maximize the total profit.  The following\n",
    "  table summarizes the data for the problem.\n",
    "  \n",
    "  \n",
    "<img src=\"images/problem5p3.png\" width=\"440\">  \n",
    "\n",
    "(a) Formulate the mathematical model for this problem and solve it using Pyomo in Python.\n",
    "  \n",
    "(f) Generate a sensitivity report to find the allowable range for\n",
    "  the unit profit of each activity (toys and subassemblies)."
   ]
  },
  {
   "cell_type": "markdown",
   "metadata": {
    "collapsed": false,
    "heading_collapsed": true
   },
   "source": [
    "## *Self-Assessment: Formulate, Solve, and Perform Sensitivity #2*"
   ]
  },
  {
   "cell_type": "markdown",
   "metadata": {
    "collapsed": false,
    "hidden": true
   },
   "source": [
    "**Textbook Problem 7.3-5 (a, b, f)**\n",
    "\n",
    "Reconsider Problem 7.3-4. After further negotiations with\n",
    "  each vendor, management of the G.A. Tanner Co. has learned that\n",
    "  either of them would be willing to consider increasing their supply\n",
    "  of their respective subassemblies over the previously stated maxima\n",
    "  (3,000 subassemblies of type A per day and 1,000 of type B per day)\n",
    "  if the company would pay a small premium over the regular price for\n",
    "  the extra subassemblies. The size of the premium for each type of\n",
    "  subassembly remains to be negotiated. The demand for the toy being\n",
    "  produced is sufficiently high so that 2,500 per day could be sold if\n",
    "  the supply of subassemblies could be increased enough to support\n",
    "  this production rate. Assume that the original estimates of unit\n",
    "  profits given in 7.3-4 are accurate.\n",
    "  \n",
    "(a) Formulate the mathematical model for this problem and with\n",
    "  the original maximum supply levels and the additional constraint\n",
    "  that no more than 2,500 toys should be produced per day.  Solve it using Pyomo in Python.\n",
    "  \n",
    "(b) Without considering the premium, use Pyomo\n",
    "  to determine the shadow price for the subassembly A constraint by\n",
    "  solving the model again after increasing the maximum supply by 1. Use this \n",
    "  shadow price to determine the maximum premium that the\n",
    "  company should be willing to pay for each subassembly of this type.\n",
    "\n",
    "(f) Use the sensitivity report to determine the shadow price\n",
    "  for each of the subassembly constraints and the allowable range for\n",
    "  the right-hand side of each of these constraints."
   ]
  },
  {
   "cell_type": "markdown",
   "metadata": {
    "collapsed": false
   },
   "source": [
    "# Constructing Dictionaries from Lists\n",
    "\n",
    "Here are some examples to help with learning how to construct dictionaries from lists.  We don't provide explanations for the code, but study and use any of the constructions as needed.\n",
    "\n",
    "## A single dictionary\n",
    "\n",
    "First, let's look at creating a dictionary from two separate lists of keys and values.  We generally prefer \"method 7\" for its compactness and simplicity.  Study only \"method 7\" if there are too many options to absorb."
   ]
  },
  {
   "cell_type": "code",
   "execution_count": 22,
   "metadata": {
    "collapsed": false
   },
   "outputs": [
   ],
   "source": [
    "plants = ['Plant1', 'Plant2', 'Plant3']\n",
    "hours_avail = [4, 12, 18]"
   ]
  },
  {
   "cell_type": "code",
   "execution_count": 23,
   "metadata": {
    "collapsed": false
   },
   "outputs": [
    {
     "name": "stdout",
     "output_type": "stream",
     "text": [
      "{'Plant1': 4, 'Plant2': 12, 'Plant3': 18}\n"
     ]
    }
   ],
   "source": [
    "# method 0 - type it out (This method should be avoided where possible.)\n",
    "hours_avail_dict = { 'Plant1':4, 'Plant2':12, 'Plant3':18}\n",
    "print(hours_avail_dict)"
   ]
  },
  {
   "cell_type": "code",
   "execution_count": 24,
   "metadata": {
    "collapsed": false
   },
   "outputs": [
    {
     "name": "stdout",
     "output_type": "stream",
     "text": [
      "{'Plant1': 4, 'Plant2': 12, 'Plant3': 18}\n"
     ]
    }
   ],
   "source": [
    "# method 1 - use a for loop\n",
    "hours_avail_dict = {}\n",
    "for i in range( len(plants) ):\n",
    "    hours_avail_dict[ plants[i] ] = hours_avail[i]\n",
    "\n",
    "print(hours_avail_dict)"
   ]
  },
  {
   "cell_type": "code",
   "execution_count": 25,
   "metadata": {
    "collapsed": false
   },
   "outputs": [
    {
     "name": "stdout",
     "output_type": "stream",
     "text": [
      "{'Plant1': 4, 'Plant2': 12, 'Plant3': 18}\n"
     ]
    }
   ],
   "source": [
    "# method 2 - use a for loop, v2 with zip\n",
    "hours_avail_dict = {}\n",
    "for p,h in zip(plants,hours_avail):\n",
    "    hours_avail_dict[ p ] = h\n",
    "\n",
    "print(hours_avail_dict)"
   ]
  },
  {
   "cell_type": "markdown",
   "metadata": {
    "collapsed": false
   },
   "source": [
    "We like to use `enumerate` because it makes it easy to index both by position in the list and by the list elements.  If you'd like to review the enumerate command <a href=\"https://realpython.com/python-enumerate/\">this is a pretty good tutorial.</a>"
   ]
  },
  {
   "cell_type": "code",
   "execution_count": 26,
   "metadata": {
    "collapsed": false
   },
   "outputs": [
    {
     "name": "stdout",
     "output_type": "stream",
     "text": [
      "{'Plant1': 4, 'Plant2': 12, 'Plant3': 18}\n"
     ]
    }
   ],
   "source": [
    "# method 3 - use a for loop, v3 with enumerate\n",
    "hours_avail_dict = {}\n",
    "for i, pl in enumerate(plants):\n",
    "    hours_avail_dict[ pl ] = hours_avail[i]\n",
    "\n",
    "print(hours_avail_dict)"
   ]
  },
  {
   "cell_type": "code",
   "execution_count": 27,
   "metadata": {
    "collapsed": false
   },
   "outputs": [
    {
     "name": "stdout",
     "output_type": "stream",
     "text": [
      "{'Plant1': 4, 'Plant2': 12, 'Plant3': 18}\n"
     ]
    }
   ],
   "source": [
    "# method 4 - use a comprehension (compare to method 1)\n",
    "hours_avail_dict = { plants[i]:hours_avail[i] for i in range( len(plants) )}\n",
    "print(hours_avail_dict)"
   ]
  },
  {
   "cell_type": "code",
   "execution_count": 28,
   "metadata": {
    "collapsed": false
   },
   "outputs": [
    {
     "name": "stdout",
     "output_type": "stream",
     "text": [
      "{'Plant1': 4, 'Plant2': 12, 'Plant3': 18}\n"
     ]
    }
   ],
   "source": [
    "# method 5 - use a comprehension with zip (compare to method 2)\n",
    "hours_avail_dict = { p:h for p,h in zip(plants,hours_avail)}\n",
    "print(hours_avail_dict)"
   ]
  },
  {
   "cell_type": "code",
   "execution_count": 29,
   "metadata": {
    "collapsed": false
   },
   "outputs": [
    {
     "name": "stdout",
     "output_type": "stream",
     "text": [
      "{'Plant1': 4, 'Plant2': 12, 'Plant3': 18}\n"
     ]
    }
   ],
   "source": [
    "# method 6 - use a comprehension with enumerate (compare to method 3)\n",
    "hours_avail_dict = { pl:hours_avail[i] for i,pl in enumerate(plants)}\n",
    "print(hours_avail_dict)"
   ]
  },
  {
   "cell_type": "code",
   "execution_count": 30,
   "metadata": {
    "collapsed": false
   },
   "outputs": [
    {
     "name": "stdout",
     "output_type": "stream",
     "text": [
      "{'Plant1': 4, 'Plant2': 12, 'Plant3': 18}\n"
     ]
    }
   ],
   "source": [
    "# method 7 - use the dictionary constructor along with zip (most 'Pythonic' approach)\n",
    "hours_avail_dict = dict( zip( plants, hours_avail) )\n",
    "print(hours_avail_dict)"
   ]
  },
  {
   "cell_type": "markdown",
   "metadata": {
    "collapsed": false
   },
   "source": [
    "## Nested Lists to Nested Dictionaries\n",
    "\n",
    "For converting nested lists to nested dictionaries we generally prefer Methods 13 and 14 below.  We use Method 13 in most of our solutions. Method 15 is the most 'Pythonic' but is not as easy to follow as some other methods."
   ]
  },
  {
   "cell_type": "code",
   "execution_count": 31,
   "metadata": {
    "collapsed": false
   },
   "outputs": [
    {
     "name": "stdout",
     "output_type": "stream",
     "text": [
      "{'Plant1': {'Doors': 1, 'Windows': 0}, 'Plant2': {'Doors': 0, 'Windows': 2}, 'Plant3': {'Doors': 3, 'Windows': 2}}\n"
     ]
    }
   ],
   "source": [
    "# method 10 - nested dictionary from nested for loop\n",
    "products = ['Doors', 'Windows']\n",
    "plants = ['Plant1', 'Plant2', 'Plant3']\n",
    "hours_per_batch = [ [1, 0], [0, 2], [3, 2] ]\n",
    "\n",
    "hours_per_batch_dict = {}\n",
    "for i in range( len(plants) ):\n",
    "    hours_per_batch_dict[plants[i]] = {}\n",
    "    for j in range( len(products) ):\n",
    "        hours_per_batch_dict[plants[i]][products[j]] = hours_per_batch[i][j]\n",
    "        \n",
    "print(hours_per_batch_dict)"
   ]
  },
  {
   "cell_type": "code",
   "execution_count": 32,
   "metadata": {
    "collapsed": false
   },
   "outputs": [
    {
     "name": "stdout",
     "output_type": "stream",
     "text": [
      "{'Plant1': {'Doors': 1, 'Windows': 0}, 'Plant2': {'Doors': 0, 'Windows': 2}, 'Plant3': {'Doors': 3, 'Windows': 2}}\n"
     ]
    }
   ],
   "source": [
    "# method 11 - nested dictionary from nested for loop with enumerate\n",
    "products = ['Doors', 'Windows']\n",
    "plants = ['Plant1', 'Plant2', 'Plant3']\n",
    "hours_per_batch = [ [1, 0], [0, 2], [3, 2] ]\n",
    "\n",
    "hours_per_batch_dict = {}\n",
    "for i,pl in enumerate(plants):\n",
    "    hours_per_batch_dict[ pl ]= {}\n",
    "    for j,pr in enumerate(products):\n",
    "        hours_per_batch_dict[ pl ][ pr ] = hours_per_batch[ i ][ j ]\n",
    "        \n",
    "print(hours_per_batch_dict)"
   ]
  },
  {
   "cell_type": "code",
   "execution_count": 33,
   "metadata": {
    "collapsed": false
   },
   "outputs": [
    {
     "name": "stdout",
     "output_type": "stream",
     "text": [
      "{'Plant1': {'Doors': 1, 'Windows': 0}, 'Plant2': {'Doors': 0, 'Windows': 2}, 'Plant3': {'Doors': 3, 'Windows': 2}}\n"
     ]
    }
   ],
   "source": [
    "# method 12 - comprehension without enumerate\n",
    "products = ['Doors', 'Windows']\n",
    "plants = ['Plant1', 'Plant2', 'Plant3']\n",
    "hours_per_batch = [ [1, 0], [0, 2], [3, 2] ]\n",
    "\n",
    "hours_per_batch_dict = { plants[i]: { products[j]: hours_per_batch[i][j] for j in range( len(products) )} for i in range( len(plants) )}\n",
    "        \n",
    "print(hours_per_batch_dict)"
   ]
  },
  {
   "cell_type": "code",
   "execution_count": 34,
   "metadata": {
    "collapsed": false
   },
   "outputs": [
    {
     "name": "stdout",
     "output_type": "stream",
     "text": [
      "{'Plant1': {'Doors': 1, 'Windows': 0}, 'Plant2': {'Doors': 0, 'Windows': 2}, 'Plant3': {'Doors': 3, 'Windows': 2}}\n"
     ]
    }
   ],
   "source": [
    "# method 13 - comprehension with enumerate\n",
    "products = ['Doors', 'Windows']\n",
    "plants = ['Plant1', 'Plant2', 'Plant3']\n",
    "hours_per_batch = [ [1, 0], [0, 2], [3, 2] ]\n",
    "\n",
    "hours_per_batch_dict = { pl: { pr: hours_per_batch[i][j] for j,pr in enumerate(products)} for i,pl in enumerate(plants)}\n",
    "        \n",
    "print(hours_per_batch_dict)"
   ]
  },
  {
   "cell_type": "code",
   "execution_count": 35,
   "metadata": {
    "collapsed": false
   },
   "outputs": [
    {
     "name": "stdout",
     "output_type": "stream",
     "text": [
      "{'Plant1': {'Doors': 1, 'Windows': 0}, 'Plant2': {'Doors': 0, 'Windows': 2}, 'Plant3': {'Doors': 3, 'Windows': 2}}\n"
     ]
    }
   ],
   "source": [
    "# method 14 - comprehension with enumerate, replace inner with dict+zip construction\n",
    "products = ['Doors', 'Windows']\n",
    "plants = ['Plant1', 'Plant2', 'Plant3']\n",
    "hours_per_batch = [ [1, 0], [0, 2], [3, 2] ]\n",
    "\n",
    "hours_per_batch_dict = { pl: dict( zip( products, hours_per_batch[i]) ) for i,pl in enumerate(plants)}\n",
    "        \n",
    "print(hours_per_batch_dict)"
   ]
  },
  {
   "cell_type": "code",
   "execution_count": 36,
   "metadata": {
    "collapsed": false
   },
   "outputs": [
    {
     "name": "stdout",
     "output_type": "stream",
     "text": [
      "{'Plant1': {'Doors': 1, 'Windows': 0}, 'Plant2': {'Doors': 0, 'Windows': 2}, 'Plant3': {'Doors': 3, 'Windows': 2}}\n"
     ]
    }
   ],
   "source": [
    "# method 15 - using dict+zip without enumerate\n",
    "products = ['Doors', 'Windows']\n",
    "plants = ['Plant1', 'Plant2', 'Plant3']\n",
    "hours_per_batch = [ [1, 0], [0, 2], [3, 2] ]\n",
    "\n",
    "hours_per_batch_dict = dict( zip( plants, [dict( zip( products, row)) for row in hours_per_batch] ))\n",
    "        \n",
    "print(hours_per_batch_dict)"
   ]
  }
 ],
 "metadata": {
  "kernelspec": {
   "display_name": "Python 3 (system-wide)",
   "language": "python",
   "metadata": {
    "cocalc": {
     "description": "Python 3 programming language",
     "priority": 100,
     "url": "https://www.python.org/"
    }
   },
   "name": "python3",
   "resource_dir": "/ext/jupyter/kernels/python3"
  },
  "language_info": {
   "codemirror_mode": {
    "name": "ipython",
    "version": 3
   },
   "file_extension": ".py",
   "mimetype": "text/x-python",
   "name": "python",
   "nbconvert_exporter": "python",
   "pygments_lexer": "ipython3",
   "version": "3.8.5"
  },
  "toc": {
   "base_numbering": 1,
   "nav_menu": {
   },
   "number_sections": true,
   "sideBar": true,
   "skip_h1_title": false,
   "title_cell": "Table of Contents",
   "title_sidebar": "Contents",
   "toc_cell": false,
   "toc_position": {
    "height": "calc(100% - 180px)",
    "left": "10px",
    "top": "150px",
    "width": "313.789px"
   },
   "toc_section_display": true,
   "toc_window_display": true
  },
  "varInspector": {
   "cols": {
    "lenName": 16,
    "lenType": 16,
    "lenVar": 40
   },
   "kernels_config": {
    "python": {
     "delete_cmd_postfix": "",
     "delete_cmd_prefix": "del ",
     "library": "var_list.py",
     "varRefreshCmd": "print(var_dic_list())"
    },
    "r": {
     "delete_cmd_postfix": ") ",
     "delete_cmd_prefix": "rm(",
     "library": "var_list.r",
     "varRefreshCmd": "cat(var_dic_list()) "
    }
   },
   "types_to_exclude": [
    "module",
    "function",
    "builtin_function_or_method",
    "instance",
    "_Feature"
   ],
   "window_display": false
  }
 },
 "nbformat": 4,
 "nbformat_minor": 4
}