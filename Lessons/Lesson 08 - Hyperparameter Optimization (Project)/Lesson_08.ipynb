{
 "cells": [
  {
   "cell_type": "code",
   "execution_count": 1,
   "metadata": {
    "code_folding": [
     0
    ],
    "collapsed": false
   },
   "outputs": [
   ],
   "source": [
    "# EXECUTE FIRST\n",
    "# computational imports\n",
    "import numpy as np\n",
    "import pandas as pd\n",
    "from sklearn.datasets import load_diabetes\n",
    "from sklearn.linear_model import LinearRegression\n",
    "from sklearn.metrics import mean_squared_error\n",
    "from sklearn.ensemble import RandomForestRegressor\n",
    "from sklearn.model_selection import GridSearchCV, cross_val_score, KFold, RandomizedSearchCV\n",
    "import xgboost as xgb\n",
    "from scipy.stats import uniform, randint\n",
    "from GPyOpt.methods import BayesianOptimization\n",
    "from tpot import TPOTRegressor\n",
    "from pprint import pprint\n",
    "\n",
    "# plotting imports\n",
    "import matplotlib.pyplot as plt\n",
    "import seaborn as sns\n",
    "sns.set_style(\"darkgrid\")\n",
    "\n",
    "# display imports\n",
    "from IPython.display import display, IFrame\n",
    "from IPython.core.display import HTML\n",
    "\n",
    "# import warnings\n",
    "import warnings"
   ]
  },
  {
   "cell_type": "markdown",
   "metadata": {
    "collapsed": false
   },
   "source": [
    "<font size=18>Lesson 08: Hyperparameter Optimization for Machine Learning (Project)</font>"
   ]
  },
  {
   "cell_type": "markdown",
   "metadata": {
    "collapsed": false,
    "heading_collapsed": true
   },
   "source": [
    "# Introduction"
   ]
  },
  {
   "cell_type": "markdown",
   "metadata": {
    "collapsed": false,
    "hidden": true
   },
   "source": [
    "Fitting a model in machine learning is an optimization problem.  In a previous lesson we saw how logistic and linear regression use optimization to find the regression model coefficients to minimize difference between observed and predicted values of the response variable.\n",
    "\n",
    "Most machine learning models also come with a bunch of parameters that need to be set which can alter the fit of the model.  For example here is the `LogisticRegression` class from scikit learn (`sklearn`):\n",
    "\n",
    "```\n",
    "class sklearn.linear_model.LogisticRegression(penalty=’l2’, dual=False, tol=0.0001, C=1.0, fit_intercept=True, intercept_scaling=1, class_weight=None, random_state=None, solver=’warn’, max_iter=100, multi_class=’warn’, verbose=0, warm_start=False, n_jobs=None, l1_ratio=None)\n",
    "```\n",
    "\n",
    "Some of these parameters have to do with exactly what model is fit.  For instance, `penalty` changes the form of regularization added to the objective function to prevent overfitting while `C` changes the strength of the regularization (larger `C` is less regularization).  These extra parameters are usually called hyperparameters and to get the best model they often need to be tuned.  This tuning is another kind of optimization and is usually called \"hyperparameter optimization\" or \"hyperparameter tuning\".  This is a hot area and a little searching with Google will yield a ton of results.  <a href=\"https://medium.com/criteo-labs/hyper-parameter-optimization-algorithms-2fe447525903\">Here is one article</a> that gives an overview of hyperparameter tuning methods (but gets a bit technical at the end).\n",
    "\n",
    "To keep everything straight it helps to remember that model parameters and hyperparameters are different.  Hyperparameters are set or determined before the model is fit.  Model parameters are determined during the process of fitting the model to the data.\n",
    "\n",
    "Here are four kinds of hyperparameter optimization we'll explore:\n",
    "\n",
    "* **Grid Search:**  choose a list of possible values for each hyperparameter and loop over all the combinations of hyperparameters while fitting a model for each combination.  Return the combination that gives the best model performance.  We'll use `GridSearchCV` from the `sklearn` package.  \n",
    "\n",
    "* **Random Search:** choose a list of possible values, or a probability distribution, for each hyperparameter.  Choose combinations at random and return the combination that gives the best model performance.  We'll use `RandomSearchCV` from the `sklearn` package.\n",
    "\n",
    "* **Bayesian Optimization:**  after each iteration an approximate model of the objective function, called a surrogate model, is built and used to suggest a better set of hyperparameters for the next iteration.  This is really useful for objective functions that are expensive to evaluate and for which there is uncertainty or noise in the function values as there always will be when we sample data at random to feed into a machine learning model.  We'll use `BayesianSearchCV` from the `Scikit-Optimize` (skopt) package.  Other popular Python packages include `HyperOpt` and `GPyOpt`.  We aren't going to study the details of Bayesian Optimization in this class, but there are a number of tutorials on the topic.  I think <a href=\"http://krasserm.github.io/2018/03/21/bayesian-optimization/\">this article</a> is an especially good place to start if you want to learn more about the details.  In particular, the section called \"Implementation with NumPy and SciPy\" walks through the process of maximize a simple $y = f(x)$.\n",
    "\n",
    "* **Genetic Algorithms:**  a population of possible hyperparameter sets is evolved using selection, crossover, and mutation with the goal of identifying hyperparameters that yield trained models with the best performance.  We'll use the TPOT package.  We'll also see that the TPOT package is really an auto machine learning package because it can pick between multiple models using the genetic algorithm.\n",
    "\n",
    "There are **other hyperparameter optimization approaches**, but Bayesian Optimization is currently the most popular.  Work through this presentation to get an idea of how hyperparameter optimization works!\n",
    "\n",
    "If you haven't taken DS740 - Data Mining and Machine Learning yet, you can still follow along and do the assignment, but you might wish to revisit this assignment after you've completed DS740.  We're going to walk through the four methods of hyperparameter optimization using a problem involving regression.  Your assignment will be to apply the same methods to the classification problem of predicting loan defaults using a subset of the project data from DS705 - Statistical Methods class.  \n",
    "\n",
    "**Note**\n",
    "As of the writing of this lesson, there is an incompatibility between scikit-optimize and scikit-learn. The are compatible when you have version 0.8.1 of skopt and 0.23.2 of sklearn, though. To check your versions, run the code in the following cell. "
   ]
  },
  {
   "cell_type": "code",
   "execution_count": 2,
   "metadata": {
    "collapsed": false
   },
   "outputs": [
    {
     "name": "stdout",
     "output_type": "stream",
     "text": [
      "0.8.1\n",
      "0.23.2\n"
     ]
    }
   ],
   "source": [
    "import skopt\n",
    "print(skopt.__version__)\n",
    "import sklearn\n",
    "print(sklearn.__version__)"
   ]
  },
  {
   "cell_type": "markdown",
   "metadata": {
    "collapsed": false
   },
   "source": [
    "\n",
    "If you do not have version 0.8.1 of scikit-Optimize (skopt) and version 0.23.2 of scikit-learn open the \"Run_This_First.term\" file in this folder and run the following commands:\n",
    "\n",
    "`pip install --user scikit-learn==0.23.2`\n",
    "`pip install --user scikit-optimize==0.8.1`\n",
    "\n",
    "You will need to restart your kernel after running these two commmands.\n",
    "\n",
    "You should only have to do this once.\n"
   ]
  },
  {
   "cell_type": "markdown",
   "metadata": {
    "collapsed": false
   },
   "source": [
    "# But first... The Regression Problem"
   ]
  },
  {
   "cell_type": "markdown",
   "metadata": {
    "collapsed": false
   },
   "source": [
    "Before we try to understand hyperparameter optimization, let's first explore the data we'll be using and the type of machine learning we'll be doing. \n",
    "\n",
    "We'll be using a pre-processed diamonds dataset. You can read more about the <a href=\"https://towardsdatascience.com/predicting-diamond-prices-using-basic-measurement-metrics-bc8ba821c8f6\">variables in the diamond dataset in this blog post.</a> We have used Pycaret to <a href=\"https://github.com/pycaret/pycaret/blob/master/tutorials/Regression%20Tutorial%20Level%20Intermediate%20-%20REG102.ipynb\">pre-process the data</a> and output it as a CSV file stored in the data directory. First we'll read in the data."
   ]
  },
  {
   "cell_type": "code",
   "execution_count": 3,
   "metadata": {
    "collapsed": false
   },
   "outputs": [
    {
     "data": {
      "text/html": [
       "<div>\n",
       "<style scoped>\n",
       "    .dataframe tbody tr th:only-of-type {\n",
       "        vertical-align: middle;\n",
       "    }\n",
       "\n",
       "    .dataframe tbody tr th {\n",
       "        vertical-align: top;\n",
       "    }\n",
       "\n",
       "    .dataframe thead th {\n",
       "        text-align: right;\n",
       "    }\n",
       "</style>\n",
       "<table border=\"1\" class=\"dataframe\">\n",
       "  <thead>\n",
       "    <tr style=\"text-align: right;\">\n",
       "      <th></th>\n",
       "      <th>Cut_Fair</th>\n",
       "      <th>Cut_Good</th>\n",
       "      <th>Cut_Ideal</th>\n",
       "      <th>Cut_Signature-Ideal</th>\n",
       "      <th>Cut_Very Good</th>\n",
       "      <th>Color_D</th>\n",
       "      <th>Color_E</th>\n",
       "      <th>Color_F</th>\n",
       "      <th>Color_G</th>\n",
       "      <th>Color_H</th>\n",
       "      <th>...</th>\n",
       "      <th>Carat Weight_13.0</th>\n",
       "      <th>Carat Weight_2.0</th>\n",
       "      <th>Carat Weight_3.0</th>\n",
       "      <th>Carat Weight_4.0</th>\n",
       "      <th>Carat Weight_5.0</th>\n",
       "      <th>Carat Weight_6.0</th>\n",
       "      <th>Carat Weight_7.0</th>\n",
       "      <th>Carat Weight_8.0</th>\n",
       "      <th>Carat Weight_9.0</th>\n",
       "      <th>Price</th>\n",
       "    </tr>\n",
       "  </thead>\n",
       "  <tbody>\n",
       "    <tr>\n",
       "      <th>0</th>\n",
       "      <td>0.0</td>\n",
       "      <td>0.0</td>\n",
       "      <td>1.0</td>\n",
       "      <td>0.0</td>\n",
       "      <td>0.0</td>\n",
       "      <td>0.0</td>\n",
       "      <td>0.0</td>\n",
       "      <td>0.0</td>\n",
       "      <td>0.0</td>\n",
       "      <td>1.0</td>\n",
       "      <td>...</td>\n",
       "      <td>0.0</td>\n",
       "      <td>0.0</td>\n",
       "      <td>0.0</td>\n",
       "      <td>0.0</td>\n",
       "      <td>1.0</td>\n",
       "      <td>0.0</td>\n",
       "      <td>0.0</td>\n",
       "      <td>0.0</td>\n",
       "      <td>0.0</td>\n",
       "      <td>5169</td>\n",
       "    </tr>\n",
       "    <tr>\n",
       "      <th>1</th>\n",
       "      <td>0.0</td>\n",
       "      <td>0.0</td>\n",
       "      <td>1.0</td>\n",
       "      <td>0.0</td>\n",
       "      <td>0.0</td>\n",
       "      <td>0.0</td>\n",
       "      <td>0.0</td>\n",
       "      <td>0.0</td>\n",
       "      <td>0.0</td>\n",
       "      <td>1.0</td>\n",
       "      <td>...</td>\n",
       "      <td>0.0</td>\n",
       "      <td>0.0</td>\n",
       "      <td>0.0</td>\n",
       "      <td>0.0</td>\n",
       "      <td>0.0</td>\n",
       "      <td>0.0</td>\n",
       "      <td>0.0</td>\n",
       "      <td>0.0</td>\n",
       "      <td>0.0</td>\n",
       "      <td>3470</td>\n",
       "    </tr>\n",
       "    <tr>\n",
       "      <th>2</th>\n",
       "      <td>0.0</td>\n",
       "      <td>0.0</td>\n",
       "      <td>1.0</td>\n",
       "      <td>0.0</td>\n",
       "      <td>0.0</td>\n",
       "      <td>0.0</td>\n",
       "      <td>0.0</td>\n",
       "      <td>0.0</td>\n",
       "      <td>0.0</td>\n",
       "      <td>1.0</td>\n",
       "      <td>...</td>\n",
       "      <td>0.0</td>\n",
       "      <td>0.0</td>\n",
       "      <td>0.0</td>\n",
       "      <td>0.0</td>\n",
       "      <td>0.0</td>\n",
       "      <td>0.0</td>\n",
       "      <td>0.0</td>\n",
       "      <td>0.0</td>\n",
       "      <td>0.0</td>\n",
       "      <td>3183</td>\n",
       "    </tr>\n",
       "    <tr>\n",
       "      <th>3</th>\n",
       "      <td>0.0</td>\n",
       "      <td>0.0</td>\n",
       "      <td>1.0</td>\n",
       "      <td>0.0</td>\n",
       "      <td>0.0</td>\n",
       "      <td>0.0</td>\n",
       "      <td>1.0</td>\n",
       "      <td>0.0</td>\n",
       "      <td>0.0</td>\n",
       "      <td>0.0</td>\n",
       "      <td>...</td>\n",
       "      <td>0.0</td>\n",
       "      <td>1.0</td>\n",
       "      <td>0.0</td>\n",
       "      <td>0.0</td>\n",
       "      <td>0.0</td>\n",
       "      <td>0.0</td>\n",
       "      <td>0.0</td>\n",
       "      <td>0.0</td>\n",
       "      <td>0.0</td>\n",
       "      <td>4370</td>\n",
       "    </tr>\n",
       "    <tr>\n",
       "      <th>4</th>\n",
       "      <td>0.0</td>\n",
       "      <td>0.0</td>\n",
       "      <td>1.0</td>\n",
       "      <td>0.0</td>\n",
       "      <td>0.0</td>\n",
       "      <td>0.0</td>\n",
       "      <td>0.0</td>\n",
       "      <td>0.0</td>\n",
       "      <td>1.0</td>\n",
       "      <td>0.0</td>\n",
       "      <td>...</td>\n",
       "      <td>0.0</td>\n",
       "      <td>0.0</td>\n",
       "      <td>0.0</td>\n",
       "      <td>0.0</td>\n",
       "      <td>0.0</td>\n",
       "      <td>0.0</td>\n",
       "      <td>0.0</td>\n",
       "      <td>0.0</td>\n",
       "      <td>0.0</td>\n",
       "      <td>3171</td>\n",
       "    </tr>\n",
       "    <tr>\n",
       "      <th>...</th>\n",
       "      <td>...</td>\n",
       "      <td>...</td>\n",
       "      <td>...</td>\n",
       "      <td>...</td>\n",
       "      <td>...</td>\n",
       "      <td>...</td>\n",
       "      <td>...</td>\n",
       "      <td>...</td>\n",
       "      <td>...</td>\n",
       "      <td>...</td>\n",
       "      <td>...</td>\n",
       "      <td>...</td>\n",
       "      <td>...</td>\n",
       "      <td>...</td>\n",
       "      <td>...</td>\n",
       "      <td>...</td>\n",
       "      <td>...</td>\n",
       "      <td>...</td>\n",
       "      <td>...</td>\n",
       "      <td>...</td>\n",
       "      <td>...</td>\n",
       "    </tr>\n",
       "    <tr>\n",
       "      <th>5995</th>\n",
       "      <td>0.0</td>\n",
       "      <td>0.0</td>\n",
       "      <td>1.0</td>\n",
       "      <td>0.0</td>\n",
       "      <td>0.0</td>\n",
       "      <td>1.0</td>\n",
       "      <td>0.0</td>\n",
       "      <td>0.0</td>\n",
       "      <td>0.0</td>\n",
       "      <td>0.0</td>\n",
       "      <td>...</td>\n",
       "      <td>0.0</td>\n",
       "      <td>0.0</td>\n",
       "      <td>0.0</td>\n",
       "      <td>1.0</td>\n",
       "      <td>0.0</td>\n",
       "      <td>0.0</td>\n",
       "      <td>0.0</td>\n",
       "      <td>0.0</td>\n",
       "      <td>0.0</td>\n",
       "      <td>6250</td>\n",
       "    </tr>\n",
       "    <tr>\n",
       "      <th>5996</th>\n",
       "      <td>0.0</td>\n",
       "      <td>0.0</td>\n",
       "      <td>0.0</td>\n",
       "      <td>0.0</td>\n",
       "      <td>1.0</td>\n",
       "      <td>1.0</td>\n",
       "      <td>0.0</td>\n",
       "      <td>0.0</td>\n",
       "      <td>0.0</td>\n",
       "      <td>0.0</td>\n",
       "      <td>...</td>\n",
       "      <td>0.0</td>\n",
       "      <td>0.0</td>\n",
       "      <td>0.0</td>\n",
       "      <td>1.0</td>\n",
       "      <td>0.0</td>\n",
       "      <td>0.0</td>\n",
       "      <td>0.0</td>\n",
       "      <td>0.0</td>\n",
       "      <td>0.0</td>\n",
       "      <td>5328</td>\n",
       "    </tr>\n",
       "    <tr>\n",
       "      <th>5997</th>\n",
       "      <td>0.0</td>\n",
       "      <td>0.0</td>\n",
       "      <td>1.0</td>\n",
       "      <td>0.0</td>\n",
       "      <td>0.0</td>\n",
       "      <td>1.0</td>\n",
       "      <td>0.0</td>\n",
       "      <td>0.0</td>\n",
       "      <td>0.0</td>\n",
       "      <td>0.0</td>\n",
       "      <td>...</td>\n",
       "      <td>0.0</td>\n",
       "      <td>0.0</td>\n",
       "      <td>0.0</td>\n",
       "      <td>1.0</td>\n",
       "      <td>0.0</td>\n",
       "      <td>0.0</td>\n",
       "      <td>0.0</td>\n",
       "      <td>0.0</td>\n",
       "      <td>0.0</td>\n",
       "      <td>6157</td>\n",
       "    </tr>\n",
       "    <tr>\n",
       "      <th>5998</th>\n",
       "      <td>0.0</td>\n",
       "      <td>0.0</td>\n",
       "      <td>0.0</td>\n",
       "      <td>1.0</td>\n",
       "      <td>0.0</td>\n",
       "      <td>0.0</td>\n",
       "      <td>0.0</td>\n",
       "      <td>0.0</td>\n",
       "      <td>1.0</td>\n",
       "      <td>0.0</td>\n",
       "      <td>...</td>\n",
       "      <td>0.0</td>\n",
       "      <td>0.0</td>\n",
       "      <td>0.0</td>\n",
       "      <td>0.0</td>\n",
       "      <td>0.0</td>\n",
       "      <td>0.0</td>\n",
       "      <td>1.0</td>\n",
       "      <td>0.0</td>\n",
       "      <td>0.0</td>\n",
       "      <td>11206</td>\n",
       "    </tr>\n",
       "    <tr>\n",
       "      <th>5999</th>\n",
       "      <td>0.0</td>\n",
       "      <td>0.0</td>\n",
       "      <td>1.0</td>\n",
       "      <td>0.0</td>\n",
       "      <td>0.0</td>\n",
       "      <td>0.0</td>\n",
       "      <td>1.0</td>\n",
       "      <td>0.0</td>\n",
       "      <td>0.0</td>\n",
       "      <td>0.0</td>\n",
       "      <td>...</td>\n",
       "      <td>0.0</td>\n",
       "      <td>0.0</td>\n",
       "      <td>0.0</td>\n",
       "      <td>0.0</td>\n",
       "      <td>0.0</td>\n",
       "      <td>0.0</td>\n",
       "      <td>0.0</td>\n",
       "      <td>0.0</td>\n",
       "      <td>0.0</td>\n",
       "      <td>30507</td>\n",
       "    </tr>\n",
       "  </tbody>\n",
       "</table>\n",
       "<p>6000 rows × 41 columns</p>\n",
       "</div>"
      ],
      "text/plain": [
       "      Cut_Fair  Cut_Good  Cut_Ideal  Cut_Signature-Ideal  Cut_Very Good  \\\n",
       "0          0.0       0.0        1.0                  0.0            0.0   \n",
       "1          0.0       0.0        1.0                  0.0            0.0   \n",
       "2          0.0       0.0        1.0                  0.0            0.0   \n",
       "3          0.0       0.0        1.0                  0.0            0.0   \n",
       "4          0.0       0.0        1.0                  0.0            0.0   \n",
       "...        ...       ...        ...                  ...            ...   \n",
       "5995       0.0       0.0        1.0                  0.0            0.0   \n",
       "5996       0.0       0.0        0.0                  0.0            1.0   \n",
       "5997       0.0       0.0        1.0                  0.0            0.0   \n",
       "5998       0.0       0.0        0.0                  1.0            0.0   \n",
       "5999       0.0       0.0        1.0                  0.0            0.0   \n",
       "\n",
       "      Color_D  Color_E  Color_F  Color_G  Color_H  ...  Carat Weight_13.0  \\\n",
       "0         0.0      0.0      0.0      0.0      1.0  ...                0.0   \n",
       "1         0.0      0.0      0.0      0.0      1.0  ...                0.0   \n",
       "2         0.0      0.0      0.0      0.0      1.0  ...                0.0   \n",
       "3         0.0      1.0      0.0      0.0      0.0  ...                0.0   \n",
       "4         0.0      0.0      0.0      1.0      0.0  ...                0.0   \n",
       "...       ...      ...      ...      ...      ...  ...                ...   \n",
       "5995      1.0      0.0      0.0      0.0      0.0  ...                0.0   \n",
       "5996      1.0      0.0      0.0      0.0      0.0  ...                0.0   \n",
       "5997      1.0      0.0      0.0      0.0      0.0  ...                0.0   \n",
       "5998      0.0      0.0      0.0      1.0      0.0  ...                0.0   \n",
       "5999      0.0      1.0      0.0      0.0      0.0  ...                0.0   \n",
       "\n",
       "      Carat Weight_2.0  Carat Weight_3.0  Carat Weight_4.0  Carat Weight_5.0  \\\n",
       "0                  0.0               0.0               0.0               1.0   \n",
       "1                  0.0               0.0               0.0               0.0   \n",
       "2                  0.0               0.0               0.0               0.0   \n",
       "3                  1.0               0.0               0.0               0.0   \n",
       "4                  0.0               0.0               0.0               0.0   \n",
       "...                ...               ...               ...               ...   \n",
       "5995               0.0               0.0               1.0               0.0   \n",
       "5996               0.0               0.0               1.0               0.0   \n",
       "5997               0.0               0.0               1.0               0.0   \n",
       "5998               0.0               0.0               0.0               0.0   \n",
       "5999               0.0               0.0               0.0               0.0   \n",
       "\n",
       "      Carat Weight_6.0  Carat Weight_7.0  Carat Weight_8.0  Carat Weight_9.0  \\\n",
       "0                  0.0               0.0               0.0               0.0   \n",
       "1                  0.0               0.0               0.0               0.0   \n",
       "2                  0.0               0.0               0.0               0.0   \n",
       "3                  0.0               0.0               0.0               0.0   \n",
       "4                  0.0               0.0               0.0               0.0   \n",
       "...                ...               ...               ...               ...   \n",
       "5995               0.0               0.0               0.0               0.0   \n",
       "5996               0.0               0.0               0.0               0.0   \n",
       "5997               0.0               0.0               0.0               0.0   \n",
       "5998               0.0               1.0               0.0               0.0   \n",
       "5999               0.0               0.0               0.0               0.0   \n",
       "\n",
       "      Price  \n",
       "0      5169  \n",
       "1      3470  \n",
       "2      3183  \n",
       "3      4370  \n",
       "4      3171  \n",
       "...     ...  \n",
       "5995   6250  \n",
       "5996   5328  \n",
       "5997   6157  \n",
       "5998  11206  \n",
       "5999  30507  \n",
       "\n",
       "[6000 rows x 41 columns]"
      ]
     },
     "execution_count": 3,
     "metadata": {
     },
     "output_type": "execute_result"
    }
   ],
   "source": [
    "#import the diamonds csv file\n",
    "diamonds = pd.read_csv('data/diamonds_transformed.csv')\n",
    "diamonds"
   ]
  },
  {
   "cell_type": "markdown",
   "metadata": {
    "collapsed": false
   },
   "source": [
    "**Our objective is to predict the target variable (Price) from the other 40 features.**"
   ]
  },
  {
   "cell_type": "markdown",
   "metadata": {
    "collapsed": false
   },
   "source": [
    "## Setup the data"
   ]
  },
  {
   "cell_type": "markdown",
   "metadata": {
    "collapsed": false
   },
   "source": [
    "In a full machine learning analysis you would want to explore the data, do feature selection and possibly feature engineering including variable rescaling. Since you are not required to know those concepts before this course, we've done that for you. We're going to focus on only hyperparameter optimization.\n",
    "\n",
    "We've already loaded the data, but we'll grab our features, `X`, and our target variable `y`.  We could just fit a model to all of the data, but we don't want a model that's just memorized the data and can't generalize to new data (overfitting).  So we usually divide the data into test and training sets.  The training set is used to fit a model, while the test set is used to validate the result.  Typically around 20% of the data is randomly selected for the test set.  We set the random number seed in `train_test_split` for reproducibility."
   ]
  },
  {
   "cell_type": "code",
   "execution_count": 4,
   "metadata": {
    "collapsed": false
   },
   "outputs": [
   ],
   "source": [
    "#in x get all columns except Price column\n",
    "X = diamonds.loc[:, diamonds.columns != 'Price']\n",
    "#use Price column as target variable\n",
    "y= diamonds['Price']\n",
    "\n",
    "\n",
    "from sklearn.model_selection import train_test_split\n",
    "X_train, X_test, y_train, y_test = train_test_split(X, y, test_size=0.2, random_state=123)"
   ]
  },
  {
   "cell_type": "markdown",
   "metadata": {
    "collapsed": false
   },
   "source": [
    "## Establishing a baseline"
   ]
  },
  {
   "cell_type": "markdown",
   "metadata": {
    "collapsed": false
   },
   "source": [
    "We'll train a few different models just to get an idea of how things work and to establish a baseline.  By default these models fit the data by minimizing the mean squared error which is the average squared difference between the predicted target values and the actual target values. A closely related quantity is r-squared which is the proportion of the total variation in the target values that is captured by the predicted values.\n",
    "\n",
    "**Our goal, for each regression model, is to maximize r-squared as measured on the test data.**"
   ]
  },
  {
   "cell_type": "markdown",
   "metadata": {
    "collapsed": false
   },
   "source": [
    "### Linear Regression and sklearn basics"
   ]
  },
  {
   "cell_type": "markdown",
   "metadata": {
    "collapsed": false
   },
   "source": [
    "This is the same multiple linear regression model you've learned about in statistics.  We saw a bit about fitting a simple linear regression model in Python as part of Lesson 4.  Fitting a model in `sklearn` is pretty straightforward."
   ]
  },
  {
   "cell_type": "code",
   "execution_count": 5,
   "metadata": {
    "collapsed": false
   },
   "outputs": [
    {
     "data": {
      "text/plain": [
       "LinearRegression()"
      ]
     },
     "execution_count": 5,
     "metadata": {
     },
     "output_type": "execute_result"
    }
   ],
   "source": [
    "# Create a model object (hyperparameters would be declared here, but we are using default values) \n",
    "model_lr = LinearRegression()\n",
    "\n",
    "# Fit the model by calling its fit() method\n",
    "model_lr.fit(X_train, y_train)"
   ]
  },
  {
   "cell_type": "markdown",
   "metadata": {
    "collapsed": false,
    "slideshow": {
     "slide_type": "slide"
    }
   },
   "source": [
    "In a basic machine learning pipeline we could look at the model score.  This is basically the objective function value being optimized by sci-kit (or a quantity derived from that).  For regression models we usually look at either\n",
    "* mean squared error: the average squared difference between the true and predicted target values \n",
    "or\n",
    "* r-squared: the proportion of the total variation in the target values that is accounted for by the model\n",
    "\n",
    "### Mathematical representation of $R^2$ and MSE:\n",
    "\n",
    "Definitions:\n",
    "* $y_{i}$ = actual i*th* observation\n",
    "* $f_{i}$ = predicted i*th* observation\n",
    "* $\\bar{y}$ = mean of actual observations\n",
    "* $n$ = degrees of freedom (or num observations)\n",
    "\n",
    "**Total sum of squares** (proportional to the variance of the data):\n",
    "\n",
    "$ SS_{total} = \\displaystyle \\sum_{i} (y_{i} - \\bar{y})^2$\n",
    "\n",
    "**Residuals sum of squares** , also called sum of squares residuals:\n",
    "\n",
    "$ SS_{res} = \\displaystyle \\sum_{i} (y_{i} - f_{i})^2$\n",
    "\n",
    "**Mean squared error**:\n",
    "\n",
    "MSE = $SS_{res}\\over n $\n",
    "\n",
    "#### The most general definition of the coefficient of determination is:\n",
    "\n",
    "$ R^2 = 1 - {SS_{res}\\over SS_{tot}}$\n",
    "\n",
    "For regression, if we compute the score of the model applied to the training data:"
   ]
  },
  {
   "cell_type": "code",
   "execution_count": 6,
   "metadata": {
    "collapsed": false,
    "scrolled": true
   },
   "outputs": [
    {
     "name": "stdout",
     "output_type": "stream",
     "text": [
      "Model r-squared score from training data 0.8731\n"
     ]
    }
   ],
   "source": [
    "score_training = model_lr.score(X_train,y_train)\n",
    "print(f\"Model r-squared score from training data {score_training:.4f}\")"
   ]
  },
  {
   "cell_type": "markdown",
   "metadata": {
    "collapsed": false
   },
   "source": [
    "This value of r-squared is the same as the value you met in statistics.  We interpret this to mean that our linear regression model captures 87.3% of the variation in the training data.  However, in a machine learning context we want to know how this model works on new data.  \n",
    "\n",
    "If we apply the score() method to the test data it's no longer the value of r-squared that we learned about in a statistics class.  *This is because we are evaluating r-squared score on data that was not used to build the model.* For example, we can get a negative r-squared number which indicates that the model is performing worse, on the test data, than simply predicting that all of the target values are the same as the average target value.  \n",
    "\n",
    "In short, when we compute the r-squared score() for the test data, values near one are great.  Values near zero just mean the model isn't really helping and negative values mean that are model is worse than no model at all.  This is the metric we will use to select our regression models so **bigger is better**.  Here is how we compute it:"
   ]
  },
  {
   "cell_type": "code",
   "execution_count": 7,
   "metadata": {
    "collapsed": false
   },
   "outputs": [
    {
     "name": "stdout",
     "output_type": "stream",
     "text": [
      "Model r-squared score from test data: 0.8742\n"
     ]
    }
   ],
   "source": [
    "# Step 4 - assess model quality on test data\n",
    "score_test = model_lr.score(X_test,y_test)\n",
    "print(f\"Model r-squared score from test data: {score_test:.4f}\")"
   ]
  },
  {
   "cell_type": "markdown",
   "metadata": {
    "collapsed": false
   },
   "source": [
    "This number doesn't have the same clean interpretation as r-squared in a statistics setting, but it is useful for comparing models if we remember larger scores are better.  (Note:  if we were looking at mean square instead, then smaller would be better.)\n",
    "\n",
    "Finally we can use our model to make predictions:"
   ]
  },
  {
   "cell_type": "code",
   "execution_count": 8,
   "metadata": {
    "collapsed": false
   },
   "outputs": [
    {
     "data": {
      "image/png": "[encoded data removed]",
      "text/plain": [
       "<Figure size 648x432 with 1 Axes>"
      ]
     },
     "execution_count": 8,
     "metadata": {
      "image/png": {
       "height": 370,
       "width": 582
      }
     },
     "output_type": "execute_result"
    }
   ],
   "source": [
    "# Make predictions\n",
    "y_pred = model_lr.predict(X_test)\n",
    "\n",
    "# The plot is optional, but it gives an idea of the model accuracy, \n",
    "# in a perfect model the points would line up along the diagonal (y=x)\n",
    "# import matplotlib.pyplot as plt\n",
    "plt.figure(figsize=(9,6))\n",
    "plt.plot(y_test,y_pred,'k.')\n",
    "plt.xlabel('Test Values')\n",
    "plt.ylabel('Predicted Values');"
   ]
  },
  {
   "cell_type": "markdown",
   "metadata": {
    "collapsed": false
   },
   "source": [
    "From the plot we can see that the model is far from perfect, but it is getting the overall trend right.  One thing to note is that it's doing a pretty poor job at predicting large target values.  \n",
    "\n",
    "For a real-world problem we'd want to assess the accuracy of the model predictions on the test data.  For regression problems this is often done with the mean square error or root mean square error (rmse):"
   ]
  },
  {
   "cell_type": "code",
   "execution_count": 9,
   "metadata": {
    "collapsed": false
   },
   "outputs": [
    {
     "name": "stdout",
     "output_type": "stream",
     "text": [
      "Mean squared error on test data: 13563408.00\n",
      "Root mean squared error on test data: 3682.85\n"
     ]
    }
   ],
   "source": [
    "# Assess accuracy on test-data.\n",
    "\n",
    "# from sklearn.metrics import mean_squared_error\n",
    "mse = mean_squared_error(y_test,y_pred)\n",
    "rmse = np.sqrt(mse)\n",
    "print(f\"Mean squared error on test data: {mse:.2f}\")\n",
    "print(f\"Root mean squared error on test data: {rmse:.2f}\")"
   ]
  },
  {
   "cell_type": "markdown",
   "metadata": {
    "collapsed": false
   },
   "source": [
    "You can interpret the rmse to roughly mean that the average error in our predictions is about \\$3682.  Below we condense the code into one cell to make it easier to follow."
   ]
  },
  {
   "cell_type": "code",
   "execution_count": 10,
   "metadata": {
    "collapsed": false
   },
   "outputs": [
    {
     "name": "stdout",
     "output_type": "stream",
     "text": [
      "Model r-squared score from test data: 0.8742\n"
     ]
    },
    {
     "name": "stdout",
     "output_type": "stream",
     "text": [
      "Mean squared error on test data: 13563408.00\n",
      "Root mean squared error on test data: 3682.85\n"
     ]
    },
    {
     "data": {
      "text/plain": [
       "3682.85"
      ]
     },
     "execution_count": 10,
     "metadata": {
     },
     "output_type": "execute_result"
    },
    {
     "data": {
      "image/png": "[encoded data removed]",
      "text/plain": [
       "<Figure size 648x432 with 1 Axes>"
      ]
     },
     "execution_count": 10,
     "metadata": {
      "image/png": {
       "height": 370,
       "width": 582
      }
     },
     "output_type": "execute_result"
    }
   ],
   "source": [
    "# Here is all the code in one cell with most of it wrapped into a function for reuse\n",
    "\n",
    "# from sklearn.linear_model import LinearRegression\n",
    "model_lr = LinearRegression()\n",
    "model_lr.fit(X_train,y_train) # this could be inside the function below too\n",
    "\n",
    "def my_regression_results(model):\n",
    "    score_test = model.score(X_test,y_test)\n",
    "    print('Model r-squared score from test data: {:0.4f}'.format(score_test))\n",
    "\n",
    "    y_pred = model.predict(X_test)\n",
    "    # import matplotlib.pyplot as plt\n",
    "    plt.figure(figsize=(9,6))\n",
    "    plt.plot(y_test,y_pred,'k.')\n",
    "    plt.xlabel('Test Values')\n",
    "    plt.ylabel('Predicted Values');\n",
    "\n",
    "    # from sklearn.metrics import mean_squared_error\n",
    "    mse = mean_squared_error(y_test,y_pred)\n",
    "    rmse = np.sqrt(mse)\n",
    "    print('Mean squared error on test data: {:0.2f}'.format(mse))\n",
    "    print('Root mean squared error on test data: {:0.2f}'.format(rmse))\n",
    "    return (round(rmse, 2))\n",
    "    \n",
    "my_regression_results(model_lr)"
   ]
  },
  {
   "cell_type": "markdown",
   "metadata": {
    "collapsed": false
   },
   "source": [
    "Now it's very easy to assess other models by first creating a model object in sklearn and then using our custom function `my_regression_results`. \n"
   ]
  },
  {
   "cell_type": "markdown",
   "metadata": {
    "collapsed": false
   },
   "source": [
    "### Random Forest Regression"
   ]
  },
  {
   "cell_type": "markdown",
   "metadata": {
    "collapsed": false
   },
   "source": [
    "Random Forest regression uses an ensemble of decision trees and combines their final output to build a predictive model. If you haven't taken DS740 yet, that's OK.  All we really need to know is that a Random Forest regressor is a predictive model with a bunch of hyperparameters that can be changed and often are very influential in the model performance.  These models are computationally expensive to train because a typical ensemble uses 10 to 100 or more decision trees."
   ]
  },
  {
   "cell_type": "code",
   "execution_count": 11,
   "metadata": {
    "collapsed": false
   },
   "outputs": [
    {
     "name": "stdout",
     "output_type": "stream",
     "text": [
      "Model r-squared score from test data: 0.9674\n"
     ]
    },
    {
     "name": "stdout",
     "output_type": "stream",
     "text": [
      "Mean squared error on test data: 3517749.65\n",
      "Root mean squared error on test data: 1875.57\n"
     ]
    },
    {
     "data": {
      "image/png": "[encoded data removed]",
      "text/plain": [
       "<Figure size 648x432 with 1 Axes>"
      ]
     },
     "execution_count": 11,
     "metadata": {
      "image/png": {
       "height": 370,
       "width": 582
      }
     },
     "output_type": "execute_result"
    }
   ],
   "source": [
    "# from sklearn.ensemble import RandomForestRegressor\n",
    "\n",
    "rf_model = RandomForestRegressor(random_state=0)\n",
    "rf_model.fit(X_train,y_train)\n",
    "\n",
    "rf_rmse = my_regression_results(rf_model)"
   ]
  },
  {
   "cell_type": "markdown",
   "metadata": {
    "collapsed": false
   },
   "source": [
    "The random forest model, with default parameters, is much better than the linear regression model."
   ]
  },
  {
   "cell_type": "markdown",
   "metadata": {
    "collapsed": false
   },
   "source": [
    "### XGBoost"
   ]
  },
  {
   "cell_type": "markdown",
   "metadata": {
    "collapsed": false
   },
   "source": [
    "XGBoost is a decision-tree-based ensemble algorithm that uses a gradient boosting framework to produce some pretty fantastic results.  We won't go into the details, but <a href=\"https://towardsdatascience.com/https-medium-com-vishalmorde-xgboost-algorithm-long-she-may-rein-edd9f99be63d\">this article</a> has a pretty nice description and talks about a variety of decision-tree based algorithms.  XGBoost is typically quite a bit faster to train than a random forest algorithm, but can still be computationally expensive."
   ]
  },
  {
   "cell_type": "code",
   "execution_count": 12,
   "metadata": {
    "collapsed": false
   },
   "outputs": [
    {
     "name": "stdout",
     "output_type": "stream",
     "text": [
      "Model r-squared score from test data: 0.9690\n",
      "Mean squared error on test data: 3347681.78\n",
      "Root mean squared error on test data: 1829.67\n"
     ]
    },
    {
     "data": {
      "image/png": "[encoded data removed]",
      "text/plain": [
       "<Figure size 648x432 with 1 Axes>"
      ]
     },
     "execution_count": 12,
     "metadata": {
      "image/png": {
       "height": 370,
       "width": 589
      }
     },
     "output_type": "execute_result"
    }
   ],
   "source": [
    "# import xgboost as xgb\n",
    "\n",
    "xgbr_model = xgb.XGBRegressor(objective ='reg:squarederror')\n",
    "xgbr_model.fit(X_train,y_train)\n",
    "\n",
    "xg_default_rmse = my_regression_results(xgbr_model)"
   ]
  },
  {
   "cell_type": "markdown",
   "metadata": {
    "collapsed": false
   },
   "source": [
    "Depending on what random seeds and such you're using, you may find that xgboost does better or worse than some of the other models.\n",
    "\n",
    "Our best model thus far with the seed we set is the XGBoost model.  Perhaps using the default hyperparameter values for training the other models wasn't the best choice.  In what follows, we'll try to improve the xgboost model by tuning its parameters."
   ]
  },
  {
   "cell_type": "markdown",
   "metadata": {
    "collapsed": false
   },
   "source": [
    "# Estimating the model score without test data"
   ]
  },
  {
   "cell_type": "markdown",
   "metadata": {
    "collapsed": false
   },
   "source": [
    "We'd like to optimize the scores of our models when applied to data the model hasn't seen. However, the model doesn't see the test data during model training.  To estimate the test data model score we apply k-fold cross validation to the model training process.\n",
    "\n",
    "This technique is taught in DS740 and you can learn more in <a href=\"https://machinelearningmastery.com/k-fold-cross-validation/\">this article</a>.  Basically the training data is divided into k subsets and the subsets are used to build models.  The scores from these models are averaged to estimate the score when applied to unseen data.  Cross validation is used by all of our hyperparameter optimization algorithms to estimate the model score and this estimated score is what we try to optimize.  \n",
    "\n",
    "We won't really have to do cross-validation directly, but this bit of code shows how we could do it using `sklearn`.  Here we are estimating the test error of our xgboost model using 3-fold cross-validation (3 is the default number of folds for `cross_val_score`, but 5 is more commonly used for hyperparameter optimization):"
   ]
  },
  {
   "cell_type": "code",
   "execution_count": 13,
   "metadata": {
    "collapsed": false
   },
   "outputs": [
    {
     "name": "stdout",
     "output_type": "stream",
     "text": [
      "The average score across the folds is 0.9718\n"
     ]
    }
   ],
   "source": [
    "# from sklearn.model_selection import cross_val_score, KFold\n",
    "scores = cross_val_score(xgbr_model, X=X_train, y=y_train, cv = 3)\n",
    "print(f\"The average score across the folds is {scores.mean():.4f}\")"
   ]
  },
  {
   "cell_type": "markdown",
   "metadata": {
    "collapsed": false
   },
   "source": [
    "**Here is the important bit about cross-validation** for estimating model performance:  *the k-fold cross-validated model score is the quantity we optimize in hyperparameter optimization*.\n",
    "\n",
    "For regression problems we are usually minimizing the k-fold cross-validated mean square error.  For classification problems we maximize the k-fold cross-validated accuracy where accuracy is the total number of correct classifications divided by the total number of classifications.  The number of folds used is commonly $k=5$ or $k=10$, but we'll mostly use $k=3$ just to speed things up for learning purposes."
   ]
  },
  {
   "cell_type": "markdown",
   "metadata": {
    "collapsed": false
   },
   "source": [
    "# Hyperparameter Optimization applied to XGBoost Regression"
   ]
  },
  {
   "cell_type": "markdown",
   "metadata": {
    "collapsed": false
   },
   "source": [
    "We'll focus on the XGboost model for regression because it's a pretty amazing model.  If you haven't heard about it, then try to Google a bit or <a href=\"https://machinelearningmastery.com/gentle-introduction-xgboost-applied-machine-learning/\">check out this article</a> to learn more.  The XGboost model has many hyperparameters:"
   ]
  },
  {
   "cell_type": "code",
   "execution_count": 14,
   "metadata": {
    "collapsed": false
   },
   "outputs": [
    {
     "name": "stdout",
     "output_type": "stream",
     "text": [
      "{'base_score': 0.5,\n",
      " 'booster': 'gbtree',\n",
      " 'colsample_bylevel': 1,\n",
      " 'colsample_bynode': 1,\n",
      " 'colsample_bytree': 1,\n",
      " 'gamma': 0,\n",
      " 'gpu_id': -1,\n",
      " 'interaction_constraints': '',\n",
      " 'learning_rate': 0.300000012,\n",
      " 'max_delta_step': 0,\n",
      " 'max_depth': 6,\n",
      " 'min_child_weight': 1,\n",
      " 'monotone_constraints': '()',\n",
      " 'n_jobs': 0,\n",
      " 'num_parallel_tree': 1,\n",
      " 'objective': 'reg:squarederror',\n",
      " 'random_state': 0,\n",
      " 'reg_alpha': 0,\n",
      " 'reg_lambda': 1,\n",
      " 'scale_pos_weight': 1,\n",
      " 'subsample': 1,\n",
      " 'tree_method': 'exact',\n",
      " 'validate_parameters': 1,\n",
      " 'verbosity': None}\n"
     ]
    }
   ],
   "source": [
    "# from pprint import pprint\n",
    "pprint(xgbr_model.get_xgb_params())"
   ]
  },
  {
   "cell_type": "markdown",
   "metadata": {
    "collapsed": false
   },
   "source": [
    "Fortunately the default values shown above work pretty well in many problems.  Some of the hyperparameters don't directly change the model like `nthread` and `verbosity`.  Of the rest we'll pick a subset to optimize.  Some commonly optimized parameters are `n_estimators`, `max_depth`, `learning_rate`, `subsample`, and `min_child_weight` (these are the same ones that are optimized in the `TPOT` package). Two other hyperparameters linked to regularization terms are `reg_lambda` and `reg_alpha` which can be useful to prevent overfitting.\n",
    "\n",
    "The table below lists some typical values and default values:\n",
    "\n",
    "Hyperparameter | Default Value | Typical Range\n",
    "---- | ---- | ----\n",
    "n_estimators | 100 | 10 to 150\n",
    "max_depth | 3 | 1 to 10\n",
    "min_child_weight | 1 | 1 to 20\n",
    "learning_rate | 0.1 | 0.001 to 1\n",
    "subsample | 1 | 0.05 to 1\n",
    "reg_lambda | 1 | 0 to 5\n",
    "reg_alpha  | 0 | 0 to 5\n",
    "\n",
    "Of course, we could throw more hyperparameters into the mix, but we'll keep the numbers down to so we can afford to experiment.  \n"
   ]
  },
  {
   "cell_type": "markdown",
   "metadata": {
    "collapsed": false
   },
   "source": [
    "## Using GridSearchCV"
   ]
  },
  {
   "cell_type": "markdown",
   "metadata": {
    "collapsed": false
   },
   "source": [
    "The idea behind grid search is to pick a list of potential values for each hyperparameter and then search all the possible combinations doing a k-fold cross validation for each combination.  That means we have to do k * number of combinations model fits.  If we were to run this code\n",
    "\n",
    "```\n",
    "params = {\n",
    "    \"learning_rate\": [0.001, 0.01, 0.1, 0.5, 1.],\n",
    "    \"max_depth\": np.arange(1,11),\n",
    "    \"n_estimators\": [10,50,100,150],\n",
    "    \"subsample\": np.arange(0.05,1.01,0.05),\n",
    "    \"min_child_weight\": np.arange(1,21),\n",
    "    \"reg_lambda\": np.arange(0,5.5,0.5),\n",
    "    \"reg_alpha\": np.arange(0,5.5,0.5)\n",
    "    \n",
    "}\n",
    "\n",
    "grid_search = GridSearchCV(xgb_model, param_grid=params, cv=5, verbose=1, return_train_score=True)\n",
    "\n",
    "grid_search.fit(X_train,y_train)\n",
    "```\n",
    "\n",
    "we have $k=5$ and $5 \\times 10 \\times 4 \\times 20 \\times 20 \\times 10 \\times 10 = 8,000,000$ combinations for a total of 40,000,000 model fits. Even if we could fit 10 models per second, it would still take about 46 days to try all the models.  Nevertheless, GridSearchCV is commonly used by trimming the number of possible values for each parameter to get something manageable.\n",
    "\n",
    "As you can see the lists or arrays of values for the hyperparameters are stored in a dictionary.  The number of cross-validation folds is set by `cv = 5`.\n",
    "\n",
    "To illustrate how this works we'll pick fewer values for each hyperparameter as shown in the next cell, but we are still doing $2^6 \\times 3 \\times 5 = 960$ model fits which takes several minutes to run on our computers."
   ]
  },
  {
   "cell_type": "code",
   "execution_count": 15,
   "metadata": {
    "collapsed": false
   },
   "outputs": [
    {
     "name": "stdout",
     "output_type": "stream",
     "text": [
      "Fitting 5 folds for each of 192 candidates, totalling 960 fits\n"
     ]
    },
    {
     "name": "stderr",
     "output_type": "stream",
     "text": [
      "[Parallel(n_jobs=1)]: Using backend SequentialBackend with 1 concurrent workers.\n"
     ]
    },
    {
     "name": "stderr",
     "output_type": "stream",
     "text": [
      "[Parallel(n_jobs=1)]: Done 960 out of 960 | elapsed: 63.7min finished\n"
     ]
    },
    {
     "data": {
      "text/plain": [
       "GridSearchCV(cv=5,\n",
       "             estimator=XGBRegressor(base_score=0.5, booster='gbtree',\n",
       "                                    colsample_bylevel=1, colsample_bynode=1,\n",
       "                                    colsample_bytree=1, gamma=0, gpu_id=-1,\n",
       "                                    importance_type='gain',\n",
       "                                    interaction_constraints='',\n",
       "                                    learning_rate=0.300000012, max_delta_step=0,\n",
       "                                    max_depth=6, min_child_weight=1,\n",
       "                                    missing=nan, monotone_constraints='()',\n",
       "                                    n_estimators=100, n_jobs=0,\n",
       "                                    num_parallel_tree=1, random_state=0,\n",
       "                                    reg_alpha=0, reg_lambda=1,\n",
       "                                    scale_pos_weight=1, subsample=1,\n",
       "                                    tree_method='exact', validate_parameters=1,\n",
       "                                    verbosity=None),\n",
       "             n_jobs=1,\n",
       "             param_grid={'learning_rate': [0.01, 0.1], 'max_depth': [2, 4, 6],\n",
       "                         'min_child_weight': [1, 3], 'n_estimators': [100, 150],\n",
       "                         'reg_alpha': [1, 3], 'reg_lambda': [1, 3],\n",
       "                         'subsample': [0.8, 1]},\n",
       "             return_train_score=True, verbose=1)"
      ]
     },
     "execution_count": 15,
     "metadata": {
     },
     "output_type": "execute_result"
    }
   ],
   "source": [
    "# run GridSearchCV with our xgbr_model to find better hyperparameters\n",
    "# from sklearn.model_selection import GridSearchCV\n",
    "\n",
    "# define the grid\n",
    "params = {\n",
    "    \"learning_rate\": [0.01, 0.1],\n",
    "    \"max_depth\": [2, 4, 6],\n",
    "    \"n_estimators\": [100,150],\n",
    "    \"subsample\": [0.8, 1],\n",
    "    \"min_child_weight\": [1, 3],\n",
    "    \"reg_lambda\": [1, 3],\n",
    "    \"reg_alpha\": [1, 3]\n",
    "}\n",
    "\n",
    "# setup the grid search\n",
    "grid_search = GridSearchCV(xgbr_model,\n",
    "                           param_grid=params,\n",
    "                           cv=5,\n",
    "                           verbose=1,\n",
    "                           n_jobs=1,\n",
    "                           return_train_score=True)\n",
    "\n",
    "grid_search.fit(X_train, y_train)"
   ]
  },
  {
   "cell_type": "markdown",
   "metadata": {
    "collapsed": false
   },
   "source": [
    "The best hyperparameter values are stored in the grid_search object as a dictionary:"
   ]
  },
  {
   "cell_type": "code",
   "execution_count": 69,
   "metadata": {
    "collapsed": false
   },
   "outputs": [
    {
     "data": {
      "text/plain": [
       "{'learning_rate': 0.1,\n",
       " 'max_depth': 6,\n",
       " 'min_child_weight': 1,\n",
       " 'n_estimators': 150,\n",
       " 'reg_alpha': 3,\n",
       " 'reg_lambda': 3,\n",
       " 'subsample': 0.8}"
      ]
     },
     "execution_count": 69,
     "metadata": {
     },
     "output_type": "execute_result"
    }
   ],
   "source": [
    "grid_search.best_params_"
   ]
  },
  {
   "cell_type": "markdown",
   "metadata": {
    "collapsed": false
   },
   "source": [
    "Several of the values are different than their default values.  To see if this optimized model is better than the default XGBoost model let's apply it to the test data:\n"
   ]
  },
  {
   "cell_type": "code",
   "execution_count": 70,
   "metadata": {
    "collapsed": false
   },
   "outputs": [
    {
     "name": "stdout",
     "output_type": "stream",
     "text": [
      "Model r-squared score from test data: 0.9732\n",
      "Mean squared error on test data: 2890902.73\n",
      "Root mean squared error on test data: 1700.27\n"
     ]
    },
    {
     "data": {
      "image/png": "[encoded data removed]",
      "text/plain": [
       "<Figure size 648x432 with 1 Axes>"
      ]
     },
     "execution_count": 70,
     "metadata": {
      "image/png": {
       "height": 370,
       "width": 589
      }
     },
     "output_type": "execute_result"
    }
   ],
   "source": [
    "gs_rmse = my_regression_results(grid_search)"
   ]
  },
  {
   "cell_type": "markdown",
   "metadata": {
    "collapsed": false
   },
   "source": [
    "This is a nice improvement over the default XGBoost regression model.  Our tuned model now performs better than the linear regression model we saw above.\n",
    "\n",
    "The main drawback to grid search is that it can get really expensive if we want to exhaustively search, particularly if the model fits are slow as they can be when large datasets with many predictors are used.\n",
    "\n",
    "Before we get too far, let's create a way to track our results. In the next cell, we have a function that will track the approach we're using, the best hyperparameters, and the RMSE. Note that we call it twice - once to enter the data from our default XGBoost model, and once to add the results from our grid search approach. Note that we use show=False the first time, so that we only output a single dataframe of results. We return our current dictionary of results, which we can use each successive time we call the function."
   ]
  },
  {
   "cell_type": "code",
   "execution_count": 71,
   "metadata": {
    "collapsed": false
   },
   "outputs": [
    {
     "data": {
      "text/html": [
       "<div>\n",
       "<style scoped>\n",
       "    .dataframe tbody tr th:only-of-type {\n",
       "        vertical-align: middle;\n",
       "    }\n",
       "\n",
       "    .dataframe tbody tr th {\n",
       "        vertical-align: top;\n",
       "    }\n",
       "\n",
       "    .dataframe thead th {\n",
       "        text-align: right;\n",
       "    }\n",
       "</style>\n",
       "<table border=\"1\" class=\"dataframe\">\n",
       "  <thead>\n",
       "    <tr style=\"text-align: right;\">\n",
       "      <th></th>\n",
       "      <th>Approach</th>\n",
       "      <th>learning_rate</th>\n",
       "      <th>max_depth</th>\n",
       "      <th>min_child_weight</th>\n",
       "      <th>n_estimators</th>\n",
       "      <th>reg_alpha</th>\n",
       "      <th>reg_lambda</th>\n",
       "      <th>subsample</th>\n",
       "      <th>Fits</th>\n",
       "      <th>RMSE</th>\n",
       "    </tr>\n",
       "  </thead>\n",
       "  <tbody>\n",
       "    <tr>\n",
       "      <th>1</th>\n",
       "      <td>Grid Search</td>\n",
       "      <td>0.1</td>\n",
       "      <td>6</td>\n",
       "      <td>1</td>\n",
       "      <td>150</td>\n",
       "      <td>3</td>\n",
       "      <td>3</td>\n",
       "      <td>0.8</td>\n",
       "      <td>960</td>\n",
       "      <td>1700.27</td>\n",
       "    </tr>\n",
       "    <tr>\n",
       "      <th>0</th>\n",
       "      <td>Default XGBoost</td>\n",
       "      <td>0.1</td>\n",
       "      <td>3</td>\n",
       "      <td>1</td>\n",
       "      <td>100</td>\n",
       "      <td>0</td>\n",
       "      <td>1</td>\n",
       "      <td>1.0</td>\n",
       "      <td>1</td>\n",
       "      <td>1829.67</td>\n",
       "    </tr>\n",
       "  </tbody>\n",
       "</table>\n",
       "</div>"
      ],
      "text/plain": [
       "          Approach  learning_rate  max_depth  min_child_weight  n_estimators  \\\n",
       "1      Grid Search            0.1          6                 1           150   \n",
       "0  Default XGBoost            0.1          3                 1           100   \n",
       "\n",
       "   reg_alpha  reg_lambda  subsample  Fits     RMSE  \n",
       "1          3           3        0.8   960  1700.27  \n",
       "0          0           1        1.0     1  1829.67  "
      ]
     },
     "execution_count": 71,
     "metadata": {
     },
     "output_type": "execute_result"
    }
   ],
   "source": [
    "#a function to track the results of our different hyperparameter optimization approaches\n",
    "def track_results(approachName, params, rmse, fits, current, show=True):\n",
    "    current['Approach'].append(approachName)\n",
    "    current['RMSE'].append(rmse)\n",
    "    current['Fits'].append(fits)\n",
    "    for k in params.keys():\n",
    "        current[k].append(params[k])\n",
    "    if show:\n",
    "        df = pd.DataFrame(current)\n",
    "        df = df.sort_values('RMSE', ascending=True)\n",
    "        display(df)\n",
    "    return current    \n",
    "setup = {'Approach': [],\n",
    "         'learning_rate': [],\n",
    "         'max_depth': [],\n",
    "         'min_child_weight': [],\n",
    "         'n_estimators': [],\n",
    "         'reg_alpha': [],\n",
    "         'reg_lambda': [],\n",
    "         'subsample': [],\n",
    "         'Fits': [],\n",
    "         'RMSE': []\n",
    "        } \n",
    "\n",
    "defaults = {\n",
    "    'learning_rate': .1,\n",
    "         'max_depth': 3,\n",
    "         'min_child_weight': 1,\n",
    "         'n_estimators': 100,\n",
    "         'reg_alpha': 0,\n",
    "         'reg_lambda': 1,\n",
    "         'subsample': 1,\n",
    "}\n",
    "\n",
    "current = track_results('Default XGBoost', defaults, 1829.67, 1, setup, False  )\n",
    "current = track_results('Grid Search', grid_search.best_params_, 1700.27,960, current, True )    "
   ]
  },
  {
   "cell_type": "markdown",
   "metadata": {
    "collapsed": false
   },
   "source": [
    "## Using RandomizedSearchCV"
   ]
  },
  {
   "cell_type": "markdown",
   "metadata": {
    "collapsed": false
   },
   "source": [
    "If we can only afford to fit the model a limited number of times, then one approach is to search randomly instead of exhaustively.  To use `RandomizedSearchCV` we can either specify a probability distribution for each hyperparameter or we can specify a list of values for the hyperparameter in which case a value is chosen from the list assuming all values in the list are equally probable. \n",
    "\n",
    "For optimizing our XGBoost model Wwe'll leave the learning rate as a list since we want more small values to choose from than large values.  The other hyperparameters can be specified with distributions.  Note that the uniform distribution specified below is not intuitive.  `uniform(loc,scale)` is uniform on the interval `[loc, loc+scale]`.  For the search below we're going to check just 25 randomly selected sets of hyperparameters as we might for a really expensive model.   `random_state = 8675309` is a random number seed for reproducibility.  Change it and you'll get different results.  "
   ]
  },
  {
   "cell_type": "code",
   "execution_count": 72,
   "metadata": {
    "collapsed": false
   },
   "outputs": [
    {
     "name": "stdout",
     "output_type": "stream",
     "text": [
      "Fitting 5 folds for each of 25 candidates, totalling 125 fits\n"
     ]
    },
    {
     "name": "stderr",
     "output_type": "stream",
     "text": [
      "[Parallel(n_jobs=1)]: Using backend SequentialBackend with 1 concurrent workers.\n"
     ]
    },
    {
     "name": "stderr",
     "output_type": "stream",
     "text": [
      "[Parallel(n_jobs=1)]: Done 125 out of 125 | elapsed:  1.6min finished\n"
     ]
    },
    {
     "data": {
      "text/plain": [
       "RandomizedSearchCV(cv=5,\n",
       "                   estimator=XGBRegressor(base_score=0.5, booster='gbtree',\n",
       "                                          colsample_bylevel=1,\n",
       "                                          colsample_bynode=1,\n",
       "                                          colsample_bytree=1, gamma=0,\n",
       "                                          gpu_id=-1, importance_type='gain',\n",
       "                                          interaction_constraints='',\n",
       "                                          learning_rate=0.300000012,\n",
       "                                          max_delta_step=0, max_depth=6,\n",
       "                                          min_child_weight=1, missing=nan,\n",
       "                                          monotone_constraints='()',\n",
       "                                          n_estimators=100, n_jobs=0,\n",
       "                                          num_par...\n",
       "                                        'n_estimators': <scipy.stats._distn_infrastructure.rv_frozen object at 0x7f4e73371250>,\n",
       "                                        'reg_alpha': <scipy.stats._distn_infrastructure.rv_frozen object at 0x7f4e73396ee0>,\n",
       "                                        'reg_lambda': <scipy.stats._distn_infrastructure.rv_frozen object at 0x7f4e73371e80>,\n",
       "                                        'subsample': <scipy.stats._distn_infrastructure.rv_frozen object at 0x7f4e735aea90>},\n",
       "                   random_state=8675309, return_train_score=True, verbose=1)"
      ]
     },
     "execution_count": 72,
     "metadata": {
     },
     "output_type": "execute_result"
    }
   ],
   "source": [
    "# from sklearn.model_selection import RandomizedSearchCV\n",
    "# from scipy.stats import uniform, randint\n",
    "\n",
    "params = {\n",
    "    \"learning_rate\": [0.001, 0.01, 0.1, 0.5, 1.],\n",
    "    \"max_depth\": randint(1, 10),\n",
    "    \"n_estimators\": randint(10, 150),\n",
    "    \"subsample\": uniform(0.05, 0.95),  # so uniform on [.05,.05+.95] = [.05,1.]\n",
    "    \"min_child_weight\": randint(1, 20),\n",
    "    \"reg_alpha\": uniform(0, 5),\n",
    "    \"reg_lambda\": uniform(0, 5)\n",
    "}\n",
    "\n",
    "random_search = RandomizedSearchCV(\n",
    "    xgbr_model,\n",
    "    param_distributions=params,\n",
    "    random_state=8675309,\n",
    "    n_iter=25,\n",
    "    cv=5,\n",
    "    verbose=1,\n",
    "    n_jobs=1,\n",
    "    return_train_score=True)\n",
    "\n",
    "random_search.fit(X_train, y_train)"
   ]
  },
  {
   "cell_type": "markdown",
   "metadata": {
    "collapsed": false
   },
   "source": [
    "The best hyperparameters found:"
   ]
  },
  {
   "cell_type": "code",
   "execution_count": 73,
   "metadata": {
    "collapsed": false
   },
   "outputs": [
    {
     "data": {
      "text/plain": [
       "{'learning_rate': 0.5,\n",
       " 'max_depth': 8,\n",
       " 'min_child_weight': 13,\n",
       " 'n_estimators': 54,\n",
       " 'reg_alpha': 4.273531344366107,\n",
       " 'reg_lambda': 0.3614847715291919,\n",
       " 'subsample': 0.9827539273587139}"
      ]
     },
     "execution_count": 73,
     "metadata": {
     },
     "output_type": "execute_result"
    }
   ],
   "source": [
    "random_search.best_params_"
   ]
  },
  {
   "cell_type": "code",
   "execution_count": 74,
   "metadata": {
    "collapsed": false
   },
   "outputs": [
    {
     "name": "stdout",
     "output_type": "stream",
     "text": [
      "Model r-squared score from test data: 0.9676\n",
      "Mean squared error on test data: 3497319.70\n",
      "Root mean squared error on test data: 1870.11\n"
     ]
    },
    {
     "data": {
      "image/png": "[encoded data removed]",
      "text/plain": [
       "<Figure size 648x432 with 1 Axes>"
      ]
     },
     "execution_count": 74,
     "metadata": {
      "image/png": {
       "height": 370,
       "width": 582
      }
     },
     "output_type": "execute_result"
    }
   ],
   "source": [
    "my_regression_results(random_search)"
   ]
  },
  {
   "cell_type": "code",
   "execution_count": 75,
   "metadata": {
    "collapsed": false
   },
   "outputs": [
    {
     "data": {
      "text/html": [
       "<div>\n",
       "<style scoped>\n",
       "    .dataframe tbody tr th:only-of-type {\n",
       "        vertical-align: middle;\n",
       "    }\n",
       "\n",
       "    .dataframe tbody tr th {\n",
       "        vertical-align: top;\n",
       "    }\n",
       "\n",
       "    .dataframe thead th {\n",
       "        text-align: right;\n",
       "    }\n",
       "</style>\n",
       "<table border=\"1\" class=\"dataframe\">\n",
       "  <thead>\n",
       "    <tr style=\"text-align: right;\">\n",
       "      <th></th>\n",
       "      <th>Approach</th>\n",
       "      <th>learning_rate</th>\n",
       "      <th>max_depth</th>\n",
       "      <th>min_child_weight</th>\n",
       "      <th>n_estimators</th>\n",
       "      <th>reg_alpha</th>\n",
       "      <th>reg_lambda</th>\n",
       "      <th>subsample</th>\n",
       "      <th>Fits</th>\n",
       "      <th>RMSE</th>\n",
       "    </tr>\n",
       "  </thead>\n",
       "  <tbody>\n",
       "    <tr>\n",
       "      <th>1</th>\n",
       "      <td>Grid Search</td>\n",
       "      <td>0.1</td>\n",
       "      <td>6</td>\n",
       "      <td>1</td>\n",
       "      <td>150</td>\n",
       "      <td>3.000000</td>\n",
       "      <td>3.000000</td>\n",
       "      <td>0.800000</td>\n",
       "      <td>960</td>\n",
       "      <td>1700.27</td>\n",
       "    </tr>\n",
       "    <tr>\n",
       "      <th>0</th>\n",
       "      <td>Default XGBoost</td>\n",
       "      <td>0.1</td>\n",
       "      <td>3</td>\n",
       "      <td>1</td>\n",
       "      <td>100</td>\n",
       "      <td>0.000000</td>\n",
       "      <td>1.000000</td>\n",
       "      <td>1.000000</td>\n",
       "      <td>1</td>\n",
       "      <td>1829.67</td>\n",
       "    </tr>\n",
       "    <tr>\n",
       "      <th>2</th>\n",
       "      <td>Random Search</td>\n",
       "      <td>0.5</td>\n",
       "      <td>8</td>\n",
       "      <td>13</td>\n",
       "      <td>54</td>\n",
       "      <td>4.273531</td>\n",
       "      <td>0.361485</td>\n",
       "      <td>0.982754</td>\n",
       "      <td>125</td>\n",
       "      <td>1870.11</td>\n",
       "    </tr>\n",
       "  </tbody>\n",
       "</table>\n",
       "</div>"
      ],
      "text/plain": [
       "          Approach  learning_rate  max_depth  min_child_weight  n_estimators  \\\n",
       "1      Grid Search            0.1          6                 1           150   \n",
       "0  Default XGBoost            0.1          3                 1           100   \n",
       "2    Random Search            0.5          8                13            54   \n",
       "\n",
       "   reg_alpha  reg_lambda  subsample  Fits     RMSE  \n",
       "1   3.000000    3.000000   0.800000   960  1700.27  \n",
       "0   0.000000    1.000000   1.000000     1  1829.67  \n",
       "2   4.273531    0.361485   0.982754   125  1870.11  "
      ]
     },
     "execution_count": 75,
     "metadata": {
     },
     "output_type": "execute_result"
    }
   ],
   "source": [
    "#track current results\n",
    "current = track_results('Random Search', random_search.best_params_, 1870.11,125, current, True )    "
   ]
  },
  {
   "cell_type": "markdown",
   "metadata": {
    "collapsed": false
   },
   "source": [
    "The random search in this case did not find a very good fit. Note that it did not choose any of the default parameters. The default parameters outperformed those chosen by the random search."
   ]
  },
  {
   "cell_type": "markdown",
   "metadata": {
    "collapsed": false
   },
   "source": [
    "# Bayesian Optimization with Scikit-Optimize\n",
    "\n",
    "<a href=\"https://scikit-optimize.github.io/stable/\">Scikit-Optimize</a> is an optimization package built on top of scikit-learn. It allows you to tune your hyperparameters using Bayesian optimization, as well as do some visualization of your optimization results.\n",
    "\n"
   ]
  },
  {
   "cell_type": "markdown",
   "metadata": {
    "collapsed": false
   },
   "source": [
    "On average Bayesian optimization does better than random search.  It especially excels when there are lots of hyperparameters, but it won't beat random search every time.  The power of Bayesian optimization is that it can often achieve good results with a relatively short number of training iterations.  \n",
    "\n",
    "The setup is a quite similar to random search, with just slight differences in how we set up our parameters, called <a href=\"https://scikit-optimize.github.io/stable/modules/generated/skopt.Optimizer.html\">dimensions</a> in the documentation. \n",
    "* for lists of values, we need to wrap the list in the Categorical() function\n",
    "* when we want a range of integers optimized, we just pass the low and high values\n",
    "* when we want a range of real numbers, we pass the low and high, making sure to use floats or wrap it in REAL()\n",
    "* when we know the distribution, we can pass the name of the distribution, along with the low and high (the default is uniform)\n"
   ]
  },
  {
   "cell_type": "code",
   "execution_count": 76,
   "metadata": {
    "collapsed": false
   },
   "outputs": [
    {
     "name": "stdout",
     "output_type": "stream",
     "text": [
      "Fitting 5 folds for each of 1 candidates, totalling 5 fits\n"
     ]
    },
    {
     "name": "stderr",
     "output_type": "stream",
     "text": [
      "[Parallel(n_jobs=1)]: Using backend SequentialBackend with 1 concurrent workers.\n"
     ]
    },
    {
     "name": "stderr",
     "output_type": "stream",
     "text": [
      "[Parallel(n_jobs=1)]: Done   5 out of   5 | elapsed:    7.0s finished\n",
      "[Parallel(n_jobs=1)]: Using backend SequentialBackend with 1 concurrent workers.\n"
     ]
    },
    {
     "name": "stdout",
     "output_type": "stream",
     "text": [
      "Fitting 5 folds for each of 1 candidates, totalling 5 fits\n"
     ]
    },
    {
     "name": "stderr",
     "output_type": "stream",
     "text": [
      "[Parallel(n_jobs=1)]: Done   5 out of   5 | elapsed:    2.3s finished\n",
      "[Parallel(n_jobs=1)]: Using backend SequentialBackend with 1 concurrent workers.\n"
     ]
    },
    {
     "name": "stdout",
     "output_type": "stream",
     "text": [
      "Fitting 5 folds for each of 1 candidates, totalling 5 fits\n"
     ]
    },
    {
     "name": "stderr",
     "output_type": "stream",
     "text": [
      "[Parallel(n_jobs=1)]: Done   5 out of   5 | elapsed:    0.9s finished\n",
      "[Parallel(n_jobs=1)]: Using backend SequentialBackend with 1 concurrent workers.\n"
     ]
    },
    {
     "name": "stdout",
     "output_type": "stream",
     "text": [
      "Fitting 5 folds for each of 1 candidates, totalling 5 fits\n"
     ]
    },
    {
     "name": "stderr",
     "output_type": "stream",
     "text": [
      "[Parallel(n_jobs=1)]: Done   5 out of   5 | elapsed:    6.4s finished\n",
      "[Parallel(n_jobs=1)]: Using backend SequentialBackend with 1 concurrent workers.\n"
     ]
    },
    {
     "name": "stdout",
     "output_type": "stream",
     "text": [
      "Fitting 5 folds for each of 1 candidates, totalling 5 fits\n"
     ]
    },
    {
     "name": "stderr",
     "output_type": "stream",
     "text": [
      "[Parallel(n_jobs=1)]: Done   5 out of   5 | elapsed:    3.8s finished\n",
      "[Parallel(n_jobs=1)]: Using backend SequentialBackend with 1 concurrent workers.\n"
     ]
    },
    {
     "name": "stdout",
     "output_type": "stream",
     "text": [
      "Fitting 5 folds for each of 1 candidates, totalling 5 fits\n"
     ]
    },
    {
     "name": "stderr",
     "output_type": "stream",
     "text": [
      "[Parallel(n_jobs=1)]: Done   5 out of   5 | elapsed:    4.5s finished\n",
      "[Parallel(n_jobs=1)]: Using backend SequentialBackend with 1 concurrent workers.\n"
     ]
    },
    {
     "name": "stdout",
     "output_type": "stream",
     "text": [
      "Fitting 5 folds for each of 1 candidates, totalling 5 fits\n"
     ]
    },
    {
     "name": "stderr",
     "output_type": "stream",
     "text": [
      "[Parallel(n_jobs=1)]: Done   5 out of   5 | elapsed:    4.5s finished\n",
      "[Parallel(n_jobs=1)]: Using backend SequentialBackend with 1 concurrent workers.\n"
     ]
    },
    {
     "name": "stdout",
     "output_type": "stream",
     "text": [
      "Fitting 5 folds for each of 1 candidates, totalling 5 fits\n"
     ]
    },
    {
     "name": "stderr",
     "output_type": "stream",
     "text": [
      "[Parallel(n_jobs=1)]: Done   5 out of   5 | elapsed:    1.0s finished\n",
      "[Parallel(n_jobs=1)]: Using backend SequentialBackend with 1 concurrent workers.\n"
     ]
    },
    {
     "name": "stdout",
     "output_type": "stream",
     "text": [
      "Fitting 5 folds for each of 1 candidates, totalling 5 fits\n"
     ]
    },
    {
     "name": "stderr",
     "output_type": "stream",
     "text": [
      "[Parallel(n_jobs=1)]: Done   5 out of   5 | elapsed:    5.3s finished\n"
     ]
    },
    {
     "name": "stdout",
     "output_type": "stream",
     "text": [
      "Fitting 5 folds for each of 1 candidates, totalling 5 fits\n"
     ]
    },
    {
     "name": "stderr",
     "output_type": "stream",
     "text": [
      "[Parallel(n_jobs=1)]: Using backend SequentialBackend with 1 concurrent workers.\n"
     ]
    },
    {
     "name": "stderr",
     "output_type": "stream",
     "text": [
      "[Parallel(n_jobs=1)]: Done   5 out of   5 | elapsed:    1.6s finished\n"
     ]
    },
    {
     "name": "stdout",
     "output_type": "stream",
     "text": [
      "Fitting 5 folds for each of 1 candidates, totalling 5 fits\n"
     ]
    },
    {
     "name": "stderr",
     "output_type": "stream",
     "text": [
      "[Parallel(n_jobs=1)]: Using backend SequentialBackend with 1 concurrent workers.\n"
     ]
    },
    {
     "name": "stderr",
     "output_type": "stream",
     "text": [
      "[Parallel(n_jobs=1)]: Done   5 out of   5 | elapsed:    4.8s finished\n"
     ]
    },
    {
     "name": "stdout",
     "output_type": "stream",
     "text": [
      "Fitting 5 folds for each of 1 candidates, totalling 5 fits\n"
     ]
    },
    {
     "name": "stderr",
     "output_type": "stream",
     "text": [
      "[Parallel(n_jobs=1)]: Using backend SequentialBackend with 1 concurrent workers.\n"
     ]
    },
    {
     "name": "stderr",
     "output_type": "stream",
     "text": [
      "[Parallel(n_jobs=1)]: Done   5 out of   5 | elapsed:    2.3s finished\n"
     ]
    },
    {
     "name": "stdout",
     "output_type": "stream",
     "text": [
      "Fitting 5 folds for each of 1 candidates, totalling 5 fits\n"
     ]
    },
    {
     "name": "stderr",
     "output_type": "stream",
     "text": [
      "[Parallel(n_jobs=1)]: Using backend SequentialBackend with 1 concurrent workers.\n"
     ]
    },
    {
     "name": "stderr",
     "output_type": "stream",
     "text": [
      "[Parallel(n_jobs=1)]: Done   5 out of   5 | elapsed:    8.6s finished\n"
     ]
    },
    {
     "name": "stdout",
     "output_type": "stream",
     "text": [
      "Fitting 5 folds for each of 1 candidates, totalling 5 fits\n"
     ]
    },
    {
     "name": "stderr",
     "output_type": "stream",
     "text": [
      "[Parallel(n_jobs=1)]: Using backend SequentialBackend with 1 concurrent workers.\n"
     ]
    },
    {
     "name": "stderr",
     "output_type": "stream",
     "text": [
      "[Parallel(n_jobs=1)]: Done   5 out of   5 | elapsed:    8.8s finished\n"
     ]
    },
    {
     "name": "stdout",
     "output_type": "stream",
     "text": [
      "Fitting 5 folds for each of 1 candidates, totalling 5 fits\n"
     ]
    },
    {
     "name": "stderr",
     "output_type": "stream",
     "text": [
      "[Parallel(n_jobs=1)]: Using backend SequentialBackend with 1 concurrent workers.\n"
     ]
    },
    {
     "name": "stderr",
     "output_type": "stream",
     "text": [
      "[Parallel(n_jobs=1)]: Done   5 out of   5 | elapsed:    6.9s finished\n"
     ]
    },
    {
     "name": "stdout",
     "output_type": "stream",
     "text": [
      "Fitting 5 folds for each of 1 candidates, totalling 5 fits\n"
     ]
    },
    {
     "name": "stderr",
     "output_type": "stream",
     "text": [
      "[Parallel(n_jobs=1)]: Using backend SequentialBackend with 1 concurrent workers.\n"
     ]
    },
    {
     "name": "stderr",
     "output_type": "stream",
     "text": [
      "[Parallel(n_jobs=1)]: Done   5 out of   5 | elapsed:   10.5s finished\n"
     ]
    },
    {
     "name": "stdout",
     "output_type": "stream",
     "text": [
      "Fitting 5 folds for each of 1 candidates, totalling 5 fits\n"
     ]
    },
    {
     "name": "stderr",
     "output_type": "stream",
     "text": [
      "[Parallel(n_jobs=1)]: Using backend SequentialBackend with 1 concurrent workers.\n"
     ]
    },
    {
     "name": "stderr",
     "output_type": "stream",
     "text": [
      "[Parallel(n_jobs=1)]: Done   5 out of   5 | elapsed:    8.4s finished\n"
     ]
    },
    {
     "name": "stdout",
     "output_type": "stream",
     "text": [
      "Fitting 5 folds for each of 1 candidates, totalling 5 fits\n"
     ]
    },
    {
     "name": "stderr",
     "output_type": "stream",
     "text": [
      "[Parallel(n_jobs=1)]: Using backend SequentialBackend with 1 concurrent workers.\n"
     ]
    },
    {
     "name": "stderr",
     "output_type": "stream",
     "text": [
      "[Parallel(n_jobs=1)]: Done   5 out of   5 | elapsed:    9.3s finished\n"
     ]
    },
    {
     "name": "stdout",
     "output_type": "stream",
     "text": [
      "Fitting 5 folds for each of 1 candidates, totalling 5 fits\n"
     ]
    },
    {
     "name": "stderr",
     "output_type": "stream",
     "text": [
      "[Parallel(n_jobs=1)]: Using backend SequentialBackend with 1 concurrent workers.\n"
     ]
    },
    {
     "name": "stderr",
     "output_type": "stream",
     "text": [
      "[Parallel(n_jobs=1)]: Done   5 out of   5 | elapsed:    0.7s finished\n"
     ]
    },
    {
     "name": "stdout",
     "output_type": "stream",
     "text": [
      "Fitting 5 folds for each of 1 candidates, totalling 5 fits\n"
     ]
    },
    {
     "name": "stderr",
     "output_type": "stream",
     "text": [
      "[Parallel(n_jobs=1)]: Using backend SequentialBackend with 1 concurrent workers.\n"
     ]
    },
    {
     "name": "stderr",
     "output_type": "stream",
     "text": [
      "[Parallel(n_jobs=1)]: Done   5 out of   5 | elapsed:    0.4s finished\n"
     ]
    },
    {
     "name": "stdout",
     "output_type": "stream",
     "text": [
      "Fitting 5 folds for each of 1 candidates, totalling 5 fits\n"
     ]
    },
    {
     "name": "stderr",
     "output_type": "stream",
     "text": [
      "[Parallel(n_jobs=1)]: Using backend SequentialBackend with 1 concurrent workers.\n"
     ]
    },
    {
     "name": "stderr",
     "output_type": "stream",
     "text": [
      "[Parallel(n_jobs=1)]: Done   5 out of   5 | elapsed:    0.4s finished\n"
     ]
    },
    {
     "name": "stdout",
     "output_type": "stream",
     "text": [
      "Fitting 5 folds for each of 1 candidates, totalling 5 fits\n"
     ]
    },
    {
     "name": "stderr",
     "output_type": "stream",
     "text": [
      "[Parallel(n_jobs=1)]: Using backend SequentialBackend with 1 concurrent workers.\n"
     ]
    },
    {
     "name": "stderr",
     "output_type": "stream",
     "text": [
      "[Parallel(n_jobs=1)]: Done   5 out of   5 | elapsed:    8.1s finished\n"
     ]
    },
    {
     "name": "stdout",
     "output_type": "stream",
     "text": [
      "Fitting 5 folds for each of 1 candidates, totalling 5 fits\n"
     ]
    },
    {
     "name": "stderr",
     "output_type": "stream",
     "text": [
      "[Parallel(n_jobs=1)]: Using backend SequentialBackend with 1 concurrent workers.\n"
     ]
    },
    {
     "name": "stderr",
     "output_type": "stream",
     "text": [
      "[Parallel(n_jobs=1)]: Done   5 out of   5 | elapsed:    3.6s finished\n"
     ]
    },
    {
     "name": "stdout",
     "output_type": "stream",
     "text": [
      "Fitting 5 folds for each of 1 candidates, totalling 5 fits\n"
     ]
    },
    {
     "name": "stderr",
     "output_type": "stream",
     "text": [
      "[Parallel(n_jobs=1)]: Using backend SequentialBackend with 1 concurrent workers.\n"
     ]
    },
    {
     "name": "stderr",
     "output_type": "stream",
     "text": [
      "[Parallel(n_jobs=1)]: Done   5 out of   5 | elapsed:    3.6s finished\n"
     ]
    },
    {
     "name": "stdout",
     "output_type": "stream",
     "text": [
      "Fitting 5 folds for each of 1 candidates, totalling 5 fits\n"
     ]
    },
    {
     "name": "stderr",
     "output_type": "stream",
     "text": [
      "[Parallel(n_jobs=1)]: Using backend SequentialBackend with 1 concurrent workers.\n"
     ]
    },
    {
     "name": "stderr",
     "output_type": "stream",
     "text": [
      "[Parallel(n_jobs=1)]: Done   5 out of   5 | elapsed:    1.2s finished\n"
     ]
    },
    {
     "data": {
      "text/plain": [
       "BayesSearchCV(cv=5,\n",
       "              estimator=XGBRegressor(base_score=0.5, booster='gbtree',\n",
       "                                     colsample_bylevel=1, colsample_bynode=1,\n",
       "                                     colsample_bytree=1, gamma=0, gpu_id=-1,\n",
       "                                     importance_type='gain',\n",
       "                                     interaction_constraints='',\n",
       "                                     learning_rate=0.300000012,\n",
       "                                     max_delta_step=0, max_depth=6,\n",
       "                                     min_child_weight=1, missing=nan,\n",
       "                                     monotone_constraints='()',\n",
       "                                     n_estimators=100, n_jobs=0,\n",
       "                                     num_parallel...\n",
       "                                     tree_method='exact', validate_parameters=1,\n",
       "                                     verbosity=None),\n",
       "              n_iter=25, random_state=8675309, return_train_score=True,\n",
       "              search_spaces={'learning_rate': Categorical(categories=(0.001, 0.01, 0.1, 0.5, 1.0), prior=None),\n",
       "                             'max_depth': (1, 10), 'min_child_weight': (1, 20),\n",
       "                             'n_estimators': (10, 150),\n",
       "                             'reg_alpha': (0, 5, 'uniform'),\n",
       "                             'reg_lambda': (0, 5, 'uniform'),\n",
       "                             'subsample': (0.05, 0.95)},\n",
       "              verbose=1)"
      ]
     },
     "execution_count": 76,
     "metadata": {
     },
     "output_type": "execute_result"
    }
   ],
   "source": [
    "from skopt import BayesSearchCV\n",
    "from skopt.space import Real, Categorical, Integer\n",
    "\n",
    "\n",
    "#this is what we used for random and grid search\n",
    "# params = {\n",
    "#     \"learning_rate\": [0.001, 0.01, 0.1, 0.5, 1.],\n",
    "#     \"max_depth\": randint(1, 10),\n",
    "#     \"n_estimators\": randint(10, 150),\n",
    "#     \"subsample\": uniform(0.05, 0.95),  # so uniform on [.05,.05+.95] = [.05,1.]\n",
    "#     \"min_child_weight\": randint(1, 20),\n",
    "#     \"reg_alpha\": uniform(0, 5),\n",
    "#     \"reg_lambda\": uniform(0, 5)\n",
    "# }\n",
    "\n",
    "params = {\n",
    "    \"learning_rate\": Categorical([0.001, 0.01, 0.1, 0.5, 1.]), #use categorical here\n",
    "    \"max_depth\": (1, 10), #this will optimize all integers 1-10 with equal probability\n",
    "    \"n_estimators\": (10, 150),\n",
    "    \"subsample\": (0.05, .95),\n",
    "    \"min_child_weight\": (1, 20),\n",
    "    \"reg_alpha\": (0, 5, 'uniform'),\n",
    "    \"reg_lambda\": (0, 5, 'uniform')\n",
    "}\n",
    "\n",
    "bayes_search = BayesSearchCV(\n",
    "    xgbr_model,   \n",
    "    search_spaces=params,\n",
    "    random_state=8675309,\n",
    "    n_iter=25,\n",
    "    cv=5,\n",
    "    verbose=1,\n",
    "    n_jobs=1,\n",
    "    return_train_score=True)\n",
    "\n",
    "\n",
    "bayes_search.fit(X_train, y_train)\n",
    "\n"
   ]
  },
  {
   "cell_type": "code",
   "execution_count": 77,
   "metadata": {
    "collapsed": false
   },
   "outputs": [
    {
     "name": "stdout",
     "output_type": "stream",
     "text": [
      "Total iterations: 175\n"
     ]
    },
    {
     "data": {
      "text/plain": [
       "OrderedDict([('learning_rate', 0.1),\n",
       "             ('max_depth', 10),\n",
       "             ('min_child_weight', 1),\n",
       "             ('n_estimators', 150),\n",
       "             ('reg_alpha', 5),\n",
       "             ('reg_lambda', 5),\n",
       "             ('subsample', 0.3348985764419966)])"
      ]
     },
     "execution_count": 77,
     "metadata": {
     },
     "output_type": "execute_result"
    }
   ],
   "source": [
    "print('Total iterations:', bayes_search.total_iterations)\n",
    "bayes_search.best_params_"
   ]
  },
  {
   "cell_type": "code",
   "execution_count": 78,
   "metadata": {
    "collapsed": false
   },
   "outputs": [
    {
     "name": "stdout",
     "output_type": "stream",
     "text": [
      "Model r-squared score from test data: 0.9744\n",
      "Mean squared error on test data: 2758555.08\n",
      "Root mean squared error on test data: 1660.89\n"
     ]
    },
    {
     "data": {
      "image/png": "[encoded data removed]",
      "text/plain": [
       "<Figure size 648x432 with 1 Axes>"
      ]
     },
     "execution_count": 78,
     "metadata": {
      "image/png": {
       "height": 370,
       "width": 582
      }
     },
     "output_type": "execute_result"
    }
   ],
   "source": [
    "my_regression_results(bayes_search)"
   ]
  },
  {
   "cell_type": "code",
   "execution_count": 79,
   "metadata": {
    "collapsed": false
   },
   "outputs": [
    {
     "data": {
      "text/html": [
       "<div>\n",
       "<style scoped>\n",
       "    .dataframe tbody tr th:only-of-type {\n",
       "        vertical-align: middle;\n",
       "    }\n",
       "\n",
       "    .dataframe tbody tr th {\n",
       "        vertical-align: top;\n",
       "    }\n",
       "\n",
       "    .dataframe thead th {\n",
       "        text-align: right;\n",
       "    }\n",
       "</style>\n",
       "<table border=\"1\" class=\"dataframe\">\n",
       "  <thead>\n",
       "    <tr style=\"text-align: right;\">\n",
       "      <th></th>\n",
       "      <th>Approach</th>\n",
       "      <th>learning_rate</th>\n",
       "      <th>max_depth</th>\n",
       "      <th>min_child_weight</th>\n",
       "      <th>n_estimators</th>\n",
       "      <th>reg_alpha</th>\n",
       "      <th>reg_lambda</th>\n",
       "      <th>subsample</th>\n",
       "      <th>Fits</th>\n",
       "      <th>RMSE</th>\n",
       "    </tr>\n",
       "  </thead>\n",
       "  <tbody>\n",
       "    <tr>\n",
       "      <th>3</th>\n",
       "      <td>Bayes Search</td>\n",
       "      <td>0.1</td>\n",
       "      <td>10</td>\n",
       "      <td>1</td>\n",
       "      <td>150</td>\n",
       "      <td>5.000000</td>\n",
       "      <td>5.000000</td>\n",
       "      <td>0.334899</td>\n",
       "      <td>175</td>\n",
       "      <td>1660.89</td>\n",
       "    </tr>\n",
       "    <tr>\n",
       "      <th>1</th>\n",
       "      <td>Grid Search</td>\n",
       "      <td>0.1</td>\n",
       "      <td>6</td>\n",
       "      <td>1</td>\n",
       "      <td>150</td>\n",
       "      <td>3.000000</td>\n",
       "      <td>3.000000</td>\n",
       "      <td>0.800000</td>\n",
       "      <td>960</td>\n",
       "      <td>1700.27</td>\n",
       "    </tr>\n",
       "    <tr>\n",
       "      <th>0</th>\n",
       "      <td>Default XGBoost</td>\n",
       "      <td>0.1</td>\n",
       "      <td>3</td>\n",
       "      <td>1</td>\n",
       "      <td>100</td>\n",
       "      <td>0.000000</td>\n",
       "      <td>1.000000</td>\n",
       "      <td>1.000000</td>\n",
       "      <td>1</td>\n",
       "      <td>1829.67</td>\n",
       "    </tr>\n",
       "    <tr>\n",
       "      <th>2</th>\n",
       "      <td>Random Search</td>\n",
       "      <td>0.5</td>\n",
       "      <td>8</td>\n",
       "      <td>13</td>\n",
       "      <td>54</td>\n",
       "      <td>4.273531</td>\n",
       "      <td>0.361485</td>\n",
       "      <td>0.982754</td>\n",
       "      <td>125</td>\n",
       "      <td>1870.11</td>\n",
       "    </tr>\n",
       "  </tbody>\n",
       "</table>\n",
       "</div>"
      ],
      "text/plain": [
       "          Approach  learning_rate  max_depth  min_child_weight  n_estimators  \\\n",
       "3     Bayes Search            0.1         10                 1           150   \n",
       "1      Grid Search            0.1          6                 1           150   \n",
       "0  Default XGBoost            0.1          3                 1           100   \n",
       "2    Random Search            0.5          8                13            54   \n",
       "\n",
       "   reg_alpha  reg_lambda  subsample  Fits     RMSE  \n",
       "3   5.000000    5.000000   0.334899   175  1660.89  \n",
       "1   3.000000    3.000000   0.800000   960  1700.27  \n",
       "0   0.000000    1.000000   1.000000     1  1829.67  \n",
       "2   4.273531    0.361485   0.982754   125  1870.11  "
      ]
     },
     "execution_count": 79,
     "metadata": {
     },
     "output_type": "execute_result"
    }
   ],
   "source": [
    "#track current results\n",
    "current = track_results('Bayes Search', bayes_search.best_params_, 1660.89,175, current, True )    "
   ]
  },
  {
   "cell_type": "markdown",
   "metadata": {
    "collapsed": false
   },
   "source": [
    "Depending on the random seeds you've used you might see that Bayesian Optimization does better or worse than other methods.  (Try a few different seeds and compare.)  For the particular seed that we set, Bayes outshined grid search, and used far fewer fits (175 vs 960).\n",
    "\n",
    "Both random search and Bayesian optimization will give better results if they're allowed to run for more iterations.  Bayesian optimization doesn't always beat random or grid search, but common wisdom suggests that it usually works better - see this <a href=\"https://stats.stackexchange.com/questions/302891/hyper-parameters-tuning-random-search-vs-bayesian-optimization\">Stack Exchange post</a> for some nice discussion and references.  Moreover companies are getting into automatic machine learning in a big way and some of the giants, <a href=\"https://cloud.google.com/blog/products/gcp/hyperparameter-tuning-cloud-machine-learning-engine-using-bayesian-optimization\">like Google, are betting on Bayesian Optimization</a>.  "
   ]
  },
  {
   "cell_type": "markdown",
   "metadata": {
    "collapsed": false,
    "heading_collapsed": true
   },
   "source": [
    "## Using a Genetic Algorithm from TPOT"
   ]
  },
  {
   "cell_type": "markdown",
   "metadata": {
    "collapsed": false,
    "hidden": true
   },
   "source": [
    "We really don't need to do much with genetic algorithms to use TPOT, though we can change the usual parameters like population size, mutation probability, and crossover probability.  The software authors recommend leaving the probabilities at their default values - <a href=\"https://epistasislab.github.io/tpot/\"> the documentation is here.</a> \n",
    "\n",
    "TPOT can actually do much more than optimize hyperparameters for a single model, but it can do that too.  To focus on a single model we set up a nested dictionary like that shown in the code below.    Then we call TPOT and it returns an optimized model in an object that behaves just like objects returned by GridSearchCV and RandomSearchCV.  Additional models could be added as `'model_name':{'param':values,'param':value,...}`.\n",
    "\n",
    "We've found that we generally need more model fits to get good results with TPOT than we did with Bayesian Optimization, but it still works really well.  Note that TPOT is maximizing the k-fold cross-validated negative mean square error instead of r-squared, but it gets us to the same place.  Here we iterate for 10 generations with 10 different individual sets of hyperameters in each generation.  For each individual we do 3 model fits (k = 3) and there is an extra round of cross validated fits for the initial population, thus altogether we perform $4 \\times 10 \\times 10 = 400$ model fits."
   ]
  },
  {
   "cell_type": "code",
   "execution_count": 80,
   "metadata": {
    "collapsed": false,
    "hidden": true
   },
   "outputs": [
    {
     "data": {
      "application/vnd.jupyter.widget-view+json": {
       "model_id": "7cf74ebf8c554fb0ad0adf8f14a9ad57",
       "version_major": 2,
       "version_minor": 0
      },
      "text/plain": [
       "Optimization Progress:   0%|          | 0/110 [00:00<?, ?pipeline/s]"
      ]
     },
     "execution_count": 80,
     "metadata": {
     },
     "output_type": "execute_result"
    },
    {
     "name": "stdout",
     "output_type": "stream",
     "text": [
      "\n",
      "Generation 1 - Current best internal CV score: 0.9669359796971312\n"
     ]
    },
    {
     "name": "stdout",
     "output_type": "stream",
     "text": [
      "\n",
      "Generation 2 - Current best internal CV score: 0.9739527739793802\n"
     ]
    },
    {
     "name": "stdout",
     "output_type": "stream",
     "text": [
      "\n",
      "Generation 3 - Current best internal CV score: 0.9739527739793802\n"
     ]
    },
    {
     "name": "stdout",
     "output_type": "stream",
     "text": [
      "\n",
      "Generation 4 - Current best internal CV score: 0.9739527739793802\n"
     ]
    },
    {
     "name": "stdout",
     "output_type": "stream",
     "text": [
      "\n",
      "Generation 5 - Current best internal CV score: 0.9739527739793802\n"
     ]
    },
    {
     "name": "stdout",
     "output_type": "stream",
     "text": [
      "\n",
      "Generation 6 - Current best internal CV score: 0.9740139708348456\n"
     ]
    },
    {
     "name": "stdout",
     "output_type": "stream",
     "text": [
      "\n",
      "Generation 7 - Current best internal CV score: 0.9740139708348456\n"
     ]
    },
    {
     "name": "stdout",
     "output_type": "stream",
     "text": [
      "\n",
      "Generation 8 - Current best internal CV score: 0.974643870779841\n"
     ]
    },
    {
     "name": "stdout",
     "output_type": "stream",
     "text": [
      "\n",
      "Generation 9 - Current best internal CV score: 0.974643870779841\n"
     ]
    },
    {
     "name": "stdout",
     "output_type": "stream",
     "text": [
      "\n",
      "Generation 10 - Current best internal CV score: 0.974643870779841\n"
     ]
    },
    {
     "name": "stdout",
     "output_type": "stream",
     "text": [
      "\n",
      "Best pipeline: XGBRegressor(input_matrix, learning_rate=0.1, max_depth=8, min_child_weight=1, n_estimators=100, nthread=1, objective=reg:squarederror, reg_alpha=3.25, reg_lambda=4.0, subsample=0.7500000000000001)\n"
     ]
    }
   ],
   "source": [
    "from tpot import TPOTRegressor\n",
    "\n",
    "tpot_config = {\n",
    "    'xgboost.XGBRegressor': {\n",
    "        'n_estimators': [100],\n",
    "        'max_depth': range(1, 11),\n",
    "        'learning_rate': np.append(np.array([.001,.01]),np.arange(0.05,1.05,.05)),\n",
    "        'subsample': np.arange(0.05, 1.01, 0.05),\n",
    "        'min_child_weight': range(1, 21),\n",
    "        'reg_alpha': np.arange(1.0,5.25,.25),\n",
    "        'reg_lambda': np.arange(1.0,5.25,.25),\n",
    "        'nthread': [1],\n",
    "        'objective': ['reg:squarederror']\n",
    "    }\n",
    "}\n",
    "\n",
    "tpot = TPOTRegressor(scoring = 'r2',\n",
    "                     generations=10,\n",
    "                     population_size=10,\n",
    "                     verbosity=2,\n",
    "                     config_dict=tpot_config,\n",
    "                     cv=3,\n",
    "                     template='Regressor', #no stacked models\n",
    "                     random_state=8675309)\n",
    "\n",
    "tpot.fit(X_train, y_train)\n",
    "tpot.export('tpot_XGBregressor.py') # export the model"
   ]
  },
  {
   "cell_type": "markdown",
   "metadata": {
    "collapsed": false,
    "hidden": true
   },
   "source": [
    "One nice feature of TPOT is that it can write the optimized model to a file which you can use elsewhere.\n",
    "\n",
    "We can display the results on the test data in the same way as with our other models."
   ]
  },
  {
   "cell_type": "code",
   "execution_count": 81,
   "metadata": {
    "collapsed": false,
    "hidden": true
   },
   "outputs": [
    {
     "name": "stdout",
     "output_type": "stream",
     "text": [
      "Model r-squared score from test data: 0.9726\n",
      "Mean squared error on test data: 2958126.24\n",
      "Root mean squared error on test data: 1719.92\n"
     ]
    },
    {
     "data": {
      "image/png": "[encoded data removed]",
      "text/plain": [
       "<Figure size 648x432 with 1 Axes>"
      ]
     },
     "execution_count": 81,
     "metadata": {
      "image/png": {
       "height": 370,
       "width": 582
      }
     },
     "output_type": "execute_result"
    }
   ],
   "source": [
    "my_regression_results(tpot)"
   ]
  },
  {
   "cell_type": "markdown",
   "metadata": {
    "collapsed": false
   },
   "source": [
    "To track our best parameters, you'll need to make a dictionary based on the \"Best pipeline\" printed out from tpot. Unfortunately, we have not found a way to capture this programmatically. But it's pretty easy to cut and paste."
   ]
  },
  {
   "cell_type": "code",
   "execution_count": 82,
   "metadata": {
    "collapsed": false
   },
   "outputs": [
    {
     "data": {
      "text/html": [
       "<div>\n",
       "<style scoped>\n",
       "    .dataframe tbody tr th:only-of-type {\n",
       "        vertical-align: middle;\n",
       "    }\n",
       "\n",
       "    .dataframe tbody tr th {\n",
       "        vertical-align: top;\n",
       "    }\n",
       "\n",
       "    .dataframe thead th {\n",
       "        text-align: right;\n",
       "    }\n",
       "</style>\n",
       "<table border=\"1\" class=\"dataframe\">\n",
       "  <thead>\n",
       "    <tr style=\"text-align: right;\">\n",
       "      <th></th>\n",
       "      <th>Approach</th>\n",
       "      <th>learning_rate</th>\n",
       "      <th>max_depth</th>\n",
       "      <th>min_child_weight</th>\n",
       "      <th>n_estimators</th>\n",
       "      <th>reg_alpha</th>\n",
       "      <th>reg_lambda</th>\n",
       "      <th>subsample</th>\n",
       "      <th>Fits</th>\n",
       "      <th>RMSE</th>\n",
       "    </tr>\n",
       "  </thead>\n",
       "  <tbody>\n",
       "    <tr>\n",
       "      <th>3</th>\n",
       "      <td>Bayes Search</td>\n",
       "      <td>0.1</td>\n",
       "      <td>10</td>\n",
       "      <td>1</td>\n",
       "      <td>150</td>\n",
       "      <td>5.000000</td>\n",
       "      <td>5.000000</td>\n",
       "      <td>0.334899</td>\n",
       "      <td>175</td>\n",
       "      <td>1660.89</td>\n",
       "    </tr>\n",
       "    <tr>\n",
       "      <th>1</th>\n",
       "      <td>Grid Search</td>\n",
       "      <td>0.1</td>\n",
       "      <td>6</td>\n",
       "      <td>1</td>\n",
       "      <td>150</td>\n",
       "      <td>3.000000</td>\n",
       "      <td>3.000000</td>\n",
       "      <td>0.800000</td>\n",
       "      <td>960</td>\n",
       "      <td>1700.27</td>\n",
       "    </tr>\n",
       "    <tr>\n",
       "      <th>4</th>\n",
       "      <td>TPOT</td>\n",
       "      <td>0.1</td>\n",
       "      <td>8</td>\n",
       "      <td>1</td>\n",
       "      <td>100</td>\n",
       "      <td>3.250000</td>\n",
       "      <td>4.000000</td>\n",
       "      <td>0.750000</td>\n",
       "      <td>400</td>\n",
       "      <td>1719.92</td>\n",
       "    </tr>\n",
       "    <tr>\n",
       "      <th>0</th>\n",
       "      <td>Default XGBoost</td>\n",
       "      <td>0.1</td>\n",
       "      <td>3</td>\n",
       "      <td>1</td>\n",
       "      <td>100</td>\n",
       "      <td>0.000000</td>\n",
       "      <td>1.000000</td>\n",
       "      <td>1.000000</td>\n",
       "      <td>1</td>\n",
       "      <td>1829.67</td>\n",
       "    </tr>\n",
       "    <tr>\n",
       "      <th>2</th>\n",
       "      <td>Random Search</td>\n",
       "      <td>0.5</td>\n",
       "      <td>8</td>\n",
       "      <td>13</td>\n",
       "      <td>54</td>\n",
       "      <td>4.273531</td>\n",
       "      <td>0.361485</td>\n",
       "      <td>0.982754</td>\n",
       "      <td>125</td>\n",
       "      <td>1870.11</td>\n",
       "    </tr>\n",
       "  </tbody>\n",
       "</table>\n",
       "</div>"
      ],
      "text/plain": [
       "          Approach  learning_rate  max_depth  min_child_weight  n_estimators  \\\n",
       "3     Bayes Search            0.1         10                 1           150   \n",
       "1      Grid Search            0.1          6                 1           150   \n",
       "4             TPOT            0.1          8                 1           100   \n",
       "0  Default XGBoost            0.1          3                 1           100   \n",
       "2    Random Search            0.5          8                13            54   \n",
       "\n",
       "   reg_alpha  reg_lambda  subsample  Fits     RMSE  \n",
       "3   5.000000    5.000000   0.334899   175  1660.89  \n",
       "1   3.000000    3.000000   0.800000   960  1700.27  \n",
       "4   3.250000    4.000000   0.750000   400  1719.92  \n",
       "0   0.000000    1.000000   1.000000     1  1829.67  \n",
       "2   4.273531    0.361485   0.982754   125  1870.11  "
      ]
     },
     "execution_count": 82,
     "metadata": {
     },
     "output_type": "execute_result"
    }
   ],
   "source": [
    "tpot_best_params = {'learning_rate':0.1, 'max_depth':8, 'min_child_weight':1, 'n_estimators':100,   'reg_alpha':3.25, 'reg_lambda':4.0, 'subsample':0.7500000000000001}\n",
    "\n",
    "current = track_results('TPOT', tpot_best_params, 1719.92,400, current, True )    "
   ]
  },
  {
   "cell_type": "markdown",
   "metadata": {
    "collapsed": false,
    "hidden": true
   },
   "source": [
    "In this example TPOT did slightly worse than `BayesianOptimization` and `Grid Search`, but TPOT can do much more as we'll see in the next section."
   ]
  },
  {
   "cell_type": "markdown",
   "metadata": {
    "collapsed": false,
    "heading_collapsed": true
   },
   "source": [
    "## AutoML with TPOT"
   ]
  },
  {
   "cell_type": "markdown",
   "metadata": {
    "collapsed": false,
    "hidden": true
   },
   "source": [
    "We've actually used TPOT in a rather narrow way by forcing it to optimize the hyperparameters for one choice of a machine learning model.  However, TPOT is really designed as an auto machine learning tool (AutoML) that tries to figure out optimize the whole machine learning pipeline:  data preprocessing, feature selection, model selection, and hyperparamter tuning.  For real problems this process could take days (see the <a href=\"https://epistasislab.github.io/tpot/using/#what-to-expect-from-automl-software\">TPOT discussion of AutoML</a>.  For this toy problem it doesn't take too long so let's see what it does.  In practice you would want to run the optimization as long as possible by increasing the number of generations and the population size.  \n",
    "\n",
    "By specifying `None` for the config_dict parameter <a href=\"https://epistasislab.github.io/tpot/using/#built-in-tpot-configurations\">TPOT defaults</a> to optimizing the whole machine learning pipeline.  We'll turn it loose with a population size of 20 for 5 generations and a cv of 3. This ran in about 10 minutes on CoCalc. (This is far less generations and a much smaller population size that would be desirable in the real world.)"
   ]
  },
  {
   "cell_type": "code",
   "execution_count": 83,
   "metadata": {
    "code_folding": [
    ],
    "collapsed": false,
    "hidden": true
   },
   "outputs": [
    {
     "data": {
      "application/vnd.jupyter.widget-view+json": {
       "model_id": "bea2bf77a7a34526b8601fac0dbe588d",
       "version_major": 2,
       "version_minor": 0
      },
      "text/plain": [
       "Optimization Progress:   0%|          | 0/120 [00:00<?, ?pipeline/s]"
      ]
     },
     "execution_count": 83,
     "metadata": {
     },
     "output_type": "execute_result"
    },
    {
     "name": "stdout",
     "output_type": "stream",
     "text": [
      "\n",
      "Generation 1 - Current best internal CV score: 0.9680748947092271\n"
     ]
    },
    {
     "name": "stdout",
     "output_type": "stream",
     "text": [
      "\n",
      "Generation 2 - Current best internal CV score: 0.9702235067536723\n"
     ]
    },
    {
     "name": "stdout",
     "output_type": "stream",
     "text": [
      "\n",
      "Generation 3 - Current best internal CV score: 0.9702235067536723\n"
     ]
    },
    {
     "name": "stdout",
     "output_type": "stream",
     "text": [
      "\n",
      "Generation 4 - Current best internal CV score: 0.9702235067536723\n"
     ]
    },
    {
     "name": "stdout",
     "output_type": "stream",
     "text": [
      "\n",
      "Generation 5 - Current best internal CV score: 0.9714202281822281\n"
     ]
    },
    {
     "name": "stdout",
     "output_type": "stream",
     "text": [
      "\n",
      "Best pipeline: ExtraTreesRegressor(LassoLarsCV(input_matrix, normalize=False), bootstrap=True, max_features=0.6000000000000001, min_samples_leaf=1, min_samples_split=6, n_estimators=100)\n"
     ]
    },
    {
     "name": "stdout",
     "output_type": "stream",
     "text": [
      "0.9738427035340453\n"
     ]
    }
   ],
   "source": [
    "# from tpot import TPOTRegressor\n",
    "\n",
    "tpot = TPOTRegressor(scoring = 'r2',\n",
    "                     generations=5,\n",
    "                     population_size=20,\n",
    "                     verbosity=2,\n",
    "                     cv=3,\n",
    "                     random_state=8675309)\n",
    "tpot.fit(X_train, y_train)\n",
    "print(tpot.score(X_test, y_test))\n",
    "tpot.export('tpot_optimal_pipeline.py')"
   ]
  },
  {
   "cell_type": "code",
   "execution_count": 84,
   "metadata": {
    "collapsed": false
   },
   "outputs": [
    {
     "name": "stdout",
     "output_type": "stream",
     "text": [
      "<bound method TPOTBase.clean_pipeline_string of TPOTRegressor(cv=3, generations=5, population_size=20, random_state=8675309,\n",
      "              scoring='r2', verbosity=2)>\n"
     ]
    },
    {
     "data": {
      "text/plain": [
       "['__class__',\n",
       " '__delattr__',\n",
       " '__dict__',\n",
       " '__dir__',\n",
       " '__doc__',\n",
       " '__eq__',\n",
       " '__format__',\n",
       " '__ge__',\n",
       " '__getattribute__',\n",
       " '__getstate__',\n",
       " '__gt__',\n",
       " '__hash__',\n",
       " '__init__',\n",
       " '__init_subclass__',\n",
       " '__le__',\n",
       " '__lt__',\n",
       " '__module__',\n",
       " '__ne__',\n",
       " '__new__',\n",
       " '__reduce__',\n",
       " '__reduce_ex__',\n",
       " '__repr__',\n",
       " '__setattr__',\n",
       " '__setstate__',\n",
       " '__sizeof__',\n",
       " '__str__',\n",
       " '__subclasshook__',\n",
       " '__weakref__',\n",
       " '_add_operators',\n",
       " '_add_terminals',\n",
       " '_check_dataset',\n",
       " '_check_n_features',\n",
       " '_check_periodic_pipeline',\n",
       " '_cleanup_memory',\n",
       " '_combine_individual_stats',\n",
       " '_compile_to_sklearn',\n",
       " '_config_dict',\n",
       " '_create_periodic_checkpoint_folder',\n",
       " '_evaluate_individuals',\n",
       " '_exported_pipeline_text',\n",
       " '_fit_init',\n",
       " '_fitted_imputer',\n",
       " '_gen_grow_safe',\n",
       " '_generate',\n",
       " '_get_make_pipeline_func',\n",
       " '_get_param_names',\n",
       " '_get_tags',\n",
       " '_import_hash',\n",
       " '_import_hash_and_add_terminals',\n",
       " '_impute_values',\n",
       " '_imputed',\n",
       " '_init_pretest',\n",
       " '_lambda',\n",
       " '_last_optimized_pareto_front',\n",
       " '_last_optimized_pareto_front_n_gens',\n",
       " '_last_pipeline_write',\n",
       " '_mate_operator',\n",
       " '_max',\n",
       " '_max_mut_loops',\n",
       " '_memory',\n",
       " '_min',\n",
       " '_more_tags',\n",
       " '_n_jobs',\n",
       " '_operator_count',\n",
       " '_optimized_pipeline',\n",
       " '_optimized_pipeline_score',\n",
       " '_output_best_pipeline_period_seconds',\n",
       " '_pareto_front',\n",
       " '_pbar',\n",
       " '_pop',\n",
       " '_preprocess_individuals',\n",
       " '_pset',\n",
       " '_random_mutation_operator',\n",
       " '_read_config_file',\n",
       " '_repr_html_',\n",
       " '_repr_html_inner',\n",
       " '_repr_mimebundle_',\n",
       " '_save_periodic_pipeline',\n",
       " '_setup_config',\n",
       " '_setup_memory',\n",
       " '_setup_pset',\n",
       " '_setup_scoring_function',\n",
       " '_setup_template',\n",
       " '_setup_toolbox',\n",
       " '_start_datetime',\n",
       " '_stop_by_max_time_mins',\n",
       " '_summary_of_best_pipeline',\n",
       " '_toolbox',\n",
       " '_update_evaluated_individuals_',\n",
       " '_update_pbar',\n",
       " '_update_top_pipeline',\n",
       " '_update_val',\n",
       " '_validate_data',\n",
       " 'arguments',\n",
       " 'classification',\n",
       " 'clean_pipeline_string',\n",
       " 'config_dict',\n",
       " 'crossover_rate',\n",
       " 'cv',\n",
       " 'default_config_dict',\n",
       " 'disable_update_check',\n",
       " 'early_stop',\n",
       " 'evaluated_individuals_',\n",
       " 'export',\n",
       " 'fit',\n",
       " 'fit_predict',\n",
       " 'fitted_pipeline_',\n",
       " 'generations',\n",
       " 'get_params',\n",
       " 'log_file',\n",
       " 'log_file_',\n",
       " 'max_eval_time_mins',\n",
       " 'max_time_mins',\n",
       " 'memory',\n",
       " 'mutation_rate',\n",
       " 'n_jobs',\n",
       " 'offspring_size',\n",
       " 'op_list',\n",
       " 'operators',\n",
       " 'operators_context',\n",
       " 'pareto_front_fitted_pipelines_',\n",
       " 'periodic_checkpoint_folder',\n",
       " 'population_size',\n",
       " 'predict',\n",
       " 'predict_proba',\n",
       " 'pretest_X',\n",
       " 'pretest_y',\n",
       " 'random_state',\n",
       " 'regression',\n",
       " 'ret_types',\n",
       " 'score',\n",
       " 'scoring',\n",
       " 'scoring_function',\n",
       " 'set_params',\n",
       " 'subsample',\n",
       " 'template',\n",
       " 'tree_structure',\n",
       " 'use_dask',\n",
       " 'verbosity',\n",
       " 'warm_start']"
      ]
     },
     "execution_count": 84,
     "metadata": {
     },
     "output_type": "execute_result"
    }
   ],
   "source": [
    "print(tpot.clean_pipeline_string)\n",
    "dir(tpot)"
   ]
  },
  {
   "cell_type": "code",
   "execution_count": 85,
   "metadata": {
    "collapsed": false,
    "hidden": true
   },
   "outputs": [
    {
     "name": "stdout",
     "output_type": "stream",
     "text": [
      "Model r-squared score from test data: 0.9738\n"
     ]
    },
    {
     "name": "stdout",
     "output_type": "stream",
     "text": [
      "Mean squared error on test data: 2821087.66\n",
      "Root mean squared error on test data: 1679.61\n"
     ]
    },
    {
     "data": {
      "image/png": "[encoded data removed]",
      "text/plain": [
       "<Figure size 648x432 with 1 Axes>"
      ]
     },
     "execution_count": 85,
     "metadata": {
      "image/png": {
       "height": 370,
       "width": 582
      }
     },
     "output_type": "execute_result"
    }
   ],
   "source": [
    "my_regression_results(tpot)"
   ]
  },
  {
   "cell_type": "markdown",
   "metadata": {
    "collapsed": false
   },
   "source": [
    "In this instance, TPOT chose an ExtraTreesRegressor. Since the parameters are different for that model, we can't just include the parameters in our results the way we have before. But, we can still track our RMSE and fits."
   ]
  },
  {
   "cell_type": "code",
   "execution_count": 86,
   "metadata": {
    "collapsed": false
   },
   "outputs": [
    {
     "data": {
      "text/html": [
       "<div>\n",
       "<style scoped>\n",
       "    .dataframe tbody tr th:only-of-type {\n",
       "        vertical-align: middle;\n",
       "    }\n",
       "\n",
       "    .dataframe tbody tr th {\n",
       "        vertical-align: top;\n",
       "    }\n",
       "\n",
       "    .dataframe thead th {\n",
       "        text-align: right;\n",
       "    }\n",
       "</style>\n",
       "<table border=\"1\" class=\"dataframe\">\n",
       "  <thead>\n",
       "    <tr style=\"text-align: right;\">\n",
       "      <th></th>\n",
       "      <th>Approach</th>\n",
       "      <th>learning_rate</th>\n",
       "      <th>max_depth</th>\n",
       "      <th>min_child_weight</th>\n",
       "      <th>n_estimators</th>\n",
       "      <th>reg_alpha</th>\n",
       "      <th>reg_lambda</th>\n",
       "      <th>subsample</th>\n",
       "      <th>Fits</th>\n",
       "      <th>RMSE</th>\n",
       "    </tr>\n",
       "  </thead>\n",
       "  <tbody>\n",
       "    <tr>\n",
       "      <th>3</th>\n",
       "      <td>Bayes Search</td>\n",
       "      <td>0.1</td>\n",
       "      <td>10</td>\n",
       "      <td>1</td>\n",
       "      <td>150</td>\n",
       "      <td>5</td>\n",
       "      <td>5</td>\n",
       "      <td>0.334899</td>\n",
       "      <td>175</td>\n",
       "      <td>1660.89</td>\n",
       "    </tr>\n",
       "    <tr>\n",
       "      <th>5</th>\n",
       "      <td>TPOT-AutoML</td>\n",
       "      <td>N/A</td>\n",
       "      <td>N/A</td>\n",
       "      <td>N/A</td>\n",
       "      <td>100</td>\n",
       "      <td>N/A</td>\n",
       "      <td>N/A</td>\n",
       "      <td>N/A</td>\n",
       "      <td>600</td>\n",
       "      <td>1679.61</td>\n",
       "    </tr>\n",
       "    <tr>\n",
       "      <th>1</th>\n",
       "      <td>Grid Search</td>\n",
       "      <td>0.1</td>\n",
       "      <td>6</td>\n",
       "      <td>1</td>\n",
       "      <td>150</td>\n",
       "      <td>3</td>\n",
       "      <td>3</td>\n",
       "      <td>0.8</td>\n",
       "      <td>960</td>\n",
       "      <td>1700.27</td>\n",
       "    </tr>\n",
       "    <tr>\n",
       "      <th>4</th>\n",
       "      <td>TPOT</td>\n",
       "      <td>0.1</td>\n",
       "      <td>8</td>\n",
       "      <td>1</td>\n",
       "      <td>100</td>\n",
       "      <td>3.25</td>\n",
       "      <td>4.0</td>\n",
       "      <td>0.75</td>\n",
       "      <td>400</td>\n",
       "      <td>1719.92</td>\n",
       "    </tr>\n",
       "    <tr>\n",
       "      <th>0</th>\n",
       "      <td>Default XGBoost</td>\n",
       "      <td>0.1</td>\n",
       "      <td>3</td>\n",
       "      <td>1</td>\n",
       "      <td>100</td>\n",
       "      <td>0</td>\n",
       "      <td>1</td>\n",
       "      <td>1</td>\n",
       "      <td>1</td>\n",
       "      <td>1829.67</td>\n",
       "    </tr>\n",
       "    <tr>\n",
       "      <th>2</th>\n",
       "      <td>Random Search</td>\n",
       "      <td>0.5</td>\n",
       "      <td>8</td>\n",
       "      <td>13</td>\n",
       "      <td>54</td>\n",
       "      <td>4.273531</td>\n",
       "      <td>0.361485</td>\n",
       "      <td>0.982754</td>\n",
       "      <td>125</td>\n",
       "      <td>1870.11</td>\n",
       "    </tr>\n",
       "  </tbody>\n",
       "</table>\n",
       "</div>"
      ],
      "text/plain": [
       "          Approach learning_rate max_depth min_child_weight  n_estimators  \\\n",
       "3     Bayes Search           0.1        10                1           150   \n",
       "5      TPOT-AutoML           N/A       N/A              N/A           100   \n",
       "1      Grid Search           0.1         6                1           150   \n",
       "4             TPOT           0.1         8                1           100   \n",
       "0  Default XGBoost           0.1         3                1           100   \n",
       "2    Random Search           0.5         8               13            54   \n",
       "\n",
       "  reg_alpha reg_lambda subsample  Fits     RMSE  \n",
       "3         5          5  0.334899   175  1660.89  \n",
       "5       N/A        N/A       N/A   600  1679.61  \n",
       "1         3          3       0.8   960  1700.27  \n",
       "4      3.25        4.0      0.75   400  1719.92  \n",
       "0         0          1         1     1  1829.67  \n",
       "2  4.273531   0.361485  0.982754   125  1870.11  "
      ]
     },
     "execution_count": 86,
     "metadata": {
     },
     "output_type": "execute_result"
    }
   ],
   "source": [
    "#ExtraTreesRegressor(LassoLarsCV(input_matrix, normalize=False), bootstrap=True, max_features=0.6000000000000001, min_samples_leaf=1, min_samples_split=6, n_estimators=100)\n",
    "\n",
    "tpot_best_params = {'learning_rate':'N/A', 'max_depth':'N/A', 'min_child_weight':'N/A', 'n_estimators':100,   'reg_alpha':'N/A', 'reg_lambda':'N/A', 'subsample': 'N/A'}\n",
    "\n",
    "current = track_results('TPOT-AutoML', tpot_best_params, 1679.61,600, current, True )    "
   ]
  },
  {
   "cell_type": "markdown",
   "metadata": {
    "collapsed": false,
    "hidden": true
   },
   "source": [
    "With this seed, Bayes Search with XGBoost still beat the AutoML with TPOT. If you were to run TPOT again with a different random seed or with different settings (more generations/individuals) you'd very likely find a different model.  It often produces nested models where models are applied in sequence. \n",
    "\n",
    "Understanding the details of nested models and such isn't important here and we don't recommend blindly using AutoML of any sort, but TPOT can provide good starting points and suggestions for models to investigate further.  We're eager to try other AutoML tools to see how they work."
   ]
  },
  {
   "cell_type": "markdown",
   "metadata": {
    "collapsed": false,
    "heading_collapsed": true
   },
   "source": [
    "# Summary"
   ]
  },
  {
   "cell_type": "markdown",
   "metadata": {
    "collapsed": false,
    "hidden": true
   },
   "source": [
    "After exploring several different hyperparameter optimization tools, we found that all of them improved the `XGBregressor` model by varying amounts.  Looking just at the hyperparameter optimization of the `xgbr_model` we found that `GridSearchCV` was the most expensive with 960 model fits, but found a very good model.  `RandomSearchCV` and `BayesianOptimizaion` used 125 model fits and 175 model fits, respectively and `BayesianOptimization` identified the model with the lowest MSE on the test data.  However, be careful before concluding that Bayesian Optimization outperforms Random Search.  If you change the random number seeds you'll get different results and Bayesian Optimization will not always be the winner.  However, the consensus is that it works better than Random Search on average.\n",
    "\n",
    "The last thing we ran was an AutoML experiment with TPOT which used a genetic algorithm to search over many different models and hyperparameter choices.  The model it identified was a pretty crazy nested model that had a slight performance boost over the the optimized `xgboost` model. Due the complexity of that model it might not be the best choice, but it does provide a starting point for other directions to look.  \n",
    "\n",
    "If you're curious to explore further, there are many AutoML tools being developed.  Here are a couple of interesting ones with which you might experiment:\n",
    "\n",
    "* **AzureML from Microsoft:** Check out <a href=\"https://docs.microsoft.com/en-us/azure/machine-learning/service/tutorial-auto-train-models\">this really cool tutorial</a> on using AutoML for choosing a regression model for predicting taxi fares.  The tutorial uses Python and sklearn so it wouldn't be a stretch to follow along.  Moreover, AzureML provides free credits when you sign up.  Just make sure to complete the \"Clean Up Resources\" section at the end of the tutorial so you don't leave anything running that will use up your free credits!\n",
    "\n",
    "* **RapidMiner:** We don't have personal experience with this one, but we've only heard good things about it and are eager to check it out.  <a href=\"https://rapidminer.com/educational-program/\">It is free for students.</a> RapidMiner's version of AutoML is a called Auto Model.  You can find a <a href=\"https://docs.rapidminer.com/latest/studio/auto-model/\">tutorial for predicting survival on the Titanic here.</a>\n",
    "\n",
    "* **Pycaret:** If you're familiar with Caret in R, <a href=\"https://pycaret.org/\">Pycaret</a> should excite you. PyCaret is in development, but new tools are being added all the time. Unfortunately, it doesn't work quite right on CoCalc without downgrading scikit-learn. We encourage you to create your own local environment and play with it on your own, though. There are some good tutorials.\n",
    "\n",
    "If you try any other AutoML tools, please tell us about it on Piazza."
   ]
  },
  {
   "cell_type": "markdown",
   "metadata": {
    "collapsed": false,
    "heading_collapsed": true
   },
   "source": [
    "# Assignment"
   ]
  },
  {
   "cell_type": "markdown",
   "metadata": {
    "collapsed": false,
    "hidden": true
   },
   "source": [
    "Optimize a random forest regression model and a XGboost classification model by completing the work in the `Lesson_08_Homework.ipynb` notebook.\n",
    "\n",
    "# Supplemental Material\n",
    "While we've provided a balanced dataset for you, an example of a classification problem with imbalanced data is included in the supplemental notebook, Lesson_08_Supplement_Imbalanced_Classification, for those that might like to go further."
   ]
  },
  {
   "cell_type": "code",
   "execution_count": 0,
   "metadata": {
    "collapsed": false
   },
   "outputs": [
   ],
   "source": [
   ]
  }
 ],
 "metadata": {
  "kernelspec": {
   "display_name": "Python 3 (system-wide)",
   "language": "python",
   "metadata": {
    "cocalc": {
     "description": "Python 3 programming language",
     "priority": 100,
     "url": "https://www.python.org/"
    }
   },
   "name": "python3",
   "resource_dir": "/ext/jupyter/kernels/python3"
  },
  "language_info": {
   "codemirror_mode": {
    "name": "ipython",
    "version": 3
   },
   "file_extension": ".py",
   "mimetype": "text/x-python",
   "name": "python",
   "nbconvert_exporter": "python",
   "pygments_lexer": "ipython3",
   "version": "3.8.5"
  },
  "toc": {
   "base_numbering": 1,
   "nav_menu": {
   },
   "number_sections": true,
   "sideBar": true,
   "skip_h1_title": false,
   "title_cell": "Table of Contents",
   "title_sidebar": "Contents",
   "toc_cell": false,
   "toc_position": {
   },
   "toc_section_display": true,
   "toc_window_display": false
  },
  "varInspector": {
   "cols": {
    "lenName": 16,
    "lenType": 16,
    "lenVar": 40
   },
   "kernels_config": {
    "python": {
     "delete_cmd_postfix": "",
     "delete_cmd_prefix": "del ",
     "library": "var_list.py",
     "varRefreshCmd": "print(var_dic_list())"
    },
    "r": {
     "delete_cmd_postfix": ") ",
     "delete_cmd_prefix": "rm(",
     "library": "var_list.r",
     "varRefreshCmd": "cat(var_dic_list()) "
    }
   },
   "types_to_exclude": [
    "module",
    "function",
    "builtin_function_or_method",
    "instance",
    "_Feature"
   ],
   "window_display": false
  }
 },
 "nbformat": 4,
 "nbformat_minor": 4
}