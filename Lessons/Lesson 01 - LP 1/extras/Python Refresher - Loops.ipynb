{
 "cells": [
  {
   "cell_type": "markdown",
   "metadata": {
    "collapsed": false
   },
   "source": [
    "## Loops Introduction\n",
    "Loops are fundamental programming concepts, and they're used extensively when we're hand-coding optimization problems. Understanding how loops work will be crucial to your ability to successfully complete your homework. Generally, we use for loops and while loops. Both are similar, but have slightly different stopping conditions.\n",
    "\n",
    "The easiest way to understand what loops are doing is to practice using them with simple conditions, printing out your variables for each iteration of the loop. Flow diagram images in this tutorial are from https://medium.com/datadriveninvestor/how-to-understand-for-and-while-loop-visually-c11052479df5\n",
    "\n",
    "\n",
    "### For Loops\n",
    "For loops are used when you have a specific number of iterations you'd like to loop. You can either loop using a static number, or you can loop over an object that is iterable (a list, a dictionary, a numpy array, a dataframe, etc.)\n",
    "\n",
    "Conceptually, a for loop looks like this:\n",
    "\n",
    "<img src=\"https://miro.medium.com/max/307/1*lAK1wkWQWdV75oZ6hXPofw.png\">\n",
    "\n",
    "In other words, for each item in a sequence, we execute some code. If at the end of the code execution, there is another item in the sequence, we go back to the top of our code block and execute again, using the next item of the sequence. Let's see how it works with looping over a numpy array of random numbers. We'll manually sum up the random numbers using a for loop.\n"
   ]
  },
  {
   "cell_type": "code",
   "execution_count": 0,
   "metadata": {
    "collapsed": false
   },
   "outputs": [
   ],
   "source": [
    "#import numpy\n",
    "import numpy as np\n",
    "\n",
    "#create a random seed so we get consistent results\n",
    "np.random.seed(123)\n",
    "\n",
    "# Create an iterable item, in this case a numpy array of 10 random numbers between 1 and 100\n",
    "# Generally, iterables should have plural variable names, so you can track that they contain multiple values\n",
    "items = np.random.randint(low=1, high=100, size=10)\n",
    "\n",
    "#look at what is in items\n",
    "print(items)\n",
    "\n",
    "#This is the beginning of the loop. We will loop over each item in the array. Python makes that easy with iterables.\n",
    "#We can just loop over the iterable itself, telling Python what variable name we want to give to the item in each loop\n",
    "for i in items:\n",
    "    print('This item is:', i)\n",
    "    \n",
    "#it doesn't matter what you call the variable, it can be anything. \n",
    "for item in items:\n",
    "    print('This item is:', item)\n",
    "    \n",
    " "
   ]
  },
  {
   "cell_type": "markdown",
   "metadata": {
    "collapsed": false
   },
   "source": [
    "So far we've looped through twice, but we haven't done anything to total our numbers. This time, we'll add to our total with each loop. We have to have a variable that gets set **before** we start our loop, so that we can add to it inside the loop. If we initialized the total variable inside the loop, we'd be resetting it each time."
   ]
  },
  {
   "cell_type": "code",
   "execution_count": 0,
   "metadata": {
    "collapsed": false
   },
   "outputs": [
   ],
   "source": [
    "#we need a variable that is set to zero BEFORE the loop starts. \n",
    "total = 0\n",
    "for i in items:\n",
    "    total += i #+= is Python's way of saying, add this to the existing total\n",
    "    #watch our total increase\n",
    "    print(total)\n",
    "    \n",
    "#we're now outside the loop. It's done looping. We can print the final total.        \n",
    "print('Final total: ', total)     "
   ]
  },
  {
   "cell_type": "markdown",
   "metadata": {
    "collapsed": false
   },
   "source": [
    "What if we only wanted to add to our total if our current item was an even number? We can evaluate our current item inside the loop and use a conditional if statement to decide whether or not to add to the total."
   ]
  },
  {
   "cell_type": "code",
   "execution_count": 0,
   "metadata": {
    "collapsed": false
   },
   "outputs": [
   ],
   "source": [
    "#we need a variable that is set to zero BEFORE the loop starts. \n",
    "#(If we didn't reset this here, we'd still be adding to the total from above)\n",
    "total = 0\n",
    "\n",
    "for i in items:\n",
    "    #the % operator is modulus. It returns the remainder if you divided the first number by the second\n",
    "    #we can use it to determine if something is even, because the result will be zero if it's divided by 2\n",
    "    print('Modulus is', i%2)\n",
    "    if i%2 == 0:\n",
    "        total += i\n",
    "        print('Adding to total equals: ', total)\n",
    "\n",
    "#we're now outside the loop. It's done looping. We can print the final total.        \n",
    "print('\\nFinal total: ', total)    "
   ]
  },
  {
   "cell_type": "markdown",
   "metadata": {
    "collapsed": false
   },
   "source": [
    "That's a lot of lines of code just to sum some numbers. Python has shortcut ways to do these kinds of for loops. One of those is called a list comprehension. If all we wanted to do was print the sum of all the even numbers, we could do it in a single line, like below."
   ]
  },
  {
   "cell_type": "code",
   "execution_count": 0,
   "metadata": {
    "collapsed": false
   },
   "outputs": [
   ],
   "source": [
    "sum([i for i in items if i%2==0])"
   ]
  },
  {
   "cell_type": "markdown",
   "metadata": {
    "collapsed": false
   },
   "source": [
    "Let's breakdown what's happening in that list comprehension, starting with the line inside the inner set of brackets []. \n",
    "\n",
    "This line <code>i for i in items</code> is our for loop. Notice the syntax is a little bit different. First we're telling Python to return <code>i</code>, and then we're telling it what <code>i</code> is (each item in the list of items).\n",
    "\n",
    "What this returns is a list with just the items that meet our condition."
   ]
  },
  {
   "cell_type": "code",
   "execution_count": 0,
   "metadata": {
    "collapsed": false
   },
   "outputs": [
   ],
   "source": [
    "[i for i in items if i%2==0]"
   ]
  },
  {
   "cell_type": "markdown",
   "metadata": {
    "collapsed": false
   },
   "source": [
    "Python is smart enough that you can just wrap that whole list in sum, to get the sum of all the items in the list. Because this is the only line in the code block, it automatically prints. But we could also save this to another variable, or print it by wrapping the whole thing with <code>print()</code>.\n"
   ]
  },
  {
   "cell_type": "markdown",
   "metadata": {
    "collapsed": false
   },
   "source": [
    "What if we needed a boolean vector instead with true for even and false for odd. The syntax is slightly different. The value we want if our condition is met comes first (True), then our conditional logic, then our else value, and finally we tell Python what we are looping over."
   ]
  },
  {
   "cell_type": "code",
   "execution_count": 0,
   "metadata": {
    "collapsed": false,
    "scrolled": true
   },
   "outputs": [
   ],
   "source": [
    "[True if i%2==0 else False for i in items]"
   ]
  },
  {
   "cell_type": "markdown",
   "metadata": {
    "collapsed": false
   },
   "source": [
    "Now you try. Create a list comprehension that adds up the ODD numbers of items in our item list. (Hint: the answer is 443.)"
   ]
  },
  {
   "cell_type": "code",
   "execution_count": 0,
   "metadata": {
    "collapsed": false
   },
   "outputs": [
   ],
   "source": [
   ]
  },
  {
   "cell_type": "markdown",
   "metadata": {
    "collapsed": false
   },
   "source": [
    "### While Loops\n",
    "While loops happen while some condition is true. \n",
    "\n",
    "In a flow diagram while loops look like this:\n",
    "\n",
    "<img src=\"https://miro.medium.com/max/252/1*JhldPcaF9aOXkwd_coqiBQ.png\">\n",
    "\n",
    "We can do everything that we did above using a while loop with a few changes in syntax. "
   ]
  },
  {
   "cell_type": "code",
   "execution_count": 0,
   "metadata": {
    "collapsed": false
   },
   "outputs": [
   ],
   "source": [
    "#first we'll set a counter\n",
    "counter = 0\n",
    "\n",
    "#now we'll figure out how long our numpy array is\n",
    "max_length = len(items)\n",
    "\n",
    "#check how long our items array is\n",
    "print('Max length is:', max_length)\n",
    "\n",
    "#now we'll loop \"while\" our counter is less than the max_length\n",
    "\n",
    "while counter < max_length:\n",
    "    #we have to increment the counter manually or our loop will run forever. \n",
    "    counter +=1  \n",
    "    \n",
    "    #Let's see what's in our counter variable each time\n",
    "    print('Counter is', counter)\n",
    "    \n",
    "     "
   ]
  },
  {
   "cell_type": "markdown",
   "metadata": {
    "collapsed": false
   },
   "source": [
    "When you're using a while loop, you're not directly looping over an object, so you don't have the item. You have an index that you can use to fetch the item from the iterable. Let's see how that's done."
   ]
  },
  {
   "cell_type": "code",
   "execution_count": 0,
   "metadata": {
    "collapsed": false
   },
   "outputs": [
   ],
   "source": [
    "#remember to set the counter to zero again before we try to loop again\n",
    "counter = 0\n",
    "while counter < max_length:   \n",
    "    #we have to increment the counter manually or our loop will run forever\n",
    "    counter +=1     \n",
    "    #fetch the item from the array\n",
    "    print('Counter is', counter)\n",
    "    print('Item is', items[counter])"
   ]
  },
  {
   "cell_type": "markdown",
   "metadata": {
    "collapsed": false
   },
   "source": [
    "Oh oh. What happened? We were going along just fine and then bam, error. Can you see what the problem is?\n",
    "\n",
    "Python indexes start from zero. Since we incremented our counter at the start of the loop, we started counting from one. We ran out of items in the array before we finished our loop.\n",
    "\n",
    "We can easily fix this by moving our <code>counter += 1</code> to the end of our loop."
   ]
  },
  {
   "cell_type": "code",
   "execution_count": 0,
   "metadata": {
    "collapsed": false
   },
   "outputs": [
   ],
   "source": [
    "#remember to set the counter to zero again before we try to loop again\n",
    "counter = 0\n",
    "while counter < max_length:   \n",
    "     \n",
    "    #fetch the item from the array\n",
    "    print('Counter is', counter)\n",
    "    print('Item is', items[counter])\n",
    "    \n",
    "    #we have to increment the counter manually or our loop will run forever\n",
    "    counter +=1"
   ]
  },
  {
   "cell_type": "markdown",
   "metadata": {
    "collapsed": false
   },
   "source": [
    "Again, if we only wanted to total all our numbers, it works the same way as it did in the for loop, but we have to fetch the item to add."
   ]
  },
  {
   "cell_type": "code",
   "execution_count": 0,
   "metadata": {
    "collapsed": false
   },
   "outputs": [
   ],
   "source": [
    "#we need two variables that are set to zero BEFORE the loop starts. \n",
    "total = 0\n",
    "counter = 0\n",
    "while counter < max_length:   \n",
    "    total += items[counter]\n",
    "    #watch our total increase\n",
    "    print(total)\n",
    "    counter +=1 \n",
    "    \n",
    "#we're now outside the loop. It's done looping. We can print the final total.        \n",
    "print('Final total: ', total)    "
   ]
  },
  {
   "cell_type": "markdown",
   "metadata": {
    "collapsed": false
   },
   "source": [
    "Conditionally adding to the total works similarly, too - we're just fetching what to evaluate and add. Since we'd have to fetch the item twice in this code, it makes sense to set it as a local variable. This local variable will get rewritten each time we loop through the code."
   ]
  },
  {
   "cell_type": "code",
   "execution_count": 0,
   "metadata": {
    "collapsed": false
   },
   "outputs": [
   ],
   "source": [
    "#we need two variables that are set to zero BEFORE the loop starts. \n",
    "total = 0\n",
    "counter = 0\n",
    "while counter < max_length:   \n",
    "    #fetch the item into a local variable\n",
    "    this_item = items[counter]\n",
    "    \n",
    "    if this_item%2 == 0:\n",
    "        total += this_item\n",
    "    #watch our total increase (or not)\n",
    "    print(total)\n",
    "    counter +=1 \n",
    "    \n",
    "#we're now outside the loop. It's done looping. We can print the final total.        \n",
    "print('Final total: ', total)    "
   ]
  },
  {
   "cell_type": "markdown",
   "metadata": {
    "collapsed": false
   },
   "source": [
    "## More Complex Data\n",
    "We can also loop over more complex data structures. In this course, we'll often loop over dictionaries with compound keys. Understanding how to access data in dictionaries of this type is important. It looks complex, but it's really exactly like what we've done before. The dictionary is an iterable, just like a simple list.\n",
    "\n",
    "Let's start by creating a list of possible driving routes by making a list of tuples of 2 cities. Note: a tuple is a collection which is ordered and unchangeable. A tuple can work as a key in a dictionary, because we know we won't be changing anything in the tuple (messing up the key). https://www.w3schools.com/python/python_tuples.asp\n"
   ]
  },
  {
   "cell_type": "code",
   "execution_count": 0,
   "metadata": {
    "collapsed": false
   },
   "outputs": [
   ],
   "source": [
    "routes = [\n",
    "    ('Madison', 'Chicago'),\n",
    "    ('Milwaukee', 'Madison'),\n",
    "    ('Minneapolis', 'Eau Claire')\n",
    "    ]\n",
    "print(routes)\n"
   ]
  },
  {
   "cell_type": "markdown",
   "metadata": {
    "collapsed": false
   },
   "source": [
    "Our list of cities doesn't do us much good without some additional information about the cities. What if we wanted to know distance and traffic level (light, medium, heavy). We could make 2 dictionaries and zip our additional information together with our tuple keys. "
   ]
  },
  {
   "cell_type": "code",
   "execution_count": 0,
   "metadata": {
    "collapsed": false
   },
   "outputs": [
   ],
   "source": [
    "route_distances = zip(routes, [166.3, 89.9,92.5])\n",
    "   \n",
    "print(route_distances)"
   ]
  },
  {
   "cell_type": "markdown",
   "metadata": {
    "collapsed": false
   },
   "source": [
    "But, this is just a zip object, which isn't what we want. We really want a dictionary. We could do it in another step, or we could do it all in one step. "
   ]
  },
  {
   "cell_type": "code",
   "execution_count": 0,
   "metadata": {
    "collapsed": false
   },
   "outputs": [
   ],
   "source": [
    "#2-step approach\n",
    "route_distances = dict(route_distances)\n",
    "print(route_distances)\n"
   ]
  },
  {
   "cell_type": "markdown",
   "metadata": {
    "collapsed": false
   },
   "source": [
    "Let's do it all in one step for our traffic conditions. We'll nest the zip function inside a dict function."
   ]
  },
  {
   "cell_type": "code",
   "execution_count": 0,
   "metadata": {
    "collapsed": false
   },
   "outputs": [
   ],
   "source": [
    "#1 step approach\n",
    "route_traffic = dict(zip(routes, ['heavy', 'light', 'medium']))\n",
    "print(route_traffic)"
   ]
  },
  {
   "cell_type": "markdown",
   "metadata": {
    "collapsed": false
   },
   "source": [
    "If we want to loop over our route_distances dictionary, we use a for loop like we have before. But, this time, because our key is a tuple, we need to give Python a tuple to feed each iteration into. That's what we're doing with the (t, f) bit. We can pull back our value for each tuple by using bracket notation."
   ]
  },
  {
   "cell_type": "code",
   "execution_count": 0,
   "metadata": {
    "collapsed": false
   },
   "outputs": [
   ],
   "source": [
    "for (t, f) in route_distances:\n",
    "    print('The distance from {0} to {1} is {2} miles.'.format(f, t, route_distances[(t,f)]))"
   ]
  },
  {
   "cell_type": "markdown",
   "metadata": {
    "collapsed": false
   },
   "source": [
    "What if we knew our list of cities, but we weren't sure which cities were in our distances dictionary? We could loop over each possible combination of cities to find out."
   ]
  },
  {
   "cell_type": "code",
   "execution_count": 0,
   "metadata": {
    "collapsed": false
   },
   "outputs": [
   ],
   "source": [
    "cities = ['Madison', 'Chicago', 'Milwaukee', 'Minneapolis', 'Eau Claire']\n",
    "\n",
    "#we have tuples, so let's use nested loops\n",
    "for ct in cities: #this is the \"to\" city loop\n",
    "    for cf in cities: #this is the from city loop\n",
    "        if (ct, cf) in route_distances: #here we're making sure that we have this particular to-from city combination\n",
    "            print('The distance from {0} to {1} is {2} miles.'.format(cf, ct, route_distances[(ct,cf)]))\n",
    "        else:\n",
    "            print('We have no information about {0} to {1}'.format(ct, cf))"
   ]
  },
  {
   "cell_type": "markdown",
   "metadata": {
    "collapsed": false
   },
   "source": [
    "We can also do the same thing by first determining all permutations of pairs of items in our city list, and then looping over the permutations."
   ]
  },
  {
   "cell_type": "code",
   "execution_count": 0,
   "metadata": {
    "collapsed": false
   },
   "outputs": [
   ],
   "source": [
    "#import the itertools permutations \n",
    "from itertools import permutations \n",
    "\n",
    "#if we want to print this, we need to cast it to a list\n",
    "city_combos = list(permutations(cities, 2))\n",
    "\n",
    "#see what this returns\n",
    "print(city_combos)\n",
    "\n",
    "#now we can loop over all possible pairs of cities\n",
    "for (t,f) in city_combos:\n",
    "    if (t,f) in route_distances: #we only want to print the ones that exist\n",
    "        print('The distance from {0} to {1} is {2} miles.'.format(f, t, route_distances[(t,f)]))\n",
    "    "
   ]
  },
  {
   "cell_type": "markdown",
   "metadata": {
    "collapsed": false
   },
   "source": [
    "Just like with lists, you can use comprehensions with dictionaries. Let's get the average distance of routes with Madison in the to or from. First we'll do it the long way:"
   ]
  },
  {
   "cell_type": "code",
   "execution_count": 0,
   "metadata": {
    "collapsed": false
   },
   "outputs": [
   ],
   "source": [
    "#create a list variable that will contain all the distances that we have for routes that include Madison\n",
    "#we'll use numpy array to get a shortcut to averaging\n",
    "total_madison_route_distance = np.array([])\n",
    "\n",
    "#loop over our route_distances\n",
    "for (t,f) in route_distances:\n",
    "    if t == 'Madison' or f == 'Madison':\n",
    "        total_madison_route_distance = np.append(total_madison_route_distance, route_distances[(t,f)])\n",
    "\n",
    "\n",
    "#see what we have\n",
    "print(total_madison_route_distance)\n",
    "\n",
    "#use numpy average to get the average\n",
    "print(np.mean(total_madison_route_distance))"
   ]
  },
  {
   "cell_type": "markdown",
   "metadata": {
    "collapsed": false
   },
   "source": [
    "Now let's do it with a comprehension. We'll use a regular list and roll our own function for determining the average of a list."
   ]
  },
  {
   "cell_type": "code",
   "execution_count": 0,
   "metadata": {
    "collapsed": false
   },
   "outputs": [
   ],
   "source": [
    "### this is a function that determines the average of a list\n",
    "def Average(lst): \n",
    "    return sum(lst) / len(lst)\n",
    "\n",
    "#we're generating the list of just those routes that contain Madison\n",
    "total_madison_route_distance = [route_distances[(t,f)] for (t,f) in route_distances if t == 'Madison' or f == 'Madison']\n",
    "\n",
    "#print the average\n",
    "print(Average(total_madison_route_distance))\n"
   ]
  },
  {
   "cell_type": "markdown",
   "metadata": {
    "collapsed": false
   },
   "source": [
    "One final example. If what we want to do with our list comprehension is a little bit messy, we can also write a function that we use in the list comprehension. In this scenario, we want to create a new dictionary that holds the time to drive our routes. We know that, on average, people drive 70 mph on these roads (all our destinations are connected by interstates). But, if traffic is heavy, it takes approximately 10% longer to get there. We'll make a function that determines drive time and use it to generate a new dictionary of route drive times."
   ]
  },
  {
   "cell_type": "code",
   "execution_count": 0,
   "metadata": {
    "collapsed": false
   },
   "outputs": [
   ],
   "source": [
    "#our function takes in the to and from of our tuple keys\n",
    "def calcDriveTime(t,f):\n",
    "    #get the traffic for this route\n",
    "    traffic = route_traffic[(t,f)]\n",
    "    if traffic == 'heavy':\n",
    "        return ((route_distances[(t,f)]/70) * 1.1)\n",
    "    else:\n",
    "        return (route_distances[(t,f)]/70)\n",
    "\n",
    "#this is the dictionary comprehension - our keys are to the left of the : and our value to the right    \n",
    "route_drive_times = {(t,f):calcDriveTime(t,f) for (t,f) in route_distances}   \n",
    "\n",
    "#see what we got\n",
    "route_drive_times\n",
    "        "
   ]
  }
 ],
 "metadata": {
  "kernelspec": {
   "display_name": "Python 3 (system-wide)",
   "language": "python",
   "metadata": {
    "cocalc": {
     "description": "Python 3 programming language",
     "priority": 100,
     "url": "https://www.python.org/"
    }
   },
   "name": "python3",
   "resource_dir": "/ext/jupyter/kernels/python3"
  },
  "language_info": {
   "codemirror_mode": {
    "name": "ipython",
    "version": 3
   },
   "file_extension": ".py",
   "mimetype": "text/x-python",
   "name": "python",
   "nbconvert_exporter": "python",
   "pygments_lexer": "ipython3",
   "version": "3.8.2"
  }
 },
 "nbformat": 4,
 "nbformat_minor": 4
}