{
 "cells": [
  {
   "cell_type": "markdown",
   "metadata": {
    "collapsed": false
   },
   "source": [
    "## Functions in Python\n",
    "\n",
    "Functions are reusable bits of code that can be your new best friend. Any time you find yourself writing the same bit of code more than once, just changing a variable value here or there, you should consider writing a function instead. \n",
    "\n",
    "Functions, themselves, consist of two parts:\n",
    "\n",
    "* The definition line\n",
    "* The guts\n",
    "\n",
    "You'll also need to \"call\" the function to get it to do something.\n",
    "\n",
    "Let's look at an example.\n",
    "\n",
    "<img src='images/FunctionIntro.png'/>\n",
    "\n",
    "Reading through the above code, the definition line declares that the name of the function is \"sayHello\" and that when we call it, we'll pass in 2 parameters - a name and a species.\n",
    "\n",
    "**A note on names**: I like to use function names that start with a verb, because typically functions are performing some action. But, it's really up to you who you name them. Just keep them descriptive but short. You should be able to tell what your function is going to do by looking at the name. \n",
    "\n",
    "The guts of the code initialize a blank variable, run a conditional statement to check if the species is dog, and fill in text for the variable.\n",
    "\n",
    "The function ends with returning a single variable, in this case the string held in the variable \"response.\" \n",
    "\n",
    "Finally, we call the function, telling it that the name we're dealing with is Bob, and that Bob is a dog.\n",
    "\n",
    "Before you run the code below, read the code try to figure out what the output will be.\n"
   ]
  },
  {
   "cell_type": "code",
   "execution_count": 0,
   "metadata": {
    "collapsed": false
   },
   "outputs": [
   ],
   "source": [
    "def sayHello(name, species):\n",
    "    response = ''\n",
    "    if species == 'dog':\n",
    "        response = \"Come here \" + name + \"! Who's the best doggo in the world? You are!\"\n",
    "    else:\n",
    "        response = 'Hello ' + name + \". Pleased to meet you\"\n",
    "    return response\n",
    "\n",
    "sayHello('Bob', 'dog')"
   ]
  },
  {
   "cell_type": "markdown",
   "metadata": {
    "collapsed": false
   },
   "source": [
    "### Scope\n",
    "\n",
    "Functions have a local scope. Variables that you set inside the function will not be available outside the function. Look at the code below and try to figure out what will happen before you run it. Will the code work?"
   ]
  },
  {
   "cell_type": "code",
   "execution_count": 0,
   "metadata": {
    "collapsed": false
   },
   "outputs": [
   ],
   "source": [
    "def tryScopes(passedInVariable):\n",
    "    insideVariable = passedInVariable\n",
    "    return insideVariable\n",
    " \n",
    "outsideVariable = tryScopes('I got passed in.')\n",
    "\n",
    "print(outsideVariable)\n",
    "print(insideVariable)"
   ]
  },
  {
   "cell_type": "markdown",
   "metadata": {
    "collapsed": false
   },
   "source": [
    "Printing the insideVariable will fail, because it was created inside the function. It lives and dies inside the function, and it will get rewritten every time the function is called.\n",
    "\n",
    "In many languages, functions don't have access to variables that are initialized outside the function. You'd need to pass any variable you need inside the function into the function when you call it.\n",
    "\n",
    "That's not true with Python. Python will let you access variables as long as they were created before the function call. But doing that is a terrible habit to get into, and will definitely cause difficult-to-debug errors. (You can all chastise Dr. B. when he does it in some upcoming lessons.)\n",
    "\n",
    "See the example below:"
   ]
  },
  {
   "cell_type": "code",
   "execution_count": 0,
   "metadata": {
    "collapsed": false
   },
   "outputs": [
   ],
   "source": [
    "def breakDeannasHeart():\n",
    "    return brokenHeart\n",
    "\n",
    "brokenHeart = 'This variable should never be used directly in a function because it was created outside the function and not passed in.'\n",
    "\n",
    "breakDeannasHeart()"
   ]
  },
  {
   "cell_type": "markdown",
   "metadata": {
    "collapsed": false
   },
   "source": [
    "## Functions with Pyomo\n",
    "Now that you have some basics under your belt, you'll need to think about a few things as you're designing your own functions for this course:\n",
    "\n",
    "* What data does your function need (what variables are you passing in)? \n",
    "* What does your function need to return?\n",
    "\n",
    "Let's go back to our favorite example, Wyndor. Remember that in the Wyndor model, we're trying to determine the number of doors and windows to make to maximize our profit. But, what if we have a three different markets for our products, and each market has slightly different profits? If we wanted to solve the problem for each market, we could write the code 3 times, with 3 different profit sets. Or, we could write a single function, and call it three times.\n",
    "\n",
    "In this case, the function needs the profits per batch passed in, and we want to return the maximum profit and the number of windows and doors. Let's see what that looks like."
   ]
  },
  {
   "cell_type": "code",
   "execution_count": 0,
   "metadata": {
    "collapsed": false
   },
   "outputs": [
   ],
   "source": [
    "# This bit of code can be outside the function, because we don't need to import each time we call the function\n",
    "from pyomo.environ import *\n",
    "import babel.numbers as numbers  # needed to display as currency\n",
    "\n",
    "\n",
    "#here's where our function starts\n",
    "def calcWyndorProfit(doorProfit, windowProfit):\n",
    "    # Concrete Model\n",
    "    model = ConcreteModel(name=\"Wyndor\")\n",
    "\n",
    "    products = ['drs', 'wdw']\n",
    "\n",
    "    bounds_dict = {'drs': (0, 4), 'wdw': (0, 6)}\n",
    "    def bounds_rule(model, product):\n",
    "        return (bounds_dict[product])\n",
    "    model.x = Var(products, domain=Reals, bounds=bounds_rule)\n",
    "\n",
    "    # Objective - Here we swapped out our hard-coded door and window profit for the variables we passed in\n",
    "    model.profit = Objective(expr=doorProfit * model.x['drs'] + windowProfit * model.x['wdw'],\n",
    "                             sense=maximize)\n",
    "\n",
    "    # Constraints\n",
    "    model.Constraint3 = Constraint(\n",
    "        expr=3.0 * model.x['drs'] + 2.0 * model.x['wdw'] <= 18)\n",
    "\n",
    "    # Solve\n",
    "    solver = SolverFactory('glpk')\n",
    "    solver.solve(model)\n",
    "    \n",
    "    #Here we are going to set up the variables to return\n",
    "    profit = numbers.format_currency(1000 * model.profit(), 'USD', locale='en_US')\n",
    "    doors = model.x['drs']()\n",
    "    windows = model.x['wdw']()\n",
    "    return(profit,doors,windows)\n"
   ]
  },
  {
   "cell_type": "markdown",
   "metadata": {
    "collapsed": false
   },
   "source": [
    "Now we have our function, but we haven't run it yet. To run it, we'll need to call it. We can call it a single time. Note that because our function returns 3 variables, we need to assign the output to three variables. In this case, the variables I'm assigning outside are the same names as the ones that are assigned inside. "
   ]
  },
  {
   "cell_type": "code",
   "execution_count": 0,
   "metadata": {
    "collapsed": false
   },
   "outputs": [
   ],
   "source": [
    "profit, doors, windows = calcWyndorProfit(3, 5)\n",
    "print(\"Profit = \",profit)\n",
    "print(\"Batches of Doors = \", doors)\n",
    "print(\"Batches of Windows = \", windows)"
   ]
  },
  {
   "cell_type": "markdown",
   "metadata": {
    "collapsed": false
   },
   "source": [
    "But, we can use any variable names when we assign the results of our functions. This works, too: (But don't name your variables like this. Future you will hate yourself.)"
   ]
  },
  {
   "cell_type": "code",
   "execution_count": 0,
   "metadata": {
    "collapsed": false
   },
   "outputs": [
   ],
   "source": [
    "zipp, zapp, zoop = calcWyndorProfit(3, 5)\n",
    "print(\"Profit = \",zipp)\n",
    "print(\"Batches of Doors = \", zapp)\n",
    "print(\"Batches of Windows = \", zoop)"
   ]
  },
  {
   "cell_type": "markdown",
   "metadata": {
    "collapsed": false
   },
   "source": [
    "We didn't really gain anything by writing a function yet. \n",
    "\n",
    "But, we can run the function in a loop. Here's where we just got way more efficient. Instead of copy/pasting all that code 3 times, we'll just call it with 3 different sets of profits!"
   ]
  },
  {
   "cell_type": "code",
   "execution_count": 0,
   "metadata": {
    "collapsed": false
   },
   "outputs": [
   ],
   "source": [
    "#set up a list of tuples - these are our window and door profits\n",
    "profits = [(3,5), (3,6),(2,5)]\n",
    "\n",
    "#loop through our list of tuples, calling the function once per tuple\n",
    "for p in profits:\n",
    "    profit, doors, windows = calcWyndorProfit(p[0], p[1]) #this is how you fetch each value out of the tuple\n",
    "    print(\"Profit = \",profit)\n",
    "    print(\"Batches of Doors = \", doors)\n",
    "    print(\"Batches of Windows = \", windows)"
   ]
  },
  {
   "cell_type": "markdown",
   "metadata": {
    "collapsed": false
   },
   "source": [
    "## Returning vs. Printing\n",
    "Functions can return variables or they can just print things out. In this example, I could have reduced  my coding even more by just printing in the function. (But, hey, I wanted to show returning multiple variables.)\n",
    "\n",
    "As an exercise for you, rewrite the Wyndor function so that it prints results instead of returning them."
   ]
  },
  {
   "cell_type": "code",
   "execution_count": 0,
   "metadata": {
    "collapsed": false
   },
   "outputs": [
   ],
   "source": [
   ]
  }
 ],
 "metadata": {
  "kernelspec": {
   "display_name": "Python 3 (system-wide)",
   "language": "python",
   "metadata": {
    "cocalc": {
     "description": "Python 3 programming language",
     "priority": 100,
     "url": "https://www.python.org/"
    }
   },
   "name": "python3",
   "resource_dir": "/ext/jupyter/kernels/python3"
  },
  "language_info": {
   "codemirror_mode": {
    "name": "ipython",
    "version": 3
   },
   "file_extension": ".py",
   "mimetype": "text/x-python",
   "name": "python",
   "nbconvert_exporter": "python",
   "pygments_lexer": "ipython3",
   "version": "3.7.4"
  }
 },
 "nbformat": 4,
 "nbformat_minor": 4
}