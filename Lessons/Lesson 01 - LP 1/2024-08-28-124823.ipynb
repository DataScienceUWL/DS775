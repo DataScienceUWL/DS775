{
 "cells": [
  {
   "cell_type": "code",
   "execution_count": 3,
   "id": "1de5ce",
   "metadata": {
    "code_folding": [
     0
    ],
    "collapsed": false
   },
   "outputs": [
   ],
   "source": [
    "# EXECUTE FIRST\n",
    "\n",
    "# computational imports\n",
    "from pyomo.environ import *\n",
    "\n",
    "# plotting imports\n",
    "import matplotlib.pyplot as plt\n",
    "import seaborn as sns\n",
    "sns.set_style(\"darkgrid\")\n",
    "\n",
    "# display imports# computational imports\n",
    "from pyomo.environ import *\n",
    "from IPython.display import display, IFrame\n",
    "from IPython.core.display import HTML\n",
    "\n",
    "# for playing videos, customize height and width if desired\n",
    "# keep a 16:9 ratio, e.g. 960 by 540, or 1280 by 720\n",
    "def play_video(vid_name, w=640, h=360):\n",
    "    vid_path = \"https://media.uwex.edu/content/ds/ds775_r19/\" + vid_name + \"/index.html\"\n",
    "    print(vid_path)\n",
    "    hlink = '<a href = ' + vid_path + ' target = \"\"\"_blank\"\"\">Open video in new tab</a>'\n",
    "    display(IFrame(vid_path, width=w, height=h))\n",
    "    display(HTML(hlink))\n"
   ]
  },
  {
   "cell_type": "markdown",
   "id": "4281d2",
   "metadata": {
    "collapsed": false
   },
   "source": [
    "<p><font size=18>Lesson 01: Linear Programming and Pyomo</font></p>"
   ]
  },
  {
   "cell_type": "markdown",
   "id": "4cbf84",
   "metadata": {
    "collapsed": false
   },
   "source": [
    "# Introduction and Set-Up"
   ]
  },
  {
   "cell_type": "markdown",
   "id": "7ce319",
   "metadata": {
    "collapsed": false
   },
   "source": [
    "## Course Overview and some Optimization Basics\n",
    "\n",
    "In the video below we'll preview some of the course content, explain why we chose this textbook, discuss why we're using Python, and introduce some optimization terminology."
   ]
  },
  {
   "cell_type": "code",
   "execution_count": 4,
   "id": "0a7762",
   "metadata": {
    "collapsed": false
   },
   "outputs": [
    {
     "name": "stdout",
     "output_type": "stream",
     "text": [
      "https://media.uwex.edu/content/ds/ds775_r19/ds775_course-overview/index.html\n"
     ]
    },
    {
     "data": {
      "text/html": [
       "\n",
       "        <iframe\n",
       "            width=\"640\"\n",
       "            height=\"360\"\n",
       "            src=\"https://media.uwex.edu/content/ds/ds775_r19/ds775_course-overview/index.html\"\n",
       "            frameborder=\"0\"\n",
       "            allowfullscreen\n",
       "            \n",
       "        ></iframe>\n",
       "        "
      ],
      "text/plain": [
       "<IPython.lib.display.IFrame at 0x7f680b55afe0>"
      ]
     },
     "execution_count": 4,
     "metadata": {
     },
     "output_type": "execute_result"
    },
    {
     "data": {
      "text/html": [
       "<a href = https://media.uwex.edu/content/ds/ds775_r19/ds775_course-overview/index.html target = \"\"\"_blank\"\"\">Open video in new tab</a>"
      ],
      "text/plain": [
       "<IPython.core.display.HTML object>"
      ]
     },
     "execution_count": 4,
     "metadata": {
     },
     "output_type": "execute_result"
    }
   ],
   "source": [
    "# Execute to play video\n",
    "play_video(\"ds775_course-overview\")"
   ]
  },
  {
   "cell_type": "markdown",
   "id": "92d36c",
   "metadata": {
    "collapsed": false
   },
   "source": [
    "## Introduction to CoCalc"
   ]
  },
  {
   "cell_type": "markdown",
   "id": "4772ab",
   "metadata": {
    "collapsed": false
   },
   "source": [
    "The video below demonstrates how we will use CoCalc in this class.  If you got this notebook without signing up for CoCalc (possible through github) then visit Canvas to find and follow the \"CoCalc and Jupyter Instructions\" handout before viewing the video.  Even if you setup your own Jupyter environment at home, you'll still need to submit your assignments via CoCalc.\n",
    "\n",
    "<font color=\"blue\">In CoCalc you can use this notebook in either the CoCalc interface, the Jupyter Classic View, or in Jupyter Lab.  Jupyter Lab is our personal favorite, but the CoCalc interface has automatic backups and other features.  \n",
    "**In the CoCalc interface always be sure to explicitly save your file(s) before exiting - press the green \"Save\" button if it isn't light green.** </font>"
   ]
  },
  {
   "cell_type": "code",
   "execution_count": 5,
   "id": "d326e4",
   "metadata": {
    "collapsed": false
   },
   "outputs": [
    {
     "name": "stdout",
     "output_type": "stream",
     "text": [
      "https://media.uwex.edu/content/ds/ds775_r19/ds775_cocalc-overview/index.html\n"
     ]
    },
    {
     "data": {
      "text/html": [
       "\n",
       "        <iframe\n",
       "            width=\"640\"\n",
       "            height=\"360\"\n",
       "            src=\"https://media.uwex.edu/content/ds/ds775_r19/ds775_cocalc-overview/index.html\"\n",
       "            frameborder=\"0\"\n",
       "            allowfullscreen\n",
       "            \n",
       "        ></iframe>\n",
       "        "
      ],
      "text/plain": [
       "<IPython.lib.display.IFrame at 0x7f680b559f30>"
      ]
     },
     "execution_count": 5,
     "metadata": {
     },
     "output_type": "execute_result"
    },
    {
     "data": {
      "text/html": [
       "<a href = https://media.uwex.edu/content/ds/ds775_r19/ds775_cocalc-overview/index.html target = \"\"\"_blank\"\"\">Open video in new tab</a>"
      ],
      "text/plain": [
       "<IPython.core.display.HTML object>"
      ]
     },
     "execution_count": 5,
     "metadata": {
     },
     "output_type": "execute_result"
    }
   ],
   "source": [
    "# Execute to play video\n",
    "play_video(\"ds775_cocalc-overview\")"
   ]
  },
  {
   "cell_type": "markdown",
   "id": "f7b721",
   "metadata": {
    "collapsed": false
   },
   "source": [
    "## Contents of each Lesson Directory\n",
    "\n",
    "The lesson structure and folder contents is pretty similar for all the lessons.  We'll show this one as an example, so you can know what to expect.\n",
    "\n",
    "Here is a partial tree view of the lesson directory contents:,\n",
    "\n",
    "```\n",
    "├── Lesson_01.ipynb\n",
    "├── Overview_01.ipynb\n",
    "├── Self_Assess_Solns_01.ipynb\n",
    "├── extras\n",
    "│   ├── Python Refresher - Functions.ipynb\n",
    "│   └── Python Refresher - Loops.ipynb\n",
    "├── images\n",
    "└── scripts\n",
    "```\n",
    "\n",
    "**Descriptions of the files:**\n",
    "\n",
    "* `Lesson_01.ipynb` - the main lesson file with presentations and self-assessment exercises.\n",
    "* `Overview_01.ipynb` - contains a list of lesson topics, objectives, and supplemental materials if any are available.\n",
    "* `Self_Assess_Solns_01.ipynb` - solutions to the self-assessment exercises in the Lesson notebook.\n",
    "* `extras` - if there are supplemental materials for the week they are contained in this directory.\n",
    "* `images` - directory containing image files used in the notebook.\n",
    "* `scripts` - directory contains code files that aren't important for the course content, but may be used to produce animations or other tools.\n",
    "\n",
    "## Our view of the provided materials\n",
    "\n",
    "It's our intention that you should lightly read the corresponding sections in the textbook (focus on applications and big picture, don't pay attention to details of algorithms or Excel instructions).  After reading the textbook work your way through the lesson notebook.  If you have time, go through each example and make sure you understand the implementation and solution.  Work Self-Assessment problems to solidify your understanding (we don't collect these).  Finally, start the homework and return to the lesson as needed.\n",
    "\n",
    "## What to do for homework\n",
    "\n",
    "Each Lesson has an accompanying homework notebook.  You should use the notebook to work out the solutions after which you'll enter the solutions in a Canvas quiz.  You get two attempts at each quiz (but you'll have to re-enter all the answers for the second attempt - that's a Canvas issue).  You should submit:\n",
    "\n",
    "* Your lesson notebook in CoCalc.  You don't have to do anything to submit, just make sure the completed notebook (.ipynb file) is in the original folder in CoCalc by the due date.  Make sure the notebook is clearly named, especially if there are multiple notebooks in the folder.\n",
    "* Complete the Canvas quiz by using your answers in the notebook.  You're allowed two attempts at the quiz prior to the due date.\n",
    "\n",
    "We've seen students mostly use two different approaches to homework:\n",
    "\n",
    "1.  Work completely and carefully through the lesson and Self-Assessment problems before beginning the homework.  Your goal is to have a solid understanding of the concepts and code before beginning the homework.  This approach may be too time-consuming for some students.\n",
    "2.  Loosely work through the lesson notebook before beginning the homework.  Your goal is developing awareness of the content and code before beginning the homework.  After developing a loose understanding of the lesson then start the homework and refer to the lesson to fill in details as needed.  This approach may be more time efficient for some students, but it's easy to fall into the trap of trying to copy and tweak code from the lesson without really understanding the code in the first place.  Tweaking code without really understanding it is inefficient and frustrating.\n",
    "\n"
   ]
  },
  {
   "cell_type": "markdown",
   "id": "aaa59c",
   "metadata": {
    "collapsed": false
   },
   "source": [
    "# What is a Linear Program?"
   ]
  },
  {
   "cell_type": "markdown",
   "id": "4d50a7",
   "metadata": {
    "collapsed": false
   },
   "source": [
    "The material in this chapter assumes that you're familiar with graphing lines, graphing inequalities, and solving linear equations.  If you need to refresh your memory of these topics there are many sources on the internet.  All of these topics may be found in this <a href=\"https://www.khanacademy.org/math/algebra\">free Algebra course at Khan Academy.</a>"
   ]
  },
  {
   "cell_type": "markdown",
   "id": "502e74",
   "metadata": {
    "collapsed": false
   },
   "source": [
    "**Before progressing through the remainder of this notebook, you really should have read Chapter 3 so that you know the basics of a linear program.**"
   ]
  },
  {
   "cell_type": "code",
   "execution_count": 6,
   "id": "4e2b3e",
   "metadata": {
    "collapsed": false,
    "scrolled": true
   },
   "outputs": [
    {
     "name": "stdout",
     "output_type": "stream",
     "text": [
      "https://media.uwex.edu/content/ds/ds775_r19/ds775_lesson1_what-is-linear-programming/index.html\n"
     ]
    },
    {
     "data": {
      "text/html": [
       "\n",
       "        <iframe\n",
       "            width=\"640\"\n",
       "            height=\"360\"\n",
       "            src=\"https://media.uwex.edu/content/ds/ds775_r19/ds775_lesson1_what-is-linear-programming/index.html\"\n",
       "            frameborder=\"0\"\n",
       "            allowfullscreen\n",
       "            \n",
       "        ></iframe>\n",
       "        "
      ],
      "text/plain": [
       "<IPython.lib.display.IFrame at 0x7f680b55ba90>"
      ]
     },
     "execution_count": 6,
     "metadata": {
     },
     "output_type": "execute_result"
    },
    {
     "data": {
      "text/html": [
       "<a href = https://media.uwex.edu/content/ds/ds775_r19/ds775_lesson1_what-is-linear-programming/index.html target = \"\"\"_blank\"\"\">Open video in new tab</a>"
      ],
      "text/plain": [
       "<IPython.core.display.HTML object>"
      ]
     },
     "execution_count": 6,
     "metadata": {
     },
     "output_type": "execute_result"
    }
   ],
   "source": [
    "# execute this cell for video\n",
    "play_video(\"ds775_lesson1_what-is-linear-programming\")"
   ]
  },
  {
   "cell_type": "markdown",
   "id": "e0350b",
   "metadata": {
    "collapsed": false
   },
   "source": [
    "<body style=\"background-color:#F75D59;\"> \n",
    "   <h3>IMPORTANT Correction to Video</h3>\n",
    "</body>\n",
    "In the video we say that constant terms do not violate the proportionality assumption, but the book disagrees with us.  According to the book $Z = 3x + 2y$ is OK, but $Z = 3x + 2y + 5$ is not OK.  This is a subtle, and unimportant, difference.  For the purposes of the homework we will say that **constants violate the proportionality assumption.** <br><br>\n"
   ]
  },
  {
   "cell_type": "markdown",
   "id": "d8caf1",
   "metadata": {
    "collapsed": false
   },
   "source": [
    "## *Self Assessment: LP Assumptions*"
   ]
  },
  {
   "cell_type": "markdown",
   "id": "af9976",
   "metadata": {
    "collapsed": false
   },
   "source": [
    "Read Hillier 3.3 and answer the questions below.  Solutions are found in the **Self_Assessment_Solutions** notebook.\n",
    "\n",
    "For parts (a) - (c) below, state which, if any, linear programming model assumptions are violated and why.\n",
    "\n",
    "(a) Maximize $Z = 2x_1 + 7x_2 + x_1 x_2,$ \n",
    "\n",
    "subject to \n",
    "\n",
    "$\n",
    "\\begin{array}{rcrcr}\n",
    "5 x_1 & + &  3 x_2 & \\leq & 30 \\\\\n",
    " x_1 & + &  3 x_2 & \\leq & 40 \\\\\n",
    "12 x_1 & + & x^2_2 & \\leq & 50\n",
    "\\end{array}\n",
    "$\n",
    "\n",
    "and $x_1 \\geq 0, x_2 \\geq 0.$\n",
    "\n",
    "(b) Minimize $Z = x_1 + 2x_2 + 3,$ \n",
    "\n",
    "subject to \n",
    "\n",
    "$\n",
    "\\begin{array}{rcrcr}\n",
    " & + &  5 x_2 & \\geq & 8 \\\\\n",
    " x_1 & + &  & \\geq & 4 \\\\\n",
    " x_1 & + & x_2 & \\geq & 10\n",
    "\\end{array}\n",
    "$\n",
    "\n",
    "and $x_1 = 1,2,3, \\ldots, x_2 = 1,2,3, \\ldots$\n",
    "\n",
    "(c)  Maximize $Z = 0.5 x + 0.3 y$\n",
    "\n",
    "subject to \n",
    "\n",
    "$\n",
    "\\begin{array}{rcrcr}\n",
    "2x & - & 0.1 y & \\leq & 2.5 \\\\\n",
    "0.25 x & + & 1 & \\leq & 5.5 \\\\\n",
    " 3 x & + & a_2 y & \\leq & 7.9\n",
    "\\end{array}\n",
    "$\n",
    "\n",
    "$x \\geq 0, y \\geq 0,$ \n",
    "\n",
    "$2 \\leq a_2 \\leq 3$\n",
    "\n",
    "<font color=\"red\">**Note:** We don't collect or grade the Self-Assessment questions (even though some of them have language that suggest you should submit something).  Do not submit the self-assessments.  The Self-Assessment solutions are included with each lesson in a separate Jupyter notebook.</font>"
   ]
  },
  {
   "cell_type": "markdown",
   "id": "fcbb49",
   "metadata": {
    "collapsed": false
   },
   "source": [
    "# Graphical Solutions\n",
    "\n",
    "The next video explains some basic ideas like feasible region and corner feasible point.  It's also pretty easy to get same information from reading the textbook, but watch the video below if you think it might be useful for you.  The video immediately following this one also mentions some of the same ideas."
   ]
  },
  {
   "cell_type": "code",
   "execution_count": 7,
   "id": "b3df53",
   "metadata": {
    "collapsed": false
   },
   "outputs": [
    {
     "name": "stdout",
     "output_type": "stream",
     "text": [
      "https://media.uwex.edu/content/ds/ds775_r19/ds775_lesson1_linear-programming-basics/index.html\n"
     ]
    },
    {
     "data": {
      "text/html": [
       "\n",
       "        <iframe\n",
       "            width=\"640\"\n",
       "            height=\"360\"\n",
       "            src=\"https://media.uwex.edu/content/ds/ds775_r19/ds775_lesson1_linear-programming-basics/index.html\"\n",
       "            frameborder=\"0\"\n",
       "            allowfullscreen\n",
       "            \n",
       "        ></iframe>\n",
       "        "
      ],
      "text/plain": [
       "<IPython.lib.display.IFrame at 0x7f680b55a830>"
      ]
     },
     "execution_count": 7,
     "metadata": {
     },
     "output_type": "execute_result"
    },
    {
     "data": {
      "text/html": [
       "<a href = https://media.uwex.edu/content/ds/ds775_r19/ds775_lesson1_linear-programming-basics/index.html target = \"\"\"_blank\"\"\">Open video in new tab</a>"
      ],
      "text/plain": [
       "<IPython.core.display.HTML object>"
      ]
     },
     "execution_count": 7,
     "metadata": {
     },
     "output_type": "execute_result"
    }
   ],
   "source": [
    "# execute this cell for video\n",
    "play_video(\"ds775_lesson1_linear-programming-basics\")"
   ]
  },
  {
   "cell_type": "markdown",
   "id": "284552",
   "metadata": {
    "collapsed": false
   },
   "source": [
    "## Paper Example (video)"
   ]
  },
  {
   "cell_type": "markdown",
   "id": "e21938",
   "metadata": {
    "collapsed": false
   },
   "source": [
    "Get \"old school\" and solve a graphical example with paper and pencil along with some graphing and algebra.  This video talks you through an example.  Doing this yourself will help your understanding (and appreciation) of how optimal solutions are found graphically using various software applications."
   ]
  },
  {
   "cell_type": "code",
   "execution_count": 27,
   "id": "281c7e",
   "metadata": {
    "code_folding": [
    ],
    "collapsed": false
   },
   "outputs": [
    {
     "name": "stdout",
     "output_type": "stream",
     "text": [
      "https://media.uwex.edu/content/ds/ds775_r19/ds775_lesson1-graphical-by-hand/index.html\n"
     ]
    },
    {
     "data": {
      "text/html": [
       "\n",
       "        <iframe\n",
       "            width=\"640\"\n",
       "            height=\"360\"\n",
       "            src=\"https://media.uwex.edu/content/ds/ds775_r19/ds775_lesson1-graphical-by-hand/index.html\"\n",
       "            frameborder=\"0\"\n",
       "            allowfullscreen\n",
       "            \n",
       "        ></iframe>\n",
       "        "
      ],
      "text/plain": [
       "<IPython.lib.display.IFrame at 0x7f8618b2bdf0>"
      ]
     },
     "execution_count": 27,
     "metadata": {
     },
     "output_type": "execute_result"
    },
    {
     "data": {
      "text/html": [
       "<a href = https://media.uwex.edu/content/ds/ds775_r19/ds775_lesson1-graphical-by-hand/index.html target = \"\"\"_blank\"\"\">Open video in new tab</a>"
      ],
      "text/plain": [
       "<IPython.core.display.HTML object>"
      ]
     },
     "execution_count": 27,
     "metadata": {
     },
     "output_type": "execute_result"
    }
   ],
   "source": [
    "# execute this cell for video\n",
    "play_video(\"ds775_lesson1-graphical-by-hand\")"
   ]
  },
  {
   "cell_type": "markdown",
   "id": "02fefc",
   "metadata": {
    "collapsed": false,
    "heading_collapsed": true
   },
   "source": [
    "### *Self Assessment: Paper and Pencil Method*"
   ]
  },
  {
   "cell_type": "markdown",
   "id": "77eac7",
   "metadata": {
    "collapsed": false,
    "hidden": true
   },
   "source": [
    "**Textbook Problem 3.1-6.** Use paper and pencil to solve this problem using the graphical method.\n",
    "\n",
    "Maximize $Z = 10x_1 + 20x_2,$ \n",
    "\n",
    "subject to \n",
    "\n",
    "$\n",
    "\\begin{array}{rcrcr}\n",
    "-x_1 & + & 2x_2 & \\leq & 15 \\\\\n",
    " x_1 & + &  x_2 & \\leq & 12 \\\\\n",
    "5x_1 & + & 3x_2 & \\leq & 45\n",
    "\\end{array}\n",
    "$\n",
    "\n",
    "and $x_1 \\geq 0, x_2 \\geq 0.$"
   ]
  },
  {
   "cell_type": "markdown",
   "id": "4c74fa",
   "metadata": {
    "collapsed": false,
    "heading_collapsed": true
   },
   "source": [
    "## Software for Graphical Solutions"
   ]
  },
  {
   "cell_type": "markdown",
   "id": "2c214b",
   "metadata": {
    "collapsed": false,
    "hidden": true
   },
   "source": [
    "<a href=\"https://www.desmos.com/\">Desmos</a> is a step up from \"paper and pencil\", but is still pretty hands-on.  While there are easier tools to use (e.g. PHPSimplex), we prefer using Desmos because it helps to understand the relationship between the equations, the feasible solutions, and the optimal solution."
   ]
  },
  {
   "cell_type": "code",
   "execution_count": 28,
   "id": "019d2e",
   "metadata": {
    "code_folding": [
     0
    ],
    "collapsed": false,
    "hidden": true
   },
   "outputs": [
    {
     "name": "stdout",
     "output_type": "stream",
     "text": [
      "https://media.uwex.edu/content/ds/ds775_r19/ds775_lesson1-graphical-example-desmos/index.html\n"
     ]
    },
    {
     "data": {
      "text/html": [
       "\n",
       "        <iframe\n",
       "            width=\"640\"\n",
       "            height=\"360\"\n",
       "            src=\"https://media.uwex.edu/content/ds/ds775_r19/ds775_lesson1-graphical-example-desmos/index.html\"\n",
       "            frameborder=\"0\"\n",
       "            allowfullscreen\n",
       "            \n",
       "        ></iframe>\n",
       "        "
      ],
      "text/plain": [
       "<IPython.lib.display.IFrame at 0x7f8633a6d6f0>"
      ]
     },
     "execution_count": 28,
     "metadata": {
     },
     "output_type": "execute_result"
    },
    {
     "data": {
      "text/html": [
       "<a href = https://media.uwex.edu/content/ds/ds775_r19/ds775_lesson1-graphical-example-desmos/index.html target = \"\"\"_blank\"\"\">Open video in new tab</a>"
      ],
      "text/plain": [
       "<IPython.core.display.HTML object>"
      ]
     },
     "execution_count": 28,
     "metadata": {
     },
     "output_type": "execute_result"
    }
   ],
   "source": [
    "# execute this cell for video\n",
    "play_video(\"ds775_lesson1-graphical-example-desmos\")"
   ]
  },
  {
   "cell_type": "markdown",
   "id": "6ba6e8",
   "metadata": {
    "collapsed": false,
    "hidden": true
   },
   "source": [
    "### *Self Assessment:  Graphical Method #1*"
   ]
  },
  {
   "cell_type": "markdown",
   "id": "dbd210",
   "metadata": {
    "collapsed": false,
    "hidden": true
   },
   "source": [
    "**Textbook Problem 3.1-9.** The Primo Insurance Company is introducing two new product lines: special risk insurance and mortgages. The expected profit is \\$5 per unit on special risk insurance and \\$2 per unit on mortgages.  Management wishes to establish sales quotas for the new product lines to maximize total expected profit. The work requirements are as follows:\n",
    "\n",
    "<img src=\"images/screen-problem2.png\" width=\"440\">\n",
    "\n",
    "(a) Formulate a linear programming model for this problem.\n",
    "\n",
    "(b) Use <a href=\"http://www.desmos.com\">Desmos</a> to solve this model using the graphical method. Paste screenshots of your solution into your homework file.\n",
    "\n",
    "(c) Verify the exact value of your optimal solution from  (b)\n",
    "  by solving algebraically for the simultaneous solution of the\n",
    "  relevant two equations\n",
    "\n"
   ]
  },
  {
   "cell_type": "markdown",
   "id": "78eab4",
   "metadata": {
    "collapsed": false,
    "heading_collapsed": true,
    "hidden": true
   },
   "source": [
    "### *Self Assessment: Graphical Method #2*"
   ]
  },
  {
   "cell_type": "markdown",
   "id": "4346f2",
   "metadata": {
    "collapsed": false,
    "hidden": true
   },
   "source": [
    "**Textbook Problem 3.2-3.** This is your lucky day. You have just won a \\$20,000\n",
    "  prize. You are setting aside \\$8,000 for taxes and partying\n",
    "  expenses, but you have decided to invest the other \\$12,000. Upon\n",
    "  hearing this news, two different friends have offered you an\n",
    "  opportunity to become a partner in two different entrepreneurial\n",
    "  ventures, one planned by each friend. In both cases, this investment\n",
    "  would involve expending some of your time next summer as well as\n",
    "  putting up cash. Becoming a full partner in the first friend’s\n",
    "  venture would require an investment of \\$10,000 and 400 hours, and\n",
    "  your estimated profit (ignoring the value of your time) would be\n",
    "  \\$9,000. The corresponding figures for the second friend’s venture\n",
    "  are \\$8,000 and 500 hours, with an estimated profit to you of\n",
    "  \\$9,000. However, both friends are flexible and would allow you to\n",
    "  come in at any fraction of a full partnership you would like. If you\n",
    "  choose a fraction of a full partnership, all the above figures given\n",
    "  for a full partnership (money investment, time investment, and your\n",
    "  profit) would be multiplied by this same fraction.  Because you were\n",
    "  looking for an interesting summer job anyway (maximum of 600 hours),\n",
    "  you have decided to participate in one or both friends’ ventures in\n",
    "  whichever combination would maximize your total estimated\n",
    "  profit. You now need to solve the problem of finding the best\n",
    "  combination.\n",
    "  \n",
    "(a) Describe the analogy between this problem and\n",
    "  the Wyndor Glass Co. problem discussed in Sec. 3.1. Then construct\n",
    "  and fill in a table like Table 3.1 for this problem, identifying\n",
    "  both the activities and the resources.  \n",
    "\n",
    "(b) Formulate a linear\n",
    "  programming model for this problem.  \n",
    "\n",
    "(c) Use <a href=\"http://www.desmos.com\">Desmos</a> to solve this model by the graphical\n",
    "  method. What are the values of the decision variables at the optimal solution?  What is the estimated profit?  "
   ]
  },
  {
   "cell_type": "markdown",
   "id": "8c19ce",
   "metadata": {
    "collapsed": false,
    "heading_collapsed": true,
    "hidden": true
   },
   "source": [
    "### *Self Assessment: Graphical Method #3*"
   ]
  },
  {
   "cell_type": "markdown",
   "id": "583f1e",
   "metadata": {
    "collapsed": false,
    "hidden": true,
    "jupyter": {
     "source_hidden": false
    }
   },
   "source": [
    "**Textbook Problem 3.2-4.** Use the graphical method to find all optimal soutions for the\n",
    "following model:  \n",
    "\n",
    "Maximize $Z = 500x_1 + 300x_2,$ \n",
    "\n",
    "subject to \n",
    "\n",
    "$\n",
    "\\begin{array}{rcrcr}\n",
    "15 x_1 & + &  5 x_2 & \\leq & 300 \\\\\n",
    "10 x_1 & + &   6 x_2 & \\leq & 240 \\\\\n",
    "8x_1 & + & 12x_2 & \\leq & 450\n",
    "\\end{array}\n",
    "$\n",
    "\n",
    "and $x_1 \\geq 0, x_2 \\geq 0.$\n"
   ]
  },
  {
   "cell_type": "markdown",
   "id": "71afd0",
   "metadata": {
    "collapsed": false
   },
   "source": [
    "## *Self Assessment:  Graphical Method #4*"
   ]
  },
  {
   "cell_type": "markdown",
   "id": "c96bbe",
   "metadata": {
    "collapsed": false
   },
   "source": [
    "**Textbook Problem 3.4-4.** Use the graphical method to solve the problem:  \n",
    "\n",
    "**Minimize** $Z = 15x_1 + 20x_2,$ \n",
    "\n",
    "subject to \n",
    "\n",
    "$\n",
    "\\begin{array}{rcrcr}\n",
    "x_1 & + & 2x_2 & \\geq & 10 \\\\\n",
    "2 x_1 & - &  3x_2 & \\leq & 6 \\\\\n",
    "x_1 & + & x_2 & \\geq & 6\n",
    "\\end{array}\n",
    "$\n",
    "\n",
    "and $x_1 \\geq 0, x_2 \\geq 0.$ "
   ]
  },
  {
   "cell_type": "markdown",
   "id": "68df16",
   "metadata": {
    "collapsed": false,
    "heading_collapsed": true
   },
   "source": [
    "## Unbounded Regions"
   ]
  },
  {
   "cell_type": "markdown",
   "id": "027735",
   "metadata": {
    "collapsed": false,
    "hidden": true
   },
   "source": [
    "## *Self Assessment:  Unbounded Region*\n",
    "\n",
    "Explore the linear program below using Desmos.  The goal here is to understand that a linear program is not guaranteed to have a maximum value or a minimum value on an unbounded region.  It depends on how the objective function is \"oriented\" with respect to the feasible region.\n",
    "\n",
    "Optimize $Z = c_1 x_1 + c_2 x_2,$ \n",
    "\n",
    "subject to \n",
    "\n",
    "$\n",
    "\\begin{array}{rcrcr}\n",
    "    &   &  x_2 & \\leq & 5 \\\\\n",
    "x_1 & + &  x_2 & \\geq & 2\n",
    "\\end{array}\n",
    "$\n",
    "\n",
    "and $x_1 \\geq 0, x_2 \\geq 0.$ \n",
    "\n",
    "In this problem there is no upper bound on $x_1$ so the feasible region is a strip that extends to infinity in the horizontal direction.\n",
    "\n",
    "Try and answer the questions below using the Desmos graph in the next cell.\n",
    "\n",
    "1. Using values of $c_1 = 3, c_2 = 2$ so that $Z = 3 x_1 + 2 x_2$  Is there a minimum value?  Is there a maximum value?\n",
    "2. Now change the coefficients c1 and c2 ($ Z = c_1 x + c_2 y $).  Can you find an objective function that has maximum value but no minimum value?\n",
    "3. Find coefficients c1 and c2 so that there are infinitely many maxima."
   ]
  },
  {
   "cell_type": "code",
   "execution_count": 29,
   "id": "4165db",
   "metadata": {
    "collapsed": false,
    "hidden": true
   },
   "outputs": [
    {
     "data": {
      "text/html": [
       "\n",
       "        <iframe\n",
       "            width=\"800\"\n",
       "            height=\"600\"\n",
       "            src=\"https://www.desmos.com/calculator/dbixzrgtca\"\n",
       "            frameborder=\"0\"\n",
       "            allowfullscreen\n",
       "            \n",
       "        ></iframe>\n",
       "        "
      ],
      "text/plain": [
       "<IPython.lib.display.IFrame at 0x7f8618b2b7f0>"
      ]
     },
     "execution_count": 29,
     "metadata": {
     },
     "output_type": "execute_result"
    }
   ],
   "source": [
    "# execute this cell for Desmos Graph\n",
    "from IPython.display import IFrame\n",
    "IFrame('https://www.desmos.com/calculator/dbixzrgtca', width=800, height = 600)"
   ]
  },
  {
   "cell_type": "markdown",
   "id": "52f89d",
   "metadata": {
    "collapsed": false
   },
   "source": [
    "# Solving Linear Programs with Pyomo"
   ]
  },
  {
   "cell_type": "markdown",
   "id": "059d7c",
   "metadata": {
    "collapsed": false,
    "heading_collapsed": true
   },
   "source": [
    "## What is Pyomo?"
   ]
  },
  {
   "cell_type": "markdown",
   "id": "cb27c9",
   "metadata": {
    "collapsed": false,
    "hidden": true
   },
   "source": [
    "* A Python framework for formulating optimization models\n",
    "* Similar to other mathematical programming languages such as AMPL and LINDO (see page 72 in the textbook)\n",
    "* Uses natural math syntax for models (we'll get into examples below)\n",
    "* Allows separation of the model from the data to formulate large models concisely\n",
    "* Works with many solvers including GLPK, CPLEX, Gurobi, etc.\n",
    "\n",
    "Pyomo is an example of a declarative programming language.  Instead of specifying exactly how to get the solution (imperative programming) we *declare* the problem mathematically.  Pyomo then translates the mathematical problem into a computer problem that can be solved by one of many available solvers."
   ]
  },
  {
   "cell_type": "markdown",
   "id": "5b5bfa",
   "metadata": {
    "collapsed": false
   },
   "source": [
    "## Pyomo Resources"
   ]
  },
  {
   "cell_type": "markdown",
   "id": "be8651",
   "metadata": {
    "collapsed": false
   },
   "source": [
    "Some resources to help you learn more about Pyomo:\n",
    "    \n",
    "* <a href=\"https://pyomo.readthedocs.io/en/stable/\"> The Official Pyomo Documentation. </a> \n",
    "* The <a href=\"https://www.osti.gov/servlets/purl/1376827\"> Pyomo Tutorial </a> is a large set of slides from the Pyomo developers at Sandia National Labs\n",
    "* Professor Jeffrey Cantor's <a href=\"https://jckantor.github.io/ND-Pyomo-Cookbook/\"> ND Pyomo Cookbook </a> gives many examples\n",
    "* <a href = \"https://github.com/Pyomo/PyomoGallery\"> The Pyomo Gallery </a> also has several examples."
   ]
  },
  {
   "cell_type": "markdown",
   "id": "cd57fd",
   "metadata": {
    "collapsed": false,
    "heading_collapsed": true
   },
   "source": [
    "## Installing Pyomo and GLPK"
   ]
  },
  {
   "cell_type": "markdown",
   "id": "662e5c",
   "metadata": {
    "collapsed": false,
    "hidden": true
   },
   "source": [
    "If you're working in CoCalc these are already installed.  If you want to install them at home we suggest using the Anocanda distribution, then in a terminal window:\n",
    "\n",
    "install Pyomo with:\n",
    "```conda install -c conda-forge pyomo```\n",
    "\n",
    "install GLPK with:\n",
    "```conda install -c conda-forge glpk```\n",
    "\n",
    "## Solution Algorithms behind Pyomo\n",
    "\n",
    "Pyomo works with a wide variety of solvers, but the Pyomo code remains the same. There are two main types of solvers:\n",
    "* those based on the simplex method\n",
    "* interior point methods\n",
    "\n",
    "Both of these are discussed in some detail in the textbook in Chapter 4.  We won't go into the details behind these methods, but for most problems they behave similarly in terms of performance.  Linear programs with thousands of variables are now fairly routine for most solvers.  GLPK is based on the simplex method."
   ]
  },
  {
   "cell_type": "markdown",
   "id": "5e5d86",
   "metadata": {
    "collapsed": false,
    "heading_collapsed": true
   },
   "source": [
    "## Two kinds of Pyomo models"
   ]
  },
  {
   "cell_type": "markdown",
   "id": "7125c6",
   "metadata": {
    "collapsed": false,
    "hidden": true
   },
   "source": [
    "**Concrete Models:** data first, then model:\n",
    "\n",
    "<img src=\"images/concrete_model.png\" width=\"220\">\n",
    "\n",
    "* 1-pass construction: numerical constants supplied as model is built\n",
    "* easier to script\n",
    "* harder to reuse model\n",
    "\n",
    "**Abstract Models:** model first, then data:\n",
    "\n",
    "<img src=\"images/abstract_model.png\" width=\"320\">\n",
    "\n",
    "* 2-pass construction\n",
    "* Pass 1: Model is constructed with unknown numerical constants\n",
    "* Pass 2: Numerical constants added from separate file at runtime\n",
    "* harder to script\n",
    "* **easier for large problems and model reuse**\n",
    "\n",
    "We'll stick to concrete models in this course, but we'll take steps toward making them abstract by separating the data and the model."
   ]
  },
  {
   "cell_type": "markdown",
   "id": "a8f5b8",
   "metadata": {
    "collapsed": false
   },
   "source": [
    "## Pyomo Example"
   ]
  },
  {
   "cell_type": "markdown",
   "id": "02a785",
   "metadata": {
    "collapsed": false,
    "heading_collapsed": true
   },
   "source": [
    "### Wyndor Glass Company"
   ]
  },
  {
   "cell_type": "markdown",
   "id": "9f7b6a",
   "metadata": {
    "collapsed": false,
    "hidden": true
   },
   "source": [
    "Here is the Wyndor model as described in the textbook.  $Z$ is the profit in thousands of dollars.  $d$ and $w$ are the batches of doors and windows, respectively.  The constraints, in order, represent the production capacities of Plants 1, 2, and 3.\n",
    "\n",
    "Maximize $Z = 3 d + 5 w$\n",
    "\n",
    "Subject to:\n",
    "\n",
    "$\n",
    "\\begin{array}{ccccc}\n",
    " d &   &    & \\leq & 4 \\\\\n",
    "   &   & 2w & \\leq & 12 \\\\\n",
    "3d & + & 2w & \\leq & 18\n",
    "\\end{array}\n",
    "$\n",
    "\n",
    "$d \\geq 0$, $w \\geq 0$"
   ]
  },
  {
   "cell_type": "markdown",
   "id": "69b098",
   "metadata": {
    "collapsed": false
   },
   "source": [
    "### First Pyomo Solution"
   ]
  },
  {
   "cell_type": "markdown",
   "id": "c8cbfb",
   "metadata": {
    "collapsed": false,
    "heading_collapsed": true
   },
   "source": [
    "#### Video: Code Walkthrough"
   ]
  },
  {
   "cell_type": "code",
   "execution_count": 30,
   "id": "69b9bd",
   "metadata": {
    "collapsed": false,
    "hidden": true
   },
   "outputs": [
    {
     "name": "stdout",
     "output_type": "stream",
     "text": [
      "https://media.uwex.edu/content/ds/ds775_r19/ds775_lesson1-wyndor1/index.html\n"
     ]
    },
    {
     "data": {
      "text/html": [
       "\n",
       "        <iframe\n",
       "            width=\"640\"\n",
       "            height=\"360\"\n",
       "            src=\"https://media.uwex.edu/content/ds/ds775_r19/ds775_lesson1-wyndor1/index.html\"\n",
       "            frameborder=\"0\"\n",
       "            allowfullscreen\n",
       "            \n",
       "        ></iframe>\n",
       "        "
      ],
      "text/plain": [
       "<IPython.lib.display.IFrame at 0x7f8618b2b700>"
      ]
     },
     "execution_count": 30,
     "metadata": {
     },
     "output_type": "execute_result"
    },
    {
     "data": {
      "text/html": [
       "<a href = https://media.uwex.edu/content/ds/ds775_r19/ds775_lesson1-wyndor1/index.html target = \"\"\"_blank\"\"\">Open video in new tab</a>"
      ],
      "text/plain": [
       "<IPython.core.display.HTML object>"
      ]
     },
     "execution_count": 30,
     "metadata": {
     },
     "output_type": "execute_result"
    }
   ],
   "source": [
    "# execute this cell for video\n",
    "play_video(\"ds775_lesson1-wyndor1\")"
   ]
  },
  {
   "cell_type": "markdown",
   "id": "273b11",
   "metadata": {
    "collapsed": false
   },
   "source": [
    "#### Pyomo Solution"
   ]
  },
  {
   "cell_type": "code",
   "execution_count": 31,
   "id": "e6c67b",
   "metadata": {
    "code_folding": [
    ],
    "collapsed": false
   },
   "outputs": [
    {
     "name": "stdout",
     "output_type": "stream",
     "text": [
      "Maximum Profit = $36,000.00\n",
      "Batches of Doors = 2.0\n",
      "Batches of Windows = 6.0\n",
      "18.0\n"
     ]
    }
   ],
   "source": [
    "# Concrete Model\n",
    "model = ConcreteModel(name=\"Wyndor\")\n",
    "\n",
    "# Decision Variables\n",
    "model.doors = Var(domain=Reals)\n",
    "model.windows = Var(domain=Reals)\n",
    "\n",
    "# Objective\n",
    "model.profit = Objective(expr=3.0 * model.doors + 5.0 * model.windows,\n",
    "                         sense=maximize)\n",
    "\n",
    "# Constraints\n",
    "model.Plant1 = Constraint(expr=model.doors <= 4)\n",
    "model.Plant2 = Constraint(expr=2.0 * model.windows <= 12)\n",
    "model.Plant3 = Constraint(expr=3.0 * model.doors + 2.0 * model.windows <= 18)\n",
    "model.dgeq0 = Constraint(expr=model.doors >= 0)\n",
    "model.wgeq0 = Constraint(expr=model.windows >= 0)\n",
    "\n",
    "# Solve\n",
    "solver = SolverFactory('glpk')\n",
    "solver.solve(model)\n",
    "\n",
    "#display(model)\n",
    "\n",
    "# display solution\n",
    "print(f\"Maximum Profit = ${1000*model.profit():,.2f}\")\n",
    "print(f\"Batches of Doors = {model.doors():.1f}\")\n",
    "print(f\"Batches of Windows = {model.windows():.1f}\")\n",
    "print(model.Plant3())\n",
    "\n",
    "# NOTE:  the string formatting was updated from the video, we're now using f-strings, short for formatted string literals, for cleaner and more \"pythonic\" formatting\n",
    "# Learn more here:  https://realpython.com/python-f-strings/ and http://zetcode.com/python/fstring/"
   ]
  },
  {
   "cell_type": "markdown",
   "id": "7d0d27",
   "metadata": {
    "collapsed": false
   },
   "source": [
    "#### *Self-Assessment: Specifying Bounds*"
   ]
  },
  {
   "cell_type": "markdown",
   "id": "bfa7d9",
   "metadata": {
    "collapsed": false
   },
   "source": [
    "Non-negativity constraints like $d\\geq0$ can be included in the variable declarations by changing ```domain=Reals``` to ```domain=NonNegativeReals```.  \n",
    "\n",
    "We can also include lower and upper bounds in the variable declarations like this: ```model.doors = Var(domain=Reals, bounds = (0,4) )```.  \n",
    "\n",
    "*Try this:*  Copy the Pyomo Wyndor solution into a new code block, add appropriate bounds to the doors and windows variables and delete all constraints except the constraint for Plant 3.  Run the code.  Do you get the same answer?"
   ]
  },
  {
   "cell_type": "code",
   "execution_count": 0,
   "id": "d7bf23",
   "metadata": {
    "collapsed": false
   },
   "outputs": [
   ],
   "source": [
   ]
  },
  {
   "cell_type": "markdown",
   "id": "66e380",
   "metadata": {
    "collapsed": false
   },
   "source": [
    "### Pyomo solution using a vector of decision variables"
   ]
  },
  {
   "cell_type": "markdown",
   "id": "dc2eb8",
   "metadata": {
    "collapsed": false
   },
   "source": [
    "#### Video: Code Walkthrough"
   ]
  },
  {
   "cell_type": "code",
   "execution_count": 32,
   "id": "fe5958",
   "metadata": {
    "code_folding": [
     0
    ],
    "collapsed": false
   },
   "outputs": [
    {
     "name": "stdout",
     "output_type": "stream",
     "text": [
      "https://media.uwex.edu/content/ds/ds775_r19/ds775_lesson1-wyndor2/index.html\n"
     ]
    },
    {
     "data": {
      "text/html": [
       "\n",
       "        <iframe\n",
       "            width=\"640\"\n",
       "            height=\"360\"\n",
       "            src=\"https://media.uwex.edu/content/ds/ds775_r19/ds775_lesson1-wyndor2/index.html\"\n",
       "            frameborder=\"0\"\n",
       "            allowfullscreen\n",
       "            \n",
       "        ></iframe>\n",
       "        "
      ],
      "text/plain": [
       "<IPython.lib.display.IFrame at 0x7f8633a6d510>"
      ]
     },
     "execution_count": 32,
     "metadata": {
     },
     "output_type": "execute_result"
    },
    {
     "data": {
      "text/html": [
       "<a href = https://media.uwex.edu/content/ds/ds775_r19/ds775_lesson1-wyndor2/index.html target = \"\"\"_blank\"\"\">Open video in new tab</a>"
      ],
      "text/plain": [
       "<IPython.core.display.HTML object>"
      ]
     },
     "execution_count": 32,
     "metadata": {
     },
     "output_type": "execute_result"
    }
   ],
   "source": [
    "# execute this cell for video\n",
    "play_video(\"ds775_lesson1-wyndor2\")"
   ]
  },
  {
   "cell_type": "markdown",
   "id": "ab190e",
   "metadata": {
    "collapsed": false
   },
   "source": [
    "#### Pyomo Solutions"
   ]
  },
  {
   "cell_type": "code",
   "execution_count": 12,
   "id": "6a1c99",
   "metadata": {
    "code_folding": [
    ],
    "collapsed": false
   },
   "outputs": [
    {
     "name": "stdout",
     "output_type": "stream",
     "text": [
      "Maximum Profit = $36,000.00\n",
      "Batches of Doors = 2.0\n",
      "Batches of Windows = 6.0\n"
     ]
    }
   ],
   "source": [
    "# Concrete Model\n",
    "model = ConcreteModel(name=\"Wyndor\")\n",
    "\n",
    "products = ['drs', 'wdw']\n",
    "\n",
    "bounds_dict = {'drs': (0, 4), 'wdw': (0, 6)}\n",
    "def bounds_rule(model, product):\n",
    "    return (bounds_dict[product])\n",
    "\n",
    "model.x = Var(products, domain=Reals, bounds=bounds_rule)\n",
    "\n",
    "# Objective\n",
    "model.profit = Objective(expr=3.0 * model.x['drs'] + 5.0 * model.x['wdw'],\n",
    "                         sense=maximize)\n",
    "\n",
    "# Constraints\n",
    "model.Constraint3 = Constraint(\n",
    "    expr=3.0 * model.x['drs'] + 2.0 * model.x['wdw'] <= 18)\n",
    "\n",
    "# Solve\n",
    "solver = SolverFactory('glpk')\n",
    "solver.solve(model)\n",
    "\n",
    "# display(model)\n",
    "\n",
    "# display solution\n",
    "print(f\"Maximum Profit = ${1000*model.profit():,.2f}\")\n",
    "print(f\"Batches of Doors = {model.x['drs']():.1f}\")\n",
    "print(f\"Batches of Windows = {model.x['wdw']():.1f}\")"
   ]
  },
  {
   "cell_type": "markdown",
   "id": "46a093",
   "metadata": {
    "collapsed": false
   },
   "source": [
    "### *Self-Assessment: Formulate and Solve #1*"
   ]
  },
  {
   "cell_type": "markdown",
   "id": "0808b6",
   "metadata": {
    "collapsed": false
   },
   "source": [
    "**Textbook Problem 3.4-8 (a,c)** Ralph Edmund loves steak and potatoes. Therefore, he has\n",
    "  decided to go on a steady diet of only these two foods (plus some\n",
    "  liquids and vitamin supplements) for all his meals. Ralph realizes\n",
    "  that this isn’t the healthiest diet, so he wants to make sure that\n",
    "  he eats the right quantities of the two foods to satisfy some key\n",
    "  nutritional requirements. He has obtained the nutritional and cost\n",
    "  information shown below.  Ralph wishes to\n",
    "  determine the number of daily servings (can be fractional) of steak\n",
    "  and potatoes that will meet these requirements at a minimum cost.\n",
    "  \n",
    "<img src=\"images/screen-problem3.png\" alt=\"Solution\" width=\"440\" height=\"250\">\n",
    "\n",
    "(a) Formulate a mathematical model (the linear program) for this problem.\n",
    "\n",
    "(c) Use Pyomo to solve the model.  Report the minimum cost as well as the number of servings each of steak and potatoes at the minimum."
   ]
  },
  {
   "cell_type": "markdown",
   "id": "e71c55",
   "metadata": {
    "collapsed": false
   },
   "source": [
    "# Start to Finish: Formulate a Model and Code it in Pyomo "
   ]
  },
  {
   "cell_type": "markdown",
   "id": "a8a249",
   "metadata": {
    "collapsed": false,
    "heading_collapsed": true
   },
   "source": [
    "## Problem Description (video)"
   ]
  },
  {
   "cell_type": "markdown",
   "id": "a91dca",
   "metadata": {
    "collapsed": false,
    "hidden": true
   },
   "source": [
    "This is problem 3.4-9, page 85, from the textbook.\n",
    "\n",
    "Web Mercantile sells many household products through an online catalog. The company needs substantial warehouse space for storing its goods. Plans now are being made for leasing warehouse storage space over the next 5 months. Just how much space will be required in each of these months is known. However, since these space requirements are quite different, it may be most economical to lease only the amount needed each month on a month-by-month basis. On the other hand, the additional cost for leasing space for additional months is much less than for the first month, so it may be less expensive to lease the maximum amount required for the entire 5 months. Another option is the intermediate approach of changing the total amount of space leased (by adding a new lease and/or having an old lease expire) at least once but not every month.\n",
    "\n",
    "The space requirement and the leasing costs for the various leasing periods are as follows:"
   ]
  },
  {
   "cell_type": "code",
   "execution_count": 13,
   "id": "7343fb",
   "metadata": {
    "code_folding": [
     0
    ],
    "collapsed": false,
    "hidden": true
   },
   "outputs": [
    {
     "data": {
      "iframe": "0a241ab8a2e0e01666881d99cabe9ba52a8eb556",
      "text/plain": "<IPython.lib.display.IFrame at 0x7f4f8ee3d9d0>"
     },
     "output_type": "execute_result"
    },
    {
     "data": {
      "text/html": [
       "<a href = https://media.uwex.edu/content/ds/ds775_r19/ds775_lesson1-ex-3-4-9-model-requirements/index.html target = \"\"\"_blank\"\"\">Open video in new tab</a>"
      ],
      "text/plain": [
       "<IPython.core.display.HTML object>"
      ]
     },
     "execution_count": 13,
     "metadata": {
     },
     "output_type": "execute_result"
    }
   ],
   "source": [
    "# execute this cell for video\n",
    "play_video(\"ds775_lesson1-ex-3-4-9-model-requirements\")"
   ]
  },
  {
   "cell_type": "markdown",
   "id": "492dec",
   "metadata": {
    "collapsed": false,
    "heading_collapsed": true
   },
   "source": [
    "## Mathematical Formulation (video)"
   ]
  },
  {
   "cell_type": "code",
   "execution_count": 14,
   "id": "e033c2",
   "metadata": {
    "code_folding": [
    ],
    "collapsed": false,
    "hidden": true
   },
   "outputs": [
    {
     "data": {
      "iframe": "091cbcbeb2d361d529f24501bdf8ad7e263c4e26",
      "text/plain": "<IPython.lib.display.IFrame at 0x7f4f8ee3de80>"
     },
     "output_type": "execute_result"
    },
    {
     "data": {
      "text/html": [
       "<a href = https://media.uwex.edu/content/ds/ds775_r19/ds775_lesson1-ex-3-4-9-model-formulation/index.html target = \"\"\"_blank\"\"\">Open video in new tab</a>"
      ],
      "text/plain": [
       "<IPython.core.display.HTML object>"
      ]
     },
     "execution_count": 14,
     "metadata": {
     },
     "output_type": "execute_result"
    }
   ],
   "source": [
    "# execute this cell for video\n",
    "play_video(\"ds775_lesson1-ex-3-4-9-model-formulation\")"
   ]
  },
  {
   "cell_type": "markdown",
   "id": "129475",
   "metadata": {
    "collapsed": false,
    "hidden": true
   },
   "source": [
    "Using design variables $x_{ij}$ that represent the square feet leased for $j$ months beginning in the $i^{th}$ month, the model is\n",
    "\n",
    "Minimize $Z =65(x_{11} +x_{21} +x_{31} +x_{41} +x_{51})+100(x_{12} +x_{22} +x_{32} +x_{42}) +135(x_{13} + x_{23} + x_{33}) + 160(x_{14} + x_{24}) + 190x_{15}$\n",
    "\n",
    "Subject to:\n",
    "\n",
    "$\n",
    "\\begin{array}{lcl}\n",
    " x_{11} + x_{12} + x_{13} + x_{14} + x_{15} & \\geq & 30,000 \\\\\n",
    " x_{12} + x_{13} + x_{14} + x_{15} + x_{21} + x_{22} + x_{23} + x_{24} & \\geq & 20,000 \\\\\n",
    "x_{13} + x_{14} + x_{15} + x_{22} + x_{23} + x_{24} + x_{31} + x_{32} + x_{33} & \\geq & 40,000 \\\\\n",
    "x_{14} + x_{15} + x_{23} + x_{24} + x_{32} + x_{33} + x_{41} + x_{42} & \\geq & 10,000  \\\\\n",
    "x_{15} + x_{24} + x_{33} + x_{42} + x_{51} & \\geq & 50,000 \\\\\n",
    "\\end{array}\n",
    "$\n",
    "\n",
    "and all $x_{ij} \\geq 0$.\n",
    "\n",
    "To learn about typesetting mathematics like this go to the section below labeled \"Typesetting mathematical notation with LaTeX code.\""
   ]
  },
  {
   "cell_type": "markdown",
   "id": "60ed36",
   "metadata": {
    "collapsed": false,
    "heading_collapsed": true
   },
   "source": [
    "## Solving the model in Pyomo"
   ]
  },
  {
   "cell_type": "code",
   "execution_count": 15,
   "id": "f836d6",
   "metadata": {
    "code_folding": [
     0
    ],
    "collapsed": false,
    "hidden": true,
    "scrolled": true
   },
   "outputs": [
    {
     "name": "stdout",
     "output_type": "stream",
     "text": [
      "Total Cost = $7,650,000.00\n",
      "Lease 30000 sq. ft. in month 1 for 5 months\n",
      "Lease 10000 sq. ft. in month 3 for 1 month\n",
      "Lease 20000 sq. ft. in month 5 for 1 month\n"
     ]
    }
   ],
   "source": [
    "# Concrete Model\n",
    "model = ConcreteModel(name = \"WebMerc\")\n",
    "\n",
    "# Decision Variables\n",
    "model.x = Var( ['x11','x12','x13','x14','x15','x21','x22','x23','x24',\n",
    "                'x31','x32','x33','x41','x42','x51'], \n",
    "              domain = NonNegativeReals )\n",
    "\n",
    "# Objective \n",
    "model.obj = Objective( expr = 65 * (model.x['x11'] + model.x['x21'] + model.x['x31'] + \n",
    "                                   model.x['x41'] + model.x['x51']) + \n",
    "                      100 * (model.x['x12'] + model.x['x22'] + model.x['x32'] + \n",
    "                            model.x['x42']) + \n",
    "                      135 * (model.x['x13'] + model.x['x23'] + model.x['x33']) + \n",
    "                      160 * (model.x['x14'] + model.x['x24']) + \n",
    "                      190 * model.x['x15'], sense = minimize)\n",
    "\n",
    "# Constraints\n",
    "model.Constraint1 = Constraint( expr = model.x['x11'] + model.x['x12'] + model.x['x13'] +\n",
    "                               model.x['x14'] + model.x['x15'] >= 30000 )\n",
    "model.Constraint2 = Constraint( expr = model.x['x12'] + model.x['x13'] + model.x['x14'] +\n",
    "                               model.x['x15'] + model.x['x21'] + model.x['x22'] + \n",
    "                               model.x['x23'] + model.x['x24'] >= 20000 )\n",
    "model.Constraint3 = Constraint( expr = model.x['x13'] + model.x['x14'] + model.x['x15'] +\n",
    "                               model.x['x22'] + model.x['x23'] + model.x['x24'] +\n",
    "                               model.x['x31'] + model.x['x32'] + model.x['x33'] >= 40000 )\n",
    "model.Constraint4 = Constraint( expr = model.x['x14'] + model.x['x15'] + model.x['x23'] + \n",
    "                               model.x['x24'] + model.x['x32'] + model.x['x33'] + \n",
    "                               model.x['x41'] + model.x['x42'] >= 10000 )\n",
    "model.Constraint5 = Constraint( expr = model.x['x15'] + model.x['x24'] + model.x['x33'] + \n",
    "                               model.x['x42'] + model.x['x51'] >= 50000 )\n",
    "\n",
    "# Solve\n",
    "solver = SolverFactory('glpk')\n",
    "solver.solve(model)\n",
    "\n",
    "# display(model)\n",
    "\n",
    "# print a shorter summary of relevant results (we inspected the results to figure out what to print)\n",
    "print(f\"Total Cost = ${model.obj():,.2f}\")\n",
    "print(f\"Lease {model.x['x15']():.0f} sq. ft. in month 1 for 5 months\")\n",
    "print(f\"Lease {model.x['x31']():.0f} sq. ft. in month 3 for 1 month\")\n",
    "print(f\"Lease {model.x['x51']():.0f} sq. ft. in month 5 for 1 month\")"
   ]
  },
  {
   "cell_type": "markdown",
   "id": "4b7a86",
   "metadata": {
    "collapsed": false
   },
   "source": [
    "## Typesetting mathematical notation with LaTeX code (video)"
   ]
  },
  {
   "cell_type": "code",
   "execution_count": 16,
   "id": "bbae86",
   "metadata": {
    "collapsed": false
   },
   "outputs": [
    {
     "data": {
      "iframe": "e6934a7368ef3b91d0f0080a6b619be860704aee",
      "text/plain": "<IPython.lib.display.IFrame at 0x7f4f6a09a130>"
     },
     "output_type": "execute_result"
    },
    {
     "data": {
      "text/html": [
       "<a href = https://media.uwex.edu/content/ds/ds775_r19/ds775_lesson1-latex-demo/index.html target = \"\"\"_blank\"\"\">Open video in new tab</a>"
      ],
      "text/plain": [
       "<IPython.core.display.HTML object>"
      ]
     },
     "execution_count": 16,
     "metadata": {
     },
     "output_type": "execute_result"
    }
   ],
   "source": [
    "# execute this cell for video\n",
    "play_video(\"ds775_lesson1-latex-demo\")"
   ]
  },
  {
   "cell_type": "markdown",
   "id": "ed8a3c",
   "metadata": {
    "collapsed": false
   },
   "source": [
    "### *Self-Assessment: Formulate and Solve #2*"
   ]
  },
  {
   "cell_type": "markdown",
   "id": "0c2089",
   "metadata": {
    "collapsed": false
   },
   "source": [
    "**Textbook Problem 3.4-10** Larry Edison is the director of the Computer Center for Buckly\n",
    "College. He now needs to schedule the staffing of the center. It is\n",
    "open from 8 A.M. until midnight. Larry has monitored the usage of the\n",
    "center at various times of the day, and determined that the following\n",
    "number of computer consultants are required: \n",
    "\n",
    "<img src=\"images/screen-problem3_4-10.png\" alt=\"Solution\" width=\"440\">\n",
    "\n",
    "Two types of computer consultants can be hired: full-time and\n",
    "part-time. The full-time consultants work for 8 consecutive hours in\n",
    "any of the following shifts: morning (8 A.M.–4 P.M.), afternoon\n",
    "(noon–8 P.M.), and evening (4 P.M.–midnight). Full-time consultants\n",
    "are paid \\\\$40 per hour.  Part-time consultants can be hired to work\n",
    "any of the four shifts listed in the above table. Part-time\n",
    "consultants are paid \\\\$30 per hour.  An additional requirement is that\n",
    "during every time period, there must be at least 2 full-time\n",
    "consultants on duty for every part-time consultant on duty.  Larry\n",
    "would like to determine how many full-time and how many part-time\n",
    "workers should work each shift to meet the above requirements at the\n",
    "minimum possible cost.\n",
    "\n",
    "(a) Formulate a linear programming model for this problem. (Hint: you could have 7 design variables - 3 for the number of full-time workers on each shift and 4 for the number of part-time workers on each shift.)\n",
    "\n",
    "(b) Solve this model using Pyomo.  You may\n",
    "  find fractional numbers of consultants per shift so round the\n",
    "  answers to get an approximate solution.  Report the total cost with\n",
    "  both fractional and rounded numbers of consultants.\n",
    "  \n",
    "(c) (not in book) Using Pyomo in Python, require the decision variables to be integers (specify **domain=NonNegativeIntegers** rather than **NonNegativeReals** for the decision variables), and compute the solution.  *How does it compare to the solution in (b)?* This is now an integer programming problem and is not solved by the simplex method.  We'll learn more about integer programming soon.  Be aware that integer programming problems are generally more computationally intense than those using real valued variables."
   ]
  },
  {
   "cell_type": "markdown",
   "id": "91c119",
   "metadata": {
    "collapsed": false
   },
   "source": [
    "### *Self-Assessment: Formulate and Solve #3*"
   ]
  },
  {
   "cell_type": "markdown",
   "id": "666ca6",
   "metadata": {
    "collapsed": false
   },
   "source": [
    "**Textbook Problem 3.5-6 (a,e).** Maureen Laird is the chief financial officer for the Alva\n",
    "  Electric Co., a major public utility in the Midwest. The company has\n",
    "  scheduled the construction of new hydroelectric plants 5, 10, and 20\n",
    "  years from now to meet the needs of the growing population in the\n",
    "  region served by the company. To cover at least the construction\n",
    "  costs, Maureen needs to invest some of the company’s money now to\n",
    "  meet these future cash-flow needs. Maureen may purchase only three\n",
    "  kinds of financial assets, each of which costs \\$1 million per\n",
    "  unit. Fractional units may be purchased. The assets produce income\n",
    "  5, 10, and 20 years from now, and that income is needed to cover at\n",
    "  least minimum cash-flow requirements in those years. (Any excess\n",
    "  income above the minimum requirement for each time period will be\n",
    "  used to increase dividend payments to shareholders rather than\n",
    "  saving it to help meet the minimum cash-flow requirement in the\n",
    "  next time period.) The following table shows both the amount of\n",
    "  income generated by each unit of each asset and the minimum amount\n",
    "  of income needed for each of the future time periods when a new\n",
    "  hydroelectric plant will be constructed. \n",
    "  \n",
    "<img src=\"images/screen-problem7.png\" width=\"440\">\n",
    "\n",
    "Maureen wishes to determine the mix of investments in these assets\n",
    "that will cover the cash-flow requirements while minimizing the total\n",
    "amount invested.\n",
    "\n",
    "(a) Formulate a linear programming model for this problem.\n",
    "  \n",
    "(e) Use Pyomo to solve the model."
   ]
  },
  {
   "cell_type": "markdown",
   "id": "787765",
   "metadata": {
    "collapsed": false
   },
   "source": [
    "# Sausages Blending Problem "
   ]
  },
  {
   "cell_type": "markdown",
   "id": "747003",
   "metadata": {
    "collapsed": false
   },
   "source": [
    "Here is an extra example, with no videos, of a blending problem.  We'll revisit this example in the next lesson.\n",
    "\n",
    "This example adapted from here: http://benalexkeen.com/linear-programming-with-python-and-pulp-part-4/.  "
   ]
  },
  {
   "cell_type": "markdown",
   "id": "23612f",
   "metadata": {
    "collapsed": false
   },
   "source": [
    "## Problem Description"
   ]
  },
  {
   "cell_type": "markdown",
   "id": "cdca52",
   "metadata": {
    "collapsed": false
   },
   "source": [
    "We're going to make sausages by blending pork, wheat, and starch.  Our objective is to minimize the cost of making the sausages.  The table below shows the ingredients available, the cost, and the amount of each ingredient available from our supplier:\n",
    "\n",
    "Ingredient | Cost ($/kg) | Amount (kg)\n",
    "-----------|------|--------------\n",
    "Pork       | 4.32 | 7\n",
    "Wheat      | 2.46 | 20.0\n",
    "Starch     | 1.86 | 17\n",
    "\n",
    "Additionally, we have 23 kg of pork on hand that we must use in the sausages.\n",
    "\n",
    "We want to make 2 types of sausage:\n",
    "* Economy ( > 40% pork)\n",
    "* Premium ( > 60% pork)\n",
    "\n",
    "Each sausage is 50 grams (0.05 kg).  \n",
    "\n",
    "According to government regulations, the most starch we can use in our sausages is 25% by weight.\n",
    "\n",
    "We have a demand for 350 economy sausages and 500 premium sausages."
   ]
  },
  {
   "cell_type": "markdown",
   "id": "5a81cb",
   "metadata": {
    "collapsed": false
   },
   "source": [
    "## The linear program"
   ]
  },
  {
   "cell_type": "markdown",
   "id": "46ae68",
   "metadata": {
    "collapsed": false
   },
   "source": [
    "The decision variables are the kg of each ingredient to use:\n",
    "\n",
    "Variable | Description\n",
    "--- | ---\n",
    "$p_e$ | kg pork in the economy sausages  \n",
    "$w_e$ | kg wheat in the economy sausages  \n",
    "$s_e$ | kg starch in the economy sausages  \n",
    "$p_p$ | kg pork in the premium sausages  \n",
    "$w_p$ | kg wheat in the premium sausages  \n",
    "$s_p$ | kg starch in the premium sausages\n",
    "\n",
    "We want to minimize the cost:\n",
    "$$ \\mbox{Cost} = 4.32 ( p_e + p_p) + 2.46( w_e + w_p) + 1.86 (s_e + s_p) $$\n",
    "\n",
    "Subject to the following constraints:\n",
    "\n",
    "<p style=\"padding-right: 120px;\"> Constraint</p> | Description\n",
    "---------------------------------| ---\n",
    "$p_e + w_e + s_e = 350 \\times 0.05$ | total kg of economy sausages\n",
    "$p_p + w_p + s_p = 500 \\times 0.05$ | total kg of premium sausages\n",
    "$p_e \\geq 0.4 (p_e + w_e + s_e)$ | ecomony sausage must be at least 40% pork\n",
    "$p_p \\geq 0.6 (p_p + w_p + s_p)$ | premium sausage must be at least 60% pork\n",
    "$s_e \\leq 0.25 (p_e + w_e + s_e)$ | no more than 25% starch\n",
    "$s_p \\leq 0.25 (p_p + w_p + s_p)$ | no more than 25% starch\n",
    "$p_e + p_p \\leq 30$ | 30 kg of pork available\n",
    "$w_e + w_p \\leq 20$ | 20 kg of wheat available\n",
    "$s_e + s_p \\leq 17$ | 17 kg of starch avaialble\n",
    "$p_e + p_p \\geq 23$ | must use the 23 kg of pork we already purchased"
   ]
  },
  {
   "cell_type": "markdown",
   "id": "637c76",
   "metadata": {
    "collapsed": false
   },
   "source": [
    "## Pyomo Solution"
   ]
  },
  {
   "cell_type": "code",
   "execution_count": 17,
   "id": "35278d",
   "metadata": {
    "collapsed": false
   },
   "outputs": [
    {
     "name": "stdout",
     "output_type": "stream",
     "text": [
      "Minimum Cost = $140.96\n",
      "Kilograms of each ingredient in each type of sausage:\n"
     ]
    },
    {
     "data": {
      "text/html": [
       "<div>\n",
       "<style scoped>\n",
       "    .dataframe tbody tr th:only-of-type {\n",
       "        vertical-align: middle;\n",
       "    }\n",
       "\n",
       "    .dataframe tbody tr th {\n",
       "        vertical-align: top;\n",
       "    }\n",
       "\n",
       "    .dataframe thead th {\n",
       "        text-align: right;\n",
       "    }\n",
       "</style>\n",
       "<table border=\"1\" class=\"dataframe\">\n",
       "  <thead>\n",
       "    <tr style=\"text-align: right;\">\n",
       "      <th></th>\n",
       "      <th>Economy</th>\n",
       "      <th>Premium</th>\n",
       "    </tr>\n",
       "  </thead>\n",
       "  <tbody>\n",
       "    <tr>\n",
       "      <th>Pork</th>\n",
       "      <td>8.000</td>\n",
       "      <td>15.00</td>\n",
       "    </tr>\n",
       "    <tr>\n",
       "      <th>Wheat</th>\n",
       "      <td>5.125</td>\n",
       "      <td>3.75</td>\n",
       "    </tr>\n",
       "    <tr>\n",
       "      <th>Starch</th>\n",
       "      <td>4.375</td>\n",
       "      <td>6.25</td>\n",
       "    </tr>\n",
       "  </tbody>\n",
       "</table>\n",
       "</div>"
      ],
      "text/plain": [
       "        Economy  Premium\n",
       "Pork      8.000    15.00\n",
       "Wheat     5.125     3.75\n",
       "Starch    4.375     6.25"
      ]
     },
     "execution_count": 17,
     "metadata": {
     },
     "output_type": "execute_result"
    }
   ],
   "source": [
    "x = 5\n",
    "\n",
    "# Concrete Model\n",
    "M = ConcreteModel(name = \"Sausages1\")\n",
    "\n",
    "# Decision Variables\n",
    "M.pe = Var(domain = NonNegativeReals)\n",
    "M.we = Var(domain = NonNegativeReals)\n",
    "M.se = Var(domain = NonNegativeReals)\n",
    "M.pp = Var(domain = NonNegativeReals)\n",
    "M.wp = Var(domain = NonNegativeReals)\n",
    "M.sp = Var(domain = NonNegativeReals)\n",
    "\n",
    "# Objective \n",
    "M.cost = Objective( expr = 4.32*(M.pe+M.pp)+2.46*(M.we+M.wp)+1.86*(M.se+M.sp),\n",
    "                      sense = minimize )\n",
    "\n",
    "# Constraints\n",
    "M.tot_econ_ct = Constraint( expr = M.pe + M.we + M.se == 17.5 )\n",
    "M.tot_prem_ct = Constraint( expr = M.pp + M.wp + M.sp == 25 )\n",
    "M.p_prp_econ_ct = Constraint( expr = M.pe >= 0.4*(M.pe + M.we + M.se) )\n",
    "M.p_prp_prem_ct = Constraint( expr = M.pp >= 0.6*(M.pp + M.wp + M.sp) )\n",
    "M.s_prp_econ_ct = Constraint( expr = M.se <= 0.25*(M.pe + M.we + M.se) )\n",
    "M.s_prp_prem_ct = Constraint( expr = M.sp <= 0.25*(M.pp + M.wp + M.sp) )\n",
    "M.p_tot_mx_ct = Constraint( expr = M.pe + M.pp <= 30 )\n",
    "M.w_tot_mx_ct = Constraint( expr = M.we + M.wp <= 20 )\n",
    "M.s_tot_mx_ct = Constraint( expr = M.se + M.sp <= 17 )\n",
    "M.p_tot_mn_ct = Constraint( expr = M.pe + M.pp >= 23 )\n",
    "\n",
    "# Solve\n",
    "solver = SolverFactory('glpk')\n",
    "solver.solve(M)\n",
    "\n",
    "# display(M)\n",
    "\n",
    "# display solution\n",
    "print(f\"Minimum Cost = ${M.cost():,.2f}\")\n",
    "\n",
    "import pandas as pd\n",
    "dvars = pd.DataFrame( [[M.pe(),M.pp()],\n",
    "                       [M.we(),M.wp()],\n",
    "                       [M.se(),M.sp()]],\n",
    "                    index = ['Pork','Wheat','Starch'],\n",
    "                    columns = ['Economy','Premium'])\n",
    "print(\"Kilograms of each ingredient in each type of sausage:\")\n",
    "dvars"
   ]
  }
 ],
 "metadata": {
  "kernelspec": {
   "argv": [
    "/usr/bin/python3",
    "-m",
    "ipykernel",
    "--HistoryManager.enabled=False",
    "--matplotlib=inline",
    "-c",
    "%config InlineBackend.figure_formats = set(['retina'])\nimport matplotlib; matplotlib.rcParams['figure.figsize'] = (12, 7)",
    "-f",
    "{connection_file}"
   ],
   "display_name": "Python 3 (system-wide)",
   "env": {
   },
   "language": "python",
   "metadata": {
    "cocalc": {
     "description": "Python 3 programming language",
     "priority": 100,
     "url": "https://www.python.org/"
    }
   },
   "name": "python3",
   "resource_dir": "/ext/jupyter/kernels/python3"
  }
 },
 "nbformat": 4,
 "nbformat_minor": 4
}