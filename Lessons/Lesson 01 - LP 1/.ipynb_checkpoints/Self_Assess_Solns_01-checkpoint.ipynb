{
 "cells": [
  {
   "cell_type": "code",
   "execution_count": 1,
   "metadata": {
    "code_folding": [
     0
    ]
   },
   "outputs": [
    {
     "data": {
      "text/html": [
       "<style>\n",
       "    div#notebook-container    { width: 95%; }\n",
       "    div#menubar-container     { width: 65%; }\n",
       "    div#maintoolbar-container { width: 99%; }\n",
       "</style>\n",
       "\n",
       "<style>\n",
       " th{font-size:14px}\n",
       " td{font-size:14px}\n",
       ".tleft td{text-align:left;}\n",
       ".tleft th{text-align:left;}\n",
       ".tbrdtop td{border-top: thin solid;}\n",
       ".tc td{text-align:center;}\n",
       "</style>\n"
      ],
      "text/plain": [
       "<IPython.core.display.HTML object>"
      ]
     },
     "execution_count": 1,
     "metadata": {},
     "output_type": "execute_result"
    }
   ],
   "source": [
    "# execute to import notebook styling for tables and width etc.\n",
    "from IPython.core.display import HTML\n",
    "import urllib.request\n",
    "response = urllib.request.urlopen('https://raw.githubusercontent.com/DataScienceUWL/DS775v2/master/ds755.css')\n",
    "HTML(response.read().decode(\"utf-8\"));"
   ]
  },
  {
   "cell_type": "markdown",
   "metadata": {},
   "source": [
    "<font size=18>Lesson 01 - Self-Assessment Solutions</font>"
   ]
  },
  {
   "cell_type": "markdown",
   "metadata": {
    "heading_collapsed": true
   },
   "source": [
    "# <font color = \"blue\"> Self Assessment: LP Assumptions </font>"
   ]
  },
  {
   "cell_type": "markdown",
   "metadata": {
    "hidden": true
   },
   "source": [
    "(a) **Additivity** is violated by the term $x_1 x_2$ in the objective function and **proportionality** is violated\n",
    "by the term $x^2_2$ in the third constraint.\n",
    "\n",
    "(b) The $+3$ in the objective function violates the **proportionality** assumption and the constraints of\n",
    "$x_1 = 1,2,3, \\ldots, x_2 = 1,2,3, \\ldots$ violate the **divisibility** assumption.\n",
    "\n",
    "(c) $0.25 x + 1$ as the RHS of constraint 2 violated the **proportionality** assumption and the **certainty** assumption is violated because the exact value of $a_2$ is not known."
   ]
  },
  {
   "cell_type": "markdown",
   "metadata": {
    "code_folding": [],
    "heading_collapsed": true
   },
   "source": [
    "# <font color = \"blue\"> Self Assessment: Paper and Pencil Method </font>"
   ]
  },
  {
   "cell_type": "markdown",
   "metadata": {
    "code_folding": [],
    "hidden": true
   },
   "source": [
    "Using the \"Graphical Method and\n",
    "  Sensitivity Analysis\" from IORTutorial, the maximum\n",
    "  value is $Z^* = 210$ and occurs when $x_1^* = 3$ and $x_2^* = 9$. \n",
    "  \n",
    "<img src=\"images/screen-solution1.png\" alt=\"Solution\" width=\"640\" height=\"350\">"
   ]
  },
  {
   "cell_type": "markdown",
   "metadata": {},
   "source": [
    "# <font color=\"blue\"> Self Assessment:  Graphical Method #1 </font>"
   ]
  },
  {
   "cell_type": "markdown",
   "metadata": {},
   "source": [
    "Another graphical method tool can be found at\n",
    "  http://www.phpsimplex.com/simplex/simplex.htm?l=en.  On the\n",
    "  first screen select graphical method and enter 3 constraints. \n",
    "\n",
    "<img src=\"images/screen-solution2.png\" alt=\"Solution\" width=\"640\" height=\"350\">\n",
    "\n",
    "From the graphical method observe that the two binding\n",
    "  contraints are $3 x_1 + 2 x_2 \\leq 2400$ and $2x_1 \\leq 1200.$\n",
    "  Since the constraints are binding we know that $3 x_1 + 2x_2 = 2400$\n",
    "  and $ 2x_1 = 1200.$  From the second equation we know $x_1 = 600$.\n",
    "  Substitute $x_1 = 600$ into the first equation to get $1800 + 2x_2 =\n",
    "  2400$ which yields $x_2 = 300.$  So the optimal value is $Z^* =\n",
    "  3600$ and it occurs at $x_1^* = 600, x_2^*=300.$"
   ]
  },
  {
   "cell_type": "markdown",
   "metadata": {
    "heading_collapsed": true
   },
   "source": [
    "# <font color=\"blue\">Self Assessment: Graphical Method #2 </font>"
   ]
  },
  {
   "cell_type": "markdown",
   "metadata": {
    "hidden": true
   },
   "source": [
    "(a) As in the Wyndor Glass Co. problem, we want to find the optimal\n",
    "  levels of two activities that compete for limited resources.  Let\n",
    "  $x_1$ and $x_2$ be the fraction purchased of the partnership in the\n",
    "  first and second friends venture respectively.\n",
    "  \n",
    "<img src=\"images/screen-solution5.png\" alt=\"Solution\" width=\"640\" height=\"350\">\n",
    "\n",
    "(b) Maximize $P = 9000 x_1 + 9000 x_2$ \n",
    "\n",
    "subject to \n",
    "\n",
    "$x_1 \\leq 1$ \n",
    "\n",
    "$x_2 \\leq 1$ \n",
    "\n",
    "$10000 x_1 + 8000 x_2 \\leq 12000$\n",
    "\n",
    "$400 x_1 + 500 x_2 \\leq 600$ \n",
    "\n",
    "$ x_1, x_2 \\geq 0$\n",
    "\n",
    "(c) Solved by the graphical method.  $(x_1^*,x_2^*) = (2/3,\n",
    "  2/3)$ and $P^* = 12000$.  From PHPSimplex:\n",
    "  \n",
    "<img src=\"images/screen-solution3_2-3.png\" alt=\"Solution\" width=\"640\" height=\"350\">"
   ]
  },
  {
   "cell_type": "markdown",
   "metadata": {
    "heading_collapsed": true
   },
   "source": [
    "# <font color=\"blue\">Self Assessment: Graphical Method #3 </font>"
   ]
  },
  {
   "cell_type": "markdown",
   "metadata": {
    "hidden": true
   },
   "source": [
    "There are infinitely many optimal solutions to this problem.  $(x_1^*,\n",
    "x_2^*) = (15,15), (2.5,35.8\\bar{3})$ and all the points on the line\n",
    "connecting these two points, $Z^* = 12000$. From PHPSimplex  (note how the objective function coincides with the constraint equation between points C and G in teh graph):\n",
    "\n",
    "<img src=\"images/screen-solution6.png\" alt=\"Solution\" width=\"640\" height=\"350\">"
   ]
  },
  {
   "cell_type": "markdown",
   "metadata": {
    "heading_collapsed": true
   },
   "source": [
    "# <font color=\"blue\">Self-Assessment:  Graphical Method #4"
   ]
  },
  {
   "cell_type": "markdown",
   "metadata": {
    "hidden": true
   },
   "source": [
    "* Due to the slope of the line of constant profit, the profit increases further into quadrant 1.  The unique max occurs at the corner point when the line just touches the feasible region.\n",
    "* By changing the coefficients it should be simple to get the max to occur at other vertices.  If the line of constant profit is parallel to one of the sides of the feasible region, then there will be infinitely many maxima along that side.\n",
    "* Changing the right side of the constraints causes the sides of the feasible region to move without changing their orientation.  As the sides of the region move, the locations of the vertices can change which may lead to changes in max profit."
   ]
  },
  {
   "cell_type": "markdown",
   "metadata": {
    "heading_collapsed": true
   },
   "source": [
    "# <font color=\"blue\">Self-Assessment:  Graphical Method #5"
   ]
  },
  {
   "cell_type": "markdown",
   "metadata": {
    "hidden": true
   },
   "source": [
    "* Min cost of 6 occurs when d = 3 and w = 0\n",
    "* If b4 = 0, then min cost is 0 at d = 0 and w = 0\n",
    "* The max cost occurs at (6,2) but the slider isn't set to go all the way there ... #fixme"
   ]
  },
  {
   "cell_type": "markdown",
   "metadata": {
    "heading_collapsed": true
   },
   "source": [
    "# <font color=\"blue\"> Self Assessment:  Graphical Method #6"
   ]
  },
  {
   "cell_type": "markdown",
   "metadata": {
    "hidden": true
   },
   "source": [
    "Optimal solution $(x_1^*,x_2^*) =\n",
    "  (2,4)$ and $Z^* = 110$.  From PHPSimplex:\n",
    "  \n",
    "<img src=\"images/screen-solution1-5.png\" alt=\"Solution\" width=\"640\" height=\"350\">   "
   ]
  },
  {
   "cell_type": "markdown",
   "metadata": {
    "heading_collapsed": true
   },
   "source": [
    "# <font color=\"blue\"> Self-Assessment: Specifying Bounds </font>"
   ]
  },
  {
   "cell_type": "code",
   "execution_count": 3,
   "metadata": {
    "hidden": true
   },
   "outputs": [
    {
     "name": "stdout",
     "output_type": "stream",
     "text": [
      "Maximum Profit =  $36,000.00\n",
      "Batches of Doors = 2.0\n",
      "Batches of Windows = 6.0\n"
     ]
    }
   ],
   "source": [
    "from pyomo.environ import *\n",
    "\n",
    "# Concrete Model\n",
    "model = ConcreteModel(name=\"Wyndor\")\n",
    "\n",
    "# Decision Variables\n",
    "model.doors = Var(domain=Reals, bounds=(0,4))\n",
    "model.windows = Var(domain=Reals, bounds = (0,6))\n",
    "\n",
    "# Objective\n",
    "model.profit = Objective(expr=3.0 * model.doors + 5.0 * model.windows,\n",
    "                         sense=maximize)\n",
    "\n",
    "# Constraints\n",
    "model.Plant3 = Constraint(expr=3.0 * model.doors + 2.0 * model.windows <= 18)\n",
    "\n",
    "# Solve\n",
    "solver = SolverFactory('glpk')\n",
    "solver.solve(model)\n",
    "\n",
    "#display(model)\n",
    "\n",
    "# display solution\n",
    "import babel.numbers as numbers  # needed to display as currency\n",
    "print(\"Maximum Profit = \",\n",
    "      numbers.format_currency(1000 * model.profit(), 'USD', locale='en_US'))\n",
    "print(\"Batches of Doors = {}\".format(model.doors()))\n",
    "print(\"Batches of Windows = {}\".format(model.windows()))"
   ]
  },
  {
   "cell_type": "markdown",
   "metadata": {
    "heading_collapsed": true
   },
   "source": [
    "# <font color=\"blue\">Self-Assessment: Formulate and Solve #1 </font>"
   ]
  },
  {
   "cell_type": "markdown",
   "metadata": {
    "hidden": true
   },
   "source": [
    "(a) Minimize $C = 8S + 4P$ \n",
    "\n",
    "subject to\n",
    "\n",
    "$\n",
    "\\begin{eqnarray*}\n",
    "5S + 15P &\\geq& 50 \\\\\n",
    "20S + 5P &\\geq& 40 \\\\\n",
    "15S + 2P &\\leq& 60 \\\\\n",
    "S,P &\\geq& 0\n",
    "\\end{eqnarray*}\n",
    "$\n",
    "  \n",
    "(c) Pyomo Solution in next cell"
   ]
  },
  {
   "cell_type": "code",
   "execution_count": 1,
   "metadata": {
    "hidden": true
   },
   "outputs": [
    {
     "name": "stdout",
     "output_type": "stream",
     "text": [
      "Minimum Cost =  $21.82\n",
      "Servings of Steak = 1.27\n",
      "Servings of Potatoes = 2.91\n"
     ]
    }
   ],
   "source": [
    "# Unfold to see the Pyomo solution with individual decision variables\n",
    "from pyomo.environ import *\n",
    "\n",
    "# Concrete Model\n",
    "model = ConcreteModel(name=\"Ralph\")\n",
    "\n",
    "# Decision Variables\n",
    "model.steak = Var(domain=Reals)\n",
    "model.potatoes = Var(domain=Reals)\n",
    "\n",
    "# Objective\n",
    "model.cost = Objective(expr=8.0 * model.steak + 4.0 * model.potatoes,\n",
    "                       sense=minimize)\n",
    "\n",
    "# Constraints\n",
    "model.carbs = Constraint(expr=5.0 * model.steak + 15.0 * model.potatoes >= 50)\n",
    "model.protein = Constraint(\n",
    "    expr=20.0 * model.steak + 5.0 * model.potatoes >= 40)\n",
    "model.fat = Constraint(expr=15 * model.steak + 2.0 * model.potatoes <= 60)\n",
    "model.sgeq0 = Constraint(expr=model.steak >= 0)\n",
    "model.pgeq0 = Constraint(expr=model.potatoes >= 0)\n",
    "\n",
    "# Solve\n",
    "solver = SolverFactory('glpk')\n",
    "solver.solve(model)\n",
    "\n",
    "# display solution\n",
    "import babel.numbers as numbers  # needed to display as currency\n",
    "print(\"Minimum Cost = \",\n",
    "      numbers.format_currency(model.cost(), 'USD', locale='en_US'))\n",
    "print(\"Servings of Steak = {:2.2f}\".format(model.steak()))\n",
    "print(\"Servings of Potatoes = {:2.2f}\".format(model.potatoes()))"
   ]
  },
  {
   "cell_type": "markdown",
   "metadata": {
    "heading_collapsed": true
   },
   "source": [
    "# <font color=\"blue\"> Self-Assessment: Formulate and Solve #2 </font>"
   ]
  },
  {
   "cell_type": "markdown",
   "metadata": {
    "hidden": true
   },
   "source": [
    "(a) The LP model: \n",
    "\n",
    "<img src=\"images/screen-solution4a.png\" alt=\"Solution\" width=\"640\" height=\"350\">   \n",
    "\n",
    "The hard part of this model, for most students, seems to be the constraint\n",
    "that the number of full time workers has to be at least twice the\n",
    "number of part time workers: \n",
    "\n",
    "full time $\\geq$ 2 * part time \n",
    "\n",
    "full time - 2 * part time $\\geq$ 0\n",
    "\n",
    "(b) The Pyomo solution is in the cell below this one.  \n",
    "\n",
    "The objective function minimum cost is \\\\$4,106.67 if it were possible to have a fractional number of workers per shift.  Of course you can't have a fractional number of workers per shift,\n",
    "but you can either round these values to integers for an approximate\n",
    "solution or you can tell the solver to use only integer values which\n",
    "actually makes the problem into a harder problem called an integer\n",
    "programming problem.  If you round the numbers of consultants to the\n",
    "nearest integer you should find a total cost of \\\\$4280.\n",
    "\n",
    "\n",
    "(c) Set an integer constraint (**domain=NonNegativeIntegers**) on the decision variable cells and\n",
    "  solve using Pyomo to get a total cost of \\\\$4160.  Rounding fractional\n",
    "  solutions yielded a less optimal answer than using integer\n",
    "  programming in this case. "
   ]
  },
  {
   "cell_type": "code",
   "execution_count": 3,
   "metadata": {
    "hidden": true
   },
   "outputs": [
    {
     "name": "stdout",
     "output_type": "stream",
     "text": [
      "Total Cost =  $4,106.67\n",
      "Number of FT, 8 am - 4 pm:     2.66666666666667\n",
      "Number of FT, noon - 8 pm:     2.66666666666667\n",
      "Number of FT, 4 pm - midnight: 4.0\n",
      "Number of PT, 8 am - noon:     1.33333333333333\n",
      "Number of PT, noon - 4 pm:     2.66666666666667\n",
      "Number of PT, 4 pm - 8 pm:     3.33333333333333\n",
      "Number of PT, 8 pm - midnight: 2.0\n"
     ]
    }
   ],
   "source": [
    "# first, the Pyomo solution to 3.4-10 for real number decision variables\n",
    "\n",
    "from pyomo.environ import *\n",
    "\n",
    "# Concret Model\n",
    "model = ConcreteModel(name = \"Staffing\")\n",
    "\n",
    "# Decision Variables\n",
    "model.x = Var( ['xf1','xf2','xf3','xp1','xp2','xp3','xp4'], \n",
    "              domain = NonNegativeReals)\n",
    "\n",
    "# Objective \n",
    "model.obj = Objective( expr = 40 * 8 * (model.x['xf1'] + model.x['xf2'] + model.x['xf3']) +\n",
    "                      30 * 4 * (model.x['xp1'] + model.x['xp2'] + model.x['xp3'] + \n",
    "                            model.x['xp4']), sense = minimize)\n",
    "\n",
    "# Constraints\n",
    "model.Constraint1 = Constraint( expr = model.x['xf1'] + model.x['xp1'] >= 4 )\n",
    "model.Constraint2 = Constraint( expr = model.x['xf1'] + model.x['xf2'] + \n",
    "                               model.x['xp2'] >= 8 )\n",
    "model.Constraint3 = Constraint( expr = model.x['xf2'] + model.x['xf3'] + \n",
    "                               model.x['xp3'] >= 10 )\n",
    "model.Constraint4 = Constraint( expr = model.x['xf3'] + model.x['xp4'] >= 6 )\n",
    "model.Constraint5 = Constraint( expr = model.x['xf1'] - 2*model.x['xp1'] >= 0 )\n",
    "model.Constraint6 = Constraint( expr = model.x['xf1'] + model.x['xf2'] -\n",
    "                               2*model.x['xp2'] >= 0 )\n",
    "model.Constraint7 = Constraint( expr = model.x['xf2'] + model.x['xf3'] - \n",
    "                               2*model.x['xp3'] >= 0 )\n",
    "model.Constraint8 = Constraint( expr = model.x['xf3'] - 2*model.x['xp4'] >= 0 )\n",
    "                      \n",
    "# Solve\n",
    "solver = SolverFactory('glpk')\n",
    "solver.solve(model)\n",
    "\n",
    "# remove the comment symbol to see the pyomo display of results\n",
    "# display(model)\n",
    "\n",
    "# print a shorter summary of relevant results\n",
    "import babel.numbers as numbers   # needed to display as currency\n",
    "print(\"Total Cost = \", numbers.format_currency(model.obj(),'USD', locale='en_US'))\n",
    "print(\"Number of FT, 8 am - 4 pm:    \",model.x[\"xf1\"]())\n",
    "print(\"Number of FT, noon - 8 pm:    \",model.x[\"xf2\"]())\n",
    "print(\"Number of FT, 4 pm - midnight:\",model.x[\"xf3\"]())\n",
    "print(\"Number of PT, 8 am - noon:    \",model.x[\"xp1\"]())\n",
    "print(\"Number of PT, noon - 4 pm:    \",model.x[\"xp2\"]())\n",
    "print(\"Number of PT, 4 pm - 8 pm:    \",model.x[\"xp3\"]())\n",
    "print(\"Number of PT, 8 pm - midnight:\",model.x[\"xp4\"]())\n",
    "\n"
   ]
  },
  {
   "cell_type": "code",
   "execution_count": 2,
   "metadata": {
    "hidden": true
   },
   "outputs": [
    {
     "name": "stdout",
     "output_type": "stream",
     "text": [
      "Total Cost =  $4,160.00\n",
      "Number of FT, 8 am - 4 pm:     3.0\n",
      "Number of FT, noon - 8 pm:     3.0\n",
      "Number of FT, 4 pm - midnight: 4.0\n",
      "Number of PT, 8 am - noon:     1.0\n",
      "Number of PT, noon - 4 pm:     2.0\n",
      "Number of PT, 4 pm - 8 pm:     3.0\n",
      "Number of PT, 8 pm - midnight: 2.0\n"
     ]
    }
   ],
   "source": [
    "# now the solution to 3.4-10 for decison variables restricted to integers\n",
    "\n",
    "from pyomo.environ import *\n",
    "\n",
    "# Concret Model\n",
    "model = ConcreteModel(name = \"Staffing\")\n",
    "\n",
    "# Decision Variables\n",
    "model.x = Var( ['xf1','xf2','xf3','xp1','xp2','xp3','xp4'], \n",
    "              domain = NonNegativeIntegers)\n",
    "\n",
    "# Objective \n",
    "model.obj = Objective( expr = 40 * 8 * (model.x['xf1'] + model.x['xf2'] + model.x['xf3']) +\n",
    "                      30 * 4 * (model.x['xp1'] + model.x['xp2'] + model.x['xp3'] + \n",
    "                            model.x['xp4']), sense = minimize)\n",
    "\n",
    "# Constraints\n",
    "model.Constraint1 = Constraint( expr = model.x['xf1'] + model.x['xp1'] >= 4 )\n",
    "model.Constraint2 = Constraint( expr = model.x['xf1'] + model.x['xf2'] + \n",
    "                               model.x['xp2'] >= 8 )\n",
    "model.Constraint3 = Constraint( expr = model.x['xf2'] + model.x['xf3'] + \n",
    "                               model.x['xp3'] >= 10 )\n",
    "model.Constraint4 = Constraint( expr = model.x['xf3'] + model.x['xp4'] >= 6 )\n",
    "model.Constraint5 = Constraint( expr = model.x['xf1'] - 2*model.x['xp1'] >= 0 )\n",
    "model.Constraint6 = Constraint( expr = model.x['xf1'] + model.x['xf2'] -\n",
    "                               2*model.x['xp2'] >= 0 )\n",
    "model.Constraint7 = Constraint( expr = model.x['xf2'] + model.x['xf3'] - \n",
    "                               2*model.x['xp3'] >= 0 )\n",
    "model.Constraint8 = Constraint( expr = model.x['xf3'] - 2*model.x['xp4'] >= 0 )\n",
    "                      \n",
    "# Solve\n",
    "solver = SolverFactory('glpk')\n",
    "solver.solve(model)\n",
    "\n",
    "# remove the comment symbol to see the pyomo display of results\n",
    "# display(model)\n",
    "\n",
    "# print a shorter summary of relevant results\n",
    "import babel.numbers as numbers   # needed to display as currency\n",
    "print(\"Total Cost = \", numbers.format_currency(model.obj(),'USD', locale='en_US'))\n",
    "print(\"Number of FT, 8 am - 4 pm:    \",model.x[\"xf1\"]())\n",
    "print(\"Number of FT, noon - 8 pm:    \",model.x[\"xf2\"]())\n",
    "print(\"Number of FT, 4 pm - midnight:\",model.x[\"xf3\"]())\n",
    "print(\"Number of PT, 8 am - noon:    \",model.x[\"xp1\"]())\n",
    "print(\"Number of PT, noon - 4 pm:    \",model.x[\"xp2\"]())\n",
    "print(\"Number of PT, 4 pm - 8 pm:    \",model.x[\"xp3\"]())\n",
    "print(\"Number of PT, 8 pm - midnight:\",model.x[\"xp4\"]())\n"
   ]
  },
  {
   "cell_type": "markdown",
   "metadata": {
    "hidden": true
   },
   "source": [
    "### Textbook Problem  3.5-6 (a,e) Solution\n",
    "\n",
    "(a) Model formulation:\n",
    "<img src=\"images/screen-solution3_5-6.png\" width=\"340\" height=\"150\">\n",
    "\n",
    "(e) Optimal solution using the simplex method in Pyomo is in the following cell."
   ]
  },
  {
   "cell_type": "markdown",
   "metadata": {
    "heading_collapsed": true
   },
   "source": [
    "# <font color=\"blue\"> Self-Assessment: Formulate and Solve #3 </font>"
   ]
  },
  {
   "cell_type": "markdown",
   "metadata": {
    "hidden": true
   },
   "source": [
    "\n",
    "(a) Model formulation:\n",
    "<img src=\"images/screen-solution3_5-6.png\" width=\"340\" height=\"150\">\n",
    "\n",
    "(e) Optimal solution using the simplex method in Pyomo is in the following cell."
   ]
  },
  {
   "cell_type": "code",
   "execution_count": 1,
   "metadata": {
    "hidden": true
   },
   "outputs": [
    {
     "name": "stdout",
     "output_type": "stream",
     "text": [
      "Minimum investment =  300.00 units\n",
      "Units purchased of Asset 1:  100.00 units\n",
      "Units purchased of Asset 2:  200.00 units\n",
      "Units purchased of Asset 3:  0.00 units\n"
     ]
    }
   ],
   "source": [
    "# Pyomo solution for HW1.6 (Problem 3.5-6)\n",
    "\n",
    "# part e\n",
    "from pyomo.environ import *\n",
    "\n",
    "# Concret Model\n",
    "model = ConcreteModel(name = \"AlvaElectric\")\n",
    "\n",
    "# Decision Variables\n",
    "model.x = Var( ['x1','x2','x3'], domain = NonNegativeReals)\n",
    "\n",
    "# Objective \n",
    "model.obj = Objective( expr = model.x['x1'] + model.x['x2'] + model.x['x3'], \n",
    "                      sense = minimize)\n",
    "\n",
    "# Constraints\n",
    "model.Constraint1 = Constraint( expr = 2*model.x['x1'] + model.x['x2'] +\n",
    "                               0.5*model.x['x3'] >= 400 )\n",
    "model.Constraint2 = Constraint( expr = 0.5*model.x['x1'] + 0.5*model.x['x2'] +\n",
    "                               model.x['x3'] >= 100 )\n",
    "model.Constraint3 = Constraint( expr = 1.5*model.x['x2'] + 2*model.x['x3'] >= 300 )\n",
    "\n",
    "# Solve\n",
    "solver = SolverFactory('glpk')\n",
    "solver.solve(model)\n",
    "\n",
    "# remove the comment symbol to see the pyomo display of results\n",
    "# display(model)\n",
    "\n",
    "# print a shorter summary of relevant results\n",
    "print(\"Minimum investment = \", '%.2f' % model.obj(), \"units\")\n",
    "print(\"Units purchased of Asset 1: \",'%.2f' % model.x[\"x1\"](), \"units\")\n",
    "print(\"Units purchased of Asset 2: \",'%.2f' % model.x[\"x2\"](), \"units\")\n",
    "print(\"Units purchased of Asset 3: \",'%.2f' % model.x[\"x3\"](), \"units\")"
   ]
  },
  {
   "cell_type": "code",
   "execution_count": null,
   "metadata": {
    "hidden": true
   },
   "outputs": [],
   "source": []
  }
 ],
 "metadata": {
  "kernelspec": {
   "display_name": "Python 3",
   "language": "python",
   "name": "python3"
  },
  "language_info": {
   "codemirror_mode": {
    "name": "ipython",
    "version": 3
   },
   "file_extension": ".py",
   "mimetype": "text/x-python",
   "name": "python",
   "nbconvert_exporter": "python",
   "pygments_lexer": "ipython3",
   "version": "3.7.4"
  },
  "toc": {
   "base_numbering": 1,
   "nav_menu": {},
   "number_sections": true,
   "sideBar": true,
   "skip_h1_title": false,
   "title_cell": "Table of Contents",
   "title_sidebar": "Contents",
   "toc_cell": false,
   "toc_position": {
    "height": "calc(100% - 180px)",
    "left": "10px",
    "top": "150px",
    "width": "270.667px"
   },
   "toc_section_display": true,
   "toc_window_display": true
  },
  "varInspector": {
   "cols": {
    "lenName": 16,
    "lenType": 16,
    "lenVar": 40
   },
   "kernels_config": {
    "python": {
     "delete_cmd_postfix": "",
     "delete_cmd_prefix": "del ",
     "library": "var_list.py",
     "varRefreshCmd": "print(var_dic_list())"
    },
    "r": {
     "delete_cmd_postfix": ") ",
     "delete_cmd_prefix": "rm(",
     "library": "var_list.r",
     "varRefreshCmd": "cat(var_dic_list()) "
    }
   },
   "types_to_exclude": [
    "module",
    "function",
    "builtin_function_or_method",
    "instance",
    "_Feature"
   ],
   "window_display": false
  }
 },
 "nbformat": 4,
 "nbformat_minor": 2
}
