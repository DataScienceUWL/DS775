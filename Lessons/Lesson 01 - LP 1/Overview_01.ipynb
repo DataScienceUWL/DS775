{
 "cells": [
  {
   "cell_type": "markdown",
   "metadata": {
    "collapsed": false
   },
   "source": [
    "<font size=18>Overview 01: Linear Programming and Pyomo</font>"
   ]
  },
  {
   "cell_type": "markdown",
   "metadata": {
    "collapsed": false
   },
   "source": [
    "# Topics"
   ]
  },
  {
   "cell_type": "markdown",
   "metadata": {
    "collapsed": false
   },
   "source": [
    "* Course introduction\n",
    "* Piazza introduction\n",
    "* CoCalc introduction\n",
    "* Introduction to linear programming\n",
    "* Introduction to Pyomo"
   ]
  },
  {
   "cell_type": "markdown",
   "metadata": {
    "collapsed": false
   },
   "source": [
    "# Learning Outcomes"
   ]
  },
  {
   "cell_type": "markdown",
   "metadata": {
    "collapsed": false
   },
   "source": [
    "The student will be able to:\n",
    "* formulate a linear program for a given problem scenario.\n",
    "* determine if the four assumptions of linear program are satisfied.\n",
    "* identify corner point feasible solutions, optimal solutions, the feasible region, and feasible solutions for linear programs with either bounded or unbounded feasible regions.\n",
    "* solve a small linear program graphically.\n",
    "* solve a small linear program using Pyomo."
   ]
  },
  {
   "cell_type": "markdown",
   "metadata": {
    "collapsed": false
   },
   "source": [
    "# Student \"To Do\" Checklist"
   ]
  },
  {
   "cell_type": "markdown",
   "metadata": {
    "collapsed": false
   },
   "source": [
    "* Read Chapter 1-3 of Hillier an Liebermann. Section 1.3 explains why we're using an Operations Reseach textbook for a course called Prescriptive Analytics.  Section 3.5 is optional as we are not using Excel.\n",
    "* Work your way through the Jupyter notebook called Lesson_01.ipynb.  This is the main presentation and replaces the Storybook presentations used in our other courses.  Use the self-assessments to measure your understanding.  There is a separate Jupyter notebook file with self-assessment solutions in the lesson folder.  *Self-assessments are not collected and do not count toward your grade.*\n",
    "* Complete the homework notebook in CoCalc and transfer your answers to the Canvas Quiz by the due date which is shown both in Canvas and CoCalc.\n",
    "\n",
    "Use Piazza to ask questions when you have them and be sure to check Piazza regularly so you don't miss out on any good Q & A or other discussions."
   ]
  },
  {
   "cell_type": "markdown",
   "metadata": {
    "collapsed": false
   },
   "source": [
    "# Supplemental Materials\n",
    "For students that need a refresher on general Python programming, we have included two Python Refresher notebooks in the `extras` directory:\n",
    "* Python Refresher - Loops\n",
    "* Python Refresher - Functions\n",
    "\n",
    "we encourage anyone that is struggling with Python to review these notebooks within the first two weeks of class."
   ]
  },
  {
   "cell_type": "code",
   "execution_count": 0,
   "metadata": {
    "collapsed": false
   },
   "outputs": [
   ],
   "source": [
   ]
  }
 ],
 "metadata": {
  "kernelspec": {
   "display_name": "Python 3 (system-wide)",
   "language": "python",
   "metadata": {
    "cocalc": {
     "description": "Python 3 programming language",
     "priority": 100,
     "url": "https://www.python.org/"
    }
   },
   "name": "python3",
   "resource_dir": "/ext/jupyter/kernels/python3"
  },
  "language_info": {
   "codemirror_mode": {
    "name": "ipython",
    "version": 3
   },
   "file_extension": ".py",
   "mimetype": "text/x-python",
   "name": "python",
   "nbconvert_exporter": "python",
   "pygments_lexer": "ipython3",
   "version": "3.6.9"
  },
  "toc": {
   "base_numbering": 1,
   "nav_menu": {
   },
   "number_sections": true,
   "sideBar": true,
   "skip_h1_title": false,
   "title_cell": "Table of Contents",
   "title_sidebar": "Contents",
   "toc_cell": false,
   "toc_position": {
   },
   "toc_section_display": true,
   "toc_window_display": false
  }
 },
 "nbformat": 4,
 "nbformat_minor": 4
}