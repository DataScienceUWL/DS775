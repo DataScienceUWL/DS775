{
 "cells": [
  {
   "cell_type": "markdown",
   "metadata": {
    "collapsed": false
   },
   "source": [
    "# Lesson 01 - Self-Assessment Solutions"
   ]
  },
  {
   "cell_type": "markdown",
   "metadata": {
    "collapsed": false,
    "heading_collapsed": true
   },
   "source": [
    "# *Self Assessment: LP Assumptions*"
   ]
  },
  {
   "cell_type": "markdown",
   "metadata": {
    "collapsed": false,
    "hidden": true
   },
   "source": [
    "(a) **Additivity** is violated by the term $x_1 x_2$ in the objective function and **proportionality** is violated\n",
    "by the term $x^2_2$ in the third constraint.\n",
    "\n",
    "(b) The $+3$ in the objective function violates the **proportionality** assumption and the constraints of\n",
    "$x_1 = 1,2,3, \\ldots, x_2 = 1,2,3, \\ldots$ violate the **divisibility** assumption.\n",
    "\n",
    "(c) $0.25 x + 1$ as the RHS of constraint 2 violated the **proportionality** assumption and the **certainty** assumption is violated because the exact value of $a_2$ is not known."
   ]
  },
  {
   "cell_type": "markdown",
   "metadata": {
    "code_folding": [
    ],
    "collapsed": false,
    "heading_collapsed": true
   },
   "source": [
    "# *Self Assessment: Paper and Pencil Method*"
   ]
  },
  {
   "cell_type": "markdown",
   "metadata": {
    "code_folding": [
    ],
    "collapsed": false,
    "hidden": true
   },
   "source": [
    "The maximum value is $Z^* = 210$ and occurs when $x_1^* = 3$ and $x_2^* = 9$.\n",
    "  \n",
    "<img src=\"images/solve_by_hand.png\" alt=\"Solution\" width=\"1000\">"
   ]
  },
  {
   "cell_type": "markdown",
   "metadata": {
    "collapsed": false
   },
   "source": [
    "# *Self Assessment:  Graphical Method #1*"
   ]
  },
  {
   "cell_type": "markdown",
   "metadata": {
    "collapsed": false
   },
   "source": [
    "From the graphical method observe that the two binding\n",
    "  contraints are $3 x_1 + 2 x_2 \\leq 2400$ and $2x_1 \\leq 1200.$\n",
    "  Since the constraints are binding we know that $3 x_1 + 2x_2 = 2400$\n",
    "  and $ 2x_1 = 1200.$  From the second equation we know $x_1 = 600$.\n",
    "  Substitute $x_1 = 600$ into the first equation to get $1800 + 2x_2 =\n",
    "  2400$ which yields $x_2 = 300.$  So the optimal value is $Z^* =\n",
    "  3600$ and it occurs at $x_1^* = 600, x_2^*=300.$  \n",
    "  \n",
    "Hover over the CPF solutions in Desmos to get the coordinates:"
   ]
  },
  {
   "cell_type": "code",
   "execution_count": 1,
   "metadata": {
    "collapsed": false
   },
   "outputs": [
    {
     "data": {
      "text/html": "\n        <iframe\n            width=\"1000\"\n            height=\"600\"\n            src=\"https://www.desmos.com/calculator/mldmglotw3\"\n            frameborder=\"0\"\n            allowfullscreen\n            \n        ></iframe>\n        ",
      "text/plain": [
       "<IPython.lib.display.IFrame at 0x7f33666b7340>"
      ]
     },
     "execution_count": 1,
     "metadata": {
     },
     "output_type": "execute_result"
    }
   ],
   "source": [
    "# execute this cell for Desmos Graph\n",
    "from IPython.display import IFrame\n",
    "IFrame('https://www.desmos.com/calculator/mldmglotw3', width=1000, height = 600)"
   ]
  },
  {
   "cell_type": "markdown",
   "metadata": {
    "collapsed": false,
    "heading_collapsed": true
   },
   "source": [
    "# *Self Assessment: Graphical Method #2*"
   ]
  },
  {
   "cell_type": "markdown",
   "metadata": {
    "collapsed": false,
    "hidden": true
   },
   "source": [
    "(a) As in the Wyndor Glass Co. problem, we want to find the optimal\n",
    "  levels of two activities that compete for limited resources.  Let\n",
    "  $x_1$ and $x_2$ be the fraction purchased of the partnership in the\n",
    "  first and second friends venture respectively.\n",
    "  \n",
    "<img src=\"images/screen-solution5.png\" alt=\"Solution\" width=\"640\">\n",
    "\n",
    "(b) Maximize $P = 9000 x_1 + 9000 x_2$ \n",
    "\n",
    "subject to \n",
    "\n",
    "$x_1 \\leq 1$ \n",
    "\n",
    "$x_2 \\leq 1$ \n",
    "\n",
    "$10000 x_1 + 8000 x_2 \\leq 12000$\n",
    "\n",
    "$400 x_1 + 500 x_2 \\leq 600$ \n",
    "\n",
    "$ x_1, x_2 \\geq 0$\n",
    "\n",
    "(c) Solved by the graphical method.  $(x_1^*,x_2^*) = (2/3,\n",
    "  2/3)$ and $P^* = 12000$.  "
   ]
  },
  {
   "cell_type": "code",
   "execution_count": 2,
   "metadata": {
    "collapsed": false
   },
   "outputs": [
    {
     "data": {
      "text/html": "\n        <iframe\n            width=\"1000\"\n            height=\"600\"\n            src=\"https://www.desmos.com/calculator/s4llmtb8jw\"\n            frameborder=\"0\"\n            allowfullscreen\n            \n        ></iframe>\n        ",
      "text/plain": [
       "<IPython.lib.display.IFrame at 0x7f33666b73a0>"
      ]
     },
     "execution_count": 2,
     "metadata": {
     },
     "output_type": "execute_result"
    }
   ],
   "source": [
    "# execute this cell for Desmos Graph\n",
    "from IPython.display import IFrame\n",
    "IFrame('https://www.desmos.com/calculator/s4llmtb8jw', width=1000, height = 600)"
   ]
  },
  {
   "cell_type": "markdown",
   "metadata": {
    "collapsed": false,
    "heading_collapsed": true
   },
   "source": [
    "# *Self Assessment: Graphical Method #3*"
   ]
  },
  {
   "cell_type": "markdown",
   "metadata": {
    "collapsed": false,
    "hidden": true
   },
   "source": [
    "There are infinitely many optimal solutions to this problem.  $(x_1^*,\n",
    "x_2^*) = (15,15), (2.5,35.8\\bar{3})$ and all the points on the line\n",
    "connecting these two points, $Z^* = 12000$. "
   ]
  },
  {
   "cell_type": "code",
   "execution_count": 3,
   "metadata": {
    "collapsed": false
   },
   "outputs": [
    {
     "data": {
      "text/html": "\n        <iframe\n            width=\"1000\"\n            height=\"600\"\n            src=\"https://www.desmos.com/calculator/givnk8crtg\"\n            frameborder=\"0\"\n            allowfullscreen\n            \n        ></iframe>\n        ",
      "text/plain": [
       "<IPython.lib.display.IFrame at 0x7f33666b7790>"
      ]
     },
     "execution_count": 3,
     "metadata": {
     },
     "output_type": "execute_result"
    }
   ],
   "source": [
    "# execute this cell for Desmos Graph\n",
    "from IPython.display import IFrame\n",
    "IFrame('https://www.desmos.com/calculator/givnk8crtg', width=1000, height = 600)"
   ]
  },
  {
   "cell_type": "markdown",
   "metadata": {
    "collapsed": false,
    "heading_collapsed": true
   },
   "source": [
    "# *Self Assessment:  Graphical Method #4*"
   ]
  },
  {
   "cell_type": "markdown",
   "metadata": {
    "collapsed": false,
    "hidden": true
   },
   "source": [
    "After setting up in Desmos check the value of Z at the CPFs which are the vertices of the unbounded, U-shaped region at the top of the graph."
   ]
  },
  {
   "cell_type": "code",
   "execution_count": 4,
   "metadata": {
    "collapsed": false
   },
   "outputs": [
    {
     "data": {
      "text/html": "\n        <iframe\n            width=\"1000\"\n            height=\"600\"\n            src=\"https://www.desmos.com/calculator/cd4vcedr8z\"\n            frameborder=\"0\"\n            allowfullscreen\n            \n        ></iframe>\n        ",
      "text/plain": [
       "<IPython.lib.display.IFrame at 0x7f33666b7490>"
      ]
     },
     "execution_count": 4,
     "metadata": {
     },
     "output_type": "execute_result"
    }
   ],
   "source": [
    "# execute this cell for Desmos Graph\n",
    "from IPython.display import IFrame\n",
    "IFrame('https://www.desmos.com/calculator/cd4vcedr8z', width=1000, height = 600)"
   ]
  },
  {
   "cell_type": "markdown",
   "metadata": {
    "collapsed": false,
    "heading_collapsed": true
   },
   "source": [
    "# *Self-Assessment: Unbounded Region*\n",
    "\n",
    "1.  There is no maximum value since we can increase the value of $x_1$ to make it as large as we want so that the value of $Z$ grows unboundedly.  There is a minimum value of $Z^* = 4$ at $(x_1^*, x_2^*) = (0,2)$.\n",
    "2.  There are multiple ways to do this.  For example change to $c_1 = -2, c_2 = 3$.  Now we get a maximum value of $Z^* = 15$ at $(x_1^*, x_2^*) = (0,5)$ but there is no minimum value.\n",
    "3. Any pair of $c_1,c_2$ that satisfy $c_1 < 0, c_2 < 0,$ and $c_1 = c_2,$ e.g. $c_1 = c_2 = -2,$ will make it so that $Z$ has infinitely many maxima (with negative values) along the line $x_1 + x_2 = 2$ at the left edge of the feasible region.\n"
   ]
  },
  {
   "cell_type": "markdown",
   "metadata": {
    "collapsed": false,
    "heading_collapsed": true
   },
   "source": [
    "# *Self-Assessment: Specifying Bounds*"
   ]
  },
  {
   "cell_type": "code",
   "execution_count": 5,
   "metadata": {
    "collapsed": false,
    "hidden": true
   },
   "outputs": [
    {
     "name": "stdout",
     "output_type": "stream",
     "text": [
      "Maximum Profit = $36,000.00\n",
      "Batches of Doors = 2.0\n",
      "Batches of Windows = 6.0\n"
     ]
    }
   ],
   "source": [
    "from pyomo.environ import *\n",
    "\n",
    "# Concrete Model\n",
    "model = ConcreteModel(name=\"Wyndor\")\n",
    "\n",
    "# Decision Variables\n",
    "model.doors = Var(domain=Reals, bounds=(0,4))\n",
    "model.windows = Var(domain=Reals, bounds = (0,6))\n",
    "\n",
    "# Objective\n",
    "model.profit = Objective(expr=3.0 * model.doors + 5.0 * model.windows,\n",
    "                         sense=maximize)\n",
    "\n",
    "# Constraints\n",
    "model.Plant3 = Constraint(expr=3.0 * model.doors + 2.0 * model.windows <= 18)\n",
    "\n",
    "# Solve\n",
    "solver = SolverFactory('glpk')\n",
    "solver.solve(model)\n",
    "\n",
    "#display(model)\n",
    "\n",
    "#  display solution\n",
    "print(f\"Maximum Profit = ${1000*model.profit():,.2f}\")\n",
    "print(f\"Batches of Doors = {model.doors():.1f}\")\n",
    "print(f\"Batches of Windows = {model.windows():.1f}\")"
   ]
  },
  {
   "cell_type": "markdown",
   "metadata": {
    "collapsed": false,
    "heading_collapsed": true
   },
   "source": [
    "# *Self-Assessment: Formulate and Solve #1*"
   ]
  },
  {
   "cell_type": "markdown",
   "metadata": {
    "collapsed": false,
    "hidden": true
   },
   "source": [
    "(a) Minimize $C = 8S + 4P$ \n",
    "\n",
    "subject to\n",
    "\n",
    "$\n",
    "\\begin{eqnarray*}\n",
    "5S + 15P &\\geq& 50 \\\\\n",
    "20S + 5P &\\geq& 40 \\\\\n",
    "15S + 2P &\\leq& 60 \\\\\n",
    "S,P &\\geq& 0\n",
    "\\end{eqnarray*}\n",
    "$\n",
    "  \n",
    "(c) Pyomo Solution in next cell"
   ]
  },
  {
   "cell_type": "code",
   "execution_count": 6,
   "metadata": {
    "collapsed": false,
    "hidden": true
   },
   "outputs": [
    {
     "name": "stdout",
     "output_type": "stream",
     "text": [
      "Minimum Cost = $21.82\n",
      "Servings of Steak = 1.3\n",
      "Servings of Potatoes = 2.9\n"
     ]
    }
   ],
   "source": [
    "# Unfold to see the Pyomo solution with individual decision variables\n",
    "from pyomo.environ import *\n",
    "\n",
    "# Concrete Model\n",
    "model = ConcreteModel(name=\"Ralph\")\n",
    "\n",
    "# Decision Variables\n",
    "model.steak = Var(domain=Reals)\n",
    "model.potatoes = Var(domain=Reals)\n",
    "\n",
    "# Objective\n",
    "model.cost = Objective(expr=8.0 * model.steak + 4.0 * model.potatoes,\n",
    "                       sense=minimize)\n",
    "\n",
    "# Constraints\n",
    "model.carbs = Constraint(expr=5.0 * model.steak + 15.0 * model.potatoes >= 50)\n",
    "model.protein = Constraint(\n",
    "    expr=20.0 * model.steak + 5.0 * model.potatoes >= 40)\n",
    "model.fat = Constraint(expr=15 * model.steak + 2.0 * model.potatoes <= 60)\n",
    "model.sgeq0 = Constraint(expr=model.steak >= 0)\n",
    "model.pgeq0 = Constraint(expr=model.potatoes >= 0)\n",
    "\n",
    "# Solve\n",
    "solver = SolverFactory('glpk')\n",
    "solver.solve(model)\n",
    "\n",
    "# display solution\n",
    "print(f\"Minimum Cost = ${model.cost():,.2f}\")\n",
    "print(f\"Servings of Steak = {model.steak():.1f}\")\n",
    "print(f\"Servings of Potatoes = {model.potatoes():.1f}\")"
   ]
  },
  {
   "cell_type": "markdown",
   "metadata": {
    "collapsed": false,
    "heading_collapsed": true
   },
   "source": [
    "# *Self-Assessment: Formulate and Solve #2*"
   ]
  },
  {
   "cell_type": "markdown",
   "metadata": {
    "collapsed": false,
    "hidden": true
   },
   "source": [
    "(a) The LP model: \n",
    "\n",
    "<img src=\"images/screen-solution4a.png\" alt=\"Solution\" width=\"640\" height=\"350\">   \n",
    "\n",
    "The hard part of this model, for most students, seems to be the constraint\n",
    "that the number of full time workers has to be at least twice the\n",
    "number of part time workers: \n",
    "\n",
    "full time $\\geq$ 2 * part time \n",
    "\n",
    "full time - 2 * part time $\\geq$ 0\n",
    "\n",
    "(b) The Pyomo solution is in the cell below this one.  \n",
    "\n",
    "The objective function minimum cost is \\$4,106.67 if it were possible to have a fractional number of workers per shift.  Of course you can't have a fractional number of workers per shift,\n",
    "but you can either round these values to integers for an approximate\n",
    "solution or you can tell the solver to use only integer values which\n",
    "actually makes the problem into a harder problem called an integer\n",
    "programming problem.  If you round the numbers of consultants to the\n",
    "nearest integer you should find a total cost of \\$4280.\n",
    "\n",
    "\n",
    "(c) Set an integer constraint (**domain=NonNegativeIntegers**) on the decision variable cells and\n",
    "  solve using Pyomo to get a total cost of \\$4160.  Rounding fractional\n",
    "  solutions yielded a less optimal answer than using integer\n",
    "  programming in this case. (In general don't use integer variables unless instructed to do so.  We will see more about this in Lesson 6.)"
   ]
  },
  {
   "cell_type": "code",
   "execution_count": 7,
   "metadata": {
    "collapsed": false,
    "hidden": true
   },
   "outputs": [
    {
     "name": "stdout",
     "output_type": "stream",
     "text": [
      "Total Cost = $4,106.67\n",
      "Number of FT, 8 am - 4 pm: 2.67\n",
      "Number of FT, noon - 8 pm: 2.67\n",
      "Number of FT, 4 pm -12 am: 4.00\n",
      "Number of PT, 8 am -12 pm: 1.33\n",
      "Number of PT, noon - 4 pm: 2.67\n",
      "Number of PT, 4 pm - 8 pm: 3.33\n",
      "Number of PT, 8 pm -12 am: 2.00\n"
     ]
    }
   ],
   "source": [
    "# first, the Pyomo solution to 3.4-10 for real number decision variables\n",
    "\n",
    "from pyomo.environ import *\n",
    "\n",
    "# Concret Model\n",
    "model = ConcreteModel(name = \"Staffing\")\n",
    "\n",
    "# Decision Variables\n",
    "model.x = Var( ['xf1','xf2','xf3','xp1','xp2','xp3','xp4'], \n",
    "              domain = NonNegativeReals)\n",
    "\n",
    "# Objective \n",
    "model.obj = Objective( expr = 40 * 8 * (model.x['xf1'] + model.x['xf2'] + model.x['xf3']) +\n",
    "                      30 * 4 * (model.x['xp1'] + model.x['xp2'] + model.x['xp3'] + \n",
    "                            model.x['xp4']), sense = minimize)\n",
    "\n",
    "# Constraints\n",
    "model.Constraint1 = Constraint( expr = model.x['xf1'] + model.x['xp1'] >= 4 )\n",
    "model.Constraint2 = Constraint( expr = model.x['xf1'] + model.x['xf2'] + \n",
    "                               model.x['xp2'] >= 8 )\n",
    "model.Constraint3 = Constraint( expr = model.x['xf2'] + model.x['xf3'] + \n",
    "                               model.x['xp3'] >= 10 )\n",
    "model.Constraint4 = Constraint( expr = model.x['xf3'] + model.x['xp4'] >= 6 )\n",
    "model.Constraint5 = Constraint( expr = model.x['xf1'] - 2*model.x['xp1'] >= 0 )\n",
    "model.Constraint6 = Constraint( expr = model.x['xf1'] + model.x['xf2'] -\n",
    "                               2*model.x['xp2'] >= 0 )\n",
    "model.Constraint7 = Constraint( expr = model.x['xf2'] + model.x['xf3'] - \n",
    "                               2*model.x['xp3'] >= 0 )\n",
    "model.Constraint8 = Constraint( expr = model.x['xf3'] - 2*model.x['xp4'] >= 0 )\n",
    "                      \n",
    "# Solve\n",
    "solver = SolverFactory('glpk')\n",
    "solver.solve(model)\n",
    "\n",
    "# remove the comment symbol to see the pyomo display of results\n",
    "# display(model)\n",
    "\n",
    "# print a shorter summary of relevant results\n",
    "print(f\"Total Cost = ${model.obj():,.2f}\")\n",
    "print(f\"Number of FT, 8 am - 4 pm: {model.x['xf1']():.2f}\")\n",
    "print(f\"Number of FT, noon - 8 pm: {model.x['xf2']():.2f}\")\n",
    "print(f\"Number of FT, 4 pm -12 am: {model.x['xf3']():.2f}\")\n",
    "print(f\"Number of PT, 8 am -12 pm: {model.x['xp1']():.2f}\")\n",
    "print(f\"Number of PT, noon - 4 pm: {model.x['xp2']():.2f}\")\n",
    "print(f\"Number of PT, 4 pm - 8 pm: {model.x['xp3']():.2f}\")\n",
    "print(f\"Number of PT, 8 pm -12 am: {model.x['xp4']():.2f}\")"
   ]
  },
  {
   "cell_type": "code",
   "execution_count": 8,
   "metadata": {
    "collapsed": false,
    "hidden": true
   },
   "outputs": [
    {
     "name": "stdout",
     "output_type": "stream",
     "text": [
      "Total Cost = $4,160.00\n",
      "Number of FT, 8 am - 4 pm: 3\n",
      "Number of FT, noon - 8 pm: 3\n",
      "Number of FT, 4 pm -12 am: 4\n",
      "Number of PT, 8 am -12 pm: 1\n",
      "Number of PT, noon - 4 pm: 2\n",
      "Number of PT, 4 pm - 8 pm: 3\n",
      "Number of PT, 8 pm -12 am: 2\n"
     ]
    }
   ],
   "source": [
    "# now the solution to 3.4-10 for decison variables restricted to integers\n",
    "\n",
    "from pyomo.environ import *\n",
    "\n",
    "# Concret Model\n",
    "model = ConcreteModel(name = \"Staffing\")\n",
    "\n",
    "# Decision Variables\n",
    "model.x = Var( ['xf1','xf2','xf3','xp1','xp2','xp3','xp4'], \n",
    "              domain = NonNegativeIntegers)\n",
    "\n",
    "# Objective \n",
    "model.obj = Objective( expr = 40 * 8 * (model.x['xf1'] + model.x['xf2'] + model.x['xf3']) +\n",
    "                      30 * 4 * (model.x['xp1'] + model.x['xp2'] + model.x['xp3'] + \n",
    "                            model.x['xp4']), sense = minimize)\n",
    "\n",
    "# Constraints\n",
    "model.Constraint1 = Constraint( expr = model.x['xf1'] + model.x['xp1'] >= 4 )\n",
    "model.Constraint2 = Constraint( expr = model.x['xf1'] + model.x['xf2'] + \n",
    "                               model.x['xp2'] >= 8 )\n",
    "model.Constraint3 = Constraint( expr = model.x['xf2'] + model.x['xf3'] + \n",
    "                               model.x['xp3'] >= 10 )\n",
    "model.Constraint4 = Constraint( expr = model.x['xf3'] + model.x['xp4'] >= 6 )\n",
    "model.Constraint5 = Constraint( expr = model.x['xf1'] - 2*model.x['xp1'] >= 0 )\n",
    "model.Constraint6 = Constraint( expr = model.x['xf1'] + model.x['xf2'] -\n",
    "                               2*model.x['xp2'] >= 0 )\n",
    "model.Constraint7 = Constraint( expr = model.x['xf2'] + model.x['xf3'] - \n",
    "                               2*model.x['xp3'] >= 0 )\n",
    "model.Constraint8 = Constraint( expr = model.x['xf3'] - 2*model.x['xp4'] >= 0 )\n",
    "                      \n",
    "# Solve\n",
    "solver = SolverFactory('glpk')\n",
    "solver.solve(model)\n",
    "\n",
    "# remove the comment symbol to see the pyomo display of results\n",
    "# display(model)\n",
    "\n",
    "# print a shorter summary of relevant results\n",
    "print(f\"Total Cost = ${model.obj():,.2f}\")\n",
    "print(f\"Number of FT, 8 am - 4 pm: {model.x['xf1']():.0f}\")\n",
    "print(f\"Number of FT, noon - 8 pm: {model.x['xf2']():.0f}\")\n",
    "print(f\"Number of FT, 4 pm -12 am: {model.x['xf3']():.0f}\")\n",
    "print(f\"Number of PT, 8 am -12 pm: {model.x['xp1']():.0f}\")\n",
    "print(f\"Number of PT, noon - 4 pm: {model.x['xp2']():.0f}\")\n",
    "print(f\"Number of PT, 4 pm - 8 pm: {model.x['xp3']():.0f}\")\n",
    "print(f\"Number of PT, 8 pm -12 am: {model.x['xp4']():.0f}\")"
   ]
  },
  {
   "cell_type": "markdown",
   "metadata": {
    "collapsed": false,
    "hidden": true
   },
   "source": [
    "### Textbook Problem  3.5-6 (a,e) Solution\n",
    "\n",
    "(a) Model formulation:\n",
    "<img src=\"images/screen-solution3_5-6.png\" width=\"340\" height=\"150\">\n",
    "\n",
    "(e) Optimal solution using the simplex method in Pyomo is in the following cell."
   ]
  },
  {
   "cell_type": "markdown",
   "metadata": {
    "collapsed": false,
    "heading_collapsed": true
   },
   "source": [
    "# *Self-Assessment: Formulate and Solve #3*"
   ]
  },
  {
   "cell_type": "markdown",
   "metadata": {
    "collapsed": false,
    "hidden": true
   },
   "source": [
    "\n",
    "(a) Model formulation:\n",
    "<img src=\"images/screen-solution3_5-6.png\" width=\"340\" height=\"150\">\n",
    "\n",
    "(e) Optimal solution using the simplex method in Pyomo is in the following cell."
   ]
  },
  {
   "cell_type": "code",
   "execution_count": 9,
   "metadata": {
    "collapsed": false,
    "hidden": true
   },
   "outputs": [
    {
     "name": "stdout",
     "output_type": "stream",
     "text": [
      "Minimum investment = 300.0 units\n",
      "Units purchased of Asset 1: 100.0\n",
      "Units purchased of Asset 2: 200.0\n",
      "Units purchased of Asset 3: 0.0\n"
     ]
    }
   ],
   "source": [
    "# Pyomo solution for HW1.6 (Problem 3.5-6)\n",
    "\n",
    "# part e\n",
    "from pyomo.environ import *\n",
    "\n",
    "# Concret Model\n",
    "model = ConcreteModel(name = \"AlvaElectric\")\n",
    "\n",
    "# Decision Variables\n",
    "model.x = Var( ['x1','x2','x3'], domain = NonNegativeReals)\n",
    "\n",
    "# Objective \n",
    "model.obj = Objective( expr = model.x['x1'] + model.x['x2'] + model.x['x3'], \n",
    "                      sense = minimize)\n",
    "\n",
    "# Constraints\n",
    "model.Constraint1 = Constraint( expr = 2*model.x['x1'] + model.x['x2'] +\n",
    "                               0.5*model.x['x3'] >= 400 )\n",
    "model.Constraint2 = Constraint( expr = 0.5*model.x['x1'] + 0.5*model.x['x2'] +\n",
    "                               model.x['x3'] >= 100 )\n",
    "model.Constraint3 = Constraint( expr = 1.5*model.x['x2'] + 2*model.x['x3'] >= 300 )\n",
    "\n",
    "# Solve\n",
    "solver = SolverFactory('glpk')\n",
    "solver.solve(model)\n",
    "\n",
    "# remove the comment symbol to see the pyomo display of results\n",
    "# display(model)\n",
    "\n",
    "# print a shorter summary of relevant results\n",
    "print(f\"Minimum investment = {model.obj():.1f} units\")\n",
    "print(f\"Units purchased of Asset 1: {model.x['x1']():.1f}\")\n",
    "print(f\"Units purchased of Asset 2: {model.x['x2']():.1f}\")\n",
    "print(f\"Units purchased of Asset 3: {model.x['x3']():.1f}\")"
   ]
  }
 ],
 "metadata": {
  "kernelspec": {
   "display_name": "Python 3 (system-wide)",
   "language": "python",
   "metadata": {
    "cocalc": {
     "description": "Python 3 programming language",
     "priority": 100,
     "url": "https://www.python.org/"
    }
   },
   "name": "python3",
   "resource_dir": "/ext/jupyter/kernels/python3"
  },
  "language_info": {
   "codemirror_mode": {
    "name": "ipython",
    "version": 3
   },
   "file_extension": ".py",
   "mimetype": "text/x-python",
   "name": "python",
   "nbconvert_exporter": "python",
   "pygments_lexer": "ipython3",
   "version": "3.8.5"
  },
  "toc": {
   "base_numbering": 1,
   "nav_menu": {
   },
   "number_sections": true,
   "sideBar": true,
   "skip_h1_title": false,
   "title_cell": "Table of Contents",
   "title_sidebar": "Contents",
   "toc_cell": false,
   "toc_position": {
    "height": "calc(100% - 180px)",
    "left": "10px",
    "top": "150px",
    "width": "270.667px"
   },
   "toc_section_display": true,
   "toc_window_display": true
  },
  "varInspector": {
   "cols": {
    "lenName": 16,
    "lenType": 16,
    "lenVar": 40
   },
   "kernels_config": {
    "python": {
     "delete_cmd_postfix": "",
     "delete_cmd_prefix": "del ",
     "library": "var_list.py",
     "varRefreshCmd": "print(var_dic_list())"
    },
    "r": {
     "delete_cmd_postfix": ") ",
     "delete_cmd_prefix": "rm(",
     "library": "var_list.r",
     "varRefreshCmd": "cat(var_dic_list()) "
    }
   },
   "types_to_exclude": [
    "module",
    "function",
    "builtin_function_or_method",
    "instance",
    "_Feature"
   ],
   "window_display": false
  }
 },
 "nbformat": 4,
 "nbformat_minor": 4
}