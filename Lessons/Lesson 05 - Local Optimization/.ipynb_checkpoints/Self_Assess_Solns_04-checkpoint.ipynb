{
 "cells": [
  {
   "cell_type": "code",
   "execution_count": 2,
   "metadata": {
    "code_folding": [
     0
    ]
   },
   "outputs": [],
   "source": [
    "# execute to import notebook styling for tables and width etc.\n",
    "from IPython.core.display import HTML\n",
    "import urllib.request\n",
    "response = urllib.request.urlopen('https://raw.githubusercontent.com/DataScienceUWL/DS775v2/master/ds755.css')\n",
    "HTML(response.read().decode(\"utf-8\"));"
   ]
  },
  {
   "cell_type": "code",
   "execution_count": 2,
   "metadata": {
    "code_folding": [
     0
    ]
   },
   "outputs": [],
   "source": [
    "# imports\n",
    "%matplotlib notebook\n",
    "import numpy as np\n",
    "from scipy import interpolate\n",
    "from scipy.optimize import minimize_scalar, minimize\n",
    "import babel.numbers as numbers\n",
    "import matplotlib.pyplot as plt\n",
    "from matplotlib.patches import Polygon\n",
    "import json\n",
    "import time\n",
    "import seaborn as sns\n",
    "sns.set_style(\"darkgrid\")"
   ]
  },
  {
   "cell_type": "markdown",
   "metadata": {
    "code_folding": [],
    "heading_collapsed": true,
    "scrolled": false
   },
   "source": [
    "#  <font color = \"blue\">Self Assessment:  Minimize to Maximize</font>"
   ]
  },
  {
   "cell_type": "code",
   "execution_count": 16,
   "metadata": {
    "code_folding": [],
    "hidden": true
   },
   "outputs": [
    {
     "name": "stdout",
     "output_type": "stream",
     "text": [
      "The maximum profit is $220312.50 and occurs when 193.75 apartments are rented.\n"
     ]
    }
   ],
   "source": [
    "P = lambda x: -0.008 * x**2 + 3.1 * x - 80  # lambda is for writing one line functions\n",
    "neg_P = lambda x: -P(x)\n",
    "result = minimize(neg_P, x0=150, bounds=[(0, 250)])\n",
    "print(\n",
    "    'The maximum profit is ${:6.2f} and occurs when {:3.2f} apartments are rented.'\n",
    "    .format(-1000 * result.fun[0], result.x[0]))"
   ]
  },
  {
   "cell_type": "markdown",
   "metadata": {
    "hidden": true
   },
   "source": [
    "193.75 is the relaxed solution, but we can't rent 193.75 apartments.  Let's check 193 and 194 to see which yields a larger profit."
   ]
  },
  {
   "cell_type": "code",
   "execution_count": 5,
   "metadata": {
    "hidden": true
   },
   "outputs": [
    {
     "data": {
      "text/plain": [
       "(220.30800000000005, 220.31199999999995)"
      ]
     },
     "execution_count": 5,
     "metadata": {},
     "output_type": "execute_result"
    }
   ],
   "source": [
    "P(193),P(194)"
   ]
  },
  {
   "cell_type": "markdown",
   "metadata": {
    "hidden": true
   },
   "source": [
    "Bottom line:  rent 194 apartments for profit $220,312."
   ]
  },
  {
   "cell_type": "markdown",
   "metadata": {
    "heading_collapsed": true
   },
   "source": [
    "# <font color = \"blue\">Self Assessment:  Finding Multiple Extrema</font>"
   ]
  },
  {
   "cell_type": "code",
   "execution_count": 5,
   "metadata": {
    "code_folding": [
     0
    ],
    "hidden": true
   },
   "outputs": [
    {
     "data": {
      "application/javascript": [
       "/* Put everything inside the global mpl namespace */\n",
       "window.mpl = {};\n",
       "\n",
       "\n",
       "mpl.get_websocket_type = function() {\n",
       "    if (typeof(WebSocket) !== 'undefined') {\n",
       "        return WebSocket;\n",
       "    } else if (typeof(MozWebSocket) !== 'undefined') {\n",
       "        return MozWebSocket;\n",
       "    } else {\n",
       "        alert('Your browser does not have WebSocket support. ' +\n",
       "              'Please try Chrome, Safari or Firefox ≥ 6. ' +\n",
       "              'Firefox 4 and 5 are also supported but you ' +\n",
       "              'have to enable WebSockets in about:config.');\n",
       "    };\n",
       "}\n",
       "\n",
       "mpl.figure = function(figure_id, websocket, ondownload, parent_element) {\n",
       "    this.id = figure_id;\n",
       "\n",
       "    this.ws = websocket;\n",
       "\n",
       "    this.supports_binary = (this.ws.binaryType != undefined);\n",
       "\n",
       "    if (!this.supports_binary) {\n",
       "        var warnings = document.getElementById(\"mpl-warnings\");\n",
       "        if (warnings) {\n",
       "            warnings.style.display = 'block';\n",
       "            warnings.textContent = (\n",
       "                \"This browser does not support binary websocket messages. \" +\n",
       "                    \"Performance may be slow.\");\n",
       "        }\n",
       "    }\n",
       "\n",
       "    this.imageObj = new Image();\n",
       "\n",
       "    this.context = undefined;\n",
       "    this.message = undefined;\n",
       "    this.canvas = undefined;\n",
       "    this.rubberband_canvas = undefined;\n",
       "    this.rubberband_context = undefined;\n",
       "    this.format_dropdown = undefined;\n",
       "\n",
       "    this.image_mode = 'full';\n",
       "\n",
       "    this.root = $('<div/>');\n",
       "    this._root_extra_style(this.root)\n",
       "    this.root.attr('style', 'display: inline-block');\n",
       "\n",
       "    $(parent_element).append(this.root);\n",
       "\n",
       "    this._init_header(this);\n",
       "    this._init_canvas(this);\n",
       "    this._init_toolbar(this);\n",
       "\n",
       "    var fig = this;\n",
       "\n",
       "    this.waiting = false;\n",
       "\n",
       "    this.ws.onopen =  function () {\n",
       "            fig.send_message(\"supports_binary\", {value: fig.supports_binary});\n",
       "            fig.send_message(\"send_image_mode\", {});\n",
       "            if (mpl.ratio != 1) {\n",
       "                fig.send_message(\"set_dpi_ratio\", {'dpi_ratio': mpl.ratio});\n",
       "            }\n",
       "            fig.send_message(\"refresh\", {});\n",
       "        }\n",
       "\n",
       "    this.imageObj.onload = function() {\n",
       "            if (fig.image_mode == 'full') {\n",
       "                // Full images could contain transparency (where diff images\n",
       "                // almost always do), so we need to clear the canvas so that\n",
       "                // there is no ghosting.\n",
       "                fig.context.clearRect(0, 0, fig.canvas.width, fig.canvas.height);\n",
       "            }\n",
       "            fig.context.drawImage(fig.imageObj, 0, 0);\n",
       "        };\n",
       "\n",
       "    this.imageObj.onunload = function() {\n",
       "        fig.ws.close();\n",
       "    }\n",
       "\n",
       "    this.ws.onmessage = this._make_on_message_function(this);\n",
       "\n",
       "    this.ondownload = ondownload;\n",
       "}\n",
       "\n",
       "mpl.figure.prototype._init_header = function() {\n",
       "    var titlebar = $(\n",
       "        '<div class=\"ui-dialog-titlebar ui-widget-header ui-corner-all ' +\n",
       "        'ui-helper-clearfix\"/>');\n",
       "    var titletext = $(\n",
       "        '<div class=\"ui-dialog-title\" style=\"width: 100%; ' +\n",
       "        'text-align: center; padding: 3px;\"/>');\n",
       "    titlebar.append(titletext)\n",
       "    this.root.append(titlebar);\n",
       "    this.header = titletext[0];\n",
       "}\n",
       "\n",
       "\n",
       "\n",
       "mpl.figure.prototype._canvas_extra_style = function(canvas_div) {\n",
       "\n",
       "}\n",
       "\n",
       "\n",
       "mpl.figure.prototype._root_extra_style = function(canvas_div) {\n",
       "\n",
       "}\n",
       "\n",
       "mpl.figure.prototype._init_canvas = function() {\n",
       "    var fig = this;\n",
       "\n",
       "    var canvas_div = $('<div/>');\n",
       "\n",
       "    canvas_div.attr('style', 'position: relative; clear: both; outline: 0');\n",
       "\n",
       "    function canvas_keyboard_event(event) {\n",
       "        return fig.key_event(event, event['data']);\n",
       "    }\n",
       "\n",
       "    canvas_div.keydown('key_press', canvas_keyboard_event);\n",
       "    canvas_div.keyup('key_release', canvas_keyboard_event);\n",
       "    this.canvas_div = canvas_div\n",
       "    this._canvas_extra_style(canvas_div)\n",
       "    this.root.append(canvas_div);\n",
       "\n",
       "    var canvas = $('<canvas/>');\n",
       "    canvas.addClass('mpl-canvas');\n",
       "    canvas.attr('style', \"left: 0; top: 0; z-index: 0; outline: 0\")\n",
       "\n",
       "    this.canvas = canvas[0];\n",
       "    this.context = canvas[0].getContext(\"2d\");\n",
       "\n",
       "    var backingStore = this.context.backingStorePixelRatio ||\n",
       "\tthis.context.webkitBackingStorePixelRatio ||\n",
       "\tthis.context.mozBackingStorePixelRatio ||\n",
       "\tthis.context.msBackingStorePixelRatio ||\n",
       "\tthis.context.oBackingStorePixelRatio ||\n",
       "\tthis.context.backingStorePixelRatio || 1;\n",
       "\n",
       "    mpl.ratio = (window.devicePixelRatio || 1) / backingStore;\n",
       "\n",
       "    var rubberband = $('<canvas/>');\n",
       "    rubberband.attr('style', \"position: absolute; left: 0; top: 0; z-index: 1;\")\n",
       "\n",
       "    var pass_mouse_events = true;\n",
       "\n",
       "    canvas_div.resizable({\n",
       "        start: function(event, ui) {\n",
       "            pass_mouse_events = false;\n",
       "        },\n",
       "        resize: function(event, ui) {\n",
       "            fig.request_resize(ui.size.width, ui.size.height);\n",
       "        },\n",
       "        stop: function(event, ui) {\n",
       "            pass_mouse_events = true;\n",
       "            fig.request_resize(ui.size.width, ui.size.height);\n",
       "        },\n",
       "    });\n",
       "\n",
       "    function mouse_event_fn(event) {\n",
       "        if (pass_mouse_events)\n",
       "            return fig.mouse_event(event, event['data']);\n",
       "    }\n",
       "\n",
       "    rubberband.mousedown('button_press', mouse_event_fn);\n",
       "    rubberband.mouseup('button_release', mouse_event_fn);\n",
       "    // Throttle sequential mouse events to 1 every 20ms.\n",
       "    rubberband.mousemove('motion_notify', mouse_event_fn);\n",
       "\n",
       "    rubberband.mouseenter('figure_enter', mouse_event_fn);\n",
       "    rubberband.mouseleave('figure_leave', mouse_event_fn);\n",
       "\n",
       "    canvas_div.on(\"wheel\", function (event) {\n",
       "        event = event.originalEvent;\n",
       "        event['data'] = 'scroll'\n",
       "        if (event.deltaY < 0) {\n",
       "            event.step = 1;\n",
       "        } else {\n",
       "            event.step = -1;\n",
       "        }\n",
       "        mouse_event_fn(event);\n",
       "    });\n",
       "\n",
       "    canvas_div.append(canvas);\n",
       "    canvas_div.append(rubberband);\n",
       "\n",
       "    this.rubberband = rubberband;\n",
       "    this.rubberband_canvas = rubberband[0];\n",
       "    this.rubberband_context = rubberband[0].getContext(\"2d\");\n",
       "    this.rubberband_context.strokeStyle = \"#000000\";\n",
       "\n",
       "    this._resize_canvas = function(width, height) {\n",
       "        // Keep the size of the canvas, canvas container, and rubber band\n",
       "        // canvas in synch.\n",
       "        canvas_div.css('width', width)\n",
       "        canvas_div.css('height', height)\n",
       "\n",
       "        canvas.attr('width', width * mpl.ratio);\n",
       "        canvas.attr('height', height * mpl.ratio);\n",
       "        canvas.attr('style', 'width: ' + width + 'px; height: ' + height + 'px;');\n",
       "\n",
       "        rubberband.attr('width', width);\n",
       "        rubberband.attr('height', height);\n",
       "    }\n",
       "\n",
       "    // Set the figure to an initial 600x600px, this will subsequently be updated\n",
       "    // upon first draw.\n",
       "    this._resize_canvas(600, 600);\n",
       "\n",
       "    // Disable right mouse context menu.\n",
       "    $(this.rubberband_canvas).bind(\"contextmenu\",function(e){\n",
       "        return false;\n",
       "    });\n",
       "\n",
       "    function set_focus () {\n",
       "        canvas.focus();\n",
       "        canvas_div.focus();\n",
       "    }\n",
       "\n",
       "    window.setTimeout(set_focus, 100);\n",
       "}\n",
       "\n",
       "mpl.figure.prototype._init_toolbar = function() {\n",
       "    var fig = this;\n",
       "\n",
       "    var nav_element = $('<div/>');\n",
       "    nav_element.attr('style', 'width: 100%');\n",
       "    this.root.append(nav_element);\n",
       "\n",
       "    // Define a callback function for later on.\n",
       "    function toolbar_event(event) {\n",
       "        return fig.toolbar_button_onclick(event['data']);\n",
       "    }\n",
       "    function toolbar_mouse_event(event) {\n",
       "        return fig.toolbar_button_onmouseover(event['data']);\n",
       "    }\n",
       "\n",
       "    for(var toolbar_ind in mpl.toolbar_items) {\n",
       "        var name = mpl.toolbar_items[toolbar_ind][0];\n",
       "        var tooltip = mpl.toolbar_items[toolbar_ind][1];\n",
       "        var image = mpl.toolbar_items[toolbar_ind][2];\n",
       "        var method_name = mpl.toolbar_items[toolbar_ind][3];\n",
       "\n",
       "        if (!name) {\n",
       "            // put a spacer in here.\n",
       "            continue;\n",
       "        }\n",
       "        var button = $('<button/>');\n",
       "        button.addClass('ui-button ui-widget ui-state-default ui-corner-all ' +\n",
       "                        'ui-button-icon-only');\n",
       "        button.attr('role', 'button');\n",
       "        button.attr('aria-disabled', 'false');\n",
       "        button.click(method_name, toolbar_event);\n",
       "        button.mouseover(tooltip, toolbar_mouse_event);\n",
       "\n",
       "        var icon_img = $('<span/>');\n",
       "        icon_img.addClass('ui-button-icon-primary ui-icon');\n",
       "        icon_img.addClass(image);\n",
       "        icon_img.addClass('ui-corner-all');\n",
       "\n",
       "        var tooltip_span = $('<span/>');\n",
       "        tooltip_span.addClass('ui-button-text');\n",
       "        tooltip_span.html(tooltip);\n",
       "\n",
       "        button.append(icon_img);\n",
       "        button.append(tooltip_span);\n",
       "\n",
       "        nav_element.append(button);\n",
       "    }\n",
       "\n",
       "    var fmt_picker_span = $('<span/>');\n",
       "\n",
       "    var fmt_picker = $('<select/>');\n",
       "    fmt_picker.addClass('mpl-toolbar-option ui-widget ui-widget-content');\n",
       "    fmt_picker_span.append(fmt_picker);\n",
       "    nav_element.append(fmt_picker_span);\n",
       "    this.format_dropdown = fmt_picker[0];\n",
       "\n",
       "    for (var ind in mpl.extensions) {\n",
       "        var fmt = mpl.extensions[ind];\n",
       "        var option = $(\n",
       "            '<option/>', {selected: fmt === mpl.default_extension}).html(fmt);\n",
       "        fmt_picker.append(option);\n",
       "    }\n",
       "\n",
       "    // Add hover states to the ui-buttons\n",
       "    $( \".ui-button\" ).hover(\n",
       "        function() { $(this).addClass(\"ui-state-hover\");},\n",
       "        function() { $(this).removeClass(\"ui-state-hover\");}\n",
       "    );\n",
       "\n",
       "    var status_bar = $('<span class=\"mpl-message\"/>');\n",
       "    nav_element.append(status_bar);\n",
       "    this.message = status_bar[0];\n",
       "}\n",
       "\n",
       "mpl.figure.prototype.request_resize = function(x_pixels, y_pixels) {\n",
       "    // Request matplotlib to resize the figure. Matplotlib will then trigger a resize in the client,\n",
       "    // which will in turn request a refresh of the image.\n",
       "    this.send_message('resize', {'width': x_pixels, 'height': y_pixels});\n",
       "}\n",
       "\n",
       "mpl.figure.prototype.send_message = function(type, properties) {\n",
       "    properties['type'] = type;\n",
       "    properties['figure_id'] = this.id;\n",
       "    this.ws.send(JSON.stringify(properties));\n",
       "}\n",
       "\n",
       "mpl.figure.prototype.send_draw_message = function() {\n",
       "    if (!this.waiting) {\n",
       "        this.waiting = true;\n",
       "        this.ws.send(JSON.stringify({type: \"draw\", figure_id: this.id}));\n",
       "    }\n",
       "}\n",
       "\n",
       "\n",
       "mpl.figure.prototype.handle_save = function(fig, msg) {\n",
       "    var format_dropdown = fig.format_dropdown;\n",
       "    var format = format_dropdown.options[format_dropdown.selectedIndex].value;\n",
       "    fig.ondownload(fig, format);\n",
       "}\n",
       "\n",
       "\n",
       "mpl.figure.prototype.handle_resize = function(fig, msg) {\n",
       "    var size = msg['size'];\n",
       "    if (size[0] != fig.canvas.width || size[1] != fig.canvas.height) {\n",
       "        fig._resize_canvas(size[0], size[1]);\n",
       "        fig.send_message(\"refresh\", {});\n",
       "    };\n",
       "}\n",
       "\n",
       "mpl.figure.prototype.handle_rubberband = function(fig, msg) {\n",
       "    var x0 = msg['x0'] / mpl.ratio;\n",
       "    var y0 = (fig.canvas.height - msg['y0']) / mpl.ratio;\n",
       "    var x1 = msg['x1'] / mpl.ratio;\n",
       "    var y1 = (fig.canvas.height - msg['y1']) / mpl.ratio;\n",
       "    x0 = Math.floor(x0) + 0.5;\n",
       "    y0 = Math.floor(y0) + 0.5;\n",
       "    x1 = Math.floor(x1) + 0.5;\n",
       "    y1 = Math.floor(y1) + 0.5;\n",
       "    var min_x = Math.min(x0, x1);\n",
       "    var min_y = Math.min(y0, y1);\n",
       "    var width = Math.abs(x1 - x0);\n",
       "    var height = Math.abs(y1 - y0);\n",
       "\n",
       "    fig.rubberband_context.clearRect(\n",
       "        0, 0, fig.canvas.width / mpl.ratio, fig.canvas.height / mpl.ratio);\n",
       "\n",
       "    fig.rubberband_context.strokeRect(min_x, min_y, width, height);\n",
       "}\n",
       "\n",
       "mpl.figure.prototype.handle_figure_label = function(fig, msg) {\n",
       "    // Updates the figure title.\n",
       "    fig.header.textContent = msg['label'];\n",
       "}\n",
       "\n",
       "mpl.figure.prototype.handle_cursor = function(fig, msg) {\n",
       "    var cursor = msg['cursor'];\n",
       "    switch(cursor)\n",
       "    {\n",
       "    case 0:\n",
       "        cursor = 'pointer';\n",
       "        break;\n",
       "    case 1:\n",
       "        cursor = 'default';\n",
       "        break;\n",
       "    case 2:\n",
       "        cursor = 'crosshair';\n",
       "        break;\n",
       "    case 3:\n",
       "        cursor = 'move';\n",
       "        break;\n",
       "    }\n",
       "    fig.rubberband_canvas.style.cursor = cursor;\n",
       "}\n",
       "\n",
       "mpl.figure.prototype.handle_message = function(fig, msg) {\n",
       "    fig.message.textContent = msg['message'];\n",
       "}\n",
       "\n",
       "mpl.figure.prototype.handle_draw = function(fig, msg) {\n",
       "    // Request the server to send over a new figure.\n",
       "    fig.send_draw_message();\n",
       "}\n",
       "\n",
       "mpl.figure.prototype.handle_image_mode = function(fig, msg) {\n",
       "    fig.image_mode = msg['mode'];\n",
       "}\n",
       "\n",
       "mpl.figure.prototype.updated_canvas_event = function() {\n",
       "    // Called whenever the canvas gets updated.\n",
       "    this.send_message(\"ack\", {});\n",
       "}\n",
       "\n",
       "// A function to construct a web socket function for onmessage handling.\n",
       "// Called in the figure constructor.\n",
       "mpl.figure.prototype._make_on_message_function = function(fig) {\n",
       "    return function socket_on_message(evt) {\n",
       "        if (evt.data instanceof Blob) {\n",
       "            /* FIXME: We get \"Resource interpreted as Image but\n",
       "             * transferred with MIME type text/plain:\" errors on\n",
       "             * Chrome.  But how to set the MIME type?  It doesn't seem\n",
       "             * to be part of the websocket stream */\n",
       "            evt.data.type = \"image/png\";\n",
       "\n",
       "            /* Free the memory for the previous frames */\n",
       "            if (fig.imageObj.src) {\n",
       "                (window.URL || window.webkitURL).revokeObjectURL(\n",
       "                    fig.imageObj.src);\n",
       "            }\n",
       "\n",
       "            fig.imageObj.src = (window.URL || window.webkitURL).createObjectURL(\n",
       "                evt.data);\n",
       "            fig.updated_canvas_event();\n",
       "            fig.waiting = false;\n",
       "            return;\n",
       "        }\n",
       "        else if (typeof evt.data === 'string' && evt.data.slice(0, 21) == \"data:image/png;base64\") {\n",
       "            fig.imageObj.src = evt.data;\n",
       "            fig.updated_canvas_event();\n",
       "            fig.waiting = false;\n",
       "            return;\n",
       "        }\n",
       "\n",
       "        var msg = JSON.parse(evt.data);\n",
       "        var msg_type = msg['type'];\n",
       "\n",
       "        // Call the  \"handle_{type}\" callback, which takes\n",
       "        // the figure and JSON message as its only arguments.\n",
       "        try {\n",
       "            var callback = fig[\"handle_\" + msg_type];\n",
       "        } catch (e) {\n",
       "            console.log(\"No handler for the '\" + msg_type + \"' message type: \", msg);\n",
       "            return;\n",
       "        }\n",
       "\n",
       "        if (callback) {\n",
       "            try {\n",
       "                // console.log(\"Handling '\" + msg_type + \"' message: \", msg);\n",
       "                callback(fig, msg);\n",
       "            } catch (e) {\n",
       "                console.log(\"Exception inside the 'handler_\" + msg_type + \"' callback:\", e, e.stack, msg);\n",
       "            }\n",
       "        }\n",
       "    };\n",
       "}\n",
       "\n",
       "// from http://stackoverflow.com/questions/1114465/getting-mouse-location-in-canvas\n",
       "mpl.findpos = function(e) {\n",
       "    //this section is from http://www.quirksmode.org/js/events_properties.html\n",
       "    var targ;\n",
       "    if (!e)\n",
       "        e = window.event;\n",
       "    if (e.target)\n",
       "        targ = e.target;\n",
       "    else if (e.srcElement)\n",
       "        targ = e.srcElement;\n",
       "    if (targ.nodeType == 3) // defeat Safari bug\n",
       "        targ = targ.parentNode;\n",
       "\n",
       "    // jQuery normalizes the pageX and pageY\n",
       "    // pageX,Y are the mouse positions relative to the document\n",
       "    // offset() returns the position of the element relative to the document\n",
       "    var x = e.pageX - $(targ).offset().left;\n",
       "    var y = e.pageY - $(targ).offset().top;\n",
       "\n",
       "    return {\"x\": x, \"y\": y};\n",
       "};\n",
       "\n",
       "/*\n",
       " * return a copy of an object with only non-object keys\n",
       " * we need this to avoid circular references\n",
       " * http://stackoverflow.com/a/24161582/3208463\n",
       " */\n",
       "function simpleKeys (original) {\n",
       "  return Object.keys(original).reduce(function (obj, key) {\n",
       "    if (typeof original[key] !== 'object')\n",
       "        obj[key] = original[key]\n",
       "    return obj;\n",
       "  }, {});\n",
       "}\n",
       "\n",
       "mpl.figure.prototype.mouse_event = function(event, name) {\n",
       "    var canvas_pos = mpl.findpos(event)\n",
       "\n",
       "    if (name === 'button_press')\n",
       "    {\n",
       "        this.canvas.focus();\n",
       "        this.canvas_div.focus();\n",
       "    }\n",
       "\n",
       "    var x = canvas_pos.x * mpl.ratio;\n",
       "    var y = canvas_pos.y * mpl.ratio;\n",
       "\n",
       "    this.send_message(name, {x: x, y: y, button: event.button,\n",
       "                             step: event.step,\n",
       "                             guiEvent: simpleKeys(event)});\n",
       "\n",
       "    /* This prevents the web browser from automatically changing to\n",
       "     * the text insertion cursor when the button is pressed.  We want\n",
       "     * to control all of the cursor setting manually through the\n",
       "     * 'cursor' event from matplotlib */\n",
       "    event.preventDefault();\n",
       "    return false;\n",
       "}\n",
       "\n",
       "mpl.figure.prototype._key_event_extra = function(event, name) {\n",
       "    // Handle any extra behaviour associated with a key event\n",
       "}\n",
       "\n",
       "mpl.figure.prototype.key_event = function(event, name) {\n",
       "\n",
       "    // Prevent repeat events\n",
       "    if (name == 'key_press')\n",
       "    {\n",
       "        if (event.which === this._key)\n",
       "            return;\n",
       "        else\n",
       "            this._key = event.which;\n",
       "    }\n",
       "    if (name == 'key_release')\n",
       "        this._key = null;\n",
       "\n",
       "    var value = '';\n",
       "    if (event.ctrlKey && event.which != 17)\n",
       "        value += \"ctrl+\";\n",
       "    if (event.altKey && event.which != 18)\n",
       "        value += \"alt+\";\n",
       "    if (event.shiftKey && event.which != 16)\n",
       "        value += \"shift+\";\n",
       "\n",
       "    value += 'k';\n",
       "    value += event.which.toString();\n",
       "\n",
       "    this._key_event_extra(event, name);\n",
       "\n",
       "    this.send_message(name, {key: value,\n",
       "                             guiEvent: simpleKeys(event)});\n",
       "    return false;\n",
       "}\n",
       "\n",
       "mpl.figure.prototype.toolbar_button_onclick = function(name) {\n",
       "    if (name == 'download') {\n",
       "        this.handle_save(this, null);\n",
       "    } else {\n",
       "        this.send_message(\"toolbar_button\", {name: name});\n",
       "    }\n",
       "};\n",
       "\n",
       "mpl.figure.prototype.toolbar_button_onmouseover = function(tooltip) {\n",
       "    this.message.textContent = tooltip;\n",
       "};\n",
       "mpl.toolbar_items = [[\"Home\", \"Reset original view\", \"fa fa-home icon-home\", \"home\"], [\"Back\", \"Back to previous view\", \"fa fa-arrow-left icon-arrow-left\", \"back\"], [\"Forward\", \"Forward to next view\", \"fa fa-arrow-right icon-arrow-right\", \"forward\"], [\"\", \"\", \"\", \"\"], [\"Pan\", \"Pan axes with left mouse, zoom with right\", \"fa fa-arrows icon-move\", \"pan\"], [\"Zoom\", \"Zoom to rectangle\", \"fa fa-square-o icon-check-empty\", \"zoom\"], [\"\", \"\", \"\", \"\"], [\"Download\", \"Download plot\", \"fa fa-floppy-o icon-save\", \"download\"]];\n",
       "\n",
       "mpl.extensions = [\"eps\", \"jpeg\", \"pdf\", \"png\", \"ps\", \"raw\", \"svg\", \"tif\"];\n",
       "\n",
       "mpl.default_extension = \"png\";var comm_websocket_adapter = function(comm) {\n",
       "    // Create a \"websocket\"-like object which calls the given IPython comm\n",
       "    // object with the appropriate methods. Currently this is a non binary\n",
       "    // socket, so there is still some room for performance tuning.\n",
       "    var ws = {};\n",
       "\n",
       "    ws.close = function() {\n",
       "        comm.close()\n",
       "    };\n",
       "    ws.send = function(m) {\n",
       "        //console.log('sending', m);\n",
       "        comm.send(m);\n",
       "    };\n",
       "    // Register the callback with on_msg.\n",
       "    comm.on_msg(function(msg) {\n",
       "        //console.log('receiving', msg['content']['data'], msg);\n",
       "        // Pass the mpl event to the overridden (by mpl) onmessage function.\n",
       "        ws.onmessage(msg['content']['data'])\n",
       "    });\n",
       "    return ws;\n",
       "}\n",
       "\n",
       "mpl.mpl_figure_comm = function(comm, msg) {\n",
       "    // This is the function which gets called when the mpl process\n",
       "    // starts-up an IPython Comm through the \"matplotlib\" channel.\n",
       "\n",
       "    var id = msg.content.data.id;\n",
       "    // Get hold of the div created by the display call when the Comm\n",
       "    // socket was opened in Python.\n",
       "    var element = $(\"#\" + id);\n",
       "    var ws_proxy = comm_websocket_adapter(comm)\n",
       "\n",
       "    function ondownload(figure, format) {\n",
       "        window.open(figure.imageObj.src);\n",
       "    }\n",
       "\n",
       "    var fig = new mpl.figure(id, ws_proxy,\n",
       "                           ondownload,\n",
       "                           element.get(0));\n",
       "\n",
       "    // Call onopen now - mpl needs it, as it is assuming we've passed it a real\n",
       "    // web socket which is closed, not our websocket->open comm proxy.\n",
       "    ws_proxy.onopen();\n",
       "\n",
       "    fig.parent_element = element.get(0);\n",
       "    fig.cell_info = mpl.find_output_cell(\"<div id='\" + id + \"'></div>\");\n",
       "    if (!fig.cell_info) {\n",
       "        console.error(\"Failed to find cell for figure\", id, fig);\n",
       "        return;\n",
       "    }\n",
       "\n",
       "    var output_index = fig.cell_info[2]\n",
       "    var cell = fig.cell_info[0];\n",
       "\n",
       "};\n",
       "\n",
       "mpl.figure.prototype.handle_close = function(fig, msg) {\n",
       "    var width = fig.canvas.width/mpl.ratio\n",
       "    fig.root.unbind('remove')\n",
       "\n",
       "    // Update the output cell to use the data from the current canvas.\n",
       "    fig.push_to_output();\n",
       "    var dataURL = fig.canvas.toDataURL();\n",
       "    // Re-enable the keyboard manager in IPython - without this line, in FF,\n",
       "    // the notebook keyboard shortcuts fail.\n",
       "    IPython.keyboard_manager.enable()\n",
       "    $(fig.parent_element).html('<img src=\"' + dataURL + '\" width=\"' + width + '\">');\n",
       "    fig.close_ws(fig, msg);\n",
       "}\n",
       "\n",
       "mpl.figure.prototype.close_ws = function(fig, msg){\n",
       "    fig.send_message('closing', msg);\n",
       "    // fig.ws.close()\n",
       "}\n",
       "\n",
       "mpl.figure.prototype.push_to_output = function(remove_interactive) {\n",
       "    // Turn the data on the canvas into data in the output cell.\n",
       "    var width = this.canvas.width/mpl.ratio\n",
       "    var dataURL = this.canvas.toDataURL();\n",
       "    this.cell_info[1]['text/html'] = '<img src=\"' + dataURL + '\" width=\"' + width + '\">';\n",
       "}\n",
       "\n",
       "mpl.figure.prototype.updated_canvas_event = function() {\n",
       "    // Tell IPython that the notebook contents must change.\n",
       "    IPython.notebook.set_dirty(true);\n",
       "    this.send_message(\"ack\", {});\n",
       "    var fig = this;\n",
       "    // Wait a second, then push the new image to the DOM so\n",
       "    // that it is saved nicely (might be nice to debounce this).\n",
       "    setTimeout(function () { fig.push_to_output() }, 1000);\n",
       "}\n",
       "\n",
       "mpl.figure.prototype._init_toolbar = function() {\n",
       "    var fig = this;\n",
       "\n",
       "    var nav_element = $('<div/>');\n",
       "    nav_element.attr('style', 'width: 100%');\n",
       "    this.root.append(nav_element);\n",
       "\n",
       "    // Define a callback function for later on.\n",
       "    function toolbar_event(event) {\n",
       "        return fig.toolbar_button_onclick(event['data']);\n",
       "    }\n",
       "    function toolbar_mouse_event(event) {\n",
       "        return fig.toolbar_button_onmouseover(event['data']);\n",
       "    }\n",
       "\n",
       "    for(var toolbar_ind in mpl.toolbar_items){\n",
       "        var name = mpl.toolbar_items[toolbar_ind][0];\n",
       "        var tooltip = mpl.toolbar_items[toolbar_ind][1];\n",
       "        var image = mpl.toolbar_items[toolbar_ind][2];\n",
       "        var method_name = mpl.toolbar_items[toolbar_ind][3];\n",
       "\n",
       "        if (!name) { continue; };\n",
       "\n",
       "        var button = $('<button class=\"btn btn-default\" href=\"#\" title=\"' + name + '\"><i class=\"fa ' + image + ' fa-lg\"></i></button>');\n",
       "        button.click(method_name, toolbar_event);\n",
       "        button.mouseover(tooltip, toolbar_mouse_event);\n",
       "        nav_element.append(button);\n",
       "    }\n",
       "\n",
       "    // Add the status bar.\n",
       "    var status_bar = $('<span class=\"mpl-message\" style=\"text-align:right; float: right;\"/>');\n",
       "    nav_element.append(status_bar);\n",
       "    this.message = status_bar[0];\n",
       "\n",
       "    // Add the close button to the window.\n",
       "    var buttongrp = $('<div class=\"btn-group inline pull-right\"></div>');\n",
       "    var button = $('<button class=\"btn btn-mini btn-primary\" href=\"#\" title=\"Stop Interaction\"><i class=\"fa fa-power-off icon-remove icon-large\"></i></button>');\n",
       "    button.click(function (evt) { fig.handle_close(fig, {}); } );\n",
       "    button.mouseover('Stop Interaction', toolbar_mouse_event);\n",
       "    buttongrp.append(button);\n",
       "    var titlebar = this.root.find($('.ui-dialog-titlebar'));\n",
       "    titlebar.prepend(buttongrp);\n",
       "}\n",
       "\n",
       "mpl.figure.prototype._root_extra_style = function(el){\n",
       "    var fig = this\n",
       "    el.on(\"remove\", function(){\n",
       "\tfig.close_ws(fig, {});\n",
       "    });\n",
       "}\n",
       "\n",
       "mpl.figure.prototype._canvas_extra_style = function(el){\n",
       "    // this is important to make the div 'focusable\n",
       "    el.attr('tabindex', 0)\n",
       "    // reach out to IPython and tell the keyboard manager to turn it's self\n",
       "    // off when our div gets focus\n",
       "\n",
       "    // location in version 3\n",
       "    if (IPython.notebook.keyboard_manager) {\n",
       "        IPython.notebook.keyboard_manager.register_events(el);\n",
       "    }\n",
       "    else {\n",
       "        // location in version 2\n",
       "        IPython.keyboard_manager.register_events(el);\n",
       "    }\n",
       "\n",
       "}\n",
       "\n",
       "mpl.figure.prototype._key_event_extra = function(event, name) {\n",
       "    var manager = IPython.notebook.keyboard_manager;\n",
       "    if (!manager)\n",
       "        manager = IPython.keyboard_manager;\n",
       "\n",
       "    // Check for shift+enter\n",
       "    if (event.shiftKey && event.which == 13) {\n",
       "        this.canvas_div.blur();\n",
       "        event.shiftKey = false;\n",
       "        // Send a \"J\" for go to next cell\n",
       "        event.which = 74;\n",
       "        event.keyCode = 74;\n",
       "        manager.command_mode();\n",
       "        manager.handle_keydown(event);\n",
       "    }\n",
       "}\n",
       "\n",
       "mpl.figure.prototype.handle_save = function(fig, msg) {\n",
       "    fig.ondownload(fig, null);\n",
       "}\n",
       "\n",
       "\n",
       "mpl.find_output_cell = function(html_output) {\n",
       "    // Return the cell and output element which can be found *uniquely* in the notebook.\n",
       "    // Note - this is a bit hacky, but it is done because the \"notebook_saving.Notebook\"\n",
       "    // IPython event is triggered only after the cells have been serialised, which for\n",
       "    // our purposes (turning an active figure into a static one), is too late.\n",
       "    var cells = IPython.notebook.get_cells();\n",
       "    var ncells = cells.length;\n",
       "    for (var i=0; i<ncells; i++) {\n",
       "        var cell = cells[i];\n",
       "        if (cell.cell_type === 'code'){\n",
       "            for (var j=0; j<cell.output_area.outputs.length; j++) {\n",
       "                var data = cell.output_area.outputs[j];\n",
       "                if (data.data) {\n",
       "                    // IPython >= 3 moved mimebundle to data attribute of output\n",
       "                    data = data.data;\n",
       "                }\n",
       "                if (data['text/html'] == html_output) {\n",
       "                    return [cell, data, j];\n",
       "                }\n",
       "            }\n",
       "        }\n",
       "    }\n",
       "}\n",
       "\n",
       "// Register the function which deals with the matplotlib target/channel.\n",
       "// The kernel may be null if the page has been refreshed.\n",
       "if (IPython.notebook.kernel != null) {\n",
       "    IPython.notebook.kernel.comm_manager.register_target('matplotlib', mpl.mpl_figure_comm);\n",
       "}\n"
      ],
      "text/plain": [
       "<IPython.core.display.Javascript object>"
      ]
     },
     "metadata": {},
     "output_type": "display_data"
    },
    {
     "data": {
      "text/html": [
       "<img src=\"data:image/png;base64,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\" width=\"399.9999913302337\">"
      ],
      "text/plain": [
       "<IPython.core.display.HTML object>"
      ]
     },
     "metadata": {},
     "output_type": "display_data"
    }
   ],
   "source": [
    "# graph of profit function\n",
    "x = np.linspace(-4,3.6,201)\n",
    "f = lambda x:x**5-x**4-18*x**3+16*x**2+32*x-2\n",
    "fig = plt.figure(figsize=(4,3.5));\n",
    "plt.plot(x,f(x));\n",
    "plt.xlabel('x');\n",
    "plt.ylabel('y');"
   ]
  },
  {
   "cell_type": "markdown",
   "metadata": {
    "hidden": true
   },
   "source": [
    "There appear to be local maxima around $x=-3$ and $x=1$ while there appear to be local minima around $x=-0.5$ and $x = 3.5$."
   ]
  },
  {
   "cell_type": "code",
   "execution_count": 13,
   "metadata": {
    "hidden": true
   },
   "outputs": [
    {
     "name": "stdout",
     "output_type": "stream",
     "text": [
      "There is a local minimum value of -11.91 at x = -0.54\n",
      "There is a local minimum value of -96.27 at x = 3.30\n",
      "There is a local maximum value of 210.19 at x = -3.11\n",
      "There is a local maximum value of 28.85 at x = 1.15\n"
     ]
    }
   ],
   "source": [
    "# find minima first\n",
    "x0_min = [-.5,3.5]\n",
    "for x0 in x0_min:\n",
    "    result = minimize(f,x0)\n",
    "    print('There is a local minimum value of {:3.2f} at x = {:1.2f}'.format(result.fun,result.x[0]))\n",
    "    \n",
    "# now maxima\n",
    "neg_f = lambda x:-f(x)\n",
    "x0_max = [-3,1]\n",
    "for x0 in x0_max:\n",
    "    result = minimize(neg_f,x0)\n",
    "    print('There is a local maximum value of {:3.2f} at x = {:1.2f}'.format(-result.fun,result.x[0]))"
   ]
  },
  {
   "cell_type": "markdown",
   "metadata": {
    "heading_collapsed": true
   },
   "source": [
    "# <font color=\"blue\">Self-Assessment: Rastrigin with dim = 3, dim = 4</font>"
   ]
  },
  {
   "cell_type": "markdown",
   "metadata": {
    "hidden": true
   },
   "source": [
    "How many iterations does it take to reliably find the global minimum with dim = 3?  With dim = 4?  Use the multi-start strategy."
   ]
  },
  {
   "cell_type": "code",
   "execution_count": 11,
   "metadata": {
    "hidden": true
   },
   "outputs": [],
   "source": [
    "def rastrigin(x):\n",
    "    # pass a single vector of length n (=dim) to evaluate Rastrigin\n",
    "    return sum(x**2 + 10 - 10 * np.cos(2 * np.pi * x))"
   ]
  },
  {
   "cell_type": "markdown",
   "metadata": {
    "hidden": true
   },
   "source": [
    "The more local searches we perform, the better the probability of locating the global minimum at the origin.  Experiment with the number of local searches to see how the reliability increases.  It turns out that with dim = 3 it takes about 2000 local searches to have a 90% chance at finding the global minimum.  For dim = 4 it takes about 20000 local searches.\n",
    "\n",
    "It's possible to arrive at these numbers mathematically, but we just want you to get an idea that the number of local searches required increases dramatically as the dimension increases."
   ]
  },
  {
   "cell_type": "code",
   "execution_count": 44,
   "metadata": {
    "hidden": true,
    "scrolled": true
   },
   "outputs": [
    {
     "name": "stdout",
     "output_type": "stream",
     "text": [
      "The global minimum was found 4 times\n"
     ]
    }
   ],
   "source": [
    "def multistart_rastrigin(dim,num_local_searches):\n",
    "    minima = np.zeros(num_local_searches)\n",
    "    for i in range(num_local_searches):\n",
    "        x_initial = np.random.uniform(-5.12, 5.12, dim)\n",
    "        result = minimize(rastrigin, x_initial)\n",
    "        minima[i] = result.fun\n",
    "    return minima\n",
    "\n",
    "dim = 3\n",
    "num_local_searches = 2000\n",
    "min_values = multistart_rastrigin(dim,num_local_searches)\n",
    "successes = sum( min_values < .01)\n",
    "print('The global minimum was found {:d} times'.format(successes) )"
   ]
  },
  {
   "cell_type": "markdown",
   "metadata": {
    "heading_collapsed": true
   },
   "source": [
    "# <font color = \"blue\">Self-Assessment:  Rastrigin with dim = 10 </font>"
   ]
  },
  {
   "cell_type": "markdown",
   "metadata": {
    "hidden": true
   },
   "source": [
    "Do 1000 local search with Rastrigin with dim = 10.  What is the smallest value you find?  How long do you think it would take to find the minimum from randomly chosen initial points like this?  "
   ]
  },
  {
   "cell_type": "code",
   "execution_count": 53,
   "metadata": {
    "hidden": true
   },
   "outputs": [
    {
     "name": "stdout",
     "output_type": "stream",
     "text": [
      "The smallest minimum value found is 15.92\n"
     ]
    }
   ],
   "source": [
    "dim = 10\n",
    "num_local_searches = 1000\n",
    "min_values = multistart_rastrigin(dim,num_local_searches)\n",
    "print('The smallest minimum value found is {:3.2f}'.format(np.min(min_values)))"
   ]
  },
  {
   "cell_type": "markdown",
   "metadata": {
    "hidden": true
   },
   "source": [
    "With 1000 local searches the minimum value seems to be about 16 to 20.  Increasing to 10000 local searches gave a minimum value of about 14.  It's not clear yet how many iterations to use, but it's likely a lot!"
   ]
  },
  {
   "cell_type": "markdown",
   "metadata": {
    "heading_collapsed": true
   },
   "source": [
    "# <font color=\"blue\">Self-Assessment:  How many searches?</font>"
   ]
  },
  {
   "cell_type": "markdown",
   "metadata": {
    "hidden": true
   },
   "source": [
    "We'll start by writing a function that repeats the local search process until the global minimum is found and returns the total number of local searches."
   ]
  },
  {
   "cell_type": "code",
   "execution_count": null,
   "metadata": {
    "hidden": true
   },
   "outputs": [],
   "source": [
    "def repeat_until_found(dim):\n",
    "    best_value = 1.e10\n",
    "    iterations = 0\n",
    "    while best_value > 0.01:\n",
    "        iterations += 1\n",
    "        x_initial = np.random.uniform(-5.12, 5.12, dim)\n",
    "        result = minimize(rastrigin, x_initial)\n",
    "        if result.fun < best_value:\n",
    "            best_value = result.fun\n",
    "    return(iterations)\n",
    "\n",
    "repeat_until_found(1)"
   ]
  },
  {
   "cell_type": "markdown",
   "metadata": {
    "hidden": true
   },
   "source": [
    "Now we do this 100 times for each of dim = 1,2,3 and gather the results.  This code may take several minutes to run."
   ]
  },
  {
   "cell_type": "code",
   "execution_count": 60,
   "metadata": {
    "hidden": true
   },
   "outputs": [],
   "source": [
    "num_trials = 100\n",
    "dims = np.array([1,2,3])\n",
    "iterations = np.zeros((num_trials,len(dims)))\n",
    "for i in range(num_trials):\n",
    "    for j in range(len(dims)):\n",
    "        iterations[i,j] = repeat_until_found(dims[j])"
   ]
  },
  {
   "cell_type": "code",
   "execution_count": 61,
   "metadata": {
    "hidden": true
   },
   "outputs": [
    {
     "name": "stdout",
     "output_type": "stream",
     "text": [
      "In dimension 1 it takes 6.7 local searches, on average, to find the global min.\n",
      "In dimension 2 it takes 97.7 local searches, on average, to find the global min.\n",
      "In dimension 3 it takes 751.8 local searches, on average, to find the global min.\n"
     ]
    }
   ],
   "source": [
    "average_iterations = np.mean(iterations, axis=0)\n",
    "for j in range(len(dims)):\n",
    "    print(\n",
    "        'In dimension {:d} it takes {:3.1f} local searches, on average, to find the global min.'\n",
    "        .format(dims[j], average_iterations[j]))"
   ]
  },
  {
   "cell_type": "markdown",
   "metadata": {
    "hidden": true
   },
   "source": [
    "The number of searches increases roughly by an order of magnitude (power of 10) for each added dimension."
   ]
  },
  {
   "cell_type": "markdown",
   "metadata": {
    "heading_collapsed": true
   },
   "source": [
    "# <font color = \"blue\">Self Assessment: How many searches when dim = 10?</font>"
   ]
  },
  {
   "cell_type": "markdown",
   "metadata": {
    "hidden": true
   },
   "source": [
    "Approximately now many local searches are required to find the global minimum one time when dim = 10?  Is it surprising that you (very likely) didn't find it with 1000 local searches?  Explain"
   ]
  },
  {
   "cell_type": "markdown",
   "metadata": {
    "hidden": true
   },
   "source": [
    "The number of searches would be approximately $(10.28)^{10}$ or"
   ]
  },
  {
   "cell_type": "code",
   "execution_count": 63,
   "metadata": {
    "hidden": true
   },
   "outputs": [
    {
     "data": {
      "text/plain": [
       "'13,180,477,576.06'"
      ]
     },
     "execution_count": 63,
     "metadata": {},
     "output_type": "execute_result"
    }
   ],
   "source": [
    "numbers.format_decimal(10.28**10, locale='en_US')"
   ]
  },
  {
   "cell_type": "markdown",
   "metadata": {
    "hidden": true
   },
   "source": [
    "That's about 13 billion local searches.  Even if we did 10,000 local searches per second, it would still take about two weeks to do enough to find the global minimum once:"
   ]
  },
  {
   "cell_type": "code",
   "execution_count": 68,
   "metadata": {
    "hidden": true
   },
   "outputs": [
    {
     "data": {
      "text/plain": [
       "2.179311768528369"
      ]
     },
     "execution_count": 68,
     "metadata": {},
     "output_type": "execute_result"
    }
   ],
   "source": [
    "# number of weeks to do local searches at 10,000 per second\n",
    "(10.28**10)/10000/3600/24/7"
   ]
  },
  {
   "cell_type": "markdown",
   "metadata": {
    "hidden": true
   },
   "source": [
    "Fortunately there are better approaches that can often deliver results in much less time!"
   ]
  },
  {
   "cell_type": "markdown",
   "metadata": {
    "heading_collapsed": true
   },
   "source": [
    "# <font color = \"blue\"> Self Assessment: Gerrymandering Local Search</font>"
   ]
  },
  {
   "cell_type": "code",
   "execution_count": 69,
   "metadata": {
    "code_folding": [],
    "hidden": true
   },
   "outputs": [],
   "source": [
    "# imports\n",
    "import pandas as pd \n",
    "import numpy as np"
   ]
  },
  {
   "cell_type": "code",
   "execution_count": 83,
   "metadata": {
    "hidden": true
   },
   "outputs": [
    {
     "name": "stdout",
     "output_type": "stream",
     "text": [
      "Best Fitness Value: 7\n"
     ]
    },
    {
     "data": {
      "text/html": [
       "<div>\n",
       "<style scoped>\n",
       "    .dataframe tbody tr th:only-of-type {\n",
       "        vertical-align: middle;\n",
       "    }\n",
       "\n",
       "    .dataframe tbody tr th {\n",
       "        vertical-align: top;\n",
       "    }\n",
       "\n",
       "    .dataframe thead th {\n",
       "        text-align: right;\n",
       "    }\n",
       "</style>\n",
       "<table border=\"1\" class=\"dataframe\">\n",
       "  <thead>\n",
       "    <tr style=\"text-align: right;\">\n",
       "      <th></th>\n",
       "      <th>reps</th>\n",
       "      <th>dems</th>\n",
       "      <th>total</th>\n",
       "      <th>rep_win</th>\n",
       "    </tr>\n",
       "  </thead>\n",
       "  <tbody>\n",
       "    <tr>\n",
       "      <th>0</th>\n",
       "      <td>185</td>\n",
       "      <td>150</td>\n",
       "      <td>335</td>\n",
       "      <td>True</td>\n",
       "    </tr>\n",
       "    <tr>\n",
       "      <th>1</th>\n",
       "      <td>143</td>\n",
       "      <td>176</td>\n",
       "      <td>319</td>\n",
       "      <td>False</td>\n",
       "    </tr>\n",
       "    <tr>\n",
       "      <th>2</th>\n",
       "      <td>62</td>\n",
       "      <td>152</td>\n",
       "      <td>214</td>\n",
       "      <td>False</td>\n",
       "    </tr>\n",
       "    <tr>\n",
       "      <th>3</th>\n",
       "      <td>167</td>\n",
       "      <td>160</td>\n",
       "      <td>327</td>\n",
       "      <td>True</td>\n",
       "    </tr>\n",
       "    <tr>\n",
       "      <th>4</th>\n",
       "      <td>83</td>\n",
       "      <td>72</td>\n",
       "      <td>155</td>\n",
       "      <td>True</td>\n",
       "    </tr>\n",
       "    <tr>\n",
       "      <th>5</th>\n",
       "      <td>180</td>\n",
       "      <td>158</td>\n",
       "      <td>338</td>\n",
       "      <td>True</td>\n",
       "    </tr>\n",
       "    <tr>\n",
       "      <th>6</th>\n",
       "      <td>151</td>\n",
       "      <td>93</td>\n",
       "      <td>244</td>\n",
       "      <td>True</td>\n",
       "    </tr>\n",
       "    <tr>\n",
       "      <th>7</th>\n",
       "      <td>108</td>\n",
       "      <td>155</td>\n",
       "      <td>263</td>\n",
       "      <td>False</td>\n",
       "    </tr>\n",
       "    <tr>\n",
       "      <th>8</th>\n",
       "      <td>159</td>\n",
       "      <td>128</td>\n",
       "      <td>287</td>\n",
       "      <td>True</td>\n",
       "    </tr>\n",
       "    <tr>\n",
       "      <th>9</th>\n",
       "      <td>83</td>\n",
       "      <td>75</td>\n",
       "      <td>158</td>\n",
       "      <td>True</td>\n",
       "    </tr>\n",
       "  </tbody>\n",
       "</table>\n",
       "</div>"
      ],
      "text/plain": [
       "   reps  dems  total  rep_win\n",
       "0   185   150    335     True\n",
       "1   143   176    319    False\n",
       "2    62   152    214    False\n",
       "3   167   160    327     True\n",
       "4    83    72    155     True\n",
       "5   180   158    338     True\n",
       "6   151    93    244     True\n",
       "7   108   155    263    False\n",
       "8   159   128    287     True\n",
       "9    83    75    158     True"
      ]
     },
     "execution_count": 83,
     "metadata": {},
     "output_type": "execute_result"
    }
   ],
   "source": [
    "# load the data + random assignment\n",
    "num_districts = 10\n",
    "min_voters_in_district = 150\n",
    "max_voters_in_district = 350\n",
    "\n",
    "dems = [\n",
    "    152, 81, 75, 34, 62, 38, 48, 74, 98, 66, 83, 86, 72, 28, 112, 45, 93, 72\n",
    "]\n",
    "reps = [62, 59, 83, 52, 87, 87, 69, 49, 62, 72, 75, 82, 83, 53, 98, 82, 68, 98]\n",
    "cities = pd.DataFrame(data={'dems': dems, 'reps': reps})\n",
    "\n",
    "\n",
    "def summarize_districts(assign, cities):\n",
    "    reps = np.zeros(num_districts, dtype=np.int32)\n",
    "    dems = np.zeros(num_districts, dtype=np.int32)\n",
    "    df = cities.groupby(assign).sum()\n",
    "    reps[df.index] = df['reps']\n",
    "    dems[df.index] = df['dems']\n",
    "    total = reps + dems\n",
    "    delta = np.minimum(np.maximum(total, min_voters_in_district),\n",
    "                       max_voters_in_district) - total\n",
    "    rep_win = reps > dems\n",
    "    dict = {'reps': reps, 'dems': dems, 'total': total, 'rep_win': rep_win}\n",
    "    return (pd.DataFrame(data=dict))\n",
    "\n",
    "\n",
    "def fitness_districts(assign, cities):\n",
    "    df = cities.groupby(assign).sum()\n",
    "    fitness = sum(df['reps'] > df['dems'])\n",
    "    total_voters = np.zeros(num_districts, dtype=np.int32)\n",
    "    total_voters[df.index] = df.sum(axis=1)\n",
    "    fitness -= np.abs(\n",
    "        np.minimum(np.maximum(total_voters, 150), 350) - total_voters).sum()\n",
    "    return (fitness)\n",
    "\n",
    "\n",
    "def gerrymandering_search(cities, num_districts, max_no_improve):\n",
    "    # random hill climbing\n",
    "    max_moves_no_improve = 1000\n",
    "\n",
    "    num_cities = cities.shape[0]\n",
    "    current_districts = np.random.randint(low=0,\n",
    "                                          high=num_districts,\n",
    "                                          size=num_cities)\n",
    "    current_fitness = fitness_districts(current_districts, cities)\n",
    "\n",
    "    num_moves_no_improve = 0\n",
    "    while (num_moves_no_improve < max_moves_no_improve):\n",
    "        num_moves_no_improve += 1\n",
    "        new_districts = current_districts.copy()\n",
    "        # randomly choose a city and assign it to a random district\n",
    "        new_districts[np.random.randint(num_cities)] = np.random.randint(\n",
    "            num_districts)\n",
    "        new_fitness = fitness_districts(new_districts, cities)\n",
    "        if new_fitness > current_fitness:\n",
    "            current_fitness = new_fitness\n",
    "            current_districts = new_districts\n",
    "            num_moves_no_improve = 0\n",
    "    return current_fitness, current_districts\n",
    "\n",
    "\n",
    "fitness, districts = gerrymandering_search(cities, 10, 1000)\n",
    "\n",
    "print('Best Fitness Value: {}'.format(fitness))\n",
    "summarize_districts(districts, cities)"
   ]
  },
  {
   "cell_type": "code",
   "execution_count": 87,
   "metadata": {
    "hidden": true
   },
   "outputs": [
    {
     "data": {
      "text/html": [
       "<div>\n",
       "<style scoped>\n",
       "    .dataframe tbody tr th:only-of-type {\n",
       "        vertical-align: middle;\n",
       "    }\n",
       "\n",
       "    .dataframe tbody tr th {\n",
       "        vertical-align: top;\n",
       "    }\n",
       "\n",
       "    .dataframe thead th {\n",
       "        text-align: right;\n",
       "    }\n",
       "</style>\n",
       "<table border=\"1\" class=\"dataframe\">\n",
       "  <thead>\n",
       "    <tr style=\"text-align: right;\">\n",
       "      <th></th>\n",
       "      <th>reps</th>\n",
       "      <th>dems</th>\n",
       "      <th>total</th>\n",
       "      <th>rep_win</th>\n",
       "    </tr>\n",
       "  </thead>\n",
       "  <tbody>\n",
       "    <tr>\n",
       "      <th>0</th>\n",
       "      <td>149</td>\n",
       "      <td>136</td>\n",
       "      <td>285</td>\n",
       "      <td>True</td>\n",
       "    </tr>\n",
       "    <tr>\n",
       "      <th>1</th>\n",
       "      <td>154</td>\n",
       "      <td>152</td>\n",
       "      <td>306</td>\n",
       "      <td>True</td>\n",
       "    </tr>\n",
       "    <tr>\n",
       "      <th>2</th>\n",
       "      <td>144</td>\n",
       "      <td>131</td>\n",
       "      <td>275</td>\n",
       "      <td>True</td>\n",
       "    </tr>\n",
       "    <tr>\n",
       "      <th>3</th>\n",
       "      <td>112</td>\n",
       "      <td>109</td>\n",
       "      <td>221</td>\n",
       "      <td>True</td>\n",
       "    </tr>\n",
       "    <tr>\n",
       "      <th>4</th>\n",
       "      <td>150</td>\n",
       "      <td>146</td>\n",
       "      <td>296</td>\n",
       "      <td>True</td>\n",
       "    </tr>\n",
       "    <tr>\n",
       "      <th>5</th>\n",
       "      <td>111</td>\n",
       "      <td>226</td>\n",
       "      <td>337</td>\n",
       "      <td>False</td>\n",
       "    </tr>\n",
       "    <tr>\n",
       "      <th>6</th>\n",
       "      <td>170</td>\n",
       "      <td>134</td>\n",
       "      <td>304</td>\n",
       "      <td>True</td>\n",
       "    </tr>\n",
       "    <tr>\n",
       "      <th>7</th>\n",
       "      <td>83</td>\n",
       "      <td>75</td>\n",
       "      <td>158</td>\n",
       "      <td>True</td>\n",
       "    </tr>\n",
       "    <tr>\n",
       "      <th>8</th>\n",
       "      <td>98</td>\n",
       "      <td>72</td>\n",
       "      <td>170</td>\n",
       "      <td>True</td>\n",
       "    </tr>\n",
       "    <tr>\n",
       "      <th>9</th>\n",
       "      <td>150</td>\n",
       "      <td>138</td>\n",
       "      <td>288</td>\n",
       "      <td>True</td>\n",
       "    </tr>\n",
       "  </tbody>\n",
       "</table>\n",
       "</div>"
      ],
      "text/plain": [
       "   reps  dems  total  rep_win\n",
       "0   149   136    285     True\n",
       "1   154   152    306     True\n",
       "2   144   131    275     True\n",
       "3   112   109    221     True\n",
       "4   150   146    296     True\n",
       "5   111   226    337    False\n",
       "6   170   134    304     True\n",
       "7    83    75    158     True\n",
       "8    98    72    170     True\n",
       "9   150   138    288     True"
      ]
     },
     "execution_count": 87,
     "metadata": {},
     "output_type": "execute_result"
    }
   ],
   "source": [
    "best_fitness = -1000\n",
    "for i in range(100):\n",
    "    fitness,districts = gerrymandering_search(cities,10,1000)\n",
    "    if fitness > best_fitness:\n",
    "        best_fitness = fitness\n",
    "        best_districts = districts\n",
    "summarize_districts(best_districts,cities)"
   ]
  }
 ],
 "metadata": {
  "kernelspec": {
   "display_name": "Python 3",
   "language": "python",
   "name": "python3"
  },
  "language_info": {
   "codemirror_mode": {
    "name": "ipython",
    "version": 3
   },
   "file_extension": ".py",
   "mimetype": "text/x-python",
   "name": "python",
   "nbconvert_exporter": "python",
   "pygments_lexer": "ipython3",
   "version": "3.7.4"
  },
  "toc": {
   "base_numbering": 1,
   "nav_menu": {},
   "number_sections": true,
   "sideBar": true,
   "skip_h1_title": false,
   "title_cell": "Table of Contents",
   "title_sidebar": "Contents",
   "toc_cell": false,
   "toc_position": {
    "height": "calc(100% - 180px)",
    "left": "10px",
    "top": "150px",
    "width": "294.562px"
   },
   "toc_section_display": true,
   "toc_window_display": true
  },
  "varInspector": {
   "cols": {
    "lenName": 16,
    "lenType": 16,
    "lenVar": 40
   },
   "kernels_config": {
    "python": {
     "delete_cmd_postfix": "",
     "delete_cmd_prefix": "del ",
     "library": "var_list.py",
     "varRefreshCmd": "print(var_dic_list())"
    },
    "r": {
     "delete_cmd_postfix": ") ",
     "delete_cmd_prefix": "rm(",
     "library": "var_list.r",
     "varRefreshCmd": "cat(var_dic_list()) "
    }
   },
   "types_to_exclude": [
    "module",
    "function",
    "builtin_function_or_method",
    "instance",
    "_Feature"
   ],
   "window_display": false
  }
 },
 "nbformat": 4,
 "nbformat_minor": 2
}
