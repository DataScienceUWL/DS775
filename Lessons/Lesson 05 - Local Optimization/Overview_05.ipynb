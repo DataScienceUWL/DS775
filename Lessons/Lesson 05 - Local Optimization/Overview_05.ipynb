{
 "cells": [
  {
   "cell_type": "markdown",
   "metadata": {
    "collapsed": false
   },
   "source": [
    "<font size=18>Overview 05: Local Optimization</font>"
   ]
  },
  {
   "cell_type": "markdown",
   "metadata": {
    "collapsed": false
   },
   "source": [
    "# Topics"
   ]
  },
  {
   "cell_type": "markdown",
   "metadata": {
    "collapsed": false
   },
   "source": [
    "* Quadratic Programming\n",
    "* Local Search Methods for Nonlinear Optimization\n",
    "* Discrete vs. Continuous Optimization\n",
    "* Constrained vs. Unconstrained Optimization\n",
    "* Global vs Local Optimization"
   ]
  },
  {
   "cell_type": "markdown",
   "metadata": {
    "collapsed": false
   },
   "source": [
    "# Learning Outcomes"
   ]
  },
  {
   "cell_type": "markdown",
   "metadata": {
    "collapsed": false
   },
   "source": [
    "The student will be able to:\n",
    "* recognize a quadratic programming problem\n",
    "* use software to solve a quadratic programming \n",
    "* recognize that maximizing and minimizing are essentially the same\n",
    "* find local extrema of continuous functions using Python\n",
    "* use a hill climbing algorithm for combinatorial optimization"
   ]
  },
  {
   "cell_type": "markdown",
   "metadata": {
    "collapsed": false
   },
   "source": [
    "# Student \"To Do\" Checklist"
   ]
  },
  {
   "cell_type": "markdown",
   "metadata": {
    "collapsed": false
   },
   "source": [
    "* Reading\n",
    "    * 13.1-13.5, and 13.7 in Hillier and Liebermann.\n",
    "    * In 13.7 you don't need to read about the KKT conditions or the modified simplex method.  Just be sure to understand what quadratic programming is and is not.\n",
    "* Work your way through the Jupyter notebook called Lesson_05.ipynb.  This is the main presentation and replaces the Storybook presentations used in our other courses.  Use the self-assessments to measure your understanding.\n",
    "* Complete the problems in Homework_04.ipynb and use that to fill in the Canvas quiz.\n",
    "\n",
    "Use Piazza to ask questions when you have them and be sure to check Piazza regularly so you don't miss out on any good Q & A or other discussions."
   ]
  },
  {
   "cell_type": "markdown",
   "metadata": {
    "collapsed": false
   },
   "source": [
    "# Supplemental Materials\n",
    "We have three supplemental notebooks for you in the Extras folder. These are optional resources for those that want a more detailed explanation or need additional support. \n",
    "\n",
    "* Lesson_05_General_Supplement: This file covers topics we've seen students struggle with in the past, including dimensionality, bounds, and multi-start problems.\n",
    "* Lesson_05_Mutable_Parameters: This file covers two different ways to build Pyomo models while allowing some constant to vary.\n",
    "* Lesson_05_TSP_DeepDive: This file covers an in-depth explanation of what's going on in some of the provided functions for the Traveling Salesman Problem that you'll see in this lesson and the next lesson."
   ]
  },
  {
   "cell_type": "code",
   "execution_count": 0,
   "metadata": {
    "collapsed": false
   },
   "outputs": [
   ],
   "source": [
   ]
  }
 ],
 "metadata": {
  "kernelspec": {
   "display_name": "Python 3 (system-wide)",
   "language": "python",
   "metadata": {
    "cocalc": {
     "description": "Python 3 programming language",
     "priority": 100,
     "url": "https://www.python.org/"
    }
   },
   "name": "python3",
   "resource_dir": "/ext/jupyter/kernels/python3"
  },
  "language_info": {
   "codemirror_mode": {
    "name": "ipython",
    "version": 3
   },
   "file_extension": ".py",
   "mimetype": "text/x-python",
   "name": "python",
   "nbconvert_exporter": "python",
   "pygments_lexer": "ipython3",
   "version": "3.6.9"
  },
  "toc": {
   "base_numbering": 1,
   "nav_menu": {
   },
   "number_sections": true,
   "sideBar": true,
   "skip_h1_title": false,
   "title_cell": "Table of Contents",
   "title_sidebar": "Contents",
   "toc_cell": false,
   "toc_position": {
   },
   "toc_section_display": true,
   "toc_window_display": false
  }
 },
 "nbformat": 4,
 "nbformat_minor": 4
}