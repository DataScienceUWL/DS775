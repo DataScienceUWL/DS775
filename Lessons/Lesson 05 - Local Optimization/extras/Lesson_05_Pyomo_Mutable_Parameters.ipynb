{
 "cells": [
  {
   "cell_type": "markdown",
   "metadata": {},
   "source": [
    "# Pyomo Mutable Parameters\n",
    "\n",
    "Sometimes when you are coding a model, you want to be able to run it multiple times with some slight changes. For example, you might want to vary a constraint. Lesson 4 homework has a problem that requires this. There are two ways to do that:\n",
    "\n",
    "1. Wrap the model in a function, using the bit you want to change as a parameter to the function, and re-instantiate the entire model for each value you want to test.\n",
    "2. Use a mutable parameter.\n",
    "\n",
    "Mutable just means that it's a paramter value that can change, instead of being a fixed constant. Let's see a quick example of each. We'll use our old standby - the Wyndor model. We'll vary the constant in the constraint, so that instead of just using 18, we'll try the model with 18, 20, and 22.\n",
    "\n",
    "## Wrapping in a function"
   ]
  },
  {
   "cell_type": "code",
   "execution_count": 2,
   "metadata": {},
   "outputs": [
    {
     "name": "stdout",
     "output_type": "stream",
     "text": [
      "Using Constraint 18\n",
      "Profit =  $36,000.00\n",
      "Batches of Doors =  2.0\n",
      "Batches of Windows =  6.0\n",
      "-------------------------------------------------\n",
      "Using Constraint 20\n",
      "Profit =  $38,000.00\n",
      "Batches of Doors =  2.66666666666667\n",
      "Batches of Windows =  6.0\n",
      "-------------------------------------------------\n",
      "Using Constraint 22\n",
      "Profit =  $40,000.00\n",
      "Batches of Doors =  3.33333333333333\n",
      "Batches of Windows =  6.0\n",
      "-------------------------------------------------\n"
     ]
    }
   ],
   "source": [
    "# unfold to see Pyomo solution with a vector of decision variables\n",
    "from pyomo.environ import *\n",
    "import babel.numbers as numbers  # needed to display as currency\n",
    "\n",
    "############################\n",
    "# NEW: we're defining a function that takes 1 parameter - the constraint value\n",
    "############################\n",
    "def wyndor(c):\n",
    "    # Concrete Model - all of this is exactly the same as whatyou did before, except using the parameter in the constraint\n",
    "    model = ConcreteModel(name=\"Wyndor\")\n",
    "\n",
    "    products = ['drs', 'wdw']\n",
    "\n",
    "    bounds_dict = {'drs': (0, 4), 'wdw': (0, 6)}\n",
    "    def bounds_rule(model, product):\n",
    "        return (bounds_dict[product])\n",
    "    model.x = Var(products, domain=Reals, bounds=bounds_rule)\n",
    "\n",
    "    # Objective\n",
    "    model.profit = Objective(expr=3.0 * model.x['drs'] + 5.0 * model.x['wdw'],\n",
    "                             sense=maximize)\n",
    "\n",
    "    # Constraints\n",
    "    ######################################\n",
    "    #NEW: Here's where we use the parameter\n",
    "    ######################################\n",
    "    model.Constraint3 = Constraint(\n",
    "        expr=3.0 * model.x['drs'] + 2.0 * model.x['wdw'] <= c) \n",
    "\n",
    "    # Solve\n",
    "    solver = SolverFactory('glpk')\n",
    "    solver.solve(model)\n",
    "    return model\n",
    "\n",
    "##########################################\n",
    "# NEW: We'll loop over the 3 values we want to model and call our function for each one\n",
    "##########################################\n",
    "for c in [18,20,22]:\n",
    "    model = wyndor(c)\n",
    "    # display solution\n",
    "    \n",
    "    print(\"Using Constraint\", c)\n",
    "    print(\"Profit = \",\n",
    "          numbers.format_currency(1000 * model.profit(), 'USD', locale='en_US'))\n",
    "    print(\"Batches of Doors = \", model.x['drs']())\n",
    "    print(\"Batches of Windows = \", model.x['wdw']())\n",
    "    print(\"-------------------------------------------------\")"
   ]
  },
  {
   "cell_type": "markdown",
   "metadata": {},
   "source": [
    "## Mutable Parameter\n"
   ]
  },
  {
   "cell_type": "code",
   "execution_count": 4,
   "metadata": {},
   "outputs": [
    {
     "name": "stdout",
     "output_type": "stream",
     "text": [
      "Using Constraint 18\n",
      "Profit =  $36,000.00\n",
      "Batches of Doors =  2.0\n",
      "Batches of Windows =  6.0\n",
      "-------------------------------------------------\n",
      "Using Constraint 20\n",
      "Profit =  $38,000.00\n",
      "Batches of Doors =  2.66666666666667\n",
      "Batches of Windows =  6.0\n",
      "-------------------------------------------------\n",
      "Using Constraint 22\n",
      "Profit =  $40,000.00\n",
      "Batches of Doors =  3.33333333333333\n",
      "Batches of Windows =  6.0\n",
      "-------------------------------------------------\n"
     ]
    }
   ],
   "source": [
    " # Concrete Model - Not wrapped in a function\n",
    "model = ConcreteModel(name=\"Wyndor\")\n",
    "\n",
    "products = ['drs', 'wdw']\n",
    "############################################\n",
    "# NEW: This is our mutable parameter\n",
    "model.c = Param(default=18, mutable=True)\n",
    "############################################\n",
    "bounds_dict = {'drs': (0, 4), 'wdw': (0, 6)}\n",
    "def bounds_rule(model, product):\n",
    "    return (bounds_dict[product])\n",
    "model.x = Var(products, domain=Reals, bounds=bounds_rule)\n",
    "\n",
    "# Objective\n",
    "model.profit = Objective(expr=3.0 * model.x['drs'] + 5.0 * model.x['wdw'],\n",
    "                         sense=maximize)\n",
    "\n",
    "# Constraints\n",
    "######################################\n",
    "#NEW: Here's where we use the parameter\n",
    "######################################\n",
    "model.Constraint3 = Constraint(\n",
    "    expr=3.0 * model.x['drs'] + 2.0 * model.x['wdw'] <= model.c) \n",
    "\n",
    "# Solve\n",
    "solver = SolverFactory('glpk')\n",
    "    \n",
    "##################################\n",
    "#NEW: Loop over our constraints\n",
    "##################################\n",
    "\n",
    "for c in [18,20,22]:\n",
    "    model.c = c\n",
    "    solver.solve(model)\n",
    "    print(\"Using Constraint\", c)\n",
    "    print(\"Profit = \",\n",
    "          numbers.format_currency(1000 * model.profit(), 'USD', locale='en_US'))\n",
    "    print(\"Batches of Doors = \", model.x['drs']())\n",
    "    print(\"Batches of Windows = \", model.x['wdw']())\n",
    "    print(\"-------------------------------------------------\")\n",
    "    "
   ]
  }
 ],
 "metadata": {
  "kernelspec": {
   "display_name": "Python 3",
   "language": "python",
   "name": "python3"
  },
  "language_info": {
   "codemirror_mode": {
    "name": "ipython",
    "version": 3
   },
   "file_extension": ".py",
   "mimetype": "text/x-python",
   "name": "python",
   "nbconvert_exporter": "python",
   "pygments_lexer": "ipython3",
   "version": "3.7.3"
  }
 },
 "nbformat": 4,
 "nbformat_minor": 2
}
