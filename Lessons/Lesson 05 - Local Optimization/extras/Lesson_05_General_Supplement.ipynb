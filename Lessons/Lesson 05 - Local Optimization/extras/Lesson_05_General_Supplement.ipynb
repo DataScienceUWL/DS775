{
 "cells": [
  {
   "cell_type": "code",
   "execution_count": 2,
   "metadata": {},
   "outputs": [],
   "source": [
    "# execute to import notebook styling for tables and width etc.\n",
    "from IPython.core.display import HTML\n",
    "import urllib.request\n",
    "response = urllib.request.urlopen('https://raw.githubusercontent.com/DataScienceUWL/DS775v2/master/ds755.css')\n",
    "HTML(response.read().decode(\"utf-8\"));\n",
    "\n",
    "# imports\n",
    "%matplotlib inline\n",
    "import numpy as np\n",
    "from scipy import interpolate\n",
    "from scipy.optimize import minimize\n",
    "import matplotlib.pyplot as plt\n",
    "from matplotlib.patches import Polygon\n",
    "import seaborn as sns\n",
    "sns.set_style(\"darkgrid\")"
   ]
  },
  {
   "cell_type": "markdown",
   "metadata": {},
   "source": [
    "# Lesson 4 Supplemental Materials\n",
    "\n",
    "There are few concepts in lesson 4 that routinely raise questions for students. Let's address some of them.\n",
    "\n",
    "## Dimensions/Dimensionality\n",
    "The dimension is the number of decision variables that a problem has. For continuous variable problems (these are the f(x) type problems where the decision variable can take on any number) we talk about the number of dimensions as the number of $x$ variables ($x1, x2, x3$), but that's just a convention. We could use any letter. \n",
    "\n",
    "Let's look at a quick example. \n",
    "\n",
    "### One Dimension\n",
    "This is a 1 dimensional function - we only have 1 variable - $x$.\n",
    "\n",
    "$f(x) = |x|^{(sin(3x))} + |x|^{(cos(2x))}$\n",
    "\n",
    "In case some of this notation is new to you, the || means \"the absolute value of\" whatever is inside the pipe symbols. We wouldn't need to do that, except for the fact that numpy gets confused about fractional exponents and this \"fixes\" it. Just go with it. \n",
    "\n",
    "### Two Dimensions\n",
    "This is a 2 dimension problem, because we have 2 decision variables ($x,y$):\n",
    "\n",
    "$f(x,y) = |x|^{(sin(3x))} + |x|^{(cos(2x))} + |y|^{(sin(3y))} + |y|^{(cos(2y))}$\n",
    "\n",
    "*Note*: we're doing all the same math with both x and y and adding them together. That's going to come in handy in a little bit here.\n",
    "\n",
    "We can easily plot our 1 dimension functions on a simple x, y graph. "
   ]
  },
  {
   "cell_type": "code",
   "execution_count": 3,
   "metadata": {},
   "outputs": [
    {
     "data": {
      "image/png": "[encoded data removed]",
      "text/plain": [
       "<Figure size 288x252 with 1 Axes>"
      ]
     },
     "metadata": {
      "needs_background": "light"
     },
     "output_type": "display_data"
    }
   ],
   "source": [
    "# plot p(x) on [-2,2], using 300 points - the higher the number the smoother the line\n",
    "x = np.linspace(-2,2,300)\n",
    "\n",
    "#this is the one-dimension function\n",
    "p = lambda x:np.abs(x)**(np.sin(3*x)) + np.abs(x)**(np.cos(2*x))\n",
    "\n",
    "#plot the function\n",
    "fig = plt.figure(figsize=(4,3.5))\n",
    "plt.plot(x,p(x));\n",
    "plt.xlabel('x');\n",
    "plt.ylabel('y');\n"
   ]
  },
  {
   "cell_type": "markdown",
   "metadata": {},
   "source": [
    "Functions that contain more than 2 dimensions become more difficult to display visually. But, we can display 2 dimensional functions. Here's what our 2 dimensional function looks like."
   ]
  },
  {
   "cell_type": "code",
   "execution_count": null,
   "metadata": {},
   "outputs": [],
   "source": [
    "# 3D graph of 2 dimemsional problem\n",
    "import plotly.graph_objs as go\n",
    "from plotly.offline import download_plotlyjs, init_notebook_mode, plot, iplot\n",
    "import numpy as np\n",
    "\n",
    "x = np.linspace(-2, 2, 401)     \n",
    "y = np.linspace(-2, 2, 401)     \n",
    "X, Y = np.meshgrid(x, y) \n",
    "Z = (np.abs(X)**(np.sin(3*X)) + np.abs(X)**(np.cos(2*X))) + (np.abs(Y)**(np.sin(3*Y)) + np.abs(Y)**(np.cos(2*Y)))\n",
    "\n",
    "\n",
    "data = [\n",
    "    go.Surface( x = X, y = Y, z = Z, colorscale = 'Jet',\n",
    "        contours=go.surface.Contours(\n",
    "            z=go.surface.contours.Z(\n",
    "              show=True,\n",
    "              usecolormap=True,\n",
    "              highlightcolor=\"#42f462\",\n",
    "              project=dict(z=True)\n",
    "            )\n",
    "        )\n",
    "    )\n",
    "]\n",
    "\n",
    "layout = go.Layout(title='2 Dimensional Function',width=600,height=600)\n",
    "fig = go.Figure(data=data, layout=layout)\n",
    "iplot(fig)"
   ]
  },
  {
   "cell_type": "markdown",
   "metadata": {},
   "source": [
    "\n",
    "### Bounds and 1 Dimension Functions\n",
    "\n",
    "Now let's find all the minima with our 1 dimensional function within the bounds of [-2,2]. Remember that scipi optimize will find the **closest** minimum or maximum to the start point, so to find all of them, we'll have to pick start points that will let the algorithm \"fall into\" the correct trough, or \"climb\" the correct hill. How many minima do you see? How many starting points will we need? \n",
    "\n",
    "*Note*: the points at the bounds are neither minima nor maxima. We don't know where they \"go\" after the bounds, so we can't make any assumptions.\n",
    "\n",
    "#### Bounds with scipy minimize\n",
    "To set bounds when you're calling scipy minimize, you can use the 'TNC' method and the bounds parameter. For a 1 dimensional problem, you'll need a single minimum and maximum tuple in an array. \n",
    "\n",
    "*Note:* When you set bounds, scipy passes back an array for the function instead of single value, at least some of the time. If you're ever getting errors with your string formatting, print out the result and double check what scipy has given you.\n",
    "\n"
   ]
  },
  {
   "cell_type": "code",
   "execution_count": 6,
   "metadata": {},
   "outputs": [
    {
     "name": "stdout",
     "output_type": "stream",
     "text": [
      "There is a local minimum value of 1.95 at x = -1.16\n",
      "There is a local minimum value of 0.60 at x = 0.13\n",
      "There is a local minimum value of 1.21 at x = 1.73\n"
     ]
    },
    {
     "data": {
      "text/plain": [
       "<matplotlib.legend.Legend at 0x29822a2b2c8>"
      ]
     },
     "execution_count": 6,
     "metadata": {},
     "output_type": "execute_result"
    },
    {
     "data": {
      "image/png": "[encoded data removed]",
      "text/plain": [
       "<Figure size 288x252 with 1 Axes>"
      ]
     },
     "metadata": {
      "needs_background": "light"
     },
     "output_type": "display_data"
    }
   ],
   "source": [
    "from scipy.optimize import minimize\n",
    "# We see 3 minima, so we'll need 3 starting points\n",
    "x0_min = [-1,-.1,1.2]\n",
    "min_x = []\n",
    "min_y = []\n",
    "for x0 in x0_min:\n",
    "    ####################################\n",
    "    # Note setting bounds here\n",
    "    ####################################\n",
    "    result = minimize(p,x0,method='TNC', bounds=[(-2,2)])\n",
    "    min_x.append(result.x[0])\n",
    "    min_y.append(result.fun[0])\n",
    "    print('There is a local minimum value of {:3.2f} at x = {:1.2f}'.format(result.fun[0],result.x[0]))\n",
    "\n",
    "\n",
    "#replot with the points added\n",
    "x = np.linspace(-2,2,300)\n",
    "fig = plt.figure(figsize=(4,3.5))\n",
    "plt.plot(x,p(x));\n",
    "plt.xlabel('x');\n",
    "plt.ylabel('y');\n",
    "\n",
    "#add dots on the line for min\n",
    "plt.scatter(min_x, min_y, color=\"red\", label=\"Minima\")\n",
    "plt.legend(loc=\"lower left\")        "
   ]
  },
  {
   "cell_type": "markdown",
   "metadata": {},
   "source": [
    "### Bounds with Multi-dimensional Problems\n",
    "\n",
    "To use bounds with multi-dimensional problems, we need to set an array with a tuple of the min and max boundary for each dimension. \n",
    "\n",
    "Let's get one of the minima from our 2 dimensional problem. (If you can roll your mouse over that visual you can get some idea of possible starting points, but we're just going to randomly generate one.)"
   ]
  },
  {
   "cell_type": "code",
   "execution_count": 7,
   "metadata": {},
   "outputs": [
    {
     "name": "stdout",
     "output_type": "stream",
     "text": [
      "x_initial =  [1.5594864  1.64217952]\n",
      "Bounds =  [(-2, 2), (-2, 2)]\n",
      "There is a local minimum value of 2.42 at x = 1.73 and y = 1.73\n"
     ]
    }
   ],
   "source": [
    "from scipy.optimize import minimize\n",
    "# We see 3 minima, so we'll need 3 starting points\n",
    "dim = 2\n",
    "\n",
    "#this returns a numpy array, with as many values as your dimensions\n",
    "x_initial = np.random.uniform(-2, 2, dim)\n",
    "print('x_initial = ', x_initial)\n",
    "\n",
    "\n",
    "#define a function (more on this in a minute)\n",
    "def twoD(start):\n",
    "    return sum((np.abs(start)**(np.sin(3*start)) + np.abs(start)**(np.cos(2*start))))\n",
    "\n",
    "\n",
    "####################################\n",
    "# Note setting bounds here - 2 tuples for 2 dimensions\n",
    "####################################\n",
    "#note that you can multiply this array by the number of dimensions to get a repeating tuple\n",
    "bounds = [(-2,2)] * dim\n",
    "print('Bounds = ', bounds)\n",
    "\n",
    "#get a result\n",
    "result = minimize(twoD,x_initial,method='TNC', bounds=bounds)\n",
    "\n",
    "print('There is a local minimum value of {:3.2f} at x = {:1.2f} and y = {:1.2f}'.format(result.fun,result.x[0],result.x[1]))\n"
   ]
  },
  {
   "cell_type": "markdown",
   "metadata": {},
   "source": [
    "#### What's up with that function?\n",
    "\n",
    "Did you look at that function and wonder what the heck was happening there? Let's break it down. Remember when I said that our 2 dimensional function did all the same \"math\" with both variables? Well, if we pass in a numpy array to our twoD function, it will do the math for each variable. Let's see what that looks like if we do it with a simpler function. First we'll create a super simple function. It's just going to multiply what's passed in by 10."
   ]
  },
  {
   "cell_type": "code",
   "execution_count": 8,
   "metadata": {},
   "outputs": [
    {
     "name": "stdout",
     "output_type": "stream",
     "text": [
      "50\n"
     ]
    }
   ],
   "source": [
    "def simpleFunction(xy):\n",
    "    print(xy * 10)\n",
    "\n",
    "#pass in a single integer    \n",
    "simpleFunction(5)    "
   ]
  },
  {
   "cell_type": "markdown",
   "metadata": {},
   "source": [
    "Note that if we pass in an number, it returns a number. We're familiar with that. All good.\n",
    "\n",
    "What happens if we pass in a regular list?"
   ]
  },
  {
   "cell_type": "code",
   "execution_count": 151,
   "metadata": {},
   "outputs": [
    {
     "name": "stdout",
     "output_type": "stream",
     "text": [
      "[5, 10, 5, 10, 5, 10, 5, 10, 5, 10, 5, 10, 5, 10, 5, 10, 5, 10, 5, 10]\n"
     ]
    }
   ],
   "source": [
    "simpleFunction([5,10])"
   ]
  },
  {
   "cell_type": "markdown",
   "metadata": {},
   "source": [
    "Well, that didn't do what we wanted, did it? That gave us a list with 10 of each of the items in our list. (Note, this is exactly how we got our bounds for 2D problem above. Cool!)\n",
    "\n",
    "Now what happens if we pass in a numpy array?"
   ]
  },
  {
   "cell_type": "code",
   "execution_count": 152,
   "metadata": {},
   "outputs": [
    {
     "name": "stdout",
     "output_type": "stream",
     "text": [
      "[ 50 100]\n"
     ]
    }
   ],
   "source": [
    "#pass in a numpy array\n",
    "my_np_array=np.array([5,10])\n",
    "simpleFunction(my_np_array)"
   ]
  },
  {
   "cell_type": "markdown",
   "metadata": {},
   "source": [
    "Hey now - that's more like it. We multiplied each of our variables by 10. \n",
    "\n",
    "We're still not quite where we want to be though, right? Remember our original function added our 2 results together. Easy peasy. We can just wrap the \"math bits\" with sum in our function.\n",
    "\n",
    "Let's try it out."
   ]
  },
  {
   "cell_type": "code",
   "execution_count": 154,
   "metadata": {},
   "outputs": [
    {
     "name": "stdout",
     "output_type": "stream",
     "text": [
      "150\n"
     ]
    }
   ],
   "source": [
    "def simpleFunction2(xy):\n",
    "    print(sum(xy * 10))\n",
    "    \n",
    "simpleFunction2(my_np_array)    "
   ]
  },
  {
   "cell_type": "markdown",
   "metadata": {},
   "source": [
    "Voila! Our $twoD()$ function is doing the exact same thing, just with more \"math bits.\""
   ]
  },
  {
   "cell_type": "markdown",
   "metadata": {},
   "source": [
    "## Multi-start Problems\n",
    "\n",
    "Multi-start problems just mean that we start the problem multiple times from multiple different starting locations. We did a hard-coded multi-start problem above when finding all of the minima in our 1-dimensional problem. \n",
    "\n",
    "When we look at our 2 dimensional graph, it's pretty hard to figure out where to start by hand, so we can code a multi-start problem to start multiple times, from multiple random locations. In your lesson, you did this to solve the rastrigin problem. But you can do it to solve any problem. Let's try to find the minimum value that we can for our 2-dimension problem by using a multi-start process."
   ]
  },
  {
   "cell_type": "code",
   "execution_count": 143,
   "metadata": {},
   "outputs": [
    {
     "name": "stdout",
     "output_type": "stream",
     "text": [
      "The smallest value found is 1.199 at x = 0.134 and y = 0.134\n"
     ]
    }
   ],
   "source": [
    "#sticking with 2 dimensions here\n",
    "dim = 2\n",
    "#this tells us how many local searches (starts) we want to do\n",
    "num_local_searches = 1000\n",
    "#since we're minimizing, we're starting with our best_value as a large positive number, \n",
    "#knowing that any solution we find will be smaller\n",
    "best_value = 1.e10\n",
    "\n",
    "for i in range(num_local_searches):\n",
    "    x_initial = np.random.uniform(-2, 2, dim) #we want to make sure we start in the right space (-2,2)\n",
    "    #get a result for a single starting point - remember to stay within our bounds\n",
    "    result = minimize(twoD, x_initial,method='TNC', bounds=bounds)\n",
    "    #if this result is less than our current value, keep it\n",
    "    if result.fun < best_value:\n",
    "        best_value = result.fun\n",
    "        best_x = result.x\n",
    "\n",
    "print(\n",
    "    'The smallest value found is {:4.3f} at x = {:1.3f} and y = {:1.3f}'.format(\n",
    "        best_value, best_x[0], best_x[1]))"
   ]
  }
 ],
 "metadata": {
  "kernelspec": {
   "display_name": "Python 3",
   "language": "python",
   "name": "python3"
  },
  "language_info": {
   "codemirror_mode": {
    "name": "ipython",
    "version": 3
   },
   "file_extension": ".py",
   "mimetype": "text/x-python",
   "name": "python",
   "nbconvert_exporter": "python",
   "pygments_lexer": "ipython3",
   "version": "3.7.4"
  }
 },
 "nbformat": 4,
 "nbformat_minor": 2
}
