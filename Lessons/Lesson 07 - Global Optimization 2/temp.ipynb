{
 "cells": [
  {
   "cell_type": "code",
   "execution_count": 3,
   "metadata": {
    "collapsed": false
   },
   "outputs": [
    {
     "name": "stdout",
     "output_type": "stream",
     "text": [
      "Not sorted\n",
      "[ 9. 13.  9. 15. 13.  7.]\n",
      "[[2 3 4]\n",
      " [3 6 4]\n",
      " [2 3 4]\n",
      " [6 4 5]\n",
      " [6 2 5]\n",
      " [4 1 2]]\n",
      "Sorted\n",
      "[[4 1 2]\n",
      " [2 3 4]\n",
      " [2 3 4]\n",
      " [3 6 4]\n",
      " [6 2 5]\n",
      " [6 4 5]]\n"
     ]
    }
   ],
   "source": [
    "import GAUtilities as ga # this is a local package\n",
    "import numpy as np\n",
    "\n",
    "np.random.seed(10101010) #for everything, everything, everything... (Courtesy of the Violent Femmes)\n",
    "pop_size = 6 # should be even due to the way we'll implement crossover\n",
    "ind_size = 3 #this is the number of genes in each individual\n",
    "\n",
    "#bounds are used for both real and integer problems. \n",
    "#For integer problems, the upper bound should be 1 over what you actually want\n",
    "bounds = [1,7]\n",
    "\n",
    "#each type of problem might use different types of populations. This one is a simple matrix of integers.\n",
    "pop = np.random.randint(low=bounds[0], high=bounds[1], size =(pop_size,ind_size))\n",
    "\n",
    "def obj_sumDice(x):\n",
    "    x = np.array(x) # force a numpy arrray here so that the math below works\n",
    "    return np.sum(x)\n",
    "\n",
    "#compute the fitness by passing in the function and population\n",
    "fitness = ga.computeFitness(obj_sumDice, pop)\n",
    "\n",
    "print('Not sorted')\n",
    "print(fitness)\n",
    "print(pop)\n",
    "\n",
    "pop = ga.sortPop(pop, fitness)#sort population\n",
    "\n",
    "print('Sorted')\n",
    "print(pop)"
   ]
  },
  {
   "cell_type": "code",
   "execution_count": 2,
   "metadata": {
    "collapsed": false
   },
   "outputs": [
    {
     "data": {
      "text/plain": [
       "array([[4, 1, 2],\n",
       "       [2, 3, 4],\n",
       "       [2, 3, 4],\n",
       "       [3, 6, 4],\n",
       "       [6, 2, 5],\n",
       "       [6, 4, 5]])"
      ]
     },
     "execution_count": 2,
     "metadata": {
     },
     "output_type": "execute_result"
    }
   ],
   "source": [
   ]
  },
  {
   "cell_type": "code",
   "execution_count": 0,
   "metadata": {
    "collapsed": false
   },
   "outputs": [
   ],
   "source": [
   ]
  }
 ],
 "metadata": {
  "kernelspec": {
   "display_name": "Python 3 (system-wide)",
   "language": "python",
   "metadata": {
    "cocalc": {
     "description": "Python 3 programming language",
     "priority": 100,
     "url": "https://www.python.org/"
    }
   },
   "name": "python3",
   "resource_dir": "/ext/jupyter/kernels/python3"
  },
  "language_info": {
   "codemirror_mode": {
    "name": "ipython",
    "version": 3
   },
   "file_extension": ".py",
   "mimetype": "text/x-python",
   "name": "python",
   "nbconvert_exporter": "python",
   "pygments_lexer": "ipython3",
   "version": "3.8.10"
  }
 },
 "nbformat": 4,
 "nbformat_minor": 4
}