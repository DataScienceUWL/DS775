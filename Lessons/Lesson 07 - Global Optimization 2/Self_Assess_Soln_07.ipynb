{
 "cells": [
  {
   "cell_type": "code",
   "execution_count": 1,
   "metadata": {
    "code_folding": [
    ],
    "collapsed": false
   },
   "outputs": [
   ],
   "source": [
    "# imports\n",
    "import GAUtilities as ga\n",
    "import numpy as np\n",
    "import pandas as pd\n",
    "from simanneal import Annealer\n",
    "import matplotlib.pyplot as plt\n",
    "import seaborn as sns\n",
    "sns.set_style(\"darkgrid\")\n",
    "from scipy.optimize import minimize\n",
    "import random\n",
    "import warnings\n",
    "warnings.filterwarnings('ignore')"
   ]
  },
  {
   "cell_type": "markdown",
   "metadata": {
    "collapsed": false,
    "heading_collapsed": true
   },
   "source": [
    "# Self-Assessment: Using Maximization with GA\n",
    "To maximize, we need to negate the fitness function, because our genetic algorithm only minimizes. Negating the fitness function is simple. You simply add a negative sign before the return variable. Let's set up the same population used in the lesson and get the maximized fitness.\n"
   ]
  },
  {
   "cell_type": "code",
   "execution_count": 2,
   "metadata": {
    "collapsed": false,
    "hidden": true
   },
   "outputs": [
    {
     "data": {
      "text/plain": [
       "array([ -9., -13.,  -9., -15., -13.,  -7.])"
      ]
     },
     "execution_count": 2,
     "metadata": {
     },
     "output_type": "execute_result"
    }
   ],
   "source": [
    "np.random.seed(10101010) #for everything, everything, everything... (Courtesy of the Violent Femmes)\n",
    "pop_size = 6 # should be even due to the way we'll implement crossover\n",
    "ind_size = 3 #this is the number of genes in each individual\n",
    "\n",
    "#bounds are used for both real and integer problems. \n",
    "#For integer problems, the upper bound should be 1 over what you actually want\n",
    "bounds = [1,7]\n",
    "\n",
    "#each type of problem might use different types of populations. This one is a simple matrix of integers.\n",
    "pop = np.random.randint(low=bounds[0], high=bounds[1], size =(pop_size,ind_size))\n",
    "\n",
    "#this is our objective function for this particular problem. Each problem requires a different objective function.\n",
    "def obj_sumDice(x):\n",
    "    x = np.array(x) # force a numpy arrray here so that the math below works\n",
    "    return -np.sum(x)\n",
    "\n",
    "#compute the fitness by passing in the function and population\n",
    "fitness = ga.computeFitness(obj_sumDice, pop)\n",
    "\n",
    "fitness"
   ]
  },
  {
   "cell_type": "markdown",
   "metadata": {
    "collapsed": false,
    "hidden": true
   },
   "source": [
    "Because our fitness function is so simple, and because we know that we're always using numpy arrays, we could also just pass numpy's sum function directly to our helper function like this, to get the minimization fitnesses."
   ]
  },
  {
   "cell_type": "code",
   "execution_count": 3,
   "metadata": {
    "collapsed": false,
    "hidden": true
   },
   "outputs": [
    {
     "data": {
      "text/plain": [
       "array([ 9., 13.,  9., 15., 13.,  7.])"
      ]
     },
     "execution_count": 3,
     "metadata": {
     },
     "output_type": "execute_result"
    }
   ],
   "source": [
    "#calling np.sum directly without our wrapper function\n",
    "fitness = ga.computeFitness(np.sum, pop)\n",
    "fitness"
   ]
  },
  {
   "cell_type": "markdown",
   "metadata": {
    "collapsed": false,
    "hidden": true
   },
   "source": [
    "But, if you try to put a negative sign in front of np.sum, you'll get an error. Numpy, though, has it's own negation function. We could call it like this to turn np.sum into a maximization function."
   ]
  },
  {
   "cell_type": "code",
   "execution_count": 4,
   "metadata": {
    "collapsed": false,
    "hidden": true
   },
   "outputs": [
    {
     "data": {
      "text/plain": [
       "array([ -9., -13.,  -9., -15., -13.,  -7.])"
      ]
     },
     "execution_count": 4,
     "metadata": {
     },
     "output_type": "execute_result"
    }
   ],
   "source": [
    "#negating np.sum for a maximization problem.\n",
    "fitness = np.negative(ga.computeFitness(np.sum, pop))\n",
    "fitness"
   ]
  },
  {
   "cell_type": "markdown",
   "metadata": {
    "collapsed": false,
    "heading_collapsed": true
   },
   "source": [
    "# *Self-Assessment:  Exploring Tournament Selection*\n",
    "\n",
    "*What happens for smaller tournament sizes?*  You should notice that there is more diversity in the selected population and more high value fitness values get selected.  There are fewer repeats in the selected population.\n",
    "\n",
    "*For larger tournament sizes?* There is less diversity in the selected population and mostly low value fitness values get selected.  There are more repeats in the selected population.\n",
    "\n",
    "*For tournament size 1?* This yields the most diverse population with fewest repeats.\n",
    "\n",
    "*For tournament size the same as the population size?* The selected population contains only the individual with the lowest fitness value.  This means crossover will have no effect since all the individuals are the same.  Only the mutation operator will have an effect.\n",
    "\n",
    "*How does tournament size affect the exploration versus exploitation tradeoff?*. Small tournament sizes encourage more exploration and less exploitation while larger tournament sizes have the opposite effect."
   ]
  },
  {
   "cell_type": "markdown",
   "metadata": {
    "collapsed": false,
    "heading_collapsed": true
   },
   "source": [
    "# *Self-Assessment:  Crossover probability*\n",
    "\n",
    "* *What happens if `cx_prob = 0`?* No mating occurs so there is no sharing of information between individuals.  This would result in a population of parallel random local searches.\n",
    "\n",
    "* *What happens if `cx_prob=1`?*  Every pair of individuals mates, this means that there is no chance that a very good solution survives more than one generation unless it happens to mate with a copy of itself."
   ]
  },
  {
   "cell_type": "markdown",
   "metadata": {
    "collapsed": false,
    "heading_collapsed": true
   },
   "source": [
    "# *Self-Assessment: Mutation Parameters:*\n",
    "\n",
    "* *What is the effect of `mut_prob = 1`?*  Every individual is mutated.\n",
    "* *What is the effect of `mut_prob = 0`?*  No individuals are mutated so the genetic algorithm uses only mating to improve the population.\n",
    "* *What is the effect of increasing `ind_prob`?*  Larger values mean more changes in the individual.\n",
    "* *What would happen if you made `sigma` really large?*  The mutations could result in very large steps which could make the search behave erratically.  Mutated individuals might have very little in common with their parents.  Large exploration and small exploitation.\n",
    "* *What would happen if you made `sigma` really small?*  The steps would be very small so the search remains very local.  Small exploration and large exploitation."
   ]
  },
  {
   "cell_type": "markdown",
   "metadata": {
    "collapsed": false
   },
   "source": [
    "# *Self-Assessment:  Genetic Algorithm for the Cargo-loading Problem*"
   ]
  },
  {
   "cell_type": "code",
   "execution_count": 9,
   "metadata": {
    "code_folding": [
    ],
    "collapsed": false
   },
   "outputs": [
   ],
   "source": [
    "# load the data + random assignment\n",
    "np.random.seed(5)\n",
    "num_cars = 4\n",
    "num_items=1000\n",
    "weights = np.random.randint(2,20,size=num_items)\n",
    "np.random.seed()\n",
    "\n",
    "def obj_cargo(groups, weights, showOutput=False):\n",
    "    \n",
    "    #set up a dataframe\n",
    "    df = pd.DataFrame({'weights': weights, 'groups': groups}).set_index('groups').groupby(groups).agg(['count', 'sum']).rename(columns={'sum':'weight_sum','count' : 'group_count'})\n",
    "    df['weight_difference'] = df.diff()[('weights',   'weight_sum')].abs()\n",
    "    df['count_difference'] = df.diff()[('weights',   'group_count')].abs()\n",
    "    \n",
    "    finalVal = np.sum(df['weight_difference']) + (50*np.sum(df['count_difference']))\n",
    "    \n",
    "    if showOutput:\n",
    "        display(df)\n",
    "        print(f'The current fitness is {finalVal}')\n",
    "\n",
    "    return finalVal\n",
    "\n",
    "def mov_cargo(groups, debug=False):\n",
    "    #get the unique groups\n",
    "    choices = np.unique(groups)\n",
    "    #get a copy of the groups\n",
    "    new_groups = groups.copy()    \n",
    "    #select item to change\n",
    "    switch = np.random.randint(0, groups.shape[0])\n",
    "    #select new group value\n",
    "    new_group = np.random.choice(choices)\n",
    "    while groups[switch] == new_group:\n",
    "        new_group = np.random.choice(choices)\n",
    "    new_groups[switch] = new_group    \n",
    "    if debug:\n",
    "        print(f'The item at {switch} should change to {new_group}')\n",
    "        print(f'The initial groups are: {groups} and the changed groups are {new_groups}')\n",
    "       \n",
    "    return new_groups\n",
    "\n",
    "def cargo_search(weights, num_groups, max_no_improve, debug=False):\n",
    "  \n",
    "    #get the total number of items\n",
    "    num_items = weights.shape[0]\n",
    "    \n",
    "    #assign them to the number of groups\n",
    "    current_groups = np.random.randint(low=0,\n",
    "                                          high=num_groups, size=num_items)\n",
    "    #get the current_fitness\n",
    "    current_fitness =  obj_cargo(weights, current_groups)\n",
    "        \n",
    "    num_moves_no_improve = 0\n",
    "    while (num_moves_no_improve < max_no_improve):\n",
    "        num_moves_no_improve += 1\n",
    "        new_groups = mov_cargo(current_groups, debug)\n",
    "        new_fitness = obj_cargo(weights, new_groups)\n",
    "        if debug:\n",
    "            print(f'Old fitness: {current_fitness}, New fitness {new_fitness}')\n",
    "        if new_fitness < current_fitness:\n",
    "            current_fitness = new_fitness\n",
    "            current_groups = new_groups\n",
    "            num_moves_no_improve = 0\n",
    "    return current_fitness, current_groups\n",
    "\n"
   ]
  },
  {
   "cell_type": "code",
   "execution_count": 12,
   "metadata": {
    "code_folding": [
    ],
    "collapsed": false
   },
   "outputs": [
    {
     "name": "stdout",
     "output_type": "stream",
     "text": [
      "Iteration | Best this iter |    Best ever\n",
      "        1 |      8.690e+02 |    8.690e+02\n",
      "      100 |      1.830e+02 |    1.830e+02\n",
      "      200 |      1.830e+02 |    1.830e+02\n",
      "      300 |      1.440e+02 |    1.440e+02\n",
      "      400 |      1.440e+02 |    1.440e+02\n",
      "      500 |      1.440e+02 |    1.440e+02\n",
      "The minimum difference between box car weights is 144\n",
      "That happens when:\n"
     ]
    },
    {
     "data": {
      "text/html": [
       "<div>\n",
       "<style scoped>\n",
       "    .dataframe tbody tr th:only-of-type {\n",
       "        vertical-align: middle;\n",
       "    }\n",
       "\n",
       "    .dataframe tbody tr th {\n",
       "        vertical-align: top;\n",
       "    }\n",
       "\n",
       "    .dataframe thead tr th {\n",
       "        text-align: left;\n",
       "    }\n",
       "</style>\n",
       "<table border=\"1\" class=\"dataframe\">\n",
       "  <thead>\n",
       "    <tr>\n",
       "      <th></th>\n",
       "      <th colspan=\"2\" halign=\"left\">weights</th>\n",
       "      <th>weight_difference</th>\n",
       "      <th>count_difference</th>\n",
       "    </tr>\n",
       "    <tr>\n",
       "      <th></th>\n",
       "      <th>group_count</th>\n",
       "      <th>weight_sum</th>\n",
       "      <th></th>\n",
       "      <th></th>\n",
       "    </tr>\n",
       "  </thead>\n",
       "  <tbody>\n",
       "    <tr>\n",
       "      <th>0</th>\n",
       "      <td>250</td>\n",
       "      <td>2588</td>\n",
       "      <td>NaN</td>\n",
       "      <td>NaN</td>\n",
       "    </tr>\n",
       "    <tr>\n",
       "      <th>1</th>\n",
       "      <td>250</td>\n",
       "      <td>2687</td>\n",
       "      <td>99.0</td>\n",
       "      <td>0.0</td>\n",
       "    </tr>\n",
       "    <tr>\n",
       "      <th>2</th>\n",
       "      <td>250</td>\n",
       "      <td>2655</td>\n",
       "      <td>32.0</td>\n",
       "      <td>0.0</td>\n",
       "    </tr>\n",
       "    <tr>\n",
       "      <th>3</th>\n",
       "      <td>250</td>\n",
       "      <td>2668</td>\n",
       "      <td>13.0</td>\n",
       "      <td>0.0</td>\n",
       "    </tr>\n",
       "  </tbody>\n",
       "</table>\n",
       "</div>"
      ],
      "text/plain": [
       "      weights            weight_difference count_difference\n",
       "  group_count weight_sum                                   \n",
       "0         250       2588               NaN              NaN\n",
       "1         250       2687              99.0              0.0\n",
       "2         250       2655              32.0              0.0\n",
       "3         250       2668              13.0              0.0"
      ]
     },
     "execution_count": 12,
     "metadata": {
     },
     "output_type": "execute_result"
    },
    {
     "name": "stdout",
     "output_type": "stream",
     "text": [
      "The current fitness is 144.0\n"
     ]
    },
    {
     "data": {
      "text/plain": [
       "144.0"
      ]
     },
     "execution_count": 12,
     "metadata": {
     },
     "output_type": "execute_result"
    }
   ],
   "source": [
    "pop_size = 20 # should be even due to the way we'll implement crossover\n",
    "ind_size = num_items # determines number of input variables for each individual\n",
    "tourn_size = 3 # tournament size for selection\n",
    "cx_prob = 0.7 # probability a pair of parents crossover to produce two children\n",
    "mut_prob = 0.3 # probability an individual mutates\n",
    "ind_prob = 0.1 # probability each variable in an individual mutates\n",
    "num_iter = 500 # number of genetic algorithm mutations\n",
    "update_iter = 100 # how often to display output\n",
    "\n",
    "\n",
    "\n",
    "#initialize population and fitness\n",
    "pop = np.random.randint(low=0, high=num_cars, size = (pop_size,ind_size))\n",
    "\n",
    "#note how we're passing named parameters into the computeFitness function\n",
    "fitness = ga.computeFitness(obj_cargo, pop, weights=weights)\n",
    "\n",
    "# initialize stats and output\n",
    "stats, best_fitness, best_x = ga.initStats(fitness, pop, num_iter)\n",
    "\n",
    "#This is where the guts of the algorithm start\n",
    "for iter in range(num_iter):\n",
    "    #sort the population\n",
    "    pop = ga.sortPop(pop, fitness)\n",
    "    # tournament selection\n",
    "    selected_pop = ga.tournamentSelection(pop, tourn_size).astype(int)\n",
    "    \n",
    "    # one-point crossover (mating)\n",
    "    cx_pop = ga.onePointCrossover(selected_pop, cx_prob).astype(int)\n",
    "\n",
    "    # uniform int mutation\n",
    "    mut_pop = ga.uniformIntMutation(cx_pop, mut_prob, ind_prob, [0, num_cars]).astype(int) \n",
    "\n",
    "    # copy mutated pop and re-run fitness\n",
    "    #pop = mut_pop.copy()\n",
    "    pop = ga.addElitism(pop, mut_pop, 1)\n",
    "    fitness = ga.computeFitness(obj_cargo, pop, weights=weights)\n",
    "\n",
    "    # collect stats and output to screen\n",
    "    stats, best_fitness, best_x = ga.updateStats(stats, fitness,best_x, pop, iter, update_iter)\n",
    "\n",
    "\n",
    "#####################\n",
    "# Everything in the algorithm is done, and now we're just outputting the final result\n",
    "#####################\n",
    "print(f\"The minimum difference between box car weights is {best_fitness:.0f}\")\n",
    "print(\"That happens when:\")\n",
    "obj_cargo(best_x, weights, showOutput=True)"
   ]
  }
 ],
 "metadata": {
  "kernelspec": {
   "display_name": "Python 3 (system-wide)",
   "language": "python",
   "metadata": {
    "cocalc": {
     "description": "Python 3 programming language",
     "priority": 100,
     "url": "https://www.python.org/"
    }
   },
   "name": "python3",
   "resource_dir": "/ext/jupyter/kernels/python3"
  },
  "language_info": {
   "codemirror_mode": {
    "name": "ipython",
    "version": 3
   },
   "file_extension": ".py",
   "mimetype": "text/x-python",
   "name": "python",
   "nbconvert_exporter": "python",
   "pygments_lexer": "ipython3",
   "version": "3.7.10"
  },
  "toc": {
   "base_numbering": 1,
   "nav_menu": {
   },
   "number_sections": true,
   "sideBar": true,
   "skip_h1_title": false,
   "title_cell": "Table of Contents",
   "title_sidebar": "Contents",
   "toc_cell": false,
   "toc_position": {
   },
   "toc_section_display": true,
   "toc_window_display": true
  }
 },
 "nbformat": 4,
 "nbformat_minor": 4
}