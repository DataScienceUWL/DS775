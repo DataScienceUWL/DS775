{
 "cells": [
  {
   "cell_type": "code",
   "execution_count": 3,
   "id": "b2d27a",
   "metadata": {
    "code_folding": [
    ],
    "collapsed": false
   },
   "outputs": [
   ],
   "source": [
    "# imports\n",
    "import GAUtilities as ga\n",
    "import numpy as np\n",
    "import pandas as pd\n",
    "from simanneal import Annealer\n",
    "import matplotlib.pyplot as plt\n",
    "import seaborn as sns\n",
    "sns.set_style(\"darkgrid\")\n",
    "from scipy.optimize import minimize\n",
    "import random\n",
    "import warnings\n",
    "warnings.filterwarnings('ignore')\n",
    "from time import time"
   ]
  },
  {
   "cell_type": "markdown",
   "id": "f552b3",
   "metadata": {
    "collapsed": false,
    "heading_collapsed": true
   },
   "source": [
    "# Self-Assessment: Using Maximization with GA\n",
    "To maximize, we need to negate the fitness function, because our genetic algorithm only minimizes. Negating the fitness function is simple. You simply add a negative sign before the return variable. Let's set up the same population used in the lesson and get the maximized fitness.\n"
   ]
  },
  {
   "cell_type": "code",
   "execution_count": 4,
   "id": "ee402f",
   "metadata": {
    "collapsed": false,
    "hidden": true
   },
   "outputs": [
    {
     "data": {
      "text/plain": [
       "array([ -9., -13.,  -9., -15., -13.,  -7.])"
      ]
     },
     "execution_count": 4,
     "metadata": {
     },
     "output_type": "execute_result"
    }
   ],
   "source": [
    "np.random.seed(10101010) #for everything, everything, everything... (Courtesy of the Violent Femmes)\n",
    "pop_size = 6 # should be even due to the way we'll implement crossover\n",
    "ind_size = 3 #this is the number of genes in each individual\n",
    "\n",
    "#bounds are used for both real and integer problems. \n",
    "#For integer problems, the upper bound should be 1 over what you actually want\n",
    "bounds = [1,7]\n",
    "\n",
    "#each type of problem might use different types of populations. This one is a simple matrix of integers.\n",
    "pop = np.random.randint(low=bounds[0], high=bounds[1], size =(pop_size,ind_size))\n",
    "\n",
    "#this is our objective function for this particular problem. Each problem requires a different objective function.\n",
    "def obj_sumDice(x):\n",
    "    x = np.array(x) # force a numpy arrray here so that the math below works\n",
    "    return -np.sum(x)\n",
    "\n",
    "#compute the fitness by passing in the function and population\n",
    "fitness = ga.computeFitness(obj_sumDice, pop)\n",
    "\n",
    "fitness"
   ]
  },
  {
   "cell_type": "markdown",
   "id": "2df032",
   "metadata": {
    "collapsed": false,
    "hidden": true
   },
   "source": [
    "Because our fitness function is so simple, and because we know that we're always using numpy arrays, we could also just pass numpy's sum function directly to our helper function like this, to get the minimization fitnesses."
   ]
  },
  {
   "cell_type": "code",
   "execution_count": 5,
   "id": "717236",
   "metadata": {
    "collapsed": false,
    "hidden": true
   },
   "outputs": [
    {
     "data": {
      "text/plain": [
       "array([ 9., 13.,  9., 15., 13.,  7.])"
      ]
     },
     "execution_count": 5,
     "metadata": {
     },
     "output_type": "execute_result"
    }
   ],
   "source": [
    "#calling np.sum directly without our wrapper function\n",
    "fitness = ga.computeFitness(np.sum, pop)\n",
    "fitness"
   ]
  },
  {
   "cell_type": "markdown",
   "id": "c17c40",
   "metadata": {
    "collapsed": false,
    "hidden": true
   },
   "source": [
    "But, if you try to put a negative sign in front of np.sum, you'll get an error. Numpy, though, has it's own negation function. We could call it like this to turn np.sum into a maximization function."
   ]
  },
  {
   "cell_type": "code",
   "execution_count": 6,
   "id": "8c252f",
   "metadata": {
    "collapsed": false,
    "hidden": true
   },
   "outputs": [
    {
     "data": {
      "text/plain": [
       "array([ -9., -13.,  -9., -15., -13.,  -7.])"
      ]
     },
     "execution_count": 6,
     "metadata": {
     },
     "output_type": "execute_result"
    }
   ],
   "source": [
    "#negating np.sum for a maximization problem.\n",
    "fitness = np.negative(ga.computeFitness(np.sum, pop))\n",
    "fitness"
   ]
  },
  {
   "cell_type": "markdown",
   "id": "7e7bfd",
   "metadata": {
    "collapsed": false,
    "heading_collapsed": true
   },
   "source": [
    "# *Self-Assessment:  Exploring Tournament Selection*\n",
    "\n",
    "*What happens for smaller tournament sizes?*  You should notice that there is more diversity in the selected population and more high value fitness values get selected.  There are fewer repeats in the selected population.\n",
    "\n",
    "*For larger tournament sizes?* There is less diversity in the selected population and mostly low value fitness values get selected.  There are more repeats in the selected population.\n",
    "\n",
    "*For tournament size 1?* This yields the most diverse population with fewest repeats.\n",
    "\n",
    "*For tournament size the same as the population size?* The selected population contains only the individual with the lowest fitness value.  This means crossover will have no effect since all the individuals are the same.  Only the mutation operator will have an effect.\n",
    "\n",
    "*How does tournament size affect the exploration versus exploitation tradeoff?*. Small tournament sizes encourage more exploration and less exploitation while larger tournament sizes have the opposite effect."
   ]
  },
  {
   "cell_type": "markdown",
   "id": "553004",
   "metadata": {
    "collapsed": false,
    "heading_collapsed": true
   },
   "source": [
    "# *Self-Assessment:  Crossover probability*\n",
    "\n",
    "* *What happens if `cx_prob = 0`?* No mating occurs so there is no sharing of information between individuals.  This would result in a population of parallel random local searches.\n",
    "\n",
    "* *What happens if `cx_prob=1`?*  Every pair of individuals mates, this means that there is no chance that a very good solution survives more than one generation unless it happens to mate with a copy of itself."
   ]
  },
  {
   "cell_type": "markdown",
   "id": "63e043",
   "metadata": {
    "collapsed": false,
    "heading_collapsed": true
   },
   "source": [
    "# *Self-Assessment: Mutation Parameters:*\n",
    "\n",
    "* *What is the effect of `mut_prob = 1`?*  Every individual is mutated.\n",
    "* *What is the effect of `mut_prob = 0`?*  No individuals are mutated so the genetic algorithm uses only mating to improve the population.\n",
    "* *What is the effect of increasing `ind_prob`?*  Larger values mean more changes in the individual.\n",
    "* *What would happen if you made `sigma` really large?*  The mutations could result in very large steps which could make the search behave erratically.  Mutated individuals might have very little in common with their parents.  Large exploration and small exploitation.\n",
    "* *What would happen if you made `sigma` really small?*  The steps would be very small so the search remains very local.  Small exploration and large exploitation."
   ]
  },
  {
   "cell_type": "markdown",
   "id": "54be75",
   "metadata": {
    "collapsed": false
   },
   "source": [
    "# *Self-Assessment:  Genetic Algorithm for the Value Balancing Problem*"
   ]
  },
  {
   "cell_type": "code",
   "execution_count": 7,
   "id": "2d6808",
   "metadata": {
    "collapsed": false
   },
   "outputs": [
   ],
   "source": [
    "# problem data and fitness function - DO NOT CHANGE\n",
    "np.random.seed(123)\n",
    "tot_num_items = 1000 # should be divisible by 4\n",
    "num_items = int(tot_num_items / 4)\n",
    "num_groups = 4\n",
    "values = np.random.randint(10,100,size=num_items)\n",
    "values = np.hstack([values,values,values,values])\n",
    "np.random.seed()\n",
    "\n",
    "def group_fitness(groups,values,num_groups):\n",
    "    # groups must be a numpy array with ind_size entries (only one individual)\n",
    "    sums = np.array([ sum( values[ groups == i] ) for i in range(num_groups) ])\n",
    "    return max(sums)-min(sums)"
   ]
  },
  {
   "cell_type": "code",
   "execution_count": 9,
   "id": "17d2e1",
   "metadata": {
    "code_folding": [
    ],
    "collapsed": false
   },
   "outputs": [
    {
     "name": "stdout",
     "output_type": "stream",
     "text": [
      "Iteration | Best this iter |    Best ever\n"
     ]
    },
    {
     "name": "stdout",
     "output_type": "stream",
     "text": [
      "        1 |      2.460e+02 |    2.460e+02\n"
     ]
    },
    {
     "name": "stdout",
     "output_type": "stream",
     "text": [
      "       10 |      1.270e+02 |    5.700e+01\n"
     ]
    },
    {
     "name": "stdout",
     "output_type": "stream",
     "text": [
      "       20 |      2.110e+02 |    5.700e+01\n"
     ]
    },
    {
     "name": "stdout",
     "output_type": "stream",
     "text": [
      "       30 |      2.460e+02 |    5.700e+01\n"
     ]
    },
    {
     "name": "stdout",
     "output_type": "stream",
     "text": [
      "       40 |      7.700e+01 |    5.700e+01\n"
     ]
    },
    {
     "name": "stdout",
     "output_type": "stream",
     "text": [
      "       50 |      7.800e+01 |    5.700e+01\n"
     ]
    },
    {
     "name": "stdout",
     "output_type": "stream",
     "text": [
      "       60 |      1.770e+02 |    5.700e+01\n"
     ]
    },
    {
     "name": "stdout",
     "output_type": "stream",
     "text": [
      "       70 |      1.440e+02 |    5.700e+01\n"
     ]
    },
    {
     "name": "stdout",
     "output_type": "stream",
     "text": [
      "       80 |      1.340e+02 |    5.700e+01\n"
     ]
    },
    {
     "name": "stdout",
     "output_type": "stream",
     "text": [
      "       90 |      8.700e+01 |    4.000e+01\n"
     ]
    },
    {
     "name": "stdout",
     "output_type": "stream",
     "text": [
      "      100 |      1.500e+02 |    4.000e+01\n",
      "The minimized maximum difference between value totals is 40\n",
      "The total time elapsed is: 34.09\n",
      "The total number of function evaluations is: 101000\n"
     ]
    }
   ],
   "source": [
    "## Solution Code for Genetic \n",
    "\n",
    "# genetic algorithm parameters\n",
    "pop_size = 1000 # should be even due to the way we'll implement crossover\n",
    "ind_size = tot_num_items # determines number of input variables for each individual\n",
    "tourn_size = 5 # tournament size for selection\n",
    "cx_prob = 0.8 # probability a pair of parents crossover to produce two children\n",
    "mut_prob = 0.1 # probability an individual mutates\n",
    "ind_prob = 0.01 # probability each variable in an individual mutates\n",
    "num_iter = 100 # number of genetic algorithm mutations\n",
    "update_iter = 10 # how often to display output\n",
    "num_elite = 10 # number of elite individuals to save each generation\n",
    "fitness_fun = group_fitness # change this to the fitness function for your problem\n",
    "\n",
    "#np.random.seed(121)  # set seed here for reproducibility (you can change this number to explore)\n",
    "\n",
    "time_start = time()  # record start time to compute time elapsed at the end\n",
    "\n",
    "#initialize population and fitness\n",
    "pop = np.random.randint(low=0, high=num_groups, size = (pop_size,ind_size))\n",
    "\n",
    "#note how we're passing named parameters into the computeFitness function\n",
    "fitness = ga.computeFitness(fitness_fun, pop, values = values, num_groups = num_groups)\n",
    "\n",
    "# initialize stats and output\n",
    "stats, best_fitness, best_x = ga.initStats(fitness, pop, num_iter)\n",
    "\n",
    "#This is where the guts of the algorithm start\n",
    "for iter in range(num_iter):\n",
    "    #sort the population\n",
    "    #pop = ga.sortPop(pop, fitness)\n",
    "    \n",
    "    # tournament selection\n",
    "    selected_pop = ga.tournamentSelection(pop, tourn_size).astype(int)\n",
    "    \n",
    "    # one-point crossover (mating)\n",
    "    cx_pop = ga.onePointCrossover(selected_pop, cx_prob).astype(int)\n",
    "\n",
    "    # uniform int mutation\n",
    "    mut_pop = ga.uniformIntMutation(cx_pop, mut_prob, ind_prob, [0, num_groups]).astype(int) \n",
    "\n",
    "    # elitism\n",
    "    pop = ga.addElitism(pop, mut_pop, num_elite)\n",
    "    \n",
    "    # evaluate fitness on new population\n",
    "    fitness = ga.computeFitness(fitness_fun, pop, values = values, num_groups = num_groups )\n",
    "\n",
    "    # collect stats and output to screen\n",
    "    stats, best_fitness, best_x = ga.updateStats(stats, fitness,best_x, pop, iter, update_iter)\n",
    "\n",
    "time_elapsed = time() - time_start\n",
    "    \n",
    "#####################\n",
    "# Everything in the algorithm is done, and now we're just outputting the final result\n",
    "#####################\n",
    "print(f\"The minimized maximum difference between value totals is {best_fitness:.0f}\")\n",
    "print(f\"The total time elapsed is: {time_elapsed:0.2f}\")\n",
    "\n",
    "print(f\"The total number of function evaluations is: {(num_iter+1)*pop_size:.0f}\")"
   ]
  },
  {
   "cell_type": "code",
   "execution_count": 0,
   "id": "e5b53b",
   "metadata": {
    "collapsed": false
   },
   "outputs": [
   ],
   "source": [
   ]
  }
 ],
 "metadata": {
  "kernelspec": {
   "argv": [
    "/usr/bin/python3",
    "-m",
    "ipykernel",
    "--HistoryManager.enabled=False",
    "--matplotlib=inline",
    "-c",
    "%config InlineBackend.figure_formats = set(['retina'])\nimport matplotlib; matplotlib.rcParams['figure.figsize'] = (12, 7)",
    "-f",
    "{connection_file}"
   ],
   "display_name": "Python 3 (system-wide)",
   "env": {
   },
   "language": "python",
   "metadata": {
    "cocalc": {
     "description": "Python 3 programming language",
     "priority": 100,
     "url": "https://www.python.org/"
    }
   },
   "name": "python3",
   "resource_dir": "/ext/jupyter/kernels/python3"
  },
  "language_info": {
   "codemirror_mode": {
    "name": "ipython",
    "version": 3
   },
   "file_extension": ".py",
   "mimetype": "text/x-python",
   "name": "python",
   "nbconvert_exporter": "python",
   "pygments_lexer": "ipython3",
   "version": "3.10.12"
  },
  "toc": {
   "base_numbering": 1,
   "nav_menu": {
   },
   "number_sections": true,
   "sideBar": true,
   "skip_h1_title": false,
   "title_cell": "Table of Contents",
   "title_sidebar": "Contents",
   "toc_cell": false,
   "toc_position": {
   },
   "toc_section_display": true,
   "toc_window_display": true
  }
 },
 "nbformat": 4,
 "nbformat_minor": 4
}