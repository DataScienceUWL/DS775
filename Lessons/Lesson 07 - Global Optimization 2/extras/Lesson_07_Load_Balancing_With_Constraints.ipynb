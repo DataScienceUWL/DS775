{
 "cells": [
  {
   "cell_type": "code",
   "execution_count": 1,
   "metadata": {
    "collapsed": false
   },
   "outputs": [
   ],
   "source": [
    "#imports\n",
    "import numpy as np"
   ]
  },
  {
   "cell_type": "markdown",
   "metadata": {
    "collapsed": false
   },
   "source": [
    "# Load Balancing With Contraints Example\n",
    "\n",
    "**Note: Make sure you've already read Part 1, in which we do this problem without constraints. We'll only be explaining the new bits here.**\n",
    "\n",
    "In this example we're going to show how you could use various approaches to solve a **constrained** load balancing problem. \n",
    "\n",
    "For this problem, we're talking execution times on computer processors, with total execution time on certain processors limited to a certain amount. You might see this happen when one processor needs to \"reserve\" processing cycles for some other job not in our load balancing list. \n",
    "\n",
    "We can describe it as:\n",
    "\n",
    "given a list of $n$ execution times, divide them to be executed on $k$ processors so that the total execution time on each processor is as close to the same as possible, while $y$ constrained processors are under $x$ execution time limit.\n",
    "\n",
    "There are two kinds of constraints we can implement with our metaheuristic algorithms:\n",
    "* hard constraints\n",
    "* soft constraints\n",
    "\n",
    "We'll start with hard constraints."
   ]
  },
  {
   "cell_type": "markdown",
   "metadata": {
    "collapsed": false
   },
   "source": [
    "## Hard Constraint\n",
    "A hard constraint is a constraint which rejects any solution that doesn't meet our specifications. We've seen these before in Pyomo when we build our lists of constraints or our bounds. \n",
    "\n",
    "We can use hard constraints with some of our metaheuristics methods. We'll use hard constraints with greedy local search and simulated annealing.\n",
    "\n",
    "There are two ways to implement hard constraints - directly in the loop of our hand-coded solutions, or in the move function. We'll look at both approaches with our greedy local search.\n"
   ]
  },
  {
   "cell_type": "markdown",
   "metadata": {
    "collapsed": false
   },
   "source": [
    "### Hard Constraint - Objective Function\n",
    "For a hard constraint, our objective function remains identical. (If you need a refresher on what the objective function is doing, please see the Lesson_05_Load_Balancing notebook.)\n"
   ]
  },
  {
   "cell_type": "code",
   "execution_count": 2,
   "metadata": {
    "collapsed": false
   },
   "outputs": [
   ],
   "source": [
    "# original objective function = total squared deviation of times from balanced times\n",
    "def balance_metric(assign,times,k):\n",
    "    target = sum(times)/k\n",
    "    return sum( (sum(times[assign==j])-target)**2 for j in range(k) )\n"
   ]
  },
  {
   "cell_type": "markdown",
   "metadata": {
    "collapsed": false
   },
   "source": [
    "### Hard Constraint - Directly In the loop Move Function\n",
    "When we implement our hard constraint directly in our loop for greedy local search, the move function remains the same as it was without constraints. "
   ]
  },
  {
   "cell_type": "code",
   "execution_count": 3,
   "metadata": {
    "collapsed": false
   },
   "outputs": [
   ],
   "source": [
    "# define a move function which changes one processor assignment randomly\n",
    "def reassign_one(assign,k):\n",
    "    n = len(assign)\n",
    "    # choose a job and a new processor assignment\n",
    "    which_job = np.random.randint(0,n,1)[0]\n",
    "    which_proc = np.random.randint(0,k,1)[0]\n",
    "    new_assign = assign.copy()\n",
    "    new_assign[which_job] = which_proc\n",
    "    return new_assign\n"
   ]
  },
  {
   "cell_type": "markdown",
   "metadata": {
    "collapsed": false
   },
   "source": [
    "### Hard Constraint - Enforced in the Move Function\n",
    "But, we can put the hard constraint directly in our move function, instead. We'll implement it by first completing the move, then checking to see if the new assignments meet our constraints. If they do not, we'll return the original assignments. If they do, we'll return the new assignments.\n",
    "\n",
    "To do this, we'll need to pass in two additional parameters:\n",
    "\n",
    "* conproc - the list of constrained processors\n",
    "* conmax - the list of max total processing time allowed on each constrained processor\n",
    "\n",
    "Let's look at the function first.\n",
    "\n"
   ]
  },
  {
   "cell_type": "code",
   "execution_count": 4,
   "metadata": {
    "collapsed": false
   },
   "outputs": [
   ],
   "source": [
    "# define a move function which changes one processor assignment randomly\n",
    "def reassign_one_constrained(assign,k,conproc, conmax):\n",
    "    #get the reassignment\n",
    "    new_assign = reassign_one(assign, k)\n",
    "    ###################\n",
    "    # NEW - Evaluate if the new assignments meet our constraint\n",
    "    over_max = True in [sum(times[new_assign==c]) > conmax[c] for c in conproc]\n",
    "    # Only return a new assignment if it meets our constraints\n",
    "    #uncomment this line to see total time on processor\n",
    "    #print('Total time on each processor (inside function):', [ sum(times[new_assign==j]) for j in range(k)])\n",
    "    if over_max == False:\n",
    "        #print('Not over max') #uncomment this line to see if it passed\n",
    "        return new_assign\n",
    "    else:\n",
    "        #print('Over max') #uncomment this line to see if it failed\n",
    "        return assign\n"
   ]
  },
  {
   "cell_type": "markdown",
   "metadata": {
    "collapsed": false
   },
   "source": [
    "Let's see what the constrained move function looks like with a simple problem. We'll create some sample data, and run the reassign_one_constrained() function, constraining processor 0 to a total processing time of 10. You can uncomment the print statements in the function to see what's happening inside the function, or you can just compare what goes in with what comes out below. Note that if we start with more than 10 on constrained processor (0), we'll still end up with more than 10 on it if our reassignment doesn't \"fix\" it.\n"
   ]
  },
  {
   "cell_type": "code",
   "execution_count": 5,
   "metadata": {
    "collapsed": false
   },
   "outputs": [
    {
     "name": "stdout",
     "output_type": "stream",
     "text": [
      "Total time on each processor (going in): [12, 12, 12]\n",
      "Processor 0 Constrained to 10: [0 0 0 1 1 1 2 2 2]\n",
      "Total time on each processor (coming out): [12, 12, 12]\n"
     ]
    }
   ],
   "source": [
    "k = 3\n",
    "times = np.array([2,4,6,2,4,6,2,4,6])\n",
    "assign=np.array([0,0,0,1,1,1,2,2,2])\n",
    "\n",
    "# total time on each processor ... should be the same\n",
    "print('Total time on each processor (going in):', [ sum(times[assign==j]) for j in range(k)])\n",
    "#reassign one, with processor 0 constrained to 10\n",
    "new_assign = reassign_one_constrained(assign,k, [0], [10])\n",
    "print('Processor 0 Constrained to 10:', new_assign)\n",
    "print('Total time on each processor (coming out):', [ sum(times[new_assign==j]) for j in range(k)])"
   ]
  },
  {
   "cell_type": "markdown",
   "metadata": {
    "collapsed": false
   },
   "source": [
    "### Greedy Local Search - Hard Constraint  In the Loop\n",
    "\n",
    "Let's see what it looks like to use the original function in a greedy local search, and enforce the hard constraint right in the loop.\n",
    "\n",
    "We'll also track whether the algorithm ever finds a solution that meets the constraints. It's possible with a hard constraint that we never find a solution that works.\n"
   ]
  },
  {
   "cell_type": "code",
   "execution_count": 6,
   "metadata": {
    "collapsed": false
   },
   "outputs": [
   ],
   "source": [
    "# local search function\n",
    "def load_balance_local_loop_constraint(times, k, max_no_improve,conproc,conmax):\n",
    "    n = len(times)\n",
    "    # starts from a random assignment to k processors\n",
    "    current_x = np.random.randint(low=0,high=k,size=n)\n",
    "    current_f = balance_metric(current_x, times, k)\n",
    "    best_x = current_x\n",
    "    best_f = current_f\n",
    "    ##########################\n",
    "    # New - track convergence\n",
    "    converged = False\n",
    "    ##########################\n",
    "    # stop search if no better x is found within max_no_improve iterations\n",
    "    num_moves_no_improve = 0\n",
    "    iterations = 0\n",
    "    while (num_moves_no_improve < max_no_improve):\n",
    "        num_moves_no_improve += 1\n",
    "        iterations += 1  # just for tracking\n",
    "        #this is the same as before - using our original reassign_one function\n",
    "        new_x = reassign_one(current_x,k)\n",
    "        ##########################################################\n",
    "        # NEW - Evaluate if the new assignments meet our constraint\n",
    "        over_max = True in [sum(times[new_x==c]) > conmax[c] for c in conproc] \n",
    "        ##################################\n",
    "        new_f = balance_metric(new_x, times, k)\n",
    "        ####################################\n",
    "        #NEW - check both that the new value is less than the old and that we are within our constraints\n",
    "        if new_f < current_f and over_max == False:\n",
    "            #################################\n",
    "            #NEW - track if we ever accept a solution\n",
    "            converged = True\n",
    "            #################################      \n",
    "            num_moves_no_improve = 0\n",
    "            current_x = new_x\n",
    "            current_f = new_f\n",
    "            if current_f < best_f:  \n",
    "                best_x = current_x  \n",
    "                best_f = current_f\n",
    "    return best_x, best_f, iterations, converged"
   ]
  },
  {
   "cell_type": "markdown",
   "metadata": {
    "collapsed": false
   },
   "source": [
    "### Greedy Local Search - Hard Constraint  In the Move Function\n",
    "\n",
    "Next, let's implement the hard constraint directly in our move function (reassign_one_constrained). \n",
    "\n",
    "Again, to use that, we need our two additional parameters, so we'll update our load_balance_local function to take in 2 additional parameters:\n",
    "\n",
    "* conproc - a list of the processors to constrain\n",
    "* conmax - a list of the max times on each processor.\n",
    "\n",
    "We'll again track whether the algorithm ever finds a solution that meets the constraints. \n"
   ]
  },
  {
   "cell_type": "code",
   "execution_count": 7,
   "metadata": {
    "collapsed": false
   },
   "outputs": [
   ],
   "source": [
    "# local search function\n",
    "def load_balance_local_function_constraint(times, k, max_no_improve,conproc,conmax):\n",
    "    n = len(times)\n",
    "    # starts from a random assignment to k processors\n",
    "    current_x = np.random.randint(low=0,high=k,size=n)\n",
    "    current_f = balance_metric(current_x, times, k)\n",
    "    best_x = current_x\n",
    "    best_f = current_f\n",
    "    ##########################\n",
    "    # New - track convergence\n",
    "    converged = False\n",
    "    ##########################\n",
    "    # stop search if no better x is found within max_no_improve iterations\n",
    "    num_moves_no_improve = 0\n",
    "    iterations = 0\n",
    "    while (num_moves_no_improve < max_no_improve):\n",
    "        num_moves_no_improve += 1\n",
    "        iterations += 1  # just for tracking\n",
    "        ##################################\n",
    "        # NEW - pass the extra parameters to reassign_one\n",
    "        new_x = reassign_one_constrained(current_x,k,conproc,conmax)\n",
    "        ##################################\n",
    "        new_f = balance_metric(new_x, times, k)\n",
    "        if new_f < current_f:\n",
    "            #################################\n",
    "            #NEW - track if we ever accept a solution\n",
    "            converged = True\n",
    "            #################################      \n",
    "            num_moves_no_improve = 0\n",
    "            current_x = new_x\n",
    "            current_f = new_f\n",
    "            if current_f < best_f:  \n",
    "                best_x = current_x  \n",
    "                best_f = current_f\n",
    "    return best_x, best_f, iterations, converged"
   ]
  },
  {
   "cell_type": "markdown",
   "metadata": {
    "collapsed": false
   },
   "source": [
    "Let's run each of these with a small number of processors and a small number of job execution times. First let's generate some random data and see what the time on each processor would be if it loads were completely balanced."
   ]
  },
  {
   "cell_type": "code",
   "execution_count": 8,
   "metadata": {
    "collapsed": false
   },
   "outputs": [
    {
     "name": "stdout",
     "output_type": "stream",
     "text": [
      "Total time on each processor, if completely balanced: 1220.6666666666667\n"
     ]
    }
   ],
   "source": [
    "# generate random job times\n",
    "np.random.seed(666) #comment this out to play with new numbers\n",
    "#we'll start with 20 execution times\n",
    "n = 30\n",
    "#we'll start with 2 processors\n",
    "k = 3\n",
    "min_time = 20\n",
    "max_time = 200\n",
    "times = np.random.randint(low=min_time, high = max_time, size = n)\n",
    "assign = np.random.randint(low=0,high=k,size=n)\n",
    "# total time on each processor\n",
    "print('Total time on each processor, if completely balanced:', sum(times)/k)\n"
   ]
  },
  {
   "cell_type": "markdown",
   "metadata": {
    "collapsed": false
   },
   "source": [
    "#### Running local search with constraints\n",
    "\n",
    "Let's start with setting processor 0 to be constrained to a max processing time of 1100. Run this code several times. How often do you get convergence?"
   ]
  },
  {
   "cell_type": "code",
   "execution_count": 9,
   "metadata": {
    "collapsed": false
   },
   "outputs": [
    {
     "name": "stdout",
     "output_type": "stream",
     "text": [
      "Using the Constraint Directly in the Loop\n",
      "The algorithm found a solution that met the criteria: False\n",
      "The best assignment is [2 0 0 2 0 0 1 1 1 1 1 1 0 0 0 2 1 2 1 0 0 1 2 0 0 2 1 1 2 2]\n",
      "Total time on each processor: [1353, 1373, 936]\n",
      "The deviation from balance is 121752.66666666666\n",
      "It took 5000 iterations.\n",
      "------------------------------------------\n",
      "Using the Constraint in the Function\n",
      "The algorithm found a solution that met the criteria: True\n",
      "The best assignment is [2 1 2 0 0 1 1 2 1 1 2 0 2 2 0 1 2 0 0 0 1 1 1 0 0 2 2 1 1 0]\n",
      "Total time on each processor: [1077, 1306, 1279]\n",
      "The deviation from balance is 31324.666666666668\n",
      "It took 5022 iterations.\n"
     ]
    }
   ],
   "source": [
    "#####################\n",
    "# NEW: adding our 2 additional parameters to the function and one additional return variable\n",
    "#####################\n",
    "print('Using the Constraint Directly in the Loop')\n",
    "best_assign, best_f, num_iter, converged = load_balance_local_loop_constraint(times,k,5000,[0],[1100]) \n",
    "print('The algorithm found a solution that met the criteria:', converged)\n",
    "print('The best assignment is', best_assign)\n",
    "print('Total time on each processor:', [ sum(times[best_assign==j]) for j in range(k)])\n",
    "print('The deviation from balance is', best_f)\n",
    "print('It took', num_iter, 'iterations.')\n",
    "print('------------------------------------------')\n",
    "\n",
    "print('Using the Constraint in the Function')\n",
    "best_assign, best_f, num_iter, converged = load_balance_local_function_constraint(times,k,5000,[0],[1100]) \n",
    "print('The algorithm found a solution that met the criteria:', converged)\n",
    "print('The best assignment is', best_assign)\n",
    "print('Total time on each processor:', [ sum(times[best_assign==j]) for j in range(k)])\n",
    "print('The deviation from balance is', best_f)\n",
    "print('It took', num_iter, 'iterations.')"
   ]
  },
  {
   "cell_type": "markdown",
   "metadata": {
    "collapsed": false
   },
   "source": [
    "#### What's happening?\n",
    "This isn't working very well, is it? Why not? Well, let's say we start with 1400 on our constrained processor and our largest processing time is 200. 1400-200 = 1200. 1200 is still larger than our constrained solution allows. In other words - there's no single move that can find a feasible solution.\n",
    "\n",
    "#### How do we fix it?\n",
    "There are a couple of approaches we could take. We've already seen one approach in prior lesson - using multi-start. We could wrap our load_balance_local_function_constraint or our load_balance_local_loop_constraint in a multi-start function and cross our fingers and hope that at least one of our starts randomly starts with a feasible solution. With some algorithms, that's our only choice to avoid getting stuck in a local optimum.\n",
    "\n",
    "But for our problem, we can use another approach. We can start from a random, but feasible solution. We can do this in 2 ways - we can put all of our processes on a single processor and let the algorithm \"spread them out\" or we can randomly distribute our processes across the unconstrained processors.\n",
    "\n",
    "We'll actually write code that handles both, because with only 3 processors, if we constrain 2, we only have a single processor to start with. But, for larger problems, we'll randomly distribute across the unconstrained processors.\n",
    "\n",
    "We'll need a new version of our load_balance_local function."
   ]
  },
  {
   "cell_type": "code",
   "execution_count": 10,
   "metadata": {
    "collapsed": false
   },
   "outputs": [
   ],
   "source": [
    "# local search function\n",
    "def load_balance_local_feasible(times, k, max_no_improve,conproc,conmax):\n",
    "    n = len(times)\n",
    "    ###############################################\n",
    "    #NEW - get a random sample of size n using choices from the unconstrained processors\n",
    "    #this will assign all to one processor if only one is unconstrained\n",
    "    unconstrained = [x for x in list(range(k)) if x not in conproc]\n",
    "    current_x = np.random.choice(unconstrained,size=n,replace=True)\n",
    "    ###############################################\n",
    "    current_f = balance_metric(current_x, times, k)\n",
    "    best_x = current_x\n",
    "    best_f = current_f\n",
    "    ##########################\n",
    "    # New - track convergence\n",
    "    converged = False\n",
    "    ##########################\n",
    "    # stop search if no better x is found within max_no_improve iterations\n",
    "    num_moves_no_improve = 0\n",
    "    iterations = 0\n",
    "    while (num_moves_no_improve < max_no_improve):\n",
    "        num_moves_no_improve += 1\n",
    "        iterations += 1  # just for tracking\n",
    "        ##################################\n",
    "        # NEW - pass the extra parameters to reassign_one\n",
    "        new_x = reassign_one_constrained(current_x,k,conproc,conmax)\n",
    "        ##################################\n",
    "        new_f = balance_metric(new_x, times, k)\n",
    "        if new_f < current_f:\n",
    "            #################################\n",
    "            #NEW - track if we ever accept a solution\n",
    "            converged = True\n",
    "            #################################      \n",
    "            num_moves_no_improve = 0\n",
    "            current_x = new_x\n",
    "            current_f = new_f\n",
    "            if current_f < best_f:  \n",
    "                best_x = current_x  \n",
    "                best_f = current_f\n",
    "    return best_x, best_f, iterations, converged\n",
    "\n"
   ]
  },
  {
   "cell_type": "markdown",
   "metadata": {
    "collapsed": false
   },
   "source": [
    "#### Trying again\n",
    "Now let's try our code and see if we get feasible solutions. Run this multiple times."
   ]
  },
  {
   "cell_type": "code",
   "execution_count": 11,
   "metadata": {
    "collapsed": false
   },
   "outputs": [
    {
     "name": "stdout",
     "output_type": "stream",
     "text": [
      "The algorithm found a solution that met the criteria: True\n",
      "The best assignment is [0 2 1 1 2 0 2 1 0 0 0 1 1 1 1 0 2 2 0 1 0 2 2 2 0 1 1 2 1 0]\n",
      "Total time on each processor: [1093, 1297, 1272]\n",
      "The deviation from balance is 24760.666666666664\n",
      "It took 5292 iterations.\n"
     ]
    }
   ],
   "source": [
    "best_assign, best_f, num_iter, converged = load_balance_local_feasible(times,k,5000,[0],[1100]) \n",
    "print('The algorithm found a solution that met the criteria:', converged)\n",
    "print('The best assignment is', best_assign)\n",
    "print('Total time on each processor:', [ sum(times[best_assign==j]) for j in range(k)])\n",
    "print('The deviation from balance is', best_f)\n",
    "print('It took', num_iter, 'iterations.')"
   ]
  },
  {
   "cell_type": "markdown",
   "metadata": {
    "collapsed": false
   },
   "source": [
    "So much better! We consisently find a feasible solution.\n",
    "\n",
    "What if we wanted to constrain 2 of our processors? Easy! We just add to our conproc and conmax lists. This time, let's constrain processor 0 to a max time of 1200 and processor 1 to a max time of 1100. Again, run this code multiple times and see how often the algorithm converges."
   ]
  },
  {
   "cell_type": "code",
   "execution_count": 12,
   "metadata": {
    "collapsed": false
   },
   "outputs": [
    {
     "name": "stdout",
     "output_type": "stream",
     "text": [
      "The algorithm found a solution that met the criteria: True\n",
      "The best assignment is [2 2 1 2 0 1 2 1 2 1 2 1 1 2 0 1 0 0 0 0 2 2 1 0 2 2 1 0 1 0]\n",
      "Total time on each processor: [1178, 1077, 1407]\n",
      "The deviation from balance is 57180.666666666664\n",
      "It took 5093 iterations.\n"
     ]
    }
   ],
   "source": [
    "best_assign, best_f, num_iter, converged = load_balance_local_feasible(times,k,5000,[0,1],[1200,1100]) #adding our 2 additional parameters here\n",
    "print('The algorithm found a solution that met the criteria:', converged)\n",
    "print('The best assignment is', best_assign)\n",
    "print('Total time on each processor:', [ sum(times[best_assign==j]) for j in range(k)])\n",
    "print('The deviation from balance is', best_f)\n",
    "print('It took', num_iter, 'iterations.')"
   ]
  },
  {
   "cell_type": "markdown",
   "metadata": {
    "collapsed": false
   },
   "source": [
    "### Simulated Annealing - By Hand - Hard Constraints\n",
    "\n",
    "We can take the same hard constraint approach with our hand-coded simulated annealing problem. Once again, we'll add 2 parameters to our custom_simanneal function:\n",
    "\n",
    "* conproc - a list of the processors to constrain\n",
    "* conmax - a list of the max times on each processor.\n",
    "\n",
    "We'll start with a feasible solution (no processes on the constrained processor).\n",
    "\n",
    "And once again we'll pass back a convergence variable to let us know if we ever found a solution that matched our constraints.\n",
    "\n",
    "Personally, I think it's neater and cleaner to use the reassign_one_constrained function. So we'll use that one for our moves.\n",
    "\n",
    "We'll use the same set of jobs from the previous example so you can compare. "
   ]
  },
  {
   "cell_type": "code",
   "execution_count": 13,
   "metadata": {
    "collapsed": false
   },
   "outputs": [
    {
     "name": "stdout",
     "output_type": "stream",
     "text": [
      "The algorithm found a solution that met the criteria: True\n",
      "The best assignment is 22858.666666666668\n",
      "Total time on each processor: [1098, 1294, 1270]\n",
      "The deviation from balance is 22858.666666666668\n"
     ]
    }
   ],
   "source": [
    "\n",
    "def custom_simanneal(times, k, max_no_improve, temp, alpha, conproc, conmax):\n",
    "    #get the length of our jobs\n",
    "    n = len(times)\n",
    "    # starts from a random assignment to the unconstrained processors\n",
    "    unconstrained = [x for x in list(range(k)) if x not in conproc]\n",
    "    current_x = np.random.choice(unconstrained,size=n,replace=True)\n",
    "    current_f = balance_metric(current_x, times, k)\n",
    "    best_x = current_x\n",
    "    best_f = current_f\n",
    "    \n",
    "    #this is just for tracking\n",
    "    iterations = 1\n",
    "    trajectory = [[iterations,current_f]]\n",
    "    trajectory_best = [[iterations,best_f]]\n",
    "    ##########################\n",
    "    # New - track convergence\n",
    "    converged = False\n",
    "    ##########################\n",
    "\n",
    "    # stop search if no better x is found within max_no_improve iterations\n",
    "    num_moves_no_improve = 0\n",
    "    while (num_moves_no_improve < max_no_improve):\n",
    "        num_moves_no_improve += 1\n",
    "        iterations += 1  # just for tracking\n",
    "        ###################################\n",
    "        #NEW - add the 2 extra parameters\n",
    "        new_x = reassign_one_constrained(current_x,k, conproc, conmax)\n",
    "        ###################################\n",
    "        new_f = balance_metric(new_x, times, k)\n",
    "      \n",
    "        #determine the change in score\n",
    "        delta = new_f - current_f\n",
    "        #determine the probability of accepting this solution\n",
    "        prob = np.exp(min(delta, 0) / temp)\n",
    "        \n",
    "        #determine if we'll accept this solution\n",
    "        accept = new_f < current_f or np.random.uniform() < prob          \n",
    "        if accept:   \n",
    "            current_x = new_x\n",
    "            current_f = new_f\n",
    "            if current_f < best_f:  \n",
    "                #################\n",
    "                #New - track if we ever got a better solution than the first\n",
    "                converged = True\n",
    "                #################\n",
    "                best_x = current_x  \n",
    "                best_f = current_f\n",
    "                num_moves_no_improve = 0\n",
    "        temp *= alpha\n",
    "        iterations += 1\n",
    "        trajectory.append([iterations,current_f])\n",
    "        trajectory_best.append([iterations,best_f])        \n",
    "    return best_x, best_f, iterations, trajectory, trajectory_best,converged ####NEW: Return extra variable\n",
    "    \n",
    "\n",
    "#######\n",
    "# New - add the 2 extra parameters\n",
    "best_x, best_f, iterations, trajectory, trajectory_best, converged = custom_simanneal(times, k, 1000, 500, .99, [0],[1100])\n",
    "\n",
    "print('The algorithm found a solution that met the criteria:', converged)\n",
    "print('The best assignment is', best_f)\n",
    "print('Total time on each processor:', [ sum(times[best_x==j]) for j in range(k)])\n",
    "print('The deviation from balance is', best_f)"
   ]
  },
  {
   "cell_type": "markdown",
   "metadata": {
    "collapsed": false
   },
   "source": [
    "### The simanneal Package - Hard Constraints - No External Functions\n",
    "We can also use a hard constraint with the simanneal package. Let's see what it looks like if don't use external functions. To do this, you add your code within the package's move and energy functions. To use a hard constraint in simanneal, you'd enforce the constraint in the **move** function, just like we did with our hand-coding. \n",
    "\n",
    "We again need our two extra variables:\n",
    "* conproc - a list of the processors to constrain\n",
    "* conmax - a list of the max times on each processor.\n",
    "\n",
    "But this time we'll pass them into the initialization function of the simanneal package.\n",
    "\n",
    "To start with a feasible solution, we'll need to generate it outside the package and pass in the initial assignment.\n",
    "\n",
    "Let's see what that looks like.\n",
    "\n"
   ]
  },
  {
   "cell_type": "code",
   "execution_count": 14,
   "metadata": {
    "collapsed": false
   },
   "outputs": [
    {
     "name": "stderr",
     "output_type": "stream",
     "text": [
      " Temperature        Energy    Accept   Improve     Elapsed   Remaining\n",
      "   730.00000      22620.67    55.30%     0.00%     0:00:02     0:00:001 Temperature        Energy    Accept   Improve     Elapsed   Remaining\n",
      "   730.00000      27402.67    56.20%     0.06%     0:00:14     0:00:003"
     ]
    },
    {
     "name": "stdout",
     "output_type": "stream",
     "text": [
      "The best set is:  [0 2 2 1 2 2 0 2 1 1 1 2 1 0 0 1 1 1 2 1 0 1 2 2 0 0 2 1 0 0]\n",
      "Total time on each processor: [1100, 1281, 1281]\n",
      "The best score is: 21840.666666666668\n"
     ]
    }
   ],
   "source": [
    "#this line just imports the package\n",
    "from simanneal import Annealer\n",
    "\n",
    "#this is the line where we decide what we're calling this problem\n",
    "class loadProblemHC(Annealer):\n",
    "\n",
    "    # Here's where we pass extra data if we need it. We need to pass our times (jobs) variable and the number of servers (k)\n",
    "    ##############################\n",
    "    #NEW - add 2 extra parameters\n",
    "    def __init__(self, state, times, k, conproc, conmax):\n",
    "        ###############################\n",
    "        #this line makes the times accessible within the other two functions\n",
    "        self.times = times\n",
    "        self.k = k\n",
    "        ###########################\n",
    "        # New Set up 2 new variables\n",
    "        self.conproc = conproc\n",
    "        self.conmax = conmax\n",
    "        ###########################\n",
    "        #this is how we initialize - note we're calling super with the same name as above (loadProblem)\n",
    "        super(loadProblemHC, self).__init__(state)  # important!\n",
    "\n",
    "    def move(self):\n",
    "        \"\"\"This corresponds to our previous reassign one function\"\"\"\n",
    "        # pick one of the jobs and assign it to one of k processors\n",
    "        \n",
    "        #############################\n",
    "        #NEW - We have to COPY the state\n",
    "        assign = self.state.copy()\n",
    "        n = len(assign)\n",
    "        k = self.k\n",
    "        # choose a job and a new processor assignment\n",
    "        which_job = np.random.randint(0,n,1)[0]\n",
    "        which_proc = np.random.randint(0,k,1)[0]\n",
    "        assign[which_job] = which_proc\n",
    "        \n",
    "        #################################################\n",
    "        # NEW - hard constraint enforcement\n",
    "        over_max = True in [sum(self.times[assign==c]) > self.conmax[c] for c in self.conproc]\n",
    "        # Only update the state if it meets our requirements\n",
    "        if over_max == False:\n",
    "            #we only update the state if we've met our constraints\n",
    "            self.state = assign\n",
    "        \n",
    "    \n",
    "    def energy(self):\n",
    "        \"\"\"This corresponds to our balance_metric function\"\"\"\n",
    "        times = self.times\n",
    "        assign = self.state\n",
    "        k = self.k\n",
    "        target = sum(times)/k\n",
    "        return sum( (sum(times[assign==j])-target)**2 for j in range(k) )\n",
    "\n",
    "\n",
    "    \n",
    "    \n",
    "################################\n",
    "#NEW - generate an initial feasible assignment\n",
    "################################\n",
    "unconstrained = [x for x in list(range(k)) if x not in [0]]\n",
    "assign = np.random.choice(unconstrained,size=n,replace=True)\n",
    "#initialize the class\n",
    "ld = loadProblemHC(assign, times, k, [0], [1100])\n",
    "ld.set_schedule(ld.auto(minutes=.2)) #set approximate time to find results\n",
    "\n",
    "# since our state is a numpy array, we need deepcopy\n",
    "ld.copy_strategy = \"deepcopy\" \n",
    "#this is what kicks it off\n",
    "best_assign, best_score = ld.anneal()\n",
    "\n",
    "\n",
    "\n",
    "print('The best set is: ', best_assign)\n",
    "print('Total time on each processor:', [ sum(times[best_assign==j]) for j in range(k)])\n",
    "print('The best score is:', best_score) "
   ]
  },
  {
   "cell_type": "markdown",
   "metadata": {
    "collapsed": false
   },
   "source": [
    "### The simanneal Package - Hard Constraints - External Functions\n",
    "The simanneal package will also work with external functions. Remember, we've already written nice, self-contained functions that correspond to simanneal's functions.\n",
    "\n",
    "* move = reassign_one_constrained\n",
    "* energy = balance_metric\n",
    "\n",
    "We can just plop those external functions in to simanneal's functions and run our code."
   ]
  },
  {
   "cell_type": "code",
   "execution_count": 15,
   "metadata": {
    "collapsed": false
   },
   "outputs": [
    {
     "name": "stderr",
     "output_type": "stream",
     "text": [
      " Temperature        Energy    Accept   Improve     Elapsed   Remaining\n",
      "   490.00000      27220.67    55.95%     0.00%     0:00:02     0:00:001 Temperature        Energy    Accept   Improve     Elapsed   Remaining\n",
      "   490.00000      22082.67    55.09%     0.14%     0:00:13     0:00:001"
     ]
    },
    {
     "name": "stdout",
     "output_type": "stream",
     "text": [
      "The best set is:  [0 0 1 2 1 1 1 2 1 0 0 0 1 2 0 1 2 0 1 1 2 2 1 1 0 2 2 0 2 2]\n",
      "Total time on each processor: [1100, 1281, 1281]\n",
      "The best score is: 21840.666666666668\n"
     ]
    }
   ],
   "source": [
    "#this line just imports the package\n",
    "from simanneal import Annealer\n",
    "\n",
    "#this is the line where we decide what we're calling this problem\n",
    "class loadProblemHCWithFunctions(Annealer):\n",
    "\n",
    "    # Here's where we pass extra data if we need it. We need to pass our times (jobs) variable and the number of servers (k)\n",
    "    ##############################\n",
    "    #NEW - add 2 extra parameters\n",
    "    def __init__(self, state, times, k, conproc, conmax):\n",
    "        ###############################\n",
    "        #this line makes the times accessible within the other two functions\n",
    "        self.times = times\n",
    "        self.k = k\n",
    "        ###########################\n",
    "        # New Set up 2 new variables\n",
    "        self.conproc = conproc\n",
    "        self.conmax = conmax\n",
    "        ###########################\n",
    "        #this is how we initialize - note we're calling super with the same name as above (loadProblem)\n",
    "        super(loadProblemHCWithFunctions, self).__init__(state)  # important!\n",
    "\n",
    "    def move(self):\n",
    "        \"\"\"Can directly call our reassign one constrained function\"\"\"\n",
    "        #since we're copying in our reassign_one_constrained function, we can pass the self.state directly\n",
    "        self.state = reassign_one_constrained(self.state,self.k, self.conproc, self.conmax)\n",
    "        \n",
    "    \n",
    "    def energy(self):\n",
    "        \"\"\"Can directly call our balance_metric function\"\"\"        \n",
    "        return balance_metric(self.state, self.times, self.k)\n",
    "\n",
    "\n",
    "    \n",
    "    \n",
    "################################\n",
    "#AGAIN - generate an initial feasible assignment\n",
    "################################\n",
    "unconstrained = [x for x in list(range(k)) if x not in [0]]\n",
    "assign = np.random.choice(unconstrained,size=n,replace=True)\n",
    "#initialize the class\n",
    "ld2 = loadProblemHCWithFunctions(assign, times, k, [0], [1100])\n",
    "ld2.set_schedule(ld2.auto(minutes=.2)) #set approximate time to find results\n",
    "\n",
    "# since our state is a numpy array, we need deepcopy\n",
    "ld2.copy_strategy = \"deepcopy\" \n",
    "#this is what kicks it off\n",
    "best_assign, best_score = ld2.anneal()\n",
    "\n",
    "\n",
    "\n",
    "print('The best set is: ', best_assign)\n",
    "print('Total time on each processor:', [ sum(times[best_assign==j]) for j in range(k)])\n",
    "print('The best score is:', best_score) "
   ]
  },
  {
   "cell_type": "markdown",
   "metadata": {
    "collapsed": false
   },
   "source": [
    "**Note:** Simanneal evaluates the problem space before running. If your constraint is set too low, simanneal will print the first pink line, and then just hang. If you're playing with this and it gets stuck, you'll need to restart your kernel and loosen your constraints."
   ]
  },
  {
   "cell_type": "markdown",
   "metadata": {
    "collapsed": false
   },
   "source": [
    "## Soft-Constraints\n",
    "As we've seen, sometimes with hard constraints you can fail to get a feasible solution, and we can't even get closer to a feasible solution because we're rejecting any option that doesn't meet the constraint. Soft constraints fix that problem. We won't always get a solution that meets the constraint, but the algorithm will at least have a chance to get closer to an optimal solution. The Big M approach is a type of soft constraint.\n",
    "\n",
    "In the metaheuristic algorithms we're exploring, soft constraints are implemented in the objective function. Instead of rejecting a solution outright, a penalty is incorporated. For a minimization problem, a positive number is added when the constraint isn't met. For a maximization problem, a negative number is added. \n",
    "\n",
    "In our code, we're adding a multiplier to the penalty. The larger the multipler, the \"harder\" the soft constraint. We'll add the penalty as a parameter so we can adjust the penalty on the fly.\n",
    "\n",
    "Let's look at what this would look like with a hand-solved problem.\n",
    "\n",
    "We'll keep our original objective function (balanced_metric), but we'll add a new wrapper function (balanced_metric_constrained). This one will take in 3 additional parameters:\n",
    "* a list of constrained processors\n",
    "* a list of the max times on each processor\n",
    "* a penalty multiplier (integer)"
   ]
  },
  {
   "cell_type": "code",
   "execution_count": 16,
   "metadata": {
    "collapsed": false
   },
   "outputs": [
   ],
   "source": [
    "\n",
    "# constrained objective function = total squared deviation of times from balanced times, providing a penalty for constraints\n",
    "def balance_metric_constrained(assign,times,k,conproc,conmax, penalty_multiplier):\n",
    "    #get the unconstrained balance metric\n",
    "    dev_uncon = balance_metric(assign,times,k)\n",
    "    #sum the constrained processors and apply our penalty\n",
    "    dev_penalty = penalty_multiplier * sum( max(sum(times[assign==c])-conmax[c],0)**2 for c in conproc )\n",
    "    return (dev_uncon + dev_penalty)"
   ]
  },
  {
   "cell_type": "markdown",
   "metadata": {
    "collapsed": false
   },
   "source": [
    "### Testing the Soft Constraint\n",
    "\n",
    "We'll test our two functions with some hand-coded assignments. We'll use 9 jobs on 3 processors. First we'll look at them as an unconstrained, perfectly balanced problem."
   ]
  },
  {
   "cell_type": "code",
   "execution_count": 17,
   "metadata": {
    "collapsed": false
   },
   "outputs": [
    {
     "name": "stdout",
     "output_type": "stream",
     "text": [
      "Total time on each processor: [12, 12, 12]\n",
      "Unconstrained Balance Metric: 0.0\n"
     ]
    }
   ],
   "source": [
    "#testing perfectly balanced unconstrained\n",
    "k = 3\n",
    "times = np.array([2,4,6,2,4,6,2,4,6])\n",
    "assign=np.array([0,0,0,1,1,1,2,2,2])\n",
    "\n",
    "# total time on each processor ... should be the same\n",
    "print('Total time on each processor:', [ sum(times[assign==j]) for j in range(k)])\n",
    "#print the original balance metric\n",
    "print('Unconstrained Balance Metric:', balance_metric(assign,times,k))"
   ]
  },
  {
   "cell_type": "markdown",
   "metadata": {
    "collapsed": false
   },
   "source": [
    "Now we'll add some constraints. Note that neither our times nor assignments are changing. But, we're essentially changing the target for some of our processors. We're going to set processor 0 to a max limit of 10 and a penalty of 5."
   ]
  },
  {
   "cell_type": "code",
   "execution_count": 18,
   "metadata": {
    "collapsed": false
   },
   "outputs": [
    {
     "name": "stdout",
     "output_type": "stream",
     "text": [
      "Total time on each processor (has not changed): [12, 12, 12]\n",
      "Constrained Balance Metric: 20.0\n"
     ]
    }
   ],
   "source": [
    "# total time on each processor has not changed\n",
    "print('Total time on each processor (has not changed):', [ sum(times[assign==j]) for j in range(k)])\n",
    "#Constrain processor 1 to 10\n",
    "print('Constrained Balance Metric:', balance_metric_constrained(assign,times,k,[0],[10], 5))"
   ]
  },
  {
   "cell_type": "markdown",
   "metadata": {
    "collapsed": false
   },
   "source": [
    "What happens if we increase the penalty to 10?"
   ]
  },
  {
   "cell_type": "code",
   "execution_count": 19,
   "metadata": {
    "collapsed": false
   },
   "outputs": [
    {
     "name": "stdout",
     "output_type": "stream",
     "text": [
      "Total time on each processor (has not changed): [12, 12, 12]\n",
      "Constrained Balance Metric: 40.0\n"
     ]
    }
   ],
   "source": [
    "# total time on each processor has not changed\n",
    "print('Total time on each processor (has not changed):', [ sum(times[assign==j]) for j in range(k)])\n",
    "#Constrain processor 1 to 10, with a penalty of 10\n",
    "print('Constrained Balance Metric:', balance_metric_constrained(assign,times,k,[0],[10], 10))"
   ]
  },
  {
   "cell_type": "markdown",
   "metadata": {
    "collapsed": false
   },
   "source": [
    "With the constraint in place, what was a completely balanced solution no longer looks so great. What would happen if we switch our assignments around some?"
   ]
  },
  {
   "cell_type": "code",
   "execution_count": 20,
   "metadata": {
    "collapsed": false
   },
   "outputs": [
    {
     "name": "stdout",
     "output_type": "stream",
     "text": [
      "Total time on each processor (has changed): [10, 14, 12]\n",
      "Balance Metric without constraints 8.0\n",
      "Constrained Balance Metric: 8.0\n"
     ]
    }
   ],
   "source": [
    "#new assignments\n",
    "assign=np.array([1,0,0,1,1,1,2,2,2])\n",
    "print('Total time on each processor (has changed):', [ sum(times[assign==j]) for j in range(k)])\n",
    "\n",
    "#check the unconstrained balance metric\n",
    "print('Balance Metric without constraints', balance_metric(assign,times,k))\n",
    "#check the constrained balance metric\n",
    "print('Constrained Balance Metric:', balance_metric_constrained(assign,times,k,[0],[10],5))"
   ]
  },
  {
   "cell_type": "markdown",
   "metadata": {
    "collapsed": false
   },
   "source": [
    "Here, we've met our constraint, so our unconstrained and constrained balance metrics match."
   ]
  },
  {
   "cell_type": "markdown",
   "metadata": {
    "collapsed": false
   },
   "source": [
    "### The simanneal Package - Soft Constraint\n",
    "With simanneal, instead of adding our hard constraint to the move() function, we'd add our soft constraint to the energy() function. We'll need to pass in the penalty multiplier at initialization.\n"
   ]
  },
  {
   "cell_type": "code",
   "execution_count": 21,
   "metadata": {
    "collapsed": false
   },
   "outputs": [
   ],
   "source": [
    "#this line just imports the package\n",
    "from simanneal import Annealer\n",
    "\n",
    "#this is the line where we decide what we're calling this problem\n",
    "class loadProblemSC(Annealer):\n",
    "\n",
    "    # Here's where we pass extra data if we need it. We need to pass our times (jobs) variable and the number of servers (k)\n",
    "    ##############################\n",
    "    #NEW - add 2 extra parameters\n",
    "    def __init__(self, state, times, k, conproc, conmax, penalty_multiplier):\n",
    "        ###############################\n",
    "        #this line makes the times accessible within the other two functions\n",
    "        self.times = times\n",
    "        self.k = k\n",
    "        ###########################\n",
    "        # New Set up 3 new variables\n",
    "        self.conproc = conproc\n",
    "        self.conmax = conmax\n",
    "        self.penalty_multiplier = penalty_multiplier\n",
    "        ###########################\n",
    "        #this is how we initialize - note we're calling super with the same name as above (loadProblem)\n",
    "        super(loadProblemSC, self).__init__(state)  # important!\n",
    "\n",
    "    def move(self):\n",
    "        \"\"\"This corresponds to our previous reassign one function\"\"\"\n",
    "        # pick one of the jobs and assign it to one of k processors\n",
    "        ##################################\n",
    "        #NEW - back to just changing the state directly\n",
    "        assign = self.state\n",
    "        n = len(assign)\n",
    "        k = self.k\n",
    "        # choose a job and a new processor assignment\n",
    "        which_job = np.random.randint(0,n,1)[0]\n",
    "        which_proc = np.random.randint(0,k,1)[0]\n",
    "        assign[which_job] = which_proc\n",
    "\n",
    "        \n",
    "    \n",
    "    def energy(self):\n",
    "        \"\"\"This corresponds to our balance_metric function\"\"\"\n",
    "        times = self.times\n",
    "        assign = self.state\n",
    "        k = self.k\n",
    "        conproc = self.conproc\n",
    "        conmax = self.conmax\n",
    "        ############################################\n",
    "        #NEW - determing the energy and assign a penalty\n",
    "        target = sum(times)/k\n",
    "        #sum the total processor deviation\n",
    "        dev_uncon = sum( (sum(times[assign==j])-target)**2 for j in range(k) )\n",
    "        #sum the constrained processor deviation and apply penalty\n",
    "        dev_penalty = self.penalty_multiplier * sum( max(sum(times[assign==c])-conmax[c],0)**2 for c in conproc )\n",
    "\n",
    "        return (dev_uncon + dev_penalty)/100"
   ]
  },
  {
   "cell_type": "markdown",
   "metadata": {
    "collapsed": false
   },
   "source": [
    "Let's generate some more test data and run our soft constraint version of simanneal."
   ]
  },
  {
   "cell_type": "code",
   "execution_count": 22,
   "metadata": {
    "collapsed": false
   },
   "outputs": [
    {
     "name": "stdout",
     "output_type": "stream",
     "text": [
      "Total time on each processor, if completely balanced: 1220.6666666666667\n"
     ]
    }
   ],
   "source": [
    "# generate random job times\n",
    "np.random.seed(666) #comment this out to play with new numbers\n",
    "#we'll start with 20 execution times\n",
    "n = 30\n",
    "#we'll start with 2 processors\n",
    "k = 3\n",
    "min_time = 20\n",
    "max_time = 200\n",
    "times = np.random.randint(low=min_time, high = max_time, size = n)\n",
    "assign = np.random.randint(low=0,high=k,size=n)\n",
    "# total time on each processor\n",
    "print('Total time on each processor, if completely balanced:', sum(times)/k)\n"
   ]
  },
  {
   "cell_type": "markdown",
   "metadata": {
    "collapsed": false
   },
   "source": [
    "With completely balanced loads, we'd have 1220-ish on each processor. We'll set processor 0's constraint to 1100. Run this code several times. Change up the penalty multiplier. How often do you meet the constraint? How balanced does the workload seem compared to our hard constraint version?"
   ]
  },
  {
   "cell_type": "code",
   "execution_count": 23,
   "metadata": {
    "collapsed": false
   },
   "outputs": [
    {
     "name": "stderr",
     "output_type": "stream",
     "text": [
      " Temperature        Energy    Accept   Improve     Elapsed   Remaining\n",
      "     3.00000        181.21    33.80%     0.00%     0:00:02     0:00:00 Temperature        Energy    Accept   Improve     Elapsed   Remaining\n",
      "     3.00000        168.09    33.42%     0.00%     0:00:13     0:00:00"
     ]
    },
    {
     "name": "stdout",
     "output_type": "stream",
     "text": [
      "Total time on each processor: [1128, 1267, 1267]\n",
      "The best score is: 168.00666666666663\n"
     ]
    }
   ],
   "source": [
    "#initialize the class\n",
    "ld = loadProblemSC(assign, times, k, [0], [1100], 5) #penalty = 5\n",
    "ld.set_schedule(ld.auto(minutes=.2)) #set approximate time to find results\n",
    "\n",
    "# since our state is a numpy array, we need deepcopy\n",
    "ld.copy_strategy = \"deepcopy\" \n",
    "#this is what kicks it off\n",
    "best_assign, best_score = ld.anneal()\n",
    "\n",
    "\n",
    "\n",
    "#print('The best set is: ', best_assign)\n",
    "print('Total time on each processor:', [ sum(times[best_assign==j]) for j in range(k)])\n",
    "print('The best score is:', best_score) "
   ]
  },
  {
   "cell_type": "markdown",
   "metadata": {
    "collapsed": false
   },
   "source": [
    "## Genetic Algorithm with DEAP - Soft Constraints\n",
    "\n",
    "Again with DEAP we'll do a soft constraint in our energy function. This requires a few small, but important changes. First, the things that stay the same. \n",
    "* Our create_individual() function\n",
    "* Our custom_ga() function\n",
    "\n",
    "Neither of these change at all and we can just copy/paste the code from the load balance without constraints example."
   ]
  },
  {
   "cell_type": "code",
   "execution_count": 24,
   "metadata": {
    "collapsed": false
   },
   "outputs": [
   ],
   "source": [
    "# No changes to this function\n",
    "def create_individual(k,n):\n",
    "    current_x = np.random.randint(low=0,high=k,size=n)\n",
    "    return current_x.tolist() #this converts our np array back to a list\n",
    "\n",
    "\n",
    "# no changes here, call this to execute the genetic algorithm\n",
    "def customGA(in_toolbox,in_tools,in_stats,pop_size, cx_prob, mut_prob, max_gen, max_no_improve):\n",
    "\n",
    "    pop = in_toolbox.population(n=pop_size)\n",
    "    logbook = in_tools.Logbook()\n",
    "    hof = in_tools.HallOfFame(1)\n",
    "\n",
    "    # Evaluate the entire population\n",
    "    fitnesses = list(map(in_toolbox.evaluate, pop))\n",
    "    for ind, fit in zip(pop, fitnesses):\n",
    "        ind.fitness.values = fit\n",
    "\n",
    "    hof.update(pop)\n",
    "    best_val = hof[0].fitness.values\n",
    "    num_no_improve = 0\n",
    "    generation = 0\n",
    "\n",
    "    while num_no_improve < max_no_improve and generation < max_gen:\n",
    "\n",
    "        # Select the next generation individuals\n",
    "        selected = in_toolbox.select(pop, len(pop))\n",
    "        # Clone the selected individuals\n",
    "        offspring = list(map(in_toolbox.clone, selected))\n",
    "\n",
    "        # Apply crossover and mutation on the offspring\n",
    "        for child1, child2 in zip(offspring[::2], offspring[1::2]):\n",
    "            if random.random() < cx_prob:\n",
    "                in_toolbox.mate(child1, child2)\n",
    "                del child1.fitness.values\n",
    "                del child2.fitness.values\n",
    "\n",
    "        for mutant in offspring:\n",
    "            if random.random() < mut_prob:\n",
    "                in_toolbox.mutate(mutant)\n",
    "                del mutant.fitness.values\n",
    "\n",
    "        # Evaluate the individuals with an invalid fitness\n",
    "        invalid_ind = [ind for ind in offspring if not ind.fitness.valid]\n",
    "        fitnesses = map(in_toolbox.evaluate, invalid_ind)\n",
    "        num_evals = 0\n",
    "        for ind, fit in zip(invalid_ind, fitnesses):\n",
    "            num_evals += 1\n",
    "            ind.fitness.values = fit\n",
    "\n",
    "        # The population is entirely replaced by the offspring\n",
    "        pop[:] = offspring\n",
    "        \n",
    "        # track the best value and reset counter if there is a change\n",
    "        hof.update(pop)\n",
    "        curr_best_val = hof[0].fitness.values[0]\n",
    "        num_no_improve += 1\n",
    "        if curr_best_val != best_val:\n",
    "            best_val = curr_best_val\n",
    "            num_no_improve = 0\n",
    "\n",
    "        # record stats\n",
    "        record = in_stats.compile(pop)\n",
    "        logbook.record(gen=generation, evals=num_evals, **record)\n",
    "\n",
    "        # increment generation\n",
    "        generation += 1\n",
    "\n",
    "    best_x = list(hof[0])\n",
    "\n",
    "    return best_val, best_x, logbook"
   ]
  },
  {
   "cell_type": "markdown",
   "metadata": {
    "collapsed": false
   },
   "source": [
    "Our balance_metric_tuple function does need to be updated. We need to take in the 3 additional parameters (do you have these down yet?):\n",
    "* conproc - a list of constrained processors\n",
    "* conmax - a list of the max times on each processor\n",
    "* penalty_multiplier - integer to control how \"hard\" the penalty is\n",
    " "
   ]
  },
  {
   "cell_type": "code",
   "execution_count": 25,
   "metadata": {
    "collapsed": false
   },
   "outputs": [
    {
     "data": {
      "text/plain": [
       "(3058021.6666666665,)"
      ]
     },
     "execution_count": 25,
     "metadata": {
     },
     "output_type": "execute_result"
    }
   ],
   "source": [
    "# objective function = total squared deviation of times from balanced times\n",
    "def balance_metric_tuple(assign,times,k,conproc, conmax, penalty):\n",
    "    #make the list a numpy array\n",
    "    assign_np = np.array(assign)\n",
    "    ## call the balance_metric function\n",
    "    metric = balance_metric_constrained(assign_np, times, k, conproc, conmax, penalty)\n",
    "    return (metric, ) #note that we're returning a tuple\n",
    "\n",
    "#let's test this function\n",
    "balance_metric_tuple(assign,times,k, [0], [10], 5)"
   ]
  },
  {
   "cell_type": "markdown",
   "metadata": {
    "collapsed": false
   },
   "source": [
    "The only other thing we'll need to change is how we set up our evaluate function. Most of this code is identical to what you've seen before. Note the one changed line"
   ]
  },
  {
   "cell_type": "code",
   "execution_count": 26,
   "metadata": {
    "collapsed": false
   },
   "outputs": [
    {
     "name": "stdout",
     "output_type": "stream",
     "text": [
      "Genetic Algorithm Best Result 1691209.6666666665\n",
      "Total time on each processor: [289, 1687, 1686]\n"
     ]
    }
   ],
   "source": [
    "import random\n",
    "from deap import base\n",
    "from deap import creator\n",
    "from deap import tools\n",
    "from functools import partial\n",
    "\n",
    "creator.create(\"FitnessLoad\", base.Fitness, weights=(-1.0,))\n",
    "creator.create(\"Individual\", list, fitness=creator.FitnessLoad)\n",
    "toolbox = base.Toolbox()\n",
    "toolbox.register(\"assignments\",create_individual,k,n)\n",
    "toolbox.register(\"individual\", tools.initIterate, creator.Individual, toolbox.assignments)\n",
    "toolbox.register(\"population\", tools.initRepeat, list, toolbox.individual)\n",
    "###############################\n",
    "#NEW - this line needs additional parameters\n",
    "###############################\n",
    "toolbox.register(\"evaluate\", balance_metric_tuple, times=times, k=k, conproc=[0], conmax=[10], penalty=5)\n",
    "toolbox.register(\"select\", tools.selTournament, tournsize=3)\n",
    "toolbox.register(\"mate\", tools.cxTwoPoint) \n",
    "toolbox.register(\"mutate\", tools.mutUniformInt, low = 0, up = k-1, indpb=0.1)\n",
    "stats = tools.Statistics(key=lambda ind: ind.fitness.values)\n",
    "stats.register(\"avg\", np.mean)\n",
    "stats.register(\"std\", np.std)\n",
    "stats.register(\"min\", np.min)\n",
    "stats.register(\"max\", np.max)\n",
    "\n",
    "# define search parameters\n",
    "pop_size = 200\n",
    "crossover_prob = 0.3\n",
    "mutation_prob = 0.5\n",
    "max_gen = 2000\n",
    "max_no_improve = 200\n",
    "\n",
    "# get solution\n",
    "best_balance, best_assign, log = customGA(toolbox,tools,stats, pop_size, crossover_prob, mutation_prob,\n",
    "                                     max_gen, max_no_improve)\n",
    "\n",
    "print('Genetic Algorithm Best Result', best_balance)\n",
    "print('Total time on each processor:', [ sum(times[np.array(best_assign)==j]) for j in range(k)])"
   ]
  },
  {
   "cell_type": "markdown",
   "metadata": {
    "collapsed": false
   },
   "source": [
    "## Increasing Problem Size\n",
    "\n",
    "We used a very small problem to demonstrate each of the methods above. Now it's time to create a much larger problem and see how our algorithms perform. \n",
    "\n",
    "We'll also set conproc and conmax to constrain 2 of our 10 processes."
   ]
  },
  {
   "cell_type": "code",
   "execution_count": 27,
   "metadata": {
    "collapsed": false
   },
   "outputs": [
    {
     "name": "stdout",
     "output_type": "stream",
     "text": [
      "Total time on each processor, if completely balanced: 11282.9\n"
     ]
    }
   ],
   "source": [
    "####################################\n",
    "# Setting up a new bigger problem\n",
    "####################################\n",
    "n = 1000\n",
    "k = 10\n",
    "#we're going to set some min/max times here for the jobs\n",
    "min_time = 20\n",
    "max_time = 200\n",
    "#randomly generate some jobs\n",
    "times = np.random.randint(low=min_time, high = max_time, size = n, dtype='int64')\n",
    "\n",
    "# total time on each processor\n",
    "print('Total time on each processor, if completely balanced:', sum(times)/k)\n",
    "\n",
    "conproc = [0,1]\n",
    "conmax=[8000,8000]"
   ]
  },
  {
   "cell_type": "markdown",
   "metadata": {
    "collapsed": false
   },
   "source": [
    "Let's create a pandas dataframe for storing our results. We'll update this after each algorithm and at the end we can sort and compare to see which algorithm performed the best."
   ]
  },
  {
   "cell_type": "code",
   "execution_count": 28,
   "metadata": {
    "collapsed": false
   },
   "outputs": [
    {
     "data": {
      "text/html": [
       "<div>\n",
       "<style scoped>\n",
       "    .dataframe tbody tr th:only-of-type {\n",
       "        vertical-align: middle;\n",
       "    }\n",
       "\n",
       "    .dataframe tbody tr th {\n",
       "        vertical-align: top;\n",
       "    }\n",
       "\n",
       "    .dataframe thead th {\n",
       "        text-align: right;\n",
       "    }\n",
       "</style>\n",
       "<table border=\"1\" class=\"dataframe\">\n",
       "  <thead>\n",
       "    <tr style=\"text-align: right;\">\n",
       "      <th></th>\n",
       "      <th>Score</th>\n",
       "      <th>Constrained Score</th>\n",
       "      <th>Time on Processor</th>\n",
       "      <th>Over Constraints</th>\n",
       "    </tr>\n",
       "  </thead>\n",
       "  <tbody>\n",
       "    <tr>\n",
       "      <th>Baseline</th>\n",
       "      <td>None</td>\n",
       "      <td>None</td>\n",
       "      <td>None</td>\n",
       "      <td>None</td>\n",
       "    </tr>\n",
       "    <tr>\n",
       "      <th>HC-Local Search</th>\n",
       "      <td>None</td>\n",
       "      <td>None</td>\n",
       "      <td>None</td>\n",
       "      <td>None</td>\n",
       "    </tr>\n",
       "    <tr>\n",
       "      <th>HC-Custom Annealing</th>\n",
       "      <td>None</td>\n",
       "      <td>None</td>\n",
       "      <td>None</td>\n",
       "      <td>None</td>\n",
       "    </tr>\n",
       "    <tr>\n",
       "      <th>HC-Simanneal</th>\n",
       "      <td>None</td>\n",
       "      <td>None</td>\n",
       "      <td>None</td>\n",
       "      <td>None</td>\n",
       "    </tr>\n",
       "    <tr>\n",
       "      <th>SC-Simanneal-5</th>\n",
       "      <td>None</td>\n",
       "      <td>None</td>\n",
       "      <td>None</td>\n",
       "      <td>None</td>\n",
       "    </tr>\n",
       "    <tr>\n",
       "      <th>SC-Simanneal-50</th>\n",
       "      <td>None</td>\n",
       "      <td>None</td>\n",
       "      <td>None</td>\n",
       "      <td>None</td>\n",
       "    </tr>\n",
       "    <tr>\n",
       "      <th>SC-Simanneal-500</th>\n",
       "      <td>None</td>\n",
       "      <td>None</td>\n",
       "      <td>None</td>\n",
       "      <td>None</td>\n",
       "    </tr>\n",
       "    <tr>\n",
       "      <th>SC-GA-5</th>\n",
       "      <td>None</td>\n",
       "      <td>None</td>\n",
       "      <td>None</td>\n",
       "      <td>None</td>\n",
       "    </tr>\n",
       "    <tr>\n",
       "      <th>SC-GA-50</th>\n",
       "      <td>None</td>\n",
       "      <td>None</td>\n",
       "      <td>None</td>\n",
       "      <td>None</td>\n",
       "    </tr>\n",
       "    <tr>\n",
       "      <th>SC-GA-500</th>\n",
       "      <td>None</td>\n",
       "      <td>None</td>\n",
       "      <td>None</td>\n",
       "      <td>None</td>\n",
       "    </tr>\n",
       "    <tr>\n",
       "      <th>SC-GA-5-FStart</th>\n",
       "      <td>None</td>\n",
       "      <td>None</td>\n",
       "      <td>None</td>\n",
       "      <td>None</td>\n",
       "    </tr>\n",
       "    <tr>\n",
       "      <th>SC-GA-50-FStart</th>\n",
       "      <td>None</td>\n",
       "      <td>None</td>\n",
       "      <td>None</td>\n",
       "      <td>None</td>\n",
       "    </tr>\n",
       "    <tr>\n",
       "      <th>SC-GA-500-FStart</th>\n",
       "      <td>None</td>\n",
       "      <td>None</td>\n",
       "      <td>None</td>\n",
       "      <td>None</td>\n",
       "    </tr>\n",
       "  </tbody>\n",
       "</table>\n",
       "</div>"
      ],
      "text/plain": [
       "                    Score Constrained Score Time on Processor Over Constraints\n",
       "Baseline             None              None              None             None\n",
       "HC-Local Search      None              None              None             None\n",
       "HC-Custom Annealing  None              None              None             None\n",
       "HC-Simanneal         None              None              None             None\n",
       "SC-Simanneal-5       None              None              None             None\n",
       "SC-Simanneal-50      None              None              None             None\n",
       "SC-Simanneal-500     None              None              None             None\n",
       "SC-GA-5              None              None              None             None\n",
       "SC-GA-50             None              None              None             None\n",
       "SC-GA-500            None              None              None             None\n",
       "SC-GA-5-FStart       None              None              None             None\n",
       "SC-GA-50-FStart      None              None              None             None\n",
       "SC-GA-500-FStart     None              None              None             None"
      ]
     },
     "execution_count": 28,
     "metadata": {
     },
     "output_type": "execute_result"
    }
   ],
   "source": [
    "#set up a dataframe for storing results \n",
    "import pandas as pd\n",
    "r_df = pd.DataFrame({'Score': [None,None,None,None,None,None,None,None,None,None,None,None,None],\n",
    "                     'Constrained Score': [None,None,None,None,None,None,None,None,None,None,None,None,None],\n",
    "                      'Time on Processor': [None,None,None,None,None,None,None,None,None,None,None,None,None],\n",
    "                    'Over Constraints': [None,None,None,None,None,None,None,None,None,None,None,None,None]}, \n",
    "                     index=['Baseline', 'HC-Local Search', 'HC-Custom Annealing',\n",
    "                            'HC-Simanneal','SC-Simanneal-5', 'SC-Simanneal-50', 'SC-Simanneal-500',\n",
    "                           'SC-GA-5', 'SC-GA-50', 'SC-GA-500', 'SC-GA-5-FStart', 'SC-GA-50-FStart', 'SC-GA-500-FStart'])\n",
    "\n",
    "\n",
    "pd.set_option('display.float_format', '{:.2f}'.format)\n",
    "pd.set_option('max_colwidth', 200)\n",
    "#create a function for updating the grid\n",
    "def updateResults(df,score,c_score,time,approach,assign,conproc,conmax):\n",
    "    over_max = True in [sum(times[assign==c]) > conmax[c] for c in conproc]\n",
    "    df.loc[approach, 'Score'] = score\n",
    "    df.loc[approach, 'Constrained Score'] = c_score\n",
    "    df.loc[approach, 'Time on Processor'] = time\n",
    "    df.loc[approach, 'Over Constraints'] = over_max\n",
    "    return(df)\n",
    "r_df    "
   ]
  },
  {
   "cell_type": "markdown",
   "metadata": {
    "collapsed": false
   },
   "source": [
    "### Baseline\n",
    "Let's see what our baseline deviation from balanced loads is with a size this large. (Note, there's randomness here and some algorithms set their own baseline. But this should give us a general idea.)\n",
    "\n",
    "We'll also create a new metric to get an apples to apples comparision of the scores, using the max constraints as a target and evenly distributed processes on unconstrained processors."
   ]
  },
  {
   "cell_type": "code",
   "execution_count": 29,
   "metadata": {
    "collapsed": false
   },
   "outputs": [
    {
     "name": "stdout",
     "output_type": "stream",
     "text": [
      "Baseline with random assignments: 5143156.899999999\n",
      "Baseline constrained metric 39721121.875\n"
     ]
    }
   ],
   "source": [
    "# constrained objective function = total squared deviation of times from balanced times, accounting for constraints\n",
    "def get_c_metric(assign,times,k,conproc,conmax):\n",
    "    #get the total time\n",
    "    total = sum(times)\n",
    "    #get the total that should be balanced\n",
    "    balance_target = ((total-sum(conmax))/(k-len(conproc)))\n",
    "    #get the unconstrained processors\n",
    "    uncon = np.delete(np.array(range(k)), np.array(conproc))\n",
    "    #sum the unconstrained processor deviation\n",
    "    dev_uncon = sum( (sum(times[assign==j])-balance_target)**2 for j in uncon )\n",
    "    #sum the absolute difference on constrained processors\n",
    "    dev_cons = sum( (sum(times[assign==j])-conmax[j])**2 for j in conproc )\n",
    "    return dev_uncon + dev_cons\n",
    "\n",
    "\n",
    "#get the baseline\n",
    "assign = np.random.randint(low=0,high=k,size=n)\n",
    "time_on_proc = [ sum(times[assign==j]) for j in range(k)]\n",
    "baseline = balance_metric(assign,times,k)\n",
    "print('Baseline with random assignments:', baseline)\n",
    "c_metric = get_c_metric(assign,times,k,conproc,conmax)\n",
    "print('Baseline constrained metric', c_metric)\n",
    "\n",
    "r_df = updateResults(r_df,baseline,c_metric,time_on_proc,'Baseline', assign, conproc, conmax)\n"
   ]
  },
  {
   "cell_type": "markdown",
   "metadata": {
    "collapsed": false
   },
   "source": [
    "### Greedy local search (hard constraint)\n",
    "The only parameter we can fiddle with in our greedy local search is how many iterations we're willing to go with no improvement. Try changing the 5000 number to see if it gets better results\n",
    "\n",
    "* max_no_improve = 5000"
   ]
  },
  {
   "cell_type": "code",
   "execution_count": 30,
   "metadata": {
    "collapsed": false
   },
   "outputs": [
    {
     "name": "stdout",
     "output_type": "stream",
     "text": [
      "Greedy Local Search best result: 27050792.900000002\n",
      "The algorithm found a solution that met the criteria: True\n",
      "Total time on each processor: [8000, 7987, 12109, 12113, 12093, 12107, 12100, 12100, 12110, 12110]\n",
      "Constrained metric 517.625\n"
     ]
    }
   ],
   "source": [
    "#### Greedy Local Search #####\n",
    "#####################\n",
    "#Parameters\n",
    "max_no_improve = 5000\n",
    "#####################\n",
    "best_assign, best_f, num_iter, converge = load_balance_local_feasible(times,k,max_no_improve,conproc,conmax)\n",
    "print('Greedy Local Search best result:', best_f)\n",
    "print('The algorithm found a solution that met the criteria:', converged)\n",
    "print('Total time on each processor:', [ sum(times[best_assign==j]) for j in range(k)])\n",
    "c_metric = get_c_metric(best_assign,times,k,conproc,conmax)\n",
    "print('Constrained metric', c_metric)\n",
    "\n",
    "r_df = updateResults(r_df,best_f,c_metric,[ sum(times[best_assign==j]) for j in range(k)],'HC-Local Search',best_assign,conproc,conmax)\n"
   ]
  },
  {
   "cell_type": "markdown",
   "metadata": {
    "collapsed": false
   },
   "source": [
    "### Custom Simulated Annealing - Hard Constraint\n",
    "For our custom simulated annealing, we can tweak the following parameters:\n",
    "* max_no_improve = 1000\n",
    "* temp = 500\n",
    "* alpha = .99 \n",
    "\n",
    "Try tweaking these parameters to see if you can get a better result"
   ]
  },
  {
   "cell_type": "code",
   "execution_count": 31,
   "metadata": {
    "collapsed": false,
    "scrolled": true
   },
   "outputs": [
    {
     "name": "stdout",
     "output_type": "stream",
     "text": [
      "Custom Simulated Annealing best result: 39844248.9\n",
      "The algorithm found a solution that met the criteria: True\n",
      "Total time on each processor: [7866, 7909, 12927, 13944, 11136, 11193, 12832, 12770, 10051, 12201]\n",
      "Constrained metric 11054036.625\n"
     ]
    }
   ],
   "source": [
    "#### Custom Simulated Annealing ####\n",
    "#####################\n",
    "#Parameters\n",
    "max_no_improve = 1000\n",
    "temp = 500 \n",
    "alpha = .99\n",
    "#####################\n",
    "\n",
    "\n",
    "best_x, best_f, iterations, trajectory, trajectory_best, converge = custom_simanneal(times, k, max_no_improve, temp, alpha, conproc, conmax)\n",
    "print('Custom Simulated Annealing best result:', best_f)\n",
    "print('The algorithm found a solution that met the criteria:', converged)\n",
    "print('Total time on each processor:', [ sum(times[best_x==j]) for j in range(k)])\n",
    "c_metric = get_c_metric(best_x,times,k,conproc,conmax)\n",
    "print('Constrained metric', c_metric)\n",
    "r_df = updateResults(r_df,best_f,c_metric,[ sum(times[best_x==j]) for j in range(k)],'HC-Custom Annealing',best_x,conproc,conmax)\n"
   ]
  },
  {
   "cell_type": "markdown",
   "metadata": {
    "collapsed": false
   },
   "source": [
    "### Simanneal Package - Hard Constraint\n",
    "The only parameter you can tweak in the simanneal package is how long you're willing to wait. Try changing that to see if you can get a better result.\n",
    "* wait_time = .2"
   ]
  },
  {
   "cell_type": "code",
   "execution_count": 32,
   "metadata": {
    "collapsed": false
   },
   "outputs": [
    {
     "name": "stderr",
     "output_type": "stream",
     "text": [
      " Temperature        Energy    Accept   Improve     Elapsed   Remaining\n",
      "    39.00000   27100358.90    28.90%     0.00%     0:00:28    -1:59:4960 Temperature        Energy    Accept   Improve     Elapsed   Remaining\n",
      "    39.00000   27001600.90    31.71%     0.00%     0:00:12     0:00:000 "
     ]
    },
    {
     "name": "stdout",
     "output_type": "stream",
     "text": [
      "Simanneal Package best result 27001554.900000006\n",
      "Total time on each processor: [7998, 7995, 12102, 12102, 12111, 12094, 12114, 12112, 12092, 12109]\n",
      "Constrained metric 523.125\n"
     ]
    }
   ],
   "source": [
    "#### Simanneal Package ####\n",
    "#####################\n",
    "#Parameters\n",
    "wait_time = .2\n",
    "#####################\n",
    "\n",
    "unconstrained = [x for x in list(range(k)) if x not in conproc]\n",
    "assign = np.random.choice(unconstrained,size=n,replace=True)\n",
    "ld = loadProblemHC(assign, times, k, conproc, conmax)\n",
    "ld.set_schedule(ld.auto(minutes=wait_time)) \n",
    "ld.copy_strategy = \"deepcopy\" \n",
    "best_assign, best_score = ld.anneal()\n",
    "print('Simanneal Package best result', best_score)\n",
    "print('Total time on each processor:', [ sum(times[best_assign==j]) for j in range(k)])\n",
    "c_metric = get_c_metric(best_assign,times,k,conproc,conmax)\n",
    "print('Constrained metric', c_metric)\n",
    "r_df = updateResults(r_df,best_score,c_metric,[ sum(times[best_assign==j]) for j in range(k)],'HC-Simanneal',best_assign,conproc,conmax)\n"
   ]
  },
  {
   "cell_type": "markdown",
   "metadata": {
    "collapsed": false
   },
   "source": [
    "### Simanneal Package - Soft Constraint - Penalty Multiplier 5\n",
    "The only parameter you can tweak in the simanneal package is how long you're willing to wait. Try changing that to see if you can get a better result.\n",
    "* wait_time = .2"
   ]
  },
  {
   "cell_type": "code",
   "execution_count": 33,
   "metadata": {
    "collapsed": false
   },
   "outputs": [
    {
     "name": "stderr",
     "output_type": "stream",
     "text": [
      " Temperature        Energy    Accept   Improve     Elapsed   Remaining\n",
      "     1.30000     215556.02     9.20%     0.00%     0:00:33    -1:59:45 Temperature        Energy    Accept   Improve     Elapsed   Remaining\n",
      "     1.30000     215568.74     9.41%     0.00%     0:00:12     0:00:00"
     ]
    },
    {
     "name": "stdout",
     "output_type": "stream",
     "text": [
      "Total time on each processor: [8656, 8649, 11937, 11954, 11935, 11948, 11937, 11944, 11933, 11936]\n",
      "The best score is: 215556.01899999997\n",
      "Constrained metric 1064797.125\n"
     ]
    }
   ],
   "source": [
    "#return to random assignments\n",
    "assign = np.random.randint(low=0,high=k,size=n)\n",
    "#initialize the class\n",
    "ld = loadProblemSC(assign, times, k, conproc, conmax, 5) #penalty 5\n",
    "ld.set_schedule(ld.auto(minutes=.2)) #set approximate time to find results\n",
    "\n",
    "# since our state is a numpy array, we need deepcopy\n",
    "ld.copy_strategy = \"deepcopy\" \n",
    "#this is what kicks it off\n",
    "best_assign, best_score = ld.anneal()\n",
    "\n",
    "print('Total time on each processor:', [ sum(times[best_assign==j]) for j in range(k)])\n",
    "print('The best score is:', best_score) \n",
    "c_metric = get_c_metric(best_assign,times,k,conproc,conmax)\n",
    "print('Constrained metric', c_metric)\n",
    "r_df = updateResults(r_df,best_score,c_metric,[ sum(times[best_assign==j]) for j in range(k)],'SC-Simanneal-5',best_assign,conproc,conmax)\n"
   ]
  },
  {
   "cell_type": "markdown",
   "metadata": {
    "collapsed": false
   },
   "source": [
    "### Simanneal Package - Soft Constraint - Penalty Multiplier 50\n",
    "The only parameter you can tweak in the simanneal package is how long you're willing to wait. Try changing that to see if you can get a better result.\n",
    "* wait_time = .2"
   ]
  },
  {
   "cell_type": "code",
   "execution_count": 34,
   "metadata": {
    "collapsed": false
   },
   "outputs": [
    {
     "name": "stderr",
     "output_type": "stream",
     "text": [
      " Temperature        Energy    Accept   Improve     Elapsed   Remaining\n",
      "     0.73000     262891.15    10.90%     0.00%     0:00:38    -1:59:405 Temperature        Energy    Accept   Improve     Elapsed   Remaining\n",
      "     0.73000     262920.43    10.29%     0.29%     0:00:12     0:00:002"
     ]
    },
    {
     "name": "stdout",
     "output_type": "stream",
     "text": [
      "Total time on each processor: [8083, 8086, 12084, 12091, 12086, 12076, 12077, 12080, 12071, 12095]\n",
      "The best score is: 262891.149\n",
      "Constrained metric 18309.125\n"
     ]
    }
   ],
   "source": [
    "#return to random assignments\n",
    "assign = np.random.randint(low=0,high=k,size=n)\n",
    "#initialize the class\n",
    "ld = loadProblemSC(assign, times, k, conproc, conmax, 50) #penalty 50\n",
    "ld.set_schedule(ld.auto(minutes=.2)) #set approximate time to find results\n",
    "\n",
    "# since our state is a numpy array, we need deepcopy\n",
    "ld.copy_strategy = \"deepcopy\" \n",
    "#this is what kicks it off\n",
    "best_assign, best_score = ld.anneal()\n",
    "\n",
    "print('Total time on each processor:', [ sum(times[best_assign==j]) for j in range(k)])\n",
    "print('The best score is:', best_score) \n",
    "c_metric = get_c_metric(best_assign,times,k,conproc,conmax)\n",
    "print('Constrained metric', c_metric)\n",
    "r_df = updateResults(r_df,best_score,c_metric,[ sum(times[best_assign==j]) for j in range(k)],'SC-Simanneal-50',best_assign,conproc,conmax)\n"
   ]
  },
  {
   "cell_type": "markdown",
   "metadata": {
    "collapsed": false
   },
   "source": [
    "### Simanneal Package - Soft Constraint - Penalty Multiplier 500\n",
    "The only parameter you can tweak in the simanneal package is how long you're willing to wait. Try changing that to see if you can get a better result.\n",
    "* wait_time = .2"
   ]
  },
  {
   "cell_type": "code",
   "execution_count": 35,
   "metadata": {
    "collapsed": false
   },
   "outputs": [
    {
     "name": "stderr",
     "output_type": "stream",
     "text": [
      " Temperature        Energy    Accept   Improve     Elapsed   Remaining\n",
      "     0.33000     269110.31     9.70%     0.00%     0:00:45    -1:59:339 Temperature        Energy    Accept   Improve     Elapsed   Remaining\n",
      "     0.33000     269258.09    10.00%     0.00%     0:00:13     0:00:000"
     ]
    },
    {
     "name": "stdout",
     "output_type": "stream",
     "text": [
      "Total time on each processor: [8000, 8007, 12112, 12094, 12100, 12114, 12104, 12102, 12099, 12097]\n",
      "The best score is: 269110.30900000007\n",
      "Constrained metric 400.625\n"
     ]
    }
   ],
   "source": [
    "#return to random assignments\n",
    "assign = np.random.randint(low=0,high=k,size=n)\n",
    "#initialize the class\n",
    "ld = loadProblemSC(assign, times, k, conproc, conmax, 500) #penalty 500\n",
    "ld.set_schedule(ld.auto(minutes=.2)) #set approximate time to find results\n",
    "\n",
    "# since our state is a numpy array, we need deepcopy\n",
    "ld.copy_strategy = \"deepcopy\" \n",
    "#this is what kicks it off\n",
    "best_assign, best_score = ld.anneal()\n",
    "\n",
    "print('Total time on each processor:', [ sum(times[best_assign==j]) for j in range(k)])\n",
    "print('The best score is:', best_score) \n",
    "c_metric = get_c_metric(best_assign,times,k,conproc,conmax)\n",
    "print('Constrained metric', c_metric)\n",
    "r_df = updateResults(r_df,best_score,c_metric,[ sum(times[best_assign==j]) for j in range(k)],'SC-Simanneal-500',best_assign,conproc,conmax)\n"
   ]
  },
  {
   "cell_type": "markdown",
   "metadata": {
    "collapsed": false
   },
   "source": [
    "### DEAP Genetic Algorithm - Penalty 5\n",
    "DEAP has a lot of parameters to tweak. Try tweaking some of the following to see if you can get a better result.\n",
    "\n",
    "* pop_size = 200\n",
    "* crossover_prob = 0.3\n",
    "* mutation_prob = 0.5\n",
    "* max_gen = 2000\n",
    "* max_no_improve = 200\n",
    "\n",
    "(*Note*: we need to repeat a lot of code when we're changing the problem space with DEAP. DEAP hard-codes the k and n in our functions when we set it up, so we need to essentially start from scratch. We've included all the necessary code without comments in the cell below.) \n",
    "\n",
    "**Warning**: This code will be slow to run."
   ]
  },
  {
   "cell_type": "code",
   "execution_count": 36,
   "metadata": {
    "collapsed": false
   },
   "outputs": [
    {
     "name": "stdout",
     "output_type": "stream",
     "text": [
      "Genetic Algorithm Best Result 21557311.9\n",
      "Total time on each processor: [8644, 8661, 11928, 11930, 11960, 11927, 11951, 11926, 11952, 11950]\n",
      "Constrained metric 1065907.125\n"
     ]
    }
   ],
   "source": [
    "#### DEAP Genetic Algorithm ####\n",
    "####################\n",
    "#Parameters\n",
    "pop_size = 200\n",
    "crossover_prob = 0.5\n",
    "mutation_prob = 0.5\n",
    "max_gen = 3000\n",
    "max_no_improve = 500\n",
    "#####################\n",
    "\n",
    "\n",
    "###################################\n",
    "# Leave everything below here alone\n",
    "###################################\n",
    "\n",
    "# how we create our individuals\n",
    "def create_individual(k,n):\n",
    "    current_x = np.random.randint(low=0,high=k,size=n)\n",
    "    return current_x.tolist() #this converts our np array back to a list\n",
    "\n",
    "# objective function = total squared deviation of times from balanced times\n",
    "def balance_metric_tuple(assign,times,k,conproc, conmax, penalty):\n",
    "    #make the list a numpy array\n",
    "    assign_np = np.array(assign)\n",
    "    ## call the balance_metric function\n",
    "    metric = balance_metric_constrained(assign_np, times, k, conproc, conmax, penalty)\n",
    "    return (metric, ) #note that we're returning a tuple\n",
    "# delete references to classes to avoid warning\n",
    "del creator.FitnessLoad\n",
    "del creator.Individual\n",
    "creator.create(\"FitnessLoad\", base.Fitness, weights=(-1.0,))\n",
    "creator.create(\"Individual\", list, fitness=creator.FitnessLoad)\n",
    "toolbox = base.Toolbox()\n",
    "toolbox.register(\"assignments\",create_individual,k,n)\n",
    "toolbox.register(\"individual\", tools.initIterate, creator.Individual, toolbox.assignments)\n",
    "toolbox.register(\"population\", tools.initRepeat, list, toolbox.individual)\n",
    "toolbox.register(\"evaluate\", balance_metric_tuple, times=times, k=k, conproc=conproc,conmax=conmax,penalty=5)\n",
    "toolbox.register(\"select\", tools.selTournament, tournsize=3)\n",
    "toolbox.register(\"mate\", tools.cxTwoPoint) \n",
    "toolbox.register(\"mutate\", tools.mutUniformInt, low = 0, up = k-1, indpb=0.1)\n",
    "stats = tools.Statistics(key=lambda ind: ind.fitness.values)\n",
    "stats.register(\"avg\", np.mean)\n",
    "stats.register(\"std\", np.std)\n",
    "stats.register(\"min\", np.min)\n",
    "stats.register(\"max\", np.max)\n",
    "\n",
    "# get solution\n",
    "best_balance, best_assign, log = customGA(toolbox,tools,stats, pop_size, crossover_prob, mutation_prob,\n",
    "                                     max_gen, max_no_improve)\n",
    "\n",
    "print('Genetic Algorithm Best Result', best_balance)\n",
    "\n",
    "print('Total time on each processor:', [ sum(times[np.array(best_assign)==j]) for j in range(k)])\n",
    "c_metric = get_c_metric(np.array(best_assign),times,k,conproc,conmax)\n",
    "print('Constrained metric', c_metric)\n",
    "r_df = updateResults(r_df,best_balance,c_metric,[ sum(times[np.array(best_assign)==j]) for j in range(k)],'SC-GA-5',np.array(best_assign),conproc,conmax)\n"
   ]
  },
  {
   "cell_type": "markdown",
   "metadata": {
    "collapsed": false
   },
   "source": [
    "### DEAP Genetic Algorithm - Penalty 50\n",
    "To update just the penalty, we can unregister and register the evaluate function.\n",
    "\n",
    "**Warning**: This code will be slow to run."
   ]
  },
  {
   "cell_type": "code",
   "execution_count": 37,
   "metadata": {
    "collapsed": false
   },
   "outputs": [
    {
     "name": "stdout",
     "output_type": "stream",
     "text": [
      "Genetic Algorithm Best Result 26297626.900000006\n",
      "Total time on each processor: [8090, 8089, 12083, 12103, 12064, 12056, 12077, 12072, 12101, 12094]\n",
      "Constrained metric 22093.625\n"
     ]
    }
   ],
   "source": [
    "toolbox.unregister(\"evaluate\")\n",
    "toolbox.register(\"evaluate\", balance_metric_tuple, times=times, k=k, conproc=conproc,conmax=conmax,penalty=50)\n",
    "\n",
    "# get solution\n",
    "best_balance, best_assign, log = customGA(toolbox,tools,stats, pop_size, crossover_prob, mutation_prob,\n",
    "                                     max_gen, max_no_improve)\n",
    "\n",
    "print('Genetic Algorithm Best Result', best_balance)\n",
    "print('Total time on each processor:', [ sum(times[np.array(best_assign)==j]) for j in range(k)])\n",
    "c_metric = get_c_metric(np.array(best_assign),times,k,conproc,conmax)\n",
    "print('Constrained metric', c_metric)\n",
    "r_df = updateResults(r_df,best_balance,c_metric,[ sum(times[np.array(best_assign)==j]) for j in range(k)],'SC-GA-50',np.array(best_assign),conproc,conmax)\n"
   ]
  },
  {
   "cell_type": "markdown",
   "metadata": {
    "collapsed": false
   },
   "source": [
    "### DEAP Genetic Algorithm - Penalty 500\n",
    "To update just the penalty, we can unregister and register the evaluate function.\n",
    "\n",
    "**Warning**: This code will be slow to run."
   ]
  },
  {
   "cell_type": "code",
   "execution_count": 38,
   "metadata": {
    "collapsed": false
   },
   "outputs": [
    {
     "name": "stdout",
     "output_type": "stream",
     "text": [
      "Genetic Algorithm Best Result 27743348.9\n",
      "Total time on each processor: [8041, 8017, 12058, 12371, 12264, 12115, 12172, 11906, 11726, 12159]\n",
      "Constrained metric 290788.375\n"
     ]
    }
   ],
   "source": [
    "toolbox.unregister(\"evaluate\")\n",
    "toolbox.register(\"evaluate\", balance_metric_tuple, times=times, k=k, conproc=conproc,conmax=conmax,penalty=500)\n",
    "\n",
    "# get solution\n",
    "best_balance, best_assign, log = customGA(toolbox,tools,stats, pop_size, crossover_prob, mutation_prob,\n",
    "                                     max_gen, max_no_improve)\n",
    "\n",
    "print('Genetic Algorithm Best Result', best_balance)\n",
    "print('Total time on each processor:', [ sum(times[np.array(best_assign)==j]) for j in range(k)])\n",
    "c_metric = get_c_metric(np.array(best_assign),times,k,conproc,conmax)\n",
    "print('Constrained metric', c_metric)\n",
    "r_df = updateResults(r_df,best_balance,c_metric,[ sum(times[np.array(best_assign)==j]) for j in range(k)],'SC-GA-500',np.array(best_assign),conproc,conmax)\n"
   ]
  },
  {
   "cell_type": "markdown",
   "metadata": {
    "collapsed": false
   },
   "source": [
    "## DEAP Genetic Algorithm - Feasible Start - Penalty 5\n",
    "We found that the GA algorithm wasn't performing as well as we'd have thought it might. So we decided to try giving it a feasible start, even though we're using a soft constraint. Algorithms can only perform as well as we program them to perform. It's okay to try multiple options!\n",
    "\n",
    "To create a feasible start, we needed a new version of our create individual function, and we need to register our individual class and assignments."
   ]
  },
  {
   "cell_type": "code",
   "execution_count": 39,
   "metadata": {
    "collapsed": false
   },
   "outputs": [
    {
     "name": "stdout",
     "output_type": "stream",
     "text": [
      "Genetic Algorithm Best Result 21560589.9\n",
      "Total time on each processor: [8652, 8671, 11930, 11941, 11943, 11976, 11970, 11903, 11923, 11920]\n",
      "Constrained metric 1098475.625\n"
     ]
    }
   ],
   "source": [
    "# how we create our individuals\n",
    "def create_individual(k,n,conproc):\n",
    "    unconstrained = [x for x in list(range(k)) if x not in conproc]\n",
    "    current_x = np.random.choice(unconstrained,size=n,replace=True)\n",
    "    return current_x.tolist() #this converts our np array back to a list\n",
    "\n",
    "del creator.Individual\n",
    "creator.create(\"Individual\", list, fitness=creator.FitnessLoad)\n",
    "toolbox.unregister(\"assignments\")\n",
    "toolbox.register(\"assignments\",create_individual,k,n,conproc)\n",
    "\n",
    "toolbox.unregister(\"evaluate\")\n",
    "toolbox.register(\"evaluate\", balance_metric_tuple, times=times, k=k, conproc=conproc,conmax=conmax,penalty=5)\n",
    "\n",
    "# get solution\n",
    "best_balance, best_assign, log = customGA(toolbox,tools,stats, pop_size, crossover_prob, mutation_prob,\n",
    "                                     max_gen, max_no_improve)\n",
    "\n",
    "print('Genetic Algorithm Best Result', best_balance)\n",
    "print('Total time on each processor:', [ sum(times[np.array(best_assign)==j]) for j in range(k)])\n",
    "c_metric = get_c_metric(np.array(best_assign),times,k,conproc,conmax)\n",
    "print('Constrained metric', c_metric)\n",
    "r_df = updateResults(r_df,best_balance,c_metric,[ sum(times[np.array(best_assign)==j]) for j in range(k)],'SC-GA-5-FStart',np.array(best_assign),conproc,conmax)\n",
    "\n"
   ]
  },
  {
   "cell_type": "markdown",
   "metadata": {
    "collapsed": false
   },
   "source": [
    "## DEAP Genetic Algorithm - Feasible Start - Penalty 50\n",
    "Once again, to just update the penalty, we only need to unregister and register in the evaluate function."
   ]
  },
  {
   "cell_type": "code",
   "execution_count": 40,
   "metadata": {
    "collapsed": false
   },
   "outputs": [
    {
     "name": "stdout",
     "output_type": "stream",
     "text": [
      "Genetic Algorithm Best Result 26439400.900000006\n",
      "Total time on each processor: [8089, 8098, 12182, 12282, 12032, 11989, 12080, 12222, 11883, 11972]\n",
      "Constrained metric 154325.625\n"
     ]
    }
   ],
   "source": [
    "toolbox.unregister(\"evaluate\")\n",
    "toolbox.register(\"evaluate\", balance_metric_tuple, times=times, k=k, conproc=conproc,conmax=conmax,penalty=50)\n",
    "\n",
    "# get solution\n",
    "best_balance, best_assign, log = customGA(toolbox,tools,stats, pop_size, crossover_prob, mutation_prob,\n",
    "                                     max_gen, max_no_improve)\n",
    "\n",
    "print('Genetic Algorithm Best Result', best_balance)\n",
    "print('Total time on each processor:', [ sum(times[np.array(best_assign)==j]) for j in range(k)])\n",
    "c_metric = get_c_metric(np.array(best_assign),times,k,conproc,conmax)\n",
    "print('Constrained metric', c_metric)\n",
    "r_df = updateResults(r_df,best_balance,c_metric,[ sum(times[np.array(best_assign)==j]) for j in range(k)],'SC-GA-50-FStart',np.array(best_assign),conproc,conmax)\n"
   ]
  },
  {
   "cell_type": "markdown",
   "metadata": {
    "collapsed": false
   },
   "source": [
    "## DEAP Genetic Algorithm - Feasible Start - Penalty 500\n",
    "\n",
    "One last time..."
   ]
  },
  {
   "cell_type": "code",
   "execution_count": 41,
   "metadata": {
    "collapsed": false
   },
   "outputs": [
    {
     "name": "stdout",
     "output_type": "stream",
     "text": [
      "Genetic Algorithm Best Result 27398408.900000006\n",
      "Total time on each processor: [8019, 7995, 12013, 11713, 12084, 11836, 12283, 12388, 12230, 12268]\n",
      "Constrained metric 389229.375\n"
     ]
    }
   ],
   "source": [
    "toolbox.unregister(\"evaluate\")\n",
    "toolbox.register(\"evaluate\", balance_metric_tuple, times=times, k=k, conproc=conproc,conmax=conmax,penalty=500)\n",
    "\n",
    "# get solution\n",
    "best_balance, best_assign, log = customGA(toolbox,tools,stats, pop_size, crossover_prob, mutation_prob,\n",
    "                                     max_gen, max_no_improve)\n",
    "\n",
    "print('Genetic Algorithm Best Result', best_balance)\n",
    "print('Total time on each processor:', [ sum(times[np.array(best_assign)==j]) for j in range(k)])\n",
    "c_metric = get_c_metric(np.array(best_assign),times,k,conproc,conmax)\n",
    "print('Constrained metric', c_metric)\n",
    "r_df = updateResults(r_df,best_balance,c_metric,[ sum(times[np.array(best_assign)==j]) for j in range(k)],'SC-GA-500-FStart',np.array(best_assign),conproc,conmax)\n"
   ]
  },
  {
   "cell_type": "markdown",
   "metadata": {
    "collapsed": false
   },
   "source": [
    "## Final Results\n",
    "The results below are sorted by the constrained score - which identifies how close to both meeting the constraints and having the processing evenly distributed among the constrained processors. Based on these results, which of the algorithms performed \"best\" for you? "
   ]
  },
  {
   "cell_type": "code",
   "execution_count": 42,
   "metadata": {
    "collapsed": false
   },
   "outputs": [
    {
     "data": {
      "text/html": [
       "<div>\n",
       "<style scoped>\n",
       "    .dataframe tbody tr th:only-of-type {\n",
       "        vertical-align: middle;\n",
       "    }\n",
       "\n",
       "    .dataframe tbody tr th {\n",
       "        vertical-align: top;\n",
       "    }\n",
       "\n",
       "    .dataframe thead th {\n",
       "        text-align: right;\n",
       "    }\n",
       "</style>\n",
       "<table border=\"1\" class=\"dataframe\">\n",
       "  <thead>\n",
       "    <tr style=\"text-align: right;\">\n",
       "      <th></th>\n",
       "      <th>Score</th>\n",
       "      <th>Constrained Score</th>\n",
       "      <th>Time on Processor</th>\n",
       "      <th>Over Constraints</th>\n",
       "    </tr>\n",
       "  </thead>\n",
       "  <tbody>\n",
       "    <tr>\n",
       "      <th>SC-Simanneal-500</th>\n",
       "      <td>269110.31</td>\n",
       "      <td>400.62</td>\n",
       "      <td>[8000, 8007, 12112, 12094, 12100, 12114, 12104, 12102, 12099, 12097]</td>\n",
       "      <td>True</td>\n",
       "    </tr>\n",
       "    <tr>\n",
       "      <th>HC-Local Search</th>\n",
       "      <td>27050792.90</td>\n",
       "      <td>517.62</td>\n",
       "      <td>[8000, 7987, 12109, 12113, 12093, 12107, 12100, 12100, 12110, 12110]</td>\n",
       "      <td>False</td>\n",
       "    </tr>\n",
       "    <tr>\n",
       "      <th>HC-Simanneal</th>\n",
       "      <td>27001554.90</td>\n",
       "      <td>523.12</td>\n",
       "      <td>[7998, 7995, 12102, 12102, 12111, 12094, 12114, 12112, 12092, 12109]</td>\n",
       "      <td>False</td>\n",
       "    </tr>\n",
       "    <tr>\n",
       "      <th>SC-Simanneal-50</th>\n",
       "      <td>262891.15</td>\n",
       "      <td>18309.12</td>\n",
       "      <td>[8083, 8086, 12084, 12091, 12086, 12076, 12077, 12080, 12071, 12095]</td>\n",
       "      <td>True</td>\n",
       "    </tr>\n",
       "    <tr>\n",
       "      <th>SC-GA-50</th>\n",
       "      <td>26297626.90</td>\n",
       "      <td>22093.62</td>\n",
       "      <td>[8090, 8089, 12083, 12103, 12064, 12056, 12077, 12072, 12101, 12094]</td>\n",
       "      <td>True</td>\n",
       "    </tr>\n",
       "    <tr>\n",
       "      <th>SC-GA-50-FStart</th>\n",
       "      <td>26439400.90</td>\n",
       "      <td>154325.62</td>\n",
       "      <td>[8089, 8098, 12182, 12282, 12032, 11989, 12080, 12222, 11883, 11972]</td>\n",
       "      <td>True</td>\n",
       "    </tr>\n",
       "    <tr>\n",
       "      <th>SC-GA-500</th>\n",
       "      <td>27743348.90</td>\n",
       "      <td>290788.38</td>\n",
       "      <td>[8041, 8017, 12058, 12371, 12264, 12115, 12172, 11906, 11726, 12159]</td>\n",
       "      <td>True</td>\n",
       "    </tr>\n",
       "    <tr>\n",
       "      <th>SC-GA-500-FStart</th>\n",
       "      <td>27398408.90</td>\n",
       "      <td>389229.38</td>\n",
       "      <td>[8019, 7995, 12013, 11713, 12084, 11836, 12283, 12388, 12230, 12268]</td>\n",
       "      <td>True</td>\n",
       "    </tr>\n",
       "    <tr>\n",
       "      <th>SC-Simanneal-5</th>\n",
       "      <td>215556.02</td>\n",
       "      <td>1064797.12</td>\n",
       "      <td>[8656, 8649, 11937, 11954, 11935, 11948, 11937, 11944, 11933, 11936]</td>\n",
       "      <td>True</td>\n",
       "    </tr>\n",
       "    <tr>\n",
       "      <th>SC-GA-5</th>\n",
       "      <td>21557311.90</td>\n",
       "      <td>1065907.12</td>\n",
       "      <td>[8644, 8661, 11928, 11930, 11960, 11927, 11951, 11926, 11952, 11950]</td>\n",
       "      <td>True</td>\n",
       "    </tr>\n",
       "    <tr>\n",
       "      <th>SC-GA-5-FStart</th>\n",
       "      <td>21560589.90</td>\n",
       "      <td>1098475.62</td>\n",
       "      <td>[8652, 8671, 11930, 11941, 11943, 11976, 11970, 11903, 11923, 11920]</td>\n",
       "      <td>True</td>\n",
       "    </tr>\n",
       "    <tr>\n",
       "      <th>HC-Custom Annealing</th>\n",
       "      <td>39844248.90</td>\n",
       "      <td>11054036.62</td>\n",
       "      <td>[7866, 7909, 12927, 13944, 11136, 11193, 12832, 12770, 10051, 12201]</td>\n",
       "      <td>False</td>\n",
       "    </tr>\n",
       "    <tr>\n",
       "      <th>Baseline</th>\n",
       "      <td>5143156.90</td>\n",
       "      <td>39721121.88</td>\n",
       "      <td>[12725, 10771, 10092, 12104, 11441, 11464, 11533, 10978, 10597, 11124]</td>\n",
       "      <td>True</td>\n",
       "    </tr>\n",
       "  </tbody>\n",
       "</table>\n",
       "</div>"
      ],
      "text/plain": [
       "                          Score Constrained Score  \\\n",
       "SC-Simanneal-500      269110.31            400.62   \n",
       "HC-Local Search     27050792.90            517.62   \n",
       "HC-Simanneal        27001554.90            523.12   \n",
       "SC-Simanneal-50       262891.15          18309.12   \n",
       "SC-GA-50            26297626.90          22093.62   \n",
       "SC-GA-50-FStart     26439400.90         154325.62   \n",
       "SC-GA-500           27743348.90         290788.38   \n",
       "SC-GA-500-FStart    27398408.90         389229.38   \n",
       "SC-Simanneal-5        215556.02        1064797.12   \n",
       "SC-GA-5             21557311.90        1065907.12   \n",
       "SC-GA-5-FStart      21560589.90        1098475.62   \n",
       "HC-Custom Annealing 39844248.90       11054036.62   \n",
       "Baseline             5143156.90       39721121.88   \n",
       "\n",
       "                                                                          Time on Processor  \\\n",
       "SC-Simanneal-500       [8000, 8007, 12112, 12094, 12100, 12114, 12104, 12102, 12099, 12097]   \n",
       "HC-Local Search        [8000, 7987, 12109, 12113, 12093, 12107, 12100, 12100, 12110, 12110]   \n",
       "HC-Simanneal           [7998, 7995, 12102, 12102, 12111, 12094, 12114, 12112, 12092, 12109]   \n",
       "SC-Simanneal-50        [8083, 8086, 12084, 12091, 12086, 12076, 12077, 12080, 12071, 12095]   \n",
       "SC-GA-50               [8090, 8089, 12083, 12103, 12064, 12056, 12077, 12072, 12101, 12094]   \n",
       "SC-GA-50-FStart        [8089, 8098, 12182, 12282, 12032, 11989, 12080, 12222, 11883, 11972]   \n",
       "SC-GA-500              [8041, 8017, 12058, 12371, 12264, 12115, 12172, 11906, 11726, 12159]   \n",
       "SC-GA-500-FStart       [8019, 7995, 12013, 11713, 12084, 11836, 12283, 12388, 12230, 12268]   \n",
       "SC-Simanneal-5         [8656, 8649, 11937, 11954, 11935, 11948, 11937, 11944, 11933, 11936]   \n",
       "SC-GA-5                [8644, 8661, 11928, 11930, 11960, 11927, 11951, 11926, 11952, 11950]   \n",
       "SC-GA-5-FStart         [8652, 8671, 11930, 11941, 11943, 11976, 11970, 11903, 11923, 11920]   \n",
       "HC-Custom Annealing    [7866, 7909, 12927, 13944, 11136, 11193, 12832, 12770, 10051, 12201]   \n",
       "Baseline             [12725, 10771, 10092, 12104, 11441, 11464, 11533, 10978, 10597, 11124]   \n",
       "\n",
       "                    Over Constraints  \n",
       "SC-Simanneal-500                True  \n",
       "HC-Local Search                False  \n",
       "HC-Simanneal                   False  \n",
       "SC-Simanneal-50                 True  \n",
       "SC-GA-50                        True  \n",
       "SC-GA-50-FStart                 True  \n",
       "SC-GA-500                       True  \n",
       "SC-GA-500-FStart                True  \n",
       "SC-Simanneal-5                  True  \n",
       "SC-GA-5                         True  \n",
       "SC-GA-5-FStart                  True  \n",
       "HC-Custom Annealing            False  \n",
       "Baseline                        True  "
      ]
     },
     "execution_count": 42,
     "metadata": {
     },
     "output_type": "execute_result"
    }
   ],
   "source": [
    "r_df.sort_values(by=['Constrained Score'])"
   ]
  }
 ],
 "metadata": {
  "kernelspec": {
   "display_name": "Python 3 (system-wide)",
   "language": "python",
   "metadata": {
    "cocalc": {
     "description": "Python 3 programming language",
     "priority": 100,
     "url": "https://www.python.org/"
    }
   },
   "name": "python3",
   "resource_dir": "/ext/jupyter/kernels/python3"
  },
  "language_info": {
   "codemirror_mode": {
    "name": "ipython",
    "version": 3
   },
   "file_extension": ".py",
   "mimetype": "text/x-python",
   "name": "python",
   "nbconvert_exporter": "python",
   "pygments_lexer": "ipython3",
   "version": "3.8.2"
  },
  "toc": {
   "base_numbering": 1,
   "nav_menu": {
   },
   "number_sections": true,
   "sideBar": true,
   "skip_h1_title": false,
   "title_cell": "Table of Contents",
   "title_sidebar": "Contents",
   "toc_cell": false,
   "toc_position": {
    "height": "calc(100% - 180px)",
    "left": "10px",
    "top": "150px",
    "width": "250.696px"
   },
   "toc_section_display": true,
   "toc_window_display": true
  },
  "varInspector": {
   "cols": {
    "lenName": 16,
    "lenType": 16,
    "lenVar": 40
   },
   "kernels_config": {
    "python": {
     "delete_cmd_postfix": "",
     "delete_cmd_prefix": "del ",
     "library": "var_list.py",
     "varRefreshCmd": "print(var_dic_list())"
    },
    "r": {
     "delete_cmd_postfix": ") ",
     "delete_cmd_prefix": "rm(",
     "library": "var_list.r",
     "varRefreshCmd": "cat(var_dic_list()) "
    }
   },
   "types_to_exclude": [
    "module",
    "function",
    "builtin_function_or_method",
    "instance",
    "_Feature"
   ],
   "window_display": false
  }
 },
 "nbformat": 4,
 "nbformat_minor": 4
}