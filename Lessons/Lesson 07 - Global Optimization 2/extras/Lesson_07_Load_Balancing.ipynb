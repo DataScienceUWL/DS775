{
 "cells": [
  {
   "cell_type": "markdown",
   "metadata": {},
   "source": [
    "# Load Balancing Example\n",
    "\n",
    "In this example we're going to show how you could use various approaches to solve a load balancing problem. Load balancing is when you want to divide a workload as evenly as possible among a set of resources. If we're talking execution times on computer processors, we can describe it as:\n",
    "\n",
    "given a list of $n$ execution times, divide them to be executed on $k$ processors so that the total execution time on each processor is as close to the same as possible.\n",
    "\n",
    "Let's look at a quick example to illustrate this. Say we had 4 jobs that needed to execute and they had the following times: [2,2,4,4]\n",
    "\n",
    "If we had 2 servers (each with 1 processor) to divide them between, we could have one processor do [2,2] and one processor do [2,4] or we could have each processor do [2,4]. (We could also have one processor doing [2,2,4] and one doing [4], but we'll keep it simple for this example.)\n",
    "\n",
    "Our objective function is total squared deviation of execution times from balanced time. What does that mean? Well, balanced time is when the total execution time on each processor is the same as every other processor. But, if our loads are out of balance, some processors will be doing much more work. We want to know the difference between what each processor would run if things were in balance and what they are actually running.\n",
    "\n",
    "Given $s$ is the sum of all execution times, and $k$ is the number of processors, determing our objective function by hand would look like this:\n",
    "\n",
    "<img src=\"images/startloadbalancing.png\"/>\n",
    "\n",
    "If we were perfectly load balanced, it would look like this:\n",
    "\n",
    "<img src=\"images/endloadbalancing.png\"/>\n",
    "\n",
    "Let's dive into working out this same problem in Python.\n",
    "\n",
    "First we'll set our times as a numpy array and we'll create an objective function that does all our calculations for us. In order for the objective function to work, we need to know how to assign each job to a processor. We'll create another numpy array that has the number of the processor to assign to, and we'll use index filtering to fetch each \"set\" of processing times. (We'll walk you through what we're talking about in the comments below.)"
   ]
  },
  {
   "cell_type": "code",
   "execution_count": 1,
   "metadata": {},
   "outputs": [
    {
     "name": "stdout",
     "output_type": "stream",
     "text": [
      "These are the times on processor 0: [2 2]\n",
      "Total execution time on processor 0: 4\n",
      "These are the times on processor 1: [4 4]\n",
      "Total execution time on processor 1: 8\n"
     ]
    }
   ],
   "source": [
    "import numpy as np\n",
    "import pandas as pd\n",
    "\n",
    "#set our execution times\n",
    "times = np.array([2,4,2,4])\n",
    "#set our number of servers\n",
    "k = 2\n",
    "\n",
    "#set up an array that assigns each execution time to a one of the processors\n",
    "assign = np.array([0,1,0,1])\n",
    "#see which times are assigned to processor 0\n",
    "print('These are the times on processor 0:', times[assign==0])\n",
    "print('Total execution time on processor 0:', sum(times[assign==0]))\n",
    "#see which times are assigned to processor 1\n",
    "print('These are the times on processor 1:', times[assign==1])\n",
    "print('Total execution time on processor 1:', sum(times[assign==1]))\n"
   ]
  },
  {
   "cell_type": "markdown",
   "metadata": {},
   "source": [
    "### Objective Function\n",
    "The following balance_metric function is our objective function. It takes in the assignments, the execution times, and the $k$ number of processors. First it calculates the target - the ideal processing time for each processor. Then it calculates the squared difference from the target for each processor and sums up all the differences to get our total deviation from the ideal."
   ]
  },
  {
   "cell_type": "code",
   "execution_count": 2,
   "metadata": {},
   "outputs": [],
   "source": [
    "# objective function = total squared deviation of times from balanced times\n",
    "def balance_metric(assign,times,k):\n",
    "    target = sum(times)/k\n",
    "    return sum( (sum(times[assign==j])-target)**2 for j in range(k) )"
   ]
  },
  {
   "cell_type": "markdown",
   "metadata": {},
   "source": [
    "Let's determine what our deviation is for our current example."
   ]
  },
  {
   "cell_type": "code",
   "execution_count": 3,
   "metadata": {},
   "outputs": [
    {
     "name": "stdout",
     "output_type": "stream",
     "text": [
      "The difference is:  8.0\n"
     ]
    }
   ],
   "source": [
    "print('The difference is: ', balance_metric(assign, times, k))"
   ]
  },
  {
   "cell_type": "markdown",
   "metadata": {},
   "source": [
    "It's easy to see how our jobs should be assigned. So let's fix our assignments to get balanced processors and run our metric again."
   ]
  },
  {
   "cell_type": "code",
   "execution_count": 4,
   "metadata": {},
   "outputs": [
    {
     "name": "stdout",
     "output_type": "stream",
     "text": [
      "The new difference is:  0.0\n"
     ]
    }
   ],
   "source": [
    "#set up an array that assigns each execution time to a one of the processors\n",
    "assign = np.array([0,0,1,1])\n",
    "print('The new difference is: ', balance_metric(assign, times, k))"
   ]
  },
  {
   "cell_type": "markdown",
   "metadata": {},
   "source": [
    "Perfect! We now have completely balanced processors.\n",
    "\n",
    "Of course, we'd typically be dealing with larger loads and possibly more processors and we don't want to balance them by hand. In order to let the algorithms do the work for us, we need a function that reassigns one job to a different processor. \n",
    "\n",
    "Below is the reassign_one function. It takes in the assignments and the number of processors and it swaps a job from one processor to another.\n"
   ]
  },
  {
   "cell_type": "code",
   "execution_count": 5,
   "metadata": {},
   "outputs": [],
   "source": [
    "# define a move function which changes one processor assignment randomly\n",
    "def reassign_one(assign,k):\n",
    "    # pick one of the jobs and assign it to one of k processors\n",
    "    n = len(assign)\n",
    "    # choose a job and a new processor assignment\n",
    "    which_job = np.random.randint(0,n,1)[0]\n",
    "    which_proc = np.random.randint(0,k,1)[0]\n",
    "    new_assign = assign.copy()\n",
    "    new_assign[which_job] = which_proc\n",
    "    return new_assign\n"
   ]
  },
  {
   "cell_type": "markdown",
   "metadata": {},
   "source": [
    "Let's walk through some of what this code is doing. First, it's choosing a job to reassign, that's the \"which_job\" variable. Let's look at what gets assigned to which processor if we just call that line of code with a new, randomly generated set of execution times. We're generating one random integer between 0 and the total number of execution times. This comes back as an array, so we need to fetch just the first item in the array."
   ]
  },
  {
   "cell_type": "code",
   "execution_count": 6,
   "metadata": {},
   "outputs": [
    {
     "name": "stdout",
     "output_type": "stream",
     "text": [
      "The jobs are: [8 9 9 8]\n",
      "The assignments are: [0 0 0 0]\n",
      "We will reassign job: 2\n"
     ]
    }
   ],
   "source": [
    "#still working with 4 jobs and 2 processor\n",
    "n = 4\n",
    "k = 2\n",
    "#we're going to set some min/max times here for the jobs\n",
    "min_time = 5\n",
    "max_time = 10\n",
    "#randomly generate some jobs\n",
    "times = np.random.randint(low=min_time, high = max_time, size = n)\n",
    "\n",
    "#set up a random assignment\n",
    "assign = np.random.randint(low=0,high=k,size=n)\n",
    "print('The jobs are:', times)\n",
    "print('The assignments are:', assign)\n",
    "\n",
    "#Run the which_job line to see which job we're going to reassign\n",
    "which_job = np.random.randint(0,n,1)[0]\n",
    "print('We will reassign job:', which_job)"
   ]
  },
  {
   "cell_type": "markdown",
   "metadata": {},
   "source": [
    "Then, we can decide which processor to assign it to. We've choose 1 random integer between 0 and the total number of processors. This comes back as an array, so we need to fetch just the first item in the array again.\n",
    "\n",
    "Then we make a copy of the assignments and use the which_job variable to assign a new processor to a single job execution time."
   ]
  },
  {
   "cell_type": "code",
   "execution_count": 7,
   "metadata": {},
   "outputs": [
    {
     "name": "stdout",
     "output_type": "stream",
     "text": [
      "It will get assigned to processor: 0\n",
      "The new assignments are [0 0 0 0]\n"
     ]
    }
   ],
   "source": [
    "#this line determines which processor to assign it to:\n",
    "which_proc = np.random.randint(0,k,1)[0]\n",
    "print('It will get assigned to processor:', which_proc)\n",
    "\n",
    "#we copy the assignments so that we're not disturbing the original assignments\n",
    "#then we use the which_job variable to fetch the one we want to reassign and give it the new assignment\n",
    "new_assign = assign.copy()\n",
    "new_assign[which_job] = which_proc\n",
    "print('The new assignments are', new_assign)"
   ]
  },
  {
   "cell_type": "markdown",
   "metadata": {},
   "source": [
    "Let's see what happens when we call our function. Call this code a bunch of times and you can see how the assignments change."
   ]
  },
  {
   "cell_type": "code",
   "execution_count": 8,
   "metadata": {},
   "outputs": [
    {
     "data": {
      "text/plain": [
       "array([0, 0, 0, 0])"
      ]
     },
     "execution_count": 8,
     "metadata": {},
     "output_type": "execute_result"
    }
   ],
   "source": [
    "reassign_one(assign,k)"
   ]
  },
  {
   "cell_type": "markdown",
   "metadata": {},
   "source": [
    "## Greedy Local Search\n",
    "\n",
    "Greedy local search is like our hill-climbing examples. We're going to swap one job at a time. If we are closer to being in balance, we'll keep the new assignments. If not, we'll stick with what we had. We'll keep doing this until we hit our maximum no improvement rounds. \n",
    "\n",
    "For this algorithm, we don't pass in initial assignments. Our load_balance_local takes care of setting an initial assignment for us.\n",
    "\n",
    "The function takes in the execution times, the number of processors, and the maximum rounds we're willing to go without seeing improvement. It returns the best assignment, the smallest deviation from complete balance, and the number of iterations it took to get there."
   ]
  },
  {
   "cell_type": "code",
   "execution_count": 9,
   "metadata": {},
   "outputs": [],
   "source": [
    "\n",
    "# local search function\n",
    "def load_balance_local(times, k, max_no_improve):\n",
    "    n = len(times)\n",
    "    # starts from a random assignment to k processors\n",
    "    current_x = np.random.randint(low=0,high=k,size=n)\n",
    "    current_f = balance_metric(current_x, times, k)\n",
    "    best_x = current_x\n",
    "    best_f = current_f\n",
    "\n",
    "    # stop search if no better x is found within max_no_improve iterations\n",
    "    num_moves_no_improve = 0\n",
    "    iterations = 0\n",
    "    while (num_moves_no_improve < max_no_improve):\n",
    "        num_moves_no_improve += 1\n",
    "        iterations += 1  # just for tracking\n",
    "        new_x = reassign_one(current_x,k)\n",
    "        new_f = balance_metric(new_x, times, k)\n",
    "        if new_f < current_f:\n",
    "            num_moves_no_improve = 0\n",
    "            current_x = new_x\n",
    "            current_f = new_f\n",
    "            if current_f < best_f:  \n",
    "                best_x = current_x  \n",
    "                best_f = current_f\n",
    "    return best_x, best_f, iterations"
   ]
  },
  {
   "cell_type": "markdown",
   "metadata": {},
   "source": [
    "Let's run this with a small number of processors and a small number of job execution times. Does your deviation hit zero?"
   ]
  },
  {
   "cell_type": "code",
   "execution_count": 10,
   "metadata": {},
   "outputs": [],
   "source": [
    "# generate random job times\n",
    "np.random.seed(666) #comment this out to play with new numbers\n",
    "#we'll start with 20 execution times\n",
    "n = 20\n",
    "#we'll start with 2 processors\n",
    "k = 2\n",
    "min_time = 20\n",
    "max_time = 200\n",
    "times = np.random.randint(low=min_time, high = max_time, size = n)"
   ]
  },
  {
   "cell_type": "code",
   "execution_count": 11,
   "metadata": {},
   "outputs": [
    {
     "name": "stdout",
     "output_type": "stream",
     "text": [
      "The best assignment is [1 1 0 0 0 0 1 0 0 1 0 1 0 1 0 1 1 0 1 1]\n",
      "The deviation from balance is 144.5\n",
      "It took 5017 iterations.\n"
     ]
    }
   ],
   "source": [
    "best_assign, best_f, num_iter = load_balance_local(times,k,5000)\n",
    "print('The best assignment is', best_assign)\n",
    "print('The deviation from balance is', best_f)\n",
    "print('It took', num_iter, 'iterations.')"
   ]
  },
  {
   "cell_type": "markdown",
   "metadata": {},
   "source": [
    "### Checking our work\n",
    "We can look at the total time on each processor to see how close they were. Ideally, they'd be the same. "
   ]
  },
  {
   "cell_type": "code",
   "execution_count": 12,
   "metadata": {},
   "outputs": [
    {
     "data": {
      "text/plain": [
       "[1196, 1179]"
      ]
     },
     "execution_count": 12,
     "metadata": {},
     "output_type": "execute_result"
    }
   ],
   "source": [
    "# total time on each processor ... should be about the same\n",
    "[ sum(times[best_assign==j]) for j in range(k)]"
   ]
  },
  {
   "cell_type": "markdown",
   "metadata": {},
   "source": [
    "There's randomness here, so some runs will be better than others. But, even if it seems like your best minimum deviation wasn't that great, it was probably still better than random assignments. Let's compare by doing a random assignment of the jobs and see what the time was on each processor."
   ]
  },
  {
   "cell_type": "code",
   "execution_count": 13,
   "metadata": {},
   "outputs": [
    {
     "data": {
      "text/plain": [
       "[1431, 944]"
      ]
     },
     "execution_count": 13,
     "metadata": {},
     "output_type": "execute_result"
    }
   ],
   "source": [
    "# for comparison here are total times on each processor for random assignment\n",
    "assign = np.random.choice(k, size = n, replace = True)\n",
    "[ sum(times[assign==j]) for j in range(k)]"
   ]
  },
  {
   "cell_type": "markdown",
   "metadata": {},
   "source": [
    "## Simulated Annealing - By Hand\n",
    "\n",
    "Now let's see how simulated annealing handles this problem. The good news is that we've already done most of the work coming up with our functions.\n",
    "\n",
    "Remember for simulated annealing, we need a temperature, and an alpha. \n",
    "\n",
    "Let's dive in.\n",
    "\n",
    "We'll use the same set of jobs from the previous example so you can compare, and if you've run all the code, we have a new set of random assignments already. "
   ]
  },
  {
   "cell_type": "code",
   "execution_count": 14,
   "metadata": {},
   "outputs": [
    {
     "name": "stdout",
     "output_type": "stream",
     "text": [
      "Smallest deviation was: 0.5\n"
     ]
    }
   ],
   "source": [
    "\n",
    "def custom_simanneal(times, k, max_no_improve, temp, alpha):\n",
    "    #get the length of our jobs\n",
    "    n = len(times)\n",
    "    # starts from a random assignment to k processors\n",
    "    current_x = np.random.randint(low=0,high=k,size=n)\n",
    "    current_f = balance_metric(current_x, times, k)\n",
    "    best_x = current_x\n",
    "    best_f = current_f\n",
    "    \n",
    "    #this is just for tracking\n",
    "    iterations = 1\n",
    "    trajectory = [[iterations,current_f]]\n",
    "    trajectory_best = [[iterations,best_f]]\n",
    "\n",
    "    # stop search if no better x is found within max_no_improve iterations\n",
    "    num_moves_no_improve = 0\n",
    "    while (num_moves_no_improve < max_no_improve):\n",
    "        num_moves_no_improve += 1\n",
    "        iterations += 1  # just for tracking\n",
    "        new_x = reassign_one(current_x,k)\n",
    "        new_f = balance_metric(new_x, times, k)\n",
    "        #determine the change in score\n",
    "        delta = new_f - current_f\n",
    "        #determine the probability of accepting this solution\n",
    "        prob = np.exp(min(delta, 0) / temp)\n",
    "        \n",
    "        #determine if we'll accept this solution\n",
    "        accept = new_f < current_f or np.random.uniform() < prob\n",
    "        \n",
    "        if accept:           \n",
    "            current_x = new_x\n",
    "            current_f = new_f\n",
    "            if current_f < best_f:  \n",
    "                best_x = current_x  \n",
    "                best_f = current_f\n",
    "                num_moves_no_improve = 0\n",
    "        temp *= alpha\n",
    "        iterations += 1\n",
    "        trajectory.append([iterations,current_f])\n",
    "        trajectory_best.append([iterations,best_f])        \n",
    "    return best_x, best_f, iterations, trajectory, trajectory_best\n",
    "    \n",
    "\n",
    "best_x, best_f, iterations, trajectory, trajectory_best = custom_simanneal(times, k, 1000, 500, .99)\n",
    "\n",
    "print('Smallest deviation was:', best_f)"
   ]
  },
  {
   "cell_type": "markdown",
   "metadata": {},
   "source": [
    "### Visualize the Result\n",
    "We can see how simulated annealing progresses towards the optimal solution by running this graph."
   ]
  },
  {
   "cell_type": "code",
   "execution_count": 15,
   "metadata": {},
   "outputs": [
    {
     "data": {
      "application/javascript": [
       "/* Put everything inside the global mpl namespace */\n",
       "window.mpl = {};\n",
       "\n",
       "\n",
       "mpl.get_websocket_type = function() {\n",
       "    if (typeof(WebSocket) !== 'undefined') {\n",
       "        return WebSocket;\n",
       "    } else if (typeof(MozWebSocket) !== 'undefined') {\n",
       "        return MozWebSocket;\n",
       "    } else {\n",
       "        alert('Your browser does not have WebSocket support. ' +\n",
       "              'Please try Chrome, Safari or Firefox ≥ 6. ' +\n",
       "              'Firefox 4 and 5 are also supported but you ' +\n",
       "              'have to enable WebSockets in about:config.');\n",
       "    };\n",
       "}\n",
       "\n",
       "mpl.figure = function(figure_id, websocket, ondownload, parent_element) {\n",
       "    this.id = figure_id;\n",
       "\n",
       "    this.ws = websocket;\n",
       "\n",
       "    this.supports_binary = (this.ws.binaryType != undefined);\n",
       "\n",
       "    if (!this.supports_binary) {\n",
       "        var warnings = document.getElementById(\"mpl-warnings\");\n",
       "        if (warnings) {\n",
       "            warnings.style.display = 'block';\n",
       "            warnings.textContent = (\n",
       "                \"This browser does not support binary websocket messages. \" +\n",
       "                    \"Performance may be slow.\");\n",
       "        }\n",
       "    }\n",
       "\n",
       "    this.imageObj = new Image();\n",
       "\n",
       "    this.context = undefined;\n",
       "    this.message = undefined;\n",
       "    this.canvas = undefined;\n",
       "    this.rubberband_canvas = undefined;\n",
       "    this.rubberband_context = undefined;\n",
       "    this.format_dropdown = undefined;\n",
       "\n",
       "    this.image_mode = 'full';\n",
       "\n",
       "    this.root = $('<div/>');\n",
       "    this._root_extra_style(this.root)\n",
       "    this.root.attr('style', 'display: inline-block');\n",
       "\n",
       "    $(parent_element).append(this.root);\n",
       "\n",
       "    this._init_header(this);\n",
       "    this._init_canvas(this);\n",
       "    this._init_toolbar(this);\n",
       "\n",
       "    var fig = this;\n",
       "\n",
       "    this.waiting = false;\n",
       "\n",
       "    this.ws.onopen =  function () {\n",
       "            fig.send_message(\"supports_binary\", {value: fig.supports_binary});\n",
       "            fig.send_message(\"send_image_mode\", {});\n",
       "            if (mpl.ratio != 1) {\n",
       "                fig.send_message(\"set_dpi_ratio\", {'dpi_ratio': mpl.ratio});\n",
       "            }\n",
       "            fig.send_message(\"refresh\", {});\n",
       "        }\n",
       "\n",
       "    this.imageObj.onload = function() {\n",
       "            if (fig.image_mode == 'full') {\n",
       "                // Full images could contain transparency (where diff images\n",
       "                // almost always do), so we need to clear the canvas so that\n",
       "                // there is no ghosting.\n",
       "                fig.context.clearRect(0, 0, fig.canvas.width, fig.canvas.height);\n",
       "            }\n",
       "            fig.context.drawImage(fig.imageObj, 0, 0);\n",
       "        };\n",
       "\n",
       "    this.imageObj.onunload = function() {\n",
       "        fig.ws.close();\n",
       "    }\n",
       "\n",
       "    this.ws.onmessage = this._make_on_message_function(this);\n",
       "\n",
       "    this.ondownload = ondownload;\n",
       "}\n",
       "\n",
       "mpl.figure.prototype._init_header = function() {\n",
       "    var titlebar = $(\n",
       "        '<div class=\"ui-dialog-titlebar ui-widget-header ui-corner-all ' +\n",
       "        'ui-helper-clearfix\"/>');\n",
       "    var titletext = $(\n",
       "        '<div class=\"ui-dialog-title\" style=\"width: 100%; ' +\n",
       "        'text-align: center; padding: 3px;\"/>');\n",
       "    titlebar.append(titletext)\n",
       "    this.root.append(titlebar);\n",
       "    this.header = titletext[0];\n",
       "}\n",
       "\n",
       "\n",
       "\n",
       "mpl.figure.prototype._canvas_extra_style = function(canvas_div) {\n",
       "\n",
       "}\n",
       "\n",
       "\n",
       "mpl.figure.prototype._root_extra_style = function(canvas_div) {\n",
       "\n",
       "}\n",
       "\n",
       "mpl.figure.prototype._init_canvas = function() {\n",
       "    var fig = this;\n",
       "\n",
       "    var canvas_div = $('<div/>');\n",
       "\n",
       "    canvas_div.attr('style', 'position: relative; clear: both; outline: 0');\n",
       "\n",
       "    function canvas_keyboard_event(event) {\n",
       "        return fig.key_event(event, event['data']);\n",
       "    }\n",
       "\n",
       "    canvas_div.keydown('key_press', canvas_keyboard_event);\n",
       "    canvas_div.keyup('key_release', canvas_keyboard_event);\n",
       "    this.canvas_div = canvas_div\n",
       "    this._canvas_extra_style(canvas_div)\n",
       "    this.root.append(canvas_div);\n",
       "\n",
       "    var canvas = $('<canvas/>');\n",
       "    canvas.addClass('mpl-canvas');\n",
       "    canvas.attr('style', \"left: 0; top: 0; z-index: 0; outline: 0\")\n",
       "\n",
       "    this.canvas = canvas[0];\n",
       "    this.context = canvas[0].getContext(\"2d\");\n",
       "\n",
       "    var backingStore = this.context.backingStorePixelRatio ||\n",
       "\tthis.context.webkitBackingStorePixelRatio ||\n",
       "\tthis.context.mozBackingStorePixelRatio ||\n",
       "\tthis.context.msBackingStorePixelRatio ||\n",
       "\tthis.context.oBackingStorePixelRatio ||\n",
       "\tthis.context.backingStorePixelRatio || 1;\n",
       "\n",
       "    mpl.ratio = (window.devicePixelRatio || 1) / backingStore;\n",
       "\n",
       "    var rubberband = $('<canvas/>');\n",
       "    rubberband.attr('style', \"position: absolute; left: 0; top: 0; z-index: 1;\")\n",
       "\n",
       "    var pass_mouse_events = true;\n",
       "\n",
       "    canvas_div.resizable({\n",
       "        start: function(event, ui) {\n",
       "            pass_mouse_events = false;\n",
       "        },\n",
       "        resize: function(event, ui) {\n",
       "            fig.request_resize(ui.size.width, ui.size.height);\n",
       "        },\n",
       "        stop: function(event, ui) {\n",
       "            pass_mouse_events = true;\n",
       "            fig.request_resize(ui.size.width, ui.size.height);\n",
       "        },\n",
       "    });\n",
       "\n",
       "    function mouse_event_fn(event) {\n",
       "        if (pass_mouse_events)\n",
       "            return fig.mouse_event(event, event['data']);\n",
       "    }\n",
       "\n",
       "    rubberband.mousedown('button_press', mouse_event_fn);\n",
       "    rubberband.mouseup('button_release', mouse_event_fn);\n",
       "    // Throttle sequential mouse events to 1 every 20ms.\n",
       "    rubberband.mousemove('motion_notify', mouse_event_fn);\n",
       "\n",
       "    rubberband.mouseenter('figure_enter', mouse_event_fn);\n",
       "    rubberband.mouseleave('figure_leave', mouse_event_fn);\n",
       "\n",
       "    canvas_div.on(\"wheel\", function (event) {\n",
       "        event = event.originalEvent;\n",
       "        event['data'] = 'scroll'\n",
       "        if (event.deltaY < 0) {\n",
       "            event.step = 1;\n",
       "        } else {\n",
       "            event.step = -1;\n",
       "        }\n",
       "        mouse_event_fn(event);\n",
       "    });\n",
       "\n",
       "    canvas_div.append(canvas);\n",
       "    canvas_div.append(rubberband);\n",
       "\n",
       "    this.rubberband = rubberband;\n",
       "    this.rubberband_canvas = rubberband[0];\n",
       "    this.rubberband_context = rubberband[0].getContext(\"2d\");\n",
       "    this.rubberband_context.strokeStyle = \"#000000\";\n",
       "\n",
       "    this._resize_canvas = function(width, height) {\n",
       "        // Keep the size of the canvas, canvas container, and rubber band\n",
       "        // canvas in synch.\n",
       "        canvas_div.css('width', width)\n",
       "        canvas_div.css('height', height)\n",
       "\n",
       "        canvas.attr('width', width * mpl.ratio);\n",
       "        canvas.attr('height', height * mpl.ratio);\n",
       "        canvas.attr('style', 'width: ' + width + 'px; height: ' + height + 'px;');\n",
       "\n",
       "        rubberband.attr('width', width);\n",
       "        rubberband.attr('height', height);\n",
       "    }\n",
       "\n",
       "    // Set the figure to an initial 600x600px, this will subsequently be updated\n",
       "    // upon first draw.\n",
       "    this._resize_canvas(600, 600);\n",
       "\n",
       "    // Disable right mouse context menu.\n",
       "    $(this.rubberband_canvas).bind(\"contextmenu\",function(e){\n",
       "        return false;\n",
       "    });\n",
       "\n",
       "    function set_focus () {\n",
       "        canvas.focus();\n",
       "        canvas_div.focus();\n",
       "    }\n",
       "\n",
       "    window.setTimeout(set_focus, 100);\n",
       "}\n",
       "\n",
       "mpl.figure.prototype._init_toolbar = function() {\n",
       "    var fig = this;\n",
       "\n",
       "    var nav_element = $('<div/>');\n",
       "    nav_element.attr('style', 'width: 100%');\n",
       "    this.root.append(nav_element);\n",
       "\n",
       "    // Define a callback function for later on.\n",
       "    function toolbar_event(event) {\n",
       "        return fig.toolbar_button_onclick(event['data']);\n",
       "    }\n",
       "    function toolbar_mouse_event(event) {\n",
       "        return fig.toolbar_button_onmouseover(event['data']);\n",
       "    }\n",
       "\n",
       "    for(var toolbar_ind in mpl.toolbar_items) {\n",
       "        var name = mpl.toolbar_items[toolbar_ind][0];\n",
       "        var tooltip = mpl.toolbar_items[toolbar_ind][1];\n",
       "        var image = mpl.toolbar_items[toolbar_ind][2];\n",
       "        var method_name = mpl.toolbar_items[toolbar_ind][3];\n",
       "\n",
       "        if (!name) {\n",
       "            // put a spacer in here.\n",
       "            continue;\n",
       "        }\n",
       "        var button = $('<button/>');\n",
       "        button.addClass('ui-button ui-widget ui-state-default ui-corner-all ' +\n",
       "                        'ui-button-icon-only');\n",
       "        button.attr('role', 'button');\n",
       "        button.attr('aria-disabled', 'false');\n",
       "        button.click(method_name, toolbar_event);\n",
       "        button.mouseover(tooltip, toolbar_mouse_event);\n",
       "\n",
       "        var icon_img = $('<span/>');\n",
       "        icon_img.addClass('ui-button-icon-primary ui-icon');\n",
       "        icon_img.addClass(image);\n",
       "        icon_img.addClass('ui-corner-all');\n",
       "\n",
       "        var tooltip_span = $('<span/>');\n",
       "        tooltip_span.addClass('ui-button-text');\n",
       "        tooltip_span.html(tooltip);\n",
       "\n",
       "        button.append(icon_img);\n",
       "        button.append(tooltip_span);\n",
       "\n",
       "        nav_element.append(button);\n",
       "    }\n",
       "\n",
       "    var fmt_picker_span = $('<span/>');\n",
       "\n",
       "    var fmt_picker = $('<select/>');\n",
       "    fmt_picker.addClass('mpl-toolbar-option ui-widget ui-widget-content');\n",
       "    fmt_picker_span.append(fmt_picker);\n",
       "    nav_element.append(fmt_picker_span);\n",
       "    this.format_dropdown = fmt_picker[0];\n",
       "\n",
       "    for (var ind in mpl.extensions) {\n",
       "        var fmt = mpl.extensions[ind];\n",
       "        var option = $(\n",
       "            '<option/>', {selected: fmt === mpl.default_extension}).html(fmt);\n",
       "        fmt_picker.append(option);\n",
       "    }\n",
       "\n",
       "    // Add hover states to the ui-buttons\n",
       "    $( \".ui-button\" ).hover(\n",
       "        function() { $(this).addClass(\"ui-state-hover\");},\n",
       "        function() { $(this).removeClass(\"ui-state-hover\");}\n",
       "    );\n",
       "\n",
       "    var status_bar = $('<span class=\"mpl-message\"/>');\n",
       "    nav_element.append(status_bar);\n",
       "    this.message = status_bar[0];\n",
       "}\n",
       "\n",
       "mpl.figure.prototype.request_resize = function(x_pixels, y_pixels) {\n",
       "    // Request matplotlib to resize the figure. Matplotlib will then trigger a resize in the client,\n",
       "    // which will in turn request a refresh of the image.\n",
       "    this.send_message('resize', {'width': x_pixels, 'height': y_pixels});\n",
       "}\n",
       "\n",
       "mpl.figure.prototype.send_message = function(type, properties) {\n",
       "    properties['type'] = type;\n",
       "    properties['figure_id'] = this.id;\n",
       "    this.ws.send(JSON.stringify(properties));\n",
       "}\n",
       "\n",
       "mpl.figure.prototype.send_draw_message = function() {\n",
       "    if (!this.waiting) {\n",
       "        this.waiting = true;\n",
       "        this.ws.send(JSON.stringify({type: \"draw\", figure_id: this.id}));\n",
       "    }\n",
       "}\n",
       "\n",
       "\n",
       "mpl.figure.prototype.handle_save = function(fig, msg) {\n",
       "    var format_dropdown = fig.format_dropdown;\n",
       "    var format = format_dropdown.options[format_dropdown.selectedIndex].value;\n",
       "    fig.ondownload(fig, format);\n",
       "}\n",
       "\n",
       "\n",
       "mpl.figure.prototype.handle_resize = function(fig, msg) {\n",
       "    var size = msg['size'];\n",
       "    if (size[0] != fig.canvas.width || size[1] != fig.canvas.height) {\n",
       "        fig._resize_canvas(size[0], size[1]);\n",
       "        fig.send_message(\"refresh\", {});\n",
       "    };\n",
       "}\n",
       "\n",
       "mpl.figure.prototype.handle_rubberband = function(fig, msg) {\n",
       "    var x0 = msg['x0'] / mpl.ratio;\n",
       "    var y0 = (fig.canvas.height - msg['y0']) / mpl.ratio;\n",
       "    var x1 = msg['x1'] / mpl.ratio;\n",
       "    var y1 = (fig.canvas.height - msg['y1']) / mpl.ratio;\n",
       "    x0 = Math.floor(x0) + 0.5;\n",
       "    y0 = Math.floor(y0) + 0.5;\n",
       "    x1 = Math.floor(x1) + 0.5;\n",
       "    y1 = Math.floor(y1) + 0.5;\n",
       "    var min_x = Math.min(x0, x1);\n",
       "    var min_y = Math.min(y0, y1);\n",
       "    var width = Math.abs(x1 - x0);\n",
       "    var height = Math.abs(y1 - y0);\n",
       "\n",
       "    fig.rubberband_context.clearRect(\n",
       "        0, 0, fig.canvas.width / mpl.ratio, fig.canvas.height / mpl.ratio);\n",
       "\n",
       "    fig.rubberband_context.strokeRect(min_x, min_y, width, height);\n",
       "}\n",
       "\n",
       "mpl.figure.prototype.handle_figure_label = function(fig, msg) {\n",
       "    // Updates the figure title.\n",
       "    fig.header.textContent = msg['label'];\n",
       "}\n",
       "\n",
       "mpl.figure.prototype.handle_cursor = function(fig, msg) {\n",
       "    var cursor = msg['cursor'];\n",
       "    switch(cursor)\n",
       "    {\n",
       "    case 0:\n",
       "        cursor = 'pointer';\n",
       "        break;\n",
       "    case 1:\n",
       "        cursor = 'default';\n",
       "        break;\n",
       "    case 2:\n",
       "        cursor = 'crosshair';\n",
       "        break;\n",
       "    case 3:\n",
       "        cursor = 'move';\n",
       "        break;\n",
       "    }\n",
       "    fig.rubberband_canvas.style.cursor = cursor;\n",
       "}\n",
       "\n",
       "mpl.figure.prototype.handle_message = function(fig, msg) {\n",
       "    fig.message.textContent = msg['message'];\n",
       "}\n",
       "\n",
       "mpl.figure.prototype.handle_draw = function(fig, msg) {\n",
       "    // Request the server to send over a new figure.\n",
       "    fig.send_draw_message();\n",
       "}\n",
       "\n",
       "mpl.figure.prototype.handle_image_mode = function(fig, msg) {\n",
       "    fig.image_mode = msg['mode'];\n",
       "}\n",
       "\n",
       "mpl.figure.prototype.updated_canvas_event = function() {\n",
       "    // Called whenever the canvas gets updated.\n",
       "    this.send_message(\"ack\", {});\n",
       "}\n",
       "\n",
       "// A function to construct a web socket function for onmessage handling.\n",
       "// Called in the figure constructor.\n",
       "mpl.figure.prototype._make_on_message_function = function(fig) {\n",
       "    return function socket_on_message(evt) {\n",
       "        if (evt.data instanceof Blob) {\n",
       "            /* FIXME: We get \"Resource interpreted as Image but\n",
       "             * transferred with MIME type text/plain:\" errors on\n",
       "             * Chrome.  But how to set the MIME type?  It doesn't seem\n",
       "             * to be part of the websocket stream */\n",
       "            evt.data.type = \"image/png\";\n",
       "\n",
       "            /* Free the memory for the previous frames */\n",
       "            if (fig.imageObj.src) {\n",
       "                (window.URL || window.webkitURL).revokeObjectURL(\n",
       "                    fig.imageObj.src);\n",
       "            }\n",
       "\n",
       "            fig.imageObj.src = (window.URL || window.webkitURL).createObjectURL(\n",
       "                evt.data);\n",
       "            fig.updated_canvas_event();\n",
       "            fig.waiting = false;\n",
       "            return;\n",
       "        }\n",
       "        else if (typeof evt.data === 'string' && evt.data.slice(0, 21) == \"data:image/png;base64\") {\n",
       "            fig.imageObj.src = evt.data;\n",
       "            fig.updated_canvas_event();\n",
       "            fig.waiting = false;\n",
       "            return;\n",
       "        }\n",
       "\n",
       "        var msg = JSON.parse(evt.data);\n",
       "        var msg_type = msg['type'];\n",
       "\n",
       "        // Call the  \"handle_{type}\" callback, which takes\n",
       "        // the figure and JSON message as its only arguments.\n",
       "        try {\n",
       "            var callback = fig[\"handle_\" + msg_type];\n",
       "        } catch (e) {\n",
       "            console.log(\"No handler for the '\" + msg_type + \"' message type: \", msg);\n",
       "            return;\n",
       "        }\n",
       "\n",
       "        if (callback) {\n",
       "            try {\n",
       "                // console.log(\"Handling '\" + msg_type + \"' message: \", msg);\n",
       "                callback(fig, msg);\n",
       "            } catch (e) {\n",
       "                console.log(\"Exception inside the 'handler_\" + msg_type + \"' callback:\", e, e.stack, msg);\n",
       "            }\n",
       "        }\n",
       "    };\n",
       "}\n",
       "\n",
       "// from http://stackoverflow.com/questions/1114465/getting-mouse-location-in-canvas\n",
       "mpl.findpos = function(e) {\n",
       "    //this section is from http://www.quirksmode.org/js/events_properties.html\n",
       "    var targ;\n",
       "    if (!e)\n",
       "        e = window.event;\n",
       "    if (e.target)\n",
       "        targ = e.target;\n",
       "    else if (e.srcElement)\n",
       "        targ = e.srcElement;\n",
       "    if (targ.nodeType == 3) // defeat Safari bug\n",
       "        targ = targ.parentNode;\n",
       "\n",
       "    // jQuery normalizes the pageX and pageY\n",
       "    // pageX,Y are the mouse positions relative to the document\n",
       "    // offset() returns the position of the element relative to the document\n",
       "    var x = e.pageX - $(targ).offset().left;\n",
       "    var y = e.pageY - $(targ).offset().top;\n",
       "\n",
       "    return {\"x\": x, \"y\": y};\n",
       "};\n",
       "\n",
       "/*\n",
       " * return a copy of an object with only non-object keys\n",
       " * we need this to avoid circular references\n",
       " * http://stackoverflow.com/a/24161582/3208463\n",
       " */\n",
       "function simpleKeys (original) {\n",
       "  return Object.keys(original).reduce(function (obj, key) {\n",
       "    if (typeof original[key] !== 'object')\n",
       "        obj[key] = original[key]\n",
       "    return obj;\n",
       "  }, {});\n",
       "}\n",
       "\n",
       "mpl.figure.prototype.mouse_event = function(event, name) {\n",
       "    var canvas_pos = mpl.findpos(event)\n",
       "\n",
       "    if (name === 'button_press')\n",
       "    {\n",
       "        this.canvas.focus();\n",
       "        this.canvas_div.focus();\n",
       "    }\n",
       "\n",
       "    var x = canvas_pos.x * mpl.ratio;\n",
       "    var y = canvas_pos.y * mpl.ratio;\n",
       "\n",
       "    this.send_message(name, {x: x, y: y, button: event.button,\n",
       "                             step: event.step,\n",
       "                             guiEvent: simpleKeys(event)});\n",
       "\n",
       "    /* This prevents the web browser from automatically changing to\n",
       "     * the text insertion cursor when the button is pressed.  We want\n",
       "     * to control all of the cursor setting manually through the\n",
       "     * 'cursor' event from matplotlib */\n",
       "    event.preventDefault();\n",
       "    return false;\n",
       "}\n",
       "\n",
       "mpl.figure.prototype._key_event_extra = function(event, name) {\n",
       "    // Handle any extra behaviour associated with a key event\n",
       "}\n",
       "\n",
       "mpl.figure.prototype.key_event = function(event, name) {\n",
       "\n",
       "    // Prevent repeat events\n",
       "    if (name == 'key_press')\n",
       "    {\n",
       "        if (event.which === this._key)\n",
       "            return;\n",
       "        else\n",
       "            this._key = event.which;\n",
       "    }\n",
       "    if (name == 'key_release')\n",
       "        this._key = null;\n",
       "\n",
       "    var value = '';\n",
       "    if (event.ctrlKey && event.which != 17)\n",
       "        value += \"ctrl+\";\n",
       "    if (event.altKey && event.which != 18)\n",
       "        value += \"alt+\";\n",
       "    if (event.shiftKey && event.which != 16)\n",
       "        value += \"shift+\";\n",
       "\n",
       "    value += 'k';\n",
       "    value += event.which.toString();\n",
       "\n",
       "    this._key_event_extra(event, name);\n",
       "\n",
       "    this.send_message(name, {key: value,\n",
       "                             guiEvent: simpleKeys(event)});\n",
       "    return false;\n",
       "}\n",
       "\n",
       "mpl.figure.prototype.toolbar_button_onclick = function(name) {\n",
       "    if (name == 'download') {\n",
       "        this.handle_save(this, null);\n",
       "    } else {\n",
       "        this.send_message(\"toolbar_button\", {name: name});\n",
       "    }\n",
       "};\n",
       "\n",
       "mpl.figure.prototype.toolbar_button_onmouseover = function(tooltip) {\n",
       "    this.message.textContent = tooltip;\n",
       "};\n",
       "mpl.toolbar_items = [[\"Home\", \"Reset original view\", \"fa fa-home icon-home\", \"home\"], [\"Back\", \"Back to previous view\", \"fa fa-arrow-left icon-arrow-left\", \"back\"], [\"Forward\", \"Forward to next view\", \"fa fa-arrow-right icon-arrow-right\", \"forward\"], [\"\", \"\", \"\", \"\"], [\"Pan\", \"Pan axes with left mouse, zoom with right\", \"fa fa-arrows icon-move\", \"pan\"], [\"Zoom\", \"Zoom to rectangle\", \"fa fa-square-o icon-check-empty\", \"zoom\"], [\"\", \"\", \"\", \"\"], [\"Download\", \"Download plot\", \"fa fa-floppy-o icon-save\", \"download\"]];\n",
       "\n",
       "mpl.extensions = [\"eps\", \"jpeg\", \"pdf\", \"png\", \"ps\", \"raw\", \"svg\", \"tif\"];\n",
       "\n",
       "mpl.default_extension = \"png\";var comm_websocket_adapter = function(comm) {\n",
       "    // Create a \"websocket\"-like object which calls the given IPython comm\n",
       "    // object with the appropriate methods. Currently this is a non binary\n",
       "    // socket, so there is still some room for performance tuning.\n",
       "    var ws = {};\n",
       "\n",
       "    ws.close = function() {\n",
       "        comm.close()\n",
       "    };\n",
       "    ws.send = function(m) {\n",
       "        //console.log('sending', m);\n",
       "        comm.send(m);\n",
       "    };\n",
       "    // Register the callback with on_msg.\n",
       "    comm.on_msg(function(msg) {\n",
       "        //console.log('receiving', msg['content']['data'], msg);\n",
       "        // Pass the mpl event to the overridden (by mpl) onmessage function.\n",
       "        ws.onmessage(msg['content']['data'])\n",
       "    });\n",
       "    return ws;\n",
       "}\n",
       "\n",
       "mpl.mpl_figure_comm = function(comm, msg) {\n",
       "    // This is the function which gets called when the mpl process\n",
       "    // starts-up an IPython Comm through the \"matplotlib\" channel.\n",
       "\n",
       "    var id = msg.content.data.id;\n",
       "    // Get hold of the div created by the display call when the Comm\n",
       "    // socket was opened in Python.\n",
       "    var element = $(\"#\" + id);\n",
       "    var ws_proxy = comm_websocket_adapter(comm)\n",
       "\n",
       "    function ondownload(figure, format) {\n",
       "        window.open(figure.imageObj.src);\n",
       "    }\n",
       "\n",
       "    var fig = new mpl.figure(id, ws_proxy,\n",
       "                           ondownload,\n",
       "                           element.get(0));\n",
       "\n",
       "    // Call onopen now - mpl needs it, as it is assuming we've passed it a real\n",
       "    // web socket which is closed, not our websocket->open comm proxy.\n",
       "    ws_proxy.onopen();\n",
       "\n",
       "    fig.parent_element = element.get(0);\n",
       "    fig.cell_info = mpl.find_output_cell(\"<div id='\" + id + \"'></div>\");\n",
       "    if (!fig.cell_info) {\n",
       "        console.error(\"Failed to find cell for figure\", id, fig);\n",
       "        return;\n",
       "    }\n",
       "\n",
       "    var output_index = fig.cell_info[2]\n",
       "    var cell = fig.cell_info[0];\n",
       "\n",
       "};\n",
       "\n",
       "mpl.figure.prototype.handle_close = function(fig, msg) {\n",
       "    var width = fig.canvas.width/mpl.ratio\n",
       "    fig.root.unbind('remove')\n",
       "\n",
       "    // Update the output cell to use the data from the current canvas.\n",
       "    fig.push_to_output();\n",
       "    var dataURL = fig.canvas.toDataURL();\n",
       "    // Re-enable the keyboard manager in IPython - without this line, in FF,\n",
       "    // the notebook keyboard shortcuts fail.\n",
       "    IPython.keyboard_manager.enable()\n",
       "    $(fig.parent_element).html('<img src=\"' + dataURL + '\" width=\"' + width + '\">');\n",
       "    fig.close_ws(fig, msg);\n",
       "}\n",
       "\n",
       "mpl.figure.prototype.close_ws = function(fig, msg){\n",
       "    fig.send_message('closing', msg);\n",
       "    // fig.ws.close()\n",
       "}\n",
       "\n",
       "mpl.figure.prototype.push_to_output = function(remove_interactive) {\n",
       "    // Turn the data on the canvas into data in the output cell.\n",
       "    var width = this.canvas.width/mpl.ratio\n",
       "    var dataURL = this.canvas.toDataURL();\n",
       "    this.cell_info[1]['text/html'] = '<img src=\"' + dataURL + '\" width=\"' + width + '\">';\n",
       "}\n",
       "\n",
       "mpl.figure.prototype.updated_canvas_event = function() {\n",
       "    // Tell IPython that the notebook contents must change.\n",
       "    IPython.notebook.set_dirty(true);\n",
       "    this.send_message(\"ack\", {});\n",
       "    var fig = this;\n",
       "    // Wait a second, then push the new image to the DOM so\n",
       "    // that it is saved nicely (might be nice to debounce this).\n",
       "    setTimeout(function () { fig.push_to_output() }, 1000);\n",
       "}\n",
       "\n",
       "mpl.figure.prototype._init_toolbar = function() {\n",
       "    var fig = this;\n",
       "\n",
       "    var nav_element = $('<div/>');\n",
       "    nav_element.attr('style', 'width: 100%');\n",
       "    this.root.append(nav_element);\n",
       "\n",
       "    // Define a callback function for later on.\n",
       "    function toolbar_event(event) {\n",
       "        return fig.toolbar_button_onclick(event['data']);\n",
       "    }\n",
       "    function toolbar_mouse_event(event) {\n",
       "        return fig.toolbar_button_onmouseover(event['data']);\n",
       "    }\n",
       "\n",
       "    for(var toolbar_ind in mpl.toolbar_items){\n",
       "        var name = mpl.toolbar_items[toolbar_ind][0];\n",
       "        var tooltip = mpl.toolbar_items[toolbar_ind][1];\n",
       "        var image = mpl.toolbar_items[toolbar_ind][2];\n",
       "        var method_name = mpl.toolbar_items[toolbar_ind][3];\n",
       "\n",
       "        if (!name) { continue; };\n",
       "\n",
       "        var button = $('<button class=\"btn btn-default\" href=\"#\" title=\"' + name + '\"><i class=\"fa ' + image + ' fa-lg\"></i></button>');\n",
       "        button.click(method_name, toolbar_event);\n",
       "        button.mouseover(tooltip, toolbar_mouse_event);\n",
       "        nav_element.append(button);\n",
       "    }\n",
       "\n",
       "    // Add the status bar.\n",
       "    var status_bar = $('<span class=\"mpl-message\" style=\"text-align:right; float: right;\"/>');\n",
       "    nav_element.append(status_bar);\n",
       "    this.message = status_bar[0];\n",
       "\n",
       "    // Add the close button to the window.\n",
       "    var buttongrp = $('<div class=\"btn-group inline pull-right\"></div>');\n",
       "    var button = $('<button class=\"btn btn-mini btn-primary\" href=\"#\" title=\"Stop Interaction\"><i class=\"fa fa-power-off icon-remove icon-large\"></i></button>');\n",
       "    button.click(function (evt) { fig.handle_close(fig, {}); } );\n",
       "    button.mouseover('Stop Interaction', toolbar_mouse_event);\n",
       "    buttongrp.append(button);\n",
       "    var titlebar = this.root.find($('.ui-dialog-titlebar'));\n",
       "    titlebar.prepend(buttongrp);\n",
       "}\n",
       "\n",
       "mpl.figure.prototype._root_extra_style = function(el){\n",
       "    var fig = this\n",
       "    el.on(\"remove\", function(){\n",
       "\tfig.close_ws(fig, {});\n",
       "    });\n",
       "}\n",
       "\n",
       "mpl.figure.prototype._canvas_extra_style = function(el){\n",
       "    // this is important to make the div 'focusable\n",
       "    el.attr('tabindex', 0)\n",
       "    // reach out to IPython and tell the keyboard manager to turn it's self\n",
       "    // off when our div gets focus\n",
       "\n",
       "    // location in version 3\n",
       "    if (IPython.notebook.keyboard_manager) {\n",
       "        IPython.notebook.keyboard_manager.register_events(el);\n",
       "    }\n",
       "    else {\n",
       "        // location in version 2\n",
       "        IPython.keyboard_manager.register_events(el);\n",
       "    }\n",
       "\n",
       "}\n",
       "\n",
       "mpl.figure.prototype._key_event_extra = function(event, name) {\n",
       "    var manager = IPython.notebook.keyboard_manager;\n",
       "    if (!manager)\n",
       "        manager = IPython.keyboard_manager;\n",
       "\n",
       "    // Check for shift+enter\n",
       "    if (event.shiftKey && event.which == 13) {\n",
       "        this.canvas_div.blur();\n",
       "        event.shiftKey = false;\n",
       "        // Send a \"J\" for go to next cell\n",
       "        event.which = 74;\n",
       "        event.keyCode = 74;\n",
       "        manager.command_mode();\n",
       "        manager.handle_keydown(event);\n",
       "    }\n",
       "}\n",
       "\n",
       "mpl.figure.prototype.handle_save = function(fig, msg) {\n",
       "    fig.ondownload(fig, null);\n",
       "}\n",
       "\n",
       "\n",
       "mpl.find_output_cell = function(html_output) {\n",
       "    // Return the cell and output element which can be found *uniquely* in the notebook.\n",
       "    // Note - this is a bit hacky, but it is done because the \"notebook_saving.Notebook\"\n",
       "    // IPython event is triggered only after the cells have been serialised, which for\n",
       "    // our purposes (turning an active figure into a static one), is too late.\n",
       "    var cells = IPython.notebook.get_cells();\n",
       "    var ncells = cells.length;\n",
       "    for (var i=0; i<ncells; i++) {\n",
       "        var cell = cells[i];\n",
       "        if (cell.cell_type === 'code'){\n",
       "            for (var j=0; j<cell.output_area.outputs.length; j++) {\n",
       "                var data = cell.output_area.outputs[j];\n",
       "                if (data.data) {\n",
       "                    // IPython >= 3 moved mimebundle to data attribute of output\n",
       "                    data = data.data;\n",
       "                }\n",
       "                if (data['text/html'] == html_output) {\n",
       "                    return [cell, data, j];\n",
       "                }\n",
       "            }\n",
       "        }\n",
       "    }\n",
       "}\n",
       "\n",
       "// Register the function which deals with the matplotlib target/channel.\n",
       "// The kernel may be null if the page has been refreshed.\n",
       "if (IPython.notebook.kernel != null) {\n",
       "    IPython.notebook.kernel.comm_manager.register_target('matplotlib', mpl.mpl_figure_comm);\n",
       "}\n"
      ],
      "text/plain": [
       "<IPython.core.display.Javascript object>"
      ]
     },
     "metadata": {},
     "output_type": "display_data"
    },
    {
     "data": {
      "text/html": [
       "<img src=\"data:image/png;base64,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\" width=\"500\">"
      ],
      "text/plain": [
       "<IPython.core.display.HTML object>"
      ]
     },
     "metadata": {},
     "output_type": "display_data"
    }
   ],
   "source": [
    "%matplotlib notebook\n",
    "import matplotlib.pyplot as plt\n",
    "import seaborn as sns\n",
    "sns.set_style(\"darkgrid\")\n",
    "\n",
    "\n",
    "# we can plot the progress of the search for visualization\n",
    "# plot search convergence\n",
    "curr = np.array(trajectory)\n",
    "best = np.array(trajectory_best)\n",
    "fig = plt.figure(figsize=(5, 3.5))\n",
    "line_min, = plt.plot(curr[:,0], curr[:,1], label='Curr. Deviation.',color='red')\n",
    "line_curr, = plt.plot(best[:,0],best[:,1], label='Best Deviation')\n",
    "plt.xlabel('Iteration')\n",
    "plt.ylabel('Score')\n",
    "plt.legend(handles=[line_curr, line_min])\n",
    "plt.title('Smallest Deviation Found: {:d}'.format(int(best_f)));"
   ]
  },
  {
   "cell_type": "markdown",
   "metadata": {},
   "source": [
    "## Simulated Annealing - the simanneal package\n",
    "\n",
    "When we use the simanneal package, we need to take the code that we had in our own functions before and put it inside special functions that simanneal understands. The simanneal package uses two functions - move() and energy(). These correlate with the reassign_one() and balance_metric() functions. The move function handles whatever change you're making. It's job is to make the change, and possibly to enforce constraints. (Either function can enforce constraints, depending on the method used.) The energy's job is to just return the current score.\n",
    "\n",
    "The nice part about the simanneal package is that it does all your comparisons for you. You don't have to write any code to compare your current state and new state. That happens \"behind the scenes.\"\n",
    "\n",
    "Let's talk a little bit about \"state.\" State is the current snapshot of whatever values you're **changing**. If we said we had an assignment of job 1 to process A and job 2 to process B, the assignments are the current state not the jobs. We need the jobs to determine energy. But, the jobs don't change at all. They stay the same. So they aren't part of the state. (Even if we put job 1 and job 2 on process B, we still just have job 1 and job 2. We aren't going to suddenly have an extra job.)\n",
    "\n",
    "We still need our jobs to be available to us in the simanneal package. So we'll pass it in as another variable when we initialize the package.\n",
    "\n",
    "Let's see how it's done."
   ]
  },
  {
   "cell_type": "code",
   "execution_count": 16,
   "metadata": {},
   "outputs": [
    {
     "name": "stderr",
     "output_type": "stream",
     "text": [
      " Temperature        Energy    Accept   Improve     Elapsed   Remaining\n",
      "   220.00000        144.50    49.95%     0.00%     0:00:02     0:00:001 Temperature        Energy    Accept   Improve     Elapsed   Remaining\n",
      "   220.00000        180.50    49.69%     0.00%     0:00:12     0:00:003"
     ]
    },
    {
     "name": "stdout",
     "output_type": "stream",
     "text": [
      "The best set is:  [0 1 0 1 1 0 1 0 1 0 0 1 1 1 1 1 0 1 0 0]\n",
      "The best score is: 0.5\n"
     ]
    }
   ],
   "source": [
    "#this line just imports the package\n",
    "from simanneal import Annealer\n",
    "\n",
    "#this is the line where we decide what we're calling this problem\n",
    "class loadProblem(Annealer):\n",
    "\n",
    "    # Here's where we pass extra data if we need it. We need to pass our times (jobs) variable and the number of servers (k)\n",
    "    def __init__(self, state, times, k):\n",
    "        #this line makes the times accessible within the other two functions\n",
    "        self.times = times\n",
    "        self.k = k\n",
    "        #this is how we initialize - note we're calling super with the same name as above (loadProblem)\n",
    "        super(loadProblem, self).__init__(state)  # important!\n",
    "\n",
    "    def move(self):\n",
    "        \"\"\"This corresponds to our previous reassign one function\"\"\"\n",
    "        # pick one of the jobs and assign it to one of k processors\n",
    "        \n",
    "        #copy the state & set up variables\n",
    "        assign = self.state\n",
    "        n = len(assign)\n",
    "        k = self.k\n",
    "        # choose a job and a new processor assignment\n",
    "        which_job = np.random.randint(0,n,1)[0]\n",
    "        which_proc = np.random.randint(0,k,1)[0]\n",
    "        assign[which_job] = which_proc\n",
    "        \n",
    "        #we don't return anything this time, we just update the state\n",
    "        self.state = assign\n",
    "        \n",
    "    \n",
    "    def energy(self):\n",
    "        \"\"\"This corresponds to our balance_metric function\"\"\"\n",
    "        times = self.times\n",
    "        assign = self.state\n",
    "        k = self.k\n",
    "        target = sum(times)/k\n",
    "        return sum( (sum(times[assign==j])-target)**2 for j in range(k) )\n",
    "\n",
    "\n",
    "#initialize the class\n",
    "ld = loadProblem(assign, times, k)\n",
    "ld.set_schedule(ld.auto(minutes=.2)) #set approximate time to find results\n",
    "\n",
    "# since our state is a numpy array, we need deepcopy\n",
    "ld.copy_strategy = \"deepcopy\" \n",
    "#this is what kicks it off\n",
    "best_assign, best_score = ld.anneal()\n",
    "\n",
    "\n",
    "\n",
    "print('The best set is: ', best_assign)\n",
    "\n",
    "print('The best score is:', best_score) "
   ]
  },
  {
   "cell_type": "markdown",
   "metadata": {},
   "source": [
    "## Genetic Algorithms\n",
    "\n",
    "Remember that the pseudocode for genetic algorithms looks like this:\n",
    "\n",
    "```\n",
    "generate the initial population\n",
    "compute fitness\n",
    "repeat\n",
    "    selection\n",
    "    crossover\n",
    "    mutation\n",
    "    compute fitness\n",
    "until population has converged\n",
    "```\n",
    "\n",
    "We're once again going to use the DEAP package to see if we can get our loads balanced. For this problem, we'll need to think about what it means to do selection, crossover, and mutation. But first, let's talk about individuals and populations. \n",
    "\n",
    "The \"individual\" in the genetic algorithm is one potential assignment of jobs to processors. A population is a bunch of potential assignments. DEAP gets more complicated when using numpy data structures. So for this version of the problem we're going to convert our numpy data structures back to regular lists when we're passing them around.\n",
    "\n",
    "Let's create a function for returning the random assignments. We'll need to pass in $k$ - the number of processors and $n$ - the number of jobs.\n",
    "\n",
    "\n"
   ]
  },
  {
   "cell_type": "code",
   "execution_count": 17,
   "metadata": {},
   "outputs": [
    {
     "data": {
      "text/plain": [
       "[1, 0, 0, 1, 0, 1, 1, 0, 1, 1, 1, 1, 1, 0, 1, 1, 0, 1, 0, 0]"
      ]
     },
     "execution_count": 17,
     "metadata": {},
     "output_type": "execute_result"
    }
   ],
   "source": [
    "def create_individual(k,n):\n",
    "    current_x = np.random.randint(low=0,high=k,size=n)\n",
    "    return current_x.tolist() #this converts our np array back to a list\n",
    "\n",
    "#let's test this function\n",
    "assign = create_individual(k,n)\n",
    "assign"
   ]
  },
  {
   "cell_type": "markdown",
   "metadata": {},
   "source": [
    "We will also need a function for assessing the value. We've already written that, but DEAP expects a tuple, so we need a modified version. We'll also need to cast our list back to a numpy array to get this code to work correctly."
   ]
  },
  {
   "cell_type": "code",
   "execution_count": 18,
   "metadata": {},
   "outputs": [
    {
     "data": {
      "text/plain": [
       "(37264.5,)"
      ]
     },
     "execution_count": 18,
     "metadata": {},
     "output_type": "execute_result"
    }
   ],
   "source": [
    "# objective function = total squared deviation of times from balanced times\n",
    "def balance_metric_tuple(assign,times,k):\n",
    "    #make the list a numpy array\n",
    "    assign_np = np.array(assign)\n",
    "    target = sum(times)/k\n",
    "    return (sum( (sum(times[assign_np==j])-target)**2 for j in range(k) ), ) #note that we're returning a tuple\n",
    "\n",
    "#let's test this function\n",
    "balance_metric_tuple(assign,times,k)"
   ]
  },
  {
   "cell_type": "markdown",
   "metadata": {},
   "source": [
    "### Creator\n",
    "Now we're ready to start working with DEAP. First we need to import some things and use the creator to create some objects to work with."
   ]
  },
  {
   "cell_type": "code",
   "execution_count": 19,
   "metadata": {},
   "outputs": [],
   "source": [
    "import random\n",
    "from deap import base\n",
    "from deap import creator\n",
    "from deap import tools\n",
    "from functools import partial\n",
    "\n",
    "#create a FitnessLoad class. This inherits from the base fitness class. \n",
    "#Use (-1,) for the weight for minimizing, use (1.0,) for maximizing\n",
    "# the name is whatever you want to call this instance of DEAP\n",
    "creator.create(\"FitnessLoad\", base.Fitness, weights=(-1.0,))\n",
    "\n",
    "#our individuals are lists, so we'll create the Individual class as inheriting from list\n",
    "#and we'll tell it we're using our fitness class\n",
    "#this line will need to match the class name that you set above.\n",
    "creator.create(\"Individual\", list, fitness=creator.FitnessLoad)"
   ]
  },
  {
   "cell_type": "markdown",
   "metadata": {},
   "source": [
    "### Toolbox\n",
    "Now we have to set up the toolbox. The toolbox is how we set up the custom attributes for this problem. DEAP has a lot of options for how you set up the toolbox and it can get pretty confusing. The first thing we're going to do is just configure the toolbox.\n",
    "\n",
    "After we have a toolbox, we can register things to it and unregister them. \n",
    "\n",
    "We need to register a way to create individuals. We first have to register a way to make assignments. We'll do that by registering an function called assignments and telling DEAP that whenever it's called, DEAP should turn around and call our create_individual function, with the fixed $k$ adn $n$ variables.\n",
    "\n",
    "We can test that this is working by using the tool.initIterate command, telling it we expect a list back, and telling it to call the toolbox.assignments function.\n",
    "\n",
    "If you run this code multiple times, you'll see that we get a different set of assignments each time."
   ]
  },
  {
   "cell_type": "code",
   "execution_count": 20,
   "metadata": {},
   "outputs": [
    {
     "data": {
      "text/plain": [
       "[1, 1, 1, 1, 0, 0, 0, 0, 1, 1, 0, 0, 1, 1, 1, 1, 0, 0, 1, 1]"
      ]
     },
     "execution_count": 20,
     "metadata": {},
     "output_type": "execute_result"
    }
   ],
   "source": [
    "# this line just configures a toolbox, we can register and unregister things in the toolbox\n",
    "#this line won't change in your code\n",
    "toolbox = base.Toolbox()\n",
    "\n",
    "#This line tells DEAP that we need to use the create_individual function to create our individuals\n",
    "#note that we pass in the k and n that our function needs here, too\n",
    "#this line WILL change in your homework to call your create_individual function and whatever additional paramters it needs\n",
    "toolbox.register(\"assignments\",create_individual,k,n)\n",
    "\n",
    "#test this - it should look like a familiar list of random assignments\n",
    "tools.initIterate(list, toolbox.assignments)"
   ]
  },
  {
   "cell_type": "markdown",
   "metadata": {},
   "source": [
    "Now that we know that we are getting valid assignments, we need to register an \"individual\" function with DEAP. The following line of code tells DEAP that we're going to iteratively call the assignments function each time we need to create a new individual. (Note that we're setting tool.initIterate here - which is the same way we tested it above.)\n",
    "\n",
    "We also need to tell DEAP how we want to build our populations. Notice here that we're saying that our population will be made of individuals, they'll each be of type list, and that we'll repeatedly call the toolbox.individual function. The parameter initRepeat means that we'll need to tell DEAP how many times to repeat when we build our population. (We'll set that later.)"
   ]
  },
  {
   "cell_type": "code",
   "execution_count": 21,
   "metadata": {},
   "outputs": [
    {
     "name": "stdout",
     "output_type": "stream",
     "text": [
      "An individual:\n",
      " [1, 1, 0, 0, 0, 1, 1, 1, 1, 0, 0, 0, 1, 0, 0, 0, 1, 0, 1, 1]\n",
      "Our population: \n",
      " [[0, 0, 1, 0, 0, 0, 0, 1, 0, 0, 0, 0, 0, 0, 1, 1, 0, 0, 1, 1], [0, 1, 1, 0, 0, 0, 0, 0, 0, 1, 0, 1, 1, 0, 0, 0, 1, 1, 0, 0], [1, 1, 0, 1, 0, 0, 0, 0, 0, 1, 1, 0, 0, 1, 1, 0, 0, 0, 0, 0]]\n"
     ]
    }
   ],
   "source": [
    "#tell DEAP how we're going to build our individuals\n",
    "toolbox.register(\"individual\", tools.initIterate, creator.Individual, toolbox.assignments)\n",
    "#test our individual function\n",
    "print('An individual:\\n', toolbox.individual())\n",
    "\n",
    "#tell DEAP how we're going to build our populations\n",
    "toolbox.register(\"population\", tools.initRepeat, list, toolbox.individual)\n",
    "\n",
    "#test our population function, generating 3 individuals\n",
    "print('Our population: \\n', toolbox.population(n=3))"
   ]
  },
  {
   "cell_type": "markdown",
   "metadata": {},
   "source": [
    "Next we need to register our function to evaluate an assignment. This function will automatically get an individual, but we need to pass in some extra data - the times and the number of processors $k$. We can test that our function is working in the toolbox by manually passing in an individual."
   ]
  },
  {
   "cell_type": "code",
   "execution_count": 22,
   "metadata": {},
   "outputs": [
    {
     "data": {
      "text/plain": [
       "(209304.5,)"
      ]
     },
     "execution_count": 22,
     "metadata": {},
     "output_type": "execute_result"
    }
   ],
   "source": [
    "#register the evaulation function, and pass in the extra parameters\n",
    "#this will CHANGE for your homework\n",
    "toolbox.register(\"evaluate\", balance_metric_tuple, times=times, k=k)\n",
    "\n",
    "#to test this, we have to pass in an individual\n",
    "toolbox.evaluate(toolbox.individual())"
   ]
  },
  {
   "cell_type": "markdown",
   "metadata": {},
   "source": [
    "We're finally at the point where we can talk about selection, mating (crossover) and mutation! \n",
    "\n",
    "#### Selection\n",
    "Selection first. We're going to use tournament selection. That means that DEAP will select the best individual among a sub-group of randomly chosen individuals from the population. It will do that $k$ times. (Note this is a different $k$ than we've used before.) If the sub-group size is the same as the population size, it's basically nullifying the selection process, so you'll want to choose a sub-group size smaller than your population size.\n",
    "\n",
    "Tournament selection is pretty standard and should work for your homework, though you may want to play with the tournsize. Larger values will promote the best individuals, but will also decrease diversity.\n",
    "\n",
    "Let's see how it works.\n"
   ]
  },
  {
   "cell_type": "code",
   "execution_count": 23,
   "metadata": {},
   "outputs": [
    {
     "name": "stdout",
     "output_type": "stream",
     "text": [
      "Test population:\n",
      " [[1, 1, 0, 0, 1, 1, 0, 1, 0, 0, 0, 1, 1, 1, 1, 0, 1, 1, 1, 0], [0, 0, 1, 1, 1, 0, 1, 1, 1, 0, 1, 1, 0, 0, 0, 0, 1, 1, 0, 1], [1, 0, 1, 1, 0, 0, 1, 0, 0, 0, 1, 1, 0, 1, 1, 0, 1, 0, 1, 0], [0, 1, 0, 0, 1, 0, 1, 1, 1, 1, 1, 1, 1, 0, 1, 0, 1, 1, 1, 0], [0, 1, 0, 0, 0, 1, 1, 0, 0, 0, 1, 1, 1, 1, 0, 1, 1, 1, 1, 1]]\n",
      "The best 3 individuals found in our group of 5 is:\n",
      " [[0, 0, 1, 1, 1, 0, 1, 1, 1, 0, 1, 1, 0, 0, 0, 0, 1, 1, 0, 1], [1, 1, 0, 0, 1, 1, 0, 1, 0, 0, 0, 1, 1, 1, 1, 0, 1, 1, 1, 0], [0, 1, 0, 0, 1, 0, 1, 1, 1, 1, 1, 1, 1, 0, 1, 0, 1, 1, 1, 0]]\n"
     ]
    }
   ],
   "source": [
    "#create a test population with 5 individuals\n",
    "test_pop = toolbox.population(n=5)\n",
    "\n",
    "#print the test population\n",
    "print('Test population:\\n', test_pop)\n",
    "\n",
    "# Selection - selecting a sub-group of 3 of our population\n",
    "toolbox.register(\"select\", tools.selTournament, tournsize=3)\n",
    "\n",
    "\n",
    "print('The best 3 individuals found in our group of 5 is:\\n', toolbox.select(test_pop, k=3))\n",
    "\n"
   ]
  },
  {
   "cell_type": "markdown",
   "metadata": {},
   "source": [
    "#### Mating (Crossover)\n",
    "Crossover takes two individuals and \"mates\" them by swapping individual values within the individual. There are multiple methods for performing crossover. The easiest method for the kind of data we have (lists of integers) is the cxTwoPoint crossover strategy. In this strategy, you have two individuals, and each individual \"swaps\" a value with the other one.\n",
    "\n",
    "In your homework, you'll need to CHANGE the crossover method to suit your problem:(https://deap.readthedocs.io/en/master/api/tools.html)\n",
    "\n",
    "We'll register the cxTwoPoint strategy and test it. Can you see which jobs got swapped?"
   ]
  },
  {
   "cell_type": "code",
   "execution_count": 24,
   "metadata": {},
   "outputs": [
    {
     "name": "stdout",
     "output_type": "stream",
     "text": [
      "Before crossover:\n",
      "\n",
      "[0, 1, 1, 0, 1, 1, 1, 0, 0, 1, 0, 0, 1, 1, 0, 1, 0, 1, 0, 0]\n",
      "[0, 1, 1, 1, 0, 0, 1, 0, 1, 1, 0, 1, 0, 0, 1, 0, 1, 0, 1, 1]\n",
      "After crossover: \n",
      "\n",
      "[0, 1, 1, 1, 0, 0, 1, 0, 1, 1, 0, 1, 0, 0, 1, 0, 1, 0, 1, 0]\n",
      "[0, 1, 1, 0, 1, 1, 1, 0, 0, 1, 0, 0, 1, 1, 0, 1, 0, 1, 0, 1]\n"
     ]
    }
   ],
   "source": [
    "#register cxTwoPoint strategy\n",
    "# Crossover\n",
    "toolbox.register(\"mate\", tools.cxTwoPoint)\n",
    "\n",
    "#test the strategy\n",
    "ind1 = toolbox.individual()\n",
    "ind2 = toolbox.individual()\n",
    "\n",
    "print('Before crossover:\\n')\n",
    "print(ind1)\n",
    "print(ind2)\n",
    "\n",
    "after = toolbox.mate(ind1, ind2)\n",
    "print('After crossover: \\n')\n",
    "print(after[0])\n",
    "print(after[1])"
   ]
  },
  {
   "cell_type": "markdown",
   "metadata": {},
   "source": [
    "#### Mutation\n",
    "Finally, we have mutation. Mutation in genetic algorithms works like mutation in life - it's some random change to the existing state. For this problem, we could choose between 2 mutation options:\n",
    "* mutShuffleIndexes \n",
    "* mutUniformInt\n",
    "\n",
    "ShuffleIndexes randomly shuffles the assignments. This would result in the same number of processors assigned, but different jobs assigned to each processor.\n",
    "\n",
    "UniformInt randomly changes the assignments to an integer between 0 and k-1. This could result in more total jobs on a processor than when we started. \n",
    "\n",
    "The indpb is the indepedent probability for each value to be changed. Setting this low means that some of our assignments will stay the same. If we set this to 1, we'd essentially be starting over with a completely random individual.\n",
    "\n",
    "We'll test both so you can see what happens with each. But, ultimately, we'll use mutUniformInt."
   ]
  },
  {
   "cell_type": "code",
   "execution_count": 25,
   "metadata": {},
   "outputs": [
    {
     "name": "stdout",
     "output_type": "stream",
     "text": [
      "Before:\n",
      " [1, 1, 0, 0, 1, 1, 0, 1, 0, 1, 0, 1, 0, 0, 0, 1, 1, 1, 0, 0] Zeros: 10 Ones: 10\n",
      "After:\n",
      " [1, 1, 0, 0, 1, 1, 0, 1, 0, 1, 0, 1, 0, 0, 0, 1, 1, 1, 0, 0] Zeros: 10 Ones: 10\n",
      "Before:\n",
      " [0, 1, 0, 0, 1, 0, 1, 1, 0, 1, 1, 1, 0, 1, 0, 0, 1, 0, 0, 0] Zeros: 11 Ones: 9\n",
      "After:\n",
      " [0, 1, 0, 0, 1, 0, 1, 1, 0, 1, 1, 1, 0, 1, 0, 0, 1, 1, 0, 0] Zeros: 10 Ones: 10\n"
     ]
    }
   ],
   "source": [
    "# Mutation\n",
    "toolbox.register(\"mutate\", tools.mutShuffleIndexes, indpb=.1)\n",
    "\n",
    "#test the strategy\n",
    "ind1 = toolbox.individual()\n",
    "print('Before:\\n', ind1, 'Zeros:', sum(1 for i in ind1 if i == 0), 'Ones:', sum(1 for i in ind1 if i == 1) )\n",
    "ind2 = toolbox.mutate(ind1)[0]\n",
    "print('After:\\n', ind2, 'Zeros:', sum(1 for i in ind2 if i == 0), 'Ones:', sum(1 for i in ind2 if i == 1) )\n",
    "\n",
    "toolbox.register(\"mutate\", tools.mutUniformInt, low = 0, up = k-1, indpb=0.1)\n",
    "#test the strategy\n",
    "ind1 = toolbox.individual()\n",
    "print('Before:\\n', ind1, 'Zeros:', sum(1 for i in ind1 if i == 0), 'Ones:', sum(1 for i in ind1 if i == 1) )\n",
    "ind2 = toolbox.mutate(ind1)[0]\n",
    "print('After:\\n', ind2, 'Zeros:', sum(1 for i in ind2 if i == 0), 'Ones:', sum(1 for i in ind2 if i == 1) )\n"
   ]
  },
  {
   "cell_type": "markdown",
   "metadata": {},
   "source": [
    "#### Stats\n",
    "DEAP offers handy ways to track a bunch of statistics. These don't generally change much. You should be able to just pop them into your code."
   ]
  },
  {
   "cell_type": "code",
   "execution_count": 26,
   "metadata": {},
   "outputs": [],
   "source": [
    "# configure statistics to collect (no changes needed here)\n",
    "stats = tools.Statistics(key=lambda ind: ind.fitness.values)\n",
    "stats.register(\"avg\", np.mean)\n",
    "stats.register(\"std\", np.std)\n",
    "stats.register(\"min\", np.min)\n",
    "stats.register(\"max\", np.max)"
   ]
  },
  {
   "cell_type": "markdown",
   "metadata": {},
   "source": [
    "## Helper Function\n",
    "\n",
    "All of the above was an explanation of set up. When it comes time to actually run the code, we can use the wrapper function that was created in the lesson. Note that this version of the wrapper function is a little different than the lesson's, in that it passes in the toolbox, tools, and stats instead of using the ones we created in the global scope.\n",
    "\n",
    "When it comes time to combine GA with local search, you'll need to make a new custom function like this one. Be sure to read through it to understand what it's doing."
   ]
  },
  {
   "cell_type": "code",
   "execution_count": 27,
   "metadata": {},
   "outputs": [],
   "source": [
    "\n",
    "# no changes here, call this to execute the genetic algorithm\n",
    "def customGA(in_toolbox,in_tools,in_stats,pop_size, cx_prob, mut_prob, max_gen, max_no_improve):\n",
    "\n",
    "    pop = in_toolbox.population(n=pop_size)\n",
    "    logbook = in_tools.Logbook()\n",
    "    hof = in_tools.HallOfFame(1)\n",
    "\n",
    "    # Evaluate the entire population\n",
    "    fitnesses = list(map(in_toolbox.evaluate, pop))\n",
    "    for ind, fit in zip(pop, fitnesses):\n",
    "        ind.fitness.values = fit\n",
    "\n",
    "    hof.update(pop)\n",
    "    best_val = hof[0].fitness.values\n",
    "    num_no_improve = 0\n",
    "    generation = 0\n",
    "\n",
    "    while num_no_improve < max_no_improve and generation < max_gen:\n",
    "\n",
    "        # Select the next generation individuals\n",
    "        selected = in_toolbox.select(pop, len(pop))\n",
    "        # Clone the selected individuals\n",
    "        offspring = list(map(in_toolbox.clone, selected))\n",
    "\n",
    "        # Apply crossover and mutation on the offspring\n",
    "        for child1, child2 in zip(offspring[::2], offspring[1::2]):\n",
    "            if random.random() < cx_prob:\n",
    "                in_toolbox.mate(child1, child2)\n",
    "                del child1.fitness.values\n",
    "                del child2.fitness.values\n",
    "\n",
    "        for mutant in offspring:\n",
    "            if random.random() < mut_prob:\n",
    "                in_toolbox.mutate(mutant)\n",
    "                del mutant.fitness.values\n",
    "\n",
    "        # Evaluate the individuals with an invalid fitness\n",
    "        invalid_ind = [ind for ind in offspring if not ind.fitness.valid]\n",
    "        fitnesses = map(in_toolbox.evaluate, invalid_ind)\n",
    "        num_evals = 0\n",
    "        for ind, fit in zip(invalid_ind, fitnesses):\n",
    "            num_evals += 1\n",
    "            ind.fitness.values = fit\n",
    "\n",
    "        # The population is entirely replaced by the offspring\n",
    "        pop[:] = offspring\n",
    "\n",
    "        # track the best value and reset counter if there is a change\n",
    "        hof.update(pop)\n",
    "        curr_best_val = hof[0].fitness.values[0]\n",
    "        num_no_improve += 1\n",
    "        if curr_best_val != best_val:\n",
    "            best_val = curr_best_val\n",
    "            num_no_improve = 0\n",
    "\n",
    "        # record stats\n",
    "        record = in_stats.compile(pop)\n",
    "        logbook.record(gen=generation, evals=num_evals, **record)\n",
    "\n",
    "        # increment generation\n",
    "        generation += 1\n",
    "\n",
    "    best_x = list(hof[0])\n",
    "\n",
    "    return best_val, best_x, logbook"
   ]
  },
  {
   "cell_type": "markdown",
   "metadata": {},
   "source": [
    "### Putting GA All Together\n",
    "\n",
    "The next cell is mostly a repeat of what we have broken out into multiple cells above. This is provided all together as a convenience. "
   ]
  },
  {
   "cell_type": "code",
   "execution_count": 28,
   "metadata": {},
   "outputs": [
    {
     "name": "stderr",
     "output_type": "stream",
     "text": [
      "C:\\Users\\deann\\.conda\\envs\\ds775\\lib\\site-packages\\deap\\creator.py:141: RuntimeWarning: A class named 'FitnessLoad' has already been created and it will be overwritten. Consider deleting previous creation of that class or rename it.\n",
      "  RuntimeWarning)\n",
      "C:\\Users\\deann\\.conda\\envs\\ds775\\lib\\site-packages\\deap\\creator.py:141: RuntimeWarning: A class named 'Individual' has already been created and it will be overwritten. Consider deleting previous creation of that class or rename it.\n",
      "  RuntimeWarning)\n"
     ]
    }
   ],
   "source": [
    "n = 20\n",
    "k = 2\n",
    "# how we create our individuals\n",
    "def create_individual(k,n):\n",
    "    current_x = np.random.randint(low=0,high=k,size=n)\n",
    "    return current_x.tolist() #this converts our np array back to a list\n",
    "\n",
    "# objective function = total squared deviation of times from balanced times\n",
    "def balance_metric_tuple(assign,times,k):\n",
    "    #make the list a numpy array\n",
    "    assign_np = np.array(assign)\n",
    "    target = sum(times)/k\n",
    "    return (sum( (sum(times[assign_np==j])-target)**2 for j in range(k) ), ) #note that we're returning a tuple\n",
    "\n",
    "\n",
    "#create a FitnessLoad class. This inherits from the base fitness class. \n",
    "#Use (-1,) for the weight for minimizing, use (1.0,) for maximizing\n",
    "# the name is whatever you want to call this instance of DEAP\n",
    "creator.create(\"FitnessLoad\", base.Fitness, weights=(-1.0,))\n",
    "\n",
    "#our individuals are lists, so we'll create the Individual class as inheriting from list\n",
    "#and we'll tell it we're using our fitness class\n",
    "#CHANGE - this line will need to match the name of your class instance in your homework\n",
    "creator.create(\"Individual\", list, fitness=creator.FitnessLoad)\n",
    "\n",
    "# this line just configures a toolbox, we can register and unregister things in the toolbox\n",
    "#this line won't change in your code\n",
    "toolbox = base.Toolbox()\n",
    "\n",
    "#This line tells DEAP that we need to use the create_individual function to create our individuals\n",
    "#note that we pass in the k and n that our function needs here, too\n",
    "#this line WILL change in your homework to call your create_individual function and whatever additional paramters it needs\n",
    "toolbox.register(\"assignments\",create_individual,k,n)\n",
    "\n",
    "#tell DEAP how we're going to build our individuals & Populations\n",
    "toolbox.register(\"individual\", tools.initIterate, creator.Individual, toolbox.assignments)\n",
    "toolbox.register(\"population\", tools.initRepeat, list, toolbox.individual)\n",
    "#register the evaulation function, and pass in the extra parameters\n",
    "#this will CHANGE for your homework\n",
    "toolbox.register(\"evaluate\", balance_metric_tuple, times=times, k=k)\n",
    "\n",
    "# Selection (don't change except possibly tournsize, larger size will promote \n",
    "# the best individuals but also decrease diversity)\n",
    "toolbox.register(\"select\", tools.selTournament, tournsize=3)\n",
    "\n",
    "# Crossover - CHANGE this to suit your problem (https://deap.readthedocs.io/en/master/api/tools.html)\n",
    "toolbox.register(\"mate\", tools.cxTwoPoint) \n",
    "\n",
    "# Mutation - CHANGE this to suit your problem\n",
    "toolbox.register(\"mutate\", tools.mutUniformInt, low = 0, up = k-1, indpb=0.1)\n",
    "\n",
    "# configure statistics to collect (no changes needed here)\n",
    "stats = tools.Statistics(key=lambda ind: ind.fitness.values)\n",
    "stats.register(\"avg\", np.mean)\n",
    "stats.register(\"std\", np.std)\n",
    "stats.register(\"min\", np.min)\n",
    "stats.register(\"max\", np.max)\n",
    "\n"
   ]
  },
  {
   "cell_type": "markdown",
   "metadata": {},
   "source": [
    "### Calling the code\n",
    "It's finally time to call the genetic algorithm code. To do so, we'll need to set up some additional parameters and then call our custom_ga function, passing in the toolbox, tools, stats and our parameters.\n",
    "\n",
    "The function returns our best balance, our best assignment, and a log of what it took to get there.\n"
   ]
  },
  {
   "cell_type": "code",
   "execution_count": 29,
   "metadata": {},
   "outputs": [
    {
     "name": "stdout",
     "output_type": "stream",
     "text": [
      "Best Assignments: [1, 0, 0, 1, 0, 0, 0, 0, 1, 1, 1, 1, 1, 0, 1, 1, 0, 1, 1, 1]\n",
      "Times on each processor [1187, 1188]\n",
      "The best balance was (0.5,)\n"
     ]
    }
   ],
   "source": [
    "# define search parameters\n",
    "pop_size = 200\n",
    "crossover_prob = 0.3\n",
    "mutation_prob = 0.5\n",
    "max_gen = 2000\n",
    "max_no_improve = 200\n",
    "\n",
    "# get solution\n",
    "best_balance, best_assign, log = customGA(toolbox,tools,stats, pop_size, crossover_prob, mutation_prob,\n",
    "                                     max_gen, max_no_improve)\n",
    "\n",
    "print('Best Assignments:', best_assign)\n",
    "print('Times on each processor', [ sum(times[np.array(best_assign)==j]) for j in range(k)])\n",
    "print('The best balance was', best_balance)\n"
   ]
  },
  {
   "cell_type": "markdown",
   "metadata": {},
   "source": [
    "## Increasing Problem Size\n",
    "\n",
    "We used a very small problem to demonstrate each of the methods above. Now it's time to create a much larger problem and see how our algorithms perform. "
   ]
  },
  {
   "cell_type": "code",
   "execution_count": 30,
   "metadata": {},
   "outputs": [],
   "source": [
    "####################################\n",
    "# Setting up a new bigger problem\n",
    "####################################\n",
    "n = 1000\n",
    "k = 10\n",
    "#we're going to set some min/max times here for the jobs\n",
    "min_time = 20\n",
    "max_time = 200\n",
    "#randomly generate some jobs\n",
    "times = np.random.randint(low=min_time, high = max_time, size = n)"
   ]
  },
  {
   "cell_type": "markdown",
   "metadata": {},
   "source": [
    "### Baseline\n",
    "Let's see what our baseline deviation from balanced loads is with a size this large. (Note, there's randomness here and some algorithms set their own baseline. But this should give us a general idea.)\n"
   ]
  },
  {
   "cell_type": "code",
   "execution_count": 39,
   "metadata": {},
   "outputs": [
    {
     "name": "stdout",
     "output_type": "stream",
     "text": [
      "Baseline with random assignments: 13724568.0\n",
      "Total time on each processor: [8432, 10678, 10863, 10710, 10114, 12573, 11369, 10845, 10559, 12847]\n"
     ]
    }
   ],
   "source": [
    "#get the baseline\n",
    "assign = np.random.randint(low=0,high=k,size=n)\n",
    "baseline = balance_metric(assign,times,k)\n",
    "print('Baseline with random assignments:', baseline)\n",
    "print('Total time on each processor:', [ sum(times[assign==j]) for j in range(k)])"
   ]
  },
  {
   "cell_type": "markdown",
   "metadata": {},
   "source": [
    "### Greedy local search\n",
    "The only parameter we can fiddle with in our greedy local search is how many iterations we're willing to go with no improvement. Try changing the 5000 number to see if it gets better results\n",
    "\n",
    "* max_no_improve = 5000"
   ]
  },
  {
   "cell_type": "code",
   "execution_count": 32,
   "metadata": {},
   "outputs": [
    {
     "name": "stdout",
     "output_type": "stream",
     "text": [
      "Greedy Local Search best result: 890.0\n",
      "Total time on each processor: [10886, 10918, 10907, 10890, 10906, 10892, 10899, 10903, 10900, 10889]\n"
     ]
    }
   ],
   "source": [
    "#### Greedy Local Search #####\n",
    "#####################\n",
    "#Parameters\n",
    "max_no_improve = 5000\n",
    "#####################\n",
    "best_assign, best_f, num_iter = load_balance_local(times,k,max_no_improve)\n",
    "print('Greedy Local Search best result:', best_f)\n",
    "print('Total time on each processor:', [ sum(times[best_assign==j]) for j in range(k)])"
   ]
  },
  {
   "cell_type": "markdown",
   "metadata": {},
   "source": [
    "### Custom Simulated Annealing\n",
    "For our custom simulated annealing, we can tweak the following parameters:\n",
    "* max_no_improve = 1000\n",
    "* temp = 500\n",
    "* alpha = .99 \n",
    "\n",
    "Try tweaking these parameters to see if you can get a better result\n"
   ]
  },
  {
   "cell_type": "code",
   "execution_count": 33,
   "metadata": {},
   "outputs": [
    {
     "name": "stdout",
     "output_type": "stream",
     "text": [
      "Custom Simulated Annealing best result: 2540130.0\n",
      "Total time on each processor: [11067, 10932, 11394, 10808, 10316, 11124, 10242, 10079, 11457, 11571]\n"
     ]
    }
   ],
   "source": [
    "#### Custom Simulated Annealing ####\n",
    "#####################\n",
    "#Parameters\n",
    "max_no_improve = 1000\n",
    "temp = 500 \n",
    "alpha = .99\n",
    "#####################\n",
    "\n",
    "\n",
    "best_x, best_f, iterations, trajectory, trajectory_best = custom_simanneal(times, k, max_no_improve, temp, alpha)\n",
    "print('Custom Simulated Annealing best result:', best_f)\n",
    "print('Total time on each processor:', [ sum(times[best_x==j]) for j in range(k)])"
   ]
  },
  {
   "cell_type": "markdown",
   "metadata": {},
   "source": [
    "### Simanneal Package\n",
    "The only parameter you can tweak in the simanneal package is how long you're willing to wait. Try changing that to see if you can get a better result.\n",
    "* wait_time = .2"
   ]
  },
  {
   "cell_type": "code",
   "execution_count": 34,
   "metadata": {},
   "outputs": [
    {
     "name": "stderr",
     "output_type": "stream",
     "text": [
      " Temperature        Energy    Accept   Improve     Elapsed   Remaining\n",
      "   100.00000        458.00    10.00%     0.00%     0:00:25    -1:59:527 Temperature        Energy    Accept   Improve     Elapsed   Remaining\n",
      "   100.00000        674.00    12.50%     0.00%     0:00:13     0:00:001"
     ]
    },
    {
     "name": "stdout",
     "output_type": "stream",
     "text": [
      "Simanneal Package best result 458.0\n",
      "Total time on each processor: [10896, 10888, 10910, 10887, 10905, 10899, 10903, 10900, 10902, 10900]\n"
     ]
    }
   ],
   "source": [
    "#### Simanneal Package ####\n",
    "#####################\n",
    "#Parameters\n",
    "wait_time = .2\n",
    "#####################\n",
    "\n",
    "assign = np.random.randint(low=0,high=k,size=n)\n",
    "ld = loadProblem(assign, times, k)\n",
    "ld.set_schedule(ld.auto(minutes=wait_time)) \n",
    "ld.copy_strategy = \"deepcopy\" \n",
    "best_assign, best_score = ld.anneal()\n",
    "print('Simanneal Package best result', best_score)\n",
    "print('Total time on each processor:', [ sum(times[best_assign==j]) for j in range(k)])"
   ]
  },
  {
   "cell_type": "markdown",
   "metadata": {},
   "source": [
    "### DEAP Genetic Algorithm\n",
    "DEAP has a lot of parameters to tweak. Try tweaking some of the following to see if you can get a better result.\n",
    "\n",
    "* pop_size = 200\n",
    "* crossover_prob = 0.3\n",
    "* mutation_prob = 0.5\n",
    "* max_gen = 2000\n",
    "* max_no_improve = 200\n",
    "\n",
    "(*Note*: that we need to repeat a lot of code when we're changing the problem space with DEAP. DEAP hard-codes the k and n in our functions when we set it up, so we need to essentially start from scratch. We've included all the necessary code without comments in the cell below.) \n",
    "\n",
    "**Warning**: This code will be slow to run."
   ]
  },
  {
   "cell_type": "code",
   "execution_count": 35,
   "metadata": {},
   "outputs": [
    {
     "name": "stdout",
     "output_type": "stream",
     "text": [
      "Genetic Algorithm Best Result 6010.0\n",
      "Total time on each processor: [10913, 10945, 10905, 10911, 10907, 10891, 10858, 10911, 10861, 10888]\n"
     ]
    }
   ],
   "source": [
    "#### DEAP Genetic Algorithm ####\n",
    "####################\n",
    "#Parameters\n",
    "pop_size = 200\n",
    "crossover_prob = 0.3\n",
    "mutation_prob = 0.5\n",
    "max_gen = 2000\n",
    "max_no_improve = 200\n",
    "#####################\n",
    "\n",
    "\n",
    "###################################\n",
    "# Leave everything below here alone\n",
    "###################################\n",
    "\n",
    "# how we create our individuals\n",
    "def create_individual(k,n):\n",
    "    current_x = np.random.randint(low=0,high=k,size=n)\n",
    "    return current_x.tolist() #this converts our np array back to a list\n",
    "\n",
    "# objective function = total squared deviation of times from balanced times\n",
    "def balance_metric_tuple(assign,times,k):\n",
    "    #make the list a numpy array\n",
    "    assign_np = np.array(assign)\n",
    "    target = sum(times)/k\n",
    "    return (sum( (sum(times[assign_np==j])-target)**2 for j in range(k) ), ) #note that we're returning a tuple\n",
    "\n",
    "creator.create(\"FitnessLoad\", base.Fitness, weights=(-1.0,))\n",
    "creator.create(\"Individual\", list, fitness=creator.FitnessLoad)\n",
    "toolbox = base.Toolbox()\n",
    "toolbox.register(\"assignments\",create_individual,k,n)\n",
    "toolbox.register(\"individual\", tools.initIterate, creator.Individual, toolbox.assignments)\n",
    "toolbox.register(\"population\", tools.initRepeat, list, toolbox.individual)\n",
    "toolbox.register(\"evaluate\", balance_metric_tuple, times=times, k=k)\n",
    "toolbox.register(\"select\", tools.selTournament, tournsize=3)\n",
    "toolbox.register(\"mate\", tools.cxTwoPoint) \n",
    "toolbox.register(\"mutate\", tools.mutUniformInt, low = 0, up = k-1, indpb=0.1)\n",
    "stats = tools.Statistics(key=lambda ind: ind.fitness.values)\n",
    "stats.register(\"avg\", np.mean)\n",
    "stats.register(\"std\", np.std)\n",
    "stats.register(\"min\", np.min)\n",
    "stats.register(\"max\", np.max)\n",
    "\n",
    "# get solution\n",
    "best_balance, best_assign, log = customGA(toolbox,tools,stats, pop_size, crossover_prob, mutation_prob,\n",
    "                                     max_gen, max_no_improve)\n",
    "\n",
    "print('Genetic Algorithm Best Result', best_balance)\n",
    "print('Total time on each processor:', [ sum(times[np.array(best_assign)==j]) for j in range(k)])"
   ]
  }
 ],
 "metadata": {
  "kernelspec": {
   "display_name": "Python 3",
   "language": "python",
   "name": "python3"
  },
  "language_info": {
   "codemirror_mode": {
    "name": "ipython",
    "version": 3
   },
   "file_extension": ".py",
   "mimetype": "text/x-python",
   "name": "python",
   "nbconvert_exporter": "python",
   "pygments_lexer": "ipython3",
   "version": "3.7.4"
  },
  "toc": {
   "base_numbering": 1,
   "nav_menu": {},
   "number_sections": true,
   "sideBar": true,
   "skip_h1_title": false,
   "title_cell": "Table of Contents",
   "title_sidebar": "Contents",
   "toc_cell": false,
   "toc_position": {
    "height": "calc(100% - 180px)",
    "left": "10px",
    "top": "150px",
    "width": "250.696px"
   },
   "toc_section_display": true,
   "toc_window_display": true
  },
  "varInspector": {
   "cols": {
    "lenName": 16,
    "lenType": 16,
    "lenVar": 40
   },
   "kernels_config": {
    "python": {
     "delete_cmd_postfix": "",
     "delete_cmd_prefix": "del ",
     "library": "var_list.py",
     "varRefreshCmd": "print(var_dic_list())"
    },
    "r": {
     "delete_cmd_postfix": ") ",
     "delete_cmd_prefix": "rm(",
     "library": "var_list.r",
     "varRefreshCmd": "cat(var_dic_list()) "
    }
   },
   "types_to_exclude": [
    "module",
    "function",
    "builtin_function_or_method",
    "instance",
    "_Feature"
   ],
   "window_display": false
  }
 },
 "nbformat": 4,
 "nbformat_minor": 2
}
