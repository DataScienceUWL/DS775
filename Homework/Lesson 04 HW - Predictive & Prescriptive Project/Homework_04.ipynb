{
 "cells": [
  {
   "cell_type": "code",
   "execution_count": 1,
   "metadata": {
    "code_folding": [
     0
    ],
    "collapsed": false
   },
   "outputs": [
   ],
   "source": [
    "# execute to import notebook styling for tables and width etc.\n",
    "from IPython.core.display import HTML\n",
    "\n",
    "import statsmodels.api as sm\n",
    "import pandas as pd\n",
    "import copy\n",
    "from pyomo.environ import *\n",
    "import warnings\n",
    "warnings.filterwarnings('ignore')"
   ]
  },
  {
   "cell_type": "markdown",
   "metadata": {
    "collapsed": false
   },
   "source": [
    "# Lesson 4: Homework - Combining Predictive and Prescriptive Analytics\n",
    "\n",
    "### When asking questions about homework in Piazza please use a tag in the subject line like HW1.3 to refer to Homework 1, Question 3.  So the subject line might be **HW1.3 question**.  Note there are no spaces in \"HW1.3\".  This really helps keep Piazza easily searchable for everyone!\n",
    "\n",
    "For full credit, all code in this notebook must be both executed in this notebook and copied to the Canvas quiz where indicated."
   ]
  },
  {
   "cell_type": "markdown",
   "metadata": {
    "collapsed": false
   },
   "source": [
    "# **Question 1** Why must your linear regression equations be fit through the origin? <font color=\"magenta\">(2 points)</font>\n",
    "\n",
    "* It is not feasible to have zero passengers, therefore the line must originate away from (0,0).\n",
    "* The multiple regressions run through the origin, i.e (0,0), due to the additivity assumption of linear programming.\n",
    "* The regression equations are all fit through the origin (no intercept term) so that we maintain proportionality without an additive constant in our objective function and to simplify the construction of the constraints.\n",
    "* If the intercept is not constant then the certainty assumption is violated. We must fit through the origin to make it certain. "
   ]
  },
  {
   "cell_type": "markdown",
   "metadata": {
    "collapsed": false
   },
   "source": [
    "# Problem Set up\n",
    "*Note: this information is not included in the Canvas quiz.*\n",
    "\n",
    "The file *Airfares.xlsx* contains real data that were collected between Q3-1996 and Q2-1997.  A csv file of the data is also provided (called *Airfares.csv*).\n",
    "\n",
    "We're copying the instructions from the presentation file here for ease of use.\n",
    "\n",
    "The following problem takes place in the United States in the late 1990s, when many major US cities were facing issues with airport congestion, partly as a result of the 1978 deregulation of airlines. Both fares and routes were freed from regulation, and low-fare carriers such as Southwest (SW) began competing on existing routes and starting non-stop service on routes that previously lacked it.  Building new airports is not generally feasible, but sometimes decommissioned military bases or smaller municipal airports can be reconfigured as regional or larger commercial airports.  There are numerous players and interests involved in the issue (airlines, city, state, and federal authorities, civic groups, the military, airport operators), and an aviation consulting firm is seeking advisory contracts with these players.\n",
    "\n",
    "A consulting firm wishes to determine the maximum average fare (FARE) as a function of three variables: COUPON, HI, and DISTANCE.  COUPON, HI, and DISTANCE are things that an airline could control, when determining where to locate new routes.\n",
    "\n",
    "Moreover, they need to impose constraints on \n",
    "- the number of passengers on that route (PAX) $\\leq 20000$\n",
    "- the starting city’s average personal income (S_INCOME) $\\leq 30000$\n",
    "- the ending city’s average personal income (E_INCOME) $\\geq 30000$\n",
    "\n",
    "For additional constraints:\n",
    "* restrict COUPON to no more than 1.5\n",
    "* limit HI to between 4000 and 8000, inclusive\n",
    "* consider only routes with DISTANCE between 500 and 1000 miles, inclusive.\n",
    "\n",
    "However, the variables PAX, S_INCOME, and E_INCOME are not decision variables so the firm must first model these variables using COUPON, HI, and DISTANCE as predictors using linear regression (predictive analytics).  They'll also use linear regression to model a linear relation between FARE and COUPON, HI, and DISTANCE.  Armed with these predictive models the firm will build a linear program (prescriptive analytics) to maximize the average fare.\n",
    "\n",
    "Suppose you are in the aviation consulting firm and you want to maximize airfares for the particular set circumstances described below. The file *Airfares.xlsx* contains real data that were collected between Q3-1996 and Q2-1997. The first sheet contains variable descriptions, while the second sheet contains the data.  A csv file of the data is also provided (called *Airfares.csv*).\n",
    "\n",
    "*NOTE: This problem scenario is developed from pp. 170-171 in Data Mining for Business Analytics: Concepts, Techniques, and Applications in R, by Shmueli, Bruce, Yahav, Patel, and Lichtendahl, Wiley, 2017)*\n",
    "\n",
    "## Part 1: The Predictive Models\n",
    "Since each of these models uses the same predictors and the only thing that varies is the response variable, write a function that takes in the dataframe, a list of predictors and a response variable string which:\n",
    "* runs the linear regression based on the \n",
    "* returns the model\n",
    "* prints the regression equation.\n",
    "\n",
    "Use a non-repetitive approach to run multiple linear regression **through the origin** using the average number of coupons (COUPON) for that route, the Herfindel Index (HI), and the distance between the two endpoint airports in miles (DISTANCE) as predictors. You'll build 4 multiple linear regression models, one for each of the following response variables:\n",
    "\n",
    "- the average fare (FARE)\n",
    "- the number of passengers on that route (PAX)\n",
    "- the starting city’s average personal income (S_INCOME)\n",
    "- the ending city’s average personal income (E_INCOME)\n",
    "\n",
    "For each of the models, you'll need to:\n",
    "\n",
    "* print the resulting linear equation. For instance: $FARE = X_1COUPON + X_2HI + X_3DISTANCE$ with the $X_n$ coefficients filled in.\n",
    "* print the $R^2$ for each model. (Hint, it's stored in a variable that can be accessed by calling .rsquared on whatever variable you created when you fit the model.)\n",
    "* store the data in such a way that you can use the coefficients directly in the linear program.\n",
    "\n",
    "To solve this, start by completing the regModel() function below.  Then call the regModel function 4 times to produce the coefficients for each model.  You should store the coefficients in such a way that you can access them easily to build the linear programs that are needed later (we suggest you store all the coefficients in one data structure).  Here is a template for the function\n",
    "\n",
    "```python\n",
    "def regModel(df, X, Y):\n",
    "    \"\"\"\n",
    "    find linear regression coefficients for Y ~ X using the data in df\n",
    "\n",
    "    Parameters:\n",
    "    df (pandas data frame): contains the response and predictor variables\n",
    "    Y (str): a string matching the column name of the response variable\n",
    "    X (list of str): column names of the predictor variables\n",
    "\n",
    "    Returns:\n",
    "    (list of floats or similar): linear regression model coefficients for each predictor variable\n",
    "\n",
    "   \"\"\"\n",
    "   # find model\n",
    "   \n",
    "   # print output\n",
    "   \n",
    "   # return coefs\n",
    "```\n",
    "\n",
    "For example this code:\n",
    "\n",
    "```python\n",
    "airfares = pd.read_csv(\"data/Airfares.csv\")\n",
    "predictors = ['COUPON', 'HI', 'DISTANCE']\n",
    "\n",
    "coef = regModel( airfares, predictors, 'FARE')\n",
    "\n",
    "print('\\nThe coefficients of the regression model are:')\n",
    "print(coef)\n",
    "```\n",
    "\n",
    "Would produce output similar to this:\n",
    "\n",
    "```\n",
    "Model is: FARE = 22.5900 COUPON + 0.0118 HI + 0.0833 DISTANCE (R^2 = 0.91)\n",
    "\n",
    "The coefficients of the regression model are:\n",
    "COUPON      22.590019\n",
    "HI           0.011798\n",
    "DISTANCE     0.083336\n",
    "```"
   ]
  },
  {
   "cell_type": "markdown",
   "metadata": {
    "collapsed": false
   },
   "source": [
    "# **Question 2** - Your regModel() function (manually graded) <font color=\"magenta\">(5 points)</font>\n",
    "\n",
    "In the following cell, write your **non-repetitive** code and run your 4 linear regressions.\n"
   ]
  },
  {
   "cell_type": "code",
   "execution_count": 1,
   "metadata": {
    "collapsed": false
   },
   "outputs": [
   ],
   "source": [
    "#your code here"
   ]
  },
  {
   "cell_type": "markdown",
   "metadata": {
    "collapsed": false
   },
   "source": [
    "# **Question 3** <font color=\"magenta\">(2 points)</font>\n",
    "In the model that predicts FARE, what is the coefficient for COUPON, rounded to 2 digits? \n",
    "\n",
    "<font color=\"red\">Answer here</font>\n",
    "\n",
    "# **Question 4** <font color=\"magenta\">(2 points)</font>\n",
    "In the model that predicts PAX, what is the coefficient for HI, rounded to 2 digits? \n",
    "\n",
    "<font color=\"red\">Answer here</font>\n",
    "\n",
    "# **Question 5** <font color=\"magenta\">(2 points)</font>\n",
    "In the model that predicts S_INCOME, what is the coefficient for DISTANCE, rounded to 2 digits? \n",
    "\n",
    "<font color=\"red\">Answer here</font>\n",
    "\n",
    "# **Question 6** <font color=\"magenta\">(2 points)</font>\n",
    "Match the models with their $R^2$ values: \n",
    "\n",
    "A. FARE\n",
    "* .97\n",
    "* .96\n",
    "* .91\n",
    "* .42\n",
    "* .87\n",
    "\n",
    "B. PAX\n",
    "* .97\n",
    "* .96\n",
    "* .91\n",
    "* .42\n",
    "* .87\n",
    "\n",
    "C. S_INCOME\n",
    "* .97\n",
    "* .96\n",
    "* .91\n",
    "* .42\n",
    "* .87\n",
    "\n",
    "D. E_INCOME\n",
    "* .97\n",
    "* .96\n",
    "* .91\n",
    "* .42\n",
    "* .87\n",
    "\n"
   ]
  },
  {
   "cell_type": "markdown",
   "metadata": {
    "collapsed": false
   },
   "source": [
    "# Optimal LP Solution"
   ]
  },
  {
   "cell_type": "markdown",
   "metadata": {
    "collapsed": false
   },
   "source": [
    "# **Question 7** Generate the linear program (manually graded) <font color=\"magenta\">8 points</font>\n",
    "\n",
    "Generate a linear program to find the optimal maximum value of FARE, given the constraints noted in the introduction and the results of your linear regression modeling. Be sure to use the values directly from your linear regression without rounding. Do not hard-code the coefficient values. Access them directly from your saved models, as demonstrated in the lesson.\n",
    "\n",
    "For full credit, you must use an abstract approach.  To make it easier to group the constraints, you can rewrite the E_INCOME constraint so that it uses $\\leq$ instead of $\\geq$.  A simple way to do this is to multiply both sides of the inequality by (-1).  For example\n",
    "$$ 2x - 3y \\geq 5 $$\n",
    "becomes \n",
    "$$ -2x + 3y \\leq -5.$$"
   ]
  },
  {
   "cell_type": "markdown",
   "metadata": {
    "collapsed": false
   },
   "source": [
    "# **Question 8** <font color=\"magenta\">(2 points)</font>\n",
    "What is the maximum airfare, rounded to 2 digits. (Do not input the dollar sign.)\n",
    "\n",
    "<font color=\"red\">Answer here</font>\n",
    "\n",
    "# **Question 9** <font color=\"magenta\">(2 points)</font>\n",
    "What is the optimal value for **COUPON**, rounded to 2 digits. \n",
    "\n",
    "<font color=\"red\">Answer here</font>\n",
    "\n",
    "# **Question 10** <font color=\"magenta\">(2 points)</font>\n",
    "What is the optimal value for **HI**, rounded to 2 digits. \n",
    "\n",
    "<font color=\"red\">Answer here</font>\n",
    "\n",
    "# **Question 11** <font color=\"magenta\">(2 points)</font>\n",
    "What is the optimal value for **DISTANCE**, rounded to 2 digits. \n",
    "\n",
    "<font color=\"red\">Answer here</font>"
   ]
  },
  {
   "cell_type": "markdown",
   "metadata": {
    "collapsed": false
   },
   "source": [
    "# Sensitivity Analysis"
   ]
  },
  {
   "cell_type": "markdown",
   "metadata": {
    "collapsed": false
   },
   "source": [
    "Run your linear program multiple times, modifying your resource constraints to determine which constraints are binding. You'll be making the following changes. (Remember to always reset your variables back to the baseline after each change.)\n",
    "\n",
    "Increment the following constraints by one (setting them back before incrementing the next one):\n",
    "* S_INCOME (from 30000 to 30001)\n",
    "* E_INCOME (from 30000 to 30001)\n",
    "* PAX (from 20000 to 20001)\n",
    "* COUPON (from 1.5 to 2.5)\n",
    "* HI (from 8000 to 8001)\n",
    "* DISTANCE (from 1000 to 1001)\n",
    "\n",
    "Use the values of the objective function from each run, and the value from Question 8, to estimate the shadow prices for each constraint.  To get accurate values you should store the optimized objective function values in memory and use those to compute the shadow prices.\n",
    "\n",
    "You don't need to produce a sensitivity report, but you can if want to use it to check your work."
   ]
  },
  {
   "cell_type": "code",
   "execution_count": 3,
   "metadata": {
    "collapsed": false
   },
   "outputs": [
   ],
   "source": [
    "# use this cell to do your work"
   ]
  },
  {
   "cell_type": "markdown",
   "metadata": {
    "collapsed": false
   },
   "source": [
    "# **Question 12** <font color=\"magenta\">(3 points)</font>\n",
    "Which of the following are binding constraints? Check all the apply. \n",
    "\n",
    "* S_INCOME\n",
    "* E_INCOME\n",
    "* PAX\n",
    "* COUPON\n",
    "* HI\n",
    "* DISTANCE\n",
    "\n",
    "\n",
    "# **Question 13** <font color=\"magenta\">(2 points)</font>\n",
    "What is the shadow price for **S_INCOME** (rounded to 2 digits)?\n",
    "\n",
    "* .00\n",
    "* .01\n",
    "* .09\n",
    "* 1.00\n",
    "* 1.01\n",
    "\n",
    "# **Question 14** <font color=\"magenta\">(2 points)</font>\n",
    "What is the shadow price for **COUPON** (rounded to 2 digits)?\n",
    "\n",
    "* .00\n",
    "* .01\n",
    "* .09\n",
    "* 1.00\n",
    "* 1.01\n",
    "\n",
    "# **Question 15** <font color=\"magenta\">(2 points)</font>\n",
    "What is the shadow price for **DISTANCE** (rounded to 2 digits)?\n",
    "\n",
    "* .00\n",
    "* .01\n",
    "* .09\n",
    "* 1.00\n",
    "* 1.01\n"
   ]
  },
  {
   "cell_type": "markdown",
   "metadata": {
    "collapsed": false
   },
   "source": [
    "# **Question 16 (Manually graded)** <font color=\"magenta\">(5 points)</font>\n",
    "\n",
    "Briefly summarize the main conclusion of this project, state what you see as any limitations of the methods used here, and suggest other possible methods of addressing the maximizing of airfare in this problem scenario. To get full credit, you should address any limitations you see in the regression models and provide at least one recommendation for improvement."
   ]
  },
  {
   "cell_type": "markdown",
   "metadata": {
    "collapsed": false
   },
   "source": [
    "<font color=\"green\">Add your answer</font>"
   ]
  },
  {
   "cell_type": "markdown",
   "metadata": {
    "collapsed": false
   },
   "source": [
    "# **Question 17** (Manually graded) <font color=\"magenta\">(5 points)</font>\n",
    "\n",
    "Show the mathematical formulation for the linear programming problem used in this project.\n",
    "You can either use LaTeX and markdown or take a clean, cropped picture of neatly handwritten equations and upload it. (Note: both the equation editor and the image upload are hidden behind the 3 vertical dot \"more\" menu in Canvas.)\n",
    "\n"
   ]
  },
  {
   "cell_type": "markdown",
   "metadata": {
    "collapsed": false
   },
   "source": [
    "\n"
   ]
  }
 ],
 "metadata": {
  "kernelspec": {
   "argv": [
    "/usr/bin/python3",
    "-m",
    "ipykernel",
    "--HistoryManager.enabled=False",
    "--matplotlib=inline",
    "-c",
    "%config InlineBackend.figure_formats = set(['retina'])\nimport matplotlib; matplotlib.rcParams['figure.figsize'] = (12, 7)",
    "-f",
    "{connection_file}"
   ],
   "display_name": "Python 3 (system-wide)",
   "env": {
   },
   "language": "python",
   "metadata": {
    "cocalc": {
     "description": "Python 3 programming language",
     "priority": 100,
     "url": "https://www.python.org/"
    }
   },
   "name": "python3",
   "resource_dir": "/ext/jupyter/kernels/python3"
  },
  "language_info": {
   "codemirror_mode": {
    "name": "ipython",
    "version": 3
   },
   "file_extension": ".py",
   "mimetype": "text/x-python",
   "name": "python",
   "nbconvert_exporter": "python",
   "pygments_lexer": "ipython3",
   "version": "3.8.10"
  },
  "toc": {
   "base_numbering": 1,
   "nav_menu": {
   },
   "number_sections": true,
   "sideBar": true,
   "skip_h1_title": false,
   "title_cell": "Table of Contents",
   "title_sidebar": "Contents",
   "toc_cell": false,
   "toc_position": {
   },
   "toc_section_display": true,
   "toc_window_display": false
  },
  "varInspector": {
   "cols": {
    "lenName": 16,
    "lenType": 16,
    "lenVar": 40
   },
   "kernels_config": {
    "python": {
     "delete_cmd_postfix": "",
     "delete_cmd_prefix": "del ",
     "library": "var_list.py",
     "varRefreshCmd": "print(var_dic_list())"
    },
    "r": {
     "delete_cmd_postfix": ") ",
     "delete_cmd_prefix": "rm(",
     "library": "var_list.r",
     "varRefreshCmd": "cat(var_dic_list()) "
    }
   },
   "types_to_exclude": [
    "module",
    "function",
    "builtin_function_or_method",
    "instance",
    "_Feature"
   ],
   "window_display": false
  }
 },
 "nbformat": 4,
 "nbformat_minor": 4
}