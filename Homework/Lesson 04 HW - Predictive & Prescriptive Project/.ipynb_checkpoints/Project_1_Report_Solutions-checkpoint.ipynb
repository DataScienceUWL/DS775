{
 "cells": [
  {
   "cell_type": "code",
   "execution_count": 1,
   "metadata": {
    "code_folding": [
     0
    ]
   },
   "outputs": [],
   "source": [
    "# execute to import notebook styling for tables and width etc.\n",
    "from IPython.core.display import HTML\n",
    "import urllib.request\n",
    "response = urllib.request.urlopen('https://raw.githubusercontent.com/DataScienceUWL/DS775v2/master/ds755.css')\n",
    "HTML(response.read().decode(\"utf-8\"));\n",
    "\n",
    "import warnings\n",
    "warnings.filterwarnings('ignore')"
   ]
  },
  {
   "cell_type": "markdown",
   "metadata": {},
   "source": [
    "<font size=18>Project 1: Report - Solutions</font>"
   ]
  },
  {
   "cell_type": "markdown",
   "metadata": {},
   "source": [
    "Use this Jupyter notebook to summarize the details of this project organized in the following sections. \n",
    "\n",
    "The file *Airfares.xlsx* contains real data that were collected between Q3-1996 and Q2-1997. The first sheet contains variable descriptions while the second sheet contains the data.  A csv file of the data is also provided (called *Airfares.csv*)."
   ]
  },
  {
   "cell_type": "markdown",
   "metadata": {},
   "source": [
    "# Introduction"
   ]
  },
  {
   "cell_type": "markdown",
   "metadata": {},
   "source": [
    "Summarize the problem statement, establishing the context and methods used in this project."
   ]
  },
  {
   "cell_type": "markdown",
   "metadata": {},
   "source": [
    "<font color = \"blue\"> *** 5 points -  answer in cell below *** (don't delete this cell) </font>"
   ]
  },
  {
   "cell_type": "markdown",
   "metadata": {},
   "source": [
    "Answers will vary here, but full credit for a solid recap of the problem and explanation of the methods to be used (Linear Regression and Linear Programming)."
   ]
  },
  {
   "cell_type": "markdown",
   "metadata": {},
   "source": [
    "# Linear Regression Models"
   ]
  },
  {
   "cell_type": "markdown",
   "metadata": {},
   "source": [
    "Provide a brief summary of the linear regression models used to estimate coefficients that will be used in the linear programming problem.  Explain why the multiple regression equations had to be fitted through the origin (consider the assumptions of linear programming)."
   ]
  },
  {
   "cell_type": "markdown",
   "metadata": {},
   "source": [
    "<font color = \"blue\"> *** 5 points -  answer in cell below *** (don't delete this cell) </font>"
   ]
  },
  {
   "cell_type": "code",
   "execution_count": 2,
   "metadata": {
    "scrolled": false
   },
   "outputs": [
    {
     "name": "stdout",
     "output_type": "stream",
     "text": [
      "                                 OLS Regression Results                                \n",
      "=======================================================================================\n",
      "Dep. Variable:                   FARE   R-squared (uncentered):                   0.911\n",
      "Model:                            OLS   Adj. R-squared (uncentered):              0.911\n",
      "Method:                 Least Squares   F-statistic:                              2165.\n",
      "Date:                Sat, 05 Oct 2019   Prob (F-statistic):                        0.00\n",
      "Time:                        07:33:49   Log-Likelihood:                         -3439.5\n",
      "No. Observations:                 638   AIC:                                      6885.\n",
      "Df Residuals:                     635   BIC:                                      6898.\n",
      "Df Model:                           3                                                  \n",
      "Covariance Type:            nonrobust                                                  \n",
      "==============================================================================\n",
      "                 coef    std err          t      P>|t|      [0.025      0.975]\n",
      "------------------------------------------------------------------------------\n",
      "COUPON        22.5900      6.697      3.373      0.001       9.440      35.740\n",
      "HI             0.0118      0.001     10.599      0.000       0.010       0.014\n",
      "DISTANCE       0.0833      0.004     18.991      0.000       0.075       0.092\n",
      "==============================================================================\n",
      "Omnibus:                       31.675   Durbin-Watson:                   0.990\n",
      "Prob(Omnibus):                  0.000   Jarque-Bera (JB):               16.008\n",
      "Skew:                           0.193   Prob(JB):                     0.000334\n",
      "Kurtosis:                       2.327   Cond. No.                     1.54e+04\n",
      "==============================================================================\n",
      "\n",
      "Warnings:\n",
      "[1] Standard Errors assume that the covariance matrix of the errors is correctly specified.\n",
      "[2] The condition number is large, 1.54e+04. This might indicate that there are\n",
      "strong multicollinearity or other numerical problems.\n",
      "COUPON      22.590019\n",
      "HI           0.011798\n",
      "DISTANCE     0.083336\n",
      "dtype: float64\n",
      "                                 OLS Regression Results                                \n",
      "=======================================================================================\n",
      "Dep. Variable:                    PAX   R-squared (uncentered):                   0.424\n",
      "Model:                            OLS   Adj. R-squared (uncentered):              0.421\n",
      "Method:                 Least Squares   F-statistic:                              155.6\n",
      "Date:                Sat, 05 Oct 2019   Prob (F-statistic):                    1.32e-75\n",
      "Time:                        07:33:49   Log-Likelihood:                         -6993.6\n",
      "No. Observations:                 638   AIC:                                  1.399e+04\n",
      "Df Residuals:                     635   BIC:                                  1.401e+04\n",
      "Df Model:                           3                                                  \n",
      "Covariance Type:            nonrobust                                                  \n",
      "==============================================================================\n",
      "                 coef    std err          t      P>|t|      [0.025      0.975]\n",
      "------------------------------------------------------------------------------\n",
      "COUPON      1.082e+04   1758.617      6.152      0.000    7365.921    1.43e+04\n",
      "HI             0.2482      0.292      0.849      0.396      -0.326       0.822\n",
      "DISTANCE      -2.2980      1.152     -1.994      0.047      -4.561      -0.035\n",
      "==============================================================================\n",
      "Omnibus:                      345.744   Durbin-Watson:                   0.689\n",
      "Prob(Omnibus):                  0.000   Jarque-Bera (JB):             1848.009\n",
      "Skew:                           2.508   Prob(JB):                         0.00\n",
      "Kurtosis:                       9.660   Cond. No.                     1.54e+04\n",
      "==============================================================================\n",
      "\n",
      "Warnings:\n",
      "[1] Standard Errors assume that the covariance matrix of the errors is correctly specified.\n",
      "[2] The condition number is large, 1.54e+04. This might indicate that there are\n",
      "strong multicollinearity or other numerical problems.\n",
      "COUPON      10819.328522\n",
      "HI              0.248183\n",
      "DISTANCE       -2.298017\n",
      "dtype: float64\n",
      "                                 OLS Regression Results                                \n",
      "=======================================================================================\n",
      "Dep. Variable:               S_INCOME   R-squared (uncentered):                   0.966\n",
      "Model:                            OLS   Adj. R-squared (uncentered):              0.966\n",
      "Method:                 Least Squares   F-statistic:                              6023.\n",
      "Date:                Sat, 05 Oct 2019   Prob (F-statistic):                        0.00\n",
      "Time:                        07:33:49   Log-Likelihood:                         -6359.1\n",
      "No. Observations:                 638   AIC:                                  1.272e+04\n",
      "Df Residuals:                     635   BIC:                                  1.274e+04\n",
      "Df Model:                           3                                                  \n",
      "Covariance Type:            nonrobust                                                  \n",
      "==============================================================================\n",
      "                 coef    std err          t      P>|t|      [0.025      0.975]\n",
      "------------------------------------------------------------------------------\n",
      "COUPON      2.091e+04    650.471     32.145      0.000    1.96e+04    2.22e+04\n",
      "HI             1.1146      0.108     10.309      0.000       0.902       1.327\n",
      "DISTANCE      -2.8310      0.426     -6.642      0.000      -3.668      -1.994\n",
      "==============================================================================\n",
      "Omnibus:                        6.012   Durbin-Watson:                   1.164\n",
      "Prob(Omnibus):                  0.049   Jarque-Bera (JB):                6.730\n",
      "Skew:                          -0.141   Prob(JB):                       0.0346\n",
      "Kurtosis:                       3.417   Cond. No.                     1.54e+04\n",
      "==============================================================================\n",
      "\n",
      "Warnings:\n",
      "[1] Standard Errors assume that the covariance matrix of the errors is correctly specified.\n",
      "[2] The condition number is large, 1.54e+04. This might indicate that there are\n",
      "strong multicollinearity or other numerical problems.\n",
      "COUPON      20909.191409\n",
      "HI              1.114583\n",
      "DISTANCE       -2.830983\n",
      "dtype: float64\n",
      "                                 OLS Regression Results                                \n",
      "=======================================================================================\n",
      "Dep. Variable:               E_INCOME   R-squared (uncentered):                   0.962\n",
      "Model:                            OLS   Adj. R-squared (uncentered):              0.961\n",
      "Method:                 Least Squares   F-statistic:                              5288.\n",
      "Date:                Sat, 05 Oct 2019   Prob (F-statistic):                        0.00\n",
      "Time:                        07:33:49   Log-Likelihood:                         -6400.3\n",
      "No. Observations:                 638   AIC:                                  1.281e+04\n",
      "Df Residuals:                     635   BIC:                                  1.282e+04\n",
      "Df Model:                           3                                                  \n",
      "Covariance Type:            nonrobust                                                  \n",
      "==============================================================================\n",
      "                 coef    std err          t      P>|t|      [0.025      0.975]\n",
      "------------------------------------------------------------------------------\n",
      "COUPON      1.833e+04    693.900     26.416      0.000     1.7e+04    1.97e+04\n",
      "HI             1.4069      0.115     12.198      0.000       1.180       1.633\n",
      "DISTANCE      -1.0198      0.455     -2.243      0.025      -1.913      -0.127\n",
      "==============================================================================\n",
      "Omnibus:                        4.753   Durbin-Watson:                   0.540\n",
      "Prob(Omnibus):                  0.093   Jarque-Bera (JB):                4.842\n",
      "Skew:                           0.207   Prob(JB):                       0.0888\n",
      "Kurtosis:                       2.898   Cond. No.                     1.54e+04\n",
      "==============================================================================\n",
      "\n",
      "Warnings:\n",
      "[1] Standard Errors assume that the covariance matrix of the errors is correctly specified.\n",
      "[2] The condition number is large, 1.54e+04. This might indicate that there are\n",
      "strong multicollinearity or other numerical problems.\n",
      "COUPON      18330.370962\n",
      "HI              1.406882\n",
      "DISTANCE       -1.019802\n",
      "dtype: float64\n"
     ]
    }
   ],
   "source": [
    "# code for linear regression models goes here\n",
    "import statsmodels.api as sm\n",
    "import pandas as pd\n",
    "\n",
    "airport = pd.read_csv(\"data/Airfares.csv\")\n",
    "\n",
    "# define predictor variables (same as decision variables for LP)\n",
    "predictors = ['COUPON', 'HI', 'DISTANCE']\n",
    "X = airport[predictors] \n",
    "\n",
    "# define response variables for each model\n",
    "Y_obj = airport['FARE']\n",
    "Y_c1 = airport['PAX']\n",
    "Y_c2 = airport['S_INCOME']\n",
    "Y_c3 = airport['E_INCOME']\n",
    "\n",
    "# add a constant to each model\n",
    "# X = sm.add_constant(X) \n",
    "\n",
    "# fit the objective function and pull out coefficients\n",
    "model_obj = sm.OLS(Y_obj, X).fit()\n",
    "coefs_obj = model_obj.params\n",
    "\n",
    "print_model_obj = model_obj.summary()\n",
    "print(print_model_obj)\n",
    "print(coefs_obj)\n",
    "\n",
    "\n",
    "# fit the constraint 1\n",
    "model_c1 = sm.OLS(Y_c1, X).fit()\n",
    "coefs_c1 = model_c1.params\n",
    "\n",
    "print_model_c1 = model_c1.summary()\n",
    "print(print_model_c1)\n",
    "print(coefs_c1)\n",
    "\n",
    "# fit the constraint 2\n",
    "model_c2 = sm.OLS(Y_c2, X).fit() \n",
    "coefs_c2 = model_c2.params\n",
    "\n",
    "print_model_c2 = model_c2.summary()\n",
    "print(print_model_c2)\n",
    "print(coefs_c2)\n",
    "\n",
    "# fit the constraint 3\n",
    "model_c3 = sm.OLS(Y_c3, X).fit()\n",
    "coefs_c3 = model_c3.params\n",
    "\n",
    "print_model_c3 = model_c3.summary()\n",
    "print(print_model_c3)\n",
    "print(coefs_c3)\n"
   ]
  },
  {
   "cell_type": "markdown",
   "metadata": {},
   "source": [
    "<font color = \"blue\"> *** 5 points -  answer in cell below *** (don't delete this cell) </font>"
   ]
  },
  {
   "cell_type": "markdown",
   "metadata": {},
   "source": [
    "The equation for computing fare from coupon, hi, and distance is \n",
    "\n",
    "$$ \\mbox{FARE} = 22.590019 * \\mbox{COUPON} + 0.011798 * \\mbox{HI} + 0.083336 * \\mbox{DISTANCE}.$$\n",
    "\n",
    "This will be the objective function for our maximization below.\n",
    "\n",
    "Since there are also constraints on PAX, S_INCOME, and E_INCOME, we need to know what those are in terms of the decision variables COUPON, HI, and DISTANCE.  Using linear regression we find:\n",
    "\n",
    "$$ \\mbox{PAX} = 10820 * \\mbox{COUPON} + 0.2482 * \\mbox{HI} -2.2980 * \\mbox{DISTANCE},$$\n",
    "$$ \\mbox{S_INCOME} = 20910 * \\mbox{COUPON} + 1.1146 * \\mbox{HI} - 2.8310 * \\mbox{DISTANCE}.$$\n",
    "$$ \\mbox{E_INCOME} = 18330 * \\mbox{COUPON} + 1.4069 * \\mbox{HI} + 0.455 * \\mbox{DISTANCE}.$$\n",
    "\n",
    "The regression equations are all fit through the origin (no intercept term) so that we maintain proportionality without an additive constant in our objective function and to simplify the construction of the constraints."
   ]
  },
  {
   "cell_type": "markdown",
   "metadata": {},
   "source": [
    "# Optimal LP Solution"
   ]
  },
  {
   "cell_type": "markdown",
   "metadata": {},
   "source": [
    "The optimal value of the airfare and for which values of COUPON, HI, and DISTANCE it occurs. "
   ]
  },
  {
   "cell_type": "markdown",
   "metadata": {},
   "source": [
    "<font color = \"blue\"> *** 8 points -  answer in cell below *** (don't delete this cell) </font>"
   ]
  },
  {
   "cell_type": "code",
   "execution_count": 4,
   "metadata": {},
   "outputs": [
    {
     "name": "stdout",
     "output_type": "stream",
     "text": [
      "Max airfare =  $203.55\n",
      "\n",
      "Coupon: 1.14\n",
      "\n",
      "HI: 8000.00\n",
      "\n",
      "Distance: 1000.00\n"
     ]
    }
   ],
   "source": [
    "# code for Pyomo and nicely formatted output goes here\n",
    "\n",
    "# Unfold to see the Pyomo solution with arrays of decision variables\n",
    "from pyomo.environ import *\n",
    "import pandas as pd\n",
    "import numpy as np\n",
    "\n",
    "# setup dat\n",
    "#predictors = ['coupon', 'HI', 'distance']\n",
    "\n",
    "obj_coefs = dict(zip(predictors, coefs_obj))\n",
    "\n",
    "con1_coefs_pax = dict(zip(predictors, coefs_c1))\n",
    "con2_coefs_s_income = dict(zip(predictors, coefs_c2))\n",
    "con3_coefs_e_income = dict(zip(predictors, coefs_c3))\n",
    "\n",
    "# Concrete Model\n",
    "M = ConcreteModel(name=\"Airfare\")\n",
    "\n",
    "# Decision Variables\n",
    "M.x = Var(predictors, domain=NonNegativeReals)\n",
    "\n",
    "# Objective\n",
    "M.fare = Objective(expr=sum(obj_coefs[p] * M.x[p] for p in predictors), sense=maximize)\n",
    "\n",
    "M.con1_pax = Constraint(expr=sum(con1_coefs_pax[p] * M.x[p] for p in predictors) <= 20000)\n",
    "M.con2_s_income = Constraint(expr=sum(con2_coefs_s_income[p] * M.x[p] for p in predictors) <= 30000)\n",
    "M.con3_e_income = Constraint(expr=sum(con3_coefs_e_income[p] * M.x[p] for p in predictors) >= 30000)\n",
    "M.con4_coupon = Constraint(expr=M.x['COUPON'] <= 1.5)\n",
    "M.con5_HI = Constraint(expr=M.x['HI'] >= 4000)\n",
    "M.con6_HI = Constraint(expr=M.x['HI'] <= 8000)\n",
    "M.con7_distance = Constraint(expr=M.x['DISTANCE'] >= 500)\n",
    "M.con8_distance = Constraint(expr=M.x['DISTANCE'] <= 1000)\n",
    "\n",
    "# Solve\n",
    "solver = SolverFactory('glpk')\n",
    "solver.solve(M)\n",
    "\n",
    "# display solution\n",
    "import babel.numbers as numbers  # needed to display as currency\n",
    "print(\"Max airfare = \", numbers.format_currency(M.fare(), 'USD',\n",
    "                                               locale='en_US'))\n",
    "\n",
    "print(\"\\nCoupon: {:0.2f}\".format(M.x['COUPON']()))\n",
    "print(\"\\nHI: {:0.2f}\".format(M.x['HI']()))\n",
    "print(\"\\nDistance: {:0.2f}\".format(M.x['DISTANCE']()))"
   ]
  },
  {
   "cell_type": "markdown",
   "metadata": {},
   "source": [
    "# Sensitivity Report"
   ]
  },
  {
   "cell_type": "markdown",
   "metadata": {},
   "source": [
    "From the sensitivity report, explain which constraints are binding for the number of passengers on that route (PAX), the starting city’s average personal income (S_INCOME), and the ending city’s average personal income (E_INCOME). If the constraint is binding, interpret the shadow price in the context of the problem.  If the constraint is not binding, interpret the slack in the context of the problem."
   ]
  },
  {
   "cell_type": "markdown",
   "metadata": {},
   "source": [
    "<font color = \"blue\"> *** 5 points -  answer in cell below *** (don't delete this cell) </font>"
   ]
  },
  {
   "cell_type": "code",
   "execution_count": 5,
   "metadata": {
    "scrolled": false
   },
   "outputs": [
    {
     "name": "stdout",
     "output_type": "stream",
     "text": [
      "GLPSOL: GLPK LP/MIP Solver, v4.65\n",
      "Parameter(s) specified in the command line:\n",
      " -m model2.lp --lp --ranges sensit2.sen\n",
      "Reading problem data from 'model2.lp'...\n",
      "9 rows, 4 columns, 15 non-zeros\n",
      "56 lines were read\n",
      "GLPK Simplex Optimizer, v4.65\n",
      "9 rows, 4 columns, 15 non-zeros\n",
      "Preprocessing...\n",
      "2 rows, 3 columns, 6 non-zeros\n",
      "Scaling...\n",
      " A: min|aij| =  1.020e+00  max|aij| =  2.091e+04  ratio =  2.050e+04\n",
      "GM: min|aij| =  7.309e-01  max|aij| =  1.368e+00  ratio =  1.872e+00\n",
      "EQ: min|aij| =  5.342e-01  max|aij| =  1.000e+00  ratio =  1.872e+00\n",
      "Constructing initial basis...\n",
      "Size of triangular part is 2\n",
      "      0: obj =   8.885866366e+01 inf =   2.215e+04 (1)\n",
      "      3: obj =   1.739717779e+02 inf =   0.000e+00 (0)\n",
      "*     4: obj =   2.035540468e+02 inf =   0.000e+00 (0)\n",
      "OPTIMAL LP SOLUTION FOUND\n",
      "Time used:   0.0 secs\n",
      "Memory used: 0.0 Mb (40412 bytes)\n",
      "Write sensitivity analysis report to 'sensit2.sen'...\n",
      "GLPK 4.65 - SENSITIVITY ANALYSIS REPORT                                                                         Page   1\n",
      "\n",
      "Problem:    \n",
      "Objective:  fare = 203.5540468 (MAXimum)\n",
      "\n",
      "   No. Row name     St      Activity         Slack   Lower bound       Activity      Obj coef  Obj value at Limiting\n",
      "                                          Marginal   Upper bound          range         range   break point variable\n",
      "------ ------------ -- ------------- ------------- -------------  ------------- ------------- ------------- ------------\n",
      "     1 c_u_con1_pax_\n",
      "                    BS   12061.75912    7938.24088          -Inf    11353.40212       -.00209     178.36992 c_u_con2_s_income_\n",
      "                                            .        20000.00000    12979.23503        .03224     592.46257 c_u_con6_HI_\n",
      "\n",
      "     2 c_u_con2_s_income_\n",
      "                    NU   30000.00000        .               -Inf    28631.04516       -.00108     202.07505 c_l_con3_e_income_\n",
      "                                            .00108   30000.00000    37449.46803          +Inf     211.60236 c_u_con4_coupon_\n",
      "\n",
      "     3 c_l_con3_e_income_\n",
      "                    BS   31200.11575   -1200.11575   30000.00000    10235.25243       -.00123     165.10359 c_u_con2_s_income_\n",
      "                                            .               +Inf    31200.11575          +Inf          +Inf\n",
      "\n",
      "     4 c_u_con4_coupon_\n",
      "                    BS       1.14372        .35628          -Inf        1.07825     -22.59002     177.71733 c_u_con2_s_income_\n",
      "                                            .            1.50000        1.29258     198.73044     430.84659 c_u_con6_HI_\n",
      "\n",
      "     5 c_l_con5_HI_ BS    8000.00000   -4000.00000    4000.00000     5207.50816       -.01059     118.80603 c_u_con6_HI_\n",
      "                                            .               +Inf     8000.00000          +Inf          +Inf\n",
      "\n",
      "     6 c_u_con6_HI_ NU    8000.00000        .               -Inf     5207.50816       -.01059     173.97178 c_l_con3_e_income_\n",
      "                                            .01059    8000.00000    29455.84475          +Inf     430.84659 x(COUPON)\n",
      "\n",
      "     7 c_l_con7_distance_\n",
      "                    BS    1000.00000    -500.00000     500.00000      179.14046       -.08639     117.15963 c_u_con8_distance_\n",
      "                                            .               +Inf     1000.00000          +Inf          +Inf\n",
      "\n",
      "     8 c_u_con8_distance_\n",
      "                    NU    1000.00000        .               -Inf      500.00000       -.08639     160.35684 c_l_con7_distance_\n",
      "                                            .08639    1000.00000     3631.40702          +Inf     430.89292 c_u_con4_coupon_\n",
      "\n",
      "     9 c_e_ONE_VAR_CONSTANT\n",
      "                    NS       1.00000        .            1.00000         .               -Inf     203.55405 ONE_VAR_CONSTANT\n",
      "                                            .            1.00000           +Inf          +Inf     203.55405\n",
      "\n",
      "GLPK 4.65 - SENSITIVITY ANALYSIS REPORT                                                                         Page   2\n",
      "\n",
      "Problem:    \n",
      "Objective:  fare = 203.5540468 (MAXimum)\n",
      "\n",
      "   No. Column name  St      Activity      Obj coef   Lower bound       Activity      Obj coef  Obj value at Limiting\n",
      "                                          Marginal   Upper bound          range         range   break point variable\n",
      "------ ------------ -- ------------- ------------- -------------  ------------- ------------- ------------- ------------\n",
      "     1 x(COUPON)    BS       1.14372      22.59002        .             1.07825        .          177.71733 c_u_con2_s_income_\n",
      "                                            .               +Inf        1.29258     221.32046     430.84659 c_u_con6_HI_\n",
      "\n",
      "     2 x(DISTANCE)  BS    1000.00000        .08334        .           500.00000       -.00306     117.15963 c_u_con8_distance_\n",
      "                                            .               +Inf     1000.00000          +Inf          +Inf\n",
      "\n",
      "     3 x(HI)        BS    8000.00000        .01180        .          5207.50816        .00120     118.80603 c_u_con6_HI_\n",
      "                                            .               +Inf     8000.00000          +Inf          +Inf\n",
      "\n",
      "     4 ONE_VAR_CONSTANT\n",
      "                    BS       1.00000        .             .             1.00000          -Inf          -Inf\n",
      "                                            .               +Inf        1.00000          +Inf          +Inf\n",
      "\n",
      "End of report\n",
      "\n"
     ]
    }
   ],
   "source": [
    "# code to generate and display sensitivity report goes here\n",
    "# write the model to a sensitivity report\n",
    "M.write('model2.lp', io_options={'symbolic_solver_labels': True})\n",
    "!glpsol -m model2.lp --lp --ranges sensit2.sen\n",
    "\n",
    "# widen browser and/or close TOC to see sensitivity report\n",
    "# or open sensit2.sen in a text editor\n",
    "import numpy as np\n",
    "f = open('sensit2.sen', 'r')\n",
    "file_contents = f.read()\n",
    "print(file_contents)\n",
    "f.close()"
   ]
  },
  {
   "cell_type": "markdown",
   "metadata": {},
   "source": [
    "<font color = \"blue\"> *** 5 points -  answer in cell below *** (don't delete this cell) </font>"
   ]
  },
  {
   "cell_type": "markdown",
   "metadata": {},
   "source": [
    "There are three binding contraints:\n",
    "\n",
    "Constraint | Shadow Price | Interpretation\n",
    "---- | --- | ---\n",
    "S_INCOME | 0.00108 | For each additional dollar of S_INCOME, FARE increases by 0.00108\n",
    "HI (upper)   | 0.01059 | For each additional unit of HI, FARE increases by 0.01059\n",
    "DISTANCE (upper) | 0.08639 | For each additional unit of DISTANCE, FARE increases by 0.08639\n",
    "\n",
    "The remainder of the constraints are not binding:\n",
    "\n",
    "Constraint | Slack | Interpretation\n",
    "---- | ---- | ----\n",
    "PAX | 7938.24 | Can reduce the right side of the constraint to 12061.76 with no effect\n",
    "E_INCOME | -1200.12 | Can increase the right side of the constraint to 31200.12 with no effect\n",
    "COUPON | .35628 | Can reduce the right side of the constraint to 1.14372 with no effect\n",
    "HI (lower) | -4000 | Can increase the lower bound to 8000 with no effect\n",
    "DISTANCE (lower) | -500 | Can increase the lower bound to 1000 with no effect\n",
    "\n",
    "\n"
   ]
  },
  {
   "cell_type": "markdown",
   "metadata": {},
   "source": [
    "# Allowable Ranges"
   ]
  },
  {
   "cell_type": "markdown",
   "metadata": {},
   "source": [
    "Interpret the allowable ranges (objective coefficient range) for COUPON, HI, and DISTANCE in the context of the problem."
   ]
  },
  {
   "cell_type": "markdown",
   "metadata": {},
   "source": [
    "<font color = \"blue\"> *** 5 points -  answer in cell below *** (don't delete this cell) </font>"
   ]
  },
  {
   "cell_type": "markdown",
   "metadata": {},
   "source": [
    "The objective function is \n",
    "$$ \\mbox{FARE} = 22.590019 * \\mbox{COUPON} + 0.011798 * \\mbox{HI} + 0.083336 * \\mbox{DISTANCE}.$$\n",
    "\n",
    "Each of these three coefficients can change within its allowable range without changing the values of COUPON, HI, AND DISTANCE which give the maximum value of FARE though the value of FARE itself will change when the coefficient changes.  Here are the results\n",
    "\n",
    "Coefficient of | Current Value | Allowable Range\n",
    "---- | ---- | ----\n",
    "COUPON | 22.590019 | (0,221.32046)\n",
    "HI | 0.011798 | (0.00120, $\\infty$)\n",
    "DISTANCE | 0.083336 | (-0.00306, $\\infty$)"
   ]
  },
  {
   "cell_type": "markdown",
   "metadata": {},
   "source": [
    "# Conclusion"
   ]
  },
  {
   "cell_type": "markdown",
   "metadata": {},
   "source": [
    "Briefly summarize the main conclusion of this project, state what you see as any limitations of the methods used here, and suggest other possible methods of addressing the maximizing of airfare in this problem scenario."
   ]
  },
  {
   "cell_type": "markdown",
   "metadata": {},
   "source": [
    "<font color = \"blue\"> *** 7 points -  answer in cell below *** (don't delete this cell) </font>"
   ]
  },
  {
   "cell_type": "markdown",
   "metadata": {},
   "source": [
    "There is a lot of flexibility in this section.  We would like you to have picked up on the poor fit of the PAX equation (2 points).\n",
    "\n",
    "**Conclusion** This project suggests that our maximum average fare could be attained by planning our new routes to have an average of approximately 1.1 coupons (which would equate to mostly non-stop flights), a Herfindel Index of 8000, and a distance between cities of 1000.0, with flexibility in both the Herfindel Index and the distance between cities. We can examine our historical data to see which routes fall within the parameters of our optimal solution, while also meeting our additional constraints.  While searching for new routes we should strive to add routes that have parameters close to these to maximize fare. (Used language from Deanna S. liberally in the conclusion).\n",
    "\n",
    "**Limitations** The constraint equation for PAX that is fit from HI, COUPON, and DISTANCE is not a very good fit as the linear model explains only 42% of the total variation in PAX ($R^2 = 0.42$).  The fits also seem to show some collinearity.  The collinearity warning is likely an artifact of the very different scales of the data available for HI, COUPON, and DISTANCE, so those variables should be rescaled to see if the issue persists."
   ]
  },
  {
   "cell_type": "markdown",
   "metadata": {},
   "source": [
    "# Appendix"
   ]
  },
  {
   "cell_type": "markdown",
   "metadata": {},
   "source": [
    "Show the mathematical formulation for the linear programming problem used in this project."
   ]
  },
  {
   "cell_type": "markdown",
   "metadata": {},
   "source": [
    "You can either use LaTeX and markdown or take a clean, cropped picture of neatly handwritten equations and drag-n-drop it here.\n",
    "\n",
    "<font color = \"blue\"> *** 5 points -  answer in cell below *** (don't delete this cell) </font>"
   ]
  },
  {
   "cell_type": "markdown",
   "metadata": {},
   "source": [
    "Maximize \n",
    "\n",
    "$Z = 22.590019 X_{coupon} + 0.083336 X_{hi} + 0.0117988 X_{distance}$\n",
    "\n",
    "Subject to:\n",
    "\n",
    "$\n",
    "\\begin{array}{ccccc}\n",
    "    10819.328522 X_{coupon} & +  & 0.2481823 X_{hi} & - & 2.298017 X_{distance}  & \\leq & 20000 \\\\\n",
    "    20909.191409 X_{coupon} & +  & 1.114583 X_{hi} & - &  2.830983 X_{distance}  & \\leq & 30000 \\\\\n",
    "    18330.370962 X_{coupon} & +  & 1.406882  X_{hi} & - & 1.019802 X_{distance}  & \\geq & 30000 \\\\\n",
    "    &&&& X_{coupon}     & \\geq & 0 \\\\\n",
    "    &&&& X_{coupon}    & \\leq & 1.5 \\\\\n",
    "    &&&& X_{hi}  & \\geq & 4000 \\\\\n",
    "    &&&& X_{hi}  & \\leq & 8000 \\\\\n",
    "    &&&& X_{distance}  & \\geq & 500 \\\\\n",
    "    &&&& X_{distance} & \\leq & 1000 \\\\\n",
    "\\end{array}\n",
    "$"
   ]
  }
 ],
 "metadata": {
  "kernelspec": {
   "display_name": "Python 3",
   "language": "python",
   "name": "python3"
  },
  "language_info": {
   "codemirror_mode": {
    "name": "ipython",
    "version": 3
   },
   "file_extension": ".py",
   "mimetype": "text/x-python",
   "name": "python",
   "nbconvert_exporter": "python",
   "pygments_lexer": "ipython3",
   "version": "3.6.7"
  },
  "toc": {
   "base_numbering": 1,
   "nav_menu": {},
   "number_sections": true,
   "sideBar": true,
   "skip_h1_title": false,
   "title_cell": "Table of Contents",
   "title_sidebar": "Contents",
   "toc_cell": false,
   "toc_position": {},
   "toc_section_display": true,
   "toc_window_display": false
  },
  "varInspector": {
   "cols": {
    "lenName": 16,
    "lenType": 16,
    "lenVar": 40
   },
   "kernels_config": {
    "python": {
     "delete_cmd_postfix": "",
     "delete_cmd_prefix": "del ",
     "library": "var_list.py",
     "varRefreshCmd": "print(var_dic_list())"
    },
    "r": {
     "delete_cmd_postfix": ") ",
     "delete_cmd_prefix": "rm(",
     "library": "var_list.r",
     "varRefreshCmd": "cat(var_dic_list()) "
    }
   },
   "types_to_exclude": [
    "module",
    "function",
    "builtin_function_or_method",
    "instance",
    "_Feature"
   ],
   "window_display": false
  }
 },
 "nbformat": 4,
 "nbformat_minor": 2
}
