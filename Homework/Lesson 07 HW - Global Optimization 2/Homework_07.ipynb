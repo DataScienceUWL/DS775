{
 "cells": [
  {
   "cell_type": "code",
   "execution_count": 2,
   "metadata": {
    "code_folding": [
    ],
    "collapsed": false
   },
   "outputs": [
   ],
   "source": [
    "# imports, add to this as needed\n",
    "\n",
    "# change to matplotlib notebook for classic view\n",
    "import GAUtilities as ga\n",
    "import numpy as np\n",
    "import matplotlib.pyplot as plt\n",
    "import seaborn as sns\n",
    "sns.set_style(\"darkgrid\")\n",
    "from scipy.optimize import minimize\n",
    "import json\n",
    "from simanneal import Annealer"
   ]
  },
  {
   "cell_type": "markdown",
   "metadata": {
    "collapsed": false
   },
   "source": [
    "# HW7 - Genetic Algorithms\n",
    "\n",
    "## Best Individuals Selection\n",
    "\n",
    "In the lesson, we showed you tournament selection. Our code for the tournament selection is shown below. \n",
    "\n",
    "```python\n",
    "def tournamentSelection(pop, tourn_size, debug=False):\n",
    "    #get the population size\n",
    "    pop_size, ind_size = pop.shape[0], pop.shape[1]\n",
    "\n",
    "    # initialize selected population\n",
    "    select_pop = np.zeros((pop_size,ind_size)) \n",
    "    for j in range(pop_size):\n",
    "        subset_pos = np.random.choice(pop_size,tourn_size,replace=False) # select without replacement\n",
    "        smallest_pos = np.min(subset_pos) # choose index corresponding to lowest fitness\n",
    "        if debug:\n",
    "            print('Individuals in tournament:', subset_pos)\n",
    "            print('Individual selected:', smallest_pos)\n",
    "        select_pop[j] = pop[smallest_pos]\n",
    "    return select_pop     \n",
    "```\n",
    "\n",
    "Another method of selection is called \"**Best Individuals Selection**.\" In Best Individuals Selection, k number of the best individuals are randomly selected to fill out the population. For instance, if k were 3, your new population would be a random selection of individuals 1, 2, and 3. \n",
    "\n",
    "Write a function below that performs Best Individuals Selection. Your function should take in parameters for the population and k, and should return a population that is the same size as the passed in population. \n",
    "\n",
    "**You should use numpy's random integer generator (not random choice) to make the selection for each slot.**\n",
    "\n",
    "We've provided some starter code. Be sure to execute your function with our provided population, and print out the resulting selected individuals.\n",
    "\n",
    "\n",
    "\n",
    "### **Question 1** <font color=\"magenta\">(2 points)</font>\n",
    "    \n",
    "Which integer makes up the first (index 0) individual after selection? "
   ]
  },
  {
   "cell_type": "markdown",
   "metadata": {
    "collapsed": false
   },
   "source": [
    "## Provided Code"
   ]
  },
  {
   "cell_type": "code",
   "execution_count": 0,
   "metadata": {
    "collapsed": false
   },
   "outputs": [
   ],
   "source": [
    "np.random.seed(51)\n",
    "def bestIndSelection(pop, k):\n",
    "    ##########################\n",
    "    #write your code here\n",
    "    ##########################\n",
    "    \n",
    "\n",
    "    \n",
    "#this population has been presorted by best fitness (minimum sum of genes), so you don't need to sort it.\n",
    "initPop = np.array(\n",
    "    [[1,1,1,1,1],\n",
    "    [2,2,2,2,2],\n",
    "    [3,3,3,3,3],\n",
    "    [4,4,4,4,4],\n",
    "    [5,5,5,5,5],\n",
    "    [6,6,6,6,6]]).astype(int) \n",
    "\n",
    "#Call your funcion here - don't forget to cast the output to integers\n",
    "\n",
    "#Print your selected population\n"
   ]
  },
  {
   "cell_type": "markdown",
   "metadata": {
    "collapsed": false
   },
   "source": [
    "## Two-Point Crossover \n",
    "\n",
    "In the lesson we described One-Point Crossover. Our code for One-Point Crossover is shown below.\n",
    "\n",
    "```python\n",
    "def onePointCrossover(pop, cx_prob, debug=False):\n",
    "    #get the sizes from pop\n",
    "    pop_size, ind_size = pop.shape[0], pop.shape[1]\n",
    "    cx_pop = np.zeros((pop_size,ind_size)) # initialize crossover population\n",
    "    for j in range(int(pop_size/2)):  # pop_size must be even\n",
    "        parent1, parent2 = pop[2*j], pop[2*j+1]\n",
    "        child1, child2 = parent1.copy(), parent2.copy()\n",
    "        if np.random.uniform() < cx_prob: # crossover occurs\n",
    "            cx_point = np.random.randint(1,ind_size-1) # crossover point between 1 and ind_size-1 (if cx happens at end points, nothing happens)\n",
    "            if debug:\n",
    "                print('Crossover happened between Individuals', 2*j, 'and', 2*j+1, 'at point', cx_point)\n",
    "            child1[0:cx_point], child2[0:cx_point] = parent2[0:cx_point], parent1[0:cx_point]\n",
    "        cx_pop[2*j] = child1\n",
    "        cx_pop[2*j+1] = child2\n",
    "    return cx_pop\n",
    "```\n",
    "\n",
    "Another common form of crossover that works for integer, binary, and real numbers is Two-Point Crossover. In Two Point Crossover, two points are chosen, and the values in between those two points are swapped between the parents. Visually, it looks like this:\n",
    "\n",
    "<img src=\"./images/TwoPointCrossover.png\" width=226>\n",
    "\n",
    "From a code perspective, we're just changing the set starting point from 0 in each child/parent cross to the first of our two generated random points.\n",
    "\n",
    "Complete the function below for Two Point Crossover. You only need to change the code in between the two lines of hash tags. Run the code.\n",
    "\n",
    "   \n",
    "### **Question 2** <font color=\"magenta\">(2 points)</font> \n",
    "\n",
    "Multiple Choice (select all that apply):\n",
    "Which pairs of individuals mated?\n",
    "\n",
    "\n",
    "* 0 and 1\n",
    "* 1 and 2\n",
    "* 2 and 3\n",
    "* 3 and 4\n",
    "* 4 and 5\n",
    "\n",
    "\n",
    "### **Question 3** <font color=\"magenta\">(2 points)</font> \n",
    "Multiple Choice (select all that apply):\n",
    "Which genes are in individual 5 (the last individual)?\n",
    "\n",
    "* 1\n",
    "* 2\n",
    "* 3\n",
    "* 4\n",
    "* 5\n",
    "* 6\n",
    "\n"
   ]
  },
  {
   "cell_type": "markdown",
   "metadata": {
    "collapsed": false
   },
   "source": [
    "## Provided Code"
   ]
  },
  {
   "cell_type": "code",
   "execution_count": 0,
   "metadata": {
    "collapsed": false
   },
   "outputs": [
   ],
   "source": [
    "np.random.seed(52)\n",
    "def twoPointCrossover(pop, cx_prob, debug=False):\n",
    "    #get the sizes from pop\n",
    "    pop_size, ind_size = pop.shape[0], pop.shape[1]\n",
    "    cx_pop = np.zeros((pop_size,ind_size)) # initialize crossover population\n",
    "    for j in range(int(pop_size/2)):  # pop_size must be even\n",
    "        parent1, parent2 = pop[2*j], pop[2*j+1]\n",
    "        child1, child2 = parent1.copy(), parent2.copy()\n",
    "        if np.random.uniform() < cx_prob: # crossover occurs  \n",
    "            cx_points = [0,0]\n",
    "            while cx_points[0] == cx_points[1]:\n",
    "                cx_points = np.random.randint(1,ind_size, 2) #generate pairs of points until they're different\n",
    "            ###################################\n",
    "            # Your code goes here\n",
    "            ###################################\n",
    "            #sort the crossover points\n",
    "            \n",
    "            #adapt the one point crossover line to use your two randomly generated points\n",
    "            \n",
    "            ########################################\n",
    "            # do not change anything after this\n",
    "            ########################################\n",
    "            \n",
    "        cx_pop[2*j] = child1\n",
    "        cx_pop[2*j+1] = child2\n",
    "    return cx_pop\n",
    "\n",
    "\n",
    "#generate the initial population\n",
    "initPop = np.array(\n",
    "    [[1,1,1,1,1,1,1],\n",
    "    [2,2,2,2,2,2,2],\n",
    "    [3,3,3,3,3,3,3],\n",
    "    [4,4,4,4,4,4,4],\n",
    "    [5,5,5,5,5,5,5],\n",
    "    [6,6,6,6,6,6,6]]\n",
    "                  ).astype(int) \n",
    "\n",
    "cx_prob=.8\n",
    "twoPointCrossover(initPop, cx_prob, debug=True).astype(int)"
   ]
  },
  {
   "cell_type": "markdown",
   "metadata": {
    "collapsed": false
   },
   "source": [
    "# Boundary Mutation\n",
    "In the lesson we described several mutation algorithms that are used with real or integer variables and include bounds. Here's an example of the code for one of them, the uniform integer mutation. Study this code to understand how mutation is happening.\n",
    "\n",
    "```python\n",
    "def uniformIntMutation(pop, mut_prob, ind_prob, bounds, debug=False):\n",
    "    mut_pop = pop.copy()\n",
    "    pop_size, ind_size = pop.shape[0], pop.shape[1]\n",
    "    for j in range(pop_size):\n",
    "        if np.random.uniform()<mut_prob:\n",
    "            new_assign = mut_pop[j].copy()\n",
    "            for i in range(ind_size):\n",
    "                if np.random.uniform() < ind_prob:\n",
    "                    if debug:\n",
    "                        print('Gene', i, 'in Individual', j, 'mutated.')\n",
    "                    while new_assign[i] == mut_pop[j][i]: # loops until new and old are different\n",
    "                        new_assign[i] = np.random.randint(bounds[0], bounds[1])                     \n",
    "            mut_pop[j] = new_assign\n",
    "    return mut_pop.astype(int)\n",
    "```\n",
    "\n",
    "Another simple mutation algorithm is the **Boundary mutation**. In the boundary mutation, if both the mut_prob and ind_prob is met, the gene is replaced with either the upper or lower bound, chosen randomly. There are several coding approaches you could take to randomly select between lower and upper. We'd like you to use **numpy's random choice function**. \n",
    "\n",
    "Use the starter code we've provided to finish this function. Make sure to loop until the new and old are different.\n",
    "\n",
    "### **Question 4** <font color=\"magenta\">(2 points)</font>\n",
    "How many genes mutated?\n",
    "\n",
    "### **Question 5** <font color=\"magenta\">(2 points)</font>\n",
    "How many individuals mutated?\n",
    "\n",
    "### **Question 6** <font color=\"magenta\">(2 points)</font>\n",
    "The objective function for this problem is to minimize the sum of the genes in each individual.\n",
    "    \n",
    "How many mutations resulted in an improvement in the gene?"
   ]
  },
  {
   "cell_type": "markdown",
   "metadata": {
    "collapsed": false
   },
   "source": [
    "## Provided Code"
   ]
  },
  {
   "cell_type": "code",
   "execution_count": 0,
   "metadata": {
    "collapsed": false
   },
   "outputs": [
   ],
   "source": [
    "np.random.seed(53)\n",
    "def boundaryMutation(pop, mut_prob, ind_prob, bounds, debug=False):\n",
    "    mut_pop = pop.copy()\n",
    "    pop_size, ind_size = pop.shape[0], pop.shape[1]\n",
    "    for j in range(pop_size):\n",
    "        if np.random.uniform()<mut_prob:\n",
    "            new_assign = mut_pop[j].copy()\n",
    "            for i in range(ind_size):\n",
    "                if np.random.uniform() < ind_prob:\n",
    "                    if debug:\n",
    "                        print('Gene', i, 'in Individual', j, 'mutated.')                \n",
    "                    while new_assign[i] == mut_pop[j][i]: # loops until new and old are different\n",
    "                        ###########################################\n",
    "                        #modify this line\n",
    "                        new_assign[i] =   \n",
    "                        ##########################################\n",
    "            mut_pop[j] = new_assign\n",
    "    return mut_pop.astype(int)\n",
    "\n",
    "#generate the initial population\n",
    "initPop = np.array(\n",
    "    [[1,1,1,1,1,1,1],\n",
    "    [2,2,2,2,2,2,2],\n",
    "    [3,3,3,3,3,3,3],\n",
    "    [4,4,4,4,4,4,4],\n",
    "    [5,5,5,5,5,5,5],\n",
    "    [6,6,6,6,6,6,6]]\n",
    "                  ).astype(int) \n",
    "\n",
    "mut_prob=.4\n",
    "ind_prob=.2\n",
    "bounds = [1,6]\n",
    "boundaryMutation(initPop, mut_prob, ind_prob, bounds, debug=True).astype(int)"
   ]
  },
  {
   "cell_type": "markdown",
   "metadata": {
    "collapsed": false
   },
   "source": [
    "\n",
    "# The Traveling Salesperson Problem\n",
    "\n",
    "In a previous lesson we saw how to use local search to seek solutions to the TSP problem with 48 cities.  In this homework problem you'll use the genetic algorithm to search for solutions.  The json file Caps48.json in the data folder has both the distance matrix and the optimal tour.  Your goal is to identify tours with total distance under 19,000 kilometers.\n",
    "\n",
    "The following cell shows you how to visualize a tour of the 48 cities (and reminds you how to use the json file).  You should plot your solutions to see if they seem reasonable.  A good solution will avoid long detours and shouldn't intersect itself.  We plot the best possible solution here:"
   ]
  },
  {
   "cell_type": "code",
   "execution_count": 5,
   "metadata": {
    "collapsed": false
   },
   "outputs": [
    {
     "data": {
      "image/png": "[encoded data removed]",
      "text/plain": [
       "<Figure size 648x432 with 1 Axes>"
      ]
     },
     "execution_count": 5,
     "metadata": {
     },
     "output_type": "execute_result"
    }
   ],
   "source": [
    "with open(\"data/Caps48.json\", \"r\") as tsp_data:\n",
    "    tsp = json.load(tsp_data)\n",
    "distance_matrix = tsp[\"DistanceMatrix\"]\n",
    "optimal_tour = tsp[\"OptTour\"]\n",
    "opt_dist = tsp[\"OptDistance\"]/1000 # converted to kilometers\n",
    "xy = np.array(tsp[\"Coordinates\"])\n",
    "\n",
    "def plot_tour(best_tour, xy_meters, best_dist, height, width):\n",
    "\n",
    "    meters_to_pxl = 0.0004374627441064968\n",
    "    intercept_x = 2.464\n",
    "    intercept_y = 1342.546\n",
    "    xy_pixels = np.zeros(xy_meters.shape)\n",
    "    xy_pixels[:,0] = meters_to_pxl * xy_meters[:,0] + intercept_x\n",
    "    xy_pixels[:,1] = -meters_to_pxl * xy_meters[:,1] + intercept_y\n",
    "\n",
    "    fig, ax = plt.subplots(1, 1, figsize=(height, width))\n",
    "    im = plt.imread('images/caps48.png')\n",
    "    implot = ax.imshow(im)\n",
    "    plt.setp(ax.get_xticklabels(), visible=False)\n",
    "    plt.setp(ax.get_yticklabels(), visible=False)\n",
    "    ax.tick_params(axis='both', which='both', length=0)\n",
    "\n",
    "    loop_tour = np.append(best_tour, best_tour[0])\n",
    "    ax.plot(xy_pixels[loop_tour, 0],\n",
    "            xy_pixels[loop_tour, 1],\n",
    "            c='b',\n",
    "            linewidth=1,\n",
    "            linestyle='-')\n",
    "    plt.title('Best Distance {:d} km'.format(int(best_dist)))\n",
    "\n",
    "# this is an example of how to plot a tour\n",
    "plot_tour(optimal_tour, xy, opt_dist, 9, 6)"
   ]
  },
  {
   "cell_type": "markdown",
   "metadata": {
    "collapsed": false
   },
   "source": [
    "Now we'll use the Genetic Algorithm to search for a tour with total distance less than 19,000 km. (You may or may not find one.)\n",
    "\n",
    "We'll implement this two ways - once by searching without elitism and once by searching with elitism. For each approach you will:\n",
    "\n",
    "* Initialize the population with permuations\n",
    "* Implement the Tournament selection operator described in the lesson.\n",
    "* Implement the Ordered Crossover operator described in the lesson.\n",
    "* Implement the Shuffle Mutation described in the lesson.\n",
    "* Include a plot of your tour to aid in your understanding.\n",
    "\n",
    "\n",
    "## **Question 7: TSP Option 1** - Manually graded <font color=\"magenta\">(4 points)</font>\n",
    "\n",
    "Enter your code to solve the traveling salesperson problem for option 1. \n",
    "\n",
    "* Do not use elitism.\n",
    "* Use the parameters we have provided below.\n",
    "\n",
    "**Note: You may change the population size and number of iterations to a small number while developing your code. But be sure to change them back before answering the questions.**\n",
    "\n",
    "## Provided Code"
   ]
  },
  {
   "cell_type": "code",
   "execution_count": 0,
   "metadata": {
    "collapsed": false
   },
   "outputs": [
   ],
   "source": [
    "np.random.seed(54)\n",
    "tourn_size = 3 #number of individuals to use in each tournament\n",
    "pop_size = 1000 # should be even due to the way we'll implement crossover\n",
    "ind_size = 48 # determines number of input variables for Rastrigin and each individual\n",
    "cx_prob = 0.8 # probability a pair of parents crossover to produce two children\n",
    "mut_prob = .2 #probability an individual mutates\n",
    "ind_prob = .1 #probability each variable in an individual mutates\n",
    "num_iter = 300 # number of genetic algorithm mutations\n",
    "update_iter = 100 # how often to display output\n",
    "\n",
    "\n",
    "\n",
    "def obj_tour_distance(individual, dist_mat):\n",
    "    distance = dist_mat[individual[-1]][individual[0]]\n",
    "    for gene1, gene2 in zip(individual[0:-1], individual[1:]):\n",
    "        distance += dist_mat[gene1][gene2]\n",
    "    return distance/1000\n",
    "\n",
    "# load data (this may have to be adapted for different problems)\n",
    "with open(\"data/Caps48.json\", \"r\") as tsp_data:\n",
    "    tsp = json.load(tsp_data)\n",
    "distance_matrix = tsp[\"DistanceMatrix\"]\n",
    "\n",
    "###################\n",
    "# Your code starts here\n",
    "###################"
   ]
  },
  {
   "cell_type": "markdown",
   "metadata": {
    "collapsed": false
   },
   "source": [
    "## **Question 8** <font color=\"magenta\">(2 points)</font>\n",
    "\n",
    "What was the shortest tour you found? Enter the number in kilometers.\n",
    "\n",
    "## **Question 9** <font color=\"magenta\">(2 points)</font>\n",
    "Which city did the tour end in?\n",
    "\n",
    "* 31\n",
    "* 42\n",
    "* 3\n",
    "* 46\n",
    "* 29"
   ]
  },
  {
   "cell_type": "markdown",
   "metadata": {
    "collapsed": false
   },
   "source": [
    "## **Question 10: TSP Option 2** (Manually Graded) <font color=\"magenta\">(4 points)</font>\n",
    "\n",
    "Rerun the Traveling salesperson problem. This time:\n",
    "\n",
    "* Implement elitism.\n",
    "* Use the parameters below.\n",
    "\n",
    "## Provided Code"
   ]
  },
  {
   "cell_type": "code",
   "execution_count": 0,
   "metadata": {
    "collapsed": false
   },
   "outputs": [
   ],
   "source": [
    "np.random.seed(54)\n",
    "num_elite = 50 # should be not more than about 5% of pop_size\n",
    "pop_size = 1000 # should be even due to the way we'll implement crossover\n",
    "ind_size = 48 # determines number of input variables for Rastrigin and each individual\n",
    "tourn_size = 3 # tournament size for selection\n",
    "cx_prob = 0.8 # probability a pair of parents crossover to produce two children\n",
    "mut_prob = .1 #0.1 # probability an individual mutates\n",
    "ind_prob = .05 #0.05 # probability each variable in an individual mutates\n",
    "num_iter = 300 # number of genetic algorithm iterations\n",
    "update_iter = 100 # how often to display output\n",
    "\n",
    "def obj_tour_distance(individual, dist_mat):\n",
    "    distance = dist_mat[individual[-1]][individual[0]]\n",
    "    for gene1, gene2 in zip(individual[0:-1], individual[1:]):\n",
    "        distance += dist_mat[gene1][gene2]\n",
    "    return distance/1000\n",
    "\n",
    "# load data (this may have to be adapted for different problems)\n",
    "with open(\"data/Caps48.json\", \"r\") as tsp_data:\n",
    "    tsp = json.load(tsp_data)\n",
    "distance_matrix = tsp[\"DistanceMatrix\"]\n",
    "\n",
    "##############\n",
    "# your code starts here\n",
    "##############"
   ]
  },
  {
   "cell_type": "markdown",
   "metadata": {
    "collapsed": false
   },
   "source": [
    " ## **Question 11** <font color=\"magenta\">(2 points)</font>\n",
    "\n",
    "What was the shortest tour you found? Enter the number in kilometers.\n",
    "\n",
    "## **Question 12** <font color=\"magenta\">(2 points)</font>\n",
    "Which city did the tour start in?\n",
    "\n",
    "* 27\n",
    "* 19\n",
    "* 17\n",
    "* 43\n",
    "* 12\n",
    "\n",
    "## **Question 13** <font color=\"magenta\">(2 points)</font>\n",
    "\n",
    "In which TSP approach/option are we allowing for more exploration?\n",
    "\n",
    "* Option 1\n",
    "* Option 2\n",
    "* They have the same amount of exploration.\n",
    "\n",
    "## **Question 14** <font color=\"magenta\">(2 points)</font>\n",
    "In which TSP approach/option are we allowing for more exploitation?\n",
    "* Option 1\n",
    "* Option 2\n",
    "* They have the same amount of exploitation."
   ]
  },
  {
   "cell_type": "markdown",
   "metadata": {
    "collapsed": false
   },
   "source": [
    "# The Knapsack Problem\n",
    "\n",
    "We first encountered this problem in the Lesson 4 Homework.\n",
    "\n",
    "The knapsack problem is a classical combinatorial optimization problem that will be good for practicing with the ideas of discrete local search and multistart.  Given a set of items, each with a weight and a value, determine which items to include in a collection so that the total weight is less than or equal to a given limit and the total value is as large as possible.  In the 0-1 version of the knapsack problem, the decision variables are binary (or boolean) and represent whether or not to include each item in the collection.  We'll start with 20 items and you need to determine the collection of items that maximizes the value and keeps the total weight no more than 50 (that is $\\leq 50$).\n",
    "\n",
    "We'll use a **soft constraint** because its possible to find a solution that doesn't satisfy the constraint.  Soft constraints are implemented by including a penalty in the objective function when the proposed solution doesn't satisfy the constraint.  We'll give you the following starter code for the objective function with a soft constraint.\n",
    "```\n",
    "def obj_knapsack(x, values, weights, max_tot_weight):\n",
    "    # x is a vector of booleans of which items to include\n",
    "    tot_value = sum(values[x])\n",
    "    penalty = sum(values)*min( max_tot_weight - sum(weights[x]), 0) \n",
    "    return tot_value+penalty\n",
    "```\n",
    "\n",
    "The penalty here is negative when the total weight is too large so that the optimizer knows it hasn't found a good maximizing solution.\n",
    "\n",
    "Our genetic algorithm always minimizes, so you'll need to alter this objective function. Run the code below."
   ]
  },
  {
   "cell_type": "code",
   "execution_count": 13,
   "metadata": {
    "collapsed": false
   },
   "outputs": [
   ],
   "source": [
    "# generate random weights and values for a knapsack problem\n",
    "# DO NOT CHANGE ANYTHING in this block of code\n",
    "import numpy as np\n",
    "num_items = 20\n",
    "np.random.seed(seed=123) \n",
    "values = np.random.randint(low=5, high=50, size=num_items)\n",
    "weights = np.random.randint(low=1, high=10, size=num_items)\n",
    "max_weight = 50\n",
    "\n",
    "sample_x = np.random.choice([0,1], size=num_items)\n",
    "np.random.seed() # use system clock to reset the seed so future random numbers will appear random"
   ]
  },
  {
   "cell_type": "markdown",
   "metadata": {
    "collapsed": false
   },
   "source": [
    "## Question 15 <font color=\"magenta\">(2 points)</font>\n",
    "Given the sample_x, values and weights above what is the current fitness of the knapsack, using your **altered** objective function?"
   ]
  },
  {
   "cell_type": "markdown",
   "metadata": {
    "collapsed": false
   },
   "source": [
    "## Question 16 (Manually Graded) <font color=\"magenta\">(4 points)</font>\n",
    "\n",
    "Given the following set up, run the genetic algorithm **without elitism** to solve the knapsack problem.\n",
    "\n",
    "Use the following:\n",
    "* One Point Crossover for mating\n",
    "* Bit flipping for mutation\n",
    "\n",
    "## Provided Code"
   ]
  },
  {
   "cell_type": "code",
   "execution_count": 0,
   "metadata": {
    "collapsed": false
   },
   "outputs": [
   ],
   "source": [
    "### DO NOT CHANGE ANYTHING in this block of code\n",
    "\n",
    "import numpy as np\n",
    "pop_size = 200 # should be even due to the way we'll implement crossover\n",
    "ind_size = 20 # determines number of input variables for Rastrigin and each individual\n",
    "tourn_size = 3 # tournament size for selection\n",
    "cx_prob = 0.8 # probability a pair of parents crossover to produce two children\n",
    "mut_prob = 0.2 # probability an individual mutates\n",
    "ind_prob = 0.1 # probability each variable in an individual mutates\n",
    "num_iter = 100 # number of genetic algorithm mutations\n",
    "update_iter = 10 # how often to display output\n",
    "counter3 = 0 #used to track iterations in the objective function\n",
    "\n",
    "np.random.seed(seed=123)\n",
    "num_items = 20\n",
    "values = np.random.randint(low=5, high=50, size=num_items)\n",
    "weights = np.random.randint(low=1, high=10, size=num_items)\n",
    "max_weight = 50\n",
    "np.random.seed() # use system clock to reset the seed so future random numbers will appear random\n",
    "###\n",
    "\n",
    "################\n",
    "#Your code Starts here\n",
    "################"
   ]
  },
  {
   "cell_type": "markdown",
   "metadata": {
    "collapsed": false
   },
   "source": [
    "## **Question 17** <font color=\"magenta\">(2 points)</font>\n",
    "\n",
    "Between which interval of 10 iterations was the best value first found?\n",
    "\n",
    "* 2-10\n",
    "* 11-20\n",
    "* 21-30\n",
    "* 31-40\n",
    "* 41-50\n",
    "* 51-60\n",
    "* 61-70\n",
    "* 71-80\n",
    "* 81-90\n",
    "* 91-100\n"
   ]
  },
  {
   "cell_type": "markdown",
   "metadata": {
    "collapsed": false
   },
   "source": [
    "# The 10-dimensional Rastrigin Function with Local Search \n",
    "\n",
    "## Question 18 (Manually Graded) <font color=\"magenta\">(6 points)</font>\n",
    "\n",
    "The Rastrigin function was first explored in Lesson 4 and is very similar in implementation as the sphere function demonstrated in Lesson 7.  Here is the definition of the function:"
   ]
  },
  {
   "cell_type": "code",
   "execution_count": 39,
   "metadata": {
    "collapsed": false
   },
   "outputs": [
   ],
   "source": [
    "# rastrigin definition\n",
    "def obj_rastrigin(x):\n",
    "    global func_count\n",
    "    func_count += 1\n",
    "    x = np.array(x) # force a numpy arrray here so that the math below works\n",
    "    # pass a single vector of length n (=dim) to evaluate Rastrigin\n",
    "    return sum(x**2 + 10 - 10 * np.cos(2 * np.pi * x))"
   ]
  },
  {
   "cell_type": "markdown",
   "metadata": {
    "collapsed": false
   },
   "source": [
    "This function can be applied to an `x` that is any iterable of any length.  We'll be working with numpy arrays.  For the 10 dimensional problems your numpy array should be a vector with 10 floating point numbers.  We'll enforce bounds that $-5.12 \\leq x_i \\leq 5.12$ so all of the entries in $x$ should be between those bounds.  \n",
    "\n",
    "You can try whichever crossover and mutation functions that you think would be appropriate, and adjust any hyperparameters you want to adjust. You may also use elitism if you want. \n",
    "\n",
    "You **must** add local search.\n",
    "\n",
    "To add local search to the genetic algorithm, just inside the beginning of your loop you will:\n",
    "* sort pop by increasing fitness\n",
    "* take the first three individuals with them lowest fitness and replace them by the minimizing location resulting from using scipy.optimize.minimize with bounds applied to each individual, also make sure to update the stored fitness values\n",
    "\n",
    "Your goal is find the global minimimum at (0,0,0,...) where the function value is also zero. You might not reach that goal, but you should play with hyperparameters until you get close. (We regularly got 8 or 9 variables at 0 and an f(x) < 1. \n",
    "\n",
    "We do not provide any starter code for this problem."
   ]
  },
  {
   "cell_type": "markdown",
   "metadata": {
    "collapsed": false
   },
   "source": [
    "## Question 19 (Manually Graded) <font color=\"magenta\">(4 points)</font>\n",
    "Briefly discuss what you did in terms of tuning the hyperparameters for the 10-dimensional Rastrigin function. Explain why you made the choices you did and what the relationship of the hyperparameters are to exploration and exploitation."
   ]
  }
 ],
 "metadata": {
  "kernelspec": {
   "display_name": "Python 3 (system-wide)",
   "language": "python",
   "metadata": {
    "cocalc": {
     "description": "Python 3 programming language",
     "priority": 100,
     "url": "https://www.python.org/"
    }
   },
   "name": "python3",
   "resource_dir": "/ext/jupyter/kernels/python3"
  },
  "language_info": {
   "codemirror_mode": {
    "name": "ipython",
    "version": 3
   },
   "file_extension": ".py",
   "mimetype": "text/x-python",
   "name": "python",
   "nbconvert_exporter": "python",
   "pygments_lexer": "ipython3",
   "version": "3.8.10"
  },
  "toc": {
   "base_numbering": 1,
   "nav_menu": {
   },
   "number_sections": true,
   "sideBar": true,
   "skip_h1_title": false,
   "title_cell": "Table of Contents",
   "title_sidebar": "Contents",
   "toc_cell": false,
   "toc_position": {
   },
   "toc_section_display": true,
   "toc_window_display": false
  },
  "varInspector": {
   "cols": {
    "lenName": 16,
    "lenType": 16,
    "lenVar": 40
   },
   "kernels_config": {
    "python": {
     "delete_cmd_postfix": "",
     "delete_cmd_prefix": "del ",
     "library": "var_list.py",
     "varRefreshCmd": "print(var_dic_list())"
    },
    "r": {
     "delete_cmd_postfix": ") ",
     "delete_cmd_prefix": "rm(",
     "library": "var_list.r",
     "varRefreshCmd": "cat(var_dic_list()) "
    }
   },
   "types_to_exclude": [
    "module",
    "function",
    "builtin_function_or_method",
    "instance",
    "_Feature"
   ],
   "window_display": false
  }
 },
 "nbformat": 4,
 "nbformat_minor": 4
}