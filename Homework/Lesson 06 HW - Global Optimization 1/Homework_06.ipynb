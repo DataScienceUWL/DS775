{
 "cells": [
  {
   "cell_type": "code",
   "execution_count": 33,
   "metadata": {
    "code_folding": [
    ],
    "collapsed": false
   },
   "outputs": [
   ],
   "source": [
    "# imports, add to this as needed\n",
    "\n",
    "# change to matplotlib notebook for classic view\n",
    "import numpy as np\n",
    "import matplotlib.pyplot as plt\n",
    "import seaborn as sns\n",
    "sns.set_style(\"darkgrid\")\n",
    "from scipy.optimize import minimize, dual_annealing\n",
    "import json\n",
    "from simanneal import Annealer\n",
    "from warnings import filterwarnings\n",
    "from skopt import gp_minimize"
   ]
  },
  {
   "cell_type": "markdown",
   "metadata": {
    "collapsed": false
   },
   "source": [
    "# Homework 6\n",
    "\n",
    "### When asking questions about homework in Piazza please use a tag in the subject line like HW1.3 to refer to Homework 1, Question 3.  So the subject line might be **HW1.3 question**.  Note there are no spaces in \"HW1.3\".  This really helps keep Piazza easily searchable for everyone!\n",
    "\n",
    "For full credit, all code in this notebook must be both executed in this notebook and copied to the Canvas quiz where indicated."
   ]
  },
  {
   "cell_type": "markdown",
   "metadata": {
    "collapsed": false
   },
   "source": [
    "## Question 1 <font color=\"magenta\">(1 point, manual)</font>\n",
    "\n",
    "Adapt the code in the lesson for using the `simanneal` package for the Traveling Salesman Problem to find a tour of the 48 state capitals that is less than 18,000 km in length.  You don't need to make any changes to the TravellingSalesmanProblem class, but if your tour is longer than 18,000 km or has self-intersection (crossovers) then repeat the search.  The global minimum for total distance is 17,357 km, but you don't need to find that.  Use the plotting code from Lesson 5 to show a picture of the tour that includes the distance. \n",
    "In the space below, include your picture of the tour that includes the distance.  Do not include code here, instead include it in Question 2.\n",
    "\n",
    "## Question 2 <font color=\"magenta\">(5 points, manual)</font>\n",
    "\n",
    "Include your code for using `simanneal` and plotting the tour in the space below.  Also make sure your code is in CoCalc and that it has been executed with output showing."
   ]
  },
  {
   "cell_type": "code",
   "execution_count": 0,
   "metadata": {
    "collapsed": false
   },
   "outputs": [
   ],
   "source": [
   ]
  },
  {
   "cell_type": "markdown",
   "metadata": {
    "collapsed": false
   },
   "source": [
    "## Question 3 <font color=\"magenta\">(1 point, manual)</font>\n",
    "\n",
    "Use simulated annealing in the `simanneal` package to solve the knapsack problem introduced in Lesson 5 and Homework 5.  Your \"move\" function/method should use a \"hard constraint\" and reject any potential knapsack solutions with weight greater than 50:\n",
    "* copy `self.state` with `new_state = self.state.copy()`\n",
    "* make a move on `new_state` (toggle a random item like in HW 5)\n",
    "* if the total weight of `new_state` is $\\leq 50$ then `set self.state = new_state`\n",
    "* else don't change `self.state`.\n",
    "\n",
    "Your fitness function/method should return the negative total value of the items in the knapsack since `simanneal` is for minimizing functions, but here we want the maximum.  Use this exact code to set up the knapsack.  Do not change anything.\n",
    "\n",
    "**Note:  the move method doesn't return anything, it should simply modify self.state.**\n",
    "\n",
    "```\n",
    "# generate random weights and values for a knapsack problem\n",
    "# DO NOT CHANGE ANYTHING in this block of code\n",
    "import numpy as np\n",
    "num_items = 20\n",
    "np.random.seed(seed=123) \n",
    "values = np.random.randint(low=5, high=50, size=num_items)\n",
    "weights = np.random.randint(low=1, high=10, size=num_items)\n",
    "max_weight = 50\n",
    "np.random.seed() # use system clock to reset the seed so future random numbers will appear random\n",
    "```\n",
    "\n",
    "Simanneal should be able to find the global maximum value.\n",
    "Execute your code a few times and report the maximum (positive) total value for the items in the knapsack.  **Note:  simanneal is for *minimizing* functions.**\n",
    "\n",
    "## Question 4 <font color=\"magenta\">(1 point, auto)</font>\n",
    "\n",
    "How many items are included in your optimized knapsack?\n",
    "\n",
    "\n",
    "## Question 5 <font color=\"magenta\">(4 points, manual)</font>\n",
    "\n",
    "Include the complete code for your simanneal solution to the \"hard constraint\" knapsack problem in the cell below.  Your complete and executed code must be in CoCalc also."
   ]
  },
  {
   "cell_type": "code",
   "execution_count": 0,
   "metadata": {
    "collapsed": false
   },
   "outputs": [
   ],
   "source": [
   ]
  },
  {
   "cell_type": "markdown",
   "metadata": {
    "collapsed": false
   },
   "source": [
    "## Question 6 <font color=\"magenta\">(1 point, auto)</font>\n",
    "\n",
    "Use `simanneal` to solve the knapsack problem again.  This time use a \"soft constraint\" approach.  This means all knapsacks can be considered, even those that are over 50 in total weight, so the move function should not reject any potential solutions.  Soft constraints are implemented by including a penalty in the objective function when the proposed solution doesn't satisfy the constraint.  To do this, you'll modify the function called by the energy() method:\n",
    "```\n",
    "def knapsack_value_penalty(x, values, weights, max_tot_weight):\n",
    "    # x is a vector of booleans of which items to include\n",
    "    tot_value = sum(values[x])\n",
    "    penalty = sum(values)*min( max_tot_weight - sum(weights[x]), 0) \n",
    "    return tot_value+penalty\n",
    "```\n",
    "The penalty here is negative when the total weight is too large so that the optimizer knows it hasn't found a good maximizing solution and will continue to look elsewhere.\n",
    "\n",
    "You should be able to find the global maximum with this approach.  What is the maximum total value of the knapsack?  If you've done everything correctly the answer should be the same as in Question 3.\n",
    "\n",
    "## Question 7 <font color=\"magenta\">(5 points, manual)</font>\n",
    "\n",
    "Include your complete code for the soft constraint approach to the knapsack problem in the space below.  Also make sure the code is in CoCalc and that it has been executed there.\n"
   ]
  },
  {
   "cell_type": "code",
   "execution_count": 0,
   "metadata": {
    "collapsed": false
   },
   "outputs": [
   ],
   "source": [
   ]
  },
  {
   "cell_type": "markdown",
   "metadata": {
    "collapsed": false
   },
   "source": [
    "## Questions 8 - 20 Text\n",
    "\n",
    "In the following you're going to minimize the ten-dimension Rastrigin\n",
    " function several different ways and compare the results.  The Rastrigin function was introduced in Lesson 5 and Homework 5.  Make sure using decision variables $x_1, x_2, \\ldots, x_{10}$ that are in one array / list / numpy array with 10 elements.  The bounds are $-5.12 \\leq x_i \\leq 5.12$ for each $i$.  The global minimum value is 0 and occurs when $x_1 = x_2 = \\ldots = x_{10} = 0$.  At the end you'll compare the efficiency of the optimization algorithms. \n",
    " \n",
    "Note, the Rastrigin function is a popular function for testing optimization algorithms.  While it doesn't come from an application, it is realistic to have an objective function with **MANY** local minima.  In fact, one of the challenges of deep learning is that the underlying objective function has many local minima (and has thousands or even billions of weights or decision variables to be tuned).\n",
    "\n",
    "The code in the next cell shows you how to setup the Rastrigin function with a global counter so that you can easily track how many function evaluations are made.  Set `func_count` to zero before the optimization and then print out the value of `func_count` after.\n",
    "\n",
    "**Note:  to make the Rastrigin function 10-dimensional, you have to evaluate the rastrigin() function on a numpy array of length 10.  Set the dimension by changing the length of the input array.**"
   ]
  },
  {
   "cell_type": "code",
   "execution_count": 6,
   "metadata": {
    "collapsed": false
   },
   "outputs": [
    {
     "name": "stdout",
     "output_type": "stream",
     "text": [
      "The Rastrigin function was evaluated 429 times\n",
      "According to minimize the number of iterations is 429.\n",
      "The minimum value found was: 88.5510\n",
      "This minvalue occurs at: [-3.97978387 -2.9848557   2.98485569  3.97978385 -2.9848557  -2.9848557\n",
      "  1.98991222 -1.98991225  1.98991223  2.98485569]\n"
     ]
    }
   ],
   "source": [
    "# rastrigin definition\n",
    "def rastrigin(x):\n",
    "    # x can be any length ... the length of x determines the number of input variables and is called the dimension\n",
    "    global func_count\n",
    "    func_count += 1\n",
    "    x = np.array(x) # force a numpy arrray here so that the math below works\n",
    "    # pass a single vector of length n (=dim) to evaluate Rastrigin\n",
    "    return sum(x**2 + 10 - 10 * np.cos(2 * np.pi * x))\n",
    "\n",
    "# as a demo we'll use scipy.optimize.minimize to find a local min and \n",
    "# see how we can retrieve the number of function evaluations required by\n",
    "# the optimization\n",
    "\n",
    "func_count = 0 # must set to zero before evaluation\n",
    "x0 = np.random.uniform(-5.12,5.12,size=10)\n",
    "res = minimize( rastrigin, x0)\n",
    "print(f'The Rastrigin function was evaluated {func_count} times')\n",
    "\n",
    "# not all optimization routines track the number of evaluations, but minimize does\n",
    "# like this\n",
    "\n",
    "print(f'According to minimize the number of iterations is {res.nfev}.')\n",
    "print(f'The minimum value found was: {res.fun:0.4f}')\n",
    "print(f'This minvalue occurs at: {res.x}')"
   ]
  },
  {
   "cell_type": "markdown",
   "metadata": {
    "collapsed": false
   },
   "source": [
   ]
  },
  {
   "cell_type": "markdown",
   "metadata": {
    "collapsed": false
   },
   "source": [
    "## Question 8 <font color=\"magenta\">(1 point, auto)</font>\n",
    "\n",
    "Use the `simanneal` package as described in the lesson (with the \"bumpy\" function and in the self-assessment) to estimate the global minimum of the ten-dimensional Rastrigin function.  Use sigma = 2.  What's the lowest value of the objective function you are able to obtain?\n",
    "\n",
    "## Question 9 <font color=\"magenta\">(1 point, auto)</font>\n",
    "\n",
    "How many times did `simanneal` evaluate the Rastrigin function to find the best answer you reported in Question 8?\n",
    "\n",
    "## Question 10 <font color=\"magenta\">(1 point manual)</font>\n",
    "\n",
    "Experiment with the value of sigma.  Larger sigma corresponds to larger random moves.  Explain how to adjust sigma to achieve lower estimates of the global minimum value (closer to zero).\n",
    "\n",
    "## Question 11 <font color=\"magenta\">(4 points, manual)</font>\n",
    "\n",
    "Include the complete code to minimize the ten-dimensional Rastrigin function with `simanneal`.  Make sure your code is in CoCalc and has been run there."
   ]
  },
  {
   "cell_type": "code",
   "execution_count": 0,
   "metadata": {
    "collapsed": false
   },
   "outputs": [
   ],
   "source": [
   ]
  },
  {
   "cell_type": "markdown",
   "metadata": {
    "collapsed": false
   },
   "source": [
    "## Question 12 <font color=\"magenta\">(1 point, auto)</font>\n",
    "\n",
    "Now include local search in your `simanneal` solution.  To do this, you'll want to keep the move method as above and modify the energy method to go like this:\n",
    "\n",
    "```\n",
    "energy method\n",
    "    initiate a local search of Rastrigin starting at self.state, incorporate the bounds and use `tol=0.1` or `tol=0.5` for faster (and less accurate) local search\n",
    "    set self.state to result.x from the local search\n",
    "    return result.fun (the best function value from the local search)\n",
    "```\n",
    "\n",
    "For the local search use minimize from scipy.optimize with tol = 0.5.  After your annealing is done one extra local search using the default tolerance value for `tol` so that your final answer is an accurate minimum.  **Don't forget to include bounds** in minimize() so that the local search doesn't move to an out-of-bounds solution.\n",
    "\n",
    "The auto scheduler in simanneal is very slow here since the function evaluations are pretty slow.  You should not use auto_schedule and instead add a manual temperature schedule like this:\n",
    "\n",
    "```python\n",
    "    rast.Tmax = 10000.0  # Max (starting) temperature\n",
    "    rast.Tmin = 0.1     # Min (ending) temperature\n",
    "    rast.steps = 5000   # Number of iterations\n",
    "```\n",
    "where `rast` is the name of your instance of the Annealer object.   \n",
    "\n",
    "Use `sigma = 2`.  What's the lowest value of the objective function you are able to obtain?\n",
    "\n",
    "\n",
    "## Question 13  <font color=\"magenta\">(1 point, auto)</font>\n",
    "\n",
    "How many times did `simanneal` evaluate the Rastrigin function to find the best answer you reported in Question 12?\n",
    "\n",
    "\n",
    "## Question 14 <font color=\"magenta\">(5 points, manual)</font>\n",
    "\n",
    "Include the complete code to minimize the ten-dimensional Rastrigin function with `simanneal` and local search.  Make sure your code is in CoCalc and has been run there.\n"
   ]
  },
  {
   "cell_type": "code",
   "execution_count": 0,
   "metadata": {
    "collapsed": false
   },
   "outputs": [
   ],
   "source": [
    "def energy(self):\n",
    "    result = minimize(rastrigin, self.state, bounds = ..., tol = 0.1) # result.x is best_x, result.fun is best_y\n",
    "    set self.state to result.x\n",
    "    return result.fun"
   ]
  },
  {
   "cell_type": "markdown",
   "metadata": {
    "collapsed": false
   },
   "source": [
    "## Question 15 <font color=\"magenta\">(1 point, auto)</font>\n",
    "\n",
    "Now use the `gp_minimize` function to approximate the global minimum value of the ten-dimensional Rastrigin function.  Include `n_random_starts = 5` like in the examples.\n",
    "\n",
    "What's the lowest value of the objective function you are able to obtain?\n",
    "\n",
    "## Question 16 <font color=\"magenta\">(1 point, auto)</font>\n",
    "\n",
    "How many times did `gp_minimize` evaluate the Rastrigin funciton to find the best answer you reported in Question 14?\n",
    "\n",
    "## Question 17 <font color=\"magenta\">(5 points, manual)</font>\n",
    "\n",
    "Include the complete code to minimize the ten-dimensional Rastrigin function with `gp_minimize`.  Use Expected Improvement for the acquisition function and set `ncalls = 40` (this will be slow as there is a lot of overhead for Bayesian Optimization). Make sure your code is in CoCalc and has been run there.  (Hint:  to make a list of 10 tuples for the bounds, you could do this `[(-5.12,5.12)]*10`.)"
   ]
  },
  {
   "cell_type": "code",
   "execution_count": 0,
   "metadata": {
    "collapsed": false
   },
   "outputs": [
   ],
   "source": [
   ]
  },
  {
   "cell_type": "markdown",
   "metadata": {
    "collapsed": false
   },
   "source": [
    "## Question 18 <font color=\"magenta\">(1 point, auto)</font>\n",
    "\n",
    "Use `dual_annealing` from `scipy.optimize` to approximate the global minimum value of the ten-dimensional Rastrigin function.\n",
    "\n",
    "What's the lowest value of the objective function you are able to obtain?  Round your answer to two decimal places, e.g. 0.53 or 9.74.  Notice that 4.2e-14 is 0.00 to two decimal places.\n",
    "\n",
    "## Question 19 <font color=\"magenta\">(1 point, auto)</font>\n",
    "\n",
    "How many times did `dual_annealing` evaluate the Rastrigin funciton to find the best answer you reported in Question 18?\n",
    "\n",
    "## Question 20 <font color=\"magenta\">(5 points, manual)</font>\n",
    "\n",
    "Include the complete code to minimize the ten-dimensional Rastrigin function with `dual_annealing`.  Make sure your code is in CoCalc and has been run there.\n"
   ]
  },
  {
   "cell_type": "code",
   "execution_count": 0,
   "metadata": {
    "collapsed": false
   },
   "outputs": [
   ],
   "source": [
   ]
  },
  {
   "cell_type": "markdown",
   "metadata": {
    "collapsed": false
   },
   "source": [
    "## Question 21 <font color=\"magenta\">(4 points, manual)</font>\n",
    "\n",
    "Write a brief comparison of the four methods used to minimize the 10D Rastrigin problem.  Which worked best in terms of finding the global minimum.  Which was most efficient?  Which was easiest to use?  Note:  pay attention to scientific notation.  5.01900952e-09 is the the same as 0.000000005102900952.  You very likely have some numbers which are effectively zero in your results."
   ]
  },
  {
   "cell_type": "code",
   "execution_count": 0,
   "metadata": {
    "collapsed": false
   },
   "outputs": [
   ],
   "source": [
   ]
  }
 ],
 "metadata": {
  "kernelspec": {
   "display_name": "Python 3 (system-wide)",
   "language": "python",
   "metadata": {
    "cocalc": {
     "description": "Python 3 programming language",
     "priority": 100,
     "url": "https://www.python.org/"
    }
   },
   "name": "python3",
   "resource_dir": "/ext/jupyter/kernels/python3"
  },
  "language_info": {
   "codemirror_mode": {
    "name": "ipython",
    "version": 3
   },
   "file_extension": ".py",
   "mimetype": "text/x-python",
   "name": "python",
   "nbconvert_exporter": "python",
   "pygments_lexer": "ipython3",
   "version": "3.8.5"
  },
  "toc": {
   "base_numbering": 1,
   "nav_menu": {
   },
   "number_sections": true,
   "sideBar": true,
   "skip_h1_title": false,
   "title_cell": "Table of Contents",
   "title_sidebar": "Contents",
   "toc_cell": false,
   "toc_position": {
   },
   "toc_section_display": true,
   "toc_window_display": false
  },
  "varInspector": {
   "cols": {
    "lenName": 16,
    "lenType": 16,
    "lenVar": 40
   },
   "kernels_config": {
    "python": {
     "delete_cmd_postfix": "",
     "delete_cmd_prefix": "del ",
     "library": "var_list.py",
     "varRefreshCmd": "print(var_dic_list())"
    },
    "r": {
     "delete_cmd_postfix": ") ",
     "delete_cmd_prefix": "rm(",
     "library": "var_list.r",
     "varRefreshCmd": "cat(var_dic_list()) "
    }
   },
   "types_to_exclude": [
    "module",
    "function",
    "builtin_function_or_method",
    "instance",
    "_Feature"
   ],
   "window_display": false
  }
 },
 "nbformat": 4,
 "nbformat_minor": 4
}