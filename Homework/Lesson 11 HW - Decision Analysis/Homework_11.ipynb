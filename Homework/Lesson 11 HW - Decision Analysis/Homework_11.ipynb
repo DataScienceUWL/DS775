{
 "cells": [
  {
   "cell_type": "markdown",
   "metadata": {
    "collapsed": false
   },
   "source": [
    "# Lesson 11 Homework\n",
    "\n",
    "### When asking questions about homework in Piazza please use a tag in the subject line like HW1.3 to refer to Homework 1, Question 3.  So the subject line might be **HW1.3 question**.  Note there are no spaces in \"HW1.3\".  This really helps keep Piazza easily searchable for everyone!"
   ]
  },
  {
   "cell_type": "markdown",
   "metadata": {
    "collapsed": false
   },
   "source": [
    "<body style=\"background-color:aquamarine;\">\n",
    " <h3>No need to submit notebook this week.</h3>\n",
    "There really isn't any coding this week, so we won't be looking at your notebooks in CoCalc.  Make sure your answers in the Canvas quiz are complete!\n",
    "</body>"
   ]
  },
  {
   "cell_type": "markdown",
   "metadata": {
    "collapsed": false,
    "heading_collapsed": true
   },
   "source": [
    "## Question 1 <font color=\"magenta\">(2 points, auto)</font>"
   ]
  },
  {
   "cell_type": "markdown",
   "metadata": {
    "collapsed": false,
    "hidden": true
   },
   "source": [
    "Choosing the decision alternative with the maximum payoff for the most likely state of nature is called\n",
    "\n",
    "- the maximum likelihood criterion\n",
    "\n",
    "- Bayes’ decision rule\n",
    "\n",
    "- maximin payoff criterion\n",
    "\n",
    "- sensitivity analysis\n",
    "\n",
    "- the crossover point"
   ]
  },
  {
   "cell_type": "markdown",
   "metadata": {
    "collapsed": false
   },
   "source": [
    "## Question 2 <font color=\"magenta\">(2 points, auto)</font>"
   ]
  },
  {
   "cell_type": "markdown",
   "metadata": {
    "collapsed": false
   },
   "source": [
    "Experimentation costs money in decision analysis, but it may be worth it because it provides improved estimates of the probabilities of the states of nature.  These improved estimates are called:\n",
    "\n",
    "- prototype probabilities\n",
    "\n",
    "- prior probabilities\n",
    "\n",
    "- posterior probabilities\n",
    "\n",
    "- popular probabilities\n",
    "\n",
    "- payoff probabilities"
   ]
  },
  {
   "cell_type": "markdown",
   "metadata": {
    "collapsed": false,
    "heading_collapsed": true
   },
   "source": [
    "## Text for Questions 3 - 6"
   ]
  },
  {
   "cell_type": "markdown",
   "metadata": {
    "collapsed": false,
    "hidden": true
   },
   "source": [
    "Jean Clark is the manager of the Midtown Saveway Grocery Store. She now needs to replenish her supply of strawberries. Her regular supplier can provide as many cases as she wants. However, because these strawberries already are very ripe, she will need to sell them tomorrow and then discard any that remain unsold. Jean estimates that she will be able to sell 12, 13, 14, or 15 cases tomorrow. She can purchase the strawberries for \\\\$7 per case and sell them for \\\\$18 per case. Jean now needs to decide how many cases to purchase.\n",
    "\n",
    "Jean has checked the store’s records on daily sales of strawberries. On this basis, she estimates that the prior probabilities are 0.1, 0.3, 0.4, and 0.2 for being able to sell 12, 13, 14, and 15 cases of strawberries tomorrow.\n",
    "\n",
    "<body style=\"background-color:aquamarine;\">\n",
    "There are 4 states of nature and 4 decision alternatives.  Note Jean can't sell more than she buys!\n",
    "</body>\n",
    "\n",
    "## Question 3 <font color=\"magenta\">(5 points, manual)</font>\n",
    "\n",
    "Develop a decision analysis formulation of this problem by\n",
    "identifying the decision alternatives, the states of nature, and\n",
    "the payoff table.  Include the payoff table in the space below."
   ]
  },
  {
   "cell_type": "markdown",
   "metadata": {
    "collapsed": false,
    "hidden": true
   },
   "source": [
    "## Question 4 <font color=\"magenta\">(2 points, auto)</font>\n",
    "\n",
    "How many cases of strawberries should Jean purchase if she\n",
    "uses the maximin payoff criterion?"
   ]
  },
  {
   "cell_type": "markdown",
   "metadata": {
    "collapsed": false,
    "hidden": true
   },
   "source": [
    "## Question 5 <font color=\"magenta\">(2 points, auto)</font>\n",
    "\n",
    "How many cases should be purchased according to the maximum likelihood criterion?"
   ]
  },
  {
   "cell_type": "markdown",
   "metadata": {
    "collapsed": false,
    "hidden": true
   },
   "source": [
    "## Question 6 <font color=\"magenta\">(2 points, auto)</font>\n",
    "\n",
    "How many cases should be purchased according to Bayes’ decision rule?"
   ]
  },
  {
   "cell_type": "markdown",
   "metadata": {
    "collapsed": false
   },
   "source": [
    "## Text for Questions 7-11"
   ]
  },
  {
   "cell_type": "markdown",
   "metadata": {
    "collapsed": false
   },
   "source": [
    "Warren Buffy is an enormously wealthy investor who has built his fortune through his legendary investing acumen. He currently has been offered three major investments and he would like to choose one. The first one is a conservative investment that would perform very well in an improving economy and only suffer a small loss in a worsening economy. The second is a speculative investment that would perform extremely well in an improving economy but would do very badly in a worsening economy. The third is a counter- cyclical investment that would lose some money in an improving economy but would perform well in a worsening economy.\n",
    "Warren believes that there are three possible scenarios over the lives of these potential investments: (1) an improving economy, (2) a stable economy, and (3) a worsening economy. He is pessimistic about where the economy is headed, and so has assigned prior probabilities of 0.1, 0.5, and 0.4, respectively, to these three scenarios. He also estimates that his profits under these respective scenarios are those given by the following table:\n",
    "\n",
    "<img src=\"images/screen-prob16_2-4.png\" alt=\"Solution\" width=400>\n",
    "\n",
    "Warren Buffy decides that Bayes’ decision rule is his most reliable decision criterion. He believes that 0.1 is just about right as the prior probability of an improving economy, but is quite uncertain about how to split the remaining probabilities between a stable economy and a worsening economy. Therefore, he now wishes to do sensitivity analysis with respect to these latter two prior probabilities.\n",
    "\n",
    "## Question 7 <font color=\"magenta\">(2 points, manual)</font>\n",
    "\n",
    "Reapply Bayes’ decision rule when the prior probability of a stable economy is 0.3 and the prior probability of a worsening economy is 0.6.  Demonstrate work somehow in the cell below with an image or by typing out an explanation."
   ]
  },
  {
   "cell_type": "markdown",
   "metadata": {
    "collapsed": false
   },
   "source": [
    "## Question 8 <font color=\"magenta\">(2 points, manual)</font>\n",
    "\n",
    "Reapply Bayes’ decision rule when the prior probability of a stable economy is 0.7 and the prior probability of a worsening economy is 0.2.  Demonstrate work somehow in the cell below with an image or by typing out an explanation."
   ]
  },
  {
   "cell_type": "markdown",
   "metadata": {
    "collapsed": false
   },
   "source": [
    "## Question 9 <font color=\"magenta\">(2 points, manual)</font>\n",
    "\n",
    "Graph the expected profit for each of the three investment alternatives versus the prior probability of a stable economy on the same graph (with the prior probability of an improving economy fixed at 0.1, so use $p$ for the probability of a stable economy and $1-.1-p$ for the worsening economy). Use this graph to identify the values of $p$ for the crossover points where the decision shifts from one investment to another (at least two decimal places).  Include screenshot or scan.  Your graph should include all three lines.  Set the horizontal p-axis to $0 \\leq p \\leq 1.$ (Click on the wrench in Desmos to manually specify axis limits.). Include your graph in the space below."
   ]
  },
  {
   "cell_type": "markdown",
   "metadata": {
    "collapsed": false
   },
   "source": [
    "## Question 10 <font color=\"magenta\">(2 points, auto)</font>\n",
    "\n",
    "At what value of $p$ does the best investment alternative change from Countercyclical to Conservative?  Give your answer to two decimal places.\n",
    "\n",
    "## Question 11 <font color=\"magenta\">(2 points, auto)</font>\n",
    "\n",
    "At what value of $p$ does the best investment alternative change from Conservative to Speculative?  Give your answer to two decimal places.\n"
   ]
  },
  {
   "cell_type": "markdown",
   "metadata": {
    "collapsed": false
   },
   "source": [
    "## Text for questions 12-17"
   ]
  },
  {
   "cell_type": "markdown",
   "metadata": {
    "collapsed": false
   },
   "source": [
    "The Hit-and-Miss Manufacturing Company produces items that have a probability $p$ of being defective. These items are produced in lots of 150. Past experience indicates that $p$ for an entire lot is either 0.05 or 0.25. Furthermore, in 80 percent of the lots produced, $p$ equals 0.05 (so $p$ equals 0.25 in 20 percent of the lots). These items are then used in an assembly, and ultimately their quality is determined before the final assembly leaves the plant. Initially the company can either screen each item in a lot at a cost of \\$10 per item and replace defective items or use the items directly without screening. If the latter action is chosen, the cost of rework is ultimately \\$100 per defective item. Because screening requires scheduling of inspectors and equipment, the decision to screen or not screen must be made 2 days before the screening is to take place. However, one item can be taken from the lot and sent to a laboratory for inspection, and its quality (defective or nondefective) can be reported before the screen/no screen decision must be made. The cost of this initial inspection is \\$125.\n",
    "\n",
    "<body style=\"background-color:aquamarine;\">\n",
    "The two states of nature are the two kinds of lots - a lot with 5% defects or a lot with 25% defects.\n",
    "</body>\n",
    "\n",
    "## Question 12 <font color=\"magenta\">(2 points, manual)</font>\n",
    "\n",
    "Develop a decision analysis formulation of this problem by identifying the decision alternatives, the states of nature, and the payoff table if the single item is not inspected in advance.  Include the payoff table below (typed or image)."
   ]
  },
  {
   "cell_type": "markdown",
   "metadata": {
    "collapsed": false
   },
   "source": [
    "## Question 13 <font color=\"magenta\">(2 points, auto)</font>\n",
    "\n",
    "Assuming the single item is not inspected in advance, use Bayes’ decision rule to determine which decision alternative should be chosen.  What is the expected value of the loss?  Enter the absolute value of your answer to the nearest integer."
   ]
  },
  {
   "cell_type": "markdown",
   "metadata": {
    "collapsed": false
   },
   "source": [
    "## Question 14 <font color=\"magenta\">(2 points, auto)</font>\n",
    "\n",
    "Compute EVPI and enter it to the nearest integer value."
   ]
  },
  {
   "cell_type": "markdown",
   "metadata": {
    "collapsed": false
   },
   "source": [
    "## Question 15 <font color=\"magenta\">(2 points, auto)</font>\n",
    "\n",
    "Compute the posterior probabilities.  What is the probability that the state of nature is that 5\\% of the items are defective if the single inspected item is not defective.  Enter your probability to 3 decimal places."
   ]
  },
  {
   "cell_type": "markdown",
   "metadata": {
    "collapsed": false
   },
   "source": [
    "## Question 16 <font color=\"magenta\">(1 point, auto)</font>\n",
    "\n",
    "Enter the absolute value of EVE to two decimal places.\n"
   ]
  },
  {
   "cell_type": "markdown",
   "metadata": {
    "collapsed": false
   },
   "source": [
    "## Question 17 <font color=\"magenta\">(4 points, manual)</font>\n",
    "\n",
    "If one item is selected, tested, and found to be defective, then all items will be screened in the lot at a cost of \\$10 per item and defective items will be replaced, otherwise items will be used directly without screening and the cost of rework is \\$100 per defective item. Construct the decision tree in Silver Decisions and determine the optimal policy.  Include a screenshot of your decision tree describe the optimal policy in the space below."
   ]
  },
  {
   "cell_type": "markdown",
   "metadata": {
    "collapsed": false,
    "heading_collapsed": true
   },
   "source": [
    "## Text for questions 18-21"
   ]
  },
  {
   "cell_type": "markdown",
   "metadata": {
    "collapsed": false,
    "hidden": true
   },
   "source": [
    "The Morton Ward Company is considering the introduction of a new product that is believed to have a 50-50 chance of being successful. One option is to try out the product in a test market, at a cost of \\$5 million, before making the introduction decision. Past experience shows that ultimately successful products are approved in the test market 80 percent of the time, whereas ultimately unsuccessful products are approved in the test market only 25 percent of the time. If the product is successful, the net profit to the company will be \\$40 million; if unsuccessful, the net loss will be \\$15 million.\n",
    "\n",
    "## Question 18 <font color=\"magenta\">(2 points, auto)</font>\n",
    "\n",
    "Discarding the option of trying out the product in a test market, develop a decision analysis formulation of the problem by identifying the decision alternatives, states of nature, and payoff table. Then apply Bayes’ decision rule to determine the optimal decision alternative.  What is the expected payoff in absolute value?  Enter your answer to one decimal place and use units of millions - for example enter 7.3 to represent 7.3 million dollars or \\$7,300,000.\n"
   ]
  },
  {
   "cell_type": "markdown",
   "metadata": {
    "collapsed": false,
    "hidden": true
   },
   "source": [
    "## Question 19 <font color=\"magenta\">(2 points, auto)</font>\n",
    "\n",
    "Find EVPI.  Enter your answer to one decimal place and use units of millions - for example enter 7.3 to represent 7.3 million dollars or \\$7,300,000.\n"
   ]
  },
  {
   "cell_type": "markdown",
   "metadata": {
    "collapsed": false,
    "hidden": true
   },
   "source": [
    "## Question 20 <font color=\"magenta\">(3 points, manual)</font>\n",
    "\n",
    "Now include the option of trying out the product in a test\n",
    "market. Construct and solve the decision tree for this problem. Include the a picture of the decision tree below and describe the optimal policy.\n"
   ]
  },
  {
   "cell_type": "markdown",
   "metadata": {
    "collapsed": false,
    "hidden": true
   },
   "source": [
    "## Question 21 <font color=\"magenta\">(5 points, manual)</font>\n",
    "\n",
    "Perform sensitivity analysis systematically while including the option of trying the product in a test market. Generate a data table that shows the optimal policy and the expected payoff when the prior probability that the new product will be successful is 0, 0.1, 0.2,..., 1.  In the space below show a Silver Decisions column heatmap as shown in lesson and write a short description of how the optimal policy chances as the prior probability increases.\n"
   ]
  },
  {
   "cell_type": "code",
   "execution_count": 0,
   "metadata": {
    "collapsed": false
   },
   "outputs": [
   ],
   "source": [
   ]
  }
 ],
 "metadata": {
  "kernelspec": {
   "argv": [
    "/usr/bin/python3",
    "-m",
    "ipykernel",
    "--HistoryManager.enabled=False",
    "--matplotlib=inline",
    "-c",
    "%config InlineBackend.figure_formats = set(['retina'])\nimport matplotlib; matplotlib.rcParams['figure.figsize'] = (12, 7)",
    "-f",
    "{connection_file}"
   ],
   "display_name": "Python 3 (system-wide)",
   "env": {
   },
   "language": "python",
   "metadata": {
    "cocalc": {
     "description": "Python 3 programming language",
     "priority": 100,
     "url": "https://www.python.org/"
    }
   },
   "name": "python3",
   "resource_dir": "/ext/jupyter/kernels/python3"
  },
  "language_info": {
   "codemirror_mode": {
    "name": "ipython",
    "version": 3
   },
   "file_extension": ".py",
   "mimetype": "text/x-python",
   "name": "python",
   "nbconvert_exporter": "python",
   "pygments_lexer": "ipython3",
   "version": "3.8.5"
  },
  "toc": {
   "base_numbering": 1,
   "nav_menu": {
   },
   "number_sections": true,
   "sideBar": true,
   "skip_h1_title": false,
   "title_cell": "Table of Contents",
   "title_sidebar": "Contents",
   "toc_cell": false,
   "toc_position": {
   },
   "toc_section_display": true,
   "toc_window_display": true
  }
 },
 "nbformat": 4,
 "nbformat_minor": 4
}