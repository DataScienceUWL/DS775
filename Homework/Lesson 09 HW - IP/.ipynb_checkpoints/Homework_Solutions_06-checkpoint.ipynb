{
 "cells": [
  {
   "cell_type": "code",
   "execution_count": 1,
   "metadata": {
    "code_folding": [
     0
    ]
   },
   "outputs": [],
   "source": [
    "# execute to import notebook styling for tables and width etc.\n",
    "from IPython.core.display import HTML\n",
    "import urllib.request\n",
    "response = urllib.request.urlopen('https://raw.githubusercontent.com/DataScienceUWL/DS775v2/master/ds755.css')\n",
    "HTML(response.read().decode(\"utf-8\"));"
   ]
  },
  {
   "cell_type": "markdown",
   "metadata": {},
   "source": [
    "<font size=18>Lesson 06 Homework</font>"
   ]
  },
  {
   "cell_type": "markdown",
   "metadata": {},
   "source": [
    "# Textbook Problem 12.2-4"
   ]
  },
  {
   "cell_type": "markdown",
   "metadata": {},
   "source": [
    "Reconsider the Wyndor Glass Co. problem presented in Sec. 3.1. Management now has decided that **only one** of the two new products should be produced, and the choice is to be made on the basis of maximizing profit. Introduce auxiliary binary variables to formulate an MIP model for this new version of the problem.\n",
    "\n",
    "(a) Introduce auxiliary binary variables to formulate a mixed BIP model for this problem. Include a picture or LaTeX of the mathematical formulation in the next cell.\n",
    "\n",
    "<font color = \"blue\"> *** 4 points -  answer in cell below *** (don't delete this cell) </font>"
   ]
  },
  {
   "cell_type": "markdown",
   "metadata": {},
   "source": [
    "The model formulation as a MIP where $d$ and $w$ are the numbers of doors and windows produced, respectively, is:\n",
    "\n",
    "Maximize $Z = 3 d + 5 w$\n",
    "\n",
    "subject to:\n",
    "\n",
    "$\n",
    "\\begin{array}{ccccc}\n",
    " d &   &    & \\leq & 4 \\\\\n",
    "   &   & 2w & \\leq & 12 \\\\\n",
    "3d & + & 2w & \\leq & 18\n",
    "\\end{array}\n",
    "$\n",
    "\n",
    "$d \\geq 0$, $w \\geq 0$\n",
    "\n",
    "To choose only one product you can add one or two binary variables.  If doing it with two then the additional constraints are that $y_d$ and $y_w$ are binary and\n",
    "\n",
    "$y_d + y_w = 1$\n",
    "\n",
    "$d \\leq M y_d$\n",
    "\n",
    "$w \\leq M y_w$\n",
    "\n",
    "Where $M$ is a number that is large enough so that constraint is not binding if the binary variable is 1.  In this case $M \\geq 6$ is enough. \n",
    "\n",
    "The model can also be formulated with a single binary variable $y$ in which case you need\n",
    "$x_d \\leq M y$  and $x_w \\leq M (1-y).$"
   ]
  },
  {
   "cell_type": "markdown",
   "metadata": {},
   "source": [
    "b) Use Pyomo to solve this model. You can use a concrete or an abstract formulation.\n",
    "\n",
    "<font color = \"blue\"> *** 6 points -  answer in cell below *** (don't delete this cell) </font>"
   ]
  },
  {
   "cell_type": "code",
   "execution_count": 3,
   "metadata": {},
   "outputs": [
    {
     "name": "stdout",
     "output_type": "stream",
     "text": [
      "Maximum Profit =  $30,000.00\n",
      "Produce 0.0 of product 1\n",
      "Produce 6.0 of product 2\n"
     ]
    }
   ],
   "source": [
    "from pyomo.environ import *\n",
    "\n",
    "m = ConcreteModel(name=\"Example_1\")\n",
    "\n",
    "m.x1 = Var(domain=NonNegativeReals)\n",
    "m.x2 = Var(domain=Reals)\n",
    "\n",
    "m.y1 = Var(domain=Boolean)\n",
    "m.y2 = Var(domain=Boolean)\n",
    "\n",
    "m.profit = Objective( expr = 3*m.x1 + 5*m.x2, sense = maximize)\n",
    "\n",
    "bigM = 1000\n",
    "\n",
    "# Constraints:\n",
    "m.cts = ConstraintList()\n",
    "m.cts.add( m.y1 + m.y2 == 1)\n",
    "m.cts.add( m.x1 <= 4)\n",
    "m.cts.add( 2 * m.x2 <= 12)\n",
    "m.cts.add( 3 * m.x1 + 2 * m.x2 <= 18)\n",
    "m.cts.add( m.x1 <= bigM * m.y1)\n",
    "m.cts.add( m.x2 <= bigM * m.y2)\n",
    "\n",
    "# Solve\n",
    "solver = SolverFactory('glpk')\n",
    "solver.solve(m)\n",
    "\n",
    "import babel.numbers as numbers  # needed to display as currency\n",
    "print(\"Maximum Profit = \",\n",
    "      numbers.format_currency(m.profit()*1000, 'USD', locale='en_US'))\n",
    "print('Produce {:0.1f} of product 1'.format(m.x1()))\n",
    "print('Produce {:0.1f} of product 2'.format(m.x2()))"
   ]
  },
  {
   "cell_type": "code",
   "execution_count": 1,
   "metadata": {
    "slideshow": {
     "slide_type": "-"
    }
   },
   "outputs": [
    {
     "name": "stdout",
     "output_type": "stream",
     "text": [
      "Maximum Profit =  $30,000.00\n",
      "Produce no batches of Doors.\n",
      "Produce 6.0 batches of Windows.\n"
     ]
    }
   ],
   "source": [
    "from pyomo.environ import *\n",
    "\n",
    "products = ['Doors', 'Windows']\n",
    "plants = ['Plant1', 'Plant2', 'Plant3']\n",
    "profit_rate = dict(zip(products, [3, 5]))\n",
    "hours_available = dict(zip(plants, [4, 12, 18]))\n",
    "hpb = [[1, 0], [0, 2], [3, 2]]\n",
    "hours_per_batch = {\n",
    "    plants[pl]: dict(zip(products, hpb[pl][:]))\n",
    "    for pl in range(len(plants))\n",
    "}\n",
    "num_products_choose = 1\n",
    "bigM = 10000\n",
    "\n",
    "#Concrete Model\n",
    "model = ConcreteModel()\n",
    "\n",
    "#Decision Variables\n",
    "model.weekly_prod = Var(products, domain=NonNegativeReals)\n",
    "model.produce_prod = Var(products, domain=Boolean)\n",
    "\n",
    "#Objective\n",
    "model.profit = Objective(expr=sum(profit_rate[pr] * model.weekly_prod[pr]\n",
    "                                  for pr in products),\n",
    "                         sense=maximize)\n",
    "\n",
    "model.capacity = ConstraintList()\n",
    "for pl in plants:\n",
    "    model.capacity.add(\n",
    "        sum(hours_per_batch[pl][pr] * model.weekly_prod[pr]\n",
    "            for pr in products) <= hours_available[pl])\n",
    "\n",
    "model.production_choices = ConstraintList()\n",
    "for pr in products:\n",
    "    model.production_choices.add(\n",
    "        model.weekly_prod[pr] <= bigM * model.produce_prod[pr])\n",
    "\n",
    "model.production_choices.add(expr=sum(\n",
    "    model.produce_prod[pr] for pr in products) == num_products_choose)\n",
    "\n",
    "# Solve\n",
    "solver = SolverFactory('glpk')\n",
    "solver.solve(model)\n",
    "\n",
    "# display solution\n",
    "import babel.numbers as numbers  # needed to display as currency\n",
    "print(\"Maximum Profit = \",\n",
    "      numbers.format_currency(1000 * model.profit(), 'USD', locale='en_US'))\n",
    "\n",
    "for j in products:\n",
    "    if (bool(model.produce_prod[j]())):\n",
    "        print(\"Produce {0:} batches of {1:}.\".format(model.weekly_prod[j](),\n",
    "                                                     j))\n",
    "    else:\n",
    "        print(\"Produce no batches of {}.\".format(j))"
   ]
  },
  {
   "cell_type": "markdown",
   "metadata": {},
   "source": [
    "# Textbook Problem 12.3-1"
   ]
  },
  {
   "cell_type": "markdown",
   "metadata": {},
   "source": [
    "The Research and Development Division of the Progressive Company has been developing four possible new product lines. Management must now make a decision as to which of these four products actually will be produced and at what levels. Therefore, an operations research study has been requested to find the most profitable product mix.\n",
    "\n",
    "A substantial cost is associated with beginning the production of any product, as given in the first row of the following table. Management’s objective is to find the product mix that maximizes the total profit (total net revenue minus start-up costs).\n",
    "\n",
    "<img src=\"./images/screen-prob12_3-1.png\" alt=\"Solution\" width=\"350\" height=\"150\">\n",
    "\n",
    "Let the continuous decision variables $x_1, x_2, x_3,$ and $x_4$ be the production levels of products 1, 2, 3, and 4, respectively. Management has imposed the following policy constraints on these variables:\n",
    "\n",
    "1. No more than two of the products can be produced.\n",
    "\n",
    "2. Either product 3 or 4 can be produced only if either product 1 or 2 is produced.\n",
    "\n",
    "3. Either \n",
    "\n",
    "$$5x_1 + 3x_2 + 6x_3 + 4x_4 \\leq  6,000 $$\n",
    "\n",
    "$$\\text{or}$$ \n",
    "\n",
    "$$4x_1 + 6x_2 + 3x_3 + 5x_4 \\leq 6,000 $$.\n",
    "\n",
    "(a) Introduce auxiliary binary variables to formulate a mixed BIP model for this problem.  Include a picture or LaTeX of the mathematical formulation in the next cell.\n",
    "\n",
    "<font color = \"blue\"> *** 6 points -  answer in cell below *** (don't delete this cell) </font>"
   ]
  },
  {
   "cell_type": "markdown",
   "metadata": {},
   "source": [
    "Maximize $Z = 70x_1 + 60x_2 + 90x_3 + 80x_4 - 50,000y_1 - 40,000y_2 - 70,000y_3 - 60,000y_4$\n",
    "\n",
    "subject to:\n",
    "\n",
    "$\n",
    "\\begin{array}{l}\n",
    " y_1 + y_2 + y_3 + y_4 \\leq 2 \\\\\n",
    "y_3 \\leq y_1 + y_2 \\\\\n",
    "y_4 \\leq y_1 + y_2 \\\\\n",
    "5x_1 + 3x_2 + 6x_3 + 4x_4 \\leq 6000 + My_5 \\\\\n",
    "4x_1 + 6x_2 + 3x_3 + 5x_4 \\leq 6000 + M(1-y_5) \\\\\n",
    "0 \\leq x_i \\leq My_i, \\text{ for } i=1,2,3,4 \\\\\n",
    "x_i \\geq 0, \\text{ for } i=1, 2, 3, 4  \\\\\n",
    "y_i \\text{ binary, for } i=1, 2, 3, 4, 5 \\\\\n",
    "\\end{array}\n",
    "$\n",
    "\n",
    "Make $M$ a large number.  It is a good idea to choose $M$ large without going crazy.  Look at fourth and fifth constraints.  The largest any value of $x_j$ can be would be 2000 if the constraint is satisfied.  Choosing $M = 10000$ would be more than adequate."
   ]
  },
  {
   "cell_type": "markdown",
   "metadata": {},
   "source": [
    "(b) Use Pyomo to solve this model. Use an abstract formulation.\n",
    "\n",
    "<font color = \"blue\"> *** 10 points -  answer in cell below *** (don't delete this cell) </font>"
   ]
  },
  {
   "cell_type": "code",
   "execution_count": 7,
   "metadata": {},
   "outputs": [
    {
     "name": "stdout",
     "output_type": "stream",
     "text": [
      "Maximum Profit =  $80,000.00\n",
      "\n",
      "Which plant to use:\n",
      "Produce at Plant1? Yes\n",
      "Produce at Plant2? No\n",
      "\n",
      "Which products and how many:\n",
      "Do not produce Product1\n",
      "Produce Product2 at a rate of 2000.0 per week\n",
      "Do not produce Product3\n",
      "Do not produce Product4\n"
     ]
    }
   ],
   "source": [
    "from pyomo.environ import *\n",
    "\n",
    "# solution for textbook problem 12.3-1 (b)\n",
    "\n",
    "products = ['Product1', 'Product2', 'Product3', 'Product4']\n",
    "unit_profit = dict(zip(products, [70, 60, 90, 80]))\n",
    "startup_cost = dict(zip(products, [50000, 40000, 70000, 60000]))\n",
    "\n",
    "plants = ['Plant1', 'Plant2']\n",
    "production_avail = dict(zip(plants, [6000, 6000]))\n",
    "\n",
    "coef = [[5, 3, 6, 4], [4, 6, 3, 5]]\n",
    "plant_coefs = {\n",
    "    plants[p]: dict(zip(products, coef[p][:]))\n",
    "    for p in range(len(plants))\n",
    "}\n",
    "bigM = 10000\n",
    "\n",
    "prod_ct_coef = [dict(zip(products,[1,1,0,-1])),dict(zip(products,[1,1,-1,0]))]\n",
    "\n",
    "num_products_to_choose = 2\n",
    "num_plants_to_use = 1\n",
    "\n",
    "# Instantiate concrete model\n",
    "M = ConcreteModel(name=\"ProgressiveCo\")\n",
    "\n",
    "# Decision Variables\n",
    "M.x = Var(products, domain=NonNegativeReals)\n",
    "M.y = Var(products, domain=Boolean)\n",
    "M.plant_choice = Var(plants, domain=Boolean)\n",
    "\n",
    "# Objective:  Minimize Profit\n",
    "M.profit = Objective(expr=sum(unit_profit[pr] * M.x[pr] for pr in products) - \n",
    "                              sum(startup_cost[pr] * M.y[pr] for pr in products),\n",
    "                     sense=maximize)\n",
    "\n",
    "# Constraints:\n",
    "M.constraints = ConstraintList()\n",
    "\n",
    "for pr in products:  # produce product only if product is chosen\n",
    "    M.constraints.add(M.x[pr] <= bigM * M.y[pr])\n",
    "\n",
    "# choose 2 products\n",
    "M.constraints.add(sum(M.y[pr] for pr in products) <= num_products_to_choose)\n",
    "\n",
    "# product selection constraints\n",
    "# M.constraints.add(M.y['Product3'] <= M.y['Product1'] + M.y['Product2'])\n",
    "# M.constraints.add(M.y['Product4'] <= M.y['Product1'] + M.y['Product2'])\n",
    "for i in range(len(prod_ct_coef)):\n",
    "    M.constraints.add( sum( prod_ct_coef[i][pr] * M.y[pr] for pr in products ) >= 0)\n",
    "\n",
    "for pl in plants:  \n",
    "    M.constraints.add(\n",
    "        sum(plant_coefs[pl][pr] * M.x[pr]\n",
    "            for pr in products) <= production_avail[pl] +\n",
    "        bigM * (1-M.plant_choice[pl]) )\n",
    "\n",
    "# choose 1 plant\n",
    "M.constraints.add(sum(M.plant_choice[pl] for pl in plants) == num_plants_to_use)\n",
    "\n",
    "# Solve\n",
    "solver = SolverFactory('glpk')\n",
    "solver.solve(M)\n",
    "\n",
    "# Output\n",
    "import babel.numbers as numbers  # needed to display as currency\n",
    "print(\"Maximum Profit = \",\n",
    "      numbers.format_currency(M.profit(), 'USD', locale='en_US'))\n",
    "\n",
    "print(\"\\nWhich plant to use:\")\n",
    "for pl in plants:\n",
    "    print(\"Produce at {}? \".format(pl) + [\"No\",\"Yes\"][int(M.plant_choice[pl]())] )\n",
    "\n",
    "print(\"\\nWhich products and how many:\")\n",
    "for pr in products:\n",
    "    if bool(M.y[pr]()):\n",
    "        print(\"Produce {} \".format(pr) + \"at a rate of {:1.1f} per week\".format(M.x[pr]() ) )\n",
    "    else:\n",
    "        print(\"Do not produce {}\".format(pr) )"
   ]
  },
  {
   "cell_type": "markdown",
   "metadata": {},
   "source": [
    "# Textbook Problem 12.4-6"
   ]
  },
  {
   "cell_type": "markdown",
   "metadata": {},
   "source": [
    "Speedy Delivery provides two-day delivery service of large parcels across the United States. Each morning at each collection center, the parcels that have arrived overnight are loaded onto several trucks for delivery throughout the area. Since the competitive battlefield in this business is speed of delivery, the parcels are divided among the trucks according to their geographical destinations to minimize the average time needed to make the deliveries.\n",
    "\n",
    "On this particular morning, the dispatcher for the Blue River Valley Collection Center, Sharon Lofton, is hard at work. Her three drivers will be arriving in less than an hour to make the day’s deliveries. There are nine parcels to be delivered, all at locations many miles apart. As usual, Sharon has loaded these locations into her computer. She is using her company’s special software package, a decision support system called Dispatcher. The first thing Dispatcher does is use these locations to generate a considerable number of attractive possible routes for the individual delivery trucks. These routes are shown in the following table (where the numbers in each column indicate the order of the deliveries), along with the estimated time required to traverse the route.\n",
    "\n",
    "<img src=\"images/screen-prob12_4-6.png\" alt=\"Solution\" width=\"350\" height=\"150\">\n",
    "\n",
    "\n",
    "Dispatcher is an interactive system that shows these routes to Sharon for her approval or modification. (For example, the computer may not know that flooding has made a particular route infeasible.) After Sharon approves these routes as attractive possibilities with reasonable time estimates, Dispatcher next formulates and solves a BIP model for selecting three routes that minimize their total time while including each delivery location on exactly one route. This morning, Sharon does approve all the routes.\n",
    "\n",
    "(a) Formulate this BIP model.  Include a picture or LaTeX of the mathematical formulation in the next cell.\n",
    "\n",
    "<font color = \"blue\"> *** 6 points -  answer in cell below *** (don't delete this cell) </font>"
   ]
  },
  {
   "cell_type": "markdown",
   "metadata": {},
   "source": [
    "Let $y_j = 1$ if route $j$ is chosen, 0 otherwise\n",
    "\n",
    "Let $x_{ij}$ be the $ij^{th}$ element of the location/route matrix, for $i=A, \\ldots , I$\n",
    "and $j=1, \\ldots, 10$.\n",
    "\n",
    "Let $c_j$ denote the time needed for the route $j$, for $j=1, \\ldots, 10$.\n",
    "\n",
    "Minimize $Z = \\sum_{j=1}^{10} c_j y_j$\n",
    "\n",
    "subject to:\n",
    "\n",
    "$\\sum_{j=1}^{10} x_{ij} y_j = 1, \\text{ for } i=A, \\dots, I$ \n",
    "\n",
    "$\\sum_{j=1}^{10} y_j = 3$\n",
    "\n",
    "$y_i \\text{ binary, for } i=1, \\ldots, 10$"
   ]
  },
  {
   "cell_type": "markdown",
   "metadata": {},
   "source": [
    "(b) Use Pyomo solve this model.  Use an abstract formulation.\n",
    "\n",
    "<font color = \"blue\"> *** 10 points -  answer in cell below *** (don't delete this cell) </font>"
   ]
  },
  {
   "cell_type": "code",
   "execution_count": 4,
   "metadata": {},
   "outputs": [
    {
     "name": "stdout",
     "output_type": "stream",
     "text": [
      "The minimum total time is 12.0 hours.\n",
      "\n",
      "Which routes to take:\n",
      "Do not take Route 1\n",
      "Do not take Route 2\n",
      "Do not take Route 3\n",
      "Take Route 4 \n",
      "Take Route 5 \n",
      "Do not take Route 6\n",
      "Do not take Route 7\n",
      "Take Route 8 \n",
      "Do not take Route 9\n",
      "Do not take Route 10\n"
     ]
    }
   ],
   "source": [
    "# solution for textbook problem 12.4-6 (b)\n",
    "\n",
    "from pyomo.environ import *\n",
    "\n",
    "routes = ['Route 1', 'Route 2', 'Route 3', 'Route 4', 'Route 5', \n",
    "          'Route 6', 'Route 7', 'Route 8', 'Route 9', 'Route 10']\n",
    "route_time = dict(zip(routes, [6, 4, 7, 5, 4, 6, 5, 3, 7, 6]))\n",
    "\n",
    "locations = [\"A\", \"B\", \"C\", \"D\", \"E\", \"F\", \"G\", \"H\", \"I\"]\n",
    "\n",
    "x = [[1, 0, 0, 0, 1, 0, 0, 0, 1, 0], \n",
    "     [0, 1, 0, 1, 0, 1, 0, 0, 1, 1], \n",
    "     [0, 0, 1, 1, 0, 0, 1, 0, 1, 0],\n",
    "     [1, 0, 0, 0, 0, 1, 0, 1, 0, 0], \n",
    "     [0, 0, 1, 1, 0, 1, 0, 0, 0, 0], \n",
    "     [0, 1, 0, 0, 1, 0, 0, 0, 0, 0],\n",
    "     [1, 0, 0, 0, 0, 0, 1, 1, 0, 1],\n",
    "     [0, 0, 1, 0, 1, 0, 0, 0, 0, 1],\n",
    "     [0, 1, 0, 1, 0, 0, 1, 0, 0, 0]]\n",
    "\n",
    "# produce nested dictionaries, access like this route_in_location['A']['rt2']\n",
    "route_in_location = { locations[l]: dict(zip(routes,x[l][:])) for l in range(len(locations))}\n",
    "\n",
    "# Instantiate concrete model\n",
    "M = ConcreteModel(name=\"SpeedyDelivery\")\n",
    "\n",
    "# Decision Variables\n",
    "M.y = Var(routes, domain=Boolean)\n",
    "\n",
    "# Objective:  minimize time\n",
    "M.time = Objective(expr=sum(route_time[r] * M.y[r] for r in routes), sense=minimize)\n",
    "\n",
    "# Constraints:\n",
    "M.constraints = ConstraintList()\n",
    "\n",
    "for l in locations:  \n",
    "    M.constraints.add(sum(route_in_location[l][r] * M.y[r] for r in routes) == 1)\n",
    "\n",
    "# choose 3 routes\n",
    "M.constraints.add(sum(M.y[r] for r in routes) == 3)\n",
    "\n",
    "# Solve\n",
    "solver = SolverFactory('glpk')\n",
    "solver.solve(M)\n",
    "\n",
    "import babel.numbers as numbers  # needed to display as currency\n",
    "print(\"The minimum total time is\", M.time(), \"hours.\")\n",
    "\n",
    "\n",
    "print(\"\\nWhich routes to take:\")\n",
    "for r in routes:\n",
    "    if bool(M.y[r]()):\n",
    "        print(\"Take {} \".format(r))\n",
    "    else:\n",
    "        print(\"Do not take {}\".format(r) )"
   ]
  },
  {
   "cell_type": "markdown",
   "metadata": {},
   "source": [
    "# Knapsack optimization"
   ]
  },
  {
   "cell_type": "markdown",
   "metadata": {},
   "source": [
    "We'll revisit the Knapsack Optimization problem from Lesson 4 and 5. This time, we'll solve it using integer programming.\n",
    "\n",
    "Given a set of items, each with a weight and a value, use binary variables and Pyomo to determine which items to include in a collection such that the total weight is less than or equal to a given limit and the total value is as large as possible. We will start with 20 items and you need to determine the collection of items that maximizes the value and keeps the total weight less than or equal to 50. \n",
    "\n",
    "Use the problem data as described below:"
   ]
  },
  {
   "cell_type": "code",
   "execution_count": 6,
   "metadata": {},
   "outputs": [],
   "source": [
    "#Problem Data - generate random weights and values for a knapsack problem\n",
    "import numpy as np\n",
    "num_items = 20\n",
    "np.random.seed(seed=123)\n",
    "values = np.random.randint(low=5, high=50, size=num_items)\n",
    "weights = np.random.randint(low=1, high=10, size=num_items)\n",
    "np.random.seed(\n",
    ")  # use system clock to reset the seed so future random numbers will appear random\n",
    "max_weight = 50"
   ]
  },
  {
   "cell_type": "markdown",
   "metadata": {},
   "source": [
    "Your Pyomo solution should go in the next cell.  Your code should still work if the number of items is changed to 40 or more.\n",
    "\n",
    "<font color = \"blue\"> *** 8 points -  answer in cell below *** (don't delete this cell) </font>"
   ]
  },
  {
   "cell_type": "code",
   "execution_count": 17,
   "metadata": {},
   "outputs": [
    {
     "name": "stdout",
     "output_type": "stream",
     "text": [
      "Total Value = 435.0\n",
      "Total Weight = 50.0\n",
      "Include Item 0? Yes\n",
      "Include Item 1? No\n",
      "Include Item 2? Yes\n",
      "Include Item 3? Yes\n",
      "Include Item 4? No\n",
      "Include Item 5? No\n",
      "Include Item 6? Yes\n",
      "Include Item 7? Yes\n",
      "Include Item 8? Yes\n",
      "Include Item 9? Yes\n",
      "Include Item 10? No\n",
      "Include Item 11? Yes\n",
      "Include Item 12? Yes\n",
      "Include Item 13? No\n",
      "Include Item 14? Yes\n",
      "Include Item 15? No\n",
      "Include Item 16? Yes\n",
      "Include Item 17? Yes\n",
      "Include Item 18? Yes\n",
      "Include Item 19? No\n"
     ]
    }
   ],
   "source": [
    "from pyomo.environ import *\n",
    "\n",
    "# Concrete Model\n",
    "M = ConcreteModel(name=\"Knapsack\")\n",
    "\n",
    "# decision variables\n",
    "M.y = Var(range(num_items), domain=Boolean)  # integer index for simplicity\n",
    "\n",
    "# objective\n",
    "M.value = Objective(expr=sum(values[i] * M.y[i] for i in range(num_items)),\n",
    "                    sense=maximize)\n",
    "\n",
    "# constraint\n",
    "M.weight = Constraint(expr=sum(weights[i] * M.y[i]\n",
    "                               for i in range(num_items)) <= max_weight)\n",
    "# Solve\n",
    "solver = SolverFactory('glpk')\n",
    "solver.solve(M)\n",
    "\n",
    "# display\n",
    "print(f'Total Value = {M.value()}')\n",
    "print(f'Total Weight = {M.weight()}')\n",
    "for i in range(num_items):\n",
    "    print(f'Include Item {i}? {[\"No\",\"Yes\"][int(M.y[i]())]}')"
   ]
  }
 ],
 "metadata": {
  "kernelspec": {
   "display_name": "Python 3",
   "language": "python",
   "name": "python3"
  },
  "language_info": {
   "codemirror_mode": {
    "name": "ipython",
    "version": 3
   },
   "file_extension": ".py",
   "mimetype": "text/x-python",
   "name": "python",
   "nbconvert_exporter": "python",
   "pygments_lexer": "ipython3",
   "version": "3.6.7"
  },
  "toc": {
   "base_numbering": 1,
   "nav_menu": {},
   "number_sections": true,
   "sideBar": true,
   "skip_h1_title": false,
   "title_cell": "Table of Contents",
   "title_sidebar": "Contents",
   "toc_cell": false,
   "toc_position": {
    "height": "calc(100% - 180px)",
    "left": "10px",
    "top": "150px",
    "width": "263.082px"
   },
   "toc_section_display": true,
   "toc_window_display": true
  },
  "varInspector": {
   "cols": {
    "lenName": 16,
    "lenType": 16,
    "lenVar": 40
   },
   "kernels_config": {
    "python": {
     "delete_cmd_postfix": "",
     "delete_cmd_prefix": "del ",
     "library": "var_list.py",
     "varRefreshCmd": "print(var_dic_list())"
    },
    "r": {
     "delete_cmd_postfix": ") ",
     "delete_cmd_prefix": "rm(",
     "library": "var_list.r",
     "varRefreshCmd": "cat(var_dic_list()) "
    }
   },
   "types_to_exclude": [
    "module",
    "function",
    "builtin_function_or_method",
    "instance",
    "_Feature"
   ],
   "window_display": false
  }
 },
 "nbformat": 4,
 "nbformat_minor": 2
}
