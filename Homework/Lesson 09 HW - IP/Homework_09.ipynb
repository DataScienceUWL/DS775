{
 "cells": [
  {
   "cell_type": "markdown",
   "metadata": {
    "collapsed": false
   },
   "source": [
    "<font size=18>Lesson 09 Homework - Integer Programming</font>"
   ]
  },
  {
   "cell_type": "markdown",
   "metadata": {
    "collapsed": false
   },
   "source": [
    "# Textbook Problem 12.2-4\n",
    "\n",
    "Reconsider the Wyndor Glass Co. problem presented in Sec. 3.1. Management now has decided that **only one** of the two new products should be produced, and the choice is to be made on the basis of maximizing profit. Introduce auxiliary binary variables to formulate an MIP model for this new version of the problem.\n",
    "\n",
    "## **Question 1** (Manually Graded) <font color=\"magenta\">(2 points)</font>\n",
    "\n",
    "The original Wyndor model formulation using continuous variables is the following:\n",
    "\n",
    "Maximize $Z = 3 d + 5 w$\n",
    "\n",
    "subject to:\n",
    "\n",
    "$\n",
    "\\begin{array}{ccccc}\n",
    " d &   &    & \\leq & 4 \\\\\n",
    "   &   & 2w & \\leq & 12 \\\\\n",
    "3d & + & 2w & \\leq & 18\n",
    "\\end{array}\n",
    "$\n",
    "\n",
    "where $d \\geq 0$, $w \\geq 0$\n",
    "\n",
    "Introduce auxiliary binary variables to formulate a mixed BIP model for this problem. Include a picture or LaTeX of the mathematical formulation.\n",
    "\n",
    "**Hint: The binary variables are only used in the constraints, so you will only need to provide the constraints and the notation to use integer decision variables.**\n"
   ]
  },
  {
   "cell_type": "markdown",
   "metadata": {
    "collapsed": false
   },
   "source": [
   ]
  },
  {
   "cell_type": "markdown",
   "metadata": {
    "collapsed": false
   },
   "source": [
    "## **Question 2** (Manually graded) <font color=\"magenta\">(4 points)</font> \n",
    "\n",
    "Given the following abstract formulation for the continuous Wyndor problem, add the necessary auxiliary binary variables to solve the problem from Question 1.\n",
    "\n",
    "**Note: Starting code is included in the Jupyter notebook, but not in the quiz.**\n"
   ]
  },
  {
   "cell_type": "code",
   "execution_count": 2,
   "metadata": {
    "collapsed": false
   },
   "outputs": [
    {
     "name": "stdout",
     "output_type": "stream",
     "text": [
      "Maximum Profit = $36,000.00\n",
      "Batches of Doors = 2.0\n",
      "Batches of Windows = 6.0\n"
     ]
    }
   ],
   "source": [
    "# Starting Code\n",
    "from pyomo.environ import *\n",
    "\n",
    "# abstract Wyndor\n",
    "products = ['Doors', 'Windows']\n",
    "plants = ['Plant1', 'Plant2', 'Plant3']\n",
    "profit_rate = {'Doors': 3, 'Windows': 5}\n",
    "hours_available = {'Plant1': 4, 'Plant2': 12, 'Plant3': 18}\n",
    "hours_per_batch = {\n",
    "    'Plant1': {\n",
    "        'Doors': 1,\n",
    "        'Windows': 0\n",
    "    },\n",
    "    'Plant2': {\n",
    "        'Doors': 0,\n",
    "        'Windows': 2\n",
    "    },\n",
    "    'Plant3': {\n",
    "        'Doors': 3,\n",
    "        'Windows': 2\n",
    "    }\n",
    "}\n",
    "\n",
    "\n",
    "\n",
    "#Concrete Model\n",
    "model = ConcreteModel()\n",
    "\n",
    "#Decision Variables\n",
    "model.weekly_prod = Var(products, domain=NonNegativeReals)\n",
    "\n",
    "#Objective\n",
    "model.profit = Objective(expr=sum(profit_rate[pr] * model.weekly_prod[pr]\n",
    "                               for pr in products),\n",
    "                      sense=maximize)\n",
    "\n",
    "model.capacity = ConstraintList()\n",
    "for pl in plants:\n",
    "    model.capacity.add(\n",
    "        sum(hours_per_batch[pl][pr] * model.weekly_prod[pr]\n",
    "            for pr in products) <= hours_available[pl])\n",
    "\n",
    "# Solve\n",
    "solver = SolverFactory('glpk')\n",
    "solver.solve(model)\n",
    "\n",
    "# display solution (again, we've changed to f-strings)\n",
    "print(f\"Maximum Profit = ${1000*model.profit():,.2f}\")\n",
    "for j in products:\n",
    "    print(f\"Batches of {j} = {model.weekly_prod[j]():.1f}\")"
   ]
  },
  {
   "cell_type": "code",
   "execution_count": 0,
   "metadata": {
    "collapsed": false
   },
   "outputs": [
   ],
   "source": [
   ]
  },
  {
   "cell_type": "markdown",
   "metadata": {
    "collapsed": false
   },
   "source": [
    "## **Question 3** <font color=\"magenta\">(2 points)</font>\n",
    "\n",
    "What is the maximum profit? (Do not include dollar sign. Round to 2 digits.)\n",
    "\n",
    "\n",
    "\n",
    "\n",
    "## **Question 4** <font color=\"magenta\">(2 points)</font>\n",
    "\n",
    "How many doors will be produced?\n",
    "\n",
    "\n",
    "\n",
    "\n",
    "## **Question 5** <font color=\"magenta\">(2 points)</font>\n",
    "\n",
    "How many windows will be produced?\n",
    "\n",
    "\n"
   ]
  },
  {
   "cell_type": "markdown",
   "metadata": {
    "collapsed": false
   },
   "source": [
    "# Textbook Problem 12.3-1\n",
    "\n",
    "The Research and Development Division of the Progressive Company has been developing four possible new product lines. Management must now make a decision as to which of these four products actually will be produced and at what levels. Therefore, an operations research study has been requested to find the most profitable product mix.\n",
    "\n",
    "A substantial cost is associated with beginning the production of any product, as given in the first row of the following table. Management’s objective is to find the product mix that maximizes the total profit (total net revenue minus start-up costs).\n",
    "\n",
    "<img src=\"./images/screen-prob12_3-1.png\" alt=\"Solution\" width=\"350\">\n",
    "\n",
    "Let the continuous decision variables $x_1, x_2, x_3,$ and $x_4$ be the production levels of products 1, 2, 3, and 4, respectively. Management has imposed the following policy constraints on these variables:\n",
    "\n",
    "1. No more than two of the products can be produced.\n",
    "\n",
    "2. Either product 3 or 4 can be produced only if either product 1 or 2 is produced.\n",
    "\n",
    "3. Either \n",
    "\n",
    "$$5x_1 + 3x_2 + 6x_3 + 4x_4 \\leq  6,000 $$\n",
    "\n",
    "$$\\text{or}$$ \n",
    "\n",
    "$$4x_1 + 6x_2 + 3x_3 + 5x_4 \\leq 6,000 $$.\n",
    "\n",
    "## **Question 6** (Manually Graded) <font color=\"magenta\">4 points</font>\n",
    "\n",
    "Introduce auxiliary binary variables to formulate a mixed BIP model for this problem.  Include a picture or LaTeX of the mathematical formulation in the next cell.\n",
    "\n",
    "**Hint: The objective function will need to use both real and binary decision variables.**\n",
    "\n",
    "**Hint: It's easier to generalize your code if you use multiple binary variables as opposed to the 1-y construction.**\n"
   ]
  },
  {
   "cell_type": "markdown",
   "metadata": {
    "collapsed": false
   },
   "source": [
   ]
  },
  {
   "cell_type": "markdown",
   "metadata": {
    "collapsed": false
   },
   "source": [
    "## **Question 7** (Manually Graded) <font color=\"magenta\">(4 points)</font>\n",
    "\n",
    "Use Pyomo to solve this model. Use an abstract formulation.\n"
   ]
  },
  {
   "cell_type": "code",
   "execution_count": 0,
   "metadata": {
    "collapsed": false
   },
   "outputs": [
   ],
   "source": [
   ]
  },
  {
   "cell_type": "markdown",
   "metadata": {
    "collapsed": false
   },
   "source": [
    "## **Question 8** <font color=\"magenta\">(2 points)</font>\n",
    "\n",
    "What is the maximum profit? (Do not include dollar sign. Round to 2 digits.)\n",
    "\n",
    "\n",
    "\n",
    "## **Question 9** <font color=\"magenta\">(2 points)</font>\n",
    "\n",
    "Which products will be produced (select all that apply).\n",
    "\n",
    "* Product 1\n",
    "* Product 2\n",
    "* Product 3\n",
    "* Product 4\n",
    "\n",
    "## **Question 10** <font color=\"magenta\">(2 points)</font>\n",
    "\n",
    "At what rate will product 1 be produced per week?\n",
    "\n",
    "* Product 1 will be produced at 2000/week.\n",
    "* Product 1 will be produced at 200/week.\n",
    "* Product 1 will be not be produced.\n",
    "* Product 1 will be produced at 20000/week.\n"
   ]
  },
  {
   "cell_type": "markdown",
   "metadata": {
    "collapsed": false
   },
   "source": [
    "# Textbook Problem 12.4-6\n",
    "\n",
    "**Note: This content not included in the Canvas Quiz**\n",
    "\n",
    "Speedy Delivery provides two-day delivery service of large parcels across the United States. Each morning at each collection center, the parcels that have arrived overnight are loaded onto several trucks for delivery throughout the area. Since the competitive battlefield in this business is speed of delivery, the parcels are divided among the trucks according to their geographical destinations to minimize the average time needed to make the deliveries.\n",
    "\n",
    "On this particular morning, the dispatcher for the Blue River Valley Collection Center, Sharon Lofton, is hard at work. Her three drivers will be arriving in less than an hour to make the day’s deliveries. There are nine parcels to be delivered, all at locations many miles apart. As usual, Sharon has loaded these locations into her computer. She is using her company’s special software package, a decision support system called Dispatcher. The first thing Dispatcher does is use these locations to generate a considerable number of attractive possible routes for the individual delivery trucks. These routes are shown in the following table (where the numbers in each column indicate the order of the deliveries), along with the estimated time required to traverse the route.\n",
    "\n",
    "<img src=\"images/screen-prob12_4-6.png\" alt=\"Solution\" width=\"350\">\n",
    "\n",
    "Dispatcher is an interactive system that shows these routes to Sharon for her approval or modification. (For example, the computer may not know that flooding has made a particular route infeasible.) After Sharon approves these routes as attractive possibilities with reasonable time estimates, Dispatcher next formulates and solves a BIP model for selecting three routes that minimize their total time while including each delivery location on **exactly one** route. This morning, Sharon does approve all the routes.\n",
    "\n",
    "The abstract formulation for this problem is below.\n",
    "\n",
    "Let $y_j = 1$ if route $j$ is chosen, 0 otherwise\n",
    "\n",
    "Let $x_{ij}$ be the $ij^{th}$ element of the location/route matrix, for $i=A, \\ldots , I$\n",
    "and $j=1, \\ldots, 10$.\n",
    "\n",
    "Let $c_j$ denote the time needed for the route $j$, for $j=1, \\ldots, 10$.\n",
    "\n",
    "Minimize $Z = \\displaystyle \\sum_{j=1}^{10} c_j y_j$\n",
    "\n",
    "subject to:\n",
    "\n",
    "$\\displaystyle \\sum_{j=1}^{10} x_{ij} y_j = 1, \\text{ for } i=A, \\dots, I$ \n",
    "\n",
    "$\\displaystyle \\sum_{j=1}^{10} y_j = 3$\n",
    "\n",
    "$y_i \\text{ binary, for } i=1, \\ldots, 10$"
   ]
  },
  {
   "cell_type": "markdown",
   "metadata": {
    "collapsed": false
   },
   "source": [
    "## **Question 11** (Manually Graded) <font color=\"magenta\">(10 points)</font>\n",
    "\n",
    "Use Pyomo solve this model.  Use abstract code based on the formulation above.\n",
    "\n"
   ]
  },
  {
   "cell_type": "code",
   "execution_count": 0,
   "metadata": {
    "collapsed": false
   },
   "outputs": [
   ],
   "source": [
   ]
  },
  {
   "cell_type": "markdown",
   "metadata": {
    "collapsed": false
   },
   "source": [
    "## **Question 12** <font color=\"magenta\">(2 points)</font>\n",
    "\n",
    "What is the minimum number of hours? (Round to 2 digits.)\n",
    "\n",
    "\n",
    "\n",
    "## **Question 13** <font color=\"magenta\">(2 points)</font>\n",
    "\n",
    "Which routes were chosen (select all that apply)?\n",
    "\n",
    "* Route 1\n",
    "* Route 2\n",
    "* Route 3\n",
    "* Route 4\n",
    "* Route 5\n",
    "* Route 6\n",
    "* Route 7\n",
    "* Route 8\n",
    "* Route 9\n",
    "* Route 10"
   ]
  },
  {
   "cell_type": "markdown",
   "metadata": {
    "collapsed": false
   },
   "source": [
    "# Knapsack optimization"
   ]
  },
  {
   "cell_type": "markdown",
   "metadata": {
    "collapsed": false
   },
   "source": [
    "We'll revisit the Knapsack Optimization problem from previous lessons. This time, we'll solve it using integer programming.\n",
    "\n",
    "Given a set of items, each with a weight and a value, use binary variables and Pyomo to determine which items to include in a collection such that the total weight is less than or equal to a given limit and the total value is as large as possible. \n",
    "\n",
    "You will solve this problem twice, so you will write a function to modularize your code.\n",
    "\n",
    "We will start with 20 items and you need to determine the collection of items that maximizes the value and keeps the total weight less than or equal to 50. \n",
    "\n",
    "Use the problem data as described below:"
   ]
  },
  {
   "cell_type": "markdown",
   "metadata": {
    "collapsed": false
   },
   "source": [
    "## **Question 14** (Manually Graded) <font color=\"magenta\">(4 points)</font>\n",
    "\n",
    "Write a function that accepts a numpy array of values, a numpy array of weights, and a maximum weight and returns the maximum value and the indexed variable of boolean choices (your \"y\" decision variable). \n",
    "\n",
    "**Your code should still work no matter how many items we are evaluating/optimizing. Use the starter code in the cell below.**\n"
   ]
  },
  {
   "cell_type": "code",
   "execution_count": 6,
   "metadata": {
    "collapsed": false
   },
   "outputs": [
   ],
   "source": [
    "#solution\n",
    "from pyomo.environ import *\n",
    "\n",
    "def knapsack(values,weights,max_weight):\n",
    "    '''\n",
    "    Parameters:\n",
    "    values: numpy array of values of each item\n",
    "    weights: numpy array of weights of each item\n",
    "    max_weight: maximum weight allowed in the knapsack\n",
    "\n",
    "    Returns\n",
    "    Final Value\n",
    "    Final Weight\n",
    "    The boolean variable (decision variable) values\n",
    "    '''\n",
    "    ### Add your code here\n"
   ]
  },
  {
   "cell_type": "markdown",
   "metadata": {
    "collapsed": false
   },
   "source": [
    "**Hint** (Not included in the quiz.)\n",
    "\n",
    "If you call your function using the following values, you should get a total value of 25, total weight of 14, and the first two items should be included in your knapsack."
   ]
  },
  {
   "cell_type": "code",
   "execution_count": 0,
   "metadata": {
    "collapsed": false
   },
   "outputs": [
   ],
   "source": [
    "values_array = [10,15,20]\n",
    "weights_array = [9,5,15]\n",
    "max_weight_constant=14\n",
    "\n",
    "finalVal, finalWeight, finalChoices = knapsack(values_array, weights_array, max_weight_constant)\n",
    "# display\n",
    "print(f'Total Value = {finalVal}')\n",
    "print(f'Total Weight = {finalWeight}')\n",
    "\n",
    "for i in range(len(values_array)):\n",
    "    print(f'Include Item {i}? {[\"No\",\"Yes\"][int(finalChoices[i]())]}')"
   ]
  },
  {
   "cell_type": "markdown",
   "metadata": {
    "collapsed": false
   },
   "source": [
    "## **Question 15** <font color=\"magenta\">(2 points)</font>\n",
    "\n",
    "The cell below generates the data for the problem with 20 items and a 50 lb weight limit. Run that cell, then call your function using the data generated. \n",
    "\n",
    "What is the total value of the knapsack after optimization?\n",
    "\n"
   ]
  },
  {
   "cell_type": "code",
   "execution_count": 8,
   "metadata": {
    "collapsed": false
   },
   "outputs": [
   ],
   "source": [
    "#Problem Data - random weights and values for knapsack problem 15 - do not change anything in this cell (Not included in Quiz/Solutions.)\n",
    "import numpy as np\n",
    "def gen_knapsack_data(num, val_range, weight_range):\n",
    "    num_items = num\n",
    "    np.random.seed(seed=8)\n",
    "    values_array = np.random.randint(low=val_range[0], high=val_range[1], size=num_items)\n",
    "    weights_array = np.random.randint(low=weight_range[0], high=weight_range[1], size=num_items)\n",
    "    np.random.seed(\n",
    "    )  # use system clock to reset the seed so future random numbers will appear random\n",
    "    return values_array, weights_array\n",
    "\n",
    "values_array, weights_array = gen_knapsack_data(20, [5,50], [1,10])\n",
    "max_weight_constant = 50"
   ]
  },
  {
   "cell_type": "code",
   "execution_count": 0,
   "metadata": {
    "collapsed": false
   },
   "outputs": [
   ],
   "source": [
   ]
  },
  {
   "cell_type": "markdown",
   "metadata": {
    "collapsed": false
   },
   "source": [
    "## Knapsack with more variables\n",
    "Question 15 used just 20 variables. But we can increase the number of variables quite a lot with a straight binary problem like this before we run into issues with too much computational complexity. The sample data below generates 50000 possible items for the backpack. We'll also increase the weight limit to 500. This still runs for us in less than a minute on CoCalc.\n",
    "\n",
    "Run your function to solve the problem with this data.\n"
   ]
  },
  {
   "cell_type": "code",
   "execution_count": 1,
   "metadata": {
    "collapsed": false
   },
   "outputs": [
    {
     "ename": "NameError",
     "evalue": "name 'gen_knapsack_data' is not defined",
     "output_type": "error",
     "traceback": [
      "\u001b[0;31m---------------------------------------------------------------------------\u001b[0m",
      "\u001b[0;31mNameError\u001b[0m                                 Traceback (most recent call last)",
      "\u001b[0;32m/tmp/ipykernel_559/3719168828.py\u001b[0m in \u001b[0;36m<module>\u001b[0;34m\u001b[0m\n\u001b[1;32m      1\u001b[0m \u001b[0;31m#Problem Data for Questions 16 & 17  - random weights and values for a knapsack problem - do not change anything in this cell. just run it (Not included in Quiz/Solutions.)\u001b[0m\u001b[0;34m\u001b[0m\u001b[0;34m\u001b[0m\u001b[0;34m\u001b[0m\u001b[0m\n\u001b[0;32m----> 2\u001b[0;31m \u001b[0mvalues_array\u001b[0m\u001b[0;34m,\u001b[0m \u001b[0mweights_array\u001b[0m \u001b[0;34m=\u001b[0m \u001b[0mgen_knapsack_data\u001b[0m\u001b[0;34m(\u001b[0m\u001b[0;36m50000\u001b[0m\u001b[0;34m,\u001b[0m \u001b[0;34m[\u001b[0m\u001b[0;36m5\u001b[0m\u001b[0;34m,\u001b[0m \u001b[0;36m700\u001b[0m\u001b[0;34m]\u001b[0m\u001b[0;34m,\u001b[0m \u001b[0;34m[\u001b[0m\u001b[0;36m1\u001b[0m\u001b[0;34m,\u001b[0m\u001b[0;36m1000\u001b[0m\u001b[0;34m]\u001b[0m\u001b[0;34m)\u001b[0m\u001b[0;34m\u001b[0m\u001b[0;34m\u001b[0m\u001b[0m\n\u001b[0m\u001b[1;32m      3\u001b[0m \u001b[0mmax_weight_constant\u001b[0m \u001b[0;34m=\u001b[0m \u001b[0;36m500\u001b[0m\u001b[0;34m\u001b[0m\u001b[0;34m\u001b[0m\u001b[0m\n",
      "\u001b[0;31mNameError\u001b[0m: name 'gen_knapsack_data' is not defined"
     ]
    }
   ],
   "source": [
    "#Problem Data for Questions 16 & 17  - random weights and values for a knapsack problem - do not change anything in this cell. just run it (Not included in Quiz/Solutions.)\n",
    "values_array, weights_array = gen_knapsack_data(50000, [5, 700], [1,1000])\n",
    "max_weight_constant = 500"
   ]
  },
  {
   "cell_type": "code",
   "execution_count": 0,
   "metadata": {
    "collapsed": false
   },
   "outputs": [
   ],
   "source": [
   ]
  },
  {
   "cell_type": "markdown",
   "metadata": {
    "collapsed": false
   },
   "source": [
    "## **Question 16** <font color=\"magenta\">(2 points)</font>\n",
    "What is the total value?\n",
    "\n",
    "\n",
    "\n",
    "## **Question 17** <font color=\"magenta\">(2 points)</font>\n",
    "\n",
    "How many items were chosen for the knapsack?\n"
   ]
  }
 ],
 "metadata": {
  "kernelspec": {
   "display_name": "Python 3 (system-wide)",
   "language": "python",
   "metadata": {
    "cocalc": {
     "description": "Python 3 programming language",
     "priority": 100,
     "url": "https://www.python.org/"
    }
   },
   "name": "python3",
   "resource_dir": "/ext/jupyter/kernels/python3"
  },
  "language_info": {
   "codemirror_mode": {
    "name": "ipython",
    "version": 3
   },
   "file_extension": ".py",
   "mimetype": "text/x-python",
   "name": "python",
   "nbconvert_exporter": "python",
   "pygments_lexer": "ipython3",
   "version": "3.8.5"
  },
  "toc": {
   "base_numbering": 1,
   "nav_menu": {
   },
   "number_sections": true,
   "sideBar": true,
   "skip_h1_title": false,
   "title_cell": "Table of Contents",
   "title_sidebar": "Contents",
   "toc_cell": false,
   "toc_position": {
    "height": "calc(100% - 180px)",
    "left": "10px",
    "top": "150px",
    "width": "263.082px"
   },
   "toc_section_display": true,
   "toc_window_display": true
  },
  "varInspector": {
   "cols": {
    "lenName": 16,
    "lenType": 16,
    "lenVar": 40
   },
   "kernels_config": {
    "python": {
     "delete_cmd_postfix": "",
     "delete_cmd_prefix": "del ",
     "library": "var_list.py",
     "varRefreshCmd": "print(var_dic_list())"
    },
    "r": {
     "delete_cmd_postfix": ") ",
     "delete_cmd_prefix": "rm(",
     "library": "var_list.r",
     "varRefreshCmd": "cat(var_dic_list()) "
    }
   },
   "types_to_exclude": [
    "module",
    "function",
    "builtin_function_or_method",
    "instance",
    "_Feature"
   ],
   "window_display": false
  }
 },
 "nbformat": 4,
 "nbformat_minor": 4
}