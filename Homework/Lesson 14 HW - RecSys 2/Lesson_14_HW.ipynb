{
 "cells": [
  {
   "cell_type": "code",
   "execution_count": 1,
   "metadata": {
    "code_folding": [
     0
    ],
    "collapsed": false
   },
   "outputs": [
   ],
   "source": [
    "# EXECUTE FIRST\n",
    "\n",
    "# computational imports\n",
    "import numpy as np\n",
    "import pandas as pd\n",
    "pd.set_option('display.html.use_mathjax', False)\n",
    "from sklearn.model_selection import train_test_split\n",
    "from sklearn.metrics import mean_squared_error\n",
    "from sklearn.metrics.pairwise import cosine_similarity\n",
    "from surprise import Reader, Dataset, KNNBasic, NormalPredictor,BaselineOnly,KNNWithMeans,KNNBaseline\n",
    "from surprise import SVD, SVDpp, NMF, SlopeOne, CoClustering\n",
    "from surprise.model_selection import cross_validate\n",
    "from surprise.model_selection import GridSearchCV\n",
    "from surprise import accuracy\n",
    "\n",
    "import random\n",
    "from ast import literal_eval\n",
    "from sklearn.feature_extraction.text import CountVectorizer\n",
    "\n",
    "from sklearn.feature_extraction.text import TfidfVectorizer\n",
    "from sklearn.metrics.pairwise import linear_kernel\n",
    "\n",
    "# plotting imports\n",
    "import matplotlib.pyplot as plt\n",
    "import seaborn as sns\n",
    "sns.set_style(\"darkgrid\")\n",
    "matplotlib.style.use('ggplot')\n",
    "\n",
    "# display imports\n",
    "from IPython.display import display, IFrame\n",
    "from IPython.core.display import HTML"
   ]
  },
  {
   "cell_type": "markdown",
   "metadata": {
    "collapsed": false
   },
   "source": [
    "<font size=18>Lesson 14 Homework: Recommender Systems 2</font>"
   ]
  },
  {
   "cell_type": "markdown",
   "metadata": {
    "collapsed": false
   },
   "source": [
    "# **Question 1** <font color=\"magenta\">(2 points)</font>\n",
    "\n",
    "Which of the following recommenders is based on the user/item ratings? (Check all that apply.)\n",
    "\n",
    "* SVD item-based collaborative filter\n",
    "* KNN user-based collaborative filter\n",
    "* Content recommender\n",
    "* Knowledge-based recommender\n",
    "* Chart\n",
    "\n",
    "# **Question 2** <font color=\"magenta\">(2 points)</font>\n",
    "\n",
    "Which Surprise algorithm reduces the size of the problem space through matrix factorization?\n",
    "\n",
    "* NormalPredictor\n",
    "* KNNBasic\n",
    "* KNNWithMeans\n",
    "* BaselineOnly\n",
    "* SVD\n",
    "* KNNWithZScores"
   ]
  },
  {
   "cell_type": "markdown",
   "metadata": {
    "collapsed": false
   },
   "source": [
    "# Data Exploration\n",
    "(Note: This section is not included in the quiz and is ungraded.)"
   ]
  },
  {
   "cell_type": "markdown",
   "metadata": {
    "collapsed": false
   },
   "source": [
    "The file **restaurant_ratings.csv** (found in the presentation download for this lesson) contains user ratings for various New York City restaurants. You can read a little more about the data at <a href=\"https://www.kaggle.com/popoandrew/restaurant-week-2018-in-nyc?select=restaurant_week_2018_final.csv\">Kaggle</a>. We have modified the data to generate user ratings that match the star columns in this file.\n",
    "\n",
    "Do the following:\n",
    "\n",
    "* read the data into a variable called \"ratings\"\n",
    "* display the first 5 lines of the data (get familiar with the data frame)\n",
    "* find the minimum restaurant rating\n",
    "* find the maximum restaurant rating\n",
    "* adjust the rating scale by shifting up 1 if 0 is included"
   ]
  },
  {
   "cell_type": "code",
   "execution_count": 1,
   "metadata": {
    "collapsed": false
   },
   "outputs": [
   ],
   "source": [
    "#Add your code here"
   ]
  },
  {
   "cell_type": "markdown",
   "metadata": {
    "collapsed": false
   },
   "source": [
    "# **Question 3** <font color=\"magenta\">(2 points)</font>\n",
    "\n",
    "What is the minimum restaurant rating?\n",
    "\n"
   ]
  },
  {
   "cell_type": "code",
   "execution_count": 2,
   "metadata": {
    "collapsed": false
   },
   "outputs": [
   ],
   "source": [
    "#Add your code here"
   ]
  },
  {
   "cell_type": "markdown",
   "metadata": {
    "collapsed": false
   },
   "source": [
    "# **Question 4** <font color=\"magenta\">(2 points)</font>\n",
    "\n",
    "What is the maximum restaurant rating?\n",
    "\n"
   ]
  },
  {
   "cell_type": "code",
   "execution_count": 3,
   "metadata": {
    "collapsed": false
   },
   "outputs": [
   ],
   "source": [
    "#Add your code here"
   ]
  },
  {
   "cell_type": "markdown",
   "metadata": {
    "collapsed": false
   },
   "source": [
    "# **Question 5** <font color=\"magenta\">(2 points)</font>\n",
    "\n",
    "What is the mean restaurant rating for all restaurants (rounded to 2 significant digits)? \n",
    "\n"
   ]
  },
  {
   "cell_type": "code",
   "execution_count": 4,
   "metadata": {
    "collapsed": false
   },
   "outputs": [
   ],
   "source": [
    "#Add your code here"
   ]
  },
  {
   "cell_type": "markdown",
   "metadata": {
    "collapsed": false
   },
   "source": [
    "# **Question 6** <font color=\"magenta\">(2 points)</font>\n",
    "\n",
    "What is the median of the restaurant rating scale? \n",
    "\n"
   ]
  },
  {
   "cell_type": "code",
   "execution_count": 5,
   "metadata": {
    "collapsed": false
   },
   "outputs": [
   ],
   "source": [
    "#Add your code here"
   ]
  },
  {
   "cell_type": "markdown",
   "metadata": {
    "collapsed": false
   },
   "source": [
    "# Train/Test Split and Score Setup\n",
    "(Note: this section is not included in the quiz and is not graded.)\n",
    "\n",
    "We've provided code to you below for a scoring function and to split the data into train and test sets. Use the train and test set generated from this code to answer the next questions. You must not change this code if you want to get the correct answers."
   ]
  },
  {
   "cell_type": "code",
   "execution_count": 7,
   "metadata": {
    "collapsed": false
   },
   "outputs": [
   ],
   "source": [
    "#This section not included in quiz/solutions.\n",
    "\n",
    "#Function to compute the RMSE score obtained on the testing set by a model\n",
    "def score(cf_model, X_test, *args):\n",
    "    \n",
    "    #Construct a list of user-item tuples from the testing dataset\n",
    "    id_pairs = zip(X_test[X_test.columns[0]], X_test[X_test.columns[1]])\n",
    "    \n",
    "    #Predict the rating for every user-item tuple\n",
    "    y_pred = np.array([cf_model(user, item, *args) for (user, item) in id_pairs])\n",
    "    \n",
    "    #Extract the actual ratings given by the users in the test data\n",
    "    y_true = np.array(X_test[X_test.columns[2]])\n",
    "    \n",
    "    #Return the final RMSE score\n",
    "    return mean_squared_error(y_true, y_pred, squared=False)\n",
    "\n",
    "#Assign X as the original ratings dataframe and y as the user_id column of ratings.\n",
    "X = ratings.copy()\n",
    "y = ratings['userID']\n",
    "\n",
    "#Split into training and test datasets, stratified along user_id\n",
    "X_train, X_test, y_train, y_test = train_test_split(X, y, stratify = y, test_size = 0.20, random_state=14)\n",
    "\n"
   ]
  },
  {
   "cell_type": "markdown",
   "metadata": {
    "collapsed": false
   },
   "source": [
    "# **Question 7** <font color=\"magenta\">(2 points)</font>\n",
    "\n",
    "Compute a baseline model that always returns the median of the rating scale (rounded to 2 significant digits). What is the RMSE on this model?\n"
   ]
  },
  {
   "cell_type": "code",
   "execution_count": 6,
   "metadata": {
    "collapsed": false
   },
   "outputs": [
   ],
   "source": [
    "#Add your code here"
   ]
  },
  {
   "cell_type": "markdown",
   "metadata": {
    "collapsed": false
   },
   "source": [
    "# **Question 8** Build a Weighted Mean User-Based Filter (manually graded) <font color=\"magenta\">(4 points)</font>\n",
    "\n",
    "From data in the file **restaurant_rating.csv**, build a ratings matrix from the data frame of users, restaurants, and ratings and build a user-based collaborative filtering model that weights mean rank using cosine similarity among users."
   ]
  },
  {
   "cell_type": "code",
   "execution_count": 9,
   "metadata": {
    "collapsed": false
   },
   "outputs": [
   ],
   "source": [
    "# Add your code here"
   ]
  },
  {
   "cell_type": "markdown",
   "metadata": {
    "collapsed": false
   },
   "source": [
    "# **Question 9** <font color=\"magenta\">2 points</font>\n",
    "\n",
    "What is the RMSE (rounded to 2 significant digits) of the Weighted Mean algorithm? \n",
    "\n",
    "\n",
    "\n",
    "\n"
   ]
  },
  {
   "cell_type": "code",
   "execution_count": 7,
   "metadata": {
    "collapsed": false,
    "scrolled": true
   },
   "outputs": [
   ],
   "source": [
    "#Add your code here"
   ]
  },
  {
   "cell_type": "markdown",
   "metadata": {
    "collapsed": false
   },
   "source": [
    "# **Question 10** User-Based SVD - Hyperparameter tuning (Manually Graded) <font color=\"magenta\">(4 points)</font>\n",
    "From data in the file **restaurant_ratings.csv**, use the *surprise* library in Python to build an <a href=\"https://surprise.readthedocs.io/en/stable/matrix_factorization.html#surprise.prediction_algorithms.matrix_factorization.SVD\">SVD</a> user-based collaborative filtering model for the restaurant ratings. Use gridsearch to tune the hyperparameters, reserving 15% of the data to get an unbiased estimate of the accuracy. For the grid, use the following options:\n",
    "\n",
    "* 'n_epochs': [15, 20, 25] (The number of iterations of the Stochastic Gradient Descent minimization procedure.)\n",
    "* 'lr_all': [.005, .025, .001] (The learning rate.)\n",
    "* 'reg_all': [.01, .02, .05] (The penalty for complex models.)\n",
    "\n",
    "Additionally, use the following:\n",
    "\n",
    "* 3 folds for cross validation\n",
    "* a seed of 14\n",
    "\n",
    "\n",
    "Use the example from the lesson and be sure to set the seed in the appropriate place. **Note:** this code will take several minutes to run.\n",
    "\n",
    "\n"
   ]
  },
  {
   "cell_type": "code",
   "execution_count": 8,
   "metadata": {
    "collapsed": false
   },
   "outputs": [
   ],
   "source": [
    "#Add your code here"
   ]
  },
  {
   "cell_type": "markdown",
   "metadata": {
    "collapsed": false
   },
   "source": [
    "# **Question 11** <font color=\"magenta\">(2 points)</font>\n",
    "\n",
    "What is the **biased** accuracy (rounded to 2 significant digits) of the algorithm? \n",
    "\n",
    "\n",
    "\n"
   ]
  },
  {
   "cell_type": "code",
   "execution_count": 9,
   "metadata": {
    "collapsed": false
   },
   "outputs": [
   ],
   "source": [
    "# Add your code here"
   ]
  },
  {
   "cell_type": "markdown",
   "metadata": {
    "collapsed": false
   },
   "source": [
    "# **Question 12** <font color=\"magenta\">(2 points)</font>\n",
    "\n",
    "What is the **unbiased** accuracy (rounded to 2 significant digits) of the algorithm? \n",
    "\n",
    "\n"
   ]
  },
  {
   "cell_type": "code",
   "execution_count": 10,
   "metadata": {
    "collapsed": false
   },
   "outputs": [
   ],
   "source": [
    "#Add your code here"
   ]
  },
  {
   "cell_type": "markdown",
   "metadata": {
    "collapsed": false
   },
   "source": [
    "# **Question 13** <font color=\"magenta\">(2 points)</font>\n",
    "\n",
    "What is the number of iterations of the stochastic gradient descent ('n_epochs') value chosen by the grid search? \n",
    "\n"
   ]
  },
  {
   "cell_type": "code",
   "execution_count": 11,
   "metadata": {
    "collapsed": false
   },
   "outputs": [
   ],
   "source": [
    "#Add your code here\n"
   ]
  },
  {
   "cell_type": "markdown",
   "metadata": {
    "collapsed": false
   },
   "source": [
    "# **Question 14** <font color=\"magenta\">(2 points)</font>\n",
    "\n",
    "What is the learning rate ('lr_all') chosen by the grid search? \n",
    "\n"
   ]
  },
  {
   "cell_type": "code",
   "execution_count": 12,
   "metadata": {
    "collapsed": false
   },
   "outputs": [
   ],
   "source": [
    "#Add your code here"
   ]
  },
  {
   "cell_type": "markdown",
   "metadata": {
    "collapsed": false
   },
   "source": [
    "# **Question 15** <font color=\"magenta\">(2 points)</font>\n",
    "\n",
    "What is the regularization ('reg_all') chosen by the grid search? \n"
   ]
  },
  {
   "cell_type": "code",
   "execution_count": 13,
   "metadata": {
    "collapsed": false
   },
   "outputs": [
   ],
   "source": [
    "#Add your code here"
   ]
  },
  {
   "cell_type": "markdown",
   "metadata": {
    "collapsed": false
   },
   "source": [
    "# **Question 16** <font color=\"magenta\">(2 points)</font>\n",
    "\n",
    "Now that we know what our best parameters should be, we need to train our SVD model on all the available data. Do the following:\n",
    "* set the seeds for reproducibility\n",
    "* reset the data.raw_ratings to all of the ratings OR reload the data from the dataframe\n",
    "* use the build_full_trainset() method to build a full trainset\n",
    "* set up an SVD algorithm using the best parameters\n",
    "* fit the data to the trainset\n",
    "* predict the estimated rating for user 1061 and restaurant 347\n",
    "\n",
    "What is the predicted estimated rating (rounded to 2 digits) for **user 1061** and **restaurant 347**?\n",
    "\n",
    "\n",
    "\n"
   ]
  },
  {
   "cell_type": "code",
   "execution_count": 14,
   "metadata": {
    "collapsed": false
   },
   "outputs": [
   ],
   "source": [
    "#Add your code here"
   ]
  },
  {
   "cell_type": "markdown",
   "metadata": {
    "collapsed": false
   },
   "source": [
    "# Hybrid Filter Setup \n",
    "(Note: This section is not included in the quiz/solutions.)\n",
    "\n",
    "From data in the files **restaurant_ratings.csv** and **restaurants.csv** build a recommender system that is a hybrid of a metadata content-based recommender and the SVD user-based collaborative filter that you just trained.  \n",
    "\n",
    "To set up your hybrid filter:\n",
    "\n",
    "* read in the restaurants.csv into a variable called rest\n",
    "* review the data in the dataframe (Note that we have pre-cleaned the data for you, including using TextBlob to extract just the relevant descriptors from the description. Not all restaurants have a description.)\n",
    "* make a soup from the following columns, which are all simple strings (**Hint: the soup for the first item in the geoplaces dataframe should be: 'Contemporary American Average_price rustic airy adorable classic most distinguished uncommon innovative American proud only world-class week.IMPORTANT special welcome'**):\n",
    "    - restaurant_type\n",
    "    - price_range\n",
    "    - ambiance\n",
    "    - descriptors\n",
    "* Instantiate a CountVectorizer with no stopwords. (We shouldn't have much in the way of stopwords, since it's all keywords.) \n",
    "* Use the provided fetchSimilarity function to get a countVectorizer similarity matrix using the soup column. (**Hint: the similarity at [0,2] should be 0.2849014411490949.**)\n"
   ]
  },
  {
   "cell_type": "code",
   "execution_count": 18,
   "metadata": {
    "collapsed": false
   },
   "outputs": [
   ],
   "source": [
    "# Not Included in Quiz/Solutions\n",
    "def fetchSimilarityMatrix(df, soupCol, vectorizer, vectorType='Tfidf'):\n",
    "    '''\n",
    "    Parameters\n",
    "    df: the dataframe containing a soup column to tranform\n",
    "    soupCol: The string title of the soup column\n",
    "    vectorizer: an initialized vectorizer, with all pre-processing you desire\n",
    "    vectorType: 'Tfidf' or 'Count' - representing the type of vectorizer you used.\n",
    "\n",
    "    Returns\n",
    "    Sparse Similarity Matrix\n",
    "    '''\n",
    "\n",
    "    # make sure the soup has no NaN\n",
    "    df[soupCol] = df[soupCol].fillna('')\n",
    "    nmatrix = vectorizer.fit_transform(df[soupCol])\n",
    "\n",
    "    #apply the appropriate vectorizer\n",
    "    if(vectorType=='Tfidf'):\n",
    "        print('Using Linear Kernel (Tfidf)')\n",
    "        sim =linear_kernel(nmatrix, nmatrix)\n",
    "    else:\n",
    "        print('Using Cosine_similarity')\n",
    "        sim = cosine_similarity(nmatrix, nmatrix)\n",
    "    return(sim)\n",
    "\n",
    "def content_recommender(df, seed, seedCol, sim_matrix,  topN=5): \n",
    "    #get the indices based off the seedCol\n",
    "    indices = pd.Series(df.index, index=df[seedCol]).drop_duplicates()\n",
    "    \n",
    "    # Obtain the index of the item that matches our seed\n",
    "    idx = indices[seed]\n",
    "    \n",
    "    # Get the pairwsie similarity scores of all items and convert to tuples\n",
    "    sim_scores = list(enumerate(sim_matrix[idx]))\n",
    "    \n",
    "    #delete the item that was passed in\n",
    "    del sim_scores[idx]\n",
    "    \n",
    "    # Sort the items based on the similarity scores\n",
    "    sim_scores = sorted(sim_scores, key=lambda x: x[1], reverse=True)\n",
    "    \n",
    "    # Get the scores of the top-n most similar items.\n",
    "    sim_scores = sim_scores[:topN]\n",
    "    \n",
    "    # Get the item indices\n",
    "    movie_indices = [i[0] for i in sim_scores]\n",
    "    \n",
    "    snip = df.iloc[movie_indices].copy()\n",
    "    snip['sim_score'] = [i[1] for i in sim_scores]\n",
    "    \n",
    "    # Return the topN most similar items\n",
    "    return snip"
   ]
  },
  {
   "cell_type": "markdown",
   "metadata": {
    "collapsed": false
   },
   "source": [
    "# **Question 17** Use The Content Recommender <font color=\"magenta\">(2 points)</font>\n",
    "\n",
    "Using the provided content recommender function and the code you've prepared, get the top 5 recommendations for 'Tao Uptown'. (Hint: the top restaurant for 'Becco' should be 'Scampi'.)\n",
    "\n",
    "Which if these restaurants is the top recommendation?\n",
    "\n",
    "* Haru Sushi - Amsterdam Ave\n",
    "* Bistrot Leo\n",
    "* Rice & Gold\n",
    "* Zengo - NYC\n",
    "* Restaurant Nippon\n"
   ]
  },
  {
   "cell_type": "code",
   "execution_count": 15,
   "metadata": {
    "collapsed": false
   },
   "outputs": [
   ],
   "source": [
    "#Your code here"
   ]
  },
  {
   "cell_type": "markdown",
   "metadata": {
    "collapsed": false
   },
   "source": [
    "# **Question 18** - Build the Hybrid Function (manually graded) <font color=\"magenta\">(4 points)</font>\n",
    "\n",
    "Some times recommendation designers are less focused on recommending things that have the highest rating, and more focused on recommending things that will have an acceptable rating, but are very similar to items the user has previously liked. For the homework, we're going to build a hybrid recommender that predicts the ratings a single user would give to all of the restaurants, limits that rating to a specified minimum, and then returns the restaurants that are most similar (content-wise). We'll follow the example used in the lesson in which we will pre-fetch the content recommendations, and pass those pre-fetched recommendations into the hybrid function. \n",
    "\n",
    "The full list of parameters needed will be:\n",
    "* user: the userid for which we are making predictions\n",
    "* contentRecs: the dataframe that contains the content recommendations, with similarity scores (this is returned for you in the content_recommender function we provided)\n",
    "* algo: the trained algorithm to use for colaborative filtering\n",
    "* predCol: the column in your contentRecs that can be used for predictions\n",
    "* minRating: the minimum rating we'll accept (estimated ratings should be >= to this number)\n",
    "* N: the final number of recommendations to return\n",
    "\n",
    "Your function should return a dataframe that contains all of the information that was in your contentRecs plus the estimated rating for the \"N\" number of rows."
   ]
  },
  {
   "cell_type": "code",
   "execution_count": 36,
   "metadata": {
    "collapsed": false
   },
   "outputs": [
   ],
   "source": [
    "#Your code here"
   ]
  },
  {
   "cell_type": "markdown",
   "metadata": {
    "collapsed": false
   },
   "source": [
    "# **Question 19** - Calling the Hybrid Function <font color=\"magenta\">(2 points)</font>\n",
    "\n",
    "Use your hybrid function to find recommendations for **user 1235** and restaurant '**Lido**'. \n",
    "* Remember, you will need to call your content_recommender function first to get the similarity scores. (Hint: there are 348 total restaurants.) \n",
    "* Use the SVD algorithm you trained in Question 10 to predict ratings. \n",
    "* The minimum allowed rating is 4.5. \n",
    "* Return the top 3 recommendations. \n",
    "\n",
    "**Which answer shows the top 3 recommendations, in order?**\n",
    "\n",
    "*Hint: If make recommendations for user 1061, and 'Schilling' and everything else the same, the top recommendation should be Edi and The Wolf.*\n",
    "\n",
    "* Naples 45 Ristorante E Pizzeria, Obica Mozzarella Bar Pizza e Cucina, La Pecora Bianca - NoMad\n",
    "* La Pecora Bianca - NoMad, La Pecora Bianca - Midtown, Becco\n",
    "* Becco, La Pecora Bianca - Midtown, Stella 34 Trattoria\n",
    "* La Pecora Bianca - NoMad, La Pecora Bianca - Midtown, Stella 34 Trattoria\n",
    "* Esca, Lincoln Ristorante, La Pecora Bianca - Midtown\n",
    "\n",
    "\n"
   ]
  },
  {
   "cell_type": "code",
   "execution_count": 16,
   "metadata": {
    "collapsed": false
   },
   "outputs": [
   ],
   "source": [
    "#Add your code here"
   ]
  },
  {
   "cell_type": "markdown",
   "metadata": {
    "collapsed": false
   },
   "source": [
    "# **Question 20** KNNWithMeans item-based collaborative filter (manually graded)<font color=\"magenta\">(4 points)</font>\n",
    "\n",
    "Train a <a href=\"https://surprise.readthedocs.io/en/stable/knn_inspired.html?highlight=knnwith#surprise.prediction_algorithms.knns.KNNWithMeans\">KNNWithMeans Surprise collaborative filter</a>. We ran a gridsearch already and learned that the best k for this is 3, and we get the best results using an item-based similarity measure. You should:\n",
    "\n",
    "* Set seeds of 14\n",
    "* Read in the data and set up your reader\n",
    "* Set up a data object\n",
    "* Build a full trainset\n",
    "* set up a KNNWithMeans algorithm using the following parameters:\n",
    "    * k of 3 \n",
    "    * set the <a href=\"https://surprise.readthedocs.io/en/stable/prediction_algorithms.html?highlight=user_based#similarity-measure-configuration\">sim_options 'user_based' to False</a> (this switches it to an item-based similarity measure, instead of a user-based).\n",
    "* fit the algorithm using the full trainset\n",
    "* predict the rating for **user 1000** and **restaurant 300**\n",
    "\n",
    "**Hint: the predicted rating for user 1000 and restaurant 300 should be 4.32**\n",
    "\n",
    "\n",
    "\n"
   ]
  },
  {
   "cell_type": "code",
   "execution_count": 17,
   "metadata": {
    "collapsed": false
   },
   "outputs": [
   ],
   "source": [
    "#Add your code here\n"
   ]
  },
  {
   "cell_type": "markdown",
   "metadata": {
    "collapsed": false
   },
   "source": [
    "## **Question 21** Hybrid with KNN <font color=\"magenta\">(2 points)</font>\n",
    "\n",
    "Use your hybrid function again with  **user 1235** and restaurant '**Lido**'. \n",
    "\n",
    "* Remember, you will need to call your content_recommender function first to get the similarity scores. (Hint: there are 348 total restaurants.) \n",
    "* Use the KNN algorithm you just trained predict ratings. \n",
    "* The minimum allowed rating is 4.5. \n",
    "* Return the top 3 recommendations. \n",
    "\n",
    "\n",
    "**Hint: If you call your function with user 1001 and Feast, the top recommendation should be Tuome.**\n",
    "\n",
    "What are the top 3 restaurants, in order?\n",
    "\n",
    "* Bar Primi, Naples 45 Ristorante E Pizzeria, La Pecora Bianca - NoMad\n",
    "* Il Mulino New York - Uptown, Naples 45 Ristorante E Pizzeria, Bar Primi\n",
    "* .Tarallucci e Vino Upper West Side, Il Mulino New York - Uptown, La Pecora Bianca - NoMad\n",
    "* Naples 45 Ristorante E Pizzeria, La Pecora Bianca - NoMad, Il Mulino New York - Uptown\n",
    "* La Pecora Bianca - Midtown, La Pecora Bianca - NoMad, Naples 45 Ristorante E Pizzeria\n"
   ]
  },
  {
   "cell_type": "code",
   "execution_count": 18,
   "metadata": {
    "collapsed": false
   },
   "outputs": [
   ],
   "source": [
    "#Your code here"
   ]
  }
 ],
 "metadata": {
  "kernelspec": {
   "display_name": "Python 3 (system-wide)",
   "language": "python",
   "metadata": {
    "cocalc": {
     "description": "Python 3 programming language",
     "priority": 100,
     "url": "https://www.python.org/"
    }
   },
   "name": "python3",
   "resource_dir": "/ext/jupyter/kernels/python3"
  },
  "language_info": {
   "codemirror_mode": {
    "name": "ipython",
    "version": 3
   },
   "file_extension": ".py",
   "mimetype": "text/x-python",
   "name": "python",
   "nbconvert_exporter": "python",
   "pygments_lexer": "ipython3",
   "version": "3.8.5"
  },
  "toc": {
   "base_numbering": 1,
   "nav_menu": {
   },
   "number_sections": true,
   "sideBar": true,
   "skip_h1_title": false,
   "title_cell": "Table of Contents",
   "title_sidebar": "Contents",
   "toc_cell": false,
   "toc_position": {
    "height": "calc(100% - 180px)",
    "left": "10px",
    "top": "150px",
    "width": "234.363px"
   },
   "toc_section_display": true,
   "toc_window_display": false
  },
  "varInspector": {
   "cols": {
    "lenName": 16,
    "lenType": 16,
    "lenVar": 40
   },
   "kernels_config": {
    "python": {
     "delete_cmd_postfix": "",
     "delete_cmd_prefix": "del ",
     "library": "var_list.py",
     "varRefreshCmd": "print(var_dic_list())"
    },
    "r": {
     "delete_cmd_postfix": ") ",
     "delete_cmd_prefix": "rm(",
     "library": "var_list.r",
     "varRefreshCmd": "cat(var_dic_list()) "
    }
   },
   "types_to_exclude": [
    "module",
    "function",
    "builtin_function_or_method",
    "instance",
    "_Feature"
   ],
   "window_display": false
  }
 },
 "nbformat": 4,
 "nbformat_minor": 4
}