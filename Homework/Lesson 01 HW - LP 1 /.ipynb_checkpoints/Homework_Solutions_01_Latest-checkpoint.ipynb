{
 "cells": [
  {
   "cell_type": "code",
   "execution_count": 1,
   "metadata": {
    "code_folding": [
     0
    ]
   },
   "outputs": [],
   "source": [
    "# execute to import notebook styling for tables and width etc.\n",
    "from IPython.core.display import HTML\n",
    "import urllib.request\n",
    "response = urllib.request.urlopen('https://raw.githubusercontent.com/DataScienceUWL/DS775v2/master/ds755.css')\n",
    "HTML(response.read().decode(\"utf-8\"));"
   ]
  },
  {
   "cell_type": "markdown",
   "metadata": {},
   "source": [
    "<font size=18>Lesson 01 Homework</font>"
   ]
  },
  {
   "cell_type": "markdown",
   "metadata": {
    "heading_collapsed": true
   },
   "source": [
    "# LP Assumptions Multiple Choice Question"
   ]
  },
  {
   "cell_type": "markdown",
   "metadata": {
    "hidden": true
   },
   "source": [
    "<font color = \"blue\"> *** 2 points -  answer in cell below *** (don't delete this cell) </font>"
   ]
  },
  {
   "cell_type": "markdown",
   "metadata": {
    "hidden": true
   },
   "source": [
    "a. a feasible solution"
   ]
  },
  {
   "cell_type": "markdown",
   "metadata": {
    "heading_collapsed": true
   },
   "source": [
    "# Unbounded Feasible Region"
   ]
  },
  {
   "cell_type": "markdown",
   "metadata": {
    "hidden": true
   },
   "source": [
    "<font color = \"blue\"> *** 2 points -  answer in cell below *** (don't delete this cell) </font>"
   ]
  },
  {
   "cell_type": "markdown",
   "metadata": {
    "hidden": true
   },
   "source": [
    "False."
   ]
  },
  {
   "cell_type": "markdown",
   "metadata": {
    "heading_collapsed": true
   },
   "source": [
    "# LP Multiple Choice Question"
   ]
  },
  {
   "cell_type": "markdown",
   "metadata": {
    "hidden": true
   },
   "source": [
    "<font color = \"blue\"> *** 2 points -  answer in cell below *** (don't delete this cell) </font>"
   ]
  },
  {
   "cell_type": "markdown",
   "metadata": {
    "hidden": true
   },
   "source": [
    "b. Independence assumption"
   ]
  },
  {
   "cell_type": "markdown",
   "metadata": {
    "heading_collapsed": true
   },
   "source": [
    "# Common LP Type"
   ]
  },
  {
   "cell_type": "markdown",
   "metadata": {
    "hidden": true
   },
   "source": [
    "<font color = \"blue\"> *** 2 points -  answer in cell below *** (don't delete this cell) </font>"
   ]
  },
  {
   "cell_type": "markdown",
   "metadata": {
    "hidden": true
   },
   "source": [
    "True."
   ]
  },
  {
   "cell_type": "markdown",
   "metadata": {
    "heading_collapsed": true
   },
   "source": [
    "# Feasibility Question"
   ]
  },
  {
   "cell_type": "markdown",
   "metadata": {
    "hidden": true
   },
   "source": [
    "<font color = \"blue\"> *** 2 points -  answer in cell below *** (don't delete this cell) </font>"
   ]
  },
  {
   "cell_type": "markdown",
   "metadata": {
    "hidden": true
   },
   "source": [
    "d. an optimal solution"
   ]
  },
  {
   "cell_type": "markdown",
   "metadata": {
    "heading_collapsed": true
   },
   "source": [
    "# Identifying Violations of LP Assumptions"
   ]
  },
  {
   "cell_type": "markdown",
   "metadata": {
    "hidden": true
   },
   "source": [
    "<font color = \"blue\"> *** 2 points -  answer in cell below *** (don't delete this cell) </font>"
   ]
  },
  {
   "cell_type": "markdown",
   "metadata": {
    "hidden": true
   },
   "source": [
    "(a) **Additivity** is violated by the term $x_1 x_2$ in constraint 3 and the **certainty** assumption is violated because the exact value of $b_2$ is not known."
   ]
  },
  {
   "cell_type": "markdown",
   "metadata": {
    "hidden": true
   },
   "source": [
    "<font color = \"blue\"> *** 2 points -  answer in cell below *** (don't delete this cell) </font>"
   ]
  },
  {
   "cell_type": "markdown",
   "metadata": {
    "hidden": true
   },
   "source": [
    "(b) The $(x_1 + 2x_2)^2$ in the objective function violates both the **proportionality** and **additivity** assumptions and the unknown $k$ in the first constraint violates the **certainty** assumption."
   ]
  },
  {
   "cell_type": "markdown",
   "metadata": {
    "hidden": true
   },
   "source": [
    "<font color = \"blue\"> *** 2 points -  answer in cell below *** (don't delete this cell) </font>"
   ]
  },
  {
   "cell_type": "markdown",
   "metadata": {
    "hidden": true
   },
   "source": [
    "(c) The $-10$ in the objective function violates the **proportionality** assumption and the **divisibility** assumption is violated because $x$ can only take on positive integers."
   ]
  },
  {
   "cell_type": "markdown",
   "metadata": {
    "heading_collapsed": true
   },
   "source": [
    "# Textbook Problem 3.1-10"
   ]
  },
  {
   "cell_type": "markdown",
   "metadata": {
    "hidden": true
   },
   "source": [
    "<font color = \"blue\"> *** 2 points -  answer in cell below *** (don't delete this cell) </font>"
   ]
  },
  {
   "cell_type": "markdown",
   "metadata": {
    "hidden": true
   },
   "source": [
    "(a)  Maximize $P = 0.88 H + 0.33 B$\n",
    "\n",
    "subject to \n",
    "\n",
    "$\n",
    "\\begin{array}{rcrcr}\n",
    " & & 0.1 B & \\leq & 200 \\\\\n",
    "0.25 H & &  & \\leq & 800 \\\\\n",
    " 3 H & + & 2B & \\leq & 12000\n",
    "\\end{array}\n",
    "$\n",
    "\n",
    "$H,B \\geq 0$"
   ]
  },
  {
   "cell_type": "markdown",
   "metadata": {
    "hidden": true
   },
   "source": [
    "<font color = \"blue\"> *** 2 points -  answer in cell below *** (don't delete this cell) </font>"
   ]
  },
  {
   "cell_type": "markdown",
   "metadata": {
    "hidden": true
   },
   "source": [
    "(b) Optimal solution $(B^*,H^*) = (3200,1200)$ and $P^* = 3212$.  From PHPSimplex:\n",
    "\n",
    "<img src=\"images/screen-solution3_1-10.png\" width=\"640\" height=\"350\">"
   ]
  },
  {
   "cell_type": "markdown",
   "metadata": {
    "heading_collapsed": true
   },
   "source": [
    "# Textbook Problem 3.2-2"
   ]
  },
  {
   "cell_type": "markdown",
   "metadata": {
    "hidden": true
   },
   "source": [
    "<font color = \"blue\"> *** 2 points -  answer in cell below *** (don't delete this cell) </font>"
   ]
  },
  {
   "cell_type": "markdown",
   "metadata": {
    "hidden": true
   },
   "source": [
    "(a) True (e.g. maximize $z = -x_1 + 4 x_2$)"
   ]
  },
  {
   "cell_type": "markdown",
   "metadata": {
    "hidden": true
   },
   "source": [
    "<font color = \"blue\"> *** 2 points -  answer in cell below *** (don't delete this cell) </font>"
   ]
  },
  {
   "cell_type": "markdown",
   "metadata": {
    "hidden": true
   },
   "source": [
    "(b) True (e.g. maximize $z = -x_1 + 3 x_2$)"
   ]
  },
  {
   "cell_type": "markdown",
   "metadata": {
    "hidden": true
   },
   "source": [
    "<font color = \"blue\"> *** 2 points -  answer in cell below *** (don't delete this cell) </font>"
   ]
  },
  {
   "cell_type": "markdown",
   "metadata": {
    "hidden": true
   },
   "source": [
    "(c) False (e.g. maximize $z = -x_1 - x_2$)"
   ]
  },
  {
   "cell_type": "markdown",
   "metadata": {
    "heading_collapsed": true
   },
   "source": [
    "# Textbook Problem 3.2-6"
   ]
  },
  {
   "cell_type": "markdown",
   "metadata": {
    "hidden": true
   },
   "source": [
    "<font color = \"blue\"> *** 2 points -  answer in cell below *** (don't delete this cell) </font>"
   ]
  },
  {
   "cell_type": "markdown",
   "metadata": {
    "hidden": true
   },
   "source": [
    "(a) Graph the lines corresponding to the constraint equations and\n",
    "  see that the region is unbounded: \n",
    "  \n",
    "<img src=\"images/screen-solution7a.png\" width=\"240\" height=\"70\">"
   ]
  },
  {
   "cell_type": "markdown",
   "metadata": {
    "hidden": true
   },
   "source": [
    "<font color = \"blue\"> *** 2 points -  answer in cell below *** (don't delete this cell) </font>"
   ]
  },
  {
   "cell_type": "markdown",
   "metadata": {
    "hidden": true
   },
   "source": [
    "(b) Yes.  Optimal solution: $(x_1^*,x_2^*) = (0,10)$ and $Z^*=10$. "
   ]
  },
  {
   "cell_type": "markdown",
   "metadata": {
    "hidden": true
   },
   "source": [
    "<font color = \"blue\"> *** 2 points -  answer in cell below *** (don't delete this cell) </font>"
   ]
  },
  {
   "cell_type": "markdown",
   "metadata": {
    "hidden": true
   },
   "source": [
    "(c) No.  The objective function value rises as the objective line is\n",
    "  slid to the right and since this can be done forever, there is no\n",
    "  optimal solution. \n",
    "\n",
    "<img src=\"images/screen-solution7c.png\" width=\"240\" height=\"70\">"
   ]
  },
  {
   "cell_type": "markdown",
   "metadata": {
    "hidden": true
   },
   "source": [
    "<font color = \"blue\"> *** 2 points -  answer in cell below *** (don't delete this cell) </font>"
   ]
  },
  {
   "cell_type": "markdown",
   "metadata": {
    "hidden": true
   },
   "source": [
    "(d) No, if there is no optimal solution even though there are\n",
    "  feasible solutions, it means that the objective value can be made\n",
    "  arbitrarily large.  Such a case may arise if the data of the problem\n",
    "  are not accurately determined.  The objective coefficients may be\n",
    "  chosen incorrectly or one or more of the constraints might have been ignored."
   ]
  },
  {
   "cell_type": "markdown",
   "metadata": {
    "heading_collapsed": true
   },
   "source": [
    "# Textbook Problem 3.4-15"
   ]
  },
  {
   "cell_type": "markdown",
   "metadata": {
    "hidden": true
   },
   "source": [
    "<font color = \"blue\"> *** 2 points -  answer in cell below *** (don't delete this cell) </font>"
   ]
  },
  {
   "cell_type": "markdown",
   "metadata": {
    "hidden": true
   },
   "source": [
    "<img src=\"images/screen-solution5a.png\" width=\"640\" height=\"350\">\n",
    "\n",
    "This is a big problem with many variables which can make it a\n",
    "challenge to set up.  One approach is to introduce a decision variable\n",
    "for each of the worker - day combinations where the worker is\n",
    "available on that day.  We call this version 2 in the solutions\n",
    "below.  An alternate approach is to allow decision variables for all\n",
    "worker and day combinations and add extra upperbound constraints of\n",
    "zero for the worker - day combinations where the worker is not\n",
    "available."
   ]
  },
  {
   "cell_type": "markdown",
   "metadata": {
    "hidden": true
   },
   "source": [
    "<font color = \"blue\">(b) *** 6 points -  answer in cell below *** (don't delete this cell) </font>"
   ]
  },
  {
   "cell_type": "code",
   "execution_count": null,
   "metadata": {
    "hidden": true
   },
   "outputs": [],
   "source": [
    "# Pyomo solution for HW1.4(Problem 3.4-15)\n",
    "\n",
    "from pyomo.environ import *\n",
    "\n",
    "# Concret Model\n",
    "model = ConcreteModel(name = \"Operators\")\n",
    "\n",
    "# Decision Variables\n",
    "model.x = Var( ['xKCmon','xKCwed','xKCfri','xDHtue','xDHth','xHBmon','xHBtue',\n",
    "               'xHBwed','xHBfri','xSCmon','xSCtue','xSCwed','xSCfri', 'xKSmon',\n",
    "               'xKSwed','xKSth','xNKth','xNKfri'], \n",
    "              domain = NonNegativeReals)\n",
    "\n",
    "# Objective \n",
    "model.obj = Objective( expr = 25 * (model.x['xKCmon'] + model.x['xKCwed'] + model.x['xKCfri']) +\n",
    "                      26 * (model.x['xDHtue'] + model.x['xDHth']) + \n",
    "                      24 * (model.x['xHBmon'] + model.x['xHBtue'] + model.x['xHBwed'] + model.x['xHBfri']) +\n",
    "                      23 * (model.x['xSCmon'] + model.x['xSCtue'] + model.x['xSCwed'] + model.x['xSCfri']) +\n",
    "                      28 * (model.x['xKSmon'] + model.x['xKSwed'] + model.x['xKSth']) +\n",
    "                      30 * (model.x['xNKth'] + model.x['xNKfri']), sense = minimize)\n",
    "\n",
    "# Constraints\n",
    "model.Constraint1 = Constraint( expr = model.x['xKCmon'] <= 6 )\n",
    "model.Constraint2 = Constraint( expr = model.x['xKCwed'] <= 6 )\n",
    "model.Constraint3 = Constraint( expr = model.x['xKCfri'] <= 6 )\n",
    "model.Constraint4 = Constraint( expr = model.x['xDHtue'] <= 6 )\n",
    "model.Constraint5 = Constraint( expr = model.x['xDHth'] <= 6 )\n",
    "model.Constraint6 = Constraint( expr = model.x['xHBmon'] <= 4 )\n",
    "model.Constraint7 = Constraint( expr = model.x['xHBtue'] <= 8 )\n",
    "model.Constraint8 = Constraint( expr = model.x['xHBwed'] <= 4 )\n",
    "model.Constraint9 = Constraint( expr = model.x['xHBfri'] <= 4 )\n",
    "model.Constraint10 = Constraint( expr = model.x['xSCmon'] <= 5 )\n",
    "model.Constraint11 = Constraint( expr = model.x['xSCtue'] <= 5 )\n",
    "model.Constraint12 = Constraint( expr = model.x['xSCwed'] <= 5 )\n",
    "model.Constraint13 = Constraint( expr = model.x['xSCfri'] <= 5 )\n",
    "model.Constraint14 = Constraint( expr = model.x['xKSmon'] <= 3 )\n",
    "model.Constraint15 = Constraint( expr = model.x['xKSwed'] <= 3 )\n",
    "model.Constraint16 = Constraint( expr = model.x['xKSth'] <= 8 )\n",
    "model.Constraint17 = Constraint( expr = model.x['xNKth'] <= 6 )\n",
    "model.Constraint18 = Constraint( expr = model.x['xNKfri'] <= 2 )\n",
    "model.Constraint19 = Constraint( expr = model.x['xKCmon'] + model.x['xKCwed'] +\n",
    "                                model.x['xKCfri'] >= 8 )\n",
    "model.Constraint20 = Constraint( expr = model.x['xDHtue'] + model.x['xDHth'] >= 8 ) \n",
    "model.Constraint21 = Constraint( expr = model.x['xHBmon'] + model.x['xHBtue'] + \n",
    "                                model.x['xHBwed'] + model.x['xHBfri'] >= 8 )\n",
    "model.Constraint22 = Constraint( expr = model.x['xSCmon'] + model.x['xSCtue'] + \n",
    "                                model.x['xSCwed'] + model.x['xSCfri'] >= 8 )\n",
    "model.Constraint23 = Constraint( expr = model.x['xKSmon'] + model.x['xKSwed'] + \n",
    "                                model.x['xKSth'] >= 7 )\n",
    "model.Constraint24 = Constraint( expr = model.x['xNKth'] + model.x['xNKfri'] >= 7 )\n",
    "model.Constraint25 = Constraint( expr = model.x['xKCmon'] + model.x['xHBmon'] +\n",
    "                                model.x['xSCmon'] + model.x['xKSmon'] == 14 )\n",
    "model.Constraint26 = Constraint( expr = model.x['xDHtue'] + model.x['xHBtue'] + \n",
    "                                model.x['xSCtue']  == 14 ) \n",
    "model.Constraint27 = Constraint( expr = model.x['xKCwed'] + model.x['xHBwed'] + \n",
    "                                model.x['xSCwed'] + model.x['xKSwed'] == 14 )\n",
    "model.Constraint28 = Constraint( expr = model.x['xDHth'] + model.x['xKSth'] + \n",
    "                                model.x['xNKth'] == 14 )\n",
    "model.Constraint29 = Constraint( expr = model.x['xKCfri'] + model.x['xHBfri'] + \n",
    "                                model.x['xSCfri'] + model.x['xNKfri'] == 14 )\n",
    "\n",
    "\n",
    "# Solve\n",
    "solver = SolverFactory('glpk')\n",
    "solver.solve(model)\n",
    "\n",
    "# remove the comment symbol to see the pyomo display of results\n",
    "# display(model)\n",
    "\n",
    "# print a shorter summary of relevant results\n",
    "import babel.numbers as numbers   # needed to display as currency\n",
    "print(\"Total Cost = \", numbers.format_currency(model.obj(),'USD', locale='en_US'))\n",
    "print(\"KC Mon: \",model.x[\"xKCmon\"](), \"hrs.\")\n",
    "print(\"KC Wed: \",model.x[\"xKCwed\"](), \"hrs.\")\n",
    "print(\"KC Fri: \",model.x[\"xKCfri\"](), \"hrs.\")\n",
    "print(\"DH Tue: \",model.x[\"xDHtue\"](), \"hrs.\")\n",
    "print(\"DH Th:  \",model.x[\"xDHth\"](), \"hrs.\")\n",
    "print(\"HB Mon: \",model.x[\"xHBmon\"](), \"hrs.\")\n",
    "print(\"HB Tue: \",model.x[\"xHBtue\"](), \"hrs.\")\n",
    "print(\"HB Wed: \",model.x[\"xHBwed\"](), \"hrs.\")\n",
    "print(\"HB Fri: \",model.x[\"xHBfri\"](), \"hrs.\")\n",
    "print(\"SC Mon: \",model.x[\"xSCmon\"](), \"hrs.\")\n",
    "print(\"SC Tue: \",model.x[\"xSCtue\"](), \"hrs.\")\n",
    "print(\"SC Wed: \",model.x[\"xSCwed\"](), \"hrs.\")\n",
    "print(\"SC Fri: \",model.x[\"xSCfri\"](), \"hrs.\")\n",
    "print(\"KS Mon: \",model.x[\"xKSmon\"](), \"hrs.\")\n",
    "print(\"KS Wed: \",model.x[\"xKSwed\"](), \"hrs.\")\n",
    "print(\"KS Th:  \",model.x[\"xKSth\"](), \"hrs.\")\n",
    "print(\"NK Th:  \",model.x[\"xNKth\"](), \"hrs.\")\n",
    "print(\"NK Fri: \",model.x[\"xNKfri\"](), \"hrs.\")\n"
   ]
  },
  {
   "cell_type": "markdown",
   "metadata": {
    "heading_collapsed": true
   },
   "source": [
    "# Textbook Problem 3.5-3 (a,c,d)"
   ]
  },
  {
   "cell_type": "markdown",
   "metadata": {
    "hidden": true
   },
   "source": [
    "<font color = \"blue\"> *** 2 points -  answer in cell below *** (don't delete this cell) </font>"
   ]
  },
  {
   "cell_type": "markdown",
   "metadata": {
    "hidden": true
   },
   "source": [
    "(a)  Model formulation:\n",
    "<img src=\"images/screen-solution6a.png\" width=\"340\" height=\"150\">"
   ]
  },
  {
   "cell_type": "markdown",
   "metadata": {
    "hidden": true
   },
   "source": [
    "<font color = \"blue\"> *** 2 points -  answer in cell below *** (don't delete this cell) </font>"
   ]
  },
  {
   "cell_type": "markdown",
   "metadata": {
    "hidden": true
   },
   "source": [
    "(c) Use Python to evaluate the objective function at some values of your choice within the feasible region.  See the cell below for an example"
   ]
  },
  {
   "cell_type": "code",
   "execution_count": 2,
   "metadata": {
    "code_folding": [
     0
    ],
    "hidden": true
   },
   "outputs": [
    {
     "name": "stdout",
     "output_type": "stream",
     "text": [
      "Guess 1\n",
      "Constraint 1: 10.00 under 40?\n",
      "Constraint 2: 11.00 under 40?\n",
      "Profit for guess $12,000.00\n",
      "\n",
      "\n",
      "Guess 2\n",
      "Constraint 1: 32.00 under 40?\n",
      "Constraint 2: 38.00 under 40?\n",
      "Profit for guess $41,000.00\n",
      "\n",
      "\n",
      "Guess 3\n",
      "Constraint 1: 33.00 under 40?\n",
      "Constraint 2: 38.00 under 40?\n",
      "Profit for guess $46,000.00\n",
      "\n",
      "\n"
     ]
    }
   ],
   "source": [
    "# part c\n",
    "\n",
    "import babel.numbers as numbers   # needed to display as currency\n",
    "\n",
    "def guess_lp(A,B,C):\n",
    "    Z = 50*A + 40*B + 30*C\n",
    "    ct1 = 0.02*A + 0.03*B + 0.05*C\n",
    "    ct2 = 0.05*A + 0.02*B + 0.04*C    \n",
    "    print(\"Constraint 1: {:3.2f} under 40?\".format(ct1))\n",
    "    print(\"Constraint 2: {:3.2f} under 40?\".format(ct2))\n",
    "    print(\"Profit for guess\", numbers.format_currency(Z,'USD', locale='en_US'))\n",
    "    print(\"\\n\")\n",
    "\n",
    "\n",
    "print('Guess 1')\n",
    "guess_lp(100,100,100)\n",
    "\n",
    "print('Guess 2')\n",
    "guess_lp(400,300,300)\n",
    "\n",
    "print('Guess 3')\n",
    "guess_lp(400,500,200)"
   ]
  },
  {
   "cell_type": "markdown",
   "metadata": {
    "hidden": true
   },
   "source": [
    "<font color = \"blue\"> *** 4 points -  answer in cell below *** (don't delete this cell) </font>"
   ]
  },
  {
   "cell_type": "code",
   "execution_count": 4,
   "metadata": {
    "hidden": true
   },
   "outputs": [
    {
     "name": "stdout",
     "output_type": "stream",
     "text": [
      "Total Profit =  $61,818.18\n",
      "Number of parts for A: 363.64\n",
      "Number of parts for B: 1090.91\n",
      "Number of parts for C: 0.00\n"
     ]
    }
   ],
   "source": [
    "# part d\n",
    "from pyomo.environ import *\n",
    "\n",
    "# Concret Model\n",
    "model = ConcreteModel(name=\"Bilco\")\n",
    "\n",
    "# Decision Variables\n",
    "model.x = Var(['A', 'B', 'C'], domain=NonNegativeReals)\n",
    "\n",
    "# Objective\n",
    "model.obj = Objective(expr=50 * model.x['A'] + 40 * model.x['B'] +\n",
    "                      30 * model.x['C'],\n",
    "                      sense=maximize)\n",
    "\n",
    "# Constraints\n",
    "model.Constraint1 = Constraint(\n",
    "    expr=0.02 * model.x['A'] + 0.03 * model.x['B'] + 0.05 * model.x['C'] <= 40)\n",
    "model.Constraint2 = Constraint(\n",
    "    expr=0.05 * model.x['A'] + 0.02 * model.x['B'] + 0.04 * model.x['C'] <= 40)\n",
    "\n",
    "# Solve\n",
    "solver = SolverFactory('glpk')\n",
    "solver.solve(model)\n",
    "\n",
    "# remove the comment symbol to see the pyomo display of results\n",
    "# display(model)\n",
    "\n",
    "# print a shorter summary of relevant results\n",
    "print(\"Total Profit = \",\n",
    "      numbers.format_currency(model.obj(), 'USD', locale='en_US'))\n",
    "print(\"Number of parts for A: {:.2f}\".format(model.x[\"A\"]()))\n",
    "print(\"Number of parts for B: {:.2f}\".format(model.x[\"B\"]()))\n",
    "print(\"Number of parts for C: {:.2f}\".format(model.x[\"C\"]()))"
   ]
  }
 ],
 "metadata": {
  "kernelspec": {
   "display_name": "Python 3",
   "language": "python",
   "name": "python3"
  },
  "language_info": {
   "codemirror_mode": {
    "name": "ipython",
    "version": 3
   },
   "file_extension": ".py",
   "mimetype": "text/x-python",
   "name": "python",
   "nbconvert_exporter": "python",
   "pygments_lexer": "ipython3",
   "version": "3.7.3"
  },
  "toc": {
   "base_numbering": 1,
   "nav_menu": {},
   "number_sections": true,
   "sideBar": true,
   "skip_h1_title": false,
   "title_cell": "Table of Contents",
   "title_sidebar": "Contents",
   "toc_cell": false,
   "toc_position": {
    "height": "calc(100% - 180px)",
    "left": "10px",
    "top": "150px",
    "width": "270.66px"
   },
   "toc_section_display": true,
   "toc_window_display": false
  },
  "varInspector": {
   "cols": {
    "lenName": 16,
    "lenType": 16,
    "lenVar": 40
   },
   "kernels_config": {
    "python": {
     "delete_cmd_postfix": "",
     "delete_cmd_prefix": "del ",
     "library": "var_list.py",
     "varRefreshCmd": "print(var_dic_list())"
    },
    "r": {
     "delete_cmd_postfix": ") ",
     "delete_cmd_prefix": "rm(",
     "library": "var_list.r",
     "varRefreshCmd": "cat(var_dic_list()) "
    }
   },
   "types_to_exclude": [
    "module",
    "function",
    "builtin_function_or_method",
    "instance",
    "_Feature"
   ],
   "window_display": false
  }
 },
 "nbformat": 4,
 "nbformat_minor": 2
}
