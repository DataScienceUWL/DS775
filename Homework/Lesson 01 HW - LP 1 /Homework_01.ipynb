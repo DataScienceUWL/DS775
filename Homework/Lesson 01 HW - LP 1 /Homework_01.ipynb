{
 "cells": [
  {
   "cell_type": "markdown",
   "metadata": {
    "collapsed": false
   },
   "source": [
    "# Lesson 01 Homework\n",
    "\n",
    "### When asking questions about homework in Piazza please use a tag in the subject line like HW1.3 to refer to Homework 1, Question 3.  So the subject line might be **HW1.3 question**.  Note there are no spaces in \"HW1.3\".  This really helps keep Piazza easily searchable for everyone!\n",
    "\n",
    "For full credit, all code in this notebook must be both executed in this notebook and copied to the Canvas quiz where indicated.  We realize this is a bit tedious but it expedites the process of grading and giving feedback.  We're working on streamlining the process!\n"
   ]
  },
  {
   "cell_type": "markdown",
   "metadata": {
    "collapsed": false
   },
   "source": [
    "<body style=\"background-color:aquamarine;\">\n",
    "   <h3>Hints for 1-3</h3>\n",
    "</body>\n",
    "These are questions that can easily be answered from the readings. <br><br>"
   ]
  },
  {
   "cell_type": "markdown",
   "metadata": {
    "collapsed": false
   },
   "source": [
    "## Question 1 <font color=\"magenta\">(2 points, auto)</font>\n",
    "\n",
    "A solution for which all constraints are satisfied is\n",
    "\n",
    "* a feasible solution\n",
    "\n",
    "* an objective function\n",
    "\n",
    "* standard form\n",
    "\n",
    "* sensitivity analysis\n",
    "\n",
    "* the certainty assumption\n",
    "\n"
   ]
  },
  {
   "cell_type": "markdown",
   "metadata": {
    "collapsed": false
   },
   "source": [
    "## Question 2 <font color=\"magenta\">(2 points, auto)</font>\n",
    "\n",
    "Which of the following is NOT an assumption of linear programming?\n",
    "\n",
    "* Proportionality assumption\n",
    "\n",
    "* Independence assumption\n",
    "\n",
    "* Additivity assumption\n",
    "\n",
    "* Divisibility assumption\n",
    "\n",
    "* Certainty assumption"
   ]
  },
  {
   "cell_type": "markdown",
   "metadata": {
    "collapsed": false
   },
   "source": [
    "## Question 3 <font color=\"magenta\">(2 points, auto)</font>\n",
    "\n",
    "A feasible solution that has the most favorable value of the objective function is called\n",
    "\n",
    "a. the proportionality assumption\n",
    "\n",
    "b. a functional constraint\n",
    "\n",
    "c. the feasible region\n",
    "\n",
    "d. an optimal solution\n",
    "\n",
    "e. sensitivity analysis"
   ]
  },
  {
   "cell_type": "markdown",
   "metadata": {
    "collapsed": false
   },
   "source": [
    "<body style=\"background-color:aquamarine;\">\n",
    "<style type=\"text/css\"> p.space {line-height:200%;} </style>\n",
    "<h3>Hints for 4-6</h3>\n",
    "We made the video using a slightly different definition of Proportionality than the book.  <br>\n",
    "For the homework answers, you should say that an additive constant violates the Proportionality Assumption.  <br>\n",
    "That is $Z = 3x+2y$ is OK, but $Z = 3x+2y+5$ violates the proportionality assumption.<br><br>\n",
    "Note, each of these models can violate more than one assumption. <br><br>\n",
    "</body>\n",
    "\n"
   ]
  },
  {
   "cell_type": "markdown",
   "metadata": {
    "collapsed": false
   },
   "source": [
    "**Note for Questions 4-6:** In the lesson video we say that constant terms do not violate the proportionality assumption, but the book disagrees with us.  According to the book $Z = 3x + 2 y$ is OK, but $Z = 3x + 2y + 5$ is not OK.  This is a subtle, and unimportant, difference.  For the purposes of the homework we will say that **additive constants violate the proportionality assumption.**\n",
    "\n",
    "\n",
    "## Question 4 <font color=\"magenta\">(2 points, auto)</font>\n",
    "\n",
    "Minimize $Z = 3x_1 + 0.3x_2,$\n",
    "\n",
    "subject to \n",
    "\n",
    "$\n",
    "\\begin{array}{rcrcr}\n",
    "5 x_1 & + &  3 x_2 & \\geq & 9 \\\\\n",
    "12 x_1 & * & x_2 & \\geq & b_2\n",
    "\\end{array}\n",
    "$\n",
    "\n",
    "and $x_1 \\geq 0, x_2 \\geq 0,$\n",
    "\n",
    "$5 \\leq b_2 \\leq 10.$\n",
    "\n",
    "Select all the linear programming assumptions that are **not** met here:\n",
    "\n",
    "* Proportionality assumption\n",
    "\n",
    "* Additivity assumption\n",
    "\n",
    "* Divisibility assumption\n",
    "\n",
    "* Certainty assumption"
   ]
  },
  {
   "cell_type": "markdown",
   "metadata": {
    "collapsed": false
   },
   "source": [
    "## Question 5 <font color=\"magenta\">(2 points, auto)</font>\n",
    "\n",
    "Maximize $Z = (x_1 + 2x_2)^2,$\n",
    "\n",
    "subject to \n",
    "\n",
    "$\n",
    "\\begin{array}{rcrcr}\n",
    " &  &  k x_2 & \\leq & 70 \\\\\n",
    " x_1 & &  & \\leq & 80 \\\\\n",
    " x_1 & + & x_2 & \\leq & 100\n",
    "\\end{array}\n",
    "$\n",
    "\n",
    "and $x_1 \\geq 0, x_2 \\geq 0$\n",
    "\n",
    "$k \\geq 0$\n",
    "\n",
    "\n",
    "Select all the linear programming assumptions that are **not** met here:\n",
    "\n",
    "* Proportionality assumption\n",
    "\n",
    "* Additivity assumption\n",
    "\n",
    "* Divisibility assumption\n",
    "\n",
    "* Certainty assumption\n",
    "\n",
    "Hint:  it may be easier to think about if you multiply out the terms in the objective function."
   ]
  },
  {
   "cell_type": "markdown",
   "metadata": {
    "collapsed": false
   },
   "source": [
    "## Question 6 <font color=\"magenta\">(2 points, auto)</font>\n",
    "\n",
    "Maximize $Z = 25 x + 30 y - 10$\n",
    "\n",
    "subject to \n",
    "\n",
    "$\n",
    "\\begin{array}{rcrcr}\n",
    "0.02 x & + & 0.01 y & \\leq & 1 \\\\\n",
    "0.5 x & + & 0.5 y & \\leq & 4 \\\\\n",
    "0.01 x & + & 0.02 y & \\leq & 1.5\n",
    "\\end{array}\n",
    "$\n",
    "\n",
    "$x = 1,2,3, \\ldots $\n",
    "\n",
    "$y \\geq 0$ \n",
    "\n",
    "Select all the linear programming assumptions that are **not** met here:\n",
    "\n",
    "* Proportionality assumption\n",
    "\n",
    "* Additivity assumption\n",
    "\n",
    "* Divisibility assumption\n",
    "\n",
    "* Certainty assumption"
   ]
  },
  {
   "cell_type": "markdown",
   "metadata": {
    "collapsed": false
   },
   "source": [
    "<body style=\"background-color:aquamarine;\">\n",
    "<style type=\"text/css\"> p.space {line-height:200%;} </style>\n",
    "<h3>Hints for 7</h3>\n",
    "Yes, you can find solutions to this online and ChatGPT knows this one, but that's hardly the point.  <br>\n",
    "We want you to learn how to formulate word problems as models. <br>\n",
    "If you're having trouble getting started, try setting up a \"resource table\" like in the <br>\n",
    "Wyndor example on page 28 of the textbook. <br><br>\n",
    "</body>\n",
    "\n"
   ]
  },
  {
   "cell_type": "markdown",
   "metadata": {
    "collapsed": false
   },
   "source": [
    "## Question 7 <font color=\"magenta\">(2 points, manual)</font>\n",
    "\n",
    "Weenies and Buns is a food processing plant which manufactures hot dogs and hot dog buns. They grind their own flour for the hot dog buns at a maximum rate of 200 pounds per week. Each hot dog bun requires 0.1 pound of flour. They currently have a contract with Pigland, Inc., which specifies that a delivery of 800 pounds of pork product is delivered every Monday. Each hot dog requires 0.25 pound of pork product. All the other ingredients in the hot dogs and hot dog buns are in plentiful supply. Finally, the labor force at Weenies and Buns consists of 5 employees working full time (40 hours per week each). Each hot dog requires 3 minutes of labor, and each hot dog bun requires 2 minutes of labor. Each hot dog yields a profit of \\$0.88, and each bun yields a profit of \\$0.33. Weenies and Buns would like to know how many hot dogs and how many hot dog buns they should produce each week to achieve the highest possible profit.\n",
    "\n",
    "Formulate a complete linear program to answer this question including the objective function and all constraints.  You can type out your answer \\(you can even use LaTeX in Canvas\\) or include a nicely cropped picture of your model in the Rich Text Editor in Canvas.  You can include your work here as well, but it's not required.\n",
    "\n"
   ]
  },
  {
   "cell_type": "markdown",
   "metadata": {
    "collapsed": false
   },
   "source": [
    "## Question 8 <font color=\"magenta\">(2 points, manual)</font>\n",
    "\n",
    "Solve the linear program for Question 7 using [Desmos.](https://www.desmos.com/) In your Canvas quiz include both the coordinates of the optimal solution and a picture of your graphical solution \\(can be inserted with the rich text editor.\\).  You can also include the anwer and picture in the cell below, but it's not required.\n",
    "\n",
    "**Hint:**  Set the slider for the objective function to go from 0 to 4000 with step 73.\n",
    "\n"
   ]
  },
  {
   "cell_type": "markdown",
   "metadata": {
    "collapsed": false
   },
   "source": [
   ]
  },
  {
   "cell_type": "markdown",
   "metadata": {
    "collapsed": false
   },
   "source": [
    "<body style=\"background-color:aquamarine;\">\n",
    "<style type=\"text/css\"> p.space {line-height:200%;} </style>\n",
    "<h3>Hints for 9-11</h3>\n",
    "To get some insight here, you might try setting up the problem in Desmos so that you can <br>\n",
    "experiment with different objective functions.  This <a href=\"https://www.youtube.com/watch?v=oIesAAjbnjE&ab_channel=InteractMaths\">Youtube video</a> <br>\n",
    "demonstrates how to find equations from the picture.  Note, in the video the feasible region is unshaded. <br><br>\n",
    "If you want to approach these problems algebraically consider the optimality test: <br>If a CPF solution has no adjacent CPF solutions that are better (as measured by Z), then it must be an optimal solution.  <br> See also the explanation of this idea in Question 9. <br><br>\n",
    "</body>\n",
    "\n"
   ]
  },
  {
   "cell_type": "markdown",
   "metadata": {
    "collapsed": false
   },
   "source": [
    "The value of Z at (3,3) must be larger than the value of Z at (6,3)\n",
    "\n",
    "So at (3,3)  = (x,y) we get Z = a*3 + 3 = 3a + 3\n",
    "and at (6,3) we get Z = a*6 + 3 = 6a + 3\n",
    "\n",
    "we need Z at (3,3) > Z at (6,3)\n",
    "3a +3 > 6a + 3\n",
    "3a > 6a\n",
    "3a - 3a > 6a - 3a\n",
    "0 > 3a\n",
    "a < 0\n",
    "\n",
    "we need Z at (3,3) > Z at (0,2)"
   ]
  },
  {
   "cell_type": "markdown",
   "metadata": {
    "collapsed": false
   },
   "source": [
    "## Question 9 <font color=\"magenta\">(2 point, auto)</font>\n",
    "\n",
    "<img src=\"images/screen-problem4.png\" alt=\"Problem\" width=\"440\">\n",
    "\n",
    "For the objective function $Z = a x + y$ to have a maximum at \\(3,3\\) we need $a > -1/3$.  We also require $a$ to be smaller than what number?  \n",
    "\n",
    "Note: you can approach this using the \"Optimality test\" on page 95. The value of $Z$ at \\(3,3\\) must be larger than the value of $Z$ at \\(0,2\\) and at \\(6,3\\) so start by writing down inequalities for these comparisons and solving them.\n",
    "\n",
    "at 3,3 the value of Z = a * 3 + 3 = 3a + 3\n",
    "at 6,3 the value of Z = a * 6 + 3 = 6a + 3\n",
    "\n",
    "now we want the value at (3,3) > at (6,3)\n",
    "3a + 3 > 6a + 3\n",
    "\n"
   ]
  },
  {
   "cell_type": "markdown",
   "metadata": {
    "collapsed": false
   },
   "source": [
    "## Question 10 <font color=\"magenta\">(2 points, auto)</font>\n",
    "\n",
    "<img src=\"images/screen-problem4.png\" alt=\"Problem\" width=\"440\">\n",
    "\n",
    "For the objective function $Z = a x + y$ to have infinitely many maxima on the edge between (0,2) and (3,3) what is the value of $a$ (to three decimal places)?\n",
    "\n",
    "**Hint**:  If there are infinitely many maxima along that edge then what is the relationship between the values of $Z$ at the two endpoints?"
   ]
  },
  {
   "cell_type": "markdown",
   "metadata": {
    "collapsed": false
   },
   "source": [
    "## Question 11 <font color=\"magenta\">(2 points, auto)</font>\n",
    "\n",
    "<img src=\"images/screen-problem4.png\" alt=\"Problem\" width=\"440\">\n",
    "\n",
    "For the objective function $Z = a x + b y$ to have a unique maximum at (0,0) we require:\n",
    "\n",
    "* $a > 0, b > 0$\n",
    "* $a > 0, b < 0$\n",
    "* $a < 0, b > 0$\n",
    "* $a < 0, b < 0$"
   ]
  },
  {
   "cell_type": "markdown",
   "metadata": {
    "collapsed": false
   },
   "source": [
    "<body style=\"background-color:aquamarine;\">\n",
    "<style type=\"text/css\"> p.space {line-height:200%;} </style>\n",
    "<h3>Hints for 12-13</h3>\n",
    "If the feasible region is unbounded there can be an absolute max (min) but there doesn't have to be one.  <br> It depends on how the objective is oriented with respect to the unbounded directions in the region.  <br><br> It may be useful to use Desmos to investigate. <br><br>\n",
    "</body>"
   ]
  },
  {
   "cell_type": "markdown",
   "metadata": {
    "collapsed": false
   },
   "source": [
    "## Question 12 <font color=\"magenta\">(3 points, manual)</font>\n",
    "\n",
    "Suppose that the following constraints have been provided for a linear\n",
    "programming model.\n",
    "\n",
    "$\n",
    "\\begin{array}{rcrcr}\n",
    "-x_1 & + &  3 x_2 & \\leq & 30 \\\\\n",
    "-3 x_1 & + &   x_2 & \\leq & 30 \n",
    "\\end{array}\n",
    "$\n",
    "\n",
    "and $x_1 \\geq 0, x_2 \\geq 0.$\n",
    "\n",
    "If the objective is to maximize $Z =-x_1+x_2,$ does the model\n",
    "  have an optimal solution? If so, find it. If not, explain why not."
   ]
  },
  {
   "cell_type": "markdown",
   "metadata": {
    "collapsed": false
   },
   "source": [
    "## Question 13 <font color=\"magenta\">(3 points, manual)</font>\n",
    "\n",
    "Suppose that the following constraints have been provided for a linear\n",
    "programming model.\n",
    "\n",
    "$\n",
    "\\begin{array}{rcrcr}\n",
    "-x_1 & + &  3 x_2 & \\leq & 30 \\\\\n",
    "-3 x_1 & + &   x_2 & \\leq & 30 \n",
    "\\end{array}\n",
    "$\n",
    "\n",
    "and $x_1 \\geq 0, x_2 \\geq 0.$\n",
    "\n",
    "If the objective is to maximize $Z =x_1-x_2,$ does the model\n",
    "  have an optimal solution? If so, find it. If not, explain why not."
   ]
  },
  {
   "cell_type": "markdown",
   "metadata": {
    "collapsed": false
   },
   "source": [
    "<body style=\"background-color:aquamarine;\">\n",
    "<style type=\"text/css\"> p.space {line-height:200%;} </style>\n",
    "<h3>Hints for 14-17</h3>\n",
    "If you can get the problem data into a \"resource table\" format like in Question 14, then you can use the generic format on pages 33-34 of the text. <br><br>\n",
    "</body>"
   ]
  },
  {
   "cell_type": "markdown",
   "metadata": {
    "collapsed": false
   },
   "source": [
    "## Question 14 <font color=\"magenta\">(4 points, manual)</font>\n",
    "\n",
    "Ed Butler is the production manager for the Bilco Corporation, which\n",
    "produces three types of spare parts for automobiles. The manufacture\n",
    "of each part requires processing on each of two machines, with the\n",
    "following processing times (in hours): \n",
    "\n",
    "<img src=\"images/screen-problem6a.png\" width=\"440\">\n",
    "\n",
    "Each machine is available 40 hours per month. Each part manufactured\n",
    "will yield a unit profit as follows:\n",
    "\n",
    "<img src=\"images/screen-problem6b.png\" width=\"440\">\n",
    "\n",
    "Ed wants to determine the mix of spare parts to produce in order to\n",
    "maximize total profit.\n",
    "\n",
    "Formulate a complete linear program to answer this question including the objective function and all constraints.  You can type out your answer (you can even use LaTeX in Canvas) or include a nicely cropped picture of your model in the Rich Text Editor in Canvas.\n",
    "\n",
    "**Hint:**  there should three decision variables not six."
   ]
  },
  {
   "cell_type": "markdown",
   "metadata": {
    "collapsed": false
   },
   "source": [
    "## Question 15 <font color=\"magenta\">(4 points, manual)</font>\n",
    "\n",
    "Include complete python / Pyomo code to solve this problem.  Include all necessary code and imports so that if the cell were executed it would display a nicely formatted optimal solution.  Use real decision variables so that fractional parts are allowed.\n",
    "\n",
    "Note: for all code submissions, to get full credit the code must be available in CoCalc, run without error, and include output on CoCalc (no unexecuted code).  Code that doesn't run or if output isn't included then your solution will earn at most half credit."
   ]
  },
  {
   "cell_type": "code",
   "execution_count": 0,
   "metadata": {
    "collapsed": false,
    "jupyter": {
     "outputs_hidden": false
    }
   },
   "outputs": [
   ],
   "source": [
   ]
  },
  {
   "cell_type": "markdown",
   "metadata": {
    "collapsed": false
   },
   "source": [
    "## Question 16 <font color=\"magenta\">(1 points, auto)</font>\n",
    "\n",
    "What is the maximum profit in dollars?  Your answer should be accurate to two decimal places."
   ]
  },
  {
   "cell_type": "markdown",
   "metadata": {
    "collapsed": false
   },
   "source": [
    "## Question 17 <font color=\"magenta\">(1 points, auto)</font>\n",
    "\n",
    "How many of part B should be produced?  Round your answer to the nearest integer value."
   ]
  },
  {
   "cell_type": "markdown",
   "metadata": {
    "collapsed": false
   },
   "source": [
    "<body style=\"background-color:aquamarine;\">\n",
    "<style type=\"text/css\"> p.space {line-height:200%;} </style>\n",
    "<h3>Hints for 18-19</h3>\n",
    "You'll want to represent the number of hours worked by each employee on each day they're available by a decision variable, e.g KC_Mon, KC_Wed, etc. for a total of 18 decision variables.  In addition to nonnegative constaints, there will be 18 upper bounds for the individual variables.  There should one constraint for each of the five days (think column sums in a table like below), and one constraint for each employee (thing row sums).  <br><br> We'll see less tedious ways to set up this problem in the next couple of weeks. <br><br>\n",
    "</body>"
   ]
  },
  {
   "cell_type": "markdown",
   "metadata": {
    "collapsed": false
   },
   "source": [
    "## Question 18 <font color=\"magenta\"> (10 points, manual)</font>\n",
    "\n",
    "Oxbridge University maintains a powerful mainframe computer\n",
    "  for research use by its faculty, Ph.D. students, and research\n",
    "  associates. During all working hours, an operator must be available\n",
    "  to operate and maintain the computer, as well as to perform some\n",
    "  programming services. Beryl Ingram, the director of the computer\n",
    "  facility, oversees the operation.\n",
    "\n",
    "  It is now the beginning of the\n",
    "  fall semester, and Beryl is confronted with the problem of assigning\n",
    "  different working hours to her operators. Because all the operators\n",
    "  are currently enrolled in the university, they are available to work\n",
    "  only a limited number of hours\n",
    "  each day, as shown in the following table:\n",
    "  \n",
    "  <img src=\"images/operator_availability.png\" width=\"800\">\n",
    "  \n",
    "  There are six operators (four undergraduate students and two\n",
    "  graduate students). They all have different wage rates because of\n",
    "  differences in their experience with computers and in their pro-\n",
    "  gramming ability. The above table shows their wage rates, along with\n",
    "  the maximum number of hours that each can work each day.  \n",
    "\n",
    "  Each\n",
    "  operator is guaranteed a certain minimum number of hours per week\n",
    "  that will maintain an adequate knowledge of the operation. This\n",
    "  level is set arbitrarily at 8 hours per week for the undergraduate\n",
    "  students (K. C., D. H., H. B., and S. C.) and 7 hours per week for\n",
    "  the graduate students (K. S. and N. K.).\n",
    "\n",
    "  The computer facility is to be open for operation from 8 A.M. to 10\n",
    "  P.M. Monday through Friday with exactly one operator on duty during\n",
    "  these hours. On Saturdays and Sundays, the computer is to be\n",
    "  operated by other staff.  Because of a tight budget, Beryl has to\n",
    "  minimize cost. She wishes to determine the number of hours she\n",
    "  should assign to each operator on each day.\n",
    "\n",
    "  Use Pyomo to solve this problem. Your solution should include all necessary code and inputs, and it should produce formatted output. Note: be sure to use real variables, but your answers will work out to be integers.\n",
    "  \n",
    "  **Note:** If you want to see more examples for this kind of problem, you could review the beginning of Lesson 3 about \"Transportation Problems\".  The kind of code we write in Lesson 3 is more abstract and generalizable than the code in this lesson, but we'll get into that next week.  To think about this as a transportation problem think of the \"operators\" as the suppliers.  Each operator supplies hours of labor.  The demanders are the days of the week.  Each day of the week has a demand of exactly 14 hours of labor.  The companies job is to figure out how much labor to \"transport\" from each operator to each day of the week subject to the number of hours the operator is available on that day.  Transportation problems are introduced in the textbook in Chapter 9 beginning on page 318."
   ]
  },
  {
   "cell_type": "code",
   "execution_count": 0,
   "metadata": {
    "collapsed": false,
    "jupyter": {
     "outputs_hidden": false
    }
   },
   "outputs": [
   ],
   "source": [
   ]
  },
  {
   "cell_type": "markdown",
   "metadata": {
    "collapsed": false
   },
   "source": [
    "## Question 19 <font color=\"magenta\"> (2 points, auto)</font>\n",
    "What is the minimum total cost of labor?  Enter your answer as an integer."
   ]
  },
  {
   "cell_type": "code",
   "execution_count": 0,
   "metadata": {
    "collapsed": false,
    "jupyter": {
     "outputs_hidden": false
    }
   },
   "outputs": [
   ],
   "source": [
   ]
  }
 ],
 "metadata": {
  "kernelspec": {
   "argv": [
    "/usr/bin/python3",
    "-m",
    "ipykernel",
    "--HistoryManager.enabled=False",
    "--matplotlib=inline",
    "-c",
    "%config InlineBackend.figure_formats = set(['retina'])\nimport matplotlib; matplotlib.rcParams['figure.figsize'] = (12, 7)",
    "-f",
    "{connection_file}"
   ],
   "display_name": "Python 3 (system-wide)",
   "env": {
   },
   "language": "python",
   "metadata": {
    "cocalc": {
     "description": "Python 3 programming language",
     "priority": 100,
     "url": "https://www.python.org/"
    }
   },
   "name": "python3",
   "resource_dir": "/ext/jupyter/kernels/python3"
  },
  "language_info": {
   "codemirror_mode": {
    "name": "ipython",
    "version": 3
   },
   "file_extension": ".py",
   "mimetype": "text/x-python",
   "name": "python",
   "nbconvert_exporter": "python",
   "pygments_lexer": "ipython3",
   "version": "3.11.1"
  },
  "toc": {
   "base_numbering": 1,
   "nav_menu": {
   },
   "number_sections": true,
   "sideBar": true,
   "skip_h1_title": false,
   "title_cell": "Table of Contents",
   "title_sidebar": "Contents",
   "toc_cell": false,
   "toc_position": {
    "height": "calc(100% - 180px)",
    "left": "10px",
    "top": "150px",
    "width": "270.66px"
   },
   "toc_section_display": true,
   "toc_window_display": false
  },
  "varInspector": {
   "cols": {
    "lenName": 16,
    "lenType": 16,
    "lenVar": 40
   },
   "kernels_config": {
    "python": {
     "delete_cmd_postfix": "",
     "delete_cmd_prefix": "del ",
     "library": "var_list.py",
     "varRefreshCmd": "print(var_dic_list())"
    },
    "r": {
     "delete_cmd_postfix": ") ",
     "delete_cmd_prefix": "rm(",
     "library": "var_list.r",
     "varRefreshCmd": "cat(var_dic_list()) "
    }
   },
   "types_to_exclude": [
    "module",
    "function",
    "builtin_function_or_method",
    "instance",
    "_Feature"
   ],
   "window_display": false
  }
 },
 "nbformat": 4,
 "nbformat_minor": 4
}