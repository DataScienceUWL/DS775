{
 "cells": [
  {
   "cell_type": "markdown",
   "metadata": {
    "collapsed": false
   },
   "source": [
    "<font size=18>Lesson 10 Homework - Simulation</font>"
   ]
  },
  {
   "cell_type": "markdown",
   "metadata": {
    "collapsed": false
   },
   "source": [
    "## **Question 1** - Textbook Problem 20.1-2 (Manually Graded) <font color=\"magenta\">(5 points)</font>\n",
    "\n",
    "The weather can be considered a stochastic system, because it evolves in a probabilistic manner from one day to the next. Suppose for a certain location that this probabilistic series satisfies the following description:\n",
    "\n",
    "The probability of rain tomorrow is 0.6 if it is raining today. The probability of its being clear (no rain) tomorrow is 0.8 if it is clear today.\n",
    "\n",
    "We've modified the problem a bit from the text book:  use uniformly distributed random numbers to simulate a sequence of 1000 days starting from a clear day.  Your code should output the the approximate probability of a rainy day based on your simulation results.\n",
    "\n",
    "**Hints:**\n",
    "* use a for loop\n",
    "* start with a clear day\n",
    "* inside the for loop, if today is clear and rand() < .8, then tomorrow is clear, otherwise tomorrow is rainy\n",
    "* count the number of rainy days/simulation size to estimate the probability of rain\n",
    "* round to 2 digits to compare your answer to the answer choices\n",
    "* even with a random seed, there could be some variance. Choose the closest answer to what you got.  \n",
    "* You can increase the number of simulated days to be more certain of your answer."
   ]
  },
  {
   "cell_type": "code",
   "execution_count": 3,
   "metadata": {
    "collapsed": false
   },
   "outputs": [
   ],
   "source": [
    "# retain this seed\n",
    "np.random.seed(10)\n",
    "\n"
   ]
  },
  {
   "cell_type": "markdown",
   "metadata": {
    "collapsed": false
   },
   "source": [
    "## **Question 2** <font color=\"magenta\">(2 points)</font>\n",
    "\n",
    "What is the approximate probability of rain?\n",
    "\n",
    "* .78\n",
    "* .33\n",
    "* .59\n",
    "* .01\n",
    "* .99"
   ]
  },
  {
   "cell_type": "markdown",
   "metadata": {
    "collapsed": false
   },
   "source": [
    "## **Question 3** - Textbook Problem 20.6-7 (Manually Graded) <font color=\"magenta\">(5 points)</font>\n",
    "\n",
    "Now that Jennifer is in middle school, her parents have decided that they really must start saving for her college education. They have \\$10,000 to invest right now. Furthermore, they plan to save another \\$4,000 each year until Jennifer starts college five years from now. They plan to split their investment evenly between a stock fund and a bond fund. Historically, the stock fund has had an average annual return of 8 percent with a standard deviation of 6 percent. The bond fund has had an average annual return of 4 percent with a standard deviation of 3 percent. (Assume a normal distribution for both.)\n",
    "\n",
    "Assume that the initial investment (\\$10,000) is made right now (year 0) and is split evenly between the two funds (i.e., \\$5,000 in each fund). The returns of each fund are allowed to accumulate (i.e., are reinvested) in the same fund and no redistribution will be done before Jennifer starts college. Furthermore, four additional investments of \\$4,000 will be made and split evenly between both funds (\\$2,000 each) at the end of year 1, year 2, year 3, and year 4, plus another \\$4,000 of savings will be available at the end of year 5, just in time for Jennifer to begin college. Use a 1000-trial simulation to answer questions 4-7.\n",
    "\n",
    "**Hints:**\n",
    "* Generate new interest rates randomly each year.\n",
    "* Store the total amount after each simulation (stocks + bonds).\n",
    "* To determine probability of the fund being at least 35k, count the number of times the fund reached 35k or more and divide by sim size.\n",
    "* Don't forget to add the $2000 to each of the stocks and bonds at the end of year 5.\n",
    "* Easiest implementation is a for loop. \n",
    "* Remember to round at the end, as per each question's instructions.\n",
    "* You can increase the number of simulated days to be more certain of your answer."
   ]
  },
  {
   "cell_type": "code",
   "execution_count": 4,
   "metadata": {
    "collapsed": false
   },
   "outputs": [
   ],
   "source": [
    "np.random.seed(777)  # Retain this seed\n"
   ]
  },
  {
   "cell_type": "markdown",
   "metadata": {
    "collapsed": false
   },
   "source": [
    "## **Question 4** <font color=\"magenta\">(2 points)</font>\n",
    "\n",
    "What will be the expected value (mean) of the college fund at the end of year 5, rounded to the nearest 1000?\n",
    "\n",
    "\n",
    "## **Question 5** <font color=\"magenta\">(2 points)</font>\n",
    "What will be the standard deviation of the college fund at the end of year 5, rounded to the nearest 1000?\n",
    "\n",
    "\n",
    "\n",
    "## **Question 6** <font color=\"magenta\">(2 points)</font>\n",
    "What is the probability that the college fund at the end of year 5 will be at least \\$35,000?\n",
    "\n",
    "* .7\n",
    "* .5\n",
    "* .3\n",
    "* .9\n",
    "* .1\n",
    "\n",
    "## **Question 7** <font color=\"magenta\">(2 points)</font>\n",
    "What is the probability that the college fund at the end of year 5 will be at least \\$40,000, rounded to two digits?\n",
    "\n",
    "* .55\n",
    "* .09\n",
    "* .01\n",
    "* .35\n",
    "* .77\n"
   ]
  },
  {
   "cell_type": "markdown",
   "metadata": {
    "collapsed": false
   },
   "source": [
    "## **Question 8** - Textbook Problem 20.6-9 (Manually Graded) <font color=\"magenta\">(5 points)</font>\n",
    "\n",
    "Road Pavers, Inc. (RPI) is considering bidding on a county road construction project. RPI has estimated that the cost of this particular project would be \\$5 million. In addition, the cost of putting together a bid is estimated to be \\$50,000. The county also will receive four other bids on the project from competitors of RPI. Past experience with these competitors suggests that each competitor’s bid is most likely to be 20 percent over the project cost of \\$5 million, but could be as low as 5 percent over or as much as 40 percent over this cost. Assume a triangular distribution for each of these bids.\n",
    "\n",
    "Suppose that RPI bids \\$5.7 million on the project. Write a function that takes in RPI's bid and the simulation size and returns an array of profits.\n",
    "\n",
    "Run your function with a simulation size of 1,000 trials. (You should _call_ your function once. It should simulate profits 1000 times and return an array of profits.\n",
    "\n",
    "**Hints:**\n",
    "\n",
    "* RPI's bid is a fixed amount (5.7).\n",
    "* Generate 4 bids from triangular dist with low = 5 * 1.05, mode = 5 * 1.2, high = 5 * 1.4.\n",
    "* Compare RPI's bid to the lowest (min) of the 4 competitor bids.\n",
    "* If RPI < smallest bid RPI wins and their profit is 5.7 - (5 + .05).\n",
    "* If RPI loses their profit is -.05.\n",
    "* Each round of the simulation track their profit, or tracks wins and losses.\n",
    "* Compute statistics.\n",
    "* You can increase the number of simulated days to be more certain of your answer."
   ]
  },
  {
   "cell_type": "code",
   "execution_count": 5,
   "metadata": {
    "collapsed": false
   },
   "outputs": [
   ],
   "source": [
    "def find_profits(bid, ssize):\n",
    "    '''\n",
    "    Parameters:\n",
    "    bid - the amount RPI is bidding\n",
    "    ssize - the simulation size (1000 for your final solution - start smaller until you have a working function)\n",
    "    \n",
    "    Returns:\n",
    "    A numpy array of profits\n",
    "    '''\n",
    "    np.random.seed(88) #retain this seed\n",
    "    #add your code from here \n"
   ]
  },
  {
   "cell_type": "markdown",
   "metadata": {
    "collapsed": false
   },
   "source": [
    "## **Question 9** <font color=\"magenta\">(2 points)</font>\n",
    "\n",
    "What is the probability that RPI will win the bid, rounded to the nearest single digit? \n",
    "\n",
    "* .1\n",
    "* .3\n",
    "* .5\n",
    "* .7\n",
    "* .9\n",
    "\n",
    "## **Question 10** <font color=\"magenta\">(2 points)</font>\n",
    "\n",
    "Into which range would RPI's average profit fall?\n",
    "\n",
    "* 150,000 - 199,99\n",
    "* 200,000 - 229,999\n",
    "* 230,000 - 269,999\n",
    "* 270,000 - 315,999\n",
    "* 316,000 - 329,999\n",
    "\n"
   ]
  },
  {
   "cell_type": "markdown",
   "metadata": {
    "collapsed": false
   },
   "source": [
    "## **Question 11**  <font color=\"magenta\">(2 points)</font>\n",
    "\n",
    "Generate a parameter analysis report to consider eight equally spaced bids between \\$5.3 million and \\$6 million in order to forecast RPI’s mean profit for each bid. Which of these bid ranges maximizes RPI’s mean profit?\n",
    "\n",
    "**Hints:**\n",
    "* Repeat the steps from question 8, with each of the possible bids passed in to your function.\n",
    "* Find average profit for each possible bid.\n",
    "* For which of the bids is average profit maximized?\n",
    "\n",
    "\n",
    "**Answer Options:**\n",
    "* 5.3 or 5.4\n",
    "* 5.5 or 5.6\n",
    "* 5.7 or 5.8\n",
    "* 5.9 or 6.0\n"
   ]
  },
  {
   "cell_type": "code",
   "execution_count": 6,
   "metadata": {
    "collapsed": false
   },
   "outputs": [
   ],
   "source": [
    "np.random.seed(88) #retain this seed\n",
    "\n"
   ]
  },
  {
   "cell_type": "markdown",
   "metadata": {
    "collapsed": false
   },
   "source": [
    "## **Question 12** (Manually Graded) <font color=\"magenta\">(2 points)</font>\n",
    "\n",
    "Generate a trend chart for the eight bids considered in Question 11.\n",
    "\n",
    "Submit both your code and your trend chart.\n",
    "\n",
    "**Hints:**\n",
    "* Graph horizontal bid amount and vertical mean profit\n",
    "* Remember to add trend lines\n"
   ]
  },
  {
   "cell_type": "code",
   "execution_count": 0,
   "metadata": {
    "collapsed": false
   },
   "outputs": [
   ],
   "source": [
   ]
  },
  {
   "cell_type": "markdown",
   "metadata": {
    "collapsed": false
   },
   "source": [
    "## **Question 13**  (Manually Graded) <font color=\"magenta\">(4 points)</font>\n",
    "\n",
    "Perform an automated search to find the bid that maximizes RPI’s mean profit. (Use one of the optimization tools we've studied.)\n"
   ]
  },
  {
   "cell_type": "code",
   "execution_count": 0,
   "metadata": {
    "collapsed": false,
    "scrolled": true
   },
   "outputs": [
   ],
   "source": [
   ]
  },
  {
   "cell_type": "markdown",
   "metadata": {
    "collapsed": false
   },
   "source": [
    "## Sausage Making - Simulation with Optimization"
   ]
  },
  {
   "cell_type": "markdown",
   "metadata": {
    "collapsed": false
   },
   "source": [
    "We're going to revisit the Sausage Factory problem from Lessons 1 and 2, but this time, we're going to introduce uncertainty.\n",
    "\n",
    "In Lesson 2, we optimized the cost of our sausage making, by altering the ingredients in each sausage type to meet minimum requirements and fulfill a demand of 350 economy sausages and 500 premium sausages a week.\n",
    "\n",
    "In reality, our demand fluctuates week to week. \n",
    "\n",
    "The basic set up of the problem is the same.\n",
    "\n",
    "We're going to make sausages by blending pork, wheat, and starch.  Our objective is to minimize the cost of making the sausages.  The table below shows the ingredients available, the cost, and the amount of each ingredient available from our supplier:\n",
    "\n",
    "Ingredient | Cost ($/kg) | Amount (kg)\n",
    "-----------|------|--------------\n",
    "Pork       | 4.32 | 7 kg\n",
    "Wheat      | 2.46 | 20.0\n",
    "Starch     | 1.86 | 17\n",
    "\n",
    "\n",
    "\n",
    "We want to make 2 types of sausage:\n",
    "* Economy ( > 40\\% pork )\n",
    "* Premium ( > 60\\% pork )\n",
    "\n",
    "Each sausage is 50 grams (0.05 kg).  \n",
    "\n",
    "According to government regulations, the most starch we can use in our sausages is 25\\% by weight."
   ]
  },
  {
   "cell_type": "markdown",
   "metadata": {
    "collapsed": false
   },
   "source": [
    "**New Information:**"
   ]
  },
  {
   "cell_type": "markdown",
   "metadata": {
    "collapsed": false
   },
   "source": [
    "The price for pre-purchased pork is \\$3.10, for a discount of \\$1.22 per kg. We will be fairly conservative in our estimates of pre-purchase, and we are setting our minimum pork used to our pre-purchased amount, so we will only need to calculate the total discount in our objective, not a penalty for buying full-priced pork at \\$4.32 per kg.  \n",
    "\n",
    "While our demand fluctuates, we know that our demand for economy sausages is between 325 and 375 each week and our demand for premium sausage is between 450 and 550 each week. Demand appears to be uniformly distributed (use `np.random.randint`).\n",
    "\n",
    "***This is a prescriptive analytics problem!  You are prescribing the amount of pork to buy under contract to minimize future cost in an uncertain future.***"
   ]
  },
  {
   "cell_type": "markdown",
   "metadata": {
    "collapsed": false
   },
   "source": [
    "## **Question 14** (Manually Graded) <font color=\"magenta\">(4 points)</font>\n",
    "\n",
    "Write a function that takes in the amount of discount pork we will pre-purchase as a variable (x). \n",
    "\n",
    "Inside the function, write a 1000 iteration loop that solves the optimization problem with random variables for demand and x as your stand in for the minimum amount of discount pork produced. Track the amount of full-price pork used and the cost of each iteration and return both from your function.  \n",
    "\n",
    "You may base your Pyomo model on either the concrete or abstract formulations in Lesson 1 and Lesson 2 presentations, respectively.\n",
    "\n",
    "After you've written your function, test it using 20 as the amount of discount pork purchased. Plot histograms of the Kilograms of Full-Price Pork purchased and the cost.\n",
    "\n",
    "Submit both your code and the two histograms.\n",
    "\n",
    "**Hints:**\n",
    "* You need to write the LP in terms of this variable x\n",
    "* Put the whole LP inside a function\n",
    "* Account for the discount by subtracting 1.22*x from the objective\n",
    "* x is like the 23 kg in the original model\n",
    "* x + 7 is the max amount of pork you can use\n",
    "* Inside the function you have a loop around the LP that repeats the solution 1000 times, each time with diff. random demands.\n",
    "* Track the kg of full-priced pork, and the minimized cost.\n",
    "* Return the kg of full-priced pork and the minimized cost as numpy arrays."
   ]
  },
  {
   "cell_type": "code",
   "execution_count": 0,
   "metadata": {
    "collapsed": false
   },
   "outputs": [
   ],
   "source": [
    "def get_pork_cost(x):\n",
    "    '''\n",
    "    Parameters:\n",
    "    x - the amount of discount pork purchased\n",
    "    \n",
    "    Returns:\n",
    "    finalCost: An array of the optimized costs\n",
    "    fullPricePorkUsed: An array of the total full-price pork used\n",
    "    '''\n",
    "    np.random.seed(814) #retain this seed\n",
    "    #start your code here"
   ]
  },
  {
   "cell_type": "markdown",
   "metadata": {
    "collapsed": false
   },
   "source": [
    "Notice that the final cost and the amount of full-price pork purchased have distributions that fairly closely match each other. That's because full-price pork is the most expensive component of our sausages. The more full-price pork we use, the more expensive our product is. We'd like to optimize the amount of full-price pork we use.\n",
    "\n",
    "## **Question 15** <font color=\"magenta\">(2 points)</font>\n",
    "\n",
    "Which range does the average optimized cost fall into, when pre-purchasing 20kgs of pork?\n",
    "\n",
    "* 80-99\n",
    "* 100-125\n",
    "* 126-150\n",
    "* 151-170\n",
    "\n"
   ]
  },
  {
   "cell_type": "code",
   "execution_count": 0,
   "metadata": {
    "collapsed": false
   },
   "outputs": [
   ],
   "source": [
   ]
  },
  {
   "cell_type": "markdown",
   "metadata": {
    "collapsed": false
   },
   "source": [
    "## **Question 16** (Manually Graded) <font color=\"magenta\">(5 points)</font>\n",
    "\n",
    "Write a loop to call your function for all the values of pre-order quantities between and including 17 and 28.\n",
    "\n",
    "Store the values of:\n",
    "\n",
    "* pre-order quantities\n",
    "* the mean, 5th percentile and 95th percentile of the amount of full-priced pork at \\$4.32 per kg\n",
    "* the mean, 5th percentile and 95th percentile of the cost.\n",
    "\n",
    "After your loop, print the values in a dataframe and generate a trend chart.\n",
    "\n",
    "*Note: This may take a while to run.*\n",
    "\n",
    "**Hints:**\n",
    "\n",
    "* You want to find the best amount to pre-purchase.\n",
    "* Use a loop to check x = 17, 18, 19, ... 28.\n",
    "* Make a table including x and the other quantities listed above."
   ]
  },
  {
   "cell_type": "code",
   "execution_count": 0,
   "metadata": {
    "collapsed": false
   },
   "outputs": [
   ],
   "source": [
   ]
  },
  {
   "cell_type": "markdown",
   "metadata": {
    "collapsed": false
   },
   "source": [
    "## **Question 17** (Manually Graded) <font color=\"magenta\">(2 points)</font>\n",
    "\n",
    "Based on your dataframe and trend chart, what is the optimal amount of pork to pre-purchase. Why?\n",
    "\n"
   ]
  },
  {
   "cell_type": "code",
   "execution_count": 0,
   "metadata": {
    "collapsed": false
   },
   "outputs": [
   ],
   "source": [
   ]
  }
 ],
 "metadata": {
  "kernelspec": {
   "display_name": "Python 3 (system-wide)",
   "language": "python",
   "metadata": {
    "cocalc": {
     "description": "Python 3 programming language",
     "priority": 100,
     "url": "https://www.python.org/"
    }
   },
   "name": "python3",
   "resource_dir": "/ext/jupyter/kernels/python3"
  },
  "language_info": {
   "codemirror_mode": {
    "name": "ipython",
    "version": 3
   },
   "file_extension": ".py",
   "mimetype": "text/x-python",
   "name": "python",
   "nbconvert_exporter": "python",
   "pygments_lexer": "ipython3",
   "version": "3.8.5"
  },
  "toc": {
   "base_numbering": 1,
   "nav_menu": {
   },
   "number_sections": true,
   "sideBar": true,
   "skip_h1_title": false,
   "title_cell": "Table of Contents",
   "title_sidebar": "Contents",
   "toc_cell": false,
   "toc_position": {
    "height": "calc(100% - 180px)",
    "left": "10px",
    "top": "150px",
    "width": "258.906px"
   },
   "toc_section_display": true,
   "toc_window_display": true
  },
  "varInspector": {
   "cols": {
    "lenName": 16,
    "lenType": 16,
    "lenVar": 40
   },
   "kernels_config": {
    "python": {
     "delete_cmd_postfix": "",
     "delete_cmd_prefix": "del ",
     "library": "var_list.py",
     "varRefreshCmd": "print(var_dic_list())"
    },
    "r": {
     "delete_cmd_postfix": ") ",
     "delete_cmd_prefix": "rm(",
     "library": "var_list.r",
     "varRefreshCmd": "cat(var_dic_list()) "
    }
   },
   "types_to_exclude": [
    "module",
    "function",
    "builtin_function_or_method",
    "instance",
    "_Feature"
   ],
   "window_display": false
  }
 },
 "nbformat": 4,
 "nbformat_minor": 4
}