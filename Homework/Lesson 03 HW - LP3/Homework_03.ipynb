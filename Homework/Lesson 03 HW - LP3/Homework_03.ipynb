{
 "cells": [
  {
   "cell_type": "markdown",
   "metadata": {
    "collapsed": false
   },
   "source": [
    "# Homework 3\n",
    "\n",
    "Please refer to problems on Piazza as HW3.8 etc.  Points may not be awarded for correct numerical answers without working code.\n",
    "\n",
    "## Questions 1-3\n",
    "\n",
    "This problem is related to the self-assessment question in the lesson titled \"Unbalanced Transportation Problem\" and is modeled after a problem found in Practical Management Science by Wayne L. Winston and S. Christian Albright.  \n",
    "\n",
    "International Textile Company, Ltd, Kong–based firm that distributes textiles world- wide. They have mills for weaving bolts of cotton fabric in the Bahamas, Hong Kong, Korea, Nigeria, and Venezuela.  The mills ship bolts of cotton to distribution eight distribution centers (listed below).\n",
    "\n",
    "The company is owned by the Lao family. Present plans are to remain in Hong Kong through the transition in governments. Should the People’s Republic of China continue its economic renaissance, the company hopes to use its current base to expand operations to the mainland. International Textile has mills in the Bahamas, Hong Kong, Korea, Nigeria, and Venezuela, each weaving fabrics out of two or more raw fibers: cotton, polyester, and/or silk. The mills service eight company distribution centers.  Cotton supplies and demands at the distribution center are shown below.  Shipping costs depend on both distances and other factors and are in the cell below.\n",
    "\n",
    "Additionally, the company is switching to a different shipping method with a limit of 500 cotton bolts on each route.  Moreover, shipments from Venezuala to the United States will no longer be possible (no shipments to Los Angeles, Chicago, and New York).\n",
    "\n",
    "\n",
    "### Question 1 <font color=\"magenta\">(10 points, manual)</font>\n",
    "This transportation problem is unbalanced.  Write Pyomo code to find the minimum shipping cost.  Solve the problem without introducing any dummy mills or distribution centers.  Include your complete, abstract, Pyomo code in the cell below and in your CoCalc notebook.  Your code should output a data frame that displays the shipping amounts.  Here is some of the problem data to get you started:\n",
    "```\n",
    "mills = ['Bahamas', 'Hong Kong', 'Korea', 'Nigeria', 'Venezuela']\n",
    "dist_ctrs = [\n",
    "    'Los Angeles', 'Chicago', 'London', 'Mexico City', 'Manila', 'Rome',\n",
    "    'Tokyo', 'New York'\n",
    "]\n",
    "supply = [1000, 2000, 1000, 2000, 1000]\n",
    "demand = [500, 800, 900, 900, 800, 100, 200, 700]\n",
    "ship_cost = [[2, 2, 3, 3, 7, 4, 7, 1],\n",
    "             [6, 7, 8, 10, 2, 9, 4, 8],\n",
    "             [5, 6, 8, 11, 4, 9, 1, 7],\n",
    "             [14, 12, 6, 9, 11, 7, 5, 10],\n",
    "             [4, 3, 5, 1, 9, 6, 11, 4]]\n",
    "```"
   ]
  },
  {
   "cell_type": "code",
   "execution_count": 0,
   "metadata": {
    "collapsed": false
   },
   "outputs": [
   ],
   "source": [
   ]
  },
  {
   "cell_type": "markdown",
   "metadata": {
    "collapsed": false
   },
   "source": [
    "### Question 2 <font color=\"magenta\">(1 point, auto)</font>\n",
    "\n",
    "What is the minimum total shipping cost?  Enter your answer to the nearest dollar.\n",
    "\n",
    "### Question 3 <font color=\"magenta\">(1 point, auto)</font>\n",
    "\n",
    "To achieve the minimum total shipping cost how many bolts should be shipped from Korea to Manila?\n",
    "\n",
    "\n",
    "## Questions 4-6\n",
    "\n",
    "Each of three warehouses has two products, pA and pB, in stock to send to five different warehouses.  Each route from a warehouse to a store has a limited capacity of 700 products (total of pA and pB) or there is no shipping available on that route.  The per unit shipping cost on each route doesn't depend on the product.  For example, it costs $14/unit to ship product pA or pB from warehouse wA to store sA.  Supply, demand, costs, and capacities, are loaded into data frames below for your convenience.  To access values in the data frame:  `cost.loc['wA','sC']` gives 12.\n",
    "\n",
    "Review the material in the lesson about multiple products as needed.\n",
    "\n",
    "Here is the problem data to get you started (you'll need to import pandas as pd):\n",
    "```\n",
    "warehouses = ['wA','wB','wC']\n",
    "stores = ['sA','sB','sC','sD','sE']\n",
    "products = ['pA','pB']\n",
    "supply = pd.DataFrame([ [400,100,500], [500,100,400]], \n",
    "                         index = products, columns = warehouses)\n",
    "demand = pd.DataFrame([ [200,100,250,100,300], [200,100,150,100,400]],\n",
    "                         index = products, columns = stores)\n",
    "cost = pd.DataFrame( [ [14, 11, 12, 5000, 5000],\n",
    "                         [5000, 15, 18, 21, 5000],\n",
    "                         [5000,5000,9,10,12] ],\n",
    "                       index = warehouses,columns = stores)\n",
    "capacity = pd.DataFrame( [ [700, 700, 700, 0, 0],\n",
    "                           [0, 700, 700, 700, 0],\n",
    "                           [0, 0, 700, 700, 700] ],\n",
    "                       index = warehouses, columns = stores)\n",
    "```\n",
    "\n",
    "### Question 4 <font color=\"magenta\">(12 points, manual)</font>\n",
    "\n",
    "Include your pyomo code for minimizing the total shipping cost below.  Your code should also be complete and executed in your CoCalc notebook."
   ]
  },
  {
   "cell_type": "code",
   "execution_count": 0,
   "metadata": {
    "collapsed": false
   },
   "outputs": [
   ],
   "source": [
    "var( products, warehouses, stores, domain = NonNeg...)\n",
    "\n",
    "for p in products:\n",
    "    for s in suppliers:\n",
    "        sum( model.transp[p,s,c] for c in customers) == supply.loc[p,s] )"
   ]
  },
  {
   "cell_type": "markdown",
   "metadata": {
    "collapsed": false
   },
   "source": [
    "### Question 5 <font color=\"magenta\">(1 point, auto)</font>\n",
    "\n",
    "What is the minimum total shipping cost?  Enter your answer to the nearest dollar.\n",
    "\n",
    "### Question 6 <font color=\"magenta\">(1 point, auto)</font>\n",
    "\n",
    "To achieve the minimum total shipping cost how many of product A should be shipped from warehouse C to store C?"
   ]
  },
  {
   "cell_type": "markdown",
   "metadata": {
    "collapsed": false
   },
   "source": [
    "## Questions 7-9"
   ]
  },
  {
   "cell_type": "markdown",
   "metadata": {
    "collapsed": false
   },
   "source": [
    "The coach of an age group swim team needs to assign swimmers to a 200-yard medley relay team to send to the Junior Olympics. Since most of his best swimmers are very fast in more than one stroke, it is not clear which swimmer should be assigned to each of the four strokes. The five fastest swimmers and the best times (in seconds) they have achieved in each of the strokes (for 50 yards) are\n",
    "\n",
    "<img src = \"images/swim.png\" width=\"600\">\n",
    "\n",
    "The coach wishes to determine how to assign four swimmers to the four different strokes to minimize the sum of the corresponding best times.  \n",
    "\n",
    "### Question 7 <font color=\"magenta\">(10 points, manual)</font>\n",
    "Treat this as an assignment problem and use Pyomo to find the optimal solution.  For full credit you must use an abstract approach to the solution code and display nicely formatted output.  Include complete, executed code in your CoCalc notebook."
   ]
  },
  {
   "cell_type": "code",
   "execution_count": 0,
   "metadata": {
    "collapsed": false
   },
   "outputs": [
   ],
   "source": [
   ]
  },
  {
   "cell_type": "markdown",
   "metadata": {
    "collapsed": false
   },
   "source": [
    "### Question 8 <font color=\"magenta\">(1 point, auto)</font>\n",
    "\n",
    "What is the minimum total race time?  Enter your answer to the nearest tenth of a second.\n",
    "\n",
    "### Question 9 <font color=\"magenta\">(1 point, auto)</font>\n",
    "\n",
    "Which swimmer is assigned to swim backstroke?\n"
   ]
  },
  {
   "cell_type": "markdown",
   "metadata": {
    "collapsed": false
   },
   "source": [
    "## Questions 10-12\n",
    "\n",
    "Reliable Construction wants to determine when each activity should start in a construction schedule in order to minimize the overall time it takes to construct a large commercial building.  The tasks, order of tasks, and their durations in days are specified in the table below. \n",
    "\n",
    "Remember that we need to append a final task, with all other tasks as immediate predecessors and an estimated duration of zero days.\n",
    "\n",
    "| Activity  | Description  | Immediate Predecessors  |  Estimated Duration |\n",
    "|---|---|---|---|\n",
    "| A  | Excavate  |  -- |  14 |\n",
    "| B  | Lay the Foundation  | A  | 21  |\n",
    "| C  |  Put up the rough wall |  B |  63 |\n",
    "| D  |  Put up the roof | C  |  35 |\n",
    "| E  |  Install the exterior plumbing | C  |  42 |\n",
    "| F  |  Install the interior plumbing | E  |  56 |\n",
    "| G  |  Put up the exterior siding | D  | 49  |\n",
    "| H  |  Do the exterior painting | E,G  | 63  |\n",
    "| I  |  Do the electrical work | C  | 28  |\n",
    "| J  |  Put up the wallboard |  F,I |  35 |\n",
    "| K  |  Install the flooring |  J | 14  |\n",
    "| L  |  Do the interior painting |  J | 35  |\n",
    "| M  |  Install the exterior fixtures | H  | 14  |\n",
    "| N  |  Install the interior fixtures | K,L  | 35  |\n",
    "\n",
    "### Question 10 <font color=\"magenta\">(10 points, manual)</font>\n",
    "\n",
    "Write abstract, generalizable Pyomo code to solve this scheduling problem.  Remember that we need to append a final task, with all other tasks as immediate predecessors and an estimated duration of zero days.  Note that the precent constraints specified in the table are presented a bit differently in the lesson so you'll need to adjust for that somehow.\n",
    "\n",
    "Include your code below and in your CoCalc notebook."
   ]
  },
  {
   "cell_type": "code",
   "execution_count": 0,
   "metadata": {
    "collapsed": false
   },
   "outputs": [
   ],
   "source": [
   ]
  },
  {
   "cell_type": "markdown",
   "metadata": {
    "collapsed": false
   },
   "source": [
    "### Question 11 <font color=\"magenta\">(1 point, auto)</font>\n",
    "\n",
    "What is the minimum total construction time?  Enter your answer to the nearest day.\n",
    "\n",
    "### Question 12 <font color=\"magenta\">(1 point, auto)</font>\n",
    "\n",
    "On what day should Interior Plumbing start to achieve the minimum construction time?"
   ]
  },
  {
   "cell_type": "code",
   "execution_count": 0,
   "metadata": {
    "collapsed": false
   },
   "outputs": [
   ],
   "source": [
   ]
  }
 ],
 "metadata": {
  "kernelspec": {
   "display_name": "Python 3 (system-wide)",
   "language": "python",
   "metadata": {
    "cocalc": {
     "description": "Python 3 programming language",
     "priority": 100,
     "url": "https://www.python.org/"
    }
   },
   "name": "python3",
   "resource_dir": "/ext/jupyter/kernels/python3"
  },
  "language_info": {
   "codemirror_mode": {
    "name": "ipython",
    "version": 3
   },
   "file_extension": ".py",
   "mimetype": "text/x-python",
   "name": "python",
   "nbconvert_exporter": "python",
   "pygments_lexer": "ipython3",
   "version": "3.8.5"
  },
  "toc": {
   "base_numbering": 1,
   "nav_menu": {
   },
   "number_sections": true,
   "sideBar": true,
   "skip_h1_title": false,
   "title_cell": "Table of Contents",
   "title_sidebar": "Contents",
   "toc_cell": false,
   "toc_position": {
   },
   "toc_section_display": true,
   "toc_window_display": false
  },
  "varInspector": {
   "cols": {
    "lenName": 16,
    "lenType": 16,
    "lenVar": 40
   },
   "kernels_config": {
    "python": {
     "delete_cmd_postfix": "",
     "delete_cmd_prefix": "del ",
     "library": "var_list.py",
     "varRefreshCmd": "print(var_dic_list())"
    },
    "r": {
     "delete_cmd_postfix": ") ",
     "delete_cmd_prefix": "rm(",
     "library": "var_list.r",
     "varRefreshCmd": "cat(var_dic_list()) "
    }
   },
   "types_to_exclude": [
    "module",
    "function",
    "builtin_function_or_method",
    "instance",
    "_Feature"
   ],
   "window_display": false
  }
 },
 "nbformat": 4,
 "nbformat_minor": 4
}