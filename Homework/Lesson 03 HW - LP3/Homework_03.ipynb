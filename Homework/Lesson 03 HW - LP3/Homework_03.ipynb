{
 "cells": [
  {
   "cell_type": "markdown",
   "metadata": {
    "collapsed": false
   },
   "source": [
    "# Homework 3\n",
    "\n",
    "### When asking questions about homework in Piazza please use a tag in the subject line like HW1.3 to refer to Homework 1, Question 3.  So the subject line might be **HW1.3 question**.  Note there are no spaces in \"HW1.3\".  This really helps keep Piazza easily searchable for everyone!\n",
    "\n",
    "For full credit, all code in this notebook must be both executed in this notebook and copied to the Canvas quiz where indicated.\n"
   ]
  },
  {
   "cell_type": "markdown",
   "metadata": {
    "collapsed": false
   },
   "source": [
    "<body style=\"background-color:aquamarine;\">\n",
    "<style type=\"text/css\"> p.space {line-height:200%;} </style>\n",
    "<h3>Hints for 1-3</h3>\n",
    "This is an unbalanced transportation problem.  Don't address the imbalance by adding \"dummies\", instead adjust the constraints as discussed in the lesson.\n",
    "</body>"
   ]
  },
  {
   "cell_type": "markdown",
   "metadata": {
    "collapsed": false
   },
   "source": [
    "## Questions 1-3\n",
    "\n",
    "This problem is related to the self-assessment question in the lesson titled \"Unbalanced Transportation Problem\" and is modeled after a problem found in Practical Management Science by Wayne L. Winston and S. Christian Albright.  \n",
    "\n",
    "International Textile Company, Ltd, Kong–based firm that distributes textiles world- wide. They have mills for weaving bolts of cotton fabric in the Bahamas, Hong Kong, Korea, Nigeria, and Venezuela.  The mills ship bolts of cotton to distribution eight distribution centers (listed below).\n",
    "\n",
    "The company is owned by the Lao family. Present plans are to remain in Hong Kong through the transition in governments. Should the People’s Republic of China continue its economic renaissance, the company hopes to use its current base to expand operations to the mainland. International Textile has mills in the Bahamas, Hong Kong, Korea, Nigeria, and Venezuela, each weaving fabrics out of two or more raw fibers: cotton, polyester, and/or silk. The mills service eight company distribution centers.  Cotton supplies and demands at the distribution center are shown below.  Shipping costs depend on both distances and other factors and are in the cell below.\n",
    "\n",
    "Additionally, the company is switching to a different shipping method with a limit of 500 cotton bolts on each route.  Moreover, shipments from Venezuela to the United States will no longer be possible (no shipments to Los Angeles, Chicago, and New York).  **Note that you'll have to set up this constraint yourself.  We haven't provided data or code for it.**\n",
    "\n",
    "\n",
    "### Question 1 <font color=\"magenta\">(8 points, manual)</font>\n",
    "This transportation problem is unbalanced.  Write Pyomo code to find the minimum shipping cost.  Solve the problem without introducing any dummy mills or distribution centers.  Include your complete, abstract, Pyomo code in the cell below and in your CoCalc notebook.  Your code should output a data frame that displays the shipping amounts.  Here is some problem data to get you started:\n",
    "```python\n",
    "mills = ['Bahamas', 'Hong Kong', 'Korea', 'Nigeria', 'Venezuela']\n",
    "dist_ctrs = [\n",
    "    'Los Angeles', 'Chicago', 'London', 'Mexico City', 'Manila', 'Rome',\n",
    "    'Tokyo', 'New York'\n",
    "]\n",
    "supply = [1000, 2000, 1000, 2000, 1000]\n",
    "demand = [500, 800, 900, 900, 800, 100, 200, 700]\n",
    "ship_cost = [[2, 2, 3, 3, 7, 4, 7, 1],\n",
    "             [6, 7, 8, 10, 2, 9, 4, 8],\n",
    "             [5, 6, 8, 11, 4, 9, 1, 7],\n",
    "             [14, 12, 6, 9, 11, 7, 5, 10],\n",
    "             [4, 3, 5, 1, 9, 6, 11, 4]]\n",
    "# you'll need to set up data for the infeasible routes!\n",
    "```"
   ]
  },
  {
   "cell_type": "code",
   "execution_count": 0,
   "metadata": {
    "collapsed": false
   },
   "outputs": [
   ],
   "source": [
   ]
  },
  {
   "cell_type": "markdown",
   "metadata": {
    "collapsed": false
   },
   "source": [
    "### Question 2 <font color=\"magenta\">(1 point, auto)</font>\n",
    "\n",
    "What is the minimum total shipping cost?  Enter your answer to the nearest dollar.\n",
    "\n",
    "### Question 3 <font color=\"magenta\">(1 point, auto)</font>\n",
    "\n",
    "To achieve the minimum total shipping cost, how many bolts should be shipped from Korea to Manila?\n",
    "\n"
   ]
  },
  {
   "cell_type": "markdown",
   "metadata": {
    "collapsed": false
   },
   "source": [
    "<body style=\"background-color:aquamarine;\">\n",
    "<style type=\"text/css\"> p.space {line-height:200%;} </style>\n",
    "<h3>Hints for 4-7</h3>\n",
    "This problem is both unbalanced and needs route capacity constraints.  Additionally, you'll need three indices for your decision variables; <br>\n",
    "Something like this: `model.transp = Var(products, warehouses, stores, domain=NonNegativeReals)`<br>\n",
    "    You'll also need to adjust the loops to construct the objective function and the constraints to account for the additional index.  <br>\n",
    "    Make sure to study the section in Lesson 3 named \"Transporting Multiple Products\"\n",
    "</body>\n",
    "\n"
   ]
  },
  {
   "cell_type": "markdown",
   "metadata": {
    "collapsed": false
   },
   "source": [
    "## Questions 4-6\n",
    "\n",
    "Each of three warehouses has two products, pA and pB, in stock to send to five different stores.  Each route from a warehouse to a store has a limited capacity of 700 products (total of pA and pB) or there is no shipping available on that route.  The unit shipping cost on each route doesn't depend on the product.  For example, it costs $14/unit to ship product pA or pB from warehouse wA to store sA.  Supply, demand, costs, and capacities, are loaded into data frames below for your convenience.  To access values in the data frame:  `cost.loc['wA','sC']` gives 12.\n",
    "\n",
    "Review the material in the lesson about multiple products as needed.\n",
    "\n",
    "Here is the problem data to get you started (you'll need to import pandas as pd):\n",
    "\n",
    "```python\n",
    "warehouses = ['wA','wB','wC']\n",
    "stores = ['sA','sB','sC','sD','sE']\n",
    "products = ['pA','pB']\n",
    "supply = pd.DataFrame([ [400,100,500], [500,100,400]], \n",
    "                         index = products, columns = warehouses)\n",
    "demand = pd.DataFrame([ [200,100,250,100,300], [200,100,150,100,400]],\n",
    "                         index = products, columns = stores)\n",
    "cost = pd.DataFrame( [ [14, 11, 12, 5000, 5000],\n",
    "                         [5000, 15, 18, 21, 5000],\n",
    "                         [5000,5000,9,10,12] ],\n",
    "                       index = warehouses,columns = stores)\n",
    "capacity = pd.DataFrame( [ [700, 700, 700, 0, 0],\n",
    "                           [0, 700, 700, 700, 0],\n",
    "                           [0, 0, 700, 700, 700] ],\n",
    "                       index = warehouses, columns = stores)\n",
    "```\n",
    "\n",
    "### Question 4 <font color=\"magenta\">(10 points, manual)</font>\n",
    "\n",
    "Include your Pyomo code for minimizing the total shipping cost below.  Your code should also be complete and executed in your CoCalc notebook.\n",
    "\n"
   ]
  },
  {
   "cell_type": "code",
   "execution_count": 0,
   "metadata": {
    "collapsed": false
   },
   "outputs": [
   ],
   "source": [
   ]
  },
  {
   "cell_type": "markdown",
   "metadata": {
    "collapsed": false
   },
   "source": [
    "### Question 5 <font color=\"magenta\">(1 point, auto)</font>\n",
    "\n",
    "What is the minimum total shipping cost?  Enter your answer to the nearest dollar.\n",
    "\n",
    "### Question 6 <font color=\"magenta\">(1 point, auto)</font>\n",
    "\n",
    "To achieve the minimum total shipping cost how many of product A should be shipped from warehouse C to store C?"
   ]
  },
  {
   "cell_type": "markdown",
   "metadata": {
    "collapsed": false
   },
   "source": [
    "<body style=\"background-color:aquamarine;\">\n",
    "<style type=\"text/css\"> p.space {line-height:200%;} </style>\n",
    "<h3>Hints for 7-9</h3>\n",
    "This is an unbalanced assignment problem.  You can either use a \"dummy\" stroke similar to how a \"dummy\" machine <br> was used in the lesson\n",
    "    or you can change one of the supply or demand constraints from \"=\" to \"<=\" or \">=\" appropriately.\n",
    "</body>"
   ]
  },
  {
   "cell_type": "markdown",
   "metadata": {
    "collapsed": false
   },
   "source": [
    "## Questions 7-9"
   ]
  },
  {
   "cell_type": "markdown",
   "metadata": {
    "collapsed": false
   },
   "source": [
    "The coach of an age group swim team needs to assign swimmers to a 200-yard medley relay team to send to the Junior Olympics. Since most of his best swimmers are very fast in more than one stroke, it is not clear which swimmer should be assigned to each of the four strokes. The five fastest swimmers and the best times (in seconds) they have achieved in each of the strokes (for 50 yards) are\n",
    "\n",
    "<img src = \"images/swim.png\" width=\"600\">\n",
    "\n",
    "The coach wishes to determine how to assign four swimmers to the four different strokes to minimize the sum of the corresponding best times.  \n",
    "\n",
    "### Question 7 <font color=\"magenta\">(8 points, manual)</font>\n",
    "Treat this as an assignment problem and use Pyomo to find the optimal solution.  For full credit you must use an abstract approach to the solution code and display nicely formatted output.  Include complete, executed code in your CoCalc notebook."
   ]
  },
  {
   "cell_type": "code",
   "execution_count": 0,
   "metadata": {
    "collapsed": false
   },
   "outputs": [
   ],
   "source": [
   ]
  },
  {
   "cell_type": "markdown",
   "metadata": {
    "collapsed": false
   },
   "source": [
    "### Question 8 <font color=\"magenta\">(1 point, auto)</font>\n",
    "\n",
    "What is the minimum total race time?  Enter your answer to the nearest tenth of a second.\n",
    "\n",
    "### Question 9 <font color=\"magenta\">(1 point, auto)</font>\n",
    "\n",
    "Which swimmer is assigned to swim backstroke?\n"
   ]
  },
  {
   "cell_type": "markdown",
   "metadata": {
    "collapsed": false
   },
   "source": [
    "<body style=\"background-color:aquamarine;\">\n",
    "<style type=\"text/css\"> p.space {line-height:200%;} </style>\n",
    "<h3>Hints for 10-12</h3>\n",
    "It's important to understand that the way the precedence constraints are laid out is the opposite <br> of how they're displayed in the lesson.  You can either reverse the precendents <br> to align with the lesson example or you can leave use the precedents as they're laid out below <br> and reverse the \"before\" and \"after\" in the lesson code.\n",
    "</body>"
   ]
  },
  {
   "cell_type": "markdown",
   "metadata": {
    "collapsed": false
   },
   "source": [
    "## Questions 10-12\n",
    "\n",
    "Reliable Construction wants to determine when each activity should start in a construction schedule in order to minimize the overall time it takes to construct a large commercial building.  The tasks, order of tasks, and their durations in days are specified in the table below. \n",
    "\n",
    "Remember that we need to append a final task that has all other tasks as immediate predecessors and an estimated duration of zero days.\n",
    "\n",
    "| Activity  | Description  | Immediate Predecessors  |  Estimated Duration |\n",
    "|---|---|---|---|\n",
    "| A  | Excavate  |  -- |  14 |\n",
    "| B  | Lay the Foundation  | A  | 21  |\n",
    "| C  |  Put up the rough wall |  B |  63 |\n",
    "| D  |  Put up the roof | C  |  35 |\n",
    "| E  |  Install the exterior plumbing | C  |  42 |\n",
    "| F  |  Install the interior plumbing | E  |  56 |\n",
    "| G  |  Put up the exterior siding | D  | 49  |\n",
    "| H  |  Do the exterior painting | E,G  | 63  |\n",
    "| I  |  Do the electrical work | C  | 28  |\n",
    "| J  |  Put up the wallboard |  F,I |  35 |\n",
    "| K  |  Install the flooring |  J | 14  |\n",
    "| L  |  Do the interior painting |  J | 35  |\n",
    "| M  |  Install the exterior fixtures | H  | 14  |\n",
    "| N  |  Install the interior fixtures | K,L  | 35  |\n",
    "\n",
    "Note that the precedent constraints specified in the table are presented a bit differently in the lesson, so you'll need to adjust for that somehow.\n",
    "\n",
    "### Question 10 <font color=\"magenta\">(8 points, manual)</font>\n",
    "\n",
    "Write abstract, generalizable Pyomo code to solve this scheduling problem\n",
    "\n",
    "Include your code below.  Note that the order of the tasks is organized differently than it was in the lesson.  You can either reorganize the tasks or you can alter the loops where the precedence constraints are constructed."
   ]
  },
  {
   "cell_type": "code",
   "execution_count": 0,
   "metadata": {
    "collapsed": false
   },
   "outputs": [
   ],
   "source": [
    "precedence_dict = {\n",
    "        'B: Lay Foundation': ['A: Excavate'],\n",
    "        'C: Put Up Rough Wall': ['B: Lay Foundation'],\n",
    "        'D: Put Up Roof': ['C: Put Up Rough Wall'],\n",
    "        'E: Exterior Plumbing': ['C: Put Up Rough Wall'],\n",
    "        'F: Interior Plumbing': ['E: Exterior Plumbing'],\n",
    "        'G: Exterior Siding': ['D: Put Up Roof'],\n",
    "        'H: Exterior Painting': ['E: Exterior Plumbing', 'G: Exterior Siding'],\n",
    "        'I: Electrical': ['C: Put Up Rough Wall'],\n",
    "        'J: Wallboard': ['F: Interior Plumbing', 'I: Electrical'],\n",
    "        'K: Flooring': ['J: Wallboard'],\n",
    "        'L: Interior Painting': ['J: Wallboard'],\n",
    "        'M: Exterior Fixtures': ['H: Exterior Painting'],\n",
    "        'N: Interior Fixtures': ['K: Flooring', 'L: Interior Painting'],\n",
    "         #Dummy final task comes after everything\n",
    "        'O: Finalize': ['A: Excavate', 'B: Lay Foundation', 'C: Put Up Rough Wall', 'D: Put Up Roof', 'E: Exterior Plumbing', 'F: Interior Plumbing',\n",
    "                        'G: Exterior Siding', 'H: Exterior Painting', 'I: Electrical','J: Wallboard', 'K: Flooring', 'L: Interior Painting', 'M: Exterior Fixtures', 'N: Interior Fixtures']\n",
    "    }\n"
   ]
  },
  {
   "cell_type": "markdown",
   "metadata": {
    "collapsed": false
   },
   "source": [
    "### Question 11 <font color=\"magenta\">(1 point, auto)</font>\n",
    "\n",
    "What is the minimum total construction time?  Enter your answer to the nearest day.\n",
    "\n",
    "### Question 12 <font color=\"magenta\">(1 point, auto)</font>\n",
    "\n",
    "On what day should Interior Plumbing start to achieve the minimum construction time?"
   ]
  },
  {
   "cell_type": "code",
   "execution_count": 0,
   "metadata": {
    "collapsed": false
   },
   "outputs": [
   ],
   "source": [
   ]
  },
  {
   "cell_type": "markdown",
   "metadata": {
    "collapsed": false
   },
   "source": [
    "<body style=\"background-color:aquamarine;\">\n",
    "<style type=\"text/css\"> p.space {line-height:200%;} </style>\n",
    "<h3>Hints for 13</h3>\n",
    "You should reach the same answer for the minimized labor cost as we did with the concrete approach in Homework 1. <br><br> This problem is essentially a transportation problem where the workers are \"suppliers\", <br>the days of the week each \"demand\" a certain amount of labor, <br> the hours assigned to each worker on each day are the transported amounts, <br> and the maximum hours for each worker on each day are the same as the route constraints in Lessson 3. <br><br> Finally, it's possible to get different answers for the number of hours assigned to each worker on each day <br> depending on how you set this up, but the minimum labor cost should be the same!\n",
    "</body>\n",
    "\n"
   ]
  },
  {
   "cell_type": "markdown",
   "metadata": {
    "collapsed": false
   },
   "source": [
    "## Question 13 (8 points, manual)\n",
    "\n",
    "For the following we are redoing the worker-day scheduling problem from Homework 1, but this time your code must use an abstract approach similar to that in the Wyndor example in the lesson.  Your data and model should be completely separated so that none of the parameters are typed directly into the model.  You should use dictionaries to store the coefficients and right-sides of constraints.  The problem setup is included again below for convenience.\n",
    "\n",
    "Oxbridge University maintains a powerful mainframe computer\n",
    "  for research use by its faculty, Ph.D. students, and research\n",
    "  associates. During all working hours, an operator must be available\n",
    "  to operate and maintain the computer, as well as to perform some\n",
    "  programming services. Beryl Ingram, the director of the computer\n",
    "  facility, oversees the operation.  \n",
    "\n",
    "  It is now the beginning of the\n",
    "  fall semester, and Beryl is confronted with the problem of assigning\n",
    "  different working hours to her operators. Because all the operators\n",
    "  are currently enrolled in the university, they are available to work\n",
    "  only a limited number of hours\n",
    "  each day, as shown in the following table: \n",
    "  \n",
    "  <img src=\"images/operator_availability.png\" width=\"800\">\n",
    "  \n",
    "  There are six operators (four undergraduate students and two\n",
    "  graduate students). They all have different wage rates because of\n",
    "  differences in their experience with computers and in their pro-\n",
    "  gramming ability. The above table shows their wage rates, along with\n",
    "  the maximum number of hours that each can work each day.  \n",
    "\n",
    "  Each\n",
    "  operator is guaranteed a certain minimum number of hours per week\n",
    "  that will maintain an adequate knowledge of the operation. This\n",
    "  level is set arbitrarily at 8 hours per week for the undergraduate students (K. C., D. H., H. B., and S. C.) and 7 hours per week for the graduate students (K. S. and N. K.).\n",
    "\n",
    "  The computer facility is to be open for operation from 8 A.M. to 10\n",
    "  P.M. Monday through Friday with exactly one operator on duty during\n",
    "  these hours. On Saturdays and Sundays, the computer is to be\n",
    "  operated by other staff.  Because of a tight budget, Beryl has to\n",
    "  minimize cost. She wishes to determine the number of hours she\n",
    "  should assign to each operator on each day.\n",
    "\n",
    "  Because of a tight budget, Beryl has to minimize cost. She wishes to\n",
    "  determine the number of hours she should assign to each operator on\n",
    "  each day.\n",
    "  \n",
    "  Use Pyomo to solve this problem. Your solution should include all necessary code and inputs and it should produce formatted output. Note: be sure to use real variables, but your answers will work out to be integers.  The code must be in abstract (generalizable) form for full credit."
   ]
  },
  {
   "cell_type": "code",
   "execution_count": 0,
   "metadata": {
    "collapsed": false
   },
   "outputs": [
   ],
   "source": [
   ]
  }
 ],
 "metadata": {
  "kernelspec": {
   "argv": [
    "/usr/bin/python3",
    "-m",
    "ipykernel",
    "--HistoryManager.enabled=False",
    "--matplotlib=inline",
    "-c",
    "%config InlineBackend.figure_formats = set(['retina'])\nimport matplotlib; matplotlib.rcParams['figure.figsize'] = (12, 7)",
    "-f",
    "{connection_file}"
   ],
   "display_name": "Python 3 (system-wide)",
   "env": {
   },
   "language": "python",
   "metadata": {
    "cocalc": {
     "description": "Python 3 programming language",
     "priority": 100,
     "url": "https://www.python.org/"
    }
   },
   "name": "python3",
   "resource_dir": "/ext/jupyter/kernels/python3"
  },
  "language_info": {
   "codemirror_mode": {
    "name": "ipython",
    "version": 3
   },
   "file_extension": ".py",
   "mimetype": "text/x-python",
   "name": "python",
   "nbconvert_exporter": "python",
   "pygments_lexer": "ipython3",
   "version": "3.8.10"
  },
  "toc": {
   "base_numbering": 1,
   "nav_menu": {
   },
   "number_sections": true,
   "sideBar": true,
   "skip_h1_title": false,
   "title_cell": "Table of Contents",
   "title_sidebar": "Contents",
   "toc_cell": false,
   "toc_position": {
   },
   "toc_section_display": true,
   "toc_window_display": false
  },
  "varInspector": {
   "cols": {
    "lenName": 16,
    "lenType": 16,
    "lenVar": 40
   },
   "kernels_config": {
    "python": {
     "delete_cmd_postfix": "",
     "delete_cmd_prefix": "del ",
     "library": "var_list.py",
     "varRefreshCmd": "print(var_dic_list())"
    },
    "r": {
     "delete_cmd_postfix": ") ",
     "delete_cmd_prefix": "rm(",
     "library": "var_list.r",
     "varRefreshCmd": "cat(var_dic_list()) "
    }
   },
   "types_to_exclude": [
    "module",
    "function",
    "builtin_function_or_method",
    "instance",
    "_Feature"
   ],
   "window_display": false
  }
 },
 "nbformat": 4,
 "nbformat_minor": 4
}