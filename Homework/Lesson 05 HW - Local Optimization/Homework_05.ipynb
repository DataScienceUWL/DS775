{
 "cells": [
  {
   "cell_type": "markdown",
   "id": "42b51a",
   "metadata": {
    "collapsed": false
   },
   "source": [
    "# Homework 05: Local Optimization\n",
    "\n",
    "### When asking questions about homework in Piazza please use a tag in the subject line like HW1.3 to refer to Homework 1, Question 3.  So the subject line might be **HW1.3 question**.  Note there are no spaces in \"HW1.3\".  This really helps keep Piazza easily searchable for everyone!\n",
    "\n",
    "For full credit, all code in this notebook must be both executed in this notebook and copied to the Canvas quiz where indicated."
   ]
  },
  {
   "cell_type": "markdown",
   "id": "f63a65",
   "metadata": {
    "collapsed": false
   },
   "source": [
    "<body style=\"background-color:aquamarine;\">\n",
    "   <h3>Hints for 1-3</h3>\n",
    "</body>\n",
    "The code for this problem is very similar to the Wyndor Quadratic Program.  The harder part is formulating the objective function and constraints."
   ]
  },
  {
   "cell_type": "markdown",
   "id": "86d862",
   "metadata": {
    "collapsed": false
   },
   "source": [
    "## Questions 1-3"
   ]
  },
  {
   "cell_type": "markdown",
   "id": "1305f5",
   "metadata": {
    "collapsed": false
   },
   "source": [
    "The management of the Albert Hanson Company is trying to determine the best product mix for two new products. Because these products would share the same production facilities, the total number of units produced of the two products combined cannot exceed two per hour. Because of uncertainty about how well these products will sell, the profit from producing each product provides decreasing marginal returns as the production rate is increased. In particular, with a production rate of $R_1$ units per hour, it is estimated that Product 1 would provide a profit (in dollars per hour) of $200 R_1 - 100 R_1^2.$ If the production rate of product 2 is $R_2$ units per hour, its estimated profit (in dollars per hour) would be $300 R_2 - 100 R_2^2.$\n",
    "\n",
    "### Question 1 <font color=\"magenta\">(8 points, manual)</font>\n",
    "\n",
    "Formulate a quadratic programming model and solve it using Pyomo with the ipopt solver.  Put your complete code below and in your CoCalc notebook.  We are allowing fractional solutions here, so this is not an integer programming problem."
   ]
  },
  {
   "cell_type": "code",
   "execution_count": 0,
   "id": "056e6e",
   "metadata": {
    "collapsed": false
   },
   "outputs": [
   ],
   "source": [
   ]
  },
  {
   "cell_type": "markdown",
   "id": "ee685f",
   "metadata": {
    "collapsed": false
   },
   "source": [
    "### Question 2 <font color=\"magenta\">(1 point, auto)</font>\n",
    "\n",
    "Enter the maximum value of the profit to two decimal places.\n",
    "\n",
    "### Question 3 <font color=\"magenta\">(1 point, auto)</font>\n",
    "\n",
    "To achieve the maximum value of the profit function, how many units of product 2 should be introduced each hour?  Enter your answer to two decimal places.\n"
   ]
  },
  {
   "cell_type": "markdown",
   "id": "62db92",
   "metadata": {
    "collapsed": false
   },
   "source": [
    "## Questions 4-7"
   ]
  },
  {
   "cell_type": "markdown",
   "id": "4caf46",
   "metadata": {
    "collapsed": false
   },
   "source": [
    "Consider the nonconvex profit function $$p(x) = 100x^6 - 1359x^5 + 6836 x^4 - 15670 x^3 + 15870 x^2 - 5095 x$$\n",
    "with $0 \\leq x \\leq 5.$\n",
    "\n",
    "\n",
    "### Question 4  <font color=\"magenta\">(2 points, manual)</font>\n",
    "\n",
    "Graph the function for $0 \\leq x \\leq 5$ in your notebook and determine how many local minima there are.  Do not count endpoints.  Put your complete code to produce the graph below and in your CoCalc notebook.\n",
    "\n",
    "<body style=\"background-color:aquamarine;\">\n",
    "Make sure your graph uses the correct range of values for x.\n",
    "</body>"
   ]
  },
  {
   "cell_type": "code",
   "execution_count": 3,
   "id": "0892f7",
   "metadata": {
    "collapsed": false
   },
   "outputs": [
   ],
   "source": [
    "# we've defined the function for you to help avoid errors\n",
    "profit = lambda x:100*x**6 - 1359*x**5 + 6836*x**4 - 15670*x**3 + 15870*x**2 - 5095*x"
   ]
  },
  {
   "cell_type": "markdown",
   "id": "a97f09",
   "metadata": {
    "collapsed": false
   },
   "source": [
    "### Question 5 <font color=\"magenta\">(1 point, auto)</font>\n",
    "\n",
    "How many local minima are there? Do not count endpoints.\n",
    "\n",
    "\n",
    "### Question 6 <font color=\"magenta\">(1 point, auto)</font>\n",
    "\n",
    "What is the value of $p$ at the second-largest local maximum?  Enter your answer to two decimal places.\n",
    "\n",
    "\n",
    "### Question 7 <font color=\"magenta\">(4 points, manual)</font>\n",
    "\n",
    "Write a multistart procedure that starts from uniform randomly sampled points in [0,5] to locate the absolute maximum value of profit. The algorithm should stop after 20 iterations in which no improvement in the max value has been obtained.  Include your code and the output from your code in the space below.  Your code should print out the max value and the x-value where it occurs.\n",
    "\n",
    "<body style=\"background-color:aquamarine;\">\n",
    "This is pretty similar to the Rastrigin example in the section \"Multistart for Finding Global Optima\".  <br> \n",
    "However you don't need the dim variable since there is only a single variable x in this problem.  <br><br>\n",
    "    Use x_initial = np.random.uniform(0,5) to get the initial search point in each iteration.  \n",
    "</body>"
   ]
  },
  {
   "cell_type": "code",
   "execution_count": 0,
   "id": "7795c3",
   "metadata": {
    "collapsed": false
   },
   "outputs": [
   ],
   "source": [
   ]
  },
  {
   "cell_type": "markdown",
   "id": "1bcfa9",
   "metadata": {
    "collapsed": false
   },
   "source": [
    "## Questions 8-10"
   ]
  },
  {
   "cell_type": "markdown",
   "id": "2b9d65",
   "metadata": {
    "collapsed": false
   },
   "source": [
    "To find the line of least squares fit of the form $\\hat{y} = b_0 + b_1 x$ to fit data of the form $(x_1,y_1), (x_2,y_2),\\ldots,(x_n,y_n)$ we minimize a loss function.  The loss function is the sum of the squares residuals and only depends on $b_0$ and $b_1$ for fixed $xy$-data:\n",
    "\n",
    "$$ SS(b_0,b_1) = \\sum_{i=1}^{n} \\left( y_i - \\hat{y}_i \\right)^2 = \\sum_{i=1}^{n} \\left( y_i - (b_0 + b_1 x_i) \\right)^2 $$.\n",
    "\n",
    "(Be sure to compute the squares before you compute the sum!)\n",
    "\n",
    "The file age_height.csv contains ages (years) and heights (inches) for 7 children. Write Python code to evaluate the loss function (follow along with the logistic regression example while making suitable changes to the loss function) and use `minimize` to identify the coefficients of the line of least-squares fit for predicting height ($y$) from ($age$).  Include a scatter plot of the data that includes a plot of the line.\n",
    "\n",
    "### Question 8 <font color=\"magenta\">(10 points, manual)</font>\n",
    "\n",
    "Include complete Python code in the space below that includes the loss function, shows how to minimize it, prints out the output, and makes a plot of the line on a scatterplot of the data.  You should also include your plot (<a href=\"https://chartio.com/resources/tutorials/how-to-save-a-plot-to-a-file-using-matplotlib/\">check out savefig</a> or use a cropped screenshot).  The same elements should be in your CoCalc notebook.  Here is the loss function from the logistic regression problem in the lesson along with a couple of notes to get you started.\n",
    "\n",
    "```python\n",
    "def neg_log_loss( coef, *args): # rename your function\n",
    "    b0 = coef[0]\n",
    "    b1 = coef[1]\n",
    "    x = args[0]\n",
    "    y = args[1]\n",
    "    \n",
    "    # you'll need to change the code below here\n",
    "    p = 1.0/(1.0 + np.exp(-(b0 + b1*x)))\n",
    "    ll = sum( y*np.log(p)+(1-y)*np.log(1-p) )\n",
    "    return(-ll) # log_loss needs to be MAXimized\n",
    "```\n",
    "\n",
    "Instead of `p` and `ll` compute `ss` the sum of the squares as shown in the formula above and then `return(ss)`.  Make sure you're computing the sum of the squared residuals and not the sum of the residuals squared ... parentheses matter!\n",
    "\n",
    "<body style=\"background-color:aquamarine;\">\n",
    "If you need help plotting a line on a scatter plot you can modify the code in the lesson where you replace the sigmoid funciton with a function for your line. <br><br>\n",
    "This is also a perfect use case for ChatGPT. <br> \n",
    "I entered this prompt 'given x and y lists and the equation of a line show how to make a scatterplot with the x and y lists and plot the line on top using python' and got a useful response.\n",
    "</body>"
   ]
  },
  {
   "cell_type": "code",
   "execution_count": 0,
   "id": "a8ab01",
   "metadata": {
    "collapsed": false
   },
   "outputs": [
   ],
   "source": [
   ]
  },
  {
   "cell_type": "markdown",
   "id": "50e264",
   "metadata": {
    "collapsed": false
   },
   "source": [
    "### Question 9 <font color=\"magenta\">(1 point, auto)</font>\n",
    "What is the value of the intercept, $b_0$? Enter your answer to three decimal places.\n",
    "\n",
    "### Question 10 <font color=\"magenta\">(1 point, auto)</font>\n",
    "What is the value of the slope, $b_1$? Enter your answer to three decimal places."
   ]
  },
  {
   "cell_type": "markdown",
   "id": "b9fe32",
   "metadata": {
    "collapsed": false
   },
   "source": [
    "## Questions 11-12"
   ]
  },
  {
   "cell_type": "markdown",
   "id": "21cdc7",
   "metadata": {
    "collapsed": false
   },
   "source": [
    "The knapsack problem is a classical combinatorial optimization problem that will be good for practicing with the ideas of discrete local search and multistart.  Given a set of items, each with a weight and a value, determine which items to include in a collection so that the total weight is less than or equal to a given limit and the total value is as large as possible.  In the 0-1 version of the knapsack problem, the decision variables are binary (or boolean) and represent whether to include each item in the collection.  We'll start with 20 items. You need to determine the collection of items that maximizes the value and keeps the total weight up to 50 (that is $\\leq 50$)."
   ]
  },
  {
   "cell_type": "code",
   "execution_count": 3,
   "id": "056a53",
   "metadata": {
    "collapsed": false
   },
   "outputs": [
   ],
   "source": [
    "# generate random weights and values for a knapsack problem (DO NOT CHANGE)\n",
    "import numpy as np\n",
    "num_items = 20\n",
    "np.random.seed(seed=123)\n",
    "values = np.random.randint(low=5, high=50, size=num_items)\n",
    "weights = np.random.randint(low=1, high=10, size=num_items)\n",
    "max_weight = 50\n",
    "np.random.seed() # use system clock to reset the seed so future random numbers will appear random"
   ]
  },
  {
   "cell_type": "markdown",
   "id": "509662",
   "metadata": {
    "collapsed": false
   },
   "source": [
    "The variables will be a vector of booleans of length `num_items`.  We could initialize a vector like this and then set the vector to include the 1st, 3rd, and 5th items:"
   ]
  },
  {
   "cell_type": "code",
   "execution_count": 4,
   "id": "a0de76",
   "metadata": {
    "collapsed": false
   },
   "outputs": [
    {
     "data": {
      "text/plain": [
       "array([ True, False,  True, False,  True, False, False, False, False,\n",
       "       False, False, False, False, False, False, False, False, False,\n",
       "       False, False])"
      ]
     },
     "execution_count": 4,
     "metadata": {
     },
     "output_type": "execute_result"
    }
   ],
   "source": [
    "import numpy as np\n",
    "x = np.zeros(num_items, dtype = bool)  # all false"
   ]
  },
  {
   "cell_type": "markdown",
   "id": "6e8d85",
   "metadata": {
    "collapsed": false
   },
   "source": [
    "The total weight of the items included in the collection:"
   ]
  },
  {
   "cell_type": "code",
   "execution_count": 10,
   "id": "ed9922",
   "metadata": {
    "collapsed": false
   },
   "outputs": [
    {
     "data": {
      "text/plain": [
       "11"
      ]
     },
     "execution_count": 10,
     "metadata": {
     },
     "output_type": "execute_result"
    }
   ],
   "source": [
    "tot_weight = sum( weights[x] )\n",
    "tot_weight"
   ]
  },
  {
   "cell_type": "markdown",
   "id": "5c2ddd",
   "metadata": {
    "collapsed": false
   },
   "source": [
    "The total value of the items included in the collection:"
   ]
  },
  {
   "cell_type": "code",
   "execution_count": 11,
   "id": "1e53b4",
   "metadata": {
    "collapsed": false
   },
   "outputs": [
    {
     "data": {
      "text/plain": [
       "68"
      ]
     },
     "execution_count": 11,
     "metadata": {
     },
     "output_type": "execute_result"
    }
   ],
   "source": [
    "tot_value = sum( values[x] )\n",
    "tot_value"
   ]
  },
  {
   "cell_type": "markdown",
   "id": "99223f",
   "metadata": {
    "collapsed": false
   },
   "source": [
    "Implement a local search where the search starts with no items included in the collection and generates new states (moves) by randomly choosing one of the booleans in the state vector and toggling it.  Like this:"
   ]
  },
  {
   "cell_type": "code",
   "execution_count": 13,
   "id": "9f5d6c",
   "metadata": {
    "collapsed": false
   },
   "outputs": [
    {
     "data": {
      "text/plain": [
       "array([False, False, False, False, False, False, False, False, False,\n",
       "       False, False, False, False, False, False, False,  True, False,\n",
       "       False, False])"
      ]
     },
     "execution_count": 13,
     "metadata": {
     },
     "output_type": "execute_result"
    }
   ],
   "source": [
    "# try executing this cell a few times and watch x change\n",
    "bit_to_flip = np.random.randint(num_items)\n",
    "x[bit_to_flip] = ~x[bit_to_flip]\n",
    "x"
   ]
  },
  {
   "cell_type": "markdown",
   "id": "b3185c",
   "metadata": {
    "collapsed": false
   },
   "source": [
    "Accept the state if the total weight is is $\\leq 50$ and maximize the value by moving uphill\n",
    "\n",
    "### Question 11 <font color=\"magenta\">(4 points, manual)</font>\n",
    "\n",
    "Write a local search algorithm that randomly changes one boolean and accepts the move if it improves the total value.  Iterate until no improvements have been made in the last 1000 iterations.  Write the algorithm as a function with the values and weights as inputs and that returns the best collection of items to include as well as the value and weight of that collection.  Include your code and the results of running the code once in the space below.\n",
    "\n",
    "<body style=\"background-color:aquamarine;\">\n",
    "The function you need to write has a similar structure to the random_reversal_search function in the lesson.  <br>\n",
    "You'll have to adapt it work with the knapsack problem.\n",
    "</body>"
   ]
  },
  {
   "cell_type": "code",
   "execution_count": 0,
   "id": "3d5332",
   "metadata": {
    "collapsed": false
   },
   "outputs": [
   ],
   "source": [
   ]
  },
  {
   "cell_type": "markdown",
   "id": "57f2bd",
   "metadata": {
    "collapsed": false
   },
   "source": [
    "## Question 12 <font color=\"magenta\">(4 points, manual)</font>\n",
    "\n",
    "Implement a variation of multistart search from the lesson.  Instead of starting from random initial states, start each local search from an empty knapsack.  The random moves should include sufficient randomness.  You should do 200 local searches.  Each local search should call the function you defined in Question 11. Clearly identify the best overall solution.  Put complete code to do the searches and display the best results in the space below and in your CoCalc notebook.  Do not print out information from each search, just the final results.\n",
    "\n",
    "Next week we'll see some alternative search techniques that will generally enable us to find better solutions."
   ]
  },
  {
   "cell_type": "code",
   "execution_count": 0,
   "id": "ba98e2",
   "metadata": {
    "collapsed": false
   },
   "outputs": [
   ],
   "source": [
   ]
  },
  {
   "cell_type": "markdown",
   "id": "d2cd75",
   "metadata": {
    "collapsed": false
   },
   "source": [
    "## Question 13 <font color=\"magenta\">(2 points, manual)</font>\n",
    "\n",
    "Enter the maximum total value for knapsack that you found in Question 12.  If it's not over 400 then something is likely wrong."
   ]
  },
  {
   "cell_type": "markdown",
   "id": "b2c07c",
   "metadata": {
    "collapsed": false
   },
   "source": [
    "## Question 14 <font color=\"magenta\">(10 points, manual)</font>\n",
    "\n",
    "The Value Balancing Problem was a Self_Assessment problem near the end of the Lesson_05 notebook.  You can see our solution in the Self_Assessement_Soln notebook.  Use the locsearch package in this directory to find a local solution to the Value Balancing problem.  You can follow the example at the end of Lesson_05. We've copied some code from the lesson to get you started.  Remember to set this up so that your decision variables (the group assignments) are stored in the state attribute of your subclass.\n",
    "\n",
    "```python\n",
    "# the objective function\n",
    "def group_fitness(groups,num_groups,values):\n",
    "    # groups must be a numpy array for this to work\n",
    "    sums = np.array([ sum( values[ groups == i] ) for i in range(num_groups) ])\n",
    "    return max(sums)-min(sums)\n",
    "\n",
    "# the move function\n",
    "def change_group(groups, num_groups, debug=False):\n",
    "    #get a copy of the groups\n",
    "    new_groups = groups.copy()    \n",
    "    #select item to change\n",
    "    switch = np.random.randint(0, groups.shape[0])\n",
    "    #select new group value\n",
    "    new_group = np.random.randint(0,num_groups)\n",
    "    while groups[switch] == new_group:\n",
    "        new_group = np.random.randint(0,num_groups)\n",
    "    new_groups[switch] = new_group\n",
    "    if debug:\n",
    "        print(f'The item at {switch} should change to {new_group}')\n",
    "        print(f'The initial groups are: {groups} and the changed groups are {new_groups}')\n",
    "       \n",
    "    return new_groups\n",
    "    \n",
    "# problem data\n",
    "num_groups = 4\n",
    "num_items = 1000\n",
    "np.random.seed(5)\n",
    "values = np.random.randint(2,20,size=num_items)\n",
    "np.random.seed()\n",
    "```\n",
    "\n",
    "In the space below, include your complete code to solve the Value Balancing problem using the LocalSearcher class.  You should also include output from a run of the code.  The same elements should be in your ÇoCalc notebook.\n",
    "\n",
    "<body style=\"background-color:aquamarine;\">\n",
    "We provide a partial solution below to help you get started.  Try to understand this code as well as you can since we'll do a similar problem next week.\n",
    "</body>"
   ]
  },
  {
   "cell_type": "code",
   "execution_count": 0,
   "id": "d547fc",
   "metadata": {
    "collapsed": false
   },
   "outputs": [
   ],
   "source": [
    "# If you're new to object oriented programming, we've provided a partial solution here for you to adapt\n",
    "\n",
    "from locsearch import LocalSearcher\n",
    "import numpy as np\n",
    "import pandas as pd\n",
    "\n",
    "# Define your class which inherits from LocalSearcher class\n",
    "class ValueBalancingProblem(LocalSearcher):\n",
    "\n",
    "    # pass in state and problem parameters (fix the XXXs)\n",
    "    def __init__(self, state, values, XXX, debug):\n",
    "        self.values = values\n",
    "        self.XXX = XXX\n",
    "        self.debug = debug\n",
    "        super(ValueBalancingProblem, self).__init__(state)  # important!\n",
    "        \n",
    "    def move(self):\n",
    "        self.state = # call the function that makes a move, pass in self.state, self.values, etc.\n",
    "        \n",
    "    def objective(self):\n",
    "        return # call function that evaluates the objective function, pass in self.state, etc.\n",
    "    \n",
    "num_groups = 4\n",
    "num_items = 1000\n",
    "debug = False\n",
    "\n",
    "# generate problem data (don't change)\n",
    "np.random.seed(5)\n",
    "values = np.random.randint(2,20,size=num_items)\n",
    "np.random.seed()\n",
    "\n",
    "# create initial state\n",
    "initial_groups = # use numpy randint to generate a random initial groups assignment\n",
    "\n",
    "# create an object of the ValueBalancingProblem class\n",
    "bestValues = ValueBalancingProblem( # pass everthing needed by your __init__ method to construct the object )\n",
    "\n",
    "# tweak some local parameters to more closely observe the search\n",
    "bestValues.max_no_improve= 50\n",
    "bestValues.update_iter = 10\n",
    "\n",
    "# call the local search method in our object to actually do the search (replace XXX by ???)\n",
    "best_groups, best_fitness = bestValues.XXX()\n",
    "\n",
    "print(f\"Max difference between groups is {best_fitness}\")"
   ]
  }
 ],
 "metadata": {
  "kernelspec": {
   "argv": [
    "/usr/bin/python3",
    "-m",
    "ipykernel",
    "--HistoryManager.enabled=False",
    "--matplotlib=inline",
    "-c",
    "%config InlineBackend.figure_formats = set(['retina'])\nimport matplotlib; matplotlib.rcParams['figure.figsize'] = (12, 7)",
    "-f",
    "{connection_file}"
   ],
   "display_name": "Python 3 (system-wide)",
   "env": {
   },
   "language": "python",
   "metadata": {
    "cocalc": {
     "description": "Python 3 programming language",
     "priority": 100,
     "url": "https://www.python.org/"
    }
   },
   "name": "python3",
   "resource_dir": "/ext/jupyter/kernels/python3"
  },
  "language_info": {
   "codemirror_mode": {
    "name": "ipython",
    "version": 3
   },
   "file_extension": ".py",
   "mimetype": "text/x-python",
   "name": "python",
   "nbconvert_exporter": "python",
   "pygments_lexer": "ipython3",
   "version": "3.10.12"
  },
  "toc": {
   "base_numbering": 1,
   "nav_menu": {
   },
   "number_sections": true,
   "sideBar": true,
   "skip_h1_title": false,
   "title_cell": "Table of Contents",
   "title_sidebar": "Contents",
   "toc_cell": false,
   "toc_position": {
   },
   "toc_section_display": true,
   "toc_window_display": false
  },
  "varInspector": {
   "cols": {
    "lenName": 16,
    "lenType": 16,
    "lenVar": 40
   },
   "kernels_config": {
    "python": {
     "delete_cmd_postfix": "",
     "delete_cmd_prefix": "del ",
     "library": "var_list.py",
     "varRefreshCmd": "print(var_dic_list())"
    },
    "r": {
     "delete_cmd_postfix": ") ",
     "delete_cmd_prefix": "rm(",
     "library": "var_list.r",
     "varRefreshCmd": "cat(var_dic_list()) "
    }
   },
   "types_to_exclude": [
    "module",
    "function",
    "builtin_function_or_method",
    "instance",
    "_Feature"
   ],
   "window_display": false
  }
 },
 "nbformat": 4,
 "nbformat_minor": 4
}