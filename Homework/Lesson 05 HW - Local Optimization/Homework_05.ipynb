{
 "cells": [
  {
   "cell_type": "markdown",
   "metadata": {
    "collapsed": false
   },
   "source": [
    "<font size=18>Homework Solutions 05: Local Optimization</font>"
   ]
  },
  {
   "cell_type": "markdown",
   "metadata": {
    "collapsed": false
   },
   "source": [
    "## Questions 1-3"
   ]
  },
  {
   "cell_type": "markdown",
   "metadata": {
    "collapsed": false
   },
   "source": [
    "The management of the Albert Hanson Company is trying to determine the best product mix for two new products. Because these products would share the same production facilities, the total number of units produced of the two products combined cannot exceed two per hour. Because of uncertainty about how well these products will sell, the profit from producing each product provides decreasing marginal returns as the production rate is increased. In particular, with a production rate of $R_1$ units per hour, it is estimated that Product 1 would provide a profit (in dollars per hour) of $200 R_1 - 100 R_1^2.$ If the production rate of product 2 is $R_2$ units per hour, its estimated profit (in dollars per hour) would be $300 R_2 - 100 R_2^2.$\n",
    "\n",
    "### Question 1 <font color=\"magenta\">(8 points, manual)</font>\n",
    "\n",
    "Formulate a quadratic programming modeland solve it using Pyomo with the ipopt solver.  Put your complete code below and in your CoCalc notebook.  We are allowing fractional solutions here so this is not an integer programming problem."
   ]
  },
  {
   "cell_type": "code",
   "execution_count": 0,
   "metadata": {
    "collapsed": false
   },
   "outputs": [
   ],
   "source": [
   ]
  },
  {
   "cell_type": "markdown",
   "metadata": {
    "collapsed": false
   },
   "source": [
    "### Question 2 <font color=\"magenta\">(1 point, auto)</font>\n",
    "\n",
    "Enter the maximum value of the profit to two decimal places.\n",
    "\n",
    "### Question 3 <font color=\"magenta\">(1 point, auto)</font>\n",
    "\n",
    "To achieve the maximum value of the profit function how many units of product 2 should be introduced each hour?  Enter your answer to two decimal places.\n"
   ]
  },
  {
   "cell_type": "markdown",
   "metadata": {
    "collapsed": false
   },
   "source": [
    "## Questions 4-7"
   ]
  },
  {
   "cell_type": "markdown",
   "metadata": {
    "collapsed": false
   },
   "source": [
    "Consider the nonconvex profit function $$p(x) = 100x^6 - 1359x^5 + 6836 x^4 - 15670 x^3 + 15870 x^2 - 5095 x$$\n",
    "with $0 \\leq x \\leq 5.$\n",
    "\n",
    "\n",
    "### Question 4  <font color=\"magenta\">(2 points, manual)</font>\n",
    "\n",
    "Graph the function for $0 \\leq x \\leq 5$ in your notebook and determine how many different local minima there are.  Do not count endpoints.  Put your complete code to produce the graph below and in your CoCalc notebook."
   ]
  },
  {
   "cell_type": "code",
   "execution_count": 0,
   "metadata": {
    "collapsed": false
   },
   "outputs": [
   ],
   "source": [
   ]
  },
  {
   "cell_type": "markdown",
   "metadata": {
    "collapsed": false
   },
   "source": [
    "### Question 5 <font color=\"magenta\">(1 point, auto)</font>\n",
    "\n",
    "How many local minima are there? Do not count endpoints.\n",
    "\n",
    "\n",
    "### Question 6 <font color=\"magenta\">(1 point, auto)</font>\n",
    "\n",
    "What is value of $p$ at the second largest local maximum?  Enter your answer to two decimal places.\n",
    "\n",
    "\n",
    "### Question 7 <font color=\"magenta\">(4 points, manual)</font>\n",
    "\n",
    "Write a multistart procedure that starts from uniform randomly sampled points in [0,5] to locate the absolute maximum value of profit. The algorithm should stop after 20 iterations in which no improvement in the max value has been obtained.  Include your code and the output from your code in the space below.  Your code should print out the max value and the x-value where it occurs."
   ]
  },
  {
   "cell_type": "code",
   "execution_count": 0,
   "metadata": {
    "collapsed": false
   },
   "outputs": [
   ],
   "source": [
   ]
  },
  {
   "cell_type": "markdown",
   "metadata": {
    "collapsed": false
   },
   "source": [
    "## Questions 8-10"
   ]
  },
  {
   "cell_type": "markdown",
   "metadata": {
    "collapsed": false
   },
   "source": [
    "To find the line of least squares fit of the form $\\hat{y} = b_0 + b_1 x$ to fit data of the form $(x_1,y_1), (x_2,y_2),\\ldots,(x_n,y_n)$ we minimize a loss function.  The loss function is the sum of the squares residuals and only depends on $b_0$ and $b_1$ for fixed $xy$-data:\n",
    "\n",
    "$$ SS(b_0,b_1) = \\sum_{i=1}^{n} \\left( y_i - \\hat{y}_i \\right)^2 = \\sum_{i=1}^{n} \\left( y_i - (b_0 + b_1 x_i) \\right)^2 $$.\n",
    "\n",
    "The file age_height.csv contains ages (years) and heights (inches) for 7 children. Write Python code to evaluate the loss function (follow along with the logistic regression example while making suitable changes to the loss function) and use `minimize` to identify the coefficients of the line of least squares fit for predicting height ($y$) from ($age$).  Include a scatter plot of the data that includes a plot of the line.\n",
    "\n",
    "### Question 8 <font color=\"magenta\">(10 points, manual)</font>\n",
    "\n",
    "Include complete Python code in the space below that includes the loss function, shows how to minimize it, prints out the output, and makes a plot of the line on a scatterplot of the data.  You should also include your plot (<a href=\"https://chartio.com/resources/tutorials/how-to-save-a-plot-to-a-file-using-matplotlib/\">check out savefig</a> or use a cropped screenshot).  The same elements should be in your CoCalc notebook."
   ]
  },
  {
   "cell_type": "code",
   "execution_count": 0,
   "metadata": {
    "collapsed": false
   },
   "outputs": [
   ],
   "source": [
   ]
  },
  {
   "cell_type": "markdown",
   "metadata": {
    "collapsed": false
   },
   "source": [
    "### Question 9 <font color=\"magenta\">(1 point, auto)</font>\n",
    "What is the value of the intercept, $b_0$? Enter your answer to three decimal places.\n",
    "\n",
    "### Question 10 <font color=\"magenta\">(1 point, auto)</font>\n",
    "What is the value of the slope, $b_1$? Enter your answer to three decimal places."
   ]
  },
  {
   "cell_type": "markdown",
   "metadata": {
    "collapsed": false
   },
   "source": [
    "## Questions 11-12"
   ]
  },
  {
   "cell_type": "markdown",
   "metadata": {
    "collapsed": false
   },
   "source": [
    "The knapsack problem is a classical combinatorial optimization problem that will be good for practicing with the ideas of discrete local search and multistart.  Given a set of items, each with a weight and a value, determine which items to include in a collection so that the total weight is less than or equal to a given limit and the total value is as large as possible.  In the 0-1 version of the knapsack problem, the decision variables are binary (or boolean) and represent whether or not to include each item in the collection.  We'll start with 20 items and you need to determine the collection of items that maximizes the value and keeps the total weight up to 50 (that is $\\leq 50$)."
   ]
  },
  {
   "cell_type": "code",
   "execution_count": 8,
   "metadata": {
    "collapsed": false
   },
   "outputs": [
   ],
   "source": [
    "# generate random weights and values for a knapsack problem (DO NOT CHANGE)\n",
    "import numpy as np\n",
    "num_items = 20\n",
    "np.random.seed(seed=123)\n",
    "values = np.random.randint(low=5, high=50, size=num_items)\n",
    "weights = np.random.randint(low=1, high=10, size=num_items)\n",
    "max_weight = 50\n",
    "np.random.seed() # use system clock to reset the seed so future random numbers will appear random"
   ]
  },
  {
   "cell_type": "markdown",
   "metadata": {
    "collapsed": false
   },
   "source": [
    "The variables will be a vector of booleans of length `num_items`.  We could initialize a vector like this and then set the vector to include the 1st, 3rd, and 5th items:"
   ]
  },
  {
   "cell_type": "code",
   "execution_count": 9,
   "metadata": {
    "collapsed": false
   },
   "outputs": [
    {
     "data": {
      "text/plain": [
       "array([ True, False,  True, False,  True, False, False, False, False,\n",
       "       False, False, False, False, False, False, False, False, False,\n",
       "       False, False])"
      ]
     },
     "execution_count": 9,
     "metadata": {
     },
     "output_type": "execute_result"
    }
   ],
   "source": [
    "x = np.zeros(num_items, dtype = bool)  # all false\n",
    "x[[0,2,4]] = True\n",
    "x"
   ]
  },
  {
   "cell_type": "markdown",
   "metadata": {
    "collapsed": false
   },
   "source": [
    "The total weight of the items included in the collection:"
   ]
  },
  {
   "cell_type": "code",
   "execution_count": 10,
   "metadata": {
    "collapsed": false
   },
   "outputs": [
    {
     "data": {
      "text/plain": [
       "11"
      ]
     },
     "execution_count": 10,
     "metadata": {
     },
     "output_type": "execute_result"
    }
   ],
   "source": [
    "tot_weight = sum( weights[x] )\n",
    "tot_weight"
   ]
  },
  {
   "cell_type": "markdown",
   "metadata": {
    "collapsed": false
   },
   "source": [
    "The total value of the items included in the collection:"
   ]
  },
  {
   "cell_type": "code",
   "execution_count": 11,
   "metadata": {
    "collapsed": false
   },
   "outputs": [
    {
     "data": {
      "text/plain": [
       "68"
      ]
     },
     "execution_count": 11,
     "metadata": {
     },
     "output_type": "execute_result"
    }
   ],
   "source": [
    "tot_value = sum( values[x] )\n",
    "tot_value"
   ]
  },
  {
   "cell_type": "markdown",
   "metadata": {
    "collapsed": false
   },
   "source": [
    "Implement a local search where the search starts with no items included in the collection and generates new states (moves) by randomly choosing one of the booleans in the state vector and toggling it.  Like this:"
   ]
  },
  {
   "cell_type": "code",
   "execution_count": 12,
   "metadata": {
    "collapsed": false
   },
   "outputs": [
    {
     "data": {
      "text/plain": [
       "array([ True, False,  True, False,  True, False, False, False, False,\n",
       "       False, False, False, False, False, False, False, False,  True,\n",
       "       False, False])"
      ]
     },
     "execution_count": 12,
     "metadata": {
     },
     "output_type": "execute_result"
    }
   ],
   "source": [
    "# try executing this cell a few times and watch x change\n",
    "bit_to_flip = np.random.randint(num_items)\n",
    "x[bit_to_flip] = ~x[bit_to_flip]\n",
    "x"
   ]
  },
  {
   "cell_type": "markdown",
   "metadata": {
    "collapsed": false
   },
   "source": [
    "Accept the state if the total weight is is $\\leq 50$ and maximize the value by moving uphill\n",
    "\n",
    "### Question 11 <font color=\"magenta\">(6 points, manual)</font>\n",
    "\n",
    "Write a local search algorithm that moves uphill  until no improvements have been made in the last 1000 iterations.  Write the algorithm as a function with the values and weights as inputs and returns the best collection of items to include as well as the value and weight of that collection.  Include your code and the results of running the code once in the space below."
   ]
  },
  {
   "cell_type": "code",
   "execution_count": 0,
   "metadata": {
    "collapsed": false
   },
   "outputs": [
   ],
   "source": [
   ]
  },
  {
   "cell_type": "markdown",
   "metadata": {
    "collapsed": false
   },
   "source": [
    "## Question 12 <font color=\"magenta\">(4 points, manual)</font>\n",
    "\n",
    "Now write a loop to do this 100 local searches (each with random moves starting from a collection with no items in it.  Clearly identify the best overall solution.  Put complete code to do the searches and display the best results in the space below and in your CoCalc notebook.  Do not print out information from each search, just the final results.\n",
    "\n",
    "Next week we'll see some alternative search tecniques that will generally enable us to find better solutions."
   ]
  },
  {
   "cell_type": "code",
   "execution_count": 0,
   "metadata": {
    "collapsed": false
   },
   "outputs": [
   ],
   "source": [
   ]
  },
  {
   "cell_type": "markdown",
   "metadata": {
    "collapsed": false
   },
   "source": [
    "## Question 13 <font color=\"magenta\">(10 points, manual)</font>\n",
    "\n",
    "The Value Balancing Problem was a Self_Assessment problem near the end of the Lesson_05 notebook.  You can see our solution in the Self_Assessement_Soln notebook.  Use the locsearch package in this directory to find a local solution to the Value Balancing problem.  You can follow the example at the end of Lesson_05. We've copied some code from the lesson to get you started.\n",
    "\n",
    "```\n",
    "# the objective function\n",
    "def group_fitness(groups, values):\n",
    "    #set up a dataframe\n",
    "    df = pd.DataFrame({'values': values, 'groups': groups})\n",
    "    #get the maximum difference between groups\n",
    "    maxDiff = df.groupby(groups).sum('values').set_index('groups').diff()['values'].abs().max()\n",
    "    return abs(maxDiff)\n",
    "\n",
    "# the move function\n",
    "def change_group(groups, num_groups, debug=False):\n",
    "    #get a copy of the groups\n",
    "    new_groups = groups.copy()    \n",
    "    #select item to change\n",
    "    switch = np.random.randint(0, groups.shape[0])\n",
    "    #select new group value\n",
    "    new_group = np.random.randint(0,num_groups)\n",
    "    while groups[switch] == new_group:\n",
    "        new_group = np.random.randint(0,num_groups)\n",
    "    new_groups[switch] = new_group\n",
    "    if debug:\n",
    "        print(f'The item at {switch} should change to {new_group}')\n",
    "        print(f'The initial groups are: {groups} and the changed groups are {new_groups}')\n",
    "       \n",
    "    return new_groups\n",
    "    \n",
    "# problem data\n",
    "np.random.seed(5)\n",
    "values = np.random.randint(2,20,size=num_items)\n",
    "np.random.seed()\n",
    "```\n",
    "\n",
    "In the space below include your complete code to solve the Value Balancing problem using the LocalSearcher class.  You should also include output from a run of the code.  The same elements should be in your ÇoCalc notebook."
   ]
  },
  {
   "cell_type": "code",
   "execution_count": 0,
   "metadata": {
    "collapsed": false
   },
   "outputs": [
   ],
   "source": [
   ]
  }
 ],
 "metadata": {
  "kernelspec": {
   "display_name": "Python 3 (system-wide)",
   "language": "python",
   "metadata": {
    "cocalc": {
     "description": "Python 3 programming language",
     "priority": 100,
     "url": "https://www.python.org/"
    }
   },
   "name": "python3",
   "resource_dir": "/ext/jupyter/kernels/python3"
  },
  "language_info": {
   "codemirror_mode": {
    "name": "ipython",
    "version": 3
   },
   "file_extension": ".py",
   "mimetype": "text/x-python",
   "name": "python",
   "nbconvert_exporter": "python",
   "pygments_lexer": "ipython3",
   "version": "3.8.5"
  },
  "toc": {
   "base_numbering": 1,
   "nav_menu": {
   },
   "number_sections": true,
   "sideBar": true,
   "skip_h1_title": false,
   "title_cell": "Table of Contents",
   "title_sidebar": "Contents",
   "toc_cell": false,
   "toc_position": {
   },
   "toc_section_display": true,
   "toc_window_display": false
  },
  "varInspector": {
   "cols": {
    "lenName": 16,
    "lenType": 16,
    "lenVar": 40
   },
   "kernels_config": {
    "python": {
     "delete_cmd_postfix": "",
     "delete_cmd_prefix": "del ",
     "library": "var_list.py",
     "varRefreshCmd": "print(var_dic_list())"
    },
    "r": {
     "delete_cmd_postfix": ") ",
     "delete_cmd_prefix": "rm(",
     "library": "var_list.r",
     "varRefreshCmd": "cat(var_dic_list()) "
    }
   },
   "types_to_exclude": [
    "module",
    "function",
    "builtin_function_or_method",
    "instance",
    "_Feature"
   ],
   "window_display": false
  }
 },
 "nbformat": 4,
 "nbformat_minor": 4
}