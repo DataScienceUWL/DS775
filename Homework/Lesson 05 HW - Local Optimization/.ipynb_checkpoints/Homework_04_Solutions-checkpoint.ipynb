{
 "cells": [
  {
   "cell_type": "code",
   "execution_count": 2,
   "metadata": {
    "code_folding": [
     0
    ]
   },
   "outputs": [],
   "source": [
    "# execute to import notebook styling for tables and width etc.\n",
    "from IPython.core.display import HTML\n",
    "import urllib.request\n",
    "response = urllib.request.urlopen('https://raw.githubusercontent.com/DataScienceUWL/DS775v2/master/ds755.css')\n",
    "HTML(response.read().decode(\"utf-8\"));"
   ]
  },
  {
   "cell_type": "markdown",
   "metadata": {},
   "source": [
    "<font size=18>Homework 04: Quadratic Programming and Local Optimization</font>"
   ]
  },
  {
   "cell_type": "markdown",
   "metadata": {},
   "source": [
    "# Textbook 13-7.2"
   ]
  },
  {
   "cell_type": "markdown",
   "metadata": {},
   "source": [
    "Consider the following quadratic programming problem:\n",
    "\n",
    "Maximize $f(x_1, x_2) = 8x_1 - x_1^2 + 4x_2 - x_2^2,$\n",
    "\n",
    "subject to $x_1 + x_2 \\leq 2, x_1 \\geq 0, x_2 \\geq 0.$\n",
    "\n",
    "Use Pyomo with the `ipopt` solver to find the solution.  Include nicely formatted output.\n",
    "\n",
    "<font color = \"blue\"> *** 4 points -  code in cell below *** (don't delete this cell) </font>"
   ]
  },
  {
   "cell_type": "code",
   "execution_count": 76,
   "metadata": {},
   "outputs": [
    {
     "name": "stdout",
     "output_type": "stream",
     "text": [
      "Max. value of 12.00 occurs at x1 = 2.00, x2 = 0.00\n"
     ]
    }
   ],
   "source": [
    "# we don't always have to use lists to index our decision variables (e.g. vars = ['x1','x2'])\n",
    "# this time we'll just use integers\n",
    "\n",
    "# import\n",
    "from pyomo.environ import *\n",
    "\n",
    "# Concrete Model\n",
    "model = ConcreteModel(name=\"HW4_P1\")\n",
    "\n",
    "model.x = Var(range(2), domain=NonNegativeReals)\n",
    "\n",
    "# Objective\n",
    "model.obj = Objective(expr=8 * model.x[0] - model.x[0]**2 +\n",
    "                          4 * model.x[1] - model.x[1]**2,\n",
    "                          sense=maximize)\n",
    "# Constraints\n",
    "model.Constraint = Constraint(expr=model.x[0] + model.x[1] <= 2)\n",
    "\n",
    "# Solve\n",
    "solver = SolverFactory('ipopt')\n",
    "solver.solve(model)\n",
    "\n",
    "# display solution\n",
    "print(\"Max. value of {:0.2f} occurs at x1 = {:0.2f}, x2 = {:0.2f}\".format(model.obj(), model.x[0](), model.x[1]()))"
   ]
  },
  {
   "cell_type": "markdown",
   "metadata": {},
   "source": [
    "# Textbook 13-7.6"
   ]
  },
  {
   "cell_type": "markdown",
   "metadata": {},
   "source": [
    "A stockbroker, Richard Smith, has just received a call from his most important client, Ann Hardy. Ann has $50,000 to invest and wants to use it to purchase two stocks. Stock 1 is a solid blue-chip security with a respectable growth potential and little risk involved. Stock 2 is much more speculative. It is being touted in two investment newsletters as having outstanding growth potential but also is considered very risky. Ann would like a large return on her investment but also has considerable aversion to risk. Therefore, she has instructed Richard to analyze what mix of investments in the two stocks would be appropriate for her.\n",
    "\n",
    "Ann is used to talking in units of thousands of dollars and 1,000-share blocks of stocks. Using these units, the price per block is 20 for stock 1 and 30 for stock 2. After doing some research, Richard has made the following estimates. The expected return per block is 5 for stock 1 and 10 for stock 2. The variance of the return on each block is 4 for stock 1 and 100 for stock 2. The covariance of the return on one block each of the two stocks is 5.  Note that there are two covariance terms in the formula below (you need to include both $\\sigma_{12}$ and $\\sigma_{21}$).\n",
    "\n",
    "The equations for portfolio analysis are on page 551.  The summation notation makes the equations a bit cumbersome so here they are written out as they apply to this problem.  Let $x_1$ and $x_2$ be blocks of stock 1 and stock 2, respectively.  The problem becomes\n",
    "\n",
    "Minimize $V(x_1,x_2) = \\sigma_{11} x_1^2 + \\sigma_{12} x_1 x_2 + \\sigma_{21} x_2 x_1 + \\sigma_{22} x_2^2,$\n",
    "\n",
    "Subject to $\\mu_1 x_1 + \\mu_2 x_2 \\geq L, P_1 x_1 + P_2 x_2 \\leq B, x_1 \\geq 0, x_2 \\geq 0.$\n",
    "\n",
    "(a)  Write out the complete nonlinear programming model filling in the constants but leaving $L$ unspecified for now.  Use LaTeX or include an image of neat handwritten equations in the cell below.\n",
    "\n",
    "<font color = \"blue\"> *** 5 points -  answer in cell below *** (don't delete this cell) </font>"
   ]
  },
  {
   "cell_type": "markdown",
   "metadata": {},
   "source": [
    "I'm not sure why I asked you to do this since the equations are basically written just above, but the main thing is to fill in the constants.\n",
    "\n",
    "Minimize $V(x_1,x_2) = 4x_1^2 + 10x_1x_2 + 100x_2^2$\n",
    "\n",
    "Subject to:\n",
    "\n",
    "$\\begin{array}{rccr}\n",
    "5 x_1  & + & 10 x_2 \\geq & L \\\\\n",
    "20 x_1 & + & 30 x_2 \\leq & 50 \\\\ \n",
    "\\end{array}$\n",
    "\n",
    "and \n",
    "$x_1 \\geq 0, x_2 \\geq 0$"
   ]
  },
  {
   "cell_type": "markdown",
   "metadata": {},
   "source": [
    "(b) Use quadratic programming in Pyomo with the `ipopt` solver to solve this model for four cases:  minimum acceptable expected return $ 13, 14, 15, 16.$  Report the $(x_1^*, x_2^*, V^*)$ for each case.  \n",
    "\n",
    "<font color = \"blue\"> *** 5 points -  code in cell below *** (don't delete this cell) </font>"
   ]
  },
  {
   "cell_type": "code",
   "execution_count": 1,
   "metadata": {},
   "outputs": [
    {
     "name": "stdout",
     "output_type": "stream",
     "text": [
      "To achieve a minimum return of $13,000.00\n",
      "Purchase 2200 of stock 1 and 200 of stock 2\n",
      "This portfolio has a variance of 27.76 (thousands of dollars squared) \n",
      "\n",
      "To achieve a minimum return of $14,000.00\n",
      "Purchase 1600 of stock 1 and 600 of stock 2\n",
      "This portfolio has a variance of 55.84 (thousands of dollars squared) \n",
      "\n",
      "To achieve a minimum return of $15,000.00\n",
      "Purchase 1000 of stock 1 and 1000 of stock 2\n",
      "This portfolio has a variance of 114.00 (thousands of dollars squared) \n",
      "\n",
      "To achieve a minimum return of $16,000.00\n",
      "Purchase 400 of stock 1 and 1400 of stock 2\n",
      "This portfolio has a variance of 202.24 (thousands of dollars squared) \n",
      "\n"
     ]
    }
   ],
   "source": [
    "'''\n",
    "you don't have to do it exactly as shown below, but we're going to illustrate how to build a model with\n",
    "a mutable parameter, so the model can be built once and then the parameter can be adjusted between solves.  \n",
    "This would be useful for building a complicated and/or large model and doing a parameter study\n",
    "'''\n",
    "from pyomo.environ import *\n",
    "import babel.numbers as numbers\n",
    "\n",
    "# we are building the model here with a changeable parameter\n",
    "model = ConcreteModel(\"HW4_P2\")\n",
    "\n",
    "stocks = ['s1', 's2']\n",
    "\n",
    "model.x = Var(stocks, domain=NonNegativeReals)\n",
    "model.L = Param(default=13, mutable=True)\n",
    "\n",
    "# Objective\n",
    "model.variance = Objective(expr=4 * model.x['s1']**2 +\n",
    "                           10 * model.x['s1'] * model.x['s2'] +\n",
    "                           100 * model.x['s2']**2,\n",
    "                           sense=minimize)\n",
    "\n",
    "model.ct_1 = Constraint(expr=5 * model.x['s1'] + 10 * model.x['s2'] >= model.L)\n",
    "model.c2_2 = Constraint(expr=20 * model.x['s1'] + 30 * model.x['s2'] <= 50)\n",
    "\n",
    "solver = SolverFactory('ipopt')\n",
    "\n",
    "# here is a function to set the changeable parameter and solve the model\n",
    "def optimize_portfolio(min_return):\n",
    "    model.L = min_return\n",
    "    solver.solve(model)\n",
    "    min_return_string = numbers.format_currency(1000 * L,\n",
    "                                                'USD',\n",
    "                                                locale='en_US')\n",
    "    print('To achieve a minimum return of ' + min_return_string)\n",
    "    print('Purchase {:0.0f} of stock 1 and {:0.0f} of stock 2'.format(\n",
    "        1000 * model.x['s1'](), 1000 * model.x['s2']()))\n",
    "    print(\n",
    "        'This portfolio has a variance of {:0.2f} (thousands of dollars squared) \\n'\n",
    "        .format(model.variance()))\n",
    "\n",
    "\n",
    "for L in [13, 14, 15, 16]:\n",
    "    optimize_portfolio(L)"
   ]
  },
  {
   "cell_type": "markdown",
   "metadata": {},
   "source": [
    "# Textbook 13.7-7"
   ]
  },
  {
   "cell_type": "markdown",
   "metadata": {},
   "source": [
    "The management of the Albert Hanson Company is trying to determine the best product mix for two new products. Because these products would share the same production facilities, the total number of units produced of the two products combined cannot exceed two per hour. Because of uncertainty about how well these products will sell, the profit from producing each product provides decreasing marginal returns as the production rate is increased. In particular, with a production rate of $R_1$ units per hour, it is estimated that Product 1 would provide a profit (in dollars per hour) of $200 R_1 - 100 R_1^2.$ If the production rate of product 2 is $R_2$ units per hour, its estimated profit (in dollars per hour) would be $300 R_2 - 100 R_2^2.$  \n",
    "\n",
    "(a) Formulate a quadratic programming model in algebraic form for determining the product mix that maximizes the total profit per hour.  We are allowing fractional solutions here so this is not an integer programming problem (more about those soon).  Include LaTeX or neat handwritten solution.\n",
    "\n",
    "<font color = \"blue\"> *** 4 points -  answer in cell below *** (don't delete this cell) </font>"
   ]
  },
  {
   "cell_type": "markdown",
   "metadata": {},
   "source": [
    "Maximize $200 R_1 - 100 R_1^2 + 300 R_2 - 100 R_2^2$\n",
    "\n",
    "Subject to: $R_1 + R_2 \\leq 2$ and $R_1, R_2 \\geq 0$"
   ]
  },
  {
   "cell_type": "markdown",
   "metadata": {},
   "source": [
    "(b) Use quadratic programming in Pyomo with the ipopt solver to solve this model.\n",
    "\n",
    "<font color = \"blue\"> *** 4 points -  code in cell below *** (don't delete this cell) </font>"
   ]
  },
  {
   "cell_type": "code",
   "execution_count": 3,
   "metadata": {},
   "outputs": [
    {
     "name": "stdout",
     "output_type": "stream",
     "text": [
      "The maximum profit per hour is $312.50\n",
      "Produce 0.75 units of product 1 per hour and 1.25 units of product 2 per hour\n"
     ]
    }
   ],
   "source": [
    "# we don't always have to use lists to index our decision variables (e.g. vars = ['x1','x2'])\n",
    "# this time we'll just use integers\n",
    "\n",
    "# importing as pyo here because we'll get a conflict later if we don't\n",
    "\n",
    "# import\n",
    "from pyomo.environ import *\n",
    "import babel.numbers as numbers\n",
    "\n",
    "# Concrete Model\n",
    "model = ConcreteModel(name=\"HW4_P3\")\n",
    "\n",
    "model.R = Var([1, 2], domain=NonNegativeReals)\n",
    "\n",
    "# Objective\n",
    "model.profit = Objective(expr=200 * model.R[1] - 100 * model.R[1]**2 +\n",
    "                         300 * model.R[2] - 100 * model.R[2]**2,\n",
    "                         sense=maximize)\n",
    "# Constraints\n",
    "model.Constraint = Constraint(expr=model.R[1] + model.R[2] <= 2)\n",
    "\n",
    "# Solve\n",
    "solver = SolverFactory('ipopt')\n",
    "solver.solve(model)\n",
    "\n",
    "# display solution\n",
    "profit_string = numbers.format_currency(model.profit(), 'USD', locale='en_US')\n",
    "print(\"The maximum profit per hour is \" + profit_string)\n",
    "print(\n",
    "    \"Produce {:0.2f} units of product 1 per hour and {:0.2f} units of product 2 per hour\"\n",
    "    .format(model.R[1](), model.R[2]()))"
   ]
  },
  {
   "cell_type": "markdown",
   "metadata": {},
   "source": [
    "# Textbook Problem 13.10-5"
   ]
  },
  {
   "cell_type": "markdown",
   "metadata": {},
   "source": [
    "For the nonconvex profit function $$p(x) = 100x^6 - 1359x^5 + 6836 x^4 - 15670 x^3 + 15870 x^2 - 5095 x$$\n",
    "with $0 \\leq x \\leq 5.$ Graph the function on the interval and find all of the local maxima and minima.\n",
    "\n",
    "Graph the function:\n",
    "\n",
    "<font color = \"blue\"> *** 2 points -  code in cell below *** (don't delete this cell) </font>"
   ]
  },
  {
   "cell_type": "code",
   "execution_count": 5,
   "metadata": {},
   "outputs": [
    {
     "data": {
      "image/png": "[encoded data removed]",
      "text/plain": [
       "<Figure size 576x432 with 1 Axes>"
      ]
     },
     "metadata": {},
     "output_type": "display_data"
    }
   ],
   "source": [
    "%matplotlib inline\n",
    "import numpy as np\n",
    "import matplotlib.pyplot as plt\n",
    "import seaborn as sns\n",
    "sns.set_style(\"darkgrid\")\n",
    "\n",
    "profit = lambda x:100*x**6 - 1359*x**5+6836*x**4-15670*x**3+15870*x**2 - 5095*x\n",
    "\n",
    "x = np.linspace(0,5,201)\n",
    "fig = plt.figure(figsize=(8,6))\n",
    "plt.plot(x, profit(x))\n",
    "plt.xlabel('x')\n",
    "plt.ylabel('Profit');"
   ]
  },
  {
   "cell_type": "markdown",
   "metadata": {},
   "source": [
    "There appear to be local minima near x = 0.2, 2.2, and 4.6.  There appear to be local maxima near x = 1.2 and x = 3.2.  "
   ]
  },
  {
   "cell_type": "markdown",
   "metadata": {},
   "source": [
    "Find all of the local minima and maxima.  Your code should display nicely formatted output.  Include both the location ($x$) and the value of the profit ($p(x)$) for each extrema.\n",
    "\n",
    "<font color = \"blue\"> *** 4 points -  code in cell below *** (don't delete this cell) </font>"
   ]
  },
  {
   "cell_type": "code",
   "execution_count": 46,
   "metadata": {},
   "outputs": [
    {
     "name": "stdout",
     "output_type": "stream",
     "text": [
      "Local min value of -504.75 at x = 0.23\n",
      "\n",
      "Local min value of 183.07 at x = 2.16\n",
      "\n",
      "Local min value of -3719.64 at x = 4.57\n",
      "\n",
      "Local max value of 753.45 at x = 1.19\n",
      "\n",
      "Local max value of 906.90 at x = 3.18\n",
      "\n"
     ]
    }
   ],
   "source": [
    "from scipy.optimize import minimize\n",
    "\n",
    "def find_minimum(x0):\n",
    "    result = minimize(profit,x0,bounds=[(0,5)],method='TNC')\n",
    "    print('Local min value of {:0.2f} at x = {:0.2f}\\n'.format(result.fun[0],result.x[0]))\n",
    "\n",
    "for x0 in [0.2,2.2,4.6]:\n",
    "    find_minimum(x0)\n",
    "    \n",
    "neg_profit = lambda x:-profit(x)\n",
    "\n",
    "def find_maximum(x0):\n",
    "    result = minimize(neg_profit,x0,bounds=[(0,5)],method='TNC')\n",
    "    print('Local max value of {:0.2f} at x = {:0.2f}\\n'.format(-result.fun[0],result.x[0]))\n",
    "\n",
    "for x0 in [1.2, 3.2]:\n",
    "    find_maximum(x0)"
   ]
  },
  {
   "cell_type": "markdown",
   "metadata": {},
   "source": [
    "Write a multistart procedure that starts from uniform randomly sampled points in $[0,5]$ to locate the absolute maximum value of profit.  \n",
    "\n",
    "<font color = \"blue\"> *** 4 points -  code in cell below *** (don't delete this cell) </font>"
   ]
  },
  {
   "cell_type": "code",
   "execution_count": 47,
   "metadata": {},
   "outputs": [
    {
     "name": "stdout",
     "output_type": "stream",
     "text": [
      "Largest value found is 906.90 at x = 3.18\n"
     ]
    }
   ],
   "source": [
    "best_max_value = -1000000\n",
    "max_no_improve = 20\n",
    "num_no_improve = 0\n",
    "\n",
    "while num_no_improve < max_no_improve:\n",
    "    num_no_improve += 1\n",
    "    x0 = np.random.uniform(0,5)\n",
    "    result = minimize(neg_profit,x0,bounds=[(0,5)],method='TNC')\n",
    "    curr_max_value = round(-result.fun[0],5) \n",
    "    if curr_max_value > best_max_value:\n",
    "        best_max_value = curr_max_value\n",
    "        best_x = result.x[0]\n",
    "        num_no_improve = 0\n",
    "\n",
    "print('Largest value found is {:0.2f} at x = {:0.2f}'.format(best_max_value, best_x))"
   ]
  },
  {
   "cell_type": "markdown",
   "metadata": {},
   "source": [
    "# Simple Linear Regression"
   ]
  },
  {
   "cell_type": "markdown",
   "metadata": {},
   "source": [
    "To find the line of least squares fit of the form $\\hat{y} = b_0 + b_1 x$ to fit data of the form $(x_1,y_1), (x_2,y_2),\\ldots,(x_n,y_n)$ we minimize a loss function.  The loss function is the sum of the squares residuals and only depends on $b_0$ and $b_1$ for fixed $xy$-data:\n",
    "\n",
    "$$ SS(b_0,b_1) = \\sum_{i=1}^{n} \\left( y_i - \\hat{y}_i \\right)^2 = \\sum_{i=1}^{n} \\left( y_i - (b_0 + b_1 x_i) \\right)^2 $$.\n",
    "\n",
    "The file age_height.csv contains ages (years) and heights (inches) for 7 children. Write Python code to evaluate the loss function (follow along with the logistic regression example) and use `minimize` to identify the coefficients of the line of least squares fit for predicting height ($y$) from ($age$).  Include a scatter plot of the data that includes a plot of the line.\n",
    "\n",
    "<font color = \"blue\"> *** 8 points -  answer in cell below *** (don't delete this cell) </font>"
   ]
  },
  {
   "cell_type": "code",
   "execution_count": 6,
   "metadata": {},
   "outputs": [
    {
     "name": "stdout",
     "output_type": "stream",
     "text": [
      "The sum of squares for p(x) has intercept b0 = 25.625 and slope b1 = 2.937\n"
     ]
    },
    {
     "data": {
      "image/png": "[encoded data removed]",
      "text/plain": [
       "<Figure size 576x432 with 1 Axes>"
      ]
     },
     "metadata": {
      "needs_background": "light"
     },
     "output_type": "display_data"
    }
   ],
   "source": [
    "import pandas as pd\n",
    "import numpy as np\n",
    "import matplotlib.pyplot as plt\n",
    "import seaborn as sns\n",
    "sns.set_style(\"darkgrid\")\n",
    "\n",
    "age_height = pd.read_csv('data/age_height.csv')\n",
    "x_ages = age_height['age']\n",
    "y_heights = age_height['height']\n",
    "\n",
    "def sum_of_squares(coef, *args):\n",
    "    b0 = coef[0]\n",
    "    b1 = coef[1]\n",
    "    x = args[0]  # ages\n",
    "    y = args[1]  # heights\n",
    "    ss = sum((y - (b0 + b1 * x))**2)\n",
    "    return (ss)\n",
    "\n",
    "\n",
    "from scipy.optimize import minimize\n",
    "result = minimize(sum_of_squares, [0, 0], args=(x_ages, y_heights))\n",
    "\n",
    "b0 = result.x[0]\n",
    "b1 = result.x[1]\n",
    "\n",
    "print(\n",
    "    'The sum of squares for p(x) has intercept b0 = {:2.3f} and slope b1 = {:2.3f}'\n",
    "    .format(b0, b1))\n",
    "\n",
    "# evaluate end points on line to plot \n",
    "xplot = np.array([3,9])\n",
    "yplot = b0 + b1 * xplot\n",
    "\n",
    "fig = plt.figure(figsize=(8,6))\n",
    "plt.plot(x_ages, y_heights, 'ro')\n",
    "plt.plot(xplot, yplot)\n",
    "plt.xlabel('Age (years)')\n",
    "plt.ylabel('Height (inches)');"
   ]
  },
  {
   "cell_type": "markdown",
   "metadata": {},
   "source": [
    "# Knapsack Optimization"
   ]
  },
  {
   "cell_type": "markdown",
   "metadata": {},
   "source": [
    "The knapsack problem is a classical combinatorial optimization problem that will be good for practicing with the ideas of discrete local search and multistart.  Given a set of items, each with a weight and a value, determine which items to include in a collection so that the total weight is less than or equal to a given limit and the total value is as large as possible.  In the 0-1 version of the knapsack problem, the decision variables are binary (or boolean) and represent whether or not to include each item in the collection.  We'll start with 20 items and you need to determine the collection of items that maximizes the value and keeps the total weight up to 50 (that is $\\leq 50$)."
   ]
  },
  {
   "cell_type": "code",
   "execution_count": 9,
   "metadata": {},
   "outputs": [],
   "source": [
    "# generate random weights and values for a knapsack problem\n",
    "import numpy as np\n",
    "num_items = 20\n",
    "np.random.seed(seed=123)\n",
    "values = np.random.randint(low=5, high=50, size=num_items)\n",
    "weights = np.random.randint(low=1, high=10, size=num_items)\n",
    "max_weight = 50\n",
    "np.random.seed() # use system clock to reset the seed so future random numbers will appear random"
   ]
  },
  {
   "cell_type": "markdown",
   "metadata": {},
   "source": [
    "The variables will be a vector of booleans of length `num_items`.  We could initialize a vector like this and then set the vector to include the 1st, 3rd, and 5th items:"
   ]
  },
  {
   "cell_type": "code",
   "execution_count": 7,
   "metadata": {},
   "outputs": [
    {
     "data": {
      "text/plain": [
       "array([ True, False,  True, False,  True, False, False, False, False,\n",
       "       False, False, False, False, False, False, False, False, False,\n",
       "       False, False])"
      ]
     },
     "execution_count": 7,
     "metadata": {},
     "output_type": "execute_result"
    }
   ],
   "source": [
    "x = np.zeros(num_items, dtype = bool)  # all false\n",
    "x[[0,2,4]] = True\n",
    "x"
   ]
  },
  {
   "cell_type": "markdown",
   "metadata": {},
   "source": [
    "The total weight of the items included in the collection:"
   ]
  },
  {
   "cell_type": "code",
   "execution_count": 11,
   "metadata": {},
   "outputs": [
    {
     "data": {
      "text/plain": [
       "11"
      ]
     },
     "execution_count": 11,
     "metadata": {},
     "output_type": "execute_result"
    }
   ],
   "source": [
    "tot_weight = sum( weights[x] )\n",
    "tot_weight"
   ]
  },
  {
   "cell_type": "markdown",
   "metadata": {},
   "source": [
    "The total value of the items included in the collection:"
   ]
  },
  {
   "cell_type": "code",
   "execution_count": null,
   "metadata": {},
   "outputs": [],
   "source": [
    "tot_value = sum( values[x] )\n",
    "tot_value"
   ]
  },
  {
   "cell_type": "markdown",
   "metadata": {},
   "source": [
    "Implement a local search where the search starts with no items included in the collection and generates new states (moves) by randomly choosing one of the booleans in the state vector and toggling it.  Like this:"
   ]
  },
  {
   "cell_type": "code",
   "execution_count": 42,
   "metadata": {},
   "outputs": [
    {
     "data": {
      "text/plain": [
       "array([False,  True,  True,  True,  True,  True,  True,  True,  True,\n",
       "        True, False, False,  True,  True,  True, False, False, False,\n",
       "       False,  True])"
      ]
     },
     "execution_count": 42,
     "metadata": {},
     "output_type": "execute_result"
    }
   ],
   "source": [
    "# try executing this cell a few times and watch x change\n",
    "bit_to_flip = np.random.randint(num_items)\n",
    "x[bit_to_flip] = ~x[bit_to_flip]\n",
    "x"
   ]
  },
  {
   "cell_type": "markdown",
   "metadata": {},
   "source": [
    "Accept the state if the total weight is is $\\leq 50$ and maximize the value by moving uphill\n",
    "\n",
    "(a) Write a local search algorithm that moves uphill  until no improvements have been made in the last 1000 iterations.  Write the algorithm as a function with the values and weights as inputs and returns the best collection of items to include as well as the value and weight of that collection.\n",
    "\n",
    "<font color = \"blue\"> *** 5 points -  answer in cell below *** (don't delete this cell) </font>"
   ]
  },
  {
   "cell_type": "code",
   "execution_count": 7,
   "metadata": {},
   "outputs": [
    {
     "name": "stdout",
     "output_type": "stream",
     "text": [
      "Best items as boolean:  [ True False False  True  True  True  True False  True  True False False\n",
      " False  True False False False False  True  True]\n",
      "Items to include: [1, 4, 5, 6, 7, 9, 10, 14, 19, 20]\n",
      "Value 278\n",
      "Total weight 49\n"
     ]
    },
    {
     "data": {
      "image/png": "[encoded data removed]",
      "text/plain": [
       "<Figure size 576x432 with 1 Axes>"
      ]
     },
     "metadata": {
      "needs_background": "light"
     },
     "output_type": "display_data"
    }
   ],
   "source": [
    "# including the plotting is optional (plotting for this problem created by Deanna S.)\n",
    "\n",
    "# generate random weights and values for a knapsack problem\n",
    "import numpy as np\n",
    "num_items = 20\n",
    "np.random.seed(seed=123)\n",
    "values = np.random.randint(low=5, high=50, size=num_items)\n",
    "weights = np.random.randint(low=1, high=10, size=num_items)\n",
    "max_weight = 50\n",
    "np.random.seed() # use system clock to reset the seed so future random numbers will appear random\n",
    "\n",
    "# random hill climbing to estimate knapsack of highest value\n",
    "def knapsack_local(weights,values):\n",
    "    max_moves_no_improve = 1000\n",
    "    num_items = len(weights)\n",
    "    x= np.zeros(num_items, dtype = bool) # start with no items (all False)\n",
    "    \n",
    "    curr_value = sum( values[x] ) # current value of items in knapsack\n",
    "    \n",
    "    # search parameters\n",
    "    num_moves_no_improve = 0\n",
    "    \n",
    "    # log progress for plotting (optional)\n",
    "    log = {'iterations': [], 'value': []}\n",
    "    iter = 0\n",
    "    \n",
    "    #loop for a max of 1000 loops\n",
    "    while (num_moves_no_improve < max_moves_no_improve):\n",
    "        iter += 1\n",
    "        num_moves_no_improve += 1\n",
    "        \n",
    "        # create a copy since we don't know yet if we'll accept the move\n",
    "        new_x = x.copy()\n",
    "        #randomly flip one bit\n",
    "        bit_to_flip = np.random.randint(num_items)\n",
    "        new_x[bit_to_flip] = not new_x[bit_to_flip]\n",
    "\n",
    "        #get the new value and new weight\n",
    "        new_value = sum (values[new_x])\n",
    "        new_weight = sum(weights[new_x])\n",
    "        \n",
    "        # condition for accepting move\n",
    "        if new_value > curr_value and new_weight <= max_weight:\n",
    "            num_moves_no_improve = 0\n",
    "            curr_value = new_value\n",
    "            curr_weight = new_weight\n",
    "            x = new_x # accept the move\n",
    "            \n",
    "            # log progress (optional)\n",
    "            log['value'].append(new_value)\n",
    "            log['iterations'].append(iter)\n",
    "                 \n",
    "    return x, curr_value, curr_weight, log  \n",
    "\n",
    "items, value, weight, log = knapsack_local(weights,values)\n",
    "print('Best items as boolean: ',items)\n",
    "print('Items to include:', [i+1 for i in range(num_items) if items[i]])\n",
    "print('Value', value)\n",
    "print('Total weight', weight)\n",
    "\n",
    "fig = plt.figure(figsize=(8,6))\n",
    "plt.plot(log['iterations'], log['value'])\n",
    "plt.xlabel('Iterations');\n",
    "plt.ylabel('Total Value');\n",
    "plt.title('Hill Climbing for Knapsack Problem');"
   ]
  },
  {
   "cell_type": "markdown",
   "metadata": {},
   "source": [
    "(b) Now write a loop to do this 100 local searches (each with random moves starting from a collection with no items in it.  Clearly identify the best overall solution.  Next week we'll see some alternative search tecniques that will generally enable us to find better solutions.\n",
    "\n",
    "<font color = \"blue\"> *** 5 points -  answer in cell below *** (don't delete this cell) </font>"
   ]
  },
  {
   "cell_type": "code",
   "execution_count": 8,
   "metadata": {},
   "outputs": [
    {
     "name": "stdout",
     "output_type": "stream",
     "text": [
      "Highest Value Knapsack =  $413.00\n",
      "Total weight of = 50\n",
      "Best items as boolean:  [ True  True  True  True False  True  True  True False  True False  True\n",
      "  True False  True False False  True  True False]\n",
      "Items to include: [1, 2, 3, 4, 6, 7, 8, 10, 12, 13, 15, 18, 19]\n"
     ]
    }
   ],
   "source": [
    "best_value = 0\n",
    "best_weight= 0\n",
    "best_x = []\n",
    "\n",
    "for i in range(100):\n",
    "    items, curr_value, curr_weight, log = knapsack_local(weights,values)\n",
    "    if curr_value > best_value:\n",
    "        best_value = curr_value\n",
    "        best_weight = curr_weight\n",
    "        best_x = items\n",
    "\n",
    "import babel.numbers as numbers  # needed to display as currency\n",
    "print(\"Highest Value Knapsack = \",\n",
    "      numbers.format_currency(best_value, 'USD', locale='en_US'))\n",
    "\n",
    "print(\"Total weight of = {:1.0f}\".format(best_weight))\n",
    "print('Best items as boolean: ',best_x)\n",
    "print('Items to include:', [i+1 for i in range(num_items) if best_x[i]])"
   ]
  }
 ],
 "metadata": {
  "kernelspec": {
   "display_name": "Python 3",
   "language": "python",
   "name": "python3"
  },
  "language_info": {
   "codemirror_mode": {
    "name": "ipython",
    "version": 3
   },
   "file_extension": ".py",
   "mimetype": "text/x-python",
   "name": "python",
   "nbconvert_exporter": "python",
   "pygments_lexer": "ipython3",
   "version": "3.7.4"
  },
  "toc": {
   "base_numbering": 1,
   "nav_menu": {},
   "number_sections": true,
   "sideBar": true,
   "skip_h1_title": false,
   "title_cell": "Table of Contents",
   "title_sidebar": "Contents",
   "toc_cell": false,
   "toc_position": {},
   "toc_section_display": true,
   "toc_window_display": false
  },
  "varInspector": {
   "cols": {
    "lenName": 16,
    "lenType": 16,
    "lenVar": 40
   },
   "kernels_config": {
    "python": {
     "delete_cmd_postfix": "",
     "delete_cmd_prefix": "del ",
     "library": "var_list.py",
     "varRefreshCmd": "print(var_dic_list())"
    },
    "r": {
     "delete_cmd_postfix": ") ",
     "delete_cmd_prefix": "rm(",
     "library": "var_list.r",
     "varRefreshCmd": "cat(var_dic_list()) "
    }
   },
   "types_to_exclude": [
    "module",
    "function",
    "builtin_function_or_method",
    "instance",
    "_Feature"
   ],
   "window_display": false
  }
 },
 "nbformat": 4,
 "nbformat_minor": 2
}
